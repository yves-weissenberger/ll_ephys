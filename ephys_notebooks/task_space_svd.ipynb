{
 "cells": [
  {
   "cell_type": "markdown",
   "metadata": {},
   "source": [
    "# In this dataset\n",
    "\n",
    "1. does it match the statistics of a high dimensional grid representation\n",
    "2. Is the taurus real\n",
    "3. test whether you can do the grid realignment like carpenter also in the big maze\n",
    "4. show that correlation structure is preserved only in as far as cells are spatial"
   ]
  },
  {
   "cell_type": "code",
   "execution_count": 1,
   "metadata": {},
   "outputs": [
    {
     "name": "stderr",
     "output_type": "stream",
     "text": [
      "/Users/yves/opt/anaconda3/lib/python3.7/site-packages/statsmodels/tools/_testing.py:19: FutureWarning: pandas.util.testing is deprecated. Use the functions in the public API at pandas.testing instead.\n",
      "  import pandas.util.testing as tm\n"
     ]
    }
   ],
   "source": [
    "%matplotlib inline\n",
    "import numpy as np\n",
    "import matplotlib.pyplot as plt\n",
    "import os\n",
    "import re\n",
    "import seaborn\n",
    "import pandas as pd\n",
    "#import cv2\n",
    "import scipy.optimize as op\n",
    "import sys\n",
    "import networkx as nx\n",
    "import time\n",
    "import matplotlib\n",
    "import copy as cp\n",
    "import scipy.ndimage as ndi \n",
    "from scipy.ndimage import gaussian_filter1d\n",
    "import scipy as sp\n",
    "import scipy.signal\n",
    "seaborn.set(style='ticks',font_scale=1.5)\n",
    "\n",
    "sys.path.append('/Users/yves/Documents/Code/mec_ephys/packages')\n"
   ]
  },
  {
   "cell_type": "code",
   "execution_count": 2,
   "metadata": {},
   "outputs": [
    {
     "ename": "ModuleNotFoundError",
     "evalue": "No module named 'mecll.proc_beh'",
     "output_type": "error",
     "traceback": [
      "\u001b[0;31m---------------------------------------------------------------------------\u001b[0m",
      "\u001b[0;31mModuleNotFoundError\u001b[0m                       Traceback (most recent call last)",
      "\u001b[0;32m<ipython-input-2-e4b49fc5a62e>\u001b[0m in \u001b[0;36m<module>\u001b[0;34m\u001b[0m\n\u001b[1;32m      2\u001b[0m \u001b[0;34m\u001b[0m\u001b[0m\n\u001b[1;32m      3\u001b[0m \u001b[0;32mfrom\u001b[0m \u001b[0mmecll\u001b[0m\u001b[0;34m.\u001b[0m\u001b[0mrsync\u001b[0m \u001b[0;32mimport\u001b[0m \u001b[0mRsync_aligner\u001b[0m\u001b[0;34m\u001b[0m\u001b[0;34m\u001b[0m\u001b[0m\n\u001b[0;32m----> 4\u001b[0;31m \u001b[0;32mfrom\u001b[0m \u001b[0mmecll\u001b[0m\u001b[0;34m.\u001b[0m\u001b[0mproc_beh\u001b[0m \u001b[0;32mimport\u001b[0m \u001b[0mget_all_transition\u001b[0m\u001b[0;34m,\u001b[0m \u001b[0mget_transitions_state\u001b[0m\u001b[0;34m,\u001b[0m \u001b[0mbuild_poke_df\u001b[0m\u001b[0;34m\u001b[0m\u001b[0;34m\u001b[0m\u001b[0m\n\u001b[0m\u001b[1;32m      5\u001b[0m \u001b[0;32mfrom\u001b[0m \u001b[0mmecll\u001b[0m\u001b[0;34m.\u001b[0m\u001b[0mproc_neural\u001b[0m \u001b[0;32mimport\u001b[0m \u001b[0mget_all_resps\u001b[0m\u001b[0;34m,\u001b[0m \u001b[0mget_mean_resps\u001b[0m\u001b[0;34m\u001b[0m\u001b[0;34m\u001b[0m\u001b[0m\n\u001b[1;32m      6\u001b[0m \u001b[0;32mfrom\u001b[0m \u001b[0mmecll\u001b[0m\u001b[0;34m.\u001b[0m\u001b[0mload\u001b[0m \u001b[0;32mimport\u001b[0m \u001b[0mload_data\u001b[0m\u001b[0;34m\u001b[0m\u001b[0;34m\u001b[0m\u001b[0m\n",
      "\u001b[0;31mModuleNotFoundError\u001b[0m: No module named 'mecll.proc_beh'"
     ]
    }
   ],
   "source": [
    "sys.path.append('/Users/yves/Documents/Code/mec_ephys/packages')\n",
    "\n",
    "from mecll.rsync import Rsync_aligner\n",
    "from mecll.proc_beh import get_all_transition, get_transitions_state, build_poke_df\n",
    "from mecll.proc_neural import get_all_resps, get_mean_resps\n",
    "from mecll.load import load_data\n"
   ]
  },
  {
   "cell_type": "code",
   "execution_count": null,
   "metadata": {},
   "outputs": [],
   "source": [
    "poke_pos = np.array([1,-1])*np.array([ [149,0],\n",
    "                                 [68,19],[231,19],\n",
    "                               [0,62],[149,62],[298,62],\n",
    "                                 [68,105],[231,105],\n",
    "                                      [149,124]])"
   ]
  },
  {
   "cell_type": "markdown",
   "metadata": {},
   "source": [
    "# From pycontrol"
   ]
  },
  {
   "cell_type": "code",
   "execution_count": null,
   "metadata": {},
   "outputs": [],
   "source": [
    "root_path = '/Users/yves/Downloads/example_files2_wOF/'\n",
    "out = load_data(root_path)\n",
    "spkT,spkC,single_units,events,lines,aligner = out"
   ]
  },
  {
   "cell_type": "code",
   "execution_count": null,
   "metadata": {},
   "outputs": [],
   "source": [
    "df = build_poke_df(lines,events)\n"
   ]
  },
  {
   "cell_type": "code",
   "execution_count": null,
   "metadata": {},
   "outputs": [],
   "source": [
    "poke_dict_t1 ={}\n",
    "poke_dict_t2 = {}\n",
    "for port_nr in np.unique(df['port'].values):\n",
    "    for task_nr in range(2):\n",
    "        task_nr = str(task_nr)\n",
    "        v = df.loc[(df['port']==port_nr) &\n",
    "                   (df['correct']==True) & \n",
    "                   (df['reward']==True) &\n",
    "                   #(df['next_correct']==True) &\n",
    "                   (df['port_repeat']==False) & \n",
    "                   (df['task_nr']==task_nr)]['time'].values\n",
    "        #v = np.array(v).astype('float')\n",
    "        if task_nr=='0':\n",
    "            print(task_nr,len(v),str(port_nr),)\n",
    "            poke_dict_t1[str(port_nr)] = [float(i) for i in v]\n",
    "            poke_dict_t1['task_nr'] = str(task_nr)\n",
    "            poke_dict_t1['graph_type'] = df.loc[df['task_nr']==task_nr]['graph_type'].values[0]\n",
    "\n",
    "            poke_dict_t1['seq'] = df.loc[df['task_nr']==task_nr]['current_sequence'].values[0]\n",
    "\n",
    "        else:\n",
    "            poke_dict_t2[str(port_nr)] = [float(i) for i in v]\n",
    "            poke_dict_t2['task_nr'] = str(task_nr)\n",
    "            poke_dict_t2['graph_type'] = df.loc[df['task_nr']==task_nr]['graph_type'].values[0]\n",
    "            poke_dict_t2['seq'] = df.loc[df['task_nr']==task_nr]['current_sequence'].values[0]\n",
    "\n",
    "   "
   ]
  },
  {
   "cell_type": "code",
   "execution_count": null,
   "metadata": {},
   "outputs": [],
   "source": []
  },
  {
   "cell_type": "code",
   "execution_count": null,
   "metadata": {},
   "outputs": [],
   "source": []
  },
  {
   "cell_type": "code",
   "execution_count": null,
   "metadata": {},
   "outputs": [],
   "source": []
  },
  {
   "cell_type": "code",
   "execution_count": 175,
   "metadata": {},
   "outputs": [],
   "source": [
    "from scipy.ndimage import gaussian_filter1d"
   ]
  },
  {
   "cell_type": "code",
   "execution_count": 176,
   "metadata": {},
   "outputs": [],
   "source": [
    "def get_mean_activity_matrix(single_trial_resps,order=None,half=0,downsample_factor=150,smoothing_factor=10):\n",
    "    \n",
    "    \"\"\" This builds a matrix that describes how mean activity\n",
    "        evolves over time\n",
    "    \"\"\"\n",
    "    \n",
    "    if order is None:\n",
    "        order = np.arange(9)\n",
    "\n",
    "    n_units = len(single_trial_resps)\n",
    "    store_g1 = []\n",
    "\n",
    "    for neuron_ix in range(n_units):\n",
    "        tmp = [] \n",
    "        for poke_nr in order:\n",
    "            activity = np.array(single_trial_resps[neuron_ix][poke_nr])\n",
    "            #print(np.sum(activity))\n",
    "            if half==0:\n",
    "                mean_activity = np.mean(activity,axis=0)\n",
    "            elif half==1:\n",
    "                mean_activity = np.mean(activity[:int(len(activity)/2)],axis=0)\n",
    "            elif half==2:\n",
    "                mean_activity = np.mean(activity[int(len(activity)/2):],axis=0)\n",
    "                \n",
    "\n",
    "            mean_downsampled = mean_activity.reshape(-1,downsample_factor).mean(axis=1)\n",
    "            mean_downsampled_smoothed = gaussian_filter1d(mean_downsampled,smoothing_factor)\n",
    "            tmp.append(mean_downsampled_smoothed)\n",
    "        store_g1.append(np.hstack(tmp))\n",
    "    return np.array(store_g1)"
   ]
  },
  {
   "cell_type": "markdown",
   "metadata": {},
   "source": [
    "# assess stability"
   ]
  },
  {
   "cell_type": "code",
   "execution_count": 177,
   "metadata": {},
   "outputs": [],
   "source": [
    "out1 = get_all_resps(aligner,poke_dict_t1,single_units,spkT,spkC)\n",
    "all_resps_g1_single_trial, (all_resps1_g1_single_trial,all_resps2_g1_single_trial) = out1\n",
    "out2 = get_all_resps(aligner,poke_dict_t2,single_units,spkT,spkC)\n",
    "all_resps_g2_single_trial, (all_resps1_g2_single_trial,all_resps2_g2_single_trial) = out2"
   ]
  },
  {
   "cell_type": "code",
   "execution_count": 164,
   "metadata": {},
   "outputs": [],
   "source": [
    "all_resps_g1,_ = get_mean_resps(all_resps_g1_single_trial)\n",
    "all_resps_g2,_ = get_mean_resps(all_resps_g2_single_trial)\n",
    "\n",
    "\n",
    "all_resps1_g1,_ = get_mean_resps(all_resps1_g1_single_trial)\n",
    "all_resps1_g2,_ = get_mean_resps(all_resps1_g2_single_trial)\n",
    "\n",
    "all_resps2_g1,_ = get_mean_resps(all_resps2_g1_single_trial)\n",
    "all_resps2_g2,_ = get_mean_resps(all_resps2_g2_single_trial)"
   ]
  },
  {
   "cell_type": "code",
   "execution_count": 165,
   "metadata": {},
   "outputs": [],
   "source": [
    "def get_with_and_across_correlations(all_resps1_g1,all_resps2_g1,all_resps1_g2,all_resps2_g2):\n",
    "    \n",
    "    \"\"\" Get correlations between neural activity across behaivour on the two different graphs\n",
    "        as well as across split halves of the same graph\n",
    "    \"\"\"\n",
    "\n",
    "    ccs_within1 = []\n",
    "    for r1,r2 in zip(all_resps1_g1,all_resps2_g1):\n",
    "        ccs_within1.append(np.corrcoef(r1,r2)[0,1])\n",
    "\n",
    "    ccs_within1 = np.array(ccs_within1)\n",
    "    print(np.nanmean(ccs_within1))\n",
    "\n",
    "    ccs_within2 = []\n",
    "    for r1,r2 in zip(all_resps1_g2,all_resps2_g2):\n",
    "        ccs_within2.append(np.corrcoef(r1,r2)[0,1])\n",
    "    ccs_within2 = np.array(ccs_within2)\n",
    "\n",
    "    print(np.nanmean(ccs_within2))\n",
    "\n",
    "\n",
    "    ccs_within = (np.array(ccs_within1) + np.array(ccs_within2))/2.\n",
    "    ccs_within = np.min(np.vstack([np.array(ccs_within1),np.array(ccs_within2)]),axis=0)\n",
    "\n",
    "\n",
    "    #\n",
    "    ccs_across = []\n",
    "    for r1,r2 in zip(all_resps_g1,all_resps_g2):\n",
    "        ccs_across.append(np.corrcoef(r1,r2)[0,1])\n",
    "\n",
    "    ccs_across = np.array(ccs_across)\n",
    "    print(np.nanmean(ccs_across))\n",
    "    \n",
    "    return ccs_within,ccs_across,(ccs_within1,ccs_within2)"
   ]
  },
  {
   "cell_type": "code",
   "execution_count": null,
   "metadata": {},
   "outputs": [],
   "source": []
  },
  {
   "cell_type": "code",
   "execution_count": null,
   "metadata": {},
   "outputs": [],
   "source": []
  },
  {
   "cell_type": "markdown",
   "metadata": {},
   "source": [
    "# make it work"
   ]
  },
  {
   "cell_type": "code",
   "execution_count": 166,
   "metadata": {},
   "outputs": [],
   "source": [
    "window0 = 6000\n",
    "window1 = 6000\n",
    "out1 = get_all_resps(aligner,poke_dict_t1,single_units,spkT,spkC,get_time_mean=False,\n",
    "                     window0=window0,window1=window1)\n",
    "all_resps_g1_single_trial, (all_resps1_g1_single_trial,all_resps2_g1_single_trial) = out1\n",
    "out2 = get_all_resps(aligner,poke_dict_t2,single_units,spkT,spkC,get_time_mean=False,\n",
    "                     window0=window0,window1=window1)\n",
    "all_resps_g2_single_trial, (all_resps1_g2_single_trial,all_resps2_g2_single_trial) = out2"
   ]
  },
  {
   "cell_type": "code",
   "execution_count": 167,
   "metadata": {},
   "outputs": [],
   "source": [
    "store_g1_p1 = get_mean_activity_matrix(all_resps_g1_single_trial,half=1)\n",
    "store_g1_p2 = get_mean_activity_matrix(all_resps_g1_single_trial,half=2)\n",
    "\n",
    "store_g2_p1 = get_mean_activity_matrix(all_resps_g2_single_trial,half=1)\n",
    "store_g2_p2 = get_mean_activity_matrix(all_resps_g2_single_trial,half=2)"
   ]
  },
  {
   "cell_type": "code",
   "execution_count": 168,
   "metadata": {},
   "outputs": [],
   "source": [
    "store_g1_p1 = get_mean_activity_matrix(all_resps_g1_single_trial,half=1,order=poke_dict_t1['seq'])\n",
    "store_g1_p2 = get_mean_activity_matrix(all_resps_g1_single_trial,half=2,order=poke_dict_t1['seq'])\n",
    "\n",
    "store_g2_p1 = get_mean_activity_matrix(all_resps_g2_single_trial,half=1,order=poke_dict_t2['seq'])\n",
    "store_g2_p2 = get_mean_activity_matrix(all_resps_g2_single_trial,half=2,order=poke_dict_t2['seq'])"
   ]
  },
  {
   "cell_type": "code",
   "execution_count": null,
   "metadata": {},
   "outputs": [],
   "source": []
  },
  {
   "cell_type": "code",
   "execution_count": null,
   "metadata": {},
   "outputs": [],
   "source": []
  },
  {
   "cell_type": "code",
   "execution_count": 204,
   "metadata": {},
   "outputs": [
    {
     "data": {
      "text/plain": [
       "<matplotlib.colorbar.Colorbar at 0x7f8a99d26bd0>"
      ]
     },
     "execution_count": 204,
     "metadata": {},
     "output_type": "execute_result"
    },
    {
     "data": {
      "image/png": "[encoded data removed]",
      "text/plain": [
       "<Figure size 864x360 with 2 Axes>"
      ]
     },
     "metadata": {},
     "output_type": "display_data"
    }
   ],
   "source": [
    "plt.figure(figsize=(12,5))\n",
    "plt.imshow(store_g1_p1-np.mean(store_g1_p1,axis=1)[:,None],cmap='RdBu_r',interpolation='None',aspect=3)\n",
    "for ii in range(9):\n",
    "    plt.axvline(x=ii*80,linestyle='--',color='.3',alpha=.1)\n",
    "plt.ylim(100,0)\n",
    "plt.colorbar()"
   ]
  },
  {
   "cell_type": "code",
   "execution_count": null,
   "metadata": {},
   "outputs": [],
   "source": []
  },
  {
   "cell_type": "code",
   "execution_count": null,
   "metadata": {},
   "outputs": [],
   "source": [
    "evals_shuff = []\n",
    "for ctr in range(100):\n",
    "    sys.stdout.write('\\riter_num:{}'.format(ctr))\n",
    "    sys.stdout.flush()\n",
    "    store_g1_p1 = get_mean_activity_matrix(all_resps_g1_single_trial,half=1,order=poke_dict_t1['seq'])\n",
    "    store_g1_p2 = get_mean_activity_matrix(all_resps_g1_single_trial,half=2,order=np.random.permutation(poke_dict_t1['seq']))\n",
    "\n",
    "    store_g2_p1 = get_mean_activity_matrix(all_resps_g2_single_trial,half=1,order=np.random.permutation(poke_dict_t2['seq']))\n",
    "    store_g2_p2 = get_mean_activity_matrix(all_resps_g2_single_trial,half=2,order=np.random.permutation(poke_dict_t2['seq']))\n",
    "    \n",
    "\n",
    "    conditions =  np.logical_and.reduce([ccs_across<.3,\n",
    "                                        ccs_within>=.3])\n",
    "    store_g1_filt = store_g1_p1[conditions]\n",
    "    store_g1_cv_filt = store_g1_p2[conditions]\n",
    "    store_g2_filt = store_g2_p1[conditions]\n",
    "    store_g2_cv_filt = store_g2_p2[conditions]\n",
    "    \n",
    "    \n",
    "    U,D,V = np.linalg.svd(store_g1_filt)\n",
    "    #U2,D2,V2 = np.linalg.svd(store_g2_filt)\n",
    "    evals = U.T.dot(store_g2_filt).dot(V.T).diagonal()\n",
    "    evals_shuff.append(evals)\n"
   ]
  },
  {
   "cell_type": "code",
   "execution_count": null,
   "metadata": {},
   "outputs": [],
   "source": []
  },
  {
   "cell_type": "code",
   "execution_count": 17,
   "metadata": {},
   "outputs": [],
   "source": [
    "store_g1_p1 = get_mean_activity_matrix(all_resps_g1_single_trial,half=1,order=poke_dict_t1['seq'])\n",
    "store_g1_p2 = get_mean_activity_matrix(all_resps_g1_single_trial,half=2,order=poke_dict_t1['seq'])\n",
    "\n",
    "store_g2_p1 = get_mean_activity_matrix(all_resps_g2_single_trial,half=1,order=poke_dict_t2['seq'])\n",
    "store_g2_p2 = get_mean_activity_matrix(all_resps_g2_single_trial,half=2,order=poke_dict_t2['seq'])"
   ]
  },
  {
   "cell_type": "code",
   "execution_count": 57,
   "metadata": {},
   "outputs": [],
   "source": [
    "\n",
    "conditions =  np.logical_and.reduce([ccs_across<99,\n",
    "                                    ccs_within>=.3])\n",
    "store_g1_filt = store_g1_p1[conditions]\n",
    "store_g1_filt = store_g1_filt - np.mean(store_g1_filt,axis=1)[:,None]\n",
    "#store_g1_filt = store_g1_filt/np.std(store_g1_filt,axis=1)[:,None]\n",
    "\n",
    "store_g1_cv_filt = store_g1_p2[conditions]\n",
    "store_g1_cv_filt = store_g1_cv_filt - np.mean(store_g1_cv_filt,axis=1)[:,None]\n",
    "\n",
    "store_g2_filt = store_g2_p1[conditions]\n",
    "store_g2_filt = store_g2_filt - np.mean(store_g2_filt,axis=1)[:,None]\n",
    "#store_g2_filt = store_g1_filt/np.var(store_g2_filt,axis=1)[:,None]\n",
    "\n",
    "store_g2_cv_filt = store_g2_p2[conditions]\n",
    "store_g2_cv_filt = store_g2_cv_filt - np.mean(store_g2_cv_filt,axis=1)[:,None]\n"
   ]
  },
  {
   "cell_type": "code",
   "execution_count": 151,
   "metadata": {},
   "outputs": [],
   "source": [
    "ev_cv1_U, ev_alt1_U = variance_explained_U(store_g1_filt,store_g1_cv_filt,store_g2_filt)\n",
    "ev_cv1_V, ev_alt1_V = variance_explained_V(store_g1_filt,store_g1_cv_filt,store_g2_filt)\n",
    "ev_cv1_B, ev_alt1_B = variance_explained_both(store_g1_filt,store_g1_cv_filt,store_g2_filt)\n",
    "\n",
    "\n",
    "ev_cv2_U, ev_alt2_U = variance_explained_U(store_g2_filt,store_g2_cv_filt,store_g1_filt)\n",
    "ev_cv2_U, ev_alt2_U = variance_explained_V(store_g2_filt,store_g2_cv_filt,store_g1_filt)\n",
    "ev_cv2_B, ev_alt2_B = variance_explained_both(store_g2_filt,store_g2_cv_filt,store_g1_filt)"
   ]
  },
  {
   "cell_type": "code",
   "execution_count": null,
   "metadata": {},
   "outputs": [],
   "source": []
  },
  {
   "cell_type": "code",
   "execution_count": null,
   "metadata": {},
   "outputs": [],
   "source": []
  },
  {
   "cell_type": "code",
   "execution_count": null,
   "metadata": {},
   "outputs": [],
   "source": []
  },
  {
   "cell_type": "code",
   "execution_count": 129,
   "metadata": {},
   "outputs": [],
   "source": [
    "Sbig = np.eye(U.shape[0],V.shape[0])\n",
    "Sbig[np.arange(U.shape[0]),np.arange(U.shape[0])] = S"
   ]
  },
  {
   "cell_type": "code",
   "execution_count": 134,
   "metadata": {},
   "outputs": [
    {
     "data": {
      "text/plain": [
       "True"
      ]
     },
     "execution_count": 134,
     "metadata": {},
     "output_type": "execute_result"
    }
   ],
   "source": [
    "np.allclose(U.dot(Sbig).dot(V),store_g1_filt)"
   ]
  },
  {
   "cell_type": "code",
   "execution_count": 124,
   "metadata": {},
   "outputs": [
    {
     "data": {
      "text/plain": [
       "<matplotlib.image.AxesImage at 0x7f8e0df3dc90>"
      ]
     },
     "execution_count": 124,
     "metadata": {},
     "output_type": "execute_result"
    },
    {
     "data": {
      "image/png": "[encoded data removed]",
      "text/plain": [
       "<Figure size 432x288 with 1 Axes>"
      ]
     },
     "metadata": {
      "needs_background": "light"
     },
     "output_type": "display_data"
    }
   ],
   "source": [
    "plt.imshow(tmp_,interpolation='None')"
   ]
  },
  {
   "cell_type": "code",
   "execution_count": 60,
   "metadata": {},
   "outputs": [],
   "source": [
    "#calculate explained variance explained by U\n",
    "evals_alt = np.sum(U.T.dot(store_g2_filt)**2,axis=1)\n",
    "norm_evals_alt = evals_alt/np.sum(evals_alt)"
   ]
  },
  {
   "cell_type": "code",
   "execution_count": 61,
   "metadata": {},
   "outputs": [],
   "source": [
    "#calculate explained variance explained by U\n",
    "evals_cv = np.sum(U.T.dot(store_g1_cv_filt)**2,axis=1)\n",
    "norm_evals_cv = evals_cv/np.sum(evals_cv)"
   ]
  },
  {
   "cell_type": "code",
   "execution_count": 62,
   "metadata": {},
   "outputs": [
    {
     "data": {
      "text/plain": [
       "[<matplotlib.lines.Line2D at 0x7f8e0d7c2310>]"
      ]
     },
     "execution_count": 62,
     "metadata": {},
     "output_type": "execute_result"
    },
    {
     "data": {
      "image/png": "[encoded data removed]",
      "text/plain": [
       "<Figure size 432x288 with 1 Axes>"
      ]
     },
     "metadata": {
      "needs_background": "light"
     },
     "output_type": "display_data"
    }
   ],
   "source": [
    "plt.plot(np.cumsum(norm_evals_cv))\n",
    "plt.plot(np.cumsum(norm_evals_alt))"
   ]
  },
  {
   "cell_type": "code",
   "execution_count": 145,
   "metadata": {},
   "outputs": [],
   "source": [
    "def variance_explained_U(store_ref,store_cv,store_alt):\n",
    "    U,S,V = np.linalg.svd(store_ref)\n",
    "    \n",
    "    #calculate explained variance explained by U\n",
    "    ev_cv = np.sum(U.T.dot(store_cv)**2,axis=1)\n",
    "    norm_ev_cv = ev_cv/np.sum(ev_cv)\n",
    "\n",
    "    #calculate explained variance explained by U\n",
    "    ev_alt = np.sum(U.T.dot(store_alt)**2,axis=1)\n",
    "    norm_ev_alt = ev_alt/np.sum(ev_alt)\n",
    "        \n",
    "    return norm_ev_cv, norm_ev_alt"
   ]
  },
  {
   "cell_type": "code",
   "execution_count": 150,
   "metadata": {},
   "outputs": [],
   "source": [
    "def variance_explained_both(store_ref,store_cv,store_alt):\n",
    "\n",
    "    U,S,V = np.linalg.svd(store_ref)\n",
    "\n",
    "    \n",
    "    ev_cv = U.T.dot(store_cv).dot(V.T).diagonal()**2\n",
    "    norm_ev_cv = ev_cv/np.sum(ev_cv)\n",
    "    \n",
    "    \n",
    "    ev_alt = U.T.dot(store_alt).dot(V.T).diagonal()**2\n",
    "    norm_ev_alt = ev_alt/np.sum(ev_alt)\n",
    "\n",
    "    \n",
    "    return norm_ev_cv, norm_ev_alt"
   ]
  },
  {
   "cell_type": "code",
   "execution_count": 147,
   "metadata": {},
   "outputs": [],
   "source": [
    "def variance_explained_V(store_ref,store_cv,store_alt):\n",
    "    \"\"\" Not 100% sure about this one but think its\n",
    "        correct\n",
    "    \"\"\"\n",
    "    U,S,V = np.linalg.svd(store_ref)\n",
    "    \n",
    "    #calculate explained variance explained by U\n",
    "    ev_cv = np.sum(np.dot(store_cv,V.T)**2,axis=1)\n",
    "    norm_ev_cv = ev_cv/np.sum(ev_cv)\n",
    "\n",
    "    #calculate explained variance explained by U\n",
    "    ev_alt = np.sum(np.dot(store_alt,V.T)**2,axis=1)\n",
    "    norm_ev_alt = ev_alt/np.sum(ev_alt)\n",
    "        \n",
    "    return norm_ev_cv, norm_ev_alt"
   ]
  },
  {
   "cell_type": "code",
   "execution_count": null,
   "metadata": {},
   "outputs": [],
   "source": [
    "ev_u1 = variance_explained_U()"
   ]
  },
  {
   "cell_type": "code",
   "execution_count": 137,
   "metadata": {},
   "outputs": [
    {
     "data": {
      "text/plain": [
       "array([ 8.84649636e-04, -1.00294085e-03,  5.70161693e-04, -1.30101697e-03,\n",
       "       -1.06235586e-02, -8.43050460e-03,  1.10562874e-04,  1.51064432e-04,\n",
       "       -1.63061076e-04, -2.64009433e-05,  3.18263251e-03, -8.36835003e-04,\n",
       "        1.26324224e-04, -1.05297340e-02,  2.58436657e-04, -3.77805139e-06,\n",
       "       -1.63436165e-02, -6.00983906e-04, -5.55058637e-03, -7.72071507e-03,\n",
       "       -6.37148479e-04,  2.70873317e-05, -5.60628623e-04, -3.70216876e-03,\n",
       "       -1.62037237e-02, -1.77398738e-03,  3.31656011e-04, -4.21592378e-04,\n",
       "       -1.40242152e-04, -1.91215017e-03, -4.54964432e-04,  2.58196394e-04,\n",
       "        3.14173010e-04, -3.46543846e-04,  1.20316761e-02, -9.13148322e-03,\n",
       "       -5.80630585e-04, -1.62137714e-02,  2.29688645e-04, -1.41887201e-04,\n",
       "        6.65303990e-04,  4.87692697e-05, -2.49191987e-03,  1.21979638e-03,\n",
       "       -1.36237962e-04, -2.05720401e-02,  7.83321133e-04, -1.73295025e-04,\n",
       "       -3.19415319e-03,  4.04169468e-04, -4.83939555e-04, -5.01993536e-06,\n",
       "        9.77851335e-05, -1.20365052e-03, -3.51586890e-03, -1.17587562e-03,\n",
       "        3.46907775e-04, -3.75424796e-04, -2.35766711e-04, -1.30441861e-02,\n",
       "       -8.63160403e-03,  4.13176123e-05,  2.59521072e-04, -2.53019350e-04,\n",
       "       -1.10021909e-04, -4.48523700e-03,  1.76834975e-04, -8.93371994e-04,\n",
       "       -3.02056239e-03, -3.54101282e-04, -5.88114828e-03, -2.81735220e-03,\n",
       "       -8.45752422e-04, -6.58434162e-03, -3.19731386e-04, -1.88530238e-05,\n",
       "       -2.33358233e-03, -1.46479678e-02, -9.27139061e-03,  1.03962530e-02,\n",
       "       -1.23931131e-02, -8.27295089e-03, -8.73017946e-03,  4.64003925e-04,\n",
       "       -1.43094767e-04, -1.43558531e-02, -9.13135872e-03, -7.86592648e-03,\n",
       "       -1.04326898e-03,  6.48612799e-04,  8.13713337e-03, -2.77159997e-03,\n",
       "       -2.63096333e-04, -2.52471041e-03, -1.09612971e-02, -2.73427185e-04,\n",
       "       -1.15653000e-02,  5.60191415e-04, -2.51403769e-03, -3.14858059e-04,\n",
       "       -1.64720731e-04,  2.61956637e-03, -1.63609741e-02, -8.70507959e-04,\n",
       "       -4.83845477e-03,  4.15794867e-04, -1.71014451e-03, -3.31743806e-02,\n",
       "        2.16801732e-03,  2.00552973e-03, -3.83618533e-03, -1.73725121e-03,\n",
       "        7.45308123e-04,  1.46618168e-03,  5.01864444e-05, -1.69668202e-03,\n",
       "       -2.93150893e-04, -6.13896359e-04, -3.00806694e-03, -3.15212204e-03,\n",
       "        2.63132931e-03, -4.17389656e-03,  4.78145553e-03,  1.57441878e-02,\n",
       "       -1.86868523e-03, -4.43561924e-03, -3.44020887e-03,  6.73461842e-03,\n",
       "       -2.96303475e-03, -2.18281230e-03,  1.23715353e-02,  6.43283285e-03,\n",
       "        2.29402515e-03,  7.16772868e-04,  6.28725954e-03,  1.96510543e-04,\n",
       "       -4.20629340e-03,  1.06300234e-03,  1.09320265e-03, -5.87902113e-03,\n",
       "        6.77914593e-03,  3.31359019e-03,  1.59624144e-02,  1.34922404e-03,\n",
       "       -6.01142307e-04,  3.03426467e-03,  1.85889310e-04,  8.13099006e-03,\n",
       "        1.06964316e-03, -1.59446354e-04,  1.02263182e-04,  2.69433802e-04,\n",
       "       -1.10389132e-05, -7.89413745e-04,  1.03456207e-04, -3.42758256e-03,\n",
       "       -2.49410491e-03,  1.39988944e-04, -6.74890437e-04, -8.04669672e-04,\n",
       "        3.80417408e-04, -3.13695678e-04, -1.50099778e-04,  3.13789315e-05,\n",
       "        7.85279920e-05, -4.63961192e-04, -6.08810740e-04, -2.08630392e-03,\n",
       "       -1.53334248e-03, -2.34385883e-04, -7.75040131e-04,  1.93165525e-03,\n",
       "       -9.01750365e-04, -1.97485323e-03, -2.56072933e-03, -6.93068882e-04,\n",
       "       -3.84873400e-04, -2.82490492e-04, -1.03833695e-03, -2.71167090e-05,\n",
       "        1.71348467e-05,  3.00627686e-04, -1.39668981e-02,  7.16062939e-03,\n",
       "       -2.45991618e-03, -8.10433602e-03, -1.23453120e-04, -7.30842091e-04,\n",
       "        1.76564873e-03,  2.53328548e-04, -3.44037144e-04,  2.28742106e-03,\n",
       "       -1.89098387e-03, -1.11985384e-04,  1.82584728e-02,  5.28295077e-03,\n",
       "        2.36372414e-03, -1.80142389e-03, -3.22390045e-03, -5.00965422e-04])"
      ]
     },
     "execution_count": 137,
     "metadata": {},
     "output_type": "execute_result"
    }
   ],
   "source": [
    "np.dot(store_g1_filt,V.T).sum(axis=1)"
   ]
  },
  {
   "cell_type": "code",
   "execution_count": null,
   "metadata": {},
   "outputs": [],
   "source": []
  },
  {
   "cell_type": "code",
   "execution_count": 154,
   "metadata": {},
   "outputs": [
    {
     "data": {
      "text/plain": [
       "array([0.42658884, 0.09569083, 0.09343441, 0.05236678, 0.04388151,\n",
       "       0.0392748 , 0.03367573, 0.03092453, 0.02382848, 0.02163364,\n",
       "       0.01976769, 0.01487717, 0.01373866, 0.0134108 , 0.01229536,\n",
       "       0.01114842, 0.00993139, 0.00852598, 0.00798293, 0.00668323,\n",
       "       0.00490878, 0.00390342, 0.00267388, 0.00267598, 0.00219859,\n",
       "       0.00179976, 0.00139861, 0.0007798 ])"
      ]
     },
     "execution_count": 154,
     "metadata": {},
     "output_type": "execute_result"
    }
   ],
   "source": [
    "tmp_ = np.abs(U.T.dot(store_g1_filt)).sum(axis=1)\n",
    "tmp_ /=np.sum(tmp_)\n",
    "tmp_"
   ]
  },
  {
   "cell_type": "code",
   "execution_count": 347,
   "metadata": {},
   "outputs": [],
   "source": [
    "tmp = (U - np.mean(U,axis=1)[:,None]).T.dot(store_g1_filt)"
   ]
  },
  {
   "cell_type": "code",
   "execution_count": 349,
   "metadata": {},
   "outputs": [
    {
     "data": {
      "text/plain": [
       "array([0.60374508, 0.13599992, 0.13154174, 0.08018051, 0.06393617,\n",
       "       0.06092662, 0.051835  , 0.04954659, 0.04240887, 0.03612543,\n",
       "       0.0346291 , 0.03083506, 0.03011527, 0.02977838, 0.02931127,\n",
       "       0.02893627, 0.02768449, 0.02598746, 0.02599496, 0.02552648,\n",
       "       0.02490413, 0.02534216, 0.02421532, 0.0244096 , 0.02482014,\n",
       "       0.02455079, 0.02428437, 0.02442621])"
      ]
     },
     "execution_count": 349,
     "metadata": {},
     "output_type": "execute_result"
    }
   ],
   "source": [
    "np.abs(tmp).sum(axis=1)"
   ]
  },
  {
   "cell_type": "code",
   "execution_count": 369,
   "metadata": {},
   "outputs": [
    {
     "data": {
      "text/plain": [
       "array([[ 1.97223907e-04,  1.96390940e-04,  1.94690208e-04, ...,\n",
       "        -1.29261479e-03, -1.29944070e-03, -1.30286343e-03],\n",
       "       [ 7.38523908e-05,  7.05987547e-05,  6.41031909e-05, ...,\n",
       "         2.00383534e-04,  2.03016103e-04,  2.04333445e-04],\n",
       "       [-2.43130423e-04, -2.43509564e-04, -2.44279472e-04, ...,\n",
       "         1.07590956e-04,  1.10626492e-04,  1.12166063e-04],\n",
       "       ...,\n",
       "       [-2.36837798e-07, -1.55497883e-07,  4.72086711e-09, ...,\n",
       "        -1.60445445e-05, -1.64529024e-05, -1.66612966e-05],\n",
       "       [ 4.20221961e-06,  4.17286614e-06,  4.11339229e-06, ...,\n",
       "        -8.43409688e-07, -7.24512186e-07, -6.62559658e-07],\n",
       "       [-1.08827022e-06, -1.09016337e-06, -1.09335301e-06, ...,\n",
       "         5.56354802e-07,  5.74878192e-07,  5.84914595e-07]])"
      ]
     },
     "execution_count": 369,
     "metadata": {},
     "output_type": "execute_result"
    }
   ],
   "source": [
    "(U.T.dot(store_g1_filt))"
   ]
  },
  {
   "cell_type": "code",
   "execution_count": 372,
   "metadata": {},
   "outputs": [
    {
     "data": {
      "text/plain": [
       "[<matplotlib.lines.Line2D at 0x7fb884b95390>]"
      ]
     },
     "execution_count": 372,
     "metadata": {},
     "output_type": "execute_result"
    },
    {
     "data": {
      "image/png": "[encoded data removed]",
      "text/plain": [
       "<Figure size 432x288 with 1 Axes>"
      ]
     },
     "metadata": {
      "needs_background": "light"
     },
     "output_type": "display_data"
    }
   ],
   "source": [
    "plt.plot((U.T.dot(store_g1_filt))[0])"
   ]
  },
  {
   "cell_type": "code",
   "execution_count": 352,
   "metadata": {},
   "outputs": [
    {
     "data": {
      "text/plain": [
       "6.028259694076081e-06"
      ]
     },
     "execution_count": 352,
     "metadata": {},
     "output_type": "execute_result"
    }
   ],
   "source": [
    "np.cov(U[:,0],store_g1_filt[:,0])[0,1]"
   ]
  },
  {
   "cell_type": "code",
   "execution_count": 205,
   "metadata": {},
   "outputs": [
    {
     "data": {
      "text/plain": [
       "[<matplotlib.lines.Line2D at 0x7fb8f71b90d0>]"
      ]
     },
     "execution_count": 205,
     "metadata": {},
     "output_type": "execute_result"
    },
    {
     "data": {
      "image/png": "[encoded data removed]",
      "text/plain": [
       "<Figure size 432x288 with 1 Axes>"
      ]
     },
     "metadata": {
      "needs_background": "light"
     },
     "output_type": "display_data"
    }
   ],
   "source": [
    "plt.plot(ccs)"
   ]
  },
  {
   "cell_type": "code",
   "execution_count": 206,
   "metadata": {},
   "outputs": [
    {
     "data": {
      "text/plain": [
       "2.232125236744107"
      ]
     },
     "execution_count": 206,
     "metadata": {},
     "output_type": "execute_result"
    }
   ],
   "source": [
    "ccs[0]/U.dot(store_g1_filt)[0][0]"
   ]
  },
  {
   "cell_type": "code",
   "execution_count": 207,
   "metadata": {},
   "outputs": [
    {
     "data": {
      "text/plain": [
       "3.1522553729353235e-09"
      ]
     },
     "execution_count": 207,
     "metadata": {},
     "output_type": "execute_result"
    }
   ],
   "source": [
    "np.var(store_g1_filt[0])"
   ]
  },
  {
   "cell_type": "code",
   "execution_count": 208,
   "metadata": {},
   "outputs": [
    {
     "data": {
      "text/plain": [
       "(720,)"
      ]
     },
     "execution_count": 208,
     "metadata": {},
     "output_type": "execute_result"
    }
   ],
   "source": [
    "store_g1_filt[0].shape"
   ]
  },
  {
   "cell_type": "code",
   "execution_count": 359,
   "metadata": {},
   "outputs": [],
   "source": [
    "ccs = []\n",
    "for ix_ in range(store_g1_filt.shape[1]):\n",
    "    ccs.append(np.cov(U[:,0],store_g1_filt[:,ix_])[0,1])"
   ]
  },
  {
   "cell_type": "code",
   "execution_count": null,
   "metadata": {},
   "outputs": [],
   "source": []
  },
  {
   "cell_type": "code",
   "execution_count": 23,
   "metadata": {},
   "outputs": [],
   "source": [
    "import scipy.stats as stt"
   ]
  },
  {
   "cell_type": "code",
   "execution_count": 24,
   "metadata": {},
   "outputs": [
    {
     "ename": "NameError",
     "evalue": "name 'evals_shuff' is not defined",
     "output_type": "error",
     "traceback": [
      "\u001b[0;31m---------------------------------------------------------------------------\u001b[0m",
      "\u001b[0;31mNameError\u001b[0m                                 Traceback (most recent call last)",
      "\u001b[0;32m<ipython-input-24-ddc8d6896a7c>\u001b[0m in \u001b[0;36m<module>\u001b[0;34m\u001b[0m\n\u001b[0;32m----> 1\u001b[0;31m \u001b[0mmu\u001b[0m \u001b[0;34m=\u001b[0m \u001b[0mnp\u001b[0m\u001b[0;34m.\u001b[0m\u001b[0mmean\u001b[0m\u001b[0;34m(\u001b[0m\u001b[0mnp\u001b[0m\u001b[0;34m.\u001b[0m\u001b[0mcumsum\u001b[0m\u001b[0;34m(\u001b[0m\u001b[0mnp\u001b[0m\u001b[0;34m.\u001b[0m\u001b[0mabs\u001b[0m\u001b[0;34m(\u001b[0m\u001b[0mevals_shuff\u001b[0m\u001b[0;34m)\u001b[0m\u001b[0;34m,\u001b[0m\u001b[0maxis\u001b[0m\u001b[0;34m=\u001b[0m\u001b[0;36m1\u001b[0m\u001b[0;34m)\u001b[0m\u001b[0;34m,\u001b[0m\u001b[0maxis\u001b[0m\u001b[0;34m=\u001b[0m\u001b[0;36m1\u001b[0m\u001b[0;34m)\u001b[0m\u001b[0;34m\u001b[0m\u001b[0;34m\u001b[0m\u001b[0m\n\u001b[0m\u001b[1;32m      2\u001b[0m \u001b[0;32mfor\u001b[0m \u001b[0mi\u001b[0m \u001b[0;32min\u001b[0m \u001b[0mnp\u001b[0m\u001b[0;34m.\u001b[0m\u001b[0mabs\u001b[0m\u001b[0;34m(\u001b[0m\u001b[0mevals_shuff\u001b[0m\u001b[0;34m)\u001b[0m\u001b[0;34m:\u001b[0m\u001b[0;34m\u001b[0m\u001b[0;34m\u001b[0m\u001b[0m\n\u001b[1;32m      3\u001b[0m     \u001b[0mplt\u001b[0m\u001b[0;34m.\u001b[0m\u001b[0mplot\u001b[0m\u001b[0;34m(\u001b[0m\u001b[0mnp\u001b[0m\u001b[0;34m.\u001b[0m\u001b[0mcumsum\u001b[0m\u001b[0;34m(\u001b[0m\u001b[0mi\u001b[0m\u001b[0;34m)\u001b[0m\u001b[0;34m,\u001b[0m\u001b[0mcolor\u001b[0m\u001b[0;34m=\u001b[0m\u001b[0;34m'.3'\u001b[0m\u001b[0;34m,\u001b[0m\u001b[0mlinewidth\u001b[0m\u001b[0;34m=\u001b[0m\u001b[0;36m.5\u001b[0m\u001b[0;34m)\u001b[0m\u001b[0;34m\u001b[0m\u001b[0;34m\u001b[0m\u001b[0m\n\u001b[1;32m      4\u001b[0m \u001b[0msem\u001b[0m \u001b[0;34m=\u001b[0m\u001b[0mnp\u001b[0m\u001b[0;34m.\u001b[0m\u001b[0mstd\u001b[0m\u001b[0;34m(\u001b[0m\u001b[0mnp\u001b[0m\u001b[0;34m.\u001b[0m\u001b[0mcumsum\u001b[0m\u001b[0;34m(\u001b[0m\u001b[0mnp\u001b[0m\u001b[0;34m.\u001b[0m\u001b[0mabs\u001b[0m\u001b[0;34m(\u001b[0m\u001b[0mevals_shuff\u001b[0m\u001b[0;34m)\u001b[0m\u001b[0;34m,\u001b[0m\u001b[0maxis\u001b[0m\u001b[0;34m=\u001b[0m\u001b[0;36m1\u001b[0m\u001b[0;34m)\u001b[0m\u001b[0;34m,\u001b[0m\u001b[0maxis\u001b[0m\u001b[0;34m=\u001b[0m\u001b[0;36m0\u001b[0m\u001b[0;34m)\u001b[0m\u001b[0;34m\u001b[0m\u001b[0;34m\u001b[0m\u001b[0m\n\u001b[1;32m      5\u001b[0m \u001b[0mplt\u001b[0m\u001b[0;34m.\u001b[0m\u001b[0mplot\u001b[0m\u001b[0;34m(\u001b[0m\u001b[0mnp\u001b[0m\u001b[0;34m.\u001b[0m\u001b[0mcumsum\u001b[0m\u001b[0;34m(\u001b[0m\u001b[0mnp\u001b[0m\u001b[0;34m.\u001b[0m\u001b[0mabs\u001b[0m\u001b[0;34m(\u001b[0m\u001b[0mtrue_evals\u001b[0m\u001b[0;34m)\u001b[0m\u001b[0;34m)\u001b[0m\u001b[0;34m,\u001b[0m\u001b[0mlinewidth\u001b[0m\u001b[0;34m=\u001b[0m\u001b[0;36m3\u001b[0m\u001b[0;34m)\u001b[0m\u001b[0;34m\u001b[0m\u001b[0;34m\u001b[0m\u001b[0m\n",
      "\u001b[0;31mNameError\u001b[0m: name 'evals_shuff' is not defined"
     ]
    }
   ],
   "source": [
    "mu = np.mean(np.cumsum(np.abs(evals_shuff),axis=1),axis=1)\n",
    "for i in np.abs(evals_shuff):\n",
    "    plt.plot(np.cumsum(i),color='.3',linewidth=.5)\n",
    "sem =np.std(np.cumsum(np.abs(evals_shuff),axis=1),axis=0)\n",
    "plt.plot(np.cumsum(np.abs(true_evals)),linewidth=3)\n",
    "plt.plot(mu,linewidth=3,color='.3',label='shuffle')\n",
    "plt.fill_between(range(len(mu)),mu+2*sem,mu-2*sem,color='.3',alpha=.3)\n",
    "plt.legend()\n",
    "seaborn.despine()"
   ]
  },
  {
   "cell_type": "code",
   "execution_count": null,
   "metadata": {},
   "outputs": [],
   "source": []
  },
  {
   "cell_type": "code",
   "execution_count": 178,
   "metadata": {},
   "outputs": [
    {
     "data": {
      "text/plain": [
       "[<matplotlib.lines.Line2D at 0x7f8e0e0f5950>]"
      ]
     },
     "execution_count": 178,
     "metadata": {},
     "output_type": "execute_result"
    },
    {
     "data": {
      "image/png": "[encoded data removed]",
      "text/plain": [
       "<Figure size 432x288 with 1 Axes>"
      ]
     },
     "metadata": {},
     "output_type": "display_data"
    }
   ],
   "source": [
    "#this is the correct equation to testimate. This returns the corresponding D\n",
    "evals = np.abs(U.T.dot(store_g1_filt).dot(V.T).diagonal())\n",
    "mx = np.sum(evals)\n",
    "plt.plot([0]+(np.cumsum(evals)/mx).tolist())\n",
    "\n",
    "evals = np.abs(U.T.dot(store_g1_cv_filt).dot(V.T).diagonal())\n",
    "plt.plot([0]+(np.cumsum(evals)/mx).tolist())\n",
    "\n",
    "\n",
    "evals = np.abs(U.T.dot(store_g2_filt).dot(V.T).diagonal())\n",
    "plt.plot([0]+(np.cumsum(evals)/mx).tolist())\n",
    "#plt.ylim(.2,1)\n"
   ]
  },
  {
   "cell_type": "code",
   "execution_count": null,
   "metadata": {},
   "outputs": [],
   "source": []
  },
  {
   "cell_type": "code",
   "execution_count": 66,
   "metadata": {},
   "outputs": [
    {
     "data": {
      "text/plain": [
       "[<matplotlib.lines.Line2D at 0x7f8cf5e08810>]"
      ]
     },
     "execution_count": 66,
     "metadata": {},
     "output_type": "execute_result"
    },
    {
     "data": {
      "image/png": "[encoded data removed]",
      "text/plain": [
       "<Figure size 432x288 with 1 Axes>"
      ]
     },
     "metadata": {
      "needs_background": "light"
     },
     "output_type": "display_data"
    }
   ],
   "source": [
    "#this is the correct equation to testimate. This returns the corresponding D\n",
    "evals = U.T.dot(store_g1_filt).dot(V.T).diagonal()**2\n",
    "mx = np.sum(evals)\n",
    "plt.plot([0]+(np.cumsum(evals)/mx).tolist())\n",
    "\n",
    "evals = U.T.dot(store_g1_cv_filt).dot(V.T).diagonal()**2\n",
    "plt.plot([0]+(np.cumsum(evals)/mx).tolist())\n",
    "\n",
    "\n",
    "evals = U.T.dot(store_g2_filt).dot(V.T).diagonal()**2\n",
    "plt.plot([0]+(np.cumsum(evals)/mx).tolist())"
   ]
  }
 ],
 "metadata": {
  "kernelspec": {
   "display_name": "Python 3",
   "language": "python",
   "name": "python3"
  },
  "language_info": {
   "codemirror_mode": {
    "name": "ipython",
    "version": 3
   },
   "file_extension": ".py",
   "mimetype": "text/x-python",
   "name": "python",
   "nbconvert_exporter": "python",
   "pygments_lexer": "ipython3",
   "version": "3.7.4"
  }
 },
 "nbformat": 4,
 "nbformat_minor": 2
}
