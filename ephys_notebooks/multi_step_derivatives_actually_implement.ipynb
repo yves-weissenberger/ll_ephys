{
 "cells": [
  {
   "cell_type": "markdown",
   "metadata": {},
   "source": [
    "# Plan\n",
    "\n",
    "\n",
    "\n",
    "\n",
    "1. Get gradients on transition matrix for n-steps [X]\n",
    "2. Figure out what to multiply a vector by to obtain skew-symmetric matrix - [x] \n",
    "    -1. A~\n",
    "3. Use caley transform to generate a unitary matrix - [x] \n",
    "4. Run whole thing through jax to get PI representation [X]"
   ]
  },
  {
   "cell_type": "code",
   "execution_count": null,
   "metadata": {},
   "outputs": [],
   "source": []
  },
  {
   "cell_type": "code",
   "execution_count": 1,
   "metadata": {},
   "outputs": [
    {
     "name": "stderr",
     "output_type": "stream",
     "text": [
      "/Users/yves/opt/anaconda3/lib/python3.7/site-packages/statsmodels/tools/_testing.py:19: FutureWarning: pandas.util.testing is deprecated. Use the functions in the public API at pandas.testing instead.\n",
      "  import pandas.util.testing as tm\n"
     ]
    }
   ],
   "source": [
    "%matplotlib inline\n",
    "\n",
    "import numpy as np\n",
    "import matplotlib.pyplot as plt\n",
    "import seaborn\n",
    "import scipy.optimize as op\n",
    "from functools import partial\n",
    "seaborn.set(font_scale=1.5,style='ticks')"
   ]
  },
  {
   "cell_type": "markdown",
   "metadata": {},
   "source": [
    "# Run with jax"
   ]
  },
  {
   "cell_type": "code",
   "execution_count": 83,
   "metadata": {},
   "outputs": [],
   "source": [
    "dim = 4\n",
    "nT = 9\n",
    "x0 = np.random.normal(size=(dim,1))\n",
    "A_ = np.random.normal(size=(dim,dim))\n",
    "\n",
    "A = np.zeros([dim,dim])\n",
    "\n",
    "for i in range(dim):\n",
    "    A[i,i:] = A_[i:,i]\n",
    "    A[i:,i] = -A_[i:,i]\n",
    "    \n",
    "A[np.diag_indices_from(A)] = 0\n",
    "A = (np.eye(dim)-A)@np.linalg.inv(np.eye(dim)+A)\n",
    "\n",
    "x = np.array([np.linalg.matrix_power(A,i)@x0 for i in range(9)])"
   ]
  },
  {
   "cell_type": "code",
   "execution_count": 84,
   "metadata": {},
   "outputs": [],
   "source": [
    "#plt.plot(x[:,1])\n",
    "#plt.yscale('symlog')"
   ]
  },
  {
   "cell_type": "code",
   "execution_count": 85,
   "metadata": {},
   "outputs": [],
   "source": [
    "Ahat = np.random.normal(size=(dim,dim))\n"
   ]
  },
  {
   "cell_type": "code",
   "execution_count": 86,
   "metadata": {},
   "outputs": [],
   "source": [
    "import jax.numpy as jnp\n",
    "from jax import grad, jit, vmap\n",
    "from jax import random\n"
   ]
  },
  {
   "cell_type": "code",
   "execution_count": 87,
   "metadata": {},
   "outputs": [],
   "source": [
    "def predict(Ahat,x,y,n,dim):\n",
    "    Ahat = jnp.reshape(Ahat,(dim,dim))\n",
    "    return jnp.sum((jnp.dot(jnp.linalg.matrix_power(Ahat,n),x)-y)**2)\n",
    "\n",
    "\n",
    "predict_funs = [partial(predict,n=i,dim=dim) for i in range(9)]\n",
    "grad_predict_funs = [grad(i) for i in predict_funs]"
   ]
  },
  {
   "cell_type": "code",
   "execution_count": 88,
   "metadata": {},
   "outputs": [],
   "source": [
    "def get_basis_tensor(dim):\n",
    "    \"\"\" Returns a tensor that forms a basis for skew symmetric matrices.\n",
    "        Use np.einsum('i...,i...',params,basis_tensor) to construct this\n",
    "        matrix\n",
    "    \"\"\"\n",
    "    basis_tensor = []\n",
    "    for i in range(dim):\n",
    "        for j in range(i+1,dim):\n",
    "            bi =  np.zeros([dim,dim])\n",
    "            bi[i,j] = -1\n",
    "            bi = bi -bi.T\n",
    "            basis_tensor.append(bi.T)\n",
    "    basis_tensor = np.array(basis_tensor)\n",
    "    return np.asarray(basis_tensor)\n"
   ]
  },
  {
   "cell_type": "code",
   "execution_count": 89,
   "metadata": {},
   "outputs": [],
   "source": [
    "basis_tensor = get_basis_tensor(dim)\n",
    "n_bases = basis_tensor.shape[0]"
   ]
  },
  {
   "cell_type": "code",
   "execution_count": 90,
   "metadata": {},
   "outputs": [],
   "source": [
    "def caley_transform(skewM,dim):\n",
    "    \"\"\" Perform Caley transform\"\"\"\n",
    "    return (np.eye(dim) - skewM)@np.linalg.inv(np.eye(dim)+skewM)"
   ]
  },
  {
   "cell_type": "code",
   "execution_count": null,
   "metadata": {},
   "outputs": [],
   "source": []
  },
  {
   "cell_type": "code",
   "execution_count": 91,
   "metadata": {},
   "outputs": [],
   "source": [
    "def predict_all(Ahat,x,predict_funs,grad_predict_funs,dim):\n",
    "    Ahat = Ahat.reshape(dim,dim)\n",
    "    #print(Ahat.shape)\n",
    "    err = 0\n",
    "    nT = len(x)\n",
    "    k = 0\n",
    "    for start_state in range(nT):\n",
    "        for pred_state in range(start_state+1,nT-start_state):\n",
    "            n_fwd = pred_state-start_state \n",
    "            err += predict_funs[n_fwd](Ahat,x[start_state],x[pred_state])\n",
    "            k += 1\n",
    "    return err/k\n",
    "\n",
    "\n",
    "def predict_all_grad(Ahat,x,predict_funs,grad_predict_funs,dim):\n",
    "    \n",
    "    #n_ = len(Ahat.flatten())\n",
    "    Ahat = Ahat.reshape(dim,dim)\n",
    "    J = np.zeros(Ahat.shape)\n",
    "    #print(J.shape)\n",
    "    nT = len(x)\n",
    "    k = 0\n",
    "    for start_state in range(nT):\n",
    "        for pred_state in range(start_state+1,nT):\n",
    "            n_fwd =  pred_state-start_state \n",
    "            #print(n_fwd,J.shape,)\n",
    "            #print(start_state,pred_state,n_fwd)\n",
    "            J = J + grad_predict_funs[n_fwd](Ahat,x[start_state],x[pred_state])\n",
    "            k+= 1\n",
    "    #J = J/k\n",
    "    return J.flatten()\n",
    "    "
   ]
  },
  {
   "cell_type": "code",
   "execution_count": 92,
   "metadata": {},
   "outputs": [
    {
     "data": {
      "text/plain": [
       "DeviceArray(1.7763568e-14, dtype=float32)"
      ]
     },
     "execution_count": 92,
     "metadata": {},
     "output_type": "execute_result"
    }
   ],
   "source": [
    "predict_funs[1](A,x[0],x[1])"
   ]
  },
  {
   "cell_type": "code",
   "execution_count": 93,
   "metadata": {},
   "outputs": [
    {
     "data": {
      "text/plain": [
       "6.0"
      ]
     },
     "execution_count": 93,
     "metadata": {},
     "output_type": "execute_result"
    }
   ],
   "source": [
    "dim*(dim-1)/2"
   ]
  },
  {
   "cell_type": "code",
   "execution_count": 94,
   "metadata": {},
   "outputs": [
    {
     "data": {
      "text/plain": [
       "array([  70390.625 ,  103007.8125,  191093.75  ,   47382.8125,\n",
       "       -129843.75  ,  -69843.75  , -152187.5   , -165781.25  ,\n",
       "        -80937.5   ,  -20429.6875,  -66406.25  , -131289.0625,\n",
       "        -57734.375 ,   65781.25  ,   93203.125 , -151406.25  ])"
      ]
     },
     "execution_count": 94,
     "metadata": {},
     "output_type": "execute_result"
    }
   ],
   "source": [
    "#%%timeit\n",
    "op.approx_fprime(Ahat.flatten(),\n",
    "                 predict_all,\n",
    "                 1e-4,\n",
    "                 *(x,predict_funs,grad_predict_funs,dim)\n",
    "            )"
   ]
  },
  {
   "cell_type": "code",
   "execution_count": 95,
   "metadata": {},
   "outputs": [],
   "source": [
    "grad_predict_all = grad(predict_all)"
   ]
  },
  {
   "cell_type": "code",
   "execution_count": 96,
   "metadata": {},
   "outputs": [
    {
     "data": {
      "text/plain": [
       "DeviceArray([[  70223.76 ,  102901.92 ,  190926.28 ,   47208.484],\n",
       "             [-129855.81 ,  -70100.4  , -152130.9  , -165836.36 ],\n",
       "             [ -80860.266,  -20378.723,  -66509.18 , -131416.02 ],\n",
       "             [ -57839.285,   65681.766,   92969.32 , -151639.16 ]],            dtype=float32)"
      ]
     },
     "execution_count": 96,
     "metadata": {},
     "output_type": "execute_result"
    }
   ],
   "source": [
    "#%%timeit\n",
    "grad_predict_all(Ahat,x,predict_funs,grad_predict_funs,dim)"
   ]
  },
  {
   "cell_type": "code",
   "execution_count": 97,
   "metadata": {},
   "outputs": [
    {
     "data": {
      "text/plain": [
       "DeviceArray([ 1531008.8 ,  2215244.8 ,  4063375.8 ,  1037155.75,\n",
       "             -2811138.  , -1510624.  , -3261421.2 , -3558559.2 ,\n",
       "             -1744138.  ,  -453141.84, -1448596.8 , -2793698.8 ,\n",
       "             -1251204.9 ,  1415294.6 ,  1959539.4 , -3241711.5 ],            dtype=float32)"
      ]
     },
     "execution_count": 97,
     "metadata": {},
     "output_type": "execute_result"
    }
   ],
   "source": [
    "predict_all_grad(Ahat,x,predict_funs,grad_predict_funs,dim)"
   ]
  },
  {
   "cell_type": "code",
   "execution_count": 98,
   "metadata": {},
   "outputs": [
    {
     "ename": "ValueError",
     "evalue": "cannot reshape array of size 6 into shape (4,4)",
     "output_type": "error",
     "traceback": [
      "\u001b[0;31m---------------------------------------------------------------------------\u001b[0m",
      "\u001b[0;31mValueError\u001b[0m                                Traceback (most recent call last)",
      "\u001b[0;32m<ipython-input-98-6a827394ff37>\u001b[0m in \u001b[0;36m<module>\u001b[0;34m\u001b[0m\n\u001b[1;32m      4\u001b[0m            \u001b[0;34m(\u001b[0m\u001b[0mx\u001b[0m\u001b[0;34m,\u001b[0m\u001b[0mpredict_funs\u001b[0m\u001b[0;34m,\u001b[0m\u001b[0mgrad_predict_funs\u001b[0m\u001b[0;34m,\u001b[0m\u001b[0mdim\u001b[0m\u001b[0;34m)\u001b[0m\u001b[0;34m,\u001b[0m\u001b[0;34m\u001b[0m\u001b[0;34m\u001b[0m\u001b[0m\n\u001b[1;32m      5\u001b[0m            \u001b[0mjac\u001b[0m\u001b[0;34m=\u001b[0m\u001b[0mgrad_predict_all\u001b[0m\u001b[0;34m,\u001b[0m\u001b[0;34m\u001b[0m\u001b[0;34m\u001b[0m\u001b[0m\n\u001b[0;32m----> 6\u001b[0;31m            \u001b[0mmethod\u001b[0m\u001b[0;34m=\u001b[0m\u001b[0;34m'Newton-CG'\u001b[0m\u001b[0;34m\u001b[0m\u001b[0;34m\u001b[0m\u001b[0m\n\u001b[0m\u001b[1;32m      7\u001b[0m            )\n\u001b[1;32m      8\u001b[0m \u001b[0mprint\u001b[0m\u001b[0;34m(\u001b[0m\u001b[0mres\u001b[0m\u001b[0;34m.\u001b[0m\u001b[0mmessage\u001b[0m\u001b[0;34m)\u001b[0m\u001b[0;34m\u001b[0m\u001b[0;34m\u001b[0m\u001b[0m\n",
      "\u001b[0;32m~/opt/anaconda3/lib/python3.7/site-packages/scipy/optimize/_minimize.py\u001b[0m in \u001b[0;36mminimize\u001b[0;34m(fun, x0, args, method, jac, hess, hessp, bounds, constraints, tol, callback, options)\u001b[0m\n\u001b[1;32m    605\u001b[0m     \u001b[0;32melif\u001b[0m \u001b[0mmeth\u001b[0m \u001b[0;34m==\u001b[0m \u001b[0;34m'newton-cg'\u001b[0m\u001b[0;34m:\u001b[0m\u001b[0;34m\u001b[0m\u001b[0;34m\u001b[0m\u001b[0m\n\u001b[1;32m    606\u001b[0m         return _minimize_newtoncg(fun, x0, args, jac, hess, hessp, callback,\n\u001b[0;32m--> 607\u001b[0;31m                                   **options)\n\u001b[0m\u001b[1;32m    608\u001b[0m     \u001b[0;32melif\u001b[0m \u001b[0mmeth\u001b[0m \u001b[0;34m==\u001b[0m \u001b[0;34m'l-bfgs-b'\u001b[0m\u001b[0;34m:\u001b[0m\u001b[0;34m\u001b[0m\u001b[0;34m\u001b[0m\u001b[0m\n\u001b[1;32m    609\u001b[0m         return _minimize_lbfgsb(fun, x0, args, jac, bounds,\n",
      "\u001b[0;32m~/opt/anaconda3/lib/python3.7/site-packages/scipy/optimize/optimize.py\u001b[0m in \u001b[0;36m_minimize_newtoncg\u001b[0;34m(fun, x0, args, jac, hess, hessp, callback, xtol, eps, maxiter, disp, return_all, **unknown_options)\u001b[0m\n\u001b[1;32m   1586\u001b[0m     \u001b[0mk\u001b[0m \u001b[0;34m=\u001b[0m \u001b[0;36m0\u001b[0m\u001b[0;34m\u001b[0m\u001b[0;34m\u001b[0m\u001b[0m\n\u001b[1;32m   1587\u001b[0m     \u001b[0mgfk\u001b[0m \u001b[0;34m=\u001b[0m \u001b[0;32mNone\u001b[0m\u001b[0;34m\u001b[0m\u001b[0;34m\u001b[0m\u001b[0m\n\u001b[0;32m-> 1588\u001b[0;31m     \u001b[0mold_fval\u001b[0m \u001b[0;34m=\u001b[0m \u001b[0mf\u001b[0m\u001b[0;34m(\u001b[0m\u001b[0mx0\u001b[0m\u001b[0;34m)\u001b[0m\u001b[0;34m\u001b[0m\u001b[0;34m\u001b[0m\u001b[0m\n\u001b[0m\u001b[1;32m   1589\u001b[0m     \u001b[0mold_old_fval\u001b[0m \u001b[0;34m=\u001b[0m \u001b[0;32mNone\u001b[0m\u001b[0;34m\u001b[0m\u001b[0;34m\u001b[0m\u001b[0m\n\u001b[1;32m   1590\u001b[0m     \u001b[0mfloat64eps\u001b[0m \u001b[0;34m=\u001b[0m \u001b[0mnumpy\u001b[0m\u001b[0;34m.\u001b[0m\u001b[0mfinfo\u001b[0m\u001b[0;34m(\u001b[0m\u001b[0mnumpy\u001b[0m\u001b[0;34m.\u001b[0m\u001b[0mfloat64\u001b[0m\u001b[0;34m)\u001b[0m\u001b[0;34m.\u001b[0m\u001b[0meps\u001b[0m\u001b[0;34m\u001b[0m\u001b[0;34m\u001b[0m\u001b[0m\n",
      "\u001b[0;32m~/opt/anaconda3/lib/python3.7/site-packages/scipy/optimize/optimize.py\u001b[0m in \u001b[0;36mfunction_wrapper\u001b[0;34m(*wrapper_args)\u001b[0m\n\u001b[1;32m    325\u001b[0m     \u001b[0;32mdef\u001b[0m \u001b[0mfunction_wrapper\u001b[0m\u001b[0;34m(\u001b[0m\u001b[0;34m*\u001b[0m\u001b[0mwrapper_args\u001b[0m\u001b[0;34m)\u001b[0m\u001b[0;34m:\u001b[0m\u001b[0;34m\u001b[0m\u001b[0;34m\u001b[0m\u001b[0m\n\u001b[1;32m    326\u001b[0m         \u001b[0mncalls\u001b[0m\u001b[0;34m[\u001b[0m\u001b[0;36m0\u001b[0m\u001b[0;34m]\u001b[0m \u001b[0;34m+=\u001b[0m \u001b[0;36m1\u001b[0m\u001b[0;34m\u001b[0m\u001b[0;34m\u001b[0m\u001b[0m\n\u001b[0;32m--> 327\u001b[0;31m         \u001b[0;32mreturn\u001b[0m \u001b[0mfunction\u001b[0m\u001b[0;34m(\u001b[0m\u001b[0;34m*\u001b[0m\u001b[0;34m(\u001b[0m\u001b[0mwrapper_args\u001b[0m \u001b[0;34m+\u001b[0m \u001b[0margs\u001b[0m\u001b[0;34m)\u001b[0m\u001b[0;34m)\u001b[0m\u001b[0;34m\u001b[0m\u001b[0;34m\u001b[0m\u001b[0m\n\u001b[0m\u001b[1;32m    328\u001b[0m \u001b[0;34m\u001b[0m\u001b[0m\n\u001b[1;32m    329\u001b[0m     \u001b[0;32mreturn\u001b[0m \u001b[0mncalls\u001b[0m\u001b[0;34m,\u001b[0m \u001b[0mfunction_wrapper\u001b[0m\u001b[0;34m\u001b[0m\u001b[0;34m\u001b[0m\u001b[0m\n",
      "\u001b[0;32m<ipython-input-91-73acc8b32845>\u001b[0m in \u001b[0;36mpredict_all\u001b[0;34m(Ahat, x, predict_funs, grad_predict_funs, dim)\u001b[0m\n\u001b[1;32m      1\u001b[0m \u001b[0;32mdef\u001b[0m \u001b[0mpredict_all\u001b[0m\u001b[0;34m(\u001b[0m\u001b[0mAhat\u001b[0m\u001b[0;34m,\u001b[0m\u001b[0mx\u001b[0m\u001b[0;34m,\u001b[0m\u001b[0mpredict_funs\u001b[0m\u001b[0;34m,\u001b[0m\u001b[0mgrad_predict_funs\u001b[0m\u001b[0;34m,\u001b[0m\u001b[0mdim\u001b[0m\u001b[0;34m)\u001b[0m\u001b[0;34m:\u001b[0m\u001b[0;34m\u001b[0m\u001b[0;34m\u001b[0m\u001b[0m\n\u001b[0;32m----> 2\u001b[0;31m     \u001b[0mAhat\u001b[0m \u001b[0;34m=\u001b[0m \u001b[0mAhat\u001b[0m\u001b[0;34m.\u001b[0m\u001b[0mreshape\u001b[0m\u001b[0;34m(\u001b[0m\u001b[0mdim\u001b[0m\u001b[0;34m,\u001b[0m\u001b[0mdim\u001b[0m\u001b[0;34m)\u001b[0m\u001b[0;34m\u001b[0m\u001b[0;34m\u001b[0m\u001b[0m\n\u001b[0m\u001b[1;32m      3\u001b[0m     \u001b[0;31m#print(Ahat.shape)\u001b[0m\u001b[0;34m\u001b[0m\u001b[0;34m\u001b[0m\u001b[0;34m\u001b[0m\u001b[0m\n\u001b[1;32m      4\u001b[0m     \u001b[0merr\u001b[0m \u001b[0;34m=\u001b[0m \u001b[0;36m0\u001b[0m\u001b[0;34m\u001b[0m\u001b[0;34m\u001b[0m\u001b[0m\n\u001b[1;32m      5\u001b[0m     \u001b[0mnT\u001b[0m \u001b[0;34m=\u001b[0m \u001b[0mlen\u001b[0m\u001b[0;34m(\u001b[0m\u001b[0mx\u001b[0m\u001b[0;34m)\u001b[0m\u001b[0;34m\u001b[0m\u001b[0;34m\u001b[0m\u001b[0m\n",
      "\u001b[0;31mValueError\u001b[0m: cannot reshape array of size 6 into shape (4,4)"
     ]
    }
   ],
   "source": [
    "params = np.random.normal(size=(1,int(dim*(dim-1)/2)))# + np.eye(dim)\n",
    "res = op.minimize(predict_all,\n",
    "           params,\n",
    "           (x,predict_funs,grad_predict_funs,dim),\n",
    "           jac=grad_predict_all,\n",
    "           method='Newton-CG'\n",
    "           )\n",
    "print(res.message)"
   ]
  },
  {
   "cell_type": "code",
   "execution_count": 99,
   "metadata": {},
   "outputs": [
    {
     "data": {
      "text/plain": [
       "'Optimization terminated successfully.'"
      ]
     },
     "execution_count": 99,
     "metadata": {},
     "output_type": "execute_result"
    }
   ],
   "source": [
    "res.message"
   ]
  },
  {
   "cell_type": "code",
   "execution_count": 100,
   "metadata": {},
   "outputs": [
    {
     "ename": "ValueError",
     "evalue": "cannot reshape array of size 3 into shape (4,4)",
     "output_type": "error",
     "traceback": [
      "\u001b[0;31m---------------------------------------------------------------------------\u001b[0m",
      "\u001b[0;31mValueError\u001b[0m                                Traceback (most recent call last)",
      "\u001b[0;32m<ipython-input-100-830d78b5cfdd>\u001b[0m in \u001b[0;36m<module>\u001b[0;34m\u001b[0m\n\u001b[0;32m----> 1\u001b[0;31m \u001b[0mAinf\u001b[0m \u001b[0;34m=\u001b[0m \u001b[0mres\u001b[0m\u001b[0;34m.\u001b[0m\u001b[0mx\u001b[0m\u001b[0;34m.\u001b[0m\u001b[0mreshape\u001b[0m\u001b[0;34m(\u001b[0m\u001b[0mdim\u001b[0m\u001b[0;34m,\u001b[0m\u001b[0mdim\u001b[0m\u001b[0;34m)\u001b[0m\u001b[0;34m\u001b[0m\u001b[0;34m\u001b[0m\u001b[0m\n\u001b[0m",
      "\u001b[0;31mValueError\u001b[0m: cannot reshape array of size 3 into shape (4,4)"
     ]
    }
   ],
   "source": [
    "Ainf = res.x.reshape(dim,dim)"
   ]
  },
  {
   "cell_type": "code",
   "execution_count": null,
   "metadata": {},
   "outputs": [],
   "source": []
  },
  {
   "cell_type": "code",
   "execution_count": 101,
   "metadata": {},
   "outputs": [
    {
     "ename": "ValueError",
     "evalue": "matmul: Input operand 1 has a mismatch in its core dimension 0, with gufunc signature (n?,k),(k,m?)->(n?,m?) (size 4 is different from 3)",
     "output_type": "error",
     "traceback": [
      "\u001b[0;31m---------------------------------------------------------------------------\u001b[0m",
      "\u001b[0;31mValueError\u001b[0m                                Traceback (most recent call last)",
      "\u001b[0;32m<ipython-input-101-f73208c8c8a2>\u001b[0m in \u001b[0;36m<module>\u001b[0;34m\u001b[0m\n\u001b[1;32m      4\u001b[0m \u001b[0;34m\u001b[0m\u001b[0m\n\u001b[1;32m      5\u001b[0m     \u001b[0mplt\u001b[0m\u001b[0;34m.\u001b[0m\u001b[0msubplot\u001b[0m\u001b[0;34m(\u001b[0m\u001b[0;36m1\u001b[0m\u001b[0;34m,\u001b[0m\u001b[0mdim\u001b[0m\u001b[0;34m,\u001b[0m\u001b[0mi\u001b[0m\u001b[0;34m+\u001b[0m\u001b[0;36m1\u001b[0m\u001b[0;34m)\u001b[0m\u001b[0;34m\u001b[0m\u001b[0;34m\u001b[0m\u001b[0m\n\u001b[0;32m----> 6\u001b[0;31m     \u001b[0mplt\u001b[0m\u001b[0;34m.\u001b[0m\u001b[0mplot\u001b[0m\u001b[0;34m(\u001b[0m\u001b[0;34m(\u001b[0m\u001b[0mnp\u001b[0m\u001b[0;34m.\u001b[0m\u001b[0mlinalg\u001b[0m\u001b[0;34m.\u001b[0m\u001b[0mmatrix_power\u001b[0m\u001b[0;34m(\u001b[0m\u001b[0mAinf\u001b[0m\u001b[0;34m,\u001b[0m\u001b[0;36m1\u001b[0m\u001b[0;34m)\u001b[0m\u001b[0;34m@\u001b[0m\u001b[0mx\u001b[0m\u001b[0;34m)\u001b[0m\u001b[0;34m[\u001b[0m\u001b[0;34m:\u001b[0m\u001b[0;34m,\u001b[0m\u001b[0mi\u001b[0m\u001b[0;34m]\u001b[0m\u001b[0;34m,\u001b[0m\u001b[0mmarker\u001b[0m\u001b[0;34m=\u001b[0m\u001b[0;34m'.'\u001b[0m\u001b[0;34m)\u001b[0m\u001b[0;34m\u001b[0m\u001b[0;34m\u001b[0m\u001b[0m\n\u001b[0m\u001b[1;32m      7\u001b[0m     \u001b[0mplt\u001b[0m\u001b[0;34m.\u001b[0m\u001b[0mplot\u001b[0m\u001b[0;34m(\u001b[0m\u001b[0;34m(\u001b[0m\u001b[0mnp\u001b[0m\u001b[0;34m.\u001b[0m\u001b[0mlinalg\u001b[0m\u001b[0;34m.\u001b[0m\u001b[0mmatrix_power\u001b[0m\u001b[0;34m(\u001b[0m\u001b[0mA\u001b[0m\u001b[0;34m,\u001b[0m\u001b[0;36m1\u001b[0m\u001b[0;34m)\u001b[0m\u001b[0;34m@\u001b[0m\u001b[0mx\u001b[0m\u001b[0;34m)\u001b[0m\u001b[0;34m[\u001b[0m\u001b[0;34m:\u001b[0m\u001b[0;34m,\u001b[0m\u001b[0mi\u001b[0m\u001b[0;34m]\u001b[0m\u001b[0;34m,\u001b[0m\u001b[0mmarker\u001b[0m\u001b[0;34m=\u001b[0m\u001b[0;34m'.'\u001b[0m\u001b[0;34m)\u001b[0m\u001b[0;34m\u001b[0m\u001b[0;34m\u001b[0m\u001b[0m\n\u001b[1;32m      8\u001b[0m     \u001b[0;31m#plt.\u001b[0m\u001b[0;34m\u001b[0m\u001b[0;34m\u001b[0m\u001b[0;34m\u001b[0m\u001b[0m\n",
      "\u001b[0;31mValueError\u001b[0m: matmul: Input operand 1 has a mismatch in its core dimension 0, with gufunc signature (n?,k),(k,m?)->(n?,m?) (size 4 is different from 3)"
     ]
    },
    {
     "data": {
      "image/png": "[encoded data removed]",
      "text/plain": [
       "<Figure size 1008x216 with 1 Axes>"
      ]
     },
     "metadata": {
      "needs_background": "light"
     },
     "output_type": "display_data"
    }
   ],
   "source": [
    "plt.figure(figsize=(14,3))\n",
    "\n",
    "for i in range(dim):\n",
    "    \n",
    "    plt.subplot(1,dim,i+1)\n",
    "    plt.plot((np.linalg.matrix_power(Ainf,1)@x)[:,i],marker='.')\n",
    "    plt.plot((np.linalg.matrix_power(A,1)@x)[:,i],marker='.')\n",
    "    #plt."
   ]
  },
  {
   "cell_type": "code",
   "execution_count": 102,
   "metadata": {},
   "outputs": [
    {
     "data": {
      "text/plain": [
       "[<matplotlib.lines.Line2D at 0x7f87e96b6590>]"
      ]
     },
     "execution_count": 102,
     "metadata": {},
     "output_type": "execute_result"
    },
    {
     "data": {
      "image/png": "[encoded data removed]",
      "text/plain": [
       "<Figure size 432x288 with 1 Axes>"
      ]
     },
     "metadata": {
      "needs_background": "light"
     },
     "output_type": "display_data"
    }
   ],
   "source": [
    "plt.plot((np.linalg.matrix_power(A,5)@x)[:,2])"
   ]
  },
  {
   "cell_type": "code",
   "execution_count": 103,
   "metadata": {},
   "outputs": [
    {
     "data": {
      "text/plain": [
       "[<matplotlib.lines.Line2D at 0x7f87e985a1d0>]"
      ]
     },
     "execution_count": 103,
     "metadata": {},
     "output_type": "execute_result"
    },
    {
     "data": {
      "image/png": "[encoded data removed]",
      "text/plain": [
       "<Figure size 432x288 with 1 Axes>"
      ]
     },
     "metadata": {
      "needs_background": "light"
     },
     "output_type": "display_data"
    }
   ],
   "source": [
    "plt.plot(x[:,0])"
   ]
  },
  {
   "cell_type": "code",
   "execution_count": null,
   "metadata": {},
   "outputs": [],
   "source": []
  },
  {
   "cell_type": "code",
   "execution_count": 104,
   "metadata": {},
   "outputs": [],
   "source": [
    "a = np.random.normal(size=(5,1))\n",
    "H = np.triu(np.ones([3,3,15]))"
   ]
  },
  {
   "cell_type": "markdown",
   "metadata": {},
   "source": [
    "# Now do it properly with constraints"
   ]
  },
  {
   "cell_type": "code",
   "execution_count": 105,
   "metadata": {},
   "outputs": [],
   "source": [
    "def get_basis_tensor(dim):\n",
    "    \"\"\" Returns a tensor that forms a basis for skew symmetric matrices.\n",
    "        Use np.einsum('i...,i...',params,basis_tensor) to construct this\n",
    "        matrix\n",
    "    \"\"\"\n",
    "    basis_tensor = []\n",
    "    for i in range(dim):\n",
    "        for j in range(i+1,dim):\n",
    "            bi =  np.zeros([dim,dim])\n",
    "            bi[i,j] = -1\n",
    "            bi = bi -bi.T\n",
    "            basis_tensor.append(bi.T)\n",
    "    basis_tensor = np.array(basis_tensor)\n",
    "    return np.asarray(basis_tensor)\n"
   ]
  },
  {
   "cell_type": "code",
   "execution_count": 106,
   "metadata": {},
   "outputs": [],
   "source": [
    "def caley_transform(skewM,dim):\n",
    "    \"\"\" Perform Caley transform\"\"\"\n",
    "    return (jnp.eye(dim) - skewM)@jnp.linalg.inv(jnp.eye(dim)+skewM)"
   ]
  },
  {
   "cell_type": "code",
   "execution_count": 107,
   "metadata": {},
   "outputs": [
    {
     "data": {
      "text/plain": [
       "(1, 6)"
      ]
     },
     "execution_count": 107,
     "metadata": {},
     "output_type": "execute_result"
    }
   ],
   "source": [
    "params.shape"
   ]
  },
  {
   "cell_type": "code",
   "execution_count": 108,
   "metadata": {},
   "outputs": [],
   "source": [
    "def predict(T,x,y,n,dim):\n",
    "    transition_matrix = jnp.reshape(T,(dim,dim))\n",
    "    return jnp.sum((jnp.dot(jnp.linalg.matrix_power(transition_matrix,n),x)-y)**2)\n",
    "\n",
    "\n",
    "#predict_funs = [partial(predict,n=i,dim=dim) for i in range(9)]\n",
    "#grad_predict_funs = [grad(i) for i in predict_funs]"
   ]
  },
  {
   "cell_type": "code",
   "execution_count": 109,
   "metadata": {},
   "outputs": [],
   "source": [
    "def predict_all(params,x,dim,basis_tensor):\n",
    "\n",
    "    err = 0\n",
    "    nT = len(x)\n",
    "    k = 0\n",
    "    skewM = jnp.einsum('i...,i...',params,basis_tensor)\n",
    "    M = caley_transform(skewM,dim)\n",
    "    #print(M.shape)\n",
    "    for start_state in range(nT):\n",
    "        for pred_state in range(start_state+1,nT-start_state):\n",
    "            n_fwd = pred_state-start_state \n",
    "            err += predict(M,x[start_state],x[pred_state],n_fwd,dim)\n",
    "            k += 1\n",
    "    mse = err/k\n",
    "    print(mse)\n",
    "    return mse\n"
   ]
  },
  {
   "cell_type": "code",
   "execution_count": 110,
   "metadata": {},
   "outputs": [
    {
     "data": {
      "text/plain": [
       "(9, 4, 1)"
      ]
     },
     "execution_count": 110,
     "metadata": {},
     "output_type": "execute_result"
    }
   ],
   "source": [
    "x.shape"
   ]
  },
  {
   "cell_type": "code",
   "execution_count": 111,
   "metadata": {},
   "outputs": [
    {
     "data": {
      "text/plain": [
       "array([[-0.25818356, -0.03906336,  0.3074596 ,  0.91503218],\n",
       "       [-0.22307136,  0.79814255,  0.52115228, -0.20398026],\n",
       "       [ 0.70860482, -0.24247544,  0.66182291, -0.03279184],\n",
       "       [-0.61762418, -0.5501347 ,  0.44255998, -0.34645758]])"
      ]
     },
     "execution_count": 111,
     "metadata": {},
     "output_type": "execute_result"
    }
   ],
   "source": [
    "A"
   ]
  },
  {
   "cell_type": "code",
   "execution_count": 112,
   "metadata": {},
   "outputs": [],
   "source": [
    "grad_predict_all = grad(predict_all)"
   ]
  },
  {
   "cell_type": "code",
   "execution_count": 113,
   "metadata": {},
   "outputs": [
    {
     "ename": "ValueError",
     "evalue": "Size of label 'i' for operand 1 (3) does not match previous terms (6).",
     "output_type": "error",
     "traceback": [
      "\u001b[0;31m---------------------------------------------------------------------------\u001b[0m",
      "\u001b[0;31mUnfilteredStackTrace\u001b[0m                      Traceback (most recent call last)",
      "\u001b[0;32m<ipython-input-113-836faa625a8b>\u001b[0m in \u001b[0;36m<module>\u001b[0;34m\u001b[0m\n\u001b[0;32m----> 1\u001b[0;31m \u001b[0ma\u001b[0m \u001b[0;34m=\u001b[0m \u001b[0mgrad_predict_all\u001b[0m\u001b[0;34m(\u001b[0m\u001b[0mjnp\u001b[0m\u001b[0;34m.\u001b[0m\u001b[0marray\u001b[0m\u001b[0;34m(\u001b[0m\u001b[0mres\u001b[0m\u001b[0;34m.\u001b[0m\u001b[0mx\u001b[0m\u001b[0;34m)\u001b[0m\u001b[0;34m,\u001b[0m\u001b[0mx\u001b[0m\u001b[0;34m,\u001b[0m\u001b[0mdim\u001b[0m\u001b[0;34m,\u001b[0m\u001b[0mbasis_tensor\u001b[0m\u001b[0;34m)\u001b[0m\u001b[0;34m\u001b[0m\u001b[0;34m\u001b[0m\u001b[0m\n\u001b[0m",
      "\u001b[0;32m~/opt/anaconda3/lib/python3.7/site-packages/jax/_src/traceback_util.py\u001b[0m in \u001b[0;36mreraise_with_filtered_traceback\u001b[0;34m(*args, **kwargs)\u001b[0m\n\u001b[1;32m    161\u001b[0m     \u001b[0;32mtry\u001b[0m\u001b[0;34m:\u001b[0m\u001b[0;34m\u001b[0m\u001b[0;34m\u001b[0m\u001b[0m\n\u001b[0;32m--> 162\u001b[0;31m       \u001b[0;32mreturn\u001b[0m \u001b[0mfun\u001b[0m\u001b[0;34m(\u001b[0m\u001b[0;34m*\u001b[0m\u001b[0margs\u001b[0m\u001b[0;34m,\u001b[0m \u001b[0;34m**\u001b[0m\u001b[0mkwargs\u001b[0m\u001b[0;34m)\u001b[0m\u001b[0;34m\u001b[0m\u001b[0;34m\u001b[0m\u001b[0m\n\u001b[0m\u001b[1;32m    163\u001b[0m     \u001b[0;32mexcept\u001b[0m \u001b[0mException\u001b[0m \u001b[0;32mas\u001b[0m \u001b[0me\u001b[0m\u001b[0;34m:\u001b[0m\u001b[0;34m\u001b[0m\u001b[0;34m\u001b[0m\u001b[0m\n",
      "\u001b[0;32m~/opt/anaconda3/lib/python3.7/site-packages/jax/_src/api.py\u001b[0m in \u001b[0;36mgrad_f\u001b[0;34m(*args, **kwargs)\u001b[0m\n\u001b[1;32m    917\u001b[0m   \u001b[0;32mdef\u001b[0m \u001b[0mgrad_f\u001b[0m\u001b[0;34m(\u001b[0m\u001b[0;34m*\u001b[0m\u001b[0margs\u001b[0m\u001b[0;34m,\u001b[0m \u001b[0;34m**\u001b[0m\u001b[0mkwargs\u001b[0m\u001b[0;34m)\u001b[0m\u001b[0;34m:\u001b[0m\u001b[0;34m\u001b[0m\u001b[0;34m\u001b[0m\u001b[0m\n\u001b[0;32m--> 918\u001b[0;31m     \u001b[0m_\u001b[0m\u001b[0;34m,\u001b[0m \u001b[0mg\u001b[0m \u001b[0;34m=\u001b[0m \u001b[0mvalue_and_grad_f\u001b[0m\u001b[0;34m(\u001b[0m\u001b[0;34m*\u001b[0m\u001b[0margs\u001b[0m\u001b[0;34m,\u001b[0m \u001b[0;34m**\u001b[0m\u001b[0mkwargs\u001b[0m\u001b[0;34m)\u001b[0m\u001b[0;34m\u001b[0m\u001b[0;34m\u001b[0m\u001b[0m\n\u001b[0m\u001b[1;32m    919\u001b[0m     \u001b[0;32mreturn\u001b[0m \u001b[0mg\u001b[0m\u001b[0;34m\u001b[0m\u001b[0;34m\u001b[0m\u001b[0m\n",
      "\u001b[0;32m~/opt/anaconda3/lib/python3.7/site-packages/jax/_src/traceback_util.py\u001b[0m in \u001b[0;36mreraise_with_filtered_traceback\u001b[0;34m(*args, **kwargs)\u001b[0m\n\u001b[1;32m    161\u001b[0m     \u001b[0;32mtry\u001b[0m\u001b[0;34m:\u001b[0m\u001b[0;34m\u001b[0m\u001b[0;34m\u001b[0m\u001b[0m\n\u001b[0;32m--> 162\u001b[0;31m       \u001b[0;32mreturn\u001b[0m \u001b[0mfun\u001b[0m\u001b[0;34m(\u001b[0m\u001b[0;34m*\u001b[0m\u001b[0margs\u001b[0m\u001b[0;34m,\u001b[0m \u001b[0;34m**\u001b[0m\u001b[0mkwargs\u001b[0m\u001b[0;34m)\u001b[0m\u001b[0;34m\u001b[0m\u001b[0;34m\u001b[0m\u001b[0m\n\u001b[0m\u001b[1;32m    163\u001b[0m     \u001b[0;32mexcept\u001b[0m \u001b[0mException\u001b[0m \u001b[0;32mas\u001b[0m \u001b[0me\u001b[0m\u001b[0;34m:\u001b[0m\u001b[0;34m\u001b[0m\u001b[0;34m\u001b[0m\u001b[0m\n",
      "\u001b[0;32m~/opt/anaconda3/lib/python3.7/site-packages/jax/_src/api.py\u001b[0m in \u001b[0;36mvalue_and_grad_f\u001b[0;34m(*args, **kwargs)\u001b[0m\n\u001b[1;32m    992\u001b[0m     \u001b[0;32mif\u001b[0m \u001b[0;32mnot\u001b[0m \u001b[0mhas_aux\u001b[0m\u001b[0;34m:\u001b[0m\u001b[0;34m\u001b[0m\u001b[0;34m\u001b[0m\u001b[0m\n\u001b[0;32m--> 993\u001b[0;31m       \u001b[0mans\u001b[0m\u001b[0;34m,\u001b[0m \u001b[0mvjp_py\u001b[0m \u001b[0;34m=\u001b[0m \u001b[0m_vjp\u001b[0m\u001b[0;34m(\u001b[0m\u001b[0mf_partial\u001b[0m\u001b[0;34m,\u001b[0m \u001b[0;34m*\u001b[0m\u001b[0mdyn_args\u001b[0m\u001b[0;34m,\u001b[0m \u001b[0mreduce_axes\u001b[0m\u001b[0;34m=\u001b[0m\u001b[0mreduce_axes\u001b[0m\u001b[0;34m)\u001b[0m\u001b[0;34m\u001b[0m\u001b[0;34m\u001b[0m\u001b[0m\n\u001b[0m\u001b[1;32m    994\u001b[0m     \u001b[0;32melse\u001b[0m\u001b[0;34m:\u001b[0m\u001b[0;34m\u001b[0m\u001b[0;34m\u001b[0m\u001b[0m\n",
      "\u001b[0;32m~/opt/anaconda3/lib/python3.7/site-packages/jax/_src/api.py\u001b[0m in \u001b[0;36m_vjp\u001b[0;34m(fun, has_aux, reduce_axes, *primals)\u001b[0m\n\u001b[1;32m   2312\u001b[0m     out_primal, out_vjp = ad.vjp(\n\u001b[0;32m-> 2313\u001b[0;31m         flat_fun, primals_flat, reduce_axes=reduce_axes)\n\u001b[0m\u001b[1;32m   2314\u001b[0m     \u001b[0mout_tree\u001b[0m \u001b[0;34m=\u001b[0m \u001b[0mout_tree\u001b[0m\u001b[0;34m(\u001b[0m\u001b[0;34m)\u001b[0m\u001b[0;34m\u001b[0m\u001b[0;34m\u001b[0m\u001b[0m\n",
      "\u001b[0;32m~/opt/anaconda3/lib/python3.7/site-packages/jax/interpreters/ad.py\u001b[0m in \u001b[0;36mvjp\u001b[0;34m(traceable, primals, has_aux, reduce_axes)\u001b[0m\n\u001b[1;32m    115\u001b[0m   \u001b[0;32mif\u001b[0m \u001b[0;32mnot\u001b[0m \u001b[0mhas_aux\u001b[0m\u001b[0;34m:\u001b[0m\u001b[0;34m\u001b[0m\u001b[0;34m\u001b[0m\u001b[0m\n\u001b[0;32m--> 116\u001b[0;31m     \u001b[0mout_primals\u001b[0m\u001b[0;34m,\u001b[0m \u001b[0mpvals\u001b[0m\u001b[0;34m,\u001b[0m \u001b[0mjaxpr\u001b[0m\u001b[0;34m,\u001b[0m \u001b[0mconsts\u001b[0m \u001b[0;34m=\u001b[0m \u001b[0mlinearize\u001b[0m\u001b[0;34m(\u001b[0m\u001b[0mtraceable\u001b[0m\u001b[0;34m,\u001b[0m \u001b[0;34m*\u001b[0m\u001b[0mprimals\u001b[0m\u001b[0;34m)\u001b[0m\u001b[0;34m\u001b[0m\u001b[0;34m\u001b[0m\u001b[0m\n\u001b[0m\u001b[1;32m    117\u001b[0m   \u001b[0;32melse\u001b[0m\u001b[0;34m:\u001b[0m\u001b[0;34m\u001b[0m\u001b[0;34m\u001b[0m\u001b[0m\n",
      "\u001b[0;32m~/opt/anaconda3/lib/python3.7/site-packages/jax/interpreters/ad.py\u001b[0m in \u001b[0;36mlinearize\u001b[0;34m(traceable, *primals, **kwargs)\u001b[0m\n\u001b[1;32m    102\u001b[0m   \u001b[0mjvpfun_flat\u001b[0m\u001b[0;34m,\u001b[0m \u001b[0mout_tree\u001b[0m \u001b[0;34m=\u001b[0m \u001b[0mflatten_fun\u001b[0m\u001b[0;34m(\u001b[0m\u001b[0mjvpfun\u001b[0m\u001b[0;34m,\u001b[0m \u001b[0min_tree\u001b[0m\u001b[0;34m)\u001b[0m\u001b[0;34m\u001b[0m\u001b[0;34m\u001b[0m\u001b[0m\n\u001b[0;32m--> 103\u001b[0;31m   \u001b[0mjaxpr\u001b[0m\u001b[0;34m,\u001b[0m \u001b[0mout_pvals\u001b[0m\u001b[0;34m,\u001b[0m \u001b[0mconsts\u001b[0m \u001b[0;34m=\u001b[0m \u001b[0mpe\u001b[0m\u001b[0;34m.\u001b[0m\u001b[0mtrace_to_jaxpr\u001b[0m\u001b[0;34m(\u001b[0m\u001b[0mjvpfun_flat\u001b[0m\u001b[0;34m,\u001b[0m \u001b[0min_pvals\u001b[0m\u001b[0;34m)\u001b[0m\u001b[0;34m\u001b[0m\u001b[0;34m\u001b[0m\u001b[0m\n\u001b[0m\u001b[1;32m    104\u001b[0m   \u001b[0mout_primals_pvals\u001b[0m\u001b[0;34m,\u001b[0m \u001b[0mout_tangents_pvals\u001b[0m \u001b[0;34m=\u001b[0m \u001b[0mtree_unflatten\u001b[0m\u001b[0;34m(\u001b[0m\u001b[0mout_tree\u001b[0m\u001b[0;34m(\u001b[0m\u001b[0;34m)\u001b[0m\u001b[0;34m,\u001b[0m \u001b[0mout_pvals\u001b[0m\u001b[0;34m)\u001b[0m\u001b[0;34m\u001b[0m\u001b[0;34m\u001b[0m\u001b[0m\n",
      "\u001b[0;32m~/opt/anaconda3/lib/python3.7/site-packages/jax/interpreters/partial_eval.py\u001b[0m in \u001b[0;36mtrace_to_jaxpr\u001b[0;34m(fun, pvals, instantiate)\u001b[0m\n\u001b[1;32m    512\u001b[0m     \u001b[0mfun\u001b[0m \u001b[0;34m=\u001b[0m \u001b[0mtrace_to_subjaxpr\u001b[0m\u001b[0;34m(\u001b[0m\u001b[0mfun\u001b[0m\u001b[0;34m,\u001b[0m \u001b[0mmain\u001b[0m\u001b[0;34m,\u001b[0m \u001b[0minstantiate\u001b[0m\u001b[0;34m)\u001b[0m\u001b[0;34m\u001b[0m\u001b[0;34m\u001b[0m\u001b[0m\n\u001b[0;32m--> 513\u001b[0;31m     \u001b[0mjaxpr\u001b[0m\u001b[0;34m,\u001b[0m \u001b[0;34m(\u001b[0m\u001b[0mout_pvals\u001b[0m\u001b[0;34m,\u001b[0m \u001b[0mconsts\u001b[0m\u001b[0;34m,\u001b[0m \u001b[0menv\u001b[0m\u001b[0;34m)\u001b[0m \u001b[0;34m=\u001b[0m \u001b[0mfun\u001b[0m\u001b[0;34m.\u001b[0m\u001b[0mcall_wrapped\u001b[0m\u001b[0;34m(\u001b[0m\u001b[0mpvals\u001b[0m\u001b[0;34m)\u001b[0m\u001b[0;34m\u001b[0m\u001b[0;34m\u001b[0m\u001b[0m\n\u001b[0m\u001b[1;32m    514\u001b[0m     \u001b[0;32massert\u001b[0m \u001b[0;32mnot\u001b[0m \u001b[0menv\u001b[0m\u001b[0;34m\u001b[0m\u001b[0;34m\u001b[0m\u001b[0m\n",
      "\u001b[0;32m~/opt/anaconda3/lib/python3.7/site-packages/jax/linear_util.py\u001b[0m in \u001b[0;36mcall_wrapped\u001b[0;34m(self, *args, **kwargs)\u001b[0m\n\u001b[1;32m    165\u001b[0m     \u001b[0;32mtry\u001b[0m\u001b[0;34m:\u001b[0m\u001b[0;34m\u001b[0m\u001b[0;34m\u001b[0m\u001b[0m\n\u001b[0;32m--> 166\u001b[0;31m       \u001b[0mans\u001b[0m \u001b[0;34m=\u001b[0m \u001b[0mself\u001b[0m\u001b[0;34m.\u001b[0m\u001b[0mf\u001b[0m\u001b[0;34m(\u001b[0m\u001b[0;34m*\u001b[0m\u001b[0margs\u001b[0m\u001b[0;34m,\u001b[0m \u001b[0;34m**\u001b[0m\u001b[0mdict\u001b[0m\u001b[0;34m(\u001b[0m\u001b[0mself\u001b[0m\u001b[0;34m.\u001b[0m\u001b[0mparams\u001b[0m\u001b[0;34m,\u001b[0m \u001b[0;34m**\u001b[0m\u001b[0mkwargs\u001b[0m\u001b[0;34m)\u001b[0m\u001b[0;34m)\u001b[0m\u001b[0;34m\u001b[0m\u001b[0;34m\u001b[0m\u001b[0m\n\u001b[0m\u001b[1;32m    167\u001b[0m     \u001b[0;32mexcept\u001b[0m\u001b[0;34m:\u001b[0m\u001b[0;34m\u001b[0m\u001b[0;34m\u001b[0m\u001b[0m\n",
      "\u001b[0;32m<ipython-input-109-ac7ea84d1cdb>\u001b[0m in \u001b[0;36mpredict_all\u001b[0;34m(params, x, dim, basis_tensor)\u001b[0m\n\u001b[1;32m      5\u001b[0m     \u001b[0mk\u001b[0m \u001b[0;34m=\u001b[0m \u001b[0;36m0\u001b[0m\u001b[0;34m\u001b[0m\u001b[0;34m\u001b[0m\u001b[0m\n\u001b[0;32m----> 6\u001b[0;31m     \u001b[0mskewM\u001b[0m \u001b[0;34m=\u001b[0m \u001b[0mjnp\u001b[0m\u001b[0;34m.\u001b[0m\u001b[0meinsum\u001b[0m\u001b[0;34m(\u001b[0m\u001b[0;34m'i...,i...'\u001b[0m\u001b[0;34m,\u001b[0m\u001b[0mparams\u001b[0m\u001b[0;34m,\u001b[0m\u001b[0mbasis_tensor\u001b[0m\u001b[0;34m)\u001b[0m\u001b[0;34m\u001b[0m\u001b[0;34m\u001b[0m\u001b[0m\n\u001b[0m\u001b[1;32m      7\u001b[0m     \u001b[0mM\u001b[0m \u001b[0;34m=\u001b[0m \u001b[0mcaley_transform\u001b[0m\u001b[0;34m(\u001b[0m\u001b[0mskewM\u001b[0m\u001b[0;34m,\u001b[0m\u001b[0mdim\u001b[0m\u001b[0;34m)\u001b[0m\u001b[0;34m\u001b[0m\u001b[0;34m\u001b[0m\u001b[0m\n",
      "\u001b[0;32m~/opt/anaconda3/lib/python3.7/site-packages/jax/_src/numpy/lax_numpy.py\u001b[0m in \u001b[0;36meinsum\u001b[0;34m(out, optimize, precision, _use_xeinsum, *operands)\u001b[0m\n\u001b[1;32m   4931\u001b[0m   operands, contractions = einsum_contract_path_fn(\n\u001b[0;32m-> 4932\u001b[0;31m         *operands, einsum_call=True, use_blas=True, optimize=optimize)\n\u001b[0m\u001b[1;32m   4933\u001b[0m \u001b[0;34m\u001b[0m\u001b[0m\n",
      "\u001b[0;32m~/opt/anaconda3/lib/python3.7/site-packages/opt_einsum/contract.py\u001b[0m in \u001b[0;36mcontract_path\u001b[0;34m(*operands, **kwargs)\u001b[0m\n\u001b[1;32m    238\u001b[0m                     raise ValueError(\"Size of label '{}' for operand {} ({}) does not match previous \"\n\u001b[0;32m--> 239\u001b[0;31m                                      \"terms ({}).\".format(char, tnum, size_dict[char], dim))\n\u001b[0m\u001b[1;32m    240\u001b[0m             \u001b[0;32melse\u001b[0m\u001b[0;34m:\u001b[0m\u001b[0;34m\u001b[0m\u001b[0;34m\u001b[0m\u001b[0m\n",
      "\u001b[0;31mUnfilteredStackTrace\u001b[0m: ValueError: Size of label 'i' for operand 1 (3) does not match previous terms (6).\n\nThe stack trace below excludes JAX-internal frames.\nThe preceding is the original exception that occurred, unmodified.\n\n--------------------",
      "\nThe above exception was the direct cause of the following exception:\n",
      "\u001b[0;31mValueError\u001b[0m                                Traceback (most recent call last)",
      "\u001b[0;32m<ipython-input-113-836faa625a8b>\u001b[0m in \u001b[0;36m<module>\u001b[0;34m\u001b[0m\n\u001b[0;32m----> 1\u001b[0;31m \u001b[0ma\u001b[0m \u001b[0;34m=\u001b[0m \u001b[0mgrad_predict_all\u001b[0m\u001b[0;34m(\u001b[0m\u001b[0mjnp\u001b[0m\u001b[0;34m.\u001b[0m\u001b[0marray\u001b[0m\u001b[0;34m(\u001b[0m\u001b[0mres\u001b[0m\u001b[0;34m.\u001b[0m\u001b[0mx\u001b[0m\u001b[0;34m)\u001b[0m\u001b[0;34m,\u001b[0m\u001b[0mx\u001b[0m\u001b[0;34m,\u001b[0m\u001b[0mdim\u001b[0m\u001b[0;34m,\u001b[0m\u001b[0mbasis_tensor\u001b[0m\u001b[0;34m)\u001b[0m\u001b[0;34m\u001b[0m\u001b[0;34m\u001b[0m\u001b[0m\n\u001b[0m",
      "\u001b[0;32m<ipython-input-109-ac7ea84d1cdb>\u001b[0m in \u001b[0;36mpredict_all\u001b[0;34m(params, x, dim, basis_tensor)\u001b[0m\n\u001b[1;32m      4\u001b[0m     \u001b[0mnT\u001b[0m \u001b[0;34m=\u001b[0m \u001b[0mlen\u001b[0m\u001b[0;34m(\u001b[0m\u001b[0mx\u001b[0m\u001b[0;34m)\u001b[0m\u001b[0;34m\u001b[0m\u001b[0;34m\u001b[0m\u001b[0m\n\u001b[1;32m      5\u001b[0m     \u001b[0mk\u001b[0m \u001b[0;34m=\u001b[0m \u001b[0;36m0\u001b[0m\u001b[0;34m\u001b[0m\u001b[0;34m\u001b[0m\u001b[0m\n\u001b[0;32m----> 6\u001b[0;31m     \u001b[0mskewM\u001b[0m \u001b[0;34m=\u001b[0m \u001b[0mjnp\u001b[0m\u001b[0;34m.\u001b[0m\u001b[0meinsum\u001b[0m\u001b[0;34m(\u001b[0m\u001b[0;34m'i...,i...'\u001b[0m\u001b[0;34m,\u001b[0m\u001b[0mparams\u001b[0m\u001b[0;34m,\u001b[0m\u001b[0mbasis_tensor\u001b[0m\u001b[0;34m)\u001b[0m\u001b[0;34m\u001b[0m\u001b[0;34m\u001b[0m\u001b[0m\n\u001b[0m\u001b[1;32m      7\u001b[0m     \u001b[0mM\u001b[0m \u001b[0;34m=\u001b[0m \u001b[0mcaley_transform\u001b[0m\u001b[0;34m(\u001b[0m\u001b[0mskewM\u001b[0m\u001b[0;34m,\u001b[0m\u001b[0mdim\u001b[0m\u001b[0;34m)\u001b[0m\u001b[0;34m\u001b[0m\u001b[0;34m\u001b[0m\u001b[0m\n\u001b[1;32m      8\u001b[0m     \u001b[0;31m#print(M.shape)\u001b[0m\u001b[0;34m\u001b[0m\u001b[0;34m\u001b[0m\u001b[0;34m\u001b[0m\u001b[0m\n",
      "\u001b[0;32m~/opt/anaconda3/lib/python3.7/site-packages/jax/_src/numpy/lax_numpy.py\u001b[0m in \u001b[0;36meinsum\u001b[0;34m(out, optimize, precision, _use_xeinsum, *operands)\u001b[0m\n\u001b[1;32m   4930\u001b[0m     \u001b[0meinsum_contract_path_fn\u001b[0m \u001b[0;34m=\u001b[0m \u001b[0m_polymorphic_einsum_contract_path_handlers\u001b[0m\u001b[0;34m[\u001b[0m\u001b[0mnext\u001b[0m\u001b[0;34m(\u001b[0m\u001b[0miter\u001b[0m\u001b[0;34m(\u001b[0m\u001b[0mnon_constant_dim_types\u001b[0m\u001b[0;34m)\u001b[0m\u001b[0;34m)\u001b[0m\u001b[0;34m]\u001b[0m\u001b[0;34m\u001b[0m\u001b[0;34m\u001b[0m\u001b[0m\n\u001b[1;32m   4931\u001b[0m   operands, contractions = einsum_contract_path_fn(\n\u001b[0;32m-> 4932\u001b[0;31m         *operands, einsum_call=True, use_blas=True, optimize=optimize)\n\u001b[0m\u001b[1;32m   4933\u001b[0m \u001b[0;34m\u001b[0m\u001b[0m\n\u001b[1;32m   4934\u001b[0m   \u001b[0mcontractions\u001b[0m \u001b[0;34m=\u001b[0m \u001b[0mtuple\u001b[0m\u001b[0;34m(\u001b[0m\u001b[0;34m(\u001b[0m\u001b[0ma\u001b[0m\u001b[0;34m,\u001b[0m \u001b[0mfrozenset\u001b[0m\u001b[0;34m(\u001b[0m\u001b[0mb\u001b[0m\u001b[0;34m)\u001b[0m\u001b[0;34m,\u001b[0m \u001b[0mc\u001b[0m\u001b[0;34m)\u001b[0m \u001b[0;32mfor\u001b[0m \u001b[0ma\u001b[0m\u001b[0;34m,\u001b[0m \u001b[0mb\u001b[0m\u001b[0;34m,\u001b[0m \u001b[0mc\u001b[0m\u001b[0;34m,\u001b[0m \u001b[0;34m*\u001b[0m\u001b[0m_\u001b[0m \u001b[0;32min\u001b[0m \u001b[0mcontractions\u001b[0m\u001b[0;34m)\u001b[0m\u001b[0;34m\u001b[0m\u001b[0;34m\u001b[0m\u001b[0m\n",
      "\u001b[0;32m~/opt/anaconda3/lib/python3.7/site-packages/opt_einsum/contract.py\u001b[0m in \u001b[0;36mcontract_path\u001b[0;34m(*operands, **kwargs)\u001b[0m\n\u001b[1;32m    237\u001b[0m                 \u001b[0;32melif\u001b[0m \u001b[0mdim\u001b[0m \u001b[0;32mnot\u001b[0m \u001b[0;32min\u001b[0m \u001b[0;34m(\u001b[0m\u001b[0;36m1\u001b[0m\u001b[0;34m,\u001b[0m \u001b[0msize_dict\u001b[0m\u001b[0;34m[\u001b[0m\u001b[0mchar\u001b[0m\u001b[0;34m]\u001b[0m\u001b[0;34m)\u001b[0m\u001b[0;34m:\u001b[0m\u001b[0;34m\u001b[0m\u001b[0;34m\u001b[0m\u001b[0m\n\u001b[1;32m    238\u001b[0m                     raise ValueError(\"Size of label '{}' for operand {} ({}) does not match previous \"\n\u001b[0;32m--> 239\u001b[0;31m                                      \"terms ({}).\".format(char, tnum, size_dict[char], dim))\n\u001b[0m\u001b[1;32m    240\u001b[0m             \u001b[0;32melse\u001b[0m\u001b[0;34m:\u001b[0m\u001b[0;34m\u001b[0m\u001b[0;34m\u001b[0m\u001b[0m\n\u001b[1;32m    241\u001b[0m                 \u001b[0msize_dict\u001b[0m\u001b[0;34m[\u001b[0m\u001b[0mchar\u001b[0m\u001b[0;34m]\u001b[0m \u001b[0;34m=\u001b[0m \u001b[0mdim\u001b[0m\u001b[0;34m\u001b[0m\u001b[0;34m\u001b[0m\u001b[0m\n",
      "\u001b[0;31mValueError\u001b[0m: Size of label 'i' for operand 1 (3) does not match previous terms (6)."
     ]
    }
   ],
   "source": [
    "a = grad_predict_all(jnp.array(res.x),x,dim,basis_tensor)"
   ]
  },
  {
   "cell_type": "code",
   "execution_count": 114,
   "metadata": {},
   "outputs": [
    {
     "data": {
      "text/plain": [
       "array([[ 1.40950832],\n",
       "       [-2.45655622],\n",
       "       [-0.97976705],\n",
       "       [ 2.28109521],\n",
       "       [-1.57091309]])"
      ]
     },
     "execution_count": 114,
     "metadata": {},
     "output_type": "execute_result"
    }
   ],
   "source": [
    "a"
   ]
  },
  {
   "cell_type": "code",
   "execution_count": 115,
   "metadata": {},
   "outputs": [],
   "source": [
    "def grad_wrapper(params,x,dim,basis_tensor):\n",
    "    grad = grad_predict_all(jnp.array(params),x,dim,basis_tensor)\n",
    "    grad = np.array(grad)\n",
    "    print(grad)\n",
    "    return grad"
   ]
  },
  {
   "cell_type": "markdown",
   "metadata": {},
   "source": [
    "## Generate Data"
   ]
  },
  {
   "cell_type": "code",
   "execution_count": 116,
   "metadata": {},
   "outputs": [],
   "source": [
    "dim = 3\n",
    "nT = 9\n",
    "\n",
    "frac = .3\n",
    "\n",
    "x0 = np.random.normal(size=(dim,1))\n",
    "A_ = np.random.normal(size=(dim,dim))\n",
    "\n",
    "A = np.zeros([dim,dim])\n",
    "\n",
    "for i in range(dim):\n",
    "    A[i,i:] = A_[i:,i]\n",
    "    A[i:,i] = -A_[i:,i]\n",
    "    \n",
    "A[np.diag_indices_from(A)] = 0\n",
    "A = (np.eye(dim)-A)@np.linalg.inv(np.eye(dim)+A)\n",
    "\n",
    "x = np.array([np.linalg.matrix_power(A,i)@x0 for i in range(nT)])\n",
    "\n",
    "x = frac*x + (1-frac)*np.random.normal(size=x.shape)\n",
    "\n",
    "basis_tensor = get_basis_tensor(dim)\n",
    "n_bases = basis_tensor.shape[0]"
   ]
  },
  {
   "cell_type": "code",
   "execution_count": 117,
   "metadata": {},
   "outputs": [],
   "source": [
    "I = np.eye(dim)\n",
    "skewORG = (I-A)@np.linalg.inv(I+A)"
   ]
  },
  {
   "cell_type": "code",
   "execution_count": null,
   "metadata": {},
   "outputs": [],
   "source": []
  },
  {
   "cell_type": "code",
   "execution_count": 118,
   "metadata": {},
   "outputs": [],
   "source": [
    "params = []\n",
    "\n",
    "n = skewORG.shape[0]\n",
    "for i in range(n):\n",
    "    for j in range(i+1,n):\n",
    "        params.append(skewORG[i,j])\n",
    "    "
   ]
  },
  {
   "cell_type": "code",
   "execution_count": 119,
   "metadata": {},
   "outputs": [
    {
     "data": {
      "text/plain": [
       "[-0.9715445987522557, 1.076800995929212, -0.9457779579113131]"
      ]
     },
     "execution_count": 119,
     "metadata": {},
     "output_type": "execute_result"
    }
   ],
   "source": [
    "params"
   ]
  },
  {
   "cell_type": "code",
   "execution_count": 120,
   "metadata": {},
   "outputs": [
    {
     "name": "stdout",
     "output_type": "stream",
     "text": [
      "1.5497468\n"
     ]
    },
    {
     "data": {
      "text/plain": [
       "DeviceArray(1.5497468, dtype=float32)"
      ]
     },
     "execution_count": 120,
     "metadata": {},
     "output_type": "execute_result"
    }
   ],
   "source": [
    "predict_all(params,x,dim,basis_tensor)"
   ]
  },
  {
   "cell_type": "code",
   "execution_count": 121,
   "metadata": {},
   "outputs": [],
   "source": [
    "basis_tensor = get_basis_tensor(dim)\n",
    "n_bases = basis_tensor.shape[0]"
   ]
  },
  {
   "cell_type": "code",
   "execution_count": 122,
   "metadata": {},
   "outputs": [],
   "source": [
    "grad_predict_all = grad(predict_all)"
   ]
  },
  {
   "cell_type": "code",
   "execution_count": 123,
   "metadata": {},
   "outputs": [],
   "source": [
    "#np.einsum('i...,i...',params,basis_tensor)"
   ]
  },
  {
   "cell_type": "code",
   "execution_count": 124,
   "metadata": {},
   "outputs": [],
   "source": [
    "#out = op.brute(predict_all,\n",
    "#               [(0,1)]*3,\n",
    "#               (x,dim,basis_tensor))"
   ]
  },
  {
   "cell_type": "code",
   "execution_count": 140,
   "metadata": {
    "scrolled": true
   },
   "outputs": [
    {
     "name": "stdout",
     "output_type": "stream",
     "text": [
      "1.726786\n",
      "Traced<ConcreteArray(1.7267860174179077, dtype=float32)>with<JVPTrace(level=2/0)> with\n",
      "  primal = DeviceArray(1.726786, dtype=float32)\n",
      "  tangent = Traced<ShapedArray(float32[])>with<JaxprTrace(level=1/0)> with\n",
      "    pval = (ShapedArray(float32[]), *)\n",
      "    recipe = JaxprEqnRecipe(eqn_id=<object object at 0x7f87e9e13630>, invars=(Traced<ConcreteArray(20.0, dtype=float32):JaxprTrace(level=1/0)>, Traced<ShapedArray(float32[]):JaxprTrace(level=1/0)>), outvars=[<weakref at 0x7f87a8a49650; to 'JaxprTracer' at 0x7f87a8a49830>], primitive=xla_call, params={'device': None, 'backend': None, 'name': 'jvp(true_divide)', 'donated_invars': (False, False), 'inline': True, 'call_jaxpr': { lambda ; a:f32[] b:f32[]. let c:f32[] = div b a in (c,) }}, source_info=<jaxlib.xla_extension.Traceback object at 0x7f87d85df530>)\n",
      "[-0.3294391  -0.11157173  0.02657962]\n",
      "1.672121\n",
      "Traced<ConcreteArray(1.6721210479736328, dtype=float32)>with<JVPTrace(level=2/0)> with\n",
      "  primal = DeviceArray(1.672121, dtype=float32)\n",
      "  tangent = Traced<ShapedArray(float32[])>with<JaxprTrace(level=1/0)> with\n",
      "    pval = (ShapedArray(float32[]), *)\n",
      "    recipe = JaxprEqnRecipe(eqn_id=<object object at 0x7f87e9e05660>, invars=(Traced<ConcreteArray(20.0, dtype=float32):JaxprTrace(level=1/0)>, Traced<ShapedArray(float32[]):JaxprTrace(level=1/0)>), outvars=[<weakref at 0x7f87a8a699b0; to 'JaxprTracer' at 0x7f87a8a69050>], primitive=xla_call, params={'device': None, 'backend': None, 'name': 'jvp(true_divide)', 'donated_invars': (False, False), 'inline': True, 'call_jaxpr': { lambda ; a:f32[] b:f32[]. let c:f32[] = div b a in (c,) }}, source_info=<jaxlib.xla_extension.Traceback object at 0x7f87e9b237f0>)\n",
      "[-0.00101465  0.16122705  0.15064198]\n",
      "1.6379566\n",
      "Traced<ConcreteArray(1.6379563808441162, dtype=float32)>with<JVPTrace(level=2/0)> with\n",
      "  primal = DeviceArray(1.6379564, dtype=float32)\n",
      "  tangent = Traced<ShapedArray(float32[])>with<JaxprTrace(level=1/0)> with\n",
      "    pval = (ShapedArray(float32[]), *)\n",
      "    recipe = JaxprEqnRecipe(eqn_id=<object object at 0x7f87d88ec660>, invars=(Traced<ConcreteArray(20.0, dtype=float32):JaxprTrace(level=1/0)>, Traced<ShapedArray(float32[]):JaxprTrace(level=1/0)>), outvars=[<weakref at 0x7f87e9ee4ad0; to 'JaxprTracer' at 0x7f87e90f1f50>], primitive=xla_call, params={'device': None, 'backend': None, 'name': 'jvp(true_divide)', 'donated_invars': (False, False), 'inline': True, 'call_jaxpr': { lambda ; a:f32[] b:f32[]. let c:f32[] = div b a in (c,) }}, source_info=<jaxlib.xla_extension.Traceback object at 0x7f87e95dc0b0>)\n",
      "[0.01704098 0.11751509 0.12309611]\n",
      "1.5954558\n",
      "Traced<ConcreteArray(1.5954557657241821, dtype=float32)>with<JVPTrace(level=2/0)> with\n",
      "  primal = DeviceArray(1.5954558, dtype=float32)\n",
      "  tangent = Traced<ShapedArray(float32[])>with<JaxprTrace(level=1/0)> with\n",
      "    pval = (ShapedArray(float32[]), *)\n",
      "    recipe = JaxprEqnRecipe(eqn_id=<object object at 0x7f87e9e13660>, invars=(Traced<ConcreteArray(20.0, dtype=float32):JaxprTrace(level=1/0)>, Traced<ShapedArray(float32[]):JaxprTrace(level=1/0)>), outvars=[<weakref at 0x7f87e9a77ad0; to 'JaxprTracer' at 0x7f87e9a77b30>], primitive=xla_call, params={'device': None, 'backend': None, 'name': 'jvp(true_divide)', 'donated_invars': (False, False), 'inline': True, 'call_jaxpr': { lambda ; a:f32[] b:f32[]. let c:f32[] = div b a in (c,) }}, source_info=<jaxlib.xla_extension.Traceback object at 0x7f87d860d6b0>)\n",
      "[0.11009344 0.03955598 0.06756324]\n",
      "1.5768279\n",
      "Traced<ConcreteArray(1.576827883720398, dtype=float32)>with<JVPTrace(level=2/0)> with\n",
      "  primal = DeviceArray(1.5768279, dtype=float32)\n",
      "  tangent = Traced<ShapedArray(float32[])>with<JaxprTrace(level=1/0)> with\n",
      "    pval = (ShapedArray(float32[]), *)\n",
      "    recipe = JaxprEqnRecipe(eqn_id=<object object at 0x7f87e9e0a660>, invars=(Traced<ConcreteArray(20.0, dtype=float32):JaxprTrace(level=1/0)>, Traced<ShapedArray(float32[]):JaxprTrace(level=1/0)>), outvars=[<weakref at 0x7f87d8534b90; to 'JaxprTracer' at 0x7f87d8534530>], primitive=xla_call, params={'device': None, 'backend': None, 'name': 'jvp(true_divide)', 'donated_invars': (False, False), 'inline': True, 'call_jaxpr': { lambda ; a:f32[] b:f32[]. let c:f32[] = div b a in (c,) }}, source_info=<jaxlib.xla_extension.Traceback object at 0x7f87a887d630>)\n",
      "[ 0.08348539 -0.02909234  0.07942431]\n",
      "1.5351545\n",
      "Traced<ConcreteArray(1.5351544618606567, dtype=float32)>with<JVPTrace(level=2/0)> with\n",
      "  primal = DeviceArray(1.5351545, dtype=float32)\n",
      "  tangent = Traced<ShapedArray(float32[])>with<JaxprTrace(level=1/0)> with\n",
      "    pval = (ShapedArray(float32[]), *)\n",
      "    recipe = JaxprEqnRecipe(eqn_id=<object object at 0x7f87e9e05660>, invars=(Traced<ConcreteArray(20.0, dtype=float32):JaxprTrace(level=1/0)>, Traced<ShapedArray(float32[]):JaxprTrace(level=1/0)>), outvars=[<weakref at 0x7f87d857dc50; to 'JaxprTracer' at 0x7f87d857d950>], primitive=xla_call, params={'device': None, 'backend': None, 'name': 'jvp(true_divide)', 'donated_invars': (False, False), 'inline': True, 'call_jaxpr': { lambda ; a:f32[] b:f32[]. let c:f32[] = div b a in (c,) }}, source_info=<jaxlib.xla_extension.Traceback object at 0x7f87d8594b30>)\n",
      "[ 0.1437501  -0.07941073  0.0915892 ]\n",
      "1.8596023\n",
      "Traced<ConcreteArray(1.8596023321151733, dtype=float32)>with<JVPTrace(level=2/0)> with\n",
      "  primal = DeviceArray(1.8596023, dtype=float32)\n",
      "  tangent = Traced<ShapedArray(float32[])>with<JaxprTrace(level=1/0)> with\n",
      "    pval = (ShapedArray(float32[]), *)\n",
      "    recipe = JaxprEqnRecipe(eqn_id=<object object at 0x7f87e9e30660>, invars=(Traced<ConcreteArray(20.0, dtype=float32):JaxprTrace(level=1/0)>, Traced<ShapedArray(float32[]):JaxprTrace(level=1/0)>), outvars=[<weakref at 0x7f87e994e470; to 'JaxprTracer' at 0x7f87e994e410>], primitive=xla_call, params={'device': None, 'backend': None, 'name': 'jvp(true_divide)', 'donated_invars': (False, False), 'inline': True, 'call_jaxpr': { lambda ; a:f32[] b:f32[]. let c:f32[] = div b a in (c,) }}, source_info=<jaxlib.xla_extension.Traceback object at 0x7f87d851f5f0>)\n",
      "[ 0.37687582 -0.276271   -0.47281086]\n",
      "1.5124128\n",
      "Traced<ConcreteArray(1.5124127864837646, dtype=float32)>with<JVPTrace(level=2/0)> with\n",
      "  primal = DeviceArray(1.5124128, dtype=float32)\n",
      "  tangent = Traced<ShapedArray(float32[])>with<JaxprTrace(level=1/0)> with\n",
      "    pval = (ShapedArray(float32[]), *)\n",
      "    recipe = JaxprEqnRecipe(eqn_id=<object object at 0x7f87d88f7660>, invars=(Traced<ConcreteArray(20.0, dtype=float32):JaxprTrace(level=1/0)>, Traced<ShapedArray(float32[]):JaxprTrace(level=1/0)>), outvars=[<weakref at 0x7f87e994e350; to 'JaxprTracer' at 0x7f87e994e170>], primitive=xla_call, params={'device': None, 'backend': None, 'name': 'jvp(true_divide)', 'donated_invars': (False, False), 'inline': True, 'call_jaxpr': { lambda ; a:f32[] b:f32[]. let c:f32[] = div b a in (c,) }}, source_info=<jaxlib.xla_extension.Traceback object at 0x7f87d860b9b0>)\n",
      "[ 0.21839496 -0.10000858  0.04194605]\n",
      "1.7595863\n",
      "Traced<ConcreteArray(1.7595863342285156, dtype=float32)>with<JVPTrace(level=2/0)> with\n",
      "  primal = DeviceArray(1.7595863, dtype=float32)\n",
      "  tangent = Traced<ShapedArray(float32[])>with<JaxprTrace(level=1/0)> with\n",
      "    pval = (ShapedArray(float32[]), *)\n",
      "    recipe = JaxprEqnRecipe(eqn_id=<object object at 0x7f87d88fd660>, invars=(Traced<ConcreteArray(20.0, dtype=float32):JaxprTrace(level=1/0)>, Traced<ShapedArray(float32[]):JaxprTrace(level=1/0)>), outvars=[<weakref at 0x7f87e99a5e30; to 'JaxprTracer' at 0x7f87e99a5170>], primitive=xla_call, params={'device': None, 'backend': None, 'name': 'jvp(true_divide)', 'donated_invars': (False, False), 'inline': True, 'call_jaxpr': { lambda ; a:f32[] b:f32[]. let c:f32[] = div b a in (c,) }}, source_info=<jaxlib.xla_extension.Traceback object at 0x7f87a87fe4b0>)\n",
      "[ 0.41060713 -0.300588   -0.5334247 ]\n",
      "1.4969503\n",
      "Traced<ConcreteArray(1.4969502687454224, dtype=float32)>with<JVPTrace(level=2/0)> with\n",
      "  primal = DeviceArray(1.4969503, dtype=float32)\n",
      "  tangent = Traced<ShapedArray(float32[])>with<JaxprTrace(level=1/0)> with\n",
      "    pval = (ShapedArray(float32[]), *)\n",
      "    recipe = JaxprEqnRecipe(eqn_id=<object object at 0x7f87d88ed660>, invars=(Traced<ConcreteArray(20.0, dtype=float32):JaxprTrace(level=1/0)>, Traced<ShapedArray(float32[]):JaxprTrace(level=1/0)>), outvars=[<weakref at 0x7f87e9be3d70; to 'JaxprTracer' at 0x7f87e90dc770>], primitive=xla_call, params={'device': None, 'backend': None, 'name': 'jvp(true_divide)', 'donated_invars': (False, False), 'inline': True, 'call_jaxpr': { lambda ; a:f32[] b:f32[]. let c:f32[] = div b a in (c,) }}, source_info=<jaxlib.xla_extension.Traceback object at 0x7f87e9b090f0>)\n",
      "[ 0.26602876 -0.12606908 -0.02768715]\n",
      "1.4728518\n",
      "Traced<ConcreteArray(1.4728517532348633, dtype=float32)>with<JVPTrace(level=2/0)> with\n",
      "  primal = DeviceArray(1.4728518, dtype=float32)\n",
      "  tangent = Traced<ShapedArray(float32[])>with<JaxprTrace(level=1/0)> with\n",
      "    pval = (ShapedArray(float32[]), *)\n",
      "    recipe = JaxprEqnRecipe(eqn_id=<object object at 0x7f87e9ac7660>, invars=(Traced<ConcreteArray(20.0, dtype=float32):JaxprTrace(level=1/0)>, Traced<ShapedArray(float32[]):JaxprTrace(level=1/0)>), outvars=[<weakref at 0x7f87e9bea4d0; to 'JaxprTracer' at 0x7f87e9bea050>], primitive=xla_call, params={'device': None, 'backend': None, 'name': 'jvp(true_divide)', 'donated_invars': (False, False), 'inline': True, 'call_jaxpr': { lambda ; a:f32[] b:f32[]. let c:f32[] = div b a in (c,) }}, source_info=<jaxlib.xla_extension.Traceback object at 0x7f87d8594c70>)\n",
      "[ 0.15273723 -0.1530554  -0.01376173]\n",
      "1.4425579\n"
     ]
    },
    {
     "name": "stdout",
     "output_type": "stream",
     "text": [
      "Traced<ConcreteArray(1.44255793094635, dtype=float32)>with<JVPTrace(level=2/0)> with\n",
      "  primal = DeviceArray(1.4425579, dtype=float32)\n",
      "  tangent = Traced<ShapedArray(float32[])>with<JaxprTrace(level=1/0)> with\n",
      "    pval = (ShapedArray(float32[]), *)\n",
      "    recipe = JaxprEqnRecipe(eqn_id=<object object at 0x7f87a897a660>, invars=(Traced<ConcreteArray(20.0, dtype=float32):JaxprTrace(level=1/0)>, Traced<ShapedArray(float32[]):JaxprTrace(level=1/0)>), outvars=[<weakref at 0x7f87e9bf9a10; to 'JaxprTracer' at 0x7f87e9bf9050>], primitive=xla_call, params={'device': None, 'backend': None, 'name': 'jvp(true_divide)', 'donated_invars': (False, False), 'inline': True, 'call_jaxpr': { lambda ; a:f32[] b:f32[]. let c:f32[] = div b a in (c,) }}, source_info=<jaxlib.xla_extension.Traceback object at 0x7f87d89017b0>)\n",
      "[-0.00647272 -0.18139002  0.05704281]\n",
      "1.3998101\n",
      "Traced<ConcreteArray(1.3998100757598877, dtype=float32)>with<JVPTrace(level=2/0)> with\n",
      "  primal = DeviceArray(1.3998101, dtype=float32)\n",
      "  tangent = Traced<ShapedArray(float32[])>with<JaxprTrace(level=1/0)> with\n",
      "    pval = (ShapedArray(float32[]), *)\n",
      "    recipe = JaxprEqnRecipe(eqn_id=<object object at 0x7f87d88f7660>, invars=(Traced<ConcreteArray(20.0, dtype=float32):JaxprTrace(level=1/0)>, Traced<ShapedArray(float32[]):JaxprTrace(level=1/0)>), outvars=[<weakref at 0x7f87e9929170; to 'JaxprTracer' at 0x7f87e9929e30>], primitive=xla_call, params={'device': None, 'backend': None, 'name': 'jvp(true_divide)', 'donated_invars': (False, False), 'inline': True, 'call_jaxpr': { lambda ; a:f32[] b:f32[]. let c:f32[] = div b a in (c,) }}, source_info=<jaxlib.xla_extension.Traceback object at 0x7f87e90c2530>)\n",
      "[ 0.20061056 -0.11450371 -0.220559  ]\n",
      "1.3786033\n",
      "Traced<ConcreteArray(1.3786033391952515, dtype=float32)>with<JVPTrace(level=2/0)> with\n",
      "  primal = DeviceArray(1.3786033, dtype=float32)\n",
      "  tangent = Traced<ShapedArray(float32[])>with<JaxprTrace(level=1/0)> with\n",
      "    pval = (ShapedArray(float32[]), *)\n",
      "    recipe = JaxprEqnRecipe(eqn_id=<object object at 0x7f87e9ae2660>, invars=(Traced<ConcreteArray(20.0, dtype=float32):JaxprTrace(level=1/0)>, Traced<ShapedArray(float32[]):JaxprTrace(level=1/0)>), outvars=[<weakref at 0x7f87e9893890; to 'JaxprTracer' at 0x7f87e98937d0>], primitive=xla_call, params={'device': None, 'backend': None, 'name': 'jvp(true_divide)', 'donated_invars': (False, False), 'inline': True, 'call_jaxpr': { lambda ; a:f32[] b:f32[]. let c:f32[] = div b a in (c,) }}, source_info=<jaxlib.xla_extension.Traceback object at 0x7f87a87fe6f0>)\n",
      "[ 0.26801676  0.20736152 -0.428769  ]\n",
      "1.3456943\n",
      "Traced<ConcreteArray(1.3456943035125732, dtype=float32)>with<JVPTrace(level=2/0)> with\n",
      "  primal = DeviceArray(1.3456943, dtype=float32)\n",
      "  tangent = Traced<ShapedArray(float32[])>with<JaxprTrace(level=1/0)> with\n",
      "    pval = (ShapedArray(float32[]), *)\n",
      "    recipe = JaxprEqnRecipe(eqn_id=<object object at 0x7f87a89a6660>, invars=(Traced<ConcreteArray(20.0, dtype=float32):JaxprTrace(level=1/0)>, Traced<ShapedArray(float32[]):JaxprTrace(level=1/0)>), outvars=[<weakref at 0x7f87e97b2b30; to 'JaxprTracer' at 0x7f87e97b2a70>], primitive=xla_call, params={'device': None, 'backend': None, 'name': 'jvp(true_divide)', 'donated_invars': (False, False), 'inline': True, 'call_jaxpr': { lambda ; a:f32[] b:f32[]. let c:f32[] = div b a in (c,) }}, source_info=<jaxlib.xla_extension.Traceback object at 0x7f87a87fe930>)\n",
      "[ 0.21901229  0.14531583 -0.263669  ]\n",
      "1.3253825\n",
      "Traced<ConcreteArray(1.3253824710845947, dtype=float32)>with<JVPTrace(level=2/0)> with\n",
      "  primal = DeviceArray(1.3253825, dtype=float32)\n",
      "  tangent = Traced<ShapedArray(float32[])>with<JaxprTrace(level=1/0)> with\n",
      "    pval = (ShapedArray(float32[]), *)\n",
      "    recipe = JaxprEqnRecipe(eqn_id=<object object at 0x7f87d88ed660>, invars=(Traced<ConcreteArray(20.0, dtype=float32):JaxprTrace(level=1/0)>, Traced<ShapedArray(float32[]):JaxprTrace(level=1/0)>), outvars=[<weakref at 0x7f87e9edc3b0; to 'JaxprTracer' at 0x7f87e9edca70>], primitive=xla_call, params={'device': None, 'backend': None, 'name': 'jvp(true_divide)', 'donated_invars': (False, False), 'inline': True, 'call_jaxpr': { lambda ; a:f32[] b:f32[]. let c:f32[] = div b a in (c,) }}, source_info=<jaxlib.xla_extension.Traceback object at 0x7f87e95dc030>)\n",
      "[ 0.09688383  0.02271707 -0.02632849]\n",
      "1.3195384\n",
      "Traced<ConcreteArray(1.3195383548736572, dtype=float32)>with<JVPTrace(level=2/0)> with\n",
      "  primal = DeviceArray(1.3195384, dtype=float32)\n",
      "  tangent = Traced<ShapedArray(float32[])>with<JaxprTrace(level=1/0)> with\n",
      "    pval = (ShapedArray(float32[]), *)\n",
      "    recipe = JaxprEqnRecipe(eqn_id=<object object at 0x7f87e9ac7660>, invars=(Traced<ConcreteArray(20.0, dtype=float32):JaxprTrace(level=1/0)>, Traced<ShapedArray(float32[]):JaxprTrace(level=1/0)>), outvars=[<weakref at 0x7f87a8a06ef0; to 'JaxprTracer' at 0x7f87a8a06a70>], primitive=xla_call, params={'device': None, 'backend': None, 'name': 'jvp(true_divide)', 'donated_invars': (False, False), 'inline': True, 'call_jaxpr': { lambda ; a:f32[] b:f32[]. let c:f32[] = div b a in (c,) }}, source_info=<jaxlib.xla_extension.Traceback object at 0x7f87a887d930>)\n",
      "[ 0.07812458  0.02548599 -0.00487547]\n",
      "1.3097632\n",
      "Traced<ConcreteArray(1.3097631931304932, dtype=float32)>with<JVPTrace(level=2/0)> with\n",
      "  primal = DeviceArray(1.3097632, dtype=float32)\n",
      "  tangent = Traced<ShapedArray(float32[])>with<JaxprTrace(level=1/0)> with\n",
      "    pval = (ShapedArray(float32[]), *)\n",
      "    recipe = JaxprEqnRecipe(eqn_id=<object object at 0x7f87e9e05660>, invars=(Traced<ConcreteArray(20.0, dtype=float32):JaxprTrace(level=1/0)>, Traced<ShapedArray(float32[]):JaxprTrace(level=1/0)>), outvars=[<weakref at 0x7f87b9099c50; to 'JaxprTracer' at 0x7f87b9099950>], primitive=xla_call, params={'device': None, 'backend': None, 'name': 'jvp(true_divide)', 'donated_invars': (False, False), 'inline': True, 'call_jaxpr': { lambda ; a:f32[] b:f32[]. let c:f32[] = div b a in (c,) }}, source_info=<jaxlib.xla_extension.Traceback object at 0x7f87e9b235f0>)\n",
      "[ 0.06129345  0.04439993 -0.01191664]\n",
      "1.2996684\n",
      "Traced<ConcreteArray(1.2996684312820435, dtype=float32)>with<JVPTrace(level=2/0)> with\n",
      "  primal = DeviceArray(1.2996684, dtype=float32)\n",
      "  tangent = Traced<ShapedArray(float32[])>with<JaxprTrace(level=1/0)> with\n",
      "    pval = (ShapedArray(float32[]), *)\n",
      "    recipe = JaxprEqnRecipe(eqn_id=<object object at 0x7f87d88f7660>, invars=(Traced<ConcreteArray(20.0, dtype=float32):JaxprTrace(level=1/0)>, Traced<ShapedArray(float32[]):JaxprTrace(level=1/0)>), outvars=[<weakref at 0x7f87b9092710; to 'JaxprTracer' at 0x7f87b9092ad0>], primitive=xla_call, params={'device': None, 'backend': None, 'name': 'jvp(true_divide)', 'donated_invars': (False, False), 'inline': True, 'call_jaxpr': { lambda ; a:f32[] b:f32[]. let c:f32[] = div b a in (c,) }}, source_info=<jaxlib.xla_extension.Traceback object at 0x7f87d8602c70>)\n",
      "[ 0.02830732  0.09433051 -0.08191547]\n",
      "1.2965953\n",
      "Traced<ConcreteArray(1.2965953350067139, dtype=float32)>with<JVPTrace(level=2/0)> with\n",
      "  primal = DeviceArray(1.2965953, dtype=float32)\n",
      "  tangent = Traced<ShapedArray(float32[])>with<JaxprTrace(level=1/0)> with\n",
      "    pval = (ShapedArray(float32[]), *)\n",
      "    recipe = JaxprEqnRecipe(eqn_id=<object object at 0x7f87a8965660>, invars=(Traced<ConcreteArray(20.0, dtype=float32):JaxprTrace(level=1/0)>, Traced<ShapedArray(float32[]):JaxprTrace(level=1/0)>), outvars=[<weakref at 0x7f87d853a530; to 'JaxprTracer' at 0x7f87d853a3b0>], primitive=xla_call, params={'device': None, 'backend': None, 'name': 'jvp(true_divide)', 'donated_invars': (False, False), 'inline': True, 'call_jaxpr': { lambda ; a:f32[] b:f32[]. let c:f32[] = div b a in (c,) }}, source_info=<jaxlib.xla_extension.Traceback object at 0x7f87a887d9b0>)\n",
      "[ 0.00767681 -0.02077561  0.01938216]\n",
      "1.2959774\n",
      "Traced<ConcreteArray(1.2959773540496826, dtype=float32)>with<JVPTrace(level=2/0)> with\n",
      "  primal = DeviceArray(1.2959774, dtype=float32)\n",
      "  tangent = Traced<ShapedArray(float32[])>with<JaxprTrace(level=1/0)> with\n",
      "    pval = (ShapedArray(float32[]), *)\n",
      "    recipe = JaxprEqnRecipe(eqn_id=<object object at 0x7f87a89a6660>, invars=(Traced<ConcreteArray(20.0, dtype=float32):JaxprTrace(level=1/0)>, Traced<ShapedArray(float32[]):JaxprTrace(level=1/0)>), outvars=[<weakref at 0x7f87d8940410; to 'JaxprTracer' at 0x7f87d8940fb0>], primitive=xla_call, params={'device': None, 'backend': None, 'name': 'jvp(true_divide)', 'donated_invars': (False, False), 'inline': True, 'call_jaxpr': { lambda ; a:f32[] b:f32[]. let c:f32[] = div b a in (c,) }}, source_info=<jaxlib.xla_extension.Traceback object at 0x7f87d8594070>)\n",
      "[ 0.00395125  0.00591443 -0.01363856]\n",
      "1.2959169\n",
      "Traced<ConcreteArray(1.2959169149398804, dtype=float32)>with<JVPTrace(level=2/0)> with\n",
      "  primal = DeviceArray(1.2959169, dtype=float32)\n",
      "  tangent = Traced<ShapedArray(float32[])>with<JaxprTrace(level=1/0)> with\n",
      "    pval = (ShapedArray(float32[]), *)\n",
      "    recipe = JaxprEqnRecipe(eqn_id=<object object at 0x7f87e9e0a660>, invars=(Traced<ConcreteArray(20.0, dtype=float32):JaxprTrace(level=1/0)>, Traced<ShapedArray(float32[]):JaxprTrace(level=1/0)>), outvars=[<weakref at 0x7f87a88406b0; to 'JaxprTracer' at 0x7f87a8840470>], primitive=xla_call, params={'device': None, 'backend': None, 'name': 'jvp(true_divide)', 'donated_invars': (False, False), 'inline': True, 'call_jaxpr': { lambda ; a:f32[] b:f32[]. let c:f32[] = div b a in (c,) }}, source_info=<jaxlib.xla_extension.Traceback object at 0x7f87d860b370>)\n",
      "[ 0.0018715   0.00223533 -0.00653291]\n",
      "1.2958966\n",
      "Traced<ConcreteArray(1.2958966493606567, dtype=float32)>with<JVPTrace(level=2/0)> with\n",
      "  primal = DeviceArray(1.2958966, dtype=float32)\n",
      "  tangent = Traced<ShapedArray(float32[])>with<JaxprTrace(level=1/0)> with\n",
      "    pval = (ShapedArray(float32[]), *)\n",
      "    recipe = JaxprEqnRecipe(eqn_id=<object object at 0x7f87a89a6660>, invars=(Traced<ConcreteArray(20.0, dtype=float32):JaxprTrace(level=1/0)>, Traced<ShapedArray(float32[]):JaxprTrace(level=1/0)>), outvars=[<weakref at 0x7f87a87f6b90; to 'JaxprTracer' at 0x7f87a87f6a70>], primitive=xla_call, params={'device': None, 'backend': None, 'name': 'jvp(true_divide)', 'donated_invars': (False, False), 'inline': True, 'call_jaxpr': { lambda ; a:f32[] b:f32[]. let c:f32[] = div b a in (c,) }}, source_info=<jaxlib.xla_extension.Traceback object at 0x7f87e9b23df0>)\n",
      "[ 6.8679452e-05 -1.9556284e-04 -1.3475120e-04]\n",
      "1.2958965\n"
     ]
    },
    {
     "name": "stdout",
     "output_type": "stream",
     "text": [
      "Traced<ConcreteArray(1.2958965301513672, dtype=float32)>with<JVPTrace(level=2/0)> with\n",
      "  primal = DeviceArray(1.2958965, dtype=float32)\n",
      "  tangent = Traced<ShapedArray(float32[])>with<JaxprTrace(level=1/0)> with\n",
      "    pval = (ShapedArray(float32[]), *)\n",
      "    recipe = JaxprEqnRecipe(eqn_id=<object object at 0x7f87e9e0a660>, invars=(Traced<ConcreteArray(20.0, dtype=float32):JaxprTrace(level=1/0)>, Traced<ShapedArray(float32[]):JaxprTrace(level=1/0)>), outvars=[<weakref at 0x7f87a87f6950; to 'JaxprTracer' at 0x7f87a87f63b0>], primitive=xla_call, params={'device': None, 'backend': None, 'name': 'jvp(true_divide)', 'donated_invars': (False, False), 'inline': True, 'call_jaxpr': { lambda ; a:f32[] b:f32[]. let c:f32[] = div b a in (c,) }}, source_info=<jaxlib.xla_extension.Traceback object at 0x7f87e9b23830>)\n",
      "[-9.2834234e-06 -3.9823353e-05 -4.7981739e-06]\n",
      "1.2958965\n",
      "Traced<ConcreteArray(1.2958965301513672, dtype=float32)>with<JVPTrace(level=2/0)> with\n",
      "  primal = DeviceArray(1.2958965, dtype=float32)\n",
      "  tangent = Traced<ShapedArray(float32[])>with<JaxprTrace(level=1/0)> with\n",
      "    pval = (ShapedArray(float32[]), *)\n",
      "    recipe = JaxprEqnRecipe(eqn_id=<object object at 0x7f87a89a6660>, invars=(Traced<ConcreteArray(20.0, dtype=float32):JaxprTrace(level=1/0)>, Traced<ShapedArray(float32[]):JaxprTrace(level=1/0)>), outvars=[<weakref at 0x7f87d844a710; to 'JaxprTracer' at 0x7f87d844a4d0>], primitive=xla_call, params={'device': None, 'backend': None, 'name': 'jvp(true_divide)', 'donated_invars': (False, False), 'inline': True, 'call_jaxpr': { lambda ; a:f32[] b:f32[]. let c:f32[] = div b a in (c,) }}, source_info=<jaxlib.xla_extension.Traceback object at 0x7f87d858cd30>)\n",
      "[-2.5928020e-06 -1.2747943e-05  1.2546778e-05]\n",
      "1.2958966\n",
      "Traced<ConcreteArray(1.2958966493606567, dtype=float32)>with<JVPTrace(level=2/0)> with\n",
      "  primal = DeviceArray(1.2958966, dtype=float32)\n",
      "  tangent = Traced<ShapedArray(float32[])>with<JaxprTrace(level=1/0)> with\n",
      "    pval = (ShapedArray(float32[]), *)\n",
      "    recipe = JaxprEqnRecipe(eqn_id=<object object at 0x7f87e9e0a660>, invars=(Traced<ConcreteArray(20.0, dtype=float32):JaxprTrace(level=1/0)>, Traced<ShapedArray(float32[]):JaxprTrace(level=1/0)>), outvars=[<weakref at 0x7f87d845a350; to 'JaxprTracer' at 0x7f87d845a230>], primitive=xla_call, params={'device': None, 'backend': None, 'name': 'jvp(true_divide)', 'donated_invars': (False, False), 'inline': True, 'call_jaxpr': { lambda ; a:f32[] b:f32[]. let c:f32[] = div b a in (c,) }}, source_info=<jaxlib.xla_extension.Traceback object at 0x7f87a87fe930>)\n",
      "[-7.1972609e-06 -3.0864030e-05  4.8428774e-07]\n",
      "1.2958965\n",
      "Traced<ConcreteArray(1.2958965301513672, dtype=float32)>with<JVPTrace(level=2/0)> with\n",
      "  primal = DeviceArray(1.2958965, dtype=float32)\n",
      "  tangent = Traced<ShapedArray(float32[])>with<JaxprTrace(level=1/0)> with\n",
      "    pval = (ShapedArray(float32[]), *)\n",
      "    recipe = JaxprEqnRecipe(eqn_id=<object object at 0x7f87a898c660>, invars=(Traced<ConcreteArray(20.0, dtype=float32):JaxprTrace(level=1/0)>, Traced<ShapedArray(float32[]):JaxprTrace(level=1/0)>), outvars=[<weakref at 0x7f87ea220350; to 'JaxprTracer' at 0x7f87ea220170>], primitive=xla_call, params={'device': None, 'backend': None, 'name': 'jvp(true_divide)', 'donated_invars': (False, False), 'inline': True, 'call_jaxpr': { lambda ; a:f32[] b:f32[]. let c:f32[] = div b a in (c,) }}, source_info=<jaxlib.xla_extension.Traceback object at 0x7f87a887d8b0>)\n",
      "[-9.3281269e-06 -3.9387494e-05 -5.4091215e-06]\n",
      "1.2958965\n",
      "Traced<ConcreteArray(1.2958965301513672, dtype=float32)>with<JVPTrace(level=2/0)> with\n",
      "  primal = DeviceArray(1.2958965, dtype=float32)\n",
      "  tangent = Traced<ShapedArray(float32[])>with<JaxprTrace(level=1/0)> with\n",
      "    pval = (ShapedArray(float32[]), *)\n",
      "    recipe = JaxprEqnRecipe(eqn_id=<object object at 0x7f87e9e0a660>, invars=(Traced<ConcreteArray(20.0, dtype=float32):JaxprTrace(level=1/0)>, Traced<ShapedArray(float32[]):JaxprTrace(level=1/0)>), outvars=[<weakref at 0x7f87a8862050; to 'JaxprTracer' at 0x7f87e9ac7e30>], primitive=xla_call, params={'device': None, 'backend': None, 'name': 'jvp(true_divide)', 'donated_invars': (False, False), 'inline': True, 'call_jaxpr': { lambda ; a:f32[] b:f32[]. let c:f32[] = div b a in (c,) }}, source_info=<jaxlib.xla_extension.Traceback object at 0x7f87e9b238f0>)\n",
      "[-9.2834234e-06 -3.9823353e-05 -4.7981739e-06]\n",
      "1.2958965\n",
      "Traced<ConcreteArray(1.2958965301513672, dtype=float32)>with<JVPTrace(level=2/0)> with\n",
      "  primal = DeviceArray(1.2958965, dtype=float32)\n",
      "  tangent = Traced<ShapedArray(float32[])>with<JaxprTrace(level=1/0)> with\n",
      "    pval = (ShapedArray(float32[]), *)\n",
      "    recipe = JaxprEqnRecipe(eqn_id=<object object at 0x7f87ea23d660>, invars=(Traced<ConcreteArray(20.0, dtype=float32):JaxprTrace(level=1/0)>, Traced<ShapedArray(float32[]):JaxprTrace(level=1/0)>), outvars=[<weakref at 0x7f87d88fdcb0; to 'JaxprTracer' at 0x7f87d88fdad0>], primitive=xla_call, params={'device': None, 'backend': None, 'name': 'jvp(true_divide)', 'donated_invars': (False, False), 'inline': True, 'call_jaxpr': { lambda ; a:f32[] b:f32[]. let c:f32[] = div b a in (c,) }}, source_info=<jaxlib.xla_extension.Traceback object at 0x7f87a887dbf0>)\n",
      "[-9.2536211e-06 -3.9823353e-05 -4.8056245e-06]\n",
      "1.2958965\n",
      "Traced<ConcreteArray(1.2958965301513672, dtype=float32)>with<JVPTrace(level=2/0)> with\n",
      "  primal = DeviceArray(1.2958965, dtype=float32)\n",
      "  tangent = Traced<ShapedArray(float32[])>with<JaxprTrace(level=1/0)> with\n",
      "    pval = (ShapedArray(float32[]), *)\n",
      "    recipe = JaxprEqnRecipe(eqn_id=<object object at 0x7f87e9ae2660>, invars=(Traced<ConcreteArray(20.0, dtype=float32):JaxprTrace(level=1/0)>, Traced<ShapedArray(float32[]):JaxprTrace(level=1/0)>), outvars=[<weakref at 0x7f87a883c7d0; to 'JaxprTracer' at 0x7f87a883c5f0>], primitive=xla_call, params={'device': None, 'backend': None, 'name': 'jvp(true_divide)', 'donated_invars': (False, False), 'inline': True, 'call_jaxpr': { lambda ; a:f32[] b:f32[]. let c:f32[] = div b a in (c,) }}, source_info=<jaxlib.xla_extension.Traceback object at 0x7f87d860bb30>)\n",
      "[-9.372830e-06 -3.946945e-05 -5.155802e-06]\n",
      "1.2958964\n",
      "Traced<ConcreteArray(1.2958965301513672, dtype=float32)>with<JVPTrace(level=2/0)> with\n",
      "  primal = DeviceArray(1.2958965, dtype=float32)\n",
      "  tangent = Traced<ShapedArray(float32[])>with<JaxprTrace(level=1/0)> with\n",
      "    pval = (ShapedArray(float32[]), *)\n",
      "    recipe = JaxprEqnRecipe(eqn_id=<object object at 0x7f87e9ae2660>, invars=(Traced<ConcreteArray(20.0, dtype=float32):JaxprTrace(level=1/0)>, Traced<ShapedArray(float32[]):JaxprTrace(level=1/0)>), outvars=[<weakref at 0x7f87a88624d0; to 'JaxprTracer' at 0x7f87a88622f0>], primitive=xla_call, params={'device': None, 'backend': None, 'name': 'jvp(true_divide)', 'donated_invars': (False, False), 'inline': True, 'call_jaxpr': { lambda ; a:f32[] b:f32[]. let c:f32[] = div b a in (c,) }}, source_info=<jaxlib.xla_extension.Traceback object at 0x7f87d8594330>)\n",
      "[-9.3728304e-06 -3.9409846e-05 -5.1409006e-06]\n",
      "1.2958964\n",
      "Traced<ConcreteArray(1.2958965301513672, dtype=float32)>with<JVPTrace(level=2/0)> with\n",
      "  primal = DeviceArray(1.2958965, dtype=float32)\n",
      "  tangent = Traced<ShapedArray(float32[])>with<JaxprTrace(level=1/0)> with\n",
      "    pval = (ShapedArray(float32[]), *)\n",
      "    recipe = JaxprEqnRecipe(eqn_id=<object object at 0x7f87e9ae2660>, invars=(Traced<ConcreteArray(20.0, dtype=float32):JaxprTrace(level=1/0)>, Traced<ShapedArray(float32[]):JaxprTrace(level=1/0)>), outvars=[<weakref at 0x7f87a883e170; to 'JaxprTracer' at 0x7f87a8862f50>], primitive=xla_call, params={'device': None, 'backend': None, 'name': 'jvp(true_divide)', 'donated_invars': (False, False), 'inline': True, 'call_jaxpr': { lambda ; a:f32[] b:f32[]. let c:f32[] = div b a in (c,) }}, source_info=<jaxlib.xla_extension.Traceback object at 0x7f87d860ba70>)\n",
      "[-9.3728304e-06 -3.9409846e-05 -5.1409006e-06]\n",
      "1.2958964\n",
      "Traced<ConcreteArray(1.2958965301513672, dtype=float32)>with<JVPTrace(level=2/0)> with\n",
      "  primal = DeviceArray(1.2958965, dtype=float32)\n",
      "  tangent = Traced<ShapedArray(float32[])>with<JaxprTrace(level=1/0)> with\n",
      "    pval = (ShapedArray(float32[]), *)\n",
      "    recipe = JaxprEqnRecipe(eqn_id=<object object at 0x7f87e9ae2660>, invars=(Traced<ConcreteArray(20.0, dtype=float32):JaxprTrace(level=1/0)>, Traced<ShapedArray(float32[]):JaxprTrace(level=1/0)>), outvars=[<weakref at 0x7f87a8965c50; to 'JaxprTracer' at 0x7f87a8965a70>], primitive=xla_call, params={'device': None, 'backend': None, 'name': 'jvp(true_divide)', 'donated_invars': (False, False), 'inline': True, 'call_jaxpr': { lambda ; a:f32[] b:f32[]. let c:f32[] = div b a in (c,) }}, source_info=<jaxlib.xla_extension.Traceback object at 0x7f87e95dccb0>)\n",
      "[-9.3728304e-06 -3.9409846e-05 -5.1409006e-06]\n",
      "1.2958964\n",
      "Traced<ConcreteArray(1.2958965301513672, dtype=float32)>with<JVPTrace(level=2/0)> with\n",
      "  primal = DeviceArray(1.2958965, dtype=float32)\n",
      "  tangent = Traced<ShapedArray(float32[])>with<JaxprTrace(level=1/0)> with\n",
      "    pval = (ShapedArray(float32[]), *)\n",
      "    recipe = JaxprEqnRecipe(eqn_id=<object object at 0x7f87a8954660>, invars=(Traced<ConcreteArray(20.0, dtype=float32):JaxprTrace(level=1/0)>, Traced<ShapedArray(float32[]):JaxprTrace(level=1/0)>), outvars=[<weakref at 0x7f87a898c950; to 'JaxprTracer' at 0x7f87a898c770>], primitive=xla_call, params={'device': None, 'backend': None, 'name': 'jvp(true_divide)', 'donated_invars': (False, False), 'inline': True, 'call_jaxpr': { lambda ; a:f32[] b:f32[]. let c:f32[] = div b a in (c,) }}, source_info=<jaxlib.xla_extension.Traceback object at 0x7f87d86057b0>)\n",
      "[-9.3728304e-06 -3.9409846e-05 -5.1409006e-06]\n",
      "1.2958964\n",
      "Traced<ConcreteArray(1.2958965301513672, dtype=float32)>with<JVPTrace(level=2/0)> with\n",
      "  primal = DeviceArray(1.2958965, dtype=float32)\n",
      "  tangent = Traced<ShapedArray(float32[])>with<JaxprTrace(level=1/0)> with\n",
      "    pval = (ShapedArray(float32[]), *)\n",
      "    recipe = JaxprEqnRecipe(eqn_id=<object object at 0x7f87a8a63660>, invars=(Traced<ConcreteArray(20.0, dtype=float32):JaxprTrace(level=1/0)>, Traced<ShapedArray(float32[]):JaxprTrace(level=1/0)>), outvars=[<weakref at 0x7f87a88145f0; to 'JaxprTracer' at 0x7f87a8814410>], primitive=xla_call, params={'device': None, 'backend': None, 'name': 'jvp(true_divide)', 'donated_invars': (False, False), 'inline': True, 'call_jaxpr': { lambda ; a:f32[] b:f32[]. let c:f32[] = div b a in (c,) }}, source_info=<jaxlib.xla_extension.Traceback object at 0x7f87a887dcb0>)\n",
      "[-9.3728304e-06 -3.9409846e-05 -5.1409006e-06]\n",
      "1.2958965\n"
     ]
    },
    {
     "name": "stdout",
     "output_type": "stream",
     "text": [
      "Traced<ConcreteArray(1.2958965301513672, dtype=float32)>with<JVPTrace(level=2/0)> with\n",
      "  primal = DeviceArray(1.2958965, dtype=float32)\n",
      "  tangent = Traced<ShapedArray(float32[])>with<JaxprTrace(level=1/0)> with\n",
      "    pval = (ShapedArray(float32[]), *)\n",
      "    recipe = JaxprEqnRecipe(eqn_id=<object object at 0x7f87e9ae2660>, invars=(Traced<ConcreteArray(20.0, dtype=float32):JaxprTrace(level=1/0)>, Traced<ShapedArray(float32[]):JaxprTrace(level=1/0)>), outvars=[<weakref at 0x7f87a8829110; to 'JaxprTracer' at 0x7f87a8824ef0>], primitive=xla_call, params={'device': None, 'backend': None, 'name': 'jvp(true_divide)', 'donated_invars': (False, False), 'inline': True, 'call_jaxpr': { lambda ; a:f32[] b:f32[]. let c:f32[] = div b a in (c,) }}, source_info=<jaxlib.xla_extension.Traceback object at 0x7f87e95dc230>)\n",
      "[-9.372830e-06 -3.946945e-05 -5.155802e-06]\n",
      "1.2958964\n",
      "Traced<ConcreteArray(1.2958965301513672, dtype=float32)>with<JVPTrace(level=2/0)> with\n",
      "  primal = DeviceArray(1.2958965, dtype=float32)\n",
      "  tangent = Traced<ShapedArray(float32[])>with<JaxprTrace(level=1/0)> with\n",
      "    pval = (ShapedArray(float32[]), *)\n",
      "    recipe = JaxprEqnRecipe(eqn_id=<object object at 0x7f87a895d660>, invars=(Traced<ConcreteArray(20.0, dtype=float32):JaxprTrace(level=1/0)>, Traced<ShapedArray(float32[]):JaxprTrace(level=1/0)>), outvars=[<weakref at 0x7f87a882bdd0; to 'JaxprTracer' at 0x7f87a882bbf0>], primitive=xla_call, params={'device': None, 'backend': None, 'name': 'jvp(true_divide)', 'donated_invars': (False, False), 'inline': True, 'call_jaxpr': { lambda ; a:f32[] b:f32[]. let c:f32[] = div b a in (c,) }}, source_info=<jaxlib.xla_extension.Traceback object at 0x7f87d89011b0>)\n",
      "[-9.3728304e-06 -3.9409846e-05 -5.1409006e-06]\n",
      "1.2958964\n",
      "Traced<ConcreteArray(1.2958965301513672, dtype=float32)>with<JVPTrace(level=2/0)> with\n",
      "  primal = DeviceArray(1.2958965, dtype=float32)\n",
      "  tangent = Traced<ShapedArray(float32[])>with<JaxprTrace(level=1/0)> with\n",
      "    pval = (ShapedArray(float32[]), *)\n",
      "    recipe = JaxprEqnRecipe(eqn_id=<object object at 0x7f87a8a40660>, invars=(Traced<ConcreteArray(20.0, dtype=float32):JaxprTrace(level=1/0)>, Traced<ShapedArray(float32[]):JaxprTrace(level=1/0)>), outvars=[<weakref at 0x7f87a880ca70; to 'JaxprTracer' at 0x7f87a880c890>], primitive=xla_call, params={'device': None, 'backend': None, 'name': 'jvp(true_divide)', 'donated_invars': (False, False), 'inline': True, 'call_jaxpr': { lambda ; a:f32[] b:f32[]. let c:f32[] = div b a in (c,) }}, source_info=<jaxlib.xla_extension.Traceback object at 0x7f87a887deb0>)\n",
      "[-9.3728304e-06 -3.9409846e-05 -5.1409006e-06]\n",
      "1.2958964\n",
      "Traced<ConcreteArray(1.2958965301513672, dtype=float32)>with<JVPTrace(level=2/0)> with\n",
      "  primal = DeviceArray(1.2958965, dtype=float32)\n",
      "  tangent = Traced<ShapedArray(float32[])>with<JaxprTrace(level=1/0)> with\n",
      "    pval = (ShapedArray(float32[]), *)\n",
      "    recipe = JaxprEqnRecipe(eqn_id=<object object at 0x7f87e9af6660>, invars=(Traced<ConcreteArray(20.0, dtype=float32):JaxprTrace(level=1/0)>, Traced<ShapedArray(float32[]):JaxprTrace(level=1/0)>), outvars=[<weakref at 0x7f87a8829590; to 'JaxprTracer' at 0x7f87a88293b0>], primitive=xla_call, params={'device': None, 'backend': None, 'name': 'jvp(true_divide)', 'donated_invars': (False, False), 'inline': True, 'call_jaxpr': { lambda ; a:f32[] b:f32[]. let c:f32[] = div b a in (c,) }}, source_info=<jaxlib.xla_extension.Traceback object at 0x7f87b90a2ab0>)\n",
      "[-9.3728304e-06 -3.9409846e-05 -5.1409006e-06]\n",
      "1.2958964\n",
      "Traced<ConcreteArray(1.2958965301513672, dtype=float32)>with<JVPTrace(level=2/0)> with\n",
      "  primal = DeviceArray(1.2958965, dtype=float32)\n",
      "  tangent = Traced<ShapedArray(float32[])>with<JaxprTrace(level=1/0)> with\n",
      "    pval = (ShapedArray(float32[]), *)\n",
      "    recipe = JaxprEqnRecipe(eqn_id=<object object at 0x7f87a8954660>, invars=(Traced<ConcreteArray(20.0, dtype=float32):JaxprTrace(level=1/0)>, Traced<ShapedArray(float32[]):JaxprTrace(level=1/0)>), outvars=[<weakref at 0x7f87a8802290; to 'JaxprTracer' at 0x7f87a88020b0>], primitive=xla_call, params={'device': None, 'backend': None, 'name': 'jvp(true_divide)', 'donated_invars': (False, False), 'inline': True, 'call_jaxpr': { lambda ; a:f32[] b:f32[]. let c:f32[] = div b a in (c,) }}, source_info=<jaxlib.xla_extension.Traceback object at 0x7f87d85941f0>)\n",
      "[-9.3728304e-06 -3.9409846e-05 -5.1409006e-06]\n",
      "1.2958964\n",
      "Traced<ConcreteArray(1.2958965301513672, dtype=float32)>with<JVPTrace(level=2/0)> with\n",
      "  primal = DeviceArray(1.2958965, dtype=float32)\n",
      "  tangent = Traced<ShapedArray(float32[])>with<JaxprTrace(level=1/0)> with\n",
      "    pval = (ShapedArray(float32[]), *)\n",
      "    recipe = JaxprEqnRecipe(eqn_id=<object object at 0x7f87a8a63660>, invars=(Traced<ConcreteArray(20.0, dtype=float32):JaxprTrace(level=1/0)>, Traced<ShapedArray(float32[]):JaxprTrace(level=1/0)>), outvars=[<weakref at 0x7f87e9e0aef0; to 'JaxprTracer' at 0x7f87e9e0ad10>], primitive=xla_call, params={'device': None, 'backend': None, 'name': 'jvp(true_divide)', 'donated_invars': (False, False), 'inline': True, 'call_jaxpr': { lambda ; a:f32[] b:f32[]. let c:f32[] = div b a in (c,) }}, source_info=<jaxlib.xla_extension.Traceback object at 0x7f87d86026f0>)\n",
      "[-9.3728304e-06 -3.9409846e-05 -5.1409006e-06]\n",
      "1.2958964\n",
      "Traced<ConcreteArray(1.2958965301513672, dtype=float32)>with<JVPTrace(level=2/0)> with\n",
      "  primal = DeviceArray(1.2958965, dtype=float32)\n",
      "  tangent = Traced<ShapedArray(float32[])>with<JaxprTrace(level=1/0)> with\n",
      "    pval = (ShapedArray(float32[]), *)\n",
      "    recipe = JaxprEqnRecipe(eqn_id=<object object at 0x7f87e9e30660>, invars=(Traced<ConcreteArray(20.0, dtype=float32):JaxprTrace(level=1/0)>, Traced<ShapedArray(float32[]):JaxprTrace(level=1/0)>), outvars=[<weakref at 0x7f87a883ea10; to 'JaxprTracer' at 0x7f87a883e830>], primitive=xla_call, params={'device': None, 'backend': None, 'name': 'jvp(true_divide)', 'donated_invars': (False, False), 'inline': True, 'call_jaxpr': { lambda ; a:f32[] b:f32[]. let c:f32[] = div b a in (c,) }}, source_info=<jaxlib.xla_extension.Traceback object at 0x7f87d8602f30>)\n",
      "[-9.3728304e-06 -3.9409846e-05 -5.1409006e-06]\n",
      "1.2958964\n",
      "Traced<ConcreteArray(1.2958965301513672, dtype=float32)>with<JVPTrace(level=2/0)> with\n",
      "  primal = DeviceArray(1.2958965, dtype=float32)\n",
      "  tangent = Traced<ShapedArray(float32[])>with<JaxprTrace(level=1/0)> with\n",
      "    pval = (ShapedArray(float32[]), *)\n",
      "    recipe = JaxprEqnRecipe(eqn_id=<object object at 0x7f87e9af6660>, invars=(Traced<ConcreteArray(20.0, dtype=float32):JaxprTrace(level=1/0)>, Traced<ShapedArray(float32[]):JaxprTrace(level=1/0)>), outvars=[<weakref at 0x7f87ea173710; to 'JaxprTracer' at 0x7f87ea173530>], primitive=xla_call, params={'device': None, 'backend': None, 'name': 'jvp(true_divide)', 'donated_invars': (False, False), 'inline': True, 'call_jaxpr': { lambda ; a:f32[] b:f32[]. let c:f32[] = div b a in (c,) }}, source_info=<jaxlib.xla_extension.Traceback object at 0x7f87d860bbb0>)\n",
      "[-9.3728304e-06 -3.9409846e-05 -5.1409006e-06]\n",
      "1.2958964\n",
      "Traced<ConcreteArray(1.2958965301513672, dtype=float32)>with<JVPTrace(level=2/0)> with\n",
      "  primal = DeviceArray(1.2958965, dtype=float32)\n",
      "  tangent = Traced<ShapedArray(float32[])>with<JaxprTrace(level=1/0)> with\n",
      "    pval = (ShapedArray(float32[]), *)\n",
      "    recipe = JaxprEqnRecipe(eqn_id=<object object at 0x7f87a895d660>, invars=(Traced<ConcreteArray(20.0, dtype=float32):JaxprTrace(level=1/0)>, Traced<ShapedArray(float32[]):JaxprTrace(level=1/0)>), outvars=[<weakref at 0x7f87ea1433b0; to 'JaxprTracer' at 0x7f87ea1431d0>], primitive=xla_call, params={'device': None, 'backend': None, 'name': 'jvp(true_divide)', 'donated_invars': (False, False), 'inline': True, 'call_jaxpr': { lambda ; a:f32[] b:f32[]. let c:f32[] = div b a in (c,) }}, source_info=<jaxlib.xla_extension.Traceback object at 0x7f87d8594330>)\n",
      "[-9.3728304e-06 -3.9409846e-05 -5.1409006e-06]\n",
      "1.2958965\n",
      "Traced<ConcreteArray(1.2958965301513672, dtype=float32)>with<JVPTrace(level=2/0)> with\n",
      "  primal = DeviceArray(1.2958965, dtype=float32)\n",
      "  tangent = Traced<ShapedArray(float32[])>with<JaxprTrace(level=1/0)> with\n",
      "    pval = (ShapedArray(float32[]), *)\n",
      "    recipe = JaxprEqnRecipe(eqn_id=<object object at 0x7f87a8a63660>, invars=(Traced<ConcreteArray(20.0, dtype=float32):JaxprTrace(level=1/0)>, Traced<ShapedArray(float32[]):JaxprTrace(level=1/0)>), outvars=[<weakref at 0x7f87ea143e90; to 'JaxprTracer' at 0x7f87ea143cb0>], primitive=xla_call, params={'device': None, 'backend': None, 'name': 'jvp(true_divide)', 'donated_invars': (False, False), 'inline': True, 'call_jaxpr': { lambda ; a:f32[] b:f32[]. let c:f32[] = div b a in (c,) }}, source_info=<jaxlib.xla_extension.Traceback object at 0x7f87a887d6b0>)\n",
      "[-9.372830e-06 -3.946945e-05 -5.155802e-06]\n",
      "1.2958964\n",
      "Traced<ConcreteArray(1.2958965301513672, dtype=float32)>with<JVPTrace(level=2/0)> with\n",
      "  primal = DeviceArray(1.2958965, dtype=float32)\n",
      "  tangent = Traced<ShapedArray(float32[])>with<JaxprTrace(level=1/0)> with\n",
      "    pval = (ShapedArray(float32[]), *)\n",
      "    recipe = JaxprEqnRecipe(eqn_id=<object object at 0x7f87e9e05660>, invars=(Traced<ConcreteArray(20.0, dtype=float32):JaxprTrace(level=1/0)>, Traced<ShapedArray(float32[]):JaxprTrace(level=1/0)>), outvars=[<weakref at 0x7f87ea14fb90; to 'JaxprTracer' at 0x7f87ea14f9b0>], primitive=xla_call, params={'device': None, 'backend': None, 'name': 'jvp(true_divide)', 'donated_invars': (False, False), 'inline': True, 'call_jaxpr': { lambda ; a:f32[] b:f32[]. let c:f32[] = div b a in (c,) }}, source_info=<jaxlib.xla_extension.Traceback object at 0x7f87d860bdf0>)\n",
      "[-9.3728304e-06 -3.9409846e-05 -5.1409006e-06]\n",
      "1.2958964\n",
      "Traced<ConcreteArray(1.2958965301513672, dtype=float32)>with<JVPTrace(level=2/0)> with\n",
      "  primal = DeviceArray(1.2958965, dtype=float32)\n",
      "  tangent = Traced<ShapedArray(float32[])>with<JaxprTrace(level=1/0)> with\n",
      "    pval = (ShapedArray(float32[]), *)\n",
      "    recipe = JaxprEqnRecipe(eqn_id=<object object at 0x7f87e9ae2660>, invars=(Traced<ConcreteArray(20.0, dtype=float32):JaxprTrace(level=1/0)>, Traced<ShapedArray(float32[]):JaxprTrace(level=1/0)>), outvars=[<weakref at 0x7f87ea16c830; to 'JaxprTracer' at 0x7f87ea16c650>], primitive=xla_call, params={'device': None, 'backend': None, 'name': 'jvp(true_divide)', 'donated_invars': (False, False), 'inline': True, 'call_jaxpr': { lambda ; a:f32[] b:f32[]. let c:f32[] = div b a in (c,) }}, source_info=<jaxlib.xla_extension.Traceback object at 0x7f87d85944b0>)\n",
      "[-9.3728304e-06 -3.9409846e-05 -5.1409006e-06]\n",
      "1.2958965\n"
     ]
    },
    {
     "name": "stdout",
     "output_type": "stream",
     "text": [
      "Traced<ConcreteArray(1.2958965301513672, dtype=float32)>with<JVPTrace(level=2/0)> with\n",
      "  primal = DeviceArray(1.2958965, dtype=float32)\n",
      "  tangent = Traced<ShapedArray(float32[])>with<JaxprTrace(level=1/0)> with\n",
      "    pval = (ShapedArray(float32[]), *)\n",
      "    recipe = JaxprEqnRecipe(eqn_id=<object object at 0x7f87a8954660>, invars=(Traced<ConcreteArray(20.0, dtype=float32):JaxprTrace(level=1/0)>, Traced<ShapedArray(float32[]):JaxprTrace(level=1/0)>), outvars=[<weakref at 0x7f87ea152350; to 'JaxprTracer' at 0x7f87ea152170>], primitive=xla_call, params={'device': None, 'backend': None, 'name': 'jvp(true_divide)', 'donated_invars': (False, False), 'inline': True, 'call_jaxpr': { lambda ; a:f32[] b:f32[]. let c:f32[] = div b a in (c,) }}, source_info=<jaxlib.xla_extension.Traceback object at 0x7f87d8605d30>)\n",
      "[-9.372830e-06 -3.946945e-05 -5.155802e-06]\n",
      "1.2958964\n",
      "Traced<ConcreteArray(1.2958965301513672, dtype=float32)>with<JVPTrace(level=2/0)> with\n",
      "  primal = DeviceArray(1.2958965, dtype=float32)\n",
      "  tangent = Traced<ShapedArray(float32[])>with<JaxprTrace(level=1/0)> with\n",
      "    pval = (ShapedArray(float32[]), *)\n",
      "    recipe = JaxprEqnRecipe(eqn_id=<object object at 0x7f87a8a40660>, invars=(Traced<ConcreteArray(20.0, dtype=float32):JaxprTrace(level=1/0)>, Traced<ShapedArray(float32[]):JaxprTrace(level=1/0)>), outvars=[<weakref at 0x7f87ea1f3050; to 'JaxprTracer' at 0x7f87ea23de30>], primitive=xla_call, params={'device': None, 'backend': None, 'name': 'jvp(true_divide)', 'donated_invars': (False, False), 'inline': True, 'call_jaxpr': { lambda ; a:f32[] b:f32[]. let c:f32[] = div b a in (c,) }}, source_info=<jaxlib.xla_extension.Traceback object at 0x7f87d8594130>)\n",
      "[-9.3728304e-06 -3.9409846e-05 -5.1409006e-06]\n",
      "1.2958964\n",
      "Traced<ConcreteArray(1.2958965301513672, dtype=float32)>with<JVPTrace(level=2/0)> with\n",
      "  primal = DeviceArray(1.2958965, dtype=float32)\n",
      "  tangent = Traced<ShapedArray(float32[])>with<JaxprTrace(level=1/0)> with\n",
      "    pval = (ShapedArray(float32[]), *)\n",
      "    recipe = JaxprEqnRecipe(eqn_id=<object object at 0x7f87e9e30660>, invars=(Traced<ConcreteArray(20.0, dtype=float32):JaxprTrace(level=1/0)>, Traced<ShapedArray(float32[]):JaxprTrace(level=1/0)>), outvars=[<weakref at 0x7f87a8802cb0; to 'JaxprTracer' at 0x7f87a8802ad0>], primitive=xla_call, params={'device': None, 'backend': None, 'name': 'jvp(true_divide)', 'donated_invars': (False, False), 'inline': True, 'call_jaxpr': { lambda ; a:f32[] b:f32[]. let c:f32[] = div b a in (c,) }}, source_info=<jaxlib.xla_extension.Traceback object at 0x7f87d860b870>)\n",
      "[-9.3728304e-06 -3.9409846e-05 -5.1409006e-06]\n",
      "1.2958965\n",
      "Traced<ConcreteArray(1.2958965301513672, dtype=float32)>with<JVPTrace(level=2/0)> with\n",
      "  primal = DeviceArray(1.2958965, dtype=float32)\n",
      "  tangent = Traced<ShapedArray(float32[])>with<JaxprTrace(level=1/0)> with\n",
      "    pval = (ShapedArray(float32[]), *)\n",
      "    recipe = JaxprEqnRecipe(eqn_id=<object object at 0x7f87ea220660>, invars=(Traced<ConcreteArray(20.0, dtype=float32):JaxprTrace(level=1/0)>, Traced<ShapedArray(float32[]):JaxprTrace(level=1/0)>), outvars=[<weakref at 0x7f87ea1e67d0; to 'JaxprTracer' at 0x7f87ea1e65f0>], primitive=xla_call, params={'device': None, 'backend': None, 'name': 'jvp(true_divide)', 'donated_invars': (False, False), 'inline': True, 'call_jaxpr': { lambda ; a:f32[] b:f32[]. let c:f32[] = div b a in (c,) }}, source_info=<jaxlib.xla_extension.Traceback object at 0x7f87d860dcb0>)\n",
      "[-9.372830e-06 -3.946945e-05 -5.155802e-06]\n",
      "1.2958964\n",
      "Traced<ConcreteArray(1.2958965301513672, dtype=float32)>with<JVPTrace(level=2/0)> with\n",
      "  primal = DeviceArray(1.2958965, dtype=float32)\n",
      "  tangent = Traced<ShapedArray(float32[])>with<JaxprTrace(level=1/0)> with\n",
      "    pval = (ShapedArray(float32[]), *)\n",
      "    recipe = JaxprEqnRecipe(eqn_id=<object object at 0x7f87a8a63660>, invars=(Traced<ConcreteArray(20.0, dtype=float32):JaxprTrace(level=1/0)>, Traced<ShapedArray(float32[]):JaxprTrace(level=1/0)>), outvars=[<weakref at 0x7f87ea1dd4d0; to 'JaxprTracer' at 0x7f87ea1dd2f0>], primitive=xla_call, params={'device': None, 'backend': None, 'name': 'jvp(true_divide)', 'donated_invars': (False, False), 'inline': True, 'call_jaxpr': { lambda ; a:f32[] b:f32[]. let c:f32[] = div b a in (c,) }}, source_info=<jaxlib.xla_extension.Traceback object at 0x7f87e95dc070>)\n",
      "[-9.3728304e-06 -3.9409846e-05 -5.1409006e-06]\n",
      "1.2958964\n",
      "Traced<ConcreteArray(1.2958965301513672, dtype=float32)>with<JVPTrace(level=2/0)> with\n",
      "  primal = DeviceArray(1.2958965, dtype=float32)\n",
      "  tangent = Traced<ShapedArray(float32[])>with<JaxprTrace(level=1/0)> with\n",
      "    pval = (ShapedArray(float32[]), *)\n",
      "    recipe = JaxprEqnRecipe(eqn_id=<object object at 0x7f87ea225660>, invars=(Traced<ConcreteArray(20.0, dtype=float32):JaxprTrace(level=1/0)>, Traced<ShapedArray(float32[]):JaxprTrace(level=1/0)>), outvars=[<weakref at 0x7f87ea1f5170; to 'JaxprTracer' at 0x7f87ea1d4f50>], primitive=xla_call, params={'device': None, 'backend': None, 'name': 'jvp(true_divide)', 'donated_invars': (False, False), 'inline': True, 'call_jaxpr': { lambda ; a:f32[] b:f32[]. let c:f32[] = div b a in (c,) }}, source_info=<jaxlib.xla_extension.Traceback object at 0x7f87a887d370>)\n",
      "[-9.3728304e-06 -3.9409846e-05 -5.1409006e-06]\n",
      "1.2958965\n",
      "Traced<ConcreteArray(1.2958965301513672, dtype=float32)>with<JVPTrace(level=2/0)> with\n",
      "  primal = DeviceArray(1.2958965, dtype=float32)\n",
      "  tangent = Traced<ShapedArray(float32[])>with<JaxprTrace(level=1/0)> with\n",
      "    pval = (ShapedArray(float32[]), *)\n",
      "    recipe = JaxprEqnRecipe(eqn_id=<object object at 0x7f87a8a40670>, invars=(Traced<ConcreteArray(20.0, dtype=float32):JaxprTrace(level=1/0)>, Traced<ShapedArray(float32[]):JaxprTrace(level=1/0)>), outvars=[<weakref at 0x7f87ea1c2bf0; to 'JaxprTracer' at 0x7f87ea1c2a10>], primitive=xla_call, params={'device': None, 'backend': None, 'name': 'jvp(true_divide)', 'donated_invars': (False, False), 'inline': True, 'call_jaxpr': { lambda ; a:f32[] b:f32[]. let c:f32[] = div b a in (c,) }}, source_info=<jaxlib.xla_extension.Traceback object at 0x7f87e90c2530>)\n",
      "[-9.372830e-06 -3.946945e-05 -5.155802e-06]\n",
      "1.2958964\n",
      "Traced<ConcreteArray(1.2958965301513672, dtype=float32)>with<JVPTrace(level=2/0)> with\n",
      "  primal = DeviceArray(1.2958965, dtype=float32)\n",
      "  tangent = Traced<ShapedArray(float32[])>with<JaxprTrace(level=1/0)> with\n",
      "    pval = (ShapedArray(float32[]), *)\n",
      "    recipe = JaxprEqnRecipe(eqn_id=<object object at 0x7f87ea220660>, invars=(Traced<ConcreteArray(20.0, dtype=float32):JaxprTrace(level=1/0)>, Traced<ShapedArray(float32[]):JaxprTrace(level=1/0)>), outvars=[<weakref at 0x7f87ea1fc950; to 'JaxprTracer' at 0x7f87ea1fc770>], primitive=xla_call, params={'device': None, 'backend': None, 'name': 'jvp(true_divide)', 'donated_invars': (False, False), 'inline': True, 'call_jaxpr': { lambda ; a:f32[] b:f32[]. let c:f32[] = div b a in (c,) }}, source_info=<jaxlib.xla_extension.Traceback object at 0x7f87a87fec70>)\n",
      "[-9.3728304e-06 -3.9409846e-05 -5.1409006e-06]\n",
      "1.2958964\n",
      "Traced<ConcreteArray(1.2958965301513672, dtype=float32)>with<JVPTrace(level=2/0)> with\n",
      "  primal = DeviceArray(1.2958965, dtype=float32)\n",
      "  tangent = Traced<ShapedArray(float32[])>with<JaxprTrace(level=1/0)> with\n",
      "    pval = (ShapedArray(float32[]), *)\n",
      "    recipe = JaxprEqnRecipe(eqn_id=<object object at 0x7f87a8a63660>, invars=(Traced<ConcreteArray(20.0, dtype=float32):JaxprTrace(level=1/0)>, Traced<ShapedArray(float32[]):JaxprTrace(level=1/0)>), outvars=[<weakref at 0x7f87ea1f55f0; to 'JaxprTracer' at 0x7f87ea1f5410>], primitive=xla_call, params={'device': None, 'backend': None, 'name': 'jvp(true_divide)', 'donated_invars': (False, False), 'inline': True, 'call_jaxpr': { lambda ; a:f32[] b:f32[]. let c:f32[] = div b a in (c,) }}, source_info=<jaxlib.xla_extension.Traceback object at 0x7f87e9e22af0>)\n",
      "[-9.3728304e-06 -3.9409846e-05 -5.1409006e-06]\n",
      "1.2958965\n",
      "Traced<ConcreteArray(1.2958965301513672, dtype=float32)>with<JVPTrace(level=2/0)> with\n",
      "  primal = DeviceArray(1.2958965, dtype=float32)\n",
      "  tangent = Traced<ShapedArray(float32[])>with<JaxprTrace(level=1/0)> with\n",
      "    pval = (ShapedArray(float32[]), *)\n",
      "    recipe = JaxprEqnRecipe(eqn_id=<object object at 0x7f87ea225670>, invars=(Traced<ConcreteArray(20.0, dtype=float32):JaxprTrace(level=1/0)>, Traced<ShapedArray(float32[]):JaxprTrace(level=1/0)>), outvars=[<weakref at 0x7f87ea1f30b0; to 'JaxprTracer' at 0x7f87ea1f5e90>], primitive=xla_call, params={'device': None, 'backend': None, 'name': 'jvp(true_divide)', 'donated_invars': (False, False), 'inline': True, 'call_jaxpr': { lambda ; a:f32[] b:f32[]. let c:f32[] = div b a in (c,) }}, source_info=<jaxlib.xla_extension.Traceback object at 0x7f87d8594070>)\n",
      "[-9.372830e-06 -3.946945e-05 -5.155802e-06]\n",
      "1.2958964\n",
      "Traced<ConcreteArray(1.2958965301513672, dtype=float32)>with<JVPTrace(level=2/0)> with\n",
      "  primal = DeviceArray(1.2958965, dtype=float32)\n",
      "  tangent = Traced<ShapedArray(float32[])>with<JaxprTrace(level=1/0)> with\n",
      "    pval = (ShapedArray(float32[]), *)\n",
      "    recipe = JaxprEqnRecipe(eqn_id=<object object at 0x7f87a8a40660>, invars=(Traced<ConcreteArray(20.0, dtype=float32):JaxprTrace(level=1/0)>, Traced<ShapedArray(float32[]):JaxprTrace(level=1/0)>), outvars=[<weakref at 0x7f87ea1c6dd0; to 'JaxprTracer' at 0x7f87ea1c6bf0>], primitive=xla_call, params={'device': None, 'backend': None, 'name': 'jvp(true_divide)', 'donated_invars': (False, False), 'inline': True, 'call_jaxpr': { lambda ; a:f32[] b:f32[]. let c:f32[] = div b a in (c,) }}, source_info=<jaxlib.xla_extension.Traceback object at 0x7f87e9b23170>)\n",
      "[-9.3728304e-06 -3.9409846e-05 -5.1409006e-06]\n",
      "1.2958964\n",
      "Traced<ConcreteArray(1.2958965301513672, dtype=float32)>with<JVPTrace(level=2/0)> with\n",
      "  primal = DeviceArray(1.2958965, dtype=float32)\n",
      "  tangent = Traced<ShapedArray(float32[])>with<JaxprTrace(level=1/0)> with\n",
      "    pval = (ShapedArray(float32[]), *)\n",
      "    recipe = JaxprEqnRecipe(eqn_id=<object object at 0x7f87ea220660>, invars=(Traced<ConcreteArray(20.0, dtype=float32):JaxprTrace(level=1/0)>, Traced<ShapedArray(float32[]):JaxprTrace(level=1/0)>), outvars=[<weakref at 0x7f87ea1f3a70; to 'JaxprTracer' at 0x7f87ea1f3890>], primitive=xla_call, params={'device': None, 'backend': None, 'name': 'jvp(true_divide)', 'donated_invars': (False, False), 'inline': True, 'call_jaxpr': { lambda ; a:f32[] b:f32[]. let c:f32[] = div b a in (c,) }}, source_info=<jaxlib.xla_extension.Traceback object at 0x7f87e95dccb0>)\n",
      "[-9.3728304e-06 -3.9409846e-05 -5.1409006e-06]\n",
      "1.2958964\n"
     ]
    },
    {
     "name": "stdout",
     "output_type": "stream",
     "text": [
      "Traced<ConcreteArray(1.2958965301513672, dtype=float32)>with<JVPTrace(level=2/0)> with\n",
      "  primal = DeviceArray(1.2958965, dtype=float32)\n",
      "  tangent = Traced<ShapedArray(float32[])>with<JaxprTrace(level=1/0)> with\n",
      "    pval = (ShapedArray(float32[]), *)\n",
      "    recipe = JaxprEqnRecipe(eqn_id=<object object at 0x7f87a8a63660>, invars=(Traced<ConcreteArray(20.0, dtype=float32):JaxprTrace(level=1/0)>, Traced<ShapedArray(float32[]):JaxprTrace(level=1/0)>), outvars=[<weakref at 0x7f87ea1e3590; to 'JaxprTracer' at 0x7f87ea1e33b0>], primitive=xla_call, params={'device': None, 'backend': None, 'name': 'jvp(true_divide)', 'donated_invars': (False, False), 'inline': True, 'call_jaxpr': { lambda ; a:f32[] b:f32[]. let c:f32[] = div b a in (c,) }}, source_info=<jaxlib.xla_extension.Traceback object at 0x7f87a87fe0b0>)\n",
      "[-9.3728304e-06 -3.9409846e-05 -5.1409006e-06]\n",
      "1.2958964\n",
      "Traced<ConcreteArray(1.2958965301513672, dtype=float32)>with<JVPTrace(level=2/0)> with\n",
      "  primal = DeviceArray(1.2958965, dtype=float32)\n",
      "  tangent = Traced<ShapedArray(float32[])>with<JaxprTrace(level=1/0)> with\n",
      "    pval = (ShapedArray(float32[]), *)\n",
      "    recipe = JaxprEqnRecipe(eqn_id=<object object at 0x7f87ea225660>, invars=(Traced<ConcreteArray(20.0, dtype=float32):JaxprTrace(level=1/0)>, Traced<ShapedArray(float32[]):JaxprTrace(level=1/0)>), outvars=[<weakref at 0x7f87ea1ffd10; to 'JaxprTracer' at 0x7f87ea1ffad0>], primitive=xla_call, params={'device': None, 'backend': None, 'name': 'jvp(true_divide)', 'donated_invars': (False, False), 'inline': True, 'call_jaxpr': { lambda ; a:f32[] b:f32[]. let c:f32[] = div b a in (c,) }}, source_info=<jaxlib.xla_extension.Traceback object at 0x7f87d89011b0>)\n",
      "[-9.3728304e-06 -3.9409846e-05 -5.1409006e-06]\n",
      "1.2958964\n",
      "Traced<ConcreteArray(1.2958965301513672, dtype=float32)>with<JVPTrace(level=2/0)> with\n",
      "  primal = DeviceArray(1.2958965, dtype=float32)\n",
      "  tangent = Traced<ShapedArray(float32[])>with<JaxprTrace(level=1/0)> with\n",
      "    pval = (ShapedArray(float32[]), *)\n",
      "    recipe = JaxprEqnRecipe(eqn_id=<object object at 0x7f87ea1e3660>, invars=(Traced<ConcreteArray(20.0, dtype=float32):JaxprTrace(level=1/0)>, Traced<ShapedArray(float32[]):JaxprTrace(level=1/0)>), outvars=[<weakref at 0x7f87ea1fff50; to 'JaxprTracer' at 0x7f87ea1ff8f0>], primitive=xla_call, params={'device': None, 'backend': None, 'name': 'jvp(true_divide)', 'donated_invars': (False, False), 'inline': True, 'call_jaxpr': { lambda ; a:f32[] b:f32[]. let c:f32[] = div b a in (c,) }}, source_info=<jaxlib.xla_extension.Traceback object at 0x7f87e9e22030>)\n",
      "[-9.3728304e-06 -3.9409846e-05 -5.1409006e-06]\n",
      "1.2958964\n",
      "Traced<ConcreteArray(1.2958965301513672, dtype=float32)>with<JVPTrace(level=2/0)> with\n",
      "  primal = DeviceArray(1.2958965, dtype=float32)\n",
      "  tangent = Traced<ShapedArray(float32[])>with<JaxprTrace(level=1/0)> with\n",
      "    pval = (ShapedArray(float32[]), *)\n",
      "    recipe = JaxprEqnRecipe(eqn_id=<object object at 0x7f87ea1e3660>, invars=(Traced<ConcreteArray(20.0, dtype=float32):JaxprTrace(level=1/0)>, Traced<ShapedArray(float32[]):JaxprTrace(level=1/0)>), outvars=[<weakref at 0x7f87d89471d0; to 'JaxprTracer' at 0x7f87ea1ff890>], primitive=xla_call, params={'device': None, 'backend': None, 'name': 'jvp(true_divide)', 'donated_invars': (False, False), 'inline': True, 'call_jaxpr': { lambda ; a:f32[] b:f32[]. let c:f32[] = div b a in (c,) }}, source_info=<jaxlib.xla_extension.Traceback object at 0x7f87d851fdf0>)\n",
      "[-9.3728304e-06 -3.9409846e-05 -5.1409006e-06]\n",
      "1.2958964\n",
      "Traced<ConcreteArray(1.2958965301513672, dtype=float32)>with<JVPTrace(level=2/0)> with\n",
      "  primal = DeviceArray(1.2958965, dtype=float32)\n",
      "  tangent = Traced<ShapedArray(float32[])>with<JaxprTrace(level=1/0)> with\n",
      "    pval = (ShapedArray(float32[]), *)\n",
      "    recipe = JaxprEqnRecipe(eqn_id=<object object at 0x7f87ea1e3660>, invars=(Traced<ConcreteArray(20.0, dtype=float32):JaxprTrace(level=1/0)>, Traced<ShapedArray(float32[]):JaxprTrace(level=1/0)>), outvars=[<weakref at 0x7f87d89192f0; to 'JaxprTracer' at 0x7f87d89190b0>], primitive=xla_call, params={'device': None, 'backend': None, 'name': 'jvp(true_divide)', 'donated_invars': (False, False), 'inline': True, 'call_jaxpr': { lambda ; a:f32[] b:f32[]. let c:f32[] = div b a in (c,) }}, source_info=<jaxlib.xla_extension.Traceback object at 0x7f87e95dc6b0>)\n",
      "[-9.3728304e-06 -3.9409846e-05 -5.1409006e-06]\n",
      "1.2958964\n",
      "Traced<ConcreteArray(1.2958965301513672, dtype=float32)>with<JVPTrace(level=2/0)> with\n",
      "  primal = DeviceArray(1.2958965, dtype=float32)\n",
      "  tangent = Traced<ShapedArray(float32[])>with<JaxprTrace(level=1/0)> with\n",
      "    pval = (ShapedArray(float32[]), *)\n",
      "    recipe = JaxprEqnRecipe(eqn_id=<object object at 0x7f87ea1e3660>, invars=(Traced<ConcreteArray(20.0, dtype=float32):JaxprTrace(level=1/0)>, Traced<ShapedArray(float32[]):JaxprTrace(level=1/0)>), outvars=[<weakref at 0x7f87d894a530; to 'JaxprTracer' at 0x7f87d894a2f0>], primitive=xla_call, params={'device': None, 'backend': None, 'name': 'jvp(true_divide)', 'donated_invars': (False, False), 'inline': True, 'call_jaxpr': { lambda ; a:f32[] b:f32[]. let c:f32[] = div b a in (c,) }}, source_info=<jaxlib.xla_extension.Traceback object at 0x7f87d86023b0>)\n",
      "[-9.3728304e-06 -3.9409846e-05 -5.1409006e-06]\n",
      "1.2958965\n",
      "Traced<ConcreteArray(1.2958965301513672, dtype=float32)>with<JVPTrace(level=2/0)> with\n",
      "  primal = DeviceArray(1.2958965, dtype=float32)\n",
      "  tangent = Traced<ShapedArray(float32[])>with<JaxprTrace(level=1/0)> with\n",
      "    pval = (ShapedArray(float32[]), *)\n",
      "    recipe = JaxprEqnRecipe(eqn_id=<object object at 0x7f87ea1e3660>, invars=(Traced<ConcreteArray(20.0, dtype=float32):JaxprTrace(level=1/0)>, Traced<ShapedArray(float32[]):JaxprTrace(level=1/0)>), outvars=[<weakref at 0x7f87d894b5f0; to 'JaxprTracer' at 0x7f87d894b3b0>], primitive=xla_call, params={'device': None, 'backend': None, 'name': 'jvp(true_divide)', 'donated_invars': (False, False), 'inline': True, 'call_jaxpr': { lambda ; a:f32[] b:f32[]. let c:f32[] = div b a in (c,) }}, source_info=<jaxlib.xla_extension.Traceback object at 0x7f87a87fe830>)\n",
      "[-9.372830e-06 -3.946945e-05 -5.155802e-06]\n",
      "1.2958964\n",
      "Traced<ConcreteArray(1.2958965301513672, dtype=float32)>with<JVPTrace(level=2/0)> with\n",
      "  primal = DeviceArray(1.2958965, dtype=float32)\n",
      "  tangent = Traced<ShapedArray(float32[])>with<JaxprTrace(level=1/0)> with\n",
      "    pval = (ShapedArray(float32[]), *)\n",
      "    recipe = JaxprEqnRecipe(eqn_id=<object object at 0x7f87ea1e3660>, invars=(Traced<ConcreteArray(20.0, dtype=float32):JaxprTrace(level=1/0)>, Traced<ShapedArray(float32[]):JaxprTrace(level=1/0)>), outvars=[<weakref at 0x7f87d894b890; to 'JaxprTracer' at 0x7f87d894b2f0>], primitive=xla_call, params={'device': None, 'backend': None, 'name': 'jvp(true_divide)', 'donated_invars': (False, False), 'inline': True, 'call_jaxpr': { lambda ; a:f32[] b:f32[]. let c:f32[] = div b a in (c,) }}, source_info=<jaxlib.xla_extension.Traceback object at 0x7f87e95dc6b0>)\n",
      "[-9.3728304e-06 -3.9409846e-05 -5.1409006e-06]\n",
      "1.2958964\n",
      "Traced<ConcreteArray(1.2958965301513672, dtype=float32)>with<JVPTrace(level=2/0)> with\n",
      "  primal = DeviceArray(1.2958965, dtype=float32)\n",
      "  tangent = Traced<ShapedArray(float32[])>with<JaxprTrace(level=1/0)> with\n",
      "    pval = (ShapedArray(float32[]), *)\n",
      "    recipe = JaxprEqnRecipe(eqn_id=<object object at 0x7f87ea1e3660>, invars=(Traced<ConcreteArray(20.0, dtype=float32):JaxprTrace(level=1/0)>, Traced<ShapedArray(float32[]):JaxprTrace(level=1/0)>), outvars=[<weakref at 0x7f87d894bad0; to 'JaxprTracer' at 0x7f87d894b410>], primitive=xla_call, params={'device': None, 'backend': None, 'name': 'jvp(true_divide)', 'donated_invars': (False, False), 'inline': True, 'call_jaxpr': { lambda ; a:f32[] b:f32[]. let c:f32[] = div b a in (c,) }}, source_info=<jaxlib.xla_extension.Traceback object at 0x7f87d860b2f0>)\n",
      "[-9.3728304e-06 -3.9409846e-05 -5.1409006e-06]\n",
      "1.2958965\n",
      "Traced<ConcreteArray(1.2958965301513672, dtype=float32)>with<JVPTrace(level=2/0)> with\n",
      "  primal = DeviceArray(1.2958965, dtype=float32)\n",
      "  tangent = Traced<ShapedArray(float32[])>with<JaxprTrace(level=1/0)> with\n",
      "    pval = (ShapedArray(float32[]), *)\n",
      "    recipe = JaxprEqnRecipe(eqn_id=<object object at 0x7f87ea1e3660>, invars=(Traced<ConcreteArray(20.0, dtype=float32):JaxprTrace(level=1/0)>, Traced<ShapedArray(float32[]):JaxprTrace(level=1/0)>), outvars=[<weakref at 0x7f87d894b6b0; to 'JaxprTracer' at 0x7f87d894b3b0>], primitive=xla_call, params={'device': None, 'backend': None, 'name': 'jvp(true_divide)', 'donated_invars': (False, False), 'inline': True, 'call_jaxpr': { lambda ; a:f32[] b:f32[]. let c:f32[] = div b a in (c,) }}, source_info=<jaxlib.xla_extension.Traceback object at 0x7f87d83ae4b0>)\n",
      "[-9.372830e-06 -3.946945e-05 -5.155802e-06]\n",
      "1.2958964\n",
      "Traced<ConcreteArray(1.2958965301513672, dtype=float32)>with<JVPTrace(level=2/0)> with\n",
      "  primal = DeviceArray(1.2958965, dtype=float32)\n",
      "  tangent = Traced<ShapedArray(float32[])>with<JaxprTrace(level=1/0)> with\n",
      "    pval = (ShapedArray(float32[]), *)\n",
      "    recipe = JaxprEqnRecipe(eqn_id=<object object at 0x7f87ea1e3660>, invars=(Traced<ConcreteArray(20.0, dtype=float32):JaxprTrace(level=1/0)>, Traced<ShapedArray(float32[]):JaxprTrace(level=1/0)>), outvars=[<weakref at 0x7f87d894be30; to 'JaxprTracer' at 0x7f87d894b650>], primitive=xla_call, params={'device': None, 'backend': None, 'name': 'jvp(true_divide)', 'donated_invars': (False, False), 'inline': True, 'call_jaxpr': { lambda ; a:f32[] b:f32[]. let c:f32[] = div b a in (c,) }}, source_info=<jaxlib.xla_extension.Traceback object at 0x7f87e95dc130>)\n",
      "[-9.3728304e-06 -3.9409846e-05 -5.1409006e-06]\n",
      "1.2958964\n",
      "Traced<ConcreteArray(1.2958965301513672, dtype=float32)>with<JVPTrace(level=2/0)> with\n",
      "  primal = DeviceArray(1.2958965, dtype=float32)\n",
      "  tangent = Traced<ShapedArray(float32[])>with<JaxprTrace(level=1/0)> with\n",
      "    pval = (ShapedArray(float32[]), *)\n",
      "    recipe = JaxprEqnRecipe(eqn_id=<object object at 0x7f87a886b660>, invars=(Traced<ConcreteArray(20.0, dtype=float32):JaxprTrace(level=1/0)>, Traced<ShapedArray(float32[]):JaxprTrace(level=1/0)>), outvars=[<weakref at 0x7f87d89470b0; to 'JaxprTracer' at 0x7f87d894b050>], primitive=xla_call, params={'device': None, 'backend': None, 'name': 'jvp(true_divide)', 'donated_invars': (False, False), 'inline': True, 'call_jaxpr': { lambda ; a:f32[] b:f32[]. let c:f32[] = div b a in (c,) }}, source_info=<jaxlib.xla_extension.Traceback object at 0x7f87d860b0b0>)\n",
      "[-9.3728304e-06 -3.9409846e-05 -5.1409006e-06]\n",
      "1.2958965\n"
     ]
    },
    {
     "name": "stdout",
     "output_type": "stream",
     "text": [
      "Traced<ConcreteArray(1.2958965301513672, dtype=float32)>with<JVPTrace(level=2/0)> with\n",
      "  primal = DeviceArray(1.2958965, dtype=float32)\n",
      "  tangent = Traced<ShapedArray(float32[])>with<JaxprTrace(level=1/0)> with\n",
      "    pval = (ShapedArray(float32[]), *)\n",
      "    recipe = JaxprEqnRecipe(eqn_id=<object object at 0x7f87a8821660>, invars=(Traced<ConcreteArray(20.0, dtype=float32):JaxprTrace(level=1/0)>, Traced<ShapedArray(float32[]):JaxprTrace(level=1/0)>), outvars=[<weakref at 0x7f87d8949170; to 'JaxprTracer' at 0x7f87d894bef0>], primitive=xla_call, params={'device': None, 'backend': None, 'name': 'jvp(true_divide)', 'donated_invars': (False, False), 'inline': True, 'call_jaxpr': { lambda ; a:f32[] b:f32[]. let c:f32[] = div b a in (c,) }}, source_info=<jaxlib.xla_extension.Traceback object at 0x7f87d89010b0>)\n",
      "[-9.372830e-06 -3.946945e-05 -5.155802e-06]\n",
      "1.2958964\n",
      "Traced<ConcreteArray(1.2958965301513672, dtype=float32)>with<JVPTrace(level=2/0)> with\n",
      "  primal = DeviceArray(1.2958965, dtype=float32)\n",
      "  tangent = Traced<ShapedArray(float32[])>with<JaxprTrace(level=1/0)> with\n",
      "    pval = (ShapedArray(float32[]), *)\n",
      "    recipe = JaxprEqnRecipe(eqn_id=<object object at 0x7f87a89a6660>, invars=(Traced<ConcreteArray(20.0, dtype=float32):JaxprTrace(level=1/0)>, Traced<ShapedArray(float32[]):JaxprTrace(level=1/0)>), outvars=[<weakref at 0x7f87d8950410; to 'JaxprTracer' at 0x7f87d89501d0>], primitive=xla_call, params={'device': None, 'backend': None, 'name': 'jvp(true_divide)', 'donated_invars': (False, False), 'inline': True, 'call_jaxpr': { lambda ; a:f32[] b:f32[]. let c:f32[] = div b a in (c,) }}, source_info=<jaxlib.xla_extension.Traceback object at 0x7f87d89019b0>)\n",
      "[-9.3728304e-06 -3.9409846e-05 -5.1409006e-06]\n",
      "1.2958964\n",
      "Traced<ConcreteArray(1.2958965301513672, dtype=float32)>with<JVPTrace(level=2/0)> with\n",
      "  primal = DeviceArray(1.2958965, dtype=float32)\n",
      "  tangent = Traced<ShapedArray(float32[])>with<JaxprTrace(level=1/0)> with\n",
      "    pval = (ShapedArray(float32[]), *)\n",
      "    recipe = JaxprEqnRecipe(eqn_id=<object object at 0x7f87ea169660>, invars=(Traced<ConcreteArray(20.0, dtype=float32):JaxprTrace(level=1/0)>, Traced<ShapedArray(float32[]):JaxprTrace(level=1/0)>), outvars=[<weakref at 0x7f87d8947650; to 'JaxprTracer' at 0x7f87d8947410>], primitive=xla_call, params={'device': None, 'backend': None, 'name': 'jvp(true_divide)', 'donated_invars': (False, False), 'inline': True, 'call_jaxpr': { lambda ; a:f32[] b:f32[]. let c:f32[] = div b a in (c,) }}, source_info=<jaxlib.xla_extension.Traceback object at 0x7f87d8594430>)\n",
      "[-9.3728304e-06 -3.9409846e-05 -5.1409006e-06]\n",
      "1.2958965\n",
      "Traced<ConcreteArray(1.2958965301513672, dtype=float32)>with<JVPTrace(level=2/0)> with\n",
      "  primal = DeviceArray(1.2958965, dtype=float32)\n",
      "  tangent = Traced<ShapedArray(float32[])>with<JaxprTrace(level=1/0)> with\n",
      "    pval = (ShapedArray(float32[]), *)\n",
      "    recipe = JaxprEqnRecipe(eqn_id=<object object at 0x7f87ea1e3660>, invars=(Traced<ConcreteArray(20.0, dtype=float32):JaxprTrace(level=1/0)>, Traced<ShapedArray(float32[]):JaxprTrace(level=1/0)>), outvars=[<weakref at 0x7f87d89474d0; to 'JaxprTracer' at 0x7f87d8947650>], primitive=xla_call, params={'device': None, 'backend': None, 'name': 'jvp(true_divide)', 'donated_invars': (False, False), 'inline': True, 'call_jaxpr': { lambda ; a:f32[] b:f32[]. let c:f32[] = div b a in (c,) }}, source_info=<jaxlib.xla_extension.Traceback object at 0x7f87d860b330>)\n",
      "[-9.372830e-06 -3.946945e-05 -5.155802e-06]\n",
      "1.2958964\n",
      "Traced<ConcreteArray(1.2958965301513672, dtype=float32)>with<JVPTrace(level=2/0)> with\n",
      "  primal = DeviceArray(1.2958965, dtype=float32)\n",
      "  tangent = Traced<ShapedArray(float32[])>with<JaxprTrace(level=1/0)> with\n",
      "    pval = (ShapedArray(float32[]), *)\n",
      "    recipe = JaxprEqnRecipe(eqn_id=<object object at 0x7f87a886b660>, invars=(Traced<ConcreteArray(20.0, dtype=float32):JaxprTrace(level=1/0)>, Traced<ShapedArray(float32[]):JaxprTrace(level=1/0)>), outvars=[<weakref at 0x7f87d89479b0; to 'JaxprTracer' at 0x7f87d8947170>], primitive=xla_call, params={'device': None, 'backend': None, 'name': 'jvp(true_divide)', 'donated_invars': (False, False), 'inline': True, 'call_jaxpr': { lambda ; a:f32[] b:f32[]. let c:f32[] = div b a in (c,) }}, source_info=<jaxlib.xla_extension.Traceback object at 0x7f87d8602370>)\n",
      "[-9.3728304e-06 -3.9409846e-05 -5.1409006e-06]\n",
      "1.2958964\n",
      "Traced<ConcreteArray(1.2958965301513672, dtype=float32)>with<JVPTrace(level=2/0)> with\n",
      "  primal = DeviceArray(1.2958965, dtype=float32)\n",
      "  tangent = Traced<ShapedArray(float32[])>with<JaxprTrace(level=1/0)> with\n",
      "    pval = (ShapedArray(float32[]), *)\n",
      "    recipe = JaxprEqnRecipe(eqn_id=<object object at 0x7f87a8821660>, invars=(Traced<ConcreteArray(20.0, dtype=float32):JaxprTrace(level=1/0)>, Traced<ShapedArray(float32[]):JaxprTrace(level=1/0)>), outvars=[<weakref at 0x7f87d8947bf0; to 'JaxprTracer' at 0x7f87d8947470>], primitive=xla_call, params={'device': None, 'backend': None, 'name': 'jvp(true_divide)', 'donated_invars': (False, False), 'inline': True, 'call_jaxpr': { lambda ; a:f32[] b:f32[]. let c:f32[] = div b a in (c,) }}, source_info=<jaxlib.xla_extension.Traceback object at 0x7f87d8901db0>)\n",
      "[-9.3728304e-06 -3.9409846e-05 -5.1409006e-06]\n",
      "1.2958965\n",
      "Traced<ConcreteArray(1.2958965301513672, dtype=float32)>with<JVPTrace(level=2/0)> with\n",
      "  primal = DeviceArray(1.2958965, dtype=float32)\n",
      "  tangent = Traced<ShapedArray(float32[])>with<JaxprTrace(level=1/0)> with\n",
      "    pval = (ShapedArray(float32[]), *)\n",
      "    recipe = JaxprEqnRecipe(eqn_id=<object object at 0x7f87a89a6670>, invars=(Traced<ConcreteArray(20.0, dtype=float32):JaxprTrace(level=1/0)>, Traced<ShapedArray(float32[]):JaxprTrace(level=1/0)>), outvars=[<weakref at 0x7f87d89474d0; to 'JaxprTracer' at 0x7f87d8947cb0>], primitive=xla_call, params={'device': None, 'backend': None, 'name': 'jvp(true_divide)', 'donated_invars': (False, False), 'inline': True, 'call_jaxpr': { lambda ; a:f32[] b:f32[]. let c:f32[] = div b a in (c,) }}, source_info=<jaxlib.xla_extension.Traceback object at 0x7f87d8605e70>)\n",
      "[-9.372830e-06 -3.946945e-05 -5.155802e-06]\n",
      "1.2958964\n",
      "Traced<ConcreteArray(1.2958965301513672, dtype=float32)>with<JVPTrace(level=2/0)> with\n",
      "  primal = DeviceArray(1.2958965, dtype=float32)\n",
      "  tangent = Traced<ShapedArray(float32[])>with<JaxprTrace(level=1/0)> with\n",
      "    pval = (ShapedArray(float32[]), *)\n",
      "    recipe = JaxprEqnRecipe(eqn_id=<object object at 0x7f87ea169660>, invars=(Traced<ConcreteArray(20.0, dtype=float32):JaxprTrace(level=1/0)>, Traced<ShapedArray(float32[]):JaxprTrace(level=1/0)>), outvars=[<weakref at 0x7f87d8947f50; to 'JaxprTracer' at 0x7f87d8947b30>], primitive=xla_call, params={'device': None, 'backend': None, 'name': 'jvp(true_divide)', 'donated_invars': (False, False), 'inline': True, 'call_jaxpr': { lambda ; a:f32[] b:f32[]. let c:f32[] = div b a in (c,) }}, source_info=<jaxlib.xla_extension.Traceback object at 0x7f87d860b9f0>)\n",
      "[-9.3728304e-06 -3.9409846e-05 -5.1409006e-06]\n",
      "1.2958964\n",
      "Traced<ConcreteArray(1.2958965301513672, dtype=float32)>with<JVPTrace(level=2/0)> with\n",
      "  primal = DeviceArray(1.2958965, dtype=float32)\n",
      "  tangent = Traced<ShapedArray(float32[])>with<JaxprTrace(level=1/0)> with\n",
      "    pval = (ShapedArray(float32[]), *)\n",
      "    recipe = JaxprEqnRecipe(eqn_id=<object object at 0x7f87ea1e3660>, invars=(Traced<ConcreteArray(20.0, dtype=float32):JaxprTrace(level=1/0)>, Traced<ShapedArray(float32[]):JaxprTrace(level=1/0)>), outvars=[<weakref at 0x7f87d893f1d0; to 'JaxprTracer' at 0x7f87d8947530>], primitive=xla_call, params={'device': None, 'backend': None, 'name': 'jvp(true_divide)', 'donated_invars': (False, False), 'inline': True, 'call_jaxpr': { lambda ; a:f32[] b:f32[]. let c:f32[] = div b a in (c,) }}, source_info=<jaxlib.xla_extension.Traceback object at 0x7f87a87fe8b0>)\n",
      "[-9.3728304e-06 -3.9409846e-05 -5.1409006e-06]\n",
      "1.2958965\n",
      "Traced<ConcreteArray(1.2958965301513672, dtype=float32)>with<JVPTrace(level=2/0)> with\n",
      "  primal = DeviceArray(1.2958965, dtype=float32)\n",
      "  tangent = Traced<ShapedArray(float32[])>with<JaxprTrace(level=1/0)> with\n",
      "    pval = (ShapedArray(float32[]), *)\n",
      "    recipe = JaxprEqnRecipe(eqn_id=<object object at 0x7f87a886b660>, invars=(Traced<ConcreteArray(20.0, dtype=float32):JaxprTrace(level=1/0)>, Traced<ShapedArray(float32[]):JaxprTrace(level=1/0)>), outvars=[<weakref at 0x7f87d8949290; to 'JaxprTracer' at 0x7f87d8949050>], primitive=xla_call, params={'device': None, 'backend': None, 'name': 'jvp(true_divide)', 'donated_invars': (False, False), 'inline': True, 'call_jaxpr': { lambda ; a:f32[] b:f32[]. let c:f32[] = div b a in (c,) }}, source_info=<jaxlib.xla_extension.Traceback object at 0x7f87d8602270>)\n",
      "[-9.372830e-06 -3.946945e-05 -5.155802e-06]\n",
      "1.2958964\n",
      "Traced<ConcreteArray(1.2958965301513672, dtype=float32)>with<JVPTrace(level=2/0)> with\n",
      "  primal = DeviceArray(1.2958965, dtype=float32)\n",
      "  tangent = Traced<ShapedArray(float32[])>with<JaxprTrace(level=1/0)> with\n",
      "    pval = (ShapedArray(float32[]), *)\n",
      "    recipe = JaxprEqnRecipe(eqn_id=<object object at 0x7f87a8821660>, invars=(Traced<ConcreteArray(20.0, dtype=float32):JaxprTrace(level=1/0)>, Traced<ShapedArray(float32[]):JaxprTrace(level=1/0)>), outvars=[<weakref at 0x7f87d894a530; to 'JaxprTracer' at 0x7f87d894a2f0>], primitive=xla_call, params={'device': None, 'backend': None, 'name': 'jvp(true_divide)', 'donated_invars': (False, False), 'inline': True, 'call_jaxpr': { lambda ; a:f32[] b:f32[]. let c:f32[] = div b a in (c,) }}, source_info=<jaxlib.xla_extension.Traceback object at 0x7f87d8605b70>)\n",
      "[-9.3728304e-06 -3.9409846e-05 -5.1409006e-06]\n",
      "1.2958965\n",
      "Traced<ConcreteArray(1.2958965301513672, dtype=float32)>with<JVPTrace(level=2/0)> with\n",
      "  primal = DeviceArray(1.2958965, dtype=float32)\n",
      "  tangent = Traced<ShapedArray(float32[])>with<JaxprTrace(level=1/0)> with\n",
      "    pval = (ShapedArray(float32[]), *)\n",
      "    recipe = JaxprEqnRecipe(eqn_id=<object object at 0x7f87ea169670>, invars=(Traced<ConcreteArray(20.0, dtype=float32):JaxprTrace(level=1/0)>, Traced<ShapedArray(float32[]):JaxprTrace(level=1/0)>), outvars=[<weakref at 0x7f87d8949710; to 'JaxprTracer' at 0x7f87d89494d0>], primitive=xla_call, params={'device': None, 'backend': None, 'name': 'jvp(true_divide)', 'donated_invars': (False, False), 'inline': True, 'call_jaxpr': { lambda ; a:f32[] b:f32[]. let c:f32[] = div b a in (c,) }}, source_info=<jaxlib.xla_extension.Traceback object at 0x7f87a887d9b0>)\n",
      "[-2.5928020e-06 -1.2747943e-05  1.2546778e-05]\n",
      "1.2958965\n",
      "Desired error not necessarily achieved due to precision loss.\n"
     ]
    }
   ],
   "source": [
    "n_params = int(dim*(dim-1)/2)\n",
    "params = np.random.normal(size=(n_params))# + np.eye(dim)\n",
    "res = op.minimize(predict_all,\n",
    "           params,\n",
    "           (x,dim,basis_tensor),\n",
    "           jac=grad_wrapper,\n",
    "           method='BFGS'\n",
    "           )\n",
    "print(res.message)"
   ]
  },
  {
   "cell_type": "code",
   "execution_count": 141,
   "metadata": {},
   "outputs": [
    {
     "name": "stdout",
     "output_type": "stream",
     "text": [
      "Desired error not necessarily achieved due to precision loss.\n"
     ]
    }
   ],
   "source": [
    "print(res.message)"
   ]
  },
  {
   "cell_type": "code",
   "execution_count": 142,
   "metadata": {},
   "outputs": [],
   "source": [
    "out = res.x"
   ]
  },
  {
   "cell_type": "code",
   "execution_count": 143,
   "metadata": {},
   "outputs": [],
   "source": [
    "skewM = np.einsum('i...,i...',out,basis_tensor)\n",
    "Ainf = caley_transform(skewM,dim)"
   ]
  },
  {
   "cell_type": "code",
   "execution_count": 144,
   "metadata": {},
   "outputs": [
    {
     "name": "stdout",
     "output_type": "stream",
     "text": [
      "True\n"
     ]
    }
   ],
   "source": [
    "assert np.all(skewM==-skewM.T)\n",
    "print(np.all(skewM==-skewM.T))"
   ]
  },
  {
   "cell_type": "code",
   "execution_count": null,
   "metadata": {},
   "outputs": [],
   "source": []
  },
  {
   "cell_type": "code",
   "execution_count": 145,
   "metadata": {},
   "outputs": [
    {
     "data": {
      "text/plain": [
       "1.0"
      ]
     },
     "execution_count": 145,
     "metadata": {},
     "output_type": "execute_result"
    }
   ],
   "source": [
    "np.linalg.det(Ainf)"
   ]
  },
  {
   "cell_type": "code",
   "execution_count": 146,
   "metadata": {},
   "outputs": [
    {
     "data": {
      "text/plain": [
       "True"
      ]
     },
     "execution_count": 146,
     "metadata": {},
     "output_type": "execute_result"
    }
   ],
   "source": [
    "np.allclose(np.linalg.norm(Ainf,axis=0),1)"
   ]
  },
  {
   "cell_type": "code",
   "execution_count": 147,
   "metadata": {},
   "outputs": [
    {
     "data": {
      "text/plain": [
       "0.08699770923703909"
      ]
     },
     "execution_count": 147,
     "metadata": {},
     "output_type": "execute_result"
    }
   ],
   "source": [
    "np.min([np.sum(np.abs(np.linalg.matrix_power(Ainf,i)-np.eye(3))) for i in range(1,150)])"
   ]
  },
  {
   "cell_type": "code",
   "execution_count": 148,
   "metadata": {},
   "outputs": [
    {
     "data": {
      "text/plain": [
       "0.0"
      ]
     },
     "execution_count": 148,
     "metadata": {},
     "output_type": "execute_result"
    }
   ],
   "source": [
    "np.min([np.sum(np.abs(np.linalg.matrix_power(Ainf,i)-np.eye(3))) for i in range(150)])"
   ]
  },
  {
   "cell_type": "code",
   "execution_count": 149,
   "metadata": {},
   "outputs": [
    {
     "data": {
      "text/plain": [
       "(9, 3, 1)"
      ]
     },
     "execution_count": 149,
     "metadata": {},
     "output_type": "execute_result"
    }
   ],
   "source": [
    "(np.linalg.matrix_power(A,1)@x).shape"
   ]
  },
  {
   "cell_type": "code",
   "execution_count": 153,
   "metadata": {},
   "outputs": [
    {
     "data": {
      "text/plain": [
       "1.0"
      ]
     },
     "execution_count": 153,
     "metadata": {},
     "output_type": "execute_result"
    }
   ],
   "source": [
    "np.linalg.det(Ainf)"
   ]
  },
  {
   "cell_type": "code",
   "execution_count": 150,
   "metadata": {},
   "outputs": [
    {
     "data": {
      "image/png": "[encoded data removed]",
      "text/plain": [
       "<Figure size 1008x216 with 3 Axes>"
      ]
     },
     "metadata": {
      "needs_background": "light"
     },
     "output_type": "display_data"
    }
   ],
   "source": [
    "plt.figure(figsize=(14,3))\n",
    "\n",
    "for i in range(dim):\n",
    "    \n",
    "    plt.subplot(1,dim,i+1)\n",
    "    plt.plot((np.linalg.matrix_power(Ainf,1)@x)[:,i],marker='.')\n",
    "    plt.plot((np.linalg.matrix_power(A,1)@x)[:,i],marker='.')\n",
    "    #plt."
   ]
  },
  {
   "cell_type": "code",
   "execution_count": 151,
   "metadata": {},
   "outputs": [
    {
     "data": {
      "text/plain": [
       "<matplotlib.image.AxesImage at 0x7f87f8d35cd0>"
      ]
     },
     "execution_count": 151,
     "metadata": {},
     "output_type": "execute_result"
    },
    {
     "data": {
      "image/png": "[encoded data removed]",
      "text/plain": [
       "<Figure size 432x288 with 1 Axes>"
      ]
     },
     "metadata": {
      "needs_background": "light"
     },
     "output_type": "display_data"
    }
   ],
   "source": [
    "plt.imshow(Ainf)"
   ]
  },
  {
   "cell_type": "code",
   "execution_count": null,
   "metadata": {},
   "outputs": [],
   "source": []
  },
  {
   "cell_type": "markdown",
   "metadata": {},
   "source": [
    "# Check MCMC fit"
   ]
  },
  {
   "cell_type": "code",
   "execution_count": null,
   "metadata": {},
   "outputs": [],
   "source": []
  },
  {
   "cell_type": "markdown",
   "metadata": {},
   "source": [
    "# Get this to work with cell activity with structured noise"
   ]
  },
  {
   "cell_type": "code",
   "execution_count": 692,
   "metadata": {},
   "outputs": [],
   "source": [
    "n_neurons = 120\n",
    "dim = 3\n",
    "nT = 9\n",
    "\n",
    "frac_noise_dynamics = .3\n",
    "\n",
    "x0 = np.random.normal(size=(dim,1))\n",
    "A_ = np.random.normal(size=(dim,dim))\n",
    "\n",
    "A = np.zeros([dim,dim])\n",
    "\n",
    "for i in range(dim):\n",
    "    A[i,i:] = A_[i:,i]\n",
    "    A[i:,i] = -A_[i:,i]\n",
    "    \n",
    "A[np.diag_indices_from(A)] = 0\n",
    "A = (np.eye(dim)-A)@np.linalg.inv(np.eye(dim)+A)\n",
    "\n",
    "x = np.array([np.linalg.matrix_power(A,i)@x0 for i in range(nT)])\n",
    "\n",
    "x = frac_noise_dynamics*x #+ (1-frac_noise_dynamics)*np.random.normal(size=x.shape)\n",
    "\n",
    "\n",
    "W = np.random.normal(size=(n_neurons,dim))\n",
    "basis_tensor = get_basis_tensor(dim)\n",
    "n_bases = basis_tensor.shape[0]"
   ]
  },
  {
   "cell_type": "code",
   "execution_count": 693,
   "metadata": {},
   "outputs": [],
   "source": [
    "def get_spatial_tuning(poke_pos,peak_loc,width):\n",
    "    \"\"\"\"\"\"\n",
    "    #for i in range(9):\n",
    "    distance_matrix = np.abs((poke_pos[peak_loc]-poke_pos)**2).sum(axis=1)\n",
    "    fr = norm(scale=width).pdf(distance_matrix)\n",
    "    return fr#distance_matrix\n",
    "        \n",
    "def get_task_tuning_line(seq,peak_loc,width):\n",
    "    task_dists = np.abs(peak_loc-np.arange(9))\n",
    "#     fr = norm(scale=width).pdf(task_dists)\n",
    "    fr = np.sin(task_dists)\n",
    "    return fr[seq]#task_dists[seq]#[task_dists[i] for i in seq]#fr#[fr[i] for i in seq]"
   ]
  },
  {
   "cell_type": "code",
   "execution_count": 694,
   "metadata": {},
   "outputs": [
    {
     "ename": "NameError",
     "evalue": "name 'poke_pos' is not defined",
     "output_type": "error",
     "traceback": [
      "\u001b[0;31m---------------------------------------------------------------------------\u001b[0m",
      "\u001b[0;31mNameError\u001b[0m                                 Traceback (most recent call last)",
      "\u001b[0;32m<ipython-input-694-7182f4639e40>\u001b[0m in \u001b[0;36m<module>\u001b[0;34m\u001b[0m\n\u001b[1;32m      4\u001b[0m     \u001b[0mstd_space\u001b[0m \u001b[0;34m=\u001b[0m \u001b[0mnp\u001b[0m\u001b[0;34m.\u001b[0m\u001b[0mrandom\u001b[0m\u001b[0;34m.\u001b[0m\u001b[0mrandint\u001b[0m\u001b[0;34m(\u001b[0m\u001b[0;36m1000\u001b[0m\u001b[0;34m,\u001b[0m\u001b[0;36m12000\u001b[0m\u001b[0;34m)\u001b[0m\u001b[0;34m\u001b[0m\u001b[0;34m\u001b[0m\u001b[0m\n\u001b[1;32m      5\u001b[0m \u001b[0;34m\u001b[0m\u001b[0m\n\u001b[0;32m----> 6\u001b[0;31m     \u001b[0mlamda1\u001b[0m \u001b[0;34m=\u001b[0m \u001b[0mget_spatial_tuning\u001b[0m\u001b[0;34m(\u001b[0m\u001b[0mpoke_pos\u001b[0m\u001b[0;34m,\u001b[0m\u001b[0mpeak_space\u001b[0m\u001b[0;34m,\u001b[0m\u001b[0mstd_space\u001b[0m\u001b[0;34m)\u001b[0m\u001b[0;34m\u001b[0m\u001b[0;34m\u001b[0m\u001b[0m\n\u001b[0m\u001b[1;32m      7\u001b[0m     \u001b[0mlamda1\u001b[0m \u001b[0;34m=\u001b[0m \u001b[0mlamda1\u001b[0m\u001b[0;34m/\u001b[0m\u001b[0mnp\u001b[0m\u001b[0;34m.\u001b[0m\u001b[0mmax\u001b[0m\u001b[0;34m(\u001b[0m\u001b[0mlamda1\u001b[0m\u001b[0;34m)\u001b[0m\u001b[0;34m\u001b[0m\u001b[0;34m\u001b[0m\u001b[0m\n\u001b[1;32m      8\u001b[0m \u001b[0;34m\u001b[0m\u001b[0m\n",
      "\u001b[0;31mNameError\u001b[0m: name 'poke_pos' is not defined"
     ]
    }
   ],
   "source": [
    "\n",
    "\n",
    "\n",
    "act_matrix = []\n",
    "for nix in range(n_neurons):\n",
    "    peak_space = np.random.randint(0,9)\n",
    "    std_space = np.random.randint(1000,12000)\n",
    "    \n",
    "    lamda1 = get_spatial_tuning(poke_pos,peak_space,std_space)\n",
    "    lamda1 = lamda1/np.max(lamda1)\n",
    "    \n",
    "    #peak_t1 = np.random.randint(0,9)\n",
    "    #std_t1 = np.random.randint(3,6)\n",
    "    #lamda2 = 1*get_task_tuning_line(seq01,peak_t1,std_t1)\n",
    "    #lamda2 = lamda2/np.max(lamda2)\n",
    "    #task_tuning = \n",
    "    \n",
    "    \n",
    "    #peak_t2= np.random.randint(0,9)\n",
    "    #std_t2 = np.random.randint(1,40)/10.\n",
    "    w1 = np.random.normal()\n",
    "    w2 = np.random.normal()\n",
    "    activity = lamda1 + lamda2 + np.random.normal(scale=.1,size=9)\n",
    "    act_matrix.append(activity.copy())\n",
    "act_matrix = np.array(act_matrix).T"
   ]
  },
  {
   "cell_type": "code",
   "execution_count": null,
   "metadata": {},
   "outputs": [],
   "source": []
  },
  {
   "cell_type": "code",
   "execution_count": null,
   "metadata": {},
   "outputs": [],
   "source": []
  }
 ],
 "metadata": {
  "kernelspec": {
   "display_name": "Python 3",
   "language": "python",
   "name": "python3"
  },
  "language_info": {
   "codemirror_mode": {
    "name": "ipython",
    "version": 3
   },
   "file_extension": ".py",
   "mimetype": "text/x-python",
   "name": "python",
   "nbconvert_exporter": "python",
   "pygments_lexer": "ipython3",
   "version": "3.7.4"
  }
 },
 "nbformat": 4,
 "nbformat_minor": 2
}
