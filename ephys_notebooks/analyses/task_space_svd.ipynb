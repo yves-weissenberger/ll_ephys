{
 "cells": [
  {
   "cell_type": "markdown",
   "metadata": {},
   "source": [
    "# In this dataset\n",
    "\n",
    "1. does it match the statistics of a high dimensional grid representation\n",
    "2. Is the taurus real\n",
    "3. test whether you can do the grid realignment like carpenter also in the big maze\n",
    "4. show that correlation structure is preserved only in as far as cells are spatial"
   ]
  },
  {
   "cell_type": "code",
   "execution_count": 1,
   "metadata": {},
   "outputs": [
    {
     "name": "stderr",
     "output_type": "stream",
     "text": [
      "/Users/yves/opt/anaconda3/lib/python3.7/site-packages/statsmodels/tools/_testing.py:19: FutureWarning: pandas.util.testing is deprecated. Use the functions in the public API at pandas.testing instead.\n",
      "  import pandas.util.testing as tm\n"
     ]
    }
   ],
   "source": [
    "%matplotlib inline\n",
    "import numpy as np\n",
    "import matplotlib.pyplot as plt\n",
    "import os\n",
    "import re\n",
    "import seaborn\n",
    "import pandas as pd\n",
    "#import cv2\n",
    "import scipy.optimize as op\n",
    "import sys\n",
    "import networkx as nx\n",
    "import time\n",
    "import matplotlib\n",
    "import copy as cp\n",
    "import scipy.ndimage as ndi \n",
    "from scipy.ndimage import gaussian_filter1d\n",
    "import scipy as sp\n",
    "import scipy.signal\n",
    "seaborn.set(style='ticks',font_scale=1.5)\n",
    "\n",
    "sys.path.append('/Users/yves/Documents/Code/mec_ephys/packages')\n"
   ]
  },
  {
   "cell_type": "code",
   "execution_count": 2,
   "metadata": {},
   "outputs": [
    {
     "ename": "ModuleNotFoundError",
     "evalue": "No module named 'mecll.proc_beh'",
     "output_type": "error",
     "traceback": [
      "\u001b[0;31m---------------------------------------------------------------------------\u001b[0m",
      "\u001b[0;31mModuleNotFoundError\u001b[0m                       Traceback (most recent call last)",
      "\u001b[0;32m<ipython-input-2-e4b49fc5a62e>\u001b[0m in \u001b[0;36m<module>\u001b[0;34m\u001b[0m\n\u001b[1;32m      2\u001b[0m \u001b[0;34m\u001b[0m\u001b[0m\n\u001b[1;32m      3\u001b[0m \u001b[0;32mfrom\u001b[0m \u001b[0mmecll\u001b[0m\u001b[0;34m.\u001b[0m\u001b[0mrsync\u001b[0m \u001b[0;32mimport\u001b[0m \u001b[0mRsync_aligner\u001b[0m\u001b[0;34m\u001b[0m\u001b[0;34m\u001b[0m\u001b[0m\n\u001b[0;32m----> 4\u001b[0;31m \u001b[0;32mfrom\u001b[0m \u001b[0mmecll\u001b[0m\u001b[0;34m.\u001b[0m\u001b[0mproc_beh\u001b[0m \u001b[0;32mimport\u001b[0m \u001b[0mget_all_transition\u001b[0m\u001b[0;34m,\u001b[0m \u001b[0mget_transitions_state\u001b[0m\u001b[0;34m,\u001b[0m \u001b[0mbuild_poke_df\u001b[0m\u001b[0;34m\u001b[0m\u001b[0;34m\u001b[0m\u001b[0m\n\u001b[0m\u001b[1;32m      5\u001b[0m \u001b[0;32mfrom\u001b[0m \u001b[0mmecll\u001b[0m\u001b[0;34m.\u001b[0m\u001b[0mproc_neural\u001b[0m \u001b[0;32mimport\u001b[0m \u001b[0mget_all_resps\u001b[0m\u001b[0;34m,\u001b[0m \u001b[0mget_mean_resps\u001b[0m\u001b[0;34m\u001b[0m\u001b[0;34m\u001b[0m\u001b[0m\n\u001b[1;32m      6\u001b[0m \u001b[0;32mfrom\u001b[0m \u001b[0mmecll\u001b[0m\u001b[0;34m.\u001b[0m\u001b[0mload\u001b[0m \u001b[0;32mimport\u001b[0m \u001b[0mload_data\u001b[0m\u001b[0;34m\u001b[0m\u001b[0;34m\u001b[0m\u001b[0m\n",
      "\u001b[0;31mModuleNotFoundError\u001b[0m: No module named 'mecll.proc_beh'"
     ]
    }
   ],
   "source": [
    "sys.path.append('/Users/yves/Documents/Code/mec_ephys/packages')\n",
    "\n",
    "from mecll.rsync import Rsync_aligner\n",
    "from mecll.proc_beh import get_all_transition, get_transitions_state, build_poke_df\n",
    "from mecll.proc_neural import get_all_resps, get_mean_resps\n",
    "from mecll.load import load_data\n"
   ]
  },
  {
   "cell_type": "code",
   "execution_count": 3,
   "metadata": {},
   "outputs": [],
   "source": [
    "sys.path.append('/Users/yves/Documents/Code/mec_ephys/packages')\n",
    "\n",
    "from mecll.rsync import Rsync_aligner\n",
    "from mecll.process_data.proc_beh import get_all_transitions, get_transitions_state, build_poke_df\n",
    "from mecll.process_data.proc_neural import get_all_resps, get_mean_resps\n",
    "from mecll.load import load_data\n",
    "from mecll.SVD_analysis import get_mean_activity_matrix, variance_explained_both, variance_explained_U, variance_explained_U\n",
    "from mecll.utils import align_activity"
   ]
  },
  {
   "cell_type": "code",
   "execution_count": 4,
   "metadata": {},
   "outputs": [],
   "source": [
    "poke_pos = np.array([1,-1])*np.array([ [149,0],\n",
    "                                 [68,19],[231,19],\n",
    "                               [0,62],[149,62],[298,62],\n",
    "                                 [68,105],[231,105],\n",
    "                                      [149,124]])"
   ]
  },
  {
   "cell_type": "markdown",
   "metadata": {},
   "source": [
    "# From pycontrol"
   ]
  },
  {
   "cell_type": "code",
   "execution_count": 5,
   "metadata": {},
   "outputs": [
    {
     "name": "stdout",
     "output_type": "stream",
     "text": [
      "567 567\n"
     ]
    }
   ],
   "source": [
    "#Load behavioural data\n",
    "root_path = '/Users/yves/team_mouse Dropbox/MEC_data/spike_sorted/2021-08-06_39964_ks25/'\n",
    "#'/Users/yves/Downloads/example_files2_wOF//'\n",
    "\n",
    "out = load_data(root_path)\n",
    "spkT,spkC,single_units,events,lines,aligner = out"
   ]
  },
  {
   "cell_type": "code",
   "execution_count": 6,
   "metadata": {},
   "outputs": [],
   "source": [
    "df = build_poke_df(lines,events)\n"
   ]
  },
  {
   "cell_type": "code",
   "execution_count": 7,
   "metadata": {},
   "outputs": [
    {
     "name": "stdout",
     "output_type": "stream",
     "text": [
      "0 8 0\n",
      "0 14 1\n",
      "0 15 2\n",
      "0 12 3\n",
      "0 15 4\n",
      "0 7 5\n",
      "0 9 6\n",
      "0 16 7\n",
      "0 13 8\n"
     ]
    }
   ],
   "source": [
    "poke_dict_t1 ={}\n",
    "poke_dict_t2 = {}\n",
    "for port_nr in np.unique(df['port'].values):\n",
    "    for task_nr in range(2):\n",
    "        task_nr = str(task_nr)\n",
    "        v = df.loc[(df['port']==port_nr) &\n",
    "                   (df['correct']==True) & \n",
    "                   (df['reward']==True) &\n",
    "                   #(df['next_correct']==True) &\n",
    "                   (df['port_repeat']==False) & \n",
    "                   (df['task_nr']==task_nr)]['time'].values\n",
    "        #v = np.array(v).astype('float')\n",
    "        if task_nr=='0':\n",
    "            print(task_nr,len(v),str(port_nr),)\n",
    "            poke_dict_t1[str(port_nr)] = [float(i) for i in v]\n",
    "            poke_dict_t1['task_nr'] = str(task_nr)\n",
    "            poke_dict_t1['graph_type'] = df.loc[df['task_nr']==task_nr]['graph_type'].values[0]\n",
    "\n",
    "            poke_dict_t1['seq'] = df.loc[df['task_nr']==task_nr]['current_sequence'].values[0]\n",
    "\n",
    "        else:\n",
    "            poke_dict_t2[str(port_nr)] = [float(i) for i in v]\n",
    "            poke_dict_t2['task_nr'] = str(task_nr)\n",
    "            poke_dict_t2['graph_type'] = df.loc[df['task_nr']==task_nr]['graph_type'].values[0]\n",
    "            poke_dict_t2['seq'] = df.loc[df['task_nr']==task_nr]['current_sequence'].values[0]\n",
    "\n",
    "   "
   ]
  },
  {
   "cell_type": "code",
   "execution_count": null,
   "metadata": {},
   "outputs": [],
   "source": []
  },
  {
   "cell_type": "code",
   "execution_count": null,
   "metadata": {},
   "outputs": [],
   "source": []
  },
  {
   "cell_type": "code",
   "execution_count": null,
   "metadata": {},
   "outputs": [],
   "source": []
  },
  {
   "cell_type": "code",
   "execution_count": 8,
   "metadata": {},
   "outputs": [],
   "source": [
    "from scipy.ndimage import gaussian_filter1d"
   ]
  },
  {
   "cell_type": "code",
   "execution_count": 9,
   "metadata": {},
   "outputs": [],
   "source": [
    "def get_mean_activity_matrix(single_trial_resps,order=None,half=0,downsample_factor=150,smoothing_factor=10):\n",
    "    \n",
    "    \"\"\" This builds a matrix that describes how mean activity\n",
    "        evolves over time\n",
    "    \"\"\"\n",
    "    \n",
    "    if order is None:\n",
    "        order = np.arange(9)\n",
    "\n",
    "    n_units = len(single_trial_resps)\n",
    "    store_g1 = []\n",
    "\n",
    "    for neuron_ix in range(n_units):\n",
    "        tmp = [] \n",
    "        for poke_nr in order:\n",
    "            activity = np.array(single_trial_resps[neuron_ix][poke_nr])\n",
    "            #print(np.sum(activity))\n",
    "            if half==0:\n",
    "                mean_activity = np.mean(activity,axis=0)\n",
    "            elif half==1:\n",
    "                mean_activity = np.mean(activity[:int(len(activity)/2)],axis=0)\n",
    "            elif half==2:\n",
    "                mean_activity = np.mean(activity[int(len(activity)/2):],axis=0)\n",
    "                \n",
    "\n",
    "            mean_downsampled = mean_activity.reshape(-1,downsample_factor).mean(axis=1)\n",
    "            mean_downsampled_smoothed = gaussian_filter1d(mean_downsampled,smoothing_factor)\n",
    "            tmp.append(mean_downsampled_smoothed)\n",
    "        store_g1.append(np.hstack(tmp))\n",
    "    return np.array(store_g1)"
   ]
  },
  {
   "cell_type": "markdown",
   "metadata": {},
   "source": [
    "# assess stability"
   ]
  },
  {
   "cell_type": "code",
   "execution_count": 10,
   "metadata": {},
   "outputs": [],
   "source": [
    "out1 = get_all_resps(aligner,poke_dict_t1,single_units,spkT,spkC)\n",
    "all_resps_g1_single_trial, (all_resps1_g1_single_trial,all_resps2_g1_single_trial) = out1\n",
    "out2 = get_all_resps(aligner,poke_dict_t2,single_units,spkT,spkC)\n",
    "all_resps_g2_single_trial, (all_resps1_g2_single_trial,all_resps2_g2_single_trial) = out2"
   ]
  },
  {
   "cell_type": "code",
   "execution_count": 11,
   "metadata": {},
   "outputs": [],
   "source": [
    "all_resps_g1,_ = get_mean_resps(all_resps_g1_single_trial)\n",
    "all_resps_g2,_ = get_mean_resps(all_resps_g2_single_trial)\n",
    "\n",
    "\n",
    "all_resps1_g1,_ = get_mean_resps(all_resps1_g1_single_trial)\n",
    "all_resps1_g2,_ = get_mean_resps(all_resps1_g2_single_trial)\n",
    "\n",
    "all_resps2_g1,_ = get_mean_resps(all_resps2_g1_single_trial)\n",
    "all_resps2_g2,_ = get_mean_resps(all_resps2_g2_single_trial)"
   ]
  },
  {
   "cell_type": "code",
   "execution_count": 18,
   "metadata": {},
   "outputs": [],
   "source": [
    "def get_with_and_across_correlations(all_resps1_g1,all_resps2_g1,all_resps1_g2,all_resps2_g2):\n",
    "    \n",
    "    \"\"\" Get correlations between neural activity across behaivour on the two different graphs\n",
    "        as well as across split halves of the same graph\n",
    "    \"\"\"\n",
    "\n",
    "    ccs_within1 = []\n",
    "    for r1,r2 in zip(all_resps1_g1,all_resps2_g1):\n",
    "        ccs_within1.append(np.corrcoef(r1,r2)[0,1])\n",
    "\n",
    "    ccs_within1 = np.array(ccs_within1)\n",
    "    print(np.nanmean(ccs_within1))\n",
    "\n",
    "    ccs_within2 = []\n",
    "    for r1,r2 in zip(all_resps1_g2,all_resps2_g2):\n",
    "        ccs_within2.append(np.corrcoef(r1,r2)[0,1])\n",
    "    ccs_within2 = np.array(ccs_within2)\n",
    "\n",
    "    print(np.nanmean(ccs_within2))\n",
    "\n",
    "\n",
    "    ccs_within = (np.array(ccs_within1) + np.array(ccs_within2))/2.\n",
    "    ccs_within = np.min(np.vstack([np.array(ccs_within1),np.array(ccs_within2)]),axis=0)\n",
    "\n",
    "\n",
    "    #\n",
    "    ccs_across = []\n",
    "    for r1,r2 in zip(all_resps_g1,all_resps_g2):\n",
    "        ccs_across.append(np.corrcoef(r1,r2)[0,1])\n",
    "\n",
    "    ccs_across = np.array(ccs_across)\n",
    "    print(np.nanmean(ccs_across))\n",
    "    \n",
    "    return ccs_within,ccs_across,(ccs_within1,ccs_within2)"
   ]
  },
  {
   "cell_type": "code",
   "execution_count": 19,
   "metadata": {},
   "outputs": [
    {
     "name": "stdout",
     "output_type": "stream",
     "text": [
      "0.46506679477424984\n",
      "0.4375418069693818\n",
      "0.4825456365188936\n"
     ]
    },
    {
     "name": "stderr",
     "output_type": "stream",
     "text": [
      "/Users/yves/opt/anaconda3/lib/python3.7/site-packages/numpy/lib/function_base.py:2559: RuntimeWarning: invalid value encountered in true_divide\n",
      "  c /= stddev[:, None]\n",
      "/Users/yves/opt/anaconda3/lib/python3.7/site-packages/numpy/lib/function_base.py:2560: RuntimeWarning: invalid value encountered in true_divide\n",
      "  c /= stddev[None, :]\n"
     ]
    }
   ],
   "source": [
    "ccs_within,ccs_across,(ccs_within1,ccs_within2) = get_with_and_across_correlations(all_resps1_g1,all_resps2_g1,all_resps1_g2,all_resps2_g2)"
   ]
  },
  {
   "cell_type": "code",
   "execution_count": null,
   "metadata": {},
   "outputs": [],
   "source": []
  },
  {
   "cell_type": "markdown",
   "metadata": {},
   "source": [
    "# make it work"
   ]
  },
  {
   "cell_type": "code",
   "execution_count": 13,
   "metadata": {},
   "outputs": [],
   "source": [
    "window0 = 6000\n",
    "window1 = 6000\n",
    "out1 = get_all_resps(aligner,poke_dict_t1,single_units,spkT,spkC,get_time_mean=False,\n",
    "                     window0=window0,window1=window1)\n",
    "all_resps_g1_single_trial, (all_resps1_g1_single_trial,all_resps2_g1_single_trial) = out1\n",
    "out2 = get_all_resps(aligner,poke_dict_t2,single_units,spkT,spkC,get_time_mean=False,\n",
    "                     window0=window0,window1=window1)\n",
    "all_resps_g2_single_trial, (all_resps1_g2_single_trial,all_resps2_g2_single_trial) = out2"
   ]
  },
  {
   "cell_type": "code",
   "execution_count": 14,
   "metadata": {},
   "outputs": [],
   "source": [
    "store_g1_p1 = get_mean_activity_matrix(all_resps_g1_single_trial,half=1)\n",
    "store_g1_p2 = get_mean_activity_matrix(all_resps_g1_single_trial,half=2)\n",
    "\n",
    "store_g2_p1 = get_mean_activity_matrix(all_resps_g2_single_trial,half=1)\n",
    "store_g2_p2 = get_mean_activity_matrix(all_resps_g2_single_trial,half=2)"
   ]
  },
  {
   "cell_type": "code",
   "execution_count": 15,
   "metadata": {},
   "outputs": [],
   "source": [
    "store_g1_p1 = get_mean_activity_matrix(all_resps_g1_single_trial,half=1,order=poke_dict_t1['seq'])\n",
    "store_g1_p2 = get_mean_activity_matrix(all_resps_g1_single_trial,half=2,order=poke_dict_t1['seq'])\n",
    "\n",
    "store_g2_p1 = get_mean_activity_matrix(all_resps_g2_single_trial,half=1,order=poke_dict_t2['seq'])\n",
    "store_g2_p2 = get_mean_activity_matrix(all_resps_g2_single_trial,half=2,order=poke_dict_t2['seq'])"
   ]
  },
  {
   "cell_type": "code",
   "execution_count": null,
   "metadata": {},
   "outputs": [],
   "source": []
  },
  {
   "cell_type": "code",
   "execution_count": null,
   "metadata": {},
   "outputs": [],
   "source": []
  },
  {
   "cell_type": "code",
   "execution_count": 16,
   "metadata": {},
   "outputs": [
    {
     "data": {
      "text/plain": [
       "<matplotlib.colorbar.Colorbar at 0x7fa2b8db3dd0>"
      ]
     },
     "execution_count": 16,
     "metadata": {},
     "output_type": "execute_result"
    },
    {
     "data": {
      "image/png": "[encoded data removed]",
      "text/plain": [
       "<Figure size 864x360 with 2 Axes>"
      ]
     },
     "metadata": {
      "needs_background": "light"
     },
     "output_type": "display_data"
    }
   ],
   "source": [
    "plt.figure(figsize=(12,5))\n",
    "plt.imshow(store_g1_p1-np.mean(store_g1_p1,axis=1)[:,None],cmap='RdBu_r',interpolation='None',aspect=3)\n",
    "for ii in range(9):\n",
    "    plt.axvline(x=ii*80,linestyle='--',color='.3',alpha=.1)\n",
    "plt.ylim(100,0)\n",
    "plt.colorbar()"
   ]
  },
  {
   "cell_type": "code",
   "execution_count": null,
   "metadata": {},
   "outputs": [],
   "source": []
  },
  {
   "cell_type": "code",
   "execution_count": 58,
   "metadata": {},
   "outputs": [
    {
     "name": "stdout",
     "output_type": "stream",
     "text": [
      "iter_num:9"
     ]
    },
    {
     "ename": "KeyboardInterrupt",
     "evalue": "",
     "output_type": "error",
     "traceback": [
      "\u001b[0;31m---------------------------------------------------------------------------\u001b[0m",
      "\u001b[0;31mKeyboardInterrupt\u001b[0m                         Traceback (most recent call last)",
      "\u001b[0;32m<ipython-input-58-fe84bd1d62b2>\u001b[0m in \u001b[0;36m<module>\u001b[0;34m\u001b[0m\n\u001b[1;32m      7\u001b[0m \u001b[0;34m\u001b[0m\u001b[0m\n\u001b[1;32m      8\u001b[0m     \u001b[0mstore_g2_p1\u001b[0m \u001b[0;34m=\u001b[0m \u001b[0mget_mean_activity_matrix\u001b[0m\u001b[0;34m(\u001b[0m\u001b[0mall_resps_g2_single_trial\u001b[0m\u001b[0;34m,\u001b[0m\u001b[0mhalf\u001b[0m\u001b[0;34m=\u001b[0m\u001b[0;36m1\u001b[0m\u001b[0;34m,\u001b[0m\u001b[0morder\u001b[0m\u001b[0;34m=\u001b[0m\u001b[0mnp\u001b[0m\u001b[0;34m.\u001b[0m\u001b[0mrandom\u001b[0m\u001b[0;34m.\u001b[0m\u001b[0mpermutation\u001b[0m\u001b[0;34m(\u001b[0m\u001b[0mpoke_dict_t2\u001b[0m\u001b[0;34m[\u001b[0m\u001b[0;34m'seq'\u001b[0m\u001b[0;34m]\u001b[0m\u001b[0;34m)\u001b[0m\u001b[0;34m)\u001b[0m\u001b[0;34m\u001b[0m\u001b[0;34m\u001b[0m\u001b[0m\n\u001b[0;32m----> 9\u001b[0;31m     \u001b[0mstore_g2_p2\u001b[0m \u001b[0;34m=\u001b[0m \u001b[0mget_mean_activity_matrix\u001b[0m\u001b[0;34m(\u001b[0m\u001b[0mall_resps_g2_single_trial\u001b[0m\u001b[0;34m,\u001b[0m\u001b[0mhalf\u001b[0m\u001b[0;34m=\u001b[0m\u001b[0;36m2\u001b[0m\u001b[0;34m,\u001b[0m\u001b[0morder\u001b[0m\u001b[0;34m=\u001b[0m\u001b[0mnp\u001b[0m\u001b[0;34m.\u001b[0m\u001b[0mrandom\u001b[0m\u001b[0;34m.\u001b[0m\u001b[0mpermutation\u001b[0m\u001b[0;34m(\u001b[0m\u001b[0mpoke_dict_t2\u001b[0m\u001b[0;34m[\u001b[0m\u001b[0;34m'seq'\u001b[0m\u001b[0;34m]\u001b[0m\u001b[0;34m)\u001b[0m\u001b[0;34m)\u001b[0m\u001b[0;34m\u001b[0m\u001b[0;34m\u001b[0m\u001b[0m\n\u001b[0m\u001b[1;32m     10\u001b[0m \u001b[0;34m\u001b[0m\u001b[0m\n\u001b[1;32m     11\u001b[0m \u001b[0;34m\u001b[0m\u001b[0m\n",
      "\u001b[0;32m<ipython-input-26-d104e245d448>\u001b[0m in \u001b[0;36mget_mean_activity_matrix\u001b[0;34m(single_trial_resps, order, half, downsample_factor, smoothing_factor, flip)\u001b[0m\n\u001b[1;32m     83\u001b[0m                 \u001b[0mmean_activity\u001b[0m \u001b[0;34m=\u001b[0m \u001b[0mnp\u001b[0m\u001b[0;34m.\u001b[0m\u001b[0mmean\u001b[0m\u001b[0;34m(\u001b[0m\u001b[0mactivity\u001b[0m\u001b[0;34m[\u001b[0m\u001b[0;34m:\u001b[0m\u001b[0mint\u001b[0m\u001b[0;34m(\u001b[0m\u001b[0mlen\u001b[0m\u001b[0;34m(\u001b[0m\u001b[0mactivity\u001b[0m\u001b[0;34m)\u001b[0m\u001b[0;34m/\u001b[0m\u001b[0;36m2\u001b[0m\u001b[0;34m)\u001b[0m\u001b[0;34m]\u001b[0m\u001b[0;34m,\u001b[0m\u001b[0maxis\u001b[0m\u001b[0;34m=\u001b[0m\u001b[0;36m0\u001b[0m\u001b[0;34m)\u001b[0m\u001b[0;34m\u001b[0m\u001b[0;34m\u001b[0m\u001b[0m\n\u001b[1;32m     84\u001b[0m             \u001b[0;32melif\u001b[0m \u001b[0mhalf\u001b[0m\u001b[0;34m==\u001b[0m\u001b[0;36m2\u001b[0m\u001b[0;34m:\u001b[0m\u001b[0;34m\u001b[0m\u001b[0;34m\u001b[0m\u001b[0m\n\u001b[0;32m---> 85\u001b[0;31m                 \u001b[0mmean_activity\u001b[0m \u001b[0;34m=\u001b[0m \u001b[0mnp\u001b[0m\u001b[0;34m.\u001b[0m\u001b[0mmean\u001b[0m\u001b[0;34m(\u001b[0m\u001b[0mactivity\u001b[0m\u001b[0;34m[\u001b[0m\u001b[0mint\u001b[0m\u001b[0;34m(\u001b[0m\u001b[0mlen\u001b[0m\u001b[0;34m(\u001b[0m\u001b[0mactivity\u001b[0m\u001b[0;34m)\u001b[0m\u001b[0;34m/\u001b[0m\u001b[0;36m2\u001b[0m\u001b[0;34m)\u001b[0m\u001b[0;34m:\u001b[0m\u001b[0;34m]\u001b[0m\u001b[0;34m,\u001b[0m\u001b[0maxis\u001b[0m\u001b[0;34m=\u001b[0m\u001b[0;36m0\u001b[0m\u001b[0;34m)\u001b[0m\u001b[0;34m\u001b[0m\u001b[0;34m\u001b[0m\u001b[0m\n\u001b[0m\u001b[1;32m     86\u001b[0m \u001b[0;34m\u001b[0m\u001b[0m\n\u001b[1;32m     87\u001b[0m             \u001b[0;32mtry\u001b[0m\u001b[0;34m:\u001b[0m\u001b[0;34m\u001b[0m\u001b[0;34m\u001b[0m\u001b[0m\n",
      "\u001b[0;32m<__array_function__ internals>\u001b[0m in \u001b[0;36mmean\u001b[0;34m(*args, **kwargs)\u001b[0m\n",
      "\u001b[0;32m~/opt/anaconda3/lib/python3.7/site-packages/numpy/core/fromnumeric.py\u001b[0m in \u001b[0;36mmean\u001b[0;34m(a, axis, dtype, out, keepdims)\u001b[0m\n\u001b[1;32m   3371\u001b[0m \u001b[0;34m\u001b[0m\u001b[0m\n\u001b[1;32m   3372\u001b[0m     return _methods._mean(a, axis=axis, dtype=dtype,\n\u001b[0;32m-> 3373\u001b[0;31m                           out=out, **kwargs)\n\u001b[0m\u001b[1;32m   3374\u001b[0m \u001b[0;34m\u001b[0m\u001b[0m\n\u001b[1;32m   3375\u001b[0m \u001b[0;34m\u001b[0m\u001b[0m\n",
      "\u001b[0;32m~/opt/anaconda3/lib/python3.7/site-packages/numpy/core/_methods.py\u001b[0m in \u001b[0;36m_mean\u001b[0;34m(a, axis, dtype, out, keepdims)\u001b[0m\n\u001b[1;32m    141\u001b[0m             um.clip, a, min, max, out=out, casting=casting, **kwargs)\n\u001b[1;32m    142\u001b[0m \u001b[0;34m\u001b[0m\u001b[0m\n\u001b[0;32m--> 143\u001b[0;31m \u001b[0;32mdef\u001b[0m \u001b[0m_mean\u001b[0m\u001b[0;34m(\u001b[0m\u001b[0ma\u001b[0m\u001b[0;34m,\u001b[0m \u001b[0maxis\u001b[0m\u001b[0;34m=\u001b[0m\u001b[0;32mNone\u001b[0m\u001b[0;34m,\u001b[0m \u001b[0mdtype\u001b[0m\u001b[0;34m=\u001b[0m\u001b[0;32mNone\u001b[0m\u001b[0;34m,\u001b[0m \u001b[0mout\u001b[0m\u001b[0;34m=\u001b[0m\u001b[0;32mNone\u001b[0m\u001b[0;34m,\u001b[0m \u001b[0mkeepdims\u001b[0m\u001b[0;34m=\u001b[0m\u001b[0;32mFalse\u001b[0m\u001b[0;34m)\u001b[0m\u001b[0;34m:\u001b[0m\u001b[0;34m\u001b[0m\u001b[0;34m\u001b[0m\u001b[0m\n\u001b[0m\u001b[1;32m    144\u001b[0m     \u001b[0marr\u001b[0m \u001b[0;34m=\u001b[0m \u001b[0masanyarray\u001b[0m\u001b[0;34m(\u001b[0m\u001b[0ma\u001b[0m\u001b[0;34m)\u001b[0m\u001b[0;34m\u001b[0m\u001b[0;34m\u001b[0m\u001b[0m\n\u001b[1;32m    145\u001b[0m \u001b[0;34m\u001b[0m\u001b[0m\n",
      "\u001b[0;31mKeyboardInterrupt\u001b[0m: "
     ]
    }
   ],
   "source": [
    "evals_shuff = []\n",
    "for ctr in range(100):\n",
    "    sys.stdout.write('\\riter_num:{}'.format(ctr))\n",
    "    sys.stdout.flush()\n",
    "    store_g1_p1 = get_mean_activity_matrix(all_resps_g1_single_trial,half=1,order=poke_dict_t1['seq'])\n",
    "    store_g1_p2 = get_mean_activity_matrix(all_resps_g1_single_trial,half=2,order=np.random.permutation(poke_dict_t1['seq']))\n",
    "\n",
    "    store_g2_p1 = get_mean_activity_matrix(all_resps_g2_single_trial,half=1,order=np.random.permutation(poke_dict_t2['seq']))\n",
    "    store_g2_p2 = get_mean_activity_matrix(all_resps_g2_single_trial,half=2,order=np.random.permutation(poke_dict_t2['seq']))\n",
    "    \n",
    "\n",
    "    #conditions =  np.logical_and.reduce([ccs_across<.3,\n",
    "    #                                    ccs_within>=.3])\n",
    "    conditions = ccs_within>.1\n",
    "    store_g1_filt = store_g1_p1[conditions]\n",
    "    store_g1_cv_filt = store_g1_p2[conditions]\n",
    "    store_g2_filt = store_g2_p1[conditions]\n",
    "    store_g2_cv_filt = store_g2_p2[conditions]\n",
    "    \n",
    "    \n",
    "    U,D,V = np.linalg.svd(store_g1_filt)\n",
    "    #U2,D2,V2 = np.linalg.svd(store_g2_filt)\n",
    "    evals = U.T.dot(store_g2_filt).dot(V.T).diagonal()\n",
    "    evals_shuff.append(evals)\n"
   ]
  },
  {
   "cell_type": "code",
   "execution_count": null,
   "metadata": {},
   "outputs": [],
   "source": []
  },
  {
   "cell_type": "code",
   "execution_count": 59,
   "metadata": {},
   "outputs": [],
   "source": [
    "store_g1_p1 = get_mean_activity_matrix(all_resps_g1_single_trial,half=1,order=poke_dict_t1['seq'])\n",
    "store_g1_p2 = get_mean_activity_matrix(all_resps_g1_single_trial,half=2,order=poke_dict_t1['seq'])\n",
    "\n",
    "store_g2_p1 = get_mean_activity_matrix(all_resps_g2_single_trial,half=1,order=poke_dict_t2['seq'])\n",
    "store_g2_p2 = get_mean_activity_matrix(all_resps_g2_single_trial,half=2,order=poke_dict_t2['seq'])"
   ]
  },
  {
   "cell_type": "code",
   "execution_count": 60,
   "metadata": {},
   "outputs": [],
   "source": [
    "\n",
    "conditions =  np.logical_and.reduce([ccs_across<99,\n",
    "                                    ccs_within>=.3])\n",
    "store_g1_filt = store_g1_p1[conditions]\n",
    "store_g1_filt = store_g1_filt - np.mean(store_g1_filt,axis=1)[:,None]\n",
    "#store_g1_filt = store_g1_filt/np.std(store_g1_filt,axis=1)[:,None]\n",
    "\n",
    "store_g1_cv_filt = store_g1_p2[conditions]\n",
    "store_g1_cv_filt = store_g1_cv_filt - np.mean(store_g1_cv_filt,axis=1)[:,None]\n",
    "\n",
    "store_g2_filt = store_g2_p1[conditions]\n",
    "store_g2_filt = store_g2_filt - np.mean(store_g2_filt,axis=1)[:,None]\n",
    "#store_g2_filt = store_g1_filt/np.var(store_g2_filt,axis=1)[:,None]\n",
    "\n",
    "store_g2_cv_filt = store_g2_p2[conditions]\n",
    "store_g2_cv_filt = store_g2_cv_filt - np.mean(store_g2_cv_filt,axis=1)[:,None]\n"
   ]
  },
  {
   "cell_type": "code",
   "execution_count": 35,
   "metadata": {},
   "outputs": [],
   "source": [
    "\n",
    "\n",
    "def variance_explained_both(store_ref,store_cv,store_alt):\n",
    "\n",
    "    U,S,V = np.linalg.svd(store_ref)\n",
    "\n",
    "    \n",
    "    ev_cv = U.T.dot(store_cv).dot(V.T).diagonal()**2\n",
    "    norm_ev_cv = ev_cv/np.sum(ev_cv)\n",
    "    \n",
    "    \n",
    "    ev_alt = U.T.dot(store_alt).dot(V.T).diagonal()**2\n",
    "    norm_ev_alt = ev_alt/np.sum(ev_alt)\n",
    "\n",
    "    \n",
    "    return norm_ev_cv, norm_ev_alt"
   ]
  },
  {
   "cell_type": "code",
   "execution_count": 61,
   "metadata": {},
   "outputs": [],
   "source": [
    "ev_cv1_U, ev_alt1_U = variance_explained_U(store_g1_filt,store_g1_cv_filt,store_g2_filt)\n",
    "ev_cv1_V, ev_alt1_V = variance_explained_V(store_g1_filt,store_g1_cv_filt,store_g2_filt)\n",
    "ev_cv1_B, ev_alt1_B = variance_explained_both(store_g1_filt,store_g1_cv_filt,store_g2_filt)\n",
    "\n",
    "\n",
    "ev_cv2_U, ev_alt2_U = variance_explained_U(store_g2_filt,store_g2_cv_filt,store_g1_filt)\n",
    "ev_cv2_U, ev_alt2_U = variance_explained_V(store_g2_filt,store_g2_cv_filt,store_g1_filt)\n",
    "ev_cv2_B, ev_alt2_B = variance_explained_both(store_g2_filt,store_g2_cv_filt,store_g1_filt)"
   ]
  },
  {
   "cell_type": "code",
   "execution_count": null,
   "metadata": {},
   "outputs": [],
   "source": []
  },
  {
   "cell_type": "code",
   "execution_count": null,
   "metadata": {},
   "outputs": [],
   "source": []
  },
  {
   "cell_type": "code",
   "execution_count": 37,
   "metadata": {},
   "outputs": [
    {
     "ename": "NameError",
     "evalue": "name 'S' is not defined",
     "output_type": "error",
     "traceback": [
      "\u001b[0;31m---------------------------------------------------------------------------\u001b[0m",
      "\u001b[0;31mNameError\u001b[0m                                 Traceback (most recent call last)",
      "\u001b[0;32m<ipython-input-37-f4f48857eb32>\u001b[0m in \u001b[0;36m<module>\u001b[0;34m\u001b[0m\n\u001b[1;32m      1\u001b[0m \u001b[0mSbig\u001b[0m \u001b[0;34m=\u001b[0m \u001b[0mnp\u001b[0m\u001b[0;34m.\u001b[0m\u001b[0meye\u001b[0m\u001b[0;34m(\u001b[0m\u001b[0mU\u001b[0m\u001b[0;34m.\u001b[0m\u001b[0mshape\u001b[0m\u001b[0;34m[\u001b[0m\u001b[0;36m0\u001b[0m\u001b[0;34m]\u001b[0m\u001b[0;34m,\u001b[0m\u001b[0mV\u001b[0m\u001b[0;34m.\u001b[0m\u001b[0mshape\u001b[0m\u001b[0;34m[\u001b[0m\u001b[0;36m0\u001b[0m\u001b[0;34m]\u001b[0m\u001b[0;34m)\u001b[0m\u001b[0;34m\u001b[0m\u001b[0;34m\u001b[0m\u001b[0m\n\u001b[0;32m----> 2\u001b[0;31m \u001b[0mSbig\u001b[0m\u001b[0;34m[\u001b[0m\u001b[0mnp\u001b[0m\u001b[0;34m.\u001b[0m\u001b[0marange\u001b[0m\u001b[0;34m(\u001b[0m\u001b[0mU\u001b[0m\u001b[0;34m.\u001b[0m\u001b[0mshape\u001b[0m\u001b[0;34m[\u001b[0m\u001b[0;36m0\u001b[0m\u001b[0;34m]\u001b[0m\u001b[0;34m)\u001b[0m\u001b[0;34m,\u001b[0m\u001b[0mnp\u001b[0m\u001b[0;34m.\u001b[0m\u001b[0marange\u001b[0m\u001b[0;34m(\u001b[0m\u001b[0mU\u001b[0m\u001b[0;34m.\u001b[0m\u001b[0mshape\u001b[0m\u001b[0;34m[\u001b[0m\u001b[0;36m0\u001b[0m\u001b[0;34m]\u001b[0m\u001b[0;34m)\u001b[0m\u001b[0;34m]\u001b[0m \u001b[0;34m=\u001b[0m \u001b[0mS\u001b[0m\u001b[0;34m\u001b[0m\u001b[0;34m\u001b[0m\u001b[0m\n\u001b[0m",
      "\u001b[0;31mNameError\u001b[0m: name 'S' is not defined"
     ]
    }
   ],
   "source": [
    "Sbig = np.eye(U.shape[0],V.shape[0])\n",
    "Sbig[np.arange(U.shape[0]),np.arange(U.shape[0])] = S"
   ]
  },
  {
   "cell_type": "code",
   "execution_count": 38,
   "metadata": {},
   "outputs": [
    {
     "ename": "ValueError",
     "evalue": "operands could not be broadcast together with shapes (7,720) (91,720) ",
     "output_type": "error",
     "traceback": [
      "\u001b[0;31m---------------------------------------------------------------------------\u001b[0m",
      "\u001b[0;31mValueError\u001b[0m                                Traceback (most recent call last)",
      "\u001b[0;32m<ipython-input-38-fdf895f38015>\u001b[0m in \u001b[0;36m<module>\u001b[0;34m\u001b[0m\n\u001b[0;32m----> 1\u001b[0;31m \u001b[0mnp\u001b[0m\u001b[0;34m.\u001b[0m\u001b[0mallclose\u001b[0m\u001b[0;34m(\u001b[0m\u001b[0mU\u001b[0m\u001b[0;34m.\u001b[0m\u001b[0mdot\u001b[0m\u001b[0;34m(\u001b[0m\u001b[0mSbig\u001b[0m\u001b[0;34m)\u001b[0m\u001b[0;34m.\u001b[0m\u001b[0mdot\u001b[0m\u001b[0;34m(\u001b[0m\u001b[0mV\u001b[0m\u001b[0;34m)\u001b[0m\u001b[0;34m,\u001b[0m\u001b[0mstore_g1_filt\u001b[0m\u001b[0;34m)\u001b[0m\u001b[0;34m\u001b[0m\u001b[0;34m\u001b[0m\u001b[0m\n\u001b[0m",
      "\u001b[0;32m<__array_function__ internals>\u001b[0m in \u001b[0;36mallclose\u001b[0;34m(*args, **kwargs)\u001b[0m\n",
      "\u001b[0;32m~/opt/anaconda3/lib/python3.7/site-packages/numpy/core/numeric.py\u001b[0m in \u001b[0;36mallclose\u001b[0;34m(a, b, rtol, atol, equal_nan)\u001b[0m\n\u001b[1;32m   2187\u001b[0m \u001b[0;34m\u001b[0m\u001b[0m\n\u001b[1;32m   2188\u001b[0m     \"\"\"\n\u001b[0;32m-> 2189\u001b[0;31m     \u001b[0mres\u001b[0m \u001b[0;34m=\u001b[0m \u001b[0mall\u001b[0m\u001b[0;34m(\u001b[0m\u001b[0misclose\u001b[0m\u001b[0;34m(\u001b[0m\u001b[0ma\u001b[0m\u001b[0;34m,\u001b[0m \u001b[0mb\u001b[0m\u001b[0;34m,\u001b[0m \u001b[0mrtol\u001b[0m\u001b[0;34m=\u001b[0m\u001b[0mrtol\u001b[0m\u001b[0;34m,\u001b[0m \u001b[0matol\u001b[0m\u001b[0;34m=\u001b[0m\u001b[0matol\u001b[0m\u001b[0;34m,\u001b[0m \u001b[0mequal_nan\u001b[0m\u001b[0;34m=\u001b[0m\u001b[0mequal_nan\u001b[0m\u001b[0;34m)\u001b[0m\u001b[0;34m)\u001b[0m\u001b[0;34m\u001b[0m\u001b[0;34m\u001b[0m\u001b[0m\n\u001b[0m\u001b[1;32m   2190\u001b[0m     \u001b[0;32mreturn\u001b[0m \u001b[0mbool\u001b[0m\u001b[0;34m(\u001b[0m\u001b[0mres\u001b[0m\u001b[0;34m)\u001b[0m\u001b[0;34m\u001b[0m\u001b[0;34m\u001b[0m\u001b[0m\n\u001b[1;32m   2191\u001b[0m \u001b[0;34m\u001b[0m\u001b[0m\n",
      "\u001b[0;32m<__array_function__ internals>\u001b[0m in \u001b[0;36misclose\u001b[0;34m(*args, **kwargs)\u001b[0m\n",
      "\u001b[0;32m~/opt/anaconda3/lib/python3.7/site-packages/numpy/core/numeric.py\u001b[0m in \u001b[0;36misclose\u001b[0;34m(a, b, rtol, atol, equal_nan)\u001b[0m\n\u001b[1;32m   2288\u001b[0m     \u001b[0myfin\u001b[0m \u001b[0;34m=\u001b[0m \u001b[0misfinite\u001b[0m\u001b[0;34m(\u001b[0m\u001b[0my\u001b[0m\u001b[0;34m)\u001b[0m\u001b[0;34m\u001b[0m\u001b[0;34m\u001b[0m\u001b[0m\n\u001b[1;32m   2289\u001b[0m     \u001b[0;32mif\u001b[0m \u001b[0mall\u001b[0m\u001b[0;34m(\u001b[0m\u001b[0mxfin\u001b[0m\u001b[0;34m)\u001b[0m \u001b[0;32mand\u001b[0m \u001b[0mall\u001b[0m\u001b[0;34m(\u001b[0m\u001b[0myfin\u001b[0m\u001b[0;34m)\u001b[0m\u001b[0;34m:\u001b[0m\u001b[0;34m\u001b[0m\u001b[0;34m\u001b[0m\u001b[0m\n\u001b[0;32m-> 2290\u001b[0;31m         \u001b[0;32mreturn\u001b[0m \u001b[0mwithin_tol\u001b[0m\u001b[0;34m(\u001b[0m\u001b[0mx\u001b[0m\u001b[0;34m,\u001b[0m \u001b[0my\u001b[0m\u001b[0;34m,\u001b[0m \u001b[0matol\u001b[0m\u001b[0;34m,\u001b[0m \u001b[0mrtol\u001b[0m\u001b[0;34m)\u001b[0m\u001b[0;34m\u001b[0m\u001b[0;34m\u001b[0m\u001b[0m\n\u001b[0m\u001b[1;32m   2291\u001b[0m     \u001b[0;32melse\u001b[0m\u001b[0;34m:\u001b[0m\u001b[0;34m\u001b[0m\u001b[0;34m\u001b[0m\u001b[0m\n\u001b[1;32m   2292\u001b[0m         \u001b[0mfinite\u001b[0m \u001b[0;34m=\u001b[0m \u001b[0mxfin\u001b[0m \u001b[0;34m&\u001b[0m \u001b[0myfin\u001b[0m\u001b[0;34m\u001b[0m\u001b[0;34m\u001b[0m\u001b[0m\n",
      "\u001b[0;32m~/opt/anaconda3/lib/python3.7/site-packages/numpy/core/numeric.py\u001b[0m in \u001b[0;36mwithin_tol\u001b[0;34m(x, y, atol, rtol)\u001b[0m\n\u001b[1;32m   2274\u001b[0m     \u001b[0;32mdef\u001b[0m \u001b[0mwithin_tol\u001b[0m\u001b[0;34m(\u001b[0m\u001b[0mx\u001b[0m\u001b[0;34m,\u001b[0m \u001b[0my\u001b[0m\u001b[0;34m,\u001b[0m \u001b[0matol\u001b[0m\u001b[0;34m,\u001b[0m \u001b[0mrtol\u001b[0m\u001b[0;34m)\u001b[0m\u001b[0;34m:\u001b[0m\u001b[0;34m\u001b[0m\u001b[0;34m\u001b[0m\u001b[0m\n\u001b[1;32m   2275\u001b[0m         \u001b[0;32mwith\u001b[0m \u001b[0merrstate\u001b[0m\u001b[0;34m(\u001b[0m\u001b[0minvalid\u001b[0m\u001b[0;34m=\u001b[0m\u001b[0;34m'ignore'\u001b[0m\u001b[0;34m)\u001b[0m\u001b[0;34m:\u001b[0m\u001b[0;34m\u001b[0m\u001b[0;34m\u001b[0m\u001b[0m\n\u001b[0;32m-> 2276\u001b[0;31m             \u001b[0;32mreturn\u001b[0m \u001b[0mless_equal\u001b[0m\u001b[0;34m(\u001b[0m\u001b[0mabs\u001b[0m\u001b[0;34m(\u001b[0m\u001b[0mx\u001b[0m\u001b[0;34m-\u001b[0m\u001b[0my\u001b[0m\u001b[0;34m)\u001b[0m\u001b[0;34m,\u001b[0m \u001b[0matol\u001b[0m \u001b[0;34m+\u001b[0m \u001b[0mrtol\u001b[0m \u001b[0;34m*\u001b[0m \u001b[0mabs\u001b[0m\u001b[0;34m(\u001b[0m\u001b[0my\u001b[0m\u001b[0;34m)\u001b[0m\u001b[0;34m)\u001b[0m\u001b[0;34m\u001b[0m\u001b[0;34m\u001b[0m\u001b[0m\n\u001b[0m\u001b[1;32m   2277\u001b[0m \u001b[0;34m\u001b[0m\u001b[0m\n\u001b[1;32m   2278\u001b[0m     \u001b[0mx\u001b[0m \u001b[0;34m=\u001b[0m \u001b[0masanyarray\u001b[0m\u001b[0;34m(\u001b[0m\u001b[0ma\u001b[0m\u001b[0;34m)\u001b[0m\u001b[0;34m\u001b[0m\u001b[0;34m\u001b[0m\u001b[0m\n",
      "\u001b[0;31mValueError\u001b[0m: operands could not be broadcast together with shapes (7,720) (91,720) "
     ]
    }
   ],
   "source": [
    "np.allclose(U.dot(Sbig).dot(V),store_g1_filt)"
   ]
  },
  {
   "cell_type": "code",
   "execution_count": 39,
   "metadata": {},
   "outputs": [
    {
     "ename": "NameError",
     "evalue": "name 'tmp_' is not defined",
     "output_type": "error",
     "traceback": [
      "\u001b[0;31m---------------------------------------------------------------------------\u001b[0m",
      "\u001b[0;31mNameError\u001b[0m                                 Traceback (most recent call last)",
      "\u001b[0;32m<ipython-input-39-ea7fb3470931>\u001b[0m in \u001b[0;36m<module>\u001b[0;34m\u001b[0m\n\u001b[0;32m----> 1\u001b[0;31m \u001b[0mplt\u001b[0m\u001b[0;34m.\u001b[0m\u001b[0mimshow\u001b[0m\u001b[0;34m(\u001b[0m\u001b[0mtmp_\u001b[0m\u001b[0;34m,\u001b[0m\u001b[0minterpolation\u001b[0m\u001b[0;34m=\u001b[0m\u001b[0;34m'None'\u001b[0m\u001b[0;34m)\u001b[0m\u001b[0;34m\u001b[0m\u001b[0;34m\u001b[0m\u001b[0m\n\u001b[0m",
      "\u001b[0;31mNameError\u001b[0m: name 'tmp_' is not defined"
     ]
    }
   ],
   "source": [
    "plt.imshow(tmp_,interpolation='None')"
   ]
  },
  {
   "cell_type": "code",
   "execution_count": 40,
   "metadata": {},
   "outputs": [
    {
     "ename": "ValueError",
     "evalue": "shapes (7,7) and (91,720) not aligned: 7 (dim 1) != 91 (dim 0)",
     "output_type": "error",
     "traceback": [
      "\u001b[0;31m---------------------------------------------------------------------------\u001b[0m",
      "\u001b[0;31mValueError\u001b[0m                                Traceback (most recent call last)",
      "\u001b[0;32m<ipython-input-40-dde9ae54fca9>\u001b[0m in \u001b[0;36m<module>\u001b[0;34m\u001b[0m\n\u001b[1;32m      1\u001b[0m \u001b[0;31m#calculate explained variance explained by U\u001b[0m\u001b[0;34m\u001b[0m\u001b[0;34m\u001b[0m\u001b[0;34m\u001b[0m\u001b[0m\n\u001b[0;32m----> 2\u001b[0;31m \u001b[0mevals_alt\u001b[0m \u001b[0;34m=\u001b[0m \u001b[0mnp\u001b[0m\u001b[0;34m.\u001b[0m\u001b[0msum\u001b[0m\u001b[0;34m(\u001b[0m\u001b[0mU\u001b[0m\u001b[0;34m.\u001b[0m\u001b[0mT\u001b[0m\u001b[0;34m.\u001b[0m\u001b[0mdot\u001b[0m\u001b[0;34m(\u001b[0m\u001b[0mstore_g2_filt\u001b[0m\u001b[0;34m)\u001b[0m\u001b[0;34m**\u001b[0m\u001b[0;36m2\u001b[0m\u001b[0;34m,\u001b[0m\u001b[0maxis\u001b[0m\u001b[0;34m=\u001b[0m\u001b[0;36m1\u001b[0m\u001b[0;34m)\u001b[0m\u001b[0;34m\u001b[0m\u001b[0;34m\u001b[0m\u001b[0m\n\u001b[0m\u001b[1;32m      3\u001b[0m \u001b[0mnorm_evals_alt\u001b[0m \u001b[0;34m=\u001b[0m \u001b[0mevals_alt\u001b[0m\u001b[0;34m/\u001b[0m\u001b[0mnp\u001b[0m\u001b[0;34m.\u001b[0m\u001b[0msum\u001b[0m\u001b[0;34m(\u001b[0m\u001b[0mevals_alt\u001b[0m\u001b[0;34m)\u001b[0m\u001b[0;34m\u001b[0m\u001b[0;34m\u001b[0m\u001b[0m\n",
      "\u001b[0;31mValueError\u001b[0m: shapes (7,7) and (91,720) not aligned: 7 (dim 1) != 91 (dim 0)"
     ]
    }
   ],
   "source": [
    "#calculate explained variance explained by U\n",
    "evals_alt = np.sum(U.T.dot(store_g2_filt)**2,axis=1)\n",
    "norm_evals_alt = evals_alt/np.sum(evals_alt)"
   ]
  },
  {
   "cell_type": "code",
   "execution_count": 41,
   "metadata": {},
   "outputs": [
    {
     "ename": "ValueError",
     "evalue": "shapes (7,7) and (91,720) not aligned: 7 (dim 1) != 91 (dim 0)",
     "output_type": "error",
     "traceback": [
      "\u001b[0;31m---------------------------------------------------------------------------\u001b[0m",
      "\u001b[0;31mValueError\u001b[0m                                Traceback (most recent call last)",
      "\u001b[0;32m<ipython-input-41-8f4a3d9fcb73>\u001b[0m in \u001b[0;36m<module>\u001b[0;34m\u001b[0m\n\u001b[1;32m      1\u001b[0m \u001b[0;31m#calculate explained variance explained by U\u001b[0m\u001b[0;34m\u001b[0m\u001b[0;34m\u001b[0m\u001b[0;34m\u001b[0m\u001b[0m\n\u001b[0;32m----> 2\u001b[0;31m \u001b[0mevals_cv\u001b[0m \u001b[0;34m=\u001b[0m \u001b[0mnp\u001b[0m\u001b[0;34m.\u001b[0m\u001b[0msum\u001b[0m\u001b[0;34m(\u001b[0m\u001b[0mU\u001b[0m\u001b[0;34m.\u001b[0m\u001b[0mT\u001b[0m\u001b[0;34m.\u001b[0m\u001b[0mdot\u001b[0m\u001b[0;34m(\u001b[0m\u001b[0mstore_g1_cv_filt\u001b[0m\u001b[0;34m)\u001b[0m\u001b[0;34m**\u001b[0m\u001b[0;36m2\u001b[0m\u001b[0;34m,\u001b[0m\u001b[0maxis\u001b[0m\u001b[0;34m=\u001b[0m\u001b[0;36m1\u001b[0m\u001b[0;34m)\u001b[0m\u001b[0;34m\u001b[0m\u001b[0;34m\u001b[0m\u001b[0m\n\u001b[0m\u001b[1;32m      3\u001b[0m \u001b[0mnorm_evals_cv\u001b[0m \u001b[0;34m=\u001b[0m \u001b[0mevals_cv\u001b[0m\u001b[0;34m/\u001b[0m\u001b[0mnp\u001b[0m\u001b[0;34m.\u001b[0m\u001b[0msum\u001b[0m\u001b[0;34m(\u001b[0m\u001b[0mevals_cv\u001b[0m\u001b[0;34m)\u001b[0m\u001b[0;34m\u001b[0m\u001b[0;34m\u001b[0m\u001b[0m\n",
      "\u001b[0;31mValueError\u001b[0m: shapes (7,7) and (91,720) not aligned: 7 (dim 1) != 91 (dim 0)"
     ]
    }
   ],
   "source": [
    "#calculate explained variance explained by U\n",
    "evals_cv = np.sum(U.T.dot(store_g1_cv_filt)**2,axis=1)\n",
    "norm_evals_cv = evals_cv/np.sum(evals_cv)"
   ]
  },
  {
   "cell_type": "code",
   "execution_count": 42,
   "metadata": {},
   "outputs": [
    {
     "ename": "NameError",
     "evalue": "name 'norm_evals_cv' is not defined",
     "output_type": "error",
     "traceback": [
      "\u001b[0;31m---------------------------------------------------------------------------\u001b[0m",
      "\u001b[0;31mNameError\u001b[0m                                 Traceback (most recent call last)",
      "\u001b[0;32m<ipython-input-42-1bae4e15dd24>\u001b[0m in \u001b[0;36m<module>\u001b[0;34m\u001b[0m\n\u001b[0;32m----> 1\u001b[0;31m \u001b[0mplt\u001b[0m\u001b[0;34m.\u001b[0m\u001b[0mplot\u001b[0m\u001b[0;34m(\u001b[0m\u001b[0mnp\u001b[0m\u001b[0;34m.\u001b[0m\u001b[0mcumsum\u001b[0m\u001b[0;34m(\u001b[0m\u001b[0mnorm_evals_cv\u001b[0m\u001b[0;34m)\u001b[0m\u001b[0;34m)\u001b[0m\u001b[0;34m\u001b[0m\u001b[0;34m\u001b[0m\u001b[0m\n\u001b[0m\u001b[1;32m      2\u001b[0m \u001b[0mplt\u001b[0m\u001b[0;34m.\u001b[0m\u001b[0mplot\u001b[0m\u001b[0;34m(\u001b[0m\u001b[0mnp\u001b[0m\u001b[0;34m.\u001b[0m\u001b[0mcumsum\u001b[0m\u001b[0;34m(\u001b[0m\u001b[0mnorm_evals_alt\u001b[0m\u001b[0;34m)\u001b[0m\u001b[0;34m)\u001b[0m\u001b[0;34m\u001b[0m\u001b[0;34m\u001b[0m\u001b[0m\n",
      "\u001b[0;31mNameError\u001b[0m: name 'norm_evals_cv' is not defined"
     ]
    }
   ],
   "source": [
    "plt.plot(np.cumsum(norm_evals_cv))\n",
    "plt.plot(np.cumsum(norm_evals_alt))"
   ]
  },
  {
   "cell_type": "code",
   "execution_count": 43,
   "metadata": {},
   "outputs": [],
   "source": [
    "def variance_explained_U(store_ref,store_cv,store_alt):\n",
    "    U,S,V = np.linalg.svd(store_ref)\n",
    "    \n",
    "    #calculate explained variance explained by U\n",
    "    ev_cv = np.sum(U.T.dot(store_cv)**2,axis=1)\n",
    "    norm_ev_cv = ev_cv/np.sum(ev_cv)\n",
    "\n",
    "    #calculate explained variance explained by U\n",
    "    ev_alt = np.sum(U.T.dot(store_alt)**2,axis=1)\n",
    "    norm_ev_alt = ev_alt/np.sum(ev_alt)\n",
    "        \n",
    "    return norm_ev_cv, norm_ev_alt"
   ]
  },
  {
   "cell_type": "code",
   "execution_count": 44,
   "metadata": {},
   "outputs": [],
   "source": [
    "def variance_explained_both(store_ref,store_cv,store_alt):\n",
    "\n",
    "    U,S,V = np.linalg.svd(store_ref)\n",
    "\n",
    "    \n",
    "    ev_cv = U.T.dot(store_cv).dot(V.T).diagonal()**2\n",
    "    norm_ev_cv = ev_cv/np.sum(ev_cv)\n",
    "    \n",
    "    \n",
    "    ev_alt = U.T.dot(store_alt).dot(V.T).diagonal()**2\n",
    "    norm_ev_alt = ev_alt/np.sum(ev_alt)\n",
    "\n",
    "    \n",
    "    return norm_ev_cv, norm_ev_alt"
   ]
  },
  {
   "cell_type": "code",
   "execution_count": 45,
   "metadata": {},
   "outputs": [],
   "source": [
    "def variance_explained_V(store_ref,store_cv,store_alt):\n",
    "    \"\"\" Not 100% sure about this one but think its\n",
    "        correct\n",
    "    \"\"\"\n",
    "    U,S,V = np.linalg.svd(store_ref)\n",
    "    \n",
    "    #calculate explained variance explained by U\n",
    "    ev_cv = np.sum(np.dot(store_cv,V.T)**2,axis=1)\n",
    "    norm_ev_cv = ev_cv/np.sum(ev_cv)\n",
    "\n",
    "    #calculate explained variance explained by U\n",
    "    ev_alt = np.sum(np.dot(store_alt,V.T)**2,axis=1)\n",
    "    norm_ev_alt = ev_alt/np.sum(ev_alt)\n",
    "        \n",
    "    return norm_ev_cv, norm_ev_alt"
   ]
  },
  {
   "cell_type": "code",
   "execution_count": 46,
   "metadata": {},
   "outputs": [
    {
     "ename": "TypeError",
     "evalue": "variance_explained_U() missing 3 required positional arguments: 'store_ref', 'store_cv', and 'store_alt'",
     "output_type": "error",
     "traceback": [
      "\u001b[0;31m---------------------------------------------------------------------------\u001b[0m",
      "\u001b[0;31mTypeError\u001b[0m                                 Traceback (most recent call last)",
      "\u001b[0;32m<ipython-input-46-69dbf754b910>\u001b[0m in \u001b[0;36m<module>\u001b[0;34m\u001b[0m\n\u001b[0;32m----> 1\u001b[0;31m \u001b[0mev_u1\u001b[0m \u001b[0;34m=\u001b[0m \u001b[0mvariance_explained_U\u001b[0m\u001b[0;34m(\u001b[0m\u001b[0;34m)\u001b[0m\u001b[0;34m\u001b[0m\u001b[0;34m\u001b[0m\u001b[0m\n\u001b[0m",
      "\u001b[0;31mTypeError\u001b[0m: variance_explained_U() missing 3 required positional arguments: 'store_ref', 'store_cv', and 'store_alt'"
     ]
    }
   ],
   "source": [
    "ev_u1 = variance_explained_U()"
   ]
  },
  {
   "cell_type": "code",
   "execution_count": 47,
   "metadata": {},
   "outputs": [
    {
     "data": {
      "text/plain": [
       "array([ 6.66205323e-03, -1.10837840e-02,  3.07609680e-03,  1.11171190e-03,\n",
       "        3.92763303e-03, -8.63616833e-04,  2.72209186e-03,  1.89128009e-02,\n",
       "        1.84621360e-03, -1.24586754e-03,  1.44167420e-02, -5.39151629e-03,\n",
       "        1.67743147e-03, -8.19093646e-04,  1.70805243e-02,  1.13311361e-02,\n",
       "        3.55427093e-04,  1.84970656e-03,  2.76645224e-03, -1.42375155e-02,\n",
       "        3.67292709e-03, -3.43208177e-03,  3.39027954e-03,  1.45063661e-03,\n",
       "       -3.68268926e-04,  5.44818377e-03,  7.17212893e-03, -1.06673587e-03,\n",
       "       -2.13866642e-03, -9.01127928e-03,  7.08047685e-03,  9.88000925e-03,\n",
       "       -7.43390216e-03,  8.43279668e-03,  2.27891887e-03, -2.05562970e-03,\n",
       "        7.83465498e-04,  1.46131827e-04, -8.44712300e-03,  1.45381657e-03,\n",
       "       -8.70592218e-03,  5.34828514e-04, -6.24363125e-03, -3.17224380e-04,\n",
       "       -1.53221574e-02, -3.71501523e-03, -4.01386671e-02,  3.08193218e-03,\n",
       "       -3.70899882e-05,  3.93587168e-04, -1.28108311e-03, -8.74904499e-04,\n",
       "       -1.72974666e-03,  4.24029863e-03, -4.04157305e-03,  1.86169422e-03,\n",
       "       -4.49962477e-05,  3.55633491e-03, -2.97673098e-03,  9.05716395e-04,\n",
       "       -3.13322987e-03,  3.61628743e-03, -5.89820573e-04,  6.04478084e-04,\n",
       "        1.27956908e-03,  2.13925516e-03, -7.79937073e-04,  9.00162242e-04,\n",
       "        3.42031734e-03,  9.80353611e-03,  7.95481213e-03,  2.63789655e-03,\n",
       "       -2.35861811e-04,  9.74885955e-03,  1.93420647e-03, -7.15029274e-03,\n",
       "        9.82669441e-03,  5.41498232e-03, -4.74013505e-04, -5.48309357e-03,\n",
       "       -3.01553078e-05, -2.22700287e-03, -6.07214843e-03,  2.92335129e-03,\n",
       "       -4.05767637e-03,  2.70381625e-03,  1.66832560e-03, -1.49006929e-03,\n",
       "        1.26034961e-03,  3.45450374e-03,  5.66572698e-04])"
      ]
     },
     "execution_count": 47,
     "metadata": {},
     "output_type": "execute_result"
    }
   ],
   "source": [
    "np.dot(store_g1_filt,V.T).sum(axis=1)"
   ]
  },
  {
   "cell_type": "code",
   "execution_count": null,
   "metadata": {},
   "outputs": [],
   "source": []
  },
  {
   "cell_type": "code",
   "execution_count": 359,
   "metadata": {},
   "outputs": [],
   "source": [
    "ccs = []\n",
    "for ix_ in range(store_g1_filt.shape[1]):\n",
    "    ccs.append(np.cov(U[:,0],store_g1_filt[:,ix_])[0,1])"
   ]
  },
  {
   "cell_type": "code",
   "execution_count": null,
   "metadata": {},
   "outputs": [],
   "source": []
  },
  {
   "cell_type": "code",
   "execution_count": 23,
   "metadata": {},
   "outputs": [],
   "source": [
    "import scipy.stats as stt"
   ]
  },
  {
   "cell_type": "code",
   "execution_count": 53,
   "metadata": {},
   "outputs": [
    {
     "ename": "NameError",
     "evalue": "name 'true_evals' is not defined",
     "output_type": "error",
     "traceback": [
      "\u001b[0;31m---------------------------------------------------------------------------\u001b[0m",
      "\u001b[0;31mNameError\u001b[0m                                 Traceback (most recent call last)",
      "\u001b[0;32m<ipython-input-53-ddc8d6896a7c>\u001b[0m in \u001b[0;36m<module>\u001b[0;34m\u001b[0m\n\u001b[1;32m      3\u001b[0m     \u001b[0mplt\u001b[0m\u001b[0;34m.\u001b[0m\u001b[0mplot\u001b[0m\u001b[0;34m(\u001b[0m\u001b[0mnp\u001b[0m\u001b[0;34m.\u001b[0m\u001b[0mcumsum\u001b[0m\u001b[0;34m(\u001b[0m\u001b[0mi\u001b[0m\u001b[0;34m)\u001b[0m\u001b[0;34m,\u001b[0m\u001b[0mcolor\u001b[0m\u001b[0;34m=\u001b[0m\u001b[0;34m'.3'\u001b[0m\u001b[0;34m,\u001b[0m\u001b[0mlinewidth\u001b[0m\u001b[0;34m=\u001b[0m\u001b[0;36m.5\u001b[0m\u001b[0;34m)\u001b[0m\u001b[0;34m\u001b[0m\u001b[0;34m\u001b[0m\u001b[0m\n\u001b[1;32m      4\u001b[0m \u001b[0msem\u001b[0m \u001b[0;34m=\u001b[0m\u001b[0mnp\u001b[0m\u001b[0;34m.\u001b[0m\u001b[0mstd\u001b[0m\u001b[0;34m(\u001b[0m\u001b[0mnp\u001b[0m\u001b[0;34m.\u001b[0m\u001b[0mcumsum\u001b[0m\u001b[0;34m(\u001b[0m\u001b[0mnp\u001b[0m\u001b[0;34m.\u001b[0m\u001b[0mabs\u001b[0m\u001b[0;34m(\u001b[0m\u001b[0mevals_shuff\u001b[0m\u001b[0;34m)\u001b[0m\u001b[0;34m,\u001b[0m\u001b[0maxis\u001b[0m\u001b[0;34m=\u001b[0m\u001b[0;36m1\u001b[0m\u001b[0;34m)\u001b[0m\u001b[0;34m,\u001b[0m\u001b[0maxis\u001b[0m\u001b[0;34m=\u001b[0m\u001b[0;36m0\u001b[0m\u001b[0;34m)\u001b[0m\u001b[0;34m\u001b[0m\u001b[0;34m\u001b[0m\u001b[0m\n\u001b[0;32m----> 5\u001b[0;31m \u001b[0mplt\u001b[0m\u001b[0;34m.\u001b[0m\u001b[0mplot\u001b[0m\u001b[0;34m(\u001b[0m\u001b[0mnp\u001b[0m\u001b[0;34m.\u001b[0m\u001b[0mcumsum\u001b[0m\u001b[0;34m(\u001b[0m\u001b[0mnp\u001b[0m\u001b[0;34m.\u001b[0m\u001b[0mabs\u001b[0m\u001b[0;34m(\u001b[0m\u001b[0mtrue_evals\u001b[0m\u001b[0;34m)\u001b[0m\u001b[0;34m)\u001b[0m\u001b[0;34m,\u001b[0m\u001b[0mlinewidth\u001b[0m\u001b[0;34m=\u001b[0m\u001b[0;36m3\u001b[0m\u001b[0;34m)\u001b[0m\u001b[0;34m\u001b[0m\u001b[0;34m\u001b[0m\u001b[0m\n\u001b[0m\u001b[1;32m      6\u001b[0m \u001b[0mplt\u001b[0m\u001b[0;34m.\u001b[0m\u001b[0mplot\u001b[0m\u001b[0;34m(\u001b[0m\u001b[0mmu\u001b[0m\u001b[0;34m,\u001b[0m\u001b[0mlinewidth\u001b[0m\u001b[0;34m=\u001b[0m\u001b[0;36m3\u001b[0m\u001b[0;34m,\u001b[0m\u001b[0mcolor\u001b[0m\u001b[0;34m=\u001b[0m\u001b[0;34m'.3'\u001b[0m\u001b[0;34m,\u001b[0m\u001b[0mlabel\u001b[0m\u001b[0;34m=\u001b[0m\u001b[0;34m'shuffle'\u001b[0m\u001b[0;34m)\u001b[0m\u001b[0;34m\u001b[0m\u001b[0;34m\u001b[0m\u001b[0m\n\u001b[1;32m      7\u001b[0m \u001b[0mplt\u001b[0m\u001b[0;34m.\u001b[0m\u001b[0mfill_between\u001b[0m\u001b[0;34m(\u001b[0m\u001b[0mrange\u001b[0m\u001b[0;34m(\u001b[0m\u001b[0mlen\u001b[0m\u001b[0;34m(\u001b[0m\u001b[0mmu\u001b[0m\u001b[0;34m)\u001b[0m\u001b[0;34m)\u001b[0m\u001b[0;34m,\u001b[0m\u001b[0mmu\u001b[0m\u001b[0;34m+\u001b[0m\u001b[0;36m2\u001b[0m\u001b[0;34m*\u001b[0m\u001b[0msem\u001b[0m\u001b[0;34m,\u001b[0m\u001b[0mmu\u001b[0m\u001b[0;34m-\u001b[0m\u001b[0;36m2\u001b[0m\u001b[0;34m*\u001b[0m\u001b[0msem\u001b[0m\u001b[0;34m,\u001b[0m\u001b[0mcolor\u001b[0m\u001b[0;34m=\u001b[0m\u001b[0;34m'.3'\u001b[0m\u001b[0;34m,\u001b[0m\u001b[0malpha\u001b[0m\u001b[0;34m=\u001b[0m\u001b[0;36m.3\u001b[0m\u001b[0;34m)\u001b[0m\u001b[0;34m\u001b[0m\u001b[0;34m\u001b[0m\u001b[0m\n",
      "\u001b[0;31mNameError\u001b[0m: name 'true_evals' is not defined"
     ]
    },
    {
     "data": {
      "image/png": "[encoded data removed]",
      "text/plain": [
       "<Figure size 432x288 with 1 Axes>"
      ]
     },
     "metadata": {
      "needs_background": "light"
     },
     "output_type": "display_data"
    }
   ],
   "source": [
    "mu = np.mean(np.cumsum(np.abs(evals_shuff),axis=1),axis=1)\n",
    "for i in np.abs(evals_shuff):\n",
    "    plt.plot(np.cumsum(i),color='.3',linewidth=.5)\n",
    "sem =np.std(np.cumsum(np.abs(evals_shuff),axis=1),axis=0)\n",
    "plt.plot(np.cumsum(np.abs(true_evals)),linewidth=3)\n",
    "plt.plot(mu,linewidth=3,color='.3',label='shuffle')\n",
    "plt.fill_between(range(len(mu)),mu+2*sem,mu-2*sem,color='.3',alpha=.3)\n",
    "plt.legend()\n",
    "seaborn.despine()"
   ]
  },
  {
   "cell_type": "code",
   "execution_count": 65,
   "metadata": {},
   "outputs": [],
   "source": [
    "import scipy.stats as stt"
   ]
  },
  {
   "cell_type": "code",
   "execution_count": 72,
   "metadata": {},
   "outputs": [
    {
     "data": {
      "text/plain": [
       "LinregressResult(slope=0.43105705773907865, intercept=-0.009199134991821187, rvalue=0.411695349884131, pvalue=2.0858276448157374e-05, stderr=0.09638676255442583)"
      ]
     },
     "execution_count": 72,
     "metadata": {},
     "output_type": "execute_result"
    }
   ],
   "source": [
    "stt.linregress(np.sin(np.linspace(0,2*np.pi+np.pi/4,num=100)),np.cos(np.linspace(0,2*np.pi,num=100)))"
   ]
  },
  {
   "cell_type": "code",
   "execution_count": 71,
   "metadata": {},
   "outputs": [
    {
     "data": {
      "text/plain": [
       "([], <a list of 0 Text yticklabel objects>)"
      ]
     },
     "execution_count": 71,
     "metadata": {},
     "output_type": "execute_result"
    },
    {
     "data": {
      "image/png": "[encoded data removed]",
      "text/plain": [
       "<Figure size 432x288 with 1 Axes>"
      ]
     },
     "metadata": {},
     "output_type": "display_data"
    }
   ],
   "source": [
    "plt.plot(np.sin(np.linspace(0,4*np.pi,num=100)))\n",
    "plt.plot(np.cos(np.linspace(0,4*np.pi,num=100)))\n",
    "seaborn.despine(bottom=True,left=True)\n",
    "plt.xticks([])\n",
    "plt.yticks([])"
   ]
  },
  {
   "cell_type": "code",
   "execution_count": 67,
   "metadata": {},
   "outputs": [
    {
     "data": {
      "text/plain": [
       "(91, 1350)"
      ]
     },
     "execution_count": 67,
     "metadata": {},
     "output_type": "execute_result"
    }
   ],
   "source": [
    "store_g1_filt.shape"
   ]
  },
  {
   "cell_type": "code",
   "execution_count": 68,
   "metadata": {},
   "outputs": [
    {
     "data": {
      "text/plain": [
       "(115, 115)"
      ]
     },
     "execution_count": 68,
     "metadata": {},
     "output_type": "execute_result"
    }
   ],
   "source": [
    "U.shape"
   ]
  },
  {
   "cell_type": "code",
   "execution_count": 54,
   "metadata": {},
   "outputs": [
    {
     "ename": "ValueError",
     "evalue": "shapes (7,7) and (91,720) not aligned: 7 (dim 1) != 91 (dim 0)",
     "output_type": "error",
     "traceback": [
      "\u001b[0;31m---------------------------------------------------------------------------\u001b[0m",
      "\u001b[0;31mValueError\u001b[0m                                Traceback (most recent call last)",
      "\u001b[0;32m<ipython-input-54-bc92defb5fba>\u001b[0m in \u001b[0;36m<module>\u001b[0;34m\u001b[0m\n\u001b[1;32m      1\u001b[0m \u001b[0;31m#this is the correct equation to testimate. This returns the corresponding D\u001b[0m\u001b[0;34m\u001b[0m\u001b[0;34m\u001b[0m\u001b[0;34m\u001b[0m\u001b[0m\n\u001b[0;32m----> 2\u001b[0;31m \u001b[0mevals\u001b[0m \u001b[0;34m=\u001b[0m \u001b[0mnp\u001b[0m\u001b[0;34m.\u001b[0m\u001b[0mabs\u001b[0m\u001b[0;34m(\u001b[0m\u001b[0mU\u001b[0m\u001b[0;34m.\u001b[0m\u001b[0mT\u001b[0m\u001b[0;34m.\u001b[0m\u001b[0mdot\u001b[0m\u001b[0;34m(\u001b[0m\u001b[0mstore_g1_filt\u001b[0m\u001b[0;34m)\u001b[0m\u001b[0;34m.\u001b[0m\u001b[0mdot\u001b[0m\u001b[0;34m(\u001b[0m\u001b[0mV\u001b[0m\u001b[0;34m.\u001b[0m\u001b[0mT\u001b[0m\u001b[0;34m)\u001b[0m\u001b[0;34m.\u001b[0m\u001b[0mdiagonal\u001b[0m\u001b[0;34m(\u001b[0m\u001b[0;34m)\u001b[0m\u001b[0;34m)\u001b[0m\u001b[0;34m\u001b[0m\u001b[0;34m\u001b[0m\u001b[0m\n\u001b[0m\u001b[1;32m      3\u001b[0m \u001b[0mmx\u001b[0m \u001b[0;34m=\u001b[0m \u001b[0mnp\u001b[0m\u001b[0;34m.\u001b[0m\u001b[0msum\u001b[0m\u001b[0;34m(\u001b[0m\u001b[0mevals\u001b[0m\u001b[0;34m)\u001b[0m\u001b[0;34m\u001b[0m\u001b[0;34m\u001b[0m\u001b[0m\n\u001b[1;32m      4\u001b[0m \u001b[0mplt\u001b[0m\u001b[0;34m.\u001b[0m\u001b[0mplot\u001b[0m\u001b[0;34m(\u001b[0m\u001b[0;34m[\u001b[0m\u001b[0;36m0\u001b[0m\u001b[0;34m]\u001b[0m\u001b[0;34m+\u001b[0m\u001b[0;34m(\u001b[0m\u001b[0mnp\u001b[0m\u001b[0;34m.\u001b[0m\u001b[0mcumsum\u001b[0m\u001b[0;34m(\u001b[0m\u001b[0mevals\u001b[0m\u001b[0;34m)\u001b[0m\u001b[0;34m/\u001b[0m\u001b[0mmx\u001b[0m\u001b[0;34m)\u001b[0m\u001b[0;34m.\u001b[0m\u001b[0mtolist\u001b[0m\u001b[0;34m(\u001b[0m\u001b[0;34m)\u001b[0m\u001b[0;34m)\u001b[0m\u001b[0;34m\u001b[0m\u001b[0;34m\u001b[0m\u001b[0m\n\u001b[1;32m      5\u001b[0m \u001b[0;34m\u001b[0m\u001b[0m\n",
      "\u001b[0;31mValueError\u001b[0m: shapes (7,7) and (91,720) not aligned: 7 (dim 1) != 91 (dim 0)"
     ]
    }
   ],
   "source": [
    "#this is the correct equation to testimate. This returns the corresponding D\n",
    "evals = np.abs(U.T.dot(store_g1_filt).dot(V.T).diagonal())\n",
    "mx = np.sum(evals)\n",
    "plt.plot([0]+(np.cumsum(evals)/mx).tolist())\n",
    "\n",
    "evals = np.abs(U.T.dot(store_g1_cv_filt).dot(V.T).diagonal())\n",
    "plt.plot([0]+(np.cumsum(evals)/mx).tolist())\n",
    "\n",
    "\n",
    "evals = np.abs(U.T.dot(store_g2_filt).dot(V.T).diagonal())\n",
    "plt.plot([0]+(np.cumsum(evals)/mx).tolist())\n",
    "#plt.ylim(.2,1)\n"
   ]
  },
  {
   "cell_type": "code",
   "execution_count": 178,
   "metadata": {},
   "outputs": [
    {
     "data": {
      "text/plain": [
       "[<matplotlib.lines.Line2D at 0x7f8e0e0f5950>]"
      ]
     },
     "execution_count": 178,
     "metadata": {},
     "output_type": "execute_result"
    },
    {
     "data": {
      "image/png": "[encoded data removed]",
      "text/plain": [
       "<Figure size 432x288 with 1 Axes>"
      ]
     },
     "metadata": {},
     "output_type": "display_data"
    }
   ],
   "source": [
    "#this is the correct equation to testimate. This returns the corresponding D\n",
    "evals = np.abs(U.T.dot(store_g1_filt).dot(V.T).diagonal())\n",
    "mx = np.sum(evals)\n",
    "plt.plot([0]+(np.cumsum(evals)/mx).tolist())\n",
    "\n",
    "evals = np.abs(U.T.dot(store_g1_cv_filt).dot(V.T).diagonal())\n",
    "plt.plot([0]+(np.cumsum(evals)/mx).tolist())\n",
    "\n",
    "\n",
    "evals = np.abs(U.T.dot(store_g2_filt).dot(V.T).diagonal())\n",
    "plt.plot([0]+(np.cumsum(evals)/mx).tolist())\n",
    "#plt.ylim(.2,1)\n"
   ]
  },
  {
   "cell_type": "code",
   "execution_count": null,
   "metadata": {},
   "outputs": [],
   "source": []
  },
  {
   "cell_type": "code",
   "execution_count": 66,
   "metadata": {},
   "outputs": [
    {
     "data": {
      "text/plain": [
       "[<matplotlib.lines.Line2D at 0x7f8cf5e08810>]"
      ]
     },
     "execution_count": 66,
     "metadata": {},
     "output_type": "execute_result"
    },
    {
     "data": {
      "image/png": "[encoded data removed]",
      "text/plain": [
       "<Figure size 432x288 with 1 Axes>"
      ]
     },
     "metadata": {
      "needs_background": "light"
     },
     "output_type": "display_data"
    }
   ],
   "source": [
    "#this is the correct equation to testimate. This returns the corresponding D\n",
    "evals = U.T.dot(store_g1_filt).dot(V.T).diagonal()**2\n",
    "mx = np.sum(evals)\n",
    "plt.plot([0]+(np.cumsum(evals)/mx).tolist())\n",
    "\n",
    "evals = U.T.dot(store_g1_cv_filt).dot(V.T).diagonal()**2\n",
    "plt.plot([0]+(np.cumsum(evals)/mx).tolist())\n",
    "\n",
    "\n",
    "evals = U.T.dot(store_g2_filt).dot(V.T).diagonal()**2\n",
    "plt.plot([0]+(np.cumsum(evals)/mx).tolist())"
   ]
  }
 ],
 "metadata": {
  "kernelspec": {
   "display_name": "Python 3",
   "language": "python",
   "name": "python3"
  },
  "language_info": {
   "codemirror_mode": {
    "name": "ipython",
    "version": 3
   },
   "file_extension": ".py",
   "mimetype": "text/x-python",
   "name": "python",
   "nbconvert_exporter": "python",
   "pygments_lexer": "ipython3",
   "version": "3.7.4"
  }
 },
 "nbformat": 4,
 "nbformat_minor": 2
}
