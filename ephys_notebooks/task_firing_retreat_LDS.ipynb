{
 "cells": [
  {
   "cell_type": "code",
   "execution_count": 697,
   "metadata": {},
   "outputs": [],
   "source": [
    "#%matplotlib inline\n",
    "import sys\n",
    "import os\n",
    "\n",
    "import numpy as np\n",
    "import matplotlib.pyplot as plt\n",
    "import scipy.ndimage as ndi\n",
    "import pandas as pd\n",
    "import networkx as nx\n",
    "#optional for nicer plots\n",
    "import seaborn\n",
    "clrs = seaborn.color_palette(n_colors=6)\n",
    "seaborn.set(style='ticks',font_scale=1.5)"
   ]
  },
  {
   "cell_type": "markdown",
   "metadata": {},
   "source": [
    "# UPDATE THE PATH BELOW TO THE CODE FOLDER"
   ]
  },
  {
   "cell_type": "code",
   "execution_count": 698,
   "metadata": {},
   "outputs": [],
   "source": [
    "sys.path.append(\"/Users/yves/Desktop/retreat_data_dir/code/\")\n",
    "from mecll.task import plot_activity_on_graph"
   ]
  },
  {
   "cell_type": "markdown",
   "metadata": {},
   "source": [
    "# Load stuff"
   ]
  },
  {
   "cell_type": "code",
   "execution_count": null,
   "metadata": {},
   "outputs": [],
   "source": []
  },
  {
   "cell_type": "code",
   "execution_count": 1056,
   "metadata": {},
   "outputs": [],
   "source": [
    "#These are the times (in units of the behaviour system bin running @1000Hz) at which spikes occurred\n",
    "\n",
    "selected_session = 0\n",
    "\n",
    "all_data_dir = '/Users/yves/Desktop/retreat_data_dir/data/'\n",
    "all_data_folders = sorted([i for i in os.listdir(all_data_dir) if 'ks25' in i])\n",
    "root_dir = os.path.join(all_data_dir,all_data_folders[selected_session])\n",
    "spkT = np.load(os.path.join(root_dir,'spkT_task.npy'))\n",
    "\n",
    "\n",
    "#This array is the same shape as spkT but shows which cluster each of the spikes in spkT belongs to\n",
    "spkC = np.load(os.path.join(root_dir,'spkC_task.npy'))\n",
    "\n",
    "#This is basically a big table (you can open it in excel) which contains\n",
    "#relevant information about each time the animal poked one of the ports\n",
    "task_event_df = pd.read_csv(os.path.join(root_dir,'task_event_table.csv'),index_col=0)\n",
    "\n",
    "#\n",
    "response_table = np.load(os.path.join(root_dir,'neuron_response_table.npy'))\n",
    "#alternatively to change the time window\n",
    "\n",
    "\n",
    "#not all cluster in spkC correspond to single units. Single units is an array of the clusters that are single units\n",
    "single_units = np.load(os.path.join(root_dir,'single_units.npy'))"
   ]
  },
  {
   "cell_type": "code",
   "execution_count": 1057,
   "metadata": {},
   "outputs": [],
   "source": [
    "#np.unique(task_event_df['graph_type'])"
   ]
  },
  {
   "cell_type": "code",
   "execution_count": 1058,
   "metadata": {},
   "outputs": [],
   "source": [
    "seq0 = np.array(eval(task_event_df.loc[task_event_df['task_nr']==0]['current_sequence'].values[0]))\n",
    "seq1 = np.array(eval(task_event_df.loc[task_event_df['task_nr']==1]['current_sequence'].values[0]))"
   ]
  },
  {
   "cell_type": "code",
   "execution_count": 1059,
   "metadata": {},
   "outputs": [
    {
     "name": "stdout",
     "output_type": "stream",
     "text": [
      "loop loop\n"
     ]
    }
   ],
   "source": [
    "graph_type0 = task_event_df.loc[task_event_df['task_nr']==0]['graph_type'].values[0]\n",
    "graph_type1 = task_event_df.loc[task_event_df['task_nr']==1]['graph_type'].values[0]\n",
    "print(graph_type0,graph_type1)"
   ]
  },
  {
   "cell_type": "code",
   "execution_count": 1060,
   "metadata": {},
   "outputs": [],
   "source": [
    "def get_task_responses(task_event_df,response_table):\n",
    "    \"\"\" \n",
    "    Use the columns of the task_event_df to filter neural activity. \n",
    "    In this example build separate firing rate maps for each of the\n",
    "    tasks, selecting only trials where subjects poked the correct poke.\n",
    "    \n",
    "    \n",
    "    \"\"\"\n",
    "    \n",
    "    \n",
    "    n_neurons = response_table.shape[1]\n",
    "    n_ports = n_states\n",
    "    n_tasks = 2\n",
    "    n_direction = 2\n",
    "    \n",
    "    #set variables to nan to not confuse missing data for no responses\n",
    "    firing_rate_maps = np.zeros([n_neurons,n_ports,n_tasks,n_direction]) + np.nan\n",
    "    \n",
    "    #for each task\n",
    "    for task in [0,1]:\n",
    "        \n",
    "        for port in range(n_ports):  #for each port\n",
    "            \n",
    "            for dix,direction in enumerate(np.unique(task_event_df['direction'].values)):\n",
    "\n",
    "                #Select indices of pokes where...\n",
    "                table_index = task_event_df.loc[(task_event_df['task_nr']==task) &    #task_nr was task\n",
    "                                                (task_event_df['correct']==True) &    #the poke was to the correct port\n",
    "                                                (task_event_df['port']==port) &       #the port poked was port\n",
    "                                                (task_event_df['direction']==direction)\n",
    "                                               ].index           \n",
    "                #print(len(table_index))\n",
    "                #get the average\n",
    "                firing_rate_maps[:,int(port),int(task),dix] = np.nanmean(response_table[table_index],axis=0)\n",
    "    return firing_rate_maps\n",
    "                                         "
   ]
  },
  {
   "cell_type": "code",
   "execution_count": 1061,
   "metadata": {},
   "outputs": [],
   "source": [
    "from scipy.optimize import minimize\n",
    "\n",
    "def skew_sym_regress(X, X_dot, tol=1e-8):\n",
    "    \"\"\"\n",
    "    Original data tensor is C x L x N where N is number of Neurons, L is length of each trial\n",
    "    and C is number of conditions. We stack this to get L*C x N array.\n",
    "    Args\n",
    "    ----\n",
    "    X_dot: First difference of (reduced dimension) data. Shape is T x N\n",
    "\n",
    "    X: reduced dimension data. Shape is T x N\n",
    "    \"\"\"\n",
    "\n",
    "    # 1) Initialize h using the odd part of the least-squares solution.\n",
    "    # 2) call scipy.optimize.minimize and pass in our starting h, and x_dot, \n",
    "    T, N = X.shape\n",
    "    M_lstq, _, _, _ = np.linalg.lstsq(X, X_dot, rcond=None)\n",
    "    M_lstq = M_lstq.T\n",
    "    M_init = 0.5 * (M_lstq - M_lstq.T)\n",
    "    h_init = _reshape_mat2vec(M_init, N)\n",
    "\n",
    "    options=dict(maxiter=10000, gtol=tol)\n",
    "    result = minimize(lambda h: _objective(h, X, X_dot),\n",
    "                    h_init,\n",
    "                    jac=lambda h: _grad_f(h, X, X_dot),\n",
    "                    method='CG',\n",
    "                    options=options)\n",
    "    if not result.success:\n",
    "        print(\"Optimization failed.\")\n",
    "        print(result.message)\n",
    "    M = _reshape_vec2mat(result.x, N)\n",
    "    assert(np.allclose(M, -M.T))\n",
    "    return M"
   ]
  },
  {
   "cell_type": "code",
   "execution_count": 1062,
   "metadata": {},
   "outputs": [],
   "source": [
    "\n",
    "def _grad_f(h, X, X_dot):\n",
    "    _, N = X.shape\n",
    "    M = _reshape_vec2mat(h, N)\n",
    "    dM = (X.T @ X @ M.T) - X.T @ X_dot\n",
    "    return _reshape_mat2vec(dM.T - dM, N)\n",
    "\n",
    "\n",
    "def _objective(h, X, X_dot):\n",
    "    _, N = X.shape\n",
    "    M = _reshape_vec2mat(h, N)\n",
    "    return 0.5 * np.linalg.norm(X @ M.T - X_dot, ord='fro')**2\n",
    "\n",
    "\n",
    "def _reshape_vec2mat(h, N):\n",
    "    M = np.zeros((N, N))\n",
    "    upper_tri_indices = np.triu_indices(N, k=1)\n",
    "    M[upper_tri_indices] = h\n",
    "    return M - M.T\n",
    "\n",
    "\n",
    "def _reshape_mat2vec(M, N):\n",
    "    upper_tri_indices = np.triu_indices(N, k=1)\n",
    "    return M[upper_tri_indices]"
   ]
  },
  {
   "cell_type": "code",
   "execution_count": 1063,
   "metadata": {},
   "outputs": [],
   "source": [
    "n_states = 9"
   ]
  },
  {
   "cell_type": "code",
   "execution_count": 1064,
   "metadata": {},
   "outputs": [],
   "source": [
    "firing_rate_maps = get_task_responses(task_event_df,response_table)"
   ]
  },
  {
   "cell_type": "code",
   "execution_count": 1065,
   "metadata": {},
   "outputs": [],
   "source": [
    "n_neurons, n_ports, n_tasks, n_directions = firing_rate_maps.shape"
   ]
  },
  {
   "cell_type": "code",
   "execution_count": 1066,
   "metadata": {},
   "outputs": [],
   "source": [
    "spatial_map  = np.nanmean(firing_rate_maps,axis=(2,3))"
   ]
  },
  {
   "cell_type": "code",
   "execution_count": 1067,
   "metadata": {},
   "outputs": [],
   "source": [
    "#here subtract the spatial terms\n",
    "mds_frm = firing_rate_maps - spatial_map[:,:,None,None]"
   ]
  },
  {
   "cell_type": "code",
   "execution_count": 1068,
   "metadata": {},
   "outputs": [
    {
     "data": {
      "text/plain": [
       "(135, 9, 2, 2)"
      ]
     },
     "execution_count": 1068,
     "metadata": {},
     "output_type": "execute_result"
    }
   ],
   "source": [
    "mds_frm.shape"
   ]
  },
  {
   "cell_type": "code",
   "execution_count": 1069,
   "metadata": {},
   "outputs": [],
   "source": [
    "from sklearn.decomposition import PCA"
   ]
  },
  {
   "cell_type": "code",
   "execution_count": 1070,
   "metadata": {},
   "outputs": [],
   "source": [
    "mds_frm_flat = np.hstack([mds_frm[:,seq0,0,0],mds_frm[:,seq0,0,1],mds_frm[:,seq1,1,0],mds_frm[:,seq1,1,1]])"
   ]
  },
  {
   "cell_type": "code",
   "execution_count": 1071,
   "metadata": {},
   "outputs": [],
   "source": [
    "#when dealing with lines\n",
    "#mds_frm_flat = np.hstack([mds_frm[:,seq0[1:-1],0,0],\n",
    "#                          mds_frm[:,seq0[1:-1],0,1],\n",
    "#                          mds_frm[:,seq1[1:-1],1,0],\n",
    "#                          mds_frm[:,seq1[1:-1],1,1]])"
   ]
  },
  {
   "cell_type": "code",
   "execution_count": 1092,
   "metadata": {},
   "outputs": [
    {
     "data": {
      "text/plain": [
       "(135, 36)"
      ]
     },
     "execution_count": 1092,
     "metadata": {},
     "output_type": "execute_result"
    }
   ],
   "source": [
    "mds_frm_flat.shape"
   ]
  },
  {
   "cell_type": "code",
   "execution_count": 1094,
   "metadata": {},
   "outputs": [],
   "source": [
    "pca = PCA(n_components=12)"
   ]
  },
  {
   "cell_type": "code",
   "execution_count": 1095,
   "metadata": {},
   "outputs": [],
   "source": [
    "pc_act = pca.fit_transform(mds_frm_flat.T)[:,:]"
   ]
  },
  {
   "cell_type": "code",
   "execution_count": 1096,
   "metadata": {},
   "outputs": [
    {
     "data": {
      "text/plain": [
       "<matplotlib.collections.PathCollection at 0x7f7fc627a950>"
      ]
     },
     "execution_count": 1096,
     "metadata": {},
     "output_type": "execute_result"
    },
    {
     "data": {
      "image/png": "[encoded data removed]",
      "text/plain": [
       "<Figure size 432x288 with 1 Axes>"
      ]
     },
     "metadata": {},
     "output_type": "display_data"
    }
   ],
   "source": [
    "plt.scatter(pca.inverse_transform(pc_act).flatten(),mds_frm_flat.T.flatten())"
   ]
  },
  {
   "cell_type": "code",
   "execution_count": 1097,
   "metadata": {},
   "outputs": [
    {
     "data": {
      "text/plain": [
       "[<matplotlib.lines.Line2D at 0x7f7fd2571510>]"
      ]
     },
     "execution_count": 1097,
     "metadata": {},
     "output_type": "execute_result"
    },
    {
     "data": {
      "image/png": "[encoded data removed]",
      "text/plain": [
       "<Figure size 432x288 with 1 Axes>"
      ]
     },
     "metadata": {},
     "output_type": "display_data"
    }
   ],
   "source": [
    "plt.plot(np.cumsum(pca.explained_variance_ratio_))"
   ]
  },
  {
   "cell_type": "code",
   "execution_count": null,
   "metadata": {},
   "outputs": [],
   "source": []
  },
  {
   "cell_type": "code",
   "execution_count": 1076,
   "metadata": {},
   "outputs": [],
   "source": [
    "X_all = pc_act[:9]\n",
    "X_alt_dir = pc_act[9:18]\n",
    "X = pc_act[:9][1:]\n",
    "Xval = pc_act[18:27]\n",
    "Xval_alt_dir = pc_act[27:]"
   ]
  },
  {
   "cell_type": "code",
   "execution_count": 1077,
   "metadata": {},
   "outputs": [],
   "source": [
    "Xdot = pc_act[:n_states][1:] - pc_act[:n_states][:-1]"
   ]
  },
  {
   "cell_type": "code",
   "execution_count": 1078,
   "metadata": {},
   "outputs": [
    {
     "data": {
      "text/plain": [
       "(36, 12)"
      ]
     },
     "execution_count": 1078,
     "metadata": {},
     "output_type": "execute_result"
    }
   ],
   "source": [
    "pc_act.shape"
   ]
  },
  {
   "cell_type": "code",
   "execution_count": 1079,
   "metadata": {},
   "outputs": [
    {
     "data": {
      "text/plain": [
       "array([-2.22257016, -6.17669948,  2.80568322, -3.65367341, -0.45253497,\n",
       "        2.13407713,  9.69751509,  4.10263134, 10.51310266,  7.79644717,\n",
       "        1.66486981,  9.94224923])"
      ]
     },
     "execution_count": 1079,
     "metadata": {},
     "output_type": "execute_result"
    }
   ],
   "source": [
    "np.dot(M,X[0])"
   ]
  },
  {
   "cell_type": "code",
   "execution_count": 1080,
   "metadata": {},
   "outputs": [
    {
     "data": {
      "text/plain": [
       "array([-3.2418896 ,  4.24837674, -0.71088706, -8.72485139,  2.95955406,\n",
       "       -5.96914796,  3.04020683,  2.77728407,  0.51898026, -7.11840594,\n",
       "        2.35422439,  1.00897394])"
      ]
     },
     "execution_count": 1080,
     "metadata": {},
     "output_type": "execute_result"
    }
   ],
   "source": [
    "np.dot(X[0],M)"
   ]
  },
  {
   "cell_type": "code",
   "execution_count": 1081,
   "metadata": {},
   "outputs": [],
   "source": [
    "X = pc_act[:n_states][:-1]"
   ]
  },
  {
   "cell_type": "code",
   "execution_count": 1082,
   "metadata": {},
   "outputs": [
    {
     "data": {
      "text/plain": [
       "[<matplotlib.lines.Line2D at 0x7f7fc622e150>]"
      ]
     },
     "execution_count": 1082,
     "metadata": {},
     "output_type": "execute_result"
    },
    {
     "data": {
      "image/png": "[encoded data removed]",
      "text/plain": [
       "<Figure size 432x288 with 1 Axes>"
      ]
     },
     "metadata": {},
     "output_type": "display_data"
    }
   ],
   "source": [
    "plt.plot(pc_act[:9,0])"
   ]
  },
  {
   "cell_type": "code",
   "execution_count": 909,
   "metadata": {},
   "outputs": [],
   "source": [
    "X = np.sin(np.linspace(0,12*np.pi,num=106).reshape(1,-1)*np.random.normal(size=(4))[:,None]).T + np.random.normal(size=4)\n",
    "Xdot = np.diff(X,axis=0)\n"
   ]
  },
  {
   "cell_type": "code",
   "execution_count": 910,
   "metadata": {},
   "outputs": [
    {
     "data": {
      "text/plain": [
       "array([-0.32972966,  0.32989706, -0.39375187, -0.29116311])"
      ]
     },
     "execution_count": 910,
     "metadata": {},
     "output_type": "execute_result"
    }
   ],
   "source": [
    "Xdot[0]"
   ]
  },
  {
   "cell_type": "code",
   "execution_count": 911,
   "metadata": {},
   "outputs": [
    {
     "data": {
      "text/plain": [
       "(105, 4)"
      ]
     },
     "execution_count": 911,
     "metadata": {},
     "output_type": "execute_result"
    }
   ],
   "source": [
    "Xdot.shape"
   ]
  },
  {
   "cell_type": "code",
   "execution_count": 912,
   "metadata": {},
   "outputs": [],
   "source": [
    "M = skew_sym_regress(X=X[:-1],X_dot=Xdot,)\n",
    "assert np.all(M==-M.T) #definition of skew symmetric"
   ]
  },
  {
   "cell_type": "code",
   "execution_count": 738,
   "metadata": {},
   "outputs": [
    {
     "name": "stdout",
     "output_type": "stream",
     "text": [
      "Optimization failed.\n",
      "Desired error not necessarily achieved due to precision loss.\n"
     ]
    }
   ],
   "source": [
    "M = skew_sym_regress(X=X_all[:-1],X_dot=X_all[1:])\n",
    "assert np.all(M==-M.T) #definition of skew symmetric"
   ]
  },
  {
   "cell_type": "code",
   "execution_count": 913,
   "metadata": {},
   "outputs": [
    {
     "data": {
      "text/plain": [
       "(4, 4)"
      ]
     },
     "execution_count": 913,
     "metadata": {},
     "output_type": "execute_result"
    }
   ],
   "source": [
    "M.shape"
   ]
  },
  {
   "cell_type": "code",
   "execution_count": 1083,
   "metadata": {},
   "outputs": [],
   "source": [
    "M = np.linalg.pinv(np.dot(X.T,X)).dot(X.T).dot(Xdot)\n",
    "#print(M.shape)\n",
    "#M = np.linalg.lstsq(X[1:],X[:-1],rcond=None)[0]"
   ]
  },
  {
   "cell_type": "code",
   "execution_count": 1084,
   "metadata": {},
   "outputs": [
    {
     "data": {
      "text/plain": [
       "array([ -5.87614801,  -4.55827874, -10.59623157,   2.77990425,\n",
       "        -1.56790256,   9.87140336, -11.08345708,  16.83556844,\n",
       "         7.74291556, -15.5479176 ,   2.93712207,   1.46320421])"
      ]
     },
     "execution_count": 1084,
     "metadata": {},
     "output_type": "execute_result"
    }
   ],
   "source": [
    "M.dot(X[0])"
   ]
  },
  {
   "cell_type": "code",
   "execution_count": 1085,
   "metadata": {},
   "outputs": [
    {
     "data": {
      "text/plain": [
       "array([ 8.44907723,  7.03214214,  9.47582578, -8.42935747, -7.00497837,\n",
       "       -2.46483659, -0.49215985, -2.762561  , -7.30229024,  4.23349812,\n",
       "       -2.74175333,  1.66539568])"
      ]
     },
     "execution_count": 1085,
     "metadata": {},
     "output_type": "execute_result"
    }
   ],
   "source": [
    "X[0]"
   ]
  },
  {
   "cell_type": "code",
   "execution_count": 1086,
   "metadata": {},
   "outputs": [
    {
     "data": {
      "text/plain": [
       "array([-7.15575796, -3.71409734, 10.79736905, -7.4255548 ,  0.55488552,\n",
       "       -0.61695131,  8.3719813 , -1.70075943,  1.53271153, -5.30825272,\n",
       "        0.7132724 , -1.56514718])"
      ]
     },
     "execution_count": 1086,
     "metadata": {},
     "output_type": "execute_result"
    }
   ],
   "source": [
    "X[1]"
   ]
  },
  {
   "cell_type": "code",
   "execution_count": 1010,
   "metadata": {},
   "outputs": [],
   "source": [
    "tmp =[X[0]]\n",
    "for i in range(70):\n",
    "    tmp.append(np.dot(M,tmp[-1]))\n",
    "tmp = np.array(tmp)"
   ]
  },
  {
   "cell_type": "code",
   "execution_count": 1011,
   "metadata": {},
   "outputs": [
    {
     "data": {
      "text/plain": [
       "[<matplotlib.lines.Line2D at 0x7f7fa22eac10>]"
      ]
     },
     "execution_count": 1011,
     "metadata": {},
     "output_type": "execute_result"
    },
    {
     "data": {
      "image/png": "[encoded data removed]",
      "text/plain": [
       "<Figure size 432x288 with 1 Axes>"
      ]
     },
     "metadata": {},
     "output_type": "display_data"
    }
   ],
   "source": [
    "plt.plot(X[:,0])"
   ]
  },
  {
   "cell_type": "code",
   "execution_count": 1012,
   "metadata": {},
   "outputs": [
    {
     "data": {
      "text/plain": [
       "(8, 6)"
      ]
     },
     "execution_count": 1012,
     "metadata": {},
     "output_type": "execute_result"
    }
   ],
   "source": [
    "X.shape"
   ]
  },
  {
   "cell_type": "code",
   "execution_count": 1015,
   "metadata": {},
   "outputs": [],
   "source": [
    "def fit_dynamics_matrix(X):\n",
    "    Xdot = X[:n_states][1:] - X[:n_states][:-1]\n",
    "    Xoffs = X[:-1]\n",
    "    M = np.linalg.pinv(np.dot(Xoffs.T,Xoffs)).dot(Xoffs.T).dot(Xdot)\n",
    "    return M\n",
    "    "
   ]
  },
  {
   "cell_type": "code",
   "execution_count": 1090,
   "metadata": {},
   "outputs": [
    {
     "name": "stdout",
     "output_type": "stream",
     "text": [
      "(12, 12)\n"
     ]
    }
   ],
   "source": [
    "M = np.linalg.pinv(np.dot(X.T,X)).dot(X.T).dot(Xdot)\n",
    "print(M.shape)\n",
    "#np.allclose(M,np.linalg.lstsq(X,Xdot,rcond=None)[0])"
   ]
  },
  {
   "cell_type": "code",
   "execution_count": 1091,
   "metadata": {},
   "outputs": [],
   "source": [
    "lamda, Q = np.linalg.eig(M)"
   ]
  },
  {
   "cell_type": "code",
   "execution_count": 1045,
   "metadata": {},
   "outputs": [
    {
     "data": {
      "text/plain": [
       "array([1.98786104e+00, 1.65098162e+00, 1.65098162e+00, 1.25581362e+00,\n",
       "       1.25581362e+00, 8.39662158e-01, 8.39662158e-01, 1.76683219e-01,\n",
       "       1.97583697e-16, 2.36603663e-16, 8.01565193e-17, 8.01565193e-17])"
      ]
     },
     "execution_count": 1045,
     "metadata": {},
     "output_type": "execute_result"
    }
   ],
   "source": [
    "np.abs(lamda)"
   ]
  },
  {
   "cell_type": "code",
   "execution_count": 1046,
   "metadata": {},
   "outputs": [
    {
     "data": {
      "text/plain": [
       "array([ 1.98786104e+00+0.00000000e+00j,  1.55093031e+00+5.65999555e-01j,\n",
       "        1.55093031e+00-5.65999555e-01j,  1.04381401e+00+6.98226444e-01j,\n",
       "        1.04381401e+00-6.98226444e-01j,  3.31863980e-01+7.71296855e-01j,\n",
       "        3.31863980e-01-7.71296855e-01j,  1.76683219e-01+0.00000000e+00j,\n",
       "        1.97583697e-16+0.00000000e+00j, -2.36603663e-16+0.00000000e+00j,\n",
       "       -6.32647070e-18+7.99064662e-17j, -6.32647070e-18-7.99064662e-17j])"
      ]
     },
     "execution_count": 1046,
     "metadata": {},
     "output_type": "execute_result"
    }
   ],
   "source": [
    "lamda"
   ]
  },
  {
   "cell_type": "code",
   "execution_count": 1047,
   "metadata": {},
   "outputs": [
    {
     "data": {
      "text/plain": [
       "<matplotlib.image.AxesImage at 0x7f7fd1de4e50>"
      ]
     },
     "execution_count": 1047,
     "metadata": {},
     "output_type": "execute_result"
    },
    {
     "data": {
      "image/png": "[encoded data removed]",
      "text/plain": [
       "<Figure size 432x288 with 1 Axes>"
      ]
     },
     "metadata": {},
     "output_type": "display_data"
    }
   ],
   "source": [
    "plt.imshow(np.linalg.lstsq(X,Xdot,rcond=None)[0])"
   ]
  },
  {
   "cell_type": "code",
   "execution_count": 1048,
   "metadata": {},
   "outputs": [],
   "source": [
    "def simulate_data(M):\n",
    "    X = np.random.normal(size=(1,12))\n",
    "    xs = [X]\n",
    "    for _ in range(10):\n",
    "        xs.append(np.dot(M,xs[-1])+xs[-1])"
   ]
  },
  {
   "cell_type": "code",
   "execution_count": 1049,
   "metadata": {},
   "outputs": [
    {
     "ename": "ValueError",
     "evalue": "shapes (6,) and (12,12) not aligned: 6 (dim 0) != 12 (dim 0)",
     "output_type": "error",
     "traceback": [
      "\u001b[0;31m---------------------------------------------------------------------------\u001b[0m",
      "\u001b[0;31mValueError\u001b[0m                                Traceback (most recent call last)",
      "\u001b[0;32m<ipython-input-1049-975a2991fdd5>\u001b[0m in \u001b[0;36m<module>\u001b[0;34m\u001b[0m\n\u001b[1;32m      1\u001b[0m \u001b[0mxs\u001b[0m \u001b[0;34m=\u001b[0m \u001b[0;34m[\u001b[0m\u001b[0mnp\u001b[0m\u001b[0;34m.\u001b[0m\u001b[0mrandom\u001b[0m\u001b[0;34m.\u001b[0m\u001b[0mnormal\u001b[0m\u001b[0;34m(\u001b[0m\u001b[0msize\u001b[0m\u001b[0;34m=\u001b[0m\u001b[0;36m6\u001b[0m\u001b[0;34m)\u001b[0m\u001b[0;34m]\u001b[0m\u001b[0;34m\u001b[0m\u001b[0;34m\u001b[0m\u001b[0m\n\u001b[1;32m      2\u001b[0m \u001b[0;32mfor\u001b[0m \u001b[0m_\u001b[0m \u001b[0;32min\u001b[0m \u001b[0mrange\u001b[0m\u001b[0;34m(\u001b[0m\u001b[0;36m200\u001b[0m\u001b[0;34m)\u001b[0m\u001b[0;34m:\u001b[0m\u001b[0;34m\u001b[0m\u001b[0;34m\u001b[0m\u001b[0m\n\u001b[0;32m----> 3\u001b[0;31m     \u001b[0mxs\u001b[0m\u001b[0;34m.\u001b[0m\u001b[0mappend\u001b[0m\u001b[0;34m(\u001b[0m\u001b[0mnp\u001b[0m\u001b[0;34m.\u001b[0m\u001b[0mdot\u001b[0m\u001b[0;34m(\u001b[0m\u001b[0mxs\u001b[0m\u001b[0;34m[\u001b[0m\u001b[0;34m-\u001b[0m\u001b[0;36m1\u001b[0m\u001b[0;34m]\u001b[0m\u001b[0;34m,\u001b[0m\u001b[0mM\u001b[0m\u001b[0;34m)\u001b[0m\u001b[0;34m+\u001b[0m\u001b[0mxs\u001b[0m\u001b[0;34m[\u001b[0m\u001b[0;34m-\u001b[0m\u001b[0;36m1\u001b[0m\u001b[0;34m]\u001b[0m\u001b[0;34m)\u001b[0m\u001b[0;34m\u001b[0m\u001b[0;34m\u001b[0m\u001b[0m\n\u001b[0m",
      "\u001b[0;32m<__array_function__ internals>\u001b[0m in \u001b[0;36mdot\u001b[0;34m(*args, **kwargs)\u001b[0m\n",
      "\u001b[0;31mValueError\u001b[0m: shapes (6,) and (12,12) not aligned: 6 (dim 0) != 12 (dim 0)"
     ]
    }
   ],
   "source": [
    "xs = [np.random.normal(size=6)]\n",
    "for _ in range(200):\n",
    "    xs.append(np.dot(xs[-1],M)+xs[-1])"
   ]
  },
  {
   "cell_type": "code",
   "execution_count": 1050,
   "metadata": {},
   "outputs": [],
   "source": [
    "lamda, Q = np.linalg.eig(M)"
   ]
  },
  {
   "cell_type": "code",
   "execution_count": null,
   "metadata": {},
   "outputs": [],
   "source": []
  },
  {
   "cell_type": "code",
   "execution_count": 1051,
   "metadata": {},
   "outputs": [],
   "source": [
    "M2 = Q.dot(np.eye(len(Q))).dot(np.linalg.inv(Q))"
   ]
  },
  {
   "cell_type": "code",
   "execution_count": 1052,
   "metadata": {},
   "outputs": [
    {
     "data": {
      "text/plain": [
       "<matplotlib.image.AxesImage at 0x7f7fc5c25c90>"
      ]
     },
     "execution_count": 1052,
     "metadata": {},
     "output_type": "execute_result"
    },
    {
     "data": {
      "image/png": "[encoded data removed]",
      "text/plain": [
       "<Figure size 432x288 with 1 Axes>"
      ]
     },
     "metadata": {},
     "output_type": "display_data"
    }
   ],
   "source": [
    "plt.imshow(M)"
   ]
  },
  {
   "cell_type": "code",
   "execution_count": 1087,
   "metadata": {},
   "outputs": [],
   "source": [
    "Xpred = []\n",
    "for i in range(n_states-1):\n",
    "    pred = np.dot(X[i],M) \n",
    "    Xpred.append(pred)"
   ]
  },
  {
   "cell_type": "code",
   "execution_count": 1088,
   "metadata": {},
   "outputs": [],
   "source": [
    "Xpred = np.array(Xpred)"
   ]
  },
  {
   "cell_type": "code",
   "execution_count": 1089,
   "metadata": {},
   "outputs": [
    {
     "data": {
      "text/plain": [
       "[<matplotlib.lines.Line2D at 0x7f7fc6249c50>]"
      ]
     },
     "execution_count": 1089,
     "metadata": {},
     "output_type": "execute_result"
    },
    {
     "data": {
      "image/png": "[encoded data removed]",
      "text/plain": [
       "<Figure size 432x288 with 1 Axes>"
      ]
     },
     "metadata": {},
     "output_type": "display_data"
    }
   ],
   "source": [
    "dim = 0\n",
    "\n",
    "plt.plot(X_all[1:,dim])\n",
    "plt.plot(Xpred[:,dim])\n"
   ]
  },
  {
   "cell_type": "code",
   "execution_count": null,
   "metadata": {},
   "outputs": [],
   "source": []
  },
  {
   "cell_type": "code",
   "execution_count": 467,
   "metadata": {},
   "outputs": [],
   "source": [
    "all_neuron_pred = np.dot(Xpred,pca.components_)"
   ]
  },
  {
   "cell_type": "code",
   "execution_count": 468,
   "metadata": {},
   "outputs": [],
   "source": [
    "all_neuron_pred = pca.inverse_transform(Xpred)"
   ]
  },
  {
   "cell_type": "code",
   "execution_count": null,
   "metadata": {},
   "outputs": [],
   "source": []
  },
  {
   "cell_type": "code",
   "execution_count": 469,
   "metadata": {},
   "outputs": [
    {
     "name": "stdout",
     "output_type": "stream",
     "text": [
      "0.664036909499951\n"
     ]
    },
    {
     "data": {
      "image/png": "[encoded data removed]",
      "text/plain": [
       "<Figure size 432x288 with 1 Axes>"
      ]
     },
     "metadata": {},
     "output_type": "display_data"
    }
   ],
   "source": [
    "plt.scatter(all_neuron_pred.flatten(),mds_frm_flat[:,1:n_states].T.flatten())\n",
    "cc = np.corrcoef(all_neuron_pred.flatten(),mds_frm_flat[:,1:n_states].T.flatten())[0,1]\n",
    "print(cc)"
   ]
  },
  {
   "cell_type": "markdown",
   "metadata": {},
   "source": [
    "# Now run in other direction "
   ]
  },
  {
   "cell_type": "code",
   "execution_count": 666,
   "metadata": {},
   "outputs": [],
   "source": [
    "Minv = np.linalg.pinv(M)"
   ]
  },
  {
   "cell_type": "code",
   "execution_count": 667,
   "metadata": {},
   "outputs": [],
   "source": [
    "X_alt_dir = pc_act[n_states:2*n_states]\n",
    "dset = X_alt_dir\n",
    "Xpred = []\n",
    "Xtar = []\n",
    "for i in range(n_states-1,0,-1):\n",
    "    pred = np.dot(dset[i],Minv) + dset[i]\n",
    "    Xtar.append(dset[i])\n",
    "    Xpred.append(pred)\n",
    "Xpred = np.array(Xpred)\n",
    "Xtar = np.array(Xtar)"
   ]
  },
  {
   "cell_type": "code",
   "execution_count": 668,
   "metadata": {},
   "outputs": [
    {
     "data": {
      "text/plain": [
       "[<matplotlib.lines.Line2D at 0x7f7f9119ffd0>]"
      ]
     },
     "execution_count": 668,
     "metadata": {},
     "output_type": "execute_result"
    },
    {
     "data": {
      "image/png": "[encoded data removed]",
      "text/plain": [
       "<Figure size 432x288 with 1 Axes>"
      ]
     },
     "metadata": {},
     "output_type": "display_data"
    }
   ],
   "source": [
    "dim = 0\n",
    "plt.plot(Xpred[:,dim])\n",
    "plt.plot(Xtar[::-1,dim])"
   ]
  },
  {
   "cell_type": "code",
   "execution_count": 669,
   "metadata": {},
   "outputs": [],
   "source": [
    "all_neuron_pred = pca.inverse_transform(Xpred)"
   ]
  },
  {
   "cell_type": "code",
   "execution_count": 670,
   "metadata": {},
   "outputs": [
    {
     "name": "stdout",
     "output_type": "stream",
     "text": [
      "0.20493951464146137\n"
     ]
    },
    {
     "data": {
      "image/png": "[encoded data removed]",
      "text/plain": [
       "<Figure size 432x288 with 1 Axes>"
      ]
     },
     "metadata": {},
     "output_type": "display_data"
    }
   ],
   "source": [
    "target = mds_frm_flat[:,n_states+1:2*n_states][:,::-1]\n",
    "plt.scatter(all_neuron_pred.flatten(),target.T.flatten())\n",
    "cc = np.corrcoef(all_neuron_pred.flatten(),target.T.flatten())[0,1]\n",
    "print(cc)"
   ]
  },
  {
   "cell_type": "markdown",
   "metadata": {},
   "source": [
    "# Now run on other dataset"
   ]
  },
  {
   "cell_type": "code",
   "execution_count": 671,
   "metadata": {},
   "outputs": [
    {
     "data": {
      "text/plain": [
       "<matplotlib.colorbar.Colorbar at 0x7f7fc51f4ed0>"
      ]
     },
     "execution_count": 671,
     "metadata": {},
     "output_type": "execute_result"
    },
    {
     "data": {
      "image/png": "[encoded data removed]",
      "text/plain": [
       "<Figure size 432x288 with 2 Axes>"
      ]
     },
     "metadata": {},
     "output_type": "display_data"
    }
   ],
   "source": [
    "plt.imshow(M)\n",
    "plt.colorbar()"
   ]
  },
  {
   "cell_type": "code",
   "execution_count": 672,
   "metadata": {},
   "outputs": [
    {
     "data": {
      "text/plain": [
       "array([ 8.68915389, 14.61467294, -5.53914199,  4.07486591, 18.89832298,\n",
       "       -5.30814717])"
      ]
     },
     "execution_count": 672,
     "metadata": {},
     "output_type": "execute_result"
    }
   ],
   "source": [
    "np.dot(M,Xval[1]) + Xval[1]"
   ]
  },
  {
   "cell_type": "code",
   "execution_count": 673,
   "metadata": {},
   "outputs": [
    {
     "data": {
      "text/plain": [
       "array([ 4.13405839, 11.38509792, -1.40252426, -5.71698294, 17.50033029,\n",
       "       -8.73119238])"
      ]
     },
     "execution_count": 673,
     "metadata": {},
     "output_type": "execute_result"
    }
   ],
   "source": [
    "Xval[1]"
   ]
  },
  {
   "cell_type": "code",
   "execution_count": 674,
   "metadata": {},
   "outputs": [],
   "source": [
    "#Xval = pc_act[2*n_states:3*n_states]\n",
    "dset = Xval\n",
    "Xpred = []\n",
    "Xtar = []\n",
    "for i in range(8):\n",
    "    pred = np.dot(dset[i],M) + dset[i]\n",
    "    Xpred.append(pred)\n",
    "    Xtar.append(dset[i+1])\n",
    "Xpred = np.array(Xpred)\n",
    "Xtar = np.array(Xtar)"
   ]
  },
  {
   "cell_type": "code",
   "execution_count": 685,
   "metadata": {},
   "outputs": [
    {
     "data": {
      "text/plain": [
       "[<matplotlib.lines.Line2D at 0x7f7fd1827490>]"
      ]
     },
     "execution_count": 685,
     "metadata": {},
     "output_type": "execute_result"
    },
    {
     "data": {
      "image/png": "[encoded data removed]",
      "text/plain": [
       "<Figure size 432x288 with 1 Axes>"
      ]
     },
     "metadata": {},
     "output_type": "display_data"
    }
   ],
   "source": [
    "dim = 0\n",
    "plt.plot(-Xpred[:,dim])\n",
    "plt.plot(Xtar[:,dim])"
   ]
  },
  {
   "cell_type": "code",
   "execution_count": 686,
   "metadata": {},
   "outputs": [],
   "source": [
    "all_neuron_pred = pca.inverse_transform(Xpred)"
   ]
  },
  {
   "cell_type": "code",
   "execution_count": 687,
   "metadata": {},
   "outputs": [
    {
     "name": "stdout",
     "output_type": "stream",
     "text": [
      "0.08773295516322192\n"
     ]
    },
    {
     "data": {
      "image/png": "[encoded data removed]",
      "text/plain": [
       "<Figure size 432x288 with 1 Axes>"
      ]
     },
     "metadata": {},
     "output_type": "display_data"
    }
   ],
   "source": [
    "target = mds_frm_flat[:,19:27]\n",
    "plt.scatter(all_neuron_pred.flatten(),target.T.flatten())\n",
    "cc = np.corrcoef(all_neuron_pred.flatten(),target.T.flatten())[0,1]\n",
    "print(cc)"
   ]
  },
  {
   "cell_type": "markdown",
   "metadata": {},
   "source": [
    "# Other dataset in other direciton"
   ]
  },
  {
   "cell_type": "code",
   "execution_count": 688,
   "metadata": {},
   "outputs": [],
   "source": [
    "Minv = np.linalg.pinv(M)"
   ]
  },
  {
   "cell_type": "code",
   "execution_count": 689,
   "metadata": {},
   "outputs": [],
   "source": [
    "dset = Xval_alt_dir\n",
    "Xpred = []\n",
    "Xtar = []\n",
    "for i in range(8,0,-1):\n",
    "    pred = np.dot(dset[i],Minv) + dset[i]\n",
    "    Xtar.append(dset[i-1])\n",
    "    Xpred.append(pred)\n",
    "Xpred = np.array(Xpred)\n",
    "Xtar = np.array(Xtar)"
   ]
  },
  {
   "cell_type": "code",
   "execution_count": 694,
   "metadata": {},
   "outputs": [],
   "source": [
    "all_neuron_pred = pca.inverse_transform(Xpred)"
   ]
  },
  {
   "cell_type": "code",
   "execution_count": null,
   "metadata": {},
   "outputs": [],
   "source": []
  },
  {
   "cell_type": "code",
   "execution_count": 695,
   "metadata": {},
   "outputs": [
    {
     "name": "stdout",
     "output_type": "stream",
     "text": [
      "0.139714152788767\n"
     ]
    },
    {
     "data": {
      "image/png": "[encoded data removed]",
      "text/plain": [
       "<Figure size 432x288 with 1 Axes>"
      ]
     },
     "metadata": {},
     "output_type": "display_data"
    }
   ],
   "source": [
    "target = mds_frm_flat[:,3*n_states:-1][:,::-1]\n",
    "plt.scatter(all_neuron_pred.flatten(),target.T.flatten())\n",
    "cc = np.corrcoef(all_neuron_pred.flatten(),target.T.flatten())[0,1]\n",
    "\n",
    "print(cc)"
   ]
  },
  {
   "cell_type": "code",
   "execution_count": null,
   "metadata": {},
   "outputs": [],
   "source": []
  },
  {
   "cell_type": "code",
   "execution_count": 1098,
   "metadata": {},
   "outputs": [],
   "source": [
    "import networkx as nx"
   ]
  },
  {
   "cell_type": "code",
   "execution_count": 1101,
   "metadata": {},
   "outputs": [],
   "source": [
    "G1 = nx.cycle_graph(9)\n",
    "G2 = nx.cycle_graph(9)"
   ]
  },
  {
   "cell_type": "code",
   "execution_count": 1107,
   "metadata": {},
   "outputs": [
    {
     "ename": "TypeError",
     "evalue": "compose_all() takes 1 positional argument but 2 were given",
     "output_type": "error",
     "traceback": [
      "\u001b[0;31m---------------------------------------------------------------------------\u001b[0m",
      "\u001b[0;31mTypeError\u001b[0m                                 Traceback (most recent call last)",
      "\u001b[0;32m<ipython-input-1107-02c7aa2ab75b>\u001b[0m in \u001b[0;36m<module>\u001b[0;34m\u001b[0m\n\u001b[0;32m----> 1\u001b[0;31m \u001b[0mG3\u001b[0m \u001b[0;34m=\u001b[0m \u001b[0mnx\u001b[0m\u001b[0;34m.\u001b[0m\u001b[0mcompose_all\u001b[0m\u001b[0;34m(\u001b[0m\u001b[0mG1\u001b[0m\u001b[0;34m,\u001b[0m\u001b[0mG2\u001b[0m\u001b[0;34m)\u001b[0m\u001b[0;34m\u001b[0m\u001b[0;34m\u001b[0m\u001b[0m\n\u001b[0m",
      "\u001b[0;31mTypeError\u001b[0m: compose_all() takes 1 positional argument but 2 were given"
     ]
    }
   ],
   "source": [
    "G3 = nx.compose_all(G1,G2)"
   ]
  },
  {
   "cell_type": "code",
   "execution_count": 1106,
   "metadata": {},
   "outputs": [
    {
     "name": "stderr",
     "output_type": "stream",
     "text": [
      "/Users/yves/opt/anaconda3/lib/python3.7/site-packages/networkx/drawing/nx_pylab.py:579: MatplotlibDeprecationWarning: \n",
      "The iterable function was deprecated in Matplotlib 3.1 and will be removed in 3.3. Use np.iterable instead.\n",
      "  if not cb.iterable(width):\n"
     ]
    },
    {
     "data": {
      "image/png": "[encoded data removed]",
      "text/plain": [
       "<Figure size 432x288 with 1 Axes>"
      ]
     },
     "metadata": {},
     "output_type": "display_data"
    }
   ],
   "source": [
    "\n",
    "nx.draw(G3)"
   ]
  },
  {
   "cell_type": "code",
   "execution_count": null,
   "metadata": {},
   "outputs": [],
   "source": []
  }
 ],
 "metadata": {
  "kernelspec": {
   "display_name": "Python 3",
   "language": "python",
   "name": "python3"
  },
  "language_info": {
   "codemirror_mode": {
    "name": "ipython",
    "version": 3
   },
   "file_extension": ".py",
   "mimetype": "text/x-python",
   "name": "python",
   "nbconvert_exporter": "python",
   "pygments_lexer": "ipython3",
   "version": "3.7.4"
  }
 },
 "nbformat": 4,
 "nbformat_minor": 2
}
