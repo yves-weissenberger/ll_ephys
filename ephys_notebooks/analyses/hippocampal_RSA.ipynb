{
 "cells": [
  {
   "cell_type": "code",
   "execution_count": 304,
   "metadata": {},
   "outputs": [],
   "source": [
    "%matplotlib inline\n",
    "\n",
    "import numpy as np\n",
    "import matplotlib.pyplot as plt\n",
    "import os\n",
    "import sys\n",
    "import seaborn\n",
    "import networkx as nx\n",
    "import pandas as pd\n",
    "import scipy.stats as stt\n",
    "import scipy as sp\n",
    "import re\n",
    "import statsmodels.api as sm\n",
    "\n",
    "clrs = seaborn.color_palette()\n",
    "\n",
    "seaborn.set(font_scale=1.5,style='ticks')\n",
    "\n",
    "\n",
    "\n",
    "sys.path.append(\"/Users/yves/Documents/Code/mec_ephys/packages/\")\n",
    "import mecll\n"
   ]
  },
  {
   "cell_type": "code",
   "execution_count": 496,
   "metadata": {},
   "outputs": [],
   "source": [
    "ephys_data_root = \"/Users/yves/Documents/ephys_data/2020_12_17//\""
   ]
  },
  {
   "cell_type": "code",
   "execution_count": 497,
   "metadata": {},
   "outputs": [
    {
     "name": "stdout",
     "output_type": "stream",
     "text": [
      "/Users/yves/Documents/ephys_data/2020_12_17//events/Rhythm_FPGA-107.0/TTL_1/timestamps.npy\n",
      "WARNING! Did not find sync_messages.txt assuming start=0 \n"
     ]
    }
   ],
   "source": [
    "# load ephys data\n",
    "ephys_dataset = mecll.hpc.load_ephys_data(ephys_data_root)\n",
    "\n",
    "#if '12_17' in ephys_data_root:\n",
    "#    ephys_dataset.offset = 800400"
   ]
  },
  {
   "cell_type": "code",
   "execution_count": null,
   "metadata": {},
   "outputs": [],
   "source": []
  },
  {
   "cell_type": "code",
   "execution_count": 498,
   "metadata": {},
   "outputs": [],
   "source": [
    "#path = \"/Users/yves/Documents/ephys_data/data/line_loop_ephys1/'456674_10'-2020-12-15-134119.txt\"\n",
    "path = \"/Users/yves/Documents/ephys_data/data/line_loop_ephys1/'456674_10'-2020-12-17-151542.txt\"\n",
    "\n"
   ]
  },
  {
   "cell_type": "code",
   "execution_count": 499,
   "metadata": {},
   "outputs": [],
   "source": [
    "behaviour_dset = mecll.hpc.load_behavioural_data(path)"
   ]
  },
  {
   "cell_type": "code",
   "execution_count": 500,
   "metadata": {},
   "outputs": [],
   "source": [
    "transition_count_dicts = mecll.hpc.get_transitions_count_dict(behaviour_dset.dat_dict['port'],\n",
    "                                                              behaviour_dset.task_times)\n"
   ]
  },
  {
   "cell_type": "code",
   "execution_count": 501,
   "metadata": {},
   "outputs": [
    {
     "name": "stdout",
     "output_type": "stream",
     "text": [
      "WARNING THERE MAY BE FAULTY TRANSITIONS IN HERE, CHECK THE TRANSITIONS DICT\n",
      "WARNING THERE MAY BE FAULTY TRANSITIONS IN HERE, CHECK THE TRANSITIONS DICT\n"
     ]
    }
   ],
   "source": [
    "seq0 = mecll.hpc.get_seq_from_transitions(transition_count_dicts[0])\n",
    "seq1 = mecll.hpc.get_seq_from_transitions(transition_count_dicts[1])\n",
    "\n",
    "seqs = [seq0,seq1]"
   ]
  },
  {
   "cell_type": "code",
   "execution_count": 502,
   "metadata": {},
   "outputs": [
    {
     "data": {
      "text/plain": [
       "[[[0, 358317], [1401702, 1866505]], [[358317, 1401702], [1866504, 5128921.0]]]"
      ]
     },
     "execution_count": 502,
     "metadata": {},
     "output_type": "execute_result"
    }
   ],
   "source": [
    "behaviour_dset.task_times"
   ]
  },
  {
   "cell_type": "code",
   "execution_count": 503,
   "metadata": {},
   "outputs": [],
   "source": [
    "aligner = mecll.rsync.Rsync_aligner(behaviour_dset.rsync_times_behaviour,ephys_dataset.rsync_times_spike[::2],units_A=1,units_B=1)"
   ]
  },
  {
   "cell_type": "code",
   "execution_count": 504,
   "metadata": {},
   "outputs": [],
   "source": [
    "aligned_spike_times = aligner.B_to_A(ephys_dataset.unaligned_spike_times) + 800400#+ ephys_dataset.offset"
   ]
  },
  {
   "cell_type": "code",
   "execution_count": 505,
   "metadata": {},
   "outputs": [],
   "source": [
    "#np.nanmax(aligned_spike_times)/83230564.34827931"
   ]
  },
  {
   "cell_type": "code",
   "execution_count": 506,
   "metadata": {},
   "outputs": [],
   "source": [
    "# get the distance matrices\n",
    "task_distance = mecll.hpc.run_rsa.line_distance_matrix(seq0)\n",
    "task_distance = mecll.hpc.run_rsa.line_distance_matrix(seq0)\n",
    "spatial_distance = mecll.hpc.run_rsa.get_spatial_distance_matrix(mecll.poke_pos,seq0)"
   ]
  },
  {
   "cell_type": "code",
   "execution_count": null,
   "metadata": {},
   "outputs": [],
   "source": []
  },
  {
   "cell_type": "code",
   "execution_count": 507,
   "metadata": {},
   "outputs": [],
   "source": [
    "def get_binned_spikes(spks,bin_size=10):\n",
    "    \"\"\" Takes in spike times of units and returns binned spike\n",
    "        rates (no smoothing) at specified resolution. Bin size\n",
    "        is in ms\n",
    "    \"\"\"\n",
    "\n",
    "    #30 because sampling rate of the ephys is \n",
    "    maxT = (np.nanmax([np.nanmax(i) for i in spks])/30.)/bin_size\n",
    "\n",
    "    spk_arr = np.zeros([len(spks),int(np.ceil(maxT))])\n",
    "    for i,u in enumerate(spks):\n",
    "        spk_arr[i,np.floor(u/30/bin_size).astype(\"int\")[:,0]] = 1\n",
    "    \n",
    "    return spk_arr\n"
   ]
  },
  {
   "cell_type": "code",
   "execution_count": 508,
   "metadata": {},
   "outputs": [],
   "source": [
    "def get_unit_spike_lists(spkT,spkC,unit_ids=None):\n",
    "    \"\"\" Takes in essentially the kilosort/phy output and returns\n",
    "        lists with the spike times per unit\n",
    "        \n",
    "        Arguments:\n",
    "        ===================================\n",
    "        \n",
    "        spkT: spike times\n",
    "        \n",
    "        spkC: cluster membership of each spike\n",
    "        \n",
    "        unit_ids: units you want to sort\n",
    "    \"\"\"\n",
    "    \n",
    "    if unit_ids is None:\n",
    "        unit_ids = np.arange(len(np.unique(spkC)))\n",
    "    \n",
    "    spks = []\n",
    "    for uid in unit_ids:\n",
    "        tmp = spkT[np.where(spkC==uid)[0]]\n",
    "        spks.append(tmp[np.where(np.logical_not(np.isnan(tmp)))[0]])\n",
    "    return spks"
   ]
  },
  {
   "cell_type": "code",
   "execution_count": 509,
   "metadata": {},
   "outputs": [],
   "source": [
    "#ephys_dataset.spike_clusters"
   ]
  },
  {
   "cell_type": "code",
   "execution_count": 510,
   "metadata": {},
   "outputs": [],
   "source": [
    "unit_ids = np.where(ephys_dataset.cluster_quality=='good')[0]\n",
    "nUnits = len(unit_ids)\n",
    "\n",
    "bin_size = 1\n",
    "spks = get_unit_spike_lists(aligned_spike_times, ephys_dataset.spike_clusters, unit_ids=unit_ids)\n",
    "spks = [i for i in spks if len(i)>0]\n",
    "\n",
    "spike_arr = get_binned_spikes(spks,bin_size=1)"
   ]
  },
  {
   "cell_type": "code",
   "execution_count": 536,
   "metadata": {},
   "outputs": [],
   "source": [
    "task_nr = 0"
   ]
  },
  {
   "cell_type": "code",
   "execution_count": 537,
   "metadata": {},
   "outputs": [],
   "source": [
    "# get the distance matrices\n",
    "task_distance = mecll.hpc.run_rsa.line_distance_matrix(seqs[task_nr])\n",
    "spatial_distance = mecll.hpc.run_rsa.get_spatial_distance_matrix(mecll.poke_pos,seqs[task_nr])"
   ]
  },
  {
   "cell_type": "code",
   "execution_count": 538,
   "metadata": {},
   "outputs": [],
   "source": [
    "n_neurons = spike_arr.shape[0]\n",
    "n_ports = len(seq1)"
   ]
  },
  {
   "cell_type": "code",
   "execution_count": 539,
   "metadata": {},
   "outputs": [],
   "source": [
    "firing_in_ports = np.zeros([n_ports,n_neurons])\n",
    "poke_counter = np.zeros(n_ports)"
   ]
  },
  {
   "cell_type": "code",
   "execution_count": 540,
   "metadata": {},
   "outputs": [],
   "source": [
    "sorted_seq = sorted(seqs[task_nr])"
   ]
  },
  {
   "cell_type": "code",
   "execution_count": null,
   "metadata": {},
   "outputs": [],
   "source": []
  },
  {
   "cell_type": "code",
   "execution_count": 541,
   "metadata": {},
   "outputs": [],
   "source": [
    "#task_nr = 0\n",
    "for i in behaviour_dset.dat_dict['port']:\n",
    "    \n",
    "    if i[0] in sorted_seq:\n",
    "        #print(2)\n",
    "        if mecll.hpc.check_in_range(behaviour_dset.task_times[task_nr].copy(),1000*i[2]):\n",
    "            #print(1)\n",
    "            t = int(i[2] * 1000)\n",
    "            port_poked = sorted_seq.index(i[0])\n",
    "            poke_spk = spike_arr[:,t-100:t+100]  # 100ms window around poke detection\n",
    "            firing_in_ports[port_poked] += np.nanmean(poke_spk,axis=1)\n",
    "            poke_counter[port_poked] += 1\n",
    "\n",
    "\n",
    "    \n"
   ]
  },
  {
   "cell_type": "code",
   "execution_count": 542,
   "metadata": {},
   "outputs": [],
   "source": [
    "def remove_diagonal(A):\n",
    "    removed = A[~np.eye(A.shape[0], dtype=bool)].reshape(A.shape[0], int(A.shape[0])-1, -1)\n",
    "    return np.squeeze(removed)\n",
    "\n"
   ]
  },
  {
   "cell_type": "code",
   "execution_count": 543,
   "metadata": {},
   "outputs": [],
   "source": [
    "#mean_port_firing_rate"
   ]
  },
  {
   "cell_type": "code",
   "execution_count": 544,
   "metadata": {},
   "outputs": [],
   "source": [
    "mean_port_firing_rate = firing_in_ports/poke_counter[:,None]"
   ]
  },
  {
   "cell_type": "code",
   "execution_count": 545,
   "metadata": {},
   "outputs": [],
   "source": [
    "task1_corrs = np.corrcoef(mean_port_firing_rate)"
   ]
  },
  {
   "cell_type": "code",
   "execution_count": 546,
   "metadata": {},
   "outputs": [],
   "source": [
    "zscore = lambda x: x"
   ]
  },
  {
   "cell_type": "code",
   "execution_count": 547,
   "metadata": {},
   "outputs": [],
   "source": [
    "X = np.vstack([np.ones_like(remove_diagonal(spatial_distance).flatten()),\n",
    "               zscore(remove_diagonal(spatial_distance).flatten()),\n",
    "               zscore(remove_diagonal(task_distance).flatten()),\n",
    "               #zscore(remove_diagonal(task_2_distance).flatten())\n",
    "              ]).T\n",
    "y = remove_diagonal(task1_corrs).flatten()\n",
    "res = sm.OLS(y,X,hasconst=True).fit()"
   ]
  },
  {
   "cell_type": "code",
   "execution_count": 548,
   "metadata": {},
   "outputs": [
    {
     "data": {
      "text/html": [
       "<table class=\"simpletable\">\n",
       "<caption>OLS Regression Results</caption>\n",
       "<tr>\n",
       "  <th>Dep. Variable:</th>            <td>y</td>        <th>  R-squared:         </th> <td>   0.058</td>\n",
       "</tr>\n",
       "<tr>\n",
       "  <th>Model:</th>                   <td>OLS</td>       <th>  Adj. R-squared:    </th> <td>  -0.011</td>\n",
       "</tr>\n",
       "<tr>\n",
       "  <th>Method:</th>             <td>Least Squares</td>  <th>  F-statistic:       </th> <td>  0.8388</td>\n",
       "</tr>\n",
       "<tr>\n",
       "  <th>Date:</th>             <td>Thu, 27 Jan 2022</td> <th>  Prob (F-statistic):</th>  <td> 0.443</td> \n",
       "</tr>\n",
       "<tr>\n",
       "  <th>Time:</th>                 <td>15:21:56</td>     <th>  Log-Likelihood:    </th> <td>  3.2238</td>\n",
       "</tr>\n",
       "<tr>\n",
       "  <th>No. Observations:</th>      <td>    30</td>      <th>  AIC:               </th> <td> -0.4476</td>\n",
       "</tr>\n",
       "<tr>\n",
       "  <th>Df Residuals:</th>          <td>    27</td>      <th>  BIC:               </th> <td>   3.756</td>\n",
       "</tr>\n",
       "<tr>\n",
       "  <th>Df Model:</th>              <td>     2</td>      <th>                     </th>     <td> </td>   \n",
       "</tr>\n",
       "<tr>\n",
       "  <th>Covariance Type:</th>      <td>nonrobust</td>    <th>                     </th>     <td> </td>   \n",
       "</tr>\n",
       "</table>\n",
       "<table class=\"simpletable\">\n",
       "<tr>\n",
       "    <td></td>       <th>coef</th>     <th>std err</th>      <th>t</th>      <th>P>|t|</th>  <th>[0.025</th>    <th>0.975]</th>  \n",
       "</tr>\n",
       "<tr>\n",
       "  <th>const</th> <td>    0.7472</td> <td>    0.238</td> <td>    3.138</td> <td> 0.004</td> <td>    0.259</td> <td>    1.236</td>\n",
       "</tr>\n",
       "<tr>\n",
       "  <th>x1</th>    <td>   -0.0012</td> <td>    0.001</td> <td>   -1.254</td> <td> 0.221</td> <td>   -0.003</td> <td>    0.001</td>\n",
       "</tr>\n",
       "<tr>\n",
       "  <th>x2</th>    <td>   -0.0475</td> <td>    0.044</td> <td>   -1.069</td> <td> 0.295</td> <td>   -0.139</td> <td>    0.044</td>\n",
       "</tr>\n",
       "</table>\n",
       "<table class=\"simpletable\">\n",
       "<tr>\n",
       "  <th>Omnibus:</th>       <td> 6.511</td> <th>  Durbin-Watson:     </th> <td>   2.057</td>\n",
       "</tr>\n",
       "<tr>\n",
       "  <th>Prob(Omnibus):</th> <td> 0.039</td> <th>  Jarque-Bera (JB):  </th> <td>   4.774</td>\n",
       "</tr>\n",
       "<tr>\n",
       "  <th>Skew:</th>          <td> 0.788</td> <th>  Prob(JB):          </th> <td>  0.0919</td>\n",
       "</tr>\n",
       "<tr>\n",
       "  <th>Kurtosis:</th>      <td> 4.155</td> <th>  Cond. No.          </th> <td>    981.</td>\n",
       "</tr>\n",
       "</table><br/><br/>Warnings:<br/>[1] Standard Errors assume that the covariance matrix of the errors is correctly specified."
      ],
      "text/plain": [
       "<class 'statsmodels.iolib.summary.Summary'>\n",
       "\"\"\"\n",
       "                            OLS Regression Results                            \n",
       "==============================================================================\n",
       "Dep. Variable:                      y   R-squared:                       0.058\n",
       "Model:                            OLS   Adj. R-squared:                 -0.011\n",
       "Method:                 Least Squares   F-statistic:                    0.8388\n",
       "Date:                Thu, 27 Jan 2022   Prob (F-statistic):              0.443\n",
       "Time:                        15:21:56   Log-Likelihood:                 3.2238\n",
       "No. Observations:                  30   AIC:                           -0.4476\n",
       "Df Residuals:                      27   BIC:                             3.756\n",
       "Df Model:                           2                                         \n",
       "Covariance Type:            nonrobust                                         \n",
       "==============================================================================\n",
       "                 coef    std err          t      P>|t|      [0.025      0.975]\n",
       "------------------------------------------------------------------------------\n",
       "const          0.7472      0.238      3.138      0.004       0.259       1.236\n",
       "x1            -0.0012      0.001     -1.254      0.221      -0.003       0.001\n",
       "x2            -0.0475      0.044     -1.069      0.295      -0.139       0.044\n",
       "==============================================================================\n",
       "Omnibus:                        6.511   Durbin-Watson:                   2.057\n",
       "Prob(Omnibus):                  0.039   Jarque-Bera (JB):                4.774\n",
       "Skew:                           0.788   Prob(JB):                       0.0919\n",
       "Kurtosis:                       4.155   Cond. No.                         981.\n",
       "==============================================================================\n",
       "\n",
       "Warnings:\n",
       "[1] Standard Errors assume that the covariance matrix of the errors is correctly specified.\n",
       "\"\"\""
      ]
     },
     "execution_count": 548,
     "metadata": {},
     "output_type": "execute_result"
    }
   ],
   "source": [
    "\n",
    "res.summary()"
   ]
  },
  {
   "cell_type": "code",
   "execution_count": null,
   "metadata": {},
   "outputs": [],
   "source": []
  },
  {
   "cell_type": "code",
   "execution_count": null,
   "metadata": {},
   "outputs": [],
   "source": []
  },
  {
   "cell_type": "code",
   "execution_count": null,
   "metadata": {},
   "outputs": [],
   "source": []
  }
 ],
 "metadata": {
  "kernelspec": {
   "display_name": "Python 3",
   "language": "python",
   "name": "python3"
  },
  "language_info": {
   "codemirror_mode": {
    "name": "ipython",
    "version": 3
   },
   "file_extension": ".py",
   "mimetype": "text/x-python",
   "name": "python",
   "nbconvert_exporter": "python",
   "pygments_lexer": "ipython3",
   "version": "3.7.4"
  }
 },
 "nbformat": 4,
 "nbformat_minor": 4
}
