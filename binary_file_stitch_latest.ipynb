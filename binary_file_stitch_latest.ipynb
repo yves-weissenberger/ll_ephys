{
 "cells": [
  {
   "cell_type": "code",
   "execution_count": 1,
   "metadata": {},
   "outputs": [],
   "source": [
    "import os\n",
    "import glob\n",
    "from tqdm import tqdm\n",
    "from datetime import datetime"
   ]
  },
  {
   "cell_type": "code",
   "execution_count": 3,
   "metadata": {},
   "outputs": [
    {
     "name": "stdout",
     "output_type": "stream",
     "text": [
      "-------------------\n",
      "['2021-07-03_11-33-00', '2021-07-03_20-43-50', '2021-07-03_20-49-03', '2021-07-03_20-50-49']\n",
      "-------------------\n",
      "4 sessions found\n"
     ]
    }
   ],
   "source": [
    "date = '2021-07-03'\n",
    "mouse = 'me08'\n",
    "region = \"PFC\"\n",
    "folder = f\"P:\\Taskspace_abstraction\\Data\\cohort3\\\\{mouse}\\\\Ephys\\\\{region}\"\n",
    "\n",
    "exclude = [] # which sessions do we not want to include in concatenation\n",
    "\n",
    "ephys_sessions = os.listdir(folder)\n",
    "if exclude:\n",
    "    sessions_for_concat = [i for i in ephys_sessions if date in i and 'all' not in i and exclude not in i]\n",
    "else:\n",
    "    sessions_for_concat = [i for i in ephys_sessions if date in i and 'all' not in i]\n",
    "sessions_for_concat.sort()\n",
    "print('-------------------')\n",
    "print(sessions_for_concat)\n",
    "print('-------------------')\n",
    "print(f'{len(sessions_for_concat)} sessions found')"
   ]
  },
  {
   "cell_type": "code",
   "execution_count": 4,
   "metadata": {},
   "outputs": [
    {
     "name": "stdout",
     "output_type": "stream",
     "text": [
      "[['P:\\\\Taskspace_abstraction\\\\Data\\\\cohort3\\\\me08\\\\Ephys\\\\PFC/2021-07-03_11-33-00\\\\Record Node 128\\\\experiment1\\\\recording1\\\\continuous\\\\Rhythm_FPGA-109.0\\\\continuous.dat'], ['P:\\\\Taskspace_abstraction\\\\Data\\\\cohort3\\\\me08\\\\Ephys\\\\PFC/2021-07-03_20-43-50\\\\Record Node 131\\\\experiment1\\\\recording1\\\\continuous\\\\Rhythm_FPGA-121.0\\\\continuous.dat'], ['P:\\\\Taskspace_abstraction\\\\Data\\\\cohort3\\\\me08\\\\Ephys\\\\PFC/2021-07-03_20-49-03\\\\Record Node 128\\\\experiment1\\\\recording1\\\\continuous\\\\Rhythm_FPGA-109.0\\\\continuous.dat'], ['P:\\\\Taskspace_abstraction\\\\Data\\\\cohort3\\\\me08\\\\Ephys\\\\PFC/2021-07-03_20-50-49\\\\Record Node 128\\\\experiment1\\\\recording1\\\\continuous\\\\Rhythm_FPGA-109.0\\\\continuous.dat']]\n",
      "---------------\n",
      "4 DAT files found\n"
     ]
    }
   ],
   "source": [
    "dat_files = []\n",
    "for i in sessions_for_concat:\n",
    "    dat_files.append(glob.glob(folder + '/'+ i + \"/**/experiment1/**/continuous.dat\", recursive = True))\n",
    "print(dat_files)\n",
    "print('---------------')\n",
    "print(f'{len(dat_files)} DAT files found')"
   ]
  },
  {
   "cell_type": "code",
   "execution_count": 5,
   "metadata": {},
   "outputs": [],
   "source": [
    "if f'{date}_all' not in os.listdir(folder):\n",
    "    os.mkdir(os.path.join(folder, f'{date}_all'))"
   ]
  },
  {
   "cell_type": "code",
   "execution_count": null,
   "metadata": {},
   "outputs": [
    {
     "name": "stderr",
     "output_type": "stream",
     "text": [
      "\r",
      "  0%|                                                                                            | 0/4 [00:00<?, ?it/s]"
     ]
    },
    {
     "name": "stdout",
     "output_type": "stream",
     "text": [
      "currently working with P:\\Taskspace_abstraction\\Data\\cohort3\\me08\\Ephys\\PFC/2021-07-03_11-33-00\\Record Node 128\\experiment1\\recording1\\continuous\\Rhythm_FPGA-109.0\\continuous.dat\n"
     ]
    }
   ],
   "source": [
    "now = datetime.now()\n",
    "timestamp = datetime.timestamp(now)\n",
    "savepath = os.path.join(folder, f'{date}_all')\n",
    "for i in tqdm(dat_files):\n",
    "    print(f'currently working with {i[0]}')\n",
    "    with open(savepath+f'\\\\combined_continuous_{date}_{timestamp}.dat', \"ab\") as myfile, open(i[0], \"rb\") as file2:\n",
    "        myfile.write(file2.read())\n",
    "        \n",
    "        #\"P:\\Taskspace_abstraction\\Data\\cohort2\\me03\\Ephys\\me03_2021_01_27_all\""
   ]
  },
  {
   "cell_type": "code",
   "execution_count": null,
   "metadata": {},
   "outputs": [],
   "source": [
    " \n",
    "    # ! copy /b  me03_2021-02-01_13-44-30\\\\Record Node 110\\\\experiment1\\\\recording1\\\\continuous\\\\Rhythm_FPGA-109.0\\\\continuous.dat + me03_2021-02-01_14-24-37\\\\Record Node 110\\\\experiment1\\\\recording1\\\\continuous\\\\Rhythm_FPGA-109.0\\\\continuous.dat continuous_17122020_ALL.dat\n",
    "    \n",
    "    '\\Data\\\\cohort2\\\\me03\\\\Ephys/me03_2021-02-01_13-44-30\\\\Record Node 110\\\\experiment1\\\\recording1\\\\continuous\\\\Rhythm_FPGA-109.0\\\\continuous.dat'\n",
    "    \n",
    "    \n",
    "    \n",
    "    \"P:\\Taskspace_abstraction\\Data\\cohort2\\me03\\Ephys\\me03_2020_12_17_all\"\n",
    "    \n",
    "    "
   ]
  }
 ],
 "metadata": {
  "kernelspec": {
   "display_name": "Python 3",
   "language": "python",
   "name": "python3"
  },
  "language_info": {
   "codemirror_mode": {
    "name": "ipython",
    "version": 3
   },
   "file_extension": ".py",
   "mimetype": "text/x-python",
   "name": "python",
   "nbconvert_exporter": "python",
   "pygments_lexer": "ipython3",
   "version": "3.8.5"
  }
 },
 "nbformat": 4,
 "nbformat_minor": 2
}
