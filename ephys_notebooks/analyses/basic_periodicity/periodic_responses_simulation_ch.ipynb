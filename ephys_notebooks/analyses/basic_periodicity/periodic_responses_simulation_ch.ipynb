{
 "cells": [
  {
   "cell_type": "code",
   "execution_count": 3,
   "metadata": {},
   "outputs": [
    {
     "name": "stderr",
     "output_type": "stream",
     "text": [
      "/Users/yves/opt/anaconda3/lib/python3.7/site-packages/statsmodels/tools/_testing.py:19: FutureWarning: pandas.util.testing is deprecated. Use the functions in the public API at pandas.testing instead.\n",
      "  import pandas.util.testing as tm\n"
     ]
    }
   ],
   "source": [
    "%matplotlib inline\n",
    "\n",
    "import numpy as np\n",
    "import matplotlib.pyplot as plt\n",
    "import seaborn\n",
    "import sys\n",
    "import scipy.optimize as op\n",
    "import scipy.stats as stt\n",
    "seaborn.set(font_scale=1.75,style='ticks')"
   ]
  },
  {
   "cell_type": "code",
   "execution_count": 4,
   "metadata": {},
   "outputs": [],
   "source": [
    "# Simulate noisy responses that are sinusoidal\n",
    "all_resps_g1 = np.array([np.random.randint(0,3)*np.sin(np.linspace(0,2*np.pi,num=9) + np.random.normal()) for _ in range(10)])"
   ]
  },
  {
   "cell_type": "code",
   "execution_count": 5,
   "metadata": {},
   "outputs": [],
   "source": [
    "def fit_sin2(x,*params):\n",
    "    \"\"\" Fit a sine wave\"\"\"\n",
    "    t_ = np.linspace(0,2*np.pi,9)\n",
    "    y = np.array(params)\n",
    "    y -= np.mean(y)\n",
    "    y /=np.max(y)\n",
    "    pred = np.cos(x[0]*t_ + x[1])#*x[2] + x[3]\n",
    "    cc = np.corrcoef(pred,y)[0,1]\n",
    "    if np.isnan(cc): cc = -100\n",
    "    return -cc"
   ]
  },
  {
   "cell_type": "code",
   "execution_count": 28,
   "metadata": {},
   "outputs": [],
   "source": [
    "# if you want to simulate aperiodic activity\n",
    "x_ = np.random.permutation(np.linspace(0,2*np.pi,num=9))\n",
    "\n",
    "# else\n",
    "x_ = np.linspace(0,2*np.pi,num=9)\n",
    "\n",
    "muNCycles = 3\n",
    "\n",
    "\n",
    "resps_state_g1_ = np.array([np.sin(np.random.random()*muNCycles*2*x_ + np.random.random()*2*np.pi) for _ in range(30)])\n",
    "resps_state_g2_ = np.array([np.sin(np.random.random()*muNCycles*2*x_ + np.random.random()*2*np.pi) for _ in range(30)])"
   ]
  },
  {
   "cell_type": "code",
   "execution_count": null,
   "metadata": {},
   "outputs": [],
   "source": []
  },
  {
   "cell_type": "code",
   "execution_count": 29,
   "metadata": {},
   "outputs": [],
   "source": [
    "resps_state_g1 = np.mean([np.random.poisson(np.exp(resps_state_g1_+2)).astype('float') for _ in range(15)],axis=0)\n",
    "resps_state_g2 = np.mean([np.random.poisson(np.exp(resps_state_g2_+2)).astype('float') for _ in range(15)],axis=0)"
   ]
  },
  {
   "cell_type": "code",
   "execution_count": 30,
   "metadata": {},
   "outputs": [
    {
     "data": {
      "text/plain": [
       "2.0"
      ]
     },
     "execution_count": 30,
     "metadata": {},
     "output_type": "execute_result"
    }
   ],
   "source": [
    "np.min(resps_state_g1)"
   ]
  },
  {
   "cell_type": "code",
   "execution_count": 31,
   "metadata": {},
   "outputs": [
    {
     "data": {
      "text/plain": [
       "[<matplotlib.lines.Line2D at 0x7fc3ab2c5990>]"
      ]
     },
     "execution_count": 31,
     "metadata": {},
     "output_type": "execute_result"
    },
    {
     "data": {
      "image/png": "[encoded data removed]",
      "text/plain": [
       "<Figure size 432x288 with 1 Axes>"
      ]
     },
     "metadata": {
      "needs_background": "light"
     },
     "output_type": "display_data"
    }
   ],
   "source": [
    "# Plot activity of an example neuron in each state\n",
    "plt.plot(resps_state_g1[0])"
   ]
  },
  {
   "cell_type": "markdown",
   "metadata": {},
   "source": [
    "# Do the actual fitting"
   ]
  },
  {
   "cell_type": "code",
   "execution_count": 32,
   "metadata": {},
   "outputs": [
    {
     "name": "stdout",
     "output_type": "stream",
     "text": [
      "\r",
      " running cell:0"
     ]
    },
    {
     "name": "stderr",
     "output_type": "stream",
     "text": [
      "/Users/yves/opt/anaconda3/lib/python3.7/site-packages/numpy/lib/function_base.py:2559: RuntimeWarning: invalid value encountered in true_divide\n",
      "  c /= stddev[:, None]\n",
      "/Users/yves/opt/anaconda3/lib/python3.7/site-packages/numpy/lib/function_base.py:2560: RuntimeWarning: invalid value encountered in true_divide\n",
      "  c /= stddev[None, :]\n"
     ]
    },
    {
     "ename": "NameError",
     "evalue": "name 'y' is not defined",
     "output_type": "error",
     "traceback": [
      "\u001b[0;31m---------------------------------------------------------------------------\u001b[0m",
      "\u001b[0;31mNameError\u001b[0m                                 Traceback (most recent call last)",
      "\u001b[0;32m<ipython-input-32-8221bcdc013c>\u001b[0m in \u001b[0;36m<module>\u001b[0;34m\u001b[0m\n\u001b[1;32m     38\u001b[0m     \u001b[0mspks\u001b[0m \u001b[0;34m=\u001b[0m \u001b[0my2\u001b[0m\u001b[0;34m\u001b[0m\u001b[0;34m\u001b[0m\u001b[0m\n\u001b[1;32m     39\u001b[0m     \u001b[0mres2\u001b[0m \u001b[0;34m=\u001b[0m \u001b[0mop\u001b[0m\u001b[0;34m.\u001b[0m\u001b[0mbrute\u001b[0m\u001b[0;34m(\u001b[0m\u001b[0mfit_sin2\u001b[0m\u001b[0;34m,\u001b[0m\u001b[0mparams_ranges\u001b[0m\u001b[0;34m,\u001b[0m\u001b[0margs\u001b[0m\u001b[0;34m=\u001b[0m\u001b[0mspks\u001b[0m\u001b[0;34m,\u001b[0m\u001b[0mfinish\u001b[0m\u001b[0;34m=\u001b[0m\u001b[0;32mNone\u001b[0m\u001b[0;34m)\u001b[0m\u001b[0;34m\u001b[0m\u001b[0;34m\u001b[0m\u001b[0m\n\u001b[0;32m---> 40\u001b[0;31m     \u001b[0mcc2\u001b[0m \u001b[0;34m=\u001b[0m \u001b[0mnp\u001b[0m\u001b[0;34m.\u001b[0m\u001b[0mcorrcoef\u001b[0m\u001b[0;34m(\u001b[0m\u001b[0my\u001b[0m\u001b[0;34m,\u001b[0m\u001b[0mnp\u001b[0m\u001b[0;34m.\u001b[0m\u001b[0mcos\u001b[0m\u001b[0;34m(\u001b[0m\u001b[0mres2\u001b[0m\u001b[0;34m[\u001b[0m\u001b[0;36m0\u001b[0m\u001b[0;34m]\u001b[0m\u001b[0;34m*\u001b[0m\u001b[0mt_\u001b[0m \u001b[0;34m+\u001b[0m \u001b[0mres2\u001b[0m\u001b[0;34m[\u001b[0m\u001b[0;36m1\u001b[0m\u001b[0;34m]\u001b[0m\u001b[0;34m)\u001b[0m\u001b[0;34m)\u001b[0m\u001b[0;34m[\u001b[0m\u001b[0;36m0\u001b[0m\u001b[0;34m,\u001b[0m\u001b[0;36m1\u001b[0m\u001b[0;34m]\u001b[0m\u001b[0;34m\u001b[0m\u001b[0;34m\u001b[0m\u001b[0m\n\u001b[0m\u001b[1;32m     41\u001b[0m \u001b[0;34m\u001b[0m\u001b[0m\n\u001b[1;32m     42\u001b[0m     \u001b[0mcc2_shuff\u001b[0m \u001b[0;34m=\u001b[0m \u001b[0;34m[\u001b[0m\u001b[0;34m]\u001b[0m\u001b[0;34m\u001b[0m\u001b[0;34m\u001b[0m\u001b[0m\n",
      "\u001b[0;31mNameError\u001b[0m: name 'y' is not defined"
     ]
    }
   ],
   "source": [
    "res_t1 = []\n",
    "res_t2 = []\n",
    "all_cc = []\n",
    "all_shuffle_cc = []\n",
    "t_ = np.linspace(0,2*np.pi,9)\n",
    "NSHUFF = 100\n",
    "params_ranges = [slice(0,4,.5),slice(0,2*np.pi,np.pi/9)]\n",
    "#params_ranges = [slice(0,4,.5),slice(0,np.pi,np.pi/9),slice(0,1,.25),slice(0,1,.25)]\n",
    "\n",
    "\n",
    "n_neurons = resps_state_g1.shape[0]\n",
    "\n",
    "\n",
    "\n",
    "for i in range(n_neurons):\n",
    "    sys.stdout.write('\\r running cell:{}'.format(i))\n",
    "    sys.stdout.flush()\n",
    "    \n",
    "    y1 = resps_state_g1[i] #np.random.permutation(resps_state_g1[i])\n",
    "    y2 = resps_state_g2[i] #np.random.permutation(resps_state_g2[i])\n",
    "    spks = y1\n",
    "    y = spks\n",
    "    res1 = op.brute(fit_sin2,params_ranges,args=spks,finish=None)\n",
    "    cc1 = np.corrcoef(spks,np.cos(res1[0]*t_ + res1[1]))[0,1]\n",
    "    \n",
    "    cc1_shuff = []\n",
    "    for _ in range(NSHUFF):\n",
    "        spks_shuff = np.random.permutation(spks)\n",
    "        res1_shuff = op.brute(fit_sin2,params_ranges,args=spks_shuff,finish=None)\n",
    "        cc1_shuff.append(np.corrcoef(spks_shuff,np.cos(res1_shuff[0]*t_ + res1_shuff[1]))[0,1])\n",
    "        \n",
    "\n",
    "\n",
    "\n",
    "    \n",
    "    \n",
    "\n",
    "    spks = y2\n",
    "    y = spks\n",
    "   \n",
    "    res2 = op.brute(fit_sin2,params_ranges,args=spks,finish=None)\n",
    "    cc2 = np.corrcoef(y,np.cos(res2[0]*t_ + res2[1]))[0,1]\n",
    "    \n",
    "    cc2_shuff = []\n",
    "    for _ in range(NSHUFF):\n",
    "        spks_shuff = np.random.permutation(spks)\n",
    "        res2_shuff = op.brute(fit_sin2,params_ranges,args=spks_shuff,finish=None)\n",
    "        cc2_shuff.append(np.corrcoef(spks_shuff,np.cos(res2_shuff[0]*t_ + res2_shuff[1]))[0,1])\n",
    "\n",
    "    all_cc.append([cc1,cc2])\n",
    "    all_shuffle_cc.append([cc1_shuff,cc2_shuff])\n",
    "    \n",
    "    res_t1.append(res1)\n",
    "    res_t2.append(res2)\n",
    "all_cc = np.array(all_cc)\n",
    "res_t1 = np.array(res_t1)\n",
    "res_t2 = np.array(res_t2)"
   ]
  },
  {
   "cell_type": "markdown",
   "metadata": {},
   "source": [
    "# Process results to get p-values etc"
   ]
  },
  {
   "cell_type": "code",
   "execution_count": null,
   "metadata": {},
   "outputs": [],
   "source": [
    "p_vals = []\n",
    "for cell_ix,cell in enumerate(all_cc):\n",
    "    tmp = []\n",
    "    for task_nr in range(2):\n",
    "        p1 = stt.percentileofscore(all_shuffle_cc[cell_ix][task_nr],cell[task_nr])\n",
    "        tmp.append(p1)\n",
    "    p_vals.append(tmp)"
   ]
  },
  {
   "cell_type": "code",
   "execution_count": null,
   "metadata": {},
   "outputs": [],
   "source": []
  },
  {
   "cell_type": "code",
   "execution_count": 308,
   "metadata": {},
   "outputs": [
    {
     "name": "stdout",
     "output_type": "stream",
     "text": [
      "[3.         1.74532925]\n",
      "[1.         3.83972435]\n"
     ]
    },
    {
     "data": {
      "image/png": "[encoded data removed]",
      "text/plain": [
       "<Figure size 864x288 with 2 Axes>"
      ]
     },
     "metadata": {},
     "output_type": "display_data"
    }
   ],
   "source": [
    "plt.figure(figsize=(12,4))\n",
    "ix = 0\n",
    "plt.subplot(1,2,1)\n",
    "x = res_t1[ix]\n",
    "\n",
    "t_ = np.linspace(0,2*np.pi,9)\n",
    "y = np.array(resps_state_g1[ix])# - (np.array(resps_state_g1[ix])+np.array(resps_state_g2[ix]))/2.\n",
    "y -= np.mean(y)\n",
    "y /= np.max(y)\n",
    "\n",
    "\n",
    "pred = np.cos(x[0]*t_ + x[1])#*x[2] + x[3]\n",
    "#pred = np.cos(1*t_ + np.pi)*.5\n",
    "print(x)\n",
    "\n",
    "plt.plot(y)\n",
    "plt.plot(pred*2+1)\n",
    "\n",
    "\n",
    "plt.subplot(1,2,2)\n",
    "x = res_t2[ix]\n",
    "\n",
    "t_ = np.linspace(0,2*np.pi,9)\n",
    "y = np.array(resps_state_g2[ix])# - (np.array(resps_state_g1[ix])+np.array(resps_state_g2[ix]))/2.\n",
    "y -= np.mean(y)\n",
    "y /= np.max(y)\n",
    "pred = np.cos(x[0]*t_ + x[1])#*x[2] + x[3]\n",
    "#pred = np.cos(1*t_ + np.pi)*.5\n",
    "print(x)\n",
    "\n",
    "plt.plot(y)\n",
    "plt.plot(pred)\n",
    "\n",
    "seaborn.despine()"
   ]
  },
  {
   "cell_type": "code",
   "execution_count": 309,
   "metadata": {},
   "outputs": [
    {
     "data": {
      "text/plain": [
       "0.06666666666666667"
      ]
     },
     "execution_count": 309,
     "metadata": {},
     "output_type": "execute_result"
    }
   ],
   "source": [
    "np.mean((np.array(p_vals)>95))"
   ]
  },
  {
   "cell_type": "code",
   "execution_count": 311,
   "metadata": {},
   "outputs": [
    {
     "data": {
      "text/plain": [
       "array([[ 4,  4],\n",
       "       [-3,  3]])"
      ]
     },
     "execution_count": 311,
     "metadata": {},
     "output_type": "execute_result"
    }
   ],
   "source": [
    "np.array([[4,4],[-3,3]])"
   ]
  },
  {
   "cell_type": "code",
   "execution_count": null,
   "metadata": {},
   "outputs": [],
   "source": []
  }
 ],
 "metadata": {
  "kernelspec": {
   "display_name": "Python 3",
   "language": "python",
   "name": "python3"
  },
  "language_info": {
   "codemirror_mode": {
    "name": "ipython",
    "version": 3
   },
   "file_extension": ".py",
   "mimetype": "text/x-python",
   "name": "python",
   "nbconvert_exporter": "python",
   "pygments_lexer": "ipython3",
   "version": "3.7.4"
  }
 },
 "nbformat": 4,
 "nbformat_minor": 2
}
