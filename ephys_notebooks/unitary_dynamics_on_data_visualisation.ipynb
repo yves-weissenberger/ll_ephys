{
 "cells": [
  {
   "cell_type": "code",
   "execution_count": 1,
   "metadata": {},
   "outputs": [
    {
     "name": "stderr",
     "output_type": "stream",
     "text": [
      "/Users/yves/opt/anaconda3/lib/python3.7/site-packages/statsmodels/tools/_testing.py:19: FutureWarning: pandas.util.testing is deprecated. Use the functions in the public API at pandas.testing instead.\n",
      "  import pandas.util.testing as tm\n"
     ]
    }
   ],
   "source": [
    "#%matplotlib inline\n",
    "import sys\n",
    "import os\n",
    "\n",
    "\n",
    "import numpy as np\n",
    "import matplotlib.pyplot as plt\n",
    "import scipy.ndimage as ndi\n",
    "import pandas as pd\n",
    "import networkx as nx\n",
    "import scipy.optimize as op\n",
    "import scipy.stats as stt\n",
    "import matplotlib\n",
    "from sklearn.decomposition import PCA\n",
    "#optional for nicer plots\n",
    "import seaborn\n",
    "clrs = seaborn.color_palette(n_colors=6)\n",
    "seaborn.set(style='ticks',font_scale=1.5)"
   ]
  },
  {
   "cell_type": "code",
   "execution_count": 2,
   "metadata": {},
   "outputs": [],
   "source": [
    "poke_pos = np.array([1,-1])*np.array([ [149,0],\n",
    "                                 [68,19],[231,19],\n",
    "                               [0,62],[149,62],[298,62],\n",
    "                                 [68,105],[231,105],\n",
    "                                      [149,124]])"
   ]
  },
  {
   "cell_type": "code",
   "execution_count": 3,
   "metadata": {},
   "outputs": [],
   "source": [
    "sys.path.append(\"/Users/yves/Desktop/retreat_data_dir/code/\")\n",
    "from mecll.task import plot_activity_on_graph, get_all_transitions, get_transitions_state"
   ]
  },
  {
   "cell_type": "code",
   "execution_count": 4,
   "metadata": {},
   "outputs": [],
   "source": [
    "import mecll"
   ]
  },
  {
   "cell_type": "code",
   "execution_count": 5,
   "metadata": {},
   "outputs": [],
   "source": [
    "sys.path.append(\"/Users/yves/Documents/Code/mec_ephys/packages/mecll/dynamics/\")"
   ]
  },
  {
   "cell_type": "code",
   "execution_count": 6,
   "metadata": {},
   "outputs": [],
   "source": [
    "\n",
    "from unitary_dynamics import *"
   ]
  },
  {
   "cell_type": "code",
   "execution_count": 7,
   "metadata": {},
   "outputs": [],
   "source": [
    "def load_data(selected_session,by_dir=False):\n",
    "    \n",
    "    \"\"\" Function to load data structured according to the format\n",
    "        that the data were delivered to the retreat for\n",
    "    \"\"\"\n",
    "    all_data_dir = '/Users/yves/Desktop/retreat_data_dir/data/'\n",
    "    all_data_folders = sorted([i for i in os.listdir(all_data_dir) if 'ks25' in i])\n",
    "    root_dir = os.path.join(all_data_dir,all_data_folders[selected_session])\n",
    "    spkT = np.load(os.path.join(root_dir,'spkT_task.npy'))\n",
    "\n",
    "\n",
    "    #This array is the same shape as spkT but shows which cluster each of the spikes in spkT belongs to\n",
    "    spkC = np.load(os.path.join(root_dir,'spkC_task.npy'))\n",
    "\n",
    "    #This is basically a big table (you can open it in excel) which contains\n",
    "    #relevant information about each time the animal poked one of the ports\n",
    "    task_event_df = pd.read_csv(os.path.join(root_dir,'task_event_table.csv'),index_col=0)\n",
    "\n",
    "    #\n",
    "    response_table = np.load(os.path.join(root_dir,'neuron_response_table.npy'))\n",
    "    #alternatively to change the time window\n",
    "\n",
    "\n",
    "    #not all cluster in spkC correspond to single units. Single units is an array of the clusters that are single units\n",
    "    single_units = np.load(os.path.join(root_dir,'single_units.npy'))\n",
    "    \n",
    "    \n",
    "    seq0 = np.array(eval(task_event_df.loc[task_event_df['task_nr']==0]['current_sequence'].values[0]))\n",
    "    seq1 = np.array(eval(task_event_df.loc[task_event_df['task_nr']==1]['current_sequence'].values[0]))\n",
    "    \n",
    "    \n",
    "    graph_type0 = task_event_df.loc[task_event_df['task_nr']==0]['graph_type'].values[0]\n",
    "    graph_type1 = task_event_df.loc[task_event_df['task_nr']==0]['graph_type'].values[0]\n",
    "    \n",
    "    if by_dir:\n",
    "        firing_rate_maps,frm_stability = get_task_responses_by_direction(task_event_df,response_table)\n",
    "    else:\n",
    "        firing_rate_maps,frm_stability = get_task_responses(task_event_df,response_table)\n",
    "    \n",
    "    return firing_rate_maps, frm_stability, task_event_df,seq0,seq1,graph_type0,graph_type1"
   ]
  },
  {
   "cell_type": "code",
   "execution_count": null,
   "metadata": {},
   "outputs": [],
   "source": []
  },
  {
   "cell_type": "code",
   "execution_count": 8,
   "metadata": {},
   "outputs": [],
   "source": [
    "def get_task_responses_by_direction(task_event_df,response_table):\n",
    "    \"\"\" \n",
    "    Use the columns of the task_event_df to filter neural activity. \n",
    "    In this example build separate firing rate maps for each of the\n",
    "    tasks, selecting only trials where subjects poked the correct poke.\n",
    "    \n",
    "    \n",
    "    \"\"\"\n",
    "    \n",
    "    \n",
    "    n_neurons = response_table.shape[1]\n",
    "    n_ports = 9\n",
    "    n_tasks = 2\n",
    "    n_direction = 2\n",
    "    \n",
    "    #set variables to nan to not confuse missing data for no responses\n",
    "    firing_rate_maps = np.zeros([n_neurons,n_ports,n_tasks,n_direction]) + np.nan\n",
    "    #for each task\n",
    "    for task in [0,1]:\n",
    "        \n",
    "        for port in range(n_ports):  #for each port\n",
    "            \n",
    "            for dix,direction in enumerate(np.unique(task_event_df['direction'].values)):\n",
    "\n",
    "                #Select indices of pokes where...\n",
    "                table_index = task_event_df.loc[(task_event_df['task_nr']==task) &  #task_nr was task\n",
    "                                                (task_event_df['correct']==True) &  #the poke was to the correct port\n",
    "                                                (task_event_df['port']==port) &       #the port poked was port\n",
    "                                                (task_event_df['direction']==direction)\n",
    "                                               ].index           \n",
    "                #print(len(table_index))\n",
    "                #get the average\n",
    "                firing_rate_maps[:,int(port),int(task),dix] = np.nanmean(response_table[table_index],axis=0)\n",
    "    print('warning not calculating stability just setting to 1')\n",
    "    return firing_rate_maps, np.ones(n_neurons)\n",
    "                                         "
   ]
  },
  {
   "cell_type": "code",
   "execution_count": null,
   "metadata": {},
   "outputs": [],
   "source": []
  },
  {
   "cell_type": "code",
   "execution_count": null,
   "metadata": {},
   "outputs": [],
   "source": []
  },
  {
   "cell_type": "code",
   "execution_count": null,
   "metadata": {},
   "outputs": [],
   "source": []
  },
  {
   "cell_type": "code",
   "execution_count": 9,
   "metadata": {},
   "outputs": [],
   "source": [
    "def get_task_responses(task_event_df,response_table):\n",
    "    \"\"\" \n",
    "    Use the columns of the task_event_df to filter neural activity. \n",
    "    In this example build separate firing rate maps for each of the\n",
    "    tasks, selecting only trials where subjects poked the correct poke.\n",
    "    \n",
    "    \n",
    "    \"\"\"\n",
    "    \n",
    "    \n",
    "    n_neurons = response_table.shape[1]\n",
    "    n_ports = 9\n",
    "    n_tasks = 2\n",
    "    n_direction = 2\n",
    "    \n",
    "    #set variables to nan to not confuse missing data for no responses\n",
    "    firing_rate_maps = np.zeros([n_neurons,n_ports,n_tasks]) + np.nan\n",
    "    firing_rate_maps1 = np.zeros([n_neurons,n_ports,n_tasks]) + np.nan\n",
    "    firing_rate_maps2 = np.zeros([n_neurons,n_ports,n_tasks]) + np.nan\n",
    "\n",
    "    #for each task\n",
    "    for task in [0,1]:\n",
    "        \n",
    "        for port in range(n_ports):  #for each port\n",
    "            \n",
    "            #for dix,direction in enumerate(np.unique(task_event_df['direction'].values)):\n",
    "\n",
    "                #Select indices of pokes where...\n",
    "            table_index = task_event_df.loc[(task_event_df['task_nr']==task) &  #task_nr was task\n",
    "                                            (task_event_df['correct']==True) &  #the poke was to the correct port\n",
    "                                            (task_event_df['port']==port)        #the port poked was port\n",
    "                                            #(task_event_df['direction']==direction)\n",
    "                                           ].index           \n",
    "            #print(len(table_index))\n",
    "            #get the average\n",
    "            \n",
    "            half = len(table_index) //2\n",
    "            firing_rate_maps[:,int(port),int(task)] = np.nanmean(response_table[table_index],axis=0)\n",
    "            firing_rate_maps1[:,int(port),int(task)] = np.nanmean(response_table[table_index[:half]],axis=0)\n",
    "            firing_rate_maps2[:,int(port),int(task)] = np.nanmean(response_table[table_index[half:]],axis=0)\n",
    "        \n",
    "    ccs = []\n",
    "    for n in range(n_neurons):\n",
    "        cc = np.corrcoef(firing_rate_maps1[n].flatten(),firing_rate_maps2[n].flatten())[0,1]\n",
    "        if np.isnan(cc): cc=-100\n",
    "        ccs.append(cc)\n",
    "    return firing_rate_maps,ccs"
   ]
  },
  {
   "cell_type": "code",
   "execution_count": 10,
   "metadata": {},
   "outputs": [],
   "source": [
    "def zscore_population_activity(dat):\n",
    "    out = (dat - np.mean(dat,axis=0))/np.std(dat,axis=0)\n",
    "    out = out[:,~np.isnan(np.sum(out,axis=0))]\n",
    "    return out"
   ]
  },
  {
   "cell_type": "code",
   "execution_count": null,
   "metadata": {},
   "outputs": [],
   "source": []
  },
  {
   "cell_type": "code",
   "execution_count": 11,
   "metadata": {},
   "outputs": [
    {
     "name": "stdout",
     "output_type": "stream",
     "text": [
      "loop loop\n"
     ]
    },
    {
     "name": "stderr",
     "output_type": "stream",
     "text": [
      "/Users/yves/opt/anaconda3/lib/python3.7/site-packages/numpy/lib/function_base.py:2559: RuntimeWarning: invalid value encountered in true_divide\n",
      "  c /= stddev[:, None]\n",
      "/Users/yves/opt/anaconda3/lib/python3.7/site-packages/numpy/lib/function_base.py:2560: RuntimeWarning: invalid value encountered in true_divide\n",
      "  c /= stddev[None, :]\n",
      "/Users/yves/opt/anaconda3/lib/python3.7/site-packages/ipykernel_launcher.py:2: RuntimeWarning: invalid value encountered in true_divide\n",
      "  \n"
     ]
    }
   ],
   "source": [
    "\n",
    "firing_rate_maps,frm_stability, task_event_df,seq0,seq1,graph_type0,graph_type1, = load_data(1)\n",
    "mds_frm = firing_rate_maps.swapaxes(0,2)\n",
    "mds_frm = zscore_population_activity(np.vstack(mds_frm))\n",
    "act_matrix = mds_frm[:9][seq0]\n",
    "act_matrix2 = mds_frm[9:][seq1]\n",
    "mds_frm = np.dstack([act_matrix,act_matrix2]).swapaxes(0,2).swapaxes(1,2)\n",
    "print(graph_type0,graph_type1)"
   ]
  },
  {
   "cell_type": "code",
   "execution_count": 12,
   "metadata": {},
   "outputs": [],
   "source": [
    "grad_predict_all = grad(predict_all)"
   ]
  },
  {
   "cell_type": "code",
   "execution_count": 13,
   "metadata": {},
   "outputs": [],
   "source": [
    "from sklearn.decomposition import PCA\n",
    "pca_dim = 8\n",
    "pca = PCA(n_components=pca_dim)"
   ]
  },
  {
   "cell_type": "code",
   "execution_count": 14,
   "metadata": {},
   "outputs": [
    {
     "data": {
      "text/plain": [
       "(2, 9, 205)"
      ]
     },
     "execution_count": 14,
     "metadata": {},
     "output_type": "execute_result"
    }
   ],
   "source": [
    "mds_frm.shape"
   ]
  },
  {
   "cell_type": "code",
   "execution_count": 15,
   "metadata": {},
   "outputs": [],
   "source": [
    "pca.fit(np.vstack(mds_frm))\n",
    "pca_activity = pca.transform(mds_frm[0])\n",
    "pca_activity2 = pca.transform(mds_frm[1])"
   ]
  },
  {
   "cell_type": "code",
   "execution_count": 16,
   "metadata": {},
   "outputs": [
    {
     "data": {
      "text/plain": [
       "(9, 8)"
      ]
     },
     "execution_count": 16,
     "metadata": {},
     "output_type": "execute_result"
    }
   ],
   "source": [
    "pca_activity.shape"
   ]
  },
  {
   "cell_type": "code",
   "execution_count": 18,
   "metadata": {},
   "outputs": [
    {
     "name": "stderr",
     "output_type": "stream",
     "text": [
      "WARNING:absl:No GPU/TPU found, falling back to CPU. (Set TF_CPP_MIN_LOG_LEVEL=0 and rerun for more info.)\n"
     ]
    },
    {
     "ename": "KeyboardInterrupt",
     "evalue": "",
     "output_type": "error",
     "traceback": [
      "\u001b[0;31m---------------------------------------------------------------------------\u001b[0m",
      "\u001b[0;31mKeyboardInterrupt\u001b[0m                         Traceback (most recent call last)",
      "\u001b[0;32m<ipython-input-18-741fa08c6f53>\u001b[0m in \u001b[0;36m<module>\u001b[0;34m\u001b[0m\n\u001b[1;32m      7\u001b[0m            \u001b[0;34m(\u001b[0m\u001b[0mpca_activity\u001b[0m\u001b[0;34m,\u001b[0m\u001b[0mpca_dim\u001b[0m\u001b[0;34m,\u001b[0m\u001b[0mbasis_tensor_inf\u001b[0m\u001b[0;34m)\u001b[0m\u001b[0;34m,\u001b[0m\u001b[0;34m\u001b[0m\u001b[0;34m\u001b[0m\u001b[0m\n\u001b[1;32m      8\u001b[0m            \u001b[0mjac\u001b[0m\u001b[0;34m=\u001b[0m\u001b[0mgrad_wrapper\u001b[0m\u001b[0;34m,\u001b[0m\u001b[0;34m\u001b[0m\u001b[0;34m\u001b[0m\u001b[0m\n\u001b[0;32m----> 9\u001b[0;31m            \u001b[0mmethod\u001b[0m\u001b[0;34m=\u001b[0m\u001b[0;34m'BFGS'\u001b[0m\u001b[0;34m\u001b[0m\u001b[0;34m\u001b[0m\u001b[0m\n\u001b[0m\u001b[1;32m     10\u001b[0m            )\n\u001b[1;32m     11\u001b[0m \u001b[0mprint\u001b[0m\u001b[0;34m(\u001b[0m\u001b[0mres\u001b[0m\u001b[0;34m.\u001b[0m\u001b[0mmessage\u001b[0m\u001b[0;34m)\u001b[0m\u001b[0;34m\u001b[0m\u001b[0;34m\u001b[0m\u001b[0m\n",
      "\u001b[0;32m~/opt/anaconda3/lib/python3.7/site-packages/scipy/optimize/_minimize.py\u001b[0m in \u001b[0;36mminimize\u001b[0;34m(fun, x0, args, method, jac, hess, hessp, bounds, constraints, tol, callback, options)\u001b[0m\n\u001b[1;32m    602\u001b[0m         \u001b[0;32mreturn\u001b[0m \u001b[0m_minimize_cg\u001b[0m\u001b[0;34m(\u001b[0m\u001b[0mfun\u001b[0m\u001b[0;34m,\u001b[0m \u001b[0mx0\u001b[0m\u001b[0;34m,\u001b[0m \u001b[0margs\u001b[0m\u001b[0;34m,\u001b[0m \u001b[0mjac\u001b[0m\u001b[0;34m,\u001b[0m \u001b[0mcallback\u001b[0m\u001b[0;34m,\u001b[0m \u001b[0;34m**\u001b[0m\u001b[0moptions\u001b[0m\u001b[0;34m)\u001b[0m\u001b[0;34m\u001b[0m\u001b[0;34m\u001b[0m\u001b[0m\n\u001b[1;32m    603\u001b[0m     \u001b[0;32melif\u001b[0m \u001b[0mmeth\u001b[0m \u001b[0;34m==\u001b[0m \u001b[0;34m'bfgs'\u001b[0m\u001b[0;34m:\u001b[0m\u001b[0;34m\u001b[0m\u001b[0;34m\u001b[0m\u001b[0m\n\u001b[0;32m--> 604\u001b[0;31m         \u001b[0;32mreturn\u001b[0m \u001b[0m_minimize_bfgs\u001b[0m\u001b[0;34m(\u001b[0m\u001b[0mfun\u001b[0m\u001b[0;34m,\u001b[0m \u001b[0mx0\u001b[0m\u001b[0;34m,\u001b[0m \u001b[0margs\u001b[0m\u001b[0;34m,\u001b[0m \u001b[0mjac\u001b[0m\u001b[0;34m,\u001b[0m \u001b[0mcallback\u001b[0m\u001b[0;34m,\u001b[0m \u001b[0;34m**\u001b[0m\u001b[0moptions\u001b[0m\u001b[0;34m)\u001b[0m\u001b[0;34m\u001b[0m\u001b[0;34m\u001b[0m\u001b[0m\n\u001b[0m\u001b[1;32m    605\u001b[0m     \u001b[0;32melif\u001b[0m \u001b[0mmeth\u001b[0m \u001b[0;34m==\u001b[0m \u001b[0;34m'newton-cg'\u001b[0m\u001b[0;34m:\u001b[0m\u001b[0;34m\u001b[0m\u001b[0;34m\u001b[0m\u001b[0m\n\u001b[1;32m    606\u001b[0m         return _minimize_newtoncg(fun, x0, args, jac, hess, hessp, callback,\n",
      "\u001b[0;32m~/opt/anaconda3/lib/python3.7/site-packages/scipy/optimize/optimize.py\u001b[0m in \u001b[0;36m_minimize_bfgs\u001b[0;34m(fun, x0, args, jac, callback, gtol, norm, eps, maxiter, disp, return_all, **unknown_options)\u001b[0m\n\u001b[1;32m   1026\u001b[0m             \u001b[0malpha_k\u001b[0m\u001b[0;34m,\u001b[0m \u001b[0mfc\u001b[0m\u001b[0;34m,\u001b[0m \u001b[0mgc\u001b[0m\u001b[0;34m,\u001b[0m \u001b[0mold_fval\u001b[0m\u001b[0;34m,\u001b[0m \u001b[0mold_old_fval\u001b[0m\u001b[0;34m,\u001b[0m \u001b[0mgfkp1\u001b[0m \u001b[0;34m=\u001b[0m\u001b[0;31m \u001b[0m\u001b[0;31m\\\u001b[0m\u001b[0;34m\u001b[0m\u001b[0;34m\u001b[0m\u001b[0m\n\u001b[1;32m   1027\u001b[0m                      _line_search_wolfe12(f, myfprime, xk, pk, gfk,\n\u001b[0;32m-> 1028\u001b[0;31m                                           old_fval, old_old_fval, amin=1e-100, amax=1e100)\n\u001b[0m\u001b[1;32m   1029\u001b[0m         \u001b[0;32mexcept\u001b[0m \u001b[0m_LineSearchError\u001b[0m\u001b[0;34m:\u001b[0m\u001b[0;34m\u001b[0m\u001b[0;34m\u001b[0m\u001b[0m\n\u001b[1;32m   1030\u001b[0m             \u001b[0;31m# Line search failed to find a better solution.\u001b[0m\u001b[0;34m\u001b[0m\u001b[0;34m\u001b[0m\u001b[0;34m\u001b[0m\u001b[0m\n",
      "\u001b[0;32m~/opt/anaconda3/lib/python3.7/site-packages/scipy/optimize/optimize.py\u001b[0m in \u001b[0;36m_line_search_wolfe12\u001b[0;34m(f, fprime, xk, pk, gfk, old_fval, old_old_fval, **kwargs)\u001b[0m\n\u001b[1;32m    843\u001b[0m     ret = line_search_wolfe1(f, fprime, xk, pk, gfk,\n\u001b[1;32m    844\u001b[0m                              \u001b[0mold_fval\u001b[0m\u001b[0;34m,\u001b[0m \u001b[0mold_old_fval\u001b[0m\u001b[0;34m,\u001b[0m\u001b[0;34m\u001b[0m\u001b[0;34m\u001b[0m\u001b[0m\n\u001b[0;32m--> 845\u001b[0;31m                              **kwargs)\n\u001b[0m\u001b[1;32m    846\u001b[0m \u001b[0;34m\u001b[0m\u001b[0m\n\u001b[1;32m    847\u001b[0m     \u001b[0;32mif\u001b[0m \u001b[0mret\u001b[0m\u001b[0;34m[\u001b[0m\u001b[0;36m0\u001b[0m\u001b[0;34m]\u001b[0m \u001b[0;32mis\u001b[0m \u001b[0;32mnot\u001b[0m \u001b[0;32mNone\u001b[0m \u001b[0;32mand\u001b[0m \u001b[0mextra_condition\u001b[0m \u001b[0;32mis\u001b[0m \u001b[0;32mnot\u001b[0m \u001b[0;32mNone\u001b[0m\u001b[0;34m:\u001b[0m\u001b[0;34m\u001b[0m\u001b[0;34m\u001b[0m\u001b[0m\n",
      "\u001b[0;32m~/opt/anaconda3/lib/python3.7/site-packages/scipy/optimize/linesearch.py\u001b[0m in \u001b[0;36mline_search_wolfe1\u001b[0;34m(f, fprime, xk, pk, gfk, old_fval, old_old_fval, args, c1, c2, amax, amin, xtol)\u001b[0m\n\u001b[1;32m     99\u001b[0m     stp, fval, old_fval = scalar_search_wolfe1(\n\u001b[1;32m    100\u001b[0m             \u001b[0mphi\u001b[0m\u001b[0;34m,\u001b[0m \u001b[0mderphi\u001b[0m\u001b[0;34m,\u001b[0m \u001b[0mold_fval\u001b[0m\u001b[0;34m,\u001b[0m \u001b[0mold_old_fval\u001b[0m\u001b[0;34m,\u001b[0m \u001b[0mderphi0\u001b[0m\u001b[0;34m,\u001b[0m\u001b[0;34m\u001b[0m\u001b[0;34m\u001b[0m\u001b[0m\n\u001b[0;32m--> 101\u001b[0;31m             c1=c1, c2=c2, amax=amax, amin=amin, xtol=xtol)\n\u001b[0m\u001b[1;32m    102\u001b[0m \u001b[0;34m\u001b[0m\u001b[0m\n\u001b[1;32m    103\u001b[0m     \u001b[0;32mreturn\u001b[0m \u001b[0mstp\u001b[0m\u001b[0;34m,\u001b[0m \u001b[0mfc\u001b[0m\u001b[0;34m[\u001b[0m\u001b[0;36m0\u001b[0m\u001b[0;34m]\u001b[0m\u001b[0;34m,\u001b[0m \u001b[0mgc\u001b[0m\u001b[0;34m[\u001b[0m\u001b[0;36m0\u001b[0m\u001b[0;34m]\u001b[0m\u001b[0;34m,\u001b[0m \u001b[0mfval\u001b[0m\u001b[0;34m,\u001b[0m \u001b[0mold_fval\u001b[0m\u001b[0;34m,\u001b[0m \u001b[0mgval\u001b[0m\u001b[0;34m[\u001b[0m\u001b[0;36m0\u001b[0m\u001b[0;34m]\u001b[0m\u001b[0;34m\u001b[0m\u001b[0;34m\u001b[0m\u001b[0m\n",
      "\u001b[0;32m~/opt/anaconda3/lib/python3.7/site-packages/scipy/optimize/linesearch.py\u001b[0m in \u001b[0;36mscalar_search_wolfe1\u001b[0;34m(phi, derphi, phi0, old_phi0, derphi0, c1, c2, amax, amin, xtol)\u001b[0m\n\u001b[1;32m    174\u001b[0m             \u001b[0malpha1\u001b[0m \u001b[0;34m=\u001b[0m \u001b[0mstp\u001b[0m\u001b[0;34m\u001b[0m\u001b[0;34m\u001b[0m\u001b[0m\n\u001b[1;32m    175\u001b[0m             \u001b[0mphi1\u001b[0m \u001b[0;34m=\u001b[0m \u001b[0mphi\u001b[0m\u001b[0;34m(\u001b[0m\u001b[0mstp\u001b[0m\u001b[0;34m)\u001b[0m\u001b[0;34m\u001b[0m\u001b[0;34m\u001b[0m\u001b[0m\n\u001b[0;32m--> 176\u001b[0;31m             \u001b[0mderphi1\u001b[0m \u001b[0;34m=\u001b[0m \u001b[0mderphi\u001b[0m\u001b[0;34m(\u001b[0m\u001b[0mstp\u001b[0m\u001b[0;34m)\u001b[0m\u001b[0;34m\u001b[0m\u001b[0;34m\u001b[0m\u001b[0m\n\u001b[0m\u001b[1;32m    177\u001b[0m         \u001b[0;32melse\u001b[0m\u001b[0;34m:\u001b[0m\u001b[0;34m\u001b[0m\u001b[0;34m\u001b[0m\u001b[0m\n\u001b[1;32m    178\u001b[0m             \u001b[0;32mbreak\u001b[0m\u001b[0;34m\u001b[0m\u001b[0;34m\u001b[0m\u001b[0m\n",
      "\u001b[0;32m~/opt/anaconda3/lib/python3.7/site-packages/scipy/optimize/linesearch.py\u001b[0m in \u001b[0;36mderphi\u001b[0;34m(s)\u001b[0m\n\u001b[1;32m     88\u001b[0m \u001b[0;34m\u001b[0m\u001b[0m\n\u001b[1;32m     89\u001b[0m     \u001b[0;32mdef\u001b[0m \u001b[0mderphi\u001b[0m\u001b[0;34m(\u001b[0m\u001b[0ms\u001b[0m\u001b[0;34m)\u001b[0m\u001b[0;34m:\u001b[0m\u001b[0;34m\u001b[0m\u001b[0;34m\u001b[0m\u001b[0m\n\u001b[0;32m---> 90\u001b[0;31m         \u001b[0mgval\u001b[0m\u001b[0;34m[\u001b[0m\u001b[0;36m0\u001b[0m\u001b[0;34m]\u001b[0m \u001b[0;34m=\u001b[0m \u001b[0mfprime\u001b[0m\u001b[0;34m(\u001b[0m\u001b[0mxk\u001b[0m \u001b[0;34m+\u001b[0m \u001b[0ms\u001b[0m\u001b[0;34m*\u001b[0m\u001b[0mpk\u001b[0m\u001b[0;34m,\u001b[0m \u001b[0;34m*\u001b[0m\u001b[0mnewargs\u001b[0m\u001b[0;34m)\u001b[0m\u001b[0;34m\u001b[0m\u001b[0;34m\u001b[0m\u001b[0m\n\u001b[0m\u001b[1;32m     91\u001b[0m         \u001b[0;32mif\u001b[0m \u001b[0mgradient\u001b[0m\u001b[0;34m:\u001b[0m\u001b[0;34m\u001b[0m\u001b[0;34m\u001b[0m\u001b[0m\n\u001b[1;32m     92\u001b[0m             \u001b[0mgc\u001b[0m\u001b[0;34m[\u001b[0m\u001b[0;36m0\u001b[0m\u001b[0;34m]\u001b[0m \u001b[0;34m+=\u001b[0m \u001b[0;36m1\u001b[0m\u001b[0;34m\u001b[0m\u001b[0;34m\u001b[0m\u001b[0m\n",
      "\u001b[0;32m~/opt/anaconda3/lib/python3.7/site-packages/scipy/optimize/optimize.py\u001b[0m in \u001b[0;36mfunction_wrapper\u001b[0;34m(*wrapper_args)\u001b[0m\n\u001b[1;32m    325\u001b[0m     \u001b[0;32mdef\u001b[0m \u001b[0mfunction_wrapper\u001b[0m\u001b[0;34m(\u001b[0m\u001b[0;34m*\u001b[0m\u001b[0mwrapper_args\u001b[0m\u001b[0;34m)\u001b[0m\u001b[0;34m:\u001b[0m\u001b[0;34m\u001b[0m\u001b[0;34m\u001b[0m\u001b[0m\n\u001b[1;32m    326\u001b[0m         \u001b[0mncalls\u001b[0m\u001b[0;34m[\u001b[0m\u001b[0;36m0\u001b[0m\u001b[0;34m]\u001b[0m \u001b[0;34m+=\u001b[0m \u001b[0;36m1\u001b[0m\u001b[0;34m\u001b[0m\u001b[0;34m\u001b[0m\u001b[0m\n\u001b[0;32m--> 327\u001b[0;31m         \u001b[0;32mreturn\u001b[0m \u001b[0mfunction\u001b[0m\u001b[0;34m(\u001b[0m\u001b[0;34m*\u001b[0m\u001b[0;34m(\u001b[0m\u001b[0mwrapper_args\u001b[0m \u001b[0;34m+\u001b[0m \u001b[0margs\u001b[0m\u001b[0;34m)\u001b[0m\u001b[0;34m)\u001b[0m\u001b[0;34m\u001b[0m\u001b[0;34m\u001b[0m\u001b[0m\n\u001b[0m\u001b[1;32m    328\u001b[0m \u001b[0;34m\u001b[0m\u001b[0m\n\u001b[1;32m    329\u001b[0m     \u001b[0;32mreturn\u001b[0m \u001b[0mncalls\u001b[0m\u001b[0;34m,\u001b[0m \u001b[0mfunction_wrapper\u001b[0m\u001b[0;34m\u001b[0m\u001b[0;34m\u001b[0m\u001b[0m\n",
      "\u001b[0;32m~/Documents/Code/mec_ephys/packages/mecll/dynamics/unitary_dynamics.py\u001b[0m in \u001b[0;36mgrad_wrapper\u001b[0;34m(params, x, dim, basis_tensor)\u001b[0m\n\u001b[1;32m     56\u001b[0m \u001b[0;34m\u001b[0m\u001b[0m\n\u001b[1;32m     57\u001b[0m \u001b[0;32mdef\u001b[0m \u001b[0mgrad_wrapper\u001b[0m\u001b[0;34m(\u001b[0m\u001b[0mparams\u001b[0m\u001b[0;34m,\u001b[0m\u001b[0mx\u001b[0m\u001b[0;34m,\u001b[0m\u001b[0mdim\u001b[0m\u001b[0;34m,\u001b[0m\u001b[0mbasis_tensor\u001b[0m\u001b[0;34m)\u001b[0m\u001b[0;34m:\u001b[0m\u001b[0;34m\u001b[0m\u001b[0;34m\u001b[0m\u001b[0m\n\u001b[0;32m---> 58\u001b[0;31m     \u001b[0mgrad\u001b[0m \u001b[0;34m=\u001b[0m \u001b[0mgrad_predict_all\u001b[0m\u001b[0;34m(\u001b[0m\u001b[0mjnp\u001b[0m\u001b[0;34m.\u001b[0m\u001b[0marray\u001b[0m\u001b[0;34m(\u001b[0m\u001b[0mparams\u001b[0m\u001b[0;34m)\u001b[0m\u001b[0;34m,\u001b[0m\u001b[0mx\u001b[0m\u001b[0;34m,\u001b[0m\u001b[0mdim\u001b[0m\u001b[0;34m,\u001b[0m\u001b[0mbasis_tensor\u001b[0m\u001b[0;34m)\u001b[0m\u001b[0;34m\u001b[0m\u001b[0;34m\u001b[0m\u001b[0m\n\u001b[0m\u001b[1;32m     59\u001b[0m     \u001b[0mgrad\u001b[0m \u001b[0;34m=\u001b[0m \u001b[0mnp\u001b[0m\u001b[0;34m.\u001b[0m\u001b[0marray\u001b[0m\u001b[0;34m(\u001b[0m\u001b[0mgrad\u001b[0m\u001b[0;34m)\u001b[0m\u001b[0;34m\u001b[0m\u001b[0;34m\u001b[0m\u001b[0m\n\u001b[1;32m     60\u001b[0m     \u001b[0;31m#print(grad)\u001b[0m\u001b[0;34m\u001b[0m\u001b[0;34m\u001b[0m\u001b[0;34m\u001b[0m\u001b[0m\n",
      "\u001b[0;32m~/opt/anaconda3/lib/python3.7/site-packages/jax/_src/traceback_util.py\u001b[0m in \u001b[0;36mreraise_with_filtered_traceback\u001b[0;34m(*args, **kwargs)\u001b[0m\n\u001b[1;32m    160\u001b[0m     \u001b[0m__tracebackhide__\u001b[0m \u001b[0;34m=\u001b[0m \u001b[0;32mTrue\u001b[0m\u001b[0;34m\u001b[0m\u001b[0;34m\u001b[0m\u001b[0m\n\u001b[1;32m    161\u001b[0m     \u001b[0;32mtry\u001b[0m\u001b[0;34m:\u001b[0m\u001b[0;34m\u001b[0m\u001b[0;34m\u001b[0m\u001b[0m\n\u001b[0;32m--> 162\u001b[0;31m       \u001b[0;32mreturn\u001b[0m \u001b[0mfun\u001b[0m\u001b[0;34m(\u001b[0m\u001b[0;34m*\u001b[0m\u001b[0margs\u001b[0m\u001b[0;34m,\u001b[0m \u001b[0;34m**\u001b[0m\u001b[0mkwargs\u001b[0m\u001b[0;34m)\u001b[0m\u001b[0;34m\u001b[0m\u001b[0;34m\u001b[0m\u001b[0m\n\u001b[0m\u001b[1;32m    163\u001b[0m     \u001b[0;32mexcept\u001b[0m \u001b[0mException\u001b[0m \u001b[0;32mas\u001b[0m \u001b[0me\u001b[0m\u001b[0;34m:\u001b[0m\u001b[0;34m\u001b[0m\u001b[0;34m\u001b[0m\u001b[0m\n\u001b[1;32m    164\u001b[0m       \u001b[0mmode\u001b[0m \u001b[0;34m=\u001b[0m \u001b[0mfiltering_mode\u001b[0m\u001b[0;34m(\u001b[0m\u001b[0;34m)\u001b[0m\u001b[0;34m\u001b[0m\u001b[0;34m\u001b[0m\u001b[0m\n",
      "\u001b[0;32m~/opt/anaconda3/lib/python3.7/site-packages/jax/_src/api.py\u001b[0m in \u001b[0;36mgrad_f\u001b[0;34m(*args, **kwargs)\u001b[0m\n\u001b[1;32m    916\u001b[0m   \u001b[0;34m@\u001b[0m\u001b[0mapi_boundary\u001b[0m\u001b[0;34m\u001b[0m\u001b[0;34m\u001b[0m\u001b[0m\n\u001b[1;32m    917\u001b[0m   \u001b[0;32mdef\u001b[0m \u001b[0mgrad_f\u001b[0m\u001b[0;34m(\u001b[0m\u001b[0;34m*\u001b[0m\u001b[0margs\u001b[0m\u001b[0;34m,\u001b[0m \u001b[0;34m**\u001b[0m\u001b[0mkwargs\u001b[0m\u001b[0;34m)\u001b[0m\u001b[0;34m:\u001b[0m\u001b[0;34m\u001b[0m\u001b[0;34m\u001b[0m\u001b[0m\n\u001b[0;32m--> 918\u001b[0;31m     \u001b[0m_\u001b[0m\u001b[0;34m,\u001b[0m \u001b[0mg\u001b[0m \u001b[0;34m=\u001b[0m \u001b[0mvalue_and_grad_f\u001b[0m\u001b[0;34m(\u001b[0m\u001b[0;34m*\u001b[0m\u001b[0margs\u001b[0m\u001b[0;34m,\u001b[0m \u001b[0;34m**\u001b[0m\u001b[0mkwargs\u001b[0m\u001b[0;34m)\u001b[0m\u001b[0;34m\u001b[0m\u001b[0;34m\u001b[0m\u001b[0m\n\u001b[0m\u001b[1;32m    919\u001b[0m     \u001b[0;32mreturn\u001b[0m \u001b[0mg\u001b[0m\u001b[0;34m\u001b[0m\u001b[0;34m\u001b[0m\u001b[0m\n\u001b[1;32m    920\u001b[0m \u001b[0;34m\u001b[0m\u001b[0m\n",
      "\u001b[0;32m~/opt/anaconda3/lib/python3.7/site-packages/jax/_src/traceback_util.py\u001b[0m in \u001b[0;36mreraise_with_filtered_traceback\u001b[0;34m(*args, **kwargs)\u001b[0m\n\u001b[1;32m    160\u001b[0m     \u001b[0m__tracebackhide__\u001b[0m \u001b[0;34m=\u001b[0m \u001b[0;32mTrue\u001b[0m\u001b[0;34m\u001b[0m\u001b[0;34m\u001b[0m\u001b[0m\n\u001b[1;32m    161\u001b[0m     \u001b[0;32mtry\u001b[0m\u001b[0;34m:\u001b[0m\u001b[0;34m\u001b[0m\u001b[0;34m\u001b[0m\u001b[0m\n\u001b[0;32m--> 162\u001b[0;31m       \u001b[0;32mreturn\u001b[0m \u001b[0mfun\u001b[0m\u001b[0;34m(\u001b[0m\u001b[0;34m*\u001b[0m\u001b[0margs\u001b[0m\u001b[0;34m,\u001b[0m \u001b[0;34m**\u001b[0m\u001b[0mkwargs\u001b[0m\u001b[0;34m)\u001b[0m\u001b[0;34m\u001b[0m\u001b[0;34m\u001b[0m\u001b[0m\n\u001b[0m\u001b[1;32m    163\u001b[0m     \u001b[0;32mexcept\u001b[0m \u001b[0mException\u001b[0m \u001b[0;32mas\u001b[0m \u001b[0me\u001b[0m\u001b[0;34m:\u001b[0m\u001b[0;34m\u001b[0m\u001b[0;34m\u001b[0m\u001b[0m\n\u001b[1;32m    164\u001b[0m       \u001b[0mmode\u001b[0m \u001b[0;34m=\u001b[0m \u001b[0mfiltering_mode\u001b[0m\u001b[0;34m(\u001b[0m\u001b[0;34m)\u001b[0m\u001b[0;34m\u001b[0m\u001b[0;34m\u001b[0m\u001b[0m\n",
      "\u001b[0;32m~/opt/anaconda3/lib/python3.7/site-packages/jax/_src/api.py\u001b[0m in \u001b[0;36mvalue_and_grad_f\u001b[0;34m(*args, **kwargs)\u001b[0m\n\u001b[1;32m    998\u001b[0m     \u001b[0mdtype\u001b[0m \u001b[0;34m=\u001b[0m \u001b[0mdtypes\u001b[0m\u001b[0;34m.\u001b[0m\u001b[0mresult_type\u001b[0m\u001b[0;34m(\u001b[0m\u001b[0mans\u001b[0m\u001b[0;34m)\u001b[0m\u001b[0;34m\u001b[0m\u001b[0;34m\u001b[0m\u001b[0m\n\u001b[1;32m    999\u001b[0m     \u001b[0mtree_map\u001b[0m\u001b[0;34m(\u001b[0m\u001b[0mpartial\u001b[0m\u001b[0;34m(\u001b[0m\u001b[0m_check_output_dtype_grad\u001b[0m\u001b[0;34m,\u001b[0m \u001b[0mholomorphic\u001b[0m\u001b[0;34m)\u001b[0m\u001b[0;34m,\u001b[0m \u001b[0mans\u001b[0m\u001b[0;34m)\u001b[0m\u001b[0;34m\u001b[0m\u001b[0;34m\u001b[0m\u001b[0m\n\u001b[0;32m-> 1000\u001b[0;31m     \u001b[0mg\u001b[0m \u001b[0;34m=\u001b[0m \u001b[0mvjp_py\u001b[0m\u001b[0;34m(\u001b[0m\u001b[0mnp\u001b[0m\u001b[0;34m.\u001b[0m\u001b[0mones\u001b[0m\u001b[0;34m(\u001b[0m\u001b[0;34m(\u001b[0m\u001b[0;34m)\u001b[0m\u001b[0;34m,\u001b[0m \u001b[0mdtype\u001b[0m\u001b[0;34m=\u001b[0m\u001b[0mdtype\u001b[0m\u001b[0;34m)\u001b[0m\u001b[0;34m)\u001b[0m\u001b[0;34m\u001b[0m\u001b[0;34m\u001b[0m\u001b[0m\n\u001b[0m\u001b[1;32m   1001\u001b[0m     \u001b[0mg\u001b[0m \u001b[0;34m=\u001b[0m \u001b[0mg\u001b[0m\u001b[0;34m[\u001b[0m\u001b[0;36m0\u001b[0m\u001b[0;34m]\u001b[0m \u001b[0;32mif\u001b[0m \u001b[0misinstance\u001b[0m\u001b[0;34m(\u001b[0m\u001b[0margnums\u001b[0m\u001b[0;34m,\u001b[0m \u001b[0mint\u001b[0m\u001b[0;34m)\u001b[0m \u001b[0;32melse\u001b[0m \u001b[0mg\u001b[0m\u001b[0;34m\u001b[0m\u001b[0;34m\u001b[0m\u001b[0m\n\u001b[1;32m   1002\u001b[0m     \u001b[0;32mif\u001b[0m \u001b[0;32mnot\u001b[0m \u001b[0mhas_aux\u001b[0m\u001b[0;34m:\u001b[0m\u001b[0;34m\u001b[0m\u001b[0;34m\u001b[0m\u001b[0m\n",
      "\u001b[0;32m~/opt/anaconda3/lib/python3.7/site-packages/jax/_src/tree_util.py\u001b[0m in \u001b[0;36m<lambda>\u001b[0;34m(*args, **kw)\u001b[0m\n\u001b[1;32m    324\u001b[0m     \u001b[0;32mif\u001b[0m \u001b[0misinstance\u001b[0m\u001b[0;34m(\u001b[0m\u001b[0mfunc\u001b[0m\u001b[0;34m,\u001b[0m \u001b[0mfunctools\u001b[0m\u001b[0;34m.\u001b[0m\u001b[0mpartial\u001b[0m\u001b[0;34m)\u001b[0m\u001b[0;34m:\u001b[0m\u001b[0;34m\u001b[0m\u001b[0;34m\u001b[0m\u001b[0m\n\u001b[1;32m    325\u001b[0m       \u001b[0moriginal_func\u001b[0m \u001b[0;34m=\u001b[0m \u001b[0mfunc\u001b[0m\u001b[0;34m\u001b[0m\u001b[0;34m\u001b[0m\u001b[0m\n\u001b[0;32m--> 326\u001b[0;31m       \u001b[0mfunc\u001b[0m \u001b[0;34m=\u001b[0m \u001b[0;32mlambda\u001b[0m \u001b[0;34m*\u001b[0m\u001b[0margs\u001b[0m\u001b[0;34m,\u001b[0m \u001b[0;34m**\u001b[0m\u001b[0mkw\u001b[0m\u001b[0;34m:\u001b[0m \u001b[0moriginal_func\u001b[0m\u001b[0;34m(\u001b[0m\u001b[0;34m*\u001b[0m\u001b[0margs\u001b[0m\u001b[0;34m,\u001b[0m \u001b[0;34m**\u001b[0m\u001b[0mkw\u001b[0m\u001b[0;34m)\u001b[0m\u001b[0;34m\u001b[0m\u001b[0;34m\u001b[0m\u001b[0m\n\u001b[0m\u001b[1;32m    327\u001b[0m       \u001b[0mfunc\u001b[0m\u001b[0;34m.\u001b[0m\u001b[0mfunc\u001b[0m \u001b[0;34m=\u001b[0m \u001b[0moriginal_func\u001b[0m\u001b[0;34m.\u001b[0m\u001b[0mfunc\u001b[0m\u001b[0;34m\u001b[0m\u001b[0;34m\u001b[0m\u001b[0m\n\u001b[1;32m    328\u001b[0m       \u001b[0mfunc\u001b[0m\u001b[0;34m.\u001b[0m\u001b[0margs\u001b[0m \u001b[0;34m=\u001b[0m \u001b[0moriginal_func\u001b[0m\u001b[0;34m.\u001b[0m\u001b[0margs\u001b[0m\u001b[0;34m\u001b[0m\u001b[0;34m\u001b[0m\u001b[0m\n",
      "\u001b[0;32m~/opt/anaconda3/lib/python3.7/site-packages/jax/_src/api.py\u001b[0m in \u001b[0;36m_vjp_pullback_wrapper\u001b[0;34m(cotangent_dtypes, cotangent_shapes, io_tree, fun, py_args)\u001b[0m\n\u001b[1;32m   2217\u001b[0m           \u001b[0;34m\"must be the same as the shape of corresponding primal input \"\u001b[0m\u001b[0;34m\u001b[0m\u001b[0;34m\u001b[0m\u001b[0m\n\u001b[1;32m   2218\u001b[0m           f\"{ct_shape}.\")\n\u001b[0;32m-> 2219\u001b[0;31m   \u001b[0mans\u001b[0m \u001b[0;34m=\u001b[0m \u001b[0mfun\u001b[0m\u001b[0;34m(\u001b[0m\u001b[0;34m*\u001b[0m\u001b[0margs\u001b[0m\u001b[0;34m)\u001b[0m\u001b[0;34m\u001b[0m\u001b[0;34m\u001b[0m\u001b[0m\n\u001b[0m\u001b[1;32m   2220\u001b[0m   \u001b[0;32mreturn\u001b[0m \u001b[0mtree_unflatten\u001b[0m\u001b[0;34m(\u001b[0m\u001b[0mout_tree\u001b[0m\u001b[0;34m,\u001b[0m \u001b[0mans\u001b[0m\u001b[0;34m)\u001b[0m\u001b[0;34m\u001b[0m\u001b[0;34m\u001b[0m\u001b[0m\n\u001b[1;32m   2221\u001b[0m \u001b[0;34m\u001b[0m\u001b[0m\n",
      "\u001b[0;32m~/opt/anaconda3/lib/python3.7/site-packages/jax/_src/tree_util.py\u001b[0m in \u001b[0;36m<lambda>\u001b[0;34m(*args, **kw)\u001b[0m\n\u001b[1;32m    324\u001b[0m     \u001b[0;32mif\u001b[0m \u001b[0misinstance\u001b[0m\u001b[0;34m(\u001b[0m\u001b[0mfunc\u001b[0m\u001b[0;34m,\u001b[0m \u001b[0mfunctools\u001b[0m\u001b[0;34m.\u001b[0m\u001b[0mpartial\u001b[0m\u001b[0;34m)\u001b[0m\u001b[0;34m:\u001b[0m\u001b[0;34m\u001b[0m\u001b[0;34m\u001b[0m\u001b[0m\n\u001b[1;32m    325\u001b[0m       \u001b[0moriginal_func\u001b[0m \u001b[0;34m=\u001b[0m \u001b[0mfunc\u001b[0m\u001b[0;34m\u001b[0m\u001b[0;34m\u001b[0m\u001b[0m\n\u001b[0;32m--> 326\u001b[0;31m       \u001b[0mfunc\u001b[0m \u001b[0;34m=\u001b[0m \u001b[0;32mlambda\u001b[0m \u001b[0;34m*\u001b[0m\u001b[0margs\u001b[0m\u001b[0;34m,\u001b[0m \u001b[0;34m**\u001b[0m\u001b[0mkw\u001b[0m\u001b[0;34m:\u001b[0m \u001b[0moriginal_func\u001b[0m\u001b[0;34m(\u001b[0m\u001b[0;34m*\u001b[0m\u001b[0margs\u001b[0m\u001b[0;34m,\u001b[0m \u001b[0;34m**\u001b[0m\u001b[0mkw\u001b[0m\u001b[0;34m)\u001b[0m\u001b[0;34m\u001b[0m\u001b[0;34m\u001b[0m\u001b[0m\n\u001b[0m\u001b[1;32m    327\u001b[0m       \u001b[0mfunc\u001b[0m\u001b[0;34m.\u001b[0m\u001b[0mfunc\u001b[0m \u001b[0;34m=\u001b[0m \u001b[0moriginal_func\u001b[0m\u001b[0;34m.\u001b[0m\u001b[0mfunc\u001b[0m\u001b[0;34m\u001b[0m\u001b[0;34m\u001b[0m\u001b[0m\n\u001b[1;32m    328\u001b[0m       \u001b[0mfunc\u001b[0m\u001b[0;34m.\u001b[0m\u001b[0margs\u001b[0m \u001b[0;34m=\u001b[0m \u001b[0moriginal_func\u001b[0m\u001b[0;34m.\u001b[0m\u001b[0margs\u001b[0m\u001b[0;34m\u001b[0m\u001b[0;34m\u001b[0m\u001b[0m\n",
      "\u001b[0;32m~/opt/anaconda3/lib/python3.7/site-packages/jax/interpreters/ad.py\u001b[0m in \u001b[0;36munbound_vjp\u001b[0;34m(pvals, jaxpr, consts, *cts)\u001b[0m\n\u001b[1;32m    121\u001b[0m     \u001b[0mcts\u001b[0m \u001b[0;34m=\u001b[0m \u001b[0mtuple\u001b[0m\u001b[0;34m(\u001b[0m\u001b[0mmap\u001b[0m\u001b[0;34m(\u001b[0m\u001b[0mignore_consts\u001b[0m\u001b[0;34m,\u001b[0m \u001b[0mcts\u001b[0m\u001b[0;34m,\u001b[0m \u001b[0mpvals\u001b[0m\u001b[0;34m)\u001b[0m\u001b[0;34m)\u001b[0m\u001b[0;34m\u001b[0m\u001b[0;34m\u001b[0m\u001b[0m\n\u001b[1;32m    122\u001b[0m     \u001b[0mdummy_args\u001b[0m \u001b[0;34m=\u001b[0m \u001b[0;34m[\u001b[0m\u001b[0mUndefinedPrimal\u001b[0m\u001b[0;34m(\u001b[0m\u001b[0mv\u001b[0m\u001b[0;34m.\u001b[0m\u001b[0maval\u001b[0m\u001b[0;34m)\u001b[0m \u001b[0;32mfor\u001b[0m \u001b[0mv\u001b[0m \u001b[0;32min\u001b[0m \u001b[0mjaxpr\u001b[0m\u001b[0;34m.\u001b[0m\u001b[0minvars\u001b[0m\u001b[0;34m]\u001b[0m\u001b[0;34m\u001b[0m\u001b[0;34m\u001b[0m\u001b[0m\n\u001b[0;32m--> 123\u001b[0;31m     \u001b[0marg_cts\u001b[0m \u001b[0;34m=\u001b[0m \u001b[0mbackward_pass\u001b[0m\u001b[0;34m(\u001b[0m\u001b[0mjaxpr\u001b[0m\u001b[0;34m,\u001b[0m \u001b[0mreduce_axes\u001b[0m\u001b[0;34m,\u001b[0m \u001b[0mconsts\u001b[0m\u001b[0;34m,\u001b[0m \u001b[0mdummy_args\u001b[0m\u001b[0;34m,\u001b[0m \u001b[0mcts\u001b[0m\u001b[0;34m)\u001b[0m\u001b[0;34m\u001b[0m\u001b[0;34m\u001b[0m\u001b[0m\n\u001b[0m\u001b[1;32m    124\u001b[0m     \u001b[0;32mreturn\u001b[0m \u001b[0mmap\u001b[0m\u001b[0;34m(\u001b[0m\u001b[0minstantiate_zeros\u001b[0m\u001b[0;34m,\u001b[0m \u001b[0marg_cts\u001b[0m\u001b[0;34m)\u001b[0m\u001b[0;34m\u001b[0m\u001b[0;34m\u001b[0m\u001b[0m\n\u001b[1;32m    125\u001b[0m \u001b[0;34m\u001b[0m\u001b[0m\n",
      "\u001b[0;32m~/opt/anaconda3/lib/python3.7/site-packages/jax/interpreters/ad.py\u001b[0m in \u001b[0;36mbackward_pass\u001b[0;34m(jaxpr, reduce_axes, consts, primals_in, cotangents_in)\u001b[0m\n\u001b[1;32m    227\u001b[0m       \u001b[0;32melse\u001b[0m\u001b[0;34m:\u001b[0m\u001b[0;34m\u001b[0m\u001b[0;34m\u001b[0m\u001b[0m\n\u001b[1;32m    228\u001b[0m         cts_out = get_primitive_transpose(eqn.primitive)(cts_in, *invals,\n\u001b[0;32m--> 229\u001b[0;31m                                                          **eqn.params)\n\u001b[0m\u001b[1;32m    230\u001b[0m     \u001b[0mcts_out\u001b[0m \u001b[0;34m=\u001b[0m \u001b[0;34m[\u001b[0m\u001b[0mZero\u001b[0m\u001b[0;34m(\u001b[0m\u001b[0mv\u001b[0m\u001b[0;34m.\u001b[0m\u001b[0maval\u001b[0m\u001b[0;34m)\u001b[0m \u001b[0;32mfor\u001b[0m \u001b[0mv\u001b[0m \u001b[0;32min\u001b[0m \u001b[0meqn\u001b[0m\u001b[0;34m.\u001b[0m\u001b[0minvars\u001b[0m\u001b[0;34m]\u001b[0m \u001b[0;32mif\u001b[0m \u001b[0mcts_out\u001b[0m \u001b[0;32mis\u001b[0m \u001b[0mZero\u001b[0m \u001b[0;32melse\u001b[0m \u001b[0mcts_out\u001b[0m\u001b[0;34m\u001b[0m\u001b[0;34m\u001b[0m\u001b[0m\n\u001b[1;32m    231\u001b[0m     \u001b[0;31m# FIXME: Some invars correspond to primals!\u001b[0m\u001b[0;34m\u001b[0m\u001b[0;34m\u001b[0m\u001b[0;34m\u001b[0m\u001b[0m\n",
      "\u001b[0;32m~/opt/anaconda3/lib/python3.7/site-packages/jax/_src/lax/lax.py\u001b[0m in \u001b[0;36m_mul_transpose\u001b[0;34m(ct, x, y)\u001b[0m\n\u001b[1;32m   2911\u001b[0m       \u001b[0;32mreturn\u001b[0m \u001b[0;34m[\u001b[0m\u001b[0mad_util\u001b[0m\u001b[0;34m.\u001b[0m\u001b[0mZero\u001b[0m\u001b[0;34m(\u001b[0m\u001b[0mx\u001b[0m\u001b[0;34m.\u001b[0m\u001b[0maval\u001b[0m\u001b[0;34m)\u001b[0m\u001b[0;34m,\u001b[0m \u001b[0;32mNone\u001b[0m\u001b[0;34m]\u001b[0m\u001b[0;34m\u001b[0m\u001b[0;34m\u001b[0m\u001b[0m\n\u001b[1;32m   2912\u001b[0m     \u001b[0;32melse\u001b[0m\u001b[0;34m:\u001b[0m\u001b[0;34m\u001b[0m\u001b[0;34m\u001b[0m\u001b[0m\n\u001b[0;32m-> 2913\u001b[0;31m       \u001b[0;32mreturn\u001b[0m \u001b[0;34m[\u001b[0m\u001b[0m_unbroadcast\u001b[0m\u001b[0;34m(\u001b[0m\u001b[0mx\u001b[0m\u001b[0;34m.\u001b[0m\u001b[0maval\u001b[0m\u001b[0;34m,\u001b[0m \u001b[0mmul\u001b[0m\u001b[0;34m(\u001b[0m\u001b[0mct\u001b[0m\u001b[0;34m,\u001b[0m \u001b[0my\u001b[0m\u001b[0;34m)\u001b[0m\u001b[0;34m)\u001b[0m\u001b[0;34m,\u001b[0m \u001b[0;32mNone\u001b[0m\u001b[0;34m]\u001b[0m\u001b[0;34m\u001b[0m\u001b[0;34m\u001b[0m\u001b[0m\n\u001b[0m\u001b[1;32m   2914\u001b[0m   \u001b[0;32melse\u001b[0m\u001b[0;34m:\u001b[0m\u001b[0;34m\u001b[0m\u001b[0;34m\u001b[0m\u001b[0m\n\u001b[1;32m   2915\u001b[0m     \u001b[0;32mif\u001b[0m \u001b[0mtype\u001b[0m\u001b[0;34m(\u001b[0m\u001b[0mct\u001b[0m\u001b[0;34m)\u001b[0m \u001b[0;32mis\u001b[0m \u001b[0mad_util\u001b[0m\u001b[0;34m.\u001b[0m\u001b[0mZero\u001b[0m\u001b[0;34m:\u001b[0m\u001b[0;34m\u001b[0m\u001b[0;34m\u001b[0m\u001b[0m\n",
      "\u001b[0;32m~/opt/anaconda3/lib/python3.7/site-packages/jax/_src/lax/lax.py\u001b[0m in \u001b[0;36m_unbroadcast\u001b[0;34m(aval, x)\u001b[0m\n\u001b[1;32m   2423\u001b[0m     \u001b[0;32mraise\u001b[0m \u001b[0mTypeError\u001b[0m\u001b[0;34m(\u001b[0m\u001b[0;34m\"transpose with implicit broadcasting of unshaped values\"\u001b[0m\u001b[0;34m)\u001b[0m\u001b[0;34m\u001b[0m\u001b[0;34m\u001b[0m\u001b[0m\n\u001b[1;32m   2424\u001b[0m   \u001b[0mx_shape\u001b[0m \u001b[0;34m=\u001b[0m \u001b[0mnp\u001b[0m\u001b[0;34m.\u001b[0m\u001b[0mshape\u001b[0m\u001b[0;34m(\u001b[0m\u001b[0mx\u001b[0m\u001b[0;34m)\u001b[0m\u001b[0;34m\u001b[0m\u001b[0;34m\u001b[0m\u001b[0m\n\u001b[0;32m-> 2425\u001b[0;31m   \u001b[0;32mif\u001b[0m \u001b[0mcore\u001b[0m\u001b[0;34m.\u001b[0m\u001b[0msymbolic_equal_shape\u001b[0m\u001b[0;34m(\u001b[0m\u001b[0maval\u001b[0m\u001b[0;34m.\u001b[0m\u001b[0mshape\u001b[0m\u001b[0;34m,\u001b[0m \u001b[0mx_shape\u001b[0m\u001b[0;34m)\u001b[0m\u001b[0;34m:\u001b[0m\u001b[0;34m\u001b[0m\u001b[0;34m\u001b[0m\u001b[0m\n\u001b[0m\u001b[1;32m   2426\u001b[0m     \u001b[0;32mreturn\u001b[0m \u001b[0mx\u001b[0m\u001b[0;34m\u001b[0m\u001b[0;34m\u001b[0m\u001b[0m\n\u001b[1;32m   2427\u001b[0m   \u001b[0;32massert\u001b[0m \u001b[0;32mnot\u001b[0m \u001b[0maval\u001b[0m\u001b[0;34m.\u001b[0m\u001b[0mshape\u001b[0m \u001b[0;32mor\u001b[0m \u001b[0mlen\u001b[0m\u001b[0;34m(\u001b[0m\u001b[0mx_shape\u001b[0m\u001b[0;34m)\u001b[0m \u001b[0;34m==\u001b[0m \u001b[0mlen\u001b[0m\u001b[0;34m(\u001b[0m\u001b[0maval\u001b[0m\u001b[0;34m.\u001b[0m\u001b[0mshape\u001b[0m\u001b[0;34m)\u001b[0m\u001b[0;34m\u001b[0m\u001b[0;34m\u001b[0m\u001b[0m\n",
      "\u001b[0;32m~/opt/anaconda3/lib/python3.7/site-packages/jax/core.py\u001b[0m in \u001b[0;36msymbolic_equal_shape\u001b[0;34m(s1, s2)\u001b[0m\n\u001b[1;32m   1378\u001b[0m \u001b[0;32mdef\u001b[0m \u001b[0msymbolic_equal_shape\u001b[0m\u001b[0;34m(\u001b[0m\u001b[0ms1\u001b[0m\u001b[0;34m:\u001b[0m \u001b[0mShape\u001b[0m\u001b[0;34m,\u001b[0m \u001b[0ms2\u001b[0m\u001b[0;34m:\u001b[0m \u001b[0mShape\u001b[0m\u001b[0;34m)\u001b[0m \u001b[0;34m->\u001b[0m \u001b[0mbool\u001b[0m\u001b[0;34m:\u001b[0m\u001b[0;34m\u001b[0m\u001b[0;34m\u001b[0m\u001b[0m\n\u001b[1;32m   1379\u001b[0m   return (len(s1) == len(s2) and\n\u001b[0;32m-> 1380\u001b[0;31m           all(map(symbolic_equal_dim, s1, s2)))\n\u001b[0m\u001b[1;32m   1381\u001b[0m \u001b[0;34m\u001b[0m\u001b[0m\n\u001b[1;32m   1382\u001b[0m \u001b[0;32mdef\u001b[0m \u001b[0mgreater_equal_dim\u001b[0m\u001b[0;34m(\u001b[0m\u001b[0md1\u001b[0m\u001b[0;34m:\u001b[0m \u001b[0mDimSize\u001b[0m\u001b[0;34m,\u001b[0m \u001b[0md2\u001b[0m\u001b[0;34m:\u001b[0m \u001b[0mDimSize\u001b[0m\u001b[0;34m)\u001b[0m \u001b[0;34m->\u001b[0m \u001b[0mbool\u001b[0m\u001b[0;34m:\u001b[0m\u001b[0;34m\u001b[0m\u001b[0;34m\u001b[0m\u001b[0m\n",
      "\u001b[0;31mKeyboardInterrupt\u001b[0m: "
     ]
    }
   ],
   "source": [
    "n_params = int(pca_dim*(pca_dim-1)/2)\n",
    "basis_tensor_inf = get_basis_tensor(pca_dim)\n",
    "\n",
    "params = np.random.normal(size=(n_params))# + np.eye(dim)\n",
    "res = op.minimize(predict_all,\n",
    "           params,\n",
    "           (pca_activity,pca_dim,basis_tensor_inf),\n",
    "           jac=grad_wrapper,\n",
    "           method='BFGS'\n",
    "           )\n",
    "print(res.message)"
   ]
  },
  {
   "cell_type": "code",
   "execution_count": 19,
   "metadata": {},
   "outputs": [
    {
     "ename": "NameError",
     "evalue": "name 'res' is not defined",
     "output_type": "error",
     "traceback": [
      "\u001b[0;31m---------------------------------------------------------------------------\u001b[0m",
      "\u001b[0;31mNameError\u001b[0m                                 Traceback (most recent call last)",
      "\u001b[0;32m<ipython-input-19-e450f39ed4de>\u001b[0m in \u001b[0;36m<module>\u001b[0;34m\u001b[0m\n\u001b[0;32m----> 1\u001b[0;31m \u001b[0mprint\u001b[0m\u001b[0;34m(\u001b[0m\u001b[0mres\u001b[0m\u001b[0;34m.\u001b[0m\u001b[0mfun\u001b[0m\u001b[0;34m,\u001b[0m\u001b[0mres\u001b[0m\u001b[0;34m.\u001b[0m\u001b[0mmessage\u001b[0m\u001b[0;34m)\u001b[0m\u001b[0;34m\u001b[0m\u001b[0;34m\u001b[0m\u001b[0m\n\u001b[0m",
      "\u001b[0;31mNameError\u001b[0m: name 'res' is not defined"
     ]
    }
   ],
   "source": [
    "print(res.fun,res.message)"
   ]
  },
  {
   "cell_type": "code",
   "execution_count": 20,
   "metadata": {},
   "outputs": [
    {
     "ename": "NameError",
     "evalue": "name 'res' is not defined",
     "output_type": "error",
     "traceback": [
      "\u001b[0;31m---------------------------------------------------------------------------\u001b[0m",
      "\u001b[0;31mNameError\u001b[0m                                 Traceback (most recent call last)",
      "\u001b[0;32m<ipython-input-20-f59102cd3587>\u001b[0m in \u001b[0;36m<module>\u001b[0;34m\u001b[0m\n\u001b[0;32m----> 1\u001b[0;31m \u001b[0mout\u001b[0m \u001b[0;34m=\u001b[0m \u001b[0mres\u001b[0m\u001b[0;34m.\u001b[0m\u001b[0mx\u001b[0m\u001b[0;34m\u001b[0m\u001b[0;34m\u001b[0m\u001b[0m\n\u001b[0m\u001b[1;32m      2\u001b[0m \u001b[0;31m#out = np.random.normal(size=(n_params))# + np.eye(dim)\u001b[0m\u001b[0;34m\u001b[0m\u001b[0;34m\u001b[0m\u001b[0;34m\u001b[0m\u001b[0m\n\u001b[1;32m      3\u001b[0m \u001b[0;34m\u001b[0m\u001b[0m\n\u001b[1;32m      4\u001b[0m \u001b[0mskewM\u001b[0m \u001b[0;34m=\u001b[0m \u001b[0mnp\u001b[0m\u001b[0;34m.\u001b[0m\u001b[0meinsum\u001b[0m\u001b[0;34m(\u001b[0m\u001b[0;34m'i...,i...'\u001b[0m\u001b[0;34m,\u001b[0m\u001b[0mout\u001b[0m\u001b[0;34m,\u001b[0m\u001b[0mbasis_tensor_inf\u001b[0m\u001b[0;34m)\u001b[0m\u001b[0;34m\u001b[0m\u001b[0;34m\u001b[0m\u001b[0m\n\u001b[1;32m      5\u001b[0m \u001b[0mAinf\u001b[0m \u001b[0;34m=\u001b[0m \u001b[0mcaley_transform\u001b[0m\u001b[0;34m(\u001b[0m\u001b[0mskewM\u001b[0m\u001b[0;34m,\u001b[0m\u001b[0mpca_dim\u001b[0m\u001b[0;34m)\u001b[0m\u001b[0;34m\u001b[0m\u001b[0;34m\u001b[0m\u001b[0m\n",
      "\u001b[0;31mNameError\u001b[0m: name 'res' is not defined"
     ]
    }
   ],
   "source": [
    "out = res.x\n",
    "#out = np.random.normal(size=(n_params))# + np.eye(dim)\n",
    "\n",
    "skewM = np.einsum('i...,i...',out,basis_tensor_inf)\n",
    "Ainf = caley_transform(skewM,pca_dim)"
   ]
  },
  {
   "cell_type": "code",
   "execution_count": 21,
   "metadata": {},
   "outputs": [
    {
     "ename": "NameError",
     "evalue": "name 'Ainf' is not defined",
     "output_type": "error",
     "traceback": [
      "\u001b[0;31m---------------------------------------------------------------------------\u001b[0m",
      "\u001b[0;31mNameError\u001b[0m                                 Traceback (most recent call last)",
      "\u001b[0;32m<ipython-input-21-0297baea89d9>\u001b[0m in \u001b[0;36m<module>\u001b[0;34m\u001b[0m\n\u001b[0;32m----> 1\u001b[0;31m \u001b[0mpredicted_neural_activity\u001b[0m \u001b[0;34m=\u001b[0m \u001b[0mpca\u001b[0m\u001b[0;34m.\u001b[0m\u001b[0minverse_transform\u001b[0m\u001b[0;34m(\u001b[0m\u001b[0;34m(\u001b[0m\u001b[0mAinf\u001b[0m\u001b[0;34m@\u001b[0m\u001b[0mpca_activity\u001b[0m\u001b[0;34m.\u001b[0m\u001b[0mT\u001b[0m\u001b[0;34m)\u001b[0m\u001b[0;34m.\u001b[0m\u001b[0mT\u001b[0m\u001b[0;34m)\u001b[0m\u001b[0;34m\u001b[0m\u001b[0;34m\u001b[0m\u001b[0m\n\u001b[0m",
      "\u001b[0;31mNameError\u001b[0m: name 'Ainf' is not defined"
     ]
    }
   ],
   "source": [
    "predicted_neural_activity = pca.inverse_transform((Ainf@pca_activity.T).T)"
   ]
  },
  {
   "cell_type": "code",
   "execution_count": 22,
   "metadata": {},
   "outputs": [
    {
     "ename": "NameError",
     "evalue": "name 'predicted_neural_activity' is not defined",
     "output_type": "error",
     "traceback": [
      "\u001b[0;31m---------------------------------------------------------------------------\u001b[0m",
      "\u001b[0;31mNameError\u001b[0m                                 Traceback (most recent call last)",
      "\u001b[0;32m<ipython-input-22-f2852ae0c4c5>\u001b[0m in \u001b[0;36m<module>\u001b[0;34m\u001b[0m\n\u001b[1;32m      1\u001b[0m \u001b[0mix_\u001b[0m \u001b[0;34m=\u001b[0m \u001b[0;36m17\u001b[0m\u001b[0;34m\u001b[0m\u001b[0;34m\u001b[0m\u001b[0m\n\u001b[0;32m----> 2\u001b[0;31m \u001b[0mplt\u001b[0m\u001b[0;34m.\u001b[0m\u001b[0mplot\u001b[0m\u001b[0;34m(\u001b[0m\u001b[0mpredicted_neural_activity\u001b[0m\u001b[0;34m[\u001b[0m\u001b[0;34m:\u001b[0m\u001b[0;34m,\u001b[0m\u001b[0mix_\u001b[0m\u001b[0;34m]\u001b[0m\u001b[0;34m)\u001b[0m\u001b[0;34m\u001b[0m\u001b[0;34m\u001b[0m\u001b[0m\n\u001b[0m\u001b[1;32m      3\u001b[0m \u001b[0mplt\u001b[0m\u001b[0;34m.\u001b[0m\u001b[0mplot\u001b[0m\u001b[0;34m(\u001b[0m\u001b[0mact_matrix\u001b[0m\u001b[0;34m[\u001b[0m\u001b[0;34m:\u001b[0m\u001b[0;34m,\u001b[0m\u001b[0mix_\u001b[0m\u001b[0;34m]\u001b[0m\u001b[0;34m[\u001b[0m\u001b[0;36m1\u001b[0m\u001b[0;34m:\u001b[0m\u001b[0;34m]\u001b[0m\u001b[0;34m)\u001b[0m\u001b[0;34m\u001b[0m\u001b[0;34m\u001b[0m\u001b[0m\n",
      "\u001b[0;31mNameError\u001b[0m: name 'predicted_neural_activity' is not defined"
     ]
    }
   ],
   "source": [
    "ix_ = 17\n",
    "plt.plot(predicted_neural_activity[:,ix_])\n",
    "plt.plot(act_matrix[:,ix_][1:])"
   ]
  },
  {
   "cell_type": "code",
   "execution_count": 23,
   "metadata": {},
   "outputs": [],
   "source": [
    "#seaborn.distplot(np.array(cc)[~np.isnan(cc)],kde=0)"
   ]
  },
  {
   "cell_type": "code",
   "execution_count": 24,
   "metadata": {},
   "outputs": [
    {
     "ename": "NameError",
     "evalue": "name 'predicted_neural_activity' is not defined",
     "output_type": "error",
     "traceback": [
      "\u001b[0;31m---------------------------------------------------------------------------\u001b[0m",
      "\u001b[0;31mNameError\u001b[0m                                 Traceback (most recent call last)",
      "\u001b[0;32m<ipython-input-24-8dac62afac58>\u001b[0m in \u001b[0;36m<module>\u001b[0;34m\u001b[0m\n\u001b[1;32m      2\u001b[0m \u001b[0mn_neurons\u001b[0m \u001b[0;34m=\u001b[0m \u001b[0mact_matrix\u001b[0m\u001b[0;34m.\u001b[0m\u001b[0mshape\u001b[0m\u001b[0;34m[\u001b[0m\u001b[0;36m1\u001b[0m\u001b[0;34m]\u001b[0m\u001b[0;34m\u001b[0m\u001b[0;34m\u001b[0m\u001b[0m\n\u001b[1;32m      3\u001b[0m \u001b[0;32mfor\u001b[0m \u001b[0mi\u001b[0m \u001b[0;32min\u001b[0m \u001b[0mrange\u001b[0m\u001b[0;34m(\u001b[0m\u001b[0mn_neurons\u001b[0m\u001b[0;34m)\u001b[0m\u001b[0;34m:\u001b[0m\u001b[0;34m\u001b[0m\u001b[0;34m\u001b[0m\u001b[0m\n\u001b[0;32m----> 4\u001b[0;31m     \u001b[0mcc\u001b[0m\u001b[0;34m.\u001b[0m\u001b[0mappend\u001b[0m\u001b[0;34m(\u001b[0m\u001b[0mnp\u001b[0m\u001b[0;34m.\u001b[0m\u001b[0mcorrcoef\u001b[0m\u001b[0;34m(\u001b[0m\u001b[0mact_matrix\u001b[0m\u001b[0;34m[\u001b[0m\u001b[0;34m:\u001b[0m\u001b[0;34m,\u001b[0m\u001b[0mi\u001b[0m\u001b[0;34m]\u001b[0m\u001b[0;34m[\u001b[0m\u001b[0;36m1\u001b[0m\u001b[0;34m:\u001b[0m\u001b[0;34m]\u001b[0m\u001b[0;34m,\u001b[0m\u001b[0mpredicted_neural_activity\u001b[0m\u001b[0;34m[\u001b[0m\u001b[0;34m:\u001b[0m\u001b[0;34m,\u001b[0m\u001b[0mi\u001b[0m\u001b[0;34m]\u001b[0m\u001b[0;34m[\u001b[0m\u001b[0;34m:\u001b[0m\u001b[0;34m-\u001b[0m\u001b[0;36m1\u001b[0m\u001b[0;34m]\u001b[0m\u001b[0;34m)\u001b[0m\u001b[0;34m[\u001b[0m\u001b[0;36m0\u001b[0m\u001b[0;34m,\u001b[0m\u001b[0;36m1\u001b[0m\u001b[0;34m]\u001b[0m\u001b[0;34m)\u001b[0m\u001b[0;34m\u001b[0m\u001b[0;34m\u001b[0m\u001b[0m\n\u001b[0m\u001b[1;32m      5\u001b[0m \u001b[0;34m\u001b[0m\u001b[0m\n\u001b[1;32m      6\u001b[0m \u001b[0mprint\u001b[0m\u001b[0;34m(\u001b[0m\u001b[0mnp\u001b[0m\u001b[0;34m.\u001b[0m\u001b[0mnanmean\u001b[0m\u001b[0;34m(\u001b[0m\u001b[0mcc\u001b[0m\u001b[0;34m)\u001b[0m\u001b[0;34m)\u001b[0m\u001b[0;34m\u001b[0m\u001b[0;34m\u001b[0m\u001b[0m\n",
      "\u001b[0;31mNameError\u001b[0m: name 'predicted_neural_activity' is not defined"
     ]
    }
   ],
   "source": [
    "cc = []\n",
    "n_neurons = act_matrix.shape[1]\n",
    "for i in range(n_neurons):\n",
    "    cc.append(np.corrcoef(act_matrix[:,i][1:],predicted_neural_activity[:,i][:-1])[0,1])\n",
    "    \n",
    "print(np.nanmean(cc))"
   ]
  },
  {
   "cell_type": "code",
   "execution_count": 25,
   "metadata": {},
   "outputs": [
    {
     "ename": "ValueError",
     "evalue": "attempt to get argmax of an empty sequence",
     "output_type": "error",
     "traceback": [
      "\u001b[0;31m---------------------------------------------------------------------------\u001b[0m",
      "\u001b[0;31mValueError\u001b[0m                                Traceback (most recent call last)",
      "\u001b[0;32m<ipython-input-25-31a519ebf72b>\u001b[0m in \u001b[0;36m<module>\u001b[0;34m\u001b[0m\n\u001b[0;32m----> 1\u001b[0;31m \u001b[0mnp\u001b[0m\u001b[0;34m.\u001b[0m\u001b[0mnanargmax\u001b[0m\u001b[0;34m(\u001b[0m\u001b[0mcc\u001b[0m\u001b[0;34m)\u001b[0m\u001b[0;34m\u001b[0m\u001b[0;34m\u001b[0m\u001b[0m\n\u001b[0m",
      "\u001b[0;32m<__array_function__ internals>\u001b[0m in \u001b[0;36mnanargmax\u001b[0;34m(*args, **kwargs)\u001b[0m\n",
      "\u001b[0;32m~/opt/anaconda3/lib/python3.7/site-packages/numpy/lib/nanfunctions.py\u001b[0m in \u001b[0;36mnanargmax\u001b[0;34m(a, axis)\u001b[0m\n\u001b[1;32m    543\u001b[0m     \"\"\"\n\u001b[1;32m    544\u001b[0m     \u001b[0ma\u001b[0m\u001b[0;34m,\u001b[0m \u001b[0mmask\u001b[0m \u001b[0;34m=\u001b[0m \u001b[0m_replace_nan\u001b[0m\u001b[0;34m(\u001b[0m\u001b[0ma\u001b[0m\u001b[0;34m,\u001b[0m \u001b[0;34m-\u001b[0m\u001b[0mnp\u001b[0m\u001b[0;34m.\u001b[0m\u001b[0minf\u001b[0m\u001b[0;34m)\u001b[0m\u001b[0;34m\u001b[0m\u001b[0;34m\u001b[0m\u001b[0m\n\u001b[0;32m--> 545\u001b[0;31m     \u001b[0mres\u001b[0m \u001b[0;34m=\u001b[0m \u001b[0mnp\u001b[0m\u001b[0;34m.\u001b[0m\u001b[0margmax\u001b[0m\u001b[0;34m(\u001b[0m\u001b[0ma\u001b[0m\u001b[0;34m,\u001b[0m \u001b[0maxis\u001b[0m\u001b[0;34m=\u001b[0m\u001b[0maxis\u001b[0m\u001b[0;34m)\u001b[0m\u001b[0;34m\u001b[0m\u001b[0;34m\u001b[0m\u001b[0m\n\u001b[0m\u001b[1;32m    546\u001b[0m     \u001b[0;32mif\u001b[0m \u001b[0mmask\u001b[0m \u001b[0;32mis\u001b[0m \u001b[0;32mnot\u001b[0m \u001b[0;32mNone\u001b[0m\u001b[0;34m:\u001b[0m\u001b[0;34m\u001b[0m\u001b[0;34m\u001b[0m\u001b[0m\n\u001b[1;32m    547\u001b[0m         \u001b[0mmask\u001b[0m \u001b[0;34m=\u001b[0m \u001b[0mnp\u001b[0m\u001b[0;34m.\u001b[0m\u001b[0mall\u001b[0m\u001b[0;34m(\u001b[0m\u001b[0mmask\u001b[0m\u001b[0;34m,\u001b[0m \u001b[0maxis\u001b[0m\u001b[0;34m=\u001b[0m\u001b[0maxis\u001b[0m\u001b[0;34m)\u001b[0m\u001b[0;34m\u001b[0m\u001b[0;34m\u001b[0m\u001b[0m\n",
      "\u001b[0;32m<__array_function__ internals>\u001b[0m in \u001b[0;36margmax\u001b[0;34m(*args, **kwargs)\u001b[0m\n",
      "\u001b[0;32m~/opt/anaconda3/lib/python3.7/site-packages/numpy/core/fromnumeric.py\u001b[0m in \u001b[0;36margmax\u001b[0;34m(a, axis, out)\u001b[0m\n\u001b[1;32m   1186\u001b[0m \u001b[0;34m\u001b[0m\u001b[0m\n\u001b[1;32m   1187\u001b[0m     \"\"\"\n\u001b[0;32m-> 1188\u001b[0;31m     \u001b[0;32mreturn\u001b[0m \u001b[0m_wrapfunc\u001b[0m\u001b[0;34m(\u001b[0m\u001b[0ma\u001b[0m\u001b[0;34m,\u001b[0m \u001b[0;34m'argmax'\u001b[0m\u001b[0;34m,\u001b[0m \u001b[0maxis\u001b[0m\u001b[0;34m=\u001b[0m\u001b[0maxis\u001b[0m\u001b[0;34m,\u001b[0m \u001b[0mout\u001b[0m\u001b[0;34m=\u001b[0m\u001b[0mout\u001b[0m\u001b[0;34m)\u001b[0m\u001b[0;34m\u001b[0m\u001b[0;34m\u001b[0m\u001b[0m\n\u001b[0m\u001b[1;32m   1189\u001b[0m \u001b[0;34m\u001b[0m\u001b[0m\n\u001b[1;32m   1190\u001b[0m \u001b[0;34m\u001b[0m\u001b[0m\n",
      "\u001b[0;32m~/opt/anaconda3/lib/python3.7/site-packages/numpy/core/fromnumeric.py\u001b[0m in \u001b[0;36m_wrapfunc\u001b[0;34m(obj, method, *args, **kwds)\u001b[0m\n\u001b[1;32m     56\u001b[0m \u001b[0;34m\u001b[0m\u001b[0m\n\u001b[1;32m     57\u001b[0m     \u001b[0;32mtry\u001b[0m\u001b[0;34m:\u001b[0m\u001b[0;34m\u001b[0m\u001b[0;34m\u001b[0m\u001b[0m\n\u001b[0;32m---> 58\u001b[0;31m         \u001b[0;32mreturn\u001b[0m \u001b[0mbound\u001b[0m\u001b[0;34m(\u001b[0m\u001b[0;34m*\u001b[0m\u001b[0margs\u001b[0m\u001b[0;34m,\u001b[0m \u001b[0;34m**\u001b[0m\u001b[0mkwds\u001b[0m\u001b[0;34m)\u001b[0m\u001b[0;34m\u001b[0m\u001b[0;34m\u001b[0m\u001b[0m\n\u001b[0m\u001b[1;32m     59\u001b[0m     \u001b[0;32mexcept\u001b[0m \u001b[0mTypeError\u001b[0m\u001b[0;34m:\u001b[0m\u001b[0;34m\u001b[0m\u001b[0;34m\u001b[0m\u001b[0m\n\u001b[1;32m     60\u001b[0m         \u001b[0;31m# A TypeError occurs if the object does have such a method in its\u001b[0m\u001b[0;34m\u001b[0m\u001b[0;34m\u001b[0m\u001b[0;34m\u001b[0m\u001b[0m\n",
      "\u001b[0;31mValueError\u001b[0m: attempt to get argmax of an empty sequence"
     ]
    }
   ],
   "source": [
    "np.nanargmax(cc)"
   ]
  },
  {
   "cell_type": "code",
   "execution_count": 26,
   "metadata": {},
   "outputs": [
    {
     "data": {
      "text/plain": [
       "array([-0.30954129,  0.33540672,  0.19027841, -0.69133282,  0.08294085,\n",
       "        0.50931452,  1.54697806,  2.09884256,  1.64959749])"
      ]
     },
     "execution_count": 26,
     "metadata": {},
     "output_type": "execute_result"
    }
   ],
   "source": [
    "act_matrix[:,17]"
   ]
  },
  {
   "cell_type": "code",
   "execution_count": null,
   "metadata": {},
   "outputs": [],
   "source": []
  },
  {
   "cell_type": "markdown",
   "metadata": {},
   "source": [
    "## Now try other direction\n"
   ]
  },
  {
   "cell_type": "code",
   "execution_count": 27,
   "metadata": {},
   "outputs": [
    {
     "ename": "NameError",
     "evalue": "name 'Ainf' is not defined",
     "output_type": "error",
     "traceback": [
      "\u001b[0;31m---------------------------------------------------------------------------\u001b[0m",
      "\u001b[0;31mNameError\u001b[0m                                 Traceback (most recent call last)",
      "\u001b[0;32m<ipython-input-27-1a5ce1ab0bfb>\u001b[0m in \u001b[0;36m<module>\u001b[0;34m\u001b[0m\n\u001b[0;32m----> 1\u001b[0;31m \u001b[0mpredicted_neural_activity\u001b[0m \u001b[0;34m=\u001b[0m \u001b[0mpca\u001b[0m\u001b[0;34m.\u001b[0m\u001b[0minverse_transform\u001b[0m\u001b[0;34m(\u001b[0m\u001b[0;34m(\u001b[0m\u001b[0mAinf\u001b[0m\u001b[0;34m@\u001b[0m\u001b[0mpca_activity2\u001b[0m\u001b[0;34m.\u001b[0m\u001b[0mT\u001b[0m\u001b[0;34m)\u001b[0m\u001b[0;34m.\u001b[0m\u001b[0mT\u001b[0m\u001b[0;34m)\u001b[0m\u001b[0;34m\u001b[0m\u001b[0;34m\u001b[0m\u001b[0m\n\u001b[0m",
      "\u001b[0;31mNameError\u001b[0m: name 'Ainf' is not defined"
     ]
    }
   ],
   "source": [
    "predicted_neural_activity = pca.inverse_transform((Ainf@pca_activity2.T).T)"
   ]
  },
  {
   "cell_type": "code",
   "execution_count": 28,
   "metadata": {},
   "outputs": [
    {
     "ename": "NameError",
     "evalue": "name 'predicted_neural_activity' is not defined",
     "output_type": "error",
     "traceback": [
      "\u001b[0;31m---------------------------------------------------------------------------\u001b[0m",
      "\u001b[0;31mNameError\u001b[0m                                 Traceback (most recent call last)",
      "\u001b[0;32m<ipython-input-28-cdf06a5a805b>\u001b[0m in \u001b[0;36m<module>\u001b[0;34m\u001b[0m\n\u001b[1;32m      1\u001b[0m \u001b[0mix_\u001b[0m \u001b[0;34m=\u001b[0m \u001b[0;36m0\u001b[0m\u001b[0;34m\u001b[0m\u001b[0;34m\u001b[0m\u001b[0m\n\u001b[0;32m----> 2\u001b[0;31m \u001b[0mplt\u001b[0m\u001b[0;34m.\u001b[0m\u001b[0mplot\u001b[0m\u001b[0;34m(\u001b[0m\u001b[0mpredicted_neural_activity\u001b[0m\u001b[0;34m[\u001b[0m\u001b[0;34m:\u001b[0m\u001b[0;34m,\u001b[0m\u001b[0mix_\u001b[0m\u001b[0;34m]\u001b[0m\u001b[0;34m[\u001b[0m\u001b[0;34m:\u001b[0m\u001b[0;34m-\u001b[0m\u001b[0;36m1\u001b[0m\u001b[0;34m]\u001b[0m\u001b[0;34m)\u001b[0m\u001b[0;34m\u001b[0m\u001b[0;34m\u001b[0m\u001b[0m\n\u001b[0m\u001b[1;32m      3\u001b[0m \u001b[0mplt\u001b[0m\u001b[0;34m.\u001b[0m\u001b[0mplot\u001b[0m\u001b[0;34m(\u001b[0m\u001b[0mact_matrix2\u001b[0m\u001b[0;34m[\u001b[0m\u001b[0;34m:\u001b[0m\u001b[0;34m,\u001b[0m\u001b[0mix_\u001b[0m\u001b[0;34m]\u001b[0m\u001b[0;34m[\u001b[0m\u001b[0;36m1\u001b[0m\u001b[0;34m:\u001b[0m\u001b[0;34m]\u001b[0m\u001b[0;34m)\u001b[0m\u001b[0;34m\u001b[0m\u001b[0;34m\u001b[0m\u001b[0m\n",
      "\u001b[0;31mNameError\u001b[0m: name 'predicted_neural_activity' is not defined"
     ]
    }
   ],
   "source": [
    "ix_ = 0\n",
    "plt.plot(predicted_neural_activity[:,ix_][:-1])\n",
    "plt.plot(act_matrix2[:,ix_][1:])"
   ]
  },
  {
   "cell_type": "code",
   "execution_count": 29,
   "metadata": {},
   "outputs": [
    {
     "name": "stdout",
     "output_type": "stream",
     "text": [
      "[-0.24253563 -0.24253563 -0.24253563 -0.24253563 -0.24253563 -0.24253563\n",
      " -0.24253563  4.12310563 -0.24253563]\n"
     ]
    },
    {
     "ename": "NameError",
     "evalue": "name 'predicted_neural_activity' is not defined",
     "output_type": "error",
     "traceback": [
      "\u001b[0;31m---------------------------------------------------------------------------\u001b[0m",
      "\u001b[0;31mNameError\u001b[0m                                 Traceback (most recent call last)",
      "\u001b[0;32m<ipython-input-29-aa4a42190432>\u001b[0m in \u001b[0;36m<module>\u001b[0;34m\u001b[0m\n\u001b[1;32m      2\u001b[0m \u001b[0mprint\u001b[0m\u001b[0;34m(\u001b[0m\u001b[0mact_matrix2\u001b[0m\u001b[0;34m[\u001b[0m\u001b[0;34m:\u001b[0m\u001b[0;34m,\u001b[0m\u001b[0;36m0\u001b[0m\u001b[0;34m]\u001b[0m\u001b[0;34m)\u001b[0m\u001b[0;34m\u001b[0m\u001b[0;34m\u001b[0m\u001b[0m\n\u001b[1;32m      3\u001b[0m \u001b[0;32mfor\u001b[0m \u001b[0mi\u001b[0m \u001b[0;32min\u001b[0m \u001b[0mrange\u001b[0m\u001b[0;34m(\u001b[0m\u001b[0mn_neurons\u001b[0m\u001b[0;34m)\u001b[0m\u001b[0;34m:\u001b[0m\u001b[0;34m\u001b[0m\u001b[0;34m\u001b[0m\u001b[0m\n\u001b[0;32m----> 4\u001b[0;31m     \u001b[0mtrue_cc\u001b[0m\u001b[0;34m.\u001b[0m\u001b[0mappend\u001b[0m\u001b[0;34m(\u001b[0m\u001b[0mnp\u001b[0m\u001b[0;34m.\u001b[0m\u001b[0mcorrcoef\u001b[0m\u001b[0;34m(\u001b[0m\u001b[0mact_matrix2\u001b[0m\u001b[0;34m[\u001b[0m\u001b[0;34m:\u001b[0m\u001b[0;34m,\u001b[0m\u001b[0mi\u001b[0m\u001b[0;34m]\u001b[0m\u001b[0;34m[\u001b[0m\u001b[0;36m1\u001b[0m\u001b[0;34m:\u001b[0m\u001b[0;34m]\u001b[0m\u001b[0;34m,\u001b[0m\u001b[0mpredicted_neural_activity\u001b[0m\u001b[0;34m[\u001b[0m\u001b[0;34m:\u001b[0m\u001b[0;34m,\u001b[0m\u001b[0mi\u001b[0m\u001b[0;34m]\u001b[0m\u001b[0;34m[\u001b[0m\u001b[0;34m:\u001b[0m\u001b[0;34m-\u001b[0m\u001b[0;36m1\u001b[0m\u001b[0;34m]\u001b[0m\u001b[0;34m)\u001b[0m\u001b[0;34m[\u001b[0m\u001b[0;36m0\u001b[0m\u001b[0;34m,\u001b[0m\u001b[0;36m1\u001b[0m\u001b[0;34m]\u001b[0m\u001b[0;34m)\u001b[0m\u001b[0;34m\u001b[0m\u001b[0;34m\u001b[0m\u001b[0m\n\u001b[0m\u001b[1;32m      5\u001b[0m \u001b[0;34m\u001b[0m\u001b[0m\n\u001b[1;32m      6\u001b[0m \u001b[0mtrue_cc\u001b[0m \u001b[0;34m=\u001b[0m \u001b[0mnp\u001b[0m\u001b[0;34m.\u001b[0m\u001b[0mnanmean\u001b[0m\u001b[0;34m(\u001b[0m\u001b[0mtrue_cc\u001b[0m\u001b[0;34m)\u001b[0m\u001b[0;34m\u001b[0m\u001b[0;34m\u001b[0m\u001b[0m\n",
      "\u001b[0;31mNameError\u001b[0m: name 'predicted_neural_activity' is not defined"
     ]
    }
   ],
   "source": [
    "true_cc = []\n",
    "print(act_matrix2[:,0])\n",
    "for i in range(n_neurons):\n",
    "    true_cc.append(np.corrcoef(act_matrix2[:,i][1:],predicted_neural_activity[:,i][:-1])[0,1])\n",
    "    \n",
    "true_cc = np.nanmean(true_cc)\n",
    "print(true_cc)"
   ]
  },
  {
   "cell_type": "code",
   "execution_count": 30,
   "metadata": {},
   "outputs": [
    {
     "ename": "SyntaxError",
     "evalue": "invalid syntax (<ipython-input-30-a745e2a64958>, line 1)",
     "output_type": "error",
     "traceback": [
      "\u001b[0;36m  File \u001b[0;32m\"<ipython-input-30-a745e2a64958>\"\u001b[0;36m, line \u001b[0;32m1\u001b[0m\n\u001b[0;31m    [-0.36952234 -0.78147718 -0.08939304  0.36349151  0.29372497 -0.42719602\u001b[0m\n\u001b[0m                                                   ^\u001b[0m\n\u001b[0;31mSyntaxError\u001b[0m\u001b[0;31m:\u001b[0m invalid syntax\n"
     ]
    }
   ],
   "source": [
    "[-0.36952234 -0.78147718 -0.08939304  0.36349151  0.29372497 -0.42719602\n",
    " -1.20991022 -1.23987058 -0.76170335]\n"
   ]
  },
  {
   "cell_type": "code",
   "execution_count": 31,
   "metadata": {},
   "outputs": [
    {
     "ename": "NameError",
     "evalue": "name 'predicted_neural_activity' is not defined",
     "output_type": "error",
     "traceback": [
      "\u001b[0;31m---------------------------------------------------------------------------\u001b[0m",
      "\u001b[0;31mNameError\u001b[0m                                 Traceback (most recent call last)",
      "\u001b[0;32m<ipython-input-31-1f17716d4623>\u001b[0m in \u001b[0;36m<module>\u001b[0;34m\u001b[0m\n\u001b[1;32m      4\u001b[0m     \u001b[0mnew_order\u001b[0m \u001b[0;34m=\u001b[0m \u001b[0mnp\u001b[0m\u001b[0;34m.\u001b[0m\u001b[0mrandom\u001b[0m\u001b[0;34m.\u001b[0m\u001b[0mpermutation\u001b[0m\u001b[0;34m(\u001b[0m\u001b[0mnp\u001b[0m\u001b[0;34m.\u001b[0m\u001b[0marange\u001b[0m\u001b[0;34m(\u001b[0m\u001b[0;36m9\u001b[0m\u001b[0;34m)\u001b[0m\u001b[0;34m)\u001b[0m\u001b[0;34m\u001b[0m\u001b[0;34m\u001b[0m\u001b[0m\n\u001b[1;32m      5\u001b[0m     \u001b[0;32mfor\u001b[0m \u001b[0mi\u001b[0m \u001b[0;32min\u001b[0m \u001b[0mrange\u001b[0m\u001b[0;34m(\u001b[0m\u001b[0mn_neurons\u001b[0m\u001b[0;34m)\u001b[0m\u001b[0;34m:\u001b[0m\u001b[0;34m\u001b[0m\u001b[0;34m\u001b[0m\u001b[0m\n\u001b[0;32m----> 6\u001b[0;31m         \u001b[0mcc\u001b[0m\u001b[0;34m.\u001b[0m\u001b[0mappend\u001b[0m\u001b[0;34m(\u001b[0m\u001b[0mnp\u001b[0m\u001b[0;34m.\u001b[0m\u001b[0mcorrcoef\u001b[0m\u001b[0;34m(\u001b[0m\u001b[0mact_matrix2\u001b[0m\u001b[0;34m[\u001b[0m\u001b[0;34m:\u001b[0m\u001b[0;34m,\u001b[0m\u001b[0mi\u001b[0m\u001b[0;34m]\u001b[0m\u001b[0;34m[\u001b[0m\u001b[0mnew_order\u001b[0m\u001b[0;34m]\u001b[0m\u001b[0;34m[\u001b[0m\u001b[0;36m1\u001b[0m\u001b[0;34m:\u001b[0m\u001b[0;34m]\u001b[0m\u001b[0;34m,\u001b[0m\u001b[0mpredicted_neural_activity\u001b[0m\u001b[0;34m[\u001b[0m\u001b[0;34m:\u001b[0m\u001b[0;34m,\u001b[0m\u001b[0mi\u001b[0m\u001b[0;34m]\u001b[0m\u001b[0;34m[\u001b[0m\u001b[0;34m:\u001b[0m\u001b[0;34m-\u001b[0m\u001b[0;36m1\u001b[0m\u001b[0;34m]\u001b[0m\u001b[0;34m)\u001b[0m\u001b[0;34m[\u001b[0m\u001b[0;36m0\u001b[0m\u001b[0;34m,\u001b[0m\u001b[0;36m1\u001b[0m\u001b[0;34m]\u001b[0m\u001b[0;34m)\u001b[0m\u001b[0;34m\u001b[0m\u001b[0;34m\u001b[0m\u001b[0m\n\u001b[0m\u001b[1;32m      7\u001b[0m     \u001b[0mall_cc\u001b[0m\u001b[0;34m.\u001b[0m\u001b[0mappend\u001b[0m\u001b[0;34m(\u001b[0m\u001b[0mnp\u001b[0m\u001b[0;34m.\u001b[0m\u001b[0mnanmean\u001b[0m\u001b[0;34m(\u001b[0m\u001b[0mcc\u001b[0m\u001b[0;34m)\u001b[0m\u001b[0;34m)\u001b[0m\u001b[0;34m\u001b[0m\u001b[0;34m\u001b[0m\u001b[0m\n\u001b[1;32m      8\u001b[0m \u001b[0;31m#print(np.nanmean(cc))\u001b[0m\u001b[0;34m\u001b[0m\u001b[0;34m\u001b[0m\u001b[0;34m\u001b[0m\u001b[0m\n",
      "\u001b[0;31mNameError\u001b[0m: name 'predicted_neural_activity' is not defined"
     ]
    }
   ],
   "source": [
    "all_cc = []\n",
    "for _ in range(200):\n",
    "    cc = []\n",
    "    new_order = np.random.permutation(np.arange(9))\n",
    "    for i in range(n_neurons):\n",
    "        cc.append(np.corrcoef(act_matrix2[:,i][new_order][1:],predicted_neural_activity[:,i][:-1])[0,1])\n",
    "    all_cc.append(np.nanmean(cc))\n",
    "#print(np.nanmean(cc))"
   ]
  },
  {
   "cell_type": "code",
   "execution_count": 32,
   "metadata": {},
   "outputs": [
    {
     "data": {
      "text/plain": [
       "(9, 205)"
      ]
     },
     "execution_count": 32,
     "metadata": {},
     "output_type": "execute_result"
    }
   ],
   "source": [
    "act_matrix.shape"
   ]
  },
  {
   "cell_type": "code",
   "execution_count": 33,
   "metadata": {},
   "outputs": [
    {
     "ename": "NameError",
     "evalue": "name 'predicted_neural_activity' is not defined",
     "output_type": "error",
     "traceback": [
      "\u001b[0;31m---------------------------------------------------------------------------\u001b[0m",
      "\u001b[0;31mNameError\u001b[0m                                 Traceback (most recent call last)",
      "\u001b[0;32m<ipython-input-33-94415c29cbbd>\u001b[0m in \u001b[0;36m<module>\u001b[0;34m\u001b[0m\n\u001b[0;32m----> 1\u001b[0;31m \u001b[0mpredicted_neural_activity\u001b[0m\u001b[0;34m.\u001b[0m\u001b[0mshape\u001b[0m\u001b[0;34m\u001b[0m\u001b[0;34m\u001b[0m\u001b[0m\n\u001b[0m",
      "\u001b[0;31mNameError\u001b[0m: name 'predicted_neural_activity' is not defined"
     ]
    }
   ],
   "source": [
    "predicted_neural_activity.shape"
   ]
  },
  {
   "cell_type": "code",
   "execution_count": 34,
   "metadata": {},
   "outputs": [
    {
     "name": "stderr",
     "output_type": "stream",
     "text": [
      "/Users/yves/opt/anaconda3/lib/python3.7/site-packages/seaborn/distributions.py:198: RuntimeWarning: Mean of empty slice.\n",
      "  line, = ax.plot(a.mean(), 0)\n",
      "/Users/yves/opt/anaconda3/lib/python3.7/site-packages/numpy/core/_methods.py:170: RuntimeWarning: invalid value encountered in double_scalars\n",
      "  ret = ret.dtype.type(ret / rcount)\n"
     ]
    },
    {
     "ename": "ValueError",
     "evalue": "shape mismatch: objects cannot be broadcast to a single shape",
     "output_type": "error",
     "traceback": [
      "\u001b[0;31m---------------------------------------------------------------------------\u001b[0m",
      "\u001b[0;31mValueError\u001b[0m                                Traceback (most recent call last)",
      "\u001b[0;32m<ipython-input-34-f6363af2b8c7>\u001b[0m in \u001b[0;36m<module>\u001b[0;34m\u001b[0m\n\u001b[1;32m      1\u001b[0m \u001b[0mseaborn\u001b[0m\u001b[0;34m.\u001b[0m\u001b[0mdistplot\u001b[0m\u001b[0;34m(\u001b[0m\u001b[0mall_cc\u001b[0m\u001b[0;34m,\u001b[0m\u001b[0mkde\u001b[0m\u001b[0;34m=\u001b[0m\u001b[0;36m0\u001b[0m\u001b[0;34m)\u001b[0m\u001b[0;34m\u001b[0m\u001b[0;34m\u001b[0m\u001b[0m\n\u001b[0;32m----> 2\u001b[0;31m \u001b[0mplt\u001b[0m\u001b[0;34m.\u001b[0m\u001b[0maxvline\u001b[0m\u001b[0;34m(\u001b[0m\u001b[0mx\u001b[0m\u001b[0;34m=\u001b[0m\u001b[0mtrue_cc\u001b[0m\u001b[0;34m)\u001b[0m\u001b[0;34m\u001b[0m\u001b[0;34m\u001b[0m\u001b[0m\n\u001b[0m",
      "\u001b[0;32m~/opt/anaconda3/lib/python3.7/site-packages/matplotlib/pyplot.py\u001b[0m in \u001b[0;36maxvline\u001b[0;34m(x, ymin, ymax, **kwargs)\u001b[0m\n\u001b[1;32m   2422\u001b[0m \u001b[0;34m@\u001b[0m\u001b[0mdocstring\u001b[0m\u001b[0;34m.\u001b[0m\u001b[0mcopy\u001b[0m\u001b[0;34m(\u001b[0m\u001b[0mAxes\u001b[0m\u001b[0;34m.\u001b[0m\u001b[0maxvline\u001b[0m\u001b[0;34m)\u001b[0m\u001b[0;34m\u001b[0m\u001b[0;34m\u001b[0m\u001b[0m\n\u001b[1;32m   2423\u001b[0m \u001b[0;32mdef\u001b[0m \u001b[0maxvline\u001b[0m\u001b[0;34m(\u001b[0m\u001b[0mx\u001b[0m\u001b[0;34m=\u001b[0m\u001b[0;36m0\u001b[0m\u001b[0;34m,\u001b[0m \u001b[0mymin\u001b[0m\u001b[0;34m=\u001b[0m\u001b[0;36m0\u001b[0m\u001b[0;34m,\u001b[0m \u001b[0mymax\u001b[0m\u001b[0;34m=\u001b[0m\u001b[0;36m1\u001b[0m\u001b[0;34m,\u001b[0m \u001b[0;34m**\u001b[0m\u001b[0mkwargs\u001b[0m\u001b[0;34m)\u001b[0m\u001b[0;34m:\u001b[0m\u001b[0;34m\u001b[0m\u001b[0;34m\u001b[0m\u001b[0m\n\u001b[0;32m-> 2424\u001b[0;31m     \u001b[0;32mreturn\u001b[0m \u001b[0mgca\u001b[0m\u001b[0;34m(\u001b[0m\u001b[0;34m)\u001b[0m\u001b[0;34m.\u001b[0m\u001b[0maxvline\u001b[0m\u001b[0;34m(\u001b[0m\u001b[0mx\u001b[0m\u001b[0;34m=\u001b[0m\u001b[0mx\u001b[0m\u001b[0;34m,\u001b[0m \u001b[0mymin\u001b[0m\u001b[0;34m=\u001b[0m\u001b[0mymin\u001b[0m\u001b[0;34m,\u001b[0m \u001b[0mymax\u001b[0m\u001b[0;34m=\u001b[0m\u001b[0mymax\u001b[0m\u001b[0;34m,\u001b[0m \u001b[0;34m**\u001b[0m\u001b[0mkwargs\u001b[0m\u001b[0;34m)\u001b[0m\u001b[0;34m\u001b[0m\u001b[0;34m\u001b[0m\u001b[0m\n\u001b[0m\u001b[1;32m   2425\u001b[0m \u001b[0;34m\u001b[0m\u001b[0m\n\u001b[1;32m   2426\u001b[0m \u001b[0;34m\u001b[0m\u001b[0m\n",
      "\u001b[0;32m~/opt/anaconda3/lib/python3.7/site-packages/matplotlib/axes/_axes.py\u001b[0m in \u001b[0;36maxvline\u001b[0;34m(self, x, ymin, ymax, **kwargs)\u001b[0m\n\u001b[1;32m    933\u001b[0m         \u001b[0mtrans\u001b[0m \u001b[0;34m=\u001b[0m \u001b[0mself\u001b[0m\u001b[0;34m.\u001b[0m\u001b[0mget_xaxis_transform\u001b[0m\u001b[0;34m(\u001b[0m\u001b[0mwhich\u001b[0m\u001b[0;34m=\u001b[0m\u001b[0;34m'grid'\u001b[0m\u001b[0;34m)\u001b[0m\u001b[0;34m\u001b[0m\u001b[0;34m\u001b[0m\u001b[0m\n\u001b[1;32m    934\u001b[0m         \u001b[0ml\u001b[0m \u001b[0;34m=\u001b[0m \u001b[0mmlines\u001b[0m\u001b[0;34m.\u001b[0m\u001b[0mLine2D\u001b[0m\u001b[0;34m(\u001b[0m\u001b[0;34m[\u001b[0m\u001b[0mx\u001b[0m\u001b[0;34m,\u001b[0m \u001b[0mx\u001b[0m\u001b[0;34m]\u001b[0m\u001b[0;34m,\u001b[0m \u001b[0;34m[\u001b[0m\u001b[0mymin\u001b[0m\u001b[0;34m,\u001b[0m \u001b[0mymax\u001b[0m\u001b[0;34m]\u001b[0m\u001b[0;34m,\u001b[0m \u001b[0mtransform\u001b[0m\u001b[0;34m=\u001b[0m\u001b[0mtrans\u001b[0m\u001b[0;34m,\u001b[0m \u001b[0;34m**\u001b[0m\u001b[0mkwargs\u001b[0m\u001b[0;34m)\u001b[0m\u001b[0;34m\u001b[0m\u001b[0;34m\u001b[0m\u001b[0m\n\u001b[0;32m--> 935\u001b[0;31m         \u001b[0mself\u001b[0m\u001b[0;34m.\u001b[0m\u001b[0madd_line\u001b[0m\u001b[0;34m(\u001b[0m\u001b[0ml\u001b[0m\u001b[0;34m)\u001b[0m\u001b[0;34m\u001b[0m\u001b[0;34m\u001b[0m\u001b[0m\n\u001b[0m\u001b[1;32m    936\u001b[0m         \u001b[0mself\u001b[0m\u001b[0;34m.\u001b[0m\u001b[0mautoscale_view\u001b[0m\u001b[0;34m(\u001b[0m\u001b[0mscalex\u001b[0m\u001b[0;34m=\u001b[0m\u001b[0mscalex\u001b[0m\u001b[0;34m,\u001b[0m \u001b[0mscaley\u001b[0m\u001b[0;34m=\u001b[0m\u001b[0;32mFalse\u001b[0m\u001b[0;34m)\u001b[0m\u001b[0;34m\u001b[0m\u001b[0;34m\u001b[0m\u001b[0m\n\u001b[1;32m    937\u001b[0m         \u001b[0;32mreturn\u001b[0m \u001b[0ml\u001b[0m\u001b[0;34m\u001b[0m\u001b[0;34m\u001b[0m\u001b[0m\n",
      "\u001b[0;32m~/opt/anaconda3/lib/python3.7/site-packages/matplotlib/axes/_base.py\u001b[0m in \u001b[0;36madd_line\u001b[0;34m(self, line)\u001b[0m\n\u001b[1;32m   1900\u001b[0m             \u001b[0mline\u001b[0m\u001b[0;34m.\u001b[0m\u001b[0mset_clip_path\u001b[0m\u001b[0;34m(\u001b[0m\u001b[0mself\u001b[0m\u001b[0;34m.\u001b[0m\u001b[0mpatch\u001b[0m\u001b[0;34m)\u001b[0m\u001b[0;34m\u001b[0m\u001b[0;34m\u001b[0m\u001b[0m\n\u001b[1;32m   1901\u001b[0m \u001b[0;34m\u001b[0m\u001b[0m\n\u001b[0;32m-> 1902\u001b[0;31m         \u001b[0mself\u001b[0m\u001b[0;34m.\u001b[0m\u001b[0m_update_line_limits\u001b[0m\u001b[0;34m(\u001b[0m\u001b[0mline\u001b[0m\u001b[0;34m)\u001b[0m\u001b[0;34m\u001b[0m\u001b[0;34m\u001b[0m\u001b[0m\n\u001b[0m\u001b[1;32m   1903\u001b[0m         \u001b[0;32mif\u001b[0m \u001b[0;32mnot\u001b[0m \u001b[0mline\u001b[0m\u001b[0;34m.\u001b[0m\u001b[0mget_label\u001b[0m\u001b[0;34m(\u001b[0m\u001b[0;34m)\u001b[0m\u001b[0;34m:\u001b[0m\u001b[0;34m\u001b[0m\u001b[0;34m\u001b[0m\u001b[0m\n\u001b[1;32m   1904\u001b[0m             \u001b[0mline\u001b[0m\u001b[0;34m.\u001b[0m\u001b[0mset_label\u001b[0m\u001b[0;34m(\u001b[0m\u001b[0;34m'_line%d'\u001b[0m \u001b[0;34m%\u001b[0m \u001b[0mlen\u001b[0m\u001b[0;34m(\u001b[0m\u001b[0mself\u001b[0m\u001b[0;34m.\u001b[0m\u001b[0mlines\u001b[0m\u001b[0;34m)\u001b[0m\u001b[0;34m)\u001b[0m\u001b[0;34m\u001b[0m\u001b[0;34m\u001b[0m\u001b[0m\n",
      "\u001b[0;32m~/opt/anaconda3/lib/python3.7/site-packages/matplotlib/axes/_base.py\u001b[0m in \u001b[0;36m_update_line_limits\u001b[0;34m(self, line)\u001b[0m\n\u001b[1;32m   1922\u001b[0m         \u001b[0mFigures\u001b[0m \u001b[0mout\u001b[0m \u001b[0mthe\u001b[0m \u001b[0mdata\u001b[0m \u001b[0mlimit\u001b[0m \u001b[0mof\u001b[0m \u001b[0mthe\u001b[0m \u001b[0mgiven\u001b[0m \u001b[0mline\u001b[0m\u001b[0;34m,\u001b[0m \u001b[0mupdating\u001b[0m \u001b[0mself\u001b[0m\u001b[0;34m.\u001b[0m\u001b[0mdataLim\u001b[0m\u001b[0;34m.\u001b[0m\u001b[0;34m\u001b[0m\u001b[0;34m\u001b[0m\u001b[0m\n\u001b[1;32m   1923\u001b[0m         \"\"\"\n\u001b[0;32m-> 1924\u001b[0;31m         \u001b[0mpath\u001b[0m \u001b[0;34m=\u001b[0m \u001b[0mline\u001b[0m\u001b[0;34m.\u001b[0m\u001b[0mget_path\u001b[0m\u001b[0;34m(\u001b[0m\u001b[0;34m)\u001b[0m\u001b[0;34m\u001b[0m\u001b[0;34m\u001b[0m\u001b[0m\n\u001b[0m\u001b[1;32m   1925\u001b[0m         \u001b[0;32mif\u001b[0m \u001b[0mpath\u001b[0m\u001b[0;34m.\u001b[0m\u001b[0mvertices\u001b[0m\u001b[0;34m.\u001b[0m\u001b[0msize\u001b[0m \u001b[0;34m==\u001b[0m \u001b[0;36m0\u001b[0m\u001b[0;34m:\u001b[0m\u001b[0;34m\u001b[0m\u001b[0;34m\u001b[0m\u001b[0m\n\u001b[1;32m   1926\u001b[0m             \u001b[0;32mreturn\u001b[0m\u001b[0;34m\u001b[0m\u001b[0;34m\u001b[0m\u001b[0m\n",
      "\u001b[0;32m~/opt/anaconda3/lib/python3.7/site-packages/matplotlib/lines.py\u001b[0m in \u001b[0;36mget_path\u001b[0;34m(self)\u001b[0m\n\u001b[1;32m   1025\u001b[0m         \"\"\"\n\u001b[1;32m   1026\u001b[0m         \u001b[0;32mif\u001b[0m \u001b[0mself\u001b[0m\u001b[0;34m.\u001b[0m\u001b[0m_invalidy\u001b[0m \u001b[0;32mor\u001b[0m \u001b[0mself\u001b[0m\u001b[0;34m.\u001b[0m\u001b[0m_invalidx\u001b[0m\u001b[0;34m:\u001b[0m\u001b[0;34m\u001b[0m\u001b[0;34m\u001b[0m\u001b[0m\n\u001b[0;32m-> 1027\u001b[0;31m             \u001b[0mself\u001b[0m\u001b[0;34m.\u001b[0m\u001b[0mrecache\u001b[0m\u001b[0;34m(\u001b[0m\u001b[0;34m)\u001b[0m\u001b[0;34m\u001b[0m\u001b[0;34m\u001b[0m\u001b[0m\n\u001b[0m\u001b[1;32m   1028\u001b[0m         \u001b[0;32mreturn\u001b[0m \u001b[0mself\u001b[0m\u001b[0;34m.\u001b[0m\u001b[0m_path\u001b[0m\u001b[0;34m\u001b[0m\u001b[0;34m\u001b[0m\u001b[0m\n\u001b[1;32m   1029\u001b[0m \u001b[0;34m\u001b[0m\u001b[0m\n",
      "\u001b[0;32m~/opt/anaconda3/lib/python3.7/site-packages/matplotlib/lines.py\u001b[0m in \u001b[0;36mrecache\u001b[0;34m(self, always)\u001b[0m\n\u001b[1;32m    677\u001b[0m             \u001b[0my\u001b[0m \u001b[0;34m=\u001b[0m \u001b[0mself\u001b[0m\u001b[0;34m.\u001b[0m\u001b[0m_y\u001b[0m\u001b[0;34m\u001b[0m\u001b[0;34m\u001b[0m\u001b[0m\n\u001b[1;32m    678\u001b[0m \u001b[0;34m\u001b[0m\u001b[0m\n\u001b[0;32m--> 679\u001b[0;31m         \u001b[0mself\u001b[0m\u001b[0;34m.\u001b[0m\u001b[0m_xy\u001b[0m \u001b[0;34m=\u001b[0m \u001b[0mnp\u001b[0m\u001b[0;34m.\u001b[0m\u001b[0mcolumn_stack\u001b[0m\u001b[0;34m(\u001b[0m\u001b[0mnp\u001b[0m\u001b[0;34m.\u001b[0m\u001b[0mbroadcast_arrays\u001b[0m\u001b[0;34m(\u001b[0m\u001b[0mx\u001b[0m\u001b[0;34m,\u001b[0m \u001b[0my\u001b[0m\u001b[0;34m)\u001b[0m\u001b[0;34m)\u001b[0m\u001b[0;34m.\u001b[0m\u001b[0mastype\u001b[0m\u001b[0;34m(\u001b[0m\u001b[0mfloat\u001b[0m\u001b[0;34m)\u001b[0m\u001b[0;34m\u001b[0m\u001b[0;34m\u001b[0m\u001b[0m\n\u001b[0m\u001b[1;32m    680\u001b[0m         \u001b[0mself\u001b[0m\u001b[0;34m.\u001b[0m\u001b[0m_x\u001b[0m\u001b[0;34m,\u001b[0m \u001b[0mself\u001b[0m\u001b[0;34m.\u001b[0m\u001b[0m_y\u001b[0m \u001b[0;34m=\u001b[0m \u001b[0mself\u001b[0m\u001b[0;34m.\u001b[0m\u001b[0m_xy\u001b[0m\u001b[0;34m.\u001b[0m\u001b[0mT\u001b[0m  \u001b[0;31m# views\u001b[0m\u001b[0;34m\u001b[0m\u001b[0;34m\u001b[0m\u001b[0m\n\u001b[1;32m    681\u001b[0m \u001b[0;34m\u001b[0m\u001b[0m\n",
      "\u001b[0;32m<__array_function__ internals>\u001b[0m in \u001b[0;36mbroadcast_arrays\u001b[0;34m(*args, **kwargs)\u001b[0m\n",
      "\u001b[0;32m~/opt/anaconda3/lib/python3.7/site-packages/numpy/lib/stride_tricks.py\u001b[0m in \u001b[0;36mbroadcast_arrays\u001b[0;34m(subok, *args)\u001b[0m\n\u001b[1;32m    256\u001b[0m     \u001b[0margs\u001b[0m \u001b[0;34m=\u001b[0m \u001b[0;34m[\u001b[0m\u001b[0mnp\u001b[0m\u001b[0;34m.\u001b[0m\u001b[0marray\u001b[0m\u001b[0;34m(\u001b[0m\u001b[0m_m\u001b[0m\u001b[0;34m,\u001b[0m \u001b[0mcopy\u001b[0m\u001b[0;34m=\u001b[0m\u001b[0;32mFalse\u001b[0m\u001b[0;34m,\u001b[0m \u001b[0msubok\u001b[0m\u001b[0;34m=\u001b[0m\u001b[0msubok\u001b[0m\u001b[0;34m)\u001b[0m \u001b[0;32mfor\u001b[0m \u001b[0m_m\u001b[0m \u001b[0;32min\u001b[0m \u001b[0margs\u001b[0m\u001b[0;34m]\u001b[0m\u001b[0;34m\u001b[0m\u001b[0;34m\u001b[0m\u001b[0m\n\u001b[1;32m    257\u001b[0m \u001b[0;34m\u001b[0m\u001b[0m\n\u001b[0;32m--> 258\u001b[0;31m     \u001b[0mshape\u001b[0m \u001b[0;34m=\u001b[0m \u001b[0m_broadcast_shape\u001b[0m\u001b[0;34m(\u001b[0m\u001b[0;34m*\u001b[0m\u001b[0margs\u001b[0m\u001b[0;34m)\u001b[0m\u001b[0;34m\u001b[0m\u001b[0;34m\u001b[0m\u001b[0m\n\u001b[0m\u001b[1;32m    259\u001b[0m \u001b[0;34m\u001b[0m\u001b[0m\n\u001b[1;32m    260\u001b[0m     \u001b[0;32mif\u001b[0m \u001b[0mall\u001b[0m\u001b[0;34m(\u001b[0m\u001b[0marray\u001b[0m\u001b[0;34m.\u001b[0m\u001b[0mshape\u001b[0m \u001b[0;34m==\u001b[0m \u001b[0mshape\u001b[0m \u001b[0;32mfor\u001b[0m \u001b[0marray\u001b[0m \u001b[0;32min\u001b[0m \u001b[0margs\u001b[0m\u001b[0;34m)\u001b[0m\u001b[0;34m:\u001b[0m\u001b[0;34m\u001b[0m\u001b[0;34m\u001b[0m\u001b[0m\n",
      "\u001b[0;32m~/opt/anaconda3/lib/python3.7/site-packages/numpy/lib/stride_tricks.py\u001b[0m in \u001b[0;36m_broadcast_shape\u001b[0;34m(*args)\u001b[0m\n\u001b[1;32m    187\u001b[0m     \u001b[0;31m# use the old-iterator because np.nditer does not handle size 0 arrays\u001b[0m\u001b[0;34m\u001b[0m\u001b[0;34m\u001b[0m\u001b[0;34m\u001b[0m\u001b[0m\n\u001b[1;32m    188\u001b[0m     \u001b[0;31m# consistently\u001b[0m\u001b[0;34m\u001b[0m\u001b[0;34m\u001b[0m\u001b[0;34m\u001b[0m\u001b[0m\n\u001b[0;32m--> 189\u001b[0;31m     \u001b[0mb\u001b[0m \u001b[0;34m=\u001b[0m \u001b[0mnp\u001b[0m\u001b[0;34m.\u001b[0m\u001b[0mbroadcast\u001b[0m\u001b[0;34m(\u001b[0m\u001b[0;34m*\u001b[0m\u001b[0margs\u001b[0m\u001b[0;34m[\u001b[0m\u001b[0;34m:\u001b[0m\u001b[0;36m32\u001b[0m\u001b[0;34m]\u001b[0m\u001b[0;34m)\u001b[0m\u001b[0;34m\u001b[0m\u001b[0;34m\u001b[0m\u001b[0m\n\u001b[0m\u001b[1;32m    190\u001b[0m     \u001b[0;31m# unfortunately, it cannot handle 32 or more arguments directly\u001b[0m\u001b[0;34m\u001b[0m\u001b[0;34m\u001b[0m\u001b[0;34m\u001b[0m\u001b[0m\n\u001b[1;32m    191\u001b[0m     \u001b[0;32mfor\u001b[0m \u001b[0mpos\u001b[0m \u001b[0;32min\u001b[0m \u001b[0mrange\u001b[0m\u001b[0;34m(\u001b[0m\u001b[0;36m32\u001b[0m\u001b[0;34m,\u001b[0m \u001b[0mlen\u001b[0m\u001b[0;34m(\u001b[0m\u001b[0margs\u001b[0m\u001b[0;34m)\u001b[0m\u001b[0;34m,\u001b[0m \u001b[0;36m31\u001b[0m\u001b[0;34m)\u001b[0m\u001b[0;34m:\u001b[0m\u001b[0;34m\u001b[0m\u001b[0;34m\u001b[0m\u001b[0m\n",
      "\u001b[0;31mValueError\u001b[0m: shape mismatch: objects cannot be broadcast to a single shape"
     ]
    },
    {
     "data": {
      "image/png": "[encoded data removed]",
      "text/plain": [
       "<Figure size 432x288 with 1 Axes>"
      ]
     },
     "metadata": {
      "needs_background": "light"
     },
     "output_type": "display_data"
    }
   ],
   "source": [
    "seaborn.distplot(all_cc,kde=0)\n",
    "plt.axvline(x=true_cc)"
   ]
  },
  {
   "cell_type": "code",
   "execution_count": 35,
   "metadata": {},
   "outputs": [
    {
     "data": {
      "text/plain": [
       "False"
      ]
     },
     "execution_count": 35,
     "metadata": {},
     "output_type": "execute_result"
    }
   ],
   "source": [
    "np.allclose(act_matrix,act_matrix2)"
   ]
  },
  {
   "cell_type": "code",
   "execution_count": 36,
   "metadata": {},
   "outputs": [
    {
     "ename": "NameError",
     "evalue": "name 'predicted_neural_activity' is not defined",
     "output_type": "error",
     "traceback": [
      "\u001b[0;31m---------------------------------------------------------------------------\u001b[0m",
      "\u001b[0;31mNameError\u001b[0m                                 Traceback (most recent call last)",
      "\u001b[0;32m<ipython-input-36-e56b53247c9e>\u001b[0m in \u001b[0;36m<module>\u001b[0;34m\u001b[0m\n\u001b[1;32m      1\u001b[0m \u001b[0mcc\u001b[0m \u001b[0;34m=\u001b[0m \u001b[0;34m[\u001b[0m\u001b[0;34m]\u001b[0m\u001b[0;34m\u001b[0m\u001b[0;34m\u001b[0m\u001b[0m\n\u001b[1;32m      2\u001b[0m \u001b[0;32mfor\u001b[0m \u001b[0mi\u001b[0m \u001b[0;32min\u001b[0m \u001b[0mrange\u001b[0m\u001b[0;34m(\u001b[0m\u001b[0mn_neurons\u001b[0m\u001b[0;34m)\u001b[0m\u001b[0;34m:\u001b[0m\u001b[0;34m\u001b[0m\u001b[0;34m\u001b[0m\u001b[0m\n\u001b[0;32m----> 3\u001b[0;31m     \u001b[0mcc\u001b[0m\u001b[0;34m.\u001b[0m\u001b[0mappend\u001b[0m\u001b[0;34m(\u001b[0m\u001b[0mnp\u001b[0m\u001b[0;34m.\u001b[0m\u001b[0mcorrcoef\u001b[0m\u001b[0;34m(\u001b[0m\u001b[0mact_matrix2\u001b[0m\u001b[0;34m[\u001b[0m\u001b[0;34m:\u001b[0m\u001b[0;34m,\u001b[0m\u001b[0mi\u001b[0m\u001b[0;34m]\u001b[0m\u001b[0;34m[\u001b[0m\u001b[0mnp\u001b[0m\u001b[0;34m.\u001b[0m\u001b[0mrandom\u001b[0m\u001b[0;34m.\u001b[0m\u001b[0mpermutation\u001b[0m\u001b[0;34m(\u001b[0m\u001b[0mnp\u001b[0m\u001b[0;34m.\u001b[0m\u001b[0marange\u001b[0m\u001b[0;34m(\u001b[0m\u001b[0;36m9\u001b[0m\u001b[0;34m)\u001b[0m\u001b[0;34m)\u001b[0m\u001b[0;34m]\u001b[0m\u001b[0;34m,\u001b[0m\u001b[0mnp\u001b[0m\u001b[0;34m.\u001b[0m\u001b[0mroll\u001b[0m\u001b[0;34m(\u001b[0m\u001b[0mpredicted_neural_activity\u001b[0m\u001b[0;34m[\u001b[0m\u001b[0;34m:\u001b[0m\u001b[0;34m,\u001b[0m\u001b[0mi\u001b[0m\u001b[0;34m]\u001b[0m\u001b[0;34m,\u001b[0m\u001b[0;36m1\u001b[0m\u001b[0;34m)\u001b[0m\u001b[0;34m)\u001b[0m\u001b[0;34m[\u001b[0m\u001b[0;36m0\u001b[0m\u001b[0;34m,\u001b[0m\u001b[0;36m1\u001b[0m\u001b[0;34m]\u001b[0m\u001b[0;34m)\u001b[0m\u001b[0;34m\u001b[0m\u001b[0;34m\u001b[0m\u001b[0m\n\u001b[0m\u001b[1;32m      4\u001b[0m \u001b[0;34m\u001b[0m\u001b[0m\n\u001b[1;32m      5\u001b[0m \u001b[0mprint\u001b[0m\u001b[0;34m(\u001b[0m\u001b[0mnp\u001b[0m\u001b[0;34m.\u001b[0m\u001b[0mnanmean\u001b[0m\u001b[0;34m(\u001b[0m\u001b[0mcc\u001b[0m\u001b[0;34m)\u001b[0m\u001b[0;34m)\u001b[0m\u001b[0;34m\u001b[0m\u001b[0;34m\u001b[0m\u001b[0m\n",
      "\u001b[0;31mNameError\u001b[0m: name 'predicted_neural_activity' is not defined"
     ]
    }
   ],
   "source": [
    "cc = []\n",
    "for i in range(n_neurons):\n",
    "    cc.append(np.corrcoef(act_matrix2[:,i][np.random.permutation(np.arange(9))],np.roll(predicted_neural_activity[:,i],1))[0,1])\n",
    "    \n",
    "print(np.nanmean(cc))"
   ]
  },
  {
   "cell_type": "markdown",
   "metadata": {},
   "source": [
    "# Now implement this as a batch thing"
   ]
  },
  {
   "cell_type": "code",
   "execution_count": 152,
   "metadata": {},
   "outputs": [],
   "source": [
    "def fit_data(neural_activity1,neural_activity2,pca_activity1,pca_activity2,pca):\n",
    "    pca_dim = pca_activity.shape[1]\n",
    "    fit_params = []\n",
    "    fit_quality = []\n",
    "    for _ in range(5):\n",
    "        n_params = int(pca_dim*(pca_dim-1)/2)\n",
    "        basis_tensor_inf = get_basis_tensor(pca_dim)\n",
    "\n",
    "        params = np.random.normal(size=(n_params))# + np.eye(dim)\n",
    "        res = op.minimize(predict_all,\n",
    "                   params,\n",
    "                   (pca_activity1,pca_dim,basis_tensor_inf),\n",
    "                   jac=grad_wrapper,\n",
    "                   method='BFGS'\n",
    "                   )\n",
    "        out = res.x\n",
    "        #out = np.random.normal(size=(n_params))# + np.eye(dim)\n",
    "\n",
    "        skewM = np.einsum('i...,i...',out,basis_tensor_inf)\n",
    "        Ainf = caley_transform(skewM,pca_dim)\n",
    "        #print(res.message)\n",
    "\n",
    "        predicted_neural_activity = pca.inverse_transform((Ainf@pca_activity1.T).T)\n",
    "        fit_params.append(out.copy())\n",
    "        fit_quality.append(evaluate_cc(neural_activity1,predicted_neural_activity)[0])\n",
    "    params = fit_params[np.argmax(fit_quality)]\n",
    "    skewM = np.einsum('i...,i...',params,basis_tensor_inf)\n",
    "    Ainf = caley_transform(skewM,pca_dim)\n",
    "\n",
    "    print(fit_quality)\n",
    "    \n",
    "    predicted_neural_activity2 = pca.inverse_transform((Ainf@pca_activity2.T).T)\n",
    "    res = evaluate_cc(neural_activity2,predicted_neural_activity2)[0]\n",
    "    \n",
    "    predicted_neural_activity2 = pca.inverse_transform((Ainf@pca_activity2[::-1].T).T)\n",
    "    res2 = evaluate_cc(neural_activity2[::-1],predicted_neural_activity2)[0]\n",
    "    res = np.max([res,res2])\n",
    "    shuffle_res = []\n",
    "    print(res)\n",
    "    \n",
    "    r9 = np.arange(9)\n",
    "\n",
    "    for _ in range(2000):\n",
    "        \n",
    "        perm_order = np.random.permutation(r9)\n",
    "        predicted_neural_activity2_shuff = pca.inverse_transform((Ainf@pca_activity2[perm_order].T).T)\n",
    "\n",
    "        shf_res = evaluate_cc(neural_activity2[perm_order],predicted_neural_activity2_shuff)[0]\n",
    "        shf_res2 = evaluate_cc(neural_activity2[perm_order][::-1],predicted_neural_activity2_shuff[::-1])[0]\n",
    "        shuffle_res.append(np.max([shf_res,shf_res2]))\n",
    "    return res, shuffle_res, Ainf\n",
    "    "
   ]
  },
  {
   "cell_type": "code",
   "execution_count": null,
   "metadata": {},
   "outputs": [],
   "source": []
  },
  {
   "cell_type": "code",
   "execution_count": null,
   "metadata": {},
   "outputs": [],
   "source": []
  },
  {
   "cell_type": "code",
   "execution_count": 153,
   "metadata": {},
   "outputs": [],
   "source": [
    "def evaluate_cc(activity,pred):\n",
    "    n_neurons = activity.shape[1]\n",
    "    true_cc = []\n",
    "    #print(activity[:,0])\n",
    "\n",
    "    for i in range(n_neurons):\n",
    "        true_cc.append(np.corrcoef(activity[:,i][1:],pred[:,i][:-1])[0,1])\n",
    "\n",
    "    #true_cc_val = np.nanmean(true_cc)\n",
    "    return np.nanmean(true_cc),true_cc"
   ]
  },
  {
   "cell_type": "code",
   "execution_count": 341,
   "metadata": {},
   "outputs": [
    {
     "name": "stderr",
     "output_type": "stream",
     "text": [
      "/Users/yves/opt/anaconda3/lib/python3.7/site-packages/numpy/lib/function_base.py:2559: RuntimeWarning: invalid value encountered in true_divide\n",
      "  c /= stddev[:, None]\n",
      "/Users/yves/opt/anaconda3/lib/python3.7/site-packages/numpy/lib/function_base.py:2560: RuntimeWarning: invalid value encountered in true_divide\n",
      "  c /= stddev[None, :]\n"
     ]
    },
    {
     "name": "stdout",
     "output_type": "stream",
     "text": [
      "line line\n",
      "[0.5990325313632111, 0.6542306194439559, 0.5231562594212217, 0.5007611595324618, 0.5089790562107689]\n",
      "0.17972479338863404\n"
     ]
    }
   ],
   "source": [
    "all_res = []\n",
    "all_shuffle_res = []\n",
    "for session_ix in range(3,4):\n",
    "\n",
    "    firing_rate_maps, frm_stability, task_event_df,seq0,seq1,graph_type0,graph_type1, = load_data(session_ix)\n",
    "    firing_rate_maps = firing_rate_maps[np.array(frm_stability)>.3]\n",
    "    print(graph_type0,graph_type1)\n",
    "    \n",
    "    mds_frm = firing_rate_maps.swapaxes(0,2)\n",
    "    #mds_frm = mds_frm - np.mean(mds_frm,axis=0)[None,...]\n",
    "\n",
    "    mds_frm = zscore_population_activity(np.vstack(mds_frm))\n",
    "    act_matrix = mds_frm[:9][seq0] - np.mean(mds_frm[:9][seq0],axis=0)\n",
    "    act_matrix2 = mds_frm[9:][seq1]- np.mean(mds_frm[9:][seq1],axis=0)\n",
    "\n",
    "    \n",
    "    mds_frm = np.dstack([act_matrix,act_matrix2]).swapaxes(0,2).swapaxes(1,2)\n",
    "    #print(graph_type0,graph_type1)\n",
    "    pca_dim = 8\n",
    "    pca = PCA(n_components=pca_dim)\n",
    "    \n",
    "    pca.fit(np.vstack(mds_frm))\n",
    "    pca_activity = pca.transform(mds_frm[0])\n",
    "    pca_activity2 = pca.transform(mds_frm[1])\n",
    "    fit_res = fit_data(act_matrix,act_matrix2,pca_activity,pca_activity2,pca)\n",
    "    all_res.append(fit_res)"
   ]
  },
  {
   "cell_type": "code",
   "execution_count": 342,
   "metadata": {},
   "outputs": [
    {
     "data": {
      "text/plain": [
       "array([8, 4, 2, 5, 7, 0, 6, 1, 3])"
      ]
     },
     "execution_count": 342,
     "metadata": {},
     "output_type": "execute_result"
    }
   ],
   "source": [
    "seq0"
   ]
  },
  {
   "cell_type": "code",
   "execution_count": 343,
   "metadata": {},
   "outputs": [
    {
     "data": {
      "text/plain": [
       "array([1, 3, 6, 0, 2, 8, 4, 7, 5])"
      ]
     },
     "execution_count": 343,
     "metadata": {},
     "output_type": "execute_result"
    }
   ],
   "source": [
    "seq1"
   ]
  },
  {
   "cell_type": "code",
   "execution_count": 344,
   "metadata": {},
   "outputs": [],
   "source": [
    "def get_unique_transitions(seq0,seq1):\n",
    "\n",
    "    test_seq1 = []\n",
    "    for ix,i in enumerate(seq1):\n",
    "        print(seq0[(np.where(seq0==i)[0]-1)%9],seq0[(np.where(seq0==i)[0])%9],seq1[(ix-1)%9],seq1[(ix)%9])\n",
    "        if seq0[(np.where(seq0==i)[0]-1)%9]!=seq1[(ix-1)%9]:\n",
    "            test_seq1.append(1)\n",
    "        else:\n",
    "            print(seq1[ix])\n",
    "            test_seq1.append(0)\n",
    "\n",
    "    test_seq1 = np.array(test_seq1)\n",
    "    return test_seq1"
   ]
  },
  {
   "cell_type": "code",
   "execution_count": null,
   "metadata": {},
   "outputs": [],
   "source": []
  },
  {
   "cell_type": "code",
   "execution_count": 346,
   "metadata": {},
   "outputs": [
    {
     "name": "stdout",
     "output_type": "stream",
     "text": [
      "[2] [5] 1 5\n",
      "[5] [7] 5 7\n",
      "7\n",
      "[8] [4] 7 4\n",
      "[3] [8] 4 8\n",
      "[4] [2] 8 2\n",
      "[7] [0] 2 0\n",
      "[0] [6] 0 6\n",
      "6\n",
      "[1] [3] 6 3\n",
      "[6] [1] 3 1\n"
     ]
    }
   ],
   "source": [
    "test_seq1_f = get_unique_transitions(seq0,seq1)\n",
    "test_seq1_r = get_unique_transitions(seq0,seq1[::-1])"
   ]
  },
  {
   "cell_type": "code",
   "execution_count": 347,
   "metadata": {},
   "outputs": [
    {
     "data": {
      "text/plain": [
       "array([3, 1, 3, 3, 3, 3, 1, 3, 3])"
      ]
     },
     "execution_count": 347,
     "metadata": {},
     "output_type": "execute_result"
    }
   ],
   "source": [
    "seq1[test_seq1]"
   ]
  },
  {
   "cell_type": "code",
   "execution_count": 348,
   "metadata": {},
   "outputs": [
    {
     "data": {
      "text/plain": [
       "array([1, 3, 6, 0, 2, 8, 4, 7, 5])"
      ]
     },
     "execution_count": 348,
     "metadata": {},
     "output_type": "execute_result"
    }
   ],
   "source": [
    "seq1"
   ]
  },
  {
   "cell_type": "code",
   "execution_count": 349,
   "metadata": {},
   "outputs": [
    {
     "data": {
      "text/plain": [
       "array([200, 400, 700, 100, 300, 900, 500, 800, 600])"
      ]
     },
     "execution_count": 349,
     "metadata": {},
     "output_type": "execute_result"
    }
   ],
   "source": [
    "(np.arange(1,10)*100)[seq1]"
   ]
  },
  {
   "cell_type": "code",
   "execution_count": 350,
   "metadata": {},
   "outputs": [
    {
     "data": {
      "text/plain": [
       "array([400, 200, 400, 400, 400, 400, 200, 400, 400])"
      ]
     },
     "execution_count": 350,
     "metadata": {},
     "output_type": "execute_result"
    }
   ],
   "source": [
    "(np.arange(1,10)*100)[seq1][test_seq1]"
   ]
  },
  {
   "cell_type": "code",
   "execution_count": 351,
   "metadata": {},
   "outputs": [
    {
     "data": {
      "text/plain": [
       "array([1, 0, 1, 1, 1, 1, 0, 1, 1])"
      ]
     },
     "execution_count": 351,
     "metadata": {},
     "output_type": "execute_result"
    }
   ],
   "source": [
    "test_seq1"
   ]
  },
  {
   "cell_type": "code",
   "execution_count": null,
   "metadata": {},
   "outputs": [],
   "source": []
  },
  {
   "cell_type": "code",
   "execution_count": 352,
   "metadata": {},
   "outputs": [
    {
     "data": {
      "text/plain": [
       "array([3, 1, 3, 3, 3, 3, 1, 3, 3])"
      ]
     },
     "execution_count": 352,
     "metadata": {},
     "output_type": "execute_result"
    }
   ],
   "source": [
    "seq1[test_seq1]"
   ]
  },
  {
   "cell_type": "code",
   "execution_count": 353,
   "metadata": {},
   "outputs": [
    {
     "data": {
      "text/plain": [
       "9"
      ]
     },
     "execution_count": 353,
     "metadata": {},
     "output_type": "execute_result"
    }
   ],
   "source": [
    "len(seq1)"
   ]
  },
  {
   "cell_type": "code",
   "execution_count": 354,
   "metadata": {},
   "outputs": [
    {
     "data": {
      "text/plain": [
       "array([1, 3, 6, 0, 2, 8, 4, 7, 5])"
      ]
     },
     "execution_count": 354,
     "metadata": {},
     "output_type": "execute_result"
    }
   ],
   "source": [
    "seq1"
   ]
  },
  {
   "cell_type": "code",
   "execution_count": 355,
   "metadata": {},
   "outputs": [
    {
     "data": {
      "text/plain": [
       "0"
      ]
     },
     "execution_count": 355,
     "metadata": {},
     "output_type": "execute_result"
    }
   ],
   "source": [
    "9%9"
   ]
  },
  {
   "cell_type": "code",
   "execution_count": 356,
   "metadata": {},
   "outputs": [
    {
     "name": "stdout",
     "output_type": "stream",
     "text": [
      "line line\n"
     ]
    }
   ],
   "source": [
    "print(graph_type0,graph_type1)"
   ]
  },
  {
   "cell_type": "code",
   "execution_count": 357,
   "metadata": {},
   "outputs": [
    {
     "data": {
      "text/plain": [
       "210"
      ]
     },
     "execution_count": 357,
     "metadata": {},
     "output_type": "execute_result"
    }
   ],
   "source": [
    "len(np.array(frm_stability)>.3)"
   ]
  },
  {
   "cell_type": "code",
   "execution_count": 358,
   "metadata": {},
   "outputs": [
    {
     "data": {
      "text/plain": [
       "0.6190476190476191"
      ]
     },
     "execution_count": 358,
     "metadata": {},
     "output_type": "execute_result"
    }
   ],
   "source": [
    "np.mean(np.array(frm_stability)>.3)"
   ]
  },
  {
   "cell_type": "code",
   "execution_count": 359,
   "metadata": {},
   "outputs": [
    {
     "data": {
      "text/plain": [
       "130"
      ]
     },
     "execution_count": 359,
     "metadata": {},
     "output_type": "execute_result"
    }
   ],
   "source": [
    "np.sum(np.array(frm_stability)>.3)"
   ]
  },
  {
   "cell_type": "code",
   "execution_count": null,
   "metadata": {},
   "outputs": [],
   "source": []
  },
  {
   "cell_type": "code",
   "execution_count": 360,
   "metadata": {},
   "outputs": [
    {
     "data": {
      "text/plain": [
       "(9, 8)"
      ]
     },
     "execution_count": 360,
     "metadata": {},
     "output_type": "execute_result"
    }
   ],
   "source": [
    "pca_activity2.shape"
   ]
  },
  {
   "cell_type": "code",
   "execution_count": 361,
   "metadata": {},
   "outputs": [
    {
     "name": "stderr",
     "output_type": "stream",
     "text": [
      "/Users/yves/opt/anaconda3/lib/python3.7/site-packages/numpy/core/fromnumeric.py:87: VisibleDeprecationWarning: Creating an ndarray from ragged nested sequences (which is a list-or-tuple of lists-or-tuples-or ndarrays with different lengths or shapes) is deprecated. If you meant to do this, you must specify 'dtype=object' when creating the ndarray\n",
      "  return ufunc.reduce(obj, axis, dtype, out, **passkwargs)\n"
     ]
    },
    {
     "ename": "ValueError",
     "evalue": "The truth value of an array with more than one element is ambiguous. Use a.any() or a.all()",
     "output_type": "error",
     "traceback": [
      "\u001b[0;31m---------------------------------------------------------------------------\u001b[0m",
      "\u001b[0;31mValueError\u001b[0m                                Traceback (most recent call last)",
      "\u001b[0;32m<ipython-input-361-11a3f2dd7c0b>\u001b[0m in \u001b[0;36m<module>\u001b[0;34m\u001b[0m\n\u001b[1;32m      6\u001b[0m \u001b[0mres\u001b[0m \u001b[0;34m=\u001b[0m \u001b[0mevaluate_cc\u001b[0m\u001b[0;34m(\u001b[0m\u001b[0mact_matrix2\u001b[0m\u001b[0;34m,\u001b[0m\u001b[0mpredicted_neural_activity2\u001b[0m\u001b[0;34m)\u001b[0m\u001b[0;34m\u001b[0m\u001b[0;34m\u001b[0m\u001b[0m\n\u001b[1;32m      7\u001b[0m \u001b[0mres2\u001b[0m \u001b[0;34m=\u001b[0m \u001b[0mevaluate_cc\u001b[0m\u001b[0;34m(\u001b[0m\u001b[0mact_matrix2\u001b[0m\u001b[0;34m[\u001b[0m\u001b[0;34m:\u001b[0m\u001b[0;34m:\u001b[0m\u001b[0;34m-\u001b[0m\u001b[0;36m1\u001b[0m\u001b[0;34m]\u001b[0m\u001b[0;34m,\u001b[0m\u001b[0mpredicted_neural_activity2\u001b[0m\u001b[0;34m[\u001b[0m\u001b[0;34m:\u001b[0m\u001b[0;34m:\u001b[0m\u001b[0;34m-\u001b[0m\u001b[0;36m1\u001b[0m\u001b[0;34m]\u001b[0m\u001b[0;34m)\u001b[0m\u001b[0;34m\u001b[0m\u001b[0;34m\u001b[0m\u001b[0m\n\u001b[0;32m----> 8\u001b[0;31m \u001b[0mres\u001b[0m \u001b[0;34m=\u001b[0m \u001b[0mnp\u001b[0m\u001b[0;34m.\u001b[0m\u001b[0mmax\u001b[0m\u001b[0;34m(\u001b[0m\u001b[0;34m[\u001b[0m\u001b[0mres\u001b[0m\u001b[0;34m,\u001b[0m\u001b[0mres2\u001b[0m\u001b[0;34m]\u001b[0m\u001b[0;34m)\u001b[0m\u001b[0;34m\u001b[0m\u001b[0;34m\u001b[0m\u001b[0m\n\u001b[0m\u001b[1;32m      9\u001b[0m \u001b[0mshuffle_res\u001b[0m \u001b[0;34m=\u001b[0m \u001b[0;34m[\u001b[0m\u001b[0;34m]\u001b[0m\u001b[0;34m\u001b[0m\u001b[0;34m\u001b[0m\u001b[0m\n\u001b[1;32m     10\u001b[0m \u001b[0mprint\u001b[0m\u001b[0;34m(\u001b[0m\u001b[0mres\u001b[0m\u001b[0;34m)\u001b[0m\u001b[0;34m\u001b[0m\u001b[0;34m\u001b[0m\u001b[0m\n",
      "\u001b[0;32m<__array_function__ internals>\u001b[0m in \u001b[0;36mamax\u001b[0;34m(*args, **kwargs)\u001b[0m\n",
      "\u001b[0;32m~/opt/anaconda3/lib/python3.7/site-packages/numpy/core/fromnumeric.py\u001b[0m in \u001b[0;36mamax\u001b[0;34m(a, axis, out, keepdims, initial, where)\u001b[0m\n\u001b[1;32m   2704\u001b[0m     \"\"\"\n\u001b[1;32m   2705\u001b[0m     return _wrapreduction(a, np.maximum, 'max', axis, None, out,\n\u001b[0;32m-> 2706\u001b[0;31m                           keepdims=keepdims, initial=initial, where=where)\n\u001b[0m\u001b[1;32m   2707\u001b[0m \u001b[0;34m\u001b[0m\u001b[0m\n\u001b[1;32m   2708\u001b[0m \u001b[0;34m\u001b[0m\u001b[0m\n",
      "\u001b[0;32m~/opt/anaconda3/lib/python3.7/site-packages/numpy/core/fromnumeric.py\u001b[0m in \u001b[0;36m_wrapreduction\u001b[0;34m(obj, ufunc, method, axis, dtype, out, **kwargs)\u001b[0m\n\u001b[1;32m     85\u001b[0m                 \u001b[0;32mreturn\u001b[0m \u001b[0mreduction\u001b[0m\u001b[0;34m(\u001b[0m\u001b[0maxis\u001b[0m\u001b[0;34m=\u001b[0m\u001b[0maxis\u001b[0m\u001b[0;34m,\u001b[0m \u001b[0mout\u001b[0m\u001b[0;34m=\u001b[0m\u001b[0mout\u001b[0m\u001b[0;34m,\u001b[0m \u001b[0;34m**\u001b[0m\u001b[0mpasskwargs\u001b[0m\u001b[0;34m)\u001b[0m\u001b[0;34m\u001b[0m\u001b[0;34m\u001b[0m\u001b[0m\n\u001b[1;32m     86\u001b[0m \u001b[0;34m\u001b[0m\u001b[0m\n\u001b[0;32m---> 87\u001b[0;31m     \u001b[0;32mreturn\u001b[0m \u001b[0mufunc\u001b[0m\u001b[0;34m.\u001b[0m\u001b[0mreduce\u001b[0m\u001b[0;34m(\u001b[0m\u001b[0mobj\u001b[0m\u001b[0;34m,\u001b[0m \u001b[0maxis\u001b[0m\u001b[0;34m,\u001b[0m \u001b[0mdtype\u001b[0m\u001b[0;34m,\u001b[0m \u001b[0mout\u001b[0m\u001b[0;34m,\u001b[0m \u001b[0;34m**\u001b[0m\u001b[0mpasskwargs\u001b[0m\u001b[0;34m)\u001b[0m\u001b[0;34m\u001b[0m\u001b[0;34m\u001b[0m\u001b[0m\n\u001b[0m\u001b[1;32m     88\u001b[0m \u001b[0;34m\u001b[0m\u001b[0m\n\u001b[1;32m     89\u001b[0m \u001b[0;34m\u001b[0m\u001b[0m\n",
      "\u001b[0;31mValueError\u001b[0m: The truth value of an array with more than one element is ambiguous. Use a.any() or a.all()"
     ]
    }
   ],
   "source": [
    "#Ainf = caley_transform(skewM,pca_dim)\n",
    "Ainf = fit_res[-1]\n",
    "\n",
    "predicted_neural_activity = pca.inverse_transform((Ainf@pca_activity.T).T)\n",
    "predicted_neural_activity2 = pca.inverse_transform((Ainf@pca_activity2.T).T)\n",
    "res = evaluate_cc(act_matrix2,predicted_neural_activity2)\n",
    "res2 = evaluate_cc(act_matrix2[::-1],predicted_neural_activity2[::-1])\n",
    "res = np.max([res,res2])\n",
    "shuffle_res = []\n",
    "print(res)\n"
   ]
  },
  {
   "cell_type": "code",
   "execution_count": 362,
   "metadata": {},
   "outputs": [
    {
     "name": "stdout",
     "output_type": "stream",
     "text": [
      "0.08333333333333334\n",
      "0.031249999999999993\n"
     ]
    },
    {
     "name": "stderr",
     "output_type": "stream",
     "text": [
      "/Users/yves/opt/anaconda3/lib/python3.7/site-packages/numpy/lib/function_base.py:2559: RuntimeWarning: invalid value encountered in true_divide\n",
      "  c /= stddev[:, None]\n",
      "/Users/yves/opt/anaconda3/lib/python3.7/site-packages/numpy/lib/function_base.py:2560: RuntimeWarning: invalid value encountered in true_divide\n",
      "  c /= stddev[None, :]\n"
     ]
    }
   ],
   "source": [
    "#Ainf = caley_transform(skewM,pca_dim)\n",
    "Ainf = fit_res[-1]\n",
    "\n",
    "predicted_pc = (Ainf@pca_activity.T).T\n",
    "predicted_neural_activity = pca.inverse_transform(predicted_pc)\n",
    "res1,cc = evaluate_cc(act_matrix,predicted_neural_activity)\n",
    "cc = np.array(cc)\n",
    "\n",
    "\n",
    "predicted_pc2 = (Ainf@pca_activity2.T).T\n",
    "#print(evaluate_cc(pca_activity2,predicted_pc2))\n",
    "print(evaluate_cc(pca_activity2[test_seq1_f],predicted_pc2[test_seq1_f])[0])\n",
    "predicted_neural_activity2 = pca.inverse_transform(predicted_pc2)\n",
    "res2,cc2 = evaluate_cc(act_matrix2,predicted_neural_activity2)\n",
    "\n",
    "\n",
    "predicted_pc2r = (Ainf@pca_activity2[::-1].T).T\n",
    "#print(evaluate_cc(pca_activity2,predicted_pc2r))\n",
    "predicted_neural_activity2r = pca.inverse_transform(predicted_pc2r)\n",
    "res2r,cc2r = evaluate_cc(act_matrix2[::-1],predicted_neural_activity2r)\n",
    "print(evaluate_cc(act_matrix2[::-1][test_seq1_r],predicted_neural_activity2r[test_seq1_r])[0])\n",
    "#res2r,cc2r = evaluate_cc(act_matrix2[::-1],predicted_neural_activity2r)\n",
    "\n",
    "#print(res2,res2r)\n",
    "\n",
    "if res2r>res2:\n",
    "    #pca_activity2 = pca_activity2[::-1]\n",
    "    predicted_pc2 = predicted_pc2r\n",
    "    predicted_neural_activity2 = predicted_neural_activity2r\n",
    "    cc2 = cc2r\n",
    "    \n",
    "cc2 = np.array(cc2)\n",
    "res = np.max([res2,res2r])\n",
    "#print(res)\n"
   ]
  },
  {
   "cell_type": "code",
   "execution_count": 298,
   "metadata": {},
   "outputs": [
    {
     "data": {
      "text/plain": [
       "(9, 8)"
      ]
     },
     "execution_count": 298,
     "metadata": {},
     "output_type": "execute_result"
    }
   ],
   "source": [
    "pca_activity.shape"
   ]
  },
  {
   "cell_type": "code",
   "execution_count": 299,
   "metadata": {},
   "outputs": [
    {
     "name": "stdout",
     "output_type": "stream",
     "text": [
      "(-0.11572432179478771, [0.02437314568661541, -0.6060654579796987, 0.02437314568661541, 0.02437314568661541, 0.02437314568661541, 0.02437314568661541, -0.6060654579796987, 0.02437314568661541, 0.02437314568661541])\n"
     ]
    }
   ],
   "source": [
    "print(evaluate_cc(pca_activity2[:,test_seq1],predicted_pc2[:,test_seq1]))"
   ]
  },
  {
   "cell_type": "code",
   "execution_count": 207,
   "metadata": {},
   "outputs": [
    {
     "data": {
      "text/plain": [
       "(9, 8)"
      ]
     },
     "execution_count": 207,
     "metadata": {},
     "output_type": "execute_result"
    }
   ],
   "source": [
    "predicted_pc2.shape"
   ]
  },
  {
   "cell_type": "code",
   "execution_count": null,
   "metadata": {},
   "outputs": [],
   "source": []
  },
  {
   "cell_type": "code",
   "execution_count": null,
   "metadata": {},
   "outputs": [],
   "source": [
    "evaluat"
   ]
  },
  {
   "cell_type": "code",
   "execution_count": 171,
   "metadata": {},
   "outputs": [
    {
     "data": {
      "text/plain": [
       "[-0.5535491713012971,\n",
       " 0.0693219267141889,\n",
       " 0.4170545403156131,\n",
       " 0.10524927804467385,\n",
       " 0.04113409133008379,\n",
       " 0.1307558514704377,\n",
       " -0.5297654209046386,\n",
       " -0.13266662088503547]"
      ]
     },
     "execution_count": 171,
     "metadata": {},
     "output_type": "execute_result"
    }
   ],
   "source": [
    "[np.corrcoef(predicted_pc2[:,i][::-1],pca_activity2[:,i])[0,1] for i in range(8)]"
   ]
  },
  {
   "cell_type": "code",
   "execution_count": 172,
   "metadata": {},
   "outputs": [
    {
     "data": {
      "text/plain": [
       "array([  4,  11,  13,  19,  27,  28,  44,  61,  66,  81,  82,  87,  89,\n",
       "        93,  99, 100, 101, 117, 119, 120, 124, 125])"
      ]
     },
     "execution_count": 172,
     "metadata": {},
     "output_type": "execute_result"
    }
   ],
   "source": [
    "np.where(np.logical_and.reduce([cc>.5,cc2>0.5,~np.isnan(cc),~np.isnan(cc2)]))[0]"
   ]
  },
  {
   "cell_type": "code",
   "execution_count": 173,
   "metadata": {},
   "outputs": [
    {
     "data": {
      "image/png": "[encoded data removed]",
      "text/plain": [
       "<Figure size 432x288 with 1 Axes>"
      ]
     },
     "metadata": {
      "needs_background": "light"
     },
     "output_type": "display_data"
    }
   ],
   "source": [
    "seaborn.distplot(np.array(cc)[~np.isnan(cc)],kde=0,bins=20)\n",
    "seaborn.despine()\n",
    "\n",
    "seaborn.distplot(np.array(cc2)[~np.isnan(cc2)],kde=0,bins=20)\n",
    "seaborn.despine()"
   ]
  },
  {
   "cell_type": "code",
   "execution_count": 174,
   "metadata": {},
   "outputs": [
    {
     "data": {
      "text/plain": [
       "0.5935790797139876"
      ]
     },
     "execution_count": 174,
     "metadata": {},
     "output_type": "execute_result"
    }
   ],
   "source": [
    "np.nanmean(cc)"
   ]
  },
  {
   "cell_type": "code",
   "execution_count": 184,
   "metadata": {},
   "outputs": [],
   "source": [
    "gIxs = np.where(np.logical_and.reduce([cc>.5,cc2>0.5,~np.isnan(cc),~np.isnan(cc2)]))[0]"
   ]
  },
  {
   "cell_type": "code",
   "execution_count": 176,
   "metadata": {},
   "outputs": [
    {
     "data": {
      "text/plain": [
       "array([0.66229796, 0.78142792, 0.85610843, 0.74466089, 0.64713206,\n",
       "       0.64145788, 0.67895071, 0.77218482, 0.92047378, 0.78648425,\n",
       "       0.7297975 , 0.80760963, 0.79185232, 0.74422893, 0.75967487,\n",
       "       0.85608264, 0.7694686 , 0.66975244, 0.79037267, 0.7494142 ,\n",
       "       0.7793068 , 0.78790961])"
      ]
     },
     "execution_count": 176,
     "metadata": {},
     "output_type": "execute_result"
    }
   ],
   "source": [
    "cc[gIxs]"
   ]
  },
  {
   "cell_type": "code",
   "execution_count": 132,
   "metadata": {},
   "outputs": [
    {
     "data": {
      "text/plain": [
       "array([0.66091478, 0.67276729, 0.63346374, 0.74220465, 0.65448953,\n",
       "       0.8900868 , 0.84442564, 0.7240391 , 0.67033104, 0.87767429,\n",
       "       0.91033858, 0.6730908 , 0.7786516 ])"
      ]
     },
     "execution_count": 132,
     "metadata": {},
     "output_type": "execute_result"
    }
   ],
   "source": [
    "cc2[gIxs]"
   ]
  },
  {
   "cell_type": "code",
   "execution_count": 177,
   "metadata": {},
   "outputs": [
    {
     "name": "stdout",
     "output_type": "stream",
     "text": [
      "[  4  11  13  19  27  28  44  61  66  81  82  87  89  93  99 100 101 117\n",
      " 119 120 124 125]\n"
     ]
    }
   ],
   "source": [
    "print(gIxs)"
   ]
  },
  {
   "cell_type": "code",
   "execution_count": null,
   "metadata": {},
   "outputs": [],
   "source": []
  },
  {
   "cell_type": "code",
   "execution_count": 178,
   "metadata": {},
   "outputs": [],
   "source": [
    "seq0_inv = [seq0.tolist().index(i) for i in range(9)]\n",
    "seq1_inv = [seq1.tolist().index(i) for i in range(9)]\n"
   ]
  },
  {
   "cell_type": "code",
   "execution_count": 179,
   "metadata": {},
   "outputs": [],
   "source": [
    "cc_ = []\n",
    "for kk in gIxs:\n",
    "    cc_.append(np.corrcoef(act_matrix[:,kk][seq0_inv],act_matrix2[:,kk][seq1_inv])[0,1])"
   ]
  },
  {
   "cell_type": "code",
   "execution_count": 180,
   "metadata": {},
   "outputs": [],
   "source": [
    "cc_bad = []\n",
    "cc_good = []\n",
    "for kk in range(act_matrix.shape[1]):\n",
    "    if kk not in gIxs:\n",
    "        cc_bad.append(np.corrcoef(act_matrix[:,kk][seq0_inv],act_matrix2[:,kk][seq1_inv])[0,1])\n",
    "    else:\n",
    "        cc_good.append(np.corrcoef(act_matrix[:,kk][seq0_inv],act_matrix2[:,kk][seq1_inv])[0,1])"
   ]
  },
  {
   "cell_type": "code",
   "execution_count": 181,
   "metadata": {},
   "outputs": [
    {
     "data": {
      "text/plain": [
       "<matplotlib.axes._subplots.AxesSubplot at 0x7ff1206af450>"
      ]
     },
     "execution_count": 181,
     "metadata": {},
     "output_type": "execute_result"
    },
    {
     "data": {
      "image/png": "[encoded data removed]",
      "text/plain": [
       "<Figure size 432x288 with 1 Axes>"
      ]
     },
     "metadata": {
      "needs_background": "light"
     },
     "output_type": "display_data"
    }
   ],
   "source": [
    "seaborn.distplot(np.array(cc_bad)[np.isfinite(cc_bad)],bins=np.linspace(-1,1,num=20),kde=0,norm_hist=1)\n",
    "seaborn.distplot(np.array(cc_good)[np.isfinite(cc_good)],bins=np.linspace(-1,1,num=20),kde=0,norm_hist=1)"
   ]
  },
  {
   "cell_type": "code",
   "execution_count": null,
   "metadata": {},
   "outputs": [],
   "source": []
  },
  {
   "cell_type": "code",
   "execution_count": 238,
   "metadata": {},
   "outputs": [],
   "source": [
    "gIxs = [8,24,28,66,67]"
   ]
  },
  {
   "cell_type": "code",
   "execution_count": 262,
   "metadata": {},
   "outputs": [
    {
     "data": {
      "text/plain": [
       "-16"
      ]
     },
     "execution_count": 262,
     "metadata": {},
     "output_type": "execute_result"
    }
   ],
   "source": [
    "np.sum(test_seq1)"
   ]
  },
  {
   "cell_type": "code",
   "execution_count": 268,
   "metadata": {},
   "outputs": [
    {
     "data": {
      "text/plain": [
       "array([False,  True, False, False, False, False,  True, False, False])"
      ]
     },
     "execution_count": 268,
     "metadata": {},
     "output_type": "execute_result"
    }
   ],
   "source": [
    "test_seq1==0"
   ]
  },
  {
   "cell_type": "code",
   "execution_count": 275,
   "metadata": {
    "scrolled": false
   },
   "outputs": [
    {
     "name": "stderr",
     "output_type": "stream",
     "text": [
      "/Users/yves/opt/anaconda3/lib/python3.7/site-packages/ipykernel_launcher.py:65: VisibleDeprecationWarning: Creating an ndarray from ragged nested sequences (which is a list-or-tuple of lists-or-tuples-or ndarrays with different lengths or shapes) is deprecated. If you meant to do this, you must specify 'dtype=object' when creating the ndarray\n"
     ]
    },
    {
     "data": {
      "image/png": "[encoded data removed]",
      "text/plain": [
       "<Figure size 1008x720 with 18 Axes>"
      ]
     },
     "metadata": {},
     "output_type": "display_data"
    }
   ],
   "source": [
    "\n",
    "nG = len(gIxs)\n",
    "\n",
    "\n",
    "plt.figure(figsize=(14,2*nG))\n",
    "for kk in range(3):\n",
    "    \n",
    "    ix = gIxs[kk]\n",
    "    plt.subplot(nG,6,6*kk+1)\n",
    "    plt.title('cell ix:{}'.format(ix))\n",
    "    act = act_matrix[:,ix][seq0_inv].tolist()\n",
    "    plot_activity_on_graph(seq0.tolist(),\n",
    "                           graph_type0,\n",
    "                           spks=act,\n",
    "                           mn=np.nanmin(act_matrix[:,ix]),\n",
    "                          )\n",
    "\n",
    "    plt.subplot(nG,6,6*kk+2)\n",
    "    act = act_matrix2[:,ix].copy()\n",
    "    act[test_seq1==0] = np.nan\n",
    "    act = act[seq1_inv].tolist()\n",
    "    plot_activity_on_graph(seq1.tolist(),\n",
    "                           graph_type1,\n",
    "                           spks=act,\n",
    "                           mn=np.nanmin(act_matrix2[:,ix])\n",
    "                          )\n",
    "\n",
    "\n",
    "    plt.subplot(nG,6,6*kk+3)\n",
    "    plt.title(\"Task 1\")\n",
    "    plot_activity_on_graph(sequence=seq0.tolist(),\n",
    "                           graph_type=graph_type0,\n",
    "                           spks=act_matrix[:,ix],\n",
    "                           order='state',\n",
    "                           mn=np.nanmin(act_matrix[:,ix])\n",
    "                          )\n",
    "\n",
    "    plt.subplot(nG,6,6*kk+5)\n",
    "    plt.title(\"Task 2\")\n",
    "    plot_activity_on_graph(seq1.tolist(),\n",
    "                           graph_type1,\n",
    "                           spks=act_matrix2[:,ix],\n",
    "                           order='state',\n",
    "                           mn=np.nanmin(act_matrix2[:,ix])\n",
    "                          )\n",
    "    \n",
    "    \n",
    "    plt.subplot(nG,6,6*kk+4)\n",
    "    plt.title('cc:{:.2f}'.format(np.corrcoef(act_matrix[:,ix][1:],predicted_neural_activity[:,ix][:-1])[0,1]))\n",
    "    plot_activity_on_graph(sequence=seq0.tolist(),\n",
    "                           graph_type=graph_type0,\n",
    "                           spks=np.roll(predicted_neural_activity[:,ix],1),\n",
    "                           order='state',\n",
    "                           mn=np.nanmin(act_matrix[:,ix])\n",
    "                          )\n",
    "    plt.gca().set_facecolor('grey') \n",
    "\n",
    "    plt.subplot(nG,6,6*kk+6)\n",
    "    plt.title('cc:{:.2f}'.format(np.corrcoef(act_matrix2[:,ix],np.roll(predicted_neural_activity2[:,ix],1))[0,1]))\n",
    "\n",
    "    plot_activity_on_graph(seq1.tolist(),\n",
    "                           graph_type1,\n",
    "                           spks=np.roll(predicted_neural_activity2[:,ix],1),\n",
    "                           order='state',mn=np.nanmin(act_matrix[:,ix])\n",
    "                          )\n",
    "    plt.gca().set_facecolor('.3') \n",
    "plt.tight_layout()"
   ]
  },
  {
   "cell_type": "code",
   "execution_count": 251,
   "metadata": {},
   "outputs": [
    {
     "data": {
      "text/plain": [
       "array([3, 4])"
      ]
     },
     "execution_count": 251,
     "metadata": {},
     "output_type": "execute_result"
    }
   ],
   "source": [
    "seq1[np.where(test_seq1==0)]"
   ]
  },
  {
   "cell_type": "code",
   "execution_count": 249,
   "metadata": {},
   "outputs": [
    {
     "data": {
      "text/plain": [
       "array([1, 0, 1, 1, 1, 1, 0, 1, 1])"
      ]
     },
     "execution_count": 249,
     "metadata": {},
     "output_type": "execute_result"
    }
   ],
   "source": [
    "test_seq1"
   ]
  },
  {
   "cell_type": "code",
   "execution_count": 244,
   "metadata": {},
   "outputs": [
    {
     "data": {
      "text/plain": [
       "array([ 1.49222721,  0.29913   ,  0.45873671,  0.0469994 ,  0.06732371,\n",
       "       -0.69751189, -0.82159711])"
      ]
     },
     "execution_count": 244,
     "metadata": {},
     "output_type": "execute_result"
    }
   ],
   "source": [
    "np.array(act)[np.array(test_seq1)]"
   ]
  },
  {
   "cell_type": "code",
   "execution_count": 140,
   "metadata": {},
   "outputs": [
    {
     "name": "stdout",
     "output_type": "stream",
     "text": [
      "0\n",
      "1\n",
      "2\n",
      "3\n"
     ]
    },
    {
     "data": {
      "image/png": "[encoded data removed]",
      "text/plain": [
       "<Figure size 864x288 with 4 Axes>"
      ]
     },
     "metadata": {},
     "output_type": "display_data"
    }
   ],
   "source": [
    "evals, evecs = np.linalg.eig(Ainf)\n",
    "u1 = (evecs[:,0] + evecs[:,1]).real\n",
    "u2 = (1j*(evecs[:,0] - evecs[:,1])).real\n",
    "dim = Ainf.shape[0]\n",
    "x = pca_activity\n",
    "plt.figure(figsize=(12,4))\n",
    "plt.suptitle(\"Fitted data\",fontsize=24)\n",
    "offset = 0\n",
    "if np.isreal(evals[0]): offset = 1\n",
    "for i in range(int(np.floor(dim/2))):\n",
    "    print(i)\n",
    "    plt.subplot(1,4,i+1)\n",
    "    ix0 = (2*i)     + offset\n",
    "    ix1 = (2*i + 1) + offset\n",
    "    u1 = (evecs[:,ix0] + evecs[:,ix1]).real\n",
    "    u1 = u1/np.linalg.norm(u1)\n",
    "    u2 = (1j*(evecs[:,ix0] - evecs[:,ix1])).real\n",
    "    u2 = u2/np.linalg.norm(u2)\n",
    "    w = np.vstack([u1,u2]).T\n",
    "    projection = (np.squeeze(x)@w).T\n",
    "    #plt.plot(*(projection))\n",
    "    \n",
    "    mu_ideal = []\n",
    "    for ideal in range(1):\n",
    "        ideal = ideal %9\n",
    "        ideal_activity = [np.linalg.matrix_power(Ainf,i)@x[ideal] for i in range(10)]\n",
    "        projection2 = (np.squeeze(ideal_activity)@w).T\n",
    "        plt.plot(*(projection2),color='.3',alpha=5)\n",
    "        mu_ideal.append(np.roll(projection2,ideal,axis=0))\n",
    "    #projection2 = np.mean(mu_ideal,axis=0)\n",
    "    if i==(int(np.floor(dim/2))-1):\n",
    "        plt.scatter(projection2[0],projection2[1],\n",
    "                    c=np.vstack([seaborn.color_palette(\"tab10\",n_colors=9),clrs[0]]),\n",
    "                    marker='^',s=64,\n",
    "                    label='predicted position')\n",
    "    else:\n",
    "        plt.scatter(projection2[0],projection2[1],c=np.vstack([seaborn.color_palette(\"tab10\",n_colors=9),clrs[0]]),marker='^',s=64)\n",
    "\n",
    "\n",
    "\n",
    "    if i==(int(np.floor(dim/2))-1):\n",
    "        plt.scatter(projection[0],projection[1],c=seaborn.color_palette(\"tab10\",n_colors=9),s=96,label='actual position')\n",
    "    else:\n",
    "        plt.scatter(projection[0],projection[1],c=seaborn.color_palette(\"tab10\",n_colors=9),s=96)\n",
    "    for ijk,(p1,p2) in enumerate(zip(projection.T,projection2.T)):\n",
    "        plt.plot([p1[0],p2[0]],[p1[1],p2[1]],alpha=.3,color=seaborn.color_palette()[ijk])\n",
    "        #pass\n",
    "    plt.xticks([])\n",
    "    plt.yticks([])\n",
    "    if i==0:\n",
    "        plt.xlabel(\"Rotation dim 1 (a.u.)\")\n",
    "        plt.ylabel(\"Rotation dim 2 (a.u.)\")\n",
    "plt.legend(loc=(1.1,.9))\n",
    "seaborn.despine()"
   ]
  },
  {
   "cell_type": "code",
   "execution_count": 141,
   "metadata": {},
   "outputs": [
    {
     "data": {
      "text/plain": [
       "array([[-2.82454129,  1.80780277,  1.03954185, -2.83423201,  1.75893962,\n",
       "         1.09747937, -2.84257556,  1.7092404 ,  1.15489524, -2.84956798],\n",
       "       [-0.47530942, -2.22166642,  2.66895209, -0.41361995, -2.26054948,\n",
       "         2.64565522, -0.35173388, -2.29835806,  2.62110082, -0.28968062]])"
      ]
     },
     "execution_count": 141,
     "metadata": {},
     "output_type": "execute_result"
    }
   ],
   "source": [
    "projection2"
   ]
  },
  {
   "cell_type": "code",
   "execution_count": 142,
   "metadata": {},
   "outputs": [
    {
     "data": {
      "text/plain": [
       "array([[0.12156863, 0.46666667, 0.70588235],\n",
       "       [1.        , 0.49803922, 0.05490196],\n",
       "       [0.17254902, 0.62745098, 0.17254902],\n",
       "       [0.83921569, 0.15294118, 0.15686275],\n",
       "       [0.58039216, 0.40392157, 0.74117647],\n",
       "       [0.54901961, 0.3372549 , 0.29411765],\n",
       "       [0.89019608, 0.46666667, 0.76078431],\n",
       "       [0.49803922, 0.49803922, 0.49803922],\n",
       "       [0.7372549 , 0.74117647, 0.13333333],\n",
       "       [0.12156863, 0.46666667, 0.70588235]])"
      ]
     },
     "execution_count": 142,
     "metadata": {},
     "output_type": "execute_result"
    }
   ],
   "source": [
    "np.vstack([seaborn.color_palette(\"tab10\",n_colors=9),seaborn.color_palette(\"tab10\",n_colors=9)[0]])"
   ]
  },
  {
   "cell_type": "code",
   "execution_count": 143,
   "metadata": {},
   "outputs": [
    {
     "data": {
      "text/plain": [
       "array([1, 2, 3, 0])"
      ]
     },
     "execution_count": 143,
     "metadata": {},
     "output_type": "execute_result"
    }
   ],
   "source": [
    "np.roll(np.arange(4),-1)"
   ]
  },
  {
   "cell_type": "code",
   "execution_count": 144,
   "metadata": {},
   "outputs": [
    {
     "data": {
      "text/plain": [
       "(2, 10)"
      ]
     },
     "execution_count": 144,
     "metadata": {},
     "output_type": "execute_result"
    }
   ],
   "source": [
    "projection2.shape"
   ]
  },
  {
   "cell_type": "code",
   "execution_count": 145,
   "metadata": {},
   "outputs": [
    {
     "data": {
      "text/plain": [
       "array([[-2.82454129,  1.80780277,  1.03954185, -2.83423201,  1.75893962,\n",
       "         1.09747937, -2.84257556,  1.7092404 ,  1.15489524, -2.84956798],\n",
       "       [-0.47530942, -2.22166642,  2.66895209, -0.41361995, -2.26054948,\n",
       "         2.64565522, -0.35173388, -2.29835806,  2.62110082, -0.28968062]])"
      ]
     },
     "execution_count": 145,
     "metadata": {},
     "output_type": "execute_result"
    }
   ],
   "source": [
    "projection2"
   ]
  },
  {
   "cell_type": "code",
   "execution_count": 146,
   "metadata": {},
   "outputs": [
    {
     "data": {
      "text/plain": [
       "array([[-1.64992535, -0.20693182,  1.85424697, -1.62392598, -0.25080493,\n",
       "         1.8715673 , -1.59715472, -0.29455883,  1.88799803, -1.5696243 ]])"
      ]
     },
     "execution_count": 146,
     "metadata": {},
     "output_type": "execute_result"
    }
   ],
   "source": [
    "np.mean(mu_ideal,axis=1)"
   ]
  },
  {
   "cell_type": "code",
   "execution_count": 147,
   "metadata": {},
   "outputs": [
    {
     "data": {
      "text/plain": [
       "(1, 2, 10)"
      ]
     },
     "execution_count": 147,
     "metadata": {},
     "output_type": "execute_result"
    }
   ],
   "source": [
    "np.array(mu_ideal).shape"
   ]
  },
  {
   "cell_type": "code",
   "execution_count": 148,
   "metadata": {},
   "outputs": [
    {
     "data": {
      "text/plain": [
       "(1, 2, 10)"
      ]
     },
     "execution_count": 148,
     "metadata": {},
     "output_type": "execute_result"
    }
   ],
   "source": [
    "np.array(mu_ideal).shape"
   ]
  },
  {
   "cell_type": "code",
   "execution_count": 149,
   "metadata": {},
   "outputs": [
    {
     "data": {
      "text/plain": [
       "array([[-2.82454129, -3.47837066,  4.90355111,  3.33114142, -4.94362871,\n",
       "         2.40350488, -2.00090741,  0.8699063 ,  1.73934437],\n",
       "       [-0.47530942, -3.47029979, -2.31156635,  5.20808944,  3.10177749,\n",
       "        -5.10477275,  3.21321766,  0.44846456, -0.60960083]])"
      ]
     },
     "execution_count": 149,
     "metadata": {},
     "output_type": "execute_result"
    }
   ],
   "source": [
    "projection"
   ]
  },
  {
   "cell_type": "code",
   "execution_count": 150,
   "metadata": {},
   "outputs": [
    {
     "data": {
      "text/plain": [
       "0.3549122024208297"
      ]
     },
     "execution_count": 150,
     "metadata": {},
     "output_type": "execute_result"
    }
   ],
   "source": [
    "res2"
   ]
  },
  {
   "cell_type": "code",
   "execution_count": 151,
   "metadata": {},
   "outputs": [
    {
     "name": "stdout",
     "output_type": "stream",
     "text": [
      "0\n",
      "1\n",
      "2\n",
      "3\n"
     ]
    },
    {
     "data": {
      "image/png": "[encoded data removed]",
      "text/plain": [
       "<Figure size 864x288 with 4 Axes>"
      ]
     },
     "metadata": {},
     "output_type": "display_data"
    }
   ],
   "source": [
    "\n",
    "evals, evecs = np.linalg.eig(Ainf)\n",
    "u1 = (evecs[:,0] + evecs[:,1]).real\n",
    "u2 = (1j*(evecs[:,0] - evecs[:,1])).real\n",
    "dim = Ainf.shape[0]\n",
    "x = pca_activity2\n",
    "if res2r>res2:\n",
    "    x = x[::-1]\n",
    "    ideal_activity = [np.linalg.matrix_power(Ainf,i)@x[0] for i in range(9)]\n",
    "else:\n",
    "    ideal_activity = [np.linalg.matrix_power(Ainf,i)@x[0] for i in range(9)]\n",
    "plt.figure(figsize=(12,4))\n",
    "plt.suptitle(\"Held out task\",fontsize=24)\n",
    "offset = 0\n",
    "if np.isreal(evals[0]): offset = 1\n",
    "for i in range(int(np.floor(dim/2))):\n",
    "    print(i)\n",
    "    plt.subplot(1,4,i+1)\n",
    "    ix0 = (2*i)     + offset\n",
    "    ix1 = (2*i + 1) + offset\n",
    "    u1 = (evecs[:,ix0] + evecs[:,ix1]).real\n",
    "    u1 = u1/np.linalg.norm(u1)\n",
    "    u2 = (1j*(evecs[:,ix0] - evecs[:,ix1])).real\n",
    "    u2 = u2/np.linalg.norm(u2)\n",
    "    w = np.vstack([u1,u2]).T\n",
    "    projection = (np.squeeze(x)@w).T\n",
    "    #plt.plot(*(projection))\n",
    "    mu_ideal = []\n",
    "    for ideal in range(1):\n",
    "        ideal = ideal %9\n",
    "        ideal_activity = [np.linalg.matrix_power(Ainf,i)@x[ideal] for i in range(10)]\n",
    "        projection2 = (np.squeeze(ideal_activity)@w).T\n",
    "        plt.plot(*(projection2),color='.3',alpha=5)\n",
    "        mu_ideal.append(np.roll(projection2,ideal,axis=0))\n",
    "    #projection2 = np.mean(mu_ideal,axis=0)\n",
    "    if i==(int(np.floor(dim/2))-1):\n",
    "        plt.scatter(projection2[0],projection2[1],\n",
    "                    c=np.vstack([seaborn.color_palette(\"tab10\",n_colors=9),clrs[0]]),\n",
    "                    marker='^',s=64,\n",
    "                    label='predicted position')\n",
    "    else:\n",
    "        plt.scatter(projection2[0],projection2[1],c=np.vstack([seaborn.color_palette(\"tab10\",n_colors=9),clrs[0]]),marker='^',s=64)\n",
    "\n",
    "\n",
    "\n",
    "    if i==(int(np.floor(dim/2))-1):\n",
    "        plt.scatter(projection[0],projection[1],c=seaborn.color_palette(\"tab10\",n_colors=9),s=96,label='actual position')\n",
    "    else:\n",
    "        plt.scatter(projection[0],projection[1],c=seaborn.color_palette(\"tab10\",n_colors=9),s=96)\n",
    "    for ijk,(p1,p2) in enumerate(zip(projection.T,projection2.T)):\n",
    "        plt.plot([p1[0],p2[0]],[p1[1],p2[1]],alpha=.3,color=seaborn.color_palette()[ijk])\n",
    "        #pass\n",
    "    plt.xticks([])\n",
    "    plt.yticks([])\n",
    "    if i==0:\n",
    "        plt.xlabel(\"Rotation dim 1 (a.u.)\")\n",
    "        plt.ylabel(\"Rotation dim 2 (a.u.)\")\n",
    "plt.legend(loc=(1.1,.9))\n",
    "seaborn.despine()"
   ]
  },
  {
   "cell_type": "code",
   "execution_count": null,
   "metadata": {},
   "outputs": [],
   "source": []
  },
  {
   "cell_type": "code",
   "execution_count": 133,
   "metadata": {},
   "outputs": [],
   "source": [
    "sms = []\n",
    "for _ in range(1000):\n",
    "    sms.append(np.abs(projection - projection2[:,np.random.permutation(np.arange(9))]).sum())"
   ]
  },
  {
   "cell_type": "code",
   "execution_count": 136,
   "metadata": {},
   "outputs": [
    {
     "data": {
      "text/plain": [
       "<matplotlib.lines.Line2D at 0x7fd7e0c60510>"
      ]
     },
     "execution_count": 136,
     "metadata": {},
     "output_type": "execute_result"
    },
    {
     "data": {
      "image/png": "[encoded data removed]",
      "text/plain": [
       "<Figure size 432x288 with 1 Axes>"
      ]
     },
     "metadata": {
      "needs_background": "light"
     },
     "output_type": "display_data"
    }
   ],
   "source": [
    "seaborn.distplot(sms,kde=0)\n",
    "plt.axvline(x=np.abs(projection - projection2).sum())"
   ]
  },
  {
   "cell_type": "code",
   "execution_count": 135,
   "metadata": {},
   "outputs": [
    {
     "data": {
      "text/plain": [
       "15.7"
      ]
     },
     "execution_count": 135,
     "metadata": {},
     "output_type": "execute_result"
    }
   ],
   "source": [
    "stt.percentileofscore(sms,np.abs(projection - projection2).sum())"
   ]
  },
  {
   "cell_type": "code",
   "execution_count": 53,
   "metadata": {},
   "outputs": [
    {
     "data": {
      "text/plain": [
       "57.52804466678796"
      ]
     },
     "execution_count": 53,
     "metadata": {},
     "output_type": "execute_result"
    }
   ],
   "source": [
    "np.abs(projection - projection2).sum()"
   ]
  },
  {
   "cell_type": "code",
   "execution_count": null,
   "metadata": {},
   "outputs": [],
   "source": []
  },
  {
   "cell_type": "code",
   "execution_count": null,
   "metadata": {},
   "outputs": [],
   "source": []
  },
  {
   "cell_type": "code",
   "execution_count": 322,
   "metadata": {},
   "outputs": [
    {
     "name": "stdout",
     "output_type": "stream",
     "text": [
      "0\n",
      "1\n",
      "2\n",
      "3\n"
     ]
    },
    {
     "data": {
      "image/png": "[encoded data removed]",
      "text/plain": [
       "<Figure size 864x288 with 4 Axes>"
      ]
     },
     "metadata": {},
     "output_type": "display_data"
    }
   ],
   "source": [
    "evals, evecs = np.linalg.eig(Ainf)\n",
    "u1 = (evecs[:,0] + evecs[:,1]).real\n",
    "u2 = (1j*(evecs[:,0] - evecs[:,1])).real\n",
    "dim = Ainf.shape[0]\n",
    "x = ideal_activity\n",
    "plt.figure(figsize=(12,4))\n",
    "offset = 0\n",
    "if np.isreal(evals[0]): offset = 1\n",
    "for i in range(int(np.floor(dim/2))):\n",
    "    print(i)\n",
    "    plt.subplot(1,4,i+1)\n",
    "    ix0 = (2*i)     + offset\n",
    "    ix1 = (2*i + 1) + offset\n",
    "    u1 = (evecs[:,ix0] + evecs[:,ix1]).real\n",
    "    u1 = u1/np.linalg.norm(u1)\n",
    "    u2 = (1j*(evecs[:,ix0] - evecs[:,ix1])).real\n",
    "    u2 = u2/np.linalg.norm(u2)\n",
    "    w = np.vstack([u1,u2]).T\n",
    "    projection = (np.squeeze(x)@w).T\n",
    "    plt.plot(*(projection))\n",
    "    plt.scatter(projection[0],projection[1],c=seaborn.color_palette(\"RdBu_r\",n_colors=9))\n",
    "\n",
    "seaborn.despine()"
   ]
  },
  {
   "cell_type": "code",
   "execution_count": null,
   "metadata": {},
   "outputs": [],
   "source": []
  },
  {
   "cell_type": "code",
   "execution_count": null,
   "metadata": {},
   "outputs": [],
   "source": []
  },
  {
   "cell_type": "code",
   "execution_count": null,
   "metadata": {},
   "outputs": [],
   "source": []
  },
  {
   "cell_type": "code",
   "execution_count": null,
   "metadata": {},
   "outputs": [],
   "source": []
  },
  {
   "cell_type": "markdown",
   "metadata": {},
   "source": [
    "# HO stuff"
   ]
  },
  {
   "cell_type": "code",
   "execution_count": 363,
   "metadata": {},
   "outputs": [],
   "source": [
    "import pandas as pd"
   ]
  },
  {
   "cell_type": "code",
   "execution_count": 393,
   "metadata": {},
   "outputs": [],
   "source": [
    "df = pd.read_csv(\"/Users/yves/Desktop/HO_returns.csv\",index_col=0)"
   ]
  },
  {
   "cell_type": "code",
   "execution_count": 394,
   "metadata": {},
   "outputs": [
    {
     "data": {
      "text/plain": [
       "['Species',\n",
       " 'Start date',\n",
       " 'End date',\n",
       " 'Protocol',\n",
       " 'Supplier',\n",
       " 'Place of birth',\n",
       " 'WT/GM',\n",
       " 'Purpose',\n",
       " 'Sub-purpose',\n",
       " 'Retrospective severity',\n",
       " 'Procedures',\n",
       " 'Anaesthesia',\n",
       " 'Fate',\n",
       " 'Comments']"
      ]
     },
     "execution_count": 394,
     "metadata": {},
     "output_type": "execute_result"
    }
   ],
   "source": [
    "df.columns.tolist()"
   ]
  },
  {
   "cell_type": "code",
   "execution_count": 412,
   "metadata": {},
   "outputs": [],
   "source": [
    "group_data = df.groupby(['Species',\n",
    "                         'Start date',\n",
    "                         'End date',\n",
    "                         'Protocol',\n",
    "                         'Supplier',\n",
    "                         'Place of birth',\n",
    "                         'WT/GM',\n",
    "                         'Purpose',\n",
    "                         'Sub-purpose',\n",
    "                         'Retrospective severity',\n",
    "                         'Procedures',\n",
    "                         'Anaesthesia',\n",
    "                         'Fate',\n",
    "                         #'Comments'\n",
    "                        ])\n",
    "df2 = pd.DataFrame(group_data.size().reset_index(name = \"Group_Count\"))\n",
    "df2.rename(columns = {'Group_Count':'Number of animals'}, inplace = True)\n",
    "df2['Comments'] = ''\n",
    "col_order = ['Species','Number of animals','Start date',\n",
    "           'End date','Protocol','Supplier',\n",
    "           'Place of birth','WT/GM','Purpose','Sub-purpose',\n",
    "           'Retrospective severity','Procedures',\n",
    "           'Anaesthesia','Fate','Comments']\n",
    "df2 = df2.reindex(col_order, axis=1)\n",
    "\n",
    "#\n"
   ]
  },
  {
   "cell_type": "code",
   "execution_count": 413,
   "metadata": {},
   "outputs": [
    {
     "data": {
      "text/html": [
       "<div>\n",
       "<style scoped>\n",
       "    .dataframe tbody tr th:only-of-type {\n",
       "        vertical-align: middle;\n",
       "    }\n",
       "\n",
       "    .dataframe tbody tr th {\n",
       "        vertical-align: top;\n",
       "    }\n",
       "\n",
       "    .dataframe thead th {\n",
       "        text-align: right;\n",
       "    }\n",
       "</style>\n",
       "<table border=\"1\" class=\"dataframe\">\n",
       "  <thead>\n",
       "    <tr style=\"text-align: right;\">\n",
       "      <th></th>\n",
       "      <th>Species</th>\n",
       "      <th>Number of animals</th>\n",
       "      <th>Start date</th>\n",
       "      <th>End date</th>\n",
       "      <th>Protocol</th>\n",
       "      <th>Supplier</th>\n",
       "      <th>Place of birth</th>\n",
       "      <th>WT/GM</th>\n",
       "      <th>Purpose</th>\n",
       "      <th>Sub-purpose</th>\n",
       "      <th>Retrospective severity</th>\n",
       "      <th>Procedures</th>\n",
       "      <th>Anaesthesia</th>\n",
       "      <th>Fate</th>\n",
       "      <th>Comments</th>\n",
       "    </tr>\n",
       "  </thead>\n",
       "  <tbody>\n",
       "    <tr>\n",
       "      <th>0</th>\n",
       "      <td>Mouse</td>\n",
       "      <td>1</td>\n",
       "      <td>05/09/2020</td>\n",
       "      <td>22-Jan-2021</td>\n",
       "      <td>2</td>\n",
       "      <td>BSB</td>\n",
       "      <td>UK</td>\n",
       "      <td>GM</td>\n",
       "      <td>Scientific Research</td>\n",
       "      <td>Behaviour</td>\n",
       "      <td>Mild</td>\n",
       "      <td>'Breeding And Maintenance Of Transgenic Mice',...</td>\n",
       "      <td>Recovery</td>\n",
       "      <td>Culled Experimental</td>\n",
       "      <td></td>\n",
       "    </tr>\n",
       "    <tr>\n",
       "      <th>1</th>\n",
       "      <td>Mouse</td>\n",
       "      <td>1</td>\n",
       "      <td>07/09/2021</td>\n",
       "      <td>15-Sep-2021</td>\n",
       "      <td>10</td>\n",
       "      <td>BSB</td>\n",
       "      <td>UK</td>\n",
       "      <td>WT</td>\n",
       "      <td>Scientific Research</td>\n",
       "      <td>Behaviour</td>\n",
       "      <td>Mild</td>\n",
       "      <td>'Implantation of Device', 'Water restriction',...</td>\n",
       "      <td>Recovery</td>\n",
       "      <td>Culled Experimental</td>\n",
       "      <td></td>\n",
       "    </tr>\n",
       "    <tr>\n",
       "      <th>2</th>\n",
       "      <td>Mouse</td>\n",
       "      <td>1</td>\n",
       "      <td>07/09/2021</td>\n",
       "      <td>21-Sep-2021</td>\n",
       "      <td>10</td>\n",
       "      <td>BSB</td>\n",
       "      <td>UK</td>\n",
       "      <td>WT</td>\n",
       "      <td>Scientific Research</td>\n",
       "      <td>Behaviour</td>\n",
       "      <td>Mild</td>\n",
       "      <td>'Implantation of Device', 'Water restriction',...</td>\n",
       "      <td>Recovery</td>\n",
       "      <td>Culled Experimental</td>\n",
       "      <td></td>\n",
       "    </tr>\n",
       "    <tr>\n",
       "      <th>3</th>\n",
       "      <td>Mouse</td>\n",
       "      <td>2</td>\n",
       "      <td>07/09/2021</td>\n",
       "      <td>22-Sep-2021</td>\n",
       "      <td>10</td>\n",
       "      <td>BSB</td>\n",
       "      <td>UK</td>\n",
       "      <td>WT</td>\n",
       "      <td>Scientific Research</td>\n",
       "      <td>Behaviour</td>\n",
       "      <td>Mild</td>\n",
       "      <td>'Implantation of Device', 'Water restriction',...</td>\n",
       "      <td>Recovery</td>\n",
       "      <td>Culled Experimental</td>\n",
       "      <td></td>\n",
       "    </tr>\n",
       "    <tr>\n",
       "      <th>4</th>\n",
       "      <td>Mouse</td>\n",
       "      <td>1</td>\n",
       "      <td>08/04/2021</td>\n",
       "      <td>22-Sep-2021</td>\n",
       "      <td>10</td>\n",
       "      <td>BSB</td>\n",
       "      <td>UK</td>\n",
       "      <td>WT</td>\n",
       "      <td>Scientific Research</td>\n",
       "      <td>Nervous system</td>\n",
       "      <td>Moderate</td>\n",
       "      <td>'Water restriction', 'Behavioural testing', 'E...</td>\n",
       "      <td>Recovery</td>\n",
       "      <td>Culled Experimental</td>\n",
       "      <td></td>\n",
       "    </tr>\n",
       "    <tr>\n",
       "      <th>5</th>\n",
       "      <td>Mouse</td>\n",
       "      <td>2</td>\n",
       "      <td>08/09/2020</td>\n",
       "      <td>01-Jun-2021</td>\n",
       "      <td>6</td>\n",
       "      <td>BSB</td>\n",
       "      <td>UK</td>\n",
       "      <td>WT</td>\n",
       "      <td>Scientific Research</td>\n",
       "      <td>Behaviour</td>\n",
       "      <td>Mild</td>\n",
       "      <td>'Water restriction', 'Earclip (identification)...</td>\n",
       "      <td>None</td>\n",
       "      <td>Culled Experimental</td>\n",
       "      <td></td>\n",
       "    </tr>\n",
       "    <tr>\n",
       "      <th>6</th>\n",
       "      <td>Mouse</td>\n",
       "      <td>1</td>\n",
       "      <td>08/09/2020</td>\n",
       "      <td>03-May-2021</td>\n",
       "      <td>6</td>\n",
       "      <td>BSB</td>\n",
       "      <td>UK</td>\n",
       "      <td>WT</td>\n",
       "      <td>Scientific Research</td>\n",
       "      <td>Behaviour</td>\n",
       "      <td>Mild</td>\n",
       "      <td>'Water restriction', 'Earclip (identification)...</td>\n",
       "      <td>None</td>\n",
       "      <td>Culled Experimental</td>\n",
       "      <td></td>\n",
       "    </tr>\n",
       "    <tr>\n",
       "      <th>7</th>\n",
       "      <td>Mouse</td>\n",
       "      <td>1</td>\n",
       "      <td>08/09/2020</td>\n",
       "      <td>05-May-2021</td>\n",
       "      <td>6</td>\n",
       "      <td>BSB</td>\n",
       "      <td>UK</td>\n",
       "      <td>WT</td>\n",
       "      <td>Scientific Research</td>\n",
       "      <td>Behaviour</td>\n",
       "      <td>Mild</td>\n",
       "      <td>'Water restriction', 'Earclip (identification)...</td>\n",
       "      <td>None</td>\n",
       "      <td>Culled Experimental</td>\n",
       "      <td></td>\n",
       "    </tr>\n",
       "    <tr>\n",
       "      <th>8</th>\n",
       "      <td>Mouse</td>\n",
       "      <td>2</td>\n",
       "      <td>08/09/2020</td>\n",
       "      <td>07-May-2021</td>\n",
       "      <td>6</td>\n",
       "      <td>BSB</td>\n",
       "      <td>UK</td>\n",
       "      <td>WT</td>\n",
       "      <td>Scientific Research</td>\n",
       "      <td>Behaviour</td>\n",
       "      <td>Mild</td>\n",
       "      <td>'Water restriction', 'Earclip (identification)...</td>\n",
       "      <td>None</td>\n",
       "      <td>Culled Experimental</td>\n",
       "      <td></td>\n",
       "    </tr>\n",
       "    <tr>\n",
       "      <th>9</th>\n",
       "      <td>Mouse</td>\n",
       "      <td>1</td>\n",
       "      <td>08/09/2020</td>\n",
       "      <td>08-Apr-2021</td>\n",
       "      <td>10</td>\n",
       "      <td>BSB</td>\n",
       "      <td>UK</td>\n",
       "      <td>WT</td>\n",
       "      <td>Scientific Research</td>\n",
       "      <td>Nervous system</td>\n",
       "      <td>Moderate</td>\n",
       "      <td>'Water restriction', 'Earclip (identification)...</td>\n",
       "      <td>Recovery</td>\n",
       "      <td>Culled Experimental</td>\n",
       "      <td></td>\n",
       "    </tr>\n",
       "    <tr>\n",
       "      <th>10</th>\n",
       "      <td>Mouse</td>\n",
       "      <td>3</td>\n",
       "      <td>08/09/2020</td>\n",
       "      <td>08-May-2021</td>\n",
       "      <td>6</td>\n",
       "      <td>BSB</td>\n",
       "      <td>UK</td>\n",
       "      <td>WT</td>\n",
       "      <td>Scientific Research</td>\n",
       "      <td>Behaviour</td>\n",
       "      <td>Mild</td>\n",
       "      <td>'Water restriction', 'Earclip (identification)...</td>\n",
       "      <td>None</td>\n",
       "      <td>Culled Experimental</td>\n",
       "      <td></td>\n",
       "    </tr>\n",
       "    <tr>\n",
       "      <th>11</th>\n",
       "      <td>Mouse</td>\n",
       "      <td>3</td>\n",
       "      <td>08/09/2020</td>\n",
       "      <td>12-Aug-2021</td>\n",
       "      <td>6</td>\n",
       "      <td>BSB</td>\n",
       "      <td>UK</td>\n",
       "      <td>WT</td>\n",
       "      <td>Scientific Research</td>\n",
       "      <td>Behaviour</td>\n",
       "      <td>Mild</td>\n",
       "      <td>'Water restriction', 'Earclip (identification)...</td>\n",
       "      <td>None</td>\n",
       "      <td>Culled Experimental</td>\n",
       "      <td></td>\n",
       "    </tr>\n",
       "    <tr>\n",
       "      <th>12</th>\n",
       "      <td>Mouse</td>\n",
       "      <td>1</td>\n",
       "      <td>08/09/2020</td>\n",
       "      <td>12-May-2021</td>\n",
       "      <td>6</td>\n",
       "      <td>BSB</td>\n",
       "      <td>UK</td>\n",
       "      <td>WT</td>\n",
       "      <td>Scientific Research</td>\n",
       "      <td>Nervous system</td>\n",
       "      <td>Moderate</td>\n",
       "      <td>'Water restriction', 'Earclip (identification)...</td>\n",
       "      <td>Recovery</td>\n",
       "      <td>Culled Experimental</td>\n",
       "      <td></td>\n",
       "    </tr>\n",
       "    <tr>\n",
       "      <th>13</th>\n",
       "      <td>Mouse</td>\n",
       "      <td>4</td>\n",
       "      <td>08/09/2020</td>\n",
       "      <td>15-May-2021</td>\n",
       "      <td>6</td>\n",
       "      <td>BSB</td>\n",
       "      <td>UK</td>\n",
       "      <td>WT</td>\n",
       "      <td>Scientific Research</td>\n",
       "      <td>Behaviour</td>\n",
       "      <td>Mild</td>\n",
       "      <td>'Water restriction', 'Earclip (identification)...</td>\n",
       "      <td>None</td>\n",
       "      <td>Culled Experimental</td>\n",
       "      <td></td>\n",
       "    </tr>\n",
       "    <tr>\n",
       "      <th>14</th>\n",
       "      <td>Mouse</td>\n",
       "      <td>1</td>\n",
       "      <td>15/04/2021</td>\n",
       "      <td>03-Aug-2021</td>\n",
       "      <td>10</td>\n",
       "      <td>BSB</td>\n",
       "      <td>UK</td>\n",
       "      <td>WT</td>\n",
       "      <td>Scientific Research</td>\n",
       "      <td>Nervous system</td>\n",
       "      <td>Moderate</td>\n",
       "      <td>'Implantation of Device', 'Water restriction',...</td>\n",
       "      <td>Recovery</td>\n",
       "      <td>Culled Experimental</td>\n",
       "      <td></td>\n",
       "    </tr>\n",
       "    <tr>\n",
       "      <th>15</th>\n",
       "      <td>Mouse</td>\n",
       "      <td>1</td>\n",
       "      <td>15/04/2021</td>\n",
       "      <td>05-Aug-2021</td>\n",
       "      <td>10</td>\n",
       "      <td>BSB</td>\n",
       "      <td>UK</td>\n",
       "      <td>WT</td>\n",
       "      <td>Scientific Research</td>\n",
       "      <td>Nervous system</td>\n",
       "      <td>Moderate</td>\n",
       "      <td>'Implantation of Device', 'Water restriction',...</td>\n",
       "      <td>Recovery</td>\n",
       "      <td>Culled Experimental</td>\n",
       "      <td></td>\n",
       "    </tr>\n",
       "    <tr>\n",
       "      <th>16</th>\n",
       "      <td>Mouse</td>\n",
       "      <td>1</td>\n",
       "      <td>15/04/2021</td>\n",
       "      <td>05-May-2021</td>\n",
       "      <td>10</td>\n",
       "      <td>BSB</td>\n",
       "      <td>UK</td>\n",
       "      <td>WT</td>\n",
       "      <td>Scientific Research</td>\n",
       "      <td>Behaviour</td>\n",
       "      <td>Mild</td>\n",
       "      <td>'Implantation of Device', 'Water restriction'</td>\n",
       "      <td>Recovery</td>\n",
       "      <td>Culled Experimental</td>\n",
       "      <td></td>\n",
       "    </tr>\n",
       "    <tr>\n",
       "      <th>17</th>\n",
       "      <td>Mouse</td>\n",
       "      <td>2</td>\n",
       "      <td>15/04/2021</td>\n",
       "      <td>17-Aug-2021</td>\n",
       "      <td>10</td>\n",
       "      <td>BSB</td>\n",
       "      <td>UK</td>\n",
       "      <td>WT</td>\n",
       "      <td>Scientific Research</td>\n",
       "      <td>Nervous system</td>\n",
       "      <td>Moderate</td>\n",
       "      <td>'Implantation of Device', 'Water restriction',...</td>\n",
       "      <td>Recovery</td>\n",
       "      <td>Culled Experimental</td>\n",
       "      <td></td>\n",
       "    </tr>\n",
       "    <tr>\n",
       "      <th>18</th>\n",
       "      <td>Mouse</td>\n",
       "      <td>1</td>\n",
       "      <td>15/04/2021</td>\n",
       "      <td>18-Aug-2021</td>\n",
       "      <td>10</td>\n",
       "      <td>BSB</td>\n",
       "      <td>UK</td>\n",
       "      <td>WT</td>\n",
       "      <td>Scientific Research</td>\n",
       "      <td>Behaviour</td>\n",
       "      <td>Mild</td>\n",
       "      <td>'Implantation of Device', 'Implantation of Dev...</td>\n",
       "      <td>Recovery</td>\n",
       "      <td>Culled Experimental</td>\n",
       "      <td></td>\n",
       "    </tr>\n",
       "    <tr>\n",
       "      <th>19</th>\n",
       "      <td>Mouse</td>\n",
       "      <td>3</td>\n",
       "      <td>15/04/2021</td>\n",
       "      <td>18-Aug-2021</td>\n",
       "      <td>10</td>\n",
       "      <td>BSB</td>\n",
       "      <td>UK</td>\n",
       "      <td>WT</td>\n",
       "      <td>Scientific Research</td>\n",
       "      <td>Behaviour</td>\n",
       "      <td>Mild</td>\n",
       "      <td>'Implantation of Device', 'Water restriction'</td>\n",
       "      <td>Recovery</td>\n",
       "      <td>Culled Experimental</td>\n",
       "      <td></td>\n",
       "    </tr>\n",
       "    <tr>\n",
       "      <th>20</th>\n",
       "      <td>Mouse</td>\n",
       "      <td>1</td>\n",
       "      <td>15/04/2021</td>\n",
       "      <td>24-Jun-2021</td>\n",
       "      <td>10</td>\n",
       "      <td>BSB</td>\n",
       "      <td>UK</td>\n",
       "      <td>WT</td>\n",
       "      <td>Scientific Research</td>\n",
       "      <td>Nervous system</td>\n",
       "      <td>Severe</td>\n",
       "      <td>'Implantation of Device', 'Water restriction',...</td>\n",
       "      <td>Recovery</td>\n",
       "      <td>Culled Sick</td>\n",
       "      <td></td>\n",
       "    </tr>\n",
       "    <tr>\n",
       "      <th>21</th>\n",
       "      <td>Mouse</td>\n",
       "      <td>1</td>\n",
       "      <td>15/04/2021</td>\n",
       "      <td>31-Jul-2021</td>\n",
       "      <td>10</td>\n",
       "      <td>BSB</td>\n",
       "      <td>UK</td>\n",
       "      <td>WT</td>\n",
       "      <td>Scientific Research</td>\n",
       "      <td>Nervous system</td>\n",
       "      <td>Moderate</td>\n",
       "      <td>'Implantation of Device', 'Water restriction',...</td>\n",
       "      <td>Recovery</td>\n",
       "      <td>Culled Experimental</td>\n",
       "      <td></td>\n",
       "    </tr>\n",
       "    <tr>\n",
       "      <th>22</th>\n",
       "      <td>Mouse</td>\n",
       "      <td>2</td>\n",
       "      <td>22/01/2021</td>\n",
       "      <td>03-Jun-2021</td>\n",
       "      <td>2</td>\n",
       "      <td>BSB</td>\n",
       "      <td>UK</td>\n",
       "      <td>WT</td>\n",
       "      <td>Scientific Research</td>\n",
       "      <td>Behaviour</td>\n",
       "      <td>Mild</td>\n",
       "      <td>'Implantation of Device', 'Water restriction'</td>\n",
       "      <td>Recovery</td>\n",
       "      <td>Culled Experimental</td>\n",
       "      <td></td>\n",
       "    </tr>\n",
       "    <tr>\n",
       "      <th>23</th>\n",
       "      <td>Mouse</td>\n",
       "      <td>2</td>\n",
       "      <td>22/01/2021</td>\n",
       "      <td>12-Jul-2021</td>\n",
       "      <td>2</td>\n",
       "      <td>BSB</td>\n",
       "      <td>UK</td>\n",
       "      <td>WT</td>\n",
       "      <td>Scientific Research</td>\n",
       "      <td>Behaviour</td>\n",
       "      <td>Mild</td>\n",
       "      <td>'Implantation of Device', 'Water restriction'</td>\n",
       "      <td>Recovery</td>\n",
       "      <td>Culled Experimental</td>\n",
       "      <td></td>\n",
       "    </tr>\n",
       "  </tbody>\n",
       "</table>\n",
       "</div>"
      ],
      "text/plain": [
       "   Species  Number of animals  Start date     End date  Protocol Supplier  \\\n",
       "0    Mouse                  1  05/09/2020  22-Jan-2021         2      BSB   \n",
       "1    Mouse                  1  07/09/2021  15-Sep-2021        10      BSB   \n",
       "2    Mouse                  1  07/09/2021  21-Sep-2021        10      BSB   \n",
       "3    Mouse                  2  07/09/2021  22-Sep-2021        10      BSB   \n",
       "4    Mouse                  1  08/04/2021  22-Sep-2021        10      BSB   \n",
       "5    Mouse                  2  08/09/2020  01-Jun-2021         6      BSB   \n",
       "6    Mouse                  1  08/09/2020  03-May-2021         6      BSB   \n",
       "7    Mouse                  1  08/09/2020  05-May-2021         6      BSB   \n",
       "8    Mouse                  2  08/09/2020  07-May-2021         6      BSB   \n",
       "9    Mouse                  1  08/09/2020  08-Apr-2021        10      BSB   \n",
       "10   Mouse                  3  08/09/2020  08-May-2021         6      BSB   \n",
       "11   Mouse                  3  08/09/2020  12-Aug-2021         6      BSB   \n",
       "12   Mouse                  1  08/09/2020  12-May-2021         6      BSB   \n",
       "13   Mouse                  4  08/09/2020  15-May-2021         6      BSB   \n",
       "14   Mouse                  1  15/04/2021  03-Aug-2021        10      BSB   \n",
       "15   Mouse                  1  15/04/2021  05-Aug-2021        10      BSB   \n",
       "16   Mouse                  1  15/04/2021  05-May-2021        10      BSB   \n",
       "17   Mouse                  2  15/04/2021  17-Aug-2021        10      BSB   \n",
       "18   Mouse                  1  15/04/2021  18-Aug-2021        10      BSB   \n",
       "19   Mouse                  3  15/04/2021  18-Aug-2021        10      BSB   \n",
       "20   Mouse                  1  15/04/2021  24-Jun-2021        10      BSB   \n",
       "21   Mouse                  1  15/04/2021  31-Jul-2021        10      BSB   \n",
       "22   Mouse                  2  22/01/2021  03-Jun-2021         2      BSB   \n",
       "23   Mouse                  2  22/01/2021  12-Jul-2021         2      BSB   \n",
       "\n",
       "   Place of birth WT/GM              Purpose     Sub-purpose  \\\n",
       "0              UK    GM  Scientific Research       Behaviour   \n",
       "1              UK    WT  Scientific Research       Behaviour   \n",
       "2              UK    WT  Scientific Research       Behaviour   \n",
       "3              UK    WT  Scientific Research       Behaviour   \n",
       "4              UK    WT  Scientific Research  Nervous system   \n",
       "5              UK    WT  Scientific Research       Behaviour   \n",
       "6              UK    WT  Scientific Research       Behaviour   \n",
       "7              UK    WT  Scientific Research       Behaviour   \n",
       "8              UK    WT  Scientific Research       Behaviour   \n",
       "9              UK    WT  Scientific Research  Nervous system   \n",
       "10             UK    WT  Scientific Research       Behaviour   \n",
       "11             UK    WT  Scientific Research       Behaviour   \n",
       "12             UK    WT  Scientific Research  Nervous system   \n",
       "13             UK    WT  Scientific Research       Behaviour   \n",
       "14             UK    WT  Scientific Research  Nervous system   \n",
       "15             UK    WT  Scientific Research  Nervous system   \n",
       "16             UK    WT  Scientific Research       Behaviour   \n",
       "17             UK    WT  Scientific Research  Nervous system   \n",
       "18             UK    WT  Scientific Research       Behaviour   \n",
       "19             UK    WT  Scientific Research       Behaviour   \n",
       "20             UK    WT  Scientific Research  Nervous system   \n",
       "21             UK    WT  Scientific Research  Nervous system   \n",
       "22             UK    WT  Scientific Research       Behaviour   \n",
       "23             UK    WT  Scientific Research       Behaviour   \n",
       "\n",
       "   Retrospective severity                                         Procedures  \\\n",
       "0                    Mild  'Breeding And Maintenance Of Transgenic Mice',...   \n",
       "1                    Mild  'Implantation of Device', 'Water restriction',...   \n",
       "2                    Mild  'Implantation of Device', 'Water restriction',...   \n",
       "3                    Mild  'Implantation of Device', 'Water restriction',...   \n",
       "4                Moderate  'Water restriction', 'Behavioural testing', 'E...   \n",
       "5                    Mild  'Water restriction', 'Earclip (identification)...   \n",
       "6                    Mild  'Water restriction', 'Earclip (identification)...   \n",
       "7                    Mild  'Water restriction', 'Earclip (identification)...   \n",
       "8                    Mild  'Water restriction', 'Earclip (identification)...   \n",
       "9                Moderate  'Water restriction', 'Earclip (identification)...   \n",
       "10                   Mild  'Water restriction', 'Earclip (identification)...   \n",
       "11                   Mild  'Water restriction', 'Earclip (identification)...   \n",
       "12               Moderate  'Water restriction', 'Earclip (identification)...   \n",
       "13                   Mild  'Water restriction', 'Earclip (identification)...   \n",
       "14               Moderate  'Implantation of Device', 'Water restriction',...   \n",
       "15               Moderate  'Implantation of Device', 'Water restriction',...   \n",
       "16                   Mild      'Implantation of Device', 'Water restriction'   \n",
       "17               Moderate  'Implantation of Device', 'Water restriction',...   \n",
       "18                   Mild  'Implantation of Device', 'Implantation of Dev...   \n",
       "19                   Mild      'Implantation of Device', 'Water restriction'   \n",
       "20                 Severe  'Implantation of Device', 'Water restriction',...   \n",
       "21               Moderate  'Implantation of Device', 'Water restriction',...   \n",
       "22                   Mild      'Implantation of Device', 'Water restriction'   \n",
       "23                   Mild      'Implantation of Device', 'Water restriction'   \n",
       "\n",
       "   Anaesthesia                 Fate Comments  \n",
       "0     Recovery  Culled Experimental           \n",
       "1     Recovery  Culled Experimental           \n",
       "2     Recovery  Culled Experimental           \n",
       "3     Recovery  Culled Experimental           \n",
       "4     Recovery  Culled Experimental           \n",
       "5         None  Culled Experimental           \n",
       "6         None  Culled Experimental           \n",
       "7         None  Culled Experimental           \n",
       "8         None  Culled Experimental           \n",
       "9     Recovery  Culled Experimental           \n",
       "10        None  Culled Experimental           \n",
       "11        None  Culled Experimental           \n",
       "12    Recovery  Culled Experimental           \n",
       "13        None  Culled Experimental           \n",
       "14    Recovery  Culled Experimental           \n",
       "15    Recovery  Culled Experimental           \n",
       "16    Recovery  Culled Experimental           \n",
       "17    Recovery  Culled Experimental           \n",
       "18    Recovery  Culled Experimental           \n",
       "19    Recovery  Culled Experimental           \n",
       "20    Recovery          Culled Sick           \n",
       "21    Recovery  Culled Experimental           \n",
       "22    Recovery  Culled Experimental           \n",
       "23    Recovery  Culled Experimental           "
      ]
     },
     "execution_count": 413,
     "metadata": {},
     "output_type": "execute_result"
    }
   ],
   "source": [
    "df2"
   ]
  },
  {
   "cell_type": "code",
   "execution_count": 383,
   "metadata": {},
   "outputs": [],
   "source": [
    "gb = df.groupby(df.columns.tolist())"
   ]
  },
  {
   "cell_type": "code",
   "execution_count": 386,
   "metadata": {},
   "outputs": [
    {
     "data": {
      "text/html": [
       "<div>\n",
       "<style scoped>\n",
       "    .dataframe tbody tr th:only-of-type {\n",
       "        vertical-align: middle;\n",
       "    }\n",
       "\n",
       "    .dataframe tbody tr th {\n",
       "        vertical-align: top;\n",
       "    }\n",
       "\n",
       "    .dataframe thead th {\n",
       "        text-align: right;\n",
       "    }\n",
       "</style>\n",
       "<table border=\"1\" class=\"dataframe\">\n",
       "  <thead>\n",
       "    <tr style=\"text-align: right;\">\n",
       "      <th></th>\n",
       "      <th>Species</th>\n",
       "      <th>Start date</th>\n",
       "      <th>End date</th>\n",
       "      <th>Protocol</th>\n",
       "      <th>Supplier</th>\n",
       "      <th>Place of birth</th>\n",
       "      <th>WT/GM</th>\n",
       "      <th>Purpose</th>\n",
       "      <th>Sub-purpose</th>\n",
       "      <th>Retrospective severity</th>\n",
       "      <th>Procedures</th>\n",
       "      <th>Anaesthesia</th>\n",
       "      <th>Fate</th>\n",
       "      <th>Comments</th>\n",
       "    </tr>\n",
       "  </thead>\n",
       "  <tbody>\n",
       "    <tr>\n",
       "      <th>0</th>\n",
       "      <td>Mouse</td>\n",
       "      <td>05/09/2020</td>\n",
       "      <td>22-Jan-2021</td>\n",
       "      <td>2</td>\n",
       "      <td>BSB</td>\n",
       "      <td>UK</td>\n",
       "      <td>GM</td>\n",
       "      <td>Scientific Research</td>\n",
       "      <td>Behaviour</td>\n",
       "      <td>Mild</td>\n",
       "      <td>'Breeding And Maintenance Of Transgenic Mice',...</td>\n",
       "      <td>Recovery</td>\n",
       "      <td>Culled Experimental</td>\n",
       "      <td>NaN</td>\n",
       "    </tr>\n",
       "    <tr>\n",
       "      <th>1</th>\n",
       "      <td>Mouse</td>\n",
       "      <td>15/04/2021</td>\n",
       "      <td>17-Aug-2021</td>\n",
       "      <td>10</td>\n",
       "      <td>BSB</td>\n",
       "      <td>UK</td>\n",
       "      <td>WT</td>\n",
       "      <td>Scientific Research</td>\n",
       "      <td>Nervous system</td>\n",
       "      <td>Moderate</td>\n",
       "      <td>'Implantation of Device', 'Water restriction',...</td>\n",
       "      <td>Recovery</td>\n",
       "      <td>Culled Experimental</td>\n",
       "      <td>NaN</td>\n",
       "    </tr>\n",
       "    <tr>\n",
       "      <th>2</th>\n",
       "      <td>Mouse</td>\n",
       "      <td>15/04/2021</td>\n",
       "      <td>03-Aug-2021</td>\n",
       "      <td>10</td>\n",
       "      <td>BSB</td>\n",
       "      <td>UK</td>\n",
       "      <td>WT</td>\n",
       "      <td>Scientific Research</td>\n",
       "      <td>Nervous system</td>\n",
       "      <td>Moderate</td>\n",
       "      <td>'Implantation of Device', 'Water restriction',...</td>\n",
       "      <td>Recovery</td>\n",
       "      <td>Culled Experimental</td>\n",
       "      <td>NaN</td>\n",
       "    </tr>\n",
       "    <tr>\n",
       "      <th>3</th>\n",
       "      <td>Mouse</td>\n",
       "      <td>15/04/2021</td>\n",
       "      <td>31-Jul-2021</td>\n",
       "      <td>10</td>\n",
       "      <td>BSB</td>\n",
       "      <td>UK</td>\n",
       "      <td>WT</td>\n",
       "      <td>Scientific Research</td>\n",
       "      <td>Nervous system</td>\n",
       "      <td>Moderate</td>\n",
       "      <td>'Implantation of Device', 'Water restriction',...</td>\n",
       "      <td>Recovery</td>\n",
       "      <td>Culled Experimental</td>\n",
       "      <td>NaN</td>\n",
       "    </tr>\n",
       "    <tr>\n",
       "      <th>4</th>\n",
       "      <td>Mouse</td>\n",
       "      <td>08/09/2020</td>\n",
       "      <td>12-Aug-2021</td>\n",
       "      <td>6</td>\n",
       "      <td>BSB</td>\n",
       "      <td>UK</td>\n",
       "      <td>WT</td>\n",
       "      <td>Scientific Research</td>\n",
       "      <td>Behaviour</td>\n",
       "      <td>Mild</td>\n",
       "      <td>'Water restriction', 'Earclip (identification)...</td>\n",
       "      <td>None</td>\n",
       "      <td>Culled Experimental</td>\n",
       "      <td>NaN</td>\n",
       "    </tr>\n",
       "    <tr>\n",
       "      <th>5</th>\n",
       "      <td>Mouse</td>\n",
       "      <td>07/09/2021</td>\n",
       "      <td>21-Sep-2021</td>\n",
       "      <td>10</td>\n",
       "      <td>BSB</td>\n",
       "      <td>UK</td>\n",
       "      <td>WT</td>\n",
       "      <td>Scientific Research</td>\n",
       "      <td>Behaviour</td>\n",
       "      <td>Mild</td>\n",
       "      <td>'Implantation of Device', 'Water restriction',...</td>\n",
       "      <td>Recovery</td>\n",
       "      <td>Culled Experimental</td>\n",
       "      <td>NaN</td>\n",
       "    </tr>\n",
       "    <tr>\n",
       "      <th>6</th>\n",
       "      <td>Mouse</td>\n",
       "      <td>22/01/2021</td>\n",
       "      <td>12-Jul-2021</td>\n",
       "      <td>2</td>\n",
       "      <td>BSB</td>\n",
       "      <td>UK</td>\n",
       "      <td>WT</td>\n",
       "      <td>Scientific Research</td>\n",
       "      <td>Behaviour</td>\n",
       "      <td>Mild</td>\n",
       "      <td>'Implantation of Device', 'Water restriction'</td>\n",
       "      <td>Recovery</td>\n",
       "      <td>Culled Experimental</td>\n",
       "      <td>NaN</td>\n",
       "    </tr>\n",
       "    <tr>\n",
       "      <th>7</th>\n",
       "      <td>Mouse</td>\n",
       "      <td>07/09/2021</td>\n",
       "      <td>22-Sep-2021</td>\n",
       "      <td>10</td>\n",
       "      <td>BSB</td>\n",
       "      <td>UK</td>\n",
       "      <td>WT</td>\n",
       "      <td>Scientific Research</td>\n",
       "      <td>Behaviour</td>\n",
       "      <td>Mild</td>\n",
       "      <td>'Implantation of Device', 'Water restriction',...</td>\n",
       "      <td>Recovery</td>\n",
       "      <td>Culled Experimental</td>\n",
       "      <td>NaN</td>\n",
       "    </tr>\n",
       "    <tr>\n",
       "      <th>8</th>\n",
       "      <td>Mouse</td>\n",
       "      <td>08/09/2020</td>\n",
       "      <td>12-Aug-2021</td>\n",
       "      <td>6</td>\n",
       "      <td>BSB</td>\n",
       "      <td>UK</td>\n",
       "      <td>WT</td>\n",
       "      <td>Scientific Research</td>\n",
       "      <td>Behaviour</td>\n",
       "      <td>Mild</td>\n",
       "      <td>'Water restriction', 'Earclip (identification)...</td>\n",
       "      <td>None</td>\n",
       "      <td>Culled Experimental</td>\n",
       "      <td>NaN</td>\n",
       "    </tr>\n",
       "    <tr>\n",
       "      <th>9</th>\n",
       "      <td>Mouse</td>\n",
       "      <td>08/09/2020</td>\n",
       "      <td>15-May-2021</td>\n",
       "      <td>6</td>\n",
       "      <td>BSB</td>\n",
       "      <td>UK</td>\n",
       "      <td>WT</td>\n",
       "      <td>Scientific Research</td>\n",
       "      <td>Behaviour</td>\n",
       "      <td>Mild</td>\n",
       "      <td>'Water restriction', 'Earclip (identification)...</td>\n",
       "      <td>None</td>\n",
       "      <td>Culled Experimental</td>\n",
       "      <td>NaN</td>\n",
       "    </tr>\n",
       "    <tr>\n",
       "      <th>10</th>\n",
       "      <td>Mouse</td>\n",
       "      <td>15/04/2021</td>\n",
       "      <td>18-Aug-2021</td>\n",
       "      <td>10</td>\n",
       "      <td>BSB</td>\n",
       "      <td>UK</td>\n",
       "      <td>WT</td>\n",
       "      <td>Scientific Research</td>\n",
       "      <td>Behaviour</td>\n",
       "      <td>Mild</td>\n",
       "      <td>'Implantation of Device', 'Water restriction'</td>\n",
       "      <td>Recovery</td>\n",
       "      <td>Culled Experimental</td>\n",
       "      <td>NaN</td>\n",
       "    </tr>\n",
       "    <tr>\n",
       "      <th>11</th>\n",
       "      <td>Mouse</td>\n",
       "      <td>15/04/2021</td>\n",
       "      <td>05-Aug-2021</td>\n",
       "      <td>10</td>\n",
       "      <td>BSB</td>\n",
       "      <td>UK</td>\n",
       "      <td>WT</td>\n",
       "      <td>Scientific Research</td>\n",
       "      <td>Nervous system</td>\n",
       "      <td>Moderate</td>\n",
       "      <td>'Implantation of Device', 'Water restriction',...</td>\n",
       "      <td>Recovery</td>\n",
       "      <td>Culled Experimental</td>\n",
       "      <td>NaN</td>\n",
       "    </tr>\n",
       "    <tr>\n",
       "      <th>12</th>\n",
       "      <td>Mouse</td>\n",
       "      <td>08/09/2020</td>\n",
       "      <td>15-May-2021</td>\n",
       "      <td>6</td>\n",
       "      <td>BSB</td>\n",
       "      <td>UK</td>\n",
       "      <td>WT</td>\n",
       "      <td>Scientific Research</td>\n",
       "      <td>Behaviour</td>\n",
       "      <td>Mild</td>\n",
       "      <td>'Water restriction', 'Earclip (identification)...</td>\n",
       "      <td>None</td>\n",
       "      <td>Culled Experimental</td>\n",
       "      <td>NaN</td>\n",
       "    </tr>\n",
       "    <tr>\n",
       "      <th>13</th>\n",
       "      <td>Mouse</td>\n",
       "      <td>15/04/2021</td>\n",
       "      <td>18-Aug-2021</td>\n",
       "      <td>10</td>\n",
       "      <td>BSB</td>\n",
       "      <td>UK</td>\n",
       "      <td>WT</td>\n",
       "      <td>Scientific Research</td>\n",
       "      <td>Behaviour</td>\n",
       "      <td>Mild</td>\n",
       "      <td>'Implantation of Device', 'Water restriction'</td>\n",
       "      <td>Recovery</td>\n",
       "      <td>Culled Experimental</td>\n",
       "      <td>NaN</td>\n",
       "    </tr>\n",
       "    <tr>\n",
       "      <th>14</th>\n",
       "      <td>Mouse</td>\n",
       "      <td>08/09/2020</td>\n",
       "      <td>01-Jun-2021</td>\n",
       "      <td>6</td>\n",
       "      <td>BSB</td>\n",
       "      <td>UK</td>\n",
       "      <td>WT</td>\n",
       "      <td>Scientific Research</td>\n",
       "      <td>Behaviour</td>\n",
       "      <td>Mild</td>\n",
       "      <td>'Water restriction', 'Earclip (identification)...</td>\n",
       "      <td>None</td>\n",
       "      <td>Culled Experimental</td>\n",
       "      <td>NaN</td>\n",
       "    </tr>\n",
       "    <tr>\n",
       "      <th>15</th>\n",
       "      <td>Mouse</td>\n",
       "      <td>08/09/2020</td>\n",
       "      <td>08-Apr-2021</td>\n",
       "      <td>10</td>\n",
       "      <td>BSB</td>\n",
       "      <td>UK</td>\n",
       "      <td>WT</td>\n",
       "      <td>Scientific Research</td>\n",
       "      <td>Nervous system</td>\n",
       "      <td>Moderate</td>\n",
       "      <td>'Water restriction', 'Earclip (identification)...</td>\n",
       "      <td>Recovery</td>\n",
       "      <td>Culled Experimental</td>\n",
       "      <td>NaN</td>\n",
       "    </tr>\n",
       "    <tr>\n",
       "      <th>16</th>\n",
       "      <td>Mouse</td>\n",
       "      <td>08/09/2020</td>\n",
       "      <td>03-May-2021</td>\n",
       "      <td>6</td>\n",
       "      <td>BSB</td>\n",
       "      <td>UK</td>\n",
       "      <td>WT</td>\n",
       "      <td>Scientific Research</td>\n",
       "      <td>Behaviour</td>\n",
       "      <td>Mild</td>\n",
       "      <td>'Water restriction', 'Earclip (identification)...</td>\n",
       "      <td>None</td>\n",
       "      <td>Culled Experimental</td>\n",
       "      <td>NaN</td>\n",
       "    </tr>\n",
       "    <tr>\n",
       "      <th>17</th>\n",
       "      <td>Mouse</td>\n",
       "      <td>22/01/2021</td>\n",
       "      <td>12-Jul-2021</td>\n",
       "      <td>2</td>\n",
       "      <td>BSB</td>\n",
       "      <td>UK</td>\n",
       "      <td>WT</td>\n",
       "      <td>Scientific Research</td>\n",
       "      <td>Behaviour</td>\n",
       "      <td>Mild</td>\n",
       "      <td>'Implantation of Device', 'Water restriction'</td>\n",
       "      <td>Recovery</td>\n",
       "      <td>Culled Experimental</td>\n",
       "      <td>NaN</td>\n",
       "    </tr>\n",
       "    <tr>\n",
       "      <th>18</th>\n",
       "      <td>Mouse</td>\n",
       "      <td>08/09/2020</td>\n",
       "      <td>08-May-2021</td>\n",
       "      <td>6</td>\n",
       "      <td>BSB</td>\n",
       "      <td>UK</td>\n",
       "      <td>WT</td>\n",
       "      <td>Scientific Research</td>\n",
       "      <td>Behaviour</td>\n",
       "      <td>Mild</td>\n",
       "      <td>'Water restriction', 'Earclip (identification)...</td>\n",
       "      <td>None</td>\n",
       "      <td>Culled Experimental</td>\n",
       "      <td>NaN</td>\n",
       "    </tr>\n",
       "    <tr>\n",
       "      <th>19</th>\n",
       "      <td>Mouse</td>\n",
       "      <td>15/04/2021</td>\n",
       "      <td>24-Jun-2021</td>\n",
       "      <td>10</td>\n",
       "      <td>BSB</td>\n",
       "      <td>UK</td>\n",
       "      <td>WT</td>\n",
       "      <td>Scientific Research</td>\n",
       "      <td>Nervous system</td>\n",
       "      <td>Severe</td>\n",
       "      <td>'Implantation of Device', 'Water restriction',...</td>\n",
       "      <td>Recovery</td>\n",
       "      <td>Culled Sick</td>\n",
       "      <td>NaN</td>\n",
       "    </tr>\n",
       "    <tr>\n",
       "      <th>20</th>\n",
       "      <td>Mouse</td>\n",
       "      <td>15/04/2021</td>\n",
       "      <td>17-Aug-2021</td>\n",
       "      <td>10</td>\n",
       "      <td>BSB</td>\n",
       "      <td>UK</td>\n",
       "      <td>WT</td>\n",
       "      <td>Scientific Research</td>\n",
       "      <td>Nervous system</td>\n",
       "      <td>Moderate</td>\n",
       "      <td>'Implantation of Device', 'Water restriction',...</td>\n",
       "      <td>Recovery</td>\n",
       "      <td>Culled Experimental</td>\n",
       "      <td>NaN</td>\n",
       "    </tr>\n",
       "    <tr>\n",
       "      <th>21</th>\n",
       "      <td>Mouse</td>\n",
       "      <td>08/09/2020</td>\n",
       "      <td>07-May-2021</td>\n",
       "      <td>6</td>\n",
       "      <td>BSB</td>\n",
       "      <td>UK</td>\n",
       "      <td>WT</td>\n",
       "      <td>Scientific Research</td>\n",
       "      <td>Behaviour</td>\n",
       "      <td>Mild</td>\n",
       "      <td>'Water restriction', 'Earclip (identification)...</td>\n",
       "      <td>None</td>\n",
       "      <td>Culled Experimental</td>\n",
       "      <td>NaN</td>\n",
       "    </tr>\n",
       "    <tr>\n",
       "      <th>22</th>\n",
       "      <td>Mouse</td>\n",
       "      <td>07/09/2021</td>\n",
       "      <td>15-Sep-2021</td>\n",
       "      <td>10</td>\n",
       "      <td>BSB</td>\n",
       "      <td>UK</td>\n",
       "      <td>WT</td>\n",
       "      <td>Scientific Research</td>\n",
       "      <td>Behaviour</td>\n",
       "      <td>Mild</td>\n",
       "      <td>'Implantation of Device', 'Water restriction',...</td>\n",
       "      <td>Recovery</td>\n",
       "      <td>Culled Experimental</td>\n",
       "      <td>NaN</td>\n",
       "    </tr>\n",
       "    <tr>\n",
       "      <th>23</th>\n",
       "      <td>Mouse</td>\n",
       "      <td>08/09/2020</td>\n",
       "      <td>15-May-2021</td>\n",
       "      <td>6</td>\n",
       "      <td>BSB</td>\n",
       "      <td>UK</td>\n",
       "      <td>WT</td>\n",
       "      <td>Scientific Research</td>\n",
       "      <td>Behaviour</td>\n",
       "      <td>Mild</td>\n",
       "      <td>'Water restriction', 'Earclip (identification)...</td>\n",
       "      <td>None</td>\n",
       "      <td>Culled Experimental</td>\n",
       "      <td>NaN</td>\n",
       "    </tr>\n",
       "    <tr>\n",
       "      <th>24</th>\n",
       "      <td>Mouse</td>\n",
       "      <td>08/09/2020</td>\n",
       "      <td>12-May-2021</td>\n",
       "      <td>6</td>\n",
       "      <td>BSB</td>\n",
       "      <td>UK</td>\n",
       "      <td>WT</td>\n",
       "      <td>Scientific Research</td>\n",
       "      <td>Nervous system</td>\n",
       "      <td>Moderate</td>\n",
       "      <td>'Water restriction', 'Earclip (identification)...</td>\n",
       "      <td>Recovery</td>\n",
       "      <td>Culled Experimental</td>\n",
       "      <td>NaN</td>\n",
       "    </tr>\n",
       "    <tr>\n",
       "      <th>25</th>\n",
       "      <td>Mouse</td>\n",
       "      <td>15/04/2021</td>\n",
       "      <td>18-Aug-2021</td>\n",
       "      <td>10</td>\n",
       "      <td>BSB</td>\n",
       "      <td>UK</td>\n",
       "      <td>WT</td>\n",
       "      <td>Scientific Research</td>\n",
       "      <td>Behaviour</td>\n",
       "      <td>Mild</td>\n",
       "      <td>'Implantation of Device', 'Implantation of Dev...</td>\n",
       "      <td>Recovery</td>\n",
       "      <td>Culled Experimental</td>\n",
       "      <td>NaN</td>\n",
       "    </tr>\n",
       "    <tr>\n",
       "      <th>26</th>\n",
       "      <td>Mouse</td>\n",
       "      <td>08/09/2020</td>\n",
       "      <td>15-May-2021</td>\n",
       "      <td>6</td>\n",
       "      <td>BSB</td>\n",
       "      <td>UK</td>\n",
       "      <td>WT</td>\n",
       "      <td>Scientific Research</td>\n",
       "      <td>Behaviour</td>\n",
       "      <td>Mild</td>\n",
       "      <td>'Water restriction', 'Earclip (identification)...</td>\n",
       "      <td>None</td>\n",
       "      <td>Culled Experimental</td>\n",
       "      <td>NaN</td>\n",
       "    </tr>\n",
       "    <tr>\n",
       "      <th>27</th>\n",
       "      <td>Mouse</td>\n",
       "      <td>08/09/2020</td>\n",
       "      <td>05-May-2021</td>\n",
       "      <td>6</td>\n",
       "      <td>BSB</td>\n",
       "      <td>UK</td>\n",
       "      <td>WT</td>\n",
       "      <td>Scientific Research</td>\n",
       "      <td>Behaviour</td>\n",
       "      <td>Mild</td>\n",
       "      <td>'Water restriction', 'Earclip (identification)...</td>\n",
       "      <td>None</td>\n",
       "      <td>Culled Experimental</td>\n",
       "      <td>NaN</td>\n",
       "    </tr>\n",
       "    <tr>\n",
       "      <th>28</th>\n",
       "      <td>Mouse</td>\n",
       "      <td>08/09/2020</td>\n",
       "      <td>12-Aug-2021</td>\n",
       "      <td>6</td>\n",
       "      <td>BSB</td>\n",
       "      <td>UK</td>\n",
       "      <td>WT</td>\n",
       "      <td>Scientific Research</td>\n",
       "      <td>Behaviour</td>\n",
       "      <td>Mild</td>\n",
       "      <td>'Water restriction', 'Earclip (identification)...</td>\n",
       "      <td>None</td>\n",
       "      <td>Culled Experimental</td>\n",
       "      <td>NaN</td>\n",
       "    </tr>\n",
       "    <tr>\n",
       "      <th>29</th>\n",
       "      <td>Mouse</td>\n",
       "      <td>15/04/2021</td>\n",
       "      <td>05-May-2021</td>\n",
       "      <td>10</td>\n",
       "      <td>BSB</td>\n",
       "      <td>UK</td>\n",
       "      <td>WT</td>\n",
       "      <td>Scientific Research</td>\n",
       "      <td>Behaviour</td>\n",
       "      <td>Mild</td>\n",
       "      <td>'Implantation of Device', 'Water restriction'</td>\n",
       "      <td>Recovery</td>\n",
       "      <td>Culled Experimental</td>\n",
       "      <td>NaN</td>\n",
       "    </tr>\n",
       "    <tr>\n",
       "      <th>30</th>\n",
       "      <td>Mouse</td>\n",
       "      <td>08/09/2020</td>\n",
       "      <td>01-Jun-2021</td>\n",
       "      <td>6</td>\n",
       "      <td>BSB</td>\n",
       "      <td>UK</td>\n",
       "      <td>WT</td>\n",
       "      <td>Scientific Research</td>\n",
       "      <td>Behaviour</td>\n",
       "      <td>Mild</td>\n",
       "      <td>'Water restriction', 'Earclip (identification)...</td>\n",
       "      <td>None</td>\n",
       "      <td>Culled Experimental</td>\n",
       "      <td>NaN</td>\n",
       "    </tr>\n",
       "    <tr>\n",
       "      <th>31</th>\n",
       "      <td>Mouse</td>\n",
       "      <td>15/04/2021</td>\n",
       "      <td>18-Aug-2021</td>\n",
       "      <td>10</td>\n",
       "      <td>BSB</td>\n",
       "      <td>UK</td>\n",
       "      <td>WT</td>\n",
       "      <td>Scientific Research</td>\n",
       "      <td>Behaviour</td>\n",
       "      <td>Mild</td>\n",
       "      <td>'Implantation of Device', 'Water restriction'</td>\n",
       "      <td>Recovery</td>\n",
       "      <td>Culled Experimental</td>\n",
       "      <td>NaN</td>\n",
       "    </tr>\n",
       "    <tr>\n",
       "      <th>32</th>\n",
       "      <td>Mouse</td>\n",
       "      <td>08/09/2020</td>\n",
       "      <td>07-May-2021</td>\n",
       "      <td>6</td>\n",
       "      <td>BSB</td>\n",
       "      <td>UK</td>\n",
       "      <td>WT</td>\n",
       "      <td>Scientific Research</td>\n",
       "      <td>Behaviour</td>\n",
       "      <td>Mild</td>\n",
       "      <td>'Water restriction', 'Earclip (identification)...</td>\n",
       "      <td>None</td>\n",
       "      <td>Culled Experimental</td>\n",
       "      <td>NaN</td>\n",
       "    </tr>\n",
       "    <tr>\n",
       "      <th>33</th>\n",
       "      <td>Mouse</td>\n",
       "      <td>08/09/2020</td>\n",
       "      <td>08-May-2021</td>\n",
       "      <td>6</td>\n",
       "      <td>BSB</td>\n",
       "      <td>UK</td>\n",
       "      <td>WT</td>\n",
       "      <td>Scientific Research</td>\n",
       "      <td>Behaviour</td>\n",
       "      <td>Mild</td>\n",
       "      <td>'Water restriction', 'Earclip (identification)...</td>\n",
       "      <td>None</td>\n",
       "      <td>Culled Experimental</td>\n",
       "      <td>NaN</td>\n",
       "    </tr>\n",
       "    <tr>\n",
       "      <th>34</th>\n",
       "      <td>Mouse</td>\n",
       "      <td>22/01/2021</td>\n",
       "      <td>03-Jun-2021</td>\n",
       "      <td>2</td>\n",
       "      <td>BSB</td>\n",
       "      <td>UK</td>\n",
       "      <td>WT</td>\n",
       "      <td>Scientific Research</td>\n",
       "      <td>Behaviour</td>\n",
       "      <td>Mild</td>\n",
       "      <td>'Implantation of Device', 'Water restriction'</td>\n",
       "      <td>Recovery</td>\n",
       "      <td>Culled Experimental</td>\n",
       "      <td>NaN</td>\n",
       "    </tr>\n",
       "    <tr>\n",
       "      <th>35</th>\n",
       "      <td>Mouse</td>\n",
       "      <td>07/09/2021</td>\n",
       "      <td>22-Sep-2021</td>\n",
       "      <td>10</td>\n",
       "      <td>BSB</td>\n",
       "      <td>UK</td>\n",
       "      <td>WT</td>\n",
       "      <td>Scientific Research</td>\n",
       "      <td>Behaviour</td>\n",
       "      <td>Mild</td>\n",
       "      <td>'Implantation of Device', 'Water restriction',...</td>\n",
       "      <td>Recovery</td>\n",
       "      <td>Culled Experimental</td>\n",
       "      <td>NaN</td>\n",
       "    </tr>\n",
       "    <tr>\n",
       "      <th>36</th>\n",
       "      <td>Mouse</td>\n",
       "      <td>22/01/2021</td>\n",
       "      <td>03-Jun-2021</td>\n",
       "      <td>2</td>\n",
       "      <td>BSB</td>\n",
       "      <td>UK</td>\n",
       "      <td>WT</td>\n",
       "      <td>Scientific Research</td>\n",
       "      <td>Behaviour</td>\n",
       "      <td>Mild</td>\n",
       "      <td>'Implantation of Device', 'Water restriction'</td>\n",
       "      <td>Recovery</td>\n",
       "      <td>Culled Experimental</td>\n",
       "      <td>NaN</td>\n",
       "    </tr>\n",
       "    <tr>\n",
       "      <th>37</th>\n",
       "      <td>Mouse</td>\n",
       "      <td>08/09/2020</td>\n",
       "      <td>08-May-2021</td>\n",
       "      <td>6</td>\n",
       "      <td>BSB</td>\n",
       "      <td>UK</td>\n",
       "      <td>WT</td>\n",
       "      <td>Scientific Research</td>\n",
       "      <td>Behaviour</td>\n",
       "      <td>Mild</td>\n",
       "      <td>'Water restriction', 'Earclip (identification)...</td>\n",
       "      <td>None</td>\n",
       "      <td>Culled Experimental</td>\n",
       "      <td>NaN</td>\n",
       "    </tr>\n",
       "    <tr>\n",
       "      <th>38</th>\n",
       "      <td>Mouse</td>\n",
       "      <td>08/04/2021</td>\n",
       "      <td>22-Sep-2021</td>\n",
       "      <td>10</td>\n",
       "      <td>BSB</td>\n",
       "      <td>UK</td>\n",
       "      <td>WT</td>\n",
       "      <td>Scientific Research</td>\n",
       "      <td>Nervous system</td>\n",
       "      <td>Moderate</td>\n",
       "      <td>'Water restriction', 'Behavioural testing', 'E...</td>\n",
       "      <td>Recovery</td>\n",
       "      <td>Culled Experimental</td>\n",
       "      <td>NaN</td>\n",
       "    </tr>\n",
       "  </tbody>\n",
       "</table>\n",
       "</div>"
      ],
      "text/plain": [
       "   Species  Start date     End date  Protocol Supplier Place of birth WT/GM  \\\n",
       "0    Mouse  05/09/2020  22-Jan-2021         2      BSB             UK    GM   \n",
       "1    Mouse  15/04/2021  17-Aug-2021        10      BSB             UK    WT   \n",
       "2    Mouse  15/04/2021  03-Aug-2021        10      BSB             UK    WT   \n",
       "3    Mouse  15/04/2021  31-Jul-2021        10      BSB             UK    WT   \n",
       "4    Mouse  08/09/2020  12-Aug-2021         6      BSB             UK    WT   \n",
       "5    Mouse  07/09/2021  21-Sep-2021        10      BSB             UK    WT   \n",
       "6    Mouse  22/01/2021  12-Jul-2021         2      BSB             UK    WT   \n",
       "7    Mouse  07/09/2021  22-Sep-2021        10      BSB             UK    WT   \n",
       "8    Mouse  08/09/2020  12-Aug-2021         6      BSB             UK    WT   \n",
       "9    Mouse  08/09/2020  15-May-2021         6      BSB             UK    WT   \n",
       "10   Mouse  15/04/2021  18-Aug-2021        10      BSB             UK    WT   \n",
       "11   Mouse  15/04/2021  05-Aug-2021        10      BSB             UK    WT   \n",
       "12   Mouse  08/09/2020  15-May-2021         6      BSB             UK    WT   \n",
       "13   Mouse  15/04/2021  18-Aug-2021        10      BSB             UK    WT   \n",
       "14   Mouse  08/09/2020  01-Jun-2021         6      BSB             UK    WT   \n",
       "15   Mouse  08/09/2020  08-Apr-2021        10      BSB             UK    WT   \n",
       "16   Mouse  08/09/2020  03-May-2021         6      BSB             UK    WT   \n",
       "17   Mouse  22/01/2021  12-Jul-2021         2      BSB             UK    WT   \n",
       "18   Mouse  08/09/2020  08-May-2021         6      BSB             UK    WT   \n",
       "19   Mouse  15/04/2021  24-Jun-2021        10      BSB             UK    WT   \n",
       "20   Mouse  15/04/2021  17-Aug-2021        10      BSB             UK    WT   \n",
       "21   Mouse  08/09/2020  07-May-2021         6      BSB             UK    WT   \n",
       "22   Mouse  07/09/2021  15-Sep-2021        10      BSB             UK    WT   \n",
       "23   Mouse  08/09/2020  15-May-2021         6      BSB             UK    WT   \n",
       "24   Mouse  08/09/2020  12-May-2021         6      BSB             UK    WT   \n",
       "25   Mouse  15/04/2021  18-Aug-2021        10      BSB             UK    WT   \n",
       "26   Mouse  08/09/2020  15-May-2021         6      BSB             UK    WT   \n",
       "27   Mouse  08/09/2020  05-May-2021         6      BSB             UK    WT   \n",
       "28   Mouse  08/09/2020  12-Aug-2021         6      BSB             UK    WT   \n",
       "29   Mouse  15/04/2021  05-May-2021        10      BSB             UK    WT   \n",
       "30   Mouse  08/09/2020  01-Jun-2021         6      BSB             UK    WT   \n",
       "31   Mouse  15/04/2021  18-Aug-2021        10      BSB             UK    WT   \n",
       "32   Mouse  08/09/2020  07-May-2021         6      BSB             UK    WT   \n",
       "33   Mouse  08/09/2020  08-May-2021         6      BSB             UK    WT   \n",
       "34   Mouse  22/01/2021  03-Jun-2021         2      BSB             UK    WT   \n",
       "35   Mouse  07/09/2021  22-Sep-2021        10      BSB             UK    WT   \n",
       "36   Mouse  22/01/2021  03-Jun-2021         2      BSB             UK    WT   \n",
       "37   Mouse  08/09/2020  08-May-2021         6      BSB             UK    WT   \n",
       "38   Mouse  08/04/2021  22-Sep-2021        10      BSB             UK    WT   \n",
       "\n",
       "                Purpose     Sub-purpose Retrospective severity  \\\n",
       "0   Scientific Research       Behaviour                   Mild   \n",
       "1   Scientific Research  Nervous system               Moderate   \n",
       "2   Scientific Research  Nervous system               Moderate   \n",
       "3   Scientific Research  Nervous system               Moderate   \n",
       "4   Scientific Research       Behaviour                   Mild   \n",
       "5   Scientific Research       Behaviour                   Mild   \n",
       "6   Scientific Research       Behaviour                   Mild   \n",
       "7   Scientific Research       Behaviour                   Mild   \n",
       "8   Scientific Research       Behaviour                   Mild   \n",
       "9   Scientific Research       Behaviour                   Mild   \n",
       "10  Scientific Research       Behaviour                   Mild   \n",
       "11  Scientific Research  Nervous system               Moderate   \n",
       "12  Scientific Research       Behaviour                   Mild   \n",
       "13  Scientific Research       Behaviour                   Mild   \n",
       "14  Scientific Research       Behaviour                   Mild   \n",
       "15  Scientific Research  Nervous system               Moderate   \n",
       "16  Scientific Research       Behaviour                   Mild   \n",
       "17  Scientific Research       Behaviour                   Mild   \n",
       "18  Scientific Research       Behaviour                   Mild   \n",
       "19  Scientific Research  Nervous system                 Severe   \n",
       "20  Scientific Research  Nervous system               Moderate   \n",
       "21  Scientific Research       Behaviour                   Mild   \n",
       "22  Scientific Research       Behaviour                   Mild   \n",
       "23  Scientific Research       Behaviour                   Mild   \n",
       "24  Scientific Research  Nervous system               Moderate   \n",
       "25  Scientific Research       Behaviour                   Mild   \n",
       "26  Scientific Research       Behaviour                   Mild   \n",
       "27  Scientific Research       Behaviour                   Mild   \n",
       "28  Scientific Research       Behaviour                   Mild   \n",
       "29  Scientific Research       Behaviour                   Mild   \n",
       "30  Scientific Research       Behaviour                   Mild   \n",
       "31  Scientific Research       Behaviour                   Mild   \n",
       "32  Scientific Research       Behaviour                   Mild   \n",
       "33  Scientific Research       Behaviour                   Mild   \n",
       "34  Scientific Research       Behaviour                   Mild   \n",
       "35  Scientific Research       Behaviour                   Mild   \n",
       "36  Scientific Research       Behaviour                   Mild   \n",
       "37  Scientific Research       Behaviour                   Mild   \n",
       "38  Scientific Research  Nervous system               Moderate   \n",
       "\n",
       "                                           Procedures Anaesthesia  \\\n",
       "0   'Breeding And Maintenance Of Transgenic Mice',...    Recovery   \n",
       "1   'Implantation of Device', 'Water restriction',...    Recovery   \n",
       "2   'Implantation of Device', 'Water restriction',...    Recovery   \n",
       "3   'Implantation of Device', 'Water restriction',...    Recovery   \n",
       "4   'Water restriction', 'Earclip (identification)...        None   \n",
       "5   'Implantation of Device', 'Water restriction',...    Recovery   \n",
       "6       'Implantation of Device', 'Water restriction'    Recovery   \n",
       "7   'Implantation of Device', 'Water restriction',...    Recovery   \n",
       "8   'Water restriction', 'Earclip (identification)...        None   \n",
       "9   'Water restriction', 'Earclip (identification)...        None   \n",
       "10      'Implantation of Device', 'Water restriction'    Recovery   \n",
       "11  'Implantation of Device', 'Water restriction',...    Recovery   \n",
       "12  'Water restriction', 'Earclip (identification)...        None   \n",
       "13      'Implantation of Device', 'Water restriction'    Recovery   \n",
       "14  'Water restriction', 'Earclip (identification)...        None   \n",
       "15  'Water restriction', 'Earclip (identification)...    Recovery   \n",
       "16  'Water restriction', 'Earclip (identification)...        None   \n",
       "17      'Implantation of Device', 'Water restriction'    Recovery   \n",
       "18  'Water restriction', 'Earclip (identification)...        None   \n",
       "19  'Implantation of Device', 'Water restriction',...    Recovery   \n",
       "20  'Implantation of Device', 'Water restriction',...    Recovery   \n",
       "21  'Water restriction', 'Earclip (identification)...        None   \n",
       "22  'Implantation of Device', 'Water restriction',...    Recovery   \n",
       "23  'Water restriction', 'Earclip (identification)...        None   \n",
       "24  'Water restriction', 'Earclip (identification)...    Recovery   \n",
       "25  'Implantation of Device', 'Implantation of Dev...    Recovery   \n",
       "26  'Water restriction', 'Earclip (identification)...        None   \n",
       "27  'Water restriction', 'Earclip (identification)...        None   \n",
       "28  'Water restriction', 'Earclip (identification)...        None   \n",
       "29      'Implantation of Device', 'Water restriction'    Recovery   \n",
       "30  'Water restriction', 'Earclip (identification)...        None   \n",
       "31      'Implantation of Device', 'Water restriction'    Recovery   \n",
       "32  'Water restriction', 'Earclip (identification)...        None   \n",
       "33  'Water restriction', 'Earclip (identification)...        None   \n",
       "34      'Implantation of Device', 'Water restriction'    Recovery   \n",
       "35  'Implantation of Device', 'Water restriction',...    Recovery   \n",
       "36      'Implantation of Device', 'Water restriction'    Recovery   \n",
       "37  'Water restriction', 'Earclip (identification)...        None   \n",
       "38  'Water restriction', 'Behavioural testing', 'E...    Recovery   \n",
       "\n",
       "                   Fate  Comments  \n",
       "0   Culled Experimental       NaN  \n",
       "1   Culled Experimental       NaN  \n",
       "2   Culled Experimental       NaN  \n",
       "3   Culled Experimental       NaN  \n",
       "4   Culled Experimental       NaN  \n",
       "5   Culled Experimental       NaN  \n",
       "6   Culled Experimental       NaN  \n",
       "7   Culled Experimental       NaN  \n",
       "8   Culled Experimental       NaN  \n",
       "9   Culled Experimental       NaN  \n",
       "10  Culled Experimental       NaN  \n",
       "11  Culled Experimental       NaN  \n",
       "12  Culled Experimental       NaN  \n",
       "13  Culled Experimental       NaN  \n",
       "14  Culled Experimental       NaN  \n",
       "15  Culled Experimental       NaN  \n",
       "16  Culled Experimental       NaN  \n",
       "17  Culled Experimental       NaN  \n",
       "18  Culled Experimental       NaN  \n",
       "19          Culled Sick       NaN  \n",
       "20  Culled Experimental       NaN  \n",
       "21  Culled Experimental       NaN  \n",
       "22  Culled Experimental       NaN  \n",
       "23  Culled Experimental       NaN  \n",
       "24  Culled Experimental       NaN  \n",
       "25  Culled Experimental       NaN  \n",
       "26  Culled Experimental       NaN  \n",
       "27  Culled Experimental       NaN  \n",
       "28  Culled Experimental       NaN  \n",
       "29  Culled Experimental       NaN  \n",
       "30  Culled Experimental       NaN  \n",
       "31  Culled Experimental       NaN  \n",
       "32  Culled Experimental       NaN  \n",
       "33  Culled Experimental       NaN  \n",
       "34  Culled Experimental       NaN  \n",
       "35  Culled Experimental       NaN  \n",
       "36  Culled Experimental       NaN  \n",
       "37  Culled Experimental       NaN  \n",
       "38  Culled Experimental       NaN  "
      ]
     },
     "execution_count": 386,
     "metadata": {},
     "output_type": "execute_result"
    }
   ],
   "source": [
    "df"
   ]
  },
  {
   "cell_type": "code",
   "execution_count": null,
   "metadata": {},
   "outputs": [],
   "source": []
  }
 ],
 "metadata": {
  "kernelspec": {
   "display_name": "Python 3",
   "language": "python",
   "name": "python3"
  },
  "language_info": {
   "codemirror_mode": {
    "name": "ipython",
    "version": 3
   },
   "file_extension": ".py",
   "mimetype": "text/x-python",
   "name": "python",
   "nbconvert_exporter": "python",
   "pygments_lexer": "ipython3",
   "version": "3.7.4"
  }
 },
 "nbformat": 4,
 "nbformat_minor": 2
}
