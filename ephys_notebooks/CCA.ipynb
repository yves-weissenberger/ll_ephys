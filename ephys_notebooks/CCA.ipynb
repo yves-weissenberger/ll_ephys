{
 "cells": [
  {
   "cell_type": "markdown",
   "metadata": {},
   "source": [
    "# CCA explore\n",
    "\n",
    "\n",
    "## Here try to get to grips with CCA\n",
    "\n",
    "The basic approach is the following. You have two things that have the same underlying dynamics in different subspaces. What I guess you are doing is solving an eigenvalue problem on the cross covariance matrix?? Is that right?\n",
    "\n",
    "In other way what you do is to do an SVD on both data matrices. Then you\n",
    "\n",
    "\n",
    "## Interpretation\n",
    "\n",
    "What is the prediction of the principal angles between movements in different directions...?\n",
    "\n",
    "\n",
    "## CCA just works\n",
    "\n",
    "CCA will just naively work here since it is a rotation of the data"
   ]
  },
  {
   "cell_type": "code",
   "execution_count": 1450,
   "metadata": {},
   "outputs": [],
   "source": [
    "%matplotlib inline\n",
    "\n",
    "import numpy as np\n",
    "import matplotlib.pyplot as plt\n",
    "import seaborn\n",
    "seaborn.set(font_scale=1.5,style='ticks')"
   ]
  },
  {
   "cell_type": "code",
   "execution_count": 2264,
   "metadata": {},
   "outputs": [],
   "source": [
    "def run_CCA(D1, D2, hat_dims=2):\n",
    "    \n",
    "    \"\"\"\n",
    "    This code runs canonical correlation analysis. The point here is that\n",
    "    we want to find rotation matrices that align two separate datasets\n",
    "    \n",
    "    Arguments:\n",
    "    \n",
    "    D_i:            np.array\n",
    "                    shape should be n_neurons x n_timeopints\n",
    "    \"\"\"\n",
    "    \n",
    "    \n",
    "    #run SVD on datasets to obtain temporal and cellular\n",
    "    #singular vectors\n",
    "    U1,S1,Vt1 = np.linalg.svd(D1)\n",
    "    S1 = np.eye(len(U1),len(Vt1))*S1[:,None]\n",
    "    U2,S2,Vt2 = np.linalg.svd(D2)\n",
    "    S2 = np.eye(len(U2),len(Vt2))*S2[:,None]\n",
    "\n",
    "    \n",
    "   \n",
    "    #select the top 'hat_dims' cellular singular vectors\n",
    "    Uhat1 = U1[:,:hat_dims]\n",
    "    Uhat2 = U2[:,:hat_dims]\n",
    "    \n",
    "    #I1= Uhat1.T.dot(U1)\n",
    "    \n",
    "    #This is the covariance between each cellular singular vector\n",
    "    #and the corresponding data matrix\n",
    "    L1 = Uhat1.T.dot(D1)   \n",
    "    L2 = Uhat2.T.dot(D2)\n",
    "    \n",
    "    \n",
    "    Q1,R1 = Vt1[:hat_dims].T,S1[:hat_dims,:hat_dims]\n",
    "    Q2,R2 = Vt2[:hat_dims].T,S2[:hat_dims,:hat_dims]\n",
    "    \n",
    "    \n",
    "    \n",
    "    #this dot product defines the correlations between the different axes\n",
    "    #identified for the neural modes. What SVD will do is \n",
    "    Ub,Sb,Vtb = np.linalg.svd(np.dot(Q1.T,Q2))\n",
    "    \n",
    "    \n",
    "    #These are rotation matrices that rotate the data matrices into\n",
    "    #the common subspace\n",
    "    M1 = np.linalg.inv(R1).dot(Ub)\n",
    "    M2 = np.linalg.inv(R2).dot(Vtb)\n",
    "    \n",
    "    results_dict = {'U1': U1,\n",
    "                    'U2': U2,\n",
    "                    'V1': V1,\n",
    "                    'V2': V2,\n",
    "                    'S1': S1,\n",
    "                    'S2': S2,\n",
    "                    'L1': L1,\n",
    "                    'L2': L2,\n",
    "                    'M1': M1,\n",
    "                    'M2': M2}\n",
    "    \n",
    "    return results_dict"
   ]
  },
  {
   "cell_type": "code",
   "execution_count": 2265,
   "metadata": {},
   "outputs": [],
   "source": [
    "def compute_angles_between_hyperplanes(results_dict):\n",
    "    return None"
   ]
  },
  {
   "cell_type": "code",
   "execution_count": 2266,
   "metadata": {},
   "outputs": [],
   "source": [
    "def run_roll_CCA(D1,D2):\n",
    "    \n",
    "    for roll_ix in range(9):\n",
    "        res_dict = run_CCA(D1,np.roll(D2,i,axis=1))\n",
    "        comput"
   ]
  },
  {
   "cell_type": "code",
   "execution_count": 2267,
   "metadata": {},
   "outputs": [],
   "source": [
    "def run_CCA_all(ROOT):\n",
    "    \"\"\" Loop over all sessions\"\"\"\n",
    "    \n",
    "    for pth_ in os.listdir(ROOT):\n",
    "        path = os.path.join(ROOT,pth_)\n",
    "        \n",
    "        "
   ]
  },
  {
   "cell_type": "code",
   "execution_count": 2268,
   "metadata": {},
   "outputs": [],
   "source": [
    "def get_noise(n_neurons,n_timepoints,n_components=3,seed=None):\n",
    "    if seed is not None: np.random.seed(seed)\n",
    "    t1 = np.random.normal(size=(n_neurons,n_components))\n",
    "    t2 =  np.random.normal(size=(n_components,n_timepoints))\n",
    "    return np.dot(t1,t2)"
   ]
  },
  {
   "cell_type": "code",
   "execution_count": 2269,
   "metadata": {},
   "outputs": [
    {
     "name": "stdout",
     "output_type": "stream",
     "text": [
      "(4, 9)\n"
     ]
    }
   ],
   "source": [
    "n_neurons = 120\n",
    "n_timepoints = 9\n",
    "n_dims = 4\n",
    "\n",
    "t = np.linspace(0,(2*np.pi)*(n_timepoints-1)/n_timepoints,num=9)\n",
    "dyn_mtx = np.random.normal(size=(n_dims,n_timepoints))\n",
    "#dyn_mtx = np.vstack([np.sin(t),np.cos(t)])\n",
    "#if n_dims==4: dyn_mtx = np.vstack([[np.sin(t),np.cos(t)],[np.sin(2*t),np.cos(2*t)]])\n",
    "\n",
    "print(dyn_mtx.shape)"
   ]
  },
  {
   "cell_type": "code",
   "execution_count": null,
   "metadata": {},
   "outputs": [],
   "source": []
  },
  {
   "cell_type": "code",
   "execution_count": 2270,
   "metadata": {},
   "outputs": [
    {
     "data": {
      "text/plain": [
       "array([0.6981317 , 1.3962634 , 2.0943951 , 2.7925268 , 3.4906585 ,\n",
       "       4.1887902 , 4.88692191, 5.58505361, 0.        ])"
      ]
     },
     "execution_count": 2270,
     "metadata": {},
     "output_type": "execute_result"
    }
   ],
   "source": [
    "(t+2*np.pi/9) % (2*np.pi)"
   ]
  },
  {
   "cell_type": "code",
   "execution_count": 2271,
   "metadata": {},
   "outputs": [],
   "source": [
    "P1 = np.random.normal(size=(n_neurons,n_dims))\n",
    "P2 = np.random.normal(size=(n_neurons,n_dims))"
   ]
  },
  {
   "cell_type": "code",
   "execution_count": 2272,
   "metadata": {},
   "outputs": [],
   "source": [
    "D1 = np.fliplr(np.roll(np.dot(P1,dyn_mtx),1,axis=1))# + get_noise(n_neurons,n_timepoints,n_components=2)\n",
    "D2 = np.dot(P1,dyn_mtx)# + 5 + get_noise(n_neurons,n_timepoints,n_components=2)\n",
    "D2 = D2[:,np.random.permutation(np.arange(9))]"
   ]
  },
  {
   "cell_type": "code",
   "execution_count": 2273,
   "metadata": {},
   "outputs": [],
   "source": [
    "#D1 = np.dot(P1,dyn_mtx)\n",
    "#D2 = np.dot(P2,dyn_mtx) #+ 5 + get_noise(n_neurons,n_timepoints,2)\n",
    "#D2 = D2[:,np.random.permutation(np.arange(9))]"
   ]
  },
  {
   "cell_type": "code",
   "execution_count": 2274,
   "metadata": {},
   "outputs": [],
   "source": [
    "D1 = (D1 - np.mean(D1,axis=0)).T\n",
    "D2 = (D2 - np.mean(D2,axis=0)).T"
   ]
  },
  {
   "cell_type": "code",
   "execution_count": 2275,
   "metadata": {},
   "outputs": [
    {
     "data": {
      "text/plain": [
       "(9, 120)"
      ]
     },
     "execution_count": 2275,
     "metadata": {},
     "output_type": "execute_result"
    }
   ],
   "source": [
    "#the first dimension here is the number of samples, the second dimesion is the number of features.\n",
    "D1.shape"
   ]
  },
  {
   "cell_type": "code",
   "execution_count": 2310,
   "metadata": {},
   "outputs": [
    {
     "name": "stdout",
     "output_type": "stream",
     "text": [
      "Training CCA, kernel = linear, regularization = 0.0000, 4 components\n"
     ]
    },
    {
     "data": {
      "text/plain": [
       "array([0.94047973, 0.78444891, 0.68173778, 0.09666098])"
      ]
     },
     "execution_count": 2310,
     "metadata": {},
     "output_type": "execute_result"
    }
   ],
   "source": [
    "#what does this mean?\n",
    "cca = CCA(numCC=4,reg=1e-12)\n",
    "out = cca.train([D1,D2])\n",
    "cca.cancorrs"
   ]
  },
  {
   "cell_type": "code",
   "execution_count": 2326,
   "metadata": {},
   "outputs": [
    {
     "data": {
      "text/plain": [
       "[<matplotlib.lines.Line2D at 0x7fd9041a5890>]"
      ]
     },
     "execution_count": 2326,
     "metadata": {},
     "output_type": "execute_result"
    },
    {
     "data": {
      "image/png": "[encoded data removed]",
      "text/plain": [
       "<Figure size 432x288 with 1 Axes>"
      ]
     },
     "metadata": {},
     "output_type": "display_data"
    }
   ],
   "source": [
    "#this is number o\n",
    "plt.plot(np.array(cca.ws)[0].T.dot(D1.T)[0],(np.array(cca.ws)[0].T.dot(D1.T)[3]))"
   ]
  },
  {
   "cell_type": "code",
   "execution_count": 2330,
   "metadata": {},
   "outputs": [
    {
     "data": {
      "text/plain": [
       "(4, 9)"
      ]
     },
     "execution_count": 2330,
     "metadata": {},
     "output_type": "execute_result"
    }
   ],
   "source": [
    "np.array(cca.ws)[0].T.dot(D1.T).shape"
   ]
  },
  {
   "cell_type": "code",
   "execution_count": 2331,
   "metadata": {},
   "outputs": [],
   "source": [
    "#np.linalg.eig(cca.ws[0])"
   ]
  },
  {
   "cell_type": "code",
   "execution_count": 2304,
   "metadata": {},
   "outputs": [
    {
     "data": {
      "text/plain": [
       "(9, 4)"
      ]
     },
     "execution_count": 2304,
     "metadata": {},
     "output_type": "execute_result"
    }
   ],
   "source": [
    "cca.comps[0].shape\n"
   ]
  },
  {
   "cell_type": "markdown",
   "metadata": {},
   "source": [
    "# Run da model "
   ]
  },
  {
   "cell_type": "code",
   "execution_count": 2140,
   "metadata": {},
   "outputs": [
    {
     "data": {
      "text/plain": [
       "(500, 4)"
      ]
     },
     "execution_count": 2140,
     "metadata": {},
     "output_type": "execute_result"
    }
   ],
   "source": [
    "train1.shape"
   ]
  },
  {
   "cell_type": "code",
   "execution_count": 2229,
   "metadata": {},
   "outputs": [],
   "source": [
    "U1,S1,Vt1 = np.linalg.svd(D1.T)\n",
    "S1 = np.eye(len(U1),len(Vt1))*S1[None]\n",
    "U2,S2,Vt2 = np.linalg.svd(D2.T)\n",
    "S2 = np.eye(len(U2),len(Vt2))*S2[None]\n"
   ]
  },
  {
   "cell_type": "code",
   "execution_count": 2230,
   "metadata": {},
   "outputs": [
    {
     "data": {
      "text/plain": [
       "(120, 9)"
      ]
     },
     "execution_count": 2230,
     "metadata": {},
     "output_type": "execute_result"
    }
   ],
   "source": [
    "np.eye(len(U1),len(Vt1)).shape"
   ]
  },
  {
   "cell_type": "code",
   "execution_count": 2231,
   "metadata": {},
   "outputs": [
    {
     "data": {
      "text/plain": [
       "(9, 120)"
      ]
     },
     "execution_count": 2231,
     "metadata": {},
     "output_type": "execute_result"
    }
   ],
   "source": [
    "D1.shape"
   ]
  },
  {
   "cell_type": "code",
   "execution_count": 2232,
   "metadata": {},
   "outputs": [
    {
     "data": {
      "text/plain": [
       "[<matplotlib.lines.Line2D at 0x7fd923666850>]"
      ]
     },
     "execution_count": 2232,
     "metadata": {},
     "output_type": "execute_result"
    },
    {
     "data": {
      "image/png": "[encoded data removed]",
      "text/plain": [
       "<Figure size 432x288 with 1 Axes>"
      ]
     },
     "metadata": {},
     "output_type": "display_data"
    }
   ],
   "source": [
    "plt.plot(D1[:,0])\n",
    "plt.plot(D2[:,0])\n",
    "#plt.xlim(0,50)"
   ]
  },
  {
   "cell_type": "code",
   "execution_count": 2285,
   "metadata": {},
   "outputs": [],
   "source": [
    "hat_dims = 4\n",
    "\n",
    "Uhat1 = U1[:,:hat_dims]\n",
    "Uhat2 = U2[:,:hat_dims]"
   ]
  },
  {
   "cell_type": "code",
   "execution_count": null,
   "metadata": {},
   "outputs": [],
   "source": []
  },
  {
   "cell_type": "code",
   "execution_count": 2286,
   "metadata": {},
   "outputs": [],
   "source": [
    "I1= Uhat1.T.dot(U1)"
   ]
  },
  {
   "cell_type": "code",
   "execution_count": 2287,
   "metadata": {},
   "outputs": [],
   "source": [
    "L1 = Uhat1.T.dot(D1.T)\n",
    "L2 = Uhat2.T.dot(D2.T)"
   ]
  },
  {
   "cell_type": "code",
   "execution_count": 2288,
   "metadata": {},
   "outputs": [],
   "source": [
    "#test1\n",
    "#np.allclose(Uhat1.T.dot(D1),(np.dot(I1,S1.dot(Vt1))))"
   ]
  },
  {
   "cell_type": "code",
   "execution_count": 2289,
   "metadata": {},
   "outputs": [],
   "source": [
    "#L = np.dot(Uhat1,Uhat1.T).dot(S1).dot(Vt1)\n",
    "Q1,R1 = Vt1[:hat_dims].T,S1[:hat_dims,:hat_dims]\n",
    "Q2,R2 = Vt2[:hat_dims].T,S2[:hat_dims,:hat_dims]"
   ]
  },
  {
   "cell_type": "code",
   "execution_count": 2290,
   "metadata": {},
   "outputs": [],
   "source": [
    "#R1[np.abs(R1)<1e-5] = 0\n",
    "#R2[np.abs(R2)<1e-5] = 0"
   ]
  },
  {
   "cell_type": "code",
   "execution_count": 2291,
   "metadata": {},
   "outputs": [],
   "source": [
    "#Ub and Vtb are rotation matrices\n",
    "Ub,Sb,Vtb = np.linalg.svd(np.dot(Q1.T,Q2))"
   ]
  },
  {
   "cell_type": "code",
   "execution_count": 2292,
   "metadata": {},
   "outputs": [],
   "source": [
    "#These are rotation matricesb\n",
    "\n",
    "M1 = np.linalg.pinv(R1).dot(Ub)\n",
    "M2 = np.linalg.pinv(R2).dot(Vtb)"
   ]
  },
  {
   "cell_type": "code",
   "execution_count": null,
   "metadata": {},
   "outputs": [],
   "source": []
  },
  {
   "cell_type": "code",
   "execution_count": 2293,
   "metadata": {},
   "outputs": [
    {
     "data": {
      "text/plain": [
       "[<matplotlib.lines.Line2D at 0x7fd917c1f4d0>]"
      ]
     },
     "execution_count": 2293,
     "metadata": {},
     "output_type": "execute_result"
    },
    {
     "data": {
      "image/png": "[encoded data removed]",
      "text/plain": [
       "<Figure size 432x288 with 1 Axes>"
      ]
     },
     "metadata": {},
     "output_type": "display_data"
    }
   ],
   "source": [
    "#yes\n",
    "plt.plot(np.dot(M1,L1)[0])\n",
    "plt.plot(np.dot(M2,L2)[0])"
   ]
  },
  {
   "cell_type": "code",
   "execution_count": 2294,
   "metadata": {},
   "outputs": [
    {
     "data": {
      "text/plain": [
       "0.6886649290757748"
      ]
     },
     "execution_count": 2294,
     "metadata": {},
     "output_type": "execute_result"
    }
   ],
   "source": [
    "np.max(Ub)"
   ]
  },
  {
   "cell_type": "code",
   "execution_count": 2295,
   "metadata": {},
   "outputs": [
    {
     "name": "stdout",
     "output_type": "stream",
     "text": [
      "0 0.11582188530411178\n",
      "1 0.5809357598515644\n",
      "2 0.2927080373057171\n",
      "3 -0.004846060267381546\n"
     ]
    }
   ],
   "source": [
    "for i in range(hat_dims):\n",
    "    print(i,np.corrcoef(np.dot(M1,L1)[i],np.dot(M2,L2)[i])[0,1])\n",
    "#print(np.corrcoef(np.dot(M1,L1)[1],np.dot(M2,L2)[1])[0,1])\n"
   ]
  },
  {
   "cell_type": "code",
   "execution_count": 2296,
   "metadata": {},
   "outputs": [
    {
     "data": {
      "text/plain": [
       "[<matplotlib.lines.Line2D at 0x7fd916ec2e10>]"
      ]
     },
     "execution_count": 2296,
     "metadata": {},
     "output_type": "execute_result"
    },
    {
     "data": {
      "image/png": "[encoded data removed]",
      "text/plain": [
       "<Figure size 432x288 with 1 Axes>"
      ]
     },
     "metadata": {},
     "output_type": "display_data"
    }
   ],
   "source": [
    "pred = np.dot(Uhat1,np.dot(M1,L1))\n",
    "plt.plot(pred[:,0]/np.max(pred[:,0]))\n",
    "plt.plot(D1[:,0]/np.max(D1[:,0]))"
   ]
  },
  {
   "cell_type": "code",
   "execution_count": 2297,
   "metadata": {},
   "outputs": [
    {
     "data": {
      "text/plain": [
       "(120, 4)"
      ]
     },
     "execution_count": 2297,
     "metadata": {},
     "output_type": "execute_result"
    }
   ],
   "source": [
    "Uhat1.shape"
   ]
  },
  {
   "cell_type": "code",
   "execution_count": 2298,
   "metadata": {},
   "outputs": [
    {
     "data": {
      "text/plain": [
       "(9, 120)"
      ]
     },
     "execution_count": 2298,
     "metadata": {},
     "output_type": "execute_result"
    }
   ],
   "source": [
    "D1.shape"
   ]
  },
  {
   "cell_type": "code",
   "execution_count": 2299,
   "metadata": {},
   "outputs": [
    {
     "data": {
      "text/plain": [
       "[<matplotlib.lines.Line2D at 0x7fd916f95650>]"
      ]
     },
     "execution_count": 2299,
     "metadata": {},
     "output_type": "execute_result"
    },
    {
     "data": {
      "image/png": "[encoded data removed]",
      "text/plain": [
       "<Figure size 432x288 with 1 Axes>"
      ]
     },
     "metadata": {},
     "output_type": "display_data"
    }
   ],
   "source": [
    "plt.plot(np.dot(np.linalg.pinv(R1.T),Ub)[0])\n",
    "plt.plot(-np.dot(np.linalg.pinv(R2.T),Vtb.T)[0])"
   ]
  },
  {
   "cell_type": "code",
   "execution_count": 2300,
   "metadata": {},
   "outputs": [
    {
     "data": {
      "text/plain": [
       "(9, 120)"
      ]
     },
     "execution_count": 2300,
     "metadata": {},
     "output_type": "execute_result"
    }
   ],
   "source": [
    "D1.shape"
   ]
  },
  {
   "cell_type": "code",
   "execution_count": null,
   "metadata": {},
   "outputs": [],
   "source": []
  },
  {
   "cell_type": "code",
   "execution_count": null,
   "metadata": {},
   "outputs": [],
   "source": []
  },
  {
   "cell_type": "code",
   "execution_count": 2301,
   "metadata": {},
   "outputs": [
    {
     "data": {
      "text/plain": [
       "array([1.        , 1.        , 1.        , 0.99999999])"
      ]
     },
     "execution_count": 2301,
     "metadata": {},
     "output_type": "execute_result"
    }
   ],
   "source": [
    "cca.cancorrs"
   ]
  },
  {
   "cell_type": "code",
   "execution_count": 2302,
   "metadata": {},
   "outputs": [
    {
     "ename": "ValueError",
     "evalue": "shapes (120,9) and (120,4) not aligned: 9 (dim 1) != 120 (dim 0)",
     "output_type": "error",
     "traceback": [
      "\u001b[0;31m---------------------------------------------------------------------------\u001b[0m",
      "\u001b[0;31mValueError\u001b[0m                                Traceback (most recent call last)",
      "\u001b[0;32m<ipython-input-2302-3c0797356848>\u001b[0m in \u001b[0;36m<module>\u001b[0;34m\u001b[0m\n\u001b[0;32m----> 1\u001b[0;31m \u001b[0mcca\u001b[0m\u001b[0;34m.\u001b[0m\u001b[0mvalidate\u001b[0m\u001b[0;34m(\u001b[0m\u001b[0;34m[\u001b[0m\u001b[0mD1\u001b[0m\u001b[0;34m.\u001b[0m\u001b[0mT\u001b[0m\u001b[0;34m,\u001b[0m\u001b[0mD1\u001b[0m\u001b[0;34m.\u001b[0m\u001b[0mT\u001b[0m\u001b[0;34m]\u001b[0m\u001b[0;34m)\u001b[0m\u001b[0;34m\u001b[0m\u001b[0;34m\u001b[0m\u001b[0m\n\u001b[0m",
      "\u001b[0;32m<ipython-input-1932-1a48ecf4ce78>\u001b[0m in \u001b[0;36mvalidate\u001b[0;34m(self, vdata)\u001b[0m\n\u001b[1;32m     69\u001b[0m         \u001b[0;32mif\u001b[0m \u001b[0;32mnot\u001b[0m \u001b[0mhasattr\u001b[0m\u001b[0;34m(\u001b[0m\u001b[0mself\u001b[0m\u001b[0;34m,\u001b[0m \u001b[0;34m\"ws\"\u001b[0m\u001b[0;34m)\u001b[0m\u001b[0;34m:\u001b[0m\u001b[0;34m\u001b[0m\u001b[0;34m\u001b[0m\u001b[0m\n\u001b[1;32m     70\u001b[0m             \u001b[0;32mraise\u001b[0m \u001b[0mNameError\u001b[0m\u001b[0;34m(\u001b[0m\u001b[0;34m\"Algorithm has not been trained.\"\u001b[0m\u001b[0;34m)\u001b[0m\u001b[0;34m\u001b[0m\u001b[0;34m\u001b[0m\u001b[0m\n\u001b[0;32m---> 71\u001b[0;31m         \u001b[0mself\u001b[0m\u001b[0;34m.\u001b[0m\u001b[0mpreds\u001b[0m\u001b[0;34m,\u001b[0m \u001b[0mself\u001b[0m\u001b[0;34m.\u001b[0m\u001b[0mcorrs\u001b[0m \u001b[0;34m=\u001b[0m \u001b[0mpredict\u001b[0m\u001b[0;34m(\u001b[0m\u001b[0mvdata\u001b[0m\u001b[0;34m,\u001b[0m \u001b[0mself\u001b[0m\u001b[0;34m.\u001b[0m\u001b[0mws\u001b[0m\u001b[0;34m,\u001b[0m \u001b[0mself\u001b[0m\u001b[0;34m.\u001b[0m\u001b[0mcutoff\u001b[0m\u001b[0;34m)\u001b[0m\u001b[0;34m\u001b[0m\u001b[0;34m\u001b[0m\u001b[0m\n\u001b[0m\u001b[1;32m     72\u001b[0m         \u001b[0;32mreturn\u001b[0m \u001b[0mself\u001b[0m\u001b[0;34m.\u001b[0m\u001b[0mcorrs\u001b[0m\u001b[0;34m\u001b[0m\u001b[0;34m\u001b[0m\u001b[0m\n\u001b[1;32m     73\u001b[0m \u001b[0;34m\u001b[0m\u001b[0m\n",
      "\u001b[0;32m<ipython-input-1932-1a48ecf4ce78>\u001b[0m in \u001b[0;36mpredict\u001b[0;34m(vdata, ws, cutoff)\u001b[0m\n\u001b[1;32m    313\u001b[0m     and weights. Find correlations with actual dataset.\"\"\"\n\u001b[1;32m    314\u001b[0m     \u001b[0miws\u001b[0m \u001b[0;34m=\u001b[0m \u001b[0;34m[\u001b[0m\u001b[0mnp\u001b[0m\u001b[0;34m.\u001b[0m\u001b[0mlinalg\u001b[0m\u001b[0;34m.\u001b[0m\u001b[0mpinv\u001b[0m\u001b[0;34m(\u001b[0m\u001b[0mw\u001b[0m\u001b[0;34m.\u001b[0m\u001b[0mT\u001b[0m\u001b[0;34m,\u001b[0m \u001b[0mrcond\u001b[0m\u001b[0;34m=\u001b[0m\u001b[0mcutoff\u001b[0m\u001b[0;34m)\u001b[0m \u001b[0;32mfor\u001b[0m \u001b[0mw\u001b[0m \u001b[0;32min\u001b[0m \u001b[0mws\u001b[0m\u001b[0;34m]\u001b[0m\u001b[0;34m\u001b[0m\u001b[0;34m\u001b[0m\u001b[0m\n\u001b[0;32m--> 315\u001b[0;31m     \u001b[0mccomp\u001b[0m \u001b[0;34m=\u001b[0m \u001b[0m_listdot\u001b[0m\u001b[0;34m(\u001b[0m\u001b[0;34m[\u001b[0m\u001b[0md\u001b[0m\u001b[0;34m.\u001b[0m\u001b[0mT\u001b[0m \u001b[0;32mfor\u001b[0m \u001b[0md\u001b[0m \u001b[0;32min\u001b[0m \u001b[0mvdata\u001b[0m\u001b[0;34m]\u001b[0m\u001b[0;34m,\u001b[0m \u001b[0mws\u001b[0m\u001b[0;34m)\u001b[0m\u001b[0;34m\u001b[0m\u001b[0;34m\u001b[0m\u001b[0m\n\u001b[0m\u001b[1;32m    316\u001b[0m     \u001b[0mccomp\u001b[0m \u001b[0;34m=\u001b[0m \u001b[0mnp\u001b[0m\u001b[0;34m.\u001b[0m\u001b[0marray\u001b[0m\u001b[0;34m(\u001b[0m\u001b[0mccomp\u001b[0m\u001b[0;34m)\u001b[0m\u001b[0;34m\u001b[0m\u001b[0;34m\u001b[0m\u001b[0m\n\u001b[1;32m    317\u001b[0m     \u001b[0mpreds\u001b[0m \u001b[0;34m=\u001b[0m \u001b[0;34m[\u001b[0m\u001b[0;34m]\u001b[0m\u001b[0;34m\u001b[0m\u001b[0;34m\u001b[0m\u001b[0m\n",
      "\u001b[0;32m<ipython-input-1932-1a48ecf4ce78>\u001b[0m in \u001b[0;36m_listdot\u001b[0;34m(d1, d2)\u001b[0m\n\u001b[1;32m    402\u001b[0m \u001b[0;34m\u001b[0m\u001b[0m\n\u001b[1;32m    403\u001b[0m \u001b[0;32mdef\u001b[0m \u001b[0m_listdot\u001b[0m\u001b[0;34m(\u001b[0m\u001b[0md1\u001b[0m\u001b[0;34m,\u001b[0m \u001b[0md2\u001b[0m\u001b[0;34m)\u001b[0m\u001b[0;34m:\u001b[0m\u001b[0;34m\u001b[0m\u001b[0;34m\u001b[0m\u001b[0m\n\u001b[0;32m--> 404\u001b[0;31m     \u001b[0;32mreturn\u001b[0m \u001b[0;34m[\u001b[0m\u001b[0mnp\u001b[0m\u001b[0;34m.\u001b[0m\u001b[0mdot\u001b[0m\u001b[0;34m(\u001b[0m\u001b[0mx\u001b[0m\u001b[0;34m[\u001b[0m\u001b[0;36m0\u001b[0m\u001b[0;34m]\u001b[0m\u001b[0;34m.\u001b[0m\u001b[0mT\u001b[0m\u001b[0;34m,\u001b[0m \u001b[0mx\u001b[0m\u001b[0;34m[\u001b[0m\u001b[0;36m1\u001b[0m\u001b[0;34m]\u001b[0m\u001b[0;34m)\u001b[0m \u001b[0;32mfor\u001b[0m \u001b[0mx\u001b[0m \u001b[0;32min\u001b[0m \u001b[0mzip\u001b[0m\u001b[0;34m(\u001b[0m\u001b[0md1\u001b[0m\u001b[0;34m,\u001b[0m \u001b[0md2\u001b[0m\u001b[0;34m)\u001b[0m\u001b[0;34m]\u001b[0m\u001b[0;34m\u001b[0m\u001b[0;34m\u001b[0m\u001b[0m\n\u001b[0m\u001b[1;32m    405\u001b[0m \u001b[0;34m\u001b[0m\u001b[0m\n\u001b[1;32m    406\u001b[0m \u001b[0;34m\u001b[0m\u001b[0m\n",
      "\u001b[0;32m<ipython-input-1932-1a48ecf4ce78>\u001b[0m in \u001b[0;36m<listcomp>\u001b[0;34m(.0)\u001b[0m\n\u001b[1;32m    402\u001b[0m \u001b[0;34m\u001b[0m\u001b[0m\n\u001b[1;32m    403\u001b[0m \u001b[0;32mdef\u001b[0m \u001b[0m_listdot\u001b[0m\u001b[0;34m(\u001b[0m\u001b[0md1\u001b[0m\u001b[0;34m,\u001b[0m \u001b[0md2\u001b[0m\u001b[0;34m)\u001b[0m\u001b[0;34m:\u001b[0m\u001b[0;34m\u001b[0m\u001b[0;34m\u001b[0m\u001b[0m\n\u001b[0;32m--> 404\u001b[0;31m     \u001b[0;32mreturn\u001b[0m \u001b[0;34m[\u001b[0m\u001b[0mnp\u001b[0m\u001b[0;34m.\u001b[0m\u001b[0mdot\u001b[0m\u001b[0;34m(\u001b[0m\u001b[0mx\u001b[0m\u001b[0;34m[\u001b[0m\u001b[0;36m0\u001b[0m\u001b[0;34m]\u001b[0m\u001b[0;34m.\u001b[0m\u001b[0mT\u001b[0m\u001b[0;34m,\u001b[0m \u001b[0mx\u001b[0m\u001b[0;34m[\u001b[0m\u001b[0;36m1\u001b[0m\u001b[0;34m]\u001b[0m\u001b[0;34m)\u001b[0m \u001b[0;32mfor\u001b[0m \u001b[0mx\u001b[0m \u001b[0;32min\u001b[0m \u001b[0mzip\u001b[0m\u001b[0;34m(\u001b[0m\u001b[0md1\u001b[0m\u001b[0;34m,\u001b[0m \u001b[0md2\u001b[0m\u001b[0;34m)\u001b[0m\u001b[0;34m]\u001b[0m\u001b[0;34m\u001b[0m\u001b[0;34m\u001b[0m\u001b[0m\n\u001b[0m\u001b[1;32m    405\u001b[0m \u001b[0;34m\u001b[0m\u001b[0m\n\u001b[1;32m    406\u001b[0m \u001b[0;34m\u001b[0m\u001b[0m\n",
      "\u001b[0;32m<__array_function__ internals>\u001b[0m in \u001b[0;36mdot\u001b[0;34m(*args, **kwargs)\u001b[0m\n",
      "\u001b[0;31mValueError\u001b[0m: shapes (120,9) and (120,4) not aligned: 9 (dim 1) != 120 (dim 0)"
     ]
    }
   ],
   "source": [
    "cca.validate([D1.T,D1.T])"
   ]
  },
  {
   "cell_type": "code",
   "execution_count": 1951,
   "metadata": {},
   "outputs": [
    {
     "data": {
      "text/plain": [
       "(9, 120)"
      ]
     },
     "execution_count": 1951,
     "metadata": {},
     "output_type": "execute_result"
    }
   ],
   "source": [
    "D1.T.shape"
   ]
  },
  {
   "cell_type": "code",
   "execution_count": 1938,
   "metadata": {},
   "outputs": [
    {
     "name": "stdout",
     "output_type": "stream",
     "text": [
      "Computing explained variance for component #1\n",
      "Computing explained variance for component #2\n",
      "Computing explained variance for component #3\n",
      "Computing explained variance for component #4\n",
      "Computing explained variance for component #5\n",
      "Computing explained variance for component #6\n",
      "Computing explained variance for component #7\n",
      "Computing explained variance for component #8\n"
     ]
    },
    {
     "name": "stderr",
     "output_type": "stream",
     "text": [
      "/Users/yves/opt/anaconda3/lib/python3.7/site-packages/ipykernel_launcher.py:323: RuntimeWarning: Mean of empty slice.\n"
     ]
    }
   ],
   "source": [
    "ev = np.array(cca.compute_ev([D1.T])[0])"
   ]
  },
  {
   "cell_type": "code",
   "execution_count": 1940,
   "metadata": {},
   "outputs": [
    {
     "data": {
      "text/plain": [
       "array([[0.55352591, 0.55921632, 0.59683415, 0.46314613, 0.65806167,\n",
       "        0.70867556, 0.65838612, 0.56034487, 0.48154395, 0.60718083,\n",
       "        0.57498109, 0.75336433, 0.38091212, 0.52508027, 0.52789994,\n",
       "        0.79958425, 0.64041348, 0.59667146, 0.67515369, 0.56831389,\n",
       "        0.66695742, 0.61646598, 0.57274004, 0.62857176, 0.48136032,\n",
       "        0.68783618, 0.63820597, 0.45209588, 0.58559216, 0.61162058,\n",
       "        0.48937128, 0.62640231, 0.68481402, 0.63253005, 0.67429933,\n",
       "        0.75625301, 0.49853385, 0.77844453, 0.76497971, 0.47329665,\n",
       "        0.69882827, 0.52856314, 0.67194083, 0.61664985, 0.57179818,\n",
       "        0.63625543, 0.60344336, 0.5172559 , 0.60725743, 0.40989532,\n",
       "        0.74222187, 0.48915248, 0.49109679, 0.70009794, 0.62029211,\n",
       "        0.69915518, 0.69505176, 0.70934988, 0.67756274, 0.58921132,\n",
       "        0.57215353, 0.71462937, 0.62462931, 0.67670425, 0.47638491,\n",
       "        0.58182394, 0.7066341 , 0.63453412, 0.5696355 , 0.58341612,\n",
       "        0.57700701, 0.67060817, 0.73000103, 0.61473011, 0.35641182,\n",
       "        0.73134982, 0.4198632 , 0.61366073, 0.50122319, 0.54072599,\n",
       "        0.42494673, 0.49503674, 0.80001666, 0.65029407, 0.76792096,\n",
       "        0.58081671, 0.79823964, 0.80407463, 0.73157125, 0.53210573,\n",
       "        0.38562028, 0.55237465, 0.54411403, 0.62435281, 0.77183488,\n",
       "        0.61970166, 0.61755319, 0.7529733 , 0.51806248, 0.64749247,\n",
       "        0.79571022, 0.80165192, 0.4546695 , 0.81624027, 0.75073283,\n",
       "        0.69885558, 0.62409574, 0.7636645 , 0.85471921, 0.44281   ,\n",
       "        0.49325742, 0.65400844, 0.71959968, 0.59491686, 0.69667331,\n",
       "        0.57902674, 0.84133377, 0.51676711, 0.65342864, 0.44456851],\n",
       "       [0.55352591, 0.55921632, 0.59683415, 0.46314613, 0.65806167,\n",
       "        0.70867556, 0.65838612, 0.56034487, 0.48154395, 0.60718083,\n",
       "        0.57498109, 0.75336433, 0.38091212, 0.52508027, 0.52789994,\n",
       "        0.79958425, 0.64041348, 0.59667146, 0.67515369, 0.56831389,\n",
       "        0.66695742, 0.61646598, 0.57274004, 0.62857176, 0.48136032,\n",
       "        0.68783618, 0.63820597, 0.45209588, 0.58559216, 0.61162058,\n",
       "        0.48937128, 0.62640231, 0.68481402, 0.63253005, 0.67429933,\n",
       "        0.75625301, 0.49853385, 0.77844453, 0.76497971, 0.47329665,\n",
       "        0.69882827, 0.52856314, 0.67194083, 0.61664985, 0.57179818,\n",
       "        0.63625543, 0.60344336, 0.5172559 , 0.60725743, 0.40989532,\n",
       "        0.74222187, 0.48915248, 0.49109679, 0.70009794, 0.62029211,\n",
       "        0.69915518, 0.69505176, 0.70934988, 0.67756274, 0.58921132,\n",
       "        0.57215353, 0.71462937, 0.62462931, 0.67670425, 0.47638491,\n",
       "        0.58182394, 0.7066341 , 0.63453412, 0.5696355 , 0.58341612,\n",
       "        0.57700701, 0.67060817, 0.73000103, 0.61473011, 0.35641182,\n",
       "        0.73134982, 0.4198632 , 0.61366073, 0.50122319, 0.54072599,\n",
       "        0.42494673, 0.49503674, 0.80001666, 0.65029407, 0.76792096,\n",
       "        0.58081671, 0.79823964, 0.80407463, 0.73157125, 0.53210573,\n",
       "        0.38562028, 0.55237465, 0.54411403, 0.62435281, 0.77183488,\n",
       "        0.61970166, 0.61755319, 0.7529733 , 0.51806248, 0.64749247,\n",
       "        0.79571022, 0.80165192, 0.4546695 , 0.81624027, 0.75073283,\n",
       "        0.69885558, 0.62409574, 0.7636645 , 0.85471921, 0.44281   ,\n",
       "        0.49325742, 0.65400844, 0.71959968, 0.59491686, 0.69667331,\n",
       "        0.57902674, 0.84133377, 0.51676711, 0.65342864, 0.44456851],\n",
       "       [0.55352591, 0.55921632, 0.59683415, 0.46314613, 0.65806167,\n",
       "        0.70867556, 0.65838612, 0.56034487, 0.48154395, 0.60718083,\n",
       "        0.57498109, 0.75336433, 0.38091212, 0.52508027, 0.52789994,\n",
       "        0.79958425, 0.64041348, 0.59667146, 0.67515369, 0.56831389,\n",
       "        0.66695742, 0.61646598, 0.57274004, 0.62857176, 0.48136032,\n",
       "        0.68783618, 0.63820597, 0.45209588, 0.58559216, 0.61162058,\n",
       "        0.48937128, 0.62640231, 0.68481402, 0.63253005, 0.67429933,\n",
       "        0.75625301, 0.49853385, 0.77844453, 0.76497971, 0.47329665,\n",
       "        0.69882827, 0.52856314, 0.67194083, 0.61664985, 0.57179818,\n",
       "        0.63625543, 0.60344336, 0.5172559 , 0.60725743, 0.40989532,\n",
       "        0.74222187, 0.48915248, 0.49109679, 0.70009794, 0.62029211,\n",
       "        0.69915518, 0.69505176, 0.70934988, 0.67756274, 0.58921132,\n",
       "        0.57215353, 0.71462937, 0.62462931, 0.67670425, 0.47638491,\n",
       "        0.58182394, 0.7066341 , 0.63453412, 0.5696355 , 0.58341612,\n",
       "        0.57700701, 0.67060817, 0.73000103, 0.61473011, 0.35641182,\n",
       "        0.73134982, 0.4198632 , 0.61366073, 0.50122319, 0.54072599,\n",
       "        0.42494673, 0.49503674, 0.80001666, 0.65029407, 0.76792096,\n",
       "        0.58081671, 0.79823964, 0.80407463, 0.73157125, 0.53210573,\n",
       "        0.38562028, 0.55237465, 0.54411403, 0.62435281, 0.77183488,\n",
       "        0.61970166, 0.61755319, 0.7529733 , 0.51806248, 0.64749247,\n",
       "        0.79571022, 0.80165192, 0.4546695 , 0.81624027, 0.75073283,\n",
       "        0.69885558, 0.62409574, 0.7636645 , 0.85471921, 0.44281   ,\n",
       "        0.49325742, 0.65400844, 0.71959968, 0.59491686, 0.69667331,\n",
       "        0.57902674, 0.84133377, 0.51676711, 0.65342864, 0.44456851],\n",
       "       [0.55352591, 0.55921632, 0.59683415, 0.46314613, 0.65806167,\n",
       "        0.70867556, 0.65838612, 0.56034487, 0.48154395, 0.60718083,\n",
       "        0.57498109, 0.75336433, 0.38091212, 0.52508027, 0.52789994,\n",
       "        0.79958425, 0.64041348, 0.59667146, 0.67515369, 0.56831389,\n",
       "        0.66695742, 0.61646598, 0.57274004, 0.62857176, 0.48136032,\n",
       "        0.68783618, 0.63820597, 0.45209588, 0.58559216, 0.61162058,\n",
       "        0.48937128, 0.62640231, 0.68481402, 0.63253005, 0.67429933,\n",
       "        0.75625301, 0.49853385, 0.77844453, 0.76497971, 0.47329665,\n",
       "        0.69882827, 0.52856314, 0.67194083, 0.61664985, 0.57179818,\n",
       "        0.63625543, 0.60344336, 0.5172559 , 0.60725743, 0.40989532,\n",
       "        0.74222187, 0.48915248, 0.49109679, 0.70009794, 0.62029211,\n",
       "        0.69915518, 0.69505176, 0.70934988, 0.67756274, 0.58921132,\n",
       "        0.57215353, 0.71462937, 0.62462931, 0.67670425, 0.47638491,\n",
       "        0.58182394, 0.7066341 , 0.63453412, 0.5696355 , 0.58341612,\n",
       "        0.57700701, 0.67060817, 0.73000103, 0.61473011, 0.35641182,\n",
       "        0.73134982, 0.4198632 , 0.61366073, 0.50122319, 0.54072599,\n",
       "        0.42494673, 0.49503674, 0.80001666, 0.65029407, 0.76792096,\n",
       "        0.58081671, 0.79823964, 0.80407463, 0.73157125, 0.53210573,\n",
       "        0.38562028, 0.55237465, 0.54411403, 0.62435281, 0.77183488,\n",
       "        0.61970166, 0.61755319, 0.7529733 , 0.51806248, 0.64749247,\n",
       "        0.79571022, 0.80165192, 0.4546695 , 0.81624027, 0.75073283,\n",
       "        0.69885558, 0.62409574, 0.7636645 , 0.85471921, 0.44281   ,\n",
       "        0.49325742, 0.65400844, 0.71959968, 0.59491686, 0.69667331,\n",
       "        0.57902674, 0.84133377, 0.51676711, 0.65342864, 0.44456851],\n",
       "       [0.55352591, 0.55921632, 0.59683415, 0.46314613, 0.65806167,\n",
       "        0.70867556, 0.65838612, 0.56034487, 0.48154395, 0.60718083,\n",
       "        0.57498109, 0.75336433, 0.38091212, 0.52508027, 0.52789994,\n",
       "        0.79958425, 0.64041348, 0.59667146, 0.67515369, 0.56831389,\n",
       "        0.66695742, 0.61646598, 0.57274004, 0.62857176, 0.48136032,\n",
       "        0.68783618, 0.63820597, 0.45209588, 0.58559216, 0.61162058,\n",
       "        0.48937128, 0.62640231, 0.68481402, 0.63253005, 0.67429933,\n",
       "        0.75625301, 0.49853385, 0.77844453, 0.76497971, 0.47329665,\n",
       "        0.69882827, 0.52856314, 0.67194083, 0.61664985, 0.57179818,\n",
       "        0.63625543, 0.60344336, 0.5172559 , 0.60725743, 0.40989532,\n",
       "        0.74222187, 0.48915248, 0.49109679, 0.70009794, 0.62029211,\n",
       "        0.69915518, 0.69505176, 0.70934988, 0.67756274, 0.58921132,\n",
       "        0.57215353, 0.71462937, 0.62462931, 0.67670425, 0.47638491,\n",
       "        0.58182394, 0.7066341 , 0.63453412, 0.5696355 , 0.58341612,\n",
       "        0.57700701, 0.67060817, 0.73000103, 0.61473011, 0.35641182,\n",
       "        0.73134982, 0.4198632 , 0.61366073, 0.50122319, 0.54072599,\n",
       "        0.42494673, 0.49503674, 0.80001666, 0.65029407, 0.76792096,\n",
       "        0.58081671, 0.79823964, 0.80407463, 0.73157125, 0.53210573,\n",
       "        0.38562028, 0.55237465, 0.54411403, 0.62435281, 0.77183488,\n",
       "        0.61970166, 0.61755319, 0.7529733 , 0.51806248, 0.64749247,\n",
       "        0.79571022, 0.80165192, 0.4546695 , 0.81624027, 0.75073283,\n",
       "        0.69885558, 0.62409574, 0.7636645 , 0.85471921, 0.44281   ,\n",
       "        0.49325742, 0.65400844, 0.71959968, 0.59491686, 0.69667331,\n",
       "        0.57902674, 0.84133377, 0.51676711, 0.65342864, 0.44456851],\n",
       "       [0.55352591, 0.55921632, 0.59683415, 0.46314613, 0.65806167,\n",
       "        0.70867556, 0.65838612, 0.56034487, 0.48154395, 0.60718083,\n",
       "        0.57498109, 0.75336433, 0.38091212, 0.52508027, 0.52789994,\n",
       "        0.79958425, 0.64041348, 0.59667146, 0.67515369, 0.56831389,\n",
       "        0.66695742, 0.61646598, 0.57274004, 0.62857176, 0.48136032,\n",
       "        0.68783618, 0.63820597, 0.45209588, 0.58559216, 0.61162058,\n",
       "        0.48937128, 0.62640231, 0.68481402, 0.63253005, 0.67429933,\n",
       "        0.75625301, 0.49853385, 0.77844453, 0.76497971, 0.47329665,\n",
       "        0.69882827, 0.52856314, 0.67194083, 0.61664985, 0.57179818,\n",
       "        0.63625543, 0.60344336, 0.5172559 , 0.60725743, 0.40989532,\n",
       "        0.74222187, 0.48915248, 0.49109679, 0.70009794, 0.62029211,\n",
       "        0.69915518, 0.69505176, 0.70934988, 0.67756274, 0.58921132,\n",
       "        0.57215353, 0.71462937, 0.62462931, 0.67670425, 0.47638491,\n",
       "        0.58182394, 0.7066341 , 0.63453412, 0.5696355 , 0.58341612,\n",
       "        0.57700701, 0.67060817, 0.73000103, 0.61473011, 0.35641182,\n",
       "        0.73134982, 0.4198632 , 0.61366073, 0.50122319, 0.54072599,\n",
       "        0.42494673, 0.49503674, 0.80001666, 0.65029407, 0.76792096,\n",
       "        0.58081671, 0.79823964, 0.80407463, 0.73157125, 0.53210573,\n",
       "        0.38562028, 0.55237465, 0.54411403, 0.62435281, 0.77183488,\n",
       "        0.61970166, 0.61755319, 0.7529733 , 0.51806248, 0.64749247,\n",
       "        0.79571022, 0.80165192, 0.4546695 , 0.81624027, 0.75073283,\n",
       "        0.69885558, 0.62409574, 0.7636645 , 0.85471921, 0.44281   ,\n",
       "        0.49325742, 0.65400844, 0.71959968, 0.59491686, 0.69667331,\n",
       "        0.57902674, 0.84133377, 0.51676711, 0.65342864, 0.44456851],\n",
       "       [0.55352591, 0.55921632, 0.59683415, 0.46314613, 0.65806167,\n",
       "        0.70867556, 0.65838612, 0.56034487, 0.48154395, 0.60718083,\n",
       "        0.57498109, 0.75336433, 0.38091212, 0.52508027, 0.52789994,\n",
       "        0.79958425, 0.64041348, 0.59667146, 0.67515369, 0.56831389,\n",
       "        0.66695742, 0.61646598, 0.57274004, 0.62857176, 0.48136032,\n",
       "        0.68783618, 0.63820597, 0.45209588, 0.58559216, 0.61162058,\n",
       "        0.48937128, 0.62640231, 0.68481402, 0.63253005, 0.67429933,\n",
       "        0.75625301, 0.49853385, 0.77844453, 0.76497971, 0.47329665,\n",
       "        0.69882827, 0.52856314, 0.67194083, 0.61664985, 0.57179818,\n",
       "        0.63625543, 0.60344336, 0.5172559 , 0.60725743, 0.40989532,\n",
       "        0.74222187, 0.48915248, 0.49109679, 0.70009794, 0.62029211,\n",
       "        0.69915518, 0.69505176, 0.70934988, 0.67756274, 0.58921132,\n",
       "        0.57215353, 0.71462937, 0.62462931, 0.67670425, 0.47638491,\n",
       "        0.58182394, 0.7066341 , 0.63453412, 0.5696355 , 0.58341612,\n",
       "        0.57700701, 0.67060817, 0.73000103, 0.61473011, 0.35641182,\n",
       "        0.73134982, 0.4198632 , 0.61366073, 0.50122319, 0.54072599,\n",
       "        0.42494673, 0.49503674, 0.80001666, 0.65029407, 0.76792096,\n",
       "        0.58081671, 0.79823964, 0.80407463, 0.73157125, 0.53210573,\n",
       "        0.38562028, 0.55237465, 0.54411403, 0.62435281, 0.77183488,\n",
       "        0.61970166, 0.61755319, 0.7529733 , 0.51806248, 0.64749247,\n",
       "        0.79571022, 0.80165192, 0.4546695 , 0.81624027, 0.75073283,\n",
       "        0.69885558, 0.62409574, 0.7636645 , 0.85471921, 0.44281   ,\n",
       "        0.49325742, 0.65400844, 0.71959968, 0.59491686, 0.69667331,\n",
       "        0.57902674, 0.84133377, 0.51676711, 0.65342864, 0.44456851],\n",
       "       [0.55352591, 0.55921632, 0.59683415, 0.46314613, 0.65806167,\n",
       "        0.70867556, 0.65838612, 0.56034487, 0.48154395, 0.60718083,\n",
       "        0.57498109, 0.75336433, 0.38091212, 0.52508027, 0.52789994,\n",
       "        0.79958425, 0.64041348, 0.59667146, 0.67515369, 0.56831389,\n",
       "        0.66695742, 0.61646598, 0.57274004, 0.62857176, 0.48136032,\n",
       "        0.68783618, 0.63820597, 0.45209588, 0.58559216, 0.61162058,\n",
       "        0.48937128, 0.62640231, 0.68481402, 0.63253005, 0.67429933,\n",
       "        0.75625301, 0.49853385, 0.77844453, 0.76497971, 0.47329665,\n",
       "        0.69882827, 0.52856314, 0.67194083, 0.61664985, 0.57179818,\n",
       "        0.63625543, 0.60344336, 0.5172559 , 0.60725743, 0.40989532,\n",
       "        0.74222187, 0.48915248, 0.49109679, 0.70009794, 0.62029211,\n",
       "        0.69915518, 0.69505176, 0.70934988, 0.67756274, 0.58921132,\n",
       "        0.57215353, 0.71462937, 0.62462931, 0.67670425, 0.47638491,\n",
       "        0.58182394, 0.7066341 , 0.63453412, 0.5696355 , 0.58341612,\n",
       "        0.57700701, 0.67060817, 0.73000103, 0.61473011, 0.35641182,\n",
       "        0.73134982, 0.4198632 , 0.61366073, 0.50122319, 0.54072599,\n",
       "        0.42494673, 0.49503674, 0.80001666, 0.65029407, 0.76792096,\n",
       "        0.58081671, 0.79823964, 0.80407463, 0.73157125, 0.53210573,\n",
       "        0.38562028, 0.55237465, 0.54411403, 0.62435281, 0.77183488,\n",
       "        0.61970166, 0.61755319, 0.7529733 , 0.51806248, 0.64749247,\n",
       "        0.79571022, 0.80165192, 0.4546695 , 0.81624027, 0.75073283,\n",
       "        0.69885558, 0.62409574, 0.7636645 , 0.85471921, 0.44281   ,\n",
       "        0.49325742, 0.65400844, 0.71959968, 0.59491686, 0.69667331,\n",
       "        0.57902674, 0.84133377, 0.51676711, 0.65342864, 0.44456851]])"
      ]
     },
     "execution_count": 1940,
     "metadata": {},
     "output_type": "execute_result"
    }
   ],
   "source": [
    "ev.shape"
   ]
  },
  {
   "cell_type": "code",
   "execution_count": 1932,
   "metadata": {},
   "outputs": [],
   "source": [
    "\"\"\"Python module for regularized kernel canonical correlation analysis\"\"\"\n",
    "\n",
    "import h5py\n",
    "import joblib\n",
    "import numpy as np\n",
    "from scipy.linalg import eigh\n",
    "\n",
    "__copyright__ = \"Copyright 2016, UC Berkeley, Gallant lab.\"\n",
    "\n",
    "__all__ = [\"CCA\", \"CCACrossValidate\"]\n",
    "\n",
    "\n",
    "class _CCABase(object):\n",
    "    def __init__(\n",
    "            self,\n",
    "            numCV=None,\n",
    "            reg=None,\n",
    "            regs=None,\n",
    "            numCC=None,\n",
    "            numCCs=None,\n",
    "            kernelcca=True,\n",
    "            ktype=None,\n",
    "            verbose=False,\n",
    "            select=0.2,\n",
    "            cutoff=1e-15,\n",
    "            gausigma=1.0,\n",
    "            degree=2,\n",
    "    ):\n",
    "        self.numCV = numCV\n",
    "        self.reg = reg\n",
    "        self.regs = regs\n",
    "        self.numCC = numCC\n",
    "        self.numCCs = numCCs\n",
    "        self.kernelcca = kernelcca\n",
    "        self.ktype = ktype\n",
    "        self.cutoff = cutoff\n",
    "        self.select = select\n",
    "        self.gausigma = gausigma\n",
    "        self.degree = degree\n",
    "        if self.kernelcca and self.ktype is None:\n",
    "            self.ktype = \"linear\"\n",
    "        self.verbose = verbose\n",
    "\n",
    "    def train(self, data):\n",
    "        if self.verbose:\n",
    "            print(\n",
    "                \"Training CCA, kernel = %s, regularization = %0.4f, \"\n",
    "                \"%d components\" % (self.ktype, self.reg, self.numCC)\n",
    "            )\n",
    "\n",
    "        comps = kcca(\n",
    "            data,\n",
    "            self.reg,\n",
    "            self.numCC,\n",
    "            kernelcca=self.kernelcca,\n",
    "            ktype=self.ktype,\n",
    "            gausigma=self.gausigma,\n",
    "            degree=self.degree,\n",
    "        )\n",
    "        self.cancorrs, self.ws, self.comps = recon(\n",
    "            data, comps, kernelcca=self.kernelcca\n",
    "        )\n",
    "        if len(data) == 2:\n",
    "            self.cancorrs = self.cancorrs[np.nonzero(self.cancorrs)]\n",
    "        return self\n",
    "\n",
    "    def validate(self, vdata):\n",
    "        vdata = [np.nan_to_num(_zscore(d)) for d in vdata]\n",
    "        if not hasattr(self, \"ws\"):\n",
    "            raise NameError(\"Algorithm has not been trained.\")\n",
    "        self.preds, self.corrs = predict(vdata, self.ws, self.cutoff)\n",
    "        return self.corrs\n",
    "\n",
    "    def compute_ev(self, vdata):\n",
    "        nD = len(vdata)\n",
    "        nC = self.ws[0].shape[1]\n",
    "        nF = [d.shape[1] for d in vdata]\n",
    "        self.ev = [np.zeros((nC, f)) for f in nF]\n",
    "        for cc in range(nC):\n",
    "            ccs = cc + 1\n",
    "            if self.verbose:\n",
    "                print(\"Computing explained variance for component #%d\" % ccs)\n",
    "            preds, corrs = predict(\n",
    "                vdata, [w[:, ccs - 1: ccs] for w in self.ws], self.cutoff\n",
    "            )\n",
    "            resids = [abs(d[0] - d[1]) for d in zip(vdata, preds)]\n",
    "            for s in range(nD):\n",
    "                ev = abs(vdata[s].var(0) - resids[s].var(0)) / vdata[s].var(0)\n",
    "                ev[np.isnan(ev)] = 0.0\n",
    "                self.ev[s][cc] = ev\n",
    "        return self.ev\n",
    "\n",
    "    def save(self, filename):\n",
    "        h5 = h5py.File(filename, \"a\")\n",
    "        for key, value in self.__dict__.items():\n",
    "            if value is not None:\n",
    "                if isinstance(value, list):\n",
    "                    for di in range(len(value)):\n",
    "                        grpname = \"dataset%d\" % di\n",
    "                        dgrp = h5.require_group(grpname)\n",
    "                        try:\n",
    "                            dgrp.create_dataset(key, data=value[di])\n",
    "                        except RuntimeError:\n",
    "                            del h5[grpname][key]\n",
    "                            dgrp.create_dataset(key, data=value[di])\n",
    "                else:\n",
    "                    h5.attrs[key] = value\n",
    "        h5.close()\n",
    "\n",
    "    def load(self, filename):\n",
    "        h5 = h5py.File(filename, 'r')\n",
    "        for key, value in h5.attrs.items():\n",
    "            setattr(self, key, value)\n",
    "        for di in range(len(h5.keys())):\n",
    "            ds = \"dataset%d\" % di\n",
    "            for key, value in h5[ds].items():\n",
    "                if di == 0:\n",
    "                    setattr(self, key, [])\n",
    "                self.__getattribute__(key).append(value[()])\n",
    "        h5.close()\n",
    "\n",
    "\n",
    "class CCACrossValidate(_CCABase):\n",
    "    \"\"\"\n",
    "    Attributes:\n",
    "        numCV (int): number of cross-validation folds\n",
    "        regs (list or numpy.array): regularization param array.\n",
    "                                   Default: np.logspace(-3, 1, 10)\n",
    "        numCCs (list or numpy.array): list of numbers of canonical dimensions\n",
    "                                     to keep. Default is np.range(5, 10).\n",
    "        kernelcca (bool): kernel or non-kernel CCA. Default is True.\n",
    "        ktype (string): type of kernel used if kernelcca is True.\n",
    "                        Value can be 'linear' (default) or 'gaussian'.\n",
    "        verbose (bool): default is True.\n",
    "    Returns:\n",
    "        ws (list): canonical weights\n",
    "        comps (list): canonical components\n",
    "        cancorrs (list): correlations of the canonical components\n",
    "                         on the training dataset\n",
    "        corrs (list): correlations on the validation dataset\n",
    "        preds (list): predictions on the validation dataset\n",
    "        ev (list): explained variance for each canonical dimension\n",
    "    \"\"\"\n",
    "\n",
    "    def __init__(\n",
    "            self,\n",
    "            numCV=None,\n",
    "            regs=None,\n",
    "            numCCs=None,\n",
    "            kernelcca=True,\n",
    "            ktype=None,\n",
    "            verbose=True,\n",
    "            select=0.2,\n",
    "            cutoff=1e-15,\n",
    "            gausigma=1.0,\n",
    "            degree=2,\n",
    "    ):\n",
    "        numCV = 10 if numCV is None else numCV\n",
    "        regs = np.array(np.logspace(-3, 1, 10)) if regs is None else regs\n",
    "        numCCs = np.arange(5, 10) if numCCs is None else numCCs\n",
    "        super(CCACrossValidate, self).__init__(\n",
    "            numCV=numCV,\n",
    "            regs=regs,\n",
    "            numCCs=numCCs,\n",
    "            kernelcca=kernelcca,\n",
    "            ktype=ktype,\n",
    "            verbose=verbose,\n",
    "            select=select,\n",
    "            cutoff=cutoff,\n",
    "            gausigma=gausigma,\n",
    "            degree=degree,\n",
    "        )\n",
    "\n",
    "    def train(self, data, parallel=True):\n",
    "        \"\"\"\n",
    "        Train CCA with cross-validation for a set of regularization\n",
    "        coefficients and/or numbers of CCs\n",
    "        Attributes:\n",
    "            data (list): training data matrices\n",
    "                         (number of samples X number of features).\n",
    "                         Number of samples must match across datasets.\n",
    "            parallel (bool): use joblib to train cross-validation folds\n",
    "                             in parallel\n",
    "        \"\"\"\n",
    "        corr_mat = np.zeros((len(self.regs), len(self.numCCs)))\n",
    "        selection = max(int(self.select * min([d.shape[1] for d in data])), 1)\n",
    "        for ri, reg in enumerate(self.regs):\n",
    "            for ci, numCC in enumerate(self.numCCs):\n",
    "                running_corr_mean_sum = 0.0\n",
    "                if parallel:\n",
    "                    fold_corr_means = joblib.Parallel(n_jobs=self.numCV)(\n",
    "                        joblib.delayed(train_cvfold)(\n",
    "                            data=data,\n",
    "                            reg=reg,\n",
    "                            numCC=numCC,\n",
    "                            kernelcca=self.kernelcca,\n",
    "                            ktype=self.ktype,\n",
    "                            gausigma=self.gausigma,\n",
    "                            degree=self.degree,\n",
    "                            cutoff=self.cutoff,\n",
    "                            selection=selection,\n",
    "                        )\n",
    "                        for _ in range(self.numCV)\n",
    "                    )\n",
    "                    running_corr_mean_sum += sum(fold_corr_means)\n",
    "                else:\n",
    "                    for cvfold in range(self.numCV):\n",
    "                        fold_corr_mean = train_cvfold(\n",
    "                            data=data,\n",
    "                            reg=reg,\n",
    "                            numCC=numCC,\n",
    "                            kernelcca=self.kernelcca,\n",
    "                            ktype=self.ktype,\n",
    "                            gausigma=self.gausigma,\n",
    "                            degree=self.degree,\n",
    "                            cutoff=self.cutoff,\n",
    "                            selection=selection,\n",
    "                        )\n",
    "                        running_corr_mean_sum += fold_corr_mean\n",
    "\n",
    "                corr_mat[ri, ci] = running_corr_mean_sum / self.numCV\n",
    "        best_ri, best_ci = np.where(corr_mat == corr_mat.max())\n",
    "        self.best_reg = self.regs[best_ri[0]]\n",
    "        self.best_numCC = self.numCCs[best_ci[0]]\n",
    "\n",
    "        comps = kcca(\n",
    "            data,\n",
    "            self.best_reg,\n",
    "            self.best_numCC,\n",
    "            kernelcca=self.kernelcca,\n",
    "            ktype=self.ktype,\n",
    "            gausigma=self.gausigma,\n",
    "            degree=self.degree,\n",
    "        )\n",
    "        self.cancorrs, self.ws, self.comps = recon(\n",
    "            data, comps, kernelcca=self.kernelcca\n",
    "        )\n",
    "        if len(data) == 2:\n",
    "            self.cancorrs = self.cancorrs[np.nonzero(self.cancorrs)]\n",
    "        return self\n",
    "\n",
    "\n",
    "def train_cvfold(\n",
    "        data, reg, numCC, kernelcca, ktype, gausigma, degree, cutoff, selection\n",
    "):\n",
    "    \"\"\"\n",
    "    Train a cross-validation fold of CCA\n",
    "    \"\"\"\n",
    "    nT = data[0].shape[0]\n",
    "    chunklen = 10 if nT > 50 else 1\n",
    "    nchunks = int(0.2 * nT / chunklen)\n",
    "    indchunks = list(zip(*[iter(range(nT))] * chunklen))\n",
    "    np.random.shuffle(indchunks)\n",
    "    heldinds = [ind for chunk in indchunks[:nchunks] for ind in chunk]\n",
    "    notheldinds = list(set(range(nT)) - set(heldinds))\n",
    "    comps = kcca(\n",
    "        [d[notheldinds] for d in data],\n",
    "        reg,\n",
    "        numCC,\n",
    "        kernelcca=kernelcca,\n",
    "        ktype=ktype,\n",
    "        gausigma=gausigma,\n",
    "        degree=degree,\n",
    "    )\n",
    "    cancorrs, ws, ccomps = recon(\n",
    "        [d[notheldinds] for d in data], comps, kernelcca=kernelcca\n",
    "    )\n",
    "    preds, corrs = predict([d[heldinds] for d in data], ws, cutoff=cutoff)\n",
    "    fold_corr_mean = []\n",
    "    for corr in corrs:\n",
    "        corr_idx = np.argsort(corr)[::-1]\n",
    "        corr_mean = corr[corr_idx][:selection].mean()\n",
    "        fold_corr_mean.append(corr_mean)\n",
    "    return np.mean(fold_corr_mean)\n",
    "\n",
    "\n",
    "class CCA(_CCABase):\n",
    "    \"\"\"Attributes:\n",
    "        reg (float): regularization parameter. Default is 0.1.\n",
    "        numCC (int): number of canonical dimensions to keep. Default is 10.\n",
    "        kernelcca (bool): kernel or non-kernel CCA. Default is True.\n",
    "        ktype (string): type of kernel used if kernelcca is True.\n",
    "                        Value can be 'linear' (default) or 'gaussian'.\n",
    "        verbose (bool): default is True.\n",
    "    Returns:\n",
    "        ws (list): canonical weights\n",
    "        comps (list): canonical components\n",
    "        cancorrs (list): correlations of the canonical components\n",
    "                         on the training dataset\n",
    "        corrs (list): correlations on the validation dataset\n",
    "        preds (list): predictions on the validation dataset\n",
    "        ev (list): explained variance for each canonical dimension\n",
    "    \"\"\"\n",
    "\n",
    "    def __init__(\n",
    "            self, reg=0.0, numCC=10, kernelcca=True, ktype=None, verbose=True, cutoff=1e-15\n",
    "    ):\n",
    "        super(CCA, self).__init__(\n",
    "            reg=reg,\n",
    "            numCC=numCC,\n",
    "            kernelcca=kernelcca,\n",
    "            ktype=ktype,\n",
    "            verbose=verbose,\n",
    "            cutoff=cutoff,\n",
    "        )\n",
    "\n",
    "    def train(self, data):\n",
    "        return super(CCA, self).train(data)\n",
    "\n",
    "\n",
    "def predict(vdata, ws, cutoff=1e-15):\n",
    "    \"\"\"Get predictions for each dataset based on the other datasets\n",
    "    and weights. Find correlations with actual dataset.\"\"\"\n",
    "    iws = [np.linalg.pinv(w.T, rcond=cutoff) for w in ws]\n",
    "    ccomp = _listdot([d.T for d in vdata], ws)\n",
    "    ccomp = np.array(ccomp)\n",
    "    preds = []\n",
    "    corrs = []\n",
    "\n",
    "    for dnum in range(len(vdata)):\n",
    "        idx = np.ones((len(vdata),))\n",
    "        idx[dnum] = False\n",
    "        proj = ccomp[idx > 0].mean(0)\n",
    "        pred = np.dot(iws[dnum], proj.T).T\n",
    "        pred = np.nan_to_num(_zscore(pred))\n",
    "        preds.append(pred)\n",
    "        cs = np.nan_to_num(_rowcorr(vdata[dnum].T, pred.T))\n",
    "        corrs.append(cs)\n",
    "    return preds, corrs\n",
    "\n",
    "\n",
    "def kcca(\n",
    "        data, reg=0.0, numCC=None, kernelcca=True, ktype=\"linear\", gausigma=1.0, degree=2\n",
    "):\n",
    "    \"\"\"Set up and solve the kernel CCA eigenproblem\"\"\"\n",
    "    if kernelcca:\n",
    "        kernel = [\n",
    "            _make_kernel(d, ktype=ktype, gausigma=gausigma, degree=degree) for d in data\n",
    "        ]\n",
    "    else:\n",
    "        kernel = [d.T for d in data]\n",
    "\n",
    "    nDs = len(kernel)\n",
    "    nFs = [k.shape[0] for k in kernel]\n",
    "    numCC = min([k.shape[0] for k in kernel]) if numCC is None else numCC\n",
    "\n",
    "    # Get the auto- and cross-covariance matrices\n",
    "    crosscovs = [np.dot(ki, kj.T) for ki in kernel for kj in kernel]\n",
    "\n",
    "    # Allocate left-hand side (LH) and right-hand side (RH):\n",
    "    n = sum(nFs)\n",
    "    LH = np.zeros((n, n))\n",
    "    RH = np.zeros((n, n))\n",
    "\n",
    "    # Fill the left and right sides of the eigenvalue problem\n",
    "    for i in range(nDs):\n",
    "        RH[\n",
    "        sum(nFs[:i]): sum(nFs[: i + 1]), sum(nFs[:i]): sum(nFs[: i + 1])\n",
    "        ] = crosscovs[i * (nDs + 1)] + reg * np.eye(nFs[i])\n",
    "\n",
    "        for j in range(nDs):\n",
    "            if i != j:\n",
    "                LH[\n",
    "                sum(nFs[:j]): sum(nFs[: j + 1]), sum(nFs[:i]): sum(nFs[: i + 1])\n",
    "                ] = crosscovs[nDs * j + i]\n",
    "\n",
    "    LH = (LH + LH.T) / 2.0\n",
    "    RH = (RH + RH.T) / 2.0\n",
    "\n",
    "    maxCC = LH.shape[0]\n",
    "    r, Vs = eigh(LH, RH, eigvals=(maxCC - numCC, maxCC - 1))\n",
    "    r[np.isnan(r)] = 0\n",
    "    rindex = np.argsort(r)[::-1]\n",
    "    comp = []\n",
    "    Vs = Vs[:, rindex]\n",
    "    for i in range(nDs):\n",
    "        comp.append(Vs[sum(nFs[:i]): sum(nFs[: i + 1]), :numCC])\n",
    "    return comp\n",
    "\n",
    "\n",
    "def recon(data, comp, corronly=False, kernelcca=True):\n",
    "    # Get canonical variates and CCs\n",
    "    if kernelcca:\n",
    "        ws = _listdot(data, comp)\n",
    "    else:\n",
    "        ws = comp\n",
    "    ccomp = _listdot([d.T for d in data], ws)\n",
    "    corrs = _listcorr(ccomp)\n",
    "    if corronly:\n",
    "        return corrs\n",
    "    else:\n",
    "        return corrs, ws, ccomp\n",
    "\n",
    "\n",
    "def _zscore(d):\n",
    "    return (d - d.mean(0)) / d.std(0)\n",
    "\n",
    "\n",
    "def _demean(d):\n",
    "    return d - d.mean(0)\n",
    "\n",
    "\n",
    "def _listdot(d1, d2):\n",
    "    return [np.dot(x[0].T, x[1]) for x in zip(d1, d2)]\n",
    "\n",
    "\n",
    "def _listcorr(a):\n",
    "    \"\"\"Returns pairwise row correlations for all items in array as a list of matrices\"\"\"\n",
    "    corrs = np.zeros((a[0].shape[1], len(a), len(a)))\n",
    "    for i in range(len(a)):\n",
    "        for j in range(len(a)):\n",
    "            if j > i:\n",
    "                corrs[:, i, j] = [\n",
    "                    np.nan_to_num(np.corrcoef(ai, aj)[0, 1])\n",
    "                    for (ai, aj) in zip(a[i].T, a[j].T)\n",
    "                ]\n",
    "    return corrs\n",
    "\n",
    "\n",
    "def _rowcorr(a, b):\n",
    "    \"\"\"Correlations between corresponding matrix rows\"\"\"\n",
    "    cs = np.zeros((a.shape[0]))\n",
    "    for idx in range(a.shape[0]):\n",
    "        cs[idx] = np.corrcoef(a[idx], b[idx])[0, 1]\n",
    "    return cs\n",
    "\n",
    "\n",
    "def _make_kernel(d, normalize=True, ktype=\"linear\", gausigma=1.0, degree=2):\n",
    "    \"\"\"Makes a kernel for data d\n",
    "    If ktype is 'linear', the kernel is a linear inner product\n",
    "    If ktype is 'gaussian', the kernel is a Gaussian kernel, sigma = gausigma\n",
    "    If ktype is 'poly', the kernel is a polynomial kernel with degree=degree\n",
    "    \"\"\"\n",
    "    d = np.nan_to_num(d)\n",
    "    cd = _demean(d)\n",
    "    if ktype == \"linear\":\n",
    "        kernel = np.dot(cd, cd.T)\n",
    "    elif ktype == \"gaussian\":\n",
    "        from scipy.spatial.distance import pdist, squareform\n",
    "\n",
    "        pairwise_dists = squareform(pdist(d, \"euclidean\"))\n",
    "        kernel = np.exp((-(pairwise_dists ** 2)) / (2 * gausigma ** 2))\n",
    "    elif ktype == \"poly\":\n",
    "        kernel = np.dot(cd, cd.T) ** degree\n",
    "    kernel = (kernel + kernel.T) / 2.0\n",
    "    if normalize:\n",
    "        kernel = kernel / np.linalg.eigvalsh(kernel).max()\n",
    "    return kernel\n"
   ]
  },
  {
   "cell_type": "code",
   "execution_count": 1946,
   "metadata": {},
   "outputs": [],
   "source": [
    "# Imports\n",
    "import numpy as np\n",
    "#import rcca\n",
    "\n",
    "# Initialize number of samples\n",
    "nSamples = 1000\n",
    "\n",
    "# Define two latent variables (number of samples x 1)\n",
    "latvar1 = np.random.randn(nSamples,)\n",
    "latvar2 = np.random.randn(nSamples,)\n",
    "\n",
    "# Define independent components for each dataset (number of observations x dataset dimensions)\n",
    "indep1 = np.random.randn(nSamples, 4)\n",
    "indep2 = np.random.randn(nSamples, 5)\n",
    "\n",
    "# Create two datasets, with each dimension composed as a sum of 75% one of the latent variables and 25% independent component\n",
    "data1 = 0.25*indep1 + 0.75*np.vstack((latvar1, latvar2, latvar1, latvar2)).T\n",
    "data2 = 0.25*indep2 + 0.75*np.vstack((latvar1, latvar2, latvar1, latvar2, latvar1)).T\n",
    "\n",
    "# Split each dataset into two halves: training set and test set\n",
    "train1 = data1[:nSamples//2]\n",
    "train2 = data2[:nSamples//2]\n",
    "test1 = data1[nSamples//2:]\n",
    "test2 = data2[nSamples//2:]"
   ]
  },
  {
   "cell_type": "code",
   "execution_count": 1953,
   "metadata": {},
   "outputs": [
    {
     "data": {
      "text/plain": [
       "(4, 1000)"
      ]
     },
     "execution_count": 1953,
     "metadata": {},
     "output_type": "execute_result"
    }
   ],
   "source": [
    "np.vstack((latvar1, latvar2, latvar1, latvar2)).shape"
   ]
  },
  {
   "cell_type": "code",
   "execution_count": 1947,
   "metadata": {},
   "outputs": [
    {
     "data": {
      "text/plain": [
       "(500, 4)"
      ]
     },
     "execution_count": 1947,
     "metadata": {},
     "output_type": "execute_result"
    }
   ],
   "source": [
    "train1.shape"
   ]
  },
  {
   "cell_type": "code",
   "execution_count": 1948,
   "metadata": {},
   "outputs": [
    {
     "data": {
      "text/plain": [
       "(500, 5)"
      ]
     },
     "execution_count": 1948,
     "metadata": {},
     "output_type": "execute_result"
    }
   ],
   "source": [
    "train2.shape"
   ]
  },
  {
   "cell_type": "code",
   "execution_count": 1949,
   "metadata": {},
   "outputs": [
    {
     "data": {
      "text/plain": [
       "(500, 4)"
      ]
     },
     "execution_count": 1949,
     "metadata": {},
     "output_type": "execute_result"
    }
   ],
   "source": [
    "test1.shape"
   ]
  },
  {
   "cell_type": "code",
   "execution_count": 1950,
   "metadata": {},
   "outputs": [
    {
     "data": {
      "text/plain": [
       "(500, 5)"
      ]
     },
     "execution_count": 1950,
     "metadata": {},
     "output_type": "execute_result"
    }
   ],
   "source": [
    "test2.shape"
   ]
  },
  {
   "cell_type": "code",
   "execution_count": null,
   "metadata": {},
   "outputs": [],
   "source": []
  }
 ],
 "metadata": {
  "kernelspec": {
   "display_name": "Python 3",
   "language": "python",
   "name": "python3"
  },
  "language_info": {
   "codemirror_mode": {
    "name": "ipython",
    "version": 3
   },
   "file_extension": ".py",
   "mimetype": "text/x-python",
   "name": "python",
   "nbconvert_exporter": "python",
   "pygments_lexer": "ipython3",
   "version": "3.7.4"
  }
 },
 "nbformat": 4,
 "nbformat_minor": 2
}
