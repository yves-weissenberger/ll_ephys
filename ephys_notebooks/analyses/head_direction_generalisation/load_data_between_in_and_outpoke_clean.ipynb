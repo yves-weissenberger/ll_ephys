{
 "cells": [
  {
   "cell_type": "markdown",
   "metadata": {},
   "source": [
    "# Run within and across task head classification again but here use in and outpoke behavioiural timestamps in order to determine timing of events\n"
   ]
  },
  {
   "cell_type": "code",
   "execution_count": 1,
   "metadata": {},
   "outputs": [
    {
     "name": "stderr",
     "output_type": "stream",
     "text": [
      "/Users/yves/opt/anaconda3/lib/python3.7/site-packages/statsmodels/tools/_testing.py:19: FutureWarning: pandas.util.testing is deprecated. Use the functions in the public API at pandas.testing instead.\n",
      "  import pandas.util.testing as tm\n"
     ]
    }
   ],
   "source": [
    "%matplotlib inline\n",
    "import numpy as np\n",
    "import matplotlib.pyplot as plt\n",
    "import seaborn\n",
    "import pandas as pd\n",
    "import scipy.stats as stt\n",
    "from sklearn.svm import SVC\n",
    "from sklearn.model_selection import LeavePOut\n",
    "\n",
    "\n",
    "seaborn.set(style='ticks',font_scale=1.5)\n"
   ]
  },
  {
   "cell_type": "code",
   "execution_count": null,
   "metadata": {},
   "outputs": [],
   "source": []
  },
  {
   "cell_type": "code",
   "execution_count": null,
   "metadata": {},
   "outputs": [],
   "source": []
  },
  {
   "cell_type": "markdown",
   "metadata": {},
   "source": [
    "# From pycontrol"
   ]
  },
  {
   "cell_type": "code",
   "execution_count": 2,
   "metadata": {},
   "outputs": [],
   "source": [
    "from mecll.load import load_preprocessed_data\n",
    "from mecll.classify_movement_direction import (get_svm_fit_across_task, \n",
    "                                               get_svm_fit_within_task,\n",
    "                                               get_unique_transitions\n",
    "                                              )"
   ]
  },
  {
   "cell_type": "code",
   "execution_count": 3,
   "metadata": {},
   "outputs": [
    {
     "name": "stderr",
     "output_type": "stream",
     "text": [
      "/Users/yves/Documents/Code/mec_ephys/packages/mecll/src/mecll/retreat_preprocess.py:89: RuntimeWarning: Mean of empty slice\n",
      "  firing_rate_maps[:,int(port),int(task),dix] = np.nanmean(response_table[table_index],axis=0)\n",
      "/Users/yves/Documents/Code/mec_ephys/packages/mecll/src/mecll/retreat_preprocess.py:89: RuntimeWarning: Mean of empty slice\n",
      "  firing_rate_maps[:,int(port),int(task),dix] = np.nanmean(response_table[table_index],axis=0)\n"
     ]
    }
   ],
   "source": [
    "session_dataset = load_preprocessed_data(3,\"/Users/Yves/Documents/spike/\")"
   ]
  },
  {
   "cell_type": "code",
   "execution_count": null,
   "metadata": {},
   "outputs": [],
   "source": []
  },
  {
   "cell_type": "code",
   "execution_count": 4,
   "metadata": {},
   "outputs": [],
   "source": [
    "frm_task = session_dataset.firing_rate_maps[:,:,0]"
   ]
  },
  {
   "cell_type": "code",
   "execution_count": 5,
   "metadata": {},
   "outputs": [
    {
     "data": {
      "text/plain": [
       "(202, 9, 2)"
      ]
     },
     "execution_count": 5,
     "metadata": {},
     "output_type": "execute_result"
    }
   ],
   "source": [
    "frm_task.shape"
   ]
  },
  {
   "cell_type": "code",
   "execution_count": 6,
   "metadata": {},
   "outputs": [],
   "source": [
    "valid_ix = np.where(~np.isnan(np.sum(frm_task,axis=(0,2))))[0]"
   ]
  },
  {
   "cell_type": "code",
   "execution_count": null,
   "metadata": {},
   "outputs": [],
   "source": []
  },
  {
   "cell_type": "code",
   "execution_count": 7,
   "metadata": {},
   "outputs": [],
   "source": [
    "valid_ix = np.where(~np.isnan(np.sum(frm_task,axis=(0,2))))[0]\n",
    "shuffle_svcs = []\n",
    "for _ in range(100):\n",
    "    shuffle_svcs.append(np.mean(get_svm_fit_within_task(frm_task,valid_ix,permutation=True)))\n",
    "true_scv = np.mean(get_svm_fit_within_task(frm_task, valid_ix, permutation=False))"
   ]
  },
  {
   "cell_type": "code",
   "execution_count": 8,
   "metadata": {},
   "outputs": [],
   "source": [
    "true_scv = np.mean(get_svm_fit_within_task(frm_task, valid_ix, permutation=False))"
   ]
  },
  {
   "cell_type": "code",
   "execution_count": 9,
   "metadata": {},
   "outputs": [
    {
     "name": "stdout",
     "output_type": "stream",
     "text": [
      "0.7857142857142857\n"
     ]
    },
    {
     "data": {
      "text/plain": [
       "99.0"
      ]
     },
     "execution_count": 9,
     "metadata": {},
     "output_type": "execute_result"
    }
   ],
   "source": [
    "print(true_scv)\n",
    "stt.percentileofscore(shuffle_svcs,true_scv)"
   ]
  },
  {
   "cell_type": "markdown",
   "metadata": {},
   "source": [
    "# Batch within task"
   ]
  },
  {
   "cell_type": "code",
   "execution_count": 35,
   "metadata": {},
   "outputs": [
    {
     "name": "stderr",
     "output_type": "stream",
     "text": [
      "/Users/yves/Documents/Code/mec_ephys/packages/mecll/src/mecll/retreat_preprocess.py:89: RuntimeWarning: Mean of empty slice\n",
      "  firing_rate_maps[:,int(port),int(task),dix] = np.nanmean(response_table[table_index],axis=0)\n",
      "/Users/yves/Documents/Code/mec_ephys/packages/mecll/src/mecll/retreat_preprocess.py:89: RuntimeWarning: Mean of empty slice\n",
      "  firing_rate_maps[:,int(port),int(task),dix] = np.nanmean(response_table[table_index],axis=0)\n",
      "/Users/yves/Documents/Code/mec_ephys/packages/mecll/src/mecll/retreat_preprocess.py:89: RuntimeWarning: Mean of empty slice\n",
      "  firing_rate_maps[:,int(port),int(task),dix] = np.nanmean(response_table[table_index],axis=0)\n",
      "/Users/yves/Documents/Code/mec_ephys/packages/mecll/src/mecll/retreat_preprocess.py:89: RuntimeWarning: Mean of empty slice\n",
      "  firing_rate_maps[:,int(port),int(task),dix] = np.nanmean(response_table[table_index],axis=0)\n",
      "/Users/yves/Documents/Code/mec_ephys/packages/mecll/src/mecll/retreat_preprocess.py:89: RuntimeWarning: Mean of empty slice\n",
      "  firing_rate_maps[:,int(port),int(task),dix] = np.nanmean(response_table[table_index],axis=0)\n",
      "/Users/yves/Documents/Code/mec_ephys/packages/mecll/src/mecll/retreat_preprocess.py:89: RuntimeWarning: Mean of empty slice\n",
      "  firing_rate_maps[:,int(port),int(task),dix] = np.nanmean(response_table[table_index],axis=0)\n",
      "/Users/yves/Documents/Code/mec_ephys/packages/mecll/src/mecll/retreat_preprocess.py:89: RuntimeWarning: Mean of empty slice\n",
      "  firing_rate_maps[:,int(port),int(task),dix] = np.nanmean(response_table[table_index],axis=0)\n",
      "/Users/yves/Documents/Code/mec_ephys/packages/mecll/src/mecll/retreat_preprocess.py:89: RuntimeWarning: Mean of empty slice\n",
      "  firing_rate_maps[:,int(port),int(task),dix] = np.nanmean(response_table[table_index],axis=0)\n",
      "/Users/yves/Documents/Code/mec_ephys/packages/mecll/src/mecll/retreat_preprocess.py:89: RuntimeWarning: Mean of empty slice\n",
      "  firing_rate_maps[:,int(port),int(task),dix] = np.nanmean(response_table[table_index],axis=0)\n",
      "/Users/yves/Documents/Code/mec_ephys/packages/mecll/src/mecll/retreat_preprocess.py:89: RuntimeWarning: Mean of empty slice\n",
      "  firing_rate_maps[:,int(port),int(task),dix] = np.nanmean(response_table[table_index],axis=0)\n",
      "/Users/yves/Documents/Code/mec_ephys/packages/mecll/src/mecll/retreat_preprocess.py:89: RuntimeWarning: Mean of empty slice\n",
      "  firing_rate_maps[:,int(port),int(task),dix] = np.nanmean(response_table[table_index],axis=0)\n"
     ]
    },
    {
     "name": "stdout",
     "output_type": "stream",
     "text": [
      "running session: 1 failed\n"
     ]
    },
    {
     "name": "stderr",
     "output_type": "stream",
     "text": [
      "/Users/yves/Documents/Code/mec_ephys/packages/mecll/src/mecll/retreat_preprocess.py:89: RuntimeWarning: Mean of empty slice\n",
      "  firing_rate_maps[:,int(port),int(task),dix] = np.nanmean(response_table[table_index],axis=0)\n",
      "/Users/yves/Documents/Code/mec_ephys/packages/mecll/src/mecll/retreat_preprocess.py:89: RuntimeWarning: Mean of empty slice\n",
      "  firing_rate_maps[:,int(port),int(task),dix] = np.nanmean(response_table[table_index],axis=0)\n",
      "/Users/yves/Documents/Code/mec_ephys/packages/mecll/src/mecll/retreat_preprocess.py:89: RuntimeWarning: Mean of empty slice\n",
      "  firing_rate_maps[:,int(port),int(task),dix] = np.nanmean(response_table[table_index],axis=0)\n",
      "/Users/yves/Documents/Code/mec_ephys/packages/mecll/src/mecll/retreat_preprocess.py:89: RuntimeWarning: Mean of empty slice\n",
      "  firing_rate_maps[:,int(port),int(task),dix] = np.nanmean(response_table[table_index],axis=0)\n",
      "/Users/yves/Documents/Code/mec_ephys/packages/mecll/src/mecll/retreat_preprocess.py:89: RuntimeWarning: Mean of empty slice\n",
      "  firing_rate_maps[:,int(port),int(task),dix] = np.nanmean(response_table[table_index],axis=0)\n",
      "/Users/yves/Documents/Code/mec_ephys/packages/mecll/src/mecll/retreat_preprocess.py:89: RuntimeWarning: Mean of empty slice\n",
      "  firing_rate_maps[:,int(port),int(task),dix] = np.nanmean(response_table[table_index],axis=0)\n",
      "/Users/yves/Documents/Code/mec_ephys/packages/mecll/src/mecll/retreat_preprocess.py:89: RuntimeWarning: Mean of empty slice\n",
      "  firing_rate_maps[:,int(port),int(task),dix] = np.nanmean(response_table[table_index],axis=0)\n",
      "/Users/yves/Documents/Code/mec_ephys/packages/mecll/src/mecll/retreat_preprocess.py:89: RuntimeWarning: Mean of empty slice\n",
      "  firing_rate_maps[:,int(port),int(task),dix] = np.nanmean(response_table[table_index],axis=0)\n",
      "/Users/yves/Documents/Code/mec_ephys/packages/mecll/src/mecll/retreat_preprocess.py:89: RuntimeWarning: Mean of empty slice\n",
      "  firing_rate_maps[:,int(port),int(task),dix] = np.nanmean(response_table[table_index],axis=0)\n",
      "/Users/yves/Documents/Code/mec_ephys/packages/mecll/src/mecll/retreat_preprocess.py:89: RuntimeWarning: Mean of empty slice\n",
      "  firing_rate_maps[:,int(port),int(task),dix] = np.nanmean(response_table[table_index],axis=0)\n",
      "/Users/yves/Documents/Code/mec_ephys/packages/mecll/src/mecll/retreat_preprocess.py:89: RuntimeWarning: Mean of empty slice\n",
      "  firing_rate_maps[:,int(port),int(task),dix] = np.nanmean(response_table[table_index],axis=0)\n",
      "/Users/yves/Documents/Code/mec_ephys/packages/mecll/src/mecll/retreat_preprocess.py:89: RuntimeWarning: Mean of empty slice\n",
      "  firing_rate_maps[:,int(port),int(task),dix] = np.nanmean(response_table[table_index],axis=0)\n",
      "/Users/yves/Documents/Code/mec_ephys/packages/mecll/src/mecll/retreat_preprocess.py:89: RuntimeWarning: Mean of empty slice\n",
      "  firing_rate_maps[:,int(port),int(task),dix] = np.nanmean(response_table[table_index],axis=0)\n",
      "/Users/yves/Documents/Code/mec_ephys/packages/mecll/src/mecll/retreat_preprocess.py:89: RuntimeWarning: Mean of empty slice\n",
      "  firing_rate_maps[:,int(port),int(task),dix] = np.nanmean(response_table[table_index],axis=0)\n",
      "/Users/yves/Documents/Code/mec_ephys/packages/mecll/src/mecll/retreat_preprocess.py:89: RuntimeWarning: Mean of empty slice\n",
      "  firing_rate_maps[:,int(port),int(task),dix] = np.nanmean(response_table[table_index],axis=0)\n",
      "/Users/yves/Documents/Code/mec_ephys/packages/mecll/src/mecll/retreat_preprocess.py:89: RuntimeWarning: Mean of empty slice\n",
      "  firing_rate_maps[:,int(port),int(task),dix] = np.nanmean(response_table[table_index],axis=0)\n",
      "/Users/yves/Documents/Code/mec_ephys/packages/mecll/src/mecll/retreat_preprocess.py:89: RuntimeWarning: Mean of empty slice\n",
      "  firing_rate_maps[:,int(port),int(task),dix] = np.nanmean(response_table[table_index],axis=0)\n"
     ]
    },
    {
     "name": "stdout",
     "output_type": "stream",
     "text": [
      "running session: 4 failed\n",
      "running session: 5 failed\n"
     ]
    },
    {
     "name": "stderr",
     "output_type": "stream",
     "text": [
      "/Users/yves/Documents/Code/mec_ephys/packages/mecll/src/mecll/retreat_preprocess.py:89: RuntimeWarning: Mean of empty slice\n",
      "  firing_rate_maps[:,int(port),int(task),dix] = np.nanmean(response_table[table_index],axis=0)\n",
      "/Users/yves/Documents/Code/mec_ephys/packages/mecll/src/mecll/retreat_preprocess.py:89: RuntimeWarning: Mean of empty slice\n",
      "  firing_rate_maps[:,int(port),int(task),dix] = np.nanmean(response_table[table_index],axis=0)\n"
     ]
    },
    {
     "name": "stdout",
     "output_type": "stream",
     "text": [
      "running session: 6 failed\n"
     ]
    },
    {
     "name": "stderr",
     "output_type": "stream",
     "text": [
      "/Users/yves/Documents/Code/mec_ephys/packages/mecll/src/mecll/retreat_preprocess.py:89: RuntimeWarning: Mean of empty slice\n",
      "  firing_rate_maps[:,int(port),int(task),dix] = np.nanmean(response_table[table_index],axis=0)\n",
      "/Users/yves/Documents/Code/mec_ephys/packages/mecll/src/mecll/retreat_preprocess.py:89: RuntimeWarning: Mean of empty slice\n",
      "  firing_rate_maps[:,int(port),int(task),dix] = np.nanmean(response_table[table_index],axis=0)\n",
      "/Users/yves/Documents/Code/mec_ephys/packages/mecll/src/mecll/retreat_preprocess.py:89: RuntimeWarning: Mean of empty slice\n",
      "  firing_rate_maps[:,int(port),int(task),dix] = np.nanmean(response_table[table_index],axis=0)\n",
      "/Users/yves/Documents/Code/mec_ephys/packages/mecll/src/mecll/retreat_preprocess.py:89: RuntimeWarning: Mean of empty slice\n",
      "  firing_rate_maps[:,int(port),int(task),dix] = np.nanmean(response_table[table_index],axis=0)\n"
     ]
    },
    {
     "name": "stdout",
     "output_type": "stream",
     "text": [
      "running session: 7 failed\n",
      "running session: 8 failed\n"
     ]
    },
    {
     "name": "stderr",
     "output_type": "stream",
     "text": [
      "/Users/yves/Documents/Code/mec_ephys/packages/mecll/src/mecll/retreat_preprocess.py:89: RuntimeWarning: Mean of empty slice\n",
      "  firing_rate_maps[:,int(port),int(task),dix] = np.nanmean(response_table[table_index],axis=0)\n",
      "/Users/yves/Documents/Code/mec_ephys/packages/mecll/src/mecll/retreat_preprocess.py:89: RuntimeWarning: Mean of empty slice\n",
      "  firing_rate_maps[:,int(port),int(task),dix] = np.nanmean(response_table[table_index],axis=0)\n"
     ]
    },
    {
     "name": "stdout",
     "output_type": "stream",
     "text": [
      "running session: 9 failed\n"
     ]
    },
    {
     "name": "stderr",
     "output_type": "stream",
     "text": [
      "/Users/yves/Documents/Code/mec_ephys/packages/mecll/src/mecll/retreat_preprocess.py:89: RuntimeWarning: Mean of empty slice\n",
      "  firing_rate_maps[:,int(port),int(task),dix] = np.nanmean(response_table[table_index],axis=0)\n",
      "/Users/yves/Documents/Code/mec_ephys/packages/mecll/src/mecll/retreat_preprocess.py:89: RuntimeWarning: Mean of empty slice\n",
      "  firing_rate_maps[:,int(port),int(task),dix] = np.nanmean(response_table[table_index],axis=0)\n",
      "/Users/yves/Documents/Code/mec_ephys/packages/mecll/src/mecll/retreat_preprocess.py:89: RuntimeWarning: Mean of empty slice\n",
      "  firing_rate_maps[:,int(port),int(task),dix] = np.nanmean(response_table[table_index],axis=0)\n",
      "/Users/yves/Documents/Code/mec_ephys/packages/mecll/src/mecll/retreat_preprocess.py:89: RuntimeWarning: Mean of empty slice\n",
      "  firing_rate_maps[:,int(port),int(task),dix] = np.nanmean(response_table[table_index],axis=0)\n"
     ]
    },
    {
     "name": "stdout",
     "output_type": "stream",
     "text": [
      "running session: 10 failed\n",
      "running session: 11 failed\n"
     ]
    },
    {
     "name": "stderr",
     "output_type": "stream",
     "text": [
      "/Users/yves/Documents/Code/mec_ephys/packages/mecll/src/mecll/retreat_preprocess.py:89: RuntimeWarning: Mean of empty slice\n",
      "  firing_rate_maps[:,int(port),int(task),dix] = np.nanmean(response_table[table_index],axis=0)\n",
      "/Users/yves/Documents/Code/mec_ephys/packages/mecll/src/mecll/retreat_preprocess.py:89: RuntimeWarning: Mean of empty slice\n",
      "  firing_rate_maps[:,int(port),int(task),dix] = np.nanmean(response_table[table_index],axis=0)\n",
      "/Users/yves/Documents/Code/mec_ephys/packages/mecll/src/mecll/retreat_preprocess.py:89: RuntimeWarning: Mean of empty slice\n",
      "  firing_rate_maps[:,int(port),int(task),dix] = np.nanmean(response_table[table_index],axis=0)\n",
      "/Users/yves/Documents/Code/mec_ephys/packages/mecll/src/mecll/retreat_preprocess.py:89: RuntimeWarning: Mean of empty slice\n",
      "  firing_rate_maps[:,int(port),int(task),dix] = np.nanmean(response_table[table_index],axis=0)\n",
      "/Users/yves/Documents/Code/mec_ephys/packages/mecll/src/mecll/retreat_preprocess.py:89: RuntimeWarning: Mean of empty slice\n",
      "  firing_rate_maps[:,int(port),int(task),dix] = np.nanmean(response_table[table_index],axis=0)\n",
      "/Users/yves/Documents/Code/mec_ephys/packages/mecll/src/mecll/retreat_preprocess.py:89: RuntimeWarning: Mean of empty slice\n",
      "  firing_rate_maps[:,int(port),int(task),dix] = np.nanmean(response_table[table_index],axis=0)\n",
      "/Users/yves/Documents/Code/mec_ephys/packages/mecll/src/mecll/retreat_preprocess.py:89: RuntimeWarning: Mean of empty slice\n",
      "  firing_rate_maps[:,int(port),int(task),dix] = np.nanmean(response_table[table_index],axis=0)\n",
      "/Users/yves/Documents/Code/mec_ephys/packages/mecll/src/mecll/retreat_preprocess.py:89: RuntimeWarning: Mean of empty slice\n",
      "  firing_rate_maps[:,int(port),int(task),dix] = np.nanmean(response_table[table_index],axis=0)\n",
      "/Users/yves/Documents/Code/mec_ephys/packages/mecll/src/mecll/retreat_preprocess.py:89: RuntimeWarning: Mean of empty slice\n",
      "  firing_rate_maps[:,int(port),int(task),dix] = np.nanmean(response_table[table_index],axis=0)\n",
      "/Users/yves/Documents/Code/mec_ephys/packages/mecll/src/mecll/retreat_preprocess.py:89: RuntimeWarning: Mean of empty slice\n",
      "  firing_rate_maps[:,int(port),int(task),dix] = np.nanmean(response_table[table_index],axis=0)\n",
      "/Users/yves/Documents/Code/mec_ephys/packages/mecll/src/mecll/retreat_preprocess.py:89: RuntimeWarning: Mean of empty slice\n",
      "  firing_rate_maps[:,int(port),int(task),dix] = np.nanmean(response_table[table_index],axis=0)\n",
      "/Users/yves/Documents/Code/mec_ephys/packages/mecll/src/mecll/retreat_preprocess.py:89: RuntimeWarning: Mean of empty slice\n",
      "  firing_rate_maps[:,int(port),int(task),dix] = np.nanmean(response_table[table_index],axis=0)\n",
      "/Users/yves/Documents/Code/mec_ephys/packages/mecll/src/mecll/retreat_preprocess.py:89: RuntimeWarning: Mean of empty slice\n",
      "  firing_rate_maps[:,int(port),int(task),dix] = np.nanmean(response_table[table_index],axis=0)\n",
      "/Users/yves/Documents/Code/mec_ephys/packages/mecll/src/mecll/retreat_preprocess.py:89: RuntimeWarning: Mean of empty slice\n",
      "  firing_rate_maps[:,int(port),int(task),dix] = np.nanmean(response_table[table_index],axis=0)\n",
      "/Users/yves/Documents/Code/mec_ephys/packages/mecll/src/mecll/retreat_preprocess.py:89: RuntimeWarning: Mean of empty slice\n",
      "  firing_rate_maps[:,int(port),int(task),dix] = np.nanmean(response_table[table_index],axis=0)\n",
      "/Users/yves/Documents/Code/mec_ephys/packages/mecll/src/mecll/retreat_preprocess.py:89: RuntimeWarning: Mean of empty slice\n",
      "  firing_rate_maps[:,int(port),int(task),dix] = np.nanmean(response_table[table_index],axis=0)\n",
      "/Users/yves/Documents/Code/mec_ephys/packages/mecll/src/mecll/retreat_preprocess.py:89: RuntimeWarning: Mean of empty slice\n",
      "  firing_rate_maps[:,int(port),int(task),dix] = np.nanmean(response_table[table_index],axis=0)\n",
      "/Users/yves/Documents/Code/mec_ephys/packages/mecll/src/mecll/retreat_preprocess.py:89: RuntimeWarning: Mean of empty slice\n",
      "  firing_rate_maps[:,int(port),int(task),dix] = np.nanmean(response_table[table_index],axis=0)\n",
      "/Users/yves/Documents/Code/mec_ephys/packages/mecll/src/mecll/retreat_preprocess.py:89: RuntimeWarning: Mean of empty slice\n",
      "  firing_rate_maps[:,int(port),int(task),dix] = np.nanmean(response_table[table_index],axis=0)\n",
      "/Users/yves/Documents/Code/mec_ephys/packages/mecll/src/mecll/retreat_preprocess.py:89: RuntimeWarning: Mean of empty slice\n",
      "  firing_rate_maps[:,int(port),int(task),dix] = np.nanmean(response_table[table_index],axis=0)\n",
      "/Users/yves/Documents/Code/mec_ephys/packages/mecll/src/mecll/retreat_preprocess.py:89: RuntimeWarning: Mean of empty slice\n",
      "  firing_rate_maps[:,int(port),int(task),dix] = np.nanmean(response_table[table_index],axis=0)\n",
      "/Users/yves/Documents/Code/mec_ephys/packages/mecll/src/mecll/retreat_preprocess.py:89: RuntimeWarning: Mean of empty slice\n",
      "  firing_rate_maps[:,int(port),int(task),dix] = np.nanmean(response_table[table_index],axis=0)\n",
      "/Users/yves/Documents/Code/mec_ephys/packages/mecll/src/mecll/retreat_preprocess.py:89: RuntimeWarning: Mean of empty slice\n",
      "  firing_rate_maps[:,int(port),int(task),dix] = np.nanmean(response_table[table_index],axis=0)\n",
      "/Users/yves/Documents/Code/mec_ephys/packages/mecll/src/mecll/retreat_preprocess.py:89: RuntimeWarning: Mean of empty slice\n",
      "  firing_rate_maps[:,int(port),int(task),dix] = np.nanmean(response_table[table_index],axis=0)\n",
      "/Users/yves/Documents/Code/mec_ephys/packages/mecll/src/mecll/retreat_preprocess.py:89: RuntimeWarning: Mean of empty slice\n",
      "  firing_rate_maps[:,int(port),int(task),dix] = np.nanmean(response_table[table_index],axis=0)\n",
      "/Users/yves/Documents/Code/mec_ephys/packages/mecll/src/mecll/retreat_preprocess.py:89: RuntimeWarning: Mean of empty slice\n",
      "  firing_rate_maps[:,int(port),int(task),dix] = np.nanmean(response_table[table_index],axis=0)\n",
      "/Users/yves/Documents/Code/mec_ephys/packages/mecll/src/mecll/retreat_preprocess.py:89: RuntimeWarning: Mean of empty slice\n",
      "  firing_rate_maps[:,int(port),int(task),dix] = np.nanmean(response_table[table_index],axis=0)\n",
      "/Users/yves/Documents/Code/mec_ephys/packages/mecll/src/mecll/retreat_preprocess.py:89: RuntimeWarning: Mean of empty slice\n",
      "  firing_rate_maps[:,int(port),int(task),dix] = np.nanmean(response_table[table_index],axis=0)\n",
      "/Users/yves/Documents/Code/mec_ephys/packages/mecll/src/mecll/retreat_preprocess.py:89: RuntimeWarning: Mean of empty slice\n",
      "  firing_rate_maps[:,int(port),int(task),dix] = np.nanmean(response_table[table_index],axis=0)\n",
      "/Users/yves/Documents/Code/mec_ephys/packages/mecll/src/mecll/retreat_preprocess.py:89: RuntimeWarning: Mean of empty slice\n",
      "  firing_rate_maps[:,int(port),int(task),dix] = np.nanmean(response_table[table_index],axis=0)\n"
     ]
    },
    {
     "name": "stdout",
     "output_type": "stream",
     "text": [
      "running session: 22 failed\n",
      "running session: 23 failed\n",
      "running session: 24 failed\n",
      "running session: 25 failed\n",
      "running session: 26 failed\n",
      "running session: 27 failed\n",
      "running session: 28 failed\n",
      "running session: 29 failed\n"
     ]
    }
   ],
   "source": [
    "all_real = []\n",
    "all_permutation = []\n",
    "for session_index in range(30):\n",
    "    try:\n",
    "        session_dataset = load_preprocessed_data(session_index,\"/Users/Yves/Documents/spike/\")\n",
    "        overlapping_ports = get_unique_transitions(session_dataset.seq0, session_dataset.seq1)\n",
    "        frm_task1 = session_dataset.firing_rate_maps[:,:,0]\n",
    "        frm_task2 = session_dataset.firing_rate_maps[:,:,1]\n",
    "#         spatial_map = np.mean(session_dataset.firing_rate_maps,axis=(2,3))\n",
    "#         frm_task1 = frm_task1 - spatial_map[:,:,None]\n",
    "#         frm_task2 = frm_task2 - spatial_map[:,:,None]\n",
    "\n",
    "        for frm_task in [frm_task1,frm_task2]:\n",
    "            valid_ix = np.where(~np.isnan(np.sum(frm_task,axis=(0,2))))[0]\n",
    "            shuffle_svcs = []\n",
    "            for _ in range(100):\n",
    "                shuffle_svcs.append(np.mean(\n",
    "                                            get_svm_fit_within_task(frm_task,\n",
    "                                                                    valid_ix,\n",
    "                                                                    permutation=True,\n",
    "                                                                    leave_out=2)\n",
    "                                            )\n",
    "                                    )\n",
    "                \n",
    "            true_scv = np.mean(get_svm_fit_within_task(frm_task,\n",
    "                                                       valid_ix,\n",
    "                                                       permutation=False,\n",
    "                                                       leave_out=2)\n",
    "                              )\n",
    "            all_real.append(true_scv)\n",
    "            all_permutation.append(shuffle_svcs)\n",
    "    except:\n",
    "        print(\"running session: {} failed\".format(session_index))"
   ]
  },
  {
   "cell_type": "code",
   "execution_count": 36,
   "metadata": {},
   "outputs": [],
   "source": [
    "perm_avg = np.mean(np.array(all_permutation),axis=0)\n",
    "true_avg = np.mean(all_real)"
   ]
  },
  {
   "cell_type": "code",
   "execution_count": 37,
   "metadata": {},
   "outputs": [
    {
     "data": {
      "text/plain": [
       "100.0"
      ]
     },
     "execution_count": 37,
     "metadata": {},
     "output_type": "execute_result"
    }
   ],
   "source": [
    "stt.percentileofscore(perm_avg, true_avg)"
   ]
  },
  {
   "cell_type": "code",
   "execution_count": 38,
   "metadata": {},
   "outputs": [
    {
     "data": {
      "text/plain": [
       "[0.8819444444444444,\n",
       " 0.4930555555555556,\n",
       " 0.42857142857142855,\n",
       " 0.5972222222222222,\n",
       " 0.4444444444444444,\n",
       " 0.7142857142857143,\n",
       " 0.9861111111111112,\n",
       " 0.5714285714285714,\n",
       " 0.6180555555555556,\n",
       " 0.4880952380952381,\n",
       " 0.5119047619047619,\n",
       " 0.38095238095238093,\n",
       " 0.4375,\n",
       " 0.5595238095238095,\n",
       " 0.5119047619047619,\n",
       " 0.5833333333333334,\n",
       " 0.6666666666666666,\n",
       " 0.5833333333333334,\n",
       " 0.3333333333333333,\n",
       " 0.4523809523809524,\n",
       " 0.32142857142857145,\n",
       " 0.5238095238095238,\n",
       " 0.5119047619047619,\n",
       " 0.5952380952380952,\n",
       " 0.5555555555555556,\n",
       " 0.4523809523809524,\n",
       " 0.6180555555555556]"
      ]
     },
     "execution_count": 38,
     "metadata": {},
     "output_type": "execute_result"
    }
   ],
   "source": [
    "all_real"
   ]
  },
  {
   "cell_type": "code",
   "execution_count": 39,
   "metadata": {},
   "outputs": [
    {
     "data": {
      "image/png": "[encoded data removed]",
      "text/plain": [
       "<Figure size 432x288 with 1 Axes>"
      ]
     },
     "metadata": {
      "needs_background": "light"
     },
     "output_type": "display_data"
    }
   ],
   "source": [
    "seaborn.distplot(perm_avg,kde=0)\n",
    "plt.axvline(x=true_avg,color='k',linestyle='--',dashes=(7,7))\n",
    "plt.xlabel(\"Classification accuracy\")\n",
    "plt.ylabel(\"# of Shuffles\")\n",
    "seaborn.despine()"
   ]
  },
  {
   "cell_type": "markdown",
   "metadata": {},
   "source": [
    "# Across task decoding"
   ]
  },
  {
   "cell_type": "code",
   "execution_count": 10,
   "metadata": {},
   "outputs": [],
   "source": [
    "valid_ix = np.where(~np.isnan(np.sum(frm_task,axis=(0,2))))[0]"
   ]
  },
  {
   "cell_type": "code",
   "execution_count": null,
   "metadata": {},
   "outputs": [],
   "source": []
  },
  {
   "cell_type": "code",
   "execution_count": 18,
   "metadata": {},
   "outputs": [],
   "source": [
    "overlapping_ports = get_unique_transitions(session_dataset.seq0, session_dataset.seq1)"
   ]
  },
  {
   "cell_type": "code",
   "execution_count": 19,
   "metadata": {},
   "outputs": [],
   "source": [
    "frm_task1 = session_dataset.firing_rate_maps[:,:,0]\n",
    "frm_task2 = session_dataset.firing_rate_maps[:,:,1]"
   ]
  },
  {
   "cell_type": "code",
   "execution_count": 21,
   "metadata": {},
   "outputs": [
    {
     "name": "stdout",
     "output_type": "stream",
     "text": [
      "Train set accuracy=1.00\n",
      "Train set accuracy=1.00\n",
      "Train set accuracy=1.00\n",
      "Train set accuracy=1.00\n",
      "Train set accuracy=1.00\n",
      "Train set accuracy=1.00\n",
      "Train set accuracy=1.00\n",
      "Train set accuracy=1.00\n",
      "Train set accuracy=1.00\n",
      "Train set accuracy=1.00\n",
      "Train set accuracy=1.00\n",
      "Train set accuracy=1.00\n",
      "Train set accuracy=1.00\n",
      "Train set accuracy=1.00\n",
      "Train set accuracy=1.00\n",
      "Train set accuracy=1.00\n",
      "Train set accuracy=1.00\n",
      "Train set accuracy=1.00\n",
      "Train set accuracy=1.00\n",
      "Train set accuracy=1.00\n",
      "Train set accuracy=1.00\n",
      "Train set accuracy=1.00\n",
      "Train set accuracy=1.00\n",
      "Train set accuracy=1.00\n",
      "Train set accuracy=1.00\n",
      "Train set accuracy=1.00\n",
      "Train set accuracy=1.00\n",
      "Train set accuracy=1.00\n",
      "Train set accuracy=1.00\n",
      "Train set accuracy=1.00\n",
      "Train set accuracy=1.00\n",
      "Train set accuracy=1.00\n",
      "Train set accuracy=1.00\n",
      "Train set accuracy=1.00\n",
      "Train set accuracy=1.00\n",
      "Train set accuracy=1.00\n",
      "Train set accuracy=1.00\n",
      "Train set accuracy=1.00\n",
      "Train set accuracy=1.00\n",
      "Train set accuracy=1.00\n",
      "Train set accuracy=1.00\n",
      "Train set accuracy=1.00\n",
      "Train set accuracy=1.00\n",
      "Train set accuracy=1.00\n",
      "Train set accuracy=1.00\n",
      "Train set accuracy=1.00\n",
      "Train set accuracy=1.00\n",
      "Train set accuracy=1.00\n",
      "Train set accuracy=1.00\n",
      "Train set accuracy=1.00\n",
      "Train set accuracy=1.00\n",
      "Train set accuracy=1.00\n",
      "Train set accuracy=1.00\n",
      "Train set accuracy=1.00\n",
      "Train set accuracy=1.00\n",
      "Train set accuracy=1.00\n",
      "Train set accuracy=1.00\n",
      "Train set accuracy=1.00\n",
      "Train set accuracy=1.00\n",
      "Train set accuracy=1.00\n",
      "Train set accuracy=1.00\n",
      "Train set accuracy=1.00\n",
      "Train set accuracy=1.00\n",
      "Train set accuracy=1.00\n",
      "Train set accuracy=1.00\n",
      "Train set accuracy=1.00\n",
      "Train set accuracy=1.00\n",
      "Train set accuracy=1.00\n",
      "Train set accuracy=1.00\n",
      "Train set accuracy=1.00\n",
      "Train set accuracy=1.00\n",
      "Train set accuracy=1.00\n",
      "Train set accuracy=1.00\n",
      "Train set accuracy=1.00\n",
      "Train set accuracy=1.00\n",
      "Train set accuracy=1.00\n",
      "Train set accuracy=1.00\n",
      "Train set accuracy=1.00\n",
      "Train set accuracy=1.00\n",
      "Train set accuracy=1.00\n",
      "Train set accuracy=1.00\n",
      "Train set accuracy=1.00\n",
      "Train set accuracy=1.00\n",
      "Train set accuracy=1.00\n",
      "Train set accuracy=1.00\n",
      "Train set accuracy=1.00\n",
      "Train set accuracy=1.00\n",
      "Train set accuracy=1.00\n",
      "Train set accuracy=1.00\n",
      "Train set accuracy=1.00\n",
      "Train set accuracy=1.00\n",
      "Train set accuracy=1.00\n",
      "Train set accuracy=1.00\n",
      "Train set accuracy=1.00\n",
      "Train set accuracy=1.00\n",
      "Train set accuracy=1.00\n",
      "Train set accuracy=1.00\n",
      "Train set accuracy=1.00\n",
      "Train set accuracy=1.00\n",
      "Train set accuracy=1.00\n",
      "Train set accuracy=1.00\n",
      "Train set accuracy=1.00\n",
      "Train set accuracy=1.00\n",
      "Train set accuracy=1.00\n",
      "Train set accuracy=1.00\n",
      "Train set accuracy=1.00\n",
      "Train set accuracy=1.00\n",
      "Train set accuracy=1.00\n",
      "Train set accuracy=1.00\n",
      "Train set accuracy=1.00\n",
      "Train set accuracy=1.00\n",
      "Train set accuracy=1.00\n",
      "Train set accuracy=1.00\n",
      "Train set accuracy=1.00\n",
      "Train set accuracy=1.00\n",
      "Train set accuracy=1.00\n",
      "Train set accuracy=1.00\n",
      "Train set accuracy=1.00\n",
      "Train set accuracy=1.00\n",
      "Train set accuracy=1.00\n",
      "Train set accuracy=1.00\n",
      "Train set accuracy=1.00\n",
      "Train set accuracy=1.00\n",
      "Train set accuracy=1.00\n",
      "Train set accuracy=1.00\n",
      "Train set accuracy=1.00\n",
      "Train set accuracy=1.00\n",
      "Train set accuracy=1.00\n",
      "Train set accuracy=1.00\n",
      "Train set accuracy=1.00\n",
      "Train set accuracy=1.00\n",
      "Train set accuracy=1.00\n",
      "Train set accuracy=1.00\n",
      "Train set accuracy=1.00\n",
      "Train set accuracy=1.00\n",
      "Train set accuracy=1.00\n",
      "Train set accuracy=1.00\n",
      "Train set accuracy=1.00\n",
      "Train set accuracy=1.00\n",
      "Train set accuracy=1.00\n",
      "Train set accuracy=1.00\n",
      "Train set accuracy=1.00\n",
      "Train set accuracy=1.00\n",
      "Train set accuracy=1.00\n",
      "Train set accuracy=1.00\n",
      "Train set accuracy=1.00\n",
      "Train set accuracy=1.00\n",
      "Train set accuracy=1.00\n",
      "Train set accuracy=1.00\n",
      "Train set accuracy=1.00\n",
      "Train set accuracy=1.00\n",
      "Train set accuracy=1.00\n",
      "Train set accuracy=1.00\n",
      "Train set accuracy=1.00\n",
      "Train set accuracy=1.00\n",
      "Train set accuracy=1.00\n",
      "Train set accuracy=1.00\n",
      "Train set accuracy=1.00\n",
      "Train set accuracy=1.00\n",
      "Train set accuracy=1.00\n",
      "Train set accuracy=1.00\n",
      "Train set accuracy=1.00\n",
      "Train set accuracy=1.00\n",
      "Train set accuracy=1.00\n",
      "Train set accuracy=1.00\n",
      "Train set accuracy=1.00\n",
      "Train set accuracy=1.00\n",
      "Train set accuracy=1.00\n",
      "Train set accuracy=1.00\n",
      "Train set accuracy=1.00\n",
      "Train set accuracy=1.00\n",
      "Train set accuracy=1.00\n",
      "Train set accuracy=1.00\n",
      "Train set accuracy=1.00\n",
      "Train set accuracy=1.00\n",
      "Train set accuracy=1.00\n",
      "Train set accuracy=1.00\n",
      "Train set accuracy=1.00\n",
      "Train set accuracy=1.00\n",
      "Train set accuracy=1.00\n",
      "Train set accuracy=1.00\n",
      "Train set accuracy=1.00\n",
      "Train set accuracy=1.00\n",
      "Train set accuracy=1.00\n",
      "Train set accuracy=1.00\n",
      "Train set accuracy=1.00\n",
      "Train set accuracy=1.00\n",
      "Train set accuracy=1.00\n",
      "Train set accuracy=1.00\n",
      "Train set accuracy=1.00\n",
      "Train set accuracy=1.00\n",
      "Train set accuracy=1.00\n",
      "Train set accuracy=1.00\n",
      "Train set accuracy=1.00\n",
      "Train set accuracy=1.00\n",
      "Train set accuracy=1.00\n",
      "Train set accuracy=1.00\n",
      "Train set accuracy=1.00\n",
      "Train set accuracy=1.00\n",
      "Train set accuracy=1.00\n",
      "Train set accuracy=1.00\n",
      "Train set accuracy=1.00\n",
      "Train set accuracy=1.00\n",
      "Train set accuracy=1.00\n",
      "Train set accuracy=1.00\n",
      "Train set accuracy=1.00\n",
      "Train set accuracy=1.00\n",
      "Train set accuracy=1.00\n",
      "Train set accuracy=1.00\n",
      "Train set accuracy=1.00\n",
      "Train set accuracy=1.00\n",
      "Train set accuracy=1.00\n",
      "Train set accuracy=1.00\n",
      "Train set accuracy=1.00\n",
      "Train set accuracy=1.00\n",
      "Train set accuracy=1.00\n",
      "Train set accuracy=1.00\n",
      "Train set accuracy=1.00\n",
      "Train set accuracy=1.00\n",
      "Train set accuracy=1.00\n",
      "Train set accuracy=1.00\n",
      "Train set accuracy=1.00\n",
      "Train set accuracy=1.00\n",
      "Train set accuracy=1.00\n",
      "Train set accuracy=1.00\n",
      "Train set accuracy=1.00\n",
      "Train set accuracy=1.00\n",
      "Train set accuracy=1.00\n",
      "Train set accuracy=1.00\n",
      "Train set accuracy=1.00\n",
      "Train set accuracy=1.00\n",
      "Train set accuracy=1.00\n",
      "Train set accuracy=1.00\n",
      "Train set accuracy=1.00\n",
      "Train set accuracy=1.00\n",
      "Train set accuracy=1.00\n",
      "Train set accuracy=1.00\n",
      "Train set accuracy=1.00\n",
      "Train set accuracy=1.00\n",
      "Train set accuracy=1.00\n",
      "Train set accuracy=1.00\n",
      "Train set accuracy=1.00\n",
      "Train set accuracy=1.00\n",
      "Train set accuracy=1.00\n",
      "Train set accuracy=1.00\n",
      "Train set accuracy=1.00\n",
      "Train set accuracy=1.00\n",
      "Train set accuracy=1.00\n",
      "Train set accuracy=1.00\n",
      "Train set accuracy=1.00\n",
      "Train set accuracy=1.00\n",
      "Train set accuracy=1.00\n",
      "Train set accuracy=1.00\n",
      "Train set accuracy=1.00\n",
      "Train set accuracy=1.00\n",
      "Train set accuracy=1.00\n",
      "Train set accuracy=1.00\n",
      "Train set accuracy=1.00\n",
      "Train set accuracy=1.00\n",
      "Train set accuracy=1.00\n",
      "Train set accuracy=1.00\n",
      "Train set accuracy=1.00\n",
      "Train set accuracy=1.00\n",
      "Train set accuracy=1.00\n",
      "Train set accuracy=1.00\n",
      "Train set accuracy=1.00\n",
      "Train set accuracy=1.00\n",
      "Train set accuracy=1.00\n",
      "Train set accuracy=1.00\n",
      "Train set accuracy=1.00\n",
      "Train set accuracy=1.00\n",
      "Train set accuracy=1.00\n",
      "Train set accuracy=1.00\n",
      "Train set accuracy=1.00\n",
      "Train set accuracy=1.00\n",
      "Train set accuracy=1.00\n",
      "Train set accuracy=1.00\n",
      "Train set accuracy=1.00\n",
      "Train set accuracy=1.00\n",
      "Train set accuracy=1.00\n",
      "Train set accuracy=1.00\n",
      "Train set accuracy=1.00\n",
      "Train set accuracy=1.00\n",
      "Train set accuracy=1.00\n",
      "Train set accuracy=1.00\n",
      "Train set accuracy=1.00\n",
      "Train set accuracy=1.00\n",
      "Train set accuracy=1.00\n",
      "Train set accuracy=1.00\n",
      "Train set accuracy=1.00\n",
      "Train set accuracy=1.00\n",
      "Train set accuracy=1.00\n",
      "Train set accuracy=1.00\n",
      "Train set accuracy=1.00\n",
      "Train set accuracy=1.00\n",
      "Train set accuracy=1.00\n",
      "Train set accuracy=1.00\n",
      "Train set accuracy=1.00\n",
      "Train set accuracy=1.00\n",
      "Train set accuracy=1.00\n",
      "Train set accuracy=1.00\n",
      "Train set accuracy=1.00\n",
      "Train set accuracy=1.00\n",
      "Train set accuracy=1.00\n",
      "Train set accuracy=1.00\n",
      "Train set accuracy=1.00\n",
      "Train set accuracy=1.00\n",
      "Train set accuracy=1.00\n",
      "Train set accuracy=1.00\n",
      "Train set accuracy=1.00\n",
      "Train set accuracy=1.00\n",
      "Train set accuracy=1.00\n",
      "Train set accuracy=1.00\n",
      "Train set accuracy=1.00\n",
      "Train set accuracy=1.00\n",
      "Train set accuracy=1.00\n",
      "Train set accuracy=1.00\n",
      "Train set accuracy=1.00\n",
      "Train set accuracy=1.00\n",
      "Train set accuracy=1.00\n",
      "Train set accuracy=1.00\n",
      "Train set accuracy=1.00\n",
      "Train set accuracy=1.00\n",
      "Train set accuracy=1.00\n",
      "Train set accuracy=1.00\n",
      "Train set accuracy=1.00\n",
      "Train set accuracy=1.00\n",
      "Train set accuracy=1.00\n",
      "Train set accuracy=1.00\n",
      "Train set accuracy=1.00\n",
      "Train set accuracy=1.00\n",
      "Train set accuracy=1.00\n",
      "Train set accuracy=1.00\n",
      "Train set accuracy=1.00\n",
      "Train set accuracy=1.00\n",
      "Train set accuracy=1.00\n",
      "Train set accuracy=1.00\n",
      "Train set accuracy=1.00\n",
      "Train set accuracy=1.00\n",
      "Train set accuracy=1.00\n",
      "Train set accuracy=1.00\n",
      "Train set accuracy=1.00\n",
      "Train set accuracy=1.00\n",
      "Train set accuracy=1.00\n",
      "Train set accuracy=1.00\n",
      "Train set accuracy=1.00\n",
      "Train set accuracy=1.00\n",
      "Train set accuracy=1.00\n",
      "Train set accuracy=1.00\n",
      "Train set accuracy=1.00\n",
      "Train set accuracy=1.00\n",
      "Train set accuracy=1.00\n",
      "Train set accuracy=1.00\n",
      "Train set accuracy=1.00\n",
      "Train set accuracy=1.00\n",
      "Train set accuracy=1.00\n",
      "Train set accuracy=1.00\n",
      "Train set accuracy=1.00\n",
      "Train set accuracy=1.00\n",
      "Train set accuracy=1.00\n",
      "Train set accuracy=1.00\n",
      "Train set accuracy=1.00\n",
      "Train set accuracy=1.00\n",
      "Train set accuracy=1.00\n",
      "Train set accuracy=1.00\n",
      "Train set accuracy=1.00\n",
      "Train set accuracy=1.00\n",
      "Train set accuracy=1.00\n",
      "Train set accuracy=1.00\n",
      "Train set accuracy=1.00\n",
      "Train set accuracy=1.00\n",
      "Train set accuracy=1.00\n",
      "Train set accuracy=1.00\n",
      "Train set accuracy=1.00\n",
      "Train set accuracy=1.00\n",
      "Train set accuracy=1.00\n",
      "Train set accuracy=1.00\n",
      "Train set accuracy=1.00\n",
      "Train set accuracy=1.00\n",
      "Train set accuracy=1.00\n",
      "Train set accuracy=1.00\n",
      "Train set accuracy=1.00\n",
      "Train set accuracy=1.00\n",
      "Train set accuracy=1.00\n",
      "Train set accuracy=1.00\n",
      "Train set accuracy=1.00\n",
      "Train set accuracy=1.00\n",
      "Train set accuracy=1.00\n",
      "Train set accuracy=1.00\n",
      "Train set accuracy=1.00\n",
      "Train set accuracy=1.00\n",
      "Train set accuracy=1.00\n",
      "Train set accuracy=1.00\n",
      "Train set accuracy=1.00\n",
      "Train set accuracy=1.00\n",
      "Train set accuracy=1.00\n",
      "Train set accuracy=1.00\n",
      "Train set accuracy=1.00\n",
      "Train set accuracy=1.00\n",
      "Train set accuracy=1.00\n",
      "Train set accuracy=1.00\n",
      "Train set accuracy=1.00\n",
      "Train set accuracy=1.00\n",
      "Train set accuracy=1.00\n",
      "Train set accuracy=1.00\n",
      "Train set accuracy=1.00\n",
      "Train set accuracy=1.00\n",
      "Train set accuracy=1.00\n",
      "Train set accuracy=1.00\n",
      "Train set accuracy=1.00\n",
      "Train set accuracy=1.00\n",
      "Train set accuracy=1.00\n",
      "Train set accuracy=1.00\n",
      "Train set accuracy=1.00\n",
      "Train set accuracy=1.00\n",
      "Train set accuracy=1.00\n",
      "Train set accuracy=1.00\n",
      "Train set accuracy=1.00\n",
      "Train set accuracy=1.00\n",
      "Train set accuracy=1.00\n",
      "Train set accuracy=1.00\n",
      "Train set accuracy=1.00\n",
      "Train set accuracy=1.00\n",
      "Train set accuracy=1.00\n",
      "Train set accuracy=1.00\n",
      "Train set accuracy=1.00\n",
      "Train set accuracy=1.00\n",
      "Train set accuracy=1.00\n",
      "Train set accuracy=1.00\n",
      "Train set accuracy=1.00\n",
      "Train set accuracy=1.00\n",
      "Train set accuracy=1.00\n",
      "Train set accuracy=1.00\n",
      "Train set accuracy=1.00\n",
      "Train set accuracy=1.00\n",
      "Train set accuracy=1.00\n",
      "Train set accuracy=1.00\n",
      "Train set accuracy=1.00\n",
      "Train set accuracy=1.00\n",
      "Train set accuracy=1.00\n",
      "Train set accuracy=1.00\n",
      "Train set accuracy=1.00\n",
      "Train set accuracy=1.00\n",
      "Train set accuracy=1.00\n",
      "Train set accuracy=1.00\n",
      "Train set accuracy=1.00\n",
      "Train set accuracy=1.00\n",
      "Train set accuracy=1.00\n",
      "Train set accuracy=1.00\n",
      "Train set accuracy=1.00\n",
      "Train set accuracy=1.00\n"
     ]
    },
    {
     "name": "stdout",
     "output_type": "stream",
     "text": [
      "Train set accuracy=1.00\n",
      "Train set accuracy=1.00\n",
      "Train set accuracy=1.00\n",
      "Train set accuracy=1.00\n",
      "Train set accuracy=1.00\n",
      "Train set accuracy=1.00\n",
      "Train set accuracy=1.00\n",
      "Train set accuracy=1.00\n",
      "Train set accuracy=1.00\n",
      "Train set accuracy=1.00\n",
      "Train set accuracy=1.00\n",
      "Train set accuracy=1.00\n",
      "Train set accuracy=1.00\n",
      "Train set accuracy=1.00\n",
      "Train set accuracy=1.00\n",
      "Train set accuracy=1.00\n",
      "Train set accuracy=1.00\n",
      "Train set accuracy=1.00\n",
      "Train set accuracy=1.00\n",
      "Train set accuracy=1.00\n",
      "Train set accuracy=1.00\n",
      "Train set accuracy=1.00\n",
      "Train set accuracy=1.00\n",
      "Train set accuracy=1.00\n",
      "Train set accuracy=1.00\n",
      "Train set accuracy=1.00\n",
      "Train set accuracy=1.00\n",
      "Train set accuracy=1.00\n",
      "Train set accuracy=1.00\n",
      "Train set accuracy=1.00\n",
      "Train set accuracy=1.00\n",
      "Train set accuracy=1.00\n",
      "Train set accuracy=1.00\n",
      "Train set accuracy=1.00\n",
      "Train set accuracy=1.00\n",
      "Train set accuracy=1.00\n",
      "Train set accuracy=1.00\n",
      "Train set accuracy=1.00\n",
      "Train set accuracy=1.00\n",
      "Train set accuracy=1.00\n",
      "Train set accuracy=1.00\n",
      "Train set accuracy=1.00\n",
      "Train set accuracy=1.00\n",
      "Train set accuracy=1.00\n",
      "Train set accuracy=1.00\n",
      "Train set accuracy=1.00\n",
      "Train set accuracy=1.00\n",
      "Train set accuracy=1.00\n",
      "Train set accuracy=1.00\n",
      "Train set accuracy=1.00\n"
     ]
    }
   ],
   "source": [
    "valid_ix = np.where(~np.isnan(np.sum(session_dataset.firing_rate_maps,axis=(0,2,3))))[0]\n",
    "\n",
    "real_acoss_task_fit = (np.abs(get_svm_fit_across_task(frm_task,frm_task2,\n",
    "                                                     valid_ix,\n",
    "                                                     overlapping_ports,\n",
    "                                                     do_shuffle=False)-.5)\n",
    "                             +.5)\n",
    "permutation_fits = [(np.abs(get_svm_fit_across_task(frm_task,frm_task2,\n",
    "                                            valid_ix,\n",
    "                                            overlapping_ports,\n",
    "                                            do_shuffle=True) -.5)\n",
    "                     +.5)\n",
    "                    for _ in range(500)]\n",
    "                          \n",
    "#mean_perm_fits = [np.mean(i) for i in permutation_fits]"
   ]
  },
  {
   "cell_type": "code",
   "execution_count": 22,
   "metadata": {},
   "outputs": [
    {
     "data": {
      "text/plain": [
       "0.8"
      ]
     },
     "execution_count": 22,
     "metadata": {},
     "output_type": "execute_result"
    }
   ],
   "source": [
    "real_acoss_task_fit"
   ]
  },
  {
   "cell_type": "code",
   "execution_count": 24,
   "metadata": {},
   "outputs": [
    {
     "data": {
      "text/plain": [
       "81.3"
      ]
     },
     "execution_count": 24,
     "metadata": {},
     "output_type": "execute_result"
    }
   ],
   "source": [
    "stt.percentileofscore(permutation_fits,real_acoss_task_fit)"
   ]
  },
  {
   "cell_type": "markdown",
   "metadata": {},
   "source": [
    "# Batch across tasks"
   ]
  },
  {
   "cell_type": "code",
   "execution_count": 14,
   "metadata": {},
   "outputs": [
    {
     "name": "stdout",
     "output_type": "stream",
     "text": [
      "running session: 0 failed\n",
      "running session: 1 failed\n",
      "running session: 2 failed\n"
     ]
    },
    {
     "name": "stderr",
     "output_type": "stream",
     "text": [
      "/Users/yves/Documents/Code/mec_ephys/packages/mecll/src/mecll/retreat_preprocess.py:89: RuntimeWarning: Mean of empty slice\n",
      "  firing_rate_maps[:,int(port),int(task),dix] = np.nanmean(response_table[table_index],axis=0)\n",
      "/Users/yves/Documents/Code/mec_ephys/packages/mecll/src/mecll/retreat_preprocess.py:89: RuntimeWarning: Mean of empty slice\n",
      "  firing_rate_maps[:,int(port),int(task),dix] = np.nanmean(response_table[table_index],axis=0)\n",
      "/Users/yves/Documents/Code/mec_ephys/packages/mecll/src/mecll/retreat_preprocess.py:89: RuntimeWarning: Mean of empty slice\n",
      "  firing_rate_maps[:,int(port),int(task),dix] = np.nanmean(response_table[table_index],axis=0)\n",
      "/Users/yves/Documents/Code/mec_ephys/packages/mecll/src/mecll/retreat_preprocess.py:89: RuntimeWarning: Mean of empty slice\n",
      "  firing_rate_maps[:,int(port),int(task),dix] = np.nanmean(response_table[table_index],axis=0)\n",
      "/Users/yves/Documents/Code/mec_ephys/packages/mecll/src/mecll/retreat_preprocess.py:89: RuntimeWarning: Mean of empty slice\n",
      "  firing_rate_maps[:,int(port),int(task),dix] = np.nanmean(response_table[table_index],axis=0)\n",
      "/Users/yves/Documents/Code/mec_ephys/packages/mecll/src/mecll/retreat_preprocess.py:89: RuntimeWarning: Mean of empty slice\n",
      "  firing_rate_maps[:,int(port),int(task),dix] = np.nanmean(response_table[table_index],axis=0)\n",
      "/Users/yves/Documents/Code/mec_ephys/packages/mecll/src/mecll/retreat_preprocess.py:89: RuntimeWarning: Mean of empty slice\n",
      "  firing_rate_maps[:,int(port),int(task),dix] = np.nanmean(response_table[table_index],axis=0)\n",
      "/Users/yves/Documents/Code/mec_ephys/packages/mecll/src/mecll/retreat_preprocess.py:89: RuntimeWarning: Mean of empty slice\n",
      "  firing_rate_maps[:,int(port),int(task),dix] = np.nanmean(response_table[table_index],axis=0)\n",
      "/Users/yves/Documents/Code/mec_ephys/packages/mecll/src/mecll/retreat_preprocess.py:89: RuntimeWarning: Mean of empty slice\n",
      "  firing_rate_maps[:,int(port),int(task),dix] = np.nanmean(response_table[table_index],axis=0)\n",
      "/Users/yves/Documents/Code/mec_ephys/packages/mecll/src/mecll/retreat_preprocess.py:89: RuntimeWarning: Mean of empty slice\n",
      "  firing_rate_maps[:,int(port),int(task),dix] = np.nanmean(response_table[table_index],axis=0)\n",
      "/Users/yves/Documents/Code/mec_ephys/packages/mecll/src/mecll/retreat_preprocess.py:89: RuntimeWarning: Mean of empty slice\n",
      "  firing_rate_maps[:,int(port),int(task),dix] = np.nanmean(response_table[table_index],axis=0)\n",
      "/Users/yves/Documents/Code/mec_ephys/packages/mecll/src/mecll/retreat_preprocess.py:89: RuntimeWarning: Mean of empty slice\n",
      "  firing_rate_maps[:,int(port),int(task),dix] = np.nanmean(response_table[table_index],axis=0)\n",
      "/Users/yves/Documents/Code/mec_ephys/packages/mecll/src/mecll/retreat_preprocess.py:89: RuntimeWarning: Mean of empty slice\n",
      "  firing_rate_maps[:,int(port),int(task),dix] = np.nanmean(response_table[table_index],axis=0)\n",
      "/Users/yves/Documents/Code/mec_ephys/packages/mecll/src/mecll/retreat_preprocess.py:89: RuntimeWarning: Mean of empty slice\n",
      "  firing_rate_maps[:,int(port),int(task),dix] = np.nanmean(response_table[table_index],axis=0)\n",
      "/Users/yves/Documents/Code/mec_ephys/packages/mecll/src/mecll/retreat_preprocess.py:89: RuntimeWarning: Mean of empty slice\n",
      "  firing_rate_maps[:,int(port),int(task),dix] = np.nanmean(response_table[table_index],axis=0)\n",
      "/Users/yves/Documents/Code/mec_ephys/packages/mecll/src/mecll/retreat_preprocess.py:89: RuntimeWarning: Mean of empty slice\n",
      "  firing_rate_maps[:,int(port),int(task),dix] = np.nanmean(response_table[table_index],axis=0)\n",
      "/Users/yves/Documents/Code/mec_ephys/packages/mecll/src/mecll/retreat_preprocess.py:89: RuntimeWarning: Mean of empty slice\n",
      "  firing_rate_maps[:,int(port),int(task),dix] = np.nanmean(response_table[table_index],axis=0)\n",
      "/Users/yves/Documents/Code/mec_ephys/packages/mecll/src/mecll/retreat_preprocess.py:89: RuntimeWarning: Mean of empty slice\n",
      "  firing_rate_maps[:,int(port),int(task),dix] = np.nanmean(response_table[table_index],axis=0)\n",
      "/Users/yves/Documents/Code/mec_ephys/packages/mecll/src/mecll/retreat_preprocess.py:89: RuntimeWarning: Mean of empty slice\n",
      "  firing_rate_maps[:,int(port),int(task),dix] = np.nanmean(response_table[table_index],axis=0)\n",
      "/Users/yves/Documents/Code/mec_ephys/packages/mecll/src/mecll/retreat_preprocess.py:89: RuntimeWarning: Mean of empty slice\n",
      "  firing_rate_maps[:,int(port),int(task),dix] = np.nanmean(response_table[table_index],axis=0)\n",
      "/Users/yves/Documents/Code/mec_ephys/packages/mecll/src/mecll/retreat_preprocess.py:89: RuntimeWarning: Mean of empty slice\n",
      "  firing_rate_maps[:,int(port),int(task),dix] = np.nanmean(response_table[table_index],axis=0)\n",
      "/Users/yves/Documents/Code/mec_ephys/packages/mecll/src/mecll/retreat_preprocess.py:89: RuntimeWarning: Mean of empty slice\n",
      "  firing_rate_maps[:,int(port),int(task),dix] = np.nanmean(response_table[table_index],axis=0)\n",
      "/Users/yves/Documents/Code/mec_ephys/packages/mecll/src/mecll/retreat_preprocess.py:89: RuntimeWarning: Mean of empty slice\n",
      "  firing_rate_maps[:,int(port),int(task),dix] = np.nanmean(response_table[table_index],axis=0)\n",
      "/Users/yves/Documents/Code/mec_ephys/packages/mecll/src/mecll/retreat_preprocess.py:89: RuntimeWarning: Mean of empty slice\n",
      "  firing_rate_maps[:,int(port),int(task),dix] = np.nanmean(response_table[table_index],axis=0)\n",
      "/Users/yves/Documents/Code/mec_ephys/packages/mecll/src/mecll/retreat_preprocess.py:89: RuntimeWarning: Mean of empty slice\n",
      "  firing_rate_maps[:,int(port),int(task),dix] = np.nanmean(response_table[table_index],axis=0)\n",
      "/Users/yves/Documents/Code/mec_ephys/packages/mecll/src/mecll/retreat_preprocess.py:89: RuntimeWarning: Mean of empty slice\n",
      "  firing_rate_maps[:,int(port),int(task),dix] = np.nanmean(response_table[table_index],axis=0)\n",
      "/Users/yves/Documents/Code/mec_ephys/packages/mecll/src/mecll/retreat_preprocess.py:89: RuntimeWarning: Mean of empty slice\n",
      "  firing_rate_maps[:,int(port),int(task),dix] = np.nanmean(response_table[table_index],axis=0)\n",
      "/Users/yves/Documents/Code/mec_ephys/packages/mecll/src/mecll/retreat_preprocess.py:89: RuntimeWarning: Mean of empty slice\n",
      "  firing_rate_maps[:,int(port),int(task),dix] = np.nanmean(response_table[table_index],axis=0)\n",
      "/Users/yves/Documents/Code/mec_ephys/packages/mecll/src/mecll/retreat_preprocess.py:89: RuntimeWarning: Mean of empty slice\n",
      "  firing_rate_maps[:,int(port),int(task),dix] = np.nanmean(response_table[table_index],axis=0)\n",
      "/Users/yves/Documents/Code/mec_ephys/packages/mecll/src/mecll/retreat_preprocess.py:89: RuntimeWarning: Mean of empty slice\n",
      "  firing_rate_maps[:,int(port),int(task),dix] = np.nanmean(response_table[table_index],axis=0)\n",
      "/Users/yves/Documents/Code/mec_ephys/packages/mecll/src/mecll/retreat_preprocess.py:89: RuntimeWarning: Mean of empty slice\n",
      "  firing_rate_maps[:,int(port),int(task),dix] = np.nanmean(response_table[table_index],axis=0)\n",
      "/Users/yves/Documents/Code/mec_ephys/packages/mecll/src/mecll/retreat_preprocess.py:89: RuntimeWarning: Mean of empty slice\n",
      "  firing_rate_maps[:,int(port),int(task),dix] = np.nanmean(response_table[table_index],axis=0)\n",
      "/Users/yves/Documents/Code/mec_ephys/packages/mecll/src/mecll/retreat_preprocess.py:89: RuntimeWarning: Mean of empty slice\n",
      "  firing_rate_maps[:,int(port),int(task),dix] = np.nanmean(response_table[table_index],axis=0)\n",
      "/Users/yves/Documents/Code/mec_ephys/packages/mecll/src/mecll/retreat_preprocess.py:89: RuntimeWarning: Mean of empty slice\n",
      "  firing_rate_maps[:,int(port),int(task),dix] = np.nanmean(response_table[table_index],axis=0)\n"
     ]
    },
    {
     "name": "stdout",
     "output_type": "stream",
     "text": [
      "running session: 4 failed\n",
      "running session: 5 failed\n",
      "running session: 6 failed\n",
      "running session: 7 failed\n",
      "running session: 8 failed\n"
     ]
    },
    {
     "name": "stderr",
     "output_type": "stream",
     "text": [
      "/Users/yves/Documents/Code/mec_ephys/packages/mecll/src/mecll/retreat_preprocess.py:89: RuntimeWarning: Mean of empty slice\n",
      "  firing_rate_maps[:,int(port),int(task),dix] = np.nanmean(response_table[table_index],axis=0)\n",
      "/Users/yves/Documents/Code/mec_ephys/packages/mecll/src/mecll/retreat_preprocess.py:89: RuntimeWarning: Mean of empty slice\n",
      "  firing_rate_maps[:,int(port),int(task),dix] = np.nanmean(response_table[table_index],axis=0)\n",
      "/Users/yves/Documents/Code/mec_ephys/packages/mecll/src/mecll/retreat_preprocess.py:89: RuntimeWarning: Mean of empty slice\n",
      "  firing_rate_maps[:,int(port),int(task),dix] = np.nanmean(response_table[table_index],axis=0)\n",
      "/Users/yves/Documents/Code/mec_ephys/packages/mecll/src/mecll/retreat_preprocess.py:89: RuntimeWarning: Mean of empty slice\n",
      "  firing_rate_maps[:,int(port),int(task),dix] = np.nanmean(response_table[table_index],axis=0)\n",
      "/Users/yves/Documents/Code/mec_ephys/packages/mecll/src/mecll/retreat_preprocess.py:89: RuntimeWarning: Mean of empty slice\n",
      "  firing_rate_maps[:,int(port),int(task),dix] = np.nanmean(response_table[table_index],axis=0)\n",
      "/Users/yves/Documents/Code/mec_ephys/packages/mecll/src/mecll/retreat_preprocess.py:89: RuntimeWarning: Mean of empty slice\n",
      "  firing_rate_maps[:,int(port),int(task),dix] = np.nanmean(response_table[table_index],axis=0)\n",
      "/Users/yves/Documents/Code/mec_ephys/packages/mecll/src/mecll/retreat_preprocess.py:89: RuntimeWarning: Mean of empty slice\n",
      "  firing_rate_maps[:,int(port),int(task),dix] = np.nanmean(response_table[table_index],axis=0)\n",
      "/Users/yves/Documents/Code/mec_ephys/packages/mecll/src/mecll/retreat_preprocess.py:89: RuntimeWarning: Mean of empty slice\n",
      "  firing_rate_maps[:,int(port),int(task),dix] = np.nanmean(response_table[table_index],axis=0)\n"
     ]
    },
    {
     "name": "stdout",
     "output_type": "stream",
     "text": [
      "running session: 9 failed\n",
      "running session: 10 failed\n",
      "running session: 11 failed\n",
      "running session: 12 failed\n"
     ]
    },
    {
     "name": "stderr",
     "output_type": "stream",
     "text": [
      "/Users/yves/Documents/Code/mec_ephys/packages/mecll/src/mecll/retreat_preprocess.py:89: RuntimeWarning: Mean of empty slice\n",
      "  firing_rate_maps[:,int(port),int(task),dix] = np.nanmean(response_table[table_index],axis=0)\n",
      "/Users/yves/Documents/Code/mec_ephys/packages/mecll/src/mecll/retreat_preprocess.py:89: RuntimeWarning: Mean of empty slice\n",
      "  firing_rate_maps[:,int(port),int(task),dix] = np.nanmean(response_table[table_index],axis=0)\n",
      "/Users/yves/Documents/Code/mec_ephys/packages/mecll/src/mecll/retreat_preprocess.py:89: RuntimeWarning: Mean of empty slice\n",
      "  firing_rate_maps[:,int(port),int(task),dix] = np.nanmean(response_table[table_index],axis=0)\n",
      "/Users/yves/Documents/Code/mec_ephys/packages/mecll/src/mecll/retreat_preprocess.py:89: RuntimeWarning: Mean of empty slice\n",
      "  firing_rate_maps[:,int(port),int(task),dix] = np.nanmean(response_table[table_index],axis=0)\n",
      "/Users/yves/Documents/Code/mec_ephys/packages/mecll/src/mecll/retreat_preprocess.py:89: RuntimeWarning: Mean of empty slice\n",
      "  firing_rate_maps[:,int(port),int(task),dix] = np.nanmean(response_table[table_index],axis=0)\n",
      "/Users/yves/Documents/Code/mec_ephys/packages/mecll/src/mecll/retreat_preprocess.py:89: RuntimeWarning: Mean of empty slice\n",
      "  firing_rate_maps[:,int(port),int(task),dix] = np.nanmean(response_table[table_index],axis=0)\n",
      "/Users/yves/Documents/Code/mec_ephys/packages/mecll/src/mecll/retreat_preprocess.py:89: RuntimeWarning: Mean of empty slice\n",
      "  firing_rate_maps[:,int(port),int(task),dix] = np.nanmean(response_table[table_index],axis=0)\n",
      "/Users/yves/Documents/Code/mec_ephys/packages/mecll/src/mecll/retreat_preprocess.py:89: RuntimeWarning: Mean of empty slice\n",
      "  firing_rate_maps[:,int(port),int(task),dix] = np.nanmean(response_table[table_index],axis=0)\n",
      "/Users/yves/Documents/Code/mec_ephys/packages/mecll/src/mecll/retreat_preprocess.py:89: RuntimeWarning: Mean of empty slice\n",
      "  firing_rate_maps[:,int(port),int(task),dix] = np.nanmean(response_table[table_index],axis=0)\n",
      "/Users/yves/Documents/Code/mec_ephys/packages/mecll/src/mecll/retreat_preprocess.py:89: RuntimeWarning: Mean of empty slice\n",
      "  firing_rate_maps[:,int(port),int(task),dix] = np.nanmean(response_table[table_index],axis=0)\n",
      "/Users/yves/Documents/Code/mec_ephys/packages/mecll/src/mecll/retreat_preprocess.py:89: RuntimeWarning: Mean of empty slice\n",
      "  firing_rate_maps[:,int(port),int(task),dix] = np.nanmean(response_table[table_index],axis=0)\n",
      "/Users/yves/Documents/Code/mec_ephys/packages/mecll/src/mecll/retreat_preprocess.py:89: RuntimeWarning: Mean of empty slice\n",
      "  firing_rate_maps[:,int(port),int(task),dix] = np.nanmean(response_table[table_index],axis=0)\n"
     ]
    },
    {
     "name": "stdout",
     "output_type": "stream",
     "text": [
      "running session: 13 failed\n",
      "running session: 14 failed\n",
      "running session: 15 failed\n",
      "running session: 16 failed\n"
     ]
    },
    {
     "name": "stderr",
     "output_type": "stream",
     "text": [
      "/Users/yves/Documents/Code/mec_ephys/packages/mecll/src/mecll/retreat_preprocess.py:89: RuntimeWarning: Mean of empty slice\n",
      "  firing_rate_maps[:,int(port),int(task),dix] = np.nanmean(response_table[table_index],axis=0)\n",
      "/Users/yves/Documents/Code/mec_ephys/packages/mecll/src/mecll/retreat_preprocess.py:89: RuntimeWarning: Mean of empty slice\n",
      "  firing_rate_maps[:,int(port),int(task),dix] = np.nanmean(response_table[table_index],axis=0)\n",
      "/Users/yves/Documents/Code/mec_ephys/packages/mecll/src/mecll/retreat_preprocess.py:89: RuntimeWarning: Mean of empty slice\n",
      "  firing_rate_maps[:,int(port),int(task),dix] = np.nanmean(response_table[table_index],axis=0)\n",
      "/Users/yves/Documents/Code/mec_ephys/packages/mecll/src/mecll/retreat_preprocess.py:89: RuntimeWarning: Mean of empty slice\n",
      "  firing_rate_maps[:,int(port),int(task),dix] = np.nanmean(response_table[table_index],axis=0)\n",
      "/Users/yves/Documents/Code/mec_ephys/packages/mecll/src/mecll/retreat_preprocess.py:89: RuntimeWarning: Mean of empty slice\n",
      "  firing_rate_maps[:,int(port),int(task),dix] = np.nanmean(response_table[table_index],axis=0)\n",
      "/Users/yves/Documents/Code/mec_ephys/packages/mecll/src/mecll/retreat_preprocess.py:89: RuntimeWarning: Mean of empty slice\n",
      "  firing_rate_maps[:,int(port),int(task),dix] = np.nanmean(response_table[table_index],axis=0)\n",
      "/Users/yves/Documents/Code/mec_ephys/packages/mecll/src/mecll/retreat_preprocess.py:89: RuntimeWarning: Mean of empty slice\n",
      "  firing_rate_maps[:,int(port),int(task),dix] = np.nanmean(response_table[table_index],axis=0)\n",
      "/Users/yves/Documents/Code/mec_ephys/packages/mecll/src/mecll/retreat_preprocess.py:89: RuntimeWarning: Mean of empty slice\n",
      "  firing_rate_maps[:,int(port),int(task),dix] = np.nanmean(response_table[table_index],axis=0)\n",
      "/Users/yves/Documents/Code/mec_ephys/packages/mecll/src/mecll/retreat_preprocess.py:89: RuntimeWarning: Mean of empty slice\n",
      "  firing_rate_maps[:,int(port),int(task),dix] = np.nanmean(response_table[table_index],axis=0)\n",
      "/Users/yves/Documents/Code/mec_ephys/packages/mecll/src/mecll/retreat_preprocess.py:89: RuntimeWarning: Mean of empty slice\n",
      "  firing_rate_maps[:,int(port),int(task),dix] = np.nanmean(response_table[table_index],axis=0)\n",
      "/Users/yves/Documents/Code/mec_ephys/packages/mecll/src/mecll/retreat_preprocess.py:89: RuntimeWarning: Mean of empty slice\n",
      "  firing_rate_maps[:,int(port),int(task),dix] = np.nanmean(response_table[table_index],axis=0)\n",
      "/Users/yves/Documents/Code/mec_ephys/packages/mecll/src/mecll/retreat_preprocess.py:89: RuntimeWarning: Mean of empty slice\n",
      "  firing_rate_maps[:,int(port),int(task),dix] = np.nanmean(response_table[table_index],axis=0)\n",
      "/Users/yves/Documents/Code/mec_ephys/packages/mecll/src/mecll/retreat_preprocess.py:89: RuntimeWarning: Mean of empty slice\n",
      "  firing_rate_maps[:,int(port),int(task),dix] = np.nanmean(response_table[table_index],axis=0)\n",
      "/Users/yves/Documents/Code/mec_ephys/packages/mecll/src/mecll/retreat_preprocess.py:89: RuntimeWarning: Mean of empty slice\n",
      "  firing_rate_maps[:,int(port),int(task),dix] = np.nanmean(response_table[table_index],axis=0)\n"
     ]
    },
    {
     "name": "stdout",
     "output_type": "stream",
     "text": [
      "running session: 17 failed\n",
      "running session: 18 failed\n",
      "running session: 19 failed\n",
      "running session: 20 failed\n",
      "running session: 21 failed\n",
      "running session: 22 failed\n",
      "running session: 23 failed\n",
      "running session: 24 failed\n",
      "running session: 25 failed\n",
      "running session: 26 failed\n",
      "running session: 27 failed\n",
      "running session: 28 failed\n",
      "running session: 29 failed\n"
     ]
    },
    {
     "name": "stderr",
     "output_type": "stream",
     "text": [
      "/Users/yves/Documents/Code/mec_ephys/packages/mecll/src/mecll/retreat_preprocess.py:89: RuntimeWarning: Mean of empty slice\n",
      "  firing_rate_maps[:,int(port),int(task),dix] = np.nanmean(response_table[table_index],axis=0)\n",
      "/Users/yves/Documents/Code/mec_ephys/packages/mecll/src/mecll/retreat_preprocess.py:89: RuntimeWarning: Mean of empty slice\n",
      "  firing_rate_maps[:,int(port),int(task),dix] = np.nanmean(response_table[table_index],axis=0)\n"
     ]
    }
   ],
   "source": [
    "all_real = []\n",
    "all_permutation = []\n",
    "for session_index in range(30):\n",
    "    try:\n",
    "        session_dataset = load_preprocessed_data(session_index,\"/Users/Yves/Documents/spike/\")\n",
    "        overlapping_ports = get_unique_transitions(session_dataset.seq0, session_dataset.seq1)\n",
    "        frm_task1 = session_dataset.firing_rate_maps[:,:,0]\n",
    "        frm_task2 = session_dataset.firing_rate_maps[:,:,1]\n",
    "\n",
    "\n",
    "        valid_ix = np.where(~np.isnan(np.sum(session_dataset.firing_rate_maps,axis=(0,2,3))))[0]\n",
    "\n",
    "        real_acoss_task_fit = (np.abs(get_svm_fit_across_task(frm_task,frm_task2,\n",
    "                                                             valid_ix,\n",
    "                                                             overlapping_ports,\n",
    "                                                             do_shuffle=False)-.5)\n",
    "                                     +.5)\n",
    "        permutation_fits = [(np.abs(get_svm_fit_across_task(frm_task,frm_task2,\n",
    "                                                    valid_ix,\n",
    "                                                    overlapping_ports,\n",
    "                                                    do_shuffle=True) -.5)\n",
    "                             +.5)\n",
    "                            for _ in range(100)]\n",
    "\n",
    "        all_real.append(real_acoss_task_fit)\n",
    "        all_permutation.append(permutation_fits)\n",
    "    except:\n",
    "        print(\"running session: {} failed\".format(session_index))"
   ]
  },
  {
   "cell_type": "code",
   "execution_count": 15,
   "metadata": {},
   "outputs": [
    {
     "data": {
      "text/plain": [
       "[0.8]"
      ]
     },
     "execution_count": 15,
     "metadata": {},
     "output_type": "execute_result"
    }
   ],
   "source": [
    "all_real"
   ]
  },
  {
   "cell_type": "markdown",
   "metadata": {},
   "source": [
    "# Run analysis unbalanced"
   ]
  },
  {
   "cell_type": "code",
   "execution_count": null,
   "metadata": {},
   "outputs": [],
   "source": [
    "perm_accuracy = []\n",
    "for _ in range(500):\n",
    "    svm_accuracy = []\n",
    "    for i in range(8):\n",
    "        firing_rate_maps,_,data_tuple = load_data(i)\n",
    "        seq0,seq1,graph_type0,graph_type1 = data_tuple\n",
    "        spatial_map  = np.nanmean(firing_rate_maps,axis=(2,3))\n",
    "        #mds_frm = firing_rate_maps - spatial_map[:,:,None,None]\n",
    "\n",
    "\n",
    "        seq0_transitions, seq1_transitions = get_train_test_transitions_unbalanced(seq0, seq1,\n",
    "                                                                                   graph_type0, graph_type1)\n",
    "        task0_frm = firing_rate_maps[:,:,0]\n",
    "        task1_frm = firing_rate_maps[:,:,1]\n",
    "\n",
    "        svm = SVC(kernel='linear')\n",
    "        X_train, y_train = get_features_and_targets(task0_frm,seq=seq0)\n",
    "        X_test, y_test = get_features_and_targets(task1_frm,seq=seq1,include=seq1_transitions)\n",
    "        svm.fit(X_train,y_train)\n",
    "        acc = np.mean(svm.predict(X_test)==y_test[np.random.permutation(np.arange(len(y_test)))])\n",
    "        svm_accuracy.append(np.abs(acc-.5))\n",
    "    perm_accuracy.append(np.mean(svm_accuracy))"
   ]
  }
 ],
 "metadata": {
  "kernelspec": {
   "display_name": "Python 3",
   "language": "python",
   "name": "python3"
  },
  "language_info": {
   "codemirror_mode": {
    "name": "ipython",
    "version": 3
   },
   "file_extension": ".py",
   "mimetype": "text/x-python",
   "name": "python",
   "nbconvert_exporter": "python",
   "pygments_lexer": "ipython3",
   "version": "3.7.4"
  }
 },
 "nbformat": 4,
 "nbformat_minor": 2
}
