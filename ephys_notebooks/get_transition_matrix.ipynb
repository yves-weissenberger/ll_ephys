{
 "cells": [
  {
   "cell_type": "markdown",
   "metadata": {},
   "source": [
    "# In this dataset\n",
    "\n",
    "1. does it match the statistics of a high dimensional grid representation\n",
    "2. Is the taurus real\n",
    "3. test whether you can do the grid realignment like carpenter also in the big maze\n",
    "4. show that correlation structure is preserved only in as far as cells are spatial\n",
    "\n",
    "\n",
    "This doesn't make sense you need to take all individual transitions, align them in time and then make this plot.\n",
    "\n",
    "\n",
    "What we are trying to find out is whether  cells represent space.\n",
    "\n",
    "\n",
    "If activity is the same across correct and incorrect pokes,\n",
    "\n",
    "also want to compare discriminability of inter poke period with discriminability of pokes"
   ]
  },
  {
   "cell_type": "code",
   "execution_count": 1,
   "metadata": {},
   "outputs": [
    {
     "name": "stderr",
     "output_type": "stream",
     "text": [
      "/Users/yves/opt/anaconda3/lib/python3.7/site-packages/statsmodels/tools/_testing.py:19: FutureWarning: pandas.util.testing is deprecated. Use the functions in the public API at pandas.testing instead.\n",
      "  import pandas.util.testing as tm\n"
     ]
    }
   ],
   "source": [
    "%matplotlib inline\n",
    "import numpy as np\n",
    "import matplotlib.pyplot as plt\n",
    "import os\n",
    "import re\n",
    "import seaborn\n",
    "import pandas as pd\n",
    "#import cv2\n",
    "import scipy.optimize as op\n",
    "import sys\n",
    "import networkx as nx\n",
    "import time\n",
    "import matplotlib\n",
    "import copy as cp\n",
    "import scipy.ndimage as ndi \n",
    "from scipy.ndimage import gaussian_filter1d\n",
    "import scipy as sp\n",
    "import scipy.signal\n",
    "seaborn.set(style='ticks',font_scale=1.5)\n",
    "\n",
    "sys.path.append('/Users/yves/Documents/Code/mec_ephys/packages')\n"
   ]
  },
  {
   "cell_type": "code",
   "execution_count": 2,
   "metadata": {},
   "outputs": [],
   "source": [
    "sys.path.append('/Users/yves/Documents/Code/mec_ephys/packages')\n",
    "\n",
    "from mecll.rsync import Rsync_aligner\n",
    "from mecll.process_data.proc_beh import get_all_transitions, get_transitions_state, build_poke_df\n",
    "from mecll.process_data.proc_neural import get_all_resps, get_mean_resps\n",
    "from mecll.load import load_data\n",
    "from mecll.SVD_analysis import get_mean_activity_matrix\n",
    "from mecll.utils import align_activity"
   ]
  },
  {
   "cell_type": "code",
   "execution_count": 3,
   "metadata": {},
   "outputs": [],
   "source": [
    "poke_pos = np.array([1,-1])*np.array([ [149,0],\n",
    "                                 [68,19],[231,19],\n",
    "                               [0,62],[149,62],[298,62],\n",
    "                                 [68,105],[231,105],\n",
    "                                      [149,124]])"
   ]
  },
  {
   "cell_type": "code",
   "execution_count": null,
   "metadata": {},
   "outputs": [],
   "source": []
  },
  {
   "cell_type": "markdown",
   "metadata": {},
   "source": [
    "# From pycontrol"
   ]
  },
  {
   "cell_type": "code",
   "execution_count": 4,
   "metadata": {},
   "outputs": [
    {
     "name": "stdout",
     "output_type": "stream",
     "text": [
      "539 540\n"
     ]
    }
   ],
   "source": [
    "#Load behavioural data\n",
    "root_path = '/Users/yves/team_mouse Dropbox/MEC_data/spike_sorted/2021-07-29_39965_ks25/'\n",
    "#'/Users/yves/Downloads/example_files2_wOF//'\n",
    "\n",
    "out = load_data(root_path)\n",
    "spkT,spkC,single_units,events,lines,aligner = out"
   ]
  },
  {
   "cell_type": "code",
   "execution_count": 5,
   "metadata": {},
   "outputs": [],
   "source": [
    "#root_path = '/Users/yves/Downloads/example_files2_wOF/'\n",
    "#out = load_data(root_path,align_to='task')\n",
    "#spkT,spkC,single_units,events,lines,aligner = out"
   ]
  },
  {
   "cell_type": "code",
   "execution_count": 6,
   "metadata": {},
   "outputs": [],
   "source": [
    "df = build_poke_df(lines,events)"
   ]
  },
  {
   "cell_type": "code",
   "execution_count": 7,
   "metadata": {},
   "outputs": [],
   "source": [
    "df['previous_port'][1:] = df['port'][:-1]\n",
    "df['previous_state'][1:] = df['state'][:-1]"
   ]
  },
  {
   "cell_type": "code",
   "execution_count": 8,
   "metadata": {},
   "outputs": [],
   "source": [
    "a,b = np.histogram(spkT)"
   ]
  },
  {
   "cell_type": "code",
   "execution_count": 9,
   "metadata": {},
   "outputs": [],
   "source": [
    "spkT_ms = aligner.A_to_B(spkT)"
   ]
  },
  {
   "cell_type": "code",
   "execution_count": 10,
   "metadata": {},
   "outputs": [
    {
     "data": {
      "text/plain": [
       "0.41131170167233166"
      ]
     },
     "execution_count": 10,
     "metadata": {},
     "output_type": "execute_result"
    }
   ],
   "source": [
    "np.sum(np.isfinite(spkT_ms))/len(spkT)"
   ]
  },
  {
   "cell_type": "code",
   "execution_count": 11,
   "metadata": {},
   "outputs": [],
   "source": [
    "#poke_dict_t1 ={}\n",
    "#poke_dict_t2 = {}\n",
    "\n",
    "dicts = [{} for _ in range(4)]\n",
    "\n",
    "for port_nr in np.unique(df['state'].values):\n",
    "    \n",
    "    kk = 0\n",
    "    for task_nr in range(2):\n",
    "        for direction in np.unique(df['direction'].values):\n",
    "            task_nr = str(task_nr)\n",
    "            indices = np.where((df['state']==port_nr) &\n",
    "                               (df['correct']==True) & \n",
    "                               (df['direction']==direction) &\n",
    "                               (df['port_repeat']==False) & \n",
    "                               (df['task_nr']==task_nr))[0]\n",
    "            indices = indices[indices>0]\n",
    "            v = df.loc[indices]['time'].values.astype('float')\n",
    "            prev_v = df.loc[indices-1]['time'].values\n",
    "            #print(direction,df.loc[indices]['state'].values - df.loc[indices-1]['state'].values)\n",
    "\n",
    "            \n",
    "            dicts[kk][str(port_nr)] = v\n",
    "            dicts[kk]['task_nr'] = str(task_nr)\n",
    "            dicts[kk]['direction'] = str(direction)\n",
    "            dicts[kk]['graph_type'] = df.loc[df['task_nr']==task_nr]['graph_type'].values[0]\n",
    "            dicts[kk]['seq'] = df.loc[df['task_nr']==task_nr]['current_sequence'].values[0]\n",
    "            kk += 1\n"
   ]
  },
  {
   "cell_type": "code",
   "execution_count": 12,
   "metadata": {},
   "outputs": [],
   "source": [
    "#df.loc[:50]"
   ]
  },
  {
   "cell_type": "code",
   "execution_count": null,
   "metadata": {},
   "outputs": [],
   "source": []
  },
  {
   "cell_type": "code",
   "execution_count": 14,
   "metadata": {},
   "outputs": [],
   "source": [
    "window0 = 3000; window1 = 3000\n",
    "n_neurons = len(single_units)\n",
    "\n",
    "n_tasks = 2; n_direction = 2; n_states = 9\n",
    "all_big_array = np.zeros([n_neurons,n_tasks,n_direction,n_states])\n",
    "\n",
    "\n",
    "for unit_ix,unit in enumerate(single_units):\n",
    "        \n",
    "    spk_unit = spkT[np.where(spkC==unit)[0]] #select all spikes that belong to this cell\n",
    "\n",
    "    for dict_ix in range(len(dicts)):\n",
    "\n",
    "        for state_nr in range(9):\n",
    "            direction = (int(dicts[dict_ix]['direction'])+1)//2\n",
    "            task_nr = int(dicts[dict_ix]['task_nr'])\n",
    "            trial_events = np.array(dicts[dict_ix][str(state_nr)])\n",
    "\n",
    "\n",
    "            aligned_T = aligner.B_to_A(trial_events) #align pokes into spike times\n",
    "\n",
    "            #get the spikes that are in bounds for position encoding\n",
    "            pks_unit_in_bounds = np.where(np.logical_not(np.isnan(aligned_T)))[0]\n",
    "\n",
    "            used_pks = aligned_T[pks_unit_in_bounds].astype('int') #get pokes aligned with spike times\n",
    "            half_npks = int(len(used_pks)/2)\n",
    "\n",
    "            #print(key,half_npks)\n",
    "            n_pokes = 0\n",
    "            mean_rate = 0\n",
    "            for pk_ix,tpk in enumerate(used_pks):  #loop over all pokes to a given port\n",
    "                spike_locs = np.logical_and(spk_unit>(tpk-window0),spk_unit<(tpk+window1))\n",
    "                mean_rate += 5*np.sum(spike_locs)\n",
    "                n_pokes += 1\n",
    "            all_big_array[unit_ix,task_nr,direction,state_nr] = mean_rate/(n_pokes+1e-12)"
   ]
  },
  {
   "cell_type": "code",
   "execution_count": 15,
   "metadata": {},
   "outputs": [],
   "source": [
    "#AB2 = all_big_array #- np.mean(all_big_array,axis=(1,2,3))[:,None,None,None]\n",
    "#AB2_resh = AB2.reshape(n_neurons,-1)"
   ]
  },
  {
   "cell_type": "code",
   "execution_count": 16,
   "metadata": {},
   "outputs": [],
   "source": [
    "AB1 = []\n",
    "for task in range(2):\n",
    "    for direction in range(2):\n",
    "        AB1.append(all_big_array[:,task,direction,:])\n",
    "AB1 = np.hstack(AB1)"
   ]
  },
  {
   "cell_type": "code",
   "execution_count": 17,
   "metadata": {},
   "outputs": [],
   "source": [
    "AB2 = AB1 - np.mean(AB1,axis=1)[:,None]"
   ]
  },
  {
   "cell_type": "code",
   "execution_count": null,
   "metadata": {},
   "outputs": [],
   "source": []
  },
  {
   "cell_type": "code",
   "execution_count": 19,
   "metadata": {},
   "outputs": [],
   "source": [
    "U,S,Vt = np.linalg.svd(AB2)\n",
    "V = Vt.T"
   ]
  },
  {
   "cell_type": "code",
   "execution_count": 20,
   "metadata": {},
   "outputs": [
    {
     "data": {
      "text/plain": [
       "[<matplotlib.lines.Line2D at 0x7fe8fc8ee750>]"
      ]
     },
     "execution_count": 20,
     "metadata": {},
     "output_type": "execute_result"
    },
    {
     "data": {
      "image/png": "[encoded data removed]",
      "text/plain": [
       "<Figure size 432x288 with 1 Axes>"
      ]
     },
     "metadata": {
      "needs_background": "light"
     },
     "output_type": "display_data"
    }
   ],
   "source": [
    "plt.plot(np.cumsum(S**2)/np.sum(S**2),marker='.')"
   ]
  },
  {
   "cell_type": "code",
   "execution_count": 91,
   "metadata": {},
   "outputs": [],
   "source": [
    "#this should be the first 5 PCs, basically\n",
    "nDIM = 3\n",
    "trial_activity = Vt[:nDIM]  #need to check that this is the correct dimension\n"
   ]
  },
  {
   "cell_type": "code",
   "execution_count": 92,
   "metadata": {},
   "outputs": [],
   "source": [
    "Y = trial_activity"
   ]
  },
  {
   "cell_type": "code",
   "execution_count": 93,
   "metadata": {},
   "outputs": [],
   "source": [
    "#Y = trial_activity.reshape(nDIM,2,2,9)"
   ]
  },
  {
   "cell_type": "code",
   "execution_count": 94,
   "metadata": {},
   "outputs": [],
   "source": [
    "#this is the estimate of the transition matrix, I think\n",
    "Test = np.linalg.pinv(Y[:,:-1].T).dot(Y[:,1:].T)"
   ]
  },
  {
   "cell_type": "code",
   "execution_count": 95,
   "metadata": {},
   "outputs": [
    {
     "data": {
      "text/plain": [
       "(3, 36)"
      ]
     },
     "execution_count": 95,
     "metadata": {},
     "output_type": "execute_result"
    }
   ],
   "source": [
    "Y.shape"
   ]
  },
  {
   "cell_type": "code",
   "execution_count": 96,
   "metadata": {},
   "outputs": [],
   "source": [
    "#T_est = \n",
    "test_i = []\n",
    "for i in range(7):\n",
    "    test_i.append(np.dot(Y[:,i+1].reshape(-1,1),np.linalg.pinv(Y[:,i].reshape(1,-1)).T))"
   ]
  },
  {
   "cell_type": "code",
   "execution_count": 97,
   "metadata": {},
   "outputs": [],
   "source": [
    "Test_all = np.sum(test_i,axis=0)"
   ]
  },
  {
   "cell_type": "code",
   "execution_count": 98,
   "metadata": {},
   "outputs": [
    {
     "data": {
      "text/plain": [
       "array([[ 0.2241435 ,  1.84812698,  0.2678706 ],\n",
       "       [ 0.5700572 ,  2.28898717,  2.05854349],\n",
       "       [-0.08924282, -0.5496335 , -1.81519308]])"
      ]
     },
     "execution_count": 98,
     "metadata": {},
     "output_type": "execute_result"
    }
   ],
   "source": [
    "Test_all"
   ]
  },
  {
   "cell_type": "code",
   "execution_count": 122,
   "metadata": {},
   "outputs": [],
   "source": [
    "T_est = np.dot(Y[:,1:],\n",
    "               np.linalg.pinv(Y[:,:-1])\n",
    "              )"
   ]
  },
  {
   "cell_type": "code",
   "execution_count": 123,
   "metadata": {},
   "outputs": [
    {
     "data": {
      "text/plain": [
       "array([[ 0.3283234 ,  0.05431885,  0.11442027],\n",
       "       [-0.15195091,  0.35216685,  0.30303659],\n",
       "       [-0.13641849,  0.11858576, -0.27790093]])"
      ]
     },
     "execution_count": 123,
     "metadata": {},
     "output_type": "execute_result"
    }
   ],
   "source": [
    "T_est"
   ]
  },
  {
   "cell_type": "code",
   "execution_count": 124,
   "metadata": {},
   "outputs": [
    {
     "name": "stdout",
     "output_type": "stream",
     "text": [
      "[ 0.00708205 -0.06552837 -0.01361102]\n",
      "[ 0.00886518 -0.04958659 -0.07936914]\n",
      "[-0.03772854  0.05609636  0.02261041]\n",
      "[0.02945766 0.09775155 0.13659636]\n",
      "[0.01891391 0.05539436 0.10613984]\n",
      "[-0.01053857  0.04512544 -0.08834936]\n",
      "[ 0.01232368 -0.05124449  0.01819324]\n",
      "[-0.00685437 -0.06084961 -0.08389915]\n"
     ]
    }
   ],
   "source": [
    "all_pred = []\n",
    "for i in range(8):\n",
    "    all_pred.append(np.dot(Test,Y[:,i]))\n",
    "    print(all_pred[-1])"
   ]
  },
  {
   "cell_type": "code",
   "execution_count": 125,
   "metadata": {},
   "outputs": [
    {
     "name": "stdout",
     "output_type": "stream",
     "text": [
      "[-0.01276187 -0.17059671  0.09432096]\n",
      "[-0.02307599  0.1414909   0.063426  ]\n",
      "[ 0.1778476   0.28598564 -0.10645115]\n",
      "[ 0.08822663  0.19021876 -0.13818478]\n",
      "[ 0.11132291 -0.0084267   0.35456289]\n",
      "[-0.07060354 -0.07518245 -0.17651884]\n",
      "[-0.07734618 -0.18416857  0.06923101]\n",
      "[-0.51143161  0.23492058 -0.07023443]\n"
     ]
    }
   ],
   "source": [
    "all_real = []\n",
    "for i in range(1,9):\n",
    "    all_real.append(Y[:,i])\n",
    "    print(all_real[-1])"
   ]
  },
  {
   "cell_type": "code",
   "execution_count": 126,
   "metadata": {},
   "outputs": [],
   "source": [
    "all_real = np.array(all_real)\n",
    "all_pred = np.array(all_pred)"
   ]
  },
  {
   "cell_type": "code",
   "execution_count": 129,
   "metadata": {},
   "outputs": [
    {
     "data": {
      "text/plain": [
       "[<matplotlib.lines.Line2D at 0x7fe8fd2fa0d0>]"
      ]
     },
     "execution_count": 129,
     "metadata": {},
     "output_type": "execute_result"
    },
    {
     "data": {
      "image/png": "[encoded data removed]",
      "text/plain": [
       "<Figure size 432x288 with 1 Axes>"
      ]
     },
     "metadata": {
      "needs_background": "light"
     },
     "output_type": "display_data"
    }
   ],
   "source": [
    "ix = 1\n",
    "plt.plot(all_real[:,ix])\n",
    "plt.plot(all_pred[:,ix])"
   ]
  },
  {
   "cell_type": "code",
   "execution_count": 104,
   "metadata": {
    "scrolled": true
   },
   "outputs": [],
   "source": [
    "\n",
    "a1 = np.sum(np.dot(U.T,AB2[:,1:9]).dot(all_real).diagonal()**2)"
   ]
  },
  {
   "cell_type": "code",
   "execution_count": 110,
   "metadata": {},
   "outputs": [
    {
     "data": {
      "text/plain": [
       "1100.451125449389"
      ]
     },
     "execution_count": 110,
     "metadata": {},
     "output_type": "execute_result"
    }
   ],
   "source": [
    "a1"
   ]
  },
  {
   "cell_type": "code",
   "execution_count": 105,
   "metadata": {},
   "outputs": [],
   "source": [
    "\n",
    "a2 = np.sum(np.dot(U.T,AB2[:,1:9]).dot(all_pred).diagonal()**2)"
   ]
  },
  {
   "cell_type": "code",
   "execution_count": null,
   "metadata": {},
   "outputs": [],
   "source": []
  },
  {
   "cell_type": "code",
   "execution_count": 107,
   "metadata": {},
   "outputs": [],
   "source": [
    "U2,S2,Vt2 = np.linalg.svd(AB2[:,1:9])\n",
    "#V = V.T"
   ]
  },
  {
   "cell_type": "code",
   "execution_count": 108,
   "metadata": {},
   "outputs": [
    {
     "data": {
      "text/plain": [
       "array([149.0074543 ,  77.9038001 ,  59.53876844,  48.7886639 ,\n",
       "        42.52473805,  39.03297819,  31.27218578,  25.25174381])"
      ]
     },
     "execution_count": 108,
     "metadata": {},
     "output_type": "execute_result"
    }
   ],
   "source": [
    "S2"
   ]
  },
  {
   "cell_type": "code",
   "execution_count": 109,
   "metadata": {},
   "outputs": [],
   "source": [
    "\n",
    "a1 = np.sum(np.dot(U.T,AB2[:,19:27]).dot(all_real).diagonal()**2)"
   ]
  },
  {
   "cell_type": "code",
   "execution_count": 84,
   "metadata": {},
   "outputs": [
    {
     "data": {
      "text/plain": [
       "(204, 36)"
      ]
     },
     "execution_count": 84,
     "metadata": {},
     "output_type": "execute_result"
    }
   ],
   "source": [
    "AB2.shape"
   ]
  },
  {
   "cell_type": "code",
   "execution_count": 85,
   "metadata": {},
   "outputs": [],
   "source": [
    "\n",
    "a2 = np.sum(np.dot(U.T,AB2[:,19:27]).dot(all_pred).diagonal()**2)"
   ]
  },
  {
   "cell_type": "code",
   "execution_count": 86,
   "metadata": {},
   "outputs": [
    {
     "data": {
      "text/plain": [
       "0.006384505132835022"
      ]
     },
     "execution_count": 86,
     "metadata": {},
     "output_type": "execute_result"
    }
   ],
   "source": [
    "a2/a1"
   ]
  },
  {
   "cell_type": "code",
   "execution_count": null,
   "metadata": {},
   "outputs": [],
   "source": []
  },
  {
   "cell_type": "code",
   "execution_count": null,
   "metadata": {},
   "outputs": [],
   "source": []
  }
 ],
 "metadata": {
  "kernelspec": {
   "display_name": "Python 3",
   "language": "python",
   "name": "python3"
  },
  "language_info": {
   "codemirror_mode": {
    "name": "ipython",
    "version": 3
   },
   "file_extension": ".py",
   "mimetype": "text/x-python",
   "name": "python",
   "nbconvert_exporter": "python",
   "pygments_lexer": "ipython3",
   "version": "3.7.4"
  }
 },
 "nbformat": 4,
 "nbformat_minor": 2
}
