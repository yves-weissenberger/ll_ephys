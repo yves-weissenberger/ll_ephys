{
 "cells": [
  {
   "cell_type": "markdown",
   "metadata": {},
   "source": [
    "# Plan\n",
    "\n",
    "\n",
    "\n",
    "Generate some low dimensional dynamics\n",
    "Then add space on top of that\n",
    "\n",
    "\n"
   ]
  },
  {
   "cell_type": "code",
   "execution_count": null,
   "metadata": {},
   "outputs": [],
   "source": []
  },
  {
   "cell_type": "code",
   "execution_count": 1,
   "metadata": {},
   "outputs": [
    {
     "name": "stderr",
     "output_type": "stream",
     "text": [
      "/Users/yves/opt/anaconda3/lib/python3.7/site-packages/statsmodels/tools/_testing.py:19: FutureWarning: pandas.util.testing is deprecated. Use the functions in the public API at pandas.testing instead.\n",
      "  import pandas.util.testing as tm\n"
     ]
    }
   ],
   "source": [
    "#%matplotlib notebook\n",
    "%matplotlib inline\n",
    "\n",
    "import sys\n",
    "import numpy as np\n",
    "import matplotlib.pyplot as plt\n",
    "import seaborn\n",
    "import scipy.optimize as op\n",
    "from functools import partial\n",
    "from mpl_toolkits import mplot3d\n",
    "from sklearn.decomposition import PCA\n",
    "from jax import grad\n",
    "seaborn.set(font_scale=1.5,style='ticks')"
   ]
  },
  {
   "cell_type": "code",
   "execution_count": 2,
   "metadata": {},
   "outputs": [],
   "source": [
    "sys.path.append(\"/Users/yves/Documents/Code/mec_ephys/packages/\")"
   ]
  },
  {
   "cell_type": "code",
   "execution_count": 3,
   "metadata": {},
   "outputs": [],
   "source": [
    "from mecll import dynamics\n",
    "from mecll.dynamics import predict_all, get_basis_tensor, grad_wrapper, caley_transform, get_spatial_tuning"
   ]
  },
  {
   "cell_type": "code",
   "execution_count": null,
   "metadata": {},
   "outputs": [],
   "source": []
  },
  {
   "cell_type": "code",
   "execution_count": 4,
   "metadata": {},
   "outputs": [
    {
     "ename": "ValueError",
     "evalue": "too many values to unpack (expected 4)",
     "output_type": "error",
     "traceback": [
      "\u001b[0;31m---------------------------------------------------------------------------\u001b[0m",
      "\u001b[0;31mValueError\u001b[0m                                Traceback (most recent call last)",
      "\u001b[0;32m<ipython-input-4-11a3c48a9de0>\u001b[0m in \u001b[0;36m<module>\u001b[0;34m\u001b[0m\n\u001b[1;32m      4\u001b[0m \u001b[0;31m#np.random.seed(99)\u001b[0m\u001b[0;34m\u001b[0m\u001b[0;34m\u001b[0m\u001b[0;34m\u001b[0m\u001b[0m\n\u001b[1;32m      5\u001b[0m \u001b[0msim_res\u001b[0m \u001b[0;34m=\u001b[0m \u001b[0mdynamics\u001b[0m\u001b[0;34m.\u001b[0m\u001b[0msimulate_activity\u001b[0m\u001b[0;34m(\u001b[0m\u001b[0mn_neurons\u001b[0m\u001b[0;34m=\u001b[0m\u001b[0;36m120\u001b[0m\u001b[0;34m,\u001b[0m\u001b[0mx\u001b[0m\u001b[0;34m=\u001b[0m\u001b[0mx1\u001b[0m\u001b[0;34m,\u001b[0m\u001b[0mx_2\u001b[0m\u001b[0;34m=\u001b[0m\u001b[0mx2\u001b[0m\u001b[0;34m)\u001b[0m\u001b[0;34m\u001b[0m\u001b[0;34m\u001b[0m\u001b[0m\n\u001b[0;32m----> 6\u001b[0;31m \u001b[0mact_matrix\u001b[0m\u001b[0;34m,\u001b[0m \u001b[0mact_matrix2\u001b[0m\u001b[0;34m,\u001b[0m \u001b[0mspace_order2\u001b[0m\u001b[0;34m,\u001b[0m \u001b[0mspace_order2_inv\u001b[0m \u001b[0;34m=\u001b[0m \u001b[0msim_res\u001b[0m\u001b[0;34m\u001b[0m\u001b[0;34m\u001b[0m\u001b[0m\n\u001b[0m",
      "\u001b[0;31mValueError\u001b[0m: too many values to unpack (expected 4)"
     ]
    }
   ],
   "source": [
    "#np.random.seed(99)\n",
    "x1,x2,A = dynamics.simulate_dynamics(dim=5,frac_noise_dynamics=1.)\n",
    "\n",
    "#np.random.seed(99)\n",
    "sim_res = dynamics.simulate_activity(n_neurons=120,x=x1,x_2=x2)\n",
    "act_matrix, act_matrix2, space_order2, space_order2_inv = sim_res"
   ]
  },
  {
   "cell_type": "code",
   "execution_count": 5,
   "metadata": {},
   "outputs": [
    {
     "ename": "NameError",
     "evalue": "name 'act_matrix2' is not defined",
     "output_type": "error",
     "traceback": [
      "\u001b[0;31m---------------------------------------------------------------------------\u001b[0m",
      "\u001b[0;31mNameError\u001b[0m                                 Traceback (most recent call last)",
      "\u001b[0;32m<ipython-input-5-fd454c188fb1>\u001b[0m in \u001b[0;36m<module>\u001b[0;34m\u001b[0m\n\u001b[0;32m----> 1\u001b[0;31m \u001b[0mact_matrix2\u001b[0m \u001b[0;34m=\u001b[0m \u001b[0mact_matrix2\u001b[0m\u001b[0;34m[\u001b[0m\u001b[0mspace_order2_inv\u001b[0m\u001b[0;34m]\u001b[0m\u001b[0;34m\u001b[0m\u001b[0;34m\u001b[0m\u001b[0m\n\u001b[0m",
      "\u001b[0;31mNameError\u001b[0m: name 'act_matrix2' is not defined"
     ]
    }
   ],
   "source": [
    "act_matrix2 = act_matrix2[space_order2_inv]"
   ]
  },
  {
   "cell_type": "code",
   "execution_count": null,
   "metadata": {},
   "outputs": [],
   "source": [
    "n_neurons = act_matrix.shape[1]"
   ]
  },
  {
   "cell_type": "code",
   "execution_count": null,
   "metadata": {},
   "outputs": [],
   "source": [
    "poke_pos = np.array([1,-1])*np.array([ [149,0],\n",
    "                                 [68,19],[231,19],\n",
    "                               [0,62],[149,62],[298,62],\n",
    "                                 [68,105],[231,105],\n",
    "                                      [149,124]])"
   ]
  },
  {
   "cell_type": "markdown",
   "metadata": {},
   "source": [
    "# Run with jax"
   ]
  },
  {
   "cell_type": "code",
   "execution_count": 12,
   "metadata": {},
   "outputs": [],
   "source": [
    "REMOVE_SPACE = False"
   ]
  },
  {
   "cell_type": "code",
   "execution_count": 13,
   "metadata": {},
   "outputs": [],
   "source": [
    "if REMOVE_SPACE:\n",
    "    spatial_response = (act_matrix + act_matrix2[space_order2_inv])/2.\n",
    "    act_matrix2 = act_matrix2 - spatial_response[space_order2]\n",
    "    act_matrix = act_matrix - spatial_response"
   ]
  },
  {
   "cell_type": "code",
   "execution_count": 14,
   "metadata": {},
   "outputs": [],
   "source": [
    "#grad_predict_all = grad(predict_all)"
   ]
  },
  {
   "cell_type": "code",
   "execution_count": 15,
   "metadata": {},
   "outputs": [],
   "source": [
    "from sklearn.decomposition import PCA"
   ]
  },
  {
   "cell_type": "code",
   "execution_count": 16,
   "metadata": {},
   "outputs": [],
   "source": []
  },
  {
   "cell_type": "code",
   "execution_count": 17,
   "metadata": {},
   "outputs": [],
   "source": [
    "pca_dim = 5\n",
    "pca = PCA(n_components=pca_dim)\n",
    "\n",
    "\n",
    "pca.fit(np.vstack([act_matrix,act_matrix2]))\n",
    "pca_activity = pca.transform(act_matrix)\n",
    "pca_activity2 = pca.transform(act_matrix2)"
   ]
  },
  {
   "cell_type": "code",
   "execution_count": 18,
   "metadata": {},
   "outputs": [
    {
     "name": "stderr",
     "output_type": "stream",
     "text": [
      "WARNING:absl:No GPU/TPU found, falling back to CPU. (Set TF_CPP_MIN_LOG_LEVEL=0 and rerun for more info.)\n"
     ]
    },
    {
     "name": "stdout",
     "output_type": "stream",
     "text": [
      "Desired error not necessarily achieved due to precision loss.\n"
     ]
    }
   ],
   "source": [
    "n_params = int(pca_dim*(pca_dim-1)/2)\n",
    "basis_tensor_inf = get_basis_tensor(pca_dim)\n",
    "\n",
    "params = np.random.normal(size=(n_params))# + np.eye(dim)\n",
    "res = op.minimize(predict_all,\n",
    "           params,\n",
    "           (pca_activity,pca_dim,basis_tensor_inf),\n",
    "           jac=grad_wrapper,\n",
    "           method='BFGS'\n",
    "           )\n",
    "print(res.message)"
   ]
  },
  {
   "cell_type": "code",
   "execution_count": 19,
   "metadata": {},
   "outputs": [
    {
     "data": {
      "text/plain": [
       "True"
      ]
     },
     "execution_count": 19,
     "metadata": {},
     "output_type": "execute_result"
    }
   ],
   "source": [
    "o = np.random.permutation(np.arange(9))\n",
    "np.allclose(act_matrix[o][:,1],act_matrix[:,1][o])"
   ]
  },
  {
   "cell_type": "code",
   "execution_count": 20,
   "metadata": {},
   "outputs": [
    {
     "name": "stdout",
     "output_type": "stream",
     "text": [
      "10.171995 Desired error not necessarily achieved due to precision loss.\n"
     ]
    }
   ],
   "source": [
    "print(res.fun,res.message)"
   ]
  },
  {
   "cell_type": "code",
   "execution_count": 21,
   "metadata": {},
   "outputs": [],
   "source": [
    "out = res.x\n",
    "#out = np.random.normal(size=(n_params))# + np.eye(dim)\n",
    "\n",
    "skewM = np.einsum('i...,i...',out,basis_tensor_inf)\n",
    "Ainf = caley_transform(skewM,pca_dim)"
   ]
  },
  {
   "cell_type": "code",
   "execution_count": 22,
   "metadata": {},
   "outputs": [],
   "source": [
    "predicted_neural_activity = pca.inverse_transform((Ainf@pca_activity.T).T)"
   ]
  },
  {
   "cell_type": "code",
   "execution_count": null,
   "metadata": {},
   "outputs": [],
   "source": []
  },
  {
   "cell_type": "code",
   "execution_count": 23,
   "metadata": {},
   "outputs": [],
   "source": [
    "#predicted_neural_activity = pca.inverse_transform(pca_activity)"
   ]
  },
  {
   "cell_type": "code",
   "execution_count": 24,
   "metadata": {},
   "outputs": [
    {
     "data": {
      "text/plain": [
       "[<matplotlib.lines.Line2D at 0x7f7fb037de10>]"
      ]
     },
     "execution_count": 24,
     "metadata": {},
     "output_type": "execute_result"
    },
    {
     "data": {
      "image/png": "[encoded data removed]",
      "text/plain": [
       "<Figure size 432x288 with 1 Axes>"
      ]
     },
     "metadata": {
      "needs_background": "light"
     },
     "output_type": "display_data"
    }
   ],
   "source": [
    "ix_ = 0\n",
    "plt.plot(predicted_neural_activity[:,ix_][:-1])\n",
    "plt.plot(act_matrix[:,ix_][1:])"
   ]
  },
  {
   "cell_type": "code",
   "execution_count": null,
   "metadata": {},
   "outputs": [],
   "source": []
  },
  {
   "cell_type": "code",
   "execution_count": null,
   "metadata": {},
   "outputs": [],
   "source": []
  },
  {
   "cell_type": "code",
   "execution_count": 25,
   "metadata": {},
   "outputs": [
    {
     "name": "stdout",
     "output_type": "stream",
     "text": [
      "0.9379751526213645\n"
     ]
    }
   ],
   "source": [
    "cc = []\n",
    "for i in range(n_neurons):\n",
    "    cc.append(np.corrcoef(act_matrix[:,i][1:],predicted_neural_activity[:,i][:-1])[0,1])\n",
    "    \n",
    "print(np.mean(cc))"
   ]
  },
  {
   "cell_type": "code",
   "execution_count": 26,
   "metadata": {},
   "outputs": [
    {
     "data": {
      "text/plain": [
       "<matplotlib.axes._subplots.AxesSubplot at 0x7f7fa05fd6d0>"
      ]
     },
     "execution_count": 26,
     "metadata": {},
     "output_type": "execute_result"
    },
    {
     "data": {
      "image/png": "[encoded data removed]",
      "text/plain": [
       "<Figure size 432x288 with 1 Axes>"
      ]
     },
     "metadata": {
      "needs_background": "light"
     },
     "output_type": "display_data"
    }
   ],
   "source": [
    "seaborn.distplot(cc,kde=0)"
   ]
  },
  {
   "cell_type": "markdown",
   "metadata": {},
   "source": [
    "## Now look at the held out task"
   ]
  },
  {
   "cell_type": "code",
   "execution_count": 27,
   "metadata": {},
   "outputs": [],
   "source": [
    "\n",
    "skewM = np.einsum('i...,i...',out,basis_tensor_inf)\n",
    "Ainf = caley_transform(skewM,pca_dim)"
   ]
  },
  {
   "cell_type": "code",
   "execution_count": 28,
   "metadata": {},
   "outputs": [],
   "source": [
    "predicted_neural_activity = pca.inverse_transform((Ainf@pca_activity2.T).T)"
   ]
  },
  {
   "cell_type": "code",
   "execution_count": 29,
   "metadata": {},
   "outputs": [
    {
     "data": {
      "text/plain": [
       "[<matplotlib.lines.Line2D at 0x7f7fc0752e50>]"
      ]
     },
     "execution_count": 29,
     "metadata": {},
     "output_type": "execute_result"
    },
    {
     "data": {
      "image/png": "[encoded data removed]",
      "text/plain": [
       "<Figure size 432x288 with 1 Axes>"
      ]
     },
     "metadata": {
      "needs_background": "light"
     },
     "output_type": "display_data"
    }
   ],
   "source": [
    "ix_ = 0\n",
    "plt.plot(predicted_neural_activity[:,ix_])\n",
    "plt.plot(act_matrix2[:,ix_][1:])"
   ]
  },
  {
   "cell_type": "code",
   "execution_count": 30,
   "metadata": {},
   "outputs": [
    {
     "name": "stdout",
     "output_type": "stream",
     "text": [
      "0.8208241708612033\n"
     ]
    }
   ],
   "source": [
    "cc = []\n",
    "for i in range(n_neurons):\n",
    "    cc.append(np.corrcoef(act_matrix2[:,i][1:],predicted_neural_activity[:,i][:-1])[0,1])\n",
    "print(np.mean(cc))"
   ]
  },
  {
   "cell_type": "code",
   "execution_count": 31,
   "metadata": {},
   "outputs": [
    {
     "data": {
      "text/plain": [
       "<matplotlib.image.AxesImage at 0x7f7fd86750d0>"
      ]
     },
     "execution_count": 31,
     "metadata": {},
     "output_type": "execute_result"
    },
    {
     "data": {
      "image/png": "[encoded data removed]",
      "text/plain": [
       "<Figure size 432x288 with 1 Axes>"
      ]
     },
     "metadata": {
      "needs_background": "light"
     },
     "output_type": "display_data"
    }
   ],
   "source": [
    "plt.imshow(A)"
   ]
  },
  {
   "cell_type": "code",
   "execution_count": 28,
   "metadata": {},
   "outputs": [
    {
     "data": {
      "text/plain": [
       "<matplotlib.image.AxesImage at 0x7ff6c88b4e90>"
      ]
     },
     "execution_count": 28,
     "metadata": {},
     "output_type": "execute_result"
    },
    {
     "data": {
      "image/png": "[encoded data removed]",
      "text/plain": [
       "<Figure size 432x288 with 1 Axes>"
      ]
     },
     "metadata": {
      "needs_background": "light"
     },
     "output_type": "display_data"
    }
   ],
   "source": [
    "plt.imshow(Ainf)"
   ]
  },
  {
   "cell_type": "markdown",
   "metadata": {},
   "source": [
    "# Now run actual clean test"
   ]
  },
  {
   "cell_type": "code",
   "execution_count": 4,
   "metadata": {},
   "outputs": [],
   "source": [
    "def evaluate_cc(activity,pred):\n",
    "    n_neurons = activity.shape[1]\n",
    "    true_cc = []\n",
    "    #print(activity[:,0])\n",
    "\n",
    "    for i in range(n_neurons):\n",
    "        true_cc.append(np.corrcoef(activity[:,i][1:],pred[:,i][:-1])[0,1])\n",
    "\n",
    "    true_cc = np.nanmean(true_cc)\n",
    "    return np.nanmean(true_cc)"
   ]
  },
  {
   "cell_type": "code",
   "execution_count": 5,
   "metadata": {},
   "outputs": [],
   "source": [
    "def fit_data(neural_activity1,neural_activity2,pca_activity1,pca_activity2,pca,NFITS=5,NSHUFF=2000):\n",
    "    pca_dim = pca_activity.shape[1]\n",
    "    fit_params = []\n",
    "    fit_quality = []\n",
    "    for _ in range(NFITS):\n",
    "        n_params = int(pca_dim*(pca_dim-1)/2)\n",
    "        basis_tensor_inf = get_basis_tensor(pca_dim)\n",
    "\n",
    "        params = np.random.normal(size=(n_params))# + np.eye(dim)\n",
    "        res = op.minimize(predict_all,\n",
    "                   params,\n",
    "                   (pca_activity1,pca_dim,basis_tensor_inf),\n",
    "                   jac=grad_wrapper,\n",
    "                   method='BFGS'\n",
    "                   )\n",
    "        out = res.x\n",
    "        #out = np.random.normal(size=(n_params))# + np.eye(dim)\n",
    "\n",
    "        skewM = np.einsum('i...,i...',out,basis_tensor_inf)\n",
    "        Ainf = caley_transform(skewM,pca_dim)\n",
    "        #print(res.message)\n",
    "\n",
    "        predicted_neural_activity = pca.inverse_transform((Ainf@pca_activity1.T).T)\n",
    "        fit_params.append(out.copy())\n",
    "        fit_quality.append(evaluate_cc(neural_activity1,predicted_neural_activity))\n",
    "    params = fit_params[np.argmax(fit_quality)]\n",
    "    print(fit_quality)\n",
    "    \n",
    "    predicted_neural_activity2 = pca.inverse_transform((Ainf@pca_activity2.T).T)\n",
    "    res = evaluate_cc(neural_activity2,predicted_neural_activity2)\n",
    "    shuffle_res = []\n",
    "    print(res)\n",
    "    \n",
    "    r9 = np.arange(9)\n",
    "\n",
    "    for _ in range(NSHUFF):\n",
    "        \n",
    "        perm_order = np.random.permutation(r9)\n",
    "        predicted_neural_activity2_shuff = pca.inverse_transform((Ainf@pca_activity2[perm_order].T).T)\n",
    "\n",
    "        shf_res = evaluate_cc(neural_activity2[perm_order],predicted_neural_activity2_shuff)\n",
    "        shuffle_res.append(shf_res)\n",
    "    return res, shuffle_res\n",
    "    "
   ]
  },
  {
   "cell_type": "code",
   "execution_count": 18,
   "metadata": {},
   "outputs": [],
   "source": [
    "#np.random.seed(99)\n",
    "x1,x2,A = dynamics.simulate_dynamics(dim=5,frac_noise_dynamics=.7)\n",
    "\n",
    "#np.random.seed(99)\n",
    "sim_res = dynamics.simulate_activity(n_neurons=120,x=x1,x_2=x2,frac_space=1,noise_scale=0)\n",
    "act_matrix, act_matrix2, space_order2, space_order2_inv, task_order2, task_order2_inv = sim_res\n",
    "act_matrix2 = act_matrix2[task_order2_inv]"
   ]
  },
  {
   "cell_type": "code",
   "execution_count": null,
   "metadata": {},
   "outputs": [],
   "source": []
  },
  {
   "cell_type": "code",
   "execution_count": 19,
   "metadata": {},
   "outputs": [],
   "source": [
    "pca_dim = 8\n",
    "pca = PCA(n_components=pca_dim)\n",
    "\n",
    "\n",
    "pca.fit(np.vstack([act_matrix,act_matrix2]))\n",
    "pca_activity = pca.transform(act_matrix)\n",
    "pca_activity2 = pca.transform(act_matrix2)"
   ]
  },
  {
   "cell_type": "code",
   "execution_count": 20,
   "metadata": {},
   "outputs": [
    {
     "name": "stdout",
     "output_type": "stream",
     "text": [
      "[0.819348941576131, 0.8193535491262722, 0.6181521031428839, 0.6181510638492844, 0.8193908252645402]\n",
      "-0.13640582098861448\n"
     ]
    }
   ],
   "source": [
    "res = fit_data(act_matrix,act_matrix2,pca_activity,pca_activity2,pca,NFITS=5,NSHUFF=100)"
   ]
  },
  {
   "cell_type": "code",
   "execution_count": 43,
   "metadata": {},
   "outputs": [],
   "source": [
    "real_res = res[0]\n",
    "shuffle_res = res[1]"
   ]
  },
  {
   "cell_type": "code",
   "execution_count": 24,
   "metadata": {},
   "outputs": [
    {
     "name": "stdout",
     "output_type": "stream",
     "text": [
      "[0.8422710231592234, 0.7786541528611395, 0.8421931337077277, 0.6514745437583568, 0.8422708525739278]\n",
      "-0.31863720732772793\n",
      "[0.7647344874663086, 0.6161153256691523, 0.7482294450682758, 0.7303247588314437, 0.6178884099574842]\n",
      "0.03134983139822781\n",
      "[0.6669777489057626, 0.7639281890839084, 0.8042457402906104, 0.7544902471039774, 0.7775872425794579]\n",
      "0.1536279711932865\n",
      "[0.7788106650764076, 0.7306862231631516, 0.8288928377793745, 0.5973168746549881, 0.8288949067366661]\n",
      "0.2173455538857639\n",
      "[0.8130403850016619, 0.6077934839546738, 0.8130259133175286, 0.6003724422194919, 0.8130380296614977]\n",
      "0.1689132713557947\n",
      "[0.8267369140866172, 0.7390237548024637, 0.8267652015549257, 0.6237672537322668, 0.7496023227184899]\n",
      "0.060802045362255204\n",
      "[0.8105613856111451, 0.7112019862341034, 0.8105406175207712, 0.5741130771973123, 0.8106104352811705]\n",
      "-0.0022798538839935776\n",
      "[0.8360032424695266, 0.7834438621973716, 0.7707068615111294, 0.8360106239872778, 0.8360291718728955]\n",
      "0.16731889652595555\n"
     ]
    }
   ],
   "source": [
    "all_res_only_space = []\n",
    "for _ in range(8):\n",
    "\n",
    "    x1,x2,A = dynamics.simulate_dynamics(dim=5,frac_noise_dynamics=.7)\n",
    "\n",
    "    #np.random.seed(99)\n",
    "    sim_res = dynamics.simulate_activity(n_neurons=120,x=x1,x_2=x2,frac_space=1,noise_scale=0)\n",
    "    act_matrix, act_matrix2, space_order2, space_order2_inv, task_order2, task_order2_inv = sim_res\n",
    "    act_matrix2 = act_matrix2[task_order2_inv]    \n",
    "    \n",
    "    pca_dim = 8\n",
    "    pca = PCA(n_components=pca_dim)\n",
    "\n",
    "\n",
    "    pca.fit(np.vstack([act_matrix,act_matrix2]))\n",
    "    pca_activity = pca.transform(act_matrix)\n",
    "    pca_activity2 = pca.transform(act_matrix2)    \n",
    "    res = fit_data(act_matrix,act_matrix2,pca_activity,pca_activity2,pca,NFITS=5,NSHUFF=100)\n",
    "    all_res_only_space.append(res)"
   ]
  },
  {
   "cell_type": "code",
   "execution_count": null,
   "metadata": {},
   "outputs": [],
   "source": []
  },
  {
   "cell_type": "code",
   "execution_count": 25,
   "metadata": {},
   "outputs": [
    {
     "name": "stdout",
     "output_type": "stream",
     "text": [
      "[0.8098135892999437, 0.8095128172266014, 0.8080472835193332, 0.8012124985415603, 0.8075771944321171]\n",
      "0.59729441165493\n",
      "[0.6308088690231332, 0.6306977918724006, 0.7097928179737216, 0.6888953134546566, 0.6886095430544125]\n",
      "0.5160248679746946\n",
      "[0.7822185692875017, 0.7469977860573116, 0.7632267109801134, 0.7315728644520355, 0.8431462959728321]\n",
      "0.336812336649562\n",
      "[0.7749755575440352, 0.7657556831947802, 0.7724203261822111, 0.7590501750630436, 0.736025511438932]\n",
      "0.5075610710859012\n",
      "[0.9024115633747221, 0.8537872952292538, 0.9017927875919227, 0.8884552234980231, 0.9021235687938973]\n",
      "0.7420509497446887\n",
      "[0.703781002457067, 0.818544953312074, 0.8161280312230825, 0.6779216466857878, 0.6925297658036396]\n",
      "0.2957632683511617\n",
      "[0.685960757124555, 0.5413615089387658, 0.4742157479276339, 0.6302089825019567, 0.5197195448519378]\n",
      "-0.027165728846548973\n",
      "[0.8924323685808672, 0.8086861164015615, 0.8488269846038018, 0.8488005739861103, 0.8586281393791213]\n",
      "0.033173566360357204\n"
     ]
    }
   ],
   "source": [
    "all_res_with_space = []\n",
    "for _ in range(8):\n",
    "\n",
    "    x1,x2,A = dynamics.simulate_dynamics(dim=5,frac_noise_dynamics=.7)\n",
    "\n",
    "    #np.random.seed(99)\n",
    "    sim_res = dynamics.simulate_activity(n_neurons=120,x=x1,x_2=x2,frac_space=None,noise_scale=0)\n",
    "    act_matrix, act_matrix2, space_order2, space_order2_inv, task_order2, task_order2_inv = sim_res\n",
    "    act_matrix2 = act_matrix2[task_order2_inv]    \n",
    "    \n",
    "    pca_dim = 8\n",
    "    pca = PCA(n_components=pca_dim)\n",
    "\n",
    "\n",
    "    pca.fit(np.vstack([act_matrix,act_matrix2]))\n",
    "    pca_activity = pca.transform(act_matrix)\n",
    "    pca_activity2 = pca.transform(act_matrix2)    \n",
    "    res = fit_data(act_matrix,act_matrix2,pca_activity,pca_activity2,pca,NFITS=5,NSHUFF=100)\n",
    "    all_res_with_space.append(res)"
   ]
  },
  {
   "cell_type": "code",
   "execution_count": 26,
   "metadata": {},
   "outputs": [],
   "source": [
    "real_res = [i[0] for i in  all_res_with_space]\n",
    "shuffle_res = [i[1] for i in  all_res_with_space]"
   ]
  },
  {
   "cell_type": "code",
   "execution_count": 71,
   "metadata": {},
   "outputs": [
    {
     "data": {
      "image/png": "[encoded data removed]",
      "text/plain": [
       "<Figure size 432x360 with 1 Axes>"
      ]
     },
     "metadata": {
      "needs_background": "light"
     },
     "output_type": "display_data"
    }
   ],
   "source": [
    "plt.figure(figsize=(6,5))\n",
    "plt.title(\"Neural activity predicted using\\n dynamics matrix from other task\\nWITH LATENT TASK STATES\")\n",
    "\n",
    "real_res = [i[0] for i in  all_res_with_space]\n",
    "shuffle_res = [i[1] for i in  all_res_with_space]\n",
    "\n",
    "seaborn.distplot(np.nanmean(np.array(shuffle_res),axis=0),kde=0)\n",
    "plt.axvline(x=np.mean(real_res),color='.3',linewidth=3)\n",
    "#plt.annota\n",
    "\n",
    "mx = np.max([np.mean(real_res),np.max(np.abs(np.nanmean(np.array(shuffle_res),axis=0)))])*1.25\n",
    "seaborn.despine()\n",
    "plt.xlim(-mx,mx)\n",
    "yl = plt.gca().get_ylim()\n",
    "plt.fill_between([np.percentile(np.nanmean(np.array(shuffle_res),axis=0),97.5),1],[yl[1]]*2,color='g',alpha=.3)\n",
    "plt.ylim(yl)\n",
    "plt.xlabel(\"Correlation between predicted and actual activity \\nin other task\")\n",
    "plt.ylabel(\"# of Shuffles\")\n",
    "plt.locator_params(nbins=3)\n",
    "plt.tight_layout()"
   ]
  },
  {
   "cell_type": "code",
   "execution_count": 72,
   "metadata": {},
   "outputs": [
    {
     "data": {
      "image/png": "[encoded data removed]",
      "text/plain": [
       "<Figure size 432x360 with 1 Axes>"
      ]
     },
     "metadata": {
      "needs_background": "light"
     },
     "output_type": "display_data"
    }
   ],
   "source": [
    "real_res = [i[0] for i in  all_res_only_space]\n",
    "shuffle_res = [i[1] for i in  all_res_only_space]\n",
    "plt.figure(figsize=(6,5))\n",
    "plt.title(\"Neural activity predicted using\\n dynamics matrix from other task\\nWITHOUT LATENT TASK STATES\")\n",
    "seaborn.distplot(np.nanmean(np.array(shuffle_res),axis=0),kde=0)\n",
    "plt.axvline(x=np.mean(real_res),color='.3',linewidth=3)\n",
    "#plt.annota\n",
    "\n",
    "mx = np.max([np.mean(real_res),np.max(np.abs(np.nanmean(np.array(shuffle_res),axis=0)))])*1.25\n",
    "seaborn.despine()\n",
    "plt.xlim(-mx,mx)\n",
    "yl = plt.gca().get_ylim()\n",
    "plt.fill_between([np.percentile(np.nanmean(np.array(shuffle_res),axis=0),97.5),1],[yl[1]]*2,color='g',alpha=.3)\n",
    "plt.ylim(yl)\n",
    "plt.xlabel(\"Correlation between predicted and actual activity \\nin other task\")\n",
    "plt.ylabel(\"# of Shuffles\")\n",
    "plt.locator_params(nbins=3)\n",
    "plt.tight_layout()"
   ]
  },
  {
   "cell_type": "code",
   "execution_count": 55,
   "metadata": {},
   "outputs": [
    {
     "data": {
      "text/plain": [
       "[[0.59729441165493,\n",
       "  0.5160248679746946,\n",
       "  0.336812336649562,\n",
       "  0.5075610710859012,\n",
       "  0.7420509497446887,\n",
       "  0.2957632683511617,\n",
       "  -0.027165728846548973,\n",
       "  0.033173566360357204],\n",
       " 0.1978533194235353]"
      ]
     },
     "execution_count": 55,
     "metadata": {},
     "output_type": "execute_result"
    }
   ],
   "source": [
    "[real_res,np.max(np.nanmean(np.array(shuffle_res),axis=0))]"
   ]
  },
  {
   "cell_type": "code",
   "execution_count": 52,
   "metadata": {},
   "outputs": [
    {
     "ename": "ValueError",
     "evalue": "color kwarg must have one color per data set. 2000 data sets and 1 colors were provided",
     "output_type": "error",
     "traceback": [
      "\u001b[0;31m---------------------------------------------------------------------------\u001b[0m",
      "\u001b[0;31mValueError\u001b[0m                                Traceback (most recent call last)",
      "\u001b[0;32m<ipython-input-52-d20b4426eb59>\u001b[0m in \u001b[0;36m<module>\u001b[0;34m\u001b[0m\n\u001b[1;32m      1\u001b[0m \u001b[0mplt\u001b[0m\u001b[0;34m.\u001b[0m\u001b[0mfigure\u001b[0m\u001b[0;34m(\u001b[0m\u001b[0mfigsize\u001b[0m\u001b[0;34m=\u001b[0m\u001b[0;34m(\u001b[0m\u001b[0;36m6\u001b[0m\u001b[0;34m,\u001b[0m\u001b[0;36m5\u001b[0m\u001b[0;34m)\u001b[0m\u001b[0;34m)\u001b[0m\u001b[0;34m\u001b[0m\u001b[0;34m\u001b[0m\u001b[0m\n\u001b[1;32m      2\u001b[0m \u001b[0mplt\u001b[0m\u001b[0;34m.\u001b[0m\u001b[0mtitle\u001b[0m\u001b[0;34m(\u001b[0m\u001b[0;34m\"Neural activity predicted using\\n dynamics matrix from other task\"\u001b[0m\u001b[0;34m)\u001b[0m\u001b[0;34m\u001b[0m\u001b[0;34m\u001b[0m\u001b[0m\n\u001b[0;32m----> 3\u001b[0;31m \u001b[0mseaborn\u001b[0m\u001b[0;34m.\u001b[0m\u001b[0mdistplot\u001b[0m\u001b[0;34m(\u001b[0m\u001b[0mshuffle_res\u001b[0m\u001b[0;34m,\u001b[0m\u001b[0mkde\u001b[0m\u001b[0;34m=\u001b[0m\u001b[0;36m0\u001b[0m\u001b[0;34m)\u001b[0m\u001b[0;34m\u001b[0m\u001b[0;34m\u001b[0m\u001b[0m\n\u001b[0m\u001b[1;32m      4\u001b[0m \u001b[0mplt\u001b[0m\u001b[0;34m.\u001b[0m\u001b[0maxvline\u001b[0m\u001b[0;34m(\u001b[0m\u001b[0mx\u001b[0m\u001b[0;34m=\u001b[0m\u001b[0mreal_res\u001b[0m\u001b[0;34m,\u001b[0m\u001b[0mcolor\u001b[0m\u001b[0;34m=\u001b[0m\u001b[0;34m'.3'\u001b[0m\u001b[0;34m,\u001b[0m\u001b[0mlinewidth\u001b[0m\u001b[0;34m=\u001b[0m\u001b[0;36m3\u001b[0m\u001b[0;34m)\u001b[0m\u001b[0;34m\u001b[0m\u001b[0;34m\u001b[0m\u001b[0m\n\u001b[1;32m      5\u001b[0m \u001b[0;31m#plt.annota\u001b[0m\u001b[0;34m\u001b[0m\u001b[0;34m\u001b[0m\u001b[0;34m\u001b[0m\u001b[0m\n",
      "\u001b[0;32m~/opt/anaconda3/lib/python3.7/site-packages/seaborn/distributions.py\u001b[0m in \u001b[0;36mdistplot\u001b[0;34m(a, bins, hist, kde, rug, fit, hist_kws, kde_kws, rug_kws, fit_kws, color, vertical, norm_hist, axlabel, label, ax)\u001b[0m\n\u001b[1;32m    223\u001b[0m         \u001b[0mhist_color\u001b[0m \u001b[0;34m=\u001b[0m \u001b[0mhist_kws\u001b[0m\u001b[0;34m.\u001b[0m\u001b[0mpop\u001b[0m\u001b[0;34m(\u001b[0m\u001b[0;34m\"color\"\u001b[0m\u001b[0;34m,\u001b[0m \u001b[0mcolor\u001b[0m\u001b[0;34m)\u001b[0m\u001b[0;34m\u001b[0m\u001b[0;34m\u001b[0m\u001b[0m\n\u001b[1;32m    224\u001b[0m         ax.hist(a, bins, orientation=orientation,\n\u001b[0;32m--> 225\u001b[0;31m                 color=hist_color, **hist_kws)\n\u001b[0m\u001b[1;32m    226\u001b[0m         \u001b[0;32mif\u001b[0m \u001b[0mhist_color\u001b[0m \u001b[0;34m!=\u001b[0m \u001b[0mcolor\u001b[0m\u001b[0;34m:\u001b[0m\u001b[0;34m\u001b[0m\u001b[0;34m\u001b[0m\u001b[0m\n\u001b[1;32m    227\u001b[0m             \u001b[0mhist_kws\u001b[0m\u001b[0;34m[\u001b[0m\u001b[0;34m\"color\"\u001b[0m\u001b[0;34m]\u001b[0m \u001b[0;34m=\u001b[0m \u001b[0mhist_color\u001b[0m\u001b[0;34m\u001b[0m\u001b[0;34m\u001b[0m\u001b[0m\n",
      "\u001b[0;32m~/opt/anaconda3/lib/python3.7/site-packages/matplotlib/__init__.py\u001b[0m in \u001b[0;36minner\u001b[0;34m(ax, data, *args, **kwargs)\u001b[0m\n\u001b[1;32m   1599\u001b[0m     \u001b[0;32mdef\u001b[0m \u001b[0minner\u001b[0m\u001b[0;34m(\u001b[0m\u001b[0max\u001b[0m\u001b[0;34m,\u001b[0m \u001b[0;34m*\u001b[0m\u001b[0margs\u001b[0m\u001b[0;34m,\u001b[0m \u001b[0mdata\u001b[0m\u001b[0;34m=\u001b[0m\u001b[0;32mNone\u001b[0m\u001b[0;34m,\u001b[0m \u001b[0;34m**\u001b[0m\u001b[0mkwargs\u001b[0m\u001b[0;34m)\u001b[0m\u001b[0;34m:\u001b[0m\u001b[0;34m\u001b[0m\u001b[0;34m\u001b[0m\u001b[0m\n\u001b[1;32m   1600\u001b[0m         \u001b[0;32mif\u001b[0m \u001b[0mdata\u001b[0m \u001b[0;32mis\u001b[0m \u001b[0;32mNone\u001b[0m\u001b[0;34m:\u001b[0m\u001b[0;34m\u001b[0m\u001b[0;34m\u001b[0m\u001b[0m\n\u001b[0;32m-> 1601\u001b[0;31m             \u001b[0;32mreturn\u001b[0m \u001b[0mfunc\u001b[0m\u001b[0;34m(\u001b[0m\u001b[0max\u001b[0m\u001b[0;34m,\u001b[0m \u001b[0;34m*\u001b[0m\u001b[0mmap\u001b[0m\u001b[0;34m(\u001b[0m\u001b[0msanitize_sequence\u001b[0m\u001b[0;34m,\u001b[0m \u001b[0margs\u001b[0m\u001b[0;34m)\u001b[0m\u001b[0;34m,\u001b[0m \u001b[0;34m**\u001b[0m\u001b[0mkwargs\u001b[0m\u001b[0;34m)\u001b[0m\u001b[0;34m\u001b[0m\u001b[0;34m\u001b[0m\u001b[0m\n\u001b[0m\u001b[1;32m   1602\u001b[0m \u001b[0;34m\u001b[0m\u001b[0m\n\u001b[1;32m   1603\u001b[0m         \u001b[0mbound\u001b[0m \u001b[0;34m=\u001b[0m \u001b[0mnew_sig\u001b[0m\u001b[0;34m.\u001b[0m\u001b[0mbind\u001b[0m\u001b[0;34m(\u001b[0m\u001b[0max\u001b[0m\u001b[0;34m,\u001b[0m \u001b[0;34m*\u001b[0m\u001b[0margs\u001b[0m\u001b[0;34m,\u001b[0m \u001b[0;34m**\u001b[0m\u001b[0mkwargs\u001b[0m\u001b[0;34m)\u001b[0m\u001b[0;34m\u001b[0m\u001b[0;34m\u001b[0m\u001b[0m\n",
      "\u001b[0;32m~/opt/anaconda3/lib/python3.7/site-packages/matplotlib/axes/_axes.py\u001b[0m in \u001b[0;36mhist\u001b[0;34m(self, x, bins, range, density, weights, cumulative, bottom, histtype, align, orientation, rwidth, log, color, label, stacked, normed, **kwargs)\u001b[0m\n\u001b[1;32m   6719\u001b[0m                     \u001b[0;34m\"color kwarg must have one color per data set. %d data \"\u001b[0m\u001b[0;34m\u001b[0m\u001b[0;34m\u001b[0m\u001b[0m\n\u001b[1;32m   6720\u001b[0m                     \"sets and %d colors were provided\" % (nx, len(color)))\n\u001b[0;32m-> 6721\u001b[0;31m                 \u001b[0;32mraise\u001b[0m \u001b[0mValueError\u001b[0m\u001b[0;34m(\u001b[0m\u001b[0merror_message\u001b[0m\u001b[0;34m)\u001b[0m\u001b[0;34m\u001b[0m\u001b[0;34m\u001b[0m\u001b[0m\n\u001b[0m\u001b[1;32m   6722\u001b[0m \u001b[0;34m\u001b[0m\u001b[0m\n\u001b[1;32m   6723\u001b[0m         \u001b[0mhist_kwargs\u001b[0m \u001b[0;34m=\u001b[0m \u001b[0mdict\u001b[0m\u001b[0;34m(\u001b[0m\u001b[0;34m)\u001b[0m\u001b[0;34m\u001b[0m\u001b[0;34m\u001b[0m\u001b[0m\n",
      "\u001b[0;31mValueError\u001b[0m: color kwarg must have one color per data set. 2000 data sets and 1 colors were provided"
     ]
    },
    {
     "data": {
      "image/png": "[encoded data removed]",
      "text/plain": [
       "<Figure size 432x360 with 1 Axes>"
      ]
     },
     "metadata": {
      "needs_background": "light"
     },
     "output_type": "display_data"
    }
   ],
   "source": [
    "plt.figure(figsize=(6,5))\n",
    "plt.title(\"Neural activity predicted using\\n dynamics matrix from other task\")\n",
    "seaborn.distplot(shuffle_res,kde=0)\n",
    "plt.axvline(x=real_res,color='.3',linewidth=3)\n",
    "#plt.annota\n",
    "seaborn.despine()\n",
    "#plt.xlim(-1,1)\n",
    "yl = plt.gca().get_ylim()\n",
    "plt.fill_between([np.percentile(shuffle_res,97.5),1],[yl[1]]*2,color='g',alpha=.3)\n",
    "plt.ylim(yl)\n",
    "plt.xlabel(\"Correlation between predicted and actual activity \\nin other task\")\n",
    "plt.ylabel(\"# of Shuffles\")\n",
    "plt.locator_params(nbins=3)\n",
    "plt.tight_layout()"
   ]
  },
  {
   "cell_type": "code",
   "execution_count": null,
   "metadata": {},
   "outputs": [],
   "source": [
    "all_res_only_space = []\n",
    "for _ in range(8):\n",
    "    #np.random.seed(99)\n",
    "    x1,x2,A = dynamics.simulate_dynamics(dim=5,frac_noise_dynamics=1.,)\n",
    "\n",
    "    #np.random.seed(99)\n",
    "    sim_res = dynamics.simulate_activity(n_neurons=120,x=x1,x_2=np.random.normal(size=x2.shape),frac_space=None)\n",
    "    act_matrix, act_matrix2, space_order2, space_order2_inv, task_order2, task_order2_inv = sim_res\n",
    "    act_matrix2 = act_matrix2[task_order2_inv]\n",
    "    \n",
    "    pca_dim = 8\n",
    "    pca = PCA(n_components=pca_dim)\n",
    "\n",
    "    pca.fit(np.vstack([act_matrix,act_matrix2]))\n",
    "    pca_activity = pca.transform(act_matrix)\n",
    "    pca_activity2 = pca.transform(act_matrix2)\n",
    "    \n",
    "    res = fit_data(act_matrix,act_matrix2,pca_activity,pca_activity2,pca,NFITS=5,NSHUFF=2000)\n",
    "    all_res_only_space.append(res)"
   ]
  }
 ],
 "metadata": {
  "kernelspec": {
   "display_name": "Python 3",
   "language": "python",
   "name": "python3"
  },
  "language_info": {
   "codemirror_mode": {
    "name": "ipython",
    "version": 3
   },
   "file_extension": ".py",
   "mimetype": "text/x-python",
   "name": "python",
   "nbconvert_exporter": "python",
   "pygments_lexer": "ipython3",
   "version": "3.7.4"
  }
 },
 "nbformat": 4,
 "nbformat_minor": 2
}
