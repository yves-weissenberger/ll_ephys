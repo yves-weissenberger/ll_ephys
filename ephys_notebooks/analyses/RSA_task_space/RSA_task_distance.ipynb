{
 "cells": [
  {
   "cell_type": "code",
   "execution_count": 138,
   "metadata": {},
   "outputs": [],
   "source": [
    "#%matplotlib inline\n",
    "import sys\n",
    "import os\n",
    "\n",
    "\n",
    "import numpy as np\n",
    "import matplotlib.pyplot as plt\n",
    "import scipy.ndimage as ndi\n",
    "import pandas as pd\n",
    "import networkx as nx\n",
    "import scipy.stats as stt\n",
    "#optional for nicer plots\n",
    "import seaborn\n",
    "clrs = seaborn.color_palette(n_colors=6)\n",
    "seaborn.set(style='ticks',font_scale=1.5)"
   ]
  },
  {
   "cell_type": "code",
   "execution_count": 139,
   "metadata": {},
   "outputs": [],
   "source": [
    "poke_pos = np.array([1,-1])*np.array([ [149,0],\n",
    "                                 [68,19],[231,19],\n",
    "                               [0,62],[149,62],[298,62],\n",
    "                                 [68,105],[231,105],\n",
    "                                      [149,124]])"
   ]
  },
  {
   "cell_type": "code",
   "execution_count": 140,
   "metadata": {},
   "outputs": [],
   "source": [
    "sys.path.append(\"/Users/yves/Desktop/retreat_data_dir/code/\")\n",
    "from mecll.task import plot_activity_on_graph"
   ]
  },
  {
   "cell_type": "code",
   "execution_count": 141,
   "metadata": {},
   "outputs": [],
   "source": [
    "def load_data(selected_session,by_dir=False):\n",
    "    \n",
    "    \"\"\" Function to load data structured according to the format\n",
    "        that the data were delivered to the retreat for\n",
    "    \"\"\"\n",
    "    all_data_dir = '/Users/yves/Desktop/retreat_data_dir/data/'\n",
    "    all_data_folders = sorted([i for i in os.listdir(all_data_dir) if 'ks25' in i])\n",
    "    root_dir = os.path.join(all_data_dir,all_data_folders[selected_session])\n",
    "    spkT = np.load(os.path.join(root_dir,'spkT_task.npy'))\n",
    "\n",
    "\n",
    "    #This array is the same shape as spkT but shows which cluster each of the spikes in spkT belongs to\n",
    "    spkC = np.load(os.path.join(root_dir,'spkC_task.npy'))\n",
    "\n",
    "    #This is basically a big table (you can open it in excel) which contains\n",
    "    #relevant information about each time the animal poked one of the ports\n",
    "    task_event_df = pd.read_csv(os.path.join(root_dir,'task_event_table.csv'),index_col=0)\n",
    "\n",
    "    #\n",
    "    response_table = np.load(os.path.join(root_dir,'neuron_response_table.npy'))\n",
    "    #alternatively to change the time window\n",
    "\n",
    "\n",
    "    #not all cluster in spkC correspond to single units. Single units is an array of the clusters that are single units\n",
    "    single_units = np.load(os.path.join(root_dir,'single_units.npy'))\n",
    "    \n",
    "    \n",
    "    seq0 = np.array(eval(task_event_df.loc[task_event_df['task_nr']==0]['current_sequence'].values[0]))\n",
    "    seq1 = np.array(eval(task_event_df.loc[task_event_df['task_nr']==1]['current_sequence'].values[0]))\n",
    "    \n",
    "    \n",
    "    graph_type0 = task_event_df.loc[task_event_df['task_nr']==0]['graph_type'].values[0]\n",
    "    graph_type1 = task_event_df.loc[task_event_df['task_nr']==0]['graph_type'].values[0]\n",
    "    \n",
    "    if by_dir:\n",
    "        firing_rate_maps = get_task_responses_by_direction(task_event_df,response_table)\n",
    "    else:\n",
    "        firing_rate_maps = get_task_responses(task_event_df,response_table)\n",
    "    \n",
    "    return firing_rate_maps, task_event_df,seq0,seq1,graph_type0,graph_type1"
   ]
  },
  {
   "cell_type": "code",
   "execution_count": 142,
   "metadata": {},
   "outputs": [],
   "source": [
    "def get_task_responses_by_direction(task_event_df,response_table):\n",
    "    \"\"\" \n",
    "    Use the columns of the task_event_df to filter neural activity. \n",
    "    In this example build separate firing rate maps for each of the\n",
    "    tasks, selecting only trials where subjects poked the correct poke.\n",
    "    \n",
    "    \n",
    "    \"\"\"\n",
    "    \n",
    "    \n",
    "    n_neurons = response_table.shape[1]\n",
    "    n_ports = 9\n",
    "    n_tasks = 2\n",
    "    n_direction = 2\n",
    "    \n",
    "    #set variables to nan to not confuse missing data for no responses\n",
    "    firing_rate_maps = np.zeros([n_neurons,n_ports,n_tasks,n_direction]) + np.nan\n",
    "    \n",
    "    #for each task\n",
    "    for task in [0,1]:\n",
    "        \n",
    "        for port in range(n_ports):  #for each port\n",
    "            \n",
    "            for dix,direction in enumerate(np.unique(task_event_df['direction'].values)):\n",
    "\n",
    "                #Select indices of pokes where...\n",
    "                table_index = task_event_df.loc[(task_event_df['task_nr']==task) &  #task_nr was task\n",
    "                                                (task_event_df['correct']==True) &  #the poke was to the correct port\n",
    "                                                (task_event_df['port']==port) &       #the port poked was port\n",
    "                                                (task_event_df['direction']==direction)\n",
    "                                               ].index           \n",
    "                #print(len(table_index))\n",
    "                #get the average\n",
    "                firing_rate_maps[:,int(port),int(task),dix] = np.nanmean(response_table[table_index],axis=0)\n",
    "    return firing_rate_maps\n",
    "                                         "
   ]
  },
  {
   "cell_type": "code",
   "execution_count": 143,
   "metadata": {},
   "outputs": [],
   "source": [
    "def get_task_responses(task_event_df,response_table):\n",
    "    \"\"\" \n",
    "    Use the columns of the task_event_df to filter neural activity. \n",
    "    In this example build separate firing rate maps for each of the\n",
    "    tasks, selecting only trials where subjects poked the correct poke.\n",
    "    \n",
    "    \n",
    "    \"\"\"\n",
    "    \n",
    "    \n",
    "    n_neurons = response_table.shape[1]\n",
    "    n_ports = 9\n",
    "    n_tasks = 2\n",
    "    n_direction = 2\n",
    "    \n",
    "    #set variables to nan to not confuse missing data for no responses\n",
    "    firing_rate_maps = np.zeros([n_neurons,n_ports,n_tasks]) + np.nan\n",
    "    \n",
    "    #for each task\n",
    "    for task in [0,1]:\n",
    "        \n",
    "        for port in range(n_ports):  #for each port\n",
    "            \n",
    "            #for dix,direction in enumerate(np.unique(task_event_df['direction'].values)):\n",
    "\n",
    "                #Select indices of pokes where...\n",
    "            table_index = task_event_df.loc[(task_event_df['task_nr']==task) &  #task_nr was task\n",
    "                                            (task_event_df['correct']==True) &  #the poke was to the correct port\n",
    "                                            (task_event_df['port']==port)        #the port poked was port\n",
    "                                            #(task_event_df['direction']==direction)\n",
    "                                           ].index           \n",
    "            #print(len(table_index))\n",
    "            #get the average\n",
    "            firing_rate_maps[:,int(port),int(task)] = np.nanmean(response_table[table_index],axis=0)\n",
    "    return firing_rate_maps"
   ]
  },
  {
   "cell_type": "code",
   "execution_count": 144,
   "metadata": {},
   "outputs": [],
   "source": [
    "\n",
    "firing_rate_maps,task_event_df,seq0,seq1,graph_type0,graph_type1, = load_data(0)\n",
    "#spatial_map  = np.nanmean(firing_rate_maps,axis=(2,3))\n",
    "mds_frm = firing_rate_maps.swapaxes(0,2) #- spatial_map[:,:,None,None]\n",
    "#valid_ix = np.where(~np.isnan(np.sum(firing_rate_maps,axis=(0,2,3))))[0]\n",
    "#frm = np.hstack([mds_frm[:,seq0,0,0],mds_frm[:,seq0,0,1],mds_frm[:,seq1,1,0],mds_frm[:,seq1,1,1]])"
   ]
  },
  {
   "cell_type": "code",
   "execution_count": 145,
   "metadata": {},
   "outputs": [
    {
     "data": {
      "text/plain": [
       "array([[1.        , 0.97289025],\n",
       "       [0.97289025, 1.        ]])"
      ]
     },
     "execution_count": 145,
     "metadata": {},
     "output_type": "execute_result"
    }
   ],
   "source": [
    "np.corrcoef(mds_frm[0][0],mds_frm[0][2])"
   ]
  },
  {
   "cell_type": "code",
   "execution_count": 146,
   "metadata": {},
   "outputs": [
    {
     "name": "stderr",
     "output_type": "stream",
     "text": [
      "/Users/yves/opt/anaconda3/lib/python3.7/site-packages/ipykernel_launcher.py:4: RuntimeWarning: invalid value encountered in true_divide\n",
      "  after removing the cwd from sys.path.\n"
     ]
    }
   ],
   "source": [
    "a = zscore(mds_frm[1])\n",
    "a[np.isnan(a)] = 0"
   ]
  },
  {
   "cell_type": "code",
   "execution_count": 207,
   "metadata": {},
   "outputs": [
    {
     "data": {
      "text/plain": [
       "Text(0, 0.5, 'Port #')"
      ]
     },
     "execution_count": 207,
     "metadata": {},
     "output_type": "execute_result"
    },
    {
     "data": {
      "image/png": "[encoded data removed]",
      "text/plain": [
       "<Figure size 432x288 with 2 Axes>"
      ]
     },
     "metadata": {},
     "output_type": "display_data"
    }
   ],
   "source": [
    "plt.imshow(np.corrcoef(a),vmin=-.5,vmax=.5)\n",
    "cbar = plt.colorbar()\n",
    "plt.locator_params(nbins=2)\n",
    "cbar.set_label(\"Neural correlations\")\n",
    "plt.xlabel(\"Port #\")\n",
    "plt.ylabel(\"Port #\")\n",
    "\n",
    "\n"
   ]
  },
  {
   "cell_type": "code",
   "execution_count": 148,
   "metadata": {},
   "outputs": [
    {
     "name": "stderr",
     "output_type": "stream",
     "text": [
      "/Users/yves/opt/anaconda3/lib/python3.7/site-packages/ipykernel_launcher.py:4: RuntimeWarning: invalid value encountered in true_divide\n",
      "  after removing the cwd from sys.path.\n"
     ]
    },
    {
     "data": {
      "text/plain": [
       "nan"
      ]
     },
     "execution_count": 148,
     "metadata": {},
     "output_type": "execute_result"
    }
   ],
   "source": [
    "zscore(np.mean(mds_frm,axis=1))[1].mean()"
   ]
  },
  {
   "cell_type": "code",
   "execution_count": null,
   "metadata": {},
   "outputs": [],
   "source": []
  },
  {
   "cell_type": "code",
   "execution_count": 149,
   "metadata": {},
   "outputs": [
    {
     "name": "stderr",
     "output_type": "stream",
     "text": [
      "/Users/yves/opt/anaconda3/lib/python3.7/site-packages/ipykernel_launcher.py:4: RuntimeWarning: invalid value encountered in true_divide\n",
      "  after removing the cwd from sys.path.\n"
     ]
    },
    {
     "data": {
      "text/plain": [
       "<matplotlib.image.AxesImage at 0x7f86ea0e0250>"
      ]
     },
     "execution_count": 149,
     "metadata": {},
     "output_type": "execute_result"
    },
    {
     "data": {
      "image/png": "[encoded data removed]",
      "text/plain": [
       "<Figure size 432x288 with 1 Axes>"
      ]
     },
     "metadata": {},
     "output_type": "display_data"
    }
   ],
   "source": [
    "plt.imshow(zscore(mds_frm[0]).T)"
   ]
  },
  {
   "cell_type": "code",
   "execution_count": 150,
   "metadata": {},
   "outputs": [],
   "source": [
    "#mean_state_resps = np.nanmean(mds_frm,axis=3).swapaxes(0,2)"
   ]
  },
  {
   "cell_type": "code",
   "execution_count": 180,
   "metadata": {},
   "outputs": [],
   "source": [
    "from scipy.spatial.distance import pdist\n",
    "from scipy.spatial import distance_matrix\n",
    "\n",
    "def zscore2(dat): return (dat-np.mean(dat,axis=0)[None,:])/np.nanstd(dat,axis=0,)[None,:]\n",
    "def zscore(dat): return (dat-np.mean(dat))/np.nanstd(dat)"
   ]
  },
  {
   "cell_type": "code",
   "execution_count": 152,
   "metadata": {},
   "outputs": [],
   "source": [
    "seq0_2 = np.array([list(seq0).index(i) for i in range(9)])\n",
    "seq1_2 = np.array([list(seq1).index(i) for i in range(9)])"
   ]
  },
  {
   "cell_type": "code",
   "execution_count": 153,
   "metadata": {},
   "outputs": [
    {
     "data": {
      "text/plain": [
       "array([8, 4, 2, 5, 7, 0, 6, 1, 3])"
      ]
     },
     "execution_count": 153,
     "metadata": {},
     "output_type": "execute_result"
    }
   ],
   "source": [
    "seq0"
   ]
  },
  {
   "cell_type": "code",
   "execution_count": 154,
   "metadata": {},
   "outputs": [],
   "source": [
    "#seq1"
   ]
  },
  {
   "cell_type": "code",
   "execution_count": 156,
   "metadata": {},
   "outputs": [],
   "source": [
    "def loop_distance_matrix(seq,p=2):\n",
    "    seq = list(seq)\n",
    "    d = np.zeros([9,9])\n",
    "    for i in range(9):\n",
    "        for j in range(9):\n",
    "            ind1 = seq.index(i)\n",
    "            ind2 = seq.index(j)\n",
    "            d[i,j] = min([abs(ind1-ind2),abs(9+(ind1-ind2)),abs(9+(ind2-ind1))])**p\n",
    "    return d"
   ]
  },
  {
   "cell_type": "code",
   "execution_count": 157,
   "metadata": {},
   "outputs": [],
   "source": [
    "def line_distance_matrix(seq,p=1):\n",
    "    seq = list(seq)\n",
    "    d = np.zeros([9,9])\n",
    "    for i in range(9):\n",
    "        for j in range(9):\n",
    "            ind1 = seq.index(i)\n",
    "            ind2 = seq.index(j)\n",
    "            d[i,j] = abs(ind1-ind2)**p\n",
    "    return d"
   ]
  },
  {
   "cell_type": "code",
   "execution_count": 158,
   "metadata": {},
   "outputs": [],
   "source": [
    "#task_1_distance = loop_distance_matrix(seq0,p=2)\n",
    "#task_2_distance = loop_distance_matrix(seq1,p=2)"
   ]
  },
  {
   "cell_type": "code",
   "execution_count": 159,
   "metadata": {},
   "outputs": [],
   "source": [
    "if graph_type0=='loop': \n",
    "    task_1_distance = -loop_distance_matrix(seq0)\n",
    "else: \n",
    "    task_1_distance =  -line_distance_matrix(seq0)#-(distance_matrix(seq0.reshape(-1,1),seq0.reshape(-1,1),p=1))\n",
    "if graph_type1=='loop':\n",
    "    task_2_distance = -loop_distance_matrix(seq1)\n",
    "else:\n",
    "    task_2_distance = -line_distance_matrix(seq1)#distance_matrix(seq1.reshape(-1,1),seq1.reshape(-1,1),p=1)\n",
    "            \n",
    "#task_1_distance = -(distance_matrix(seq0_2.reshape(-1,1),seq0_2.reshape(-1,1),p=1)%mod0)\n",
    "#task_2_distance = -distance_matrix(seq1.reshape(-1,1)%mod1,seq1.reshape(-1,1)%mod1,p=2)\n",
    "spatial_distance = -distance_matrix(poke_pos,poke_pos,p=1)"
   ]
  },
  {
   "cell_type": "code",
   "execution_count": 160,
   "metadata": {},
   "outputs": [
    {
     "data": {
      "text/plain": [
       "Text(0, 0.5, 'Port #')"
      ]
     },
     "execution_count": 160,
     "metadata": {},
     "output_type": "execute_result"
    },
    {
     "data": {
      "image/png": "[encoded data removed]",
      "text/plain": [
       "<Figure size 432x288 with 2 Axes>"
      ]
     },
     "metadata": {},
     "output_type": "display_data"
    }
   ],
   "source": [
    "plt.imshow(np.corrcoef(mds_frm[1]))\n",
    "cbar = plt.colorbar()\n",
    "plt.locator_params(nbins=2)\n",
    "cbar.set_label(\"Spatial Distance (mm)\")\n",
    "plt.xlabel(\"Port #\")\n",
    "plt.ylabel(\"Port #\")\n",
    "\n"
   ]
  },
  {
   "cell_type": "code",
   "execution_count": 161,
   "metadata": {},
   "outputs": [
    {
     "data": {
      "text/plain": [
       "Text(0, 0.5, 'Port #')"
      ]
     },
     "execution_count": 161,
     "metadata": {},
     "output_type": "execute_result"
    },
    {
     "data": {
      "image/png": "[encoded data removed]",
      "text/plain": [
       "<Figure size 432x288 with 2 Axes>"
      ]
     },
     "metadata": {},
     "output_type": "display_data"
    }
   ],
   "source": [
    "plt.imshow(-spatial_distance)\n",
    "\n",
    "cbar = plt.colorbar()\n",
    "plt.locator_params(nbins=2)\n",
    "cbar.set_label(\"Spatial Distance (mm)\")\n",
    "plt.xlabel(\"Port #\")\n",
    "plt.ylabel(\"Port #\")\n",
    "\n"
   ]
  },
  {
   "cell_type": "code",
   "execution_count": 162,
   "metadata": {},
   "outputs": [
    {
     "data": {
      "image/png": "[encoded data removed]",
      "text/plain": [
       "<Figure size 432x288 with 2 Axes>"
      ]
     },
     "metadata": {},
     "output_type": "display_data"
    }
   ],
   "source": [
    "plt.imshow(-task_1_distance)\n",
    "\n",
    "cbar = plt.colorbar()\n",
    "plt.locator_params(nbins=2)\n",
    "cbar.set_label(\"Task Distance (states)\")\n",
    "\n"
   ]
  },
  {
   "cell_type": "code",
   "execution_count": 163,
   "metadata": {},
   "outputs": [],
   "source": [
    "import statsmodels.api as sm"
   ]
  },
  {
   "cell_type": "code",
   "execution_count": 164,
   "metadata": {},
   "outputs": [
    {
     "ename": "NameError",
     "evalue": "name 'mean_state_resps' is not defined",
     "output_type": "error",
     "traceback": [
      "\u001b[0;31m---------------------------------------------------------------------------\u001b[0m",
      "\u001b[0;31mNameError\u001b[0m                                 Traceback (most recent call last)",
      "\u001b[0;32m<ipython-input-164-0eaf72b2f6ab>\u001b[0m in \u001b[0;36m<module>\u001b[0;34m\u001b[0m\n\u001b[0;32m----> 1\u001b[0;31m \u001b[0mtask1_corrs\u001b[0m \u001b[0;34m=\u001b[0m \u001b[0mnp\u001b[0m\u001b[0;34m.\u001b[0m\u001b[0mcorrcoef\u001b[0m\u001b[0;34m(\u001b[0m\u001b[0mmean_state_resps\u001b[0m\u001b[0;34m[\u001b[0m\u001b[0;36m0\u001b[0m\u001b[0;34m]\u001b[0m\u001b[0;34m)\u001b[0m\u001b[0;34m\u001b[0m\u001b[0;34m\u001b[0m\u001b[0m\n\u001b[0m\u001b[1;32m      2\u001b[0m \u001b[0mtask2_corrs\u001b[0m \u001b[0;34m=\u001b[0m \u001b[0mnp\u001b[0m\u001b[0;34m.\u001b[0m\u001b[0mcorrcoef\u001b[0m\u001b[0;34m(\u001b[0m\u001b[0mmean_state_resps\u001b[0m\u001b[0;34m[\u001b[0m\u001b[0;36m1\u001b[0m\u001b[0;34m]\u001b[0m\u001b[0;34m)\u001b[0m\u001b[0;34m\u001b[0m\u001b[0;34m\u001b[0m\u001b[0m\n",
      "\u001b[0;31mNameError\u001b[0m: name 'mean_state_resps' is not defined"
     ]
    }
   ],
   "source": [
    "task1_corrs = np.corrcoef(mean_state_resps[0])\n",
    "task2_corrs = np.corrcoef(mean_state_resps[1])"
   ]
  },
  {
   "cell_type": "code",
   "execution_count": 165,
   "metadata": {},
   "outputs": [
    {
     "ename": "NameError",
     "evalue": "name 'X' is not defined",
     "output_type": "error",
     "traceback": [
      "\u001b[0;31m---------------------------------------------------------------------------\u001b[0m",
      "\u001b[0;31mNameError\u001b[0m                                 Traceback (most recent call last)",
      "\u001b[0;32m<ipython-input-165-606f2541c57a>\u001b[0m in \u001b[0;36m<module>\u001b[0;34m\u001b[0m\n\u001b[0;32m----> 1\u001b[0;31m \u001b[0mbeta\u001b[0m \u001b[0;34m=\u001b[0m \u001b[0mnp\u001b[0m\u001b[0;34m.\u001b[0m\u001b[0mlinalg\u001b[0m\u001b[0;34m.\u001b[0m\u001b[0minv\u001b[0m\u001b[0;34m(\u001b[0m\u001b[0mX\u001b[0m\u001b[0;34m.\u001b[0m\u001b[0mT\u001b[0m\u001b[0;34m@\u001b[0m\u001b[0mX\u001b[0m\u001b[0;34m)\u001b[0m\u001b[0;34m@\u001b[0m\u001b[0mX\u001b[0m\u001b[0;34m.\u001b[0m\u001b[0mT\u001b[0m\u001b[0;34m@\u001b[0m\u001b[0my\u001b[0m\u001b[0;34m\u001b[0m\u001b[0;34m\u001b[0m\u001b[0m\n\u001b[0m",
      "\u001b[0;31mNameError\u001b[0m: name 'X' is not defined"
     ]
    }
   ],
   "source": [
    "beta = np.linalg.inv(X.T@X)@X.T@y"
   ]
  },
  {
   "cell_type": "code",
   "execution_count": 166,
   "metadata": {},
   "outputs": [
    {
     "ename": "NameError",
     "evalue": "name 'X' is not defined",
     "output_type": "error",
     "traceback": [
      "\u001b[0;31m---------------------------------------------------------------------------\u001b[0m",
      "\u001b[0;31mNameError\u001b[0m                                 Traceback (most recent call last)",
      "\u001b[0;32m<ipython-input-166-33a6fa4072e8>\u001b[0m in \u001b[0;36m<module>\u001b[0;34m\u001b[0m\n\u001b[0;32m----> 1\u001b[0;31m \u001b[0mplt\u001b[0m\u001b[0;34m.\u001b[0m\u001b[0mimshow\u001b[0m\u001b[0;34m(\u001b[0m\u001b[0;34m(\u001b[0m\u001b[0mX\u001b[0m\u001b[0;34m@\u001b[0m\u001b[0mbeta\u001b[0m\u001b[0;34m)\u001b[0m\u001b[0;34m.\u001b[0m\u001b[0mreshape\u001b[0m\u001b[0;34m(\u001b[0m\u001b[0;36m8\u001b[0m\u001b[0;34m,\u001b[0m\u001b[0;36m9\u001b[0m\u001b[0;34m)\u001b[0m\u001b[0;34m)\u001b[0m\u001b[0;34m\u001b[0m\u001b[0;34m\u001b[0m\u001b[0m\n\u001b[0m\u001b[1;32m      2\u001b[0m \u001b[0mplt\u001b[0m\u001b[0;34m.\u001b[0m\u001b[0mcolorbar\u001b[0m\u001b[0;34m(\u001b[0m\u001b[0;34m)\u001b[0m\u001b[0;34m\u001b[0m\u001b[0;34m\u001b[0m\u001b[0m\n",
      "\u001b[0;31mNameError\u001b[0m: name 'X' is not defined"
     ]
    }
   ],
   "source": [
    "plt.imshow((X@beta).reshape(8,9))\n",
    "plt.colorbar()"
   ]
  },
  {
   "cell_type": "code",
   "execution_count": 167,
   "metadata": {},
   "outputs": [
    {
     "ename": "NameError",
     "evalue": "name 'y' is not defined",
     "output_type": "error",
     "traceback": [
      "\u001b[0;31m---------------------------------------------------------------------------\u001b[0m",
      "\u001b[0;31mNameError\u001b[0m                                 Traceback (most recent call last)",
      "\u001b[0;32m<ipython-input-167-4b0d6587aa1d>\u001b[0m in \u001b[0;36m<module>\u001b[0;34m\u001b[0m\n\u001b[0;32m----> 1\u001b[0;31m \u001b[0mnp\u001b[0m\u001b[0;34m.\u001b[0m\u001b[0mcorrcoef\u001b[0m\u001b[0;34m(\u001b[0m\u001b[0my\u001b[0m\u001b[0;34m,\u001b[0m\u001b[0;34m(\u001b[0m\u001b[0mX\u001b[0m\u001b[0;34m@\u001b[0m\u001b[0mbeta\u001b[0m\u001b[0;34m)\u001b[0m\u001b[0;34m)\u001b[0m\u001b[0;34m\u001b[0m\u001b[0;34m\u001b[0m\u001b[0m\n\u001b[0m",
      "\u001b[0;31mNameError\u001b[0m: name 'y' is not defined"
     ]
    }
   ],
   "source": [
    "np.corrcoef(y,(X@beta))"
   ]
  },
  {
   "cell_type": "code",
   "execution_count": 168,
   "metadata": {},
   "outputs": [
    {
     "ename": "NameError",
     "evalue": "name 'y' is not defined",
     "output_type": "error",
     "traceback": [
      "\u001b[0;31m---------------------------------------------------------------------------\u001b[0m",
      "\u001b[0;31mNameError\u001b[0m                                 Traceback (most recent call last)",
      "\u001b[0;32m<ipython-input-168-1364e7c1cc53>\u001b[0m in \u001b[0;36m<module>\u001b[0;34m\u001b[0m\n\u001b[0;32m----> 1\u001b[0;31m \u001b[0mplt\u001b[0m\u001b[0;34m.\u001b[0m\u001b[0mimshow\u001b[0m\u001b[0;34m(\u001b[0m\u001b[0my\u001b[0m\u001b[0;34m.\u001b[0m\u001b[0mreshape\u001b[0m\u001b[0;34m(\u001b[0m\u001b[0;36m8\u001b[0m\u001b[0;34m,\u001b[0m\u001b[0;36m9\u001b[0m\u001b[0;34m)\u001b[0m\u001b[0;34m)\u001b[0m\u001b[0;34m\u001b[0m\u001b[0;34m\u001b[0m\u001b[0m\n\u001b[0m\u001b[1;32m      2\u001b[0m \u001b[0mplt\u001b[0m\u001b[0;34m.\u001b[0m\u001b[0mcolorbar\u001b[0m\u001b[0;34m(\u001b[0m\u001b[0;34m)\u001b[0m\u001b[0;34m\u001b[0m\u001b[0;34m\u001b[0m\u001b[0m\n",
      "\u001b[0;31mNameError\u001b[0m: name 'y' is not defined"
     ]
    }
   ],
   "source": [
    "plt.imshow(y.reshape(8,9))\n",
    "plt.colorbar()"
   ]
  },
  {
   "cell_type": "code",
   "execution_count": 169,
   "metadata": {},
   "outputs": [],
   "source": [
    "def remove_diagonal(A):\n",
    "    removed = A[~np.eye(A.shape[0], dtype=bool)].reshape(A.shape[0], int(A.shape[0])-1, -1)\n",
    "    return np.squeeze(removed)\n"
   ]
  },
  {
   "cell_type": "code",
   "execution_count": 170,
   "metadata": {},
   "outputs": [
    {
     "ename": "IndexError",
     "evalue": "invalid index to scalar variable.",
     "output_type": "error",
     "traceback": [
      "\u001b[0;31m---------------------------------------------------------------------------\u001b[0m",
      "\u001b[0;31mIndexError\u001b[0m                                Traceback (most recent call last)",
      "\u001b[0;32m<ipython-input-170-653b239475ca>\u001b[0m in \u001b[0;36m<module>\u001b[0;34m\u001b[0m\n\u001b[1;32m      1\u001b[0m X = np.vstack([np.ones_like(remove_diagonal(spatial_distance).flatten()),\n\u001b[0;32m----> 2\u001b[0;31m                \u001b[0mzscore\u001b[0m\u001b[0;34m(\u001b[0m\u001b[0mremove_diagonal\u001b[0m\u001b[0;34m(\u001b[0m\u001b[0mspatial_distance\u001b[0m\u001b[0;34m)\u001b[0m\u001b[0;34m.\u001b[0m\u001b[0mflatten\u001b[0m\u001b[0;34m(\u001b[0m\u001b[0;34m)\u001b[0m\u001b[0;34m)\u001b[0m\u001b[0;34m,\u001b[0m\u001b[0;34m\u001b[0m\u001b[0;34m\u001b[0m\u001b[0m\n\u001b[0m\u001b[1;32m      3\u001b[0m                \u001b[0mzscore\u001b[0m\u001b[0;34m(\u001b[0m\u001b[0mremove_diagonal\u001b[0m\u001b[0;34m(\u001b[0m\u001b[0mtask_1_distance\u001b[0m\u001b[0;34m)\u001b[0m\u001b[0;34m.\u001b[0m\u001b[0mflatten\u001b[0m\u001b[0;34m(\u001b[0m\u001b[0;34m)\u001b[0m\u001b[0;34m)\u001b[0m\u001b[0;34m,\u001b[0m\u001b[0;34m\u001b[0m\u001b[0;34m\u001b[0m\u001b[0m\n\u001b[1;32m      4\u001b[0m                \u001b[0mzscore\u001b[0m\u001b[0;34m(\u001b[0m\u001b[0mremove_diagonal\u001b[0m\u001b[0;34m(\u001b[0m\u001b[0mtask_2_distance\u001b[0m\u001b[0;34m)\u001b[0m\u001b[0;34m.\u001b[0m\u001b[0mflatten\u001b[0m\u001b[0;34m(\u001b[0m\u001b[0;34m)\u001b[0m\u001b[0;34m)\u001b[0m\u001b[0;34m\u001b[0m\u001b[0;34m\u001b[0m\u001b[0m\n\u001b[1;32m      5\u001b[0m               ]).T\n",
      "\u001b[0;32m<ipython-input-151-34106803aae3>\u001b[0m in \u001b[0;36mzscore\u001b[0;34m(dat)\u001b[0m\n\u001b[1;32m      2\u001b[0m \u001b[0;32mfrom\u001b[0m \u001b[0mscipy\u001b[0m\u001b[0;34m.\u001b[0m\u001b[0mspatial\u001b[0m \u001b[0;32mimport\u001b[0m \u001b[0mdistance_matrix\u001b[0m\u001b[0;34m\u001b[0m\u001b[0;34m\u001b[0m\u001b[0m\n\u001b[1;32m      3\u001b[0m \u001b[0;34m\u001b[0m\u001b[0m\n\u001b[0;32m----> 4\u001b[0;31m \u001b[0;32mdef\u001b[0m \u001b[0mzscore\u001b[0m\u001b[0;34m(\u001b[0m\u001b[0mdat\u001b[0m\u001b[0;34m)\u001b[0m\u001b[0;34m:\u001b[0m \u001b[0;32mreturn\u001b[0m \u001b[0;34m(\u001b[0m\u001b[0mdat\u001b[0m\u001b[0;34m-\u001b[0m\u001b[0mnp\u001b[0m\u001b[0;34m.\u001b[0m\u001b[0mmean\u001b[0m\u001b[0;34m(\u001b[0m\u001b[0mdat\u001b[0m\u001b[0;34m,\u001b[0m\u001b[0maxis\u001b[0m\u001b[0;34m=\u001b[0m\u001b[0;36m0\u001b[0m\u001b[0;34m)\u001b[0m\u001b[0;34m[\u001b[0m\u001b[0;32mNone\u001b[0m\u001b[0;34m,\u001b[0m\u001b[0;34m:\u001b[0m\u001b[0;34m]\u001b[0m\u001b[0;34m)\u001b[0m\u001b[0;34m/\u001b[0m\u001b[0mnp\u001b[0m\u001b[0;34m.\u001b[0m\u001b[0mnanstd\u001b[0m\u001b[0;34m(\u001b[0m\u001b[0mdat\u001b[0m\u001b[0;34m,\u001b[0m\u001b[0maxis\u001b[0m\u001b[0;34m=\u001b[0m\u001b[0;36m0\u001b[0m\u001b[0;34m,\u001b[0m\u001b[0;34m)\u001b[0m\u001b[0;34m[\u001b[0m\u001b[0;32mNone\u001b[0m\u001b[0;34m,\u001b[0m\u001b[0;34m:\u001b[0m\u001b[0;34m]\u001b[0m\u001b[0;34m\u001b[0m\u001b[0;34m\u001b[0m\u001b[0m\n\u001b[0m",
      "\u001b[0;31mIndexError\u001b[0m: invalid index to scalar variable."
     ]
    }
   ],
   "source": [
    "X = np.vstack([np.ones_like(remove_diagonal(spatial_distance).flatten()),\n",
    "               zscore(remove_diagonal(spatial_distance).flatten()),\n",
    "               zscore(remove_diagonal(task_1_distance).flatten()),\n",
    "               zscore(remove_diagonal(task_2_distance).flatten())\n",
    "              ]).T\n",
    "y = remove_diagonal(task1_corrs).flatten()\n",
    "res = sm.OLS(y,X,hasconst=True).fit()"
   ]
  },
  {
   "cell_type": "code",
   "execution_count": 171,
   "metadata": {},
   "outputs": [
    {
     "ename": "NameError",
     "evalue": "name 'task1_corrs' is not defined",
     "output_type": "error",
     "traceback": [
      "\u001b[0;31m---------------------------------------------------------------------------\u001b[0m",
      "\u001b[0;31mNameError\u001b[0m                                 Traceback (most recent call last)",
      "\u001b[0;32m<ipython-input-171-f261076c0e29>\u001b[0m in \u001b[0;36m<module>\u001b[0;34m\u001b[0m\n\u001b[0;32m----> 1\u001b[0;31m \u001b[0mplt\u001b[0m\u001b[0;34m.\u001b[0m\u001b[0mimshow\u001b[0m\u001b[0;34m(\u001b[0m\u001b[0mtask1_corrs\u001b[0m\u001b[0;34m)\u001b[0m\u001b[0;34m\u001b[0m\u001b[0;34m\u001b[0m\u001b[0m\n\u001b[0m",
      "\u001b[0;31mNameError\u001b[0m: name 'task1_corrs' is not defined"
     ]
    }
   ],
   "source": [
    "plt.imshow(task1_corrs)"
   ]
  },
  {
   "cell_type": "code",
   "execution_count": 172,
   "metadata": {},
   "outputs": [
    {
     "ename": "NameError",
     "evalue": "name 'res' is not defined",
     "output_type": "error",
     "traceback": [
      "\u001b[0;31m---------------------------------------------------------------------------\u001b[0m",
      "\u001b[0;31mNameError\u001b[0m                                 Traceback (most recent call last)",
      "\u001b[0;32m<ipython-input-172-6ce2ff78cdb7>\u001b[0m in \u001b[0;36m<module>\u001b[0;34m\u001b[0m\n\u001b[0;32m----> 1\u001b[0;31m \u001b[0mres\u001b[0m\u001b[0;34m.\u001b[0m\u001b[0msummary\u001b[0m\u001b[0;34m(\u001b[0m\u001b[0;34m)\u001b[0m\u001b[0;34m\u001b[0m\u001b[0;34m\u001b[0m\u001b[0m\n\u001b[0m",
      "\u001b[0;31mNameError\u001b[0m: name 'res' is not defined"
     ]
    }
   ],
   "source": [
    "res.summary()"
   ]
  },
  {
   "cell_type": "code",
   "execution_count": 173,
   "metadata": {},
   "outputs": [
    {
     "ename": "NameError",
     "evalue": "name 'task2_corrs' is not defined",
     "output_type": "error",
     "traceback": [
      "\u001b[0;31m---------------------------------------------------------------------------\u001b[0m",
      "\u001b[0;31mNameError\u001b[0m                                 Traceback (most recent call last)",
      "\u001b[0;32m<ipython-input-173-a534fb262a4d>\u001b[0m in \u001b[0;36m<module>\u001b[0;34m\u001b[0m\n\u001b[0;32m----> 1\u001b[0;31m \u001b[0my\u001b[0m \u001b[0;34m=\u001b[0m \u001b[0mremove_diagonal\u001b[0m\u001b[0;34m(\u001b[0m\u001b[0mtask2_corrs\u001b[0m\u001b[0;34m)\u001b[0m\u001b[0;34m.\u001b[0m\u001b[0mflatten\u001b[0m\u001b[0;34m(\u001b[0m\u001b[0;34m)\u001b[0m\u001b[0;34m\u001b[0m\u001b[0;34m\u001b[0m\u001b[0m\n\u001b[0m\u001b[1;32m      2\u001b[0m \u001b[0mres2\u001b[0m \u001b[0;34m=\u001b[0m \u001b[0msm\u001b[0m\u001b[0;34m.\u001b[0m\u001b[0mOLS\u001b[0m\u001b[0;34m(\u001b[0m\u001b[0my\u001b[0m\u001b[0;34m,\u001b[0m\u001b[0mX\u001b[0m\u001b[0;34m,\u001b[0m\u001b[0mhasconst\u001b[0m\u001b[0;34m=\u001b[0m\u001b[0;32mTrue\u001b[0m\u001b[0;34m)\u001b[0m\u001b[0;34m.\u001b[0m\u001b[0mfit\u001b[0m\u001b[0;34m(\u001b[0m\u001b[0;34m)\u001b[0m\u001b[0;34m\u001b[0m\u001b[0;34m\u001b[0m\u001b[0m\n",
      "\u001b[0;31mNameError\u001b[0m: name 'task2_corrs' is not defined"
     ]
    }
   ],
   "source": [
    "\n",
    "y = remove_diagonal(task2_corrs).flatten()\n",
    "res2 = sm.OLS(y,X,hasconst=True).fit()"
   ]
  },
  {
   "cell_type": "code",
   "execution_count": 174,
   "metadata": {},
   "outputs": [
    {
     "ename": "NameError",
     "evalue": "name 'res2' is not defined",
     "output_type": "error",
     "traceback": [
      "\u001b[0;31m---------------------------------------------------------------------------\u001b[0m",
      "\u001b[0;31mNameError\u001b[0m                                 Traceback (most recent call last)",
      "\u001b[0;32m<ipython-input-174-6053831c2e17>\u001b[0m in \u001b[0;36m<module>\u001b[0;34m\u001b[0m\n\u001b[0;32m----> 1\u001b[0;31m \u001b[0mres2\u001b[0m\u001b[0;34m.\u001b[0m\u001b[0msummary\u001b[0m\u001b[0;34m(\u001b[0m\u001b[0;34m)\u001b[0m\u001b[0;34m\u001b[0m\u001b[0;34m\u001b[0m\u001b[0m\n\u001b[0m",
      "\u001b[0;31mNameError\u001b[0m: name 'res2' is not defined"
     ]
    }
   ],
   "source": [
    "res2.summary()"
   ]
  },
  {
   "cell_type": "code",
   "execution_count": 175,
   "metadata": {},
   "outputs": [
    {
     "ename": "NameError",
     "evalue": "name 'res' is not defined",
     "output_type": "error",
     "traceback": [
      "\u001b[0;31m---------------------------------------------------------------------------\u001b[0m",
      "\u001b[0;31mNameError\u001b[0m                                 Traceback (most recent call last)",
      "\u001b[0;32m<ipython-input-175-a6ed515e2925>\u001b[0m in \u001b[0;36m<module>\u001b[0;34m\u001b[0m\n\u001b[0;32m----> 1\u001b[0;31m \u001b[0mres\u001b[0m\u001b[0;34m.\u001b[0m\u001b[0mparams\u001b[0m\u001b[0;34m\u001b[0m\u001b[0;34m\u001b[0m\u001b[0m\n\u001b[0m",
      "\u001b[0;31mNameError\u001b[0m: name 'res' is not defined"
     ]
    }
   ],
   "source": [
    "res.params"
   ]
  },
  {
   "cell_type": "code",
   "execution_count": 176,
   "metadata": {},
   "outputs": [
    {
     "ename": "NameError",
     "evalue": "name 'mean_state_resps' is not defined",
     "output_type": "error",
     "traceback": [
      "\u001b[0;31m---------------------------------------------------------------------------\u001b[0m",
      "\u001b[0;31mNameError\u001b[0m                                 Traceback (most recent call last)",
      "\u001b[0;32m<ipython-input-176-e2c7fe698f3b>\u001b[0m in \u001b[0;36m<module>\u001b[0;34m\u001b[0m\n\u001b[0;32m----> 1\u001b[0;31m \u001b[0mmean_state_resps\u001b[0m\u001b[0;34m\u001b[0m\u001b[0;34m\u001b[0m\u001b[0m\n\u001b[0m",
      "\u001b[0;31mNameError\u001b[0m: name 'mean_state_resps' is not defined"
     ]
    }
   ],
   "source": [
    "mean_state_resps"
   ]
  },
  {
   "cell_type": "code",
   "execution_count": 177,
   "metadata": {},
   "outputs": [
    {
     "data": {
      "text/plain": [
       "(0, 1)"
      ]
     },
     "execution_count": 177,
     "metadata": {},
     "output_type": "execute_result"
    },
    {
     "data": {
      "image/png": "[encoded data removed]",
      "text/plain": [
       "<Figure size 432x288 with 1 Axes>"
      ]
     },
     "metadata": {},
     "output_type": "display_data"
    }
   ],
   "source": [
    "seaborn.distplot(firing_rate_maps.max(axis=(1,2)),kde=0,bins=np.linspace(0,10,num=50))\n",
    "plt.xlim(0,1)"
   ]
  },
  {
   "cell_type": "code",
   "execution_count": 178,
   "metadata": {},
   "outputs": [
    {
     "data": {
      "text/plain": [
       "(135, 9, 2)"
      ]
     },
     "execution_count": 178,
     "metadata": {},
     "output_type": "execute_result"
    }
   ],
   "source": [
    "firing_rate_maps.shape"
   ]
  },
  {
   "cell_type": "code",
   "execution_count": null,
   "metadata": {},
   "outputs": [],
   "source": []
  },
  {
   "cell_type": "code",
   "execution_count": 186,
   "metadata": {},
   "outputs": [
    {
     "ename": "IndexError",
     "evalue": "list index out of range",
     "output_type": "error",
     "traceback": [
      "\u001b[0;31m---------------------------------------------------------------------------\u001b[0m",
      "\u001b[0;31mIndexError\u001b[0m                                Traceback (most recent call last)",
      "\u001b[0;32m<ipython-input-186-9f02f18afd55>\u001b[0m in \u001b[0;36m<module>\u001b[0;34m\u001b[0m\n\u001b[1;32m      4\u001b[0m     \u001b[0mtmp\u001b[0m  \u001b[0;34m=\u001b[0m \u001b[0;34m[\u001b[0m\u001b[0;34m]\u001b[0m\u001b[0;34m\u001b[0m\u001b[0;34m\u001b[0m\u001b[0m\n\u001b[1;32m      5\u001b[0m     \u001b[0mtmp_pvals\u001b[0m \u001b[0;34m=\u001b[0m \u001b[0;34m[\u001b[0m\u001b[0;34m]\u001b[0m\u001b[0;34m\u001b[0m\u001b[0;34m\u001b[0m\u001b[0m\n\u001b[0;32m----> 6\u001b[0;31m     \u001b[0mfiring_rate_maps\u001b[0m\u001b[0;34m,\u001b[0m\u001b[0mtask_event_df\u001b[0m\u001b[0;34m,\u001b[0m\u001b[0mseq0\u001b[0m\u001b[0;34m,\u001b[0m\u001b[0mseq1\u001b[0m\u001b[0;34m,\u001b[0m\u001b[0mgraph_type0\u001b[0m\u001b[0;34m,\u001b[0m\u001b[0mgraph_type1\u001b[0m\u001b[0;34m,\u001b[0m \u001b[0;34m=\u001b[0m \u001b[0mload_data\u001b[0m\u001b[0;34m(\u001b[0m\u001b[0msess_ix\u001b[0m\u001b[0;34m)\u001b[0m\u001b[0;34m\u001b[0m\u001b[0;34m\u001b[0m\u001b[0m\n\u001b[0m\u001b[1;32m      7\u001b[0m     \u001b[0mmxs\u001b[0m \u001b[0;34m=\u001b[0m \u001b[0mfiring_rate_maps\u001b[0m\u001b[0;34m.\u001b[0m\u001b[0mmax\u001b[0m\u001b[0;34m(\u001b[0m\u001b[0maxis\u001b[0m\u001b[0;34m=\u001b[0m\u001b[0;34m(\u001b[0m\u001b[0;36m1\u001b[0m\u001b[0;34m,\u001b[0m\u001b[0;36m2\u001b[0m\u001b[0;34m)\u001b[0m\u001b[0;34m)\u001b[0m\u001b[0;34m\u001b[0m\u001b[0;34m\u001b[0m\u001b[0m\n\u001b[1;32m      8\u001b[0m     \u001b[0mfiring_rate_maps\u001b[0m \u001b[0;34m=\u001b[0m \u001b[0mfiring_rate_maps\u001b[0m \u001b[0;34m-\u001b[0m \u001b[0mnp\u001b[0m\u001b[0;34m.\u001b[0m\u001b[0mmean\u001b[0m\u001b[0;34m(\u001b[0m\u001b[0mfiring_rate_maps\u001b[0m\u001b[0;34m,\u001b[0m\u001b[0maxis\u001b[0m\u001b[0;34m=\u001b[0m\u001b[0;36m2\u001b[0m\u001b[0;34m)\u001b[0m\u001b[0;34m[\u001b[0m\u001b[0;34m:\u001b[0m\u001b[0;34m,\u001b[0m\u001b[0;34m:\u001b[0m\u001b[0;34m,\u001b[0m\u001b[0;32mNone\u001b[0m\u001b[0;34m]\u001b[0m\u001b[0;34m\u001b[0m\u001b[0;34m\u001b[0m\u001b[0m\n",
      "\u001b[0;32m<ipython-input-141-08031803bcd1>\u001b[0m in \u001b[0;36mload_data\u001b[0;34m(selected_session, by_dir)\u001b[0m\n\u001b[1;32m      6\u001b[0m     \u001b[0mall_data_dir\u001b[0m \u001b[0;34m=\u001b[0m \u001b[0;34m'/Users/yves/Desktop/retreat_data_dir/data/'\u001b[0m\u001b[0;34m\u001b[0m\u001b[0;34m\u001b[0m\u001b[0m\n\u001b[1;32m      7\u001b[0m     \u001b[0mall_data_folders\u001b[0m \u001b[0;34m=\u001b[0m \u001b[0msorted\u001b[0m\u001b[0;34m(\u001b[0m\u001b[0;34m[\u001b[0m\u001b[0mi\u001b[0m \u001b[0;32mfor\u001b[0m \u001b[0mi\u001b[0m \u001b[0;32min\u001b[0m \u001b[0mos\u001b[0m\u001b[0;34m.\u001b[0m\u001b[0mlistdir\u001b[0m\u001b[0;34m(\u001b[0m\u001b[0mall_data_dir\u001b[0m\u001b[0;34m)\u001b[0m \u001b[0;32mif\u001b[0m \u001b[0;34m'ks25'\u001b[0m \u001b[0;32min\u001b[0m \u001b[0mi\u001b[0m\u001b[0;34m]\u001b[0m\u001b[0;34m)\u001b[0m\u001b[0;34m\u001b[0m\u001b[0;34m\u001b[0m\u001b[0m\n\u001b[0;32m----> 8\u001b[0;31m     \u001b[0mroot_dir\u001b[0m \u001b[0;34m=\u001b[0m \u001b[0mos\u001b[0m\u001b[0;34m.\u001b[0m\u001b[0mpath\u001b[0m\u001b[0;34m.\u001b[0m\u001b[0mjoin\u001b[0m\u001b[0;34m(\u001b[0m\u001b[0mall_data_dir\u001b[0m\u001b[0;34m,\u001b[0m\u001b[0mall_data_folders\u001b[0m\u001b[0;34m[\u001b[0m\u001b[0mselected_session\u001b[0m\u001b[0;34m]\u001b[0m\u001b[0;34m)\u001b[0m\u001b[0;34m\u001b[0m\u001b[0;34m\u001b[0m\u001b[0m\n\u001b[0m\u001b[1;32m      9\u001b[0m     \u001b[0mspkT\u001b[0m \u001b[0;34m=\u001b[0m \u001b[0mnp\u001b[0m\u001b[0;34m.\u001b[0m\u001b[0mload\u001b[0m\u001b[0;34m(\u001b[0m\u001b[0mos\u001b[0m\u001b[0;34m.\u001b[0m\u001b[0mpath\u001b[0m\u001b[0;34m.\u001b[0m\u001b[0mjoin\u001b[0m\u001b[0;34m(\u001b[0m\u001b[0mroot_dir\u001b[0m\u001b[0;34m,\u001b[0m\u001b[0;34m'spkT_task.npy'\u001b[0m\u001b[0;34m)\u001b[0m\u001b[0;34m)\u001b[0m\u001b[0;34m\u001b[0m\u001b[0;34m\u001b[0m\u001b[0m\n\u001b[1;32m     10\u001b[0m \u001b[0;34m\u001b[0m\u001b[0m\n",
      "\u001b[0;31mIndexError\u001b[0m: list index out of range"
     ]
    }
   ],
   "source": [
    "all_beta = []\n",
    "all_pvals = []\n",
    "for sess_ix in range(9):\n",
    "    tmp  = []\n",
    "    tmp_pvals = []\n",
    "    firing_rate_maps,task_event_df,seq0,seq1,graph_type0,graph_type1, = load_data(sess_ix)\n",
    "    mxs = firing_rate_maps.max(axis=(1,2))\n",
    "    firing_rate_maps = firing_rate_maps - np.mean(firing_rate_maps,axis=2)[:,:,None]\n",
    "    firing_rate_maps = firing_rate_maps[mxs>.5]\n",
    "    mean_state_resps = firing_rate_maps.swapaxes(0,2)\n",
    "    mean_state_resps = (mean_state_resps - np.mean(mean_state_resps,axis=(0,1))[None,None,:])/np.std(mean_state_resps,axis=(0,1))[None,None,:]\n",
    "    mean_state_resps = np.nan_to_num(mean_state_resps)\n",
    "    #mean_state_resps = np.nanmean(mds_frm,axis=3).swapaxes(0,2)\n",
    "    if graph_type0=='loop': \n",
    "        task_1_distance = -loop_distance_matrix(seq0)\n",
    "    else: \n",
    "        task_1_distance =  -line_distance_matrix(seq0)\n",
    "    if graph_type1=='loop':\n",
    "        task_2_distance = -loop_distance_matrix(seq1)\n",
    "    else:\n",
    "        task_2_distance = -line_distance_matrix(seq1)\n",
    "\n",
    "    spatial_distance = -distance_matrix(poke_pos,poke_pos,p=1)\n",
    "    \n",
    "    msr0 = ((mean_state_resps[0] - np.mean(mean_state_resps[0],axis=0))/np.std(mean_state_resps[0],axis=0))\n",
    "    msr1 = ((mean_state_resps[1] - np.mean(mean_state_resps[1],axis=0))/np.std(mean_state_resps[1],axis=0))\n",
    "    task1_corrs = np.corrcoef(zscore2(msr0))\n",
    "    task2_corrs = np.corrcoef(zscore2(msr1))\n",
    "    \n",
    "    \n",
    "    #\n",
    "    X = np.vstack([np.ones_like(remove_diagonal(spatial_distance).flatten()),\n",
    "               zscore(remove_diagonal(spatial_distance).flatten()),\n",
    "               zscore(remove_diagonal(task_1_distance).flatten()),\n",
    "               zscore(remove_diagonal(task_2_distance).flatten())\n",
    "              ]).T\n",
    "    y = remove_diagonal(task1_corrs).flatten()\n",
    "    beta = np.linalg.inv(X.T@X)@X.T@y\n",
    "    res = sm.OLS(y,X,hasconst=True).fit()\n",
    "    \n",
    "    \n",
    "    tmp.append(beta.copy())\n",
    "    tmp_pvals.append(res.pvalues)\n",
    "    \n",
    "    y = remove_diagonal(task2_corrs).flatten()\n",
    "    beta = np.linalg.inv(X.T@X)@X.T@y\n",
    "    res = sm.OLS(y,X,hasconst=True).fit()\n",
    "    \n",
    "    tmp_pvals.append(res.pvalues)\n",
    "    tmp.append(beta.copy())\n",
    "    \n",
    "    all_beta.append(tmp)\n",
    "    all_pvals.append(tmp_pvals)\n",
    "    #assert np.allclose(beta,res.params)"
   ]
  },
  {
   "cell_type": "code",
   "execution_count": null,
   "metadata": {},
   "outputs": [],
   "source": []
  },
  {
   "cell_type": "code",
   "execution_count": null,
   "metadata": {},
   "outputs": [],
   "source": []
  },
  {
   "cell_type": "code",
   "execution_count": 187,
   "metadata": {},
   "outputs": [
    {
     "data": {
      "text/plain": [
       "array([[ 1.00000000e+00, -2.03072682e-01, -2.61567095e-01,\n",
       "        -4.61459395e-02, -1.43979643e-01, -1.26106529e-01,\n",
       "        -1.60365223e-01, -2.16540840e-01,  4.13453931e-03],\n",
       "       [-2.03072682e-01,  1.00000000e+00, -2.28529147e-01,\n",
       "         6.24784734e-02, -4.98076804e-02, -1.43389507e-01,\n",
       "         1.29150118e-01, -2.54946354e-01, -1.70235419e-01],\n",
       "       [-2.61567095e-01, -2.28529147e-01,  1.00000000e+00,\n",
       "        -1.65186783e-01, -6.46816604e-02, -6.00791070e-02,\n",
       "        -2.34515318e-01, -2.27666800e-03, -4.65553835e-02],\n",
       "       [-4.61459395e-02,  6.24784734e-02, -1.65186783e-01,\n",
       "         1.00000000e+00, -6.61725411e-02, -2.62254841e-01,\n",
       "         2.36962957e-04, -2.22247535e-01, -1.01900361e-01],\n",
       "       [-1.43979643e-01, -4.98076804e-02, -6.46816604e-02,\n",
       "        -6.61725411e-02,  1.00000000e+00, -1.60828174e-01,\n",
       "        -8.59938312e-02, -1.27370591e-01, -2.78537922e-01],\n",
       "       [-1.26106529e-01, -1.43389507e-01, -6.00791070e-02,\n",
       "        -2.62254841e-01, -1.60828174e-01,  1.00000000e+00,\n",
       "        -2.35384079e-01,  3.33815658e-02, -2.00077246e-01],\n",
       "       [-1.60365223e-01,  1.29150118e-01, -2.34515318e-01,\n",
       "         2.36962957e-04, -8.59938312e-02, -2.35384079e-01,\n",
       "         1.00000000e+00, -1.83380621e-01, -2.73130372e-02],\n",
       "       [-2.16540840e-01, -2.54946354e-01, -2.27666800e-03,\n",
       "        -2.22247535e-01, -1.27370591e-01,  3.33815658e-02,\n",
       "        -1.83380621e-01,  1.00000000e+00, -1.43839884e-01],\n",
       "       [ 4.13453931e-03, -1.70235419e-01, -4.65553835e-02,\n",
       "        -1.01900361e-01, -2.78537922e-01, -2.00077246e-01,\n",
       "        -2.73130372e-02, -1.43839884e-01,  1.00000000e+00]])"
      ]
     },
     "execution_count": 187,
     "metadata": {},
     "output_type": "execute_result"
    }
   ],
   "source": [
    "np.corrcoef(msr0)"
   ]
  },
  {
   "cell_type": "code",
   "execution_count": null,
   "metadata": {},
   "outputs": [],
   "source": []
  },
  {
   "cell_type": "code",
   "execution_count": 188,
   "metadata": {},
   "outputs": [
    {
     "data": {
      "image/png": "[encoded data removed]",
      "text/plain": [
       "<Figure size 432x288 with 2 Axes>"
      ]
     },
     "metadata": {},
     "output_type": "display_data"
    }
   ],
   "source": [
    "dta = task2_corrs.copy()\n",
    "dta[np.diag_indices_from(dta)] = 0\n",
    "plt.imshow(dta,cmap='RdBu_r')\n",
    "plt.xlabel(\"spatial index\")\n",
    "plt.xlabel(\"spatial index\")\n",
    "\n",
    "cbar = plt.colorbar()\n",
    "cbar.set_label(\"Correlation\")"
   ]
  },
  {
   "cell_type": "code",
   "execution_count": 198,
   "metadata": {},
   "outputs": [
    {
     "data": {
      "text/plain": [
       "(8, 2, 4)"
      ]
     },
     "execution_count": 198,
     "metadata": {},
     "output_type": "execute_result"
    }
   ],
   "source": [
    "np.array(all_pvals).shape"
   ]
  },
  {
   "cell_type": "code",
   "execution_count": 200,
   "metadata": {},
   "outputs": [
    {
     "data": {
      "image/png": "[encoded data removed]",
      "text/plain": [
       "<Figure size 864x288 with 2 Axes>"
      ]
     },
     "metadata": {},
     "output_type": "display_data"
    }
   ],
   "source": [
    "plt.figure(figsize=(12,4))\n",
    "plt.subplot(1,2,1)\n",
    "plt.title(\"Correct way around\")\n",
    "seaborn.distplot(np.array(all_pvals)[:,0,-2],kde=0,bins=np.linspace(0,1,num=50),label=r'$\\beta_{t1}$ in task1')\n",
    "seaborn.distplot(np.array(all_pvals)[:,0,-1],kde=0,bins=np.linspace(0,1,num=50),label=r'$\\beta_{t2}$ in task2')\n",
    "plt.axvline(x=0.05,dashes=(7,7),color='.3')\n",
    "plt.xlabel(\"p-value\")\n",
    "plt.ylabel(\"number of sessions\")\n",
    "plt.legend(loc=1)\n",
    "seaborn.despine()\n",
    "\n",
    "plt.subplot(1,2,2)\n",
    "plt.title(\"Wrong way around\")\n",
    "seaborn.distplot(np.array(all_pvals)[:,1,-1],kde=0,bins=np.linspace(0,1,num=50),label=r'$\\beta_{t2}$ in task1')\n",
    "seaborn.distplot(np.array(all_pvals)[:,1,-2],kde=0,bins=np.linspace(0,1,num=50),label=r'$\\beta_{t1}$ in task2')\n",
    "plt.axvline(x=0.05,dashes=(7,7),color='.3')\n",
    "plt.xlabel(\"p-value\")\n",
    "plt.ylabel(\"number of sessions\")\n",
    "plt.legend(loc=1)\n",
    "seaborn.despine()\n",
    "plt.tight_layout()"
   ]
  },
  {
   "cell_type": "code",
   "execution_count": null,
   "metadata": {},
   "outputs": [],
   "source": []
  },
  {
   "cell_type": "code",
   "execution_count": 191,
   "metadata": {},
   "outputs": [
    {
     "data": {
      "text/plain": [
       "(8, 2, 2)"
      ]
     },
     "execution_count": 191,
     "metadata": {},
     "output_type": "execute_result"
    }
   ],
   "source": [
    "np.array(all_pvals)[:,:,-2:].shape"
   ]
  },
  {
   "cell_type": "code",
   "execution_count": 192,
   "metadata": {},
   "outputs": [
    {
     "data": {
      "text/plain": [
       "array([1.49772745e-17, 4.00861318e-05, 7.61518461e-01, 4.81748078e-01])"
      ]
     },
     "execution_count": 192,
     "metadata": {},
     "output_type": "execute_result"
    }
   ],
   "source": [
    "res.pvalues"
   ]
  },
  {
   "cell_type": "code",
   "execution_count": 193,
   "metadata": {},
   "outputs": [],
   "source": [
    "#n_sessions x n_tasks x n_params\n",
    "all_beta = np.array(all_beta)"
   ]
  },
  {
   "cell_type": "code",
   "execution_count": 194,
   "metadata": {},
   "outputs": [
    {
     "data": {
      "image/png": "[encoded data removed]",
      "text/plain": [
       "<Figure size 432x288 with 1 Axes>"
      ]
     },
     "metadata": {},
     "output_type": "display_data"
    }
   ],
   "source": [
    "#n_sessions x n_tasks x n_params\n",
    "all_beta = np.array(all_beta)\n",
    "\n",
    "t1_m_t2_inT1 = (all_beta[:,0,-2] - all_beta[:,0,-1])\n",
    "t1_m_t2_inT2 = (all_beta[:,1,-1] - all_beta[:,1,-2])\n",
    "\n",
    "seaborn.distplot(t1_m_t2_inT1 + t1_m_t2_inT2,kde=0,bins=20)\n",
    "plt.xlabel(r\"Task1($\\beta_{t1}$ -$\\beta_{t2}$) + Task2($\\beta_{t2}$ -$\\beta_{t1}$)\")\n",
    "plt.ylabel(\"# of Sessions\")\n",
    "seaborn.despine()"
   ]
  },
  {
   "cell_type": "code",
   "execution_count": 48,
   "metadata": {},
   "outputs": [
    {
     "data": {
      "text/plain": [
       "<matplotlib.axes._subplots.AxesSubplot at 0x7fcf588e1b90>"
      ]
     },
     "execution_count": 48,
     "metadata": {},
     "output_type": "execute_result"
    },
    {
     "data": {
      "image/png": "[encoded data removed]",
      "text/plain": [
       "<Figure size 432x288 with 1 Axes>"
      ]
     },
     "metadata": {
      "needs_background": "light"
     },
     "output_type": "display_data"
    }
   ],
   "source": [
    "seaborn.distplot(t1_m_t2_inT1)\n",
    "seaborn.distplot(t1_m_t2_inT2)"
   ]
  },
  {
   "cell_type": "code",
   "execution_count": 49,
   "metadata": {},
   "outputs": [
    {
     "data": {
      "image/png": "[encoded data removed]",
      "text/plain": [
       "<Figure size 432x288 with 1 Axes>"
      ]
     },
     "metadata": {
      "needs_background": "light"
     },
     "output_type": "display_data"
    }
   ],
   "source": [
    "seaborn.distplot(t1_m_t2_inT1 + t1_m_t2_inT2,kde=0,bins=20)\n",
    "plt.xlabel(r\"Task1($\\beta_{t1}$ -$\\beta_{t2}$) + Task2($\\beta_{t2}$ -$\\beta_{t1}$)\")\n",
    "plt.ylabel(\"# of Sessions\")\n",
    "seaborn.despine()"
   ]
  },
  {
   "cell_type": "code",
   "execution_count": 50,
   "metadata": {},
   "outputs": [
    {
     "data": {
      "text/plain": [
       "Ttest_1sampResult(statistic=0.7445967465797968, pvalue=0.4807604377694731)"
      ]
     },
     "execution_count": 50,
     "metadata": {},
     "output_type": "execute_result"
    }
   ],
   "source": [
    "stt.ttest_1samp(t1_m_t2_inT1 + t1_m_t2_inT2,popmean=0)"
   ]
  },
  {
   "cell_type": "markdown",
   "metadata": {},
   "source": [
    "# RSA Task distance with direction"
   ]
  },
  {
   "cell_type": "code",
   "execution_count": 51,
   "metadata": {},
   "outputs": [
    {
     "ename": "NameError",
     "evalue": "name 'sp' is not defined",
     "output_type": "error",
     "traceback": [
      "\u001b[0;31m---------------------------------------------------------------------------\u001b[0m",
      "\u001b[0;31mNameError\u001b[0m                                 Traceback (most recent call last)",
      "\u001b[0;32m<ipython-input-51-c90fd1e1e50d>\u001b[0m in \u001b[0;36m<module>\u001b[0;34m\u001b[0m\n\u001b[0;32m----> 1\u001b[0;31m \u001b[0msp\u001b[0m\u001b[0;34m\u001b[0m\u001b[0;34m\u001b[0m\u001b[0m\n\u001b[0m",
      "\u001b[0;31mNameError\u001b[0m: name 'sp' is not defined"
     ]
    }
   ],
   "source": [
    "sp"
   ]
  },
  {
   "cell_type": "code",
   "execution_count": 52,
   "metadata": {},
   "outputs": [
    {
     "ename": "AxisError",
     "evalue": "axis 3 is out of bounds for array of dimension 3",
     "output_type": "error",
     "traceback": [
      "\u001b[0;31m---------------------------------------------------------------------------\u001b[0m",
      "\u001b[0;31mAxisError\u001b[0m                                 Traceback (most recent call last)",
      "\u001b[0;32m<ipython-input-52-dcab0d9e9255>\u001b[0m in \u001b[0;36m<module>\u001b[0;34m\u001b[0m\n\u001b[1;32m      1\u001b[0m \u001b[0;31m#firing_rate_maps,task_event_df,seq0,seq1,graph_type0,graph_type1, = load_data(0,by_dir=True)\u001b[0m\u001b[0;34m\u001b[0m\u001b[0;34m\u001b[0m\u001b[0;34m\u001b[0m\u001b[0m\n\u001b[0;32m----> 2\u001b[0;31m \u001b[0mspatial_map\u001b[0m  \u001b[0;34m=\u001b[0m \u001b[0mnp\u001b[0m\u001b[0;34m.\u001b[0m\u001b[0mnanmean\u001b[0m\u001b[0;34m(\u001b[0m\u001b[0mfiring_rate_maps\u001b[0m\u001b[0;34m,\u001b[0m\u001b[0maxis\u001b[0m\u001b[0;34m=\u001b[0m\u001b[0;34m(\u001b[0m\u001b[0;36m2\u001b[0m\u001b[0;34m,\u001b[0m\u001b[0;36m3\u001b[0m\u001b[0;34m)\u001b[0m\u001b[0;34m)\u001b[0m\u001b[0;34m\u001b[0m\u001b[0;34m\u001b[0m\u001b[0m\n\u001b[0m\u001b[1;32m      3\u001b[0m \u001b[0mmds_frm\u001b[0m \u001b[0;34m=\u001b[0m \u001b[0mfiring_rate_maps\u001b[0m \u001b[0;34m-\u001b[0m \u001b[0mspatial_map\u001b[0m\u001b[0;34m[\u001b[0m\u001b[0;34m:\u001b[0m\u001b[0;34m,\u001b[0m\u001b[0;34m:\u001b[0m\u001b[0;34m,\u001b[0m\u001b[0;32mNone\u001b[0m\u001b[0;34m,\u001b[0m\u001b[0;32mNone\u001b[0m\u001b[0;34m]\u001b[0m\u001b[0;34m\u001b[0m\u001b[0;34m\u001b[0m\u001b[0m\n\u001b[1;32m      4\u001b[0m \u001b[0;31m#valid_ix = np.where(~np.isnan(np.sum(firing_rate_maps,axis=(0,2,3))))[0]\u001b[0m\u001b[0;34m\u001b[0m\u001b[0;34m\u001b[0m\u001b[0;34m\u001b[0m\u001b[0m\n\u001b[1;32m      5\u001b[0m \u001b[0;31m#firing_rate_maps[:,int(port),int(task),dix]\u001b[0m\u001b[0;34m\u001b[0m\u001b[0;34m\u001b[0m\u001b[0;34m\u001b[0m\u001b[0m\n",
      "\u001b[0;32m<__array_function__ internals>\u001b[0m in \u001b[0;36mnanmean\u001b[0;34m(*args, **kwargs)\u001b[0m\n",
      "\u001b[0;32m~/opt/anaconda3/lib/python3.7/site-packages/numpy/lib/nanfunctions.py\u001b[0m in \u001b[0;36mnanmean\u001b[0;34m(a, axis, dtype, out, keepdims)\u001b[0m\n\u001b[1;32m    946\u001b[0m         \u001b[0;32mraise\u001b[0m \u001b[0mTypeError\u001b[0m\u001b[0;34m(\u001b[0m\u001b[0;34m\"If a is inexact, then out must be inexact\"\u001b[0m\u001b[0;34m)\u001b[0m\u001b[0;34m\u001b[0m\u001b[0;34m\u001b[0m\u001b[0m\n\u001b[1;32m    947\u001b[0m \u001b[0;34m\u001b[0m\u001b[0m\n\u001b[0;32m--> 948\u001b[0;31m     \u001b[0mcnt\u001b[0m \u001b[0;34m=\u001b[0m \u001b[0mnp\u001b[0m\u001b[0;34m.\u001b[0m\u001b[0msum\u001b[0m\u001b[0;34m(\u001b[0m\u001b[0;34m~\u001b[0m\u001b[0mmask\u001b[0m\u001b[0;34m,\u001b[0m \u001b[0maxis\u001b[0m\u001b[0;34m=\u001b[0m\u001b[0maxis\u001b[0m\u001b[0;34m,\u001b[0m \u001b[0mdtype\u001b[0m\u001b[0;34m=\u001b[0m\u001b[0mnp\u001b[0m\u001b[0;34m.\u001b[0m\u001b[0mintp\u001b[0m\u001b[0;34m,\u001b[0m \u001b[0mkeepdims\u001b[0m\u001b[0;34m=\u001b[0m\u001b[0mkeepdims\u001b[0m\u001b[0;34m)\u001b[0m\u001b[0;34m\u001b[0m\u001b[0;34m\u001b[0m\u001b[0m\n\u001b[0m\u001b[1;32m    949\u001b[0m     \u001b[0mtot\u001b[0m \u001b[0;34m=\u001b[0m \u001b[0mnp\u001b[0m\u001b[0;34m.\u001b[0m\u001b[0msum\u001b[0m\u001b[0;34m(\u001b[0m\u001b[0marr\u001b[0m\u001b[0;34m,\u001b[0m \u001b[0maxis\u001b[0m\u001b[0;34m=\u001b[0m\u001b[0maxis\u001b[0m\u001b[0;34m,\u001b[0m \u001b[0mdtype\u001b[0m\u001b[0;34m=\u001b[0m\u001b[0mdtype\u001b[0m\u001b[0;34m,\u001b[0m \u001b[0mout\u001b[0m\u001b[0;34m=\u001b[0m\u001b[0mout\u001b[0m\u001b[0;34m,\u001b[0m \u001b[0mkeepdims\u001b[0m\u001b[0;34m=\u001b[0m\u001b[0mkeepdims\u001b[0m\u001b[0;34m)\u001b[0m\u001b[0;34m\u001b[0m\u001b[0;34m\u001b[0m\u001b[0m\n\u001b[1;32m    950\u001b[0m     \u001b[0mavg\u001b[0m \u001b[0;34m=\u001b[0m \u001b[0m_divide_by_count\u001b[0m\u001b[0;34m(\u001b[0m\u001b[0mtot\u001b[0m\u001b[0;34m,\u001b[0m \u001b[0mcnt\u001b[0m\u001b[0;34m,\u001b[0m \u001b[0mout\u001b[0m\u001b[0;34m=\u001b[0m\u001b[0mout\u001b[0m\u001b[0;34m)\u001b[0m\u001b[0;34m\u001b[0m\u001b[0;34m\u001b[0m\u001b[0m\n",
      "\u001b[0;32m<__array_function__ internals>\u001b[0m in \u001b[0;36msum\u001b[0;34m(*args, **kwargs)\u001b[0m\n",
      "\u001b[0;32m~/opt/anaconda3/lib/python3.7/site-packages/numpy/core/fromnumeric.py\u001b[0m in \u001b[0;36msum\u001b[0;34m(a, axis, dtype, out, keepdims, initial, where)\u001b[0m\n\u001b[1;32m   2240\u001b[0m \u001b[0;34m\u001b[0m\u001b[0m\n\u001b[1;32m   2241\u001b[0m     return _wrapreduction(a, np.add, 'sum', axis, dtype, out, keepdims=keepdims,\n\u001b[0;32m-> 2242\u001b[0;31m                           initial=initial, where=where)\n\u001b[0m\u001b[1;32m   2243\u001b[0m \u001b[0;34m\u001b[0m\u001b[0m\n\u001b[1;32m   2244\u001b[0m \u001b[0;34m\u001b[0m\u001b[0m\n",
      "\u001b[0;32m~/opt/anaconda3/lib/python3.7/site-packages/numpy/core/fromnumeric.py\u001b[0m in \u001b[0;36m_wrapreduction\u001b[0;34m(obj, ufunc, method, axis, dtype, out, **kwargs)\u001b[0m\n\u001b[1;32m     85\u001b[0m                 \u001b[0;32mreturn\u001b[0m \u001b[0mreduction\u001b[0m\u001b[0;34m(\u001b[0m\u001b[0maxis\u001b[0m\u001b[0;34m=\u001b[0m\u001b[0maxis\u001b[0m\u001b[0;34m,\u001b[0m \u001b[0mout\u001b[0m\u001b[0;34m=\u001b[0m\u001b[0mout\u001b[0m\u001b[0;34m,\u001b[0m \u001b[0;34m**\u001b[0m\u001b[0mpasskwargs\u001b[0m\u001b[0;34m)\u001b[0m\u001b[0;34m\u001b[0m\u001b[0;34m\u001b[0m\u001b[0m\n\u001b[1;32m     86\u001b[0m \u001b[0;34m\u001b[0m\u001b[0m\n\u001b[0;32m---> 87\u001b[0;31m     \u001b[0;32mreturn\u001b[0m \u001b[0mufunc\u001b[0m\u001b[0;34m.\u001b[0m\u001b[0mreduce\u001b[0m\u001b[0;34m(\u001b[0m\u001b[0mobj\u001b[0m\u001b[0;34m,\u001b[0m \u001b[0maxis\u001b[0m\u001b[0;34m,\u001b[0m \u001b[0mdtype\u001b[0m\u001b[0;34m,\u001b[0m \u001b[0mout\u001b[0m\u001b[0;34m,\u001b[0m \u001b[0;34m**\u001b[0m\u001b[0mpasskwargs\u001b[0m\u001b[0;34m)\u001b[0m\u001b[0;34m\u001b[0m\u001b[0;34m\u001b[0m\u001b[0m\n\u001b[0m\u001b[1;32m     88\u001b[0m \u001b[0;34m\u001b[0m\u001b[0m\n\u001b[1;32m     89\u001b[0m \u001b[0;34m\u001b[0m\u001b[0m\n",
      "\u001b[0;31mAxisError\u001b[0m: axis 3 is out of bounds for array of dimension 3"
     ]
    }
   ],
   "source": [
    "\n",
    "#firing_rate_maps,task_event_df,seq0,seq1,graph_type0,graph_type1, = load_data(0,by_dir=True)\n",
    "spatial_map  = np.nanmean(firing_rate_maps,axis=(2,3))\n",
    "mds_frm = firing_rate_maps - spatial_map[:,:,None,None]\n",
    "#valid_ix = np.where(~np.isnan(np.sum(firing_rate_maps,axis=(0,2,3))))[0]\n",
    "#firing_rate_maps[:,int(port),int(task),dix]\n",
    "frm = np.hstack([mds_frm[:,seq0,0,0],mds_frm[:,seq0,0,1],mds_frm[:,seq1,1,0],mds_frm[:,seq1,1,1]])"
   ]
  },
  {
   "cell_type": "code",
   "execution_count": 53,
   "metadata": {},
   "outputs": [
    {
     "ename": "IndexError",
     "evalue": "too many indices for array: array is 3-dimensional, but 4 were indexed",
     "output_type": "error",
     "traceback": [
      "\u001b[0;31m---------------------------------------------------------------------------\u001b[0m",
      "\u001b[0;31mIndexError\u001b[0m                                Traceback (most recent call last)",
      "\u001b[0;32m<ipython-input-53-fa5e7efb64e9>\u001b[0m in \u001b[0;36m<module>\u001b[0;34m\u001b[0m\n\u001b[0;32m----> 1\u001b[0;31m \u001b[0mfrm\u001b[0m \u001b[0;34m=\u001b[0m \u001b[0mnp\u001b[0m\u001b[0;34m.\u001b[0m\u001b[0mhstack\u001b[0m\u001b[0;34m(\u001b[0m\u001b[0;34m[\u001b[0m\u001b[0mmds_frm\u001b[0m\u001b[0;34m[\u001b[0m\u001b[0;34m:\u001b[0m\u001b[0;34m,\u001b[0m\u001b[0mseq0\u001b[0m\u001b[0;34m,\u001b[0m\u001b[0;36m0\u001b[0m\u001b[0;34m,\u001b[0m\u001b[0;36m0\u001b[0m\u001b[0;34m]\u001b[0m\u001b[0;34m,\u001b[0m\u001b[0mmds_frm\u001b[0m\u001b[0;34m[\u001b[0m\u001b[0;34m:\u001b[0m\u001b[0;34m,\u001b[0m\u001b[0mseq0\u001b[0m\u001b[0;34m,\u001b[0m\u001b[0;36m0\u001b[0m\u001b[0;34m,\u001b[0m\u001b[0;36m1\u001b[0m\u001b[0;34m]\u001b[0m\u001b[0;34m,\u001b[0m\u001b[0mmds_frm\u001b[0m\u001b[0;34m[\u001b[0m\u001b[0;34m:\u001b[0m\u001b[0;34m,\u001b[0m\u001b[0mseq1\u001b[0m\u001b[0;34m,\u001b[0m\u001b[0;36m1\u001b[0m\u001b[0;34m,\u001b[0m\u001b[0;36m0\u001b[0m\u001b[0;34m]\u001b[0m\u001b[0;34m,\u001b[0m\u001b[0mmds_frm\u001b[0m\u001b[0;34m[\u001b[0m\u001b[0;34m:\u001b[0m\u001b[0;34m,\u001b[0m\u001b[0mseq1\u001b[0m\u001b[0;34m,\u001b[0m\u001b[0;36m1\u001b[0m\u001b[0;34m,\u001b[0m\u001b[0;36m1\u001b[0m\u001b[0;34m]\u001b[0m\u001b[0;34m]\u001b[0m\u001b[0;34m)\u001b[0m\u001b[0;34m\u001b[0m\u001b[0;34m\u001b[0m\u001b[0m\n\u001b[0m\u001b[1;32m      2\u001b[0m \u001b[0mfrm_t1\u001b[0m \u001b[0;34m=\u001b[0m \u001b[0mfrm\u001b[0m\u001b[0;34m[\u001b[0m\u001b[0;34m:\u001b[0m\u001b[0;34m,\u001b[0m\u001b[0;34m:\u001b[0m\u001b[0;36m18\u001b[0m\u001b[0;34m]\u001b[0m\u001b[0;34m\u001b[0m\u001b[0;34m\u001b[0m\u001b[0m\n\u001b[1;32m      3\u001b[0m \u001b[0mfrm_t2\u001b[0m \u001b[0;34m=\u001b[0m \u001b[0mfrm\u001b[0m\u001b[0;34m[\u001b[0m\u001b[0;34m:\u001b[0m\u001b[0;34m,\u001b[0m\u001b[0;36m18\u001b[0m\u001b[0;34m:\u001b[0m\u001b[0;34m]\u001b[0m\u001b[0;34m\u001b[0m\u001b[0;34m\u001b[0m\u001b[0m\n",
      "\u001b[0;31mIndexError\u001b[0m: too many indices for array: array is 3-dimensional, but 4 were indexed"
     ]
    }
   ],
   "source": [
    "frm = np.hstack([mds_frm[:,seq0,0,0],mds_frm[:,seq0,0,1],mds_frm[:,seq1,1,0],mds_frm[:,seq1,1,1]])\n",
    "frm_t1 = frm[:,:18]\n",
    "frm_t2 = frm[:,18:]"
   ]
  },
  {
   "cell_type": "code",
   "execution_count": 54,
   "metadata": {},
   "outputs": [],
   "source": [
    "#this constructs the appropriate things if everything is ordered correctly according to states\n",
    "\n",
    "T = np.zeros([18,18])\n",
    "for i in range(9):\n",
    "    T[i,(i+1)%9] = .95\n",
    "    T[i,9+(i-1)%9] =0.05\n",
    "    \n",
    "for i in range(9,18):\n",
    "    T[i,(i+1)%9] = .05\n",
    "    T[i,9+(i-1)%9] =0.95"
   ]
  },
  {
   "cell_type": "code",
   "execution_count": null,
   "metadata": {},
   "outputs": [],
   "source": []
  },
  {
   "cell_type": "code",
   "execution_count": 55,
   "metadata": {},
   "outputs": [],
   "source": [
    "# def get_C_line_task(seq0,p=0.95):\n",
    "#     \"\"\" Finish this requires updating the edges of the line\"\"\"\n",
    "#     T1 = np.zeros([18,18])\n",
    "#     for i in range(9):\n",
    "#         T1[seq0[i],seq0[(i+1)%9]] = p\n",
    "#         T1[seq0[i],9+seq0[(i-1)%9]] = 1-p\n",
    "\n",
    "#     for i in range(9,18):\n",
    "#         T1[seq0[i%9]+9,seq0[(i+1)%9]] = 1-p\n",
    "#         T1[seq0[i%9]+9,9+seq0[(i-1)%9]] = p\n",
    "\n",
    "        \n",
    "# # !!!!!!!!!!!!!!!!!!!!!!!!!!!!!!!!\n",
    "# # !!!!!!!!!!!!!!!!!!!!!!!!!!!!!!!!\n",
    "# # !!!!!!!!!!!!!!!!!!!!!!!!!!!!!!!!\n",
    "# # !!!!!!!!!!!!!!!!!!!!!!!!!!!!!!!!\n",
    "#     T1[0] = 0; T1[0,1] = 1  #going to the right in state 0 will go to 1\n",
    "#     T1[8] = 0; T1[8,-1] = 1   #going to the right in state 9 will go to state 8\n",
    "#     T1[9] = 0; T1[9,1] = 1    #going to the left in state 0 will go to state 1\n",
    "#     T1[-1] = 0; T1[-1,-1] = 1       #going to the left in state \n",
    "    \n",
    "#     task_1_distance = -np.log(expm(T1))\n",
    "#     return T1, task_1_distance"
   ]
  },
  {
   "cell_type": "code",
   "execution_count": 56,
   "metadata": {},
   "outputs": [],
   "source": [
    "def get_C_loop_task(seq0,p=0.95):\n",
    "    \"\"\"p is the probability of continueing in the same direction\"\"\"\n",
    "    #this constructs the appropriate things if everything is ordered correctly according to states\n",
    "\n",
    "    T1 = np.zeros([18,18])\n",
    "    for i in range(9):\n",
    "        T1[seq0[i],seq0[(i+1)%9]] = p\n",
    "        T1[seq0[i],9+seq0[(i-1)%9]] = 1-p\n",
    "\n",
    "    for i in range(9,18):\n",
    "        T1[seq0[i%9]+9,seq0[(i+1)%9]] = 1-p\n",
    "        T1[seq0[i%9]+9,9+seq0[(i-1)%9]] = p\n",
    "\n",
    "    task_1_distance = -np.log(expm(T1))\n",
    "    #task_1_distance = np.linalg.pinv(np.eye(len(T1)) - 0.1  * T1)\n",
    "    return T1, task_1_distance"
   ]
  },
  {
   "cell_type": "code",
   "execution_count": 57,
   "metadata": {},
   "outputs": [],
   "source": [
    "def get_C_line_task(seq0,p=0.95):\n",
    "    \"\"\" Finish this requires updating the edges of the line\"\"\"\n",
    "    T1 = np.zeros([18,18])\n",
    "    for i in range(9):\n",
    "        T1[seq0[i],seq0[(i+1)%9]] = p\n",
    "        T1[seq0[i],9+seq0[(i-1)%9]] = 1-p\n",
    "\n",
    "    for i in range(9,18):\n",
    "        T1[seq0[i%9]+9,seq0[(i+1)%9]] = 1-p\n",
    "        T1[seq0[i%9]+9,9+seq0[(i-1)%9]] = p\n",
    "\n",
    "        \n",
    "\n",
    "    T1[seq0[0]] = 0; T1[seq0[0],seq0[1]] = 1  #going to the right in state 0 will go to 1\n",
    "    T1[seq0[8]] = 0; T1[seq0[8],seq0[-1]+9] = 1   #going to the right in state 9 will go to state 8\n",
    "    T1[seq0[9%9]+9] = 0; T1[seq0[9%9]+9,seq0[0]] = 1    #going to the left in state 0 will go to state 1\n",
    "    T1[seq0[-1]+9] = 0; T1[seq0[-1]+9,seq0[-2]+9] = 1       #going to the left in state \n",
    "    \n",
    "    task_1_distance = -np.log(expm(T1))\n",
    "    #evals,evecs = np.linalg.eig(T1)\n",
    "    #mx = np.max(np.abs(evals))\n",
    "    #task_1_distance = (evecs@(evals_mtx**50)@np.linalg.inv(evecs)).real\n",
    "    #task_1_distance = np.linalg.pinv(np.eye(len(T1)) - 0.1  * T1)\n",
    "    return T1, task_1_distance"
   ]
  },
  {
   "cell_type": "code",
   "execution_count": 58,
   "metadata": {},
   "outputs": [
    {
     "data": {
      "text/plain": [
       "array([0, 2, 4, 3, 6, 8, 7, 1, 5])"
      ]
     },
     "execution_count": 58,
     "metadata": {},
     "output_type": "execute_result"
    }
   ],
   "source": [
    "seq0"
   ]
  },
  {
   "cell_type": "code",
   "execution_count": 59,
   "metadata": {},
   "outputs": [
    {
     "ename": "NameError",
     "evalue": "name 'T1' is not defined",
     "output_type": "error",
     "traceback": [
      "\u001b[0;31m---------------------------------------------------------------------------\u001b[0m",
      "\u001b[0;31mNameError\u001b[0m                                 Traceback (most recent call last)",
      "\u001b[0;32m<ipython-input-59-28003c5830c4>\u001b[0m in \u001b[0;36m<module>\u001b[0;34m\u001b[0m\n\u001b[0;32m----> 1\u001b[0;31m \u001b[0mT1\u001b[0m\u001b[0;34m[\u001b[0m\u001b[0;36m0\u001b[0m\u001b[0;34m]\u001b[0m\u001b[0;34m\u001b[0m\u001b[0;34m\u001b[0m\u001b[0m\n\u001b[0m",
      "\u001b[0;31mNameError\u001b[0m: name 'T1' is not defined"
     ]
    }
   ],
   "source": [
    "T1[0]"
   ]
  },
  {
   "cell_type": "code",
   "execution_count": 60,
   "metadata": {},
   "outputs": [
    {
     "ename": "NameError",
     "evalue": "name 'expm' is not defined",
     "output_type": "error",
     "traceback": [
      "\u001b[0;31m---------------------------------------------------------------------------\u001b[0m",
      "\u001b[0;31mNameError\u001b[0m                                 Traceback (most recent call last)",
      "\u001b[0;32m<ipython-input-60-eb70e06c3ec9>\u001b[0m in \u001b[0;36m<module>\u001b[0;34m\u001b[0m\n\u001b[0;32m----> 1\u001b[0;31m \u001b[0mT1\u001b[0m\u001b[0;34m,\u001b[0m\u001b[0mC1\u001b[0m \u001b[0;34m=\u001b[0m \u001b[0mget_C_line_task\u001b[0m\u001b[0;34m(\u001b[0m\u001b[0mnp\u001b[0m\u001b[0;34m.\u001b[0m\u001b[0marange\u001b[0m\u001b[0;34m(\u001b[0m\u001b[0;36m9\u001b[0m\u001b[0;34m)\u001b[0m\u001b[0;34m)\u001b[0m\u001b[0;34m\u001b[0m\u001b[0;34m\u001b[0m\u001b[0m\n\u001b[0m\u001b[1;32m      2\u001b[0m \u001b[0mplt\u001b[0m\u001b[0;34m.\u001b[0m\u001b[0mimshow\u001b[0m\u001b[0;34m(\u001b[0m\u001b[0mnp\u001b[0m\u001b[0;34m.\u001b[0m\u001b[0mlinalg\u001b[0m\u001b[0;34m.\u001b[0m\u001b[0minv\u001b[0m\u001b[0;34m(\u001b[0m\u001b[0mnp\u001b[0m\u001b[0;34m.\u001b[0m\u001b[0meye\u001b[0m\u001b[0;34m(\u001b[0m\u001b[0mlen\u001b[0m\u001b[0;34m(\u001b[0m\u001b[0mT1\u001b[0m\u001b[0;34m)\u001b[0m\u001b[0;34m)\u001b[0m\u001b[0;34m-\u001b[0m \u001b[0;36m.4\u001b[0m\u001b[0;34m*\u001b[0m\u001b[0mT1\u001b[0m\u001b[0;34m)\u001b[0m\u001b[0;34m)\u001b[0m\u001b[0;34m\u001b[0m\u001b[0;34m\u001b[0m\u001b[0m\n\u001b[1;32m      3\u001b[0m \u001b[0mplt\u001b[0m\u001b[0;34m.\u001b[0m\u001b[0mgrid\u001b[0m\u001b[0;34m(\u001b[0m\u001b[0;34m)\u001b[0m\u001b[0;34m\u001b[0m\u001b[0;34m\u001b[0m\u001b[0m\n\u001b[1;32m      4\u001b[0m \u001b[0mplt\u001b[0m\u001b[0;34m.\u001b[0m\u001b[0mcolorbar\u001b[0m\u001b[0;34m(\u001b[0m\u001b[0;34m)\u001b[0m\u001b[0;34m\u001b[0m\u001b[0;34m\u001b[0m\u001b[0m\n",
      "\u001b[0;32m<ipython-input-57-6813d877385a>\u001b[0m in \u001b[0;36mget_C_line_task\u001b[0;34m(seq0, p)\u001b[0m\n\u001b[1;32m     17\u001b[0m     \u001b[0mT1\u001b[0m\u001b[0;34m[\u001b[0m\u001b[0mseq0\u001b[0m\u001b[0;34m[\u001b[0m\u001b[0;34m-\u001b[0m\u001b[0;36m1\u001b[0m\u001b[0;34m]\u001b[0m\u001b[0;34m+\u001b[0m\u001b[0;36m9\u001b[0m\u001b[0;34m]\u001b[0m \u001b[0;34m=\u001b[0m \u001b[0;36m0\u001b[0m\u001b[0;34m;\u001b[0m \u001b[0mT1\u001b[0m\u001b[0;34m[\u001b[0m\u001b[0mseq0\u001b[0m\u001b[0;34m[\u001b[0m\u001b[0;34m-\u001b[0m\u001b[0;36m1\u001b[0m\u001b[0;34m]\u001b[0m\u001b[0;34m+\u001b[0m\u001b[0;36m9\u001b[0m\u001b[0;34m,\u001b[0m\u001b[0mseq0\u001b[0m\u001b[0;34m[\u001b[0m\u001b[0;34m-\u001b[0m\u001b[0;36m2\u001b[0m\u001b[0;34m]\u001b[0m\u001b[0;34m+\u001b[0m\u001b[0;36m9\u001b[0m\u001b[0;34m]\u001b[0m \u001b[0;34m=\u001b[0m \u001b[0;36m1\u001b[0m       \u001b[0;31m#going to the left in state\u001b[0m\u001b[0;34m\u001b[0m\u001b[0;34m\u001b[0m\u001b[0m\n\u001b[1;32m     18\u001b[0m \u001b[0;34m\u001b[0m\u001b[0m\n\u001b[0;32m---> 19\u001b[0;31m     \u001b[0mtask_1_distance\u001b[0m \u001b[0;34m=\u001b[0m \u001b[0;34m-\u001b[0m\u001b[0mnp\u001b[0m\u001b[0;34m.\u001b[0m\u001b[0mlog\u001b[0m\u001b[0;34m(\u001b[0m\u001b[0mexpm\u001b[0m\u001b[0;34m(\u001b[0m\u001b[0mT1\u001b[0m\u001b[0;34m)\u001b[0m\u001b[0;34m)\u001b[0m\u001b[0;34m\u001b[0m\u001b[0;34m\u001b[0m\u001b[0m\n\u001b[0m\u001b[1;32m     20\u001b[0m     \u001b[0;31m#evals,evecs = np.linalg.eig(T1)\u001b[0m\u001b[0;34m\u001b[0m\u001b[0;34m\u001b[0m\u001b[0;34m\u001b[0m\u001b[0m\n\u001b[1;32m     21\u001b[0m     \u001b[0;31m#mx = np.max(np.abs(evals))\u001b[0m\u001b[0;34m\u001b[0m\u001b[0;34m\u001b[0m\u001b[0;34m\u001b[0m\u001b[0m\n",
      "\u001b[0;31mNameError\u001b[0m: name 'expm' is not defined"
     ]
    }
   ],
   "source": [
    "T1,C1 = get_C_line_task(np.arange(9))\n",
    "plt.imshow(np.linalg.inv(np.eye(len(T1))- .4*T1))\n",
    "plt.grid()\n",
    "plt.colorbar()"
   ]
  },
  {
   "cell_type": "code",
   "execution_count": 61,
   "metadata": {},
   "outputs": [
    {
     "ename": "NameError",
     "evalue": "name 'C1' is not defined",
     "output_type": "error",
     "traceback": [
      "\u001b[0;31m---------------------------------------------------------------------------\u001b[0m",
      "\u001b[0;31mNameError\u001b[0m                                 Traceback (most recent call last)",
      "\u001b[0;32m<ipython-input-61-6e625c4ad94b>\u001b[0m in \u001b[0;36m<module>\u001b[0;34m\u001b[0m\n\u001b[0;32m----> 1\u001b[0;31m \u001b[0mplt\u001b[0m\u001b[0;34m.\u001b[0m\u001b[0mimshow\u001b[0m\u001b[0;34m(\u001b[0m\u001b[0;34m-\u001b[0m\u001b[0mC1\u001b[0m\u001b[0;34m)\u001b[0m\u001b[0;34m\u001b[0m\u001b[0;34m\u001b[0m\u001b[0m\n\u001b[0m",
      "\u001b[0;31mNameError\u001b[0m: name 'C1' is not defined"
     ]
    }
   ],
   "source": [
    "plt.imshow(-C1)"
   ]
  },
  {
   "cell_type": "code",
   "execution_count": 62,
   "metadata": {},
   "outputs": [
    {
     "ename": "NameError",
     "evalue": "name 'T1' is not defined",
     "output_type": "error",
     "traceback": [
      "\u001b[0;31m---------------------------------------------------------------------------\u001b[0m",
      "\u001b[0;31mNameError\u001b[0m                                 Traceback (most recent call last)",
      "\u001b[0;32m<ipython-input-62-28003c5830c4>\u001b[0m in \u001b[0;36m<module>\u001b[0;34m\u001b[0m\n\u001b[0;32m----> 1\u001b[0;31m \u001b[0mT1\u001b[0m\u001b[0;34m[\u001b[0m\u001b[0;36m0\u001b[0m\u001b[0;34m]\u001b[0m\u001b[0;34m\u001b[0m\u001b[0;34m\u001b[0m\u001b[0m\n\u001b[0m",
      "\u001b[0;31mNameError\u001b[0m: name 'T1' is not defined"
     ]
    }
   ],
   "source": [
    "T1[0]"
   ]
  },
  {
   "cell_type": "code",
   "execution_count": 63,
   "metadata": {},
   "outputs": [
    {
     "ename": "NameError",
     "evalue": "name 'expm' is not defined",
     "output_type": "error",
     "traceback": [
      "\u001b[0;31m---------------------------------------------------------------------------\u001b[0m",
      "\u001b[0;31mNameError\u001b[0m                                 Traceback (most recent call last)",
      "\u001b[0;32m<ipython-input-63-e93fd39c6c4b>\u001b[0m in \u001b[0;36m<module>\u001b[0;34m\u001b[0m\n\u001b[0;32m----> 1\u001b[0;31m \u001b[0mT1\u001b[0m\u001b[0;34m,\u001b[0m\u001b[0mC1\u001b[0m \u001b[0;34m=\u001b[0m \u001b[0mget_C_line_task\u001b[0m\u001b[0;34m(\u001b[0m\u001b[0mseq0\u001b[0m\u001b[0;34m)\u001b[0m\u001b[0;34m\u001b[0m\u001b[0;34m\u001b[0m\u001b[0m\n\u001b[0m",
      "\u001b[0;32m<ipython-input-57-6813d877385a>\u001b[0m in \u001b[0;36mget_C_line_task\u001b[0;34m(seq0, p)\u001b[0m\n\u001b[1;32m     17\u001b[0m     \u001b[0mT1\u001b[0m\u001b[0;34m[\u001b[0m\u001b[0mseq0\u001b[0m\u001b[0;34m[\u001b[0m\u001b[0;34m-\u001b[0m\u001b[0;36m1\u001b[0m\u001b[0;34m]\u001b[0m\u001b[0;34m+\u001b[0m\u001b[0;36m9\u001b[0m\u001b[0;34m]\u001b[0m \u001b[0;34m=\u001b[0m \u001b[0;36m0\u001b[0m\u001b[0;34m;\u001b[0m \u001b[0mT1\u001b[0m\u001b[0;34m[\u001b[0m\u001b[0mseq0\u001b[0m\u001b[0;34m[\u001b[0m\u001b[0;34m-\u001b[0m\u001b[0;36m1\u001b[0m\u001b[0;34m]\u001b[0m\u001b[0;34m+\u001b[0m\u001b[0;36m9\u001b[0m\u001b[0;34m,\u001b[0m\u001b[0mseq0\u001b[0m\u001b[0;34m[\u001b[0m\u001b[0;34m-\u001b[0m\u001b[0;36m2\u001b[0m\u001b[0;34m]\u001b[0m\u001b[0;34m+\u001b[0m\u001b[0;36m9\u001b[0m\u001b[0;34m]\u001b[0m \u001b[0;34m=\u001b[0m \u001b[0;36m1\u001b[0m       \u001b[0;31m#going to the left in state\u001b[0m\u001b[0;34m\u001b[0m\u001b[0;34m\u001b[0m\u001b[0m\n\u001b[1;32m     18\u001b[0m \u001b[0;34m\u001b[0m\u001b[0m\n\u001b[0;32m---> 19\u001b[0;31m     \u001b[0mtask_1_distance\u001b[0m \u001b[0;34m=\u001b[0m \u001b[0;34m-\u001b[0m\u001b[0mnp\u001b[0m\u001b[0;34m.\u001b[0m\u001b[0mlog\u001b[0m\u001b[0;34m(\u001b[0m\u001b[0mexpm\u001b[0m\u001b[0;34m(\u001b[0m\u001b[0mT1\u001b[0m\u001b[0;34m)\u001b[0m\u001b[0;34m)\u001b[0m\u001b[0;34m\u001b[0m\u001b[0;34m\u001b[0m\u001b[0m\n\u001b[0m\u001b[1;32m     20\u001b[0m     \u001b[0;31m#evals,evecs = np.linalg.eig(T1)\u001b[0m\u001b[0;34m\u001b[0m\u001b[0;34m\u001b[0m\u001b[0;34m\u001b[0m\u001b[0m\n\u001b[1;32m     21\u001b[0m     \u001b[0;31m#mx = np.max(np.abs(evals))\u001b[0m\u001b[0;34m\u001b[0m\u001b[0;34m\u001b[0m\u001b[0;34m\u001b[0m\u001b[0m\n",
      "\u001b[0;31mNameError\u001b[0m: name 'expm' is not defined"
     ]
    }
   ],
   "source": [
    "T1,C1 = get_C_line_task(seq0)"
   ]
  },
  {
   "cell_type": "code",
   "execution_count": 64,
   "metadata": {},
   "outputs": [
    {
     "ename": "NameError",
     "evalue": "name 'T1' is not defined",
     "output_type": "error",
     "traceback": [
      "\u001b[0;31m---------------------------------------------------------------------------\u001b[0m",
      "\u001b[0;31mNameError\u001b[0m                                 Traceback (most recent call last)",
      "\u001b[0;32m<ipython-input-64-751879a98eba>\u001b[0m in \u001b[0;36m<module>\u001b[0;34m\u001b[0m\n\u001b[0;32m----> 1\u001b[0;31m \u001b[0mevals\u001b[0m\u001b[0;34m,\u001b[0m\u001b[0mevecs\u001b[0m \u001b[0;34m=\u001b[0m \u001b[0mnp\u001b[0m\u001b[0;34m.\u001b[0m\u001b[0mlinalg\u001b[0m\u001b[0;34m.\u001b[0m\u001b[0meig\u001b[0m\u001b[0;34m(\u001b[0m\u001b[0mT1\u001b[0m\u001b[0;34m)\u001b[0m\u001b[0;34m\u001b[0m\u001b[0;34m\u001b[0m\u001b[0m\n\u001b[0m\u001b[1;32m      2\u001b[0m \u001b[0moo\u001b[0m \u001b[0;34m=\u001b[0m \u001b[0;34m(\u001b[0m\u001b[0mevecs\u001b[0m\u001b[0;34m@\u001b[0m\u001b[0;34m(\u001b[0m\u001b[0mevals_mtx\u001b[0m\u001b[0;34m**\u001b[0m\u001b[0;36m50\u001b[0m\u001b[0;34m)\u001b[0m\u001b[0;34m@\u001b[0m\u001b[0mnp\u001b[0m\u001b[0;34m.\u001b[0m\u001b[0mlinalg\u001b[0m\u001b[0;34m.\u001b[0m\u001b[0minv\u001b[0m\u001b[0;34m(\u001b[0m\u001b[0mevecs\u001b[0m\u001b[0;34m)\u001b[0m\u001b[0;34m)\u001b[0m\u001b[0;34m.\u001b[0m\u001b[0mreal\u001b[0m\u001b[0;34m\u001b[0m\u001b[0;34m\u001b[0m\u001b[0m\n",
      "\u001b[0;31mNameError\u001b[0m: name 'T1' is not defined"
     ]
    }
   ],
   "source": [
    "evals,evecs = np.linalg.eig(T1)\n",
    "oo = (evecs@(evals_mtx**50)@np.linalg.inv(evecs)).real"
   ]
  },
  {
   "cell_type": "code",
   "execution_count": 65,
   "metadata": {},
   "outputs": [
    {
     "ename": "NameError",
     "evalue": "name 'T1' is not defined",
     "output_type": "error",
     "traceback": [
      "\u001b[0;31m---------------------------------------------------------------------------\u001b[0m",
      "\u001b[0;31mNameError\u001b[0m                                 Traceback (most recent call last)",
      "\u001b[0;32m<ipython-input-65-18dd5f50799d>\u001b[0m in \u001b[0;36m<module>\u001b[0;34m\u001b[0m\n\u001b[0;32m----> 1\u001b[0;31m \u001b[0mplt\u001b[0m\u001b[0;34m.\u001b[0m\u001b[0mimshow\u001b[0m\u001b[0;34m(\u001b[0m\u001b[0mT1\u001b[0m\u001b[0;34m)\u001b[0m\u001b[0;34m\u001b[0m\u001b[0;34m\u001b[0m\u001b[0m\n\u001b[0m",
      "\u001b[0;31mNameError\u001b[0m: name 'T1' is not defined"
     ]
    }
   ],
   "source": [
    "plt.imshow(T1)"
   ]
  },
  {
   "cell_type": "code",
   "execution_count": 66,
   "metadata": {},
   "outputs": [
    {
     "ename": "NameError",
     "evalue": "name 'T1' is not defined",
     "output_type": "error",
     "traceback": [
      "\u001b[0;31m---------------------------------------------------------------------------\u001b[0m",
      "\u001b[0;31mNameError\u001b[0m                                 Traceback (most recent call last)",
      "\u001b[0;32m<ipython-input-66-00d2b859797b>\u001b[0m in \u001b[0;36m<module>\u001b[0;34m\u001b[0m\n\u001b[0;32m----> 1\u001b[0;31m \u001b[0mplt\u001b[0m\u001b[0;34m.\u001b[0m\u001b[0mimshow\u001b[0m\u001b[0;34m(\u001b[0m\u001b[0mnp\u001b[0m\u001b[0;34m.\u001b[0m\u001b[0mlinalg\u001b[0m\u001b[0;34m.\u001b[0m\u001b[0mpinv\u001b[0m\u001b[0;34m(\u001b[0m\u001b[0mnp\u001b[0m\u001b[0;34m.\u001b[0m\u001b[0meye\u001b[0m\u001b[0;34m(\u001b[0m\u001b[0mlen\u001b[0m\u001b[0;34m(\u001b[0m\u001b[0mT1\u001b[0m\u001b[0;34m)\u001b[0m\u001b[0;34m)\u001b[0m \u001b[0;34m-\u001b[0m \u001b[0;34m-\u001b[0m\u001b[0;36m.7\u001b[0m  \u001b[0;34m*\u001b[0m \u001b[0mT1\u001b[0m\u001b[0;34m)\u001b[0m\u001b[0;34m)\u001b[0m\u001b[0;34m\u001b[0m\u001b[0;34m\u001b[0m\u001b[0m\n\u001b[0m",
      "\u001b[0;31mNameError\u001b[0m: name 'T1' is not defined"
     ]
    }
   ],
   "source": [
    "plt.imshow(np.linalg.pinv(np.eye(len(T1)) - -.7  * T1))"
   ]
  },
  {
   "cell_type": "code",
   "execution_count": 67,
   "metadata": {},
   "outputs": [
    {
     "ename": "NameError",
     "evalue": "name 'C1' is not defined",
     "output_type": "error",
     "traceback": [
      "\u001b[0;31m---------------------------------------------------------------------------\u001b[0m",
      "\u001b[0;31mNameError\u001b[0m                                 Traceback (most recent call last)",
      "\u001b[0;32m<ipython-input-67-9efa847b90af>\u001b[0m in \u001b[0;36m<module>\u001b[0;34m\u001b[0m\n\u001b[0;32m----> 1\u001b[0;31m \u001b[0mplt\u001b[0m\u001b[0;34m.\u001b[0m\u001b[0mplot\u001b[0m\u001b[0;34m(\u001b[0m\u001b[0mC1\u001b[0m\u001b[0;34m[\u001b[0m\u001b[0;36m0\u001b[0m\u001b[0;34m]\u001b[0m\u001b[0;34m)\u001b[0m\u001b[0;34m\u001b[0m\u001b[0;34m\u001b[0m\u001b[0m\n\u001b[0m",
      "\u001b[0;31mNameError\u001b[0m: name 'C1' is not defined"
     ]
    }
   ],
   "source": [
    "plt.plot(C1[0])"
   ]
  },
  {
   "cell_type": "code",
   "execution_count": null,
   "metadata": {},
   "outputs": [],
   "source": []
  },
  {
   "cell_type": "code",
   "execution_count": 68,
   "metadata": {},
   "outputs": [
    {
     "ename": "NameError",
     "evalue": "name 'T1' is not defined",
     "output_type": "error",
     "traceback": [
      "\u001b[0;31m---------------------------------------------------------------------------\u001b[0m",
      "\u001b[0;31mNameError\u001b[0m                                 Traceback (most recent call last)",
      "\u001b[0;32m<ipython-input-68-efd4cbebbee6>\u001b[0m in \u001b[0;36m<module>\u001b[0;34m\u001b[0m\n\u001b[1;32m      1\u001b[0m \u001b[0mix\u001b[0m \u001b[0;34m=\u001b[0m \u001b[0;36m9\u001b[0m\u001b[0;34m\u001b[0m\u001b[0;34m\u001b[0m\u001b[0m\n\u001b[0;32m----> 2\u001b[0;31m \u001b[0mprint\u001b[0m\u001b[0;34m(\u001b[0m\u001b[0mT1\u001b[0m\u001b[0;34m[\u001b[0m\u001b[0mix\u001b[0m\u001b[0;34m]\u001b[0m\u001b[0;34m[\u001b[0m\u001b[0;34m:\u001b[0m\u001b[0;36m9\u001b[0m\u001b[0;34m]\u001b[0m\u001b[0;34m)\u001b[0m\u001b[0;34m\u001b[0m\u001b[0;34m\u001b[0m\u001b[0m\n\u001b[0m\u001b[1;32m      3\u001b[0m \u001b[0mprint\u001b[0m\u001b[0;34m(\u001b[0m\u001b[0mT1\u001b[0m\u001b[0;34m[\u001b[0m\u001b[0mix\u001b[0m\u001b[0;34m]\u001b[0m\u001b[0;34m[\u001b[0m\u001b[0;36m9\u001b[0m\u001b[0;34m:\u001b[0m\u001b[0;34m]\u001b[0m\u001b[0;34m)\u001b[0m\u001b[0;34m\u001b[0m\u001b[0;34m\u001b[0m\u001b[0m\n",
      "\u001b[0;31mNameError\u001b[0m: name 'T1' is not defined"
     ]
    }
   ],
   "source": [
    "ix = 9\n",
    "print(T1[ix][:9])\n",
    "print(T1[ix][9:])"
   ]
  },
  {
   "cell_type": "code",
   "execution_count": 69,
   "metadata": {},
   "outputs": [],
   "source": [
    "#this constructs the appropriate things if everything is ordered correctly according to states\n",
    "\n",
    "T1 = np.zeros([18,18])\n",
    "for i in range(9):\n",
    "    T1[seq0[i],seq0[(i+1)%9]] = .95\n",
    "    T1[seq0[i],9+seq0[(i-1)%9]] =0.05\n",
    "    \n",
    "for i in range(9,18):\n",
    "    T1[seq0[i%9]+9,seq0[(i+1)%9]] = .05\n",
    "    T1[seq0[i%9]+9,9+seq0[(i-1)%9]] =0.95"
   ]
  },
  {
   "cell_type": "code",
   "execution_count": 70,
   "metadata": {},
   "outputs": [],
   "source": [
    "#this constructs the appropriate things if everything is ordered correctly according to states\n",
    "\n",
    "T2 = np.zeros([18,18])\n",
    "for i in range(9):\n",
    "    T2[seq1[i],seq1[(i+1)%9]] = .95\n",
    "    T2[seq1[i],9+seq1[(i-1)%9]] =0.05\n",
    "    \n",
    "for i in range(9,18):\n",
    "    T2[seq1[i%9]+9,seq1[(i+1)%9]] = .05\n",
    "    T2[seq1[i%9]+9,9+seq1[(i-1)%9]] =0.95"
   ]
  },
  {
   "cell_type": "code",
   "execution_count": null,
   "metadata": {},
   "outputs": [],
   "source": []
  },
  {
   "cell_type": "code",
   "execution_count": 71,
   "metadata": {},
   "outputs": [
    {
     "ename": "NameError",
     "evalue": "name 'expm' is not defined",
     "output_type": "error",
     "traceback": [
      "\u001b[0;31m---------------------------------------------------------------------------\u001b[0m",
      "\u001b[0;31mNameError\u001b[0m                                 Traceback (most recent call last)",
      "\u001b[0;32m<ipython-input-71-61bee7a78634>\u001b[0m in \u001b[0;36m<module>\u001b[0;34m\u001b[0m\n\u001b[0;32m----> 1\u001b[0;31m \u001b[0mtask_1_distance\u001b[0m \u001b[0;34m=\u001b[0m \u001b[0;34m-\u001b[0m\u001b[0mnp\u001b[0m\u001b[0;34m.\u001b[0m\u001b[0mlog\u001b[0m\u001b[0;34m(\u001b[0m\u001b[0mexpm\u001b[0m\u001b[0;34m(\u001b[0m\u001b[0mT1\u001b[0m\u001b[0;34m)\u001b[0m\u001b[0;34m)\u001b[0m\u001b[0;34m\u001b[0m\u001b[0;34m\u001b[0m\u001b[0m\n\u001b[0m\u001b[1;32m      2\u001b[0m \u001b[0mtask_2_distance\u001b[0m \u001b[0;34m=\u001b[0m \u001b[0;34m-\u001b[0m\u001b[0mnp\u001b[0m\u001b[0;34m.\u001b[0m\u001b[0mlog\u001b[0m\u001b[0;34m(\u001b[0m\u001b[0mexpm\u001b[0m\u001b[0;34m(\u001b[0m\u001b[0mT2\u001b[0m\u001b[0;34m)\u001b[0m\u001b[0;34m)\u001b[0m\u001b[0;34m\u001b[0m\u001b[0;34m\u001b[0m\u001b[0m\n",
      "\u001b[0;31mNameError\u001b[0m: name 'expm' is not defined"
     ]
    }
   ],
   "source": [
    "task_1_distance = -np.log(expm(T1))\n",
    "task_2_distance = -np.log(expm(T2))"
   ]
  },
  {
   "cell_type": "code",
   "execution_count": 72,
   "metadata": {},
   "outputs": [],
   "source": [
    "evals, evecs = np.linalg.eig(T.T)\n",
    "evals_mtx = np.eye(len(evals))*evals\n",
    "evec1 = evecs[:,np.isclose(evals, 1)]\n",
    "\n",
    "#Since np.isclose will return an array, we've indexed with an array\n",
    "#so we still have our 2nd axis.  Get rid of it, since it's only size 1.\n",
    "evec1 = evec1[:,0]\n",
    "\n",
    "stationary = evec1 / evec1.sum()\n",
    "\n",
    "#eigs finds complex eigenvalues and eigenvectors, so you'll want the real part.\n",
    "stationary = stationary.real\n"
   ]
  },
  {
   "cell_type": "code",
   "execution_count": 73,
   "metadata": {},
   "outputs": [],
   "source": [
    "from scipy.linalg import expm"
   ]
  },
  {
   "cell_type": "code",
   "execution_count": 74,
   "metadata": {},
   "outputs": [],
   "source": [
    "C2 = -np.log(evecs@expm(evals_mtx)@np.linalg.inv(evecs))"
   ]
  },
  {
   "cell_type": "code",
   "execution_count": 75,
   "metadata": {},
   "outputs": [],
   "source": [
    "spatial_distance =  spatial_distance = -distance_matrix(np.vstack([poke_pos,poke_pos]),\n",
    "                                                        np.vstack([poke_pos,poke_pos]),p=1)"
   ]
  },
  {
   "cell_type": "code",
   "execution_count": 76,
   "metadata": {},
   "outputs": [
    {
     "ename": "NameError",
     "evalue": "name 'frm_t1' is not defined",
     "output_type": "error",
     "traceback": [
      "\u001b[0;31m---------------------------------------------------------------------------\u001b[0m",
      "\u001b[0;31mNameError\u001b[0m                                 Traceback (most recent call last)",
      "\u001b[0;32m<ipython-input-76-ddd252e53ecf>\u001b[0m in \u001b[0;36m<module>\u001b[0;34m\u001b[0m\n\u001b[0;32m----> 1\u001b[0;31m \u001b[0mtask1_corrs\u001b[0m \u001b[0;34m=\u001b[0m \u001b[0mnp\u001b[0m\u001b[0;34m.\u001b[0m\u001b[0mcorrcoef\u001b[0m\u001b[0;34m(\u001b[0m\u001b[0mfrm_t1\u001b[0m\u001b[0;34m.\u001b[0m\u001b[0mT\u001b[0m\u001b[0;34m)\u001b[0m\u001b[0;34m\u001b[0m\u001b[0;34m\u001b[0m\u001b[0m\n\u001b[0m\u001b[1;32m      2\u001b[0m \u001b[0mtask2_corrs\u001b[0m \u001b[0;34m=\u001b[0m \u001b[0mnp\u001b[0m\u001b[0;34m.\u001b[0m\u001b[0mcorrcoef\u001b[0m\u001b[0;34m(\u001b[0m\u001b[0mfrm_t2\u001b[0m\u001b[0;34m.\u001b[0m\u001b[0mT\u001b[0m\u001b[0;34m)\u001b[0m\u001b[0;34m\u001b[0m\u001b[0;34m\u001b[0m\u001b[0m\n\u001b[1;32m      3\u001b[0m \u001b[0;34m\u001b[0m\u001b[0m\n\u001b[1;32m      4\u001b[0m \u001b[0mselect_indices\u001b[0m \u001b[0;34m=\u001b[0m \u001b[0;34m(\u001b[0m\u001b[0mnp\u001b[0m\u001b[0;34m.\u001b[0m\u001b[0meye\u001b[0m\u001b[0;34m(\u001b[0m\u001b[0mlen\u001b[0m\u001b[0;34m(\u001b[0m\u001b[0mtask1_corrs\u001b[0m\u001b[0;34m)\u001b[0m\u001b[0;34m)\u001b[0m \u001b[0;34m+\u001b[0m \u001b[0mnp\u001b[0m\u001b[0;34m.\u001b[0m\u001b[0misnan\u001b[0m\u001b[0;34m(\u001b[0m\u001b[0mtask1_corrs\u001b[0m\u001b[0;34m)\u001b[0m \u001b[0;34m+\u001b[0m \u001b[0mnp\u001b[0m\u001b[0;34m.\u001b[0m\u001b[0misnan\u001b[0m\u001b[0;34m(\u001b[0m\u001b[0mtask2_corrs\u001b[0m\u001b[0;34m)\u001b[0m\u001b[0;34m)\u001b[0m\u001b[0;34m==\u001b[0m\u001b[0;36m0\u001b[0m\u001b[0;34m\u001b[0m\u001b[0;34m\u001b[0m\u001b[0m\n",
      "\u001b[0;31mNameError\u001b[0m: name 'frm_t1' is not defined"
     ]
    }
   ],
   "source": [
    "task1_corrs = np.corrcoef(frm_t1.T)\n",
    "task2_corrs = np.corrcoef(frm_t2.T) \n",
    "\n",
    "select_indices = (np.eye(len(task1_corrs)) + np.isnan(task1_corrs) + np.isnan(task2_corrs))==0"
   ]
  },
  {
   "cell_type": "code",
   "execution_count": 77,
   "metadata": {},
   "outputs": [
    {
     "data": {
      "text/plain": [
       "<matplotlib.image.AxesImage at 0x7fcf00e18690>"
      ]
     },
     "execution_count": 77,
     "metadata": {},
     "output_type": "execute_result"
    },
    {
     "data": {
      "image/png": "[encoded data removed]",
      "text/plain": [
       "<Figure size 432x288 with 1 Axes>"
      ]
     },
     "metadata": {
      "needs_background": "light"
     },
     "output_type": "display_data"
    }
   ],
   "source": [
    "plt.imshow(spatial_distance)"
   ]
  },
  {
   "cell_type": "code",
   "execution_count": null,
   "metadata": {},
   "outputs": [],
   "source": []
  },
  {
   "cell_type": "code",
   "execution_count": 78,
   "metadata": {},
   "outputs": [
    {
     "ename": "NameError",
     "evalue": "name 'select_indices' is not defined",
     "output_type": "error",
     "traceback": [
      "\u001b[0;31m---------------------------------------------------------------------------\u001b[0m",
      "\u001b[0;31mNameError\u001b[0m                                 Traceback (most recent call last)",
      "\u001b[0;32m<ipython-input-78-20f70644d192>\u001b[0m in \u001b[0;36m<module>\u001b[0;34m\u001b[0m\n\u001b[0;32m----> 1\u001b[0;31m \u001b[0my\u001b[0m \u001b[0;34m=\u001b[0m \u001b[0mzscore\u001b[0m\u001b[0;34m(\u001b[0m\u001b[0mtask2_corrs\u001b[0m\u001b[0;34m[\u001b[0m\u001b[0mselect_indices\u001b[0m\u001b[0;34m]\u001b[0m\u001b[0;34m.\u001b[0m\u001b[0mflatten\u001b[0m\u001b[0;34m(\u001b[0m\u001b[0;34m)\u001b[0m\u001b[0;34m)\u001b[0m\u001b[0;34m\u001b[0m\u001b[0;34m\u001b[0m\u001b[0m\n\u001b[0m\u001b[1;32m      2\u001b[0m X = np.vstack([np.ones_like(y),\n\u001b[1;32m      3\u001b[0m            \u001b[0mzscore\u001b[0m\u001b[0;34m(\u001b[0m\u001b[0mspatial_distance\u001b[0m\u001b[0;34m[\u001b[0m\u001b[0mselect_indices\u001b[0m\u001b[0;34m]\u001b[0m\u001b[0;34m.\u001b[0m\u001b[0mflatten\u001b[0m\u001b[0;34m(\u001b[0m\u001b[0;34m)\u001b[0m\u001b[0;34m)\u001b[0m\u001b[0;34m,\u001b[0m\u001b[0;34m\u001b[0m\u001b[0;34m\u001b[0m\u001b[0m\n\u001b[1;32m      4\u001b[0m            \u001b[0mzscore\u001b[0m\u001b[0;34m(\u001b[0m\u001b[0mtask_1_distance\u001b[0m\u001b[0;34m[\u001b[0m\u001b[0mselect_indices\u001b[0m\u001b[0;34m]\u001b[0m\u001b[0;34m.\u001b[0m\u001b[0mflatten\u001b[0m\u001b[0;34m(\u001b[0m\u001b[0;34m)\u001b[0m\u001b[0;34m)\u001b[0m\u001b[0;34m,\u001b[0m\u001b[0;34m\u001b[0m\u001b[0;34m\u001b[0m\u001b[0m\n\u001b[1;32m      5\u001b[0m            \u001b[0mzscore\u001b[0m\u001b[0;34m(\u001b[0m\u001b[0mtask_2_distance\u001b[0m\u001b[0;34m[\u001b[0m\u001b[0mselect_indices\u001b[0m\u001b[0;34m]\u001b[0m\u001b[0;34m.\u001b[0m\u001b[0mflatten\u001b[0m\u001b[0;34m(\u001b[0m\u001b[0;34m)\u001b[0m\u001b[0;34m)\u001b[0m\u001b[0;34m\u001b[0m\u001b[0;34m\u001b[0m\u001b[0m\n",
      "\u001b[0;31mNameError\u001b[0m: name 'select_indices' is not defined"
     ]
    }
   ],
   "source": [
    "y = zscore(task2_corrs[select_indices].flatten())\n",
    "X = np.vstack([np.ones_like(y),\n",
    "           zscore(spatial_distance[select_indices].flatten()),\n",
    "           zscore(task_1_distance[select_indices].flatten()),\n",
    "           zscore(task_2_distance[select_indices].flatten())\n",
    "          ]).T\n",
    "beta = np.linalg.inv(X.T@X)@X.T@y\n",
    "res = sm.OLS(y,X,hasconst=True).fit()\n"
   ]
  },
  {
   "cell_type": "code",
   "execution_count": 79,
   "metadata": {},
   "outputs": [
    {
     "data": {
      "text/html": [
       "<table class=\"simpletable\">\n",
       "<caption>OLS Regression Results</caption>\n",
       "<tr>\n",
       "  <th>Dep. Variable:</th>            <td>y</td>        <th>  R-squared:         </th> <td>   0.226</td>\n",
       "</tr>\n",
       "<tr>\n",
       "  <th>Model:</th>                   <td>OLS</td>       <th>  Adj. R-squared:    </th> <td>   0.191</td>\n",
       "</tr>\n",
       "<tr>\n",
       "  <th>Method:</th>             <td>Least Squares</td>  <th>  F-statistic:       </th> <td>   6.603</td>\n",
       "</tr>\n",
       "<tr>\n",
       "  <th>Date:</th>             <td>Wed, 01 Dec 2021</td> <th>  Prob (F-statistic):</th> <td>0.000556</td>\n",
       "</tr>\n",
       "<tr>\n",
       "  <th>Time:</th>                 <td>17:43:17</td>     <th>  Log-Likelihood:    </th> <td>  72.213</td>\n",
       "</tr>\n",
       "<tr>\n",
       "  <th>No. Observations:</th>      <td>    72</td>      <th>  AIC:               </th> <td>  -136.4</td>\n",
       "</tr>\n",
       "<tr>\n",
       "  <th>Df Residuals:</th>          <td>    68</td>      <th>  BIC:               </th> <td>  -127.3</td>\n",
       "</tr>\n",
       "<tr>\n",
       "  <th>Df Model:</th>              <td>     3</td>      <th>                     </th>     <td> </td>   \n",
       "</tr>\n",
       "<tr>\n",
       "  <th>Covariance Type:</th>      <td>nonrobust</td>    <th>                     </th>     <td> </td>   \n",
       "</tr>\n",
       "</table>\n",
       "<table class=\"simpletable\">\n",
       "<tr>\n",
       "    <td></td>       <th>coef</th>     <th>std err</th>      <th>t</th>      <th>P>|t|</th>  <th>[0.025</th>    <th>0.975]</th>  \n",
       "</tr>\n",
       "<tr>\n",
       "  <th>const</th> <td>   -0.1234</td> <td>    0.011</td> <td>  -11.469</td> <td> 0.000</td> <td>   -0.145</td> <td>   -0.102</td>\n",
       "</tr>\n",
       "<tr>\n",
       "  <th>x1</th>    <td>    0.0490</td> <td>    0.011</td> <td>    4.393</td> <td> 0.000</td> <td>    0.027</td> <td>    0.071</td>\n",
       "</tr>\n",
       "<tr>\n",
       "  <th>x2</th>    <td>    0.0034</td> <td>    0.011</td> <td>    0.305</td> <td> 0.762</td> <td>   -0.019</td> <td>    0.026</td>\n",
       "</tr>\n",
       "<tr>\n",
       "  <th>x3</th>    <td>   -0.0081</td> <td>    0.012</td> <td>   -0.707</td> <td> 0.482</td> <td>   -0.031</td> <td>    0.015</td>\n",
       "</tr>\n",
       "</table>\n",
       "<table class=\"simpletable\">\n",
       "<tr>\n",
       "  <th>Omnibus:</th>       <td> 1.502</td> <th>  Durbin-Watson:     </th> <td>   2.107</td>\n",
       "</tr>\n",
       "<tr>\n",
       "  <th>Prob(Omnibus):</th> <td> 0.472</td> <th>  Jarque-Bera (JB):  </th> <td>   0.981</td>\n",
       "</tr>\n",
       "<tr>\n",
       "  <th>Skew:</th>          <td>-0.269</td> <th>  Prob(JB):          </th> <td>   0.612</td>\n",
       "</tr>\n",
       "<tr>\n",
       "  <th>Kurtosis:</th>      <td> 3.193</td> <th>  Cond. No.          </th> <td>    1.45</td>\n",
       "</tr>\n",
       "</table><br/><br/>Warnings:<br/>[1] Standard Errors assume that the covariance matrix of the errors is correctly specified."
      ],
      "text/plain": [
       "<class 'statsmodels.iolib.summary.Summary'>\n",
       "\"\"\"\n",
       "                            OLS Regression Results                            \n",
       "==============================================================================\n",
       "Dep. Variable:                      y   R-squared:                       0.226\n",
       "Model:                            OLS   Adj. R-squared:                  0.191\n",
       "Method:                 Least Squares   F-statistic:                     6.603\n",
       "Date:                Wed, 01 Dec 2021   Prob (F-statistic):           0.000556\n",
       "Time:                        17:43:17   Log-Likelihood:                 72.213\n",
       "No. Observations:                  72   AIC:                            -136.4\n",
       "Df Residuals:                      68   BIC:                            -127.3\n",
       "Df Model:                           3                                         \n",
       "Covariance Type:            nonrobust                                         \n",
       "==============================================================================\n",
       "                 coef    std err          t      P>|t|      [0.025      0.975]\n",
       "------------------------------------------------------------------------------\n",
       "const         -0.1234      0.011    -11.469      0.000      -0.145      -0.102\n",
       "x1             0.0490      0.011      4.393      0.000       0.027       0.071\n",
       "x2             0.0034      0.011      0.305      0.762      -0.019       0.026\n",
       "x3            -0.0081      0.012     -0.707      0.482      -0.031       0.015\n",
       "==============================================================================\n",
       "Omnibus:                        1.502   Durbin-Watson:                   2.107\n",
       "Prob(Omnibus):                  0.472   Jarque-Bera (JB):                0.981\n",
       "Skew:                          -0.269   Prob(JB):                        0.612\n",
       "Kurtosis:                       3.193   Cond. No.                         1.45\n",
       "==============================================================================\n",
       "\n",
       "Warnings:\n",
       "[1] Standard Errors assume that the covariance matrix of the errors is correctly specified.\n",
       "\"\"\""
      ]
     },
     "execution_count": 79,
     "metadata": {},
     "output_type": "execute_result"
    }
   ],
   "source": [
    "res.summary()"
   ]
  },
  {
   "cell_type": "markdown",
   "metadata": {},
   "source": [
    "# batch over all tasks"
   ]
  },
  {
   "cell_type": "code",
   "execution_count": 80,
   "metadata": {},
   "outputs": [
    {
     "name": "stderr",
     "output_type": "stream",
     "text": [
      "/Users/yves/opt/anaconda3/lib/python3.7/site-packages/ipykernel_launcher.py:34: RuntimeWarning: Mean of empty slice\n",
      "/Users/yves/opt/anaconda3/lib/python3.7/site-packages/ipykernel_launcher.py:34: RuntimeWarning: Mean of empty slice\n",
      "/Users/yves/opt/anaconda3/lib/python3.7/site-packages/ipykernel_launcher.py:34: RuntimeWarning: Mean of empty slice\n",
      "/Users/yves/opt/anaconda3/lib/python3.7/site-packages/ipykernel_launcher.py:34: RuntimeWarning: Mean of empty slice\n",
      "/Users/yves/opt/anaconda3/lib/python3.7/site-packages/ipykernel_launcher.py:34: RuntimeWarning: Mean of empty slice\n",
      "/Users/yves/opt/anaconda3/lib/python3.7/site-packages/ipykernel_launcher.py:34: RuntimeWarning: Mean of empty slice\n",
      "/Users/yves/opt/anaconda3/lib/python3.7/site-packages/ipykernel_launcher.py:34: RuntimeWarning: Mean of empty slice\n",
      "/Users/yves/opt/anaconda3/lib/python3.7/site-packages/ipykernel_launcher.py:34: RuntimeWarning: Mean of empty slice\n",
      "/Users/yves/opt/anaconda3/lib/python3.7/site-packages/ipykernel_launcher.py:34: RuntimeWarning: Mean of empty slice\n",
      "/Users/yves/opt/anaconda3/lib/python3.7/site-packages/ipykernel_launcher.py:34: RuntimeWarning: Mean of empty slice\n",
      "/Users/yves/opt/anaconda3/lib/python3.7/site-packages/ipykernel_launcher.py:34: RuntimeWarning: Mean of empty slice\n",
      "/Users/yves/opt/anaconda3/lib/python3.7/site-packages/ipykernel_launcher.py:34: RuntimeWarning: Mean of empty slice\n",
      "/Users/yves/opt/anaconda3/lib/python3.7/site-packages/ipykernel_launcher.py:34: RuntimeWarning: Mean of empty slice\n",
      "/Users/yves/opt/anaconda3/lib/python3.7/site-packages/ipykernel_launcher.py:34: RuntimeWarning: Mean of empty slice\n",
      "/Users/yves/opt/anaconda3/lib/python3.7/site-packages/ipykernel_launcher.py:34: RuntimeWarning: Mean of empty slice\n",
      "/Users/yves/opt/anaconda3/lib/python3.7/site-packages/ipykernel_launcher.py:34: RuntimeWarning: Mean of empty slice\n"
     ]
    }
   ],
   "source": [
    "all_beta = []\n",
    "all_pvals = []\n",
    "for sess_ix in range(8):\n",
    "    tmp  = []\n",
    "    tmp_pvals = []\n",
    "    firing_rate_maps,task_event_df,seq0,seq1,graph_type0,graph_type1, = load_data(sess_ix,by_dir=True)\n",
    "    mxs = np.nanmax(firing_rate_maps,axis=(1,2,3))\n",
    "    firing_rate_maps = firing_rate_maps[mxs>5]\n",
    "    #spatial_map  = np.nanmean(firing_rate_maps,axis=(2,3))\n",
    "    mds_frm = firing_rate_maps #- spatial_map[:,:,None,None]\n",
    "\n",
    "   \n",
    "    \n",
    "    frm = np.hstack([mds_frm[:,:,0,0],mds_frm[:,:,0,1],mds_frm[:,:,1,0],mds_frm[:,:,1,1]])\n",
    "    frm_t1 = frm[:,:18].T\n",
    "    frm_t2 = frm[:,18:].T\n",
    "\n",
    "    if graph_type0=='loop': \n",
    "        task_1_distance = get_C_loop_task(seq0)[1]\n",
    "    else: \n",
    "        task_1_distance =  get_C_line_task(seq0)[1]\n",
    "    if graph_type1=='loop':\n",
    "        task_2_distance = get_C_loop_task(seq1)[1]\n",
    "    else:\n",
    "        task_2_distance = get_C_line_task(seq1)[1]\n",
    "\n",
    "    task_1_distance = np.nan_to_num(task_1_distance,np.nanmean(task_1_distance))\n",
    "    task_2_distance = np.nan_to_num(task_2_distance,np.nanmean(task_2_distance))\n",
    "    #spatial_distance = -distance_matrix(poke_pos,poke_pos,p=1)\n",
    "    spatial_distance =   -distance_matrix(np.vstack([poke_pos,poke_pos]),\n",
    "                                          np.vstack([poke_pos,poke_pos]),p=1)\n",
    "    \n",
    "    task1_corrs = np.corrcoef(frm_t1)\n",
    "    task2_corrs = np.corrcoef(frm_t2)\n",
    "    select_indices = (np.eye(len(task1_corrs)) + \n",
    "                      np.isnan(task1_corrs) + \n",
    "                      np.isnan(task2_corrs) + \n",
    "                      np.isnan(task_1_distance) + \n",
    "                      np.isnan(task_2_distance) + \n",
    "                      np.isnan(spatial_distance)\n",
    "                     )==0\n",
    "    \n",
    "    #\n",
    "    y = task1_corrs[select_indices].flatten()\n",
    "    X = np.vstack([np.ones_like(y),\n",
    "               zscore(spatial_distance[select_indices].flatten()),\n",
    "               zscore(task_1_distance[select_indices].flatten()),\n",
    "               zscore(task_2_distance[select_indices].flatten())\n",
    "              ]).T\n",
    "    \n",
    "    #y = remove_diagonal(task1_corrs).flatten()\n",
    "    #beta = np.linalg.pinv(X.T@X)@X.T@y\n",
    "    res = sm.OLS(y,X,hasconst=True).fit()\n",
    "    \n",
    "    \n",
    "    tmp.append(res.params)\n",
    "    tmp_pvals.append(res.pvalues)\n",
    "    \n",
    "    y = task2_corrs[select_indices].flatten()\n",
    "    #beta = np.linalg.pinv(X.T@X)@X.T@y\n",
    "    res = sm.OLS(y,X,hasconst=True).fit()\n",
    "    \n",
    "    tmp_pvals.append(res.pvalues)\n",
    "    tmp.append(res.params)\n",
    "    \n",
    "    all_beta.append(tmp)\n",
    "    all_pvals.append(tmp_pvals)\n",
    "    #assert np.allclose(beta,res.params)"
   ]
  },
  {
   "cell_type": "code",
   "execution_count": 91,
   "metadata": {},
   "outputs": [
    {
     "data": {
      "text/plain": [
       "<matplotlib.collections.PathCollection at 0x7fcf488a6b10>"
      ]
     },
     "execution_count": 91,
     "metadata": {},
     "output_type": "execute_result"
    },
    {
     "data": {
      "image/png": "[encoded data removed]",
      "text/plain": [
       "<Figure size 432x288 with 1 Axes>"
      ]
     },
     "metadata": {
      "needs_background": "light"
     },
     "output_type": "display_data"
    }
   ],
   "source": [
    "plt.scatter([0]*16,np.array(all_beta)[:,:,1].flatten())"
   ]
  },
  {
   "cell_type": "code",
   "execution_count": 90,
   "metadata": {},
   "outputs": [
    {
     "data": {
      "text/plain": [
       "(16,)"
      ]
     },
     "execution_count": 90,
     "metadata": {},
     "output_type": "execute_result"
    }
   ],
   "source": [
    "np.array(all_pvals)[:,:,1].flatten().shape"
   ]
  },
  {
   "cell_type": "code",
   "execution_count": 81,
   "metadata": {},
   "outputs": [
    {
     "name": "stderr",
     "output_type": "stream",
     "text": [
      "No handles with labels found to put in legend.\n"
     ]
    },
    {
     "data": {
      "image/png": "[encoded data removed]",
      "text/plain": [
       "<Figure size 432x288 with 1 Axes>"
      ]
     },
     "metadata": {
      "needs_background": "light"
     },
     "output_type": "display_data"
    }
   ],
   "source": [
    "seaborn.distplot(np.array(all_pvals)[:,:,1].flatten(),kde=0,bins=np.logspace(-70,1,num=50),)\n",
    "plt.axvline(x=0.05,dashes=(7,7),color='.3')\n",
    "#plt.xticks([1])\n",
    "#plt.xlim(0,1)\n",
    "plt.xscale('log')\n",
    "plt.xlabel(\"p-value\")\n",
    "plt.ylabel(\"number of sessions\")\n",
    "plt.legend(loc=1)\n",
    "seaborn.despine()\n",
    "plt.tight_layout()"
   ]
  },
  {
   "cell_type": "code",
   "execution_count": null,
   "metadata": {},
   "outputs": [],
   "source": []
  },
  {
   "cell_type": "code",
   "execution_count": 2378,
   "metadata": {},
   "outputs": [
    {
     "data": {
      "text/plain": [
       "array([[0.59940686, 0.80197233],\n",
       "       [0.06274084, 0.73383098],\n",
       "       [0.01556136, 0.97484913],\n",
       "       [0.00439714, 0.00595021],\n",
       "       [0.6112544 , 0.77027963],\n",
       "       [0.66940644, 0.48330991],\n",
       "       [0.38250453, 0.38908654],\n",
       "       [0.64233191, 0.60688962]])"
      ]
     },
     "execution_count": 2378,
     "metadata": {},
     "output_type": "execute_result"
    }
   ],
   "source": [
    "np.array(all_pvals)[:,:,2]"
   ]
  },
  {
   "cell_type": "code",
   "execution_count": 2379,
   "metadata": {},
   "outputs": [
    {
     "data": {
      "text/plain": [
       "array([0.01      , 0.01098541, 0.01206793, 0.01325711, 0.01456348,\n",
       "       0.01599859, 0.01757511, 0.01930698, 0.02120951, 0.02329952,\n",
       "       0.02559548, 0.02811769, 0.03088844, 0.03393222, 0.03727594,\n",
       "       0.04094915, 0.04498433, 0.04941713, 0.05428675, 0.05963623,\n",
       "       0.06551286, 0.07196857, 0.07906043, 0.08685114, 0.09540955,\n",
       "       0.10481131, 0.11513954, 0.12648552, 0.13894955, 0.1526418 ,\n",
       "       0.16768329, 0.184207  , 0.20235896, 0.22229965, 0.24420531,\n",
       "       0.26826958, 0.29470517, 0.32374575, 0.35564803, 0.39069399,\n",
       "       0.42919343, 0.47148664, 0.51794747, 0.5689866 , 0.62505519,\n",
       "       0.68664885, 0.75431201, 0.82864277, 0.91029818, 1.        ])"
      ]
     },
     "execution_count": 2379,
     "metadata": {},
     "output_type": "execute_result"
    }
   ],
   "source": [
    "np.logspace(-2,0,num=50)"
   ]
  },
  {
   "cell_type": "code",
   "execution_count": 2380,
   "metadata": {},
   "outputs": [],
   "source": [
    "#plt.imshow(select_indices)"
   ]
  },
  {
   "cell_type": "code",
   "execution_count": 2381,
   "metadata": {},
   "outputs": [
    {
     "data": {
      "image/png": "[encoded data removed]",
      "text/plain": [
       "<Figure size 864x288 with 2 Axes>"
      ]
     },
     "metadata": {},
     "output_type": "display_data"
    }
   ],
   "source": [
    "plt.figure(figsize=(12,4))\n",
    "plt.subplot(1,2,1)\n",
    "plt.title(\"Correct way around\")\n",
    "seaborn.distplot(np.array(all_pvals)[:,0,-2],kde=0,bins=np.linspace(0,1,num=50),label=r'$\\beta_{t1}$ in task1')\n",
    "seaborn.distplot(np.array(all_pvals)[:,1,-1],kde=0,bins=np.linspace(0,1,num=50),label=r'$\\beta_{t2}$ in task2')\n",
    "plt.axvline(x=0.05,dashes=(7,7),color='.3')\n",
    "plt.xlabel(\"p-value\")\n",
    "plt.ylabel(\"number of sessions\")\n",
    "plt.legend(loc=1)\n",
    "seaborn.despine()\n",
    "\n",
    "plt.subplot(1,2,2)\n",
    "plt.title(\"Wrong way around\")\n",
    "seaborn.distplot(np.array(all_pvals)[:,0,-1],kde=0,bins=np.linspace(0,1,num=50),label=r'$\\beta_{t2}$ in task1')\n",
    "seaborn.distplot(np.array(all_pvals)[:,1,-2],kde=0,bins=np.linspace(0,1,num=50),label=r'$\\beta_{t1}$ in task2')\n",
    "plt.axvline(x=0.05,dashes=(7,7),color='.3')\n",
    "plt.xlabel(\"p-value\")\n",
    "plt.ylabel(\"number of sessions\")\n",
    "plt.legend(loc=1)\n",
    "seaborn.despine()\n",
    "plt.tight_layout()"
   ]
  },
  {
   "cell_type": "code",
   "execution_count": 2382,
   "metadata": {},
   "outputs": [
    {
     "data": {
      "text/plain": [
       "(8, 2, 4)"
      ]
     },
     "execution_count": 2382,
     "metadata": {},
     "output_type": "execute_result"
    }
   ],
   "source": [
    "np.array(all_beta).shape"
   ]
  },
  {
   "cell_type": "code",
   "execution_count": 2383,
   "metadata": {},
   "outputs": [
    {
     "data": {
      "text/plain": [
       "array([ 0.00771686, -0.032119  ,  0.05740197,  0.05647009,  0.01398327,\n",
       "        0.03494894, -0.00462993,  0.01152955])"
      ]
     },
     "execution_count": 2383,
     "metadata": {},
     "output_type": "execute_result"
    }
   ],
   "source": [
    "t1_m_t2_inT1"
   ]
  },
  {
   "cell_type": "code",
   "execution_count": 83,
   "metadata": {},
   "outputs": [
    {
     "data": {
      "image/png": "[encoded data removed]",
      "text/plain": [
       "<Figure size 432x288 with 1 Axes>"
      ]
     },
     "metadata": {
      "needs_background": "light"
     },
     "output_type": "display_data"
    }
   ],
   "source": [
    "#n_sessions x n_tasks x n_params\n",
    "all_beta = np.array(all_beta)\n",
    "\n",
    "t1_m_t2_inT1 = (all_beta[:,0,-2] - all_beta[:,0,-1])\n",
    "t1_m_t2_inT2 = (all_beta[:,1,-1] - all_beta[:,1,-2])\n",
    "\n",
    "seaborn.distplot(t1_m_t2_inT1 + t1_m_t2_inT2,kde=0,bins=20)\n",
    "plt.xlabel(r\"Task1($\\beta_{t1}$ -$\\beta_{t2}$) + Task2($\\beta_{t2}$ -$\\beta_{t1}$)\")\n",
    "plt.ylabel(\"# of Sessions\")\n",
    "seaborn.despine()"
   ]
  },
  {
   "cell_type": "code",
   "execution_count": 84,
   "metadata": {},
   "outputs": [
    {
     "data": {
      "image/png": "[encoded data removed]",
      "text/plain": [
       "<Figure size 216x432 with 1 Axes>"
      ]
     },
     "metadata": {
      "needs_background": "light"
     },
     "output_type": "display_data"
    }
   ],
   "source": [
    "plt.figure(figsize=(3,6))\n",
    "plt.scatter([0]*8,t1_m_t2_inT1 + t1_m_t2_inT2,s=256,facecolor='',edgecolor='k')\n",
    "plt.annotate('p=0.95',(.0,0),xycoords='axes fraction')\n",
    "plt.xticks([])\n",
    "plt.plot([-.15,.15],[0,0],color='k',linestyle='--',dashes=(7,7))\n",
    "plt.ylabel(r\"Task1($\\beta_{t1}$ -$\\beta_{t2}$) + Task2($\\beta_{t2}$ -$\\beta_{t1}$)\")\n",
    "plt.xlim(-.2,.2)\n",
    "plt.locator_params('y',nbins=3)\n",
    "seaborn.despine(bottom=True)"
   ]
  },
  {
   "cell_type": "code",
   "execution_count": 95,
   "metadata": {},
   "outputs": [
    {
     "data": {
      "text/plain": [
       "array([9.16426877e-17, 7.95672416e-32, 1.39877942e-48, 9.82098233e-51,\n",
       "       2.64359811e-32, 1.61316004e-29, 1.49510640e-20, 6.01844576e-27,\n",
       "       3.08772033e-07, 1.30914812e-08, 4.54592193e-08, 7.27825521e-09,\n",
       "       6.61417999e-47, 1.89516675e-30, 4.96445619e-40, 5.52951003e-37])"
      ]
     },
     "execution_count": 95,
     "metadata": {},
     "output_type": "execute_result"
    }
   ],
   "source": [
    "np.array(all_pvals)[:,:,1].flatten()"
   ]
  },
  {
   "cell_type": "code",
   "execution_count": 98,
   "metadata": {},
   "outputs": [
    {
     "data": {
      "image/png": "[encoded data removed]",
      "text/plain": [
       "<Figure size 216x432 with 1 Axes>"
      ]
     },
     "metadata": {
      "needs_background": "light"
     },
     "output_type": "display_data"
    }
   ],
   "source": [
    "plt.figure(figsize=(3,6))\n",
    "plt.scatter([0]*16,np.array(all_beta)[:,:,1].flatten(),s=256,facecolor='',edgecolor='k')\n",
    "#plt.annotate('p=0.95',(.0,0),xycoords='axes fraction')\n",
    "plt.xticks([])\n",
    "plt.plot([-.15,.15],[0,0],color='k',linestyle='--',dashes=(7,7))\n",
    "plt.ylabel(r\"Spatial $\\beta$\")\n",
    "#plt.xlim(-.2,.2)\n",
    "plt.locator_params('y',nbins=3)\n",
    "seaborn.despine(bottom=True)"
   ]
  },
  {
   "cell_type": "code",
   "execution_count": 2362,
   "metadata": {},
   "outputs": [
    {
     "data": {
      "text/plain": [
       "Ttest_1sampResult(statistic=0.7445967465797968, pvalue=0.4807604377694731)"
      ]
     },
     "execution_count": 2362,
     "metadata": {},
     "output_type": "execute_result"
    }
   ],
   "source": [
    "stt.ttest_1samp(t1_m_t2_inT1 + t1_m_t2_inT2,0)"
   ]
  },
  {
   "cell_type": "markdown",
   "metadata": {},
   "source": [
    "# Check this works by ordering according to sequence"
   ]
  },
  {
   "cell_type": "code",
   "execution_count": 1972,
   "metadata": {},
   "outputs": [
    {
     "name": "stderr",
     "output_type": "stream",
     "text": [
      "/Users/yves/opt/anaconda3/lib/python3.7/site-packages/ipykernel_launcher.py:34: RuntimeWarning: Mean of empty slice\n",
      "/Users/yves/opt/anaconda3/lib/python3.7/site-packages/ipykernel_launcher.py:34: RuntimeWarning: Mean of empty slice\n",
      "/Users/yves/opt/anaconda3/lib/python3.7/site-packages/ipykernel_launcher.py:34: RuntimeWarning: Mean of empty slice\n",
      "/Users/yves/opt/anaconda3/lib/python3.7/site-packages/ipykernel_launcher.py:34: RuntimeWarning: Mean of empty slice\n",
      "/Users/yves/opt/anaconda3/lib/python3.7/site-packages/ipykernel_launcher.py:34: RuntimeWarning: Mean of empty slice\n",
      "/Users/yves/opt/anaconda3/lib/python3.7/site-packages/ipykernel_launcher.py:34: RuntimeWarning: Mean of empty slice\n",
      "/Users/yves/opt/anaconda3/lib/python3.7/site-packages/ipykernel_launcher.py:34: RuntimeWarning: Mean of empty slice\n",
      "/Users/yves/opt/anaconda3/lib/python3.7/site-packages/ipykernel_launcher.py:34: RuntimeWarning: Mean of empty slice\n",
      "/Users/yves/opt/anaconda3/lib/python3.7/site-packages/ipykernel_launcher.py:34: RuntimeWarning: Mean of empty slice\n",
      "/Users/yves/opt/anaconda3/lib/python3.7/site-packages/ipykernel_launcher.py:34: RuntimeWarning: Mean of empty slice\n",
      "/Users/yves/opt/anaconda3/lib/python3.7/site-packages/ipykernel_launcher.py:34: RuntimeWarning: Mean of empty slice\n",
      "/Users/yves/opt/anaconda3/lib/python3.7/site-packages/ipykernel_launcher.py:34: RuntimeWarning: Mean of empty slice\n",
      "/Users/yves/opt/anaconda3/lib/python3.7/site-packages/ipykernel_launcher.py:34: RuntimeWarning: Mean of empty slice\n",
      "/Users/yves/opt/anaconda3/lib/python3.7/site-packages/ipykernel_launcher.py:34: RuntimeWarning: Mean of empty slice\n",
      "/Users/yves/opt/anaconda3/lib/python3.7/site-packages/ipykernel_launcher.py:34: RuntimeWarning: Mean of empty slice\n",
      "/Users/yves/opt/anaconda3/lib/python3.7/site-packages/ipykernel_launcher.py:34: RuntimeWarning: Mean of empty slice\n"
     ]
    }
   ],
   "source": [
    "all_beta = []\n",
    "all_pvals = []\n",
    "for sess_ix in range(8):\n",
    "    tmp  = []\n",
    "    tmp_pvals = []\n",
    "    firing_rate_maps,task_event_df,seq0,seq1,graph_type0,graph_type1, = load_data(sess_ix,by_dir=True)\n",
    "    mxs = np.nanmax(firing_rate_maps,axis=(1,2,3))\n",
    "    firing_rate_maps = firing_rate_maps[mxs>.1]\n",
    "    #spatial_map  = np.nanmean(firing_rate_maps,axis=(2,3))\n",
    "    mds_frm = firing_rate_maps #- spatial_map[:,:,None,None]\n",
    "\n",
    "   \n",
    "    \n",
    "    frm = np.hstack([mds_frm[:,seq0,0,0],mds_frm[:,seq0,0,1],mds_frm[:,seq0,1,0],mds_frm[:,seq0,1,1]])\n",
    "    frm_t1 = frm[:,:18].T\n",
    "    frm_t2 = frm[:,18:].T\n",
    "    #mean_state_resps = firing_rate_maps.swapaxes(0,2)\n",
    "    #mean_state_resps = (mean_state_resps - np.mean(mean_state_resps,axis=(0,1))[None,None,:])/np.std(mean_state_resps,axis=(0,1))[None,None,:]\n",
    "    #mean_state_resps = np.nan_to_num(mean_state_resps)\n",
    "    #mean_state_resps = np.nanmean(mds_frm,axis=3).swapaxes(0,2)\n",
    "    if graph_type0=='loop': \n",
    "        task_1_distance = get_C_loop_task(np.arange(9))[1]\n",
    "    else: \n",
    "        task_1_distance =  get_C_line_task(np.arange(9))[1]\n",
    "    if graph_type1=='loop':\n",
    "        task_2_distance = get_C_loop_task(np.arange(9))[1]\n",
    "    else:\n",
    "        task_2_distance = get_C_line_task(np.arange(9))[1]\n",
    "\n",
    "    task_1_distance = np.nan_to_num(task_1_distance,np.nanmean(task_1_distance))\n",
    "    task_2_distance = np.nan_to_num(task_2_distance,np.nanmean(task_2_distance))\n",
    "    #spatial_distance = -distance_matrix(poke_pos,poke_pos,p=1)\n",
    "    spatial_distance =   -distance_matrix(np.vstack([poke_pos[seq0],poke_pos[seq0]]),\n",
    "                                          np.vstack([poke_pos[seq0],poke_pos[seq0]]),p=1)\n",
    "    \n",
    "    task1_corrs = np.corrcoef(frm_t1)\n",
    "    task2_corrs = np.corrcoef(frm_t2)\n",
    "    select_indices = (np.eye(len(task1_corrs)) + \n",
    "                      np.isnan(task1_corrs) + \n",
    "                      np.isnan(task2_corrs) + \n",
    "                      np.isnan(task_1_distance) + \n",
    "                      np.isnan(task_2_distance) + \n",
    "                      np.isnan(spatial_distance)\n",
    "                     )==0\n",
    "    \n",
    "    #\n",
    "    y = task1_corrs[select_indices].flatten()\n",
    "    X = np.vstack([np.ones_like(y),\n",
    "               zscore(spatial_distance[select_indices].flatten()),\n",
    "               zscore(task_1_distance[select_indices].flatten()),\n",
    "               zscore(task_2_distance[select_indices].flatten())\n",
    "              ]).T\n",
    "    \n",
    "    #y = remove_diagonal(task1_corrs).flatten()\n",
    "    #beta = np.linalg.pinv(X.T@X)@X.T@y\n",
    "    res = sm.OLS(y,X,hasconst=True).fit()\n",
    "    \n",
    "    \n",
    "    tmp.append(res.params)\n",
    "    tmp_pvals.append(res.pvalues)\n",
    "    \n",
    "    y = task2_corrs[select_indices].flatten()\n",
    "    #beta = np.linalg.pinv(X.T@X)@X.T@y\n",
    "    res = sm.OLS(y,X,hasconst=True).fit()\n",
    "    \n",
    "    tmp_pvals.append(res.pvalues)\n",
    "    tmp.append(res.params)\n",
    "    \n",
    "    all_beta.append(tmp)\n",
    "    all_pvals.append(tmp_pvals)\n",
    "    #assert np.allclose(beta,res.params)"
   ]
  },
  {
   "cell_type": "code",
   "execution_count": 2057,
   "metadata": {},
   "outputs": [],
   "source": [
    "#np.array(all_pvals)[:,:,3]"
   ]
  },
  {
   "cell_type": "code",
   "execution_count": 2058,
   "metadata": {},
   "outputs": [],
   "source": [
    "#np.array(all_pvals)[:,:,1]"
   ]
  },
  {
   "cell_type": "code",
   "execution_count": 1965,
   "metadata": {},
   "outputs": [
    {
     "ename": "AttributeError",
     "evalue": "'function' object has no attribute 'shape'",
     "output_type": "error",
     "traceback": [
      "\u001b[0;31m---------------------------------------------------------------------------\u001b[0m",
      "\u001b[0;31mAttributeError\u001b[0m                            Traceback (most recent call last)",
      "\u001b[0;32m<ipython-input-1965-116d666a8475>\u001b[0m in \u001b[0;36m<module>\u001b[0;34m\u001b[0m\n\u001b[0;32m----> 1\u001b[0;31m \u001b[0mdistance_matrix\u001b[0m\u001b[0;34m.\u001b[0m\u001b[0mshape\u001b[0m\u001b[0;34m\u001b[0m\u001b[0;34m\u001b[0m\u001b[0m\n\u001b[0m",
      "\u001b[0;31mAttributeError\u001b[0m: 'function' object has no attribute 'shape'"
     ]
    }
   ],
   "source": [
    "\n",
    "distance_matrix.shape"
   ]
  },
  {
   "cell_type": "code",
   "execution_count": null,
   "metadata": {},
   "outputs": [],
   "source": []
  }
 ],
 "metadata": {
  "kernelspec": {
   "display_name": "Python 3",
   "language": "python",
   "name": "python3"
  },
  "language_info": {
   "codemirror_mode": {
    "name": "ipython",
    "version": 3
   },
   "file_extension": ".py",
   "mimetype": "text/x-python",
   "name": "python",
   "nbconvert_exporter": "python",
   "pygments_lexer": "ipython3",
   "version": "3.7.4"
  }
 },
 "nbformat": 4,
 "nbformat_minor": 4
}
