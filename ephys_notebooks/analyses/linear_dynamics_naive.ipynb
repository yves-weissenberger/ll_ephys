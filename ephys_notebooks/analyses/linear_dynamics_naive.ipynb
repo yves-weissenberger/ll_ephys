{
 "cells": [
  {
   "cell_type": "markdown",
   "metadata": {},
   "source": [
    "# Linear dynamics naive\n",
    "\n",
    "\n",
    "In this notebook find analytic solution to\n",
    "\n",
    "$Y_{t} = A \\cdot Y_{t-1} $\n",
    "\n",
    "where Y is the neural activity at time t. \n",
    "\n",
    "This leads to poor prediction"
   ]
  },
  {
   "cell_type": "code",
   "execution_count": 40,
   "metadata": {},
   "outputs": [],
   "source": [
    "%matplotlib inline\n",
    "import numpy as np\n",
    "import matplotlib.pyplot as plt\n",
    "import os\n",
    "import re\n",
    "import seaborn\n",
    "import pandas as pd\n",
    "#import cv2\n",
    "import scipy.optimize as op\n",
    "import sys\n",
    "import networkx as nx\n",
    "import time\n",
    "import matplotlib\n",
    "import copy as cp\n",
    "import scipy.ndimage as ndi \n",
    "from scipy.ndimage import gaussian_filter1d\n",
    "import scipy as sp\n",
    "import scipy.signal\n",
    "seaborn.set(style='ticks',font_scale=1.5)\n",
    "\n",
    "sys.path.append('/Users/yves/Documents/Code/mec_ephys/packages')\n"
   ]
  },
  {
   "cell_type": "code",
   "execution_count": 41,
   "metadata": {},
   "outputs": [],
   "source": [
    "sys.path.append('/Users/yves/Documents/Code/mec_ephys/packages')\n",
    "\n",
    "from mecll.rsync import Rsync_aligner\n",
    "from mecll.process_data.proc_beh import get_all_transitions, get_transitions_state, build_poke_df\n",
    "from mecll.process_data.proc_neural import get_all_resps, get_mean_resps\n",
    "from mecll.load import load_data\n",
    "from mecll.SVD_analysis import get_mean_activity_matrix\n",
    "from mecll.utils import align_activity"
   ]
  },
  {
   "cell_type": "code",
   "execution_count": 42,
   "metadata": {},
   "outputs": [],
   "source": [
    "poke_pos = np.array([1,-1])*np.array([ [149,0],\n",
    "                                 [68,19],[231,19],\n",
    "                               [0,62],[149,62],[298,62],\n",
    "                                 [68,105],[231,105],\n",
    "                                      [149,124]])"
   ]
  },
  {
   "cell_type": "code",
   "execution_count": null,
   "metadata": {},
   "outputs": [],
   "source": []
  },
  {
   "cell_type": "markdown",
   "metadata": {},
   "source": [
    "# From pycontrol"
   ]
  },
  {
   "cell_type": "code",
   "execution_count": 43,
   "metadata": {},
   "outputs": [
    {
     "name": "stdout",
     "output_type": "stream",
     "text": [
      "474 475\n"
     ]
    }
   ],
   "source": [
    "#Load behavioural data\n",
    "root_path = '/Users/yves/team_mouse Dropbox/MEC_data/spike_sorted/2021-07-29_39955_ks25/'\n",
    "#'/Users/yves/Downloads/example_files2_wOF//'\n",
    "\n",
    "out = load_data(root_path)\n",
    "spkT,spkC,single_units,events,lines,aligner = out"
   ]
  },
  {
   "cell_type": "code",
   "execution_count": 44,
   "metadata": {},
   "outputs": [],
   "source": [
    "#root_path = '/Users/yves/Downloads/example_files2_wOF/'\n",
    "#out = load_data(root_path,align_to='task')\n",
    "#spkT,spkC,single_units,events,lines,aligner = out"
   ]
  },
  {
   "cell_type": "code",
   "execution_count": 45,
   "metadata": {},
   "outputs": [],
   "source": [
    "df = build_poke_df(lines,events)"
   ]
  },
  {
   "cell_type": "code",
   "execution_count": 46,
   "metadata": {},
   "outputs": [],
   "source": [
    "df['previous_port'][1:] = df['port'][:-1]\n",
    "df['previous_state'][1:] = df['state'][:-1]"
   ]
  },
  {
   "cell_type": "code",
   "execution_count": 47,
   "metadata": {},
   "outputs": [],
   "source": [
    "a,b = np.histogram(spkT)"
   ]
  },
  {
   "cell_type": "code",
   "execution_count": 48,
   "metadata": {},
   "outputs": [],
   "source": [
    "spkT_ms = aligner.A_to_B(spkT)"
   ]
  },
  {
   "cell_type": "code",
   "execution_count": 49,
   "metadata": {},
   "outputs": [
    {
     "data": {
      "text/plain": [
       "0.3554985558117623"
      ]
     },
     "execution_count": 49,
     "metadata": {},
     "output_type": "execute_result"
    }
   ],
   "source": [
    "np.sum(np.isfinite(spkT_ms))/len(spkT)"
   ]
  },
  {
   "cell_type": "code",
   "execution_count": 50,
   "metadata": {},
   "outputs": [],
   "source": [
    "#poke_dict_t1 ={}\n",
    "#poke_dict_t2 = {}\n",
    "\n",
    "dicts = [{} for _ in range(4)]\n",
    "\n",
    "for port_nr in np.unique(df['state'].values):\n",
    "    \n",
    "    kk = 0\n",
    "    for task_nr in range(2):\n",
    "        for direction in np.unique(df['direction'].values):\n",
    "            task_nr = str(task_nr)\n",
    "            indices = np.where((df['state']==port_nr) &\n",
    "                               (df['correct']==True) & \n",
    "                               (df['direction']==direction) &\n",
    "                               (df['port_repeat']==False) & \n",
    "                               (df['task_nr']==task_nr))[0]\n",
    "            indices = indices[indices>0]\n",
    "            v = df.loc[indices]['time'].values.astype('float')\n",
    "            prev_v = df.loc[indices-1]['time'].values\n",
    "            #print(direction,df.loc[indices]['state'].values - df.loc[indices-1]['state'].values)\n",
    "\n",
    "            \n",
    "            dicts[kk][str(port_nr)] = v\n",
    "            dicts[kk]['task_nr'] = str(task_nr)\n",
    "            dicts[kk]['direction'] = str(direction)\n",
    "            dicts[kk]['graph_type'] = df.loc[df['task_nr']==task_nr]['graph_type'].values[0]\n",
    "            dicts[kk]['seq'] = df.loc[df['task_nr']==task_nr]['current_sequence'].values[0]\n",
    "            kk += 1\n"
   ]
  },
  {
   "cell_type": "code",
   "execution_count": 51,
   "metadata": {},
   "outputs": [],
   "source": [
    "#df.loc[:50]"
   ]
  },
  {
   "cell_type": "code",
   "execution_count": null,
   "metadata": {},
   "outputs": [],
   "source": []
  },
  {
   "cell_type": "code",
   "execution_count": 52,
   "metadata": {},
   "outputs": [],
   "source": [
    "window0 = 3000; window1 = 3000\n",
    "n_neurons = len(single_units)\n",
    "\n",
    "n_tasks = 2; n_direction = 2; n_states = 9\n",
    "all_big_array = np.zeros([n_neurons,n_tasks,n_direction,n_states])\n",
    "\n",
    "\n",
    "for unit_ix,unit in enumerate(single_units):\n",
    "        \n",
    "    spk_unit = spkT[np.where(spkC==unit)[0]] #select all spikes that belong to this cell\n",
    "\n",
    "    for dict_ix in range(len(dicts)):\n",
    "\n",
    "        for state_nr in range(9):\n",
    "            direction = (int(dicts[dict_ix]['direction'])+1)//2\n",
    "            task_nr = int(dicts[dict_ix]['task_nr'])\n",
    "            trial_events = np.array(dicts[dict_ix][str(state_nr)])\n",
    "\n",
    "\n",
    "            aligned_T = aligner.B_to_A(trial_events) #align pokes into spike times\n",
    "\n",
    "            #get the spikes that are in bounds for position encoding\n",
    "            pks_unit_in_bounds = np.where(np.logical_not(np.isnan(aligned_T)))[0]\n",
    "\n",
    "            used_pks = aligned_T[pks_unit_in_bounds].astype('int') #get pokes aligned with spike times\n",
    "            half_npks = int(len(used_pks)/2)\n",
    "\n",
    "            #print(key,half_npks)\n",
    "            n_pokes = 0\n",
    "            mean_rate = 0\n",
    "            for pk_ix,tpk in enumerate(used_pks):  #loop over all pokes to a given port\n",
    "                spike_locs = np.logical_and(spk_unit>(tpk-window0),spk_unit<(tpk+window1))\n",
    "                mean_rate += 5*np.sum(spike_locs)\n",
    "                n_pokes += 1\n",
    "            all_big_array[unit_ix,task_nr,direction,state_nr] = mean_rate/(n_pokes+1e-12)"
   ]
  },
  {
   "cell_type": "code",
   "execution_count": 53,
   "metadata": {},
   "outputs": [],
   "source": [
    "#AB2 = all_big_array #- np.mean(all_big_array,axis=(1,2,3))[:,None,None,None]\n",
    "#AB2_resh = AB2.reshape(n_neurons,-1)"
   ]
  },
  {
   "cell_type": "code",
   "execution_count": 54,
   "metadata": {},
   "outputs": [],
   "source": [
    "AB1 = []\n",
    "for task in range(2):\n",
    "    for direction in range(2):\n",
    "        AB1.append(all_big_array[:,task,direction,:])\n",
    "AB1 = np.hstack(AB1)"
   ]
  },
  {
   "cell_type": "code",
   "execution_count": 55,
   "metadata": {},
   "outputs": [],
   "source": [
    "AB2 = AB1 - np.mean(AB1,axis=1)[:,None]"
   ]
  },
  {
   "cell_type": "code",
   "execution_count": 56,
   "metadata": {},
   "outputs": [],
   "source": [
    "U,S,Vt = np.linalg.svd(AB2)\n",
    "V = Vt.T"
   ]
  },
  {
   "cell_type": "code",
   "execution_count": 57,
   "metadata": {},
   "outputs": [
    {
     "data": {
      "text/plain": [
       "[<matplotlib.lines.Line2D at 0x7fd7d12a9890>]"
      ]
     },
     "execution_count": 57,
     "metadata": {},
     "output_type": "execute_result"
    },
    {
     "data": {
      "image/png": "[encoded data removed]",
      "text/plain": [
       "<Figure size 432x288 with 1 Axes>"
      ]
     },
     "metadata": {},
     "output_type": "display_data"
    }
   ],
   "source": [
    "plt.plot(np.cumsum(S**2)/np.sum(S**2),marker='.')"
   ]
  },
  {
   "cell_type": "code",
   "execution_count": 58,
   "metadata": {},
   "outputs": [],
   "source": [
    "#this should be the first 5 PCs, basically\n",
    "nDIM = 3\n",
    "trial_activity = Vt[:nDIM]  #need to check that this is the correct dimension\n"
   ]
  },
  {
   "cell_type": "code",
   "execution_count": 59,
   "metadata": {},
   "outputs": [],
   "source": [
    "Y = trial_activity"
   ]
  },
  {
   "cell_type": "code",
   "execution_count": 60,
   "metadata": {},
   "outputs": [],
   "source": [
    "#Y = trial_activity.reshape(nDIM,2,2,9)"
   ]
  },
  {
   "cell_type": "code",
   "execution_count": 61,
   "metadata": {},
   "outputs": [],
   "source": [
    "#this is the estimate of the transition matrix, I think\n",
    "Test = np.linalg.pinv(Y[:,:-1].T).dot(Y[:,1:].T)"
   ]
  },
  {
   "cell_type": "code",
   "execution_count": 62,
   "metadata": {},
   "outputs": [
    {
     "data": {
      "text/plain": [
       "(3, 36)"
      ]
     },
     "execution_count": 62,
     "metadata": {},
     "output_type": "execute_result"
    }
   ],
   "source": [
    "Y.shape"
   ]
  },
  {
   "cell_type": "code",
   "execution_count": 63,
   "metadata": {},
   "outputs": [],
   "source": [
    "#T_est = \n",
    "test_i = []\n",
    "for i in range(7):\n",
    "    test_i.append(np.dot(Y[:,i+1].reshape(-1,1),np.linalg.pinv(Y[:,i].reshape(1,-1)).T))"
   ]
  },
  {
   "cell_type": "code",
   "execution_count": 64,
   "metadata": {},
   "outputs": [],
   "source": [
    "Test_all = np.sum(test_i,axis=0)"
   ]
  },
  {
   "cell_type": "code",
   "execution_count": 65,
   "metadata": {},
   "outputs": [
    {
     "data": {
      "text/plain": [
       "array([[ 1.96740785, -1.18434508,  0.58149716],\n",
       "       [-2.04036069,  0.92092894, -1.15174222],\n",
       "       [ 0.99756203,  0.64712679,  0.60356106]])"
      ]
     },
     "execution_count": 65,
     "metadata": {},
     "output_type": "execute_result"
    }
   ],
   "source": [
    "Test_all"
   ]
  },
  {
   "cell_type": "code",
   "execution_count": 66,
   "metadata": {},
   "outputs": [],
   "source": [
    "T_est = np.dot(Y[:,1:],\n",
    "               np.linalg.pinv(Y[:,:-1])\n",
    "              )"
   ]
  },
  {
   "cell_type": "code",
   "execution_count": 35,
   "metadata": {},
   "outputs": [
    {
     "data": {
      "text/plain": [
       "array([[ 0.46189478,  0.03801758,  0.08089351],\n",
       "       [-0.0891226 , -0.08508265, -0.09455609],\n",
       "       [-0.15373565, -0.1494427 , -0.28095185]])"
      ]
     },
     "execution_count": 35,
     "metadata": {},
     "output_type": "execute_result"
    }
   ],
   "source": [
    "T_est"
   ]
  },
  {
   "cell_type": "code",
   "execution_count": 36,
   "metadata": {},
   "outputs": [
    {
     "name": "stdout",
     "output_type": "stream",
     "text": [
      "[-0.01228944 -0.02215959 -0.02147464]\n",
      "[-0.025934   -0.03623293 -0.06663221]\n",
      "[ 0.03544126  0.00015594 -0.00289929]\n",
      "[0.09271346 0.03768684 0.05763379]\n",
      "[0.07569299 0.01178036 0.02140145]\n",
      "[ 0.04843171 -0.00650094 -0.01908632]\n",
      "[-0.0272331  -0.0412696  -0.07127444]\n",
      "[-0.00818762 -0.00202558 -0.01141856]\n"
     ]
    }
   ],
   "source": [
    "all_pred = []\n",
    "for i in range(8):\n",
    "    all_pred.append(np.dot(Test,Y[:,i]))\n",
    "    print(all_pred[-1])"
   ]
  },
  {
   "cell_type": "code",
   "execution_count": 37,
   "metadata": {},
   "outputs": [
    {
     "name": "stdout",
     "output_type": "stream",
     "text": [
      "[0.02689272 0.01884204 0.23856768]\n",
      "[ 0.08321913 -0.06080266  0.05474406]\n",
      "[ 0.12676025 -0.22036299 -0.09447541]\n",
      "[ 0.15024534 -0.03304328 -0.02179424]\n",
      "[ 0.12990531 -0.12367708  0.14696198]\n",
      "[0.03634872 0.09128362 0.23343284]\n",
      "[-0.01486839 -0.11422792  0.07480552]\n",
      "[-0.22235435 -0.04826646 -0.07695407]\n"
     ]
    }
   ],
   "source": [
    "all_real = []\n",
    "for i in range(1,9):\n",
    "    all_real.append(Y[:,i])\n",
    "    print(all_real[-1])"
   ]
  },
  {
   "cell_type": "code",
   "execution_count": 38,
   "metadata": {},
   "outputs": [],
   "source": [
    "all_real = np.array(all_real)\n",
    "all_pred = np.array(all_pred)"
   ]
  },
  {
   "cell_type": "code",
   "execution_count": 39,
   "metadata": {},
   "outputs": [
    {
     "data": {
      "text/plain": [
       "[<matplotlib.lines.Line2D at 0x7fd770578650>]"
      ]
     },
     "execution_count": 39,
     "metadata": {},
     "output_type": "execute_result"
    },
    {
     "data": {
      "image/png": "[encoded data removed]",
      "text/plain": [
       "<Figure size 432x288 with 1 Axes>"
      ]
     },
     "metadata": {
      "needs_background": "light"
     },
     "output_type": "display_data"
    }
   ],
   "source": [
    "ix = 0\n",
    "plt.plot(all_real[:,ix])\n",
    "plt.plot(all_pred[:,ix])"
   ]
  },
  {
   "cell_type": "code",
   "execution_count": 94,
   "metadata": {
    "scrolled": true
   },
   "outputs": [],
   "source": [
    "\n",
    "a1 = np.sum(np.dot(U.T,AB2[:,1:9]).dot(all_real).diagonal()**2)"
   ]
  },
  {
   "cell_type": "code",
   "execution_count": 55,
   "metadata": {},
   "outputs": [
    {
     "data": {
      "text/plain": [
       "8762.928396067024"
      ]
     },
     "execution_count": 55,
     "metadata": {},
     "output_type": "execute_result"
    }
   ],
   "source": [
    "pca."
   ]
  },
  {
   "cell_type": "code",
   "execution_count": 56,
   "metadata": {},
   "outputs": [],
   "source": [
    "\n",
    "a2 = np.sum(np.dot(U.T,AB2[:,1:9]).dot(all_pred).diagonal()**2)"
   ]
  },
  {
   "cell_type": "code",
   "execution_count": null,
   "metadata": {},
   "outputs": [],
   "source": []
  },
  {
   "cell_type": "code",
   "execution_count": 57,
   "metadata": {},
   "outputs": [],
   "source": [
    "U2,S2,Vt2 = np.linalg.svd(AB2[:,1:9])\n",
    "#V = V.T"
   ]
  },
  {
   "cell_type": "code",
   "execution_count": 58,
   "metadata": {},
   "outputs": [
    {
     "data": {
      "text/plain": [
       "array([149.0074543 ,  77.9038001 ,  59.53876844,  48.7886639 ,\n",
       "        42.52473805,  39.03297819,  31.27218578,  25.25174381])"
      ]
     },
     "execution_count": 58,
     "metadata": {},
     "output_type": "execute_result"
    }
   ],
   "source": [
    "S2"
   ]
  },
  {
   "cell_type": "code",
   "execution_count": 59,
   "metadata": {},
   "outputs": [],
   "source": [
    "\n",
    "a1 = np.sum(np.dot(U.T,AB2[:,19:27]).dot(all_real).diagonal()**2)"
   ]
  },
  {
   "cell_type": "code",
   "execution_count": 60,
   "metadata": {},
   "outputs": [
    {
     "data": {
      "text/plain": [
       "(204, 36)"
      ]
     },
     "execution_count": 60,
     "metadata": {},
     "output_type": "execute_result"
    }
   ],
   "source": [
    "AB2.shape"
   ]
  },
  {
   "cell_type": "code",
   "execution_count": 61,
   "metadata": {},
   "outputs": [],
   "source": [
    "\n",
    "a2 = np.sum(np.dot(U.T,AB2[:,19:27]).dot(all_pred).diagonal()**2)"
   ]
  },
  {
   "cell_type": "code",
   "execution_count": null,
   "metadata": {},
   "outputs": [],
   "source": []
  },
  {
   "cell_type": "code",
   "execution_count": null,
   "metadata": {},
   "outputs": [],
   "source": []
  },
  {
   "cell_type": "code",
   "execution_count": null,
   "metadata": {},
   "outputs": [],
   "source": []
  }
 ],
 "metadata": {
  "kernelspec": {
   "display_name": "Python 3",
   "language": "python",
   "name": "python3"
  },
  "language_info": {
   "codemirror_mode": {
    "name": "ipython",
    "version": 3
   },
   "file_extension": ".py",
   "mimetype": "text/x-python",
   "name": "python",
   "nbconvert_exporter": "python",
   "pygments_lexer": "ipython3",
   "version": "3.7.4"
  }
 },
 "nbformat": 4,
 "nbformat_minor": 2
}
