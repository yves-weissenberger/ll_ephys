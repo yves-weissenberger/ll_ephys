{
 "cells": [
  {
   "cell_type": "code",
   "execution_count": 2,
   "metadata": {},
   "outputs": [
    {
     "name": "stderr",
     "output_type": "stream",
     "text": [
      "/Users/yves/opt/anaconda3/lib/python3.7/site-packages/statsmodels/tools/_testing.py:19: FutureWarning: pandas.util.testing is deprecated. Use the functions in the public API at pandas.testing instead.\n",
      "  import pandas.util.testing as tm\n"
     ]
    }
   ],
   "source": [
    "%matplotlib inline\n",
    "import numpy as np\n",
    "import matplotlib.pyplot as plt\n",
    "import os\n",
    "import seaborn\n",
    "import pandas as pd\n",
    "import cv2\n",
    "import sys\n",
    "import scipy.stats as stt\n",
    "from scipy.linalg import toeplitz\n",
    "import re\n",
    "from datetime import datetime as dt\n",
    "import time\n",
    "import scipy.ndimage as ndi \n",
    "sys.path.append('/Users/yves/Documents/Code/mec_ephys/packages')\n",
    "seaborn.set(font_scale=1.2,style='ticks')"
   ]
  },
  {
   "cell_type": "code",
   "execution_count": null,
   "metadata": {},
   "outputs": [],
   "source": []
  },
  {
   "cell_type": "code",
   "execution_count": null,
   "metadata": {},
   "outputs": [],
   "source": []
  },
  {
   "cell_type": "code",
   "execution_count": null,
   "metadata": {},
   "outputs": [],
   "source": []
  },
  {
   "cell_type": "code",
   "execution_count": 3,
   "metadata": {},
   "outputs": [
    {
     "ename": "ModuleNotFoundError",
     "evalue": "No module named 'mecll.proc_beh'",
     "output_type": "error",
     "traceback": [
      "\u001b[0;31m---------------------------------------------------------------------------\u001b[0m",
      "\u001b[0;31mModuleNotFoundError\u001b[0m                       Traceback (most recent call last)",
      "\u001b[0;32m<ipython-input-3-1f89d67613e7>\u001b[0m in \u001b[0;36m<module>\u001b[0;34m\u001b[0m\n\u001b[1;32m      3\u001b[0m \u001b[0;32mfrom\u001b[0m \u001b[0mmecll\u001b[0m\u001b[0;34m.\u001b[0m\u001b[0mrsync\u001b[0m \u001b[0;32mimport\u001b[0m \u001b[0mRsync_aligner\u001b[0m\u001b[0;34m\u001b[0m\u001b[0;34m\u001b[0m\u001b[0m\n\u001b[1;32m      4\u001b[0m \u001b[0;32mfrom\u001b[0m \u001b[0mmecll\u001b[0m\u001b[0;34m.\u001b[0m\u001b[0mload\u001b[0m \u001b[0;32mimport\u001b[0m \u001b[0mload_data\u001b[0m\u001b[0;34m\u001b[0m\u001b[0;34m\u001b[0m\u001b[0m\n\u001b[0;32m----> 5\u001b[0;31m \u001b[0;32mfrom\u001b[0m \u001b[0mmecll\u001b[0m\u001b[0;34m.\u001b[0m\u001b[0mproc_beh\u001b[0m \u001b[0;32mimport\u001b[0m \u001b[0mget_all_transitions\u001b[0m\u001b[0;34m,\u001b[0m \u001b[0mget_transitions_state\u001b[0m\u001b[0;34m,\u001b[0m \u001b[0mbuild_poke_df\u001b[0m\u001b[0;34m,\u001b[0m \u001b[0mget_in_task_pokes\u001b[0m\u001b[0;34m\u001b[0m\u001b[0;34m\u001b[0m\u001b[0m\n\u001b[0m\u001b[1;32m      6\u001b[0m \u001b[0;32mfrom\u001b[0m \u001b[0mmecll\u001b[0m\u001b[0;34m.\u001b[0m\u001b[0mproc_neural\u001b[0m \u001b[0;32mimport\u001b[0m \u001b[0mget_all_resps\u001b[0m\u001b[0;34m,\u001b[0m \u001b[0mget_mean_resps\u001b[0m\u001b[0;34m\u001b[0m\u001b[0;34m\u001b[0m\u001b[0m\n\u001b[1;32m      7\u001b[0m \u001b[0;32mfrom\u001b[0m \u001b[0mmecll\u001b[0m\u001b[0;34m.\u001b[0m\u001b[0mplot\u001b[0m\u001b[0;34m.\u001b[0m\u001b[0mplot_activity_on_graph\u001b[0m \u001b[0;32mimport\u001b[0m \u001b[0mplot_activity_on_graph\u001b[0m\u001b[0;34m,\u001b[0m \u001b[0mplot_cell\u001b[0m\u001b[0;34m\u001b[0m\u001b[0;34m\u001b[0m\u001b[0m\n",
      "\u001b[0;31mModuleNotFoundError\u001b[0m: No module named 'mecll.proc_beh'"
     ]
    }
   ],
   "source": [
    "sys.path.append('/Users/yves/Documents/Code/mec_ephys/packages')\n",
    "\n",
    "from mecll.rsync import Rsync_aligner\n",
    "from mecll.load import load_data\n",
    "from mecll.proc_beh import get_all_transitions, get_transitions_state, build_poke_df, get_in_task_pokes\n",
    "from mecll.proc_neural import get_all_resps, get_mean_resps\n",
    "from mecll.plot.plot_activity_on_graph import plot_activity_on_graph, plot_cell"
   ]
  },
  {
   "cell_type": "code",
   "execution_count": null,
   "metadata": {},
   "outputs": [],
   "source": [
    "n_bytes = 66257620992\n",
    "samples_offset = (n_bytes/2/384)"
   ]
  },
  {
   "cell_type": "code",
   "execution_count": 5,
   "metadata": {},
   "outputs": [],
   "source": [
    "root_path = '/Users/yves/Downloads/example_files2_wOF/'\n",
    "all_fs = os.listdir(root_path)\n",
    "position = np.load(os.path.join(root_path,[i for i in os.listdir(root_path) if '_positions.npy' in i][0]))\n",
    "\n",
    "\n",
    "sync_path_spk = os.path.join(root_path,[i for i in all_fs if i=='timestamps_OF.npy'][0])#'/Users/yves/Downloads/example_files/timestamps.npy'\n",
    "sync_messages_spk = np.load(sync_path_spk)[::2][:-1].astype('float')\n"
   ]
  },
  {
   "cell_type": "code",
   "execution_count": 259,
   "metadata": {},
   "outputs": [],
   "source": [
    "#process task data\n",
    "\n",
    "out = load_data(root_path)\n",
    "spkT,spkC,single_units,events,lines,aligner = out\n",
    "all_poke_dict = get_in_task_pokes(lines,events)"
   ]
  },
  {
   "cell_type": "code",
   "execution_count": 263,
   "metadata": {},
   "outputs": [],
   "source": [
    "all_poke_times = []\n",
    "for d_ in all_poke_dict:\n",
    "    for k in d_:\n",
    "        if k.isdigit():\n",
    "            all_poke_times.extend(d_[k])"
   ]
  },
  {
   "cell_type": "code",
   "execution_count": null,
   "metadata": {},
   "outputs": [],
   "source": []
  },
  {
   "cell_type": "code",
   "execution_count": 15,
   "metadata": {},
   "outputs": [],
   "source": [
    "\n",
    "#load spiking data\n",
    "#ROOT = '/Users/yves/Downloads/example_files/'\n",
    "spkT = np.load(os.path.join(root_path,[i for i in all_fs if i=='spike_times.npy'][0])).flatten()\n",
    "spkC = np.load(os.path.join(root_path,[i for i in all_fs if i=='spike_clusters.npy'][0])).flatten()\n",
    "cluster_labels = pd.read_table(os.path.join(root_path,[i for i in all_fs if '.tsv' in i][0]))\n",
    "\n",
    "\n",
    "#select single units\n",
    "single_units = np.where(cluster_labels.KSLabel=='good')[0]"
   ]
  },
  {
   "cell_type": "code",
   "execution_count": 16,
   "metadata": {},
   "outputs": [],
   "source": [
    "import scipy as sp\n",
    "import scipy.signal"
   ]
  },
  {
   "cell_type": "code",
   "execution_count": null,
   "metadata": {},
   "outputs": [],
   "source": []
  },
  {
   "cell_type": "code",
   "execution_count": null,
   "metadata": {},
   "outputs": [],
   "source": []
  },
  {
   "cell_type": "code",
   "execution_count": 18,
   "metadata": {},
   "outputs": [],
   "source": [
    "cam_sync_path = os.path.join(root_path,[i for i in all_fs if ('OFB' in i and 'pinstate' in i)][0])\n",
    "sync_df = pd.read_csv(cam_sync_path,header=None)\n",
    "sync_messages_cam = np.where((sync_df[0].values[1:] - sync_df[0].values[:-1])<0)[0].astype('float')"
   ]
  },
  {
   "cell_type": "code",
   "execution_count": 19,
   "metadata": {},
   "outputs": [
    {
     "data": {
      "text/plain": [
       "429"
      ]
     },
     "execution_count": 19,
     "metadata": {},
     "output_type": "execute_result"
    }
   ],
   "source": [
    "len(sync_messages_cam)"
   ]
  },
  {
   "cell_type": "code",
   "execution_count": 20,
   "metadata": {},
   "outputs": [
    {
     "data": {
      "text/plain": [
       "429"
      ]
     },
     "execution_count": 20,
     "metadata": {},
     "output_type": "execute_result"
    }
   ],
   "source": [
    "len(sync_messages_spk)"
   ]
  },
  {
   "cell_type": "code",
   "execution_count": 21,
   "metadata": {},
   "outputs": [],
   "source": [
    "#+86272944\n",
    "aligner = Rsync_aligner(sync_messages_spk+samples_offset,sync_messages_cam,units_A=30/30000.,units_B=1)"
   ]
  },
  {
   "cell_type": "code",
   "execution_count": null,
   "metadata": {},
   "outputs": [],
   "source": []
  },
  {
   "cell_type": "code",
   "execution_count": 22,
   "metadata": {},
   "outputs": [],
   "source": [
    "single_units = np.where(cluster_labels.KSLabel=='good')[0]"
   ]
  },
  {
   "cell_type": "code",
   "execution_count": null,
   "metadata": {},
   "outputs": [],
   "source": []
  },
  {
   "cell_type": "code",
   "execution_count": null,
   "metadata": {},
   "outputs": [],
   "source": []
  },
  {
   "cell_type": "code",
   "execution_count": 283,
   "metadata": {},
   "outputs": [],
   "source": [
    "def build_spike_array_direct(spkC,spkT,bin_size=10,sample_rate=30000,start=0,end=10**16,window_times=None,window_size=30000):\n",
    "    #maybe use sparse matrix here...\n",
    "    \n",
    "    n_bins_total = int(np.ceil((np.max(spkT)/30000) * (1000/bin_size)))\n",
    "    n_cells_total = len(np.unique(spkC))\n",
    "    spkT2 = np.floor((spkT / 30000) * (1000/bin_size)).astype('int')\n",
    "    cell_array = np.zeros([n_cells_total,n_bins_total])\n",
    "    \n",
    "    start_bins = np.floor((start/30000) * (1000/bin_size)).astype('int')\n",
    "    end_bins = np.floor((end/30000) * (1000/bin_size)).astype('int')\n",
    "    print(start_bins,end_bins,cell_array.shape)\n",
    "    for cell_ctr,cell_ix in enumerate(np.unique(spkC)):\n",
    "        \n",
    "        if window_times is None:\n",
    "            spk_inds = np.where(np.logical_and(spkC==cell_ix,\n",
    "                                              np.logical_and(spkT>start,spkT<end)))[0]\n",
    "        else:\n",
    "            spk_inds = np.where(np.logical_and.reduce([spkC==cell_ix,\n",
    "                                                       np.logical_and(spkT>start,spkT<end),\n",
    "                                                       np.any((spkT-window_times[:,None])<window_size,axis=1)]\n",
    "                                                     ))[0]\n",
    "\n",
    "        t_,c = np.unique(spkT2[spk_inds],return_counts=True)\n",
    "        cell_array[cell_ctr,t_] = c\n",
    "    return cell_array[:,start_bins:end_bins]\n",
    "        \n",
    "    "
   ]
  },
  {
   "cell_type": "code",
   "execution_count": null,
   "metadata": {},
   "outputs": [],
   "source": []
  },
  {
   "cell_type": "code",
   "execution_count": 122,
   "metadata": {},
   "outputs": [],
   "source": [
    "from mecll.GLM import logL,grad,hess, logL_prior, grad_prior, hess_prior\n",
    "import scipy.optimize as op\n",
    "\n",
    "def logL_prior(beta,x,y,p_mu,p_cov,p_covInv):\n",
    "    rate = np.exp(np.dot(beta,x))\n",
    "    LL = np.sum(y*np.log(rate)-rate)\n",
    "\n",
    "\n",
    "    LL_prior = (-.5*((aa[1:]-p_mu).dot(p_covInv).dot(aa[1:]-p_mu)) \n",
    "                - .5*np.abs(np.linalg.slogdet(p_covInv)[1]) \n",
    "                - .5*(p_covInv.shape[0]-1)*np.log((2*np.pi))\n",
    "                )\n",
    "    return -(LL+LL_prior)"
   ]
  },
  {
   "cell_type": "code",
   "execution_count": 375,
   "metadata": {},
   "outputs": [],
   "source": [
    "def build_mask_array(cell_array,event_times,bin_size=10,sample_rate=30000.,start=0,end=10**16):\n",
    "    \n",
    "    mask = np.zeros_like(cell_array[0])\n",
    "    bin_size=10\n",
    "    apt_binned = np.floor((apt/sample_rate) * (1000/bin_size)).astype('int')\n",
    "    mask[apt_binned] = 1\n",
    "    mask = np.convolve(np.ones(200),mask)>0\n",
    "    return mask\n",
    "    "
   ]
  },
  {
   "cell_type": "code",
   "execution_count": null,
   "metadata": {},
   "outputs": [],
   "source": []
  },
  {
   "cell_type": "code",
   "execution_count": null,
   "metadata": {},
   "outputs": [],
   "source": []
  },
  {
   "cell_type": "code",
   "execution_count": 378,
   "metadata": {},
   "outputs": [
    {
     "data": {
      "text/plain": [
       "[<matplotlib.lines.Line2D at 0x7fe1e6941ad0>]"
      ]
     },
     "execution_count": 378,
     "metadata": {},
     "output_type": "execute_result"
    },
    {
     "data": {
      "image/png": "[encoded data removed]",
      "text/plain": [
       "<Figure size 432x288 with 1 Axes>"
      ]
     },
     "metadata": {},
     "output_type": "display_data"
    }
   ],
   "source": [
    "plt.plot(mask_array)"
   ]
  },
  {
   "cell_type": "code",
   "execution_count": 379,
   "metadata": {},
   "outputs": [
    {
     "data": {
      "text/plain": [
       "288575"
      ]
     },
     "execution_count": 379,
     "metadata": {},
     "output_type": "execute_result"
    }
   ],
   "source": [
    "len(mask_array)"
   ]
  },
  {
   "cell_type": "code",
   "execution_count": 380,
   "metadata": {},
   "outputs": [
    {
     "data": {
      "text/plain": [
       "(784, 67261)"
      ]
     },
     "execution_count": 380,
     "metadata": {},
     "output_type": "execute_result"
    }
   ],
   "source": [
    "cell_array1.shape"
   ]
  },
  {
   "cell_type": "code",
   "execution_count": 381,
   "metadata": {},
   "outputs": [],
   "source": [
    "n_back = 5\n",
    "#= toeplitz(np.arange(n_back),arr2)[:,n_back:-n_back]\n"
   ]
  },
  {
   "cell_type": "code",
   "execution_count": null,
   "metadata": {},
   "outputs": [],
   "source": []
  },
  {
   "cell_type": "code",
   "execution_count": null,
   "metadata": {},
   "outputs": [],
   "source": []
  },
  {
   "cell_type": "code",
   "execution_count": null,
   "metadata": {},
   "outputs": [],
   "source": []
  },
  {
   "cell_type": "code",
   "execution_count": 382,
   "metadata": {},
   "outputs": [],
   "source": [
    "grid_cell_list = [148,132,134,113,123,267,275]\n"
   ]
  },
  {
   "cell_type": "code",
   "execution_count": 383,
   "metadata": {},
   "outputs": [
    {
     "data": {
      "text/plain": [
       "56865.0"
      ]
     },
     "execution_count": 383,
     "metadata": {},
     "output_type": "execute_result"
    }
   ],
   "source": [
    "cell_array[grid_cell_list[1]].sum()"
   ]
  },
  {
   "cell_type": "code",
   "execution_count": 384,
   "metadata": {},
   "outputs": [
    {
     "name": "stdout",
     "output_type": "stream",
     "text": [
      "0 287576 (784, 501194)\n"
     ]
    }
   ],
   "source": [
    "cell_array1_backup = build_spike_array_direct(spkC,spkT,bin_size=10,sample_rate=30000,end=samples_offset)\n",
    "cell_array1 = cell_array1_backup.copy()"
   ]
  },
  {
   "cell_type": "code",
   "execution_count": 385,
   "metadata": {},
   "outputs": [],
   "source": [
    "grid_cell_list = [148,132,134,113,123,267,275]\n"
   ]
  },
  {
   "cell_type": "code",
   "execution_count": 386,
   "metadata": {},
   "outputs": [],
   "source": [
    "#grid_cell_list = np.random.randint(0,275,7)"
   ]
  },
  {
   "cell_type": "code",
   "execution_count": 387,
   "metadata": {},
   "outputs": [],
   "source": [
    "apt = aligner.B_to_A(all_poke_times)\n",
    "mask_array = build_mask_array(cell_array1,apt)"
   ]
  },
  {
   "cell_type": "code",
   "execution_count": 388,
   "metadata": {},
   "outputs": [
    {
     "data": {
      "text/plain": [
       "0.08727304317609243"
      ]
     },
     "execution_count": 388,
     "metadata": {},
     "output_type": "execute_result"
    }
   ],
   "source": [
    "np.mean(mask_array)"
   ]
  },
  {
   "cell_type": "code",
   "execution_count": 389,
   "metadata": {},
   "outputs": [
    {
     "data": {
      "text/plain": [
       "[<matplotlib.lines.Line2D at 0x7fe190340a50>]"
      ]
     },
     "execution_count": 389,
     "metadata": {},
     "output_type": "execute_result"
    },
    {
     "data": {
      "image/png": "[encoded data removed]",
      "text/plain": [
       "<Figure size 432x288 with 1 Axes>"
      ]
     },
     "metadata": {},
     "output_type": "display_data"
    }
   ],
   "source": [
    "plt.plot(mask_array)"
   ]
  },
  {
   "cell_type": "code",
   "execution_count": 390,
   "metadata": {},
   "outputs": [
    {
     "data": {
      "text/plain": [
       "(287775,)"
      ]
     },
     "execution_count": 390,
     "metadata": {},
     "output_type": "execute_result"
    }
   ],
   "source": [
    "mask_array.shape"
   ]
  },
  {
   "cell_type": "code",
   "execution_count": 391,
   "metadata": {},
   "outputs": [
    {
     "data": {
      "text/plain": [
       "(784, 287576)"
      ]
     },
     "execution_count": 391,
     "metadata": {},
     "output_type": "execute_result"
    }
   ],
   "source": [
    "cell_array1.shape"
   ]
  },
  {
   "cell_type": "code",
   "execution_count": 392,
   "metadata": {},
   "outputs": [
    {
     "data": {
      "text/plain": [
       "array([0, 0, 0, ..., 0, 0, 0])"
      ]
     },
     "execution_count": 392,
     "metadata": {},
     "output_type": "execute_result"
    }
   ],
   "source": [
    "np.concatenate([[0],mask_array])"
   ]
  },
  {
   "cell_type": "code",
   "execution_count": 393,
   "metadata": {},
   "outputs": [
    {
     "name": "stdout",
     "output_type": "stream",
     "text": [
      "(287775,) (784, 25115)\n"
     ]
    }
   ],
   "source": [
    "cell_array1 = cell_array1[:,np.where(np.concatenate([[0],mask_array]))[0]]\n",
    "print(mask_array.shape,cell_array1.shape)"
   ]
  },
  {
   "cell_type": "code",
   "execution_count": 394,
   "metadata": {},
   "outputs": [
    {
     "name": "stdout",
     "output_type": "stream",
     "text": [
      "running 7/7"
     ]
    }
   ],
   "source": [
    "n_neurons = len(grid_cell_list) #cell_array.shape[0]\n",
    "res_store = []\n",
    "\n",
    "p_cov = 10*np.eye(n_back+2-1)\n",
    "p_covInv = np.linalg.inv(p_cov)\n",
    "for cell_ix,cell_y in enumerate(grid_cell_list):\n",
    "    sys.stdout.write('\\rrunning {}/{}'.format(cell_ix+1,n_neurons))\n",
    "    sys.stdout.flush()\n",
    "    for cell_x in grid_cell_list:\n",
    "     \n",
    "        arr2 = np.concatenate([np.zeros(n_back),cell_array1[cell_x],np.zeros(n_back)])\n",
    "        arr3 = toeplitz(np.arange(n_back),arr2)[:,n_back:-n_back]\n",
    "\n",
    "        DM = np.vstack([np.ones_like(cell_array1[0]),np.mean(np.delete(cell_array1.copy(),cell_y,axis=0),axis=0),arr3])\n",
    "        DM[1:] = stt.zscore(DM[1:],axis=1)\n",
    "        spk = cell_array1[cell_y]\n",
    "        res = op.minimize(logL_prior,\n",
    "                   [0]*DM.shape[0],\n",
    "                   args=(DM,spk,np.zeros(n_back+2-1),p_cov,p_covInv),\n",
    "                   method='Newton-CG',\n",
    "                   jac=grad_prior,\n",
    "                   hess=hess_prior)\n",
    "        \n",
    "\n",
    "        res_store.append(res.x)"
   ]
  },
  {
   "cell_type": "code",
   "execution_count": 396,
   "metadata": {},
   "outputs": [
    {
     "name": "stdout",
     "output_type": "stream",
     "text": [
      "287576 33333333333333 (784, 501194)\n"
     ]
    }
   ],
   "source": [
    "cell_array2 = build_spike_array_direct(spkC,spkT,bin_size=10,sample_rate=30000,start=samples_offset)"
   ]
  },
  {
   "cell_type": "code",
   "execution_count": null,
   "metadata": {},
   "outputs": [],
   "source": []
  },
  {
   "cell_type": "code",
   "execution_count": 397,
   "metadata": {},
   "outputs": [
    {
     "name": "stdout",
     "output_type": "stream",
     "text": [
      "running 7/7"
     ]
    }
   ],
   "source": [
    "n_neurons = len(grid_cell_list) #cell_array.shape[0]\n",
    "res_store2 = []\n",
    "for cell_ix,cell_y in enumerate(grid_cell_list):\n",
    "    sys.stdout.write('\\rrunning {}/{}'.format(cell_ix+1,n_neurons))\n",
    "    sys.stdout.flush()\n",
    "    for cell_x in grid_cell_list:\n",
    "     \n",
    "        arr2 = np.concatenate([np.zeros(n_back),cell_array2[cell_x],np.zeros(n_back)])\n",
    "        arr3 = toeplitz(np.arange(n_back),arr2)[:,n_back:-n_back]\n",
    "\n",
    "        DM = np.vstack([np.ones_like(cell_array2[0]),np.mean(np.delete(cell_array2.copy(),cell_y,axis=0),axis=0),arr3])\n",
    "        DM[1:] = stt.zscore(DM[1:],axis=1)\n",
    "        spk = cell_array2[cell_y]\n",
    "        res = op.minimize(logL_prior,\n",
    "                   [0]*DM.shape[0],\n",
    "                   args=(DM,spk,np.zeros(n_back+2-1),p_cov,p_covInv),\n",
    "                   method='Newton-CG',\n",
    "                   jac=grad_prior,\n",
    "                   hess=hess_prior)\n",
    "        \n",
    "        \n",
    "\n",
    "        res_store2.append(res.x)"
   ]
  },
  {
   "cell_type": "code",
   "execution_count": null,
   "metadata": {},
   "outputs": [],
   "source": []
  },
  {
   "cell_type": "code",
   "execution_count": null,
   "metadata": {},
   "outputs": [],
   "source": []
  },
  {
   "cell_type": "code",
   "execution_count": 400,
   "metadata": {},
   "outputs": [
    {
     "data": {
      "image/png": "[encoded data removed]",
      "text/plain": [
       "<Figure size 864x360 with 2 Axes>"
      ]
     },
     "metadata": {},
     "output_type": "display_data"
    }
   ],
   "source": [
    "plt.figure(figsize=(12,5))\n",
    "\n",
    "plt.subplot(2,1,1)\n",
    "corr_mtx1 = np.array(res_store)[:,2].reshape(n_neurons,n_neurons)\n",
    "#corr_mtx1[np.diag_indices_from(corr_mtx1)] = 0\n",
    "plt.imshow(corr_mtx1,vmin=-.2,vmax=.2)\n",
    "\n",
    "plt.subplot(2,1,2)\n",
    "corr_mtx2 = np.array(res_store2)[:,2].reshape(n_neurons,n_neurons)\n",
    "#corr_mtx2[np.diag_indices_from(corr_mtx2)] = 0\n",
    "plt.imshow(corr_mtx2,vmin=-.2,vmax=.2)\n",
    "\n",
    "plt.tight_layout()"
   ]
  },
  {
   "cell_type": "code",
   "execution_count": 399,
   "metadata": {},
   "outputs": [
    {
     "data": {
      "text/plain": [
       "0.016185348697800625"
      ]
     },
     "execution_count": 399,
     "metadata": {},
     "output_type": "execute_result"
    }
   ],
   "source": [
    "np.corrcoef(corr_mtx1.flatten(),corr_mtx2.flatten())[0,1]"
   ]
  },
  {
   "cell_type": "code",
   "execution_count": 256,
   "metadata": {},
   "outputs": [
    {
     "data": {
      "image/png": "[encoded data removed]",
      "text/plain": [
       "<Figure size 864x288 with 1 Axes>"
      ]
     },
     "metadata": {},
     "output_type": "display_data"
    }
   ],
   "source": [
    "plt.figure(figsize=(12,4))\n",
    "clrs = seaborn.color_palette(n_colors=8)\n",
    "\n",
    "for ctr,cc in enumerate(corr_mtx1.flatten()):\n",
    "    plt.plot([ctr,ctr],[0,cc],color=clrs[1])\n",
    "    plt.scatter([ctr],[cc],color=clrs[1])\n",
    "\n",
    "\n",
    "for ctr,cc in enumerate(corr_mtx2.flatten()):\n",
    "    plt.plot([ctr,ctr],[0,cc],color=clrs[0])\n",
    "    plt.scatter([ctr],[cc],color=clrs[0])\n",
    "\n",
    "plt.axhline(y=0,color='k',linewidth=.5)\n",
    "#plt.plot(corr_mtx1.flatten())\n",
    "plt.xlabel(\"Neuron pair\")\n",
    "plt.ylabel(r\"Correlation coefficient ($\\beta$)\")\n",
    "seaborn.despine()"
   ]
  },
  {
   "cell_type": "code",
   "execution_count": null,
   "metadata": {},
   "outputs": [],
   "source": []
  }
 ],
 "metadata": {
  "kernelspec": {
   "display_name": "Python 3",
   "language": "python",
   "name": "python3"
  },
  "language_info": {
   "codemirror_mode": {
    "name": "ipython",
    "version": 3
   },
   "file_extension": ".py",
   "mimetype": "text/x-python",
   "name": "python",
   "nbconvert_exporter": "python",
   "pygments_lexer": "ipython3",
   "version": "3.7.4"
  }
 },
 "nbformat": 4,
 "nbformat_minor": 4
}
