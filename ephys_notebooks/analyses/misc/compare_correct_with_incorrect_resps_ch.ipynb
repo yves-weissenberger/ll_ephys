{
 "cells": [
  {
   "cell_type": "markdown",
   "metadata": {},
   "source": [
    "# What it says on the tin\n",
    "\n",
    "If you assume that task space is meaningfully represented, you would assume that correct and incorrect (in the sense of being in the wrong place in the sequence) would be represented differently. It looks like that is not the case though, sadly."
   ]
  },
  {
   "cell_type": "code",
   "execution_count": 1,
   "metadata": {},
   "outputs": [
    {
     "name": "stderr",
     "output_type": "stream",
     "text": [
      "/Users/yves/opt/anaconda3/lib/python3.7/site-packages/statsmodels/tools/_testing.py:19: FutureWarning: pandas.util.testing is deprecated. Use the functions in the public API at pandas.testing instead.\n",
      "  import pandas.util.testing as tm\n"
     ]
    }
   ],
   "source": [
    "%matplotlib inline\n",
    "import numpy as np\n",
    "import matplotlib.pyplot as plt\n",
    "import os\n",
    "import re\n",
    "import seaborn\n",
    "import pandas as pd\n",
    "#import cv2\n",
    "import scipy.optimize as op\n",
    "import sys\n",
    "import scipy.stats as stt\n",
    "import networkx as nx\n",
    "import time\n",
    "import matplotlib\n",
    "import copy as cp\n",
    "import scipy.ndimage as ndi \n",
    "\n",
    "import scipy as sp\n",
    "import scipy.signal\n",
    "seaborn.set(style='ticks',font_scale=1.5)\n",
    "clrs = seaborn.color_palette(n_colors=4)"
   ]
  },
  {
   "cell_type": "code",
   "execution_count": 2,
   "metadata": {},
   "outputs": [],
   "source": [
    "poke_pos = np.array([1,-1])*np.array([ [149,0],\n",
    "                                 [68,19],[231,19],\n",
    "                               [0,62],[149,62],[298,62],\n",
    "                                 [68,105],[231,105],\n",
    "                                      [149,124]])"
   ]
  },
  {
   "cell_type": "markdown",
   "metadata": {},
   "source": [
    "# From pycontrol"
   ]
  },
  {
   "cell_type": "code",
   "execution_count": 3,
   "metadata": {},
   "outputs": [],
   "source": [
    "\n",
    "from mecll.rsync import Rsync_aligner\n",
    "from mecll.load import load_data\n",
    "from mecll.process_data.proc_beh import get_transitions_state, build_poke_df, get_in_task_pokes\n",
    "from mecll.process_data.proc_neural import get_all_resps, get_mean_resps, get_activity_for_each_poke, get_within_and_across_correlations\n",
    "from mecll.plot.plot_activity_on_graph import plot_activity_on_graph, plot_cell"
   ]
  },
  {
   "cell_type": "markdown",
   "metadata": {},
   "source": [
    "# Actual code"
   ]
  },
  {
   "cell_type": "code",
   "execution_count": 4,
   "metadata": {},
   "outputs": [],
   "source": [
    "from mecll.load import find_task_file"
   ]
  },
  {
   "cell_type": "code",
   "execution_count": 6,
   "metadata": {},
   "outputs": [
    {
     "name": "stdout",
     "output_type": "stream",
     "text": [
      "474 475\n"
     ]
    }
   ],
   "source": [
    "#Load behavioural data\n",
    "root_path = '/Users/yves/team_mouse Dropbox/MEC_data/spike_sorted/2021-07-29_39955_ks25/'\n",
    "#'/Users/yves/Downloads/example_files2_wOF//'\n",
    "\n",
    "out = load_data(root_path)\n",
    "spkT,spkC,single_units,events,lines,aligner = out"
   ]
  },
  {
   "cell_type": "code",
   "execution_count": 7,
   "metadata": {},
   "outputs": [],
   "source": [
    "#process task data\n",
    "all_poke_dict = get_in_task_pokes(lines,events)"
   ]
  },
  {
   "cell_type": "code",
   "execution_count": 8,
   "metadata": {},
   "outputs": [],
   "source": [
    "df = build_poke_df(lines,events)\n"
   ]
  },
  {
   "cell_type": "code",
   "execution_count": 9,
   "metadata": {},
   "outputs": [],
   "source": [
    "all_spk_store = get_activity_for_each_poke(df,spkT,spkC,single_units,aligner)"
   ]
  },
  {
   "cell_type": "code",
   "execution_count": 10,
   "metadata": {},
   "outputs": [
    {
     "data": {
      "text/plain": [
       "(31, 1571)"
      ]
     },
     "execution_count": 10,
     "metadata": {},
     "output_type": "execute_result"
    }
   ],
   "source": [
    "all_spk_store.shape"
   ]
  },
  {
   "cell_type": "code",
   "execution_count": 11,
   "metadata": {},
   "outputs": [
    {
     "name": "stdout",
     "output_type": "stream",
     "text": [
      "51 6\n",
      "36 4\n",
      "33 12\n",
      "44 2\n",
      "30 6\n",
      "38 6\n",
      "62 4\n",
      "18 4\n",
      "31 11\n",
      "13 13\n",
      "33 10\n",
      "34 4\n",
      "38 5\n",
      "22 4\n",
      "51 11\n",
      "16 14\n",
      "51 7\n",
      "16 9\n"
     ]
    }
   ],
   "source": [
    "store = []\n",
    "\n",
    "n_neurons = all_spk_store.shape[0]\n",
    "\n",
    "for neuron_ix in range(n_neurons):\n",
    "    tmp2 = []\n",
    "    for port_nr in range(9):\n",
    "        tmp1 = []\n",
    "        for task_nr in df.task_nr.unique():\n",
    "\n",
    "            v = df.loc[(df['port']==port_nr) &\n",
    "                       (df['reward']==True) & \n",
    "                       (df['correct']==True) & \n",
    "                       (df['task_nr']==task_nr)\n",
    "                      ]['time']\n",
    "\n",
    "\n",
    "            v2 = df.loc[(df['port']==port_nr) &\n",
    "                       (df['reward']==False) & \n",
    "                       (df['correct']==True) & \n",
    "                       (df['task_nr']==task_nr)\n",
    "                      ]['time']\n",
    "            if neuron_ix==0:\n",
    "                print(len(v.index),len(v2.index))\n",
    "            mean_diff = np.nanmean(all_spk_store[neuron_ix,v.index])-np.nanmean(all_spk_store[neuron_ix,v2.index])\n",
    "            tmp1.append(mean_diff)\n",
    "        tmp2.append(tmp1)\n",
    "    store.append(tmp2)"
   ]
  },
  {
   "cell_type": "code",
   "execution_count": 12,
   "metadata": {},
   "outputs": [],
   "source": [
    "store_same = []\n",
    "\n",
    "n_neurons = all_spk_store.shape[0]\n",
    "\n",
    "for neuron_ix in range(n_neurons):\n",
    "    tmp2 = []\n",
    "    for port_nr in range(9):\n",
    "        tmp1 = []\n",
    "        for task_nr in df.task_nr.unique():\n",
    "\n",
    "            is_correct = True\n",
    "            v = df.loc[(df['port']==port_nr) &\n",
    "                       (df['correct']==True) & \n",
    "                       (df['task_nr']==task_nr)\n",
    "                      ]['time']\n",
    "\n",
    "            n_fh = len(v.index)\n",
    "            first_half_inds = int(np.floor(n_fh/2.))\n",
    "            \n",
    "            mean_diff = (np.nanmean(all_spk_store[neuron_ix,v.index[:first_half_inds]])-\n",
    "                        np.nanmean(all_spk_store[neuron_ix,v.index[first_half_inds:]]))\n",
    "            tmp1.append(mean_diff)\n",
    "        tmp2.append(tmp1)\n",
    "    store_same.append(tmp2)"
   ]
  },
  {
   "cell_type": "code",
   "execution_count": 13,
   "metadata": {},
   "outputs": [],
   "source": [
    "store = np.array(store)\n",
    "store_same = np.array(store_same)"
   ]
  },
  {
   "cell_type": "code",
   "execution_count": 14,
   "metadata": {},
   "outputs": [
    {
     "data": {
      "image/png": "[encoded data removed]",
      "text/plain": [
       "<Figure size 432x288 with 1 Axes>"
      ]
     },
     "metadata": {
      "needs_background": "light"
     },
     "output_type": "display_data"
    }
   ],
   "source": [
    "bns_ = np.linspace(-3,3,num=50)\n",
    "seaborn.distplot(store.flatten(),kde=0,bins=bns_)\n",
    "seaborn.distplot(store_same.flatten(),kde=0,bins=bns_)\n",
    "plt.yscale('log')\n",
    "#plt.ylim(0,100) "
   ]
  },
  {
   "cell_type": "code",
   "execution_count": 15,
   "metadata": {},
   "outputs": [
    {
     "data": {
      "image/png": "[encoded data removed]",
      "text/plain": [
       "<Figure size 432x288 with 1 Axes>"
      ]
     },
     "metadata": {
      "needs_background": "light"
     },
     "output_type": "display_data"
    }
   ],
   "source": [
    "bns_ = np.linspace(-3,3,num=50)\n",
    "seaborn.distplot(store.flatten(),kde=0,bins=bns_)\n",
    "seaborn.distplot(store_same.flatten(),kde=0,bins=bns_)\n",
    "plt.yscale('log')\n",
    "#plt.ylim(0,100) "
   ]
  },
  {
   "cell_type": "code",
   "execution_count": 16,
   "metadata": {},
   "outputs": [
    {
     "data": {
      "text/plain": [
       "0.030277493872428812"
      ]
     },
     "execution_count": 16,
     "metadata": {},
     "output_type": "execute_result"
    }
   ],
   "source": [
    "np.var(store.flatten())"
   ]
  },
  {
   "cell_type": "code",
   "execution_count": 17,
   "metadata": {},
   "outputs": [
    {
     "data": {
      "text/plain": [
       "0.05251162378456262"
      ]
     },
     "execution_count": 17,
     "metadata": {},
     "output_type": "execute_result"
    }
   ],
   "source": [
    "np.var(store_same.flatten())"
   ]
  },
  {
   "cell_type": "code",
   "execution_count": null,
   "metadata": {},
   "outputs": [],
   "source": []
  },
  {
   "cell_type": "code",
   "execution_count": 18,
   "metadata": {},
   "outputs": [
    {
     "data": {
      "image/png": "[encoded data removed]",
      "text/plain": [
       "<Figure size 432x288 with 1 Axes>"
      ]
     },
     "metadata": {
      "needs_background": "light"
     },
     "output_type": "display_data"
    }
   ],
   "source": [
    "bns_ = np.linspace(-1,1,num=30)\n",
    "seaborn.distplot(np.abs(np.nanmean(store,axis=(1,2))),kde=0,bins=bns_,norm_hist=1)\n",
    "seaborn.distplot(np.abs(np.nanmean(store_same,axis=(1,2))),kde=0,bins=bns_,norm_hist=1)\n",
    "plt.yscale('log')\n",
    "#plt.ylim(0,100) "
   ]
  },
  {
   "cell_type": "code",
   "execution_count": 19,
   "metadata": {},
   "outputs": [
    {
     "data": {
      "text/plain": [
       "Text(0, 0.5, 'Correct - Incorrect resps')"
      ]
     },
     "execution_count": 19,
     "metadata": {},
     "output_type": "execute_result"
    },
    {
     "data": {
      "image/png": "[encoded data removed]",
      "text/plain": [
       "<Figure size 432x288 with 1 Axes>"
      ]
     },
     "metadata": {
      "needs_background": "light"
     },
     "output_type": "display_data"
    }
   ],
   "source": [
    "plt.scatter(np.abs(np.nanmean(store_same,axis=(1,2))),np.abs(np.nanmean(store,axis=(1,2))))\n",
    "plt.xlabel(\"Correct variability\")\n",
    "plt.ylabel(\"Correct - Incorrect resps\")"
   ]
  },
  {
   "cell_type": "code",
   "execution_count": 20,
   "metadata": {},
   "outputs": [
    {
     "data": {
      "image/png": "[encoded data removed]",
      "text/plain": [
       "<Figure size 432x288 with 1 Axes>"
      ]
     },
     "metadata": {
      "needs_background": "light"
     },
     "output_type": "display_data"
    }
   ],
   "source": [
    "bns_ = np.linspace(0,1,num=20)\n",
    "seaborn.distplot(np.abs(np.nanmean(store,axis=(1,2))),kde=0,bins=bns_,norm_hist=True)\n",
    "seaborn.distplot(np.abs(np.nanmean(store_same,axis=(1,2))),kde=0,bins=bns_,norm_hist=True)\n",
    "plt.yscale('log')\n",
    "#plt.ylim(0,100) "
   ]
  },
  {
   "cell_type": "code",
   "execution_count": 21,
   "metadata": {},
   "outputs": [
    {
     "data": {
      "text/plain": [
       "0.0036850510442522706"
      ]
     },
     "execution_count": 21,
     "metadata": {},
     "output_type": "execute_result"
    }
   ],
   "source": [
    "np.var(np.nanmean(store,axis=(1,2)))"
   ]
  },
  {
   "cell_type": "code",
   "execution_count": 22,
   "metadata": {},
   "outputs": [
    {
     "data": {
      "text/plain": [
       "0.021666739166635127"
      ]
     },
     "execution_count": 22,
     "metadata": {},
     "output_type": "execute_result"
    }
   ],
   "source": [
    "np.var(np.nanmean(store_same,axis=(1,2)))"
   ]
  },
  {
   "cell_type": "code",
   "execution_count": 23,
   "metadata": {},
   "outputs": [
    {
     "data": {
      "text/plain": [
       "Ks_2sampResult(statistic=0.06630824372759857, pvalue=0.17196225405188212)"
      ]
     },
     "execution_count": 23,
     "metadata": {},
     "output_type": "execute_result"
    }
   ],
   "source": [
    "stt.ks_2samp(np.abs(store.flatten()),np.abs(store_same.flatten()))"
   ]
  },
  {
   "cell_type": "code",
   "execution_count": 24,
   "metadata": {},
   "outputs": [
    {
     "data": {
      "text/plain": [
       "1.0645833333333332"
      ]
     },
     "execution_count": 24,
     "metadata": {},
     "output_type": "execute_result"
    }
   ],
   "source": [
    "np.max(store)"
   ]
  },
  {
   "cell_type": "code",
   "execution_count": 28,
   "metadata": {},
   "outputs": [],
   "source": [
    "is_correct = False\n",
    "v2 = df.loc[(df['port']==port_nr) &\n",
    "           (df['correct']==is_correct) & \n",
    "           #(df['next_correct']==True) &\n",
    "           #(df['reward']==True) &\n",
    "           #(df['port_repeat']==False) & \n",
    "           (df['task_nr']==task_nr)\n",
    "          ]['time']\n"
   ]
  },
  {
   "cell_type": "code",
   "execution_count": 29,
   "metadata": {},
   "outputs": [
    {
     "data": {
      "text/plain": [
       "0.06"
      ]
     },
     "execution_count": 29,
     "metadata": {},
     "output_type": "execute_result"
    }
   ],
   "source": [
    "np.mean(all_spk_store[5,v.index])"
   ]
  },
  {
   "cell_type": "code",
   "execution_count": 30,
   "metadata": {},
   "outputs": [
    {
     "data": {
      "text/plain": [
       "nan"
      ]
     },
     "execution_count": 30,
     "metadata": {},
     "output_type": "execute_result"
    }
   ],
   "source": [
    "np.mean(all_spk_store[5,v2.index])"
   ]
  },
  {
   "cell_type": "code",
   "execution_count": 31,
   "metadata": {},
   "outputs": [
    {
     "data": {
      "text/plain": [
       "Ks_2sampResult(statistic=0.04878048780487805, pvalue=0.999999999180252)"
      ]
     },
     "execution_count": 31,
     "metadata": {},
     "output_type": "execute_result"
    }
   ],
   "source": [
    "stt.ks_2samp(all_spk_store[5,v.index],all_spk_store[5,v2.index])"
   ]
  },
  {
   "cell_type": "markdown",
   "metadata": {},
   "source": [
    "# Now compare orders of activation"
   ]
  },
  {
   "cell_type": "code",
   "execution_count": 12,
   "metadata": {},
   "outputs": [
    {
     "name": "stdout",
     "output_type": "stream",
     "text": [
      "0 30 0\n",
      "0 24 1\n",
      "0 26 2\n",
      "0 33 3\n",
      "0 33 4\n",
      "0 10 5\n",
      "0 27 6\n",
      "0 26 7\n",
      "0 9 8\n"
     ]
    }
   ],
   "source": [
    "poke_dict_t1 ={}\n",
    "poke_dict_t2 = {}\n",
    "for port_nr in np.unique(df['port'].values):\n",
    "    for task_nr in range(2):\n",
    "        task_nr = str(task_nr)\n",
    "        v = df.loc[(df['port']==port_nr) &\n",
    "                   (df['correct']==True) & \n",
    "                   (df['reward']==True) &\n",
    "                   #(df['next_correct']==True) &\n",
    "                   (df['port_repeat']==False) & \n",
    "                   (df['task_nr']==task_nr)]['time'].values\n",
    "        #v = np.array(v).astype('float')\n",
    "        if task_nr=='0':\n",
    "            print(task_nr,len(v),str(port_nr),)\n",
    "            poke_dict_t1[str(port_nr)] = [float(i) for i in v]\n",
    "            poke_dict_t1['task_nr'] = str(task_nr)\n",
    "            poke_dict_t1['graph_type'] = df.loc[df['task_nr']==task_nr]['graph_type'].values[0]\n",
    "\n",
    "            poke_dict_t1['seq'] = df.loc[df['task_nr']==task_nr]['current_sequence'].values[0]\n",
    "\n",
    "        else:\n",
    "            poke_dict_t2[str(port_nr)] = [float(i) for i in v]\n",
    "            poke_dict_t2['task_nr'] = str(task_nr)\n",
    "            poke_dict_t2['graph_type'] = df.loc[df['task_nr']==task_nr]['graph_type'].values[0]\n",
    "            poke_dict_t2['seq'] = df.loc[df['task_nr']==task_nr]['current_sequence'].values[0]\n",
    "\n",
    "   "
   ]
  },
  {
   "cell_type": "code",
   "execution_count": 13,
   "metadata": {},
   "outputs": [],
   "source": [
    "out1 = get_all_resps(aligner,poke_dict_t1,single_units,spkT,spkC)\n",
    "all_resps_g1_single_trial, (all_resps1_g1_single_trial,all_resps2_g1_single_trial) = out1\n",
    "out2 = get_all_resps(aligner,poke_dict_t2,single_units,spkT,spkC)\n",
    "all_resps_g2_single_trial, (all_resps1_g2_single_trial,all_resps2_g2_single_trial) = out2\n",
    "\n",
    "all_resps_g1,_ = get_mean_resps(all_resps_g1_single_trial)\n",
    "all_resps_g2,_ = get_mean_resps(all_resps_g2_single_trial)\n",
    "\n",
    "\n",
    "all_resps1_g1,_ = get_mean_resps(all_resps1_g1_single_trial)\n",
    "all_resps1_g2,_ = get_mean_resps(all_resps1_g2_single_trial)\n",
    "\n",
    "all_resps2_g1,_ = get_mean_resps(all_resps2_g1_single_trial)\n",
    "all_resps2_g2,_ = get_mean_resps(all_resps2_g2_single_trial)"
   ]
  },
  {
   "cell_type": "code",
   "execution_count": 51,
   "metadata": {},
   "outputs": [
    {
     "name": "stderr",
     "output_type": "stream",
     "text": [
      "/Users/yves/opt/anaconda3/lib/python3.7/site-packages/ipykernel_launcher.py:25: RuntimeWarning: Mean of empty slice\n"
     ]
    }
   ],
   "source": [
    "store = []\n",
    "\n",
    "n_neurons = all_spk_store.shape[0]\n",
    "\n",
    "for neuron_ix in range(n_neurons):\n",
    "    tmp2 = []\n",
    "    for port_nr in range(9):\n",
    "        tmp1 = []\n",
    "        for task_nr in df.task_nr.unique():\n",
    "\n",
    "            is_correct = True\n",
    "            v = df.loc[(df['port']==port_nr) &\n",
    "                       (df['reward']==False) & \n",
    "                       (df['correct']==True) & \n",
    "                       (df['task_nr']==task_nr)\n",
    "                      ]['time']\n",
    "\n",
    "\n",
    "            v2 = df.loc[(df['port']==port_nr) &\n",
    "                       (df['reward']==False) & \n",
    "                       (df['correct']==False) & \n",
    "                       (df['task_nr']==task_nr)\n",
    "                      ]['time']\n",
    "            \n",
    "            mean_diff = [np.nanmean(all_spk_store[neuron_ix,v.index]),np.nanmean(all_spk_store[neuron_ix,v2.index])]\n",
    "            tmp1.append(mean_diff)\n",
    "        tmp2.append(tmp1)\n",
    "    store.append(tmp2)"
   ]
  },
  {
   "cell_type": "code",
   "execution_count": 52,
   "metadata": {},
   "outputs": [],
   "source": [
    "store_same = []\n",
    "\n",
    "n_neurons = all_spk_store.shape[0]\n",
    "\n",
    "for neuron_ix in range(n_neurons):\n",
    "    tmp2 = []\n",
    "    for port_nr in range(9):\n",
    "        tmp1 = []\n",
    "        for task_nr in df.task_nr.unique():\n",
    "\n",
    "            is_correct = True\n",
    "            v = df.loc[(df['port']==port_nr) &\n",
    "                       (df['correct']==True) & \n",
    "                       (df['task_nr']==task_nr)\n",
    "                      ]['time']\n",
    "\n",
    "            n_fh = len(v.index)\n",
    "            first_half_inds = int(np.floor(n_fh/2.))\n",
    "            \n",
    "            mean_diff = (np.nanmean(all_spk_store[neuron_ix,v.index[:first_half_inds]]),\n",
    "                        np.nanmean(all_spk_store[neuron_ix,v.index[first_half_inds:]]))\n",
    "            tmp1.append(mean_diff)\n",
    "        tmp2.append(tmp1)\n",
    "    store_same.append(tmp2)"
   ]
  },
  {
   "cell_type": "code",
   "execution_count": 53,
   "metadata": {},
   "outputs": [
    {
     "name": "stdout",
     "output_type": "stream",
     "text": [
      "0.569387982362058\n",
      "0.5683167131395044\n",
      "0.4753307759607607\n"
     ]
    },
    {
     "name": "stderr",
     "output_type": "stream",
     "text": [
      "/Users/yves/opt/anaconda3/lib/python3.7/site-packages/numpy/lib/function_base.py:2559: RuntimeWarning: invalid value encountered in true_divide\n",
      "  c /= stddev[:, None]\n",
      "/Users/yves/opt/anaconda3/lib/python3.7/site-packages/numpy/lib/function_base.py:2560: RuntimeWarning: invalid value encountered in true_divide\n",
      "  c /= stddev[None, :]\n"
     ]
    }
   ],
   "source": [
    "ccs_within,ccs_across,_ = get_within_and_across_correlations(all_resps1_g1,all_resps2_g1,\n",
    "                                                             all_resps1_g2,all_resps2_g2,\n",
    "                                                             all_resps_g1,all_resps_g2)"
   ]
  },
  {
   "cell_type": "code",
   "execution_count": 64,
   "metadata": {},
   "outputs": [],
   "source": [
    "store = np.array(store)\n",
    "store_same = np.array(store_same)"
   ]
  },
  {
   "cell_type": "code",
   "execution_count": 65,
   "metadata": {},
   "outputs": [],
   "source": [
    "store2 = store.swapaxes(1,-1)\n",
    "store_same2 = store_same.swapaxes(1,-1)"
   ]
  },
  {
   "cell_type": "code",
   "execution_count": 97,
   "metadata": {},
   "outputs": [
    {
     "name": "stderr",
     "output_type": "stream",
     "text": [
      "'c' argument looks like a single numeric RGB or RGBA sequence, which should be avoided as value-mapping will have precedence in case its length matches with 'x' & 'y'.  Please use a 2-D array with a single row if you really want to specify the same RGB or RGBA value for all points.\n",
      "'c' argument looks like a single numeric RGB or RGBA sequence, which should be avoided as value-mapping will have precedence in case its length matches with 'x' & 'y'.  Please use a 2-D array with a single row if you really want to specify the same RGB or RGBA value for all points.\n"
     ]
    },
    {
     "data": {
      "image/png": "[encoded data removed]",
      "text/plain": [
       "<Figure size 864x288 with 3 Axes>"
      ]
     },
     "metadata": {},
     "output_type": "display_data"
    }
   ],
   "source": [
    "plt.figure(figsize=(12,4))\n",
    "plt.subplot(1,3,1)\n",
    "plt.title(\"correct vs incorrect\")\n",
    "\n",
    "plt.scatter(store2.swapaxes(0,1).reshape(2,-1)[0],store2.swapaxes(0,1).reshape(2,-1)[1],alpha=.2)\n",
    "plt.xlim(0,12)\n",
    "plt.ylim(0,12)\n",
    "plt.xlabel(\"Firing rate \\nCorrect Poke (Hz)\")\n",
    "plt.ylabel(\"Firing rate \\nIncorrect Poke (Hz)\")\n",
    "\n",
    "plt.subplot(1,3,2)\n",
    "plt.title(\"correct vs correct\")\n",
    "plt.scatter(store_same2.swapaxes(0,1).reshape(2,-1)[0],store2.swapaxes(0,1).reshape(2,-1)[1],alpha=.1,c=clrs[1])\n",
    "plt.xlim(0,12)\n",
    "plt.ylim(0,12)\n",
    "\n",
    "plt.subplot(1,3,3)\n",
    "plt.title(\"Overlayed\")\n",
    "\n",
    "plt.scatter(store2.swapaxes(0,1).reshape(2,-1)[0],store2.swapaxes(0,1).reshape(2,-1)[1],alpha=.2)\n",
    "plt.scatter(store_same2.swapaxes(0,1).reshape(2,-1)[0],store2.swapaxes(0,1).reshape(2,-1)[1],alpha=.1,c=clrs[1])\n",
    "\n",
    "plt.xlim(0,12)\n",
    "plt.ylim(0,12)\n",
    "\n",
    "plt.tight_layout()\n",
    "seaborn.despine()"
   ]
  },
  {
   "cell_type": "code",
   "execution_count": 74,
   "metadata": {},
   "outputs": [
    {
     "data": {
      "text/plain": [
       "array([[1.        , 0.88748288],\n",
       "       [0.88748288, 1.        ]])"
      ]
     },
     "execution_count": 74,
     "metadata": {},
     "output_type": "execute_result"
    }
   ],
   "source": [
    "r1 = store2.swapaxes(0,1).reshape(2,-1)[0]\n",
    "r2 = store2.swapaxes(0,1).reshape(2,-1)[1]\n",
    "ixs = np.isfinite(r1+r2)\n",
    "np.corrcoef(r1[ixs],r2[ixs])"
   ]
  },
  {
   "cell_type": "code",
   "execution_count": 75,
   "metadata": {},
   "outputs": [
    {
     "data": {
      "text/plain": [
       "array([[1.        , 0.97021439],\n",
       "       [0.97021439, 1.        ]])"
      ]
     },
     "execution_count": 75,
     "metadata": {},
     "output_type": "execute_result"
    }
   ],
   "source": [
    "r1 = store_same2.swapaxes(0,1).reshape(2,-1)[0]\n",
    "r2 = store_same2.swapaxes(0,1).reshape(2,-1)[1]\n",
    "ixs = np.isfinite(r1+r2)\n",
    "np.corrcoef(r1[ixs],r2[ixs])"
   ]
  },
  {
   "cell_type": "code",
   "execution_count": 57,
   "metadata": {},
   "outputs": [
    {
     "data": {
      "text/plain": [
       "(320, 2, 2, 9)"
      ]
     },
     "execution_count": 57,
     "metadata": {},
     "output_type": "execute_result"
    }
   ],
   "source": [
    "store2.shape"
   ]
  },
  {
   "cell_type": "code",
   "execution_count": 78,
   "metadata": {},
   "outputs": [],
   "source": [
    "cross_neuron_ccs = []\n",
    "for neuron_rates in store2.reshape([320,2,-1]):\n",
    "    r1 = neuron_rates[0]\n",
    "    r2 = neuron_rates[1]\n",
    "    ixs = np.isfinite(r1+r2)\n",
    "    cross_neuron_ccs.append(np.corrcoef(r1[ixs],r2[ixs])[0,1])\n",
    "cross_neuron_ccs = np.array(cross_neuron_ccs)"
   ]
  },
  {
   "cell_type": "code",
   "execution_count": 79,
   "metadata": {},
   "outputs": [
    {
     "data": {
      "text/plain": [
       "<matplotlib.axes._subplots.AxesSubplot at 0x7f878312bfd0>"
      ]
     },
     "execution_count": 79,
     "metadata": {},
     "output_type": "execute_result"
    },
    {
     "data": {
      "image/png": "[encoded data removed]",
      "text/plain": [
       "<Figure size 432x288 with 1 Axes>"
      ]
     },
     "metadata": {},
     "output_type": "display_data"
    }
   ],
   "source": [
    "seaborn.distplot(cross_neuron_ccs[np.isfinite(cross_neuron_ccs)],kde=0)"
   ]
  },
  {
   "cell_type": "code",
   "execution_count": 80,
   "metadata": {},
   "outputs": [
    {
     "data": {
      "text/plain": [
       "<matplotlib.lines.Line2D at 0x7f876110fb90>"
      ]
     },
     "execution_count": 80,
     "metadata": {},
     "output_type": "execute_result"
    },
    {
     "data": {
      "image/png": "[encoded data removed]",
      "text/plain": [
       "<Figure size 432x288 with 1 Axes>"
      ]
     },
     "metadata": {},
     "output_type": "display_data"
    }
   ],
   "source": [
    "ixs = np.isfinite(cross_neuron_ccs)\n",
    "plt.scatter(ccs_within[ixs],cross_neuron_ccs[ixs])\n",
    "plt.xlabel(\"Within task stability\")\n",
    "plt.ylabel(\"Correlation correct vs\\nincorrect pokes\")\n",
    "plt.axvline(x=0,color='.3',linestyle='--')\n",
    "plt.axhline(y=0,color='.3',linestyle='--')\n"
   ]
  },
  {
   "cell_type": "code",
   "execution_count": 40,
   "metadata": {},
   "outputs": [
    {
     "data": {
      "text/plain": [
       "array([ 0.        ,  0.015     , -0.01578947,  0.012     ,  0.        ,\n",
       "        0.        ,  0.        , -0.01764706,  0.        ])"
      ]
     },
     "execution_count": 40,
     "metadata": {},
     "output_type": "execute_result"
    }
   ],
   "source": [
    "r2"
   ]
  },
  {
   "cell_type": "code",
   "execution_count": 33,
   "metadata": {},
   "outputs": [
    {
     "name": "stdout",
     "output_type": "stream",
     "text": [
      "[1.95       1.60588235 1.24285714 1.92       0.925      0.075\n",
      " 2.1375     0.66666667 1.4625    ]\n",
      "[0.4        3.45       0.92727273 1.5        1.32       0.8\n",
      " 2.1        0.35       2.1       ]\n"
     ]
    }
   ],
   "source": [
    "neuron_ix = 164\n",
    "task_ix = 0\n",
    "print(store2[neuron_ix,0,task_ix,:])\n",
    "print(store2[neuron_ix,1,task_ix,:])"
   ]
  },
  {
   "cell_type": "code",
   "execution_count": 34,
   "metadata": {},
   "outputs": [
    {
     "data": {
      "text/plain": [
       "array([5, 7, 4, 2, 8, 1, 3, 0, 6])"
      ]
     },
     "execution_count": 34,
     "metadata": {},
     "output_type": "execute_result"
    }
   ],
   "source": [
    "np.argsort(store2[neuron_ix,0,task_ix,:])"
   ]
  },
  {
   "cell_type": "code",
   "execution_count": 35,
   "metadata": {},
   "outputs": [
    {
     "data": {
      "text/plain": [
       "array([7, 0, 5, 2, 4, 3, 8, 6, 1])"
      ]
     },
     "execution_count": 35,
     "metadata": {},
     "output_type": "execute_result"
    }
   ],
   "source": [
    "np.argsort(store2[neuron_ix,1,task_ix,:])"
   ]
  },
  {
   "cell_type": "code",
   "execution_count": 38,
   "metadata": {},
   "outputs": [
    {
     "data": {
      "text/plain": [
       "<matplotlib.collections.PathCollection at 0x7f8bd0e6d390>"
      ]
     },
     "execution_count": 38,
     "metadata": {},
     "output_type": "execute_result"
    },
    {
     "data": {
      "image/png": "[encoded data removed]",
      "text/plain": [
       "<Figure size 432x288 with 1 Axes>"
      ]
     },
     "metadata": {
      "needs_background": "light"
     },
     "output_type": "display_data"
    }
   ],
   "source": [
    "plt.scatter(store2[neuron_ix,0,task_ix,:],store2[neuron_ix,1,task_ix,:])"
   ]
  },
  {
   "cell_type": "code",
   "execution_count": null,
   "metadata": {},
   "outputs": [],
   "source": []
  }
 ],
 "metadata": {
  "kernelspec": {
   "display_name": "Python 3",
   "language": "python",
   "name": "python3"
  },
  "language_info": {
   "codemirror_mode": {
    "name": "ipython",
    "version": 3
   },
   "file_extension": ".py",
   "mimetype": "text/x-python",
   "name": "python",
   "nbconvert_exporter": "python",
   "pygments_lexer": "ipython3",
   "version": "3.7.4"
  }
 },
 "nbformat": 4,
 "nbformat_minor": 2
}
