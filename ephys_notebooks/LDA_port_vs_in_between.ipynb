{
 "cells": [
  {
   "cell_type": "code",
   "execution_count": 27,
   "metadata": {},
   "outputs": [],
   "source": [
    "%matplotlib inline\n",
    "import numpy as np\n",
    "import matplotlib.pyplot as plt\n",
    "import os\n",
    "import re\n",
    "import seaborn\n",
    "import pandas as pd\n",
    "#import cv2\n",
    "import scipy.optimize as op\n",
    "import sys\n",
    "import networkx as nx\n",
    "import time\n",
    "import matplotlib\n",
    "import copy as cp\n",
    "import scipy.ndimage as ndi \n",
    "from scipy.ndimage import gaussian_filter1d\n",
    "import scipy as sp\n",
    "import scipy.signal\n",
    "seaborn.set(style='ticks',font_scale=1.5)\n",
    "\n",
    "sys.path.append('/Users/yves/Documents/Code/mec_ephys/packages')\n"
   ]
  },
  {
   "cell_type": "code",
   "execution_count": 28,
   "metadata": {},
   "outputs": [],
   "source": [
    "sys.path.append('/Users/yves/Documents/Code/mec_ephys/packages')\n",
    "\n",
    "from mecll.rsync import Rsync_aligner\n",
    "from mecll.proc_beh import get_all_transition, get_transitions_state, build_poke_df\n",
    "from mecll.proc_neural import get_all_resps, get_mean_resps\n",
    "from mecll.load import load_data\n",
    "from mecll.SVD_analysis import get_mean_activity_matrix\n",
    "from mecll.utils import align_activity"
   ]
  },
  {
   "cell_type": "code",
   "execution_count": 29,
   "metadata": {},
   "outputs": [],
   "source": [
    "root_path = '/Users/yves/Downloads/example_files/'\n",
    "out = load_data(root_path)\n",
    "spkT,spkC,single_units,events,lines,aligner = out\n",
    "\n",
    "\n",
    "single_unit_spkC = np.isin(spkC,single_units)\n"
   ]
  },
  {
   "cell_type": "code",
   "execution_count": 30,
   "metadata": {},
   "outputs": [],
   "source": [
    "df = build_poke_df(lines,events)"
   ]
  },
  {
   "cell_type": "code",
   "execution_count": 31,
   "metadata": {},
   "outputs": [],
   "source": [
    "df['previous_port'][1:] = df['port'][:-1]\n",
    "df['previous_state'][1:] = df['state'][:-1]"
   ]
  },
  {
   "cell_type": "code",
   "execution_count": 32,
   "metadata": {},
   "outputs": [],
   "source": [
    "spkT_ms = aligner.A_to_B(spkT)\n",
    "spk_join = np.vstack([spkC,spkT_ms])[:,single_unit_spkC]"
   ]
  },
  {
   "cell_type": "code",
   "execution_count": 24,
   "metadata": {},
   "outputs": [],
   "source": [
    "poke_dict_t1 ={}\n",
    "poke_dict_t2 = {}\n",
    "\n",
    "dicts = [{} for _ in range(4)]\n",
    "\n",
    "for port_nr in np.unique(df['state'].values):\n",
    "    \n",
    "    kk = 0\n",
    "    for task_nr in range(2):\n",
    "        for direction in np.unique(df['direction'].values):\n",
    "            task_nr = str(task_nr)\n",
    "            indices = np.where((df['state']==port_nr) &\n",
    "                               (df['correct']==True) & \n",
    "                               (df['direction']==direction) &\n",
    "                               (df['port_repeat']==False) & \n",
    "                               (df['task_nr']==task_nr))[0]\n",
    "            indices = indices[indices>0]\n",
    "            v = df.loc[indices]['time'].values\n",
    "            prev_v = df.loc[indices-1]['time'].values\n",
    "            #print(direction,df.loc[indices]['state'].values - df.loc[indices-1]['state'].values)\n",
    "\n",
    "            \n",
    "            dicts[kk][str(port_nr)] = [[float(j),float(i)] for i,j in zip(v,prev_v) if (i-j)<800]\n",
    "            dicts[kk]['task_nr'] = str(task_nr)\n",
    "            dicts[kk]['direction'] = str(direction)\n",
    "            dicts[kk]['graph_type'] = df.loc[df['task_nr']==task_nr]['graph_type'].values[0]\n",
    "            dicts[kk]['seq'] = df.loc[df['task_nr']==task_nr]['current_sequence'].values[0]\n",
    "            kk += 1\n"
   ]
  },
  {
   "cell_type": "code",
   "execution_count": null,
   "metadata": {},
   "outputs": [],
   "source": []
  },
  {
   "cell_type": "code",
   "execution_count": 14,
   "metadata": {},
   "outputs": [
    {
     "name": "stdout",
     "output_type": "stream",
     "text": [
      "9\n",
      "12\n",
      "15\n",
      "11\n",
      "14\n",
      "11\n",
      "10\n",
      "13\n",
      "0\n",
      "0\n",
      "12\n",
      "14\n",
      "16\n",
      "15\n",
      "19\n",
      "16\n",
      "13\n",
      "9\n"
     ]
    }
   ],
   "source": [
    "n_timepoints = 25\n",
    "n_neurons = len((list(set(spk_join[0]))))\n",
    "\n",
    "all_big_array = []\n",
    "all_big_store = []\n",
    "for dict_ix in[0,1]:\n",
    "    \n",
    "    big_array = np.zeros([n_neurons,n_timepoints*9])\n",
    "    big_store = []\n",
    "    for state_nr in range(9):\n",
    "\n",
    "        direction = dicts[dict_ix]['direction']\n",
    "        trial_events = np.array(dicts[dict_ix][str(state_nr)])\n",
    "        print(len(trial_events))\n",
    "        if len(trial_events)>0:\n",
    "            out = align_activity(trial_events,np.array([0,1000]),spk_join,fs=25)\n",
    "            #if len\n",
    "            #algined_rates.shape = [n_trials, n_neurons, n_timepoints]\n",
    "            aligned_rates, t_out, min_max_stretch = out\n",
    "\n",
    "            mean_aligned_rates = np.nanmean(aligned_rates,axis=0)\n",
    "        else:\n",
    "            mean_aligned_rates = np.zeros([n_neurons,n_timepoints]) + np.nan\n",
    "        if direction=='-1':\n",
    "            big_array[:,state_nr*n_timepoints:(state_nr+1)*n_timepoints] = np.fliplr(mean_aligned_rates)\n",
    "            big_store.append(np.flip(aligned_rates,axis=2))\n",
    "        if direction=='1':\n",
    "            big_array[:,(1+state_nr-1)*n_timepoints:(1+state_nr)*n_timepoints] = mean_aligned_rates\n",
    "            big_store.append(aligned_rates)\n",
    "\n",
    "    all_big_array.append(big_array)\n",
    "    all_big_store.append(big_store)"
   ]
  },
  {
   "cell_type": "code",
   "execution_count": 21,
   "metadata": {},
   "outputs": [
    {
     "data": {
      "text/plain": [
       "320"
      ]
     },
     "execution_count": 21,
     "metadata": {},
     "output_type": "execute_result"
    }
   ],
   "source": [
    "#all_big_store.shape = (n_directions x n_states x n_trials x n_neurons x n_timepoints)\n",
    "#not an array as has different numbers of trials for each\n",
    "len(all_big_store[0][2][0])"
   ]
  },
  {
   "cell_type": "code",
   "execution_count": 23,
   "metadata": {},
   "outputs": [
    {
     "data": {
      "text/plain": [
       "(15, 320, 25)"
      ]
     },
     "execution_count": 23,
     "metadata": {},
     "output_type": "execute_result"
    }
   ],
   "source": [
    "classes = []\n",
    "for state_arr in all_big_store[0]:\n",
    "    state_arr"
   ]
  },
  {
   "cell_type": "code",
   "execution_count": 25,
   "metadata": {},
   "outputs": [],
   "source": [
    "from sklearn.naive_bayes import GaussianNB"
   ]
  },
  {
   "cell_type": "code",
   "execution_count": null,
   "metadata": {},
   "outputs": [],
   "source": []
  },
  {
   "cell_type": "code",
   "execution_count": null,
   "metadata": {},
   "outputs": [],
   "source": []
  }
 ],
 "metadata": {
  "kernelspec": {
   "display_name": "Python 3",
   "language": "python",
   "name": "python3"
  },
  "language_info": {
   "codemirror_mode": {
    "name": "ipython",
    "version": 3
   },
   "file_extension": ".py",
   "mimetype": "text/x-python",
   "name": "python",
   "nbconvert_exporter": "python",
   "pygments_lexer": "ipython3",
   "version": "3.7.4"
  }
 },
 "nbformat": 4,
 "nbformat_minor": 2
}
