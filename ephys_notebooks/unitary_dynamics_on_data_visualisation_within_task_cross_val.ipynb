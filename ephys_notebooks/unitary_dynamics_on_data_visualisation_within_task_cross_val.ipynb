{
 "cells": [
  {
   "cell_type": "code",
   "execution_count": 161,
   "metadata": {},
   "outputs": [],
   "source": [
    "#%matplotlib inline\n",
    "import sys\n",
    "import os\n",
    "\n",
    "\n",
    "import numpy as np\n",
    "import matplotlib.pyplot as plt\n",
    "import scipy.ndimage as ndi\n",
    "import pandas as pd\n",
    "import networkx as nx\n",
    "import scipy.optimize as op\n",
    "import scipy.stats as stt\n",
    "import matplotlib\n",
    "from sklearn.decomposition import PCA\n",
    "#optional for nicer plots\n",
    "import seaborn\n",
    "\n",
    "clrs = seaborn.color_palette(n_colors=6)\n",
    "seaborn.set(style='ticks',font_scale=1.5)"
   ]
  },
  {
   "cell_type": "code",
   "execution_count": 162,
   "metadata": {},
   "outputs": [],
   "source": [
    "poke_pos = np.array([1,-1])*np.array([ [149,0],\n",
    "                                 [68,19],[231,19],\n",
    "                               [0,62],[149,62],[298,62],\n",
    "                                 [68,105],[231,105],\n",
    "                                      [149,124]])"
   ]
  },
  {
   "cell_type": "code",
   "execution_count": 163,
   "metadata": {},
   "outputs": [],
   "source": [
    "sys.path.append(\"/Users/yves/Desktop/retreat_data_dir/code/\")\n",
    "from mecll.task import plot_activity_on_graph, get_all_transitions, get_transitions_state"
   ]
  },
  {
   "cell_type": "code",
   "execution_count": 164,
   "metadata": {},
   "outputs": [],
   "source": [
    "import mecll"
   ]
  },
  {
   "cell_type": "code",
   "execution_count": 165,
   "metadata": {},
   "outputs": [],
   "source": [
    "sys.path.append(\"/Users/yves/Documents/Code/mec_ephys/packages/mecll/dynamics/\")"
   ]
  },
  {
   "cell_type": "code",
   "execution_count": 166,
   "metadata": {},
   "outputs": [],
   "source": [
    "\n",
    "from unitary_dynamics import predict, grad, get_basis_tensor, jnp, construct_M, caley_transform"
   ]
  },
  {
   "cell_type": "code",
   "execution_count": 167,
   "metadata": {},
   "outputs": [],
   "source": [
    "def load_data(selected_session,by_dir=False):\n",
    "    \n",
    "    \"\"\" Function to load data structured according to the format\n",
    "        that the data were delivered to the retreat for\n",
    "    \"\"\"\n",
    "    all_data_dir = '/Users/yves/Desktop/retreat_data_dir/data/'\n",
    "    all_data_folders = sorted([i for i in os.listdir(all_data_dir) if 'ks25' in i])\n",
    "    root_dir = os.path.join(all_data_dir,all_data_folders[selected_session])\n",
    "    spkT = np.load(os.path.join(root_dir,'spkT_task.npy'))\n",
    "\n",
    "\n",
    "    #This array is the same shape as spkT but shows which cluster each of the spikes in spkT belongs to\n",
    "    spkC = np.load(os.path.join(root_dir,'spkC_task.npy'))\n",
    "\n",
    "    #This is basically a big table (you can open it in excel) which contains\n",
    "    #relevant information about each time the animal poked one of the ports\n",
    "    task_event_df = pd.read_csv(os.path.join(root_dir,'task_event_table.csv'),index_col=0)\n",
    "\n",
    "    #\n",
    "    response_table = np.load(os.path.join(root_dir,'neuron_response_table.npy'))\n",
    "    #alternatively to change the time window\n",
    "\n",
    "\n",
    "    #not all cluster in spkC correspond to single units. Single units is an array of the clusters that are single units\n",
    "    single_units = np.load(os.path.join(root_dir,'single_units.npy'))\n",
    "    \n",
    "    \n",
    "    seq0 = np.array(eval(task_event_df.loc[task_event_df['task_nr']==0]['current_sequence'].values[0]))\n",
    "    seq1 = np.array(eval(task_event_df.loc[task_event_df['task_nr']==1]['current_sequence'].values[0]))\n",
    "    \n",
    "    \n",
    "    graph_type0 = task_event_df.loc[task_event_df['task_nr']==0]['graph_type'].values[0]\n",
    "    graph_type1 = task_event_df.loc[task_event_df['task_nr']==0]['graph_type'].values[0]\n",
    "    \n",
    "    if by_dir:\n",
    "        firing_rate_maps,frm_stability = get_task_responses_by_direction(task_event_df,response_table)\n",
    "    else:\n",
    "        firing_rate_maps,frm_stability = get_task_responses(task_event_df,response_table)\n",
    "    \n",
    "    return firing_rate_maps, frm_stability, task_event_df,seq0,seq1,graph_type0,graph_type1"
   ]
  },
  {
   "cell_type": "code",
   "execution_count": null,
   "metadata": {},
   "outputs": [],
   "source": []
  },
  {
   "cell_type": "code",
   "execution_count": 168,
   "metadata": {},
   "outputs": [],
   "source": [
    "def get_task_responses_by_direction(task_event_df,response_table):\n",
    "    \"\"\" \n",
    "    Use the columns of the task_event_df to filter neural activity. \n",
    "    In this example build separate firing rate maps for each of the\n",
    "    tasks, selecting only trials where subjects poked the correct poke.\n",
    "    \n",
    "    \n",
    "    \"\"\"\n",
    "    \n",
    "    \n",
    "    n_neurons = response_table.shape[1]\n",
    "    n_ports = 9\n",
    "    n_tasks = 2\n",
    "    n_direction = 2\n",
    "    \n",
    "    #set variables to nan to not confuse missing data for no responses\n",
    "    firing_rate_maps = np.zeros([n_neurons,n_ports,n_tasks,n_direction]) + np.nan\n",
    "    #for each task\n",
    "    for task in [0,1]:\n",
    "        \n",
    "        for port in range(n_ports):  #for each port\n",
    "            \n",
    "            for dix,direction in enumerate(np.unique(task_event_df['direction'].values)):\n",
    "\n",
    "                #Select indices of pokes where...\n",
    "                table_index = task_event_df.loc[(task_event_df['task_nr']==task) &  #task_nr was task\n",
    "                                                (task_event_df['correct']==True) &  #the poke was to the correct port\n",
    "                                                (task_event_df['port']==port) &       #the port poked was port\n",
    "                                                (task_event_df['direction']==direction)\n",
    "                                               ].index           \n",
    "                #print(len(table_index))\n",
    "                #get the average\n",
    "                firing_rate_maps[:,int(port),int(task),dix] = np.nanmean(response_table[table_index],axis=0)\n",
    "    print('warning not calculating stability just setting to 1')\n",
    "    return firing_rate_maps, np.ones(n_neurons)\n",
    "                                         "
   ]
  },
  {
   "cell_type": "code",
   "execution_count": null,
   "metadata": {},
   "outputs": [],
   "source": []
  },
  {
   "cell_type": "code",
   "execution_count": null,
   "metadata": {},
   "outputs": [],
   "source": []
  },
  {
   "cell_type": "code",
   "execution_count": null,
   "metadata": {},
   "outputs": [],
   "source": []
  },
  {
   "cell_type": "code",
   "execution_count": 169,
   "metadata": {},
   "outputs": [],
   "source": [
    "def get_task_responses(task_event_df,response_table):\n",
    "    \"\"\" \n",
    "    Use the columns of the task_event_df to filter neural activity. \n",
    "    In this example build separate firing rate maps for each of the\n",
    "    tasks, selecting only trials where subjects poked the correct poke.\n",
    "    \n",
    "    \n",
    "    \"\"\"\n",
    "    \n",
    "    \n",
    "    n_neurons = response_table.shape[1]\n",
    "    n_ports = 9\n",
    "    n_tasks = 2\n",
    "    n_direction = 2\n",
    "    \n",
    "    #set variables to nan to not confuse missing data for no responses\n",
    "    firing_rate_maps = np.zeros([n_neurons,n_ports,n_tasks]) + np.nan\n",
    "    firing_rate_maps1 = np.zeros([n_neurons,n_ports,n_tasks]) + np.nan\n",
    "    firing_rate_maps2 = np.zeros([n_neurons,n_ports,n_tasks]) + np.nan\n",
    "\n",
    "    #for each task\n",
    "    for task in [0,1]:\n",
    "        \n",
    "        for port in range(n_ports):  #for each port\n",
    "            \n",
    "            #for dix,direction in enumerate(np.unique(task_event_df['direction'].values)):\n",
    "\n",
    "                #Select indices of pokes where...\n",
    "            table_index = task_event_df.loc[(task_event_df['task_nr']==task) &  #task_nr was task\n",
    "                                            (task_event_df['correct']==True) &  #the poke was to the correct port\n",
    "                                            (task_event_df['port']==port)        #the port poked was port\n",
    "                                            #(task_event_df['direction']==direction)\n",
    "                                           ].index           \n",
    "            #print(len(table_index))\n",
    "            #get the average\n",
    "            \n",
    "            half = len(table_index) //2\n",
    "            firing_rate_maps[:,int(port),int(task)] = np.nanmean(response_table[table_index],axis=0)\n",
    "            firing_rate_maps1[:,int(port),int(task)] = np.nanmean(response_table[table_index[:half]],axis=0)\n",
    "            firing_rate_maps2[:,int(port),int(task)] = np.nanmean(response_table[table_index[half:]],axis=0)\n",
    "        \n",
    "    ccs = []\n",
    "    for n in range(n_neurons):\n",
    "        cc = np.corrcoef(firing_rate_maps1[n].flatten(),firing_rate_maps2[n].flatten())[0,1]\n",
    "        if np.isnan(cc): cc=-100\n",
    "        ccs.append(cc)\n",
    "    return firing_rate_maps,ccs"
   ]
  },
  {
   "cell_type": "code",
   "execution_count": 170,
   "metadata": {},
   "outputs": [],
   "source": [
    "def zscore_population_activity(dat):\n",
    "    out = (dat - np.mean(dat,axis=0))/np.std(dat,axis=0)\n",
    "    out = out[:,~np.isnan(np.sum(out,axis=0))]\n",
    "    return out"
   ]
  },
  {
   "cell_type": "code",
   "execution_count": null,
   "metadata": {},
   "outputs": [],
   "source": []
  },
  {
   "cell_type": "code",
   "execution_count": 171,
   "metadata": {},
   "outputs": [
    {
     "name": "stdout",
     "output_type": "stream",
     "text": [
      "line line\n"
     ]
    },
    {
     "name": "stderr",
     "output_type": "stream",
     "text": [
      "/Users/yves/opt/anaconda3/lib/python3.7/site-packages/numpy/lib/function_base.py:2559: RuntimeWarning: invalid value encountered in true_divide\n",
      "  c /= stddev[:, None]\n",
      "/Users/yves/opt/anaconda3/lib/python3.7/site-packages/numpy/lib/function_base.py:2560: RuntimeWarning: invalid value encountered in true_divide\n",
      "  c /= stddev[None, :]\n",
      "/Users/yves/opt/anaconda3/lib/python3.7/site-packages/ipykernel_launcher.py:2: RuntimeWarning: invalid value encountered in true_divide\n",
      "  \n"
     ]
    }
   ],
   "source": [
    "\n",
    "firing_rate_maps,frm_stability, task_event_df,seq0,seq1,graph_type0,graph_type1, = load_data(6)\n",
    "mds_frm = firing_rate_maps.swapaxes(0,2)\n",
    "mds_frm = zscore_population_activity(np.vstack(mds_frm))\n",
    "act_matrix = mds_frm[:9][seq0]\n",
    "act_matrix2 = mds_frm[9:][seq1]\n",
    "mds_frm = np.dstack([act_matrix,act_matrix2]).swapaxes(0,2).swapaxes(1,2)\n",
    "print(graph_type0,graph_type1)"
   ]
  },
  {
   "cell_type": "code",
   "execution_count": 172,
   "metadata": {},
   "outputs": [],
   "source": [
    "def predict_all(params,x,dim,basis_tensor,except_state):\n",
    "\n",
    "    err = 0\n",
    "    nT = len(x)\n",
    "    k = 0\n",
    "    skewM = jnp.einsum('i...,i...',params,basis_tensor)\n",
    "    M = construct_M(skewM,dim)\n",
    "    for start_state in range(nT):\n",
    "        for pred_state in range(start_state+1,nT-start_state):\n",
    "            if pred_state!=except_state:\n",
    "                n_fwd = pred_state-start_state \n",
    "                err += predict(M,x[start_state],x[pred_state],n_fwd,dim)#*(1/n_fwd)\n",
    "                k += 1\n",
    "        #err += predict(M,x[start_state],x[start_state],9,dim)*2\n",
    "        k += 1\n",
    "    mse = err/k\n",
    "    #print(mse)\n",
    "    return mse\n",
    "\n",
    "\n",
    "grad_predict_all = grad(predict_all)\n",
    "\n",
    "def grad_wrapper(params,x,dim,basis_tensor,except_state):\n",
    "    grad = grad_predict_all(jnp.array(params),x,dim,basis_tensor,except_state)\n",
    "    grad = np.array(grad)\n",
    "    #print(grad)\n",
    "    return grad"
   ]
  },
  {
   "cell_type": "code",
   "execution_count": 176,
   "metadata": {},
   "outputs": [],
   "source": [
    "from sklearn.decomposition import PCA\n",
    "pca_dim = 12\n",
    "pca = PCA(n_components=pca_dim)"
   ]
  },
  {
   "cell_type": "code",
   "execution_count": 177,
   "metadata": {},
   "outputs": [],
   "source": [
    "#mds_frm[0] = mds_frm[0][np.random.permutation(np.arange(9))]"
   ]
  },
  {
   "cell_type": "code",
   "execution_count": 178,
   "metadata": {},
   "outputs": [],
   "source": [
    "#mds_frm[0] = mds_frm[0][np.random.permutation(np.arange(9))]\n",
    "pca.fit(np.vstack(mds_frm))\n",
    "pca_activity = pca.transform(mds_frm[0])\n",
    "pca_activity2 = pca.transform(mds_frm[1])"
   ]
  },
  {
   "cell_type": "code",
   "execution_count": 179,
   "metadata": {},
   "outputs": [
    {
     "name": "stdout",
     "output_type": "stream",
     "text": [
      "Desired error not necessarily achieved due to precision loss.\n",
      "Desired error not necessarily achieved due to precision loss.\n",
      "Desired error not necessarily achieved due to precision loss.\n",
      "Desired error not necessarily achieved due to precision loss.\n",
      "Desired error not necessarily achieved due to precision loss.\n",
      "Desired error not necessarily achieved due to precision loss.\n",
      "Desired error not necessarily achieved due to precision loss.\n",
      "Desired error not necessarily achieved due to precision loss.\n",
      "Desired error not necessarily achieved due to precision loss.\n"
     ]
    }
   ],
   "source": [
    "pca.fit(np.vstack(mds_frm))\n",
    "pca_activity = pca.transform(mds_frm[0])\n",
    "pca_activity2 = pca.transform(mds_frm[1])\n",
    "\n",
    "mses = []\n",
    "for excluded_state in range(9):\n",
    "\n",
    "    n_params = int(pca_dim*(pca_dim-1)/2)\n",
    "    basis_tensor_inf = get_basis_tensor(pca_dim)\n",
    "\n",
    "    params = np.random.normal(size=(n_params))# + np.eye(dim)\n",
    "    res = op.minimize(predict_all,\n",
    "               params,\n",
    "               (pca_activity,pca_dim,basis_tensor_inf,excluded_state),\n",
    "               jac=grad_wrapper,\n",
    "               method='BFGS'\n",
    "               )\n",
    "    print(res.message)\n",
    "\n",
    "    out = res.x\n",
    "    skewM = np.einsum('i...,i...',out,basis_tensor_inf)\n",
    "    Ainf = caley_transform(skewM,pca_dim)\n",
    "\n",
    "    predicted_neural_activity = []\n",
    "    for predict_from in range(9):\n",
    "\n",
    "        nAinf = (excluded_state-predict_from)%9\n",
    "        if nAinf!=0:\n",
    "            Ap = np.linalg.matrix_power(Ainf,nAinf)\n",
    "            prediction= pca.inverse_transform((Ap@pca_activity[predict_from].T).T)\n",
    "            predicted_neural_activity.append(prediction)\n",
    "    mses += [np.sum((predicted_neural_activity[i]-act_matrix[0])**2) for i in range(8)]\n",
    "    #print(np.mean(mses))\n",
    "\n"
   ]
  },
  {
   "cell_type": "code",
   "execution_count": 180,
   "metadata": {},
   "outputs": [],
   "source": [
    "mse_true = np.nanmean(mses)\n"
   ]
  },
  {
   "cell_type": "code",
   "execution_count": 181,
   "metadata": {},
   "outputs": [
    {
     "data": {
      "text/plain": [
       "356.7782169783512"
      ]
     },
     "execution_count": 181,
     "metadata": {},
     "output_type": "execute_result"
    }
   ],
   "source": [
    "mse_true"
   ]
  },
  {
   "cell_type": "code",
   "execution_count": null,
   "metadata": {},
   "outputs": [],
   "source": []
  },
  {
   "cell_type": "code",
   "execution_count": 149,
   "metadata": {},
   "outputs": [
    {
     "name": "stdout",
     "output_type": "stream",
     "text": [
      "Desired error not necessarily achieved due to precision loss.\n",
      "Desired error not necessarily achieved due to precision loss.\n",
      "Desired error not necessarily achieved due to precision loss.\n",
      "Desired error not necessarily achieved due to precision loss.\n",
      "Desired error not necessarily achieved due to precision loss.\n",
      "Desired error not necessarily achieved due to precision loss.\n",
      "Desired error not necessarily achieved due to precision loss.\n",
      "Desired error not necessarily achieved due to precision loss.\n",
      "Desired error not necessarily achieved due to precision loss.\n",
      "354.42470501533495\n",
      "Desired error not necessarily achieved due to precision loss.\n",
      "Desired error not necessarily achieved due to precision loss.\n",
      "Desired error not necessarily achieved due to precision loss.\n",
      "Desired error not necessarily achieved due to precision loss.\n",
      "Desired error not necessarily achieved due to precision loss.\n",
      "Desired error not necessarily achieved due to precision loss.\n",
      "Desired error not necessarily achieved due to precision loss.\n",
      "Desired error not necessarily achieved due to precision loss.\n",
      "Desired error not necessarily achieved due to precision loss.\n",
      "353.24318796472755\n",
      "Desired error not necessarily achieved due to precision loss.\n",
      "Desired error not necessarily achieved due to precision loss.\n",
      "Desired error not necessarily achieved due to precision loss.\n",
      "Desired error not necessarily achieved due to precision loss.\n",
      "Desired error not necessarily achieved due to precision loss.\n",
      "Desired error not necessarily achieved due to precision loss.\n",
      "Desired error not necessarily achieved due to precision loss.\n",
      "Desired error not necessarily achieved due to precision loss.\n",
      "Desired error not necessarily achieved due to precision loss.\n",
      "352.01784919096394\n",
      "Desired error not necessarily achieved due to precision loss.\n",
      "Desired error not necessarily achieved due to precision loss.\n",
      "Desired error not necessarily achieved due to precision loss.\n",
      "Desired error not necessarily achieved due to precision loss.\n",
      "Desired error not necessarily achieved due to precision loss.\n",
      "Desired error not necessarily achieved due to precision loss.\n",
      "Desired error not necessarily achieved due to precision loss.\n",
      "Desired error not necessarily achieved due to precision loss.\n",
      "Desired error not necessarily achieved due to precision loss.\n",
      "371.7250863528\n",
      "Desired error not necessarily achieved due to precision loss.\n",
      "Desired error not necessarily achieved due to precision loss.\n",
      "Desired error not necessarily achieved due to precision loss.\n",
      "Desired error not necessarily achieved due to precision loss.\n",
      "Desired error not necessarily achieved due to precision loss.\n",
      "Desired error not necessarily achieved due to precision loss.\n",
      "Desired error not necessarily achieved due to precision loss.\n",
      "Desired error not necessarily achieved due to precision loss.\n",
      "Desired error not necessarily achieved due to precision loss.\n",
      "383.9521329100797\n",
      "Desired error not necessarily achieved due to precision loss.\n",
      "Desired error not necessarily achieved due to precision loss.\n",
      "Desired error not necessarily achieved due to precision loss.\n",
      "Desired error not necessarily achieved due to precision loss.\n",
      "Desired error not necessarily achieved due to precision loss.\n",
      "Desired error not necessarily achieved due to precision loss.\n",
      "Desired error not necessarily achieved due to precision loss.\n",
      "Desired error not necessarily achieved due to precision loss.\n",
      "Desired error not necessarily achieved due to precision loss.\n",
      "349.143334878607\n",
      "Desired error not necessarily achieved due to precision loss.\n",
      "Desired error not necessarily achieved due to precision loss.\n",
      "Desired error not necessarily achieved due to precision loss.\n",
      "Desired error not necessarily achieved due to precision loss.\n",
      "Desired error not necessarily achieved due to precision loss.\n",
      "Desired error not necessarily achieved due to precision loss.\n",
      "Desired error not necessarily achieved due to precision loss.\n",
      "Desired error not necessarily achieved due to precision loss.\n",
      "Desired error not necessarily achieved due to precision loss.\n",
      "361.2074899482644\n",
      "Desired error not necessarily achieved due to precision loss.\n",
      "Desired error not necessarily achieved due to precision loss.\n",
      "Desired error not necessarily achieved due to precision loss.\n",
      "Desired error not necessarily achieved due to precision loss.\n",
      "Desired error not necessarily achieved due to precision loss.\n",
      "Desired error not necessarily achieved due to precision loss.\n",
      "Desired error not necessarily achieved due to precision loss.\n",
      "Desired error not necessarily achieved due to precision loss.\n",
      "Desired error not necessarily achieved due to precision loss.\n",
      "343.88098920144915\n",
      "Desired error not necessarily achieved due to precision loss.\n",
      "Desired error not necessarily achieved due to precision loss.\n",
      "Desired error not necessarily achieved due to precision loss.\n",
      "Desired error not necessarily achieved due to precision loss.\n",
      "Desired error not necessarily achieved due to precision loss.\n",
      "Desired error not necessarily achieved due to precision loss.\n",
      "Desired error not necessarily achieved due to precision loss.\n",
      "Desired error not necessarily achieved due to precision loss.\n",
      "Desired error not necessarily achieved due to precision loss.\n",
      "379.87629680743726\n",
      "Desired error not necessarily achieved due to precision loss.\n",
      "Desired error not necessarily achieved due to precision loss.\n",
      "Desired error not necessarily achieved due to precision loss.\n",
      "Desired error not necessarily achieved due to precision loss.\n",
      "Desired error not necessarily achieved due to precision loss.\n",
      "Desired error not necessarily achieved due to precision loss.\n",
      "Desired error not necessarily achieved due to precision loss.\n",
      "Desired error not necessarily achieved due to precision loss.\n",
      "Desired error not necessarily achieved due to precision loss.\n",
      "351.0992252228142\n",
      "Desired error not necessarily achieved due to precision loss.\n",
      "Desired error not necessarily achieved due to precision loss.\n",
      "Desired error not necessarily achieved due to precision loss.\n",
      "Desired error not necessarily achieved due to precision loss.\n",
      "Desired error not necessarily achieved due to precision loss.\n",
      "Desired error not necessarily achieved due to precision loss.\n",
      "Desired error not necessarily achieved due to precision loss.\n",
      "Desired error not necessarily achieved due to precision loss.\n",
      "Desired error not necessarily achieved due to precision loss.\n",
      "347.3100011879282\n",
      "Desired error not necessarily achieved due to precision loss.\n",
      "Desired error not necessarily achieved due to precision loss.\n",
      "Desired error not necessarily achieved due to precision loss.\n",
      "Desired error not necessarily achieved due to precision loss.\n",
      "Desired error not necessarily achieved due to precision loss.\n",
      "Desired error not necessarily achieved due to precision loss.\n",
      "Desired error not necessarily achieved due to precision loss.\n",
      "Desired error not necessarily achieved due to precision loss.\n",
      "Desired error not necessarily achieved due to precision loss.\n",
      "372.62153476298016\n",
      "Desired error not necessarily achieved due to precision loss.\n",
      "Desired error not necessarily achieved due to precision loss.\n",
      "Desired error not necessarily achieved due to precision loss.\n",
      "Desired error not necessarily achieved due to precision loss.\n",
      "Desired error not necessarily achieved due to precision loss.\n",
      "Desired error not necessarily achieved due to precision loss.\n",
      "Desired error not necessarily achieved due to precision loss.\n",
      "Desired error not necessarily achieved due to precision loss.\n",
      "Desired error not necessarily achieved due to precision loss.\n",
      "370.4069415017007\n",
      "Desired error not necessarily achieved due to precision loss.\n",
      "Desired error not necessarily achieved due to precision loss.\n",
      "Desired error not necessarily achieved due to precision loss.\n"
     ]
    },
    {
     "ename": "KeyboardInterrupt",
     "evalue": "",
     "output_type": "error",
     "traceback": [
      "\u001b[0;31m---------------------------------------------------------------------------\u001b[0m",
      "\u001b[0;31mKeyboardInterrupt\u001b[0m                         Traceback (most recent call last)",
      "\u001b[0;32m<ipython-input-149-c28feb39ce0f>\u001b[0m in \u001b[0;36m<module>\u001b[0;34m\u001b[0m\n\u001b[1;32m     17\u001b[0m                    \u001b[0;34m(\u001b[0m\u001b[0mpca_activity\u001b[0m\u001b[0;34m,\u001b[0m\u001b[0mpca_dim\u001b[0m\u001b[0;34m,\u001b[0m\u001b[0mbasis_tensor_inf\u001b[0m\u001b[0;34m,\u001b[0m\u001b[0mexcluded_state\u001b[0m\u001b[0;34m)\u001b[0m\u001b[0;34m,\u001b[0m\u001b[0;34m\u001b[0m\u001b[0;34m\u001b[0m\u001b[0m\n\u001b[1;32m     18\u001b[0m                    \u001b[0mjac\u001b[0m\u001b[0;34m=\u001b[0m\u001b[0mgrad_wrapper\u001b[0m\u001b[0;34m,\u001b[0m\u001b[0;34m\u001b[0m\u001b[0;34m\u001b[0m\u001b[0m\n\u001b[0;32m---> 19\u001b[0;31m                    \u001b[0mmethod\u001b[0m\u001b[0;34m=\u001b[0m\u001b[0;34m'BFGS'\u001b[0m\u001b[0;34m\u001b[0m\u001b[0;34m\u001b[0m\u001b[0m\n\u001b[0m\u001b[1;32m     20\u001b[0m                    )\n\u001b[1;32m     21\u001b[0m         \u001b[0mprint\u001b[0m\u001b[0;34m(\u001b[0m\u001b[0mres\u001b[0m\u001b[0;34m.\u001b[0m\u001b[0mmessage\u001b[0m\u001b[0;34m)\u001b[0m\u001b[0;34m\u001b[0m\u001b[0;34m\u001b[0m\u001b[0m\n",
      "\u001b[0;32m~/opt/anaconda3/lib/python3.7/site-packages/scipy/optimize/_minimize.py\u001b[0m in \u001b[0;36mminimize\u001b[0;34m(fun, x0, args, method, jac, hess, hessp, bounds, constraints, tol, callback, options)\u001b[0m\n\u001b[1;32m    602\u001b[0m         \u001b[0;32mreturn\u001b[0m \u001b[0m_minimize_cg\u001b[0m\u001b[0;34m(\u001b[0m\u001b[0mfun\u001b[0m\u001b[0;34m,\u001b[0m \u001b[0mx0\u001b[0m\u001b[0;34m,\u001b[0m \u001b[0margs\u001b[0m\u001b[0;34m,\u001b[0m \u001b[0mjac\u001b[0m\u001b[0;34m,\u001b[0m \u001b[0mcallback\u001b[0m\u001b[0;34m,\u001b[0m \u001b[0;34m**\u001b[0m\u001b[0moptions\u001b[0m\u001b[0;34m)\u001b[0m\u001b[0;34m\u001b[0m\u001b[0;34m\u001b[0m\u001b[0m\n\u001b[1;32m    603\u001b[0m     \u001b[0;32melif\u001b[0m \u001b[0mmeth\u001b[0m \u001b[0;34m==\u001b[0m \u001b[0;34m'bfgs'\u001b[0m\u001b[0;34m:\u001b[0m\u001b[0;34m\u001b[0m\u001b[0;34m\u001b[0m\u001b[0m\n\u001b[0;32m--> 604\u001b[0;31m         \u001b[0;32mreturn\u001b[0m \u001b[0m_minimize_bfgs\u001b[0m\u001b[0;34m(\u001b[0m\u001b[0mfun\u001b[0m\u001b[0;34m,\u001b[0m \u001b[0mx0\u001b[0m\u001b[0;34m,\u001b[0m \u001b[0margs\u001b[0m\u001b[0;34m,\u001b[0m \u001b[0mjac\u001b[0m\u001b[0;34m,\u001b[0m \u001b[0mcallback\u001b[0m\u001b[0;34m,\u001b[0m \u001b[0;34m**\u001b[0m\u001b[0moptions\u001b[0m\u001b[0;34m)\u001b[0m\u001b[0;34m\u001b[0m\u001b[0;34m\u001b[0m\u001b[0m\n\u001b[0m\u001b[1;32m    605\u001b[0m     \u001b[0;32melif\u001b[0m \u001b[0mmeth\u001b[0m \u001b[0;34m==\u001b[0m \u001b[0;34m'newton-cg'\u001b[0m\u001b[0;34m:\u001b[0m\u001b[0;34m\u001b[0m\u001b[0;34m\u001b[0m\u001b[0m\n\u001b[1;32m    606\u001b[0m         return _minimize_newtoncg(fun, x0, args, jac, hess, hessp, callback,\n",
      "\u001b[0;32m~/opt/anaconda3/lib/python3.7/site-packages/scipy/optimize/optimize.py\u001b[0m in \u001b[0;36m_minimize_bfgs\u001b[0;34m(fun, x0, args, jac, callback, gtol, norm, eps, maxiter, disp, return_all, **unknown_options)\u001b[0m\n\u001b[1;32m   1026\u001b[0m             \u001b[0malpha_k\u001b[0m\u001b[0;34m,\u001b[0m \u001b[0mfc\u001b[0m\u001b[0;34m,\u001b[0m \u001b[0mgc\u001b[0m\u001b[0;34m,\u001b[0m \u001b[0mold_fval\u001b[0m\u001b[0;34m,\u001b[0m \u001b[0mold_old_fval\u001b[0m\u001b[0;34m,\u001b[0m \u001b[0mgfkp1\u001b[0m \u001b[0;34m=\u001b[0m\u001b[0;31m \u001b[0m\u001b[0;31m\\\u001b[0m\u001b[0;34m\u001b[0m\u001b[0;34m\u001b[0m\u001b[0m\n\u001b[1;32m   1027\u001b[0m                      _line_search_wolfe12(f, myfprime, xk, pk, gfk,\n\u001b[0;32m-> 1028\u001b[0;31m                                           old_fval, old_old_fval, amin=1e-100, amax=1e100)\n\u001b[0m\u001b[1;32m   1029\u001b[0m         \u001b[0;32mexcept\u001b[0m \u001b[0m_LineSearchError\u001b[0m\u001b[0;34m:\u001b[0m\u001b[0;34m\u001b[0m\u001b[0;34m\u001b[0m\u001b[0m\n\u001b[1;32m   1030\u001b[0m             \u001b[0;31m# Line search failed to find a better solution.\u001b[0m\u001b[0;34m\u001b[0m\u001b[0;34m\u001b[0m\u001b[0;34m\u001b[0m\u001b[0m\n",
      "\u001b[0;32m~/opt/anaconda3/lib/python3.7/site-packages/scipy/optimize/optimize.py\u001b[0m in \u001b[0;36m_line_search_wolfe12\u001b[0;34m(f, fprime, xk, pk, gfk, old_fval, old_old_fval, **kwargs)\u001b[0m\n\u001b[1;32m    843\u001b[0m     ret = line_search_wolfe1(f, fprime, xk, pk, gfk,\n\u001b[1;32m    844\u001b[0m                              \u001b[0mold_fval\u001b[0m\u001b[0;34m,\u001b[0m \u001b[0mold_old_fval\u001b[0m\u001b[0;34m,\u001b[0m\u001b[0;34m\u001b[0m\u001b[0;34m\u001b[0m\u001b[0m\n\u001b[0;32m--> 845\u001b[0;31m                              **kwargs)\n\u001b[0m\u001b[1;32m    846\u001b[0m \u001b[0;34m\u001b[0m\u001b[0m\n\u001b[1;32m    847\u001b[0m     \u001b[0;32mif\u001b[0m \u001b[0mret\u001b[0m\u001b[0;34m[\u001b[0m\u001b[0;36m0\u001b[0m\u001b[0;34m]\u001b[0m \u001b[0;32mis\u001b[0m \u001b[0;32mnot\u001b[0m \u001b[0;32mNone\u001b[0m \u001b[0;32mand\u001b[0m \u001b[0mextra_condition\u001b[0m \u001b[0;32mis\u001b[0m \u001b[0;32mnot\u001b[0m \u001b[0;32mNone\u001b[0m\u001b[0;34m:\u001b[0m\u001b[0;34m\u001b[0m\u001b[0;34m\u001b[0m\u001b[0m\n",
      "\u001b[0;32m~/opt/anaconda3/lib/python3.7/site-packages/scipy/optimize/linesearch.py\u001b[0m in \u001b[0;36mline_search_wolfe1\u001b[0;34m(f, fprime, xk, pk, gfk, old_fval, old_old_fval, args, c1, c2, amax, amin, xtol)\u001b[0m\n\u001b[1;32m     99\u001b[0m     stp, fval, old_fval = scalar_search_wolfe1(\n\u001b[1;32m    100\u001b[0m             \u001b[0mphi\u001b[0m\u001b[0;34m,\u001b[0m \u001b[0mderphi\u001b[0m\u001b[0;34m,\u001b[0m \u001b[0mold_fval\u001b[0m\u001b[0;34m,\u001b[0m \u001b[0mold_old_fval\u001b[0m\u001b[0;34m,\u001b[0m \u001b[0mderphi0\u001b[0m\u001b[0;34m,\u001b[0m\u001b[0;34m\u001b[0m\u001b[0;34m\u001b[0m\u001b[0m\n\u001b[0;32m--> 101\u001b[0;31m             c1=c1, c2=c2, amax=amax, amin=amin, xtol=xtol)\n\u001b[0m\u001b[1;32m    102\u001b[0m \u001b[0;34m\u001b[0m\u001b[0m\n\u001b[1;32m    103\u001b[0m     \u001b[0;32mreturn\u001b[0m \u001b[0mstp\u001b[0m\u001b[0;34m,\u001b[0m \u001b[0mfc\u001b[0m\u001b[0;34m[\u001b[0m\u001b[0;36m0\u001b[0m\u001b[0;34m]\u001b[0m\u001b[0;34m,\u001b[0m \u001b[0mgc\u001b[0m\u001b[0;34m[\u001b[0m\u001b[0;36m0\u001b[0m\u001b[0;34m]\u001b[0m\u001b[0;34m,\u001b[0m \u001b[0mfval\u001b[0m\u001b[0;34m,\u001b[0m \u001b[0mold_fval\u001b[0m\u001b[0;34m,\u001b[0m \u001b[0mgval\u001b[0m\u001b[0;34m[\u001b[0m\u001b[0;36m0\u001b[0m\u001b[0;34m]\u001b[0m\u001b[0;34m\u001b[0m\u001b[0;34m\u001b[0m\u001b[0m\n",
      "\u001b[0;32m~/opt/anaconda3/lib/python3.7/site-packages/scipy/optimize/linesearch.py\u001b[0m in \u001b[0;36mscalar_search_wolfe1\u001b[0;34m(phi, derphi, phi0, old_phi0, derphi0, c1, c2, amax, amin, xtol)\u001b[0m\n\u001b[1;32m    174\u001b[0m             \u001b[0malpha1\u001b[0m \u001b[0;34m=\u001b[0m \u001b[0mstp\u001b[0m\u001b[0;34m\u001b[0m\u001b[0;34m\u001b[0m\u001b[0m\n\u001b[1;32m    175\u001b[0m             \u001b[0mphi1\u001b[0m \u001b[0;34m=\u001b[0m \u001b[0mphi\u001b[0m\u001b[0;34m(\u001b[0m\u001b[0mstp\u001b[0m\u001b[0;34m)\u001b[0m\u001b[0;34m\u001b[0m\u001b[0;34m\u001b[0m\u001b[0m\n\u001b[0;32m--> 176\u001b[0;31m             \u001b[0mderphi1\u001b[0m \u001b[0;34m=\u001b[0m \u001b[0mderphi\u001b[0m\u001b[0;34m(\u001b[0m\u001b[0mstp\u001b[0m\u001b[0;34m)\u001b[0m\u001b[0;34m\u001b[0m\u001b[0;34m\u001b[0m\u001b[0m\n\u001b[0m\u001b[1;32m    177\u001b[0m         \u001b[0;32melse\u001b[0m\u001b[0;34m:\u001b[0m\u001b[0;34m\u001b[0m\u001b[0;34m\u001b[0m\u001b[0m\n\u001b[1;32m    178\u001b[0m             \u001b[0;32mbreak\u001b[0m\u001b[0;34m\u001b[0m\u001b[0;34m\u001b[0m\u001b[0m\n",
      "\u001b[0;32m~/opt/anaconda3/lib/python3.7/site-packages/scipy/optimize/linesearch.py\u001b[0m in \u001b[0;36mderphi\u001b[0;34m(s)\u001b[0m\n\u001b[1;32m     88\u001b[0m \u001b[0;34m\u001b[0m\u001b[0m\n\u001b[1;32m     89\u001b[0m     \u001b[0;32mdef\u001b[0m \u001b[0mderphi\u001b[0m\u001b[0;34m(\u001b[0m\u001b[0ms\u001b[0m\u001b[0;34m)\u001b[0m\u001b[0;34m:\u001b[0m\u001b[0;34m\u001b[0m\u001b[0;34m\u001b[0m\u001b[0m\n\u001b[0;32m---> 90\u001b[0;31m         \u001b[0mgval\u001b[0m\u001b[0;34m[\u001b[0m\u001b[0;36m0\u001b[0m\u001b[0;34m]\u001b[0m \u001b[0;34m=\u001b[0m \u001b[0mfprime\u001b[0m\u001b[0;34m(\u001b[0m\u001b[0mxk\u001b[0m \u001b[0;34m+\u001b[0m \u001b[0ms\u001b[0m\u001b[0;34m*\u001b[0m\u001b[0mpk\u001b[0m\u001b[0;34m,\u001b[0m \u001b[0;34m*\u001b[0m\u001b[0mnewargs\u001b[0m\u001b[0;34m)\u001b[0m\u001b[0;34m\u001b[0m\u001b[0;34m\u001b[0m\u001b[0m\n\u001b[0m\u001b[1;32m     91\u001b[0m         \u001b[0;32mif\u001b[0m \u001b[0mgradient\u001b[0m\u001b[0;34m:\u001b[0m\u001b[0;34m\u001b[0m\u001b[0;34m\u001b[0m\u001b[0m\n\u001b[1;32m     92\u001b[0m             \u001b[0mgc\u001b[0m\u001b[0;34m[\u001b[0m\u001b[0;36m0\u001b[0m\u001b[0;34m]\u001b[0m \u001b[0;34m+=\u001b[0m \u001b[0;36m1\u001b[0m\u001b[0;34m\u001b[0m\u001b[0;34m\u001b[0m\u001b[0m\n",
      "\u001b[0;32m~/opt/anaconda3/lib/python3.7/site-packages/scipy/optimize/optimize.py\u001b[0m in \u001b[0;36mfunction_wrapper\u001b[0;34m(*wrapper_args)\u001b[0m\n\u001b[1;32m    325\u001b[0m     \u001b[0;32mdef\u001b[0m \u001b[0mfunction_wrapper\u001b[0m\u001b[0;34m(\u001b[0m\u001b[0;34m*\u001b[0m\u001b[0mwrapper_args\u001b[0m\u001b[0;34m)\u001b[0m\u001b[0;34m:\u001b[0m\u001b[0;34m\u001b[0m\u001b[0;34m\u001b[0m\u001b[0m\n\u001b[1;32m    326\u001b[0m         \u001b[0mncalls\u001b[0m\u001b[0;34m[\u001b[0m\u001b[0;36m0\u001b[0m\u001b[0;34m]\u001b[0m \u001b[0;34m+=\u001b[0m \u001b[0;36m1\u001b[0m\u001b[0;34m\u001b[0m\u001b[0;34m\u001b[0m\u001b[0m\n\u001b[0;32m--> 327\u001b[0;31m         \u001b[0;32mreturn\u001b[0m \u001b[0mfunction\u001b[0m\u001b[0;34m(\u001b[0m\u001b[0;34m*\u001b[0m\u001b[0;34m(\u001b[0m\u001b[0mwrapper_args\u001b[0m \u001b[0;34m+\u001b[0m \u001b[0margs\u001b[0m\u001b[0;34m)\u001b[0m\u001b[0;34m)\u001b[0m\u001b[0;34m\u001b[0m\u001b[0;34m\u001b[0m\u001b[0m\n\u001b[0m\u001b[1;32m    328\u001b[0m \u001b[0;34m\u001b[0m\u001b[0m\n\u001b[1;32m    329\u001b[0m     \u001b[0;32mreturn\u001b[0m \u001b[0mncalls\u001b[0m\u001b[0;34m,\u001b[0m \u001b[0mfunction_wrapper\u001b[0m\u001b[0;34m\u001b[0m\u001b[0;34m\u001b[0m\u001b[0m\n",
      "\u001b[0;32m<ipython-input-142-83868cab9179>\u001b[0m in \u001b[0;36mgrad_wrapper\u001b[0;34m(params, x, dim, basis_tensor, except_state)\u001b[0m\n\u001b[1;32m     22\u001b[0m \u001b[0;34m\u001b[0m\u001b[0m\n\u001b[1;32m     23\u001b[0m \u001b[0;32mdef\u001b[0m \u001b[0mgrad_wrapper\u001b[0m\u001b[0;34m(\u001b[0m\u001b[0mparams\u001b[0m\u001b[0;34m,\u001b[0m\u001b[0mx\u001b[0m\u001b[0;34m,\u001b[0m\u001b[0mdim\u001b[0m\u001b[0;34m,\u001b[0m\u001b[0mbasis_tensor\u001b[0m\u001b[0;34m,\u001b[0m\u001b[0mexcept_state\u001b[0m\u001b[0;34m)\u001b[0m\u001b[0;34m:\u001b[0m\u001b[0;34m\u001b[0m\u001b[0;34m\u001b[0m\u001b[0m\n\u001b[0;32m---> 24\u001b[0;31m     \u001b[0mgrad\u001b[0m \u001b[0;34m=\u001b[0m \u001b[0mgrad_predict_all\u001b[0m\u001b[0;34m(\u001b[0m\u001b[0mjnp\u001b[0m\u001b[0;34m.\u001b[0m\u001b[0marray\u001b[0m\u001b[0;34m(\u001b[0m\u001b[0mparams\u001b[0m\u001b[0;34m)\u001b[0m\u001b[0;34m,\u001b[0m\u001b[0mx\u001b[0m\u001b[0;34m,\u001b[0m\u001b[0mdim\u001b[0m\u001b[0;34m,\u001b[0m\u001b[0mbasis_tensor\u001b[0m\u001b[0;34m,\u001b[0m\u001b[0mexcept_state\u001b[0m\u001b[0;34m)\u001b[0m\u001b[0;34m\u001b[0m\u001b[0;34m\u001b[0m\u001b[0m\n\u001b[0m\u001b[1;32m     25\u001b[0m     \u001b[0mgrad\u001b[0m \u001b[0;34m=\u001b[0m \u001b[0mnp\u001b[0m\u001b[0;34m.\u001b[0m\u001b[0marray\u001b[0m\u001b[0;34m(\u001b[0m\u001b[0mgrad\u001b[0m\u001b[0;34m)\u001b[0m\u001b[0;34m\u001b[0m\u001b[0;34m\u001b[0m\u001b[0m\n\u001b[1;32m     26\u001b[0m     \u001b[0;31m#print(grad)\u001b[0m\u001b[0;34m\u001b[0m\u001b[0;34m\u001b[0m\u001b[0;34m\u001b[0m\u001b[0m\n",
      "\u001b[0;32m~/opt/anaconda3/lib/python3.7/site-packages/jax/_src/traceback_util.py\u001b[0m in \u001b[0;36mreraise_with_filtered_traceback\u001b[0;34m(*args, **kwargs)\u001b[0m\n\u001b[1;32m    160\u001b[0m     \u001b[0m__tracebackhide__\u001b[0m \u001b[0;34m=\u001b[0m \u001b[0;32mTrue\u001b[0m\u001b[0;34m\u001b[0m\u001b[0;34m\u001b[0m\u001b[0m\n\u001b[1;32m    161\u001b[0m     \u001b[0;32mtry\u001b[0m\u001b[0;34m:\u001b[0m\u001b[0;34m\u001b[0m\u001b[0;34m\u001b[0m\u001b[0m\n\u001b[0;32m--> 162\u001b[0;31m       \u001b[0;32mreturn\u001b[0m \u001b[0mfun\u001b[0m\u001b[0;34m(\u001b[0m\u001b[0;34m*\u001b[0m\u001b[0margs\u001b[0m\u001b[0;34m,\u001b[0m \u001b[0;34m**\u001b[0m\u001b[0mkwargs\u001b[0m\u001b[0;34m)\u001b[0m\u001b[0;34m\u001b[0m\u001b[0;34m\u001b[0m\u001b[0m\n\u001b[0m\u001b[1;32m    163\u001b[0m     \u001b[0;32mexcept\u001b[0m \u001b[0mException\u001b[0m \u001b[0;32mas\u001b[0m \u001b[0me\u001b[0m\u001b[0;34m:\u001b[0m\u001b[0;34m\u001b[0m\u001b[0;34m\u001b[0m\u001b[0m\n\u001b[1;32m    164\u001b[0m       \u001b[0mmode\u001b[0m \u001b[0;34m=\u001b[0m \u001b[0mfiltering_mode\u001b[0m\u001b[0;34m(\u001b[0m\u001b[0;34m)\u001b[0m\u001b[0;34m\u001b[0m\u001b[0;34m\u001b[0m\u001b[0m\n",
      "\u001b[0;32m~/opt/anaconda3/lib/python3.7/site-packages/jax/_src/api.py\u001b[0m in \u001b[0;36mgrad_f\u001b[0;34m(*args, **kwargs)\u001b[0m\n\u001b[1;32m    916\u001b[0m   \u001b[0;34m@\u001b[0m\u001b[0mapi_boundary\u001b[0m\u001b[0;34m\u001b[0m\u001b[0;34m\u001b[0m\u001b[0m\n\u001b[1;32m    917\u001b[0m   \u001b[0;32mdef\u001b[0m \u001b[0mgrad_f\u001b[0m\u001b[0;34m(\u001b[0m\u001b[0;34m*\u001b[0m\u001b[0margs\u001b[0m\u001b[0;34m,\u001b[0m \u001b[0;34m**\u001b[0m\u001b[0mkwargs\u001b[0m\u001b[0;34m)\u001b[0m\u001b[0;34m:\u001b[0m\u001b[0;34m\u001b[0m\u001b[0;34m\u001b[0m\u001b[0m\n\u001b[0;32m--> 918\u001b[0;31m     \u001b[0m_\u001b[0m\u001b[0;34m,\u001b[0m \u001b[0mg\u001b[0m \u001b[0;34m=\u001b[0m \u001b[0mvalue_and_grad_f\u001b[0m\u001b[0;34m(\u001b[0m\u001b[0;34m*\u001b[0m\u001b[0margs\u001b[0m\u001b[0;34m,\u001b[0m \u001b[0;34m**\u001b[0m\u001b[0mkwargs\u001b[0m\u001b[0;34m)\u001b[0m\u001b[0;34m\u001b[0m\u001b[0;34m\u001b[0m\u001b[0m\n\u001b[0m\u001b[1;32m    919\u001b[0m     \u001b[0;32mreturn\u001b[0m \u001b[0mg\u001b[0m\u001b[0;34m\u001b[0m\u001b[0;34m\u001b[0m\u001b[0m\n\u001b[1;32m    920\u001b[0m \u001b[0;34m\u001b[0m\u001b[0m\n",
      "\u001b[0;32m~/opt/anaconda3/lib/python3.7/site-packages/jax/_src/traceback_util.py\u001b[0m in \u001b[0;36mreraise_with_filtered_traceback\u001b[0;34m(*args, **kwargs)\u001b[0m\n\u001b[1;32m    160\u001b[0m     \u001b[0m__tracebackhide__\u001b[0m \u001b[0;34m=\u001b[0m \u001b[0;32mTrue\u001b[0m\u001b[0;34m\u001b[0m\u001b[0;34m\u001b[0m\u001b[0m\n\u001b[1;32m    161\u001b[0m     \u001b[0;32mtry\u001b[0m\u001b[0;34m:\u001b[0m\u001b[0;34m\u001b[0m\u001b[0;34m\u001b[0m\u001b[0m\n\u001b[0;32m--> 162\u001b[0;31m       \u001b[0;32mreturn\u001b[0m \u001b[0mfun\u001b[0m\u001b[0;34m(\u001b[0m\u001b[0;34m*\u001b[0m\u001b[0margs\u001b[0m\u001b[0;34m,\u001b[0m \u001b[0;34m**\u001b[0m\u001b[0mkwargs\u001b[0m\u001b[0;34m)\u001b[0m\u001b[0;34m\u001b[0m\u001b[0;34m\u001b[0m\u001b[0m\n\u001b[0m\u001b[1;32m    163\u001b[0m     \u001b[0;32mexcept\u001b[0m \u001b[0mException\u001b[0m \u001b[0;32mas\u001b[0m \u001b[0me\u001b[0m\u001b[0;34m:\u001b[0m\u001b[0;34m\u001b[0m\u001b[0;34m\u001b[0m\u001b[0m\n\u001b[1;32m    164\u001b[0m       \u001b[0mmode\u001b[0m \u001b[0;34m=\u001b[0m \u001b[0mfiltering_mode\u001b[0m\u001b[0;34m(\u001b[0m\u001b[0;34m)\u001b[0m\u001b[0;34m\u001b[0m\u001b[0;34m\u001b[0m\u001b[0m\n",
      "\u001b[0;32m~/opt/anaconda3/lib/python3.7/site-packages/jax/_src/api.py\u001b[0m in \u001b[0;36mvalue_and_grad_f\u001b[0;34m(*args, **kwargs)\u001b[0m\n\u001b[1;32m    991\u001b[0m       \u001b[0m_check_input_dtype_grad\u001b[0m\u001b[0;34m(\u001b[0m\u001b[0mholomorphic\u001b[0m\u001b[0;34m,\u001b[0m \u001b[0mallow_int\u001b[0m\u001b[0;34m,\u001b[0m \u001b[0mleaf\u001b[0m\u001b[0;34m)\u001b[0m\u001b[0;34m\u001b[0m\u001b[0;34m\u001b[0m\u001b[0m\n\u001b[1;32m    992\u001b[0m     \u001b[0;32mif\u001b[0m \u001b[0;32mnot\u001b[0m \u001b[0mhas_aux\u001b[0m\u001b[0;34m:\u001b[0m\u001b[0;34m\u001b[0m\u001b[0;34m\u001b[0m\u001b[0m\n\u001b[0;32m--> 993\u001b[0;31m       \u001b[0mans\u001b[0m\u001b[0;34m,\u001b[0m \u001b[0mvjp_py\u001b[0m \u001b[0;34m=\u001b[0m \u001b[0m_vjp\u001b[0m\u001b[0;34m(\u001b[0m\u001b[0mf_partial\u001b[0m\u001b[0;34m,\u001b[0m \u001b[0;34m*\u001b[0m\u001b[0mdyn_args\u001b[0m\u001b[0;34m,\u001b[0m \u001b[0mreduce_axes\u001b[0m\u001b[0;34m=\u001b[0m\u001b[0mreduce_axes\u001b[0m\u001b[0;34m)\u001b[0m\u001b[0;34m\u001b[0m\u001b[0;34m\u001b[0m\u001b[0m\n\u001b[0m\u001b[1;32m    994\u001b[0m     \u001b[0;32melse\u001b[0m\u001b[0;34m:\u001b[0m\u001b[0;34m\u001b[0m\u001b[0;34m\u001b[0m\u001b[0m\n\u001b[1;32m    995\u001b[0m       ans, vjp_py, aux = _vjp(\n",
      "\u001b[0;32m~/opt/anaconda3/lib/python3.7/site-packages/jax/_src/api.py\u001b[0m in \u001b[0;36m_vjp\u001b[0;34m(fun, has_aux, reduce_axes, *primals)\u001b[0m\n\u001b[1;32m   2311\u001b[0m     \u001b[0mflat_fun\u001b[0m\u001b[0;34m,\u001b[0m \u001b[0mout_tree\u001b[0m \u001b[0;34m=\u001b[0m \u001b[0mflatten_fun_nokwargs\u001b[0m\u001b[0;34m(\u001b[0m\u001b[0mfun\u001b[0m\u001b[0;34m,\u001b[0m \u001b[0min_tree\u001b[0m\u001b[0;34m)\u001b[0m\u001b[0;34m\u001b[0m\u001b[0;34m\u001b[0m\u001b[0m\n\u001b[1;32m   2312\u001b[0m     out_primal, out_vjp = ad.vjp(\n\u001b[0;32m-> 2313\u001b[0;31m         flat_fun, primals_flat, reduce_axes=reduce_axes)\n\u001b[0m\u001b[1;32m   2314\u001b[0m     \u001b[0mout_tree\u001b[0m \u001b[0;34m=\u001b[0m \u001b[0mout_tree\u001b[0m\u001b[0;34m(\u001b[0m\u001b[0;34m)\u001b[0m\u001b[0;34m\u001b[0m\u001b[0;34m\u001b[0m\u001b[0m\n\u001b[1;32m   2315\u001b[0m   \u001b[0;32melse\u001b[0m\u001b[0;34m:\u001b[0m\u001b[0;34m\u001b[0m\u001b[0;34m\u001b[0m\u001b[0m\n",
      "\u001b[0;32m~/opt/anaconda3/lib/python3.7/site-packages/jax/interpreters/ad.py\u001b[0m in \u001b[0;36mvjp\u001b[0;34m(traceable, primals, has_aux, reduce_axes)\u001b[0m\n\u001b[1;32m    114\u001b[0m \u001b[0;32mdef\u001b[0m \u001b[0mvjp\u001b[0m\u001b[0;34m(\u001b[0m\u001b[0mtraceable\u001b[0m\u001b[0;34m,\u001b[0m \u001b[0mprimals\u001b[0m\u001b[0;34m,\u001b[0m \u001b[0mhas_aux\u001b[0m\u001b[0;34m=\u001b[0m\u001b[0;32mFalse\u001b[0m\u001b[0;34m,\u001b[0m \u001b[0mreduce_axes\u001b[0m\u001b[0;34m=\u001b[0m\u001b[0;34m(\u001b[0m\u001b[0;34m)\u001b[0m\u001b[0;34m)\u001b[0m\u001b[0;34m:\u001b[0m\u001b[0;34m\u001b[0m\u001b[0;34m\u001b[0m\u001b[0m\n\u001b[1;32m    115\u001b[0m   \u001b[0;32mif\u001b[0m \u001b[0;32mnot\u001b[0m \u001b[0mhas_aux\u001b[0m\u001b[0;34m:\u001b[0m\u001b[0;34m\u001b[0m\u001b[0;34m\u001b[0m\u001b[0m\n\u001b[0;32m--> 116\u001b[0;31m     \u001b[0mout_primals\u001b[0m\u001b[0;34m,\u001b[0m \u001b[0mpvals\u001b[0m\u001b[0;34m,\u001b[0m \u001b[0mjaxpr\u001b[0m\u001b[0;34m,\u001b[0m \u001b[0mconsts\u001b[0m \u001b[0;34m=\u001b[0m \u001b[0mlinearize\u001b[0m\u001b[0;34m(\u001b[0m\u001b[0mtraceable\u001b[0m\u001b[0;34m,\u001b[0m \u001b[0;34m*\u001b[0m\u001b[0mprimals\u001b[0m\u001b[0;34m)\u001b[0m\u001b[0;34m\u001b[0m\u001b[0;34m\u001b[0m\u001b[0m\n\u001b[0m\u001b[1;32m    117\u001b[0m   \u001b[0;32melse\u001b[0m\u001b[0;34m:\u001b[0m\u001b[0;34m\u001b[0m\u001b[0;34m\u001b[0m\u001b[0m\n\u001b[1;32m    118\u001b[0m     \u001b[0mout_primals\u001b[0m\u001b[0;34m,\u001b[0m \u001b[0mpvals\u001b[0m\u001b[0;34m,\u001b[0m \u001b[0mjaxpr\u001b[0m\u001b[0;34m,\u001b[0m \u001b[0mconsts\u001b[0m\u001b[0;34m,\u001b[0m \u001b[0maux\u001b[0m \u001b[0;34m=\u001b[0m \u001b[0mlinearize\u001b[0m\u001b[0;34m(\u001b[0m\u001b[0mtraceable\u001b[0m\u001b[0;34m,\u001b[0m \u001b[0;34m*\u001b[0m\u001b[0mprimals\u001b[0m\u001b[0;34m,\u001b[0m \u001b[0mhas_aux\u001b[0m\u001b[0;34m=\u001b[0m\u001b[0;32mTrue\u001b[0m\u001b[0;34m)\u001b[0m\u001b[0;34m\u001b[0m\u001b[0;34m\u001b[0m\u001b[0m\n",
      "\u001b[0;32m~/opt/anaconda3/lib/python3.7/site-packages/jax/interpreters/ad.py\u001b[0m in \u001b[0;36mlinearize\u001b[0;34m(traceable, *primals, **kwargs)\u001b[0m\n\u001b[1;32m    101\u001b[0m   \u001b[0m_\u001b[0m\u001b[0;34m,\u001b[0m \u001b[0min_tree\u001b[0m \u001b[0;34m=\u001b[0m \u001b[0mtree_flatten\u001b[0m\u001b[0;34m(\u001b[0m\u001b[0;34m(\u001b[0m\u001b[0;34m(\u001b[0m\u001b[0mprimals\u001b[0m\u001b[0;34m,\u001b[0m \u001b[0mprimals\u001b[0m\u001b[0;34m)\u001b[0m\u001b[0;34m,\u001b[0m \u001b[0;34m{\u001b[0m\u001b[0;34m}\u001b[0m\u001b[0;34m)\u001b[0m\u001b[0;34m)\u001b[0m\u001b[0;34m\u001b[0m\u001b[0;34m\u001b[0m\u001b[0m\n\u001b[1;32m    102\u001b[0m   \u001b[0mjvpfun_flat\u001b[0m\u001b[0;34m,\u001b[0m \u001b[0mout_tree\u001b[0m \u001b[0;34m=\u001b[0m \u001b[0mflatten_fun\u001b[0m\u001b[0;34m(\u001b[0m\u001b[0mjvpfun\u001b[0m\u001b[0;34m,\u001b[0m \u001b[0min_tree\u001b[0m\u001b[0;34m)\u001b[0m\u001b[0;34m\u001b[0m\u001b[0;34m\u001b[0m\u001b[0m\n\u001b[0;32m--> 103\u001b[0;31m   \u001b[0mjaxpr\u001b[0m\u001b[0;34m,\u001b[0m \u001b[0mout_pvals\u001b[0m\u001b[0;34m,\u001b[0m \u001b[0mconsts\u001b[0m \u001b[0;34m=\u001b[0m \u001b[0mpe\u001b[0m\u001b[0;34m.\u001b[0m\u001b[0mtrace_to_jaxpr\u001b[0m\u001b[0;34m(\u001b[0m\u001b[0mjvpfun_flat\u001b[0m\u001b[0;34m,\u001b[0m \u001b[0min_pvals\u001b[0m\u001b[0;34m)\u001b[0m\u001b[0;34m\u001b[0m\u001b[0;34m\u001b[0m\u001b[0m\n\u001b[0m\u001b[1;32m    104\u001b[0m   \u001b[0mout_primals_pvals\u001b[0m\u001b[0;34m,\u001b[0m \u001b[0mout_tangents_pvals\u001b[0m \u001b[0;34m=\u001b[0m \u001b[0mtree_unflatten\u001b[0m\u001b[0;34m(\u001b[0m\u001b[0mout_tree\u001b[0m\u001b[0;34m(\u001b[0m\u001b[0;34m)\u001b[0m\u001b[0;34m,\u001b[0m \u001b[0mout_pvals\u001b[0m\u001b[0;34m)\u001b[0m\u001b[0;34m\u001b[0m\u001b[0;34m\u001b[0m\u001b[0m\n\u001b[1;32m    105\u001b[0m   \u001b[0;32massert\u001b[0m \u001b[0mall\u001b[0m\u001b[0;34m(\u001b[0m\u001b[0mout_primal_pval\u001b[0m\u001b[0;34m.\u001b[0m\u001b[0mis_known\u001b[0m\u001b[0;34m(\u001b[0m\u001b[0;34m)\u001b[0m \u001b[0;32mfor\u001b[0m \u001b[0mout_primal_pval\u001b[0m \u001b[0;32min\u001b[0m \u001b[0mout_primals_pvals\u001b[0m\u001b[0;34m)\u001b[0m\u001b[0;34m\u001b[0m\u001b[0;34m\u001b[0m\u001b[0m\n",
      "\u001b[0;32m~/opt/anaconda3/lib/python3.7/site-packages/jax/interpreters/partial_eval.py\u001b[0m in \u001b[0;36mtrace_to_jaxpr\u001b[0;34m(fun, pvals, instantiate)\u001b[0m\n\u001b[1;32m    511\u001b[0m   \u001b[0;32mwith\u001b[0m \u001b[0mcore\u001b[0m\u001b[0;34m.\u001b[0m\u001b[0mnew_main\u001b[0m\u001b[0;34m(\u001b[0m\u001b[0mJaxprTrace\u001b[0m\u001b[0;34m)\u001b[0m \u001b[0;32mas\u001b[0m \u001b[0mmain\u001b[0m\u001b[0;34m:\u001b[0m\u001b[0;34m\u001b[0m\u001b[0;34m\u001b[0m\u001b[0m\n\u001b[1;32m    512\u001b[0m     \u001b[0mfun\u001b[0m \u001b[0;34m=\u001b[0m \u001b[0mtrace_to_subjaxpr\u001b[0m\u001b[0;34m(\u001b[0m\u001b[0mfun\u001b[0m\u001b[0;34m,\u001b[0m \u001b[0mmain\u001b[0m\u001b[0;34m,\u001b[0m \u001b[0minstantiate\u001b[0m\u001b[0;34m)\u001b[0m\u001b[0;34m\u001b[0m\u001b[0;34m\u001b[0m\u001b[0m\n\u001b[0;32m--> 513\u001b[0;31m     \u001b[0mjaxpr\u001b[0m\u001b[0;34m,\u001b[0m \u001b[0;34m(\u001b[0m\u001b[0mout_pvals\u001b[0m\u001b[0;34m,\u001b[0m \u001b[0mconsts\u001b[0m\u001b[0;34m,\u001b[0m \u001b[0menv\u001b[0m\u001b[0;34m)\u001b[0m \u001b[0;34m=\u001b[0m \u001b[0mfun\u001b[0m\u001b[0;34m.\u001b[0m\u001b[0mcall_wrapped\u001b[0m\u001b[0;34m(\u001b[0m\u001b[0mpvals\u001b[0m\u001b[0;34m)\u001b[0m\u001b[0;34m\u001b[0m\u001b[0;34m\u001b[0m\u001b[0m\n\u001b[0m\u001b[1;32m    514\u001b[0m     \u001b[0;32massert\u001b[0m \u001b[0;32mnot\u001b[0m \u001b[0menv\u001b[0m\u001b[0;34m\u001b[0m\u001b[0;34m\u001b[0m\u001b[0m\n\u001b[1;32m    515\u001b[0m     \u001b[0;32mdel\u001b[0m \u001b[0mmain\u001b[0m\u001b[0;34m,\u001b[0m \u001b[0mfun\u001b[0m\u001b[0;34m,\u001b[0m \u001b[0menv\u001b[0m\u001b[0;34m\u001b[0m\u001b[0;34m\u001b[0m\u001b[0m\n",
      "\u001b[0;32m~/opt/anaconda3/lib/python3.7/site-packages/jax/linear_util.py\u001b[0m in \u001b[0;36mcall_wrapped\u001b[0;34m(self, *args, **kwargs)\u001b[0m\n\u001b[1;32m    164\u001b[0m \u001b[0;34m\u001b[0m\u001b[0m\n\u001b[1;32m    165\u001b[0m     \u001b[0;32mtry\u001b[0m\u001b[0;34m:\u001b[0m\u001b[0;34m\u001b[0m\u001b[0;34m\u001b[0m\u001b[0m\n\u001b[0;32m--> 166\u001b[0;31m       \u001b[0mans\u001b[0m \u001b[0;34m=\u001b[0m \u001b[0mself\u001b[0m\u001b[0;34m.\u001b[0m\u001b[0mf\u001b[0m\u001b[0;34m(\u001b[0m\u001b[0;34m*\u001b[0m\u001b[0margs\u001b[0m\u001b[0;34m,\u001b[0m \u001b[0;34m**\u001b[0m\u001b[0mdict\u001b[0m\u001b[0;34m(\u001b[0m\u001b[0mself\u001b[0m\u001b[0;34m.\u001b[0m\u001b[0mparams\u001b[0m\u001b[0;34m,\u001b[0m \u001b[0;34m**\u001b[0m\u001b[0mkwargs\u001b[0m\u001b[0;34m)\u001b[0m\u001b[0;34m)\u001b[0m\u001b[0;34m\u001b[0m\u001b[0;34m\u001b[0m\u001b[0m\n\u001b[0m\u001b[1;32m    167\u001b[0m     \u001b[0;32mexcept\u001b[0m\u001b[0;34m:\u001b[0m\u001b[0;34m\u001b[0m\u001b[0;34m\u001b[0m\u001b[0m\n\u001b[1;32m    168\u001b[0m       \u001b[0;31m# Some transformations yield from inside context managers, so we have to\u001b[0m\u001b[0;34m\u001b[0m\u001b[0;34m\u001b[0m\u001b[0;34m\u001b[0m\u001b[0m\n",
      "\u001b[0;32m<ipython-input-142-83868cab9179>\u001b[0m in \u001b[0;36mpredict_all\u001b[0;34m(params, x, dim, basis_tensor, except_state)\u001b[0m\n\u001b[1;32m      5\u001b[0m     \u001b[0mk\u001b[0m \u001b[0;34m=\u001b[0m \u001b[0;36m0\u001b[0m\u001b[0;34m\u001b[0m\u001b[0;34m\u001b[0m\u001b[0m\n\u001b[1;32m      6\u001b[0m     \u001b[0mskewM\u001b[0m \u001b[0;34m=\u001b[0m \u001b[0mjnp\u001b[0m\u001b[0;34m.\u001b[0m\u001b[0meinsum\u001b[0m\u001b[0;34m(\u001b[0m\u001b[0;34m'i...,i...'\u001b[0m\u001b[0;34m,\u001b[0m\u001b[0mparams\u001b[0m\u001b[0;34m,\u001b[0m\u001b[0mbasis_tensor\u001b[0m\u001b[0;34m)\u001b[0m\u001b[0;34m\u001b[0m\u001b[0;34m\u001b[0m\u001b[0m\n\u001b[0;32m----> 7\u001b[0;31m     \u001b[0mM\u001b[0m \u001b[0;34m=\u001b[0m \u001b[0mconstruct_M\u001b[0m\u001b[0;34m(\u001b[0m\u001b[0mskewM\u001b[0m\u001b[0;34m,\u001b[0m\u001b[0mdim\u001b[0m\u001b[0;34m)\u001b[0m\u001b[0;34m\u001b[0m\u001b[0;34m\u001b[0m\u001b[0m\n\u001b[0m\u001b[1;32m      8\u001b[0m     \u001b[0;32mfor\u001b[0m \u001b[0mstart_state\u001b[0m \u001b[0;32min\u001b[0m \u001b[0mrange\u001b[0m\u001b[0;34m(\u001b[0m\u001b[0mnT\u001b[0m\u001b[0;34m)\u001b[0m\u001b[0;34m:\u001b[0m\u001b[0;34m\u001b[0m\u001b[0;34m\u001b[0m\u001b[0m\n\u001b[1;32m      9\u001b[0m         \u001b[0;32mfor\u001b[0m \u001b[0mpred_state\u001b[0m \u001b[0;32min\u001b[0m \u001b[0mrange\u001b[0m\u001b[0;34m(\u001b[0m\u001b[0mstart_state\u001b[0m\u001b[0;34m+\u001b[0m\u001b[0;36m1\u001b[0m\u001b[0;34m,\u001b[0m\u001b[0mnT\u001b[0m\u001b[0;34m-\u001b[0m\u001b[0mstart_state\u001b[0m\u001b[0;34m)\u001b[0m\u001b[0;34m:\u001b[0m\u001b[0;34m\u001b[0m\u001b[0;34m\u001b[0m\u001b[0m\n",
      "\u001b[0;32m~/Documents/Code/mec_ephys/packages/mecll/dynamics/unitary_dynamics.py\u001b[0m in \u001b[0;36mconstruct_M\u001b[0;34m(skewM, dim)\u001b[0m\n\u001b[1;32m     43\u001b[0m \u001b[0;32mdef\u001b[0m \u001b[0mconstruct_M\u001b[0m\u001b[0;34m(\u001b[0m\u001b[0mskewM\u001b[0m\u001b[0;34m,\u001b[0m\u001b[0mdim\u001b[0m\u001b[0;34m)\u001b[0m\u001b[0;34m:\u001b[0m\u001b[0;34m\u001b[0m\u001b[0;34m\u001b[0m\u001b[0m\n\u001b[1;32m     44\u001b[0m     \u001b[0;34m\"\"\" Perform Caley transform\"\"\"\u001b[0m\u001b[0;34m\u001b[0m\u001b[0;34m\u001b[0m\u001b[0m\n\u001b[0;32m---> 45\u001b[0;31m     \u001b[0;32mreturn\u001b[0m \u001b[0;34m(\u001b[0m\u001b[0mjnp\u001b[0m\u001b[0;34m.\u001b[0m\u001b[0meye\u001b[0m\u001b[0;34m(\u001b[0m\u001b[0mdim\u001b[0m\u001b[0;34m)\u001b[0m \u001b[0;34m-\u001b[0m \u001b[0mskewM\u001b[0m\u001b[0;34m)\u001b[0m\u001b[0;34m@\u001b[0m\u001b[0mjnp\u001b[0m\u001b[0;34m.\u001b[0m\u001b[0mlinalg\u001b[0m\u001b[0;34m.\u001b[0m\u001b[0minv\u001b[0m\u001b[0;34m(\u001b[0m\u001b[0mjnp\u001b[0m\u001b[0;34m.\u001b[0m\u001b[0meye\u001b[0m\u001b[0;34m(\u001b[0m\u001b[0mdim\u001b[0m\u001b[0;34m)\u001b[0m\u001b[0;34m+\u001b[0m\u001b[0mskewM\u001b[0m\u001b[0;34m)\u001b[0m\u001b[0;34m\u001b[0m\u001b[0;34m\u001b[0m\u001b[0m\n\u001b[0m\u001b[1;32m     46\u001b[0m \u001b[0;34m\u001b[0m\u001b[0m\n\u001b[1;32m     47\u001b[0m \u001b[0;32mdef\u001b[0m \u001b[0mcaley_transform\u001b[0m\u001b[0;34m(\u001b[0m\u001b[0mskewM\u001b[0m\u001b[0;34m,\u001b[0m\u001b[0mdim\u001b[0m\u001b[0;34m)\u001b[0m\u001b[0;34m:\u001b[0m\u001b[0;34m\u001b[0m\u001b[0;34m\u001b[0m\u001b[0m\n",
      "\u001b[0;32m~/opt/anaconda3/lib/python3.7/site-packages/jax/core.py\u001b[0m in \u001b[0;36m__matmul__\u001b[0;34m(self, other)\u001b[0m\n\u001b[1;32m    532\u001b[0m   \u001b[0;32mdef\u001b[0m \u001b[0m__pow__\u001b[0m\u001b[0;34m(\u001b[0m\u001b[0mself\u001b[0m\u001b[0;34m,\u001b[0m \u001b[0mother\u001b[0m\u001b[0;34m)\u001b[0m\u001b[0;34m:\u001b[0m \u001b[0;32mreturn\u001b[0m \u001b[0mself\u001b[0m\u001b[0;34m.\u001b[0m\u001b[0maval\u001b[0m\u001b[0;34m.\u001b[0m\u001b[0m_pow\u001b[0m\u001b[0;34m(\u001b[0m\u001b[0mself\u001b[0m\u001b[0;34m,\u001b[0m \u001b[0mother\u001b[0m\u001b[0;34m)\u001b[0m\u001b[0;34m\u001b[0m\u001b[0;34m\u001b[0m\u001b[0m\n\u001b[1;32m    533\u001b[0m   \u001b[0;32mdef\u001b[0m \u001b[0m__rpow__\u001b[0m\u001b[0;34m(\u001b[0m\u001b[0mself\u001b[0m\u001b[0;34m,\u001b[0m \u001b[0mother\u001b[0m\u001b[0;34m)\u001b[0m\u001b[0;34m:\u001b[0m \u001b[0;32mreturn\u001b[0m \u001b[0mself\u001b[0m\u001b[0;34m.\u001b[0m\u001b[0maval\u001b[0m\u001b[0;34m.\u001b[0m\u001b[0m_rpow\u001b[0m\u001b[0;34m(\u001b[0m\u001b[0mself\u001b[0m\u001b[0;34m,\u001b[0m \u001b[0mother\u001b[0m\u001b[0;34m)\u001b[0m\u001b[0;34m\u001b[0m\u001b[0;34m\u001b[0m\u001b[0m\n\u001b[0;32m--> 534\u001b[0;31m   \u001b[0;32mdef\u001b[0m \u001b[0m__matmul__\u001b[0m\u001b[0;34m(\u001b[0m\u001b[0mself\u001b[0m\u001b[0;34m,\u001b[0m \u001b[0mother\u001b[0m\u001b[0;34m)\u001b[0m\u001b[0;34m:\u001b[0m \u001b[0;32mreturn\u001b[0m \u001b[0mself\u001b[0m\u001b[0;34m.\u001b[0m\u001b[0maval\u001b[0m\u001b[0;34m.\u001b[0m\u001b[0m_matmul\u001b[0m\u001b[0;34m(\u001b[0m\u001b[0mself\u001b[0m\u001b[0;34m,\u001b[0m \u001b[0mother\u001b[0m\u001b[0;34m)\u001b[0m\u001b[0;34m\u001b[0m\u001b[0;34m\u001b[0m\u001b[0m\n\u001b[0m\u001b[1;32m    535\u001b[0m   \u001b[0;32mdef\u001b[0m \u001b[0m__rmatmul__\u001b[0m\u001b[0;34m(\u001b[0m\u001b[0mself\u001b[0m\u001b[0;34m,\u001b[0m \u001b[0mother\u001b[0m\u001b[0;34m)\u001b[0m\u001b[0;34m:\u001b[0m \u001b[0;32mreturn\u001b[0m \u001b[0mself\u001b[0m\u001b[0;34m.\u001b[0m\u001b[0maval\u001b[0m\u001b[0;34m.\u001b[0m\u001b[0m_rmatmul\u001b[0m\u001b[0;34m(\u001b[0m\u001b[0mself\u001b[0m\u001b[0;34m,\u001b[0m \u001b[0mother\u001b[0m\u001b[0;34m)\u001b[0m\u001b[0;34m\u001b[0m\u001b[0;34m\u001b[0m\u001b[0m\n\u001b[1;32m    536\u001b[0m   \u001b[0;32mdef\u001b[0m \u001b[0m__and__\u001b[0m\u001b[0;34m(\u001b[0m\u001b[0mself\u001b[0m\u001b[0;34m,\u001b[0m \u001b[0mother\u001b[0m\u001b[0;34m)\u001b[0m\u001b[0;34m:\u001b[0m \u001b[0;32mreturn\u001b[0m \u001b[0mself\u001b[0m\u001b[0;34m.\u001b[0m\u001b[0maval\u001b[0m\u001b[0;34m.\u001b[0m\u001b[0m_and\u001b[0m\u001b[0;34m(\u001b[0m\u001b[0mself\u001b[0m\u001b[0;34m,\u001b[0m \u001b[0mother\u001b[0m\u001b[0;34m)\u001b[0m\u001b[0;34m\u001b[0m\u001b[0;34m\u001b[0m\u001b[0m\n",
      "\u001b[0;32m~/opt/anaconda3/lib/python3.7/site-packages/jax/_src/numpy/lax_numpy.py\u001b[0m in \u001b[0;36mdeferring_binary_op\u001b[0;34m(self, other)\u001b[0m\n\u001b[1;32m   6583\u001b[0m     \u001b[0;32mif\u001b[0m \u001b[0;32mnot\u001b[0m \u001b[0misinstance\u001b[0m\u001b[0;34m(\u001b[0m\u001b[0mother\u001b[0m\u001b[0;34m,\u001b[0m \u001b[0m_accepted_binop_types\u001b[0m\u001b[0;34m)\u001b[0m\u001b[0;34m:\u001b[0m\u001b[0;34m\u001b[0m\u001b[0;34m\u001b[0m\u001b[0m\n\u001b[1;32m   6584\u001b[0m       \u001b[0;32mreturn\u001b[0m \u001b[0mNotImplemented\u001b[0m\u001b[0;34m\u001b[0m\u001b[0;34m\u001b[0m\u001b[0m\n\u001b[0;32m-> 6585\u001b[0;31m     \u001b[0;32mreturn\u001b[0m \u001b[0mbinary_op\u001b[0m\u001b[0;34m(\u001b[0m\u001b[0mself\u001b[0m\u001b[0;34m,\u001b[0m \u001b[0mother\u001b[0m\u001b[0;34m)\u001b[0m\u001b[0;34m\u001b[0m\u001b[0;34m\u001b[0m\u001b[0m\n\u001b[0m\u001b[1;32m   6586\u001b[0m   \u001b[0;32mreturn\u001b[0m \u001b[0mdeferring_binary_op\u001b[0m\u001b[0;34m\u001b[0m\u001b[0;34m\u001b[0m\u001b[0m\n\u001b[1;32m   6587\u001b[0m \u001b[0;34m\u001b[0m\u001b[0m\n",
      "\u001b[0;32m~/opt/anaconda3/lib/python3.7/site-packages/jax/_src/traceback_util.py\u001b[0m in \u001b[0;36mreraise_with_filtered_traceback\u001b[0;34m(*args, **kwargs)\u001b[0m\n\u001b[1;32m    160\u001b[0m     \u001b[0m__tracebackhide__\u001b[0m \u001b[0;34m=\u001b[0m \u001b[0;32mTrue\u001b[0m\u001b[0;34m\u001b[0m\u001b[0;34m\u001b[0m\u001b[0m\n\u001b[1;32m    161\u001b[0m     \u001b[0;32mtry\u001b[0m\u001b[0;34m:\u001b[0m\u001b[0;34m\u001b[0m\u001b[0;34m\u001b[0m\u001b[0m\n\u001b[0;32m--> 162\u001b[0;31m       \u001b[0;32mreturn\u001b[0m \u001b[0mfun\u001b[0m\u001b[0;34m(\u001b[0m\u001b[0;34m*\u001b[0m\u001b[0margs\u001b[0m\u001b[0;34m,\u001b[0m \u001b[0;34m**\u001b[0m\u001b[0mkwargs\u001b[0m\u001b[0;34m)\u001b[0m\u001b[0;34m\u001b[0m\u001b[0;34m\u001b[0m\u001b[0m\n\u001b[0m\u001b[1;32m    163\u001b[0m     \u001b[0;32mexcept\u001b[0m \u001b[0mException\u001b[0m \u001b[0;32mas\u001b[0m \u001b[0me\u001b[0m\u001b[0;34m:\u001b[0m\u001b[0;34m\u001b[0m\u001b[0;34m\u001b[0m\u001b[0m\n\u001b[1;32m    164\u001b[0m       \u001b[0mmode\u001b[0m \u001b[0;34m=\u001b[0m \u001b[0mfiltering_mode\u001b[0m\u001b[0;34m(\u001b[0m\u001b[0;34m)\u001b[0m\u001b[0;34m\u001b[0m\u001b[0;34m\u001b[0m\u001b[0m\n",
      "\u001b[0;32m~/opt/anaconda3/lib/python3.7/site-packages/jax/_src/api.py\u001b[0m in \u001b[0;36mcache_miss\u001b[0;34m(*args, **kwargs)\u001b[0m\n\u001b[1;32m    417\u001b[0m         \u001b[0mflat_fun\u001b[0m\u001b[0;34m,\u001b[0m \u001b[0;34m*\u001b[0m\u001b[0margs_flat\u001b[0m\u001b[0;34m,\u001b[0m\u001b[0;34m\u001b[0m\u001b[0;34m\u001b[0m\u001b[0m\n\u001b[1;32m    418\u001b[0m         \u001b[0mdevice\u001b[0m\u001b[0;34m=\u001b[0m\u001b[0mdevice\u001b[0m\u001b[0;34m,\u001b[0m \u001b[0mbackend\u001b[0m\u001b[0;34m=\u001b[0m\u001b[0mbackend\u001b[0m\u001b[0;34m,\u001b[0m \u001b[0mname\u001b[0m\u001b[0;34m=\u001b[0m\u001b[0mflat_fun\u001b[0m\u001b[0;34m.\u001b[0m\u001b[0m__name__\u001b[0m\u001b[0;34m,\u001b[0m\u001b[0;34m\u001b[0m\u001b[0;34m\u001b[0m\u001b[0m\n\u001b[0;32m--> 419\u001b[0;31m         donated_invars=donated_invars, inline=inline)\n\u001b[0m\u001b[1;32m    420\u001b[0m     \u001b[0mout_pytree_def\u001b[0m \u001b[0;34m=\u001b[0m \u001b[0mout_tree\u001b[0m\u001b[0;34m(\u001b[0m\u001b[0;34m)\u001b[0m\u001b[0;34m\u001b[0m\u001b[0;34m\u001b[0m\u001b[0m\n\u001b[1;32m    421\u001b[0m     \u001b[0mout\u001b[0m \u001b[0;34m=\u001b[0m \u001b[0mtree_unflatten\u001b[0m\u001b[0;34m(\u001b[0m\u001b[0mout_pytree_def\u001b[0m\u001b[0;34m,\u001b[0m \u001b[0mout_flat\u001b[0m\u001b[0;34m)\u001b[0m\u001b[0;34m\u001b[0m\u001b[0;34m\u001b[0m\u001b[0m\n",
      "\u001b[0;32m~/opt/anaconda3/lib/python3.7/site-packages/jax/core.py\u001b[0m in \u001b[0;36mbind\u001b[0;34m(self, fun, *args, **params)\u001b[0m\n\u001b[1;32m   1630\u001b[0m \u001b[0;34m\u001b[0m\u001b[0m\n\u001b[1;32m   1631\u001b[0m   \u001b[0;32mdef\u001b[0m \u001b[0mbind\u001b[0m\u001b[0;34m(\u001b[0m\u001b[0mself\u001b[0m\u001b[0;34m,\u001b[0m \u001b[0mfun\u001b[0m\u001b[0;34m,\u001b[0m \u001b[0;34m*\u001b[0m\u001b[0margs\u001b[0m\u001b[0;34m,\u001b[0m \u001b[0;34m**\u001b[0m\u001b[0mparams\u001b[0m\u001b[0;34m)\u001b[0m\u001b[0;34m:\u001b[0m\u001b[0;34m\u001b[0m\u001b[0;34m\u001b[0m\u001b[0m\n\u001b[0;32m-> 1632\u001b[0;31m     \u001b[0;32mreturn\u001b[0m \u001b[0mcall_bind\u001b[0m\u001b[0;34m(\u001b[0m\u001b[0mself\u001b[0m\u001b[0;34m,\u001b[0m \u001b[0mfun\u001b[0m\u001b[0;34m,\u001b[0m \u001b[0;34m*\u001b[0m\u001b[0margs\u001b[0m\u001b[0;34m,\u001b[0m \u001b[0;34m**\u001b[0m\u001b[0mparams\u001b[0m\u001b[0;34m)\u001b[0m\u001b[0;34m\u001b[0m\u001b[0;34m\u001b[0m\u001b[0m\n\u001b[0m\u001b[1;32m   1633\u001b[0m \u001b[0;34m\u001b[0m\u001b[0m\n\u001b[1;32m   1634\u001b[0m   \u001b[0;32mdef\u001b[0m \u001b[0mprocess\u001b[0m\u001b[0;34m(\u001b[0m\u001b[0mself\u001b[0m\u001b[0;34m,\u001b[0m \u001b[0mtrace\u001b[0m\u001b[0;34m,\u001b[0m \u001b[0mfun\u001b[0m\u001b[0;34m,\u001b[0m \u001b[0mtracers\u001b[0m\u001b[0;34m,\u001b[0m \u001b[0mparams\u001b[0m\u001b[0;34m)\u001b[0m\u001b[0;34m:\u001b[0m\u001b[0;34m\u001b[0m\u001b[0;34m\u001b[0m\u001b[0m\n",
      "\u001b[0;32m~/opt/anaconda3/lib/python3.7/site-packages/jax/core.py\u001b[0m in \u001b[0;36mcall_bind\u001b[0;34m(primitive, fun, *args, **params)\u001b[0m\n\u001b[1;32m   1621\u001b[0m       params_tuple, out_axes_transforms)\n\u001b[1;32m   1622\u001b[0m   \u001b[0mtracers\u001b[0m \u001b[0;34m=\u001b[0m \u001b[0mmap\u001b[0m\u001b[0;34m(\u001b[0m\u001b[0mtop_trace\u001b[0m\u001b[0;34m.\u001b[0m\u001b[0mfull_raise\u001b[0m\u001b[0;34m,\u001b[0m \u001b[0margs\u001b[0m\u001b[0;34m)\u001b[0m\u001b[0;34m\u001b[0m\u001b[0;34m\u001b[0m\u001b[0m\n\u001b[0;32m-> 1623\u001b[0;31m   \u001b[0mouts\u001b[0m \u001b[0;34m=\u001b[0m \u001b[0mprimitive\u001b[0m\u001b[0;34m.\u001b[0m\u001b[0mprocess\u001b[0m\u001b[0;34m(\u001b[0m\u001b[0mtop_trace\u001b[0m\u001b[0;34m,\u001b[0m \u001b[0mfun\u001b[0m\u001b[0;34m,\u001b[0m \u001b[0mtracers\u001b[0m\u001b[0;34m,\u001b[0m \u001b[0mparams\u001b[0m\u001b[0;34m)\u001b[0m\u001b[0;34m\u001b[0m\u001b[0;34m\u001b[0m\u001b[0m\n\u001b[0m\u001b[1;32m   1624\u001b[0m   \u001b[0;32mreturn\u001b[0m \u001b[0mmap\u001b[0m\u001b[0;34m(\u001b[0m\u001b[0mfull_lower\u001b[0m\u001b[0;34m,\u001b[0m \u001b[0mapply_todos\u001b[0m\u001b[0;34m(\u001b[0m\u001b[0menv_trace_todo\u001b[0m\u001b[0;34m(\u001b[0m\u001b[0;34m)\u001b[0m\u001b[0;34m,\u001b[0m \u001b[0mouts\u001b[0m\u001b[0;34m)\u001b[0m\u001b[0;34m)\u001b[0m\u001b[0;34m\u001b[0m\u001b[0;34m\u001b[0m\u001b[0m\n\u001b[1;32m   1625\u001b[0m \u001b[0;34m\u001b[0m\u001b[0m\n",
      "\u001b[0;32m~/opt/anaconda3/lib/python3.7/site-packages/jax/core.py\u001b[0m in \u001b[0;36mprocess\u001b[0;34m(self, trace, fun, tracers, params)\u001b[0m\n\u001b[1;32m   1633\u001b[0m \u001b[0;34m\u001b[0m\u001b[0m\n\u001b[1;32m   1634\u001b[0m   \u001b[0;32mdef\u001b[0m \u001b[0mprocess\u001b[0m\u001b[0;34m(\u001b[0m\u001b[0mself\u001b[0m\u001b[0;34m,\u001b[0m \u001b[0mtrace\u001b[0m\u001b[0;34m,\u001b[0m \u001b[0mfun\u001b[0m\u001b[0;34m,\u001b[0m \u001b[0mtracers\u001b[0m\u001b[0;34m,\u001b[0m \u001b[0mparams\u001b[0m\u001b[0;34m)\u001b[0m\u001b[0;34m:\u001b[0m\u001b[0;34m\u001b[0m\u001b[0;34m\u001b[0m\u001b[0m\n\u001b[0;32m-> 1635\u001b[0;31m     \u001b[0;32mreturn\u001b[0m \u001b[0mtrace\u001b[0m\u001b[0;34m.\u001b[0m\u001b[0mprocess_call\u001b[0m\u001b[0;34m(\u001b[0m\u001b[0mself\u001b[0m\u001b[0;34m,\u001b[0m \u001b[0mfun\u001b[0m\u001b[0;34m,\u001b[0m \u001b[0mtracers\u001b[0m\u001b[0;34m,\u001b[0m \u001b[0mparams\u001b[0m\u001b[0;34m)\u001b[0m\u001b[0;34m\u001b[0m\u001b[0;34m\u001b[0m\u001b[0m\n\u001b[0m\u001b[1;32m   1636\u001b[0m \u001b[0;34m\u001b[0m\u001b[0m\n\u001b[1;32m   1637\u001b[0m   \u001b[0;32mdef\u001b[0m \u001b[0mpost_process\u001b[0m\u001b[0;34m(\u001b[0m\u001b[0mself\u001b[0m\u001b[0;34m,\u001b[0m \u001b[0mtrace\u001b[0m\u001b[0;34m,\u001b[0m \u001b[0mout_tracers\u001b[0m\u001b[0;34m,\u001b[0m \u001b[0mparams\u001b[0m\u001b[0;34m)\u001b[0m\u001b[0;34m:\u001b[0m\u001b[0;34m\u001b[0m\u001b[0;34m\u001b[0m\u001b[0m\n",
      "\u001b[0;32m~/opt/anaconda3/lib/python3.7/site-packages/jax/interpreters/ad.py\u001b[0m in \u001b[0;36mprocess_call\u001b[0;34m(self, call_primitive, f, tracers, params)\u001b[0m\n\u001b[1;32m    321\u001b[0m     new_params = (update_params(params, nz_tangents, nz_tangents_out)\n\u001b[1;32m    322\u001b[0m                   if update_params else params)\n\u001b[0;32m--> 323\u001b[0;31m     \u001b[0mresult\u001b[0m \u001b[0;34m=\u001b[0m \u001b[0mcall_primitive\u001b[0m\u001b[0;34m.\u001b[0m\u001b[0mbind\u001b[0m\u001b[0;34m(\u001b[0m\u001b[0mf_jvp\u001b[0m\u001b[0;34m,\u001b[0m \u001b[0;34m*\u001b[0m\u001b[0mprimals\u001b[0m\u001b[0;34m,\u001b[0m \u001b[0;34m*\u001b[0m\u001b[0mnonzero_tangents\u001b[0m\u001b[0;34m,\u001b[0m \u001b[0;34m**\u001b[0m\u001b[0mnew_params\u001b[0m\u001b[0;34m)\u001b[0m\u001b[0;34m\u001b[0m\u001b[0;34m\u001b[0m\u001b[0m\n\u001b[0m\u001b[1;32m    324\u001b[0m     \u001b[0mprimal_out\u001b[0m\u001b[0;34m,\u001b[0m \u001b[0mtangent_out\u001b[0m \u001b[0;34m=\u001b[0m \u001b[0mtree_unflatten\u001b[0m\u001b[0;34m(\u001b[0m\u001b[0mout_tree_def\u001b[0m\u001b[0;34m(\u001b[0m\u001b[0;34m)\u001b[0m\u001b[0;34m,\u001b[0m \u001b[0mresult\u001b[0m\u001b[0;34m)\u001b[0m\u001b[0;34m\u001b[0m\u001b[0;34m\u001b[0m\u001b[0m\n\u001b[1;32m    325\u001b[0m     \u001b[0;32mreturn\u001b[0m \u001b[0;34m[\u001b[0m\u001b[0mJVPTracer\u001b[0m\u001b[0;34m(\u001b[0m\u001b[0mself\u001b[0m\u001b[0;34m,\u001b[0m \u001b[0mp\u001b[0m\u001b[0;34m,\u001b[0m \u001b[0mt\u001b[0m\u001b[0;34m)\u001b[0m \u001b[0;32mfor\u001b[0m \u001b[0mp\u001b[0m\u001b[0;34m,\u001b[0m \u001b[0mt\u001b[0m \u001b[0;32min\u001b[0m \u001b[0mzip\u001b[0m\u001b[0;34m(\u001b[0m\u001b[0mprimal_out\u001b[0m\u001b[0;34m,\u001b[0m \u001b[0mtangent_out\u001b[0m\u001b[0;34m)\u001b[0m\u001b[0;34m]\u001b[0m\u001b[0;34m\u001b[0m\u001b[0;34m\u001b[0m\u001b[0m\n",
      "\u001b[0;32m~/opt/anaconda3/lib/python3.7/site-packages/jax/core.py\u001b[0m in \u001b[0;36mbind\u001b[0;34m(self, fun, *args, **params)\u001b[0m\n\u001b[1;32m   1630\u001b[0m \u001b[0;34m\u001b[0m\u001b[0m\n\u001b[1;32m   1631\u001b[0m   \u001b[0;32mdef\u001b[0m \u001b[0mbind\u001b[0m\u001b[0;34m(\u001b[0m\u001b[0mself\u001b[0m\u001b[0;34m,\u001b[0m \u001b[0mfun\u001b[0m\u001b[0;34m,\u001b[0m \u001b[0;34m*\u001b[0m\u001b[0margs\u001b[0m\u001b[0;34m,\u001b[0m \u001b[0;34m**\u001b[0m\u001b[0mparams\u001b[0m\u001b[0;34m)\u001b[0m\u001b[0;34m:\u001b[0m\u001b[0;34m\u001b[0m\u001b[0;34m\u001b[0m\u001b[0m\n\u001b[0;32m-> 1632\u001b[0;31m     \u001b[0;32mreturn\u001b[0m \u001b[0mcall_bind\u001b[0m\u001b[0;34m(\u001b[0m\u001b[0mself\u001b[0m\u001b[0;34m,\u001b[0m \u001b[0mfun\u001b[0m\u001b[0;34m,\u001b[0m \u001b[0;34m*\u001b[0m\u001b[0margs\u001b[0m\u001b[0;34m,\u001b[0m \u001b[0;34m**\u001b[0m\u001b[0mparams\u001b[0m\u001b[0;34m)\u001b[0m\u001b[0;34m\u001b[0m\u001b[0;34m\u001b[0m\u001b[0m\n\u001b[0m\u001b[1;32m   1633\u001b[0m \u001b[0;34m\u001b[0m\u001b[0m\n\u001b[1;32m   1634\u001b[0m   \u001b[0;32mdef\u001b[0m \u001b[0mprocess\u001b[0m\u001b[0;34m(\u001b[0m\u001b[0mself\u001b[0m\u001b[0;34m,\u001b[0m \u001b[0mtrace\u001b[0m\u001b[0;34m,\u001b[0m \u001b[0mfun\u001b[0m\u001b[0;34m,\u001b[0m \u001b[0mtracers\u001b[0m\u001b[0;34m,\u001b[0m \u001b[0mparams\u001b[0m\u001b[0;34m)\u001b[0m\u001b[0;34m:\u001b[0m\u001b[0;34m\u001b[0m\u001b[0;34m\u001b[0m\u001b[0m\n",
      "\u001b[0;32m~/opt/anaconda3/lib/python3.7/site-packages/jax/core.py\u001b[0m in \u001b[0;36mcall_bind\u001b[0;34m(primitive, fun, *args, **params)\u001b[0m\n\u001b[1;32m   1621\u001b[0m       params_tuple, out_axes_transforms)\n\u001b[1;32m   1622\u001b[0m   \u001b[0mtracers\u001b[0m \u001b[0;34m=\u001b[0m \u001b[0mmap\u001b[0m\u001b[0;34m(\u001b[0m\u001b[0mtop_trace\u001b[0m\u001b[0;34m.\u001b[0m\u001b[0mfull_raise\u001b[0m\u001b[0;34m,\u001b[0m \u001b[0margs\u001b[0m\u001b[0;34m)\u001b[0m\u001b[0;34m\u001b[0m\u001b[0;34m\u001b[0m\u001b[0m\n\u001b[0;32m-> 1623\u001b[0;31m   \u001b[0mouts\u001b[0m \u001b[0;34m=\u001b[0m \u001b[0mprimitive\u001b[0m\u001b[0;34m.\u001b[0m\u001b[0mprocess\u001b[0m\u001b[0;34m(\u001b[0m\u001b[0mtop_trace\u001b[0m\u001b[0;34m,\u001b[0m \u001b[0mfun\u001b[0m\u001b[0;34m,\u001b[0m \u001b[0mtracers\u001b[0m\u001b[0;34m,\u001b[0m \u001b[0mparams\u001b[0m\u001b[0;34m)\u001b[0m\u001b[0;34m\u001b[0m\u001b[0;34m\u001b[0m\u001b[0m\n\u001b[0m\u001b[1;32m   1624\u001b[0m   \u001b[0;32mreturn\u001b[0m \u001b[0mmap\u001b[0m\u001b[0;34m(\u001b[0m\u001b[0mfull_lower\u001b[0m\u001b[0;34m,\u001b[0m \u001b[0mapply_todos\u001b[0m\u001b[0;34m(\u001b[0m\u001b[0menv_trace_todo\u001b[0m\u001b[0;34m(\u001b[0m\u001b[0;34m)\u001b[0m\u001b[0;34m,\u001b[0m \u001b[0mouts\u001b[0m\u001b[0;34m)\u001b[0m\u001b[0;34m)\u001b[0m\u001b[0;34m\u001b[0m\u001b[0;34m\u001b[0m\u001b[0m\n\u001b[1;32m   1625\u001b[0m \u001b[0;34m\u001b[0m\u001b[0m\n",
      "\u001b[0;32m~/opt/anaconda3/lib/python3.7/site-packages/jax/core.py\u001b[0m in \u001b[0;36mprocess\u001b[0;34m(self, trace, fun, tracers, params)\u001b[0m\n\u001b[1;32m   1633\u001b[0m \u001b[0;34m\u001b[0m\u001b[0m\n\u001b[1;32m   1634\u001b[0m   \u001b[0;32mdef\u001b[0m \u001b[0mprocess\u001b[0m\u001b[0;34m(\u001b[0m\u001b[0mself\u001b[0m\u001b[0;34m,\u001b[0m \u001b[0mtrace\u001b[0m\u001b[0;34m,\u001b[0m \u001b[0mfun\u001b[0m\u001b[0;34m,\u001b[0m \u001b[0mtracers\u001b[0m\u001b[0;34m,\u001b[0m \u001b[0mparams\u001b[0m\u001b[0;34m)\u001b[0m\u001b[0;34m:\u001b[0m\u001b[0;34m\u001b[0m\u001b[0;34m\u001b[0m\u001b[0m\n\u001b[0;32m-> 1635\u001b[0;31m     \u001b[0;32mreturn\u001b[0m \u001b[0mtrace\u001b[0m\u001b[0;34m.\u001b[0m\u001b[0mprocess_call\u001b[0m\u001b[0;34m(\u001b[0m\u001b[0mself\u001b[0m\u001b[0;34m,\u001b[0m \u001b[0mfun\u001b[0m\u001b[0;34m,\u001b[0m \u001b[0mtracers\u001b[0m\u001b[0;34m,\u001b[0m \u001b[0mparams\u001b[0m\u001b[0;34m)\u001b[0m\u001b[0;34m\u001b[0m\u001b[0;34m\u001b[0m\u001b[0m\n\u001b[0m\u001b[1;32m   1636\u001b[0m \u001b[0;34m\u001b[0m\u001b[0m\n\u001b[1;32m   1637\u001b[0m   \u001b[0;32mdef\u001b[0m \u001b[0mpost_process\u001b[0m\u001b[0;34m(\u001b[0m\u001b[0mself\u001b[0m\u001b[0;34m,\u001b[0m \u001b[0mtrace\u001b[0m\u001b[0;34m,\u001b[0m \u001b[0mout_tracers\u001b[0m\u001b[0;34m,\u001b[0m \u001b[0mparams\u001b[0m\u001b[0;34m)\u001b[0m\u001b[0;34m:\u001b[0m\u001b[0;34m\u001b[0m\u001b[0;34m\u001b[0m\u001b[0m\n",
      "\u001b[0;32m~/opt/anaconda3/lib/python3.7/site-packages/jax/interpreters/partial_eval.py\u001b[0m in \u001b[0;36mprocess_call\u001b[0;34m(self, primitive, f, tracers, params)\u001b[0m\n\u001b[1;32m    201\u001b[0m     \u001b[0;32mwith\u001b[0m \u001b[0mctx\u001b[0m\u001b[0;34m:\u001b[0m\u001b[0;34m\u001b[0m\u001b[0;34m\u001b[0m\u001b[0m\n\u001b[1;32m    202\u001b[0m       jaxpr, out_pvals, consts, env_tracers = self.partial_eval(\n\u001b[0;32m--> 203\u001b[0;31m           f, in_pvals, app, instantiate=False)\n\u001b[0m\u001b[1;32m    204\u001b[0m       \u001b[0;32mif\u001b[0m \u001b[0mprimitive\u001b[0m\u001b[0;34m.\u001b[0m\u001b[0mmap_primitive\u001b[0m\u001b[0;34m:\u001b[0m\u001b[0;34m\u001b[0m\u001b[0;34m\u001b[0m\u001b[0m\n\u001b[1;32m    205\u001b[0m         \u001b[0munmapped_aval\u001b[0m \u001b[0;34m=\u001b[0m \u001b[0mpartial\u001b[0m\u001b[0;34m(\u001b[0m\u001b[0mcore\u001b[0m\u001b[0;34m.\u001b[0m\u001b[0munmapped_aval\u001b[0m\u001b[0;34m,\u001b[0m \u001b[0mparams\u001b[0m\u001b[0;34m[\u001b[0m\u001b[0;34m'axis_size'\u001b[0m\u001b[0;34m]\u001b[0m\u001b[0;34m,\u001b[0m \u001b[0mparams\u001b[0m\u001b[0;34m[\u001b[0m\u001b[0;34m'axis_name'\u001b[0m\u001b[0;34m]\u001b[0m\u001b[0;34m)\u001b[0m\u001b[0;34m\u001b[0m\u001b[0;34m\u001b[0m\u001b[0m\n",
      "\u001b[0;32m~/opt/anaconda3/lib/python3.7/site-packages/jax/interpreters/partial_eval.py\u001b[0m in \u001b[0;36mpartial_eval\u001b[0;34m(self, f, pvals, app, instantiate)\u001b[0m\n\u001b[1;32m    309\u001b[0m     \u001b[0mf\u001b[0m \u001b[0;34m=\u001b[0m \u001b[0mtrace_to_subjaxpr\u001b[0m\u001b[0;34m(\u001b[0m\u001b[0mf\u001b[0m\u001b[0;34m,\u001b[0m \u001b[0mself\u001b[0m\u001b[0;34m.\u001b[0m\u001b[0mmain\u001b[0m\u001b[0;34m,\u001b[0m \u001b[0minstantiate\u001b[0m\u001b[0;34m)\u001b[0m\u001b[0;34m\u001b[0m\u001b[0;34m\u001b[0m\u001b[0m\n\u001b[1;32m    310\u001b[0m     \u001b[0mf\u001b[0m\u001b[0;34m,\u001b[0m \u001b[0maux\u001b[0m \u001b[0;34m=\u001b[0m \u001b[0mpartial_eval_wrapper\u001b[0m\u001b[0;34m(\u001b[0m\u001b[0mf\u001b[0m\u001b[0;34m,\u001b[0m \u001b[0mtuple\u001b[0m\u001b[0;34m(\u001b[0m\u001b[0min_avals\u001b[0m\u001b[0;34m)\u001b[0m\u001b[0;34m)\u001b[0m\u001b[0;34m\u001b[0m\u001b[0;34m\u001b[0m\u001b[0m\n\u001b[0;32m--> 311\u001b[0;31m     \u001b[0mout_flat\u001b[0m\u001b[0;34m,\u001b[0m \u001b[0;34m(\u001b[0m\u001b[0mout_avals\u001b[0m\u001b[0;34m,\u001b[0m \u001b[0mjaxpr\u001b[0m\u001b[0;34m,\u001b[0m \u001b[0menv\u001b[0m\u001b[0;34m)\u001b[0m \u001b[0;34m=\u001b[0m \u001b[0mapp\u001b[0m\u001b[0;34m(\u001b[0m\u001b[0mf\u001b[0m\u001b[0;34m,\u001b[0m \u001b[0;34m*\u001b[0m\u001b[0min_consts\u001b[0m\u001b[0;34m)\u001b[0m\u001b[0;34m,\u001b[0m \u001b[0maux\u001b[0m\u001b[0;34m(\u001b[0m\u001b[0;34m)\u001b[0m\u001b[0;34m\u001b[0m\u001b[0;34m\u001b[0m\u001b[0m\n\u001b[0m\u001b[1;32m    312\u001b[0m     \u001b[0mout_consts\u001b[0m\u001b[0;34m,\u001b[0m \u001b[0mconsts\u001b[0m \u001b[0;34m=\u001b[0m \u001b[0msplit_list\u001b[0m\u001b[0;34m(\u001b[0m\u001b[0mout_flat\u001b[0m\u001b[0;34m,\u001b[0m \u001b[0;34m[\u001b[0m\u001b[0mlen\u001b[0m\u001b[0;34m(\u001b[0m\u001b[0mout_flat\u001b[0m\u001b[0;34m)\u001b[0m\u001b[0;34m-\u001b[0m\u001b[0mlen\u001b[0m\u001b[0;34m(\u001b[0m\u001b[0mjaxpr\u001b[0m\u001b[0;34m.\u001b[0m\u001b[0mconstvars\u001b[0m\u001b[0;34m)\u001b[0m\u001b[0;34m]\u001b[0m\u001b[0;34m)\u001b[0m\u001b[0;34m\u001b[0m\u001b[0;34m\u001b[0m\u001b[0m\n\u001b[1;32m    313\u001b[0m     \u001b[0mout_pvs\u001b[0m \u001b[0;34m=\u001b[0m \u001b[0mmap\u001b[0m\u001b[0;34m(\u001b[0m\u001b[0mPartialVal\u001b[0m\u001b[0;34m,\u001b[0m \u001b[0mzip\u001b[0m\u001b[0;34m(\u001b[0m\u001b[0mout_avals\u001b[0m\u001b[0;34m,\u001b[0m \u001b[0mout_consts\u001b[0m\u001b[0;34m)\u001b[0m\u001b[0;34m)\u001b[0m\u001b[0;34m\u001b[0m\u001b[0;34m\u001b[0m\u001b[0m\n",
      "\u001b[0;32m~/opt/anaconda3/lib/python3.7/site-packages/jax/core.py\u001b[0m in \u001b[0;36mbind\u001b[0;34m(self, fun, *args, **params)\u001b[0m\n\u001b[1;32m   1630\u001b[0m \u001b[0;34m\u001b[0m\u001b[0m\n\u001b[1;32m   1631\u001b[0m   \u001b[0;32mdef\u001b[0m \u001b[0mbind\u001b[0m\u001b[0;34m(\u001b[0m\u001b[0mself\u001b[0m\u001b[0;34m,\u001b[0m \u001b[0mfun\u001b[0m\u001b[0;34m,\u001b[0m \u001b[0;34m*\u001b[0m\u001b[0margs\u001b[0m\u001b[0;34m,\u001b[0m \u001b[0;34m**\u001b[0m\u001b[0mparams\u001b[0m\u001b[0;34m)\u001b[0m\u001b[0;34m:\u001b[0m\u001b[0;34m\u001b[0m\u001b[0;34m\u001b[0m\u001b[0m\n\u001b[0;32m-> 1632\u001b[0;31m     \u001b[0;32mreturn\u001b[0m \u001b[0mcall_bind\u001b[0m\u001b[0;34m(\u001b[0m\u001b[0mself\u001b[0m\u001b[0;34m,\u001b[0m \u001b[0mfun\u001b[0m\u001b[0;34m,\u001b[0m \u001b[0;34m*\u001b[0m\u001b[0margs\u001b[0m\u001b[0;34m,\u001b[0m \u001b[0;34m**\u001b[0m\u001b[0mparams\u001b[0m\u001b[0;34m)\u001b[0m\u001b[0;34m\u001b[0m\u001b[0;34m\u001b[0m\u001b[0m\n\u001b[0m\u001b[1;32m   1633\u001b[0m \u001b[0;34m\u001b[0m\u001b[0m\n\u001b[1;32m   1634\u001b[0m   \u001b[0;32mdef\u001b[0m \u001b[0mprocess\u001b[0m\u001b[0;34m(\u001b[0m\u001b[0mself\u001b[0m\u001b[0;34m,\u001b[0m \u001b[0mtrace\u001b[0m\u001b[0;34m,\u001b[0m \u001b[0mfun\u001b[0m\u001b[0;34m,\u001b[0m \u001b[0mtracers\u001b[0m\u001b[0;34m,\u001b[0m \u001b[0mparams\u001b[0m\u001b[0;34m)\u001b[0m\u001b[0;34m:\u001b[0m\u001b[0;34m\u001b[0m\u001b[0;34m\u001b[0m\u001b[0m\n",
      "\u001b[0;32m~/opt/anaconda3/lib/python3.7/site-packages/jax/core.py\u001b[0m in \u001b[0;36mcall_bind\u001b[0;34m(primitive, fun, *args, **params)\u001b[0m\n\u001b[1;32m   1621\u001b[0m       params_tuple, out_axes_transforms)\n\u001b[1;32m   1622\u001b[0m   \u001b[0mtracers\u001b[0m \u001b[0;34m=\u001b[0m \u001b[0mmap\u001b[0m\u001b[0;34m(\u001b[0m\u001b[0mtop_trace\u001b[0m\u001b[0;34m.\u001b[0m\u001b[0mfull_raise\u001b[0m\u001b[0;34m,\u001b[0m \u001b[0margs\u001b[0m\u001b[0;34m)\u001b[0m\u001b[0;34m\u001b[0m\u001b[0;34m\u001b[0m\u001b[0m\n\u001b[0;32m-> 1623\u001b[0;31m   \u001b[0mouts\u001b[0m \u001b[0;34m=\u001b[0m \u001b[0mprimitive\u001b[0m\u001b[0;34m.\u001b[0m\u001b[0mprocess\u001b[0m\u001b[0;34m(\u001b[0m\u001b[0mtop_trace\u001b[0m\u001b[0;34m,\u001b[0m \u001b[0mfun\u001b[0m\u001b[0;34m,\u001b[0m \u001b[0mtracers\u001b[0m\u001b[0;34m,\u001b[0m \u001b[0mparams\u001b[0m\u001b[0;34m)\u001b[0m\u001b[0;34m\u001b[0m\u001b[0;34m\u001b[0m\u001b[0m\n\u001b[0m\u001b[1;32m   1624\u001b[0m   \u001b[0;32mreturn\u001b[0m \u001b[0mmap\u001b[0m\u001b[0;34m(\u001b[0m\u001b[0mfull_lower\u001b[0m\u001b[0;34m,\u001b[0m \u001b[0mapply_todos\u001b[0m\u001b[0;34m(\u001b[0m\u001b[0menv_trace_todo\u001b[0m\u001b[0;34m(\u001b[0m\u001b[0;34m)\u001b[0m\u001b[0;34m,\u001b[0m \u001b[0mouts\u001b[0m\u001b[0;34m)\u001b[0m\u001b[0;34m)\u001b[0m\u001b[0;34m\u001b[0m\u001b[0;34m\u001b[0m\u001b[0m\n\u001b[1;32m   1625\u001b[0m \u001b[0;34m\u001b[0m\u001b[0m\n",
      "\u001b[0;32m~/opt/anaconda3/lib/python3.7/site-packages/jax/core.py\u001b[0m in \u001b[0;36mprocess\u001b[0;34m(self, trace, fun, tracers, params)\u001b[0m\n\u001b[1;32m   1633\u001b[0m \u001b[0;34m\u001b[0m\u001b[0m\n\u001b[1;32m   1634\u001b[0m   \u001b[0;32mdef\u001b[0m \u001b[0mprocess\u001b[0m\u001b[0;34m(\u001b[0m\u001b[0mself\u001b[0m\u001b[0;34m,\u001b[0m \u001b[0mtrace\u001b[0m\u001b[0;34m,\u001b[0m \u001b[0mfun\u001b[0m\u001b[0;34m,\u001b[0m \u001b[0mtracers\u001b[0m\u001b[0;34m,\u001b[0m \u001b[0mparams\u001b[0m\u001b[0;34m)\u001b[0m\u001b[0;34m:\u001b[0m\u001b[0;34m\u001b[0m\u001b[0;34m\u001b[0m\u001b[0m\n\u001b[0;32m-> 1635\u001b[0;31m     \u001b[0;32mreturn\u001b[0m \u001b[0mtrace\u001b[0m\u001b[0;34m.\u001b[0m\u001b[0mprocess_call\u001b[0m\u001b[0;34m(\u001b[0m\u001b[0mself\u001b[0m\u001b[0;34m,\u001b[0m \u001b[0mfun\u001b[0m\u001b[0;34m,\u001b[0m \u001b[0mtracers\u001b[0m\u001b[0;34m,\u001b[0m \u001b[0mparams\u001b[0m\u001b[0;34m)\u001b[0m\u001b[0;34m\u001b[0m\u001b[0;34m\u001b[0m\u001b[0m\n\u001b[0m\u001b[1;32m   1636\u001b[0m \u001b[0;34m\u001b[0m\u001b[0m\n\u001b[1;32m   1637\u001b[0m   \u001b[0;32mdef\u001b[0m \u001b[0mpost_process\u001b[0m\u001b[0;34m(\u001b[0m\u001b[0mself\u001b[0m\u001b[0;34m,\u001b[0m \u001b[0mtrace\u001b[0m\u001b[0;34m,\u001b[0m \u001b[0mout_tracers\u001b[0m\u001b[0;34m,\u001b[0m \u001b[0mparams\u001b[0m\u001b[0;34m)\u001b[0m\u001b[0;34m:\u001b[0m\u001b[0;34m\u001b[0m\u001b[0;34m\u001b[0m\u001b[0m\n",
      "\u001b[0;32m~/opt/anaconda3/lib/python3.7/site-packages/jax/core.py\u001b[0m in \u001b[0;36mprocess_call\u001b[0;34m(self, primitive, f, tracers, params)\u001b[0m\n\u001b[1;32m    625\u001b[0m \u001b[0;34m\u001b[0m\u001b[0m\n\u001b[1;32m    626\u001b[0m   \u001b[0;32mdef\u001b[0m \u001b[0mprocess_call\u001b[0m\u001b[0;34m(\u001b[0m\u001b[0mself\u001b[0m\u001b[0;34m,\u001b[0m \u001b[0mprimitive\u001b[0m\u001b[0;34m,\u001b[0m \u001b[0mf\u001b[0m\u001b[0;34m,\u001b[0m \u001b[0mtracers\u001b[0m\u001b[0;34m,\u001b[0m \u001b[0mparams\u001b[0m\u001b[0;34m)\u001b[0m\u001b[0;34m:\u001b[0m\u001b[0;34m\u001b[0m\u001b[0;34m\u001b[0m\u001b[0m\n\u001b[0;32m--> 627\u001b[0;31m     \u001b[0;32mreturn\u001b[0m \u001b[0mprimitive\u001b[0m\u001b[0;34m.\u001b[0m\u001b[0mimpl\u001b[0m\u001b[0;34m(\u001b[0m\u001b[0mf\u001b[0m\u001b[0;34m,\u001b[0m \u001b[0;34m*\u001b[0m\u001b[0mtracers\u001b[0m\u001b[0;34m,\u001b[0m \u001b[0;34m**\u001b[0m\u001b[0mparams\u001b[0m\u001b[0;34m)\u001b[0m\u001b[0;34m\u001b[0m\u001b[0;34m\u001b[0m\u001b[0m\n\u001b[0m\u001b[1;32m    628\u001b[0m   \u001b[0mprocess_map\u001b[0m \u001b[0;34m=\u001b[0m \u001b[0mprocess_call\u001b[0m\u001b[0;34m\u001b[0m\u001b[0;34m\u001b[0m\u001b[0m\n\u001b[1;32m    629\u001b[0m \u001b[0;34m\u001b[0m\u001b[0m\n",
      "\u001b[0;32m~/opt/anaconda3/lib/python3.7/site-packages/jax/interpreters/xla.py\u001b[0m in \u001b[0;36m_xla_call_impl\u001b[0;34m(***failed resolving arguments***)\u001b[0m\n\u001b[1;32m    688\u001b[0m                                *unsafe_map(arg_spec, args))\n\u001b[1;32m    689\u001b[0m   \u001b[0;32mtry\u001b[0m\u001b[0;34m:\u001b[0m\u001b[0;34m\u001b[0m\u001b[0;34m\u001b[0m\u001b[0m\n\u001b[0;32m--> 690\u001b[0;31m     \u001b[0mout\u001b[0m \u001b[0;34m=\u001b[0m \u001b[0mcompiled_fun\u001b[0m\u001b[0;34m(\u001b[0m\u001b[0;34m*\u001b[0m\u001b[0margs\u001b[0m\u001b[0;34m)\u001b[0m\u001b[0;34m\u001b[0m\u001b[0;34m\u001b[0m\u001b[0m\n\u001b[0m\u001b[1;32m    691\u001b[0m   \u001b[0;32mexcept\u001b[0m \u001b[0mFloatingPointError\u001b[0m\u001b[0;34m:\u001b[0m\u001b[0;34m\u001b[0m\u001b[0;34m\u001b[0m\u001b[0m\n\u001b[1;32m    692\u001b[0m     \u001b[0;32massert\u001b[0m \u001b[0mconfig\u001b[0m\u001b[0;34m.\u001b[0m\u001b[0mjax_debug_nans\u001b[0m \u001b[0;32mor\u001b[0m \u001b[0mconfig\u001b[0m\u001b[0;34m.\u001b[0m\u001b[0mjax_debug_infs\u001b[0m  \u001b[0;31m# compiled_fun can only raise in this case\u001b[0m\u001b[0;34m\u001b[0m\u001b[0;34m\u001b[0m\u001b[0m\n",
      "\u001b[0;32m~/opt/anaconda3/lib/python3.7/site-packages/jax/interpreters/xla.py\u001b[0m in \u001b[0;36m_execute_compiled\u001b[0;34m(name, compiled, output_buffer_counts, handlers, kept_var_idx, *args)\u001b[0m\n\u001b[1;32m   1098\u001b[0m           \u001b[0;32mfor\u001b[0m \u001b[0mi\u001b[0m\u001b[0;34m,\u001b[0m \u001b[0mx\u001b[0m \u001b[0;32min\u001b[0m \u001b[0menumerate\u001b[0m\u001b[0;34m(\u001b[0m\u001b[0margs\u001b[0m\u001b[0;34m)\u001b[0m\u001b[0;34m\u001b[0m\u001b[0;34m\u001b[0m\u001b[0m\n\u001b[1;32m   1099\u001b[0m           if x is not token and i in kept_var_idx))\n\u001b[0;32m-> 1100\u001b[0;31m   \u001b[0mout_bufs\u001b[0m \u001b[0;34m=\u001b[0m \u001b[0mcompiled\u001b[0m\u001b[0;34m.\u001b[0m\u001b[0mexecute\u001b[0m\u001b[0;34m(\u001b[0m\u001b[0minput_bufs\u001b[0m\u001b[0;34m)\u001b[0m\u001b[0;34m\u001b[0m\u001b[0;34m\u001b[0m\u001b[0m\n\u001b[0m\u001b[1;32m   1101\u001b[0m   \u001b[0mcheck_special\u001b[0m\u001b[0;34m(\u001b[0m\u001b[0mname\u001b[0m\u001b[0;34m,\u001b[0m \u001b[0mout_bufs\u001b[0m\u001b[0;34m)\u001b[0m\u001b[0;34m\u001b[0m\u001b[0;34m\u001b[0m\u001b[0m\n\u001b[1;32m   1102\u001b[0m   \u001b[0;32mif\u001b[0m \u001b[0moutput_buffer_counts\u001b[0m \u001b[0;32mis\u001b[0m \u001b[0;32mNone\u001b[0m\u001b[0;34m:\u001b[0m\u001b[0;34m\u001b[0m\u001b[0;34m\u001b[0m\u001b[0m\n",
      "\u001b[0;31mKeyboardInterrupt\u001b[0m: "
     ]
    }
   ],
   "source": [
    "all_mses = []\n",
    "for _ in range(100):\n",
    "    mds_frm[0] = mds_frm[0][np.random.permutation(np.arange(9))]\n",
    "    pca.fit(np.vstack(mds_frm))\n",
    "    pca_activity = pca.transform(mds_frm[0])\n",
    "    pca_activity2 = pca.transform(mds_frm[1])\n",
    "\n",
    "    mses = []\n",
    "    for excluded_state in range(9):\n",
    "\n",
    "        n_params = int(pca_dim*(pca_dim-1)/2)\n",
    "        basis_tensor_inf = get_basis_tensor(pca_dim)\n",
    "\n",
    "        params = np.random.normal(size=(n_params))# + np.eye(dim)\n",
    "        res = op.minimize(predict_all,\n",
    "                   params,\n",
    "                   (pca_activity,pca_dim,basis_tensor_inf,excluded_state),\n",
    "                   jac=grad_wrapper,\n",
    "                   method='BFGS'\n",
    "                   )\n",
    "        print(res.message)\n",
    "\n",
    "        out = res.x\n",
    "        skewM = np.einsum('i...,i...',out,basis_tensor_inf)\n",
    "        Ainf = caley_transform(skewM,pca_dim)\n",
    "\n",
    "        predicted_neural_activity = []\n",
    "        for predict_from in range(9):\n",
    "\n",
    "            nAinf = (excluded_state-predict_from)%9\n",
    "            if nAinf!=0:\n",
    "                Ap = np.linalg.matrix_power(Ainf,nAinf)\n",
    "                prediction= pca.inverse_transform((Ap@pca_activity[predict_from].T).T)\n",
    "                predicted_neural_activity.append(prediction)\n",
    "        mses += [np.sum((predicted_neural_activity[i]-act_matrix[0])**2) for i in range(8)]\n",
    "        #print(np.mean(mses))\n",
    "    print(np.mean(mses))\n",
    "    all_mses.append(mses.copy())"
   ]
  },
  {
   "cell_type": "code",
   "execution_count": 150,
   "metadata": {},
   "outputs": [
    {
     "data": {
      "text/plain": [
       "84.61538461538461"
      ]
     },
     "execution_count": 150,
     "metadata": {},
     "output_type": "execute_result"
    }
   ],
   "source": [
    "mse_shuff = [np.nanmean(i) for i in all_mses]\n",
    "\n",
    "stt.percentileofscore(mse_shuff,mse_true)"
   ]
  },
  {
   "cell_type": "code",
   "execution_count": null,
   "metadata": {},
   "outputs": [],
   "source": []
  },
  {
   "cell_type": "code",
   "execution_count": 151,
   "metadata": {},
   "outputs": [
    {
     "ename": "SyntaxError",
     "evalue": "invalid syntax (<ipython-input-151-5450b7d4c28a>, line 1)",
     "output_type": "error",
     "traceback": [
      "\u001b[0;36m  File \u001b[0;32m\"<ipython-input-151-5450b7d4c28a>\"\u001b[0;36m, line \u001b[0;32m1\u001b[0m\n\u001b[0;31m    (0-)%9\u001b[0m\n\u001b[0m       ^\u001b[0m\n\u001b[0;31mSyntaxError\u001b[0m\u001b[0;31m:\u001b[0m invalid syntax\n"
     ]
    }
   ],
   "source": [
    "(0-)%9"
   ]
  },
  {
   "cell_type": "code",
   "execution_count": 97,
   "metadata": {},
   "outputs": [
    {
     "data": {
      "text/plain": [
       "326.4523703474272"
      ]
     },
     "execution_count": 97,
     "metadata": {},
     "output_type": "execute_result"
    }
   ],
   "source": [
    "np.mean(mses)"
   ]
  },
  {
   "cell_type": "code",
   "execution_count": 100,
   "metadata": {},
   "outputs": [
    {
     "name": "stdout",
     "output_type": "stream",
     "text": [
      "353.0100531390765\n"
     ]
    }
   ],
   "source": [
    "print(np.mean(mses))"
   ]
  },
  {
   "cell_type": "code",
   "execution_count": 79,
   "metadata": {},
   "outputs": [],
   "source": [
    "predicted_neural_activity = []\n",
    "for i in range(1,9):\n",
    "    Ap = np.linalg.matrix_power(Ainf,i)\n",
    "    prediction= pca.inverse_transform((Ap@pca_activity[8-i].T).T)\n",
    "    predicted_neural_activity.append(prediction)\n",
    "\n",
    "    [np.sum((predicted_neural_activity[i]-act_matrix[0])**2) for i in range(8)]"
   ]
  },
  {
   "cell_type": "code",
   "execution_count": 80,
   "metadata": {},
   "outputs": [],
   "source": [
    "mses = [np.sum((predicted_neural_activity[i]-act_matrix[0])**2) for i in range(8)]"
   ]
  },
  {
   "cell_type": "code",
   "execution_count": 81,
   "metadata": {},
   "outputs": [
    {
     "data": {
      "text/plain": [
       "464.8161079848484"
      ]
     },
     "execution_count": 81,
     "metadata": {},
     "output_type": "execute_result"
    }
   ],
   "source": [
    "np.mean(mses)"
   ]
  },
  {
   "cell_type": "code",
   "execution_count": 70,
   "metadata": {},
   "outputs": [
    {
     "data": {
      "text/plain": [
       "221.5674373154192"
      ]
     },
     "execution_count": 70,
     "metadata": {},
     "output_type": "execute_result"
    }
   ],
   "source": [
    "np.mean(mses)"
   ]
  },
  {
   "cell_type": "code",
   "execution_count": 67,
   "metadata": {},
   "outputs": [
    {
     "ename": "ValueError",
     "evalue": "all the input array dimensions for the concatenation axis must match exactly, but along dimension 1, the array at index 0 has size 1 and the array at index 1 has size 8",
     "output_type": "error",
     "traceback": [
      "\u001b[0;31m---------------------------------------------------------------------------\u001b[0m",
      "\u001b[0;31mValueError\u001b[0m                                Traceback (most recent call last)",
      "\u001b[0;32m<ipython-input-67-833ed2295a84>\u001b[0m in \u001b[0;36m<module>\u001b[0;34m\u001b[0m\n\u001b[1;32m      2\u001b[0m \u001b[0mn_neurons\u001b[0m \u001b[0;34m=\u001b[0m \u001b[0mact_matrix\u001b[0m\u001b[0;34m.\u001b[0m\u001b[0mshape\u001b[0m\u001b[0;34m[\u001b[0m\u001b[0;36m1\u001b[0m\u001b[0;34m]\u001b[0m\u001b[0;34m\u001b[0m\u001b[0;34m\u001b[0m\u001b[0m\n\u001b[1;32m      3\u001b[0m \u001b[0;32mfor\u001b[0m \u001b[0mi\u001b[0m \u001b[0;32min\u001b[0m \u001b[0mrange\u001b[0m\u001b[0;34m(\u001b[0m\u001b[0mn_neurons\u001b[0m\u001b[0;34m)\u001b[0m\u001b[0;34m:\u001b[0m\u001b[0;34m\u001b[0m\u001b[0;34m\u001b[0m\u001b[0m\n\u001b[0;32m----> 4\u001b[0;31m     \u001b[0mcc\u001b[0m\u001b[0;34m.\u001b[0m\u001b[0mappend\u001b[0m\u001b[0;34m(\u001b[0m\u001b[0mnp\u001b[0m\u001b[0;34m.\u001b[0m\u001b[0mcorrcoef\u001b[0m\u001b[0;34m(\u001b[0m\u001b[0mact_matrix\u001b[0m\u001b[0;34m[\u001b[0m\u001b[0;34m:\u001b[0m\u001b[0;34m,\u001b[0m\u001b[0mi\u001b[0m\u001b[0;34m]\u001b[0m\u001b[0;34m[\u001b[0m\u001b[0;36m0\u001b[0m\u001b[0;34m]\u001b[0m\u001b[0;34m,\u001b[0m\u001b[0mnp\u001b[0m\u001b[0;34m.\u001b[0m\u001b[0marray\u001b[0m\u001b[0;34m(\u001b[0m\u001b[0mpredicted_neural_activity\u001b[0m\u001b[0;34m)\u001b[0m\u001b[0;34m[\u001b[0m\u001b[0;34m:\u001b[0m\u001b[0;34m,\u001b[0m\u001b[0mi\u001b[0m\u001b[0;34m]\u001b[0m\u001b[0;34m)\u001b[0m\u001b[0;34m[\u001b[0m\u001b[0;36m0\u001b[0m\u001b[0;34m,\u001b[0m\u001b[0;36m1\u001b[0m\u001b[0;34m]\u001b[0m\u001b[0;34m)\u001b[0m\u001b[0;34m\u001b[0m\u001b[0;34m\u001b[0m\u001b[0m\n\u001b[0m\u001b[1;32m      5\u001b[0m \u001b[0;34m\u001b[0m\u001b[0m\n\u001b[1;32m      6\u001b[0m \u001b[0mprint\u001b[0m\u001b[0;34m(\u001b[0m\u001b[0mnp\u001b[0m\u001b[0;34m.\u001b[0m\u001b[0mnanmean\u001b[0m\u001b[0;34m(\u001b[0m\u001b[0mcc\u001b[0m\u001b[0;34m)\u001b[0m\u001b[0;34m)\u001b[0m\u001b[0;34m\u001b[0m\u001b[0;34m\u001b[0m\u001b[0m\n",
      "\u001b[0;32m<__array_function__ internals>\u001b[0m in \u001b[0;36mcorrcoef\u001b[0;34m(*args, **kwargs)\u001b[0m\n",
      "\u001b[0;32m~/opt/anaconda3/lib/python3.7/site-packages/numpy/lib/function_base.py\u001b[0m in \u001b[0;36mcorrcoef\u001b[0;34m(x, y, rowvar, bias, ddof)\u001b[0m\n\u001b[1;32m   2549\u001b[0m         warnings.warn('bias and ddof have no effect and are deprecated',\n\u001b[1;32m   2550\u001b[0m                       DeprecationWarning, stacklevel=3)\n\u001b[0;32m-> 2551\u001b[0;31m     \u001b[0mc\u001b[0m \u001b[0;34m=\u001b[0m \u001b[0mcov\u001b[0m\u001b[0;34m(\u001b[0m\u001b[0mx\u001b[0m\u001b[0;34m,\u001b[0m \u001b[0my\u001b[0m\u001b[0;34m,\u001b[0m \u001b[0mrowvar\u001b[0m\u001b[0;34m)\u001b[0m\u001b[0;34m\u001b[0m\u001b[0;34m\u001b[0m\u001b[0m\n\u001b[0m\u001b[1;32m   2552\u001b[0m     \u001b[0;32mtry\u001b[0m\u001b[0;34m:\u001b[0m\u001b[0;34m\u001b[0m\u001b[0;34m\u001b[0m\u001b[0m\n\u001b[1;32m   2553\u001b[0m         \u001b[0md\u001b[0m \u001b[0;34m=\u001b[0m \u001b[0mdiag\u001b[0m\u001b[0;34m(\u001b[0m\u001b[0mc\u001b[0m\u001b[0;34m)\u001b[0m\u001b[0;34m\u001b[0m\u001b[0;34m\u001b[0m\u001b[0m\n",
      "\u001b[0;32m<__array_function__ internals>\u001b[0m in \u001b[0;36mcov\u001b[0;34m(*args, **kwargs)\u001b[0m\n",
      "\u001b[0;32m~/opt/anaconda3/lib/python3.7/site-packages/numpy/lib/function_base.py\u001b[0m in \u001b[0;36mcov\u001b[0;34m(m, y, rowvar, bias, ddof, fweights, aweights)\u001b[0m\n\u001b[1;32m   2413\u001b[0m         \u001b[0;32mif\u001b[0m \u001b[0;32mnot\u001b[0m \u001b[0mrowvar\u001b[0m \u001b[0;32mand\u001b[0m \u001b[0my\u001b[0m\u001b[0;34m.\u001b[0m\u001b[0mshape\u001b[0m\u001b[0;34m[\u001b[0m\u001b[0;36m0\u001b[0m\u001b[0;34m]\u001b[0m \u001b[0;34m!=\u001b[0m \u001b[0;36m1\u001b[0m\u001b[0;34m:\u001b[0m\u001b[0;34m\u001b[0m\u001b[0;34m\u001b[0m\u001b[0m\n\u001b[1;32m   2414\u001b[0m             \u001b[0my\u001b[0m \u001b[0;34m=\u001b[0m \u001b[0my\u001b[0m\u001b[0;34m.\u001b[0m\u001b[0mT\u001b[0m\u001b[0;34m\u001b[0m\u001b[0;34m\u001b[0m\u001b[0m\n\u001b[0;32m-> 2415\u001b[0;31m         \u001b[0mX\u001b[0m \u001b[0;34m=\u001b[0m \u001b[0mnp\u001b[0m\u001b[0;34m.\u001b[0m\u001b[0mconcatenate\u001b[0m\u001b[0;34m(\u001b[0m\u001b[0;34m(\u001b[0m\u001b[0mX\u001b[0m\u001b[0;34m,\u001b[0m \u001b[0my\u001b[0m\u001b[0;34m)\u001b[0m\u001b[0;34m,\u001b[0m \u001b[0maxis\u001b[0m\u001b[0;34m=\u001b[0m\u001b[0;36m0\u001b[0m\u001b[0;34m)\u001b[0m\u001b[0;34m\u001b[0m\u001b[0;34m\u001b[0m\u001b[0m\n\u001b[0m\u001b[1;32m   2416\u001b[0m \u001b[0;34m\u001b[0m\u001b[0m\n\u001b[1;32m   2417\u001b[0m     \u001b[0;32mif\u001b[0m \u001b[0mddof\u001b[0m \u001b[0;32mis\u001b[0m \u001b[0;32mNone\u001b[0m\u001b[0;34m:\u001b[0m\u001b[0;34m\u001b[0m\u001b[0;34m\u001b[0m\u001b[0m\n",
      "\u001b[0;32m<__array_function__ internals>\u001b[0m in \u001b[0;36mconcatenate\u001b[0;34m(*args, **kwargs)\u001b[0m\n",
      "\u001b[0;31mValueError\u001b[0m: all the input array dimensions for the concatenation axis must match exactly, but along dimension 1, the array at index 0 has size 1 and the array at index 1 has size 8"
     ]
    }
   ],
   "source": [
    "cc = []\n",
    "n_neurons = act_matrix.shape[1]\n",
    "for i in range(n_neurons):\n",
    "    cc.append(np.corrcoef(act_matrix[:,i][0],np.array(predicted_neural_activity)[:,i])[0,1])\n",
    "    \n",
    "print(np.nanmean(cc))"
   ]
  },
  {
   "cell_type": "markdown",
   "metadata": {},
   "source": [
    "## Now try other direction\n"
   ]
  },
  {
   "cell_type": "code",
   "execution_count": 27,
   "metadata": {},
   "outputs": [
    {
     "ename": "NameError",
     "evalue": "name 'Ainf' is not defined",
     "output_type": "error",
     "traceback": [
      "\u001b[0;31m---------------------------------------------------------------------------\u001b[0m",
      "\u001b[0;31mNameError\u001b[0m                                 Traceback (most recent call last)",
      "\u001b[0;32m<ipython-input-27-1a5ce1ab0bfb>\u001b[0m in \u001b[0;36m<module>\u001b[0;34m\u001b[0m\n\u001b[0;32m----> 1\u001b[0;31m \u001b[0mpredicted_neural_activity\u001b[0m \u001b[0;34m=\u001b[0m \u001b[0mpca\u001b[0m\u001b[0;34m.\u001b[0m\u001b[0minverse_transform\u001b[0m\u001b[0;34m(\u001b[0m\u001b[0;34m(\u001b[0m\u001b[0mAinf\u001b[0m\u001b[0;34m@\u001b[0m\u001b[0mpca_activity2\u001b[0m\u001b[0;34m.\u001b[0m\u001b[0mT\u001b[0m\u001b[0;34m)\u001b[0m\u001b[0;34m.\u001b[0m\u001b[0mT\u001b[0m\u001b[0;34m)\u001b[0m\u001b[0;34m\u001b[0m\u001b[0;34m\u001b[0m\u001b[0m\n\u001b[0m",
      "\u001b[0;31mNameError\u001b[0m: name 'Ainf' is not defined"
     ]
    }
   ],
   "source": [
    "predicted_neural_activity = pca.inverse_transform((Ainf@pca_activity2.T).T)"
   ]
  },
  {
   "cell_type": "code",
   "execution_count": 28,
   "metadata": {},
   "outputs": [
    {
     "ename": "NameError",
     "evalue": "name 'predicted_neural_activity' is not defined",
     "output_type": "error",
     "traceback": [
      "\u001b[0;31m---------------------------------------------------------------------------\u001b[0m",
      "\u001b[0;31mNameError\u001b[0m                                 Traceback (most recent call last)",
      "\u001b[0;32m<ipython-input-28-cdf06a5a805b>\u001b[0m in \u001b[0;36m<module>\u001b[0;34m\u001b[0m\n\u001b[1;32m      1\u001b[0m \u001b[0mix_\u001b[0m \u001b[0;34m=\u001b[0m \u001b[0;36m0\u001b[0m\u001b[0;34m\u001b[0m\u001b[0;34m\u001b[0m\u001b[0m\n\u001b[0;32m----> 2\u001b[0;31m \u001b[0mplt\u001b[0m\u001b[0;34m.\u001b[0m\u001b[0mplot\u001b[0m\u001b[0;34m(\u001b[0m\u001b[0mpredicted_neural_activity\u001b[0m\u001b[0;34m[\u001b[0m\u001b[0;34m:\u001b[0m\u001b[0;34m,\u001b[0m\u001b[0mix_\u001b[0m\u001b[0;34m]\u001b[0m\u001b[0;34m[\u001b[0m\u001b[0;34m:\u001b[0m\u001b[0;34m-\u001b[0m\u001b[0;36m1\u001b[0m\u001b[0;34m]\u001b[0m\u001b[0;34m)\u001b[0m\u001b[0;34m\u001b[0m\u001b[0;34m\u001b[0m\u001b[0m\n\u001b[0m\u001b[1;32m      3\u001b[0m \u001b[0mplt\u001b[0m\u001b[0;34m.\u001b[0m\u001b[0mplot\u001b[0m\u001b[0;34m(\u001b[0m\u001b[0mact_matrix2\u001b[0m\u001b[0;34m[\u001b[0m\u001b[0;34m:\u001b[0m\u001b[0;34m,\u001b[0m\u001b[0mix_\u001b[0m\u001b[0;34m]\u001b[0m\u001b[0;34m[\u001b[0m\u001b[0;36m1\u001b[0m\u001b[0;34m:\u001b[0m\u001b[0;34m]\u001b[0m\u001b[0;34m)\u001b[0m\u001b[0;34m\u001b[0m\u001b[0;34m\u001b[0m\u001b[0m\n",
      "\u001b[0;31mNameError\u001b[0m: name 'predicted_neural_activity' is not defined"
     ]
    }
   ],
   "source": [
    "ix_ = 0\n",
    "plt.plot(predicted_neural_activity[:,ix_][:-1])\n",
    "plt.plot(act_matrix2[:,ix_][1:])"
   ]
  },
  {
   "cell_type": "code",
   "execution_count": 29,
   "metadata": {},
   "outputs": [
    {
     "name": "stdout",
     "output_type": "stream",
     "text": [
      "[-0.24253563 -0.24253563 -0.24253563 -0.24253563 -0.24253563 -0.24253563\n",
      " -0.24253563  4.12310563 -0.24253563]\n"
     ]
    },
    {
     "ename": "NameError",
     "evalue": "name 'predicted_neural_activity' is not defined",
     "output_type": "error",
     "traceback": [
      "\u001b[0;31m---------------------------------------------------------------------------\u001b[0m",
      "\u001b[0;31mNameError\u001b[0m                                 Traceback (most recent call last)",
      "\u001b[0;32m<ipython-input-29-aa4a42190432>\u001b[0m in \u001b[0;36m<module>\u001b[0;34m\u001b[0m\n\u001b[1;32m      2\u001b[0m \u001b[0mprint\u001b[0m\u001b[0;34m(\u001b[0m\u001b[0mact_matrix2\u001b[0m\u001b[0;34m[\u001b[0m\u001b[0;34m:\u001b[0m\u001b[0;34m,\u001b[0m\u001b[0;36m0\u001b[0m\u001b[0;34m]\u001b[0m\u001b[0;34m)\u001b[0m\u001b[0;34m\u001b[0m\u001b[0;34m\u001b[0m\u001b[0m\n\u001b[1;32m      3\u001b[0m \u001b[0;32mfor\u001b[0m \u001b[0mi\u001b[0m \u001b[0;32min\u001b[0m \u001b[0mrange\u001b[0m\u001b[0;34m(\u001b[0m\u001b[0mn_neurons\u001b[0m\u001b[0;34m)\u001b[0m\u001b[0;34m:\u001b[0m\u001b[0;34m\u001b[0m\u001b[0;34m\u001b[0m\u001b[0m\n\u001b[0;32m----> 4\u001b[0;31m     \u001b[0mtrue_cc\u001b[0m\u001b[0;34m.\u001b[0m\u001b[0mappend\u001b[0m\u001b[0;34m(\u001b[0m\u001b[0mnp\u001b[0m\u001b[0;34m.\u001b[0m\u001b[0mcorrcoef\u001b[0m\u001b[0;34m(\u001b[0m\u001b[0mact_matrix2\u001b[0m\u001b[0;34m[\u001b[0m\u001b[0;34m:\u001b[0m\u001b[0;34m,\u001b[0m\u001b[0mi\u001b[0m\u001b[0;34m]\u001b[0m\u001b[0;34m[\u001b[0m\u001b[0;36m1\u001b[0m\u001b[0;34m:\u001b[0m\u001b[0;34m]\u001b[0m\u001b[0;34m,\u001b[0m\u001b[0mpredicted_neural_activity\u001b[0m\u001b[0;34m[\u001b[0m\u001b[0;34m:\u001b[0m\u001b[0;34m,\u001b[0m\u001b[0mi\u001b[0m\u001b[0;34m]\u001b[0m\u001b[0;34m[\u001b[0m\u001b[0;34m:\u001b[0m\u001b[0;34m-\u001b[0m\u001b[0;36m1\u001b[0m\u001b[0;34m]\u001b[0m\u001b[0;34m)\u001b[0m\u001b[0;34m[\u001b[0m\u001b[0;36m0\u001b[0m\u001b[0;34m,\u001b[0m\u001b[0;36m1\u001b[0m\u001b[0;34m]\u001b[0m\u001b[0;34m)\u001b[0m\u001b[0;34m\u001b[0m\u001b[0;34m\u001b[0m\u001b[0m\n\u001b[0m\u001b[1;32m      5\u001b[0m \u001b[0;34m\u001b[0m\u001b[0m\n\u001b[1;32m      6\u001b[0m \u001b[0mtrue_cc\u001b[0m \u001b[0;34m=\u001b[0m \u001b[0mnp\u001b[0m\u001b[0;34m.\u001b[0m\u001b[0mnanmean\u001b[0m\u001b[0;34m(\u001b[0m\u001b[0mtrue_cc\u001b[0m\u001b[0;34m)\u001b[0m\u001b[0;34m\u001b[0m\u001b[0;34m\u001b[0m\u001b[0m\n",
      "\u001b[0;31mNameError\u001b[0m: name 'predicted_neural_activity' is not defined"
     ]
    }
   ],
   "source": [
    "true_cc = []\n",
    "print(act_matrix2[:,0])\n",
    "for i in range(n_neurons):\n",
    "    true_cc.append(np.corrcoef(act_matrix2[:,i][1:],predicted_neural_activity[:,i][:-1])[0,1])\n",
    "    \n",
    "true_cc = np.nanmean(true_cc)\n",
    "print(true_cc)"
   ]
  },
  {
   "cell_type": "code",
   "execution_count": 30,
   "metadata": {},
   "outputs": [
    {
     "ename": "SyntaxError",
     "evalue": "invalid syntax (<ipython-input-30-a745e2a64958>, line 1)",
     "output_type": "error",
     "traceback": [
      "\u001b[0;36m  File \u001b[0;32m\"<ipython-input-30-a745e2a64958>\"\u001b[0;36m, line \u001b[0;32m1\u001b[0m\n\u001b[0;31m    [-0.36952234 -0.78147718 -0.08939304  0.36349151  0.29372497 -0.42719602\u001b[0m\n\u001b[0m                                                   ^\u001b[0m\n\u001b[0;31mSyntaxError\u001b[0m\u001b[0;31m:\u001b[0m invalid syntax\n"
     ]
    }
   ],
   "source": [
    "[-0.36952234 -0.78147718 -0.08939304  0.36349151  0.29372497 -0.42719602\n",
    " -1.20991022 -1.23987058 -0.76170335]\n"
   ]
  },
  {
   "cell_type": "code",
   "execution_count": 31,
   "metadata": {},
   "outputs": [
    {
     "ename": "NameError",
     "evalue": "name 'predicted_neural_activity' is not defined",
     "output_type": "error",
     "traceback": [
      "\u001b[0;31m---------------------------------------------------------------------------\u001b[0m",
      "\u001b[0;31mNameError\u001b[0m                                 Traceback (most recent call last)",
      "\u001b[0;32m<ipython-input-31-1f17716d4623>\u001b[0m in \u001b[0;36m<module>\u001b[0;34m\u001b[0m\n\u001b[1;32m      4\u001b[0m     \u001b[0mnew_order\u001b[0m \u001b[0;34m=\u001b[0m \u001b[0mnp\u001b[0m\u001b[0;34m.\u001b[0m\u001b[0mrandom\u001b[0m\u001b[0;34m.\u001b[0m\u001b[0mpermutation\u001b[0m\u001b[0;34m(\u001b[0m\u001b[0mnp\u001b[0m\u001b[0;34m.\u001b[0m\u001b[0marange\u001b[0m\u001b[0;34m(\u001b[0m\u001b[0;36m9\u001b[0m\u001b[0;34m)\u001b[0m\u001b[0;34m)\u001b[0m\u001b[0;34m\u001b[0m\u001b[0;34m\u001b[0m\u001b[0m\n\u001b[1;32m      5\u001b[0m     \u001b[0;32mfor\u001b[0m \u001b[0mi\u001b[0m \u001b[0;32min\u001b[0m \u001b[0mrange\u001b[0m\u001b[0;34m(\u001b[0m\u001b[0mn_neurons\u001b[0m\u001b[0;34m)\u001b[0m\u001b[0;34m:\u001b[0m\u001b[0;34m\u001b[0m\u001b[0;34m\u001b[0m\u001b[0m\n\u001b[0;32m----> 6\u001b[0;31m         \u001b[0mcc\u001b[0m\u001b[0;34m.\u001b[0m\u001b[0mappend\u001b[0m\u001b[0;34m(\u001b[0m\u001b[0mnp\u001b[0m\u001b[0;34m.\u001b[0m\u001b[0mcorrcoef\u001b[0m\u001b[0;34m(\u001b[0m\u001b[0mact_matrix2\u001b[0m\u001b[0;34m[\u001b[0m\u001b[0;34m:\u001b[0m\u001b[0;34m,\u001b[0m\u001b[0mi\u001b[0m\u001b[0;34m]\u001b[0m\u001b[0;34m[\u001b[0m\u001b[0mnew_order\u001b[0m\u001b[0;34m]\u001b[0m\u001b[0;34m[\u001b[0m\u001b[0;36m1\u001b[0m\u001b[0;34m:\u001b[0m\u001b[0;34m]\u001b[0m\u001b[0;34m,\u001b[0m\u001b[0mpredicted_neural_activity\u001b[0m\u001b[0;34m[\u001b[0m\u001b[0;34m:\u001b[0m\u001b[0;34m,\u001b[0m\u001b[0mi\u001b[0m\u001b[0;34m]\u001b[0m\u001b[0;34m[\u001b[0m\u001b[0;34m:\u001b[0m\u001b[0;34m-\u001b[0m\u001b[0;36m1\u001b[0m\u001b[0;34m]\u001b[0m\u001b[0;34m)\u001b[0m\u001b[0;34m[\u001b[0m\u001b[0;36m0\u001b[0m\u001b[0;34m,\u001b[0m\u001b[0;36m1\u001b[0m\u001b[0;34m]\u001b[0m\u001b[0;34m)\u001b[0m\u001b[0;34m\u001b[0m\u001b[0;34m\u001b[0m\u001b[0m\n\u001b[0m\u001b[1;32m      7\u001b[0m     \u001b[0mall_cc\u001b[0m\u001b[0;34m.\u001b[0m\u001b[0mappend\u001b[0m\u001b[0;34m(\u001b[0m\u001b[0mnp\u001b[0m\u001b[0;34m.\u001b[0m\u001b[0mnanmean\u001b[0m\u001b[0;34m(\u001b[0m\u001b[0mcc\u001b[0m\u001b[0;34m)\u001b[0m\u001b[0;34m)\u001b[0m\u001b[0;34m\u001b[0m\u001b[0;34m\u001b[0m\u001b[0m\n\u001b[1;32m      8\u001b[0m \u001b[0;31m#print(np.nanmean(cc))\u001b[0m\u001b[0;34m\u001b[0m\u001b[0;34m\u001b[0m\u001b[0;34m\u001b[0m\u001b[0m\n",
      "\u001b[0;31mNameError\u001b[0m: name 'predicted_neural_activity' is not defined"
     ]
    }
   ],
   "source": [
    "all_cc = []\n",
    "for _ in range(200):\n",
    "    cc = []\n",
    "    new_order = np.random.permutation(np.arange(9))\n",
    "    for i in range(n_neurons):\n",
    "        cc.append(np.corrcoef(act_matrix2[:,i][new_order][1:],predicted_neural_activity[:,i][:-1])[0,1])\n",
    "    all_cc.append(np.nanmean(cc))\n",
    "#print(np.nanmean(cc))"
   ]
  },
  {
   "cell_type": "code",
   "execution_count": 32,
   "metadata": {},
   "outputs": [
    {
     "data": {
      "text/plain": [
       "(9, 205)"
      ]
     },
     "execution_count": 32,
     "metadata": {},
     "output_type": "execute_result"
    }
   ],
   "source": [
    "act_matrix.shape"
   ]
  },
  {
   "cell_type": "code",
   "execution_count": 33,
   "metadata": {},
   "outputs": [
    {
     "ename": "NameError",
     "evalue": "name 'predicted_neural_activity' is not defined",
     "output_type": "error",
     "traceback": [
      "\u001b[0;31m---------------------------------------------------------------------------\u001b[0m",
      "\u001b[0;31mNameError\u001b[0m                                 Traceback (most recent call last)",
      "\u001b[0;32m<ipython-input-33-94415c29cbbd>\u001b[0m in \u001b[0;36m<module>\u001b[0;34m\u001b[0m\n\u001b[0;32m----> 1\u001b[0;31m \u001b[0mpredicted_neural_activity\u001b[0m\u001b[0;34m.\u001b[0m\u001b[0mshape\u001b[0m\u001b[0;34m\u001b[0m\u001b[0;34m\u001b[0m\u001b[0m\n\u001b[0m",
      "\u001b[0;31mNameError\u001b[0m: name 'predicted_neural_activity' is not defined"
     ]
    }
   ],
   "source": [
    "predicted_neural_activity.shape"
   ]
  },
  {
   "cell_type": "code",
   "execution_count": 34,
   "metadata": {},
   "outputs": [
    {
     "name": "stderr",
     "output_type": "stream",
     "text": [
      "/Users/yves/opt/anaconda3/lib/python3.7/site-packages/seaborn/distributions.py:198: RuntimeWarning: Mean of empty slice.\n",
      "  line, = ax.plot(a.mean(), 0)\n",
      "/Users/yves/opt/anaconda3/lib/python3.7/site-packages/numpy/core/_methods.py:170: RuntimeWarning: invalid value encountered in double_scalars\n",
      "  ret = ret.dtype.type(ret / rcount)\n"
     ]
    },
    {
     "ename": "ValueError",
     "evalue": "shape mismatch: objects cannot be broadcast to a single shape",
     "output_type": "error",
     "traceback": [
      "\u001b[0;31m---------------------------------------------------------------------------\u001b[0m",
      "\u001b[0;31mValueError\u001b[0m                                Traceback (most recent call last)",
      "\u001b[0;32m<ipython-input-34-f6363af2b8c7>\u001b[0m in \u001b[0;36m<module>\u001b[0;34m\u001b[0m\n\u001b[1;32m      1\u001b[0m \u001b[0mseaborn\u001b[0m\u001b[0;34m.\u001b[0m\u001b[0mdistplot\u001b[0m\u001b[0;34m(\u001b[0m\u001b[0mall_cc\u001b[0m\u001b[0;34m,\u001b[0m\u001b[0mkde\u001b[0m\u001b[0;34m=\u001b[0m\u001b[0;36m0\u001b[0m\u001b[0;34m)\u001b[0m\u001b[0;34m\u001b[0m\u001b[0;34m\u001b[0m\u001b[0m\n\u001b[0;32m----> 2\u001b[0;31m \u001b[0mplt\u001b[0m\u001b[0;34m.\u001b[0m\u001b[0maxvline\u001b[0m\u001b[0;34m(\u001b[0m\u001b[0mx\u001b[0m\u001b[0;34m=\u001b[0m\u001b[0mtrue_cc\u001b[0m\u001b[0;34m)\u001b[0m\u001b[0;34m\u001b[0m\u001b[0;34m\u001b[0m\u001b[0m\n\u001b[0m",
      "\u001b[0;32m~/opt/anaconda3/lib/python3.7/site-packages/matplotlib/pyplot.py\u001b[0m in \u001b[0;36maxvline\u001b[0;34m(x, ymin, ymax, **kwargs)\u001b[0m\n\u001b[1;32m   2422\u001b[0m \u001b[0;34m@\u001b[0m\u001b[0mdocstring\u001b[0m\u001b[0;34m.\u001b[0m\u001b[0mcopy\u001b[0m\u001b[0;34m(\u001b[0m\u001b[0mAxes\u001b[0m\u001b[0;34m.\u001b[0m\u001b[0maxvline\u001b[0m\u001b[0;34m)\u001b[0m\u001b[0;34m\u001b[0m\u001b[0;34m\u001b[0m\u001b[0m\n\u001b[1;32m   2423\u001b[0m \u001b[0;32mdef\u001b[0m \u001b[0maxvline\u001b[0m\u001b[0;34m(\u001b[0m\u001b[0mx\u001b[0m\u001b[0;34m=\u001b[0m\u001b[0;36m0\u001b[0m\u001b[0;34m,\u001b[0m \u001b[0mymin\u001b[0m\u001b[0;34m=\u001b[0m\u001b[0;36m0\u001b[0m\u001b[0;34m,\u001b[0m \u001b[0mymax\u001b[0m\u001b[0;34m=\u001b[0m\u001b[0;36m1\u001b[0m\u001b[0;34m,\u001b[0m \u001b[0;34m**\u001b[0m\u001b[0mkwargs\u001b[0m\u001b[0;34m)\u001b[0m\u001b[0;34m:\u001b[0m\u001b[0;34m\u001b[0m\u001b[0;34m\u001b[0m\u001b[0m\n\u001b[0;32m-> 2424\u001b[0;31m     \u001b[0;32mreturn\u001b[0m \u001b[0mgca\u001b[0m\u001b[0;34m(\u001b[0m\u001b[0;34m)\u001b[0m\u001b[0;34m.\u001b[0m\u001b[0maxvline\u001b[0m\u001b[0;34m(\u001b[0m\u001b[0mx\u001b[0m\u001b[0;34m=\u001b[0m\u001b[0mx\u001b[0m\u001b[0;34m,\u001b[0m \u001b[0mymin\u001b[0m\u001b[0;34m=\u001b[0m\u001b[0mymin\u001b[0m\u001b[0;34m,\u001b[0m \u001b[0mymax\u001b[0m\u001b[0;34m=\u001b[0m\u001b[0mymax\u001b[0m\u001b[0;34m,\u001b[0m \u001b[0;34m**\u001b[0m\u001b[0mkwargs\u001b[0m\u001b[0;34m)\u001b[0m\u001b[0;34m\u001b[0m\u001b[0;34m\u001b[0m\u001b[0m\n\u001b[0m\u001b[1;32m   2425\u001b[0m \u001b[0;34m\u001b[0m\u001b[0m\n\u001b[1;32m   2426\u001b[0m \u001b[0;34m\u001b[0m\u001b[0m\n",
      "\u001b[0;32m~/opt/anaconda3/lib/python3.7/site-packages/matplotlib/axes/_axes.py\u001b[0m in \u001b[0;36maxvline\u001b[0;34m(self, x, ymin, ymax, **kwargs)\u001b[0m\n\u001b[1;32m    933\u001b[0m         \u001b[0mtrans\u001b[0m \u001b[0;34m=\u001b[0m \u001b[0mself\u001b[0m\u001b[0;34m.\u001b[0m\u001b[0mget_xaxis_transform\u001b[0m\u001b[0;34m(\u001b[0m\u001b[0mwhich\u001b[0m\u001b[0;34m=\u001b[0m\u001b[0;34m'grid'\u001b[0m\u001b[0;34m)\u001b[0m\u001b[0;34m\u001b[0m\u001b[0;34m\u001b[0m\u001b[0m\n\u001b[1;32m    934\u001b[0m         \u001b[0ml\u001b[0m \u001b[0;34m=\u001b[0m \u001b[0mmlines\u001b[0m\u001b[0;34m.\u001b[0m\u001b[0mLine2D\u001b[0m\u001b[0;34m(\u001b[0m\u001b[0;34m[\u001b[0m\u001b[0mx\u001b[0m\u001b[0;34m,\u001b[0m \u001b[0mx\u001b[0m\u001b[0;34m]\u001b[0m\u001b[0;34m,\u001b[0m \u001b[0;34m[\u001b[0m\u001b[0mymin\u001b[0m\u001b[0;34m,\u001b[0m \u001b[0mymax\u001b[0m\u001b[0;34m]\u001b[0m\u001b[0;34m,\u001b[0m \u001b[0mtransform\u001b[0m\u001b[0;34m=\u001b[0m\u001b[0mtrans\u001b[0m\u001b[0;34m,\u001b[0m \u001b[0;34m**\u001b[0m\u001b[0mkwargs\u001b[0m\u001b[0;34m)\u001b[0m\u001b[0;34m\u001b[0m\u001b[0;34m\u001b[0m\u001b[0m\n\u001b[0;32m--> 935\u001b[0;31m         \u001b[0mself\u001b[0m\u001b[0;34m.\u001b[0m\u001b[0madd_line\u001b[0m\u001b[0;34m(\u001b[0m\u001b[0ml\u001b[0m\u001b[0;34m)\u001b[0m\u001b[0;34m\u001b[0m\u001b[0;34m\u001b[0m\u001b[0m\n\u001b[0m\u001b[1;32m    936\u001b[0m         \u001b[0mself\u001b[0m\u001b[0;34m.\u001b[0m\u001b[0mautoscale_view\u001b[0m\u001b[0;34m(\u001b[0m\u001b[0mscalex\u001b[0m\u001b[0;34m=\u001b[0m\u001b[0mscalex\u001b[0m\u001b[0;34m,\u001b[0m \u001b[0mscaley\u001b[0m\u001b[0;34m=\u001b[0m\u001b[0;32mFalse\u001b[0m\u001b[0;34m)\u001b[0m\u001b[0;34m\u001b[0m\u001b[0;34m\u001b[0m\u001b[0m\n\u001b[1;32m    937\u001b[0m         \u001b[0;32mreturn\u001b[0m \u001b[0ml\u001b[0m\u001b[0;34m\u001b[0m\u001b[0;34m\u001b[0m\u001b[0m\n",
      "\u001b[0;32m~/opt/anaconda3/lib/python3.7/site-packages/matplotlib/axes/_base.py\u001b[0m in \u001b[0;36madd_line\u001b[0;34m(self, line)\u001b[0m\n\u001b[1;32m   1900\u001b[0m             \u001b[0mline\u001b[0m\u001b[0;34m.\u001b[0m\u001b[0mset_clip_path\u001b[0m\u001b[0;34m(\u001b[0m\u001b[0mself\u001b[0m\u001b[0;34m.\u001b[0m\u001b[0mpatch\u001b[0m\u001b[0;34m)\u001b[0m\u001b[0;34m\u001b[0m\u001b[0;34m\u001b[0m\u001b[0m\n\u001b[1;32m   1901\u001b[0m \u001b[0;34m\u001b[0m\u001b[0m\n\u001b[0;32m-> 1902\u001b[0;31m         \u001b[0mself\u001b[0m\u001b[0;34m.\u001b[0m\u001b[0m_update_line_limits\u001b[0m\u001b[0;34m(\u001b[0m\u001b[0mline\u001b[0m\u001b[0;34m)\u001b[0m\u001b[0;34m\u001b[0m\u001b[0;34m\u001b[0m\u001b[0m\n\u001b[0m\u001b[1;32m   1903\u001b[0m         \u001b[0;32mif\u001b[0m \u001b[0;32mnot\u001b[0m \u001b[0mline\u001b[0m\u001b[0;34m.\u001b[0m\u001b[0mget_label\u001b[0m\u001b[0;34m(\u001b[0m\u001b[0;34m)\u001b[0m\u001b[0;34m:\u001b[0m\u001b[0;34m\u001b[0m\u001b[0;34m\u001b[0m\u001b[0m\n\u001b[1;32m   1904\u001b[0m             \u001b[0mline\u001b[0m\u001b[0;34m.\u001b[0m\u001b[0mset_label\u001b[0m\u001b[0;34m(\u001b[0m\u001b[0;34m'_line%d'\u001b[0m \u001b[0;34m%\u001b[0m \u001b[0mlen\u001b[0m\u001b[0;34m(\u001b[0m\u001b[0mself\u001b[0m\u001b[0;34m.\u001b[0m\u001b[0mlines\u001b[0m\u001b[0;34m)\u001b[0m\u001b[0;34m)\u001b[0m\u001b[0;34m\u001b[0m\u001b[0;34m\u001b[0m\u001b[0m\n",
      "\u001b[0;32m~/opt/anaconda3/lib/python3.7/site-packages/matplotlib/axes/_base.py\u001b[0m in \u001b[0;36m_update_line_limits\u001b[0;34m(self, line)\u001b[0m\n\u001b[1;32m   1922\u001b[0m         \u001b[0mFigures\u001b[0m \u001b[0mout\u001b[0m \u001b[0mthe\u001b[0m \u001b[0mdata\u001b[0m \u001b[0mlimit\u001b[0m \u001b[0mof\u001b[0m \u001b[0mthe\u001b[0m \u001b[0mgiven\u001b[0m \u001b[0mline\u001b[0m\u001b[0;34m,\u001b[0m \u001b[0mupdating\u001b[0m \u001b[0mself\u001b[0m\u001b[0;34m.\u001b[0m\u001b[0mdataLim\u001b[0m\u001b[0;34m.\u001b[0m\u001b[0;34m\u001b[0m\u001b[0;34m\u001b[0m\u001b[0m\n\u001b[1;32m   1923\u001b[0m         \"\"\"\n\u001b[0;32m-> 1924\u001b[0;31m         \u001b[0mpath\u001b[0m \u001b[0;34m=\u001b[0m \u001b[0mline\u001b[0m\u001b[0;34m.\u001b[0m\u001b[0mget_path\u001b[0m\u001b[0;34m(\u001b[0m\u001b[0;34m)\u001b[0m\u001b[0;34m\u001b[0m\u001b[0;34m\u001b[0m\u001b[0m\n\u001b[0m\u001b[1;32m   1925\u001b[0m         \u001b[0;32mif\u001b[0m \u001b[0mpath\u001b[0m\u001b[0;34m.\u001b[0m\u001b[0mvertices\u001b[0m\u001b[0;34m.\u001b[0m\u001b[0msize\u001b[0m \u001b[0;34m==\u001b[0m \u001b[0;36m0\u001b[0m\u001b[0;34m:\u001b[0m\u001b[0;34m\u001b[0m\u001b[0;34m\u001b[0m\u001b[0m\n\u001b[1;32m   1926\u001b[0m             \u001b[0;32mreturn\u001b[0m\u001b[0;34m\u001b[0m\u001b[0;34m\u001b[0m\u001b[0m\n",
      "\u001b[0;32m~/opt/anaconda3/lib/python3.7/site-packages/matplotlib/lines.py\u001b[0m in \u001b[0;36mget_path\u001b[0;34m(self)\u001b[0m\n\u001b[1;32m   1025\u001b[0m         \"\"\"\n\u001b[1;32m   1026\u001b[0m         \u001b[0;32mif\u001b[0m \u001b[0mself\u001b[0m\u001b[0;34m.\u001b[0m\u001b[0m_invalidy\u001b[0m \u001b[0;32mor\u001b[0m \u001b[0mself\u001b[0m\u001b[0;34m.\u001b[0m\u001b[0m_invalidx\u001b[0m\u001b[0;34m:\u001b[0m\u001b[0;34m\u001b[0m\u001b[0;34m\u001b[0m\u001b[0m\n\u001b[0;32m-> 1027\u001b[0;31m             \u001b[0mself\u001b[0m\u001b[0;34m.\u001b[0m\u001b[0mrecache\u001b[0m\u001b[0;34m(\u001b[0m\u001b[0;34m)\u001b[0m\u001b[0;34m\u001b[0m\u001b[0;34m\u001b[0m\u001b[0m\n\u001b[0m\u001b[1;32m   1028\u001b[0m         \u001b[0;32mreturn\u001b[0m \u001b[0mself\u001b[0m\u001b[0;34m.\u001b[0m\u001b[0m_path\u001b[0m\u001b[0;34m\u001b[0m\u001b[0;34m\u001b[0m\u001b[0m\n\u001b[1;32m   1029\u001b[0m \u001b[0;34m\u001b[0m\u001b[0m\n",
      "\u001b[0;32m~/opt/anaconda3/lib/python3.7/site-packages/matplotlib/lines.py\u001b[0m in \u001b[0;36mrecache\u001b[0;34m(self, always)\u001b[0m\n\u001b[1;32m    677\u001b[0m             \u001b[0my\u001b[0m \u001b[0;34m=\u001b[0m \u001b[0mself\u001b[0m\u001b[0;34m.\u001b[0m\u001b[0m_y\u001b[0m\u001b[0;34m\u001b[0m\u001b[0;34m\u001b[0m\u001b[0m\n\u001b[1;32m    678\u001b[0m \u001b[0;34m\u001b[0m\u001b[0m\n\u001b[0;32m--> 679\u001b[0;31m         \u001b[0mself\u001b[0m\u001b[0;34m.\u001b[0m\u001b[0m_xy\u001b[0m \u001b[0;34m=\u001b[0m \u001b[0mnp\u001b[0m\u001b[0;34m.\u001b[0m\u001b[0mcolumn_stack\u001b[0m\u001b[0;34m(\u001b[0m\u001b[0mnp\u001b[0m\u001b[0;34m.\u001b[0m\u001b[0mbroadcast_arrays\u001b[0m\u001b[0;34m(\u001b[0m\u001b[0mx\u001b[0m\u001b[0;34m,\u001b[0m \u001b[0my\u001b[0m\u001b[0;34m)\u001b[0m\u001b[0;34m)\u001b[0m\u001b[0;34m.\u001b[0m\u001b[0mastype\u001b[0m\u001b[0;34m(\u001b[0m\u001b[0mfloat\u001b[0m\u001b[0;34m)\u001b[0m\u001b[0;34m\u001b[0m\u001b[0;34m\u001b[0m\u001b[0m\n\u001b[0m\u001b[1;32m    680\u001b[0m         \u001b[0mself\u001b[0m\u001b[0;34m.\u001b[0m\u001b[0m_x\u001b[0m\u001b[0;34m,\u001b[0m \u001b[0mself\u001b[0m\u001b[0;34m.\u001b[0m\u001b[0m_y\u001b[0m \u001b[0;34m=\u001b[0m \u001b[0mself\u001b[0m\u001b[0;34m.\u001b[0m\u001b[0m_xy\u001b[0m\u001b[0;34m.\u001b[0m\u001b[0mT\u001b[0m  \u001b[0;31m# views\u001b[0m\u001b[0;34m\u001b[0m\u001b[0;34m\u001b[0m\u001b[0m\n\u001b[1;32m    681\u001b[0m \u001b[0;34m\u001b[0m\u001b[0m\n",
      "\u001b[0;32m<__array_function__ internals>\u001b[0m in \u001b[0;36mbroadcast_arrays\u001b[0;34m(*args, **kwargs)\u001b[0m\n",
      "\u001b[0;32m~/opt/anaconda3/lib/python3.7/site-packages/numpy/lib/stride_tricks.py\u001b[0m in \u001b[0;36mbroadcast_arrays\u001b[0;34m(subok, *args)\u001b[0m\n\u001b[1;32m    256\u001b[0m     \u001b[0margs\u001b[0m \u001b[0;34m=\u001b[0m \u001b[0;34m[\u001b[0m\u001b[0mnp\u001b[0m\u001b[0;34m.\u001b[0m\u001b[0marray\u001b[0m\u001b[0;34m(\u001b[0m\u001b[0m_m\u001b[0m\u001b[0;34m,\u001b[0m \u001b[0mcopy\u001b[0m\u001b[0;34m=\u001b[0m\u001b[0;32mFalse\u001b[0m\u001b[0;34m,\u001b[0m \u001b[0msubok\u001b[0m\u001b[0;34m=\u001b[0m\u001b[0msubok\u001b[0m\u001b[0;34m)\u001b[0m \u001b[0;32mfor\u001b[0m \u001b[0m_m\u001b[0m \u001b[0;32min\u001b[0m \u001b[0margs\u001b[0m\u001b[0;34m]\u001b[0m\u001b[0;34m\u001b[0m\u001b[0;34m\u001b[0m\u001b[0m\n\u001b[1;32m    257\u001b[0m \u001b[0;34m\u001b[0m\u001b[0m\n\u001b[0;32m--> 258\u001b[0;31m     \u001b[0mshape\u001b[0m \u001b[0;34m=\u001b[0m \u001b[0m_broadcast_shape\u001b[0m\u001b[0;34m(\u001b[0m\u001b[0;34m*\u001b[0m\u001b[0margs\u001b[0m\u001b[0;34m)\u001b[0m\u001b[0;34m\u001b[0m\u001b[0;34m\u001b[0m\u001b[0m\n\u001b[0m\u001b[1;32m    259\u001b[0m \u001b[0;34m\u001b[0m\u001b[0m\n\u001b[1;32m    260\u001b[0m     \u001b[0;32mif\u001b[0m \u001b[0mall\u001b[0m\u001b[0;34m(\u001b[0m\u001b[0marray\u001b[0m\u001b[0;34m.\u001b[0m\u001b[0mshape\u001b[0m \u001b[0;34m==\u001b[0m \u001b[0mshape\u001b[0m \u001b[0;32mfor\u001b[0m \u001b[0marray\u001b[0m \u001b[0;32min\u001b[0m \u001b[0margs\u001b[0m\u001b[0;34m)\u001b[0m\u001b[0;34m:\u001b[0m\u001b[0;34m\u001b[0m\u001b[0;34m\u001b[0m\u001b[0m\n",
      "\u001b[0;32m~/opt/anaconda3/lib/python3.7/site-packages/numpy/lib/stride_tricks.py\u001b[0m in \u001b[0;36m_broadcast_shape\u001b[0;34m(*args)\u001b[0m\n\u001b[1;32m    187\u001b[0m     \u001b[0;31m# use the old-iterator because np.nditer does not handle size 0 arrays\u001b[0m\u001b[0;34m\u001b[0m\u001b[0;34m\u001b[0m\u001b[0;34m\u001b[0m\u001b[0m\n\u001b[1;32m    188\u001b[0m     \u001b[0;31m# consistently\u001b[0m\u001b[0;34m\u001b[0m\u001b[0;34m\u001b[0m\u001b[0;34m\u001b[0m\u001b[0m\n\u001b[0;32m--> 189\u001b[0;31m     \u001b[0mb\u001b[0m \u001b[0;34m=\u001b[0m \u001b[0mnp\u001b[0m\u001b[0;34m.\u001b[0m\u001b[0mbroadcast\u001b[0m\u001b[0;34m(\u001b[0m\u001b[0;34m*\u001b[0m\u001b[0margs\u001b[0m\u001b[0;34m[\u001b[0m\u001b[0;34m:\u001b[0m\u001b[0;36m32\u001b[0m\u001b[0;34m]\u001b[0m\u001b[0;34m)\u001b[0m\u001b[0;34m\u001b[0m\u001b[0;34m\u001b[0m\u001b[0m\n\u001b[0m\u001b[1;32m    190\u001b[0m     \u001b[0;31m# unfortunately, it cannot handle 32 or more arguments directly\u001b[0m\u001b[0;34m\u001b[0m\u001b[0;34m\u001b[0m\u001b[0;34m\u001b[0m\u001b[0m\n\u001b[1;32m    191\u001b[0m     \u001b[0;32mfor\u001b[0m \u001b[0mpos\u001b[0m \u001b[0;32min\u001b[0m \u001b[0mrange\u001b[0m\u001b[0;34m(\u001b[0m\u001b[0;36m32\u001b[0m\u001b[0;34m,\u001b[0m \u001b[0mlen\u001b[0m\u001b[0;34m(\u001b[0m\u001b[0margs\u001b[0m\u001b[0;34m)\u001b[0m\u001b[0;34m,\u001b[0m \u001b[0;36m31\u001b[0m\u001b[0;34m)\u001b[0m\u001b[0;34m:\u001b[0m\u001b[0;34m\u001b[0m\u001b[0;34m\u001b[0m\u001b[0m\n",
      "\u001b[0;31mValueError\u001b[0m: shape mismatch: objects cannot be broadcast to a single shape"
     ]
    },
    {
     "data": {
      "image/png": "[encoded data removed]",
      "text/plain": [
       "<Figure size 432x288 with 1 Axes>"
      ]
     },
     "metadata": {
      "needs_background": "light"
     },
     "output_type": "display_data"
    }
   ],
   "source": [
    "seaborn.distplot(all_cc,kde=0)\n",
    "plt.axvline(x=true_cc)"
   ]
  },
  {
   "cell_type": "code",
   "execution_count": 35,
   "metadata": {},
   "outputs": [
    {
     "data": {
      "text/plain": [
       "False"
      ]
     },
     "execution_count": 35,
     "metadata": {},
     "output_type": "execute_result"
    }
   ],
   "source": [
    "np.allclose(act_matrix,act_matrix2)"
   ]
  },
  {
   "cell_type": "code",
   "execution_count": 36,
   "metadata": {},
   "outputs": [
    {
     "ename": "NameError",
     "evalue": "name 'predicted_neural_activity' is not defined",
     "output_type": "error",
     "traceback": [
      "\u001b[0;31m---------------------------------------------------------------------------\u001b[0m",
      "\u001b[0;31mNameError\u001b[0m                                 Traceback (most recent call last)",
      "\u001b[0;32m<ipython-input-36-e56b53247c9e>\u001b[0m in \u001b[0;36m<module>\u001b[0;34m\u001b[0m\n\u001b[1;32m      1\u001b[0m \u001b[0mcc\u001b[0m \u001b[0;34m=\u001b[0m \u001b[0;34m[\u001b[0m\u001b[0;34m]\u001b[0m\u001b[0;34m\u001b[0m\u001b[0;34m\u001b[0m\u001b[0m\n\u001b[1;32m      2\u001b[0m \u001b[0;32mfor\u001b[0m \u001b[0mi\u001b[0m \u001b[0;32min\u001b[0m \u001b[0mrange\u001b[0m\u001b[0;34m(\u001b[0m\u001b[0mn_neurons\u001b[0m\u001b[0;34m)\u001b[0m\u001b[0;34m:\u001b[0m\u001b[0;34m\u001b[0m\u001b[0;34m\u001b[0m\u001b[0m\n\u001b[0;32m----> 3\u001b[0;31m     \u001b[0mcc\u001b[0m\u001b[0;34m.\u001b[0m\u001b[0mappend\u001b[0m\u001b[0;34m(\u001b[0m\u001b[0mnp\u001b[0m\u001b[0;34m.\u001b[0m\u001b[0mcorrcoef\u001b[0m\u001b[0;34m(\u001b[0m\u001b[0mact_matrix2\u001b[0m\u001b[0;34m[\u001b[0m\u001b[0;34m:\u001b[0m\u001b[0;34m,\u001b[0m\u001b[0mi\u001b[0m\u001b[0;34m]\u001b[0m\u001b[0;34m[\u001b[0m\u001b[0mnp\u001b[0m\u001b[0;34m.\u001b[0m\u001b[0mrandom\u001b[0m\u001b[0;34m.\u001b[0m\u001b[0mpermutation\u001b[0m\u001b[0;34m(\u001b[0m\u001b[0mnp\u001b[0m\u001b[0;34m.\u001b[0m\u001b[0marange\u001b[0m\u001b[0;34m(\u001b[0m\u001b[0;36m9\u001b[0m\u001b[0;34m)\u001b[0m\u001b[0;34m)\u001b[0m\u001b[0;34m]\u001b[0m\u001b[0;34m,\u001b[0m\u001b[0mnp\u001b[0m\u001b[0;34m.\u001b[0m\u001b[0mroll\u001b[0m\u001b[0;34m(\u001b[0m\u001b[0mpredicted_neural_activity\u001b[0m\u001b[0;34m[\u001b[0m\u001b[0;34m:\u001b[0m\u001b[0;34m,\u001b[0m\u001b[0mi\u001b[0m\u001b[0;34m]\u001b[0m\u001b[0;34m,\u001b[0m\u001b[0;36m1\u001b[0m\u001b[0;34m)\u001b[0m\u001b[0;34m)\u001b[0m\u001b[0;34m[\u001b[0m\u001b[0;36m0\u001b[0m\u001b[0;34m,\u001b[0m\u001b[0;36m1\u001b[0m\u001b[0;34m]\u001b[0m\u001b[0;34m)\u001b[0m\u001b[0;34m\u001b[0m\u001b[0;34m\u001b[0m\u001b[0m\n\u001b[0m\u001b[1;32m      4\u001b[0m \u001b[0;34m\u001b[0m\u001b[0m\n\u001b[1;32m      5\u001b[0m \u001b[0mprint\u001b[0m\u001b[0;34m(\u001b[0m\u001b[0mnp\u001b[0m\u001b[0;34m.\u001b[0m\u001b[0mnanmean\u001b[0m\u001b[0;34m(\u001b[0m\u001b[0mcc\u001b[0m\u001b[0;34m)\u001b[0m\u001b[0;34m)\u001b[0m\u001b[0;34m\u001b[0m\u001b[0;34m\u001b[0m\u001b[0m\n",
      "\u001b[0;31mNameError\u001b[0m: name 'predicted_neural_activity' is not defined"
     ]
    }
   ],
   "source": [
    "cc = []\n",
    "for i in range(n_neurons):\n",
    "    cc.append(np.corrcoef(act_matrix2[:,i][np.random.permutation(np.arange(9))],np.roll(predicted_neural_activity[:,i],1))[0,1])\n",
    "    \n",
    "print(np.nanmean(cc))"
   ]
  },
  {
   "cell_type": "markdown",
   "metadata": {},
   "source": [
    "# Now implement this as a batch thing"
   ]
  },
  {
   "cell_type": "code",
   "execution_count": 414,
   "metadata": {},
   "outputs": [],
   "source": [
    "def fit_data(neural_activity1,neural_activity2,pca_activity1,pca_activity2,pca):\n",
    "    pca_dim = pca_activity.shape[1]\n",
    "    fit_params = []\n",
    "    fit_quality = []\n",
    "    for _ in range(5):\n",
    "        n_params = int(pca_dim*(pca_dim-1)/2)\n",
    "        basis_tensor_inf = get_basis_tensor(pca_dim)\n",
    "\n",
    "        params = np.random.normal(size=(n_params))# + np.eye(dim)\n",
    "        res = op.minimize(predict_all,\n",
    "                   params,\n",
    "                   (pca_activity1,pca_dim,basis_tensor_inf),\n",
    "                   jac=grad_wrapper,\n",
    "                   method='BFGS'\n",
    "                   )\n",
    "        out = res.x\n",
    "        #out = np.random.normal(size=(n_params))# + np.eye(dim)\n",
    "\n",
    "        skewM = np.einsum('i...,i...',out,basis_tensor_inf)\n",
    "        Ainf = caley_transform(skewM,pca_dim)\n",
    "        #print(res.message)\n",
    "\n",
    "        predicted_neural_activity = pca.inverse_transform((Ainf@pca_activity1.T).T)\n",
    "        fit_params.append(out.copy())\n",
    "        fit_quality.append(evaluate_cc(neural_activity1,predicted_neural_activity)[0])\n",
    "    params = fit_params[np.argmax(fit_quality)]\n",
    "    skewM = np.einsum('i...,i...',params,basis_tensor_inf)\n",
    "    Ainf = caley_transform(skewM,pca_dim)\n",
    "\n",
    "    print(fit_quality)\n",
    "    \n",
    "    predicted_neural_activity2 = pca.inverse_transform((Ainf@pca_activity2.T).T)\n",
    "    res = evaluate_cc(neural_activity2,predicted_neural_activity2)[0]\n",
    "    \n",
    "    predicted_neural_activity2 = pca.inverse_transform((Ainf@pca_activity2[::-1].T).T)\n",
    "    res2 = evaluate_cc(neural_activity2[::-1],predicted_neural_activity2)[0]\n",
    "    res = np.max([res,res2])\n",
    "    shuffle_res = []\n",
    "    print(res)\n",
    "    \n",
    "    r9 = np.arange(9)\n",
    "\n",
    "    for _ in range(2000):\n",
    "        \n",
    "        perm_order = np.random.permutation(r9)\n",
    "        predicted_neural_activity2_shuff = pca.inverse_transform((Ainf@pca_activity2[perm_order].T).T)\n",
    "\n",
    "        shf_res = evaluate_cc(neural_activity2[perm_order],predicted_neural_activity2_shuff)[0]\n",
    "        shf_res2 = evaluate_cc(neural_activity2[perm_order][::-1],predicted_neural_activity2_shuff[::-1])[0]\n",
    "        shuffle_res.append(np.max([shf_res,shf_res2]))\n",
    "    return res, shuffle_res, Ainf\n",
    "    "
   ]
  },
  {
   "cell_type": "code",
   "execution_count": 159,
   "metadata": {},
   "outputs": [
    {
     "data": {
      "text/plain": [
       "array([0.29983578, 0.47391965, 0.55792453, 0.62100981, 0.67267929,\n",
       "       0.72121204, 0.768152  , 0.80505473])"
      ]
     },
     "execution_count": 159,
     "metadata": {},
     "output_type": "execute_result"
    }
   ],
   "source": [
    "np.cumsum(pca.explained_variance_ratio_)"
   ]
  },
  {
   "cell_type": "code",
   "execution_count": 158,
   "metadata": {},
   "outputs": [
    {
     "data": {
      "text/plain": [
       "[<matplotlib.lines.Line2D at 0x7fdcdaf33c10>]"
      ]
     },
     "execution_count": 158,
     "metadata": {},
     "output_type": "execute_result"
    },
    {
     "data": {
      "image/png": "[encoded data removed]",
      "text/plain": [
       "<Figure size 432x288 with 1 Axes>"
      ]
     },
     "metadata": {},
     "output_type": "display_data"
    }
   ],
   "source": [
    "plt.plot(np.cumsum(pca.explained_variance_ratio_))"
   ]
  },
  {
   "cell_type": "code",
   "execution_count": 415,
   "metadata": {},
   "outputs": [],
   "source": [
    "def evaluate_cc(activity,pred):\n",
    "    n_neurons = activity.shape[1]\n",
    "    true_cc = []\n",
    "    #print(activity[:,0])\n",
    "\n",
    "    for i in range(n_neurons):\n",
    "        true_cc.append(np.corrcoef(activity[:,i][1:],pred[:,i][:-1])[0,1])\n",
    "\n",
    "    #true_cc_val = np.nanmean(true_cc)\n",
    "    return np.nanmean(true_cc),true_cc"
   ]
  },
  {
   "cell_type": "code",
   "execution_count": 160,
   "metadata": {},
   "outputs": [
    {
     "name": "stdout",
     "output_type": "stream",
     "text": [
      "loop loop\n"
     ]
    },
    {
     "name": "stderr",
     "output_type": "stream",
     "text": [
      "/Users/yves/opt/anaconda3/lib/python3.7/site-packages/numpy/lib/function_base.py:2559: RuntimeWarning: invalid value encountered in true_divide\n",
      "  c /= stddev[:, None]\n",
      "/Users/yves/opt/anaconda3/lib/python3.7/site-packages/numpy/lib/function_base.py:2560: RuntimeWarning: invalid value encountered in true_divide\n",
      "  c /= stddev[None, :]\n"
     ]
    },
    {
     "ename": "NameError",
     "evalue": "name 'fit_data' is not defined",
     "output_type": "error",
     "traceback": [
      "\u001b[0;31m---------------------------------------------------------------------------\u001b[0m",
      "\u001b[0;31mNameError\u001b[0m                                 Traceback (most recent call last)",
      "\u001b[0;32m<ipython-input-160-082bac86fb45>\u001b[0m in \u001b[0;36m<module>\u001b[0;34m\u001b[0m\n\u001b[1;32m     23\u001b[0m     \u001b[0mpca_activity\u001b[0m \u001b[0;34m=\u001b[0m \u001b[0mpca\u001b[0m\u001b[0;34m.\u001b[0m\u001b[0mtransform\u001b[0m\u001b[0;34m(\u001b[0m\u001b[0mmds_frm\u001b[0m\u001b[0;34m[\u001b[0m\u001b[0;36m0\u001b[0m\u001b[0;34m]\u001b[0m\u001b[0;34m)\u001b[0m\u001b[0;34m\u001b[0m\u001b[0;34m\u001b[0m\u001b[0m\n\u001b[1;32m     24\u001b[0m     \u001b[0mpca_activity2\u001b[0m \u001b[0;34m=\u001b[0m \u001b[0mpca\u001b[0m\u001b[0;34m.\u001b[0m\u001b[0mtransform\u001b[0m\u001b[0;34m(\u001b[0m\u001b[0mmds_frm\u001b[0m\u001b[0;34m[\u001b[0m\u001b[0;36m1\u001b[0m\u001b[0;34m]\u001b[0m\u001b[0;34m)\u001b[0m\u001b[0;34m\u001b[0m\u001b[0;34m\u001b[0m\u001b[0m\n\u001b[0;32m---> 25\u001b[0;31m     \u001b[0mfit_res\u001b[0m \u001b[0;34m=\u001b[0m \u001b[0mfit_data\u001b[0m\u001b[0;34m(\u001b[0m\u001b[0mact_matrix\u001b[0m\u001b[0;34m,\u001b[0m\u001b[0mact_matrix2\u001b[0m\u001b[0;34m,\u001b[0m\u001b[0mpca_activity\u001b[0m\u001b[0;34m,\u001b[0m\u001b[0mpca_activity2\u001b[0m\u001b[0;34m,\u001b[0m\u001b[0mpca\u001b[0m\u001b[0;34m)\u001b[0m\u001b[0;34m\u001b[0m\u001b[0;34m\u001b[0m\u001b[0m\n\u001b[0m\u001b[1;32m     26\u001b[0m     \u001b[0mall_res\u001b[0m\u001b[0;34m.\u001b[0m\u001b[0mappend\u001b[0m\u001b[0;34m(\u001b[0m\u001b[0mfit_res\u001b[0m\u001b[0;34m)\u001b[0m\u001b[0;34m\u001b[0m\u001b[0;34m\u001b[0m\u001b[0m\n",
      "\u001b[0;31mNameError\u001b[0m: name 'fit_data' is not defined"
     ]
    }
   ],
   "source": [
    "all_res = []\n",
    "all_shuffle_res = []\n",
    "for session_ix in range(1):\n",
    "\n",
    "    firing_rate_maps, frm_stability, task_event_df,seq0,seq1,graph_type0,graph_type1, = load_data(session_ix)\n",
    "    firing_rate_maps = firing_rate_maps[np.array(frm_stability)>.3]\n",
    "    print(graph_type0,graph_type1)\n",
    "    \n",
    "    mds_frm = firing_rate_maps.swapaxes(0,2)\n",
    "    #mds_frm = mds_frm - np.mean(mds_frm,axis=0)[None,...]\n",
    "\n",
    "    mds_frm = zscore_population_activity(np.vstack(mds_frm))\n",
    "    act_matrix = mds_frm[:9][seq0] - np.mean(mds_frm[:9][seq0],axis=0)\n",
    "    act_matrix2 = mds_frm[9:][seq1]- np.mean(mds_frm[9:][seq1],axis=0)\n",
    "\n",
    "    \n",
    "    mds_frm = np.dstack([act_matrix,act_matrix2]).swapaxes(0,2).swapaxes(1,2)\n",
    "    #print(graph_type0,graph_type1)\n",
    "    pca_dim = 4\n",
    "    pca = PCA(n_components=pca_dim)\n",
    "    \n",
    "    pca.fit(np.vstack(mds_frm))\n",
    "    pca_activity = pca.transform(mds_frm[0])\n",
    "    pca_activity2 = pca.transform(mds_frm[1])\n",
    "    fit_res = fit_data(act_matrix,act_matrix2,pca_activity,pca_activity2,pca)\n",
    "    all_res.append(fit_res)"
   ]
  },
  {
   "cell_type": "code",
   "execution_count": 417,
   "metadata": {},
   "outputs": [
    {
     "data": {
      "text/plain": [
       "array([8, 4, 2, 5, 7, 0, 6, 1, 3])"
      ]
     },
     "execution_count": 417,
     "metadata": {},
     "output_type": "execute_result"
    }
   ],
   "source": [
    "seq0"
   ]
  },
  {
   "cell_type": "code",
   "execution_count": 418,
   "metadata": {},
   "outputs": [
    {
     "data": {
      "text/plain": [
       "array([1, 3, 6, 0, 2, 8, 4, 7, 5])"
      ]
     },
     "execution_count": 418,
     "metadata": {},
     "output_type": "execute_result"
    }
   ],
   "source": [
    "seq1"
   ]
  },
  {
   "cell_type": "code",
   "execution_count": 419,
   "metadata": {},
   "outputs": [],
   "source": [
    "def get_unique_transitions(seq0,seq1):\n",
    "\n",
    "    test_seq1 = []\n",
    "    for ix,i in enumerate(seq1):\n",
    "        print(seq0[(np.where(seq0==i)[0]-1)%9],seq0[(np.where(seq0==i)[0])%9],seq1[(ix-1)%9],seq1[(ix)%9])\n",
    "        if seq0[(np.where(seq0==i)[0]-1)%9]!=seq1[(ix-1)%9]:\n",
    "            test_seq1.append(1)\n",
    "        else:\n",
    "            print(seq1[ix])\n",
    "            test_seq1.append(0)\n",
    "\n",
    "    test_seq1 = np.array(test_seq1)\n",
    "    return test_seq1"
   ]
  },
  {
   "cell_type": "code",
   "execution_count": null,
   "metadata": {},
   "outputs": [],
   "source": []
  },
  {
   "cell_type": "code",
   "execution_count": 420,
   "metadata": {},
   "outputs": [
    {
     "name": "stdout",
     "output_type": "stream",
     "text": [
      "[6] [1] 5 1\n",
      "[1] [3] 1 3\n",
      "3\n",
      "[0] [6] 3 6\n",
      "[7] [0] 6 0\n",
      "[4] [2] 0 2\n",
      "[3] [8] 2 8\n",
      "[8] [4] 8 4\n",
      "4\n",
      "[5] [7] 4 7\n",
      "[2] [5] 7 5\n",
      "[2] [5] 1 5\n",
      "[5] [7] 5 7\n",
      "7\n",
      "[8] [4] 7 4\n",
      "[3] [8] 4 8\n",
      "[4] [2] 8 2\n",
      "[7] [0] 2 0\n",
      "[0] [6] 0 6\n",
      "6\n",
      "[1] [3] 6 3\n",
      "[6] [1] 3 1\n"
     ]
    }
   ],
   "source": [
    "test_seq1_f = get_unique_transitions(seq0,seq1)\n",
    "test_seq1_r = get_unique_transitions(seq0,seq1[::-1])"
   ]
  },
  {
   "cell_type": "code",
   "execution_count": 421,
   "metadata": {},
   "outputs": [
    {
     "data": {
      "text/plain": [
       "array([3, 1, 3, 3, 3, 3, 1, 3, 3])"
      ]
     },
     "execution_count": 421,
     "metadata": {},
     "output_type": "execute_result"
    }
   ],
   "source": [
    "seq1[test_seq1]"
   ]
  },
  {
   "cell_type": "code",
   "execution_count": 422,
   "metadata": {},
   "outputs": [
    {
     "data": {
      "text/plain": [
       "array([1, 3, 6, 0, 2, 8, 4, 7, 5])"
      ]
     },
     "execution_count": 422,
     "metadata": {},
     "output_type": "execute_result"
    }
   ],
   "source": [
    "seq1"
   ]
  },
  {
   "cell_type": "code",
   "execution_count": 423,
   "metadata": {},
   "outputs": [
    {
     "data": {
      "text/plain": [
       "array([200, 400, 700, 100, 300, 900, 500, 800, 600])"
      ]
     },
     "execution_count": 423,
     "metadata": {},
     "output_type": "execute_result"
    }
   ],
   "source": [
    "(np.arange(1,10)*100)[seq1]"
   ]
  },
  {
   "cell_type": "code",
   "execution_count": 424,
   "metadata": {},
   "outputs": [
    {
     "data": {
      "text/plain": [
       "array([400, 200, 400, 400, 400, 400, 200, 400, 400])"
      ]
     },
     "execution_count": 424,
     "metadata": {},
     "output_type": "execute_result"
    }
   ],
   "source": [
    "(np.arange(1,10)*100)[seq1][test_seq1]"
   ]
  },
  {
   "cell_type": "code",
   "execution_count": 425,
   "metadata": {},
   "outputs": [
    {
     "data": {
      "text/plain": [
       "array([1, 0, 1, 1, 1, 1, 0, 1, 1])"
      ]
     },
     "execution_count": 425,
     "metadata": {},
     "output_type": "execute_result"
    }
   ],
   "source": [
    "test_seq1"
   ]
  },
  {
   "cell_type": "code",
   "execution_count": null,
   "metadata": {},
   "outputs": [],
   "source": []
  },
  {
   "cell_type": "code",
   "execution_count": 426,
   "metadata": {},
   "outputs": [
    {
     "data": {
      "text/plain": [
       "array([3, 1, 3, 3, 3, 3, 1, 3, 3])"
      ]
     },
     "execution_count": 426,
     "metadata": {},
     "output_type": "execute_result"
    }
   ],
   "source": [
    "seq1[test_seq1]"
   ]
  },
  {
   "cell_type": "code",
   "execution_count": 427,
   "metadata": {},
   "outputs": [
    {
     "data": {
      "text/plain": [
       "9"
      ]
     },
     "execution_count": 427,
     "metadata": {},
     "output_type": "execute_result"
    }
   ],
   "source": [
    "len(seq1)"
   ]
  },
  {
   "cell_type": "code",
   "execution_count": 428,
   "metadata": {},
   "outputs": [
    {
     "data": {
      "text/plain": [
       "array([1, 3, 6, 0, 2, 8, 4, 7, 5])"
      ]
     },
     "execution_count": 428,
     "metadata": {},
     "output_type": "execute_result"
    }
   ],
   "source": [
    "seq1"
   ]
  },
  {
   "cell_type": "code",
   "execution_count": 429,
   "metadata": {},
   "outputs": [
    {
     "data": {
      "text/plain": [
       "0"
      ]
     },
     "execution_count": 429,
     "metadata": {},
     "output_type": "execute_result"
    }
   ],
   "source": [
    "9%9"
   ]
  },
  {
   "cell_type": "code",
   "execution_count": 430,
   "metadata": {},
   "outputs": [
    {
     "name": "stdout",
     "output_type": "stream",
     "text": [
      "loop loop\n"
     ]
    }
   ],
   "source": [
    "print(graph_type0,graph_type1)"
   ]
  },
  {
   "cell_type": "code",
   "execution_count": 431,
   "metadata": {},
   "outputs": [
    {
     "data": {
      "text/plain": [
       "135"
      ]
     },
     "execution_count": 431,
     "metadata": {},
     "output_type": "execute_result"
    }
   ],
   "source": [
    "len(np.array(frm_stability)>.3)"
   ]
  },
  {
   "cell_type": "code",
   "execution_count": 432,
   "metadata": {},
   "outputs": [
    {
     "data": {
      "text/plain": [
       "0.5703703703703704"
      ]
     },
     "execution_count": 432,
     "metadata": {},
     "output_type": "execute_result"
    }
   ],
   "source": [
    "np.mean(np.array(frm_stability)>.3)"
   ]
  },
  {
   "cell_type": "code",
   "execution_count": 433,
   "metadata": {},
   "outputs": [
    {
     "data": {
      "text/plain": [
       "77"
      ]
     },
     "execution_count": 433,
     "metadata": {},
     "output_type": "execute_result"
    }
   ],
   "source": [
    "np.sum(np.array(frm_stability)>.3)"
   ]
  },
  {
   "cell_type": "code",
   "execution_count": null,
   "metadata": {},
   "outputs": [],
   "source": []
  },
  {
   "cell_type": "code",
   "execution_count": 434,
   "metadata": {},
   "outputs": [
    {
     "data": {
      "text/plain": [
       "(9, 8)"
      ]
     },
     "execution_count": 434,
     "metadata": {},
     "output_type": "execute_result"
    }
   ],
   "source": [
    "pca_activity2.shape"
   ]
  },
  {
   "cell_type": "code",
   "execution_count": 435,
   "metadata": {},
   "outputs": [
    {
     "name": "stderr",
     "output_type": "stream",
     "text": [
      "/Users/yves/opt/anaconda3/lib/python3.7/site-packages/numpy/core/fromnumeric.py:87: VisibleDeprecationWarning: Creating an ndarray from ragged nested sequences (which is a list-or-tuple of lists-or-tuples-or ndarrays with different lengths or shapes) is deprecated. If you meant to do this, you must specify 'dtype=object' when creating the ndarray\n",
      "  return ufunc.reduce(obj, axis, dtype, out, **passkwargs)\n"
     ]
    },
    {
     "ename": "ValueError",
     "evalue": "The truth value of an array with more than one element is ambiguous. Use a.any() or a.all()",
     "output_type": "error",
     "traceback": [
      "\u001b[0;31m---------------------------------------------------------------------------\u001b[0m",
      "\u001b[0;31mValueError\u001b[0m                                Traceback (most recent call last)",
      "\u001b[0;32m<ipython-input-435-11a3f2dd7c0b>\u001b[0m in \u001b[0;36m<module>\u001b[0;34m\u001b[0m\n\u001b[1;32m      6\u001b[0m \u001b[0mres\u001b[0m \u001b[0;34m=\u001b[0m \u001b[0mevaluate_cc\u001b[0m\u001b[0;34m(\u001b[0m\u001b[0mact_matrix2\u001b[0m\u001b[0;34m,\u001b[0m\u001b[0mpredicted_neural_activity2\u001b[0m\u001b[0;34m)\u001b[0m\u001b[0;34m\u001b[0m\u001b[0;34m\u001b[0m\u001b[0m\n\u001b[1;32m      7\u001b[0m \u001b[0mres2\u001b[0m \u001b[0;34m=\u001b[0m \u001b[0mevaluate_cc\u001b[0m\u001b[0;34m(\u001b[0m\u001b[0mact_matrix2\u001b[0m\u001b[0;34m[\u001b[0m\u001b[0;34m:\u001b[0m\u001b[0;34m:\u001b[0m\u001b[0;34m-\u001b[0m\u001b[0;36m1\u001b[0m\u001b[0;34m]\u001b[0m\u001b[0;34m,\u001b[0m\u001b[0mpredicted_neural_activity2\u001b[0m\u001b[0;34m[\u001b[0m\u001b[0;34m:\u001b[0m\u001b[0;34m:\u001b[0m\u001b[0;34m-\u001b[0m\u001b[0;36m1\u001b[0m\u001b[0;34m]\u001b[0m\u001b[0;34m)\u001b[0m\u001b[0;34m\u001b[0m\u001b[0;34m\u001b[0m\u001b[0m\n\u001b[0;32m----> 8\u001b[0;31m \u001b[0mres\u001b[0m \u001b[0;34m=\u001b[0m \u001b[0mnp\u001b[0m\u001b[0;34m.\u001b[0m\u001b[0mmax\u001b[0m\u001b[0;34m(\u001b[0m\u001b[0;34m[\u001b[0m\u001b[0mres\u001b[0m\u001b[0;34m,\u001b[0m\u001b[0mres2\u001b[0m\u001b[0;34m]\u001b[0m\u001b[0;34m)\u001b[0m\u001b[0;34m\u001b[0m\u001b[0;34m\u001b[0m\u001b[0m\n\u001b[0m\u001b[1;32m      9\u001b[0m \u001b[0mshuffle_res\u001b[0m \u001b[0;34m=\u001b[0m \u001b[0;34m[\u001b[0m\u001b[0;34m]\u001b[0m\u001b[0;34m\u001b[0m\u001b[0;34m\u001b[0m\u001b[0m\n\u001b[1;32m     10\u001b[0m \u001b[0mprint\u001b[0m\u001b[0;34m(\u001b[0m\u001b[0mres\u001b[0m\u001b[0;34m)\u001b[0m\u001b[0;34m\u001b[0m\u001b[0;34m\u001b[0m\u001b[0m\n",
      "\u001b[0;32m<__array_function__ internals>\u001b[0m in \u001b[0;36mamax\u001b[0;34m(*args, **kwargs)\u001b[0m\n",
      "\u001b[0;32m~/opt/anaconda3/lib/python3.7/site-packages/numpy/core/fromnumeric.py\u001b[0m in \u001b[0;36mamax\u001b[0;34m(a, axis, out, keepdims, initial, where)\u001b[0m\n\u001b[1;32m   2704\u001b[0m     \"\"\"\n\u001b[1;32m   2705\u001b[0m     return _wrapreduction(a, np.maximum, 'max', axis, None, out,\n\u001b[0;32m-> 2706\u001b[0;31m                           keepdims=keepdims, initial=initial, where=where)\n\u001b[0m\u001b[1;32m   2707\u001b[0m \u001b[0;34m\u001b[0m\u001b[0m\n\u001b[1;32m   2708\u001b[0m \u001b[0;34m\u001b[0m\u001b[0m\n",
      "\u001b[0;32m~/opt/anaconda3/lib/python3.7/site-packages/numpy/core/fromnumeric.py\u001b[0m in \u001b[0;36m_wrapreduction\u001b[0;34m(obj, ufunc, method, axis, dtype, out, **kwargs)\u001b[0m\n\u001b[1;32m     85\u001b[0m                 \u001b[0;32mreturn\u001b[0m \u001b[0mreduction\u001b[0m\u001b[0;34m(\u001b[0m\u001b[0maxis\u001b[0m\u001b[0;34m=\u001b[0m\u001b[0maxis\u001b[0m\u001b[0;34m,\u001b[0m \u001b[0mout\u001b[0m\u001b[0;34m=\u001b[0m\u001b[0mout\u001b[0m\u001b[0;34m,\u001b[0m \u001b[0;34m**\u001b[0m\u001b[0mpasskwargs\u001b[0m\u001b[0;34m)\u001b[0m\u001b[0;34m\u001b[0m\u001b[0;34m\u001b[0m\u001b[0m\n\u001b[1;32m     86\u001b[0m \u001b[0;34m\u001b[0m\u001b[0m\n\u001b[0;32m---> 87\u001b[0;31m     \u001b[0;32mreturn\u001b[0m \u001b[0mufunc\u001b[0m\u001b[0;34m.\u001b[0m\u001b[0mreduce\u001b[0m\u001b[0;34m(\u001b[0m\u001b[0mobj\u001b[0m\u001b[0;34m,\u001b[0m \u001b[0maxis\u001b[0m\u001b[0;34m,\u001b[0m \u001b[0mdtype\u001b[0m\u001b[0;34m,\u001b[0m \u001b[0mout\u001b[0m\u001b[0;34m,\u001b[0m \u001b[0;34m**\u001b[0m\u001b[0mpasskwargs\u001b[0m\u001b[0;34m)\u001b[0m\u001b[0;34m\u001b[0m\u001b[0;34m\u001b[0m\u001b[0m\n\u001b[0m\u001b[1;32m     88\u001b[0m \u001b[0;34m\u001b[0m\u001b[0m\n\u001b[1;32m     89\u001b[0m \u001b[0;34m\u001b[0m\u001b[0m\n",
      "\u001b[0;31mValueError\u001b[0m: The truth value of an array with more than one element is ambiguous. Use a.any() or a.all()"
     ]
    }
   ],
   "source": [
    "#Ainf = caley_transform(skewM,pca_dim)\n",
    "Ainf = fit_res[-1]\n",
    "\n",
    "predicted_neural_activity = pca.inverse_transform((Ainf@pca_activity.T).T)\n",
    "predicted_neural_activity2 = pca.inverse_transform((Ainf@pca_activity2.T).T)\n",
    "res = evaluate_cc(act_matrix2,predicted_neural_activity2)\n",
    "res2 = evaluate_cc(act_matrix2[::-1],predicted_neural_activity2[::-1])\n",
    "res = np.max([res,res2])\n",
    "shuffle_res = []\n",
    "print(res)\n"
   ]
  },
  {
   "cell_type": "code",
   "execution_count": 446,
   "metadata": {},
   "outputs": [
    {
     "name": "stdout",
     "output_type": "stream",
     "text": [
      "0.25\n"
     ]
    }
   ],
   "source": [
    "#Ainf = caley_transform(skewM,pca_dim)\n",
    "Ainf = fit_res[-1]\n",
    "\n",
    "predicted_pc = (Ainf@pca_activity.T).T\n",
    "predicted_neural_activity = pca.inverse_transform(predicted_pc)\n",
    "res1,cc = evaluate_cc(act_matrix,predicted_neural_activity)\n",
    "cc = np.array(cc)\n",
    "\n",
    "\n",
    "predicted_pc2 = (Ainf@pca_activity2.T).T\n",
    "#print(evaluate_cc(pca_activity2,predicted_pc2))\n",
    "predicted_neural_activity2 = pca.inverse_transform(predicted_pc2)\n",
    "res2,cc2 = evaluate_cc(act_matrix2,predicted_neural_activity2)\n",
    "res2,cc2 = evaluate_cc(pca_activity2[test_seq1_f],predicted_pc2[test_seq1_f])\n",
    "\n",
    "\n",
    "predicted_pc2r = (Ainf@pca_activity2[::-1].T).T\n",
    "#print(evaluate_cc(pca_activity2,predicted_pc2r))\n",
    "predicted_neural_activity2r = pca.inverse_transform(predicted_pc2r)\n",
    "res2r,cc2r = evaluate_cc(act_matrix2[::-1],predicted_neural_activity2r)\n",
    "res2r,cc2r = evaluate_cc(act_matrix2[::-1][test_seq1_r],predicted_neural_activity2r[test_seq1_r])\n",
    "#res2r,cc2r = evaluate_cc(act_matrix2[::-1],predicted_neural_activity2r)\n",
    "\n",
    "#res2 res2,res2r)\n",
    "\n",
    "if res2r>res2:\n",
    "    #pca_activity2 = pca_activity2[::-1]\n",
    "    predicted_pc2 = predicted_pc2r\n",
    "    predicted_neural_activity2 = predicted_neural_activity2r\n",
    "    cc2 = cc2r\n",
    "    \n",
    "cc2 = np.array(cc2)\n",
    "res = np.max([res2,res2r])\n",
    "print(res)\n"
   ]
  },
  {
   "cell_type": "code",
   "execution_count": 447,
   "metadata": {},
   "outputs": [
    {
     "name": "stdout",
     "output_type": "stream",
     "text": [
      "(0.12188208231889136, [0.021859096647957644, 0.47196253216715933, 0.021859096647957644, 0.021859096647957644, 0.021859096647957644, 0.021859096647957644, 0.47196253216715933, 0.021859096647957644, 0.021859096647957644])\n"
     ]
    }
   ],
   "source": [
    "print(evaluate_cc(pca_activity2[:,test_seq1],predicted_pc2[:,test_seq1]))"
   ]
  },
  {
   "cell_type": "code",
   "execution_count": 448,
   "metadata": {},
   "outputs": [
    {
     "name": "stderr",
     "output_type": "stream",
     "text": [
      "/Users/yves/opt/anaconda3/lib/python3.7/site-packages/ipykernel_launcher.py:1: VisibleDeprecationWarning: Creating an ndarray from ragged nested sequences (which is a list-or-tuple of lists-or-tuples-or ndarrays with different lengths or shapes) is deprecated. If you meant to do this, you must specify 'dtype=object' when creating the ndarray\n",
      "  \"\"\"Entry point for launching an IPython kernel.\n"
     ]
    },
    {
     "ename": "ValueError",
     "evalue": "The truth value of an array with more than one element is ambiguous. Use a.any() or a.all()",
     "output_type": "error",
     "traceback": [
      "\u001b[0;31m---------------------------------------------------------------------------\u001b[0m",
      "\u001b[0;31mValueError\u001b[0m                                Traceback (most recent call last)",
      "\u001b[0;32m<ipython-input-448-f840bdffbede>\u001b[0m in \u001b[0;36m<module>\u001b[0;34m\u001b[0m\n\u001b[0;32m----> 1\u001b[0;31m \u001b[0mnp\u001b[0m\u001b[0;34m.\u001b[0m\u001b[0mwhere\u001b[0m\u001b[0;34m(\u001b[0m\u001b[0mnp\u001b[0m\u001b[0;34m.\u001b[0m\u001b[0mlogical_and\u001b[0m\u001b[0;34m.\u001b[0m\u001b[0mreduce\u001b[0m\u001b[0;34m(\u001b[0m\u001b[0;34m[\u001b[0m\u001b[0mcc\u001b[0m\u001b[0;34m>\u001b[0m\u001b[0;36m.5\u001b[0m\u001b[0;34m,\u001b[0m\u001b[0mcc2\u001b[0m\u001b[0;34m>\u001b[0m\u001b[0;36m0.5\u001b[0m\u001b[0;34m,\u001b[0m\u001b[0;34m~\u001b[0m\u001b[0mnp\u001b[0m\u001b[0;34m.\u001b[0m\u001b[0misnan\u001b[0m\u001b[0;34m(\u001b[0m\u001b[0mcc\u001b[0m\u001b[0;34m)\u001b[0m\u001b[0;34m,\u001b[0m\u001b[0;34m~\u001b[0m\u001b[0mnp\u001b[0m\u001b[0;34m.\u001b[0m\u001b[0misnan\u001b[0m\u001b[0;34m(\u001b[0m\u001b[0mcc2\u001b[0m\u001b[0;34m)\u001b[0m\u001b[0;34m]\u001b[0m\u001b[0;34m)\u001b[0m\u001b[0;34m)\u001b[0m\u001b[0;34m[\u001b[0m\u001b[0;36m0\u001b[0m\u001b[0;34m]\u001b[0m\u001b[0;34m\u001b[0m\u001b[0;34m\u001b[0m\u001b[0m\n\u001b[0m",
      "\u001b[0;31mValueError\u001b[0m: The truth value of an array with more than one element is ambiguous. Use a.any() or a.all()"
     ]
    }
   ],
   "source": [
    "np.where(np.logical_and.reduce([cc>.5,cc2>0.5,~np.isnan(cc),~np.isnan(cc2)]))[0]"
   ]
  },
  {
   "cell_type": "code",
   "execution_count": 449,
   "metadata": {},
   "outputs": [
    {
     "data": {
      "image/png": "[encoded data removed]",
      "text/plain": [
       "<Figure size 432x288 with 1 Axes>"
      ]
     },
     "metadata": {
      "needs_background": "light"
     },
     "output_type": "display_data"
    }
   ],
   "source": [
    "seaborn.distplot(np.array(cc)[~np.isnan(cc)],kde=0,bins=20)\n",
    "seaborn.despine()\n",
    "\n",
    "seaborn.distplot(np.array(cc2)[~np.isnan(cc2)],kde=0,bins=20)\n",
    "seaborn.despine()"
   ]
  },
  {
   "cell_type": "code",
   "execution_count": 450,
   "metadata": {},
   "outputs": [
    {
     "data": {
      "text/plain": [
       "0.6111716282759052"
      ]
     },
     "execution_count": 450,
     "metadata": {},
     "output_type": "execute_result"
    }
   ],
   "source": [
    "np.nanmean(cc)"
   ]
  },
  {
   "cell_type": "code",
   "execution_count": 451,
   "metadata": {},
   "outputs": [
    {
     "name": "stderr",
     "output_type": "stream",
     "text": [
      "/Users/yves/opt/anaconda3/lib/python3.7/site-packages/ipykernel_launcher.py:1: VisibleDeprecationWarning: Creating an ndarray from ragged nested sequences (which is a list-or-tuple of lists-or-tuples-or ndarrays with different lengths or shapes) is deprecated. If you meant to do this, you must specify 'dtype=object' when creating the ndarray\n",
      "  \"\"\"Entry point for launching an IPython kernel.\n"
     ]
    },
    {
     "ename": "ValueError",
     "evalue": "The truth value of an array with more than one element is ambiguous. Use a.any() or a.all()",
     "output_type": "error",
     "traceback": [
      "\u001b[0;31m---------------------------------------------------------------------------\u001b[0m",
      "\u001b[0;31mValueError\u001b[0m                                Traceback (most recent call last)",
      "\u001b[0;32m<ipython-input-451-841076679640>\u001b[0m in \u001b[0;36m<module>\u001b[0;34m\u001b[0m\n\u001b[0;32m----> 1\u001b[0;31m \u001b[0mgIxs\u001b[0m \u001b[0;34m=\u001b[0m \u001b[0mnp\u001b[0m\u001b[0;34m.\u001b[0m\u001b[0mwhere\u001b[0m\u001b[0;34m(\u001b[0m\u001b[0mnp\u001b[0m\u001b[0;34m.\u001b[0m\u001b[0mlogical_and\u001b[0m\u001b[0;34m.\u001b[0m\u001b[0mreduce\u001b[0m\u001b[0;34m(\u001b[0m\u001b[0;34m[\u001b[0m\u001b[0mcc\u001b[0m\u001b[0;34m>\u001b[0m\u001b[0;36m.5\u001b[0m\u001b[0;34m,\u001b[0m\u001b[0mcc2\u001b[0m\u001b[0;34m>\u001b[0m\u001b[0;36m0.5\u001b[0m\u001b[0;34m,\u001b[0m\u001b[0;34m~\u001b[0m\u001b[0mnp\u001b[0m\u001b[0;34m.\u001b[0m\u001b[0misnan\u001b[0m\u001b[0;34m(\u001b[0m\u001b[0mcc\u001b[0m\u001b[0;34m)\u001b[0m\u001b[0;34m,\u001b[0m\u001b[0;34m~\u001b[0m\u001b[0mnp\u001b[0m\u001b[0;34m.\u001b[0m\u001b[0misnan\u001b[0m\u001b[0;34m(\u001b[0m\u001b[0mcc2\u001b[0m\u001b[0;34m)\u001b[0m\u001b[0;34m]\u001b[0m\u001b[0;34m)\u001b[0m\u001b[0;34m)\u001b[0m\u001b[0;34m[\u001b[0m\u001b[0;36m0\u001b[0m\u001b[0;34m]\u001b[0m\u001b[0;34m\u001b[0m\u001b[0;34m\u001b[0m\u001b[0m\n\u001b[0m",
      "\u001b[0;31mValueError\u001b[0m: The truth value of an array with more than one element is ambiguous. Use a.any() or a.all()"
     ]
    }
   ],
   "source": [
    "gIxs = np.where(np.logical_and.reduce([cc>.5,cc2>0.5,~np.isnan(cc),~np.isnan(cc2)]))[0]"
   ]
  },
  {
   "cell_type": "code",
   "execution_count": 455,
   "metadata": {},
   "outputs": [
    {
     "name": "stdout",
     "output_type": "stream",
     "text": [
      "[8, 24, 28, 66, 67]\n"
     ]
    }
   ],
   "source": [
    "print(gIxs)"
   ]
  },
  {
   "cell_type": "code",
   "execution_count": null,
   "metadata": {},
   "outputs": [],
   "source": []
  },
  {
   "cell_type": "code",
   "execution_count": 456,
   "metadata": {},
   "outputs": [],
   "source": [
    "seq0_inv = [seq0.tolist().index(i) for i in range(9)]\n",
    "seq1_inv = [seq1.tolist().index(i) for i in range(9)]\n"
   ]
  },
  {
   "cell_type": "code",
   "execution_count": 457,
   "metadata": {},
   "outputs": [],
   "source": [
    "cc_ = []\n",
    "for kk in gIxs:\n",
    "    cc_.append(np.corrcoef(act_matrix[:,kk][seq0_inv],act_matrix2[:,kk][seq1_inv])[0,1])"
   ]
  },
  {
   "cell_type": "code",
   "execution_count": 458,
   "metadata": {},
   "outputs": [],
   "source": [
    "cc_bad = []\n",
    "cc_good = []\n",
    "for kk in range(act_matrix.shape[1]):\n",
    "    if kk not in gIxs:\n",
    "        cc_bad.append(np.corrcoef(act_matrix[:,kk][seq0_inv],act_matrix2[:,kk][seq1_inv])[0,1])\n",
    "    else:\n",
    "        cc_good.append(np.corrcoef(act_matrix[:,kk][seq0_inv],act_matrix2[:,kk][seq1_inv])[0,1])"
   ]
  },
  {
   "cell_type": "code",
   "execution_count": 459,
   "metadata": {},
   "outputs": [
    {
     "data": {
      "text/plain": [
       "<matplotlib.axes._subplots.AxesSubplot at 0x7ff1113df790>"
      ]
     },
     "execution_count": 459,
     "metadata": {},
     "output_type": "execute_result"
    },
    {
     "data": {
      "image/png": "[encoded data removed]",
      "text/plain": [
       "<Figure size 432x288 with 1 Axes>"
      ]
     },
     "metadata": {
      "needs_background": "light"
     },
     "output_type": "display_data"
    }
   ],
   "source": [
    "seaborn.distplot(np.array(cc_bad)[np.isfinite(cc_bad)],bins=np.linspace(-1,1,num=20),kde=0,norm_hist=1)\n",
    "seaborn.distplot(np.array(cc_good)[np.isfinite(cc_good)],bins=np.linspace(-1,1,num=20),kde=0,norm_hist=1)"
   ]
  },
  {
   "cell_type": "code",
   "execution_count": null,
   "metadata": {},
   "outputs": [],
   "source": []
  },
  {
   "cell_type": "code",
   "execution_count": 460,
   "metadata": {},
   "outputs": [],
   "source": [
    "gIxs = [8,24,28,66,67]"
   ]
  },
  {
   "cell_type": "code",
   "execution_count": 461,
   "metadata": {},
   "outputs": [
    {
     "data": {
      "text/plain": [
       "7"
      ]
     },
     "execution_count": 461,
     "metadata": {},
     "output_type": "execute_result"
    }
   ],
   "source": [
    "np.sum(test_seq1)"
   ]
  },
  {
   "cell_type": "code",
   "execution_count": 462,
   "metadata": {},
   "outputs": [
    {
     "data": {
      "text/plain": [
       "array([False,  True, False, False, False, False,  True, False, False])"
      ]
     },
     "execution_count": 462,
     "metadata": {},
     "output_type": "execute_result"
    }
   ],
   "source": [
    "test_seq1==0"
   ]
  },
  {
   "cell_type": "code",
   "execution_count": 463,
   "metadata": {},
   "outputs": [
    {
     "name": "stderr",
     "output_type": "stream",
     "text": [
      "/Users/yves/opt/anaconda3/lib/python3.7/site-packages/networkx/drawing/nx_pylab.py:579: MatplotlibDeprecationWarning: \n",
      "The iterable function was deprecated in Matplotlib 3.1 and will be removed in 3.3. Use np.iterable instead.\n",
      "  if not cb.iterable(width):\n",
      "/Users/yves/opt/anaconda3/lib/python3.7/site-packages/networkx/drawing/nx_pylab.py:676: MatplotlibDeprecationWarning: \n",
      "The iterable function was deprecated in Matplotlib 3.1 and will be removed in 3.3. Use np.iterable instead.\n",
      "  if cb.iterable(node_size):  # many node sizes\n",
      "/Users/yves/opt/anaconda3/lib/python3.7/site-packages/ipykernel_launcher.py:65: VisibleDeprecationWarning: Creating an ndarray from ragged nested sequences (which is a list-or-tuple of lists-or-tuples-or ndarrays with different lengths or shapes) is deprecated. If you meant to do this, you must specify 'dtype=object' when creating the ndarray\n"
     ]
    },
    {
     "data": {
      "image/png": "[encoded data removed]",
      "text/plain": [
       "<Figure size 1008x720 with 18 Axes>"
      ]
     },
     "metadata": {},
     "output_type": "display_data"
    }
   ],
   "source": [
    "\n",
    "nG = len(gIxs)\n",
    "\n",
    "\n",
    "plt.figure(figsize=(14,2*nG))\n",
    "for kk in range(3):\n",
    "    \n",
    "    ix = gIxs[kk]\n",
    "    plt.subplot(nG,6,6*kk+1)\n",
    "    plt.title('cell ix:{}'.format(ix))\n",
    "    act = act_matrix[:,ix][seq0_inv].tolist()\n",
    "    plot_activity_on_graph(seq0.tolist(),\n",
    "                           graph_type0,\n",
    "                           spks=act,\n",
    "                           mn=np.nanmin(act_matrix[:,ix]),\n",
    "                          )\n",
    "\n",
    "    plt.subplot(nG,6,6*kk+2)\n",
    "    act = act_matrix2[:,ix].copy()\n",
    "    act[test_seq1==0] = np.nan\n",
    "    act = act[seq1_inv].tolist()\n",
    "    plot_activity_on_graph(seq1.tolist(),\n",
    "                           graph_type1,\n",
    "                           spks=act,\n",
    "                           mn=np.nanmin(act_matrix2[:,ix])\n",
    "                          )\n",
    "\n",
    "\n",
    "    plt.subplot(nG,6,6*kk+3)\n",
    "    plt.title(\"Task 1\")\n",
    "    plot_activity_on_graph(sequence=seq0.tolist(),\n",
    "                           graph_type=graph_type0,\n",
    "                           spks=act_matrix[:,ix],\n",
    "                           order='state',\n",
    "                           mn=np.nanmin(act_matrix[:,ix])\n",
    "                          )\n",
    "\n",
    "    plt.subplot(nG,6,6*kk+5)\n",
    "    plt.title(\"Task 2\")\n",
    "    plot_activity_on_graph(seq1.tolist(),\n",
    "                           graph_type1,\n",
    "                           spks=act_matrix2[:,ix],\n",
    "                           order='state',\n",
    "                           mn=np.nanmin(act_matrix2[:,ix])\n",
    "                          )\n",
    "    \n",
    "    \n",
    "    plt.subplot(nG,6,6*kk+4)\n",
    "    plt.title('cc:{:.2f}'.format(np.corrcoef(act_matrix[:,ix][1:],predicted_neural_activity[:,ix][:-1])[0,1]))\n",
    "    plot_activity_on_graph(sequence=seq0.tolist(),\n",
    "                           graph_type=graph_type0,\n",
    "                           spks=np.roll(predicted_neural_activity[:,ix],1),\n",
    "                           order='state',\n",
    "                           mn=np.nanmin(act_matrix[:,ix])\n",
    "                          )\n",
    "    plt.gca().set_facecolor('grey') \n",
    "\n",
    "    plt.subplot(nG,6,6*kk+6)\n",
    "    plt.title('cc:{:.2f}'.format(np.corrcoef(act_matrix2[:,ix],np.roll(predicted_neural_activity2[:,ix],1))[0,1]))\n",
    "\n",
    "    plot_activity_on_graph(seq1.tolist(),\n",
    "                           graph_type1,\n",
    "                           spks=np.roll(predicted_neural_activity2[:,ix],1),\n",
    "                           order='state',mn=np.nanmin(act_matrix[:,ix])\n",
    "                          )\n",
    "    plt.gca().set_facecolor('.3') \n",
    "plt.tight_layout()"
   ]
  },
  {
   "cell_type": "code",
   "execution_count": 464,
   "metadata": {},
   "outputs": [
    {
     "data": {
      "text/plain": [
       "array([3, 4])"
      ]
     },
     "execution_count": 464,
     "metadata": {},
     "output_type": "execute_result"
    }
   ],
   "source": [
    "seq1[np.where(test_seq1==0)]"
   ]
  },
  {
   "cell_type": "code",
   "execution_count": 465,
   "metadata": {},
   "outputs": [
    {
     "data": {
      "text/plain": [
       "array([1, 0, 1, 1, 1, 1, 0, 1, 1])"
      ]
     },
     "execution_count": 465,
     "metadata": {},
     "output_type": "execute_result"
    }
   ],
   "source": [
    "test_seq1"
   ]
  },
  {
   "cell_type": "code",
   "execution_count": 155,
   "metadata": {},
   "outputs": [
    {
     "data": {
      "text/plain": [
       "array([ 0.        +0.j, -0.2755314 +0.j,  0.33041052+0.j,  0.18861323+0.j,\n",
       "        0.75545629+0.j,  0.24250306+0.j, -0.82645627+0.j, -0.68321628+0.j])"
      ]
     },
     "execution_count": 155,
     "metadata": {},
     "output_type": "execute_result"
    }
   ],
   "source": [
    "1j*(evecs[:,ix0] - evecs[:,ix1])"
   ]
  },
  {
   "cell_type": "code",
   "execution_count": 152,
   "metadata": {},
   "outputs": [
    {
     "name": "stdout",
     "output_type": "stream",
     "text": [
      "0\n",
      "1\n",
      "2\n",
      "3\n"
     ]
    },
    {
     "data": {
      "image/png": "[encoded data removed]",
      "text/plain": [
       "<Figure size 864x288 with 4 Axes>"
      ]
     },
     "metadata": {},
     "output_type": "display_data"
    }
   ],
   "source": [
    "evals, evecs = np.linalg.eig(Ainf)\n",
    "u1 = (evecs[:,0] + evecs[:,1]).real\n",
    "u2 = (1j*(evecs[:,0] - evecs[:,1])).real\n",
    "dim = Ainf.shape[0]\n",
    "x = pca_activity\n",
    "plt.figure(figsize=(12,4))\n",
    "plt.suptitle(\"Fitted data\",fontsize=24)\n",
    "offset = 0\n",
    "if np.isreal(evals[0]): offset = 1\n",
    "for i in range(int(np.floor(dim/2))):\n",
    "    print(i)\n",
    "    plt.subplot(1,4,i+1)\n",
    "    ix0 = (2*i)     + offset\n",
    "    ix1 = (2*i + 1) + offset\n",
    "    u1 = (evecs[:,ix0] + evecs[:,ix1]).real\n",
    "    u1 = u1/np.linalg.norm(u1)\n",
    "    u2 = (1j*(evecs[:,ix0] - evecs[:,ix1])).real\n",
    "    u2 = u2/np.linalg.norm(u2)\n",
    "    w = np.vstack([u1,u2]).T\n",
    "    projection = (np.squeeze(x)@w).T\n",
    "    #plt.plot(*(projection))\n",
    "    \n",
    "    mu_ideal = []\n",
    "    for ideal in range(1):\n",
    "        ideal = ideal %9\n",
    "        ideal_activity = [np.linalg.matrix_power(Ainf,i)@x[ideal] for i in range(10)]\n",
    "        projection2 = (np.squeeze(ideal_activity)@w).T\n",
    "        plt.plot(*(projection2),color='.3',alpha=5)\n",
    "        mu_ideal.append(np.roll(projection2,ideal,axis=0))\n",
    "    #projection2 = np.mean(mu_ideal,axis=0)\n",
    "    if i==(int(np.floor(dim/2))-1):\n",
    "        plt.scatter(projection2[0],projection2[1],\n",
    "                    c=np.vstack([seaborn.color_palette(\"tab10\",n_colors=9),clrs[0]]),\n",
    "                    marker='^',s=64,\n",
    "                    label='predicted position')\n",
    "    else:\n",
    "        plt.scatter(projection2[0],projection2[1],c=np.vstack([seaborn.color_palette(\"tab10\",n_colors=9),clrs[0]]),marker='^',s=64)\n",
    "\n",
    "\n",
    "\n",
    "    if i==(int(np.floor(dim/2))-1):\n",
    "        plt.scatter(projection[0],projection[1],c=seaborn.color_palette(\"tab10\",n_colors=9),s=96,label='actual position')\n",
    "    else:\n",
    "        plt.scatter(projection[0],projection[1],c=seaborn.color_palette(\"tab10\",n_colors=9),s=96)\n",
    "    for ijk,(p1,p2) in enumerate(zip(projection.T,projection2.T)):\n",
    "        plt.plot([p1[0],p2[0]],[p1[1],p2[1]],alpha=.3,color=seaborn.color_palette()[ijk])\n",
    "        #pass\n",
    "    plt.xticks([])\n",
    "    plt.yticks([])\n",
    "    if i==0:\n",
    "        plt.xlabel(\"Rotation dim 1 (a.u.)\")\n",
    "        plt.ylabel(\"Rotation dim 2 (a.u.)\")\n",
    "plt.legend(loc=(1.1,.9))\n",
    "seaborn.despine()"
   ]
  },
  {
   "cell_type": "code",
   "execution_count": 468,
   "metadata": {},
   "outputs": [
    {
     "data": {
      "text/plain": [
       "array([[ 0.80056078, -0.68105911,  0.47926441, -0.21955973, -0.06667456,\n",
       "         0.3448525 , -0.58136158,  0.74762418, -0.82355063,  0.79996666],\n",
       "       [-0.20780562,  0.46929652, -0.67408186,  0.79741724, -0.82439992,\n",
       "         0.75176957, -0.58830217,  0.35374965, -0.07645322, -0.21008113]])"
      ]
     },
     "execution_count": 468,
     "metadata": {},
     "output_type": "execute_result"
    }
   ],
   "source": [
    "projection2"
   ]
  },
  {
   "cell_type": "code",
   "execution_count": 469,
   "metadata": {},
   "outputs": [
    {
     "data": {
      "text/plain": [
       "array([[0.12156863, 0.46666667, 0.70588235],\n",
       "       [1.        , 0.49803922, 0.05490196],\n",
       "       [0.17254902, 0.62745098, 0.17254902],\n",
       "       [0.83921569, 0.15294118, 0.15686275],\n",
       "       [0.58039216, 0.40392157, 0.74117647],\n",
       "       [0.54901961, 0.3372549 , 0.29411765],\n",
       "       [0.89019608, 0.46666667, 0.76078431],\n",
       "       [0.49803922, 0.49803922, 0.49803922],\n",
       "       [0.7372549 , 0.74117647, 0.13333333],\n",
       "       [0.12156863, 0.46666667, 0.70588235]])"
      ]
     },
     "execution_count": 469,
     "metadata": {},
     "output_type": "execute_result"
    }
   ],
   "source": [
    "np.vstack([seaborn.color_palette(\"tab10\",n_colors=9),seaborn.color_palette(\"tab10\",n_colors=9)[0]])"
   ]
  },
  {
   "cell_type": "code",
   "execution_count": 473,
   "metadata": {},
   "outputs": [
    {
     "data": {
      "text/plain": [
       "0.25"
      ]
     },
     "execution_count": 473,
     "metadata": {},
     "output_type": "execute_result"
    }
   ],
   "source": [
    "res2"
   ]
  },
  {
   "cell_type": "code",
   "execution_count": 474,
   "metadata": {},
   "outputs": [
    {
     "name": "stdout",
     "output_type": "stream",
     "text": [
      "0\n",
      "1\n",
      "2\n",
      "3\n"
     ]
    },
    {
     "data": {
      "image/png": "[encoded data removed]",
      "text/plain": [
       "<Figure size 864x288 with 4 Axes>"
      ]
     },
     "metadata": {},
     "output_type": "display_data"
    }
   ],
   "source": [
    "\n",
    "evals, evecs = np.linalg.eig(Ainf)\n",
    "u1 = (evecs[:,0] + evecs[:,1]).real\n",
    "u2 = (1j*(evecs[:,0] - evecs[:,1])).real\n",
    "dim = Ainf.shape[0]\n",
    "x = pca_activity2\n",
    "if res2r>res2:\n",
    "    x = x[::-1]\n",
    "    ideal_activity = [np.linalg.matrix_power(Ainf,i)@x[0] for i in range(9)]\n",
    "else:\n",
    "    ideal_activity = [np.linalg.matrix_power(Ainf,i)@x[0] for i in range(9)]\n",
    "plt.figure(figsize=(12,4))\n",
    "plt.suptitle(\"Held out task\",fontsize=24)\n",
    "offset = 0\n",
    "if np.isreal(evals[0]): offset = 1\n",
    "for i in range(int(np.floor(dim/2))):\n",
    "    print(i)\n",
    "    plt.subplot(1,4,i+1)\n",
    "    ix0 = (2*i)     + offset\n",
    "    ix1 = (2*i + 1) + offset\n",
    "    u1 = (evecs[:,ix0] + evecs[:,ix1]).real\n",
    "    u1 = u1/np.linalg.norm(u1)\n",
    "    u2 = (1j*(evecs[:,ix0] - evecs[:,ix1])).real\n",
    "    u2 = u2/np.linalg.norm(u2)\n",
    "    w = np.vstack([u1,u2]).T\n",
    "    projection = (np.squeeze(x)@w).T\n",
    "    #plt.plot(*(projection))\n",
    "    mu_ideal = []\n",
    "    for ideal in range(1):\n",
    "        ideal = ideal %9\n",
    "        ideal_activity = [np.linalg.matrix_power(Ainf,i)@x[ideal] for i in range(10)]\n",
    "        projection2 = (np.squeeze(ideal_activity)@w).T\n",
    "        plt.plot(*(projection2),color='.3',alpha=5)\n",
    "        mu_ideal.append(np.roll(projection2,ideal,axis=0))\n",
    "    #projection2 = np.mean(mu_ideal,axis=0)\n",
    "    if i==(int(np.floor(dim/2))-1):\n",
    "        plt.scatter(projection2[0],projection2[1],\n",
    "                    c=np.vstack([seaborn.color_palette(\"tab10\",n_colors=9),clrs[0]]),\n",
    "                    marker='^',s=64,\n",
    "                    label='predicted position')\n",
    "    else:\n",
    "        plt.scatter(projection2[0],projection2[1],c=np.vstack([seaborn.color_palette(\"tab10\",n_colors=9),clrs[0]]),marker='^',s=64)\n",
    "\n",
    "\n",
    "\n",
    "    if i==(int(np.floor(dim/2))-1):\n",
    "        plt.scatter(projection[0],projection[1],c=seaborn.color_palette(\"tab10\",n_colors=9),s=96,label='actual position')\n",
    "    else:\n",
    "        plt.scatter(projection[0],projection[1],c=seaborn.color_palette(\"tab10\",n_colors=9),s=96)\n",
    "    for ijk,(p1,p2) in enumerate(zip(projection.T,projection2.T)):\n",
    "        plt.plot([p1[0],p2[0]],[p1[1],p2[1]],alpha=.3,color=seaborn.color_palette()[ijk])\n",
    "        #pass\n",
    "    plt.xticks([])\n",
    "    plt.yticks([])\n",
    "    if i==0:\n",
    "        plt.xlabel(\"Rotation dim 1 (a.u.)\")\n",
    "        plt.ylabel(\"Rotation dim 2 (a.u.)\")\n",
    "plt.legend(loc=(1.1,.9))\n",
    "seaborn.despine()"
   ]
  },
  {
   "cell_type": "code",
   "execution_count": null,
   "metadata": {},
   "outputs": [],
   "source": []
  },
  {
   "cell_type": "code",
   "execution_count": 475,
   "metadata": {},
   "outputs": [],
   "source": [
    "sms = []\n",
    "for _ in range(1000):\n",
    "    sms.append(np.abs(projection - projection2[:,np.random.permutation(np.arange(9))]).sum())"
   ]
  },
  {
   "cell_type": "code",
   "execution_count": 476,
   "metadata": {},
   "outputs": [
    {
     "ename": "ValueError",
     "evalue": "operands could not be broadcast together with shapes (2,9) (2,10) ",
     "output_type": "error",
     "traceback": [
      "\u001b[0;31m---------------------------------------------------------------------------\u001b[0m",
      "\u001b[0;31mValueError\u001b[0m                                Traceback (most recent call last)",
      "\u001b[0;32m<ipython-input-476-f87e8b28fd96>\u001b[0m in \u001b[0;36m<module>\u001b[0;34m\u001b[0m\n\u001b[1;32m      1\u001b[0m \u001b[0mseaborn\u001b[0m\u001b[0;34m.\u001b[0m\u001b[0mdistplot\u001b[0m\u001b[0;34m(\u001b[0m\u001b[0msms\u001b[0m\u001b[0;34m,\u001b[0m\u001b[0mkde\u001b[0m\u001b[0;34m=\u001b[0m\u001b[0;36m0\u001b[0m\u001b[0;34m)\u001b[0m\u001b[0;34m\u001b[0m\u001b[0;34m\u001b[0m\u001b[0m\n\u001b[0;32m----> 2\u001b[0;31m \u001b[0mplt\u001b[0m\u001b[0;34m.\u001b[0m\u001b[0maxvline\u001b[0m\u001b[0;34m(\u001b[0m\u001b[0mx\u001b[0m\u001b[0;34m=\u001b[0m\u001b[0mnp\u001b[0m\u001b[0;34m.\u001b[0m\u001b[0mabs\u001b[0m\u001b[0;34m(\u001b[0m\u001b[0mprojection\u001b[0m \u001b[0;34m-\u001b[0m \u001b[0mprojection2\u001b[0m\u001b[0;34m)\u001b[0m\u001b[0;34m.\u001b[0m\u001b[0msum\u001b[0m\u001b[0;34m(\u001b[0m\u001b[0;34m)\u001b[0m\u001b[0;34m)\u001b[0m\u001b[0;34m\u001b[0m\u001b[0;34m\u001b[0m\u001b[0m\n\u001b[0m",
      "\u001b[0;31mValueError\u001b[0m: operands could not be broadcast together with shapes (2,9) (2,10) "
     ]
    },
    {
     "data": {
      "image/png": "[encoded data removed]",
      "text/plain": [
       "<Figure size 432x288 with 1 Axes>"
      ]
     },
     "metadata": {
      "needs_background": "light"
     },
     "output_type": "display_data"
    }
   ],
   "source": [
    "seaborn.distplot(sms,kde=0)\n",
    "plt.axvline(x=np.abs(projection - projection2).sum())"
   ]
  },
  {
   "cell_type": "code",
   "execution_count": 135,
   "metadata": {},
   "outputs": [
    {
     "data": {
      "text/plain": [
       "15.7"
      ]
     },
     "execution_count": 135,
     "metadata": {},
     "output_type": "execute_result"
    }
   ],
   "source": [
    "stt.percentileofscore(sms,np.abs(projection - projection2).sum())"
   ]
  },
  {
   "cell_type": "code",
   "execution_count": 53,
   "metadata": {},
   "outputs": [
    {
     "data": {
      "text/plain": [
       "57.52804466678796"
      ]
     },
     "execution_count": 53,
     "metadata": {},
     "output_type": "execute_result"
    }
   ],
   "source": [
    "np.abs(projection - projection2).sum()"
   ]
  },
  {
   "cell_type": "code",
   "execution_count": null,
   "metadata": {},
   "outputs": [],
   "source": []
  },
  {
   "cell_type": "code",
   "execution_count": null,
   "metadata": {},
   "outputs": [],
   "source": []
  },
  {
   "cell_type": "code",
   "execution_count": 322,
   "metadata": {},
   "outputs": [
    {
     "name": "stdout",
     "output_type": "stream",
     "text": [
      "0\n",
      "1\n",
      "2\n",
      "3\n"
     ]
    },
    {
     "data": {
      "image/png": "[encoded data removed]",
      "text/plain": [
       "<Figure size 864x288 with 4 Axes>"
      ]
     },
     "metadata": {},
     "output_type": "display_data"
    }
   ],
   "source": [
    "evals, evecs = np.linalg.eig(Ainf)\n",
    "u1 = (evecs[:,0] + evecs[:,1]).real\n",
    "u2 = (1j*(evecs[:,0] - evecs[:,1])).real\n",
    "dim = Ainf.shape[0]\n",
    "x = ideal_activity\n",
    "plt.figure(figsize=(12,4))\n",
    "offset = 0\n",
    "if np.isreal(evals[0]): offset = 1\n",
    "for i in range(int(np.floor(dim/2))):\n",
    "    print(i)\n",
    "    plt.subplot(1,4,i+1)\n",
    "    ix0 = (2*i)     + offset\n",
    "    ix1 = (2*i + 1) + offset\n",
    "    u1 = (evecs[:,ix0] + evecs[:,ix1]).real\n",
    "    u1 = u1/np.linalg.norm(u1)\n",
    "    u2 = (1j*(evecs[:,ix0] - evecs[:,ix1])).real\n",
    "    u2 = u2/np.linalg.norm(u2)\n",
    "    w = np.vstack([u1,u2]).T\n",
    "    projection = (np.squeeze(x)@w).T\n",
    "    plt.plot(*(projection))\n",
    "    plt.scatter(projection[0],projection[1],c=seaborn.color_palette(\"RdBu_r\",n_colors=9))\n",
    "\n",
    "seaborn.despine()"
   ]
  },
  {
   "cell_type": "code",
   "execution_count": null,
   "metadata": {},
   "outputs": [],
   "source": []
  },
  {
   "cell_type": "code",
   "execution_count": null,
   "metadata": {},
   "outputs": [],
   "source": []
  },
  {
   "cell_type": "code",
   "execution_count": null,
   "metadata": {},
   "outputs": [],
   "source": []
  },
  {
   "cell_type": "code",
   "execution_count": null,
   "metadata": {},
   "outputs": [],
   "source": []
  },
  {
   "cell_type": "markdown",
   "metadata": {},
   "source": [
    "# HO stuff"
   ]
  },
  {
   "cell_type": "code",
   "execution_count": 363,
   "metadata": {},
   "outputs": [],
   "source": [
    "import pandas as pd"
   ]
  },
  {
   "cell_type": "code",
   "execution_count": 393,
   "metadata": {},
   "outputs": [],
   "source": [
    "df = pd.read_csv(\"/Users/yves/Desktop/HO_returns.csv\",index_col=0)"
   ]
  },
  {
   "cell_type": "code",
   "execution_count": 394,
   "metadata": {},
   "outputs": [
    {
     "data": {
      "text/plain": [
       "['Species',\n",
       " 'Start date',\n",
       " 'End date',\n",
       " 'Protocol',\n",
       " 'Supplier',\n",
       " 'Place of birth',\n",
       " 'WT/GM',\n",
       " 'Purpose',\n",
       " 'Sub-purpose',\n",
       " 'Retrospective severity',\n",
       " 'Procedures',\n",
       " 'Anaesthesia',\n",
       " 'Fate',\n",
       " 'Comments']"
      ]
     },
     "execution_count": 394,
     "metadata": {},
     "output_type": "execute_result"
    }
   ],
   "source": [
    "df.columns.tolist()"
   ]
  },
  {
   "cell_type": "code",
   "execution_count": 412,
   "metadata": {},
   "outputs": [],
   "source": [
    "group_data = df.groupby(['Species',\n",
    "                         'Start date',\n",
    "                         'End date',\n",
    "                         'Protocol',\n",
    "                         'Supplier',\n",
    "                         'Place of birth',\n",
    "                         'WT/GM',\n",
    "                         'Purpose',\n",
    "                         'Sub-purpose',\n",
    "                         'Retrospective severity',\n",
    "                         'Procedures',\n",
    "                         'Anaesthesia',\n",
    "                         'Fate',\n",
    "                         #'Comments'\n",
    "                        ])\n",
    "df2 = pd.DataFrame(group_data.size().reset_index(name = \"Group_Count\"))\n",
    "df2.rename(columns = {'Group_Count':'Number of animals'}, inplace = True)\n",
    "df2['Comments'] = ''\n",
    "col_order = ['Species','Number of animals','Start date',\n",
    "           'End date','Protocol','Supplier',\n",
    "           'Place of birth','WT/GM','Purpose','Sub-purpose',\n",
    "           'Retrospective severity','Procedures',\n",
    "           'Anaesthesia','Fate','Comments']\n",
    "df2 = df2.reindex(col_order, axis=1)\n",
    "\n",
    "#\n"
   ]
  },
  {
   "cell_type": "code",
   "execution_count": 413,
   "metadata": {},
   "outputs": [
    {
     "data": {
      "text/html": [
       "<div>\n",
       "<style scoped>\n",
       "    .dataframe tbody tr th:only-of-type {\n",
       "        vertical-align: middle;\n",
       "    }\n",
       "\n",
       "    .dataframe tbody tr th {\n",
       "        vertical-align: top;\n",
       "    }\n",
       "\n",
       "    .dataframe thead th {\n",
       "        text-align: right;\n",
       "    }\n",
       "</style>\n",
       "<table border=\"1\" class=\"dataframe\">\n",
       "  <thead>\n",
       "    <tr style=\"text-align: right;\">\n",
       "      <th></th>\n",
       "      <th>Species</th>\n",
       "      <th>Number of animals</th>\n",
       "      <th>Start date</th>\n",
       "      <th>End date</th>\n",
       "      <th>Protocol</th>\n",
       "      <th>Supplier</th>\n",
       "      <th>Place of birth</th>\n",
       "      <th>WT/GM</th>\n",
       "      <th>Purpose</th>\n",
       "      <th>Sub-purpose</th>\n",
       "      <th>Retrospective severity</th>\n",
       "      <th>Procedures</th>\n",
       "      <th>Anaesthesia</th>\n",
       "      <th>Fate</th>\n",
       "      <th>Comments</th>\n",
       "    </tr>\n",
       "  </thead>\n",
       "  <tbody>\n",
       "    <tr>\n",
       "      <th>0</th>\n",
       "      <td>Mouse</td>\n",
       "      <td>1</td>\n",
       "      <td>05/09/2020</td>\n",
       "      <td>22-Jan-2021</td>\n",
       "      <td>2</td>\n",
       "      <td>BSB</td>\n",
       "      <td>UK</td>\n",
       "      <td>GM</td>\n",
       "      <td>Scientific Research</td>\n",
       "      <td>Behaviour</td>\n",
       "      <td>Mild</td>\n",
       "      <td>'Breeding And Maintenance Of Transgenic Mice',...</td>\n",
       "      <td>Recovery</td>\n",
       "      <td>Culled Experimental</td>\n",
       "      <td></td>\n",
       "    </tr>\n",
       "    <tr>\n",
       "      <th>1</th>\n",
       "      <td>Mouse</td>\n",
       "      <td>1</td>\n",
       "      <td>07/09/2021</td>\n",
       "      <td>15-Sep-2021</td>\n",
       "      <td>10</td>\n",
       "      <td>BSB</td>\n",
       "      <td>UK</td>\n",
       "      <td>WT</td>\n",
       "      <td>Scientific Research</td>\n",
       "      <td>Behaviour</td>\n",
       "      <td>Mild</td>\n",
       "      <td>'Implantation of Device', 'Water restriction',...</td>\n",
       "      <td>Recovery</td>\n",
       "      <td>Culled Experimental</td>\n",
       "      <td></td>\n",
       "    </tr>\n",
       "    <tr>\n",
       "      <th>2</th>\n",
       "      <td>Mouse</td>\n",
       "      <td>1</td>\n",
       "      <td>07/09/2021</td>\n",
       "      <td>21-Sep-2021</td>\n",
       "      <td>10</td>\n",
       "      <td>BSB</td>\n",
       "      <td>UK</td>\n",
       "      <td>WT</td>\n",
       "      <td>Scientific Research</td>\n",
       "      <td>Behaviour</td>\n",
       "      <td>Mild</td>\n",
       "      <td>'Implantation of Device', 'Water restriction',...</td>\n",
       "      <td>Recovery</td>\n",
       "      <td>Culled Experimental</td>\n",
       "      <td></td>\n",
       "    </tr>\n",
       "    <tr>\n",
       "      <th>3</th>\n",
       "      <td>Mouse</td>\n",
       "      <td>2</td>\n",
       "      <td>07/09/2021</td>\n",
       "      <td>22-Sep-2021</td>\n",
       "      <td>10</td>\n",
       "      <td>BSB</td>\n",
       "      <td>UK</td>\n",
       "      <td>WT</td>\n",
       "      <td>Scientific Research</td>\n",
       "      <td>Behaviour</td>\n",
       "      <td>Mild</td>\n",
       "      <td>'Implantation of Device', 'Water restriction',...</td>\n",
       "      <td>Recovery</td>\n",
       "      <td>Culled Experimental</td>\n",
       "      <td></td>\n",
       "    </tr>\n",
       "    <tr>\n",
       "      <th>4</th>\n",
       "      <td>Mouse</td>\n",
       "      <td>1</td>\n",
       "      <td>08/04/2021</td>\n",
       "      <td>22-Sep-2021</td>\n",
       "      <td>10</td>\n",
       "      <td>BSB</td>\n",
       "      <td>UK</td>\n",
       "      <td>WT</td>\n",
       "      <td>Scientific Research</td>\n",
       "      <td>Nervous system</td>\n",
       "      <td>Moderate</td>\n",
       "      <td>'Water restriction', 'Behavioural testing', 'E...</td>\n",
       "      <td>Recovery</td>\n",
       "      <td>Culled Experimental</td>\n",
       "      <td></td>\n",
       "    </tr>\n",
       "    <tr>\n",
       "      <th>5</th>\n",
       "      <td>Mouse</td>\n",
       "      <td>2</td>\n",
       "      <td>08/09/2020</td>\n",
       "      <td>01-Jun-2021</td>\n",
       "      <td>6</td>\n",
       "      <td>BSB</td>\n",
       "      <td>UK</td>\n",
       "      <td>WT</td>\n",
       "      <td>Scientific Research</td>\n",
       "      <td>Behaviour</td>\n",
       "      <td>Mild</td>\n",
       "      <td>'Water restriction', 'Earclip (identification)...</td>\n",
       "      <td>None</td>\n",
       "      <td>Culled Experimental</td>\n",
       "      <td></td>\n",
       "    </tr>\n",
       "    <tr>\n",
       "      <th>6</th>\n",
       "      <td>Mouse</td>\n",
       "      <td>1</td>\n",
       "      <td>08/09/2020</td>\n",
       "      <td>03-May-2021</td>\n",
       "      <td>6</td>\n",
       "      <td>BSB</td>\n",
       "      <td>UK</td>\n",
       "      <td>WT</td>\n",
       "      <td>Scientific Research</td>\n",
       "      <td>Behaviour</td>\n",
       "      <td>Mild</td>\n",
       "      <td>'Water restriction', 'Earclip (identification)...</td>\n",
       "      <td>None</td>\n",
       "      <td>Culled Experimental</td>\n",
       "      <td></td>\n",
       "    </tr>\n",
       "    <tr>\n",
       "      <th>7</th>\n",
       "      <td>Mouse</td>\n",
       "      <td>1</td>\n",
       "      <td>08/09/2020</td>\n",
       "      <td>05-May-2021</td>\n",
       "      <td>6</td>\n",
       "      <td>BSB</td>\n",
       "      <td>UK</td>\n",
       "      <td>WT</td>\n",
       "      <td>Scientific Research</td>\n",
       "      <td>Behaviour</td>\n",
       "      <td>Mild</td>\n",
       "      <td>'Water restriction', 'Earclip (identification)...</td>\n",
       "      <td>None</td>\n",
       "      <td>Culled Experimental</td>\n",
       "      <td></td>\n",
       "    </tr>\n",
       "    <tr>\n",
       "      <th>8</th>\n",
       "      <td>Mouse</td>\n",
       "      <td>2</td>\n",
       "      <td>08/09/2020</td>\n",
       "      <td>07-May-2021</td>\n",
       "      <td>6</td>\n",
       "      <td>BSB</td>\n",
       "      <td>UK</td>\n",
       "      <td>WT</td>\n",
       "      <td>Scientific Research</td>\n",
       "      <td>Behaviour</td>\n",
       "      <td>Mild</td>\n",
       "      <td>'Water restriction', 'Earclip (identification)...</td>\n",
       "      <td>None</td>\n",
       "      <td>Culled Experimental</td>\n",
       "      <td></td>\n",
       "    </tr>\n",
       "    <tr>\n",
       "      <th>9</th>\n",
       "      <td>Mouse</td>\n",
       "      <td>1</td>\n",
       "      <td>08/09/2020</td>\n",
       "      <td>08-Apr-2021</td>\n",
       "      <td>10</td>\n",
       "      <td>BSB</td>\n",
       "      <td>UK</td>\n",
       "      <td>WT</td>\n",
       "      <td>Scientific Research</td>\n",
       "      <td>Nervous system</td>\n",
       "      <td>Moderate</td>\n",
       "      <td>'Water restriction', 'Earclip (identification)...</td>\n",
       "      <td>Recovery</td>\n",
       "      <td>Culled Experimental</td>\n",
       "      <td></td>\n",
       "    </tr>\n",
       "    <tr>\n",
       "      <th>10</th>\n",
       "      <td>Mouse</td>\n",
       "      <td>3</td>\n",
       "      <td>08/09/2020</td>\n",
       "      <td>08-May-2021</td>\n",
       "      <td>6</td>\n",
       "      <td>BSB</td>\n",
       "      <td>UK</td>\n",
       "      <td>WT</td>\n",
       "      <td>Scientific Research</td>\n",
       "      <td>Behaviour</td>\n",
       "      <td>Mild</td>\n",
       "      <td>'Water restriction', 'Earclip (identification)...</td>\n",
       "      <td>None</td>\n",
       "      <td>Culled Experimental</td>\n",
       "      <td></td>\n",
       "    </tr>\n",
       "    <tr>\n",
       "      <th>11</th>\n",
       "      <td>Mouse</td>\n",
       "      <td>3</td>\n",
       "      <td>08/09/2020</td>\n",
       "      <td>12-Aug-2021</td>\n",
       "      <td>6</td>\n",
       "      <td>BSB</td>\n",
       "      <td>UK</td>\n",
       "      <td>WT</td>\n",
       "      <td>Scientific Research</td>\n",
       "      <td>Behaviour</td>\n",
       "      <td>Mild</td>\n",
       "      <td>'Water restriction', 'Earclip (identification)...</td>\n",
       "      <td>None</td>\n",
       "      <td>Culled Experimental</td>\n",
       "      <td></td>\n",
       "    </tr>\n",
       "    <tr>\n",
       "      <th>12</th>\n",
       "      <td>Mouse</td>\n",
       "      <td>1</td>\n",
       "      <td>08/09/2020</td>\n",
       "      <td>12-May-2021</td>\n",
       "      <td>6</td>\n",
       "      <td>BSB</td>\n",
       "      <td>UK</td>\n",
       "      <td>WT</td>\n",
       "      <td>Scientific Research</td>\n",
       "      <td>Nervous system</td>\n",
       "      <td>Moderate</td>\n",
       "      <td>'Water restriction', 'Earclip (identification)...</td>\n",
       "      <td>Recovery</td>\n",
       "      <td>Culled Experimental</td>\n",
       "      <td></td>\n",
       "    </tr>\n",
       "    <tr>\n",
       "      <th>13</th>\n",
       "      <td>Mouse</td>\n",
       "      <td>4</td>\n",
       "      <td>08/09/2020</td>\n",
       "      <td>15-May-2021</td>\n",
       "      <td>6</td>\n",
       "      <td>BSB</td>\n",
       "      <td>UK</td>\n",
       "      <td>WT</td>\n",
       "      <td>Scientific Research</td>\n",
       "      <td>Behaviour</td>\n",
       "      <td>Mild</td>\n",
       "      <td>'Water restriction', 'Earclip (identification)...</td>\n",
       "      <td>None</td>\n",
       "      <td>Culled Experimental</td>\n",
       "      <td></td>\n",
       "    </tr>\n",
       "    <tr>\n",
       "      <th>14</th>\n",
       "      <td>Mouse</td>\n",
       "      <td>1</td>\n",
       "      <td>15/04/2021</td>\n",
       "      <td>03-Aug-2021</td>\n",
       "      <td>10</td>\n",
       "      <td>BSB</td>\n",
       "      <td>UK</td>\n",
       "      <td>WT</td>\n",
       "      <td>Scientific Research</td>\n",
       "      <td>Nervous system</td>\n",
       "      <td>Moderate</td>\n",
       "      <td>'Implantation of Device', 'Water restriction',...</td>\n",
       "      <td>Recovery</td>\n",
       "      <td>Culled Experimental</td>\n",
       "      <td></td>\n",
       "    </tr>\n",
       "    <tr>\n",
       "      <th>15</th>\n",
       "      <td>Mouse</td>\n",
       "      <td>1</td>\n",
       "      <td>15/04/2021</td>\n",
       "      <td>05-Aug-2021</td>\n",
       "      <td>10</td>\n",
       "      <td>BSB</td>\n",
       "      <td>UK</td>\n",
       "      <td>WT</td>\n",
       "      <td>Scientific Research</td>\n",
       "      <td>Nervous system</td>\n",
       "      <td>Moderate</td>\n",
       "      <td>'Implantation of Device', 'Water restriction',...</td>\n",
       "      <td>Recovery</td>\n",
       "      <td>Culled Experimental</td>\n",
       "      <td></td>\n",
       "    </tr>\n",
       "    <tr>\n",
       "      <th>16</th>\n",
       "      <td>Mouse</td>\n",
       "      <td>1</td>\n",
       "      <td>15/04/2021</td>\n",
       "      <td>05-May-2021</td>\n",
       "      <td>10</td>\n",
       "      <td>BSB</td>\n",
       "      <td>UK</td>\n",
       "      <td>WT</td>\n",
       "      <td>Scientific Research</td>\n",
       "      <td>Behaviour</td>\n",
       "      <td>Mild</td>\n",
       "      <td>'Implantation of Device', 'Water restriction'</td>\n",
       "      <td>Recovery</td>\n",
       "      <td>Culled Experimental</td>\n",
       "      <td></td>\n",
       "    </tr>\n",
       "    <tr>\n",
       "      <th>17</th>\n",
       "      <td>Mouse</td>\n",
       "      <td>2</td>\n",
       "      <td>15/04/2021</td>\n",
       "      <td>17-Aug-2021</td>\n",
       "      <td>10</td>\n",
       "      <td>BSB</td>\n",
       "      <td>UK</td>\n",
       "      <td>WT</td>\n",
       "      <td>Scientific Research</td>\n",
       "      <td>Nervous system</td>\n",
       "      <td>Moderate</td>\n",
       "      <td>'Implantation of Device', 'Water restriction',...</td>\n",
       "      <td>Recovery</td>\n",
       "      <td>Culled Experimental</td>\n",
       "      <td></td>\n",
       "    </tr>\n",
       "    <tr>\n",
       "      <th>18</th>\n",
       "      <td>Mouse</td>\n",
       "      <td>1</td>\n",
       "      <td>15/04/2021</td>\n",
       "      <td>18-Aug-2021</td>\n",
       "      <td>10</td>\n",
       "      <td>BSB</td>\n",
       "      <td>UK</td>\n",
       "      <td>WT</td>\n",
       "      <td>Scientific Research</td>\n",
       "      <td>Behaviour</td>\n",
       "      <td>Mild</td>\n",
       "      <td>'Implantation of Device', 'Implantation of Dev...</td>\n",
       "      <td>Recovery</td>\n",
       "      <td>Culled Experimental</td>\n",
       "      <td></td>\n",
       "    </tr>\n",
       "    <tr>\n",
       "      <th>19</th>\n",
       "      <td>Mouse</td>\n",
       "      <td>3</td>\n",
       "      <td>15/04/2021</td>\n",
       "      <td>18-Aug-2021</td>\n",
       "      <td>10</td>\n",
       "      <td>BSB</td>\n",
       "      <td>UK</td>\n",
       "      <td>WT</td>\n",
       "      <td>Scientific Research</td>\n",
       "      <td>Behaviour</td>\n",
       "      <td>Mild</td>\n",
       "      <td>'Implantation of Device', 'Water restriction'</td>\n",
       "      <td>Recovery</td>\n",
       "      <td>Culled Experimental</td>\n",
       "      <td></td>\n",
       "    </tr>\n",
       "    <tr>\n",
       "      <th>20</th>\n",
       "      <td>Mouse</td>\n",
       "      <td>1</td>\n",
       "      <td>15/04/2021</td>\n",
       "      <td>24-Jun-2021</td>\n",
       "      <td>10</td>\n",
       "      <td>BSB</td>\n",
       "      <td>UK</td>\n",
       "      <td>WT</td>\n",
       "      <td>Scientific Research</td>\n",
       "      <td>Nervous system</td>\n",
       "      <td>Severe</td>\n",
       "      <td>'Implantation of Device', 'Water restriction',...</td>\n",
       "      <td>Recovery</td>\n",
       "      <td>Culled Sick</td>\n",
       "      <td></td>\n",
       "    </tr>\n",
       "    <tr>\n",
       "      <th>21</th>\n",
       "      <td>Mouse</td>\n",
       "      <td>1</td>\n",
       "      <td>15/04/2021</td>\n",
       "      <td>31-Jul-2021</td>\n",
       "      <td>10</td>\n",
       "      <td>BSB</td>\n",
       "      <td>UK</td>\n",
       "      <td>WT</td>\n",
       "      <td>Scientific Research</td>\n",
       "      <td>Nervous system</td>\n",
       "      <td>Moderate</td>\n",
       "      <td>'Implantation of Device', 'Water restriction',...</td>\n",
       "      <td>Recovery</td>\n",
       "      <td>Culled Experimental</td>\n",
       "      <td></td>\n",
       "    </tr>\n",
       "    <tr>\n",
       "      <th>22</th>\n",
       "      <td>Mouse</td>\n",
       "      <td>2</td>\n",
       "      <td>22/01/2021</td>\n",
       "      <td>03-Jun-2021</td>\n",
       "      <td>2</td>\n",
       "      <td>BSB</td>\n",
       "      <td>UK</td>\n",
       "      <td>WT</td>\n",
       "      <td>Scientific Research</td>\n",
       "      <td>Behaviour</td>\n",
       "      <td>Mild</td>\n",
       "      <td>'Implantation of Device', 'Water restriction'</td>\n",
       "      <td>Recovery</td>\n",
       "      <td>Culled Experimental</td>\n",
       "      <td></td>\n",
       "    </tr>\n",
       "    <tr>\n",
       "      <th>23</th>\n",
       "      <td>Mouse</td>\n",
       "      <td>2</td>\n",
       "      <td>22/01/2021</td>\n",
       "      <td>12-Jul-2021</td>\n",
       "      <td>2</td>\n",
       "      <td>BSB</td>\n",
       "      <td>UK</td>\n",
       "      <td>WT</td>\n",
       "      <td>Scientific Research</td>\n",
       "      <td>Behaviour</td>\n",
       "      <td>Mild</td>\n",
       "      <td>'Implantation of Device', 'Water restriction'</td>\n",
       "      <td>Recovery</td>\n",
       "      <td>Culled Experimental</td>\n",
       "      <td></td>\n",
       "    </tr>\n",
       "  </tbody>\n",
       "</table>\n",
       "</div>"
      ],
      "text/plain": [
       "   Species  Number of animals  Start date     End date  Protocol Supplier  \\\n",
       "0    Mouse                  1  05/09/2020  22-Jan-2021         2      BSB   \n",
       "1    Mouse                  1  07/09/2021  15-Sep-2021        10      BSB   \n",
       "2    Mouse                  1  07/09/2021  21-Sep-2021        10      BSB   \n",
       "3    Mouse                  2  07/09/2021  22-Sep-2021        10      BSB   \n",
       "4    Mouse                  1  08/04/2021  22-Sep-2021        10      BSB   \n",
       "5    Mouse                  2  08/09/2020  01-Jun-2021         6      BSB   \n",
       "6    Mouse                  1  08/09/2020  03-May-2021         6      BSB   \n",
       "7    Mouse                  1  08/09/2020  05-May-2021         6      BSB   \n",
       "8    Mouse                  2  08/09/2020  07-May-2021         6      BSB   \n",
       "9    Mouse                  1  08/09/2020  08-Apr-2021        10      BSB   \n",
       "10   Mouse                  3  08/09/2020  08-May-2021         6      BSB   \n",
       "11   Mouse                  3  08/09/2020  12-Aug-2021         6      BSB   \n",
       "12   Mouse                  1  08/09/2020  12-May-2021         6      BSB   \n",
       "13   Mouse                  4  08/09/2020  15-May-2021         6      BSB   \n",
       "14   Mouse                  1  15/04/2021  03-Aug-2021        10      BSB   \n",
       "15   Mouse                  1  15/04/2021  05-Aug-2021        10      BSB   \n",
       "16   Mouse                  1  15/04/2021  05-May-2021        10      BSB   \n",
       "17   Mouse                  2  15/04/2021  17-Aug-2021        10      BSB   \n",
       "18   Mouse                  1  15/04/2021  18-Aug-2021        10      BSB   \n",
       "19   Mouse                  3  15/04/2021  18-Aug-2021        10      BSB   \n",
       "20   Mouse                  1  15/04/2021  24-Jun-2021        10      BSB   \n",
       "21   Mouse                  1  15/04/2021  31-Jul-2021        10      BSB   \n",
       "22   Mouse                  2  22/01/2021  03-Jun-2021         2      BSB   \n",
       "23   Mouse                  2  22/01/2021  12-Jul-2021         2      BSB   \n",
       "\n",
       "   Place of birth WT/GM              Purpose     Sub-purpose  \\\n",
       "0              UK    GM  Scientific Research       Behaviour   \n",
       "1              UK    WT  Scientific Research       Behaviour   \n",
       "2              UK    WT  Scientific Research       Behaviour   \n",
       "3              UK    WT  Scientific Research       Behaviour   \n",
       "4              UK    WT  Scientific Research  Nervous system   \n",
       "5              UK    WT  Scientific Research       Behaviour   \n",
       "6              UK    WT  Scientific Research       Behaviour   \n",
       "7              UK    WT  Scientific Research       Behaviour   \n",
       "8              UK    WT  Scientific Research       Behaviour   \n",
       "9              UK    WT  Scientific Research  Nervous system   \n",
       "10             UK    WT  Scientific Research       Behaviour   \n",
       "11             UK    WT  Scientific Research       Behaviour   \n",
       "12             UK    WT  Scientific Research  Nervous system   \n",
       "13             UK    WT  Scientific Research       Behaviour   \n",
       "14             UK    WT  Scientific Research  Nervous system   \n",
       "15             UK    WT  Scientific Research  Nervous system   \n",
       "16             UK    WT  Scientific Research       Behaviour   \n",
       "17             UK    WT  Scientific Research  Nervous system   \n",
       "18             UK    WT  Scientific Research       Behaviour   \n",
       "19             UK    WT  Scientific Research       Behaviour   \n",
       "20             UK    WT  Scientific Research  Nervous system   \n",
       "21             UK    WT  Scientific Research  Nervous system   \n",
       "22             UK    WT  Scientific Research       Behaviour   \n",
       "23             UK    WT  Scientific Research       Behaviour   \n",
       "\n",
       "   Retrospective severity                                         Procedures  \\\n",
       "0                    Mild  'Breeding And Maintenance Of Transgenic Mice',...   \n",
       "1                    Mild  'Implantation of Device', 'Water restriction',...   \n",
       "2                    Mild  'Implantation of Device', 'Water restriction',...   \n",
       "3                    Mild  'Implantation of Device', 'Water restriction',...   \n",
       "4                Moderate  'Water restriction', 'Behavioural testing', 'E...   \n",
       "5                    Mild  'Water restriction', 'Earclip (identification)...   \n",
       "6                    Mild  'Water restriction', 'Earclip (identification)...   \n",
       "7                    Mild  'Water restriction', 'Earclip (identification)...   \n",
       "8                    Mild  'Water restriction', 'Earclip (identification)...   \n",
       "9                Moderate  'Water restriction', 'Earclip (identification)...   \n",
       "10                   Mild  'Water restriction', 'Earclip (identification)...   \n",
       "11                   Mild  'Water restriction', 'Earclip (identification)...   \n",
       "12               Moderate  'Water restriction', 'Earclip (identification)...   \n",
       "13                   Mild  'Water restriction', 'Earclip (identification)...   \n",
       "14               Moderate  'Implantation of Device', 'Water restriction',...   \n",
       "15               Moderate  'Implantation of Device', 'Water restriction',...   \n",
       "16                   Mild      'Implantation of Device', 'Water restriction'   \n",
       "17               Moderate  'Implantation of Device', 'Water restriction',...   \n",
       "18                   Mild  'Implantation of Device', 'Implantation of Dev...   \n",
       "19                   Mild      'Implantation of Device', 'Water restriction'   \n",
       "20                 Severe  'Implantation of Device', 'Water restriction',...   \n",
       "21               Moderate  'Implantation of Device', 'Water restriction',...   \n",
       "22                   Mild      'Implantation of Device', 'Water restriction'   \n",
       "23                   Mild      'Implantation of Device', 'Water restriction'   \n",
       "\n",
       "   Anaesthesia                 Fate Comments  \n",
       "0     Recovery  Culled Experimental           \n",
       "1     Recovery  Culled Experimental           \n",
       "2     Recovery  Culled Experimental           \n",
       "3     Recovery  Culled Experimental           \n",
       "4     Recovery  Culled Experimental           \n",
       "5         None  Culled Experimental           \n",
       "6         None  Culled Experimental           \n",
       "7         None  Culled Experimental           \n",
       "8         None  Culled Experimental           \n",
       "9     Recovery  Culled Experimental           \n",
       "10        None  Culled Experimental           \n",
       "11        None  Culled Experimental           \n",
       "12    Recovery  Culled Experimental           \n",
       "13        None  Culled Experimental           \n",
       "14    Recovery  Culled Experimental           \n",
       "15    Recovery  Culled Experimental           \n",
       "16    Recovery  Culled Experimental           \n",
       "17    Recovery  Culled Experimental           \n",
       "18    Recovery  Culled Experimental           \n",
       "19    Recovery  Culled Experimental           \n",
       "20    Recovery          Culled Sick           \n",
       "21    Recovery  Culled Experimental           \n",
       "22    Recovery  Culled Experimental           \n",
       "23    Recovery  Culled Experimental           "
      ]
     },
     "execution_count": 413,
     "metadata": {},
     "output_type": "execute_result"
    }
   ],
   "source": [
    "df2"
   ]
  },
  {
   "cell_type": "code",
   "execution_count": 383,
   "metadata": {},
   "outputs": [],
   "source": [
    "gb = df.groupby(df.columns.tolist())"
   ]
  },
  {
   "cell_type": "code",
   "execution_count": 386,
   "metadata": {},
   "outputs": [
    {
     "data": {
      "text/html": [
       "<div>\n",
       "<style scoped>\n",
       "    .dataframe tbody tr th:only-of-type {\n",
       "        vertical-align: middle;\n",
       "    }\n",
       "\n",
       "    .dataframe tbody tr th {\n",
       "        vertical-align: top;\n",
       "    }\n",
       "\n",
       "    .dataframe thead th {\n",
       "        text-align: right;\n",
       "    }\n",
       "</style>\n",
       "<table border=\"1\" class=\"dataframe\">\n",
       "  <thead>\n",
       "    <tr style=\"text-align: right;\">\n",
       "      <th></th>\n",
       "      <th>Species</th>\n",
       "      <th>Start date</th>\n",
       "      <th>End date</th>\n",
       "      <th>Protocol</th>\n",
       "      <th>Supplier</th>\n",
       "      <th>Place of birth</th>\n",
       "      <th>WT/GM</th>\n",
       "      <th>Purpose</th>\n",
       "      <th>Sub-purpose</th>\n",
       "      <th>Retrospective severity</th>\n",
       "      <th>Procedures</th>\n",
       "      <th>Anaesthesia</th>\n",
       "      <th>Fate</th>\n",
       "      <th>Comments</th>\n",
       "    </tr>\n",
       "  </thead>\n",
       "  <tbody>\n",
       "    <tr>\n",
       "      <th>0</th>\n",
       "      <td>Mouse</td>\n",
       "      <td>05/09/2020</td>\n",
       "      <td>22-Jan-2021</td>\n",
       "      <td>2</td>\n",
       "      <td>BSB</td>\n",
       "      <td>UK</td>\n",
       "      <td>GM</td>\n",
       "      <td>Scientific Research</td>\n",
       "      <td>Behaviour</td>\n",
       "      <td>Mild</td>\n",
       "      <td>'Breeding And Maintenance Of Transgenic Mice',...</td>\n",
       "      <td>Recovery</td>\n",
       "      <td>Culled Experimental</td>\n",
       "      <td>NaN</td>\n",
       "    </tr>\n",
       "    <tr>\n",
       "      <th>1</th>\n",
       "      <td>Mouse</td>\n",
       "      <td>15/04/2021</td>\n",
       "      <td>17-Aug-2021</td>\n",
       "      <td>10</td>\n",
       "      <td>BSB</td>\n",
       "      <td>UK</td>\n",
       "      <td>WT</td>\n",
       "      <td>Scientific Research</td>\n",
       "      <td>Nervous system</td>\n",
       "      <td>Moderate</td>\n",
       "      <td>'Implantation of Device', 'Water restriction',...</td>\n",
       "      <td>Recovery</td>\n",
       "      <td>Culled Experimental</td>\n",
       "      <td>NaN</td>\n",
       "    </tr>\n",
       "    <tr>\n",
       "      <th>2</th>\n",
       "      <td>Mouse</td>\n",
       "      <td>15/04/2021</td>\n",
       "      <td>03-Aug-2021</td>\n",
       "      <td>10</td>\n",
       "      <td>BSB</td>\n",
       "      <td>UK</td>\n",
       "      <td>WT</td>\n",
       "      <td>Scientific Research</td>\n",
       "      <td>Nervous system</td>\n",
       "      <td>Moderate</td>\n",
       "      <td>'Implantation of Device', 'Water restriction',...</td>\n",
       "      <td>Recovery</td>\n",
       "      <td>Culled Experimental</td>\n",
       "      <td>NaN</td>\n",
       "    </tr>\n",
       "    <tr>\n",
       "      <th>3</th>\n",
       "      <td>Mouse</td>\n",
       "      <td>15/04/2021</td>\n",
       "      <td>31-Jul-2021</td>\n",
       "      <td>10</td>\n",
       "      <td>BSB</td>\n",
       "      <td>UK</td>\n",
       "      <td>WT</td>\n",
       "      <td>Scientific Research</td>\n",
       "      <td>Nervous system</td>\n",
       "      <td>Moderate</td>\n",
       "      <td>'Implantation of Device', 'Water restriction',...</td>\n",
       "      <td>Recovery</td>\n",
       "      <td>Culled Experimental</td>\n",
       "      <td>NaN</td>\n",
       "    </tr>\n",
       "    <tr>\n",
       "      <th>4</th>\n",
       "      <td>Mouse</td>\n",
       "      <td>08/09/2020</td>\n",
       "      <td>12-Aug-2021</td>\n",
       "      <td>6</td>\n",
       "      <td>BSB</td>\n",
       "      <td>UK</td>\n",
       "      <td>WT</td>\n",
       "      <td>Scientific Research</td>\n",
       "      <td>Behaviour</td>\n",
       "      <td>Mild</td>\n",
       "      <td>'Water restriction', 'Earclip (identification)...</td>\n",
       "      <td>None</td>\n",
       "      <td>Culled Experimental</td>\n",
       "      <td>NaN</td>\n",
       "    </tr>\n",
       "    <tr>\n",
       "      <th>5</th>\n",
       "      <td>Mouse</td>\n",
       "      <td>07/09/2021</td>\n",
       "      <td>21-Sep-2021</td>\n",
       "      <td>10</td>\n",
       "      <td>BSB</td>\n",
       "      <td>UK</td>\n",
       "      <td>WT</td>\n",
       "      <td>Scientific Research</td>\n",
       "      <td>Behaviour</td>\n",
       "      <td>Mild</td>\n",
       "      <td>'Implantation of Device', 'Water restriction',...</td>\n",
       "      <td>Recovery</td>\n",
       "      <td>Culled Experimental</td>\n",
       "      <td>NaN</td>\n",
       "    </tr>\n",
       "    <tr>\n",
       "      <th>6</th>\n",
       "      <td>Mouse</td>\n",
       "      <td>22/01/2021</td>\n",
       "      <td>12-Jul-2021</td>\n",
       "      <td>2</td>\n",
       "      <td>BSB</td>\n",
       "      <td>UK</td>\n",
       "      <td>WT</td>\n",
       "      <td>Scientific Research</td>\n",
       "      <td>Behaviour</td>\n",
       "      <td>Mild</td>\n",
       "      <td>'Implantation of Device', 'Water restriction'</td>\n",
       "      <td>Recovery</td>\n",
       "      <td>Culled Experimental</td>\n",
       "      <td>NaN</td>\n",
       "    </tr>\n",
       "    <tr>\n",
       "      <th>7</th>\n",
       "      <td>Mouse</td>\n",
       "      <td>07/09/2021</td>\n",
       "      <td>22-Sep-2021</td>\n",
       "      <td>10</td>\n",
       "      <td>BSB</td>\n",
       "      <td>UK</td>\n",
       "      <td>WT</td>\n",
       "      <td>Scientific Research</td>\n",
       "      <td>Behaviour</td>\n",
       "      <td>Mild</td>\n",
       "      <td>'Implantation of Device', 'Water restriction',...</td>\n",
       "      <td>Recovery</td>\n",
       "      <td>Culled Experimental</td>\n",
       "      <td>NaN</td>\n",
       "    </tr>\n",
       "    <tr>\n",
       "      <th>8</th>\n",
       "      <td>Mouse</td>\n",
       "      <td>08/09/2020</td>\n",
       "      <td>12-Aug-2021</td>\n",
       "      <td>6</td>\n",
       "      <td>BSB</td>\n",
       "      <td>UK</td>\n",
       "      <td>WT</td>\n",
       "      <td>Scientific Research</td>\n",
       "      <td>Behaviour</td>\n",
       "      <td>Mild</td>\n",
       "      <td>'Water restriction', 'Earclip (identification)...</td>\n",
       "      <td>None</td>\n",
       "      <td>Culled Experimental</td>\n",
       "      <td>NaN</td>\n",
       "    </tr>\n",
       "    <tr>\n",
       "      <th>9</th>\n",
       "      <td>Mouse</td>\n",
       "      <td>08/09/2020</td>\n",
       "      <td>15-May-2021</td>\n",
       "      <td>6</td>\n",
       "      <td>BSB</td>\n",
       "      <td>UK</td>\n",
       "      <td>WT</td>\n",
       "      <td>Scientific Research</td>\n",
       "      <td>Behaviour</td>\n",
       "      <td>Mild</td>\n",
       "      <td>'Water restriction', 'Earclip (identification)...</td>\n",
       "      <td>None</td>\n",
       "      <td>Culled Experimental</td>\n",
       "      <td>NaN</td>\n",
       "    </tr>\n",
       "    <tr>\n",
       "      <th>10</th>\n",
       "      <td>Mouse</td>\n",
       "      <td>15/04/2021</td>\n",
       "      <td>18-Aug-2021</td>\n",
       "      <td>10</td>\n",
       "      <td>BSB</td>\n",
       "      <td>UK</td>\n",
       "      <td>WT</td>\n",
       "      <td>Scientific Research</td>\n",
       "      <td>Behaviour</td>\n",
       "      <td>Mild</td>\n",
       "      <td>'Implantation of Device', 'Water restriction'</td>\n",
       "      <td>Recovery</td>\n",
       "      <td>Culled Experimental</td>\n",
       "      <td>NaN</td>\n",
       "    </tr>\n",
       "    <tr>\n",
       "      <th>11</th>\n",
       "      <td>Mouse</td>\n",
       "      <td>15/04/2021</td>\n",
       "      <td>05-Aug-2021</td>\n",
       "      <td>10</td>\n",
       "      <td>BSB</td>\n",
       "      <td>UK</td>\n",
       "      <td>WT</td>\n",
       "      <td>Scientific Research</td>\n",
       "      <td>Nervous system</td>\n",
       "      <td>Moderate</td>\n",
       "      <td>'Implantation of Device', 'Water restriction',...</td>\n",
       "      <td>Recovery</td>\n",
       "      <td>Culled Experimental</td>\n",
       "      <td>NaN</td>\n",
       "    </tr>\n",
       "    <tr>\n",
       "      <th>12</th>\n",
       "      <td>Mouse</td>\n",
       "      <td>08/09/2020</td>\n",
       "      <td>15-May-2021</td>\n",
       "      <td>6</td>\n",
       "      <td>BSB</td>\n",
       "      <td>UK</td>\n",
       "      <td>WT</td>\n",
       "      <td>Scientific Research</td>\n",
       "      <td>Behaviour</td>\n",
       "      <td>Mild</td>\n",
       "      <td>'Water restriction', 'Earclip (identification)...</td>\n",
       "      <td>None</td>\n",
       "      <td>Culled Experimental</td>\n",
       "      <td>NaN</td>\n",
       "    </tr>\n",
       "    <tr>\n",
       "      <th>13</th>\n",
       "      <td>Mouse</td>\n",
       "      <td>15/04/2021</td>\n",
       "      <td>18-Aug-2021</td>\n",
       "      <td>10</td>\n",
       "      <td>BSB</td>\n",
       "      <td>UK</td>\n",
       "      <td>WT</td>\n",
       "      <td>Scientific Research</td>\n",
       "      <td>Behaviour</td>\n",
       "      <td>Mild</td>\n",
       "      <td>'Implantation of Device', 'Water restriction'</td>\n",
       "      <td>Recovery</td>\n",
       "      <td>Culled Experimental</td>\n",
       "      <td>NaN</td>\n",
       "    </tr>\n",
       "    <tr>\n",
       "      <th>14</th>\n",
       "      <td>Mouse</td>\n",
       "      <td>08/09/2020</td>\n",
       "      <td>01-Jun-2021</td>\n",
       "      <td>6</td>\n",
       "      <td>BSB</td>\n",
       "      <td>UK</td>\n",
       "      <td>WT</td>\n",
       "      <td>Scientific Research</td>\n",
       "      <td>Behaviour</td>\n",
       "      <td>Mild</td>\n",
       "      <td>'Water restriction', 'Earclip (identification)...</td>\n",
       "      <td>None</td>\n",
       "      <td>Culled Experimental</td>\n",
       "      <td>NaN</td>\n",
       "    </tr>\n",
       "    <tr>\n",
       "      <th>15</th>\n",
       "      <td>Mouse</td>\n",
       "      <td>08/09/2020</td>\n",
       "      <td>08-Apr-2021</td>\n",
       "      <td>10</td>\n",
       "      <td>BSB</td>\n",
       "      <td>UK</td>\n",
       "      <td>WT</td>\n",
       "      <td>Scientific Research</td>\n",
       "      <td>Nervous system</td>\n",
       "      <td>Moderate</td>\n",
       "      <td>'Water restriction', 'Earclip (identification)...</td>\n",
       "      <td>Recovery</td>\n",
       "      <td>Culled Experimental</td>\n",
       "      <td>NaN</td>\n",
       "    </tr>\n",
       "    <tr>\n",
       "      <th>16</th>\n",
       "      <td>Mouse</td>\n",
       "      <td>08/09/2020</td>\n",
       "      <td>03-May-2021</td>\n",
       "      <td>6</td>\n",
       "      <td>BSB</td>\n",
       "      <td>UK</td>\n",
       "      <td>WT</td>\n",
       "      <td>Scientific Research</td>\n",
       "      <td>Behaviour</td>\n",
       "      <td>Mild</td>\n",
       "      <td>'Water restriction', 'Earclip (identification)...</td>\n",
       "      <td>None</td>\n",
       "      <td>Culled Experimental</td>\n",
       "      <td>NaN</td>\n",
       "    </tr>\n",
       "    <tr>\n",
       "      <th>17</th>\n",
       "      <td>Mouse</td>\n",
       "      <td>22/01/2021</td>\n",
       "      <td>12-Jul-2021</td>\n",
       "      <td>2</td>\n",
       "      <td>BSB</td>\n",
       "      <td>UK</td>\n",
       "      <td>WT</td>\n",
       "      <td>Scientific Research</td>\n",
       "      <td>Behaviour</td>\n",
       "      <td>Mild</td>\n",
       "      <td>'Implantation of Device', 'Water restriction'</td>\n",
       "      <td>Recovery</td>\n",
       "      <td>Culled Experimental</td>\n",
       "      <td>NaN</td>\n",
       "    </tr>\n",
       "    <tr>\n",
       "      <th>18</th>\n",
       "      <td>Mouse</td>\n",
       "      <td>08/09/2020</td>\n",
       "      <td>08-May-2021</td>\n",
       "      <td>6</td>\n",
       "      <td>BSB</td>\n",
       "      <td>UK</td>\n",
       "      <td>WT</td>\n",
       "      <td>Scientific Research</td>\n",
       "      <td>Behaviour</td>\n",
       "      <td>Mild</td>\n",
       "      <td>'Water restriction', 'Earclip (identification)...</td>\n",
       "      <td>None</td>\n",
       "      <td>Culled Experimental</td>\n",
       "      <td>NaN</td>\n",
       "    </tr>\n",
       "    <tr>\n",
       "      <th>19</th>\n",
       "      <td>Mouse</td>\n",
       "      <td>15/04/2021</td>\n",
       "      <td>24-Jun-2021</td>\n",
       "      <td>10</td>\n",
       "      <td>BSB</td>\n",
       "      <td>UK</td>\n",
       "      <td>WT</td>\n",
       "      <td>Scientific Research</td>\n",
       "      <td>Nervous system</td>\n",
       "      <td>Severe</td>\n",
       "      <td>'Implantation of Device', 'Water restriction',...</td>\n",
       "      <td>Recovery</td>\n",
       "      <td>Culled Sick</td>\n",
       "      <td>NaN</td>\n",
       "    </tr>\n",
       "    <tr>\n",
       "      <th>20</th>\n",
       "      <td>Mouse</td>\n",
       "      <td>15/04/2021</td>\n",
       "      <td>17-Aug-2021</td>\n",
       "      <td>10</td>\n",
       "      <td>BSB</td>\n",
       "      <td>UK</td>\n",
       "      <td>WT</td>\n",
       "      <td>Scientific Research</td>\n",
       "      <td>Nervous system</td>\n",
       "      <td>Moderate</td>\n",
       "      <td>'Implantation of Device', 'Water restriction',...</td>\n",
       "      <td>Recovery</td>\n",
       "      <td>Culled Experimental</td>\n",
       "      <td>NaN</td>\n",
       "    </tr>\n",
       "    <tr>\n",
       "      <th>21</th>\n",
       "      <td>Mouse</td>\n",
       "      <td>08/09/2020</td>\n",
       "      <td>07-May-2021</td>\n",
       "      <td>6</td>\n",
       "      <td>BSB</td>\n",
       "      <td>UK</td>\n",
       "      <td>WT</td>\n",
       "      <td>Scientific Research</td>\n",
       "      <td>Behaviour</td>\n",
       "      <td>Mild</td>\n",
       "      <td>'Water restriction', 'Earclip (identification)...</td>\n",
       "      <td>None</td>\n",
       "      <td>Culled Experimental</td>\n",
       "      <td>NaN</td>\n",
       "    </tr>\n",
       "    <tr>\n",
       "      <th>22</th>\n",
       "      <td>Mouse</td>\n",
       "      <td>07/09/2021</td>\n",
       "      <td>15-Sep-2021</td>\n",
       "      <td>10</td>\n",
       "      <td>BSB</td>\n",
       "      <td>UK</td>\n",
       "      <td>WT</td>\n",
       "      <td>Scientific Research</td>\n",
       "      <td>Behaviour</td>\n",
       "      <td>Mild</td>\n",
       "      <td>'Implantation of Device', 'Water restriction',...</td>\n",
       "      <td>Recovery</td>\n",
       "      <td>Culled Experimental</td>\n",
       "      <td>NaN</td>\n",
       "    </tr>\n",
       "    <tr>\n",
       "      <th>23</th>\n",
       "      <td>Mouse</td>\n",
       "      <td>08/09/2020</td>\n",
       "      <td>15-May-2021</td>\n",
       "      <td>6</td>\n",
       "      <td>BSB</td>\n",
       "      <td>UK</td>\n",
       "      <td>WT</td>\n",
       "      <td>Scientific Research</td>\n",
       "      <td>Behaviour</td>\n",
       "      <td>Mild</td>\n",
       "      <td>'Water restriction', 'Earclip (identification)...</td>\n",
       "      <td>None</td>\n",
       "      <td>Culled Experimental</td>\n",
       "      <td>NaN</td>\n",
       "    </tr>\n",
       "    <tr>\n",
       "      <th>24</th>\n",
       "      <td>Mouse</td>\n",
       "      <td>08/09/2020</td>\n",
       "      <td>12-May-2021</td>\n",
       "      <td>6</td>\n",
       "      <td>BSB</td>\n",
       "      <td>UK</td>\n",
       "      <td>WT</td>\n",
       "      <td>Scientific Research</td>\n",
       "      <td>Nervous system</td>\n",
       "      <td>Moderate</td>\n",
       "      <td>'Water restriction', 'Earclip (identification)...</td>\n",
       "      <td>Recovery</td>\n",
       "      <td>Culled Experimental</td>\n",
       "      <td>NaN</td>\n",
       "    </tr>\n",
       "    <tr>\n",
       "      <th>25</th>\n",
       "      <td>Mouse</td>\n",
       "      <td>15/04/2021</td>\n",
       "      <td>18-Aug-2021</td>\n",
       "      <td>10</td>\n",
       "      <td>BSB</td>\n",
       "      <td>UK</td>\n",
       "      <td>WT</td>\n",
       "      <td>Scientific Research</td>\n",
       "      <td>Behaviour</td>\n",
       "      <td>Mild</td>\n",
       "      <td>'Implantation of Device', 'Implantation of Dev...</td>\n",
       "      <td>Recovery</td>\n",
       "      <td>Culled Experimental</td>\n",
       "      <td>NaN</td>\n",
       "    </tr>\n",
       "    <tr>\n",
       "      <th>26</th>\n",
       "      <td>Mouse</td>\n",
       "      <td>08/09/2020</td>\n",
       "      <td>15-May-2021</td>\n",
       "      <td>6</td>\n",
       "      <td>BSB</td>\n",
       "      <td>UK</td>\n",
       "      <td>WT</td>\n",
       "      <td>Scientific Research</td>\n",
       "      <td>Behaviour</td>\n",
       "      <td>Mild</td>\n",
       "      <td>'Water restriction', 'Earclip (identification)...</td>\n",
       "      <td>None</td>\n",
       "      <td>Culled Experimental</td>\n",
       "      <td>NaN</td>\n",
       "    </tr>\n",
       "    <tr>\n",
       "      <th>27</th>\n",
       "      <td>Mouse</td>\n",
       "      <td>08/09/2020</td>\n",
       "      <td>05-May-2021</td>\n",
       "      <td>6</td>\n",
       "      <td>BSB</td>\n",
       "      <td>UK</td>\n",
       "      <td>WT</td>\n",
       "      <td>Scientific Research</td>\n",
       "      <td>Behaviour</td>\n",
       "      <td>Mild</td>\n",
       "      <td>'Water restriction', 'Earclip (identification)...</td>\n",
       "      <td>None</td>\n",
       "      <td>Culled Experimental</td>\n",
       "      <td>NaN</td>\n",
       "    </tr>\n",
       "    <tr>\n",
       "      <th>28</th>\n",
       "      <td>Mouse</td>\n",
       "      <td>08/09/2020</td>\n",
       "      <td>12-Aug-2021</td>\n",
       "      <td>6</td>\n",
       "      <td>BSB</td>\n",
       "      <td>UK</td>\n",
       "      <td>WT</td>\n",
       "      <td>Scientific Research</td>\n",
       "      <td>Behaviour</td>\n",
       "      <td>Mild</td>\n",
       "      <td>'Water restriction', 'Earclip (identification)...</td>\n",
       "      <td>None</td>\n",
       "      <td>Culled Experimental</td>\n",
       "      <td>NaN</td>\n",
       "    </tr>\n",
       "    <tr>\n",
       "      <th>29</th>\n",
       "      <td>Mouse</td>\n",
       "      <td>15/04/2021</td>\n",
       "      <td>05-May-2021</td>\n",
       "      <td>10</td>\n",
       "      <td>BSB</td>\n",
       "      <td>UK</td>\n",
       "      <td>WT</td>\n",
       "      <td>Scientific Research</td>\n",
       "      <td>Behaviour</td>\n",
       "      <td>Mild</td>\n",
       "      <td>'Implantation of Device', 'Water restriction'</td>\n",
       "      <td>Recovery</td>\n",
       "      <td>Culled Experimental</td>\n",
       "      <td>NaN</td>\n",
       "    </tr>\n",
       "    <tr>\n",
       "      <th>30</th>\n",
       "      <td>Mouse</td>\n",
       "      <td>08/09/2020</td>\n",
       "      <td>01-Jun-2021</td>\n",
       "      <td>6</td>\n",
       "      <td>BSB</td>\n",
       "      <td>UK</td>\n",
       "      <td>WT</td>\n",
       "      <td>Scientific Research</td>\n",
       "      <td>Behaviour</td>\n",
       "      <td>Mild</td>\n",
       "      <td>'Water restriction', 'Earclip (identification)...</td>\n",
       "      <td>None</td>\n",
       "      <td>Culled Experimental</td>\n",
       "      <td>NaN</td>\n",
       "    </tr>\n",
       "    <tr>\n",
       "      <th>31</th>\n",
       "      <td>Mouse</td>\n",
       "      <td>15/04/2021</td>\n",
       "      <td>18-Aug-2021</td>\n",
       "      <td>10</td>\n",
       "      <td>BSB</td>\n",
       "      <td>UK</td>\n",
       "      <td>WT</td>\n",
       "      <td>Scientific Research</td>\n",
       "      <td>Behaviour</td>\n",
       "      <td>Mild</td>\n",
       "      <td>'Implantation of Device', 'Water restriction'</td>\n",
       "      <td>Recovery</td>\n",
       "      <td>Culled Experimental</td>\n",
       "      <td>NaN</td>\n",
       "    </tr>\n",
       "    <tr>\n",
       "      <th>32</th>\n",
       "      <td>Mouse</td>\n",
       "      <td>08/09/2020</td>\n",
       "      <td>07-May-2021</td>\n",
       "      <td>6</td>\n",
       "      <td>BSB</td>\n",
       "      <td>UK</td>\n",
       "      <td>WT</td>\n",
       "      <td>Scientific Research</td>\n",
       "      <td>Behaviour</td>\n",
       "      <td>Mild</td>\n",
       "      <td>'Water restriction', 'Earclip (identification)...</td>\n",
       "      <td>None</td>\n",
       "      <td>Culled Experimental</td>\n",
       "      <td>NaN</td>\n",
       "    </tr>\n",
       "    <tr>\n",
       "      <th>33</th>\n",
       "      <td>Mouse</td>\n",
       "      <td>08/09/2020</td>\n",
       "      <td>08-May-2021</td>\n",
       "      <td>6</td>\n",
       "      <td>BSB</td>\n",
       "      <td>UK</td>\n",
       "      <td>WT</td>\n",
       "      <td>Scientific Research</td>\n",
       "      <td>Behaviour</td>\n",
       "      <td>Mild</td>\n",
       "      <td>'Water restriction', 'Earclip (identification)...</td>\n",
       "      <td>None</td>\n",
       "      <td>Culled Experimental</td>\n",
       "      <td>NaN</td>\n",
       "    </tr>\n",
       "    <tr>\n",
       "      <th>34</th>\n",
       "      <td>Mouse</td>\n",
       "      <td>22/01/2021</td>\n",
       "      <td>03-Jun-2021</td>\n",
       "      <td>2</td>\n",
       "      <td>BSB</td>\n",
       "      <td>UK</td>\n",
       "      <td>WT</td>\n",
       "      <td>Scientific Research</td>\n",
       "      <td>Behaviour</td>\n",
       "      <td>Mild</td>\n",
       "      <td>'Implantation of Device', 'Water restriction'</td>\n",
       "      <td>Recovery</td>\n",
       "      <td>Culled Experimental</td>\n",
       "      <td>NaN</td>\n",
       "    </tr>\n",
       "    <tr>\n",
       "      <th>35</th>\n",
       "      <td>Mouse</td>\n",
       "      <td>07/09/2021</td>\n",
       "      <td>22-Sep-2021</td>\n",
       "      <td>10</td>\n",
       "      <td>BSB</td>\n",
       "      <td>UK</td>\n",
       "      <td>WT</td>\n",
       "      <td>Scientific Research</td>\n",
       "      <td>Behaviour</td>\n",
       "      <td>Mild</td>\n",
       "      <td>'Implantation of Device', 'Water restriction',...</td>\n",
       "      <td>Recovery</td>\n",
       "      <td>Culled Experimental</td>\n",
       "      <td>NaN</td>\n",
       "    </tr>\n",
       "    <tr>\n",
       "      <th>36</th>\n",
       "      <td>Mouse</td>\n",
       "      <td>22/01/2021</td>\n",
       "      <td>03-Jun-2021</td>\n",
       "      <td>2</td>\n",
       "      <td>BSB</td>\n",
       "      <td>UK</td>\n",
       "      <td>WT</td>\n",
       "      <td>Scientific Research</td>\n",
       "      <td>Behaviour</td>\n",
       "      <td>Mild</td>\n",
       "      <td>'Implantation of Device', 'Water restriction'</td>\n",
       "      <td>Recovery</td>\n",
       "      <td>Culled Experimental</td>\n",
       "      <td>NaN</td>\n",
       "    </tr>\n",
       "    <tr>\n",
       "      <th>37</th>\n",
       "      <td>Mouse</td>\n",
       "      <td>08/09/2020</td>\n",
       "      <td>08-May-2021</td>\n",
       "      <td>6</td>\n",
       "      <td>BSB</td>\n",
       "      <td>UK</td>\n",
       "      <td>WT</td>\n",
       "      <td>Scientific Research</td>\n",
       "      <td>Behaviour</td>\n",
       "      <td>Mild</td>\n",
       "      <td>'Water restriction', 'Earclip (identification)...</td>\n",
       "      <td>None</td>\n",
       "      <td>Culled Experimental</td>\n",
       "      <td>NaN</td>\n",
       "    </tr>\n",
       "    <tr>\n",
       "      <th>38</th>\n",
       "      <td>Mouse</td>\n",
       "      <td>08/04/2021</td>\n",
       "      <td>22-Sep-2021</td>\n",
       "      <td>10</td>\n",
       "      <td>BSB</td>\n",
       "      <td>UK</td>\n",
       "      <td>WT</td>\n",
       "      <td>Scientific Research</td>\n",
       "      <td>Nervous system</td>\n",
       "      <td>Moderate</td>\n",
       "      <td>'Water restriction', 'Behavioural testing', 'E...</td>\n",
       "      <td>Recovery</td>\n",
       "      <td>Culled Experimental</td>\n",
       "      <td>NaN</td>\n",
       "    </tr>\n",
       "  </tbody>\n",
       "</table>\n",
       "</div>"
      ],
      "text/plain": [
       "   Species  Start date     End date  Protocol Supplier Place of birth WT/GM  \\\n",
       "0    Mouse  05/09/2020  22-Jan-2021         2      BSB             UK    GM   \n",
       "1    Mouse  15/04/2021  17-Aug-2021        10      BSB             UK    WT   \n",
       "2    Mouse  15/04/2021  03-Aug-2021        10      BSB             UK    WT   \n",
       "3    Mouse  15/04/2021  31-Jul-2021        10      BSB             UK    WT   \n",
       "4    Mouse  08/09/2020  12-Aug-2021         6      BSB             UK    WT   \n",
       "5    Mouse  07/09/2021  21-Sep-2021        10      BSB             UK    WT   \n",
       "6    Mouse  22/01/2021  12-Jul-2021         2      BSB             UK    WT   \n",
       "7    Mouse  07/09/2021  22-Sep-2021        10      BSB             UK    WT   \n",
       "8    Mouse  08/09/2020  12-Aug-2021         6      BSB             UK    WT   \n",
       "9    Mouse  08/09/2020  15-May-2021         6      BSB             UK    WT   \n",
       "10   Mouse  15/04/2021  18-Aug-2021        10      BSB             UK    WT   \n",
       "11   Mouse  15/04/2021  05-Aug-2021        10      BSB             UK    WT   \n",
       "12   Mouse  08/09/2020  15-May-2021         6      BSB             UK    WT   \n",
       "13   Mouse  15/04/2021  18-Aug-2021        10      BSB             UK    WT   \n",
       "14   Mouse  08/09/2020  01-Jun-2021         6      BSB             UK    WT   \n",
       "15   Mouse  08/09/2020  08-Apr-2021        10      BSB             UK    WT   \n",
       "16   Mouse  08/09/2020  03-May-2021         6      BSB             UK    WT   \n",
       "17   Mouse  22/01/2021  12-Jul-2021         2      BSB             UK    WT   \n",
       "18   Mouse  08/09/2020  08-May-2021         6      BSB             UK    WT   \n",
       "19   Mouse  15/04/2021  24-Jun-2021        10      BSB             UK    WT   \n",
       "20   Mouse  15/04/2021  17-Aug-2021        10      BSB             UK    WT   \n",
       "21   Mouse  08/09/2020  07-May-2021         6      BSB             UK    WT   \n",
       "22   Mouse  07/09/2021  15-Sep-2021        10      BSB             UK    WT   \n",
       "23   Mouse  08/09/2020  15-May-2021         6      BSB             UK    WT   \n",
       "24   Mouse  08/09/2020  12-May-2021         6      BSB             UK    WT   \n",
       "25   Mouse  15/04/2021  18-Aug-2021        10      BSB             UK    WT   \n",
       "26   Mouse  08/09/2020  15-May-2021         6      BSB             UK    WT   \n",
       "27   Mouse  08/09/2020  05-May-2021         6      BSB             UK    WT   \n",
       "28   Mouse  08/09/2020  12-Aug-2021         6      BSB             UK    WT   \n",
       "29   Mouse  15/04/2021  05-May-2021        10      BSB             UK    WT   \n",
       "30   Mouse  08/09/2020  01-Jun-2021         6      BSB             UK    WT   \n",
       "31   Mouse  15/04/2021  18-Aug-2021        10      BSB             UK    WT   \n",
       "32   Mouse  08/09/2020  07-May-2021         6      BSB             UK    WT   \n",
       "33   Mouse  08/09/2020  08-May-2021         6      BSB             UK    WT   \n",
       "34   Mouse  22/01/2021  03-Jun-2021         2      BSB             UK    WT   \n",
       "35   Mouse  07/09/2021  22-Sep-2021        10      BSB             UK    WT   \n",
       "36   Mouse  22/01/2021  03-Jun-2021         2      BSB             UK    WT   \n",
       "37   Mouse  08/09/2020  08-May-2021         6      BSB             UK    WT   \n",
       "38   Mouse  08/04/2021  22-Sep-2021        10      BSB             UK    WT   \n",
       "\n",
       "                Purpose     Sub-purpose Retrospective severity  \\\n",
       "0   Scientific Research       Behaviour                   Mild   \n",
       "1   Scientific Research  Nervous system               Moderate   \n",
       "2   Scientific Research  Nervous system               Moderate   \n",
       "3   Scientific Research  Nervous system               Moderate   \n",
       "4   Scientific Research       Behaviour                   Mild   \n",
       "5   Scientific Research       Behaviour                   Mild   \n",
       "6   Scientific Research       Behaviour                   Mild   \n",
       "7   Scientific Research       Behaviour                   Mild   \n",
       "8   Scientific Research       Behaviour                   Mild   \n",
       "9   Scientific Research       Behaviour                   Mild   \n",
       "10  Scientific Research       Behaviour                   Mild   \n",
       "11  Scientific Research  Nervous system               Moderate   \n",
       "12  Scientific Research       Behaviour                   Mild   \n",
       "13  Scientific Research       Behaviour                   Mild   \n",
       "14  Scientific Research       Behaviour                   Mild   \n",
       "15  Scientific Research  Nervous system               Moderate   \n",
       "16  Scientific Research       Behaviour                   Mild   \n",
       "17  Scientific Research       Behaviour                   Mild   \n",
       "18  Scientific Research       Behaviour                   Mild   \n",
       "19  Scientific Research  Nervous system                 Severe   \n",
       "20  Scientific Research  Nervous system               Moderate   \n",
       "21  Scientific Research       Behaviour                   Mild   \n",
       "22  Scientific Research       Behaviour                   Mild   \n",
       "23  Scientific Research       Behaviour                   Mild   \n",
       "24  Scientific Research  Nervous system               Moderate   \n",
       "25  Scientific Research       Behaviour                   Mild   \n",
       "26  Scientific Research       Behaviour                   Mild   \n",
       "27  Scientific Research       Behaviour                   Mild   \n",
       "28  Scientific Research       Behaviour                   Mild   \n",
       "29  Scientific Research       Behaviour                   Mild   \n",
       "30  Scientific Research       Behaviour                   Mild   \n",
       "31  Scientific Research       Behaviour                   Mild   \n",
       "32  Scientific Research       Behaviour                   Mild   \n",
       "33  Scientific Research       Behaviour                   Mild   \n",
       "34  Scientific Research       Behaviour                   Mild   \n",
       "35  Scientific Research       Behaviour                   Mild   \n",
       "36  Scientific Research       Behaviour                   Mild   \n",
       "37  Scientific Research       Behaviour                   Mild   \n",
       "38  Scientific Research  Nervous system               Moderate   \n",
       "\n",
       "                                           Procedures Anaesthesia  \\\n",
       "0   'Breeding And Maintenance Of Transgenic Mice',...    Recovery   \n",
       "1   'Implantation of Device', 'Water restriction',...    Recovery   \n",
       "2   'Implantation of Device', 'Water restriction',...    Recovery   \n",
       "3   'Implantation of Device', 'Water restriction',...    Recovery   \n",
       "4   'Water restriction', 'Earclip (identification)...        None   \n",
       "5   'Implantation of Device', 'Water restriction',...    Recovery   \n",
       "6       'Implantation of Device', 'Water restriction'    Recovery   \n",
       "7   'Implantation of Device', 'Water restriction',...    Recovery   \n",
       "8   'Water restriction', 'Earclip (identification)...        None   \n",
       "9   'Water restriction', 'Earclip (identification)...        None   \n",
       "10      'Implantation of Device', 'Water restriction'    Recovery   \n",
       "11  'Implantation of Device', 'Water restriction',...    Recovery   \n",
       "12  'Water restriction', 'Earclip (identification)...        None   \n",
       "13      'Implantation of Device', 'Water restriction'    Recovery   \n",
       "14  'Water restriction', 'Earclip (identification)...        None   \n",
       "15  'Water restriction', 'Earclip (identification)...    Recovery   \n",
       "16  'Water restriction', 'Earclip (identification)...        None   \n",
       "17      'Implantation of Device', 'Water restriction'    Recovery   \n",
       "18  'Water restriction', 'Earclip (identification)...        None   \n",
       "19  'Implantation of Device', 'Water restriction',...    Recovery   \n",
       "20  'Implantation of Device', 'Water restriction',...    Recovery   \n",
       "21  'Water restriction', 'Earclip (identification)...        None   \n",
       "22  'Implantation of Device', 'Water restriction',...    Recovery   \n",
       "23  'Water restriction', 'Earclip (identification)...        None   \n",
       "24  'Water restriction', 'Earclip (identification)...    Recovery   \n",
       "25  'Implantation of Device', 'Implantation of Dev...    Recovery   \n",
       "26  'Water restriction', 'Earclip (identification)...        None   \n",
       "27  'Water restriction', 'Earclip (identification)...        None   \n",
       "28  'Water restriction', 'Earclip (identification)...        None   \n",
       "29      'Implantation of Device', 'Water restriction'    Recovery   \n",
       "30  'Water restriction', 'Earclip (identification)...        None   \n",
       "31      'Implantation of Device', 'Water restriction'    Recovery   \n",
       "32  'Water restriction', 'Earclip (identification)...        None   \n",
       "33  'Water restriction', 'Earclip (identification)...        None   \n",
       "34      'Implantation of Device', 'Water restriction'    Recovery   \n",
       "35  'Implantation of Device', 'Water restriction',...    Recovery   \n",
       "36      'Implantation of Device', 'Water restriction'    Recovery   \n",
       "37  'Water restriction', 'Earclip (identification)...        None   \n",
       "38  'Water restriction', 'Behavioural testing', 'E...    Recovery   \n",
       "\n",
       "                   Fate  Comments  \n",
       "0   Culled Experimental       NaN  \n",
       "1   Culled Experimental       NaN  \n",
       "2   Culled Experimental       NaN  \n",
       "3   Culled Experimental       NaN  \n",
       "4   Culled Experimental       NaN  \n",
       "5   Culled Experimental       NaN  \n",
       "6   Culled Experimental       NaN  \n",
       "7   Culled Experimental       NaN  \n",
       "8   Culled Experimental       NaN  \n",
       "9   Culled Experimental       NaN  \n",
       "10  Culled Experimental       NaN  \n",
       "11  Culled Experimental       NaN  \n",
       "12  Culled Experimental       NaN  \n",
       "13  Culled Experimental       NaN  \n",
       "14  Culled Experimental       NaN  \n",
       "15  Culled Experimental       NaN  \n",
       "16  Culled Experimental       NaN  \n",
       "17  Culled Experimental       NaN  \n",
       "18  Culled Experimental       NaN  \n",
       "19          Culled Sick       NaN  \n",
       "20  Culled Experimental       NaN  \n",
       "21  Culled Experimental       NaN  \n",
       "22  Culled Experimental       NaN  \n",
       "23  Culled Experimental       NaN  \n",
       "24  Culled Experimental       NaN  \n",
       "25  Culled Experimental       NaN  \n",
       "26  Culled Experimental       NaN  \n",
       "27  Culled Experimental       NaN  \n",
       "28  Culled Experimental       NaN  \n",
       "29  Culled Experimental       NaN  \n",
       "30  Culled Experimental       NaN  \n",
       "31  Culled Experimental       NaN  \n",
       "32  Culled Experimental       NaN  \n",
       "33  Culled Experimental       NaN  \n",
       "34  Culled Experimental       NaN  \n",
       "35  Culled Experimental       NaN  \n",
       "36  Culled Experimental       NaN  \n",
       "37  Culled Experimental       NaN  \n",
       "38  Culled Experimental       NaN  "
      ]
     },
     "execution_count": 386,
     "metadata": {},
     "output_type": "execute_result"
    }
   ],
   "source": [
    "df"
   ]
  },
  {
   "cell_type": "code",
   "execution_count": null,
   "metadata": {},
   "outputs": [],
   "source": []
  }
 ],
 "metadata": {
  "kernelspec": {
   "display_name": "Python 3",
   "language": "python",
   "name": "python3"
  },
  "language_info": {
   "codemirror_mode": {
    "name": "ipython",
    "version": 3
   },
   "file_extension": ".py",
   "mimetype": "text/x-python",
   "name": "python",
   "nbconvert_exporter": "python",
   "pygments_lexer": "ipython3",
   "version": "3.7.4"
  }
 },
 "nbformat": 4,
 "nbformat_minor": 4
}
