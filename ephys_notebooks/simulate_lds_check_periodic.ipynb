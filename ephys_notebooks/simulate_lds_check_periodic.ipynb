{
 "cells": [
  {
   "cell_type": "markdown",
   "metadata": {},
   "source": [
    "# Plan\n",
    "\n",
    "\n",
    "\n",
    "Generate some low dimensional dynamics\n",
    "Then add space on top of that\n",
    "\n",
    "\n"
   ]
  },
  {
   "cell_type": "code",
   "execution_count": 1879,
   "metadata": {},
   "outputs": [],
   "source": [
    "%matplotlib inline\n",
    "\n",
    "import numpy as np\n",
    "import matplotlib.pyplot as plt\n",
    "import seaborn\n",
    "import scipy.optimize as op\n",
    "import sys\n",
    "import scipy as sp\n",
    "import numba\n",
    "from functools import partial\n",
    "from mpl_toolkits import mplot3d\n",
    "from sympy import Matrix\n",
    "seaborn.set(font_scale=1.5,style='ticks')"
   ]
  },
  {
   "cell_type": "code",
   "execution_count": 1880,
   "metadata": {},
   "outputs": [],
   "source": [
    "poke_pos = np.array([1,-1])*np.array([ [149,0],\n",
    "                                 [68,19],[231,19],\n",
    "                               [0,62],[149,62],[298,62],\n",
    "                                 [68,105],[231,105],\n",
    "                                      [149,124]])"
   ]
  },
  {
   "cell_type": "markdown",
   "metadata": {},
   "source": [
    "# Run with jax"
   ]
  },
  {
   "cell_type": "code",
   "execution_count": 1881,
   "metadata": {},
   "outputs": [],
   "source": [
    "dim = 4\n",
    "nT = 9\n",
    "x0 = np.random.normal(size=(dim,1))\n",
    "A_ = np.random.normal(size=(dim,dim))\n",
    "\n",
    "A = np.zeros([dim,dim])\n",
    "\n",
    "for i in range(dim):\n",
    "    A[i,i:] = A_[i:,i]\n",
    "    A[i:,i] = -A_[i:,i]\n",
    "    \n",
    "A[np.diag_indices_from(A)] = 0\n",
    "A = (np.eye(dim)-A)@np.linalg.inv(np.eye(dim)+A)\n",
    "\n",
    "x = np.array([np.linalg.matrix_power(A,i)@x0 for i in range(9)])"
   ]
  },
  {
   "cell_type": "code",
   "execution_count": 1882,
   "metadata": {},
   "outputs": [],
   "source": [
    "Ahat = np.random.normal(size=(dim,dim))\n"
   ]
  },
  {
   "cell_type": "code",
   "execution_count": 1883,
   "metadata": {},
   "outputs": [],
   "source": [
    "import jax.numpy as jnp\n",
    "from jax import grad, jit, vmap\n",
    "from jax import random\n"
   ]
  },
  {
   "cell_type": "code",
   "execution_count": 1884,
   "metadata": {},
   "outputs": [],
   "source": [
    "def get_basis_tensor(dim):\n",
    "    \"\"\" Returns a tensor that forms a basis for skew symmetric matrices.\n",
    "        Use np.einsum('i...,i...',params,basis_tensor) to construct this\n",
    "        matrix\n",
    "    \"\"\"\n",
    "    basis_tensor = []\n",
    "    for i in range(dim):\n",
    "        for j in range(i+1,dim):\n",
    "            bi =  np.zeros([dim,dim])\n",
    "            bi[i,j] = -1\n",
    "            bi = bi -bi.T\n",
    "            basis_tensor.append(bi.T)\n",
    "    basis_tensor = np.array(basis_tensor)\n",
    "    return np.asarray(basis_tensor)\n"
   ]
  },
  {
   "cell_type": "code",
   "execution_count": 1885,
   "metadata": {},
   "outputs": [],
   "source": [
    "def construct_M(skewM,dim):\n",
    "    \"\"\" Perform Caley transform\"\"\"\n",
    "    return (jnp.eye(dim) - skewM)@jnp.linalg.inv(jnp.eye(dim)+skewM)"
   ]
  },
  {
   "cell_type": "code",
   "execution_count": 1886,
   "metadata": {},
   "outputs": [],
   "source": [
    "def predict(T,x,y,n,dim):\n",
    "    transition_matrix = jnp.reshape(T,(dim,dim))\n",
    "    return jnp.sum((jnp.dot(jnp.linalg.matrix_power(transition_matrix,n),x)-y)**2)\n",
    "\n",
    "\n",
    "#predict_funs = [partial(predict,n=i,dim=dim) for i in range(9)]\n",
    "#grad_predict_funs = [grad(i) for i in predict_funs]"
   ]
  },
  {
   "cell_type": "code",
   "execution_count": 1887,
   "metadata": {},
   "outputs": [],
   "source": [
    "def predict_all(params,x,dim,basis_tensor):\n",
    "\n",
    "    err = 0\n",
    "    nT = len(x)\n",
    "    k = 0\n",
    "    skewM = jnp.einsum('i...,i...',params,basis_tensor)\n",
    "    M = construct_M(skewM,dim)\n",
    "    #print(M.shape)\n",
    "    for start_state in range(nT):\n",
    "        for pred_state in range(start_state+1,nT-start_state):\n",
    "            n_fwd = pred_state-start_state \n",
    "            err += predict(M,x[start_state],x[pred_state],n_fwd,dim)\n",
    "            k += 1\n",
    "    mse = err/k\n",
    "    #print(mse)\n",
    "    return mse\n"
   ]
  },
  {
   "cell_type": "code",
   "execution_count": 1888,
   "metadata": {},
   "outputs": [],
   "source": [
    "def grad_wrapper(params,x,dim,basis_tensor):\n",
    "    grad = grad_predict_all(jnp.array(params),x,dim,basis_tensor)\n",
    "    grad = np.array(grad)\n",
    "    print(grad)\n",
    "    return grad"
   ]
  },
  {
   "cell_type": "code",
   "execution_count": 1889,
   "metadata": {},
   "outputs": [],
   "source": [
    "def caley_transform(skewM,dim):\n",
    "    \"\"\" Perform Caley transform\"\"\"\n",
    "    return (np.eye(dim) - skewM)@np.linalg.inv(np.eye(dim)+skewM)"
   ]
  },
  {
   "cell_type": "markdown",
   "metadata": {},
   "source": [
    "## Generate Data"
   ]
  },
  {
   "cell_type": "markdown",
   "metadata": {},
   "source": [
    "# Get this to work with cell activity with structured noise"
   ]
  },
  {
   "cell_type": "code",
   "execution_count": null,
   "metadata": {},
   "outputs": [],
   "source": []
  },
  {
   "cell_type": "code",
   "execution_count": 2022,
   "metadata": {},
   "outputs": [],
   "source": [
    "n_neurons = 120\n",
    "dim = 6\n",
    "nT = 9\n",
    "\n",
    "frac_noise_dynamics = .9\n",
    "\n",
    "x0 = np.random.normal(size=(dim,1))\n",
    "x0_2 = np.random.normal(size=(dim,1))\n",
    "\n",
    "\n",
    "a_params = np.random.normal(size=int(dim*(dim-1)/2))\n",
    "\n",
    "basis_tensor = get_basis_tensor(dim)\n",
    "skewM = np.einsum('i...,i...',a_params,basis_tensor)\n",
    "A = caley_transform(skewM,dim)\n",
    "\n",
    "#A = (np.eye(dim)-A)@np.linalg.inv(np.eye(dim)+A)\n",
    "x = np.array([np.linalg.matrix_power(A,i)@x0 for i in range(nT)])\n",
    "x_2 = np.array([np.linalg.matrix_power(A,i)@x0_2 for i in range(nT)])\n",
    "\n",
    "x = frac_noise_dynamics*x + (1-frac_noise_dynamics)*np.random.normal(size=x.shape)\n",
    "x_2 = frac_noise_dynamics*x_2 + (1-frac_noise_dynamics)*np.random.normal(size=x.shape)\n",
    "\n",
    "\n",
    "W = np.random.normal(size=(n_neurons,dim))\n",
    "basis_tensor = get_basis_tensor(dim)\n",
    "n_bases = basis_tensor.shape[0]"
   ]
  },
  {
   "cell_type": "code",
   "execution_count": 2023,
   "metadata": {},
   "outputs": [
    {
     "data": {
      "text/plain": [
       "array([[ True,  True,  True,  True,  True,  True],\n",
       "       [ True,  True,  True,  True,  True,  True],\n",
       "       [ True,  True,  True,  True,  True,  True],\n",
       "       [ True,  True,  True,  True,  True,  True],\n",
       "       [ True,  True,  True,  True,  True,  True],\n",
       "       [ True,  True,  True,  True,  True,  True]])"
      ]
     },
     "execution_count": 2023,
     "metadata": {},
     "output_type": "execute_result"
    }
   ],
   "source": [
    "skewM==-skewM.T"
   ]
  },
  {
   "cell_type": "code",
   "execution_count": null,
   "metadata": {},
   "outputs": [],
   "source": []
  },
  {
   "cell_type": "code",
   "execution_count": 2024,
   "metadata": {},
   "outputs": [],
   "source": [
    "def get_spatial_tuning(poke_pos,peak_loc,width):\n",
    "    \"\"\"\"\"\"\n",
    "    #for i in range(9):\n",
    "    distance_matrix = np.abs((poke_pos[peak_loc]-poke_pos)**2).sum(axis=1)\n",
    "    fr = norm(scale=width).pdf(distance_matrix)\n",
    "    return fr#distance_matrix\n",
    "        \n",
    "def get_task_tuning_line(seq,peak_loc,width):\n",
    "    task_dists = np.abs(peak_loc-np.arange(9))\n",
    "#     fr = norm(scale=width).pdf(task_dists)\n",
    "    fr = np.sin(task_dists)\n",
    "    return fr[seq]#task_dists[seq]#[task_dists[i] for i in seq]#fr#[fr[i] for i in seq]"
   ]
  },
  {
   "cell_type": "code",
   "execution_count": null,
   "metadata": {},
   "outputs": [],
   "source": []
  },
  {
   "cell_type": "code",
   "execution_count": 2025,
   "metadata": {},
   "outputs": [],
   "source": [
    "from scipy.stats import norm\n",
    "\n",
    "\n",
    "act_matrix = []\n",
    "act_matrix2 = []\n",
    "space_order2 = np.random.permutation(np.arange(9))\n",
    "for nix in range(n_neurons):\n",
    "    \n",
    "    frac_space = np.random.uniform(0,1)\n",
    "    peak_space = np.random.randint(0,9)\n",
    "    std_space = np.random.randint(1000,12000)\n",
    "    \n",
    "    lamda1 = get_spatial_tuning(poke_pos,peak_space,std_space)\n",
    "    lamda1 = lamda1/np.max(lamda1)\n",
    "    \n",
    "    lamda2 = np.squeeze(x)@np.random.normal(size=dim)\n",
    "    lamda2_2 = np.squeeze(x_2)@np.random.normal(size=(dim))\n",
    "\n",
    "    \n",
    "    w1 = np.random.normal()\n",
    "    w2 = np.random.normal()\n",
    "    activity = frac_space*lamda1 + (1-frac_space)*lamda2# + np.random.normal(scale=.1,size=9)\n",
    "    act_matrix.append(activity.copy())\n",
    "    \n",
    "    activity2 = lamda1[space_order2] + lamda2_2\n",
    "    act_matrix2.append(activity2.copy())\n",
    "act_matrix = np.array(act_matrix).T\n",
    "act_matrix2 = np.array(act_matrix2).T"
   ]
  },
  {
   "cell_type": "code",
   "execution_count": 2026,
   "metadata": {},
   "outputs": [
    {
     "data": {
      "text/plain": [
       "array([1., 1., 1., 1., 1., 1.])"
      ]
     },
     "execution_count": 2026,
     "metadata": {},
     "output_type": "execute_result"
    }
   ],
   "source": [
    "np.linalg.norm(A,axis=0)"
   ]
  },
  {
   "cell_type": "code",
   "execution_count": 2027,
   "metadata": {},
   "outputs": [],
   "source": [
    "evals, evecs = np.linalg.eig(A)"
   ]
  },
  {
   "cell_type": "code",
   "execution_count": 2028,
   "metadata": {},
   "outputs": [],
   "source": [
    "#Adash = Matrix(A)\n",
    "#P,J = Adash.jordan_form()"
   ]
  },
  {
   "cell_type": "code",
   "execution_count": null,
   "metadata": {},
   "outputs": [],
   "source": []
  },
  {
   "cell_type": "code",
   "execution_count": 2029,
   "metadata": {},
   "outputs": [
    {
     "data": {
      "text/plain": [
       "(9, 6, 1)"
      ]
     },
     "execution_count": 2029,
     "metadata": {},
     "output_type": "execute_result"
    }
   ],
   "source": [
    "x.shape"
   ]
  },
  {
   "cell_type": "code",
   "execution_count": 2030,
   "metadata": {},
   "outputs": [
    {
     "data": {
      "text/plain": [
       "array([ 0.59043415+0.80708582j,  0.59043415-0.80708582j,\n",
       "       -0.50956701+0.86043097j, -0.50956701-0.86043097j,\n",
       "       -0.84231204+0.53899019j, -0.84231204-0.53899019j])"
      ]
     },
     "execution_count": 2030,
     "metadata": {},
     "output_type": "execute_result"
    }
   ],
   "source": [
    "evals"
   ]
  },
  {
   "cell_type": "code",
   "execution_count": 2031,
   "metadata": {},
   "outputs": [],
   "source": [
    "u1 = (evecs[:,0] + evecs[:,1]).real\n",
    "u2 = (1j*(evecs[:,0] - evecs[:,1])).real"
   ]
  },
  {
   "cell_type": "code",
   "execution_count": 2032,
   "metadata": {},
   "outputs": [
    {
     "data": {
      "text/plain": [
       "array([ 0.59043415+0.80708582j,  0.59043415-0.80708582j,\n",
       "       -0.50956701+0.86043097j, -0.50956701-0.86043097j,\n",
       "       -0.84231204+0.53899019j, -0.84231204-0.53899019j])"
      ]
     },
     "execution_count": 2032,
     "metadata": {},
     "output_type": "execute_result"
    }
   ],
   "source": [
    "evals"
   ]
  },
  {
   "cell_type": "code",
   "execution_count": 2033,
   "metadata": {},
   "outputs": [
    {
     "name": "stdout",
     "output_type": "stream",
     "text": [
      "0\n",
      "1\n",
      "2\n"
     ]
    },
    {
     "data": {
      "image/png": "[encoded data removed]",
      "text/plain": [
       "<Figure size 864x288 with 3 Axes>"
      ]
     },
     "metadata": {},
     "output_type": "display_data"
    }
   ],
   "source": [
    "plt.figure(figsize=(12,4))\n",
    "offset = 0\n",
    "if np.isreal(evals[0]): offset = 1\n",
    "for i in range(int(np.floor(dim/2))):\n",
    "    print(i)\n",
    "    plt.subplot(1,4,i+1)\n",
    "    ix0 = (2*i)     + offset\n",
    "    ix1 = (2*i + 1) + offset\n",
    "    u1 = (evecs[:,ix0] + evecs[:,ix1]).real\n",
    "    u1 = u1/np.linalg.norm(u1)\n",
    "    u2 = (1j*(evecs[:,ix0] - evecs[:,ix1])).real\n",
    "    u2 = u2/np.linalg.norm(u2)\n",
    "    w = np.vstack([u1,u2]).T\n",
    "    projection = (np.squeeze(x)@w).T\n",
    "    plt.plot(*(projection))\n",
    "    plt.scatter(projection[0],projection[1],c=seaborn.color_palette(\"RdBu_r\",n_colors=9))\n",
    "\n",
    "seaborn.despine()"
   ]
  },
  {
   "cell_type": "code",
   "execution_count": null,
   "metadata": {},
   "outputs": [],
   "source": []
  },
  {
   "cell_type": "code",
   "execution_count": 2034,
   "metadata": {},
   "outputs": [],
   "source": [
    "def calculate_variance_explained_2(wx,x,cov=None):\n",
    "    \"\"\"\n",
    "    https://stats.stackexchange.com/questions/8630/principal-component-analysis-backwards-how-much-variance-of-the-data-is-expla\n",
    "    \"\"\"\n",
    "    wx = np.reshape(wx,[-1,1])\n",
    "    if cov is None:\n",
    "        cov = np.cov(x)\n",
    "    return (wx.T@cov@wx)/np.trace(cov)\n",
    "    \n",
    "    \n"
   ]
  },
  {
   "cell_type": "code",
   "execution_count": 2035,
   "metadata": {},
   "outputs": [],
   "source": [
    "ix0 = 0\n",
    "ix1 = 1\n",
    "u1 = (evecs[:,ix0] + evecs[:,ix1]).real\n",
    "u1 = u1/np.linalg.norm(u1)\n",
    "u2 = (1j*(evecs[:,ix0] - evecs[:,ix1])).real\n",
    "u2 = u2/np.linalg.norm(u2)\n"
   ]
  },
  {
   "cell_type": "code",
   "execution_count": 2036,
   "metadata": {},
   "outputs": [
    {
     "data": {
      "text/plain": [
       "array([[0.14161701]])"
      ]
     },
     "execution_count": 2036,
     "metadata": {},
     "output_type": "execute_result"
    }
   ],
   "source": [
    "(calculate_variance_explained_2(u1,np.squeeze(x).T) + \n",
    " calculate_variance_explained_2(u2,np.squeeze(x).T) )\n"
   ]
  },
  {
   "cell_type": "code",
   "execution_count": 2037,
   "metadata": {},
   "outputs": [
    {
     "data": {
      "text/plain": [
       "array([[0.07529933]])"
      ]
     },
     "execution_count": 2037,
     "metadata": {},
     "output_type": "execute_result"
    }
   ],
   "source": [
    "calcualte_variance_explained_by_projection(u1,np.squeeze(x).T)"
   ]
  },
  {
   "cell_type": "code",
   "execution_count": 1905,
   "metadata": {},
   "outputs": [],
   "source": [
    "def calcualte_variance_explained_by_projection(wx,x,cov=None):\n",
    "    \"\"\" This is a bit strange it makes sense from a logical point\n",
    "        of view in\"\"\"\n",
    "    if cov is None:\n",
    "        cov = np.cov(x)\n",
    "    wx = np.reshape(wx,[-1,1])\n",
    "    #print(np.linalg.norm(wx))\n",
    "    #if \n",
    "    top = np.linalg.norm(cov@wx)**2 #the same as np.sum((cov@w[:,0])**2)\n",
    "    bottom = (wx.T@cov@wx) * np.trace(cov)\n",
    "    explained_variance_ratio = top/bottom\n",
    "    \n",
    "    return explained_variance_ratio"
   ]
  },
  {
   "cell_type": "code",
   "execution_count": 1906,
   "metadata": {},
   "outputs": [
    {
     "data": {
      "text/plain": [
       "array([[1.        , 0.12585582],\n",
       "       [0.12585582, 1.        ]])"
      ]
     },
     "execution_count": 1906,
     "metadata": {},
     "output_type": "execute_result"
    }
   ],
   "source": [
    "np.corrcoef((np.squeeze(x)@w).T)"
   ]
  },
  {
   "cell_type": "code",
   "execution_count": 1907,
   "metadata": {},
   "outputs": [
    {
     "data": {
      "text/plain": [
       "(3,)"
      ]
     },
     "execution_count": 1907,
     "metadata": {},
     "output_type": "execute_result"
    }
   ],
   "source": [
    "u1.shape"
   ]
  },
  {
   "cell_type": "code",
   "execution_count": 1908,
   "metadata": {},
   "outputs": [
    {
     "data": {
      "text/plain": [
       "array([4.38614039, 2.94696467, 3.75571029, 4.18467501, 2.84010592,\n",
       "       4.09065384, 3.87315293, 2.89428725, 4.33449758])"
      ]
     },
     "execution_count": 1908,
     "metadata": {},
     "output_type": "execute_result"
    }
   ],
   "source": [
    "np.cov(np.squeeze(x)-np.mean(np.squeeze(x),axis=1)[:,None])[0]"
   ]
  },
  {
   "cell_type": "code",
   "execution_count": 1909,
   "metadata": {},
   "outputs": [
    {
     "data": {
      "text/plain": [
       "array([[1.01583969]])"
      ]
     },
     "execution_count": 1909,
     "metadata": {},
     "output_type": "execute_result"
    }
   ],
   "source": [
    "(calcualte_variance_explained_by_projection(u1,np.squeeze(x).T) + \n",
    " calcualte_variance_explained_by_projection(u2,np.squeeze(x).T)\n",
    ")"
   ]
  },
  {
   "cell_type": "code",
   "execution_count": 1796,
   "metadata": {},
   "outputs": [],
   "source": [
    "from sklearn.decomposition import PCA"
   ]
  },
  {
   "cell_type": "code",
   "execution_count": 1797,
   "metadata": {},
   "outputs": [],
   "source": [
    "pca = PCA(n_components=3)"
   ]
  },
  {
   "cell_type": "code",
   "execution_count": 1798,
   "metadata": {},
   "outputs": [
    {
     "data": {
      "text/plain": [
       "array([[-1.07573817,  0.08023908, -0.27029908],\n",
       "       [-0.1677439 , -0.93522662,  0.71629641],\n",
       "       [ 1.91182736, -0.48033083, -0.56709419],\n",
       "       [-0.49218057,  1.09272869, -0.13363662],\n",
       "       [-0.41451704,  0.32328703, -0.06667682],\n",
       "       [ 0.57720683,  0.73637697, -0.00416654],\n",
       "       [-0.42758985, -0.57984016,  0.34345326],\n",
       "       [-0.68255405, -0.7081751 , -0.67628152],\n",
       "       [ 0.77128939,  0.47094094,  0.65840511]])"
      ]
     },
     "execution_count": 1798,
     "metadata": {},
     "output_type": "execute_result"
    }
   ],
   "source": [
    "pca.fit_transform(np.squeeze(x))"
   ]
  },
  {
   "cell_type": "code",
   "execution_count": 1799,
   "metadata": {},
   "outputs": [
    {
     "data": {
      "text/plain": [
       "0.5344326803677864"
      ]
     },
     "execution_count": 1799,
     "metadata": {},
     "output_type": "execute_result"
    }
   ],
   "source": [
    "pca.explained_variance_ratio_[0]"
   ]
  },
  {
   "cell_type": "code",
   "execution_count": 1800,
   "metadata": {},
   "outputs": [
    {
     "data": {
      "text/plain": [
       "array([[0.53443268]])"
      ]
     },
     "execution_count": 1800,
     "metadata": {},
     "output_type": "execute_result"
    }
   ],
   "source": [
    "calcualte_variance_explained_by_projection(wx=pca.components_[0],x=np.squeeze(x).T)"
   ]
  },
  {
   "cell_type": "code",
   "execution_count": null,
   "metadata": {},
   "outputs": [],
   "source": [
    "calcualte_variance_explained_by_projection(wx=pca.components_[0],x=np.squeeze(x).T)"
   ]
  },
  {
   "cell_type": "code",
   "execution_count": 1783,
   "metadata": {},
   "outputs": [
    {
     "data": {
      "text/plain": [
       "(3, 2)"
      ]
     },
     "execution_count": 1783,
     "metadata": {},
     "output_type": "execute_result"
    }
   ],
   "source": [
    "w.shape"
   ]
  },
  {
   "cell_type": "code",
   "execution_count": null,
   "metadata": {},
   "outputs": [],
   "source": []
  },
  {
   "cell_type": "code",
   "execution_count": 1784,
   "metadata": {},
   "outputs": [
    {
     "data": {
      "text/plain": [
       "0.759029858200159"
      ]
     },
     "execution_count": 1784,
     "metadata": {},
     "output_type": "execute_result"
    }
   ],
   "source": [
    "np.sum(pca.explained_variance_ratio_[0]*np.var(x,axis=0))"
   ]
  },
  {
   "cell_type": "code",
   "execution_count": 1732,
   "metadata": {},
   "outputs": [
    {
     "data": {
      "text/plain": [
       "0.5344326803677864"
      ]
     },
     "execution_count": 1732,
     "metadata": {},
     "output_type": "execute_result"
    }
   ],
   "source": [
    "pca.explained_variance_ratio_[0]"
   ]
  },
  {
   "cell_type": "code",
   "execution_count": null,
   "metadata": {},
   "outputs": [],
   "source": []
  },
  {
   "cell_type": "code",
   "execution_count": null,
   "metadata": {},
   "outputs": [],
   "source": []
  },
  {
   "cell_type": "code",
   "execution_count": 1733,
   "metadata": {},
   "outputs": [
    {
     "data": {
      "text/plain": [
       "array([[0.53443268]])"
      ]
     },
     "execution_count": 1733,
     "metadata": {},
     "output_type": "execute_result"
    }
   ],
   "source": [
    "calcualte_variance_explained_by_projection(wx=pca.components_[0],x=np.squeeze(x).T)"
   ]
  },
  {
   "cell_type": "code",
   "execution_count": 1734,
   "metadata": {},
   "outputs": [
    {
     "data": {
      "text/plain": [
       "0.8539085904751792"
      ]
     },
     "execution_count": 1734,
     "metadata": {},
     "output_type": "execute_result"
    }
   ],
   "source": [
    "pca.explained_variance_[0]"
   ]
  },
  {
   "cell_type": "code",
   "execution_count": 1735,
   "metadata": {},
   "outputs": [
    {
     "data": {
      "text/plain": [
       "(3, 3)"
      ]
     },
     "execution_count": 1735,
     "metadata": {},
     "output_type": "execute_result"
    }
   ],
   "source": [
    "cov.shape"
   ]
  },
  {
   "cell_type": "code",
   "execution_count": 1736,
   "metadata": {},
   "outputs": [
    {
     "data": {
      "text/plain": [
       "0.18053831888483693"
      ]
     },
     "execution_count": 1736,
     "metadata": {},
     "output_type": "execute_result"
    }
   ],
   "source": [
    "np.linalg.norm(cov@pca.components_[:,0].reshape([-1,1]))"
   ]
  },
  {
   "cell_type": "code",
   "execution_count": 1737,
   "metadata": {},
   "outputs": [
    {
     "data": {
      "text/plain": [
       "(3, 2)"
      ]
     },
     "execution_count": 1737,
     "metadata": {},
     "output_type": "execute_result"
    }
   ],
   "source": [
    "w.shape"
   ]
  },
  {
   "cell_type": "code",
   "execution_count": 1738,
   "metadata": {},
   "outputs": [
    {
     "ename": "AttributeError",
     "evalue": "'numpy.ndarray' object has no attribute 'sh'",
     "output_type": "error",
     "traceback": [
      "\u001b[0;31m---------------------------------------------------------------------------\u001b[0m",
      "\u001b[0;31mAttributeError\u001b[0m                            Traceback (most recent call last)",
      "\u001b[0;32m<ipython-input-1738-ec78f0e6559a>\u001b[0m in \u001b[0;36m<module>\u001b[0;34m\u001b[0m\n\u001b[0;32m----> 1\u001b[0;31m \u001b[0mx\u001b[0m\u001b[0;34m.\u001b[0m\u001b[0msh\u001b[0m\u001b[0;34m\u001b[0m\u001b[0;34m\u001b[0m\u001b[0m\n\u001b[0m",
      "\u001b[0;31mAttributeError\u001b[0m: 'numpy.ndarray' object has no attribute 'sh'"
     ]
    }
   ],
   "source": [
    "x.sh"
   ]
  },
  {
   "cell_type": "code",
   "execution_count": 1739,
   "metadata": {},
   "outputs": [
    {
     "data": {
      "text/plain": [
       "0.3989584672134787"
      ]
     },
     "execution_count": 1739,
     "metadata": {},
     "output_type": "execute_result"
    }
   ],
   "source": [
    "w[:,0].T@cov@w[:,0]/np.sum(np.trace(cov)) + w[:,1].T@cov@w[:,1]"
   ]
  },
  {
   "cell_type": "code",
   "execution_count": 1282,
   "metadata": {},
   "outputs": [
    {
     "ename": "ValueError",
     "evalue": "matmul: Input operand 1 has a mismatch in its core dimension 0, with gufunc signature (n?,k),(k,m?)->(n?,m?) (size 3 is different from 9)",
     "output_type": "error",
     "traceback": [
      "\u001b[0;31m---------------------------------------------------------------------------\u001b[0m",
      "\u001b[0;31mValueError\u001b[0m                                Traceback (most recent call last)",
      "\u001b[0;32m<ipython-input-1282-66f125ced658>\u001b[0m in \u001b[0;36m<module>\u001b[0;34m\u001b[0m\n\u001b[0;32m----> 1\u001b[0;31m \u001b[0mnp\u001b[0m\u001b[0;34m.\u001b[0m\u001b[0msqueeze\u001b[0m\u001b[0;34m(\u001b[0m\u001b[0mx\u001b[0m\u001b[0;34m)\u001b[0m\u001b[0;34m@\u001b[0m\u001b[0mw\u001b[0m\u001b[0;34m[\u001b[0m\u001b[0;34m:\u001b[0m\u001b[0;34m,\u001b[0m\u001b[0;36m0\u001b[0m\u001b[0;34m]\u001b[0m\u001b[0;34m@\u001b[0m\u001b[0mnp\u001b[0m\u001b[0;34m.\u001b[0m\u001b[0mlinalg\u001b[0m\u001b[0;34m.\u001b[0m\u001b[0mpinv\u001b[0m\u001b[0;34m(\u001b[0m\u001b[0mw\u001b[0m\u001b[0;34m[\u001b[0m\u001b[0;34m:\u001b[0m\u001b[0;34m,\u001b[0m\u001b[0;36m0\u001b[0m\u001b[0;34m]\u001b[0m\u001b[0;34m.\u001b[0m\u001b[0mreshape\u001b[0m\u001b[0;34m(\u001b[0m\u001b[0;36m1\u001b[0m\u001b[0;34m,\u001b[0m\u001b[0;34m-\u001b[0m\u001b[0;36m1\u001b[0m\u001b[0;34m)\u001b[0m\u001b[0;34m)\u001b[0m\u001b[0;34m\u001b[0m\u001b[0;34m\u001b[0m\u001b[0m\n\u001b[0m",
      "\u001b[0;31mValueError\u001b[0m: matmul: Input operand 1 has a mismatch in its core dimension 0, with gufunc signature (n?,k),(k,m?)->(n?,m?) (size 3 is different from 9)"
     ]
    }
   ],
   "source": [
    "np.squeeze(x)@w[:,0]@np.linalg.pinv(w[:,0].reshape(1,-1))"
   ]
  },
  {
   "cell_type": "code",
   "execution_count": 1283,
   "metadata": {},
   "outputs": [
    {
     "ename": "SyntaxError",
     "evalue": "invalid syntax (<ipython-input-1283-ff2ef4cdd074>, line 1)",
     "output_type": "error",
     "traceback": [
      "\u001b[0;36m  File \u001b[0;32m\"<ipython-input-1283-ff2ef4cdd074>\"\u001b[0;36m, line \u001b[0;32m1\u001b[0m\n\u001b[0;31m    np.((np.squeeze(x)@w[:,0]).reshape(-1,1)@np.linalg.pinv(w[:,0].reshape(-1,1)))\u001b[0m\n\u001b[0m       ^\u001b[0m\n\u001b[0;31mSyntaxError\u001b[0m\u001b[0;31m:\u001b[0m invalid syntax\n"
     ]
    }
   ],
   "source": [
    "np.((np.squeeze(x)@w[:,0]).reshape(-1,1)@np.linalg.pinv(w[:,0].reshape(-1,1)))"
   ]
  },
  {
   "cell_type": "code",
   "execution_count": 1284,
   "metadata": {},
   "outputs": [
    {
     "data": {
      "text/plain": [
       "(3, 2)"
      ]
     },
     "execution_count": 1284,
     "metadata": {},
     "output_type": "execute_result"
    }
   ],
   "source": [
    "w.shape"
   ]
  },
  {
   "cell_type": "code",
   "execution_count": 1285,
   "metadata": {},
   "outputs": [
    {
     "data": {
      "text/plain": [
       "(9, 3, 1)"
      ]
     },
     "execution_count": 1285,
     "metadata": {},
     "output_type": "execute_result"
    }
   ],
   "source": [
    "x.shape"
   ]
  },
  {
   "cell_type": "code",
   "execution_count": 1286,
   "metadata": {},
   "outputs": [
    {
     "data": {
      "text/plain": [
       "array([[ 0.98982211, -0.04503086,  0.13499779]])"
      ]
     },
     "execution_count": 1286,
     "metadata": {},
     "output_type": "execute_result"
    }
   ],
   "source": [
    "np.linalg.pinv(w[:,0].reshape(-1,1))"
   ]
  },
  {
   "cell_type": "code",
   "execution_count": 1287,
   "metadata": {},
   "outputs": [
    {
     "data": {
      "text/plain": [
       "0.7714930449196715"
      ]
     },
     "execution_count": 1287,
     "metadata": {},
     "output_type": "execute_result"
    }
   ],
   "source": [
    "w[:,0].T@cov@w[:,0]/np.sum(np.trace(cov)) + w[:,1].T@cov@w[:,1]/np.sum(np.trace(cov))"
   ]
  },
  {
   "cell_type": "code",
   "execution_count": 1288,
   "metadata": {},
   "outputs": [
    {
     "data": {
      "text/plain": [
       "0.14297374532642163"
      ]
     },
     "execution_count": 1288,
     "metadata": {},
     "output_type": "execute_result"
    }
   ],
   "source": [
    "cov = np.cov(np.squeeze(x).T)\n",
    "\n",
    "np.linalg.norm(cov@w)/np.sum(np.trace(cov) + w.T@cov@w)"
   ]
  },
  {
   "cell_type": "code",
   "execution_count": 1289,
   "metadata": {},
   "outputs": [
    {
     "data": {
      "text/plain": [
       "(3, 3)"
      ]
     },
     "execution_count": 1289,
     "metadata": {},
     "output_type": "execute_result"
    }
   ],
   "source": [
    "cov.shape"
   ]
  },
  {
   "cell_type": "code",
   "execution_count": 1290,
   "metadata": {},
   "outputs": [
    {
     "data": {
      "text/plain": [
       "(3, 2)"
      ]
     },
     "execution_count": 1290,
     "metadata": {},
     "output_type": "execute_result"
    }
   ],
   "source": [
    "w.shape"
   ]
  },
  {
   "cell_type": "code",
   "execution_count": 1291,
   "metadata": {},
   "outputs": [
    {
     "data": {
      "text/plain": [
       "0.4533470590202305"
      ]
     },
     "execution_count": 1291,
     "metadata": {},
     "output_type": "execute_result"
    }
   ],
   "source": [
    "np.sum(np.cov(projection).diagonal())/np.sum(np.cov(np.squeeze(x)-np.mean(np.squeeze(x),axis=0)).diagonal())"
   ]
  },
  {
   "cell_type": "code",
   "execution_count": 1292,
   "metadata": {},
   "outputs": [
    {
     "data": {
      "text/plain": [
       "0.3899911349567755"
      ]
     },
     "execution_count": 1292,
     "metadata": {},
     "output_type": "execute_result"
    }
   ],
   "source": [
    "np.sum(np.cov(projection).diagonal())"
   ]
  },
  {
   "cell_type": "code",
   "execution_count": null,
   "metadata": {},
   "outputs": [],
   "source": []
  },
  {
   "cell_type": "code",
   "execution_count": 1293,
   "metadata": {},
   "outputs": [
    {
     "data": {
      "text/plain": [
       "0.7812092488190309"
      ]
     },
     "execution_count": 1293,
     "metadata": {},
     "output_type": "execute_result"
    }
   ],
   "source": [
    "np.var(projection - np.mean(projection,axis=0))/np.var(x-np.mean(x,axis=0))"
   ]
  },
  {
   "cell_type": "code",
   "execution_count": 1294,
   "metadata": {},
   "outputs": [
    {
     "data": {
      "text/plain": [
       "0.17337227464075167"
      ]
     },
     "execution_count": 1294,
     "metadata": {},
     "output_type": "execute_result"
    }
   ],
   "source": [
    "np.var(projection)"
   ]
  },
  {
   "cell_type": "code",
   "execution_count": 1295,
   "metadata": {},
   "outputs": [
    {
     "data": {
      "text/plain": [
       "(9, 3, 1)"
      ]
     },
     "execution_count": 1295,
     "metadata": {},
     "output_type": "execute_result"
    }
   ],
   "source": [
    "x.shape"
   ]
  },
  {
   "cell_type": "code",
   "execution_count": 1296,
   "metadata": {},
   "outputs": [
    {
     "data": {
      "text/plain": [
       "array([[0.09084539],\n",
       "       [0.1347003 ],\n",
       "       [0.19014944],\n",
       "       [0.06002198],\n",
       "       [0.15112739],\n",
       "       [0.19353211],\n",
       "       [0.04272679],\n",
       "       [0.16952417],\n",
       "       [0.19429051]])"
      ]
     },
     "execution_count": 1296,
     "metadata": {},
     "output_type": "execute_result"
    }
   ],
   "source": [
    "np.var(x,axis=1)"
   ]
  },
  {
   "cell_type": "code",
   "execution_count": 1298,
   "metadata": {},
   "outputs": [],
   "source": [
    "evals, evecs = np.linalg.eig(A)"
   ]
  },
  {
   "cell_type": "code",
   "execution_count": 1299,
   "metadata": {},
   "outputs": [],
   "source": [
    "real_evec = int(np.where(np.isreal(evals))[0])\n",
    "nullspace = sp.linalg.null_space(evecs[:,real_evec].reshape(1,-1))\n",
    "lns = np.linspace(-2,2,num=2)\n",
    "xx, yy = np.meshgrid(lns,lns)\n",
    "z = np.einsum('ij,klj->kli',nullspace,np.dstack([xx,yy])) + np.squeeze(np.mean(x,axis=0))[None,None]\n",
    "\n",
    "# plot the plane\n",
    "#ax.plot_surface(xx, yy, z, alpha=0.5)\n"
   ]
  },
  {
   "cell_type": "code",
   "execution_count": 1300,
   "metadata": {},
   "outputs": [
    {
     "data": {
      "text/plain": [
       "array([[-0.09415678],\n",
       "       [-0.16113386],\n",
       "       [ 0.44098909]])"
      ]
     },
     "execution_count": 1300,
     "metadata": {},
     "output_type": "execute_result"
    }
   ],
   "source": [
    "np.mean(x,axis=0)"
   ]
  },
  {
   "cell_type": "code",
   "execution_count": 1301,
   "metadata": {},
   "outputs": [
    {
     "data": {
      "text/plain": [
       "array([-0.42970301+0.90297028j, -0.42970301-0.90297028j,\n",
       "        1.        +0.j        ])"
      ]
     },
     "execution_count": 1301,
     "metadata": {},
     "output_type": "execute_result"
    }
   ],
   "source": [
    "evals"
   ]
  },
  {
   "cell_type": "code",
   "execution_count": 1302,
   "metadata": {},
   "outputs": [
    {
     "data": {
      "text/plain": [
       "array([-0.62575473+0.j, -1.17157405+0.j, -0.48563904+0.j])"
      ]
     },
     "execution_count": 1302,
     "metadata": {},
     "output_type": "execute_result"
    }
   ],
   "source": [
    "(-1*nullspace[:,0] + -1*nullspace[:,1])"
   ]
  },
  {
   "cell_type": "code",
   "execution_count": 1303,
   "metadata": {},
   "outputs": [
    {
     "data": {
      "text/plain": [
       "-2.0"
      ]
     },
     "execution_count": 1303,
     "metadata": {},
     "output_type": "execute_result"
    }
   ],
   "source": [
    "xx[0,0]"
   ]
  },
  {
   "cell_type": "code",
   "execution_count": 1304,
   "metadata": {},
   "outputs": [
    {
     "data": {
      "text/plain": [
       "(-2.2829678107143208+0j)"
      ]
     },
     "execution_count": 1304,
     "metadata": {},
     "output_type": "execute_result"
    }
   ],
   "source": [
    "np.sum(-1*nullspace[:,0] + -1*nullspace[:,1])"
   ]
  },
  {
   "cell_type": "code",
   "execution_count": null,
   "metadata": {},
   "outputs": [],
   "source": []
  },
  {
   "cell_type": "code",
   "execution_count": 1305,
   "metadata": {},
   "outputs": [
    {
     "data": {
      "text/plain": [
       "False"
      ]
     },
     "execution_count": 1305,
     "metadata": {},
     "output_type": "execute_result"
    }
   ],
   "source": [
    "np.allclose(0,evecs[:,0].reshape(1,-1)@nullspace)"
   ]
  },
  {
   "cell_type": "code",
   "execution_count": 1306,
   "metadata": {},
   "outputs": [
    {
     "data": {
      "text/plain": [
       "array([-0.42970301+0.90297028j, -0.42970301-0.90297028j,\n",
       "        1.        +0.j        ])"
      ]
     },
     "execution_count": 1306,
     "metadata": {},
     "output_type": "execute_result"
    }
   ],
   "source": [
    "evals"
   ]
  },
  {
   "cell_type": "code",
   "execution_count": 1307,
   "metadata": {},
   "outputs": [
    {
     "data": {
      "text/plain": [
       "array([[-0.31320703-0.j,  0.93896175-0.j],\n",
       "       [ 0.91412259-0.j,  0.25745146-0.j],\n",
       "       [ 0.25745146-0.j,  0.22818758-0.j]])"
      ]
     },
     "execution_count": 1307,
     "metadata": {},
     "output_type": "execute_result"
    }
   ],
   "source": [
    "nullspace"
   ]
  },
  {
   "cell_type": "code",
   "execution_count": 1309,
   "metadata": {},
   "outputs": [
    {
     "data": {
      "image/png": "[encoded data removed]",
      "text/plain": [
       "<Figure size 432x288 with 1 Axes>"
      ]
     },
     "metadata": {},
     "output_type": "display_data"
    }
   ],
   "source": [
    "fig = plt.figure()\n",
    "ax = plt.axes(projection='3d')\n",
    "\n",
    "ax.plot3D(x[:,0,0],x[:,1,0],x[:,2,0],color='k')\n",
    "\n",
    "ax.plot3D(*np.vstack([np.zeros(3),evecs[:,real_evec]]).T,color='r')\n",
    "#ax.plot3D(*np.vstack([np.zeros(3),evecs[:,1]]).T)\n",
    "#ax.plot3D(*np.vstack([np.zeros(3),evecs[:,2]]).T)\n",
    "ax.plot3D(*np.vstack([np.zeros(3),nullspace[:,0].real]).T,color='g')\n",
    "ax.plot3D(*np.vstack([np.zeros(3),nullspace[:,1].real]).T,color='g')\n",
    "\n",
    "#ax.set_xlim(-1,1)\n",
    "#ax.set_ylim(-1,1)\n",
    "#ax.set_zlim(-1,1)\n",
    "ax.plot_surface(z[:,:,0],z[:,:,1],z[:,:,2], alpha=0.5)\n",
    "\n",
    "plt.show()"
   ]
  },
  {
   "cell_type": "markdown",
   "metadata": {},
   "source": [
    "# check if simulated activity comes out as periodic"
   ]
  },
  {
   "cell_type": "code",
   "execution_count": 874,
   "metadata": {},
   "outputs": [],
   "source": [
    "@numba.jit(nopython=True)\n",
    "def fit_sin2(x,*params):\n",
    "    t_ = np.linspace(0,2*np.pi,9)\n",
    "    y = np.array(params)\n",
    "    y -= np.mean(y)\n",
    "    y /=np.max(y)\n",
    "    pred = np.cos(x[0]*t_ + x[1])#*x[2] + x[3]\n",
    "    cc = np.corrcoef(pred,y)[0,1]\n",
    "    if np.isnan(cc): cc = -100\n",
    "    return -cc"
   ]
  },
  {
   "cell_type": "code",
   "execution_count": 875,
   "metadata": {},
   "outputs": [],
   "source": [
    "resps_state_g1 = act_matrix.copy().T\n",
    "resps_state_g2 = act_matrix2.copy().T"
   ]
  },
  {
   "cell_type": "code",
   "execution_count": 876,
   "metadata": {},
   "outputs": [
    {
     "name": "stdout",
     "output_type": "stream",
     "text": [
      " running cell:119"
     ]
    }
   ],
   "source": [
    "res_t1 = []\n",
    "res_t2 = []\n",
    "all_cc = []\n",
    "all_shuffle_cc = []\n",
    "t_ = np.linspace(0,2*np.pi,9)\n",
    "NSHUFF = 100\n",
    "params_ranges = [slice(0,4,.5),slice(0,2*np.pi,np.pi/9)]\n",
    "#params_ranges = [slice(0,4,.5),slice(0,np.pi,np.pi/9),slice(0,1,.25),slice(0,1,.25)]\n",
    "\n",
    "\n",
    "n_neurons = resps_state_g1.shape[0]\n",
    "\n",
    "\n",
    "\n",
    "for i in range(n_neurons):\n",
    "    sys.stdout.write('\\r running cell:{}'.format(i))\n",
    "    sys.stdout.flush()\n",
    "    \n",
    "    y1 = resps_state_g1[i] #np.random.permutation(resps_state_g1[i])\n",
    "    y2 = resps_state_g2[i] #np.random.permutation(resps_state_g2[i])\n",
    "    spks = y1# - (y1 + y2)/2.\n",
    "    y = spks\n",
    "    #y -= np.mean(y)\n",
    "    #y /=np.max(y)\n",
    "\n",
    "    #res1 = op.minimize(fit_sin,\n",
    "    #        [1,0],\n",
    "    #        args=spks)\n",
    "    res1 = op.brute(fit_sin2,params_ranges,args=spks,finish=None)\n",
    "    cc1 = np.corrcoef(spks,np.cos(res1[0]*t_ + res1[1]))[0,1]\n",
    "    \n",
    "    cc1_shuff = []\n",
    "    for _ in range(NSHUFF):\n",
    "        spks_shuff = np.random.permutation(spks)\n",
    "        res1_shuff = op.brute(fit_sin2,params_ranges,args=spks_shuff,finish=None)\n",
    "        cc1_shuff.append(np.corrcoef(spks_shuff,np.cos(res1_shuff[0]*t_ + res1_shuff[1]))[0,1])\n",
    "        \n",
    "\n",
    "\n",
    "    spks = y2# - (y1 + y2)/2.\n",
    "    y = spks\n",
    "    #y = np.random.permutation(spks)\n",
    "    #y -= np.mean(y)\n",
    "    #y /=np.max(y)\n",
    "\n",
    "\n",
    "    #res2 = op.minimize(fit_sin,\n",
    "    #        [1,0],\n",
    "    #        args=spks)\n",
    "    res2 = op.brute(fit_sin2,params_ranges,args=spks,finish=None)\n",
    "    cc2 = np.corrcoef(y,np.cos(res2[0]*t_ + res2[1]))[0,1]\n",
    "    \n",
    "    cc2_shuff = []\n",
    "    for _ in range(NSHUFF):\n",
    "        spks_shuff = np.random.permutation(spks)\n",
    "        res2_shuff = op.brute(fit_sin2,params_ranges,args=spks_shuff,finish=None)\n",
    "        cc2_shuff.append(np.corrcoef(spks_shuff,np.cos(res2_shuff[0]*t_ + res2_shuff[1]))[0,1])\n",
    "\n",
    "    all_cc.append([cc1,cc2])\n",
    "    all_shuffle_cc.append([cc1_shuff,cc2_shuff])\n",
    "    \n",
    "    res_t1.append(res1)\n",
    "    res_t2.append(res2)\n",
    "all_cc = np.array(all_cc)\n",
    "res_t1 = np.array(res_t1)\n",
    "res_t2 = np.array(res_t2)"
   ]
  },
  {
   "cell_type": "code",
   "execution_count": 877,
   "metadata": {},
   "outputs": [],
   "source": [
    "import scipy.stats as stt"
   ]
  },
  {
   "cell_type": "code",
   "execution_count": 878,
   "metadata": {},
   "outputs": [],
   "source": [
    "p_vals = []\n",
    "for cell_ix,cell in enumerate(all_cc):\n",
    "    tmp = []\n",
    "    for task_nr in range(2):\n",
    "        p1 = stt.percentileofscore(all_shuffle_cc[cell_ix][task_nr],cell[task_nr])\n",
    "        tmp.append(p1)\n",
    "    p_vals.append(tmp)"
   ]
  },
  {
   "cell_type": "code",
   "execution_count": 879,
   "metadata": {},
   "outputs": [
    {
     "name": "stdout",
     "output_type": "stream",
     "text": [
      "0.16666666666666666\n",
      "0.075\n"
     ]
    }
   ],
   "source": [
    "print(np.mean(np.array(p_vals)[:,0]>97.5))\n",
    "print(np.mean(np.array(p_vals)[:,1]>97.5))"
   ]
  },
  {
   "cell_type": "code",
   "execution_count": 881,
   "metadata": {},
   "outputs": [
    {
     "data": {
      "text/plain": [
       "[<matplotlib.lines.Line2D at 0x7fda30b22ed0>]"
      ]
     },
     "execution_count": 881,
     "metadata": {},
     "output_type": "execute_result"
    },
    {
     "data": {
      "image/png": "[encoded data removed]",
      "text/plain": [
       "<Figure size 432x288 with 1 Axes>"
      ]
     },
     "metadata": {},
     "output_type": "display_data"
    }
   ],
   "source": [
    "plt.plot(act_matrix[:,0])"
   ]
  },
  {
   "cell_type": "code",
   "execution_count": 882,
   "metadata": {},
   "outputs": [
    {
     "data": {
      "text/plain": [
       "[<matplotlib.lines.Line2D at 0x7fda01ddb510>]"
      ]
     },
     "execution_count": 882,
     "metadata": {},
     "output_type": "execute_result"
    },
    {
     "data": {
      "image/png": "[encoded data removed]",
      "text/plain": [
       "<Figure size 432x288 with 1 Axes>"
      ]
     },
     "metadata": {},
     "output_type": "display_data"
    }
   ],
   "source": [
    "plt.plot(act_matrix[:,0])"
   ]
  },
  {
   "cell_type": "code",
   "execution_count": 883,
   "metadata": {},
   "outputs": [
    {
     "name": "stdout",
     "output_type": "stream",
     "text": [
      "[[ 1.         -0.03167788]\n",
      " [-0.03167788  1.        ]]\n"
     ]
    },
    {
     "data": {
      "image/png": "[encoded data removed]",
      "text/plain": [
       "<Figure size 432x432 with 3 Axes>"
      ]
     },
     "metadata": {},
     "output_type": "display_data"
    }
   ],
   "source": [
    "seaborn.jointplot(res_t1[:,0],res_t2[:,0],kind='reg')\n",
    "print(np.corrcoef(res_t1[:,0],res_t2[:,0]))"
   ]
  },
  {
   "cell_type": "code",
   "execution_count": null,
   "metadata": {},
   "outputs": [],
   "source": []
  }
 ],
 "metadata": {
  "kernelspec": {
   "display_name": "Python 3",
   "language": "python",
   "name": "python3"
  },
  "language_info": {
   "codemirror_mode": {
    "name": "ipython",
    "version": 3
   },
   "file_extension": ".py",
   "mimetype": "text/x-python",
   "name": "python",
   "nbconvert_exporter": "python",
   "pygments_lexer": "ipython3",
   "version": "3.7.4"
  }
 },
 "nbformat": 4,
 "nbformat_minor": 2
}
