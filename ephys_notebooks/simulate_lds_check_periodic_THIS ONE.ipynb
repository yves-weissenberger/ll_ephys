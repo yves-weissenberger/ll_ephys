{
 "cells": [
  {
   "cell_type": "markdown",
   "metadata": {},
   "source": [
    "# Plan\n",
    "\n",
    "\n",
    "\n",
    "Generate some low dimensional dynamics\n",
    "Then add space on top of that\n",
    "\n",
    "\n"
   ]
  },
  {
   "cell_type": "code",
   "execution_count": 2038,
   "metadata": {},
   "outputs": [],
   "source": [
    "%matplotlib inline\n",
    "\n",
    "import numpy as np\n",
    "import matplotlib.pyplot as plt\n",
    "import seaborn\n",
    "import scipy.optimize as op\n",
    "import sys\n",
    "import scipy as sp\n",
    "import numba\n",
    "from functools import partial\n",
    "from mpl_toolkits import mplot3d\n",
    "from sympy import Matrix\n",
    "seaborn.set(font_scale=1.5,style='ticks')"
   ]
  },
  {
   "cell_type": "code",
   "execution_count": 2121,
   "metadata": {},
   "outputs": [],
   "source": [
    "poke_pos = np.array([1,-1])*np.array([ [149,0],\n",
    "                                 [68,19],[231,19],\n",
    "                               [0,62],[149,62],[298,62],\n",
    "                                 [68,105],[231,105],\n",
    "                                      [149,124]])"
   ]
  },
  {
   "cell_type": "markdown",
   "metadata": {},
   "source": [
    "# Run with jax"
   ]
  },
  {
   "cell_type": "code",
   "execution_count": 2122,
   "metadata": {},
   "outputs": [],
   "source": [
    "dim = 4\n",
    "nT = 9\n",
    "x0 = np.random.normal(size=(dim,1))\n",
    "A_ = np.random.normal(size=(dim,dim))\n",
    "\n",
    "A = np.zeros([dim,dim])\n",
    "\n",
    "for i in range(dim):\n",
    "    A[i,i:] = A_[i:,i]\n",
    "    A[i:,i] = -A_[i:,i]\n",
    "    \n",
    "A[np.diag_indices_from(A)] = 0\n",
    "A = (np.eye(dim)-A)@np.linalg.inv(np.eye(dim)+A)\n",
    "\n",
    "x = np.array([np.linalg.matrix_power(A,i)@x0 for i in range(9)])"
   ]
  },
  {
   "cell_type": "code",
   "execution_count": 2123,
   "metadata": {},
   "outputs": [],
   "source": [
    "Ahat = np.random.normal(size=(dim,dim))\n"
   ]
  },
  {
   "cell_type": "code",
   "execution_count": 2124,
   "metadata": {},
   "outputs": [],
   "source": [
    "import jax.numpy as jnp\n",
    "from jax import grad, jit, vmap\n",
    "from jax import random\n"
   ]
  },
  {
   "cell_type": "code",
   "execution_count": 2125,
   "metadata": {},
   "outputs": [],
   "source": [
    "def get_basis_tensor(dim):\n",
    "    \"\"\" Returns a tensor that forms a basis for skew symmetric matrices.\n",
    "        Use np.einsum('i...,i...',params,basis_tensor) to construct this\n",
    "        matrix\n",
    "    \"\"\"\n",
    "    basis_tensor = []\n",
    "    for i in range(dim):\n",
    "        for j in range(i+1,dim):\n",
    "            bi =  np.zeros([dim,dim])\n",
    "            bi[i,j] = -1\n",
    "            bi = bi -bi.T\n",
    "            basis_tensor.append(bi.T)\n",
    "    basis_tensor = np.array(basis_tensor)\n",
    "    return np.asarray(basis_tensor)\n"
   ]
  },
  {
   "cell_type": "code",
   "execution_count": 2126,
   "metadata": {},
   "outputs": [],
   "source": [
    "def construct_M(skewM,dim):\n",
    "    \"\"\" Perform Caley transform\"\"\"\n",
    "    return (jnp.eye(dim) - skewM)@jnp.linalg.inv(jnp.eye(dim)+skewM)"
   ]
  },
  {
   "cell_type": "code",
   "execution_count": 2127,
   "metadata": {},
   "outputs": [],
   "source": [
    "def predict(T,x,y,n,dim):\n",
    "    transition_matrix = jnp.reshape(T,(dim,dim))\n",
    "    return jnp.sum((jnp.dot(jnp.linalg.matrix_power(transition_matrix,n),x)-y)**2)\n",
    "\n",
    "\n",
    "#predict_funs = [partial(predict,n=i,dim=dim) for i in range(9)]\n",
    "#grad_predict_funs = [grad(i) for i in predict_funs]"
   ]
  },
  {
   "cell_type": "code",
   "execution_count": 2128,
   "metadata": {},
   "outputs": [],
   "source": [
    "def predict_all(params,x,dim,basis_tensor):\n",
    "\n",
    "    err = 0\n",
    "    nT = len(x)\n",
    "    k = 0\n",
    "    skewM = jnp.einsum('i...,i...',params,basis_tensor)\n",
    "    M = construct_M(skewM,dim)\n",
    "    #print(M.shape)\n",
    "    for start_state in range(nT):\n",
    "        for pred_state in range(start_state+1,nT-start_state):\n",
    "            n_fwd = pred_state-start_state \n",
    "            err += predict(M,x[start_state],x[pred_state],n_fwd,dim)\n",
    "            k += 1\n",
    "    mse = err/k\n",
    "    #print(mse)\n",
    "    return mse\n"
   ]
  },
  {
   "cell_type": "code",
   "execution_count": 2129,
   "metadata": {},
   "outputs": [],
   "source": [
    "def grad_wrapper(params,x,dim,basis_tensor):\n",
    "    grad = grad_predict_all(jnp.array(params),x,dim,basis_tensor)\n",
    "    grad = np.array(grad)\n",
    "    print(grad)\n",
    "    return grad"
   ]
  },
  {
   "cell_type": "code",
   "execution_count": 2130,
   "metadata": {},
   "outputs": [],
   "source": [
    "def caley_transform(skewM,dim):\n",
    "    \"\"\" Perform Caley transform\"\"\"\n",
    "    return (np.eye(dim) - skewM)@np.linalg.inv(np.eye(dim)+skewM)"
   ]
  },
  {
   "cell_type": "markdown",
   "metadata": {},
   "source": [
    "## Generate Data"
   ]
  },
  {
   "cell_type": "markdown",
   "metadata": {},
   "source": [
    "# Get this to work with cell activity with structured noise"
   ]
  },
  {
   "cell_type": "code",
   "execution_count": null,
   "metadata": {},
   "outputs": [],
   "source": []
  },
  {
   "cell_type": "code",
   "execution_count": 2131,
   "metadata": {},
   "outputs": [],
   "source": [
    "n_neurons = 120\n",
    "dim = 7\n",
    "nT = 9\n",
    "\n",
    "frac_noise_dynamics = .9\n",
    "\n",
    "x0 = np.random.normal(size=(dim,1))\n",
    "x0_2 = np.random.normal(size=(dim,1))\n",
    "\n",
    "\n",
    "a_params = np.random.normal(size=int(dim*(dim-1)/2))\n",
    "\n",
    "basis_tensor = get_basis_tensor(dim)\n",
    "skewM = np.einsum('i...,i...',a_params,basis_tensor)\n",
    "A = caley_transform(skewM,dim)\n",
    "\n",
    "#A = (np.eye(dim)-A)@np.linalg.inv(np.eye(dim)+A)\n",
    "x = np.array([np.linalg.matrix_power(A,i)@x0 for i in range(nT)])\n",
    "x_2 = np.array([np.linalg.matrix_power(A,i)@x0_2 for i in range(nT)])\n",
    "\n",
    "x = frac_noise_dynamics*x + (1-frac_noise_dynamics)*np.random.normal(size=x.shape)\n",
    "x_2 = frac_noise_dynamics*x_2 + (1-frac_noise_dynamics)*np.random.normal(size=x.shape)\n",
    "\n",
    "\n",
    "W = np.random.normal(size=(n_neurons,dim))\n",
    "basis_tensor = get_basis_tensor(dim)\n",
    "n_bases = basis_tensor.shape[0]"
   ]
  },
  {
   "cell_type": "code",
   "execution_count": 2132,
   "metadata": {},
   "outputs": [
    {
     "data": {
      "text/plain": [
       "array([[ True,  True,  True,  True,  True,  True,  True],\n",
       "       [ True,  True,  True,  True,  True,  True,  True],\n",
       "       [ True,  True,  True,  True,  True,  True,  True],\n",
       "       [ True,  True,  True,  True,  True,  True,  True],\n",
       "       [ True,  True,  True,  True,  True,  True,  True],\n",
       "       [ True,  True,  True,  True,  True,  True,  True],\n",
       "       [ True,  True,  True,  True,  True,  True,  True]])"
      ]
     },
     "execution_count": 2132,
     "metadata": {},
     "output_type": "execute_result"
    }
   ],
   "source": [
    "skewM==-skewM.T"
   ]
  },
  {
   "cell_type": "code",
   "execution_count": null,
   "metadata": {},
   "outputs": [],
   "source": []
  },
  {
   "cell_type": "code",
   "execution_count": 2133,
   "metadata": {},
   "outputs": [],
   "source": [
    "def get_spatial_tuning(poke_pos,peak_loc,width):\n",
    "    \"\"\"\"\"\"\n",
    "    #for i in range(9):\n",
    "    distance_matrix = np.abs((poke_pos[peak_loc]-poke_pos)**2).sum(axis=1)\n",
    "    fr = norm(scale=width).pdf(distance_matrix)\n",
    "    return fr#distance_matrix\n",
    "        \n",
    "def get_task_tuning_line(seq,peak_loc,width):\n",
    "    task_dists = np.abs(peak_loc-np.arange(9))\n",
    "#     fr = norm(scale=width).pdf(task_dists)\n",
    "    fr = np.sin(task_dists)\n",
    "    return fr[seq]#task_dists[seq]#[task_dists[i] for i in seq]#fr#[fr[i] for i in seq]"
   ]
  },
  {
   "cell_type": "code",
   "execution_count": null,
   "metadata": {},
   "outputs": [],
   "source": []
  },
  {
   "cell_type": "code",
   "execution_count": 2134,
   "metadata": {},
   "outputs": [],
   "source": [
    "from scipy.stats import norm\n",
    "\n",
    "\n",
    "act_matrix = []\n",
    "act_matrix2 = []\n",
    "space_order2 = np.random.permutation(np.arange(9))\n",
    "for nix in range(n_neurons):\n",
    "    \n",
    "    frac_space = np.random.uniform(0,1)\n",
    "    peak_space = np.random.randint(0,9)\n",
    "    std_space = np.random.randint(1000,12000)\n",
    "    \n",
    "    lamda1 = get_spatial_tuning(poke_pos,peak_space,std_space)\n",
    "    lamda1 = lamda1/np.max(lamda1)\n",
    "    \n",
    "    lamda2 = np.squeeze(x)@np.random.normal(size=dim)\n",
    "    lamda2_2 = np.squeeze(x_2)@np.random.normal(size=(dim))\n",
    "\n",
    "    \n",
    "    w1 = np.random.normal()\n",
    "    w2 = np.random.normal()\n",
    "    activity = frac_space*lamda1 + (1-frac_space)*lamda2# + np.random.normal(scale=.1,size=9)\n",
    "    act_matrix.append(activity.copy())\n",
    "    \n",
    "    activity2 = lamda1[space_order2] + lamda2_2\n",
    "    act_matrix2.append(activity2.copy())\n",
    "act_matrix = np.array(act_matrix).T\n",
    "act_matrix2 = np.array(act_matrix2).T"
   ]
  },
  {
   "cell_type": "code",
   "execution_count": 2135,
   "metadata": {},
   "outputs": [
    {
     "data": {
      "text/plain": [
       "array([1., 1., 1., 1., 1., 1., 1.])"
      ]
     },
     "execution_count": 2135,
     "metadata": {},
     "output_type": "execute_result"
    }
   ],
   "source": [
    "np.linalg.norm(A,axis=0)"
   ]
  },
  {
   "cell_type": "code",
   "execution_count": 2136,
   "metadata": {},
   "outputs": [],
   "source": [
    "evals, evecs = np.linalg.eig(A)"
   ]
  },
  {
   "cell_type": "code",
   "execution_count": 2137,
   "metadata": {},
   "outputs": [],
   "source": [
    "#Adash = Matrix(A)\n",
    "#P,J = Adash.jordan_form()"
   ]
  },
  {
   "cell_type": "code",
   "execution_count": null,
   "metadata": {},
   "outputs": [],
   "source": []
  },
  {
   "cell_type": "code",
   "execution_count": 2138,
   "metadata": {},
   "outputs": [
    {
     "data": {
      "text/plain": [
       "(9, 7, 1)"
      ]
     },
     "execution_count": 2138,
     "metadata": {},
     "output_type": "execute_result"
    }
   ],
   "source": [
    "x.shape"
   ]
  },
  {
   "cell_type": "code",
   "execution_count": 2139,
   "metadata": {},
   "outputs": [
    {
     "data": {
      "text/plain": [
       "array([ 1.        +0.j        , -0.41807199+0.9084139j ,\n",
       "       -0.41807199-0.9084139j , -0.74740709+0.66436635j,\n",
       "       -0.74740709-0.66436635j, -0.94419147+0.32939712j,\n",
       "       -0.94419147-0.32939712j])"
      ]
     },
     "execution_count": 2139,
     "metadata": {},
     "output_type": "execute_result"
    }
   ],
   "source": [
    "evals"
   ]
  },
  {
   "cell_type": "code",
   "execution_count": 2140,
   "metadata": {},
   "outputs": [],
   "source": [
    "u1 = (evecs[:,0] + evecs[:,1]).real\n",
    "u2 = (1j*(evecs[:,0] - evecs[:,1])).real"
   ]
  },
  {
   "cell_type": "code",
   "execution_count": 2141,
   "metadata": {},
   "outputs": [
    {
     "data": {
      "text/plain": [
       "array([ 1.        +0.j        , -0.41807199+0.9084139j ,\n",
       "       -0.41807199-0.9084139j , -0.74740709+0.66436635j,\n",
       "       -0.74740709-0.66436635j, -0.94419147+0.32939712j,\n",
       "       -0.94419147-0.32939712j])"
      ]
     },
     "execution_count": 2141,
     "metadata": {},
     "output_type": "execute_result"
    }
   ],
   "source": [
    "evals"
   ]
  },
  {
   "cell_type": "code",
   "execution_count": 2142,
   "metadata": {},
   "outputs": [
    {
     "name": "stdout",
     "output_type": "stream",
     "text": [
      "0\n",
      "1\n",
      "2\n"
     ]
    },
    {
     "data": {
      "image/png": "[encoded data removed]",
      "text/plain": [
       "<Figure size 864x288 with 3 Axes>"
      ]
     },
     "metadata": {},
     "output_type": "display_data"
    }
   ],
   "source": [
    "plt.figure(figsize=(12,4))\n",
    "offset = 0\n",
    "if np.isreal(evals[0]): offset = 1\n",
    "for i in range(int(np.floor(dim/2))):\n",
    "    print(i)\n",
    "    plt.subplot(1,4,i+1)\n",
    "    ix0 = (2*i)     + offset\n",
    "    ix1 = (2*i + 1) + offset\n",
    "    u1 = (evecs[:,ix0] + evecs[:,ix1]).real\n",
    "    u1 = u1/np.linalg.norm(u1)\n",
    "    u2 = (1j*(evecs[:,ix0] - evecs[:,ix1])).real\n",
    "    u2 = u2/np.linalg.norm(u2)\n",
    "    w = np.vstack([u1,u2]).T\n",
    "    projection = (np.squeeze(x)@w).T\n",
    "    plt.plot(*(projection))\n",
    "    plt.scatter(projection[0],projection[1],c=seaborn.color_palette(\"RdBu_r\",n_colors=9))\n",
    "\n",
    "seaborn.despine()"
   ]
  },
  {
   "cell_type": "code",
   "execution_count": null,
   "metadata": {},
   "outputs": [],
   "source": []
  },
  {
   "cell_type": "code",
   "execution_count": 2153,
   "metadata": {},
   "outputs": [],
   "source": [
    "def calculate_variance_explained_2(wx,x,cov=None):\n",
    "    \"\"\"\n",
    "    USE THIS VERSION ITS MUCH CLEARER\n",
    "    https://stats.stackexchange.com/questions/8630/principal-component-analysis-backwards-how-much-variance-of-the-data-is-expla\n",
    "    \"\"\"\n",
    "    wx = np.reshape(wx,[-1,1])\n",
    "    if cov is None:\n",
    "        cov = np.cov(x)\n",
    "    return (wx.T@cov@wx)/np.trace(cov)\n",
    "    \n"
   ]
  },
  {
   "cell_type": "code",
   "execution_count": 2154,
   "metadata": {},
   "outputs": [],
   "source": [
    "ix0 = 1\n",
    "ix1 = 2\n",
    "u1 = (evecs[:,ix0] + evecs[:,ix1]).real\n",
    "u1 = u1/np.linalg.norm(u1)\n",
    "u2 = (1j*(evecs[:,ix0] - evecs[:,ix1])).real\n",
    "u2 = u2/np.linalg.norm(u2)\n"
   ]
  },
  {
   "cell_type": "code",
   "execution_count": 2155,
   "metadata": {},
   "outputs": [
    {
     "data": {
      "text/plain": [
       "array([[0.58054362]])"
      ]
     },
     "execution_count": 2155,
     "metadata": {},
     "output_type": "execute_result"
    }
   ],
   "source": [
    "(calculate_variance_explained_2(u1,np.squeeze(x).T) + \n",
    " calculate_variance_explained_2(u2,np.squeeze(x).T) )\n"
   ]
  },
  {
   "cell_type": "code",
   "execution_count": 2156,
   "metadata": {},
   "outputs": [
    {
     "data": {
      "text/plain": [
       "array([[0.30669355]])"
      ]
     },
     "execution_count": 2156,
     "metadata": {},
     "output_type": "execute_result"
    }
   ],
   "source": [
    "calcualte_variance_explained_by_projection(u1,np.squeeze(x).T)"
   ]
  },
  {
   "cell_type": "code",
   "execution_count": 2149,
   "metadata": {},
   "outputs": [],
   "source": [
    "def calcualte_variance_explained_by_projection(wx,x,cov=None):\n",
    "    \"\"\" This is a bit strange it makes sense from a logical point\n",
    "        of view in\"\"\"\n",
    "    if cov is None:\n",
    "        cov = np.cov(x)\n",
    "    wx = np.reshape(wx,[-1,1])\n",
    "    #print(np.linalg.norm(wx))\n",
    "    #if \n",
    "    top = np.linalg.norm(cov@wx)**2 #the same as np.sum((cov@w[:,0])**2)\n",
    "    bottom = (wx.T@cov@wx) * np.trace(cov)\n",
    "    explained_variance_ratio = top/bottom\n",
    "    \n",
    "    return explained_variance_ratio"
   ]
  },
  {
   "cell_type": "code",
   "execution_count": 2150,
   "metadata": {},
   "outputs": [
    {
     "data": {
      "text/plain": [
       "array([[ 1.        , -0.03633504],\n",
       "       [-0.03633504,  1.        ]])"
      ]
     },
     "execution_count": 2150,
     "metadata": {},
     "output_type": "execute_result"
    }
   ],
   "source": [
    "np.corrcoef((np.squeeze(x)@w).T)"
   ]
  },
  {
   "cell_type": "code",
   "execution_count": 2151,
   "metadata": {},
   "outputs": [
    {
     "data": {
      "text/plain": [
       "array([ 1.13080036, -0.90158253,  0.08537443,  0.42996631, -0.12229717,\n",
       "       -0.43836251,  0.51737901,  0.12084742, -0.78167176])"
      ]
     },
     "execution_count": 2151,
     "metadata": {},
     "output_type": "execute_result"
    }
   ],
   "source": [
    "np.cov(np.squeeze(x)-np.mean(np.squeeze(x),axis=1)[:,None])[0]"
   ]
  },
  {
   "cell_type": "code",
   "execution_count": 2152,
   "metadata": {},
   "outputs": [
    {
     "data": {
      "text/plain": [
       "array([[0.62089124]])"
      ]
     },
     "execution_count": 2152,
     "metadata": {},
     "output_type": "execute_result"
    }
   ],
   "source": [
    "(calcualte_variance_explained_by_projection(u1,np.squeeze(x).T) + \n",
    " calcualte_variance_explained_by_projection(u2,np.squeeze(x).T)\n",
    ")"
   ]
  },
  {
   "cell_type": "code",
   "execution_count": 2077,
   "metadata": {},
   "outputs": [],
   "source": [
    "from sklearn.decomposition import PCA"
   ]
  },
  {
   "cell_type": "code",
   "execution_count": 2078,
   "metadata": {},
   "outputs": [],
   "source": [
    "pca = PCA(n_components=3)"
   ]
  },
  {
   "cell_type": "code",
   "execution_count": 2079,
   "metadata": {},
   "outputs": [
    {
     "data": {
      "text/plain": [
       "array([[-2.76056818,  1.59804105, -0.64457469],\n",
       "       [ 1.1473567 ,  2.82476142,  0.96729604],\n",
       "       [ 2.89036622, -0.58401858, -0.56785056],\n",
       "       [-0.14649506, -2.70000766, -0.73794132],\n",
       "       [-2.56286858, -0.64576801,  1.88936428],\n",
       "       [-1.28715973,  2.4178769 , -0.60075545],\n",
       "       [ 2.40903529,  1.76498955, -0.54318817],\n",
       "       [ 2.36555491, -2.24886358,  1.02015384],\n",
       "       [-2.05522156, -2.42701108, -0.78250396]])"
      ]
     },
     "execution_count": 2079,
     "metadata": {},
     "output_type": "execute_result"
    }
   ],
   "source": [
    "pca.fit_transform(np.squeeze(x))"
   ]
  },
  {
   "cell_type": "code",
   "execution_count": 2080,
   "metadata": {},
   "outputs": [
    {
     "data": {
      "text/plain": [
       "0.43076511453737765"
      ]
     },
     "execution_count": 2080,
     "metadata": {},
     "output_type": "execute_result"
    }
   ],
   "source": [
    "pca.explained_variance_ratio_[0]"
   ]
  },
  {
   "cell_type": "code",
   "execution_count": 2081,
   "metadata": {},
   "outputs": [
    {
     "data": {
      "text/plain": [
       "array([[0.43076511]])"
      ]
     },
     "execution_count": 2081,
     "metadata": {},
     "output_type": "execute_result"
    }
   ],
   "source": [
    "calcualte_variance_explained_by_projection(wx=pca.components_[0],x=np.squeeze(x).T)"
   ]
  },
  {
   "cell_type": "code",
   "execution_count": 2082,
   "metadata": {},
   "outputs": [
    {
     "data": {
      "text/plain": [
       "array([[0.43076511]])"
      ]
     },
     "execution_count": 2082,
     "metadata": {},
     "output_type": "execute_result"
    }
   ],
   "source": [
    "calcualte_variance_explained_by_projection(wx=pca.components_[0],x=np.squeeze(x).T)"
   ]
  },
  {
   "cell_type": "code",
   "execution_count": 2083,
   "metadata": {},
   "outputs": [
    {
     "data": {
      "text/plain": [
       "(7, 2)"
      ]
     },
     "execution_count": 2083,
     "metadata": {},
     "output_type": "execute_result"
    }
   ],
   "source": [
    "w.shape"
   ]
  },
  {
   "cell_type": "code",
   "execution_count": null,
   "metadata": {},
   "outputs": [],
   "source": []
  },
  {
   "cell_type": "code",
   "execution_count": 2084,
   "metadata": {},
   "outputs": [
    {
     "data": {
      "text/plain": [
       "4.573461556231648"
      ]
     },
     "execution_count": 2084,
     "metadata": {},
     "output_type": "execute_result"
    }
   ],
   "source": [
    "np.sum(pca.explained_variance_ratio_[0]*np.var(x,axis=0))"
   ]
  },
  {
   "cell_type": "code",
   "execution_count": 2085,
   "metadata": {},
   "outputs": [
    {
     "data": {
      "text/plain": [
       "0.43076511453737765"
      ]
     },
     "execution_count": 2085,
     "metadata": {},
     "output_type": "execute_result"
    }
   ],
   "source": [
    "pca.explained_variance_ratio_[0]"
   ]
  },
  {
   "cell_type": "code",
   "execution_count": null,
   "metadata": {},
   "outputs": [],
   "source": []
  },
  {
   "cell_type": "code",
   "execution_count": null,
   "metadata": {},
   "outputs": [],
   "source": []
  },
  {
   "cell_type": "code",
   "execution_count": 2086,
   "metadata": {},
   "outputs": [
    {
     "data": {
      "text/plain": [
       "array([[0.43076511]])"
      ]
     },
     "execution_count": 2086,
     "metadata": {},
     "output_type": "execute_result"
    }
   ],
   "source": [
    "calcualte_variance_explained_by_projection(wx=pca.components_[0],x=np.squeeze(x).T)"
   ]
  },
  {
   "cell_type": "code",
   "execution_count": 2087,
   "metadata": {},
   "outputs": [
    {
     "data": {
      "text/plain": [
       "5.145144250760608"
      ]
     },
     "execution_count": 2087,
     "metadata": {},
     "output_type": "execute_result"
    }
   ],
   "source": [
    "pca.explained_variance_[0]"
   ]
  },
  {
   "cell_type": "code",
   "execution_count": 2088,
   "metadata": {},
   "outputs": [
    {
     "data": {
      "text/plain": [
       "(3, 3)"
      ]
     },
     "execution_count": 2088,
     "metadata": {},
     "output_type": "execute_result"
    }
   ],
   "source": [
    "cov.shape"
   ]
  },
  {
   "cell_type": "code",
   "execution_count": 2089,
   "metadata": {},
   "outputs": [
    {
     "data": {
      "text/plain": [
       "0.025574611498822793"
      ]
     },
     "execution_count": 2089,
     "metadata": {},
     "output_type": "execute_result"
    }
   ],
   "source": [
    "np.linalg.norm(cov@pca.components_[:,0].reshape([-1,1]))"
   ]
  },
  {
   "cell_type": "code",
   "execution_count": 2090,
   "metadata": {},
   "outputs": [
    {
     "data": {
      "text/plain": [
       "(7, 2)"
      ]
     },
     "execution_count": 2090,
     "metadata": {},
     "output_type": "execute_result"
    }
   ],
   "source": [
    "w.shape"
   ]
  },
  {
   "cell_type": "code",
   "execution_count": 2094,
   "metadata": {},
   "outputs": [
    {
     "data": {
      "text/plain": [
       "(7, 2)"
      ]
     },
     "execution_count": 2094,
     "metadata": {},
     "output_type": "execute_result"
    }
   ],
   "source": [
    "w.shape"
   ]
  },
  {
   "cell_type": "code",
   "execution_count": 2095,
   "metadata": {},
   "outputs": [
    {
     "data": {
      "text/plain": [
       "(9, 7, 1)"
      ]
     },
     "execution_count": 2095,
     "metadata": {},
     "output_type": "execute_result"
    }
   ],
   "source": [
    "x.shape"
   ]
  },
  {
   "cell_type": "code",
   "execution_count": 2098,
   "metadata": {},
   "outputs": [
    {
     "data": {
      "text/plain": [
       "0.03303135696813872"
      ]
     },
     "execution_count": 2098,
     "metadata": {},
     "output_type": "execute_result"
    }
   ],
   "source": [
    "cov = np.cov(np.squeeze(x).T)\n",
    "\n",
    "np.linalg.norm(cov@w)/np.sum(np.trace(cov) + w.T@cov@w)"
   ]
  },
  {
   "cell_type": "code",
   "execution_count": 2099,
   "metadata": {},
   "outputs": [
    {
     "data": {
      "text/plain": [
       "(7, 7)"
      ]
     },
     "execution_count": 2099,
     "metadata": {},
     "output_type": "execute_result"
    }
   ],
   "source": [
    "cov.shape"
   ]
  },
  {
   "cell_type": "code",
   "execution_count": 2100,
   "metadata": {},
   "outputs": [
    {
     "data": {
      "text/plain": [
       "(7, 2)"
      ]
     },
     "execution_count": 2100,
     "metadata": {},
     "output_type": "execute_result"
    }
   ],
   "source": [
    "w.shape"
   ]
  },
  {
   "cell_type": "code",
   "execution_count": 2102,
   "metadata": {},
   "outputs": [],
   "source": [
    "evals, evecs = np.linalg.eig(A)"
   ]
  },
  {
   "cell_type": "code",
   "execution_count": 2103,
   "metadata": {},
   "outputs": [
    {
     "ename": "ValueError",
     "evalue": "operands could not be broadcast together with remapped shapes [original->remapped]: (7,6)->(7,6) (2,2,2)->(2,2,newaxis,2) ",
     "output_type": "error",
     "traceback": [
      "\u001b[0;31m---------------------------------------------------------------------------\u001b[0m",
      "\u001b[0;31mValueError\u001b[0m                                Traceback (most recent call last)",
      "\u001b[0;32m<ipython-input-2103-bf6717275819>\u001b[0m in \u001b[0;36m<module>\u001b[0;34m\u001b[0m\n\u001b[1;32m      3\u001b[0m \u001b[0mlns\u001b[0m \u001b[0;34m=\u001b[0m \u001b[0mnp\u001b[0m\u001b[0;34m.\u001b[0m\u001b[0mlinspace\u001b[0m\u001b[0;34m(\u001b[0m\u001b[0;34m-\u001b[0m\u001b[0;36m2\u001b[0m\u001b[0;34m,\u001b[0m\u001b[0;36m2\u001b[0m\u001b[0;34m,\u001b[0m\u001b[0mnum\u001b[0m\u001b[0;34m=\u001b[0m\u001b[0;36m2\u001b[0m\u001b[0;34m)\u001b[0m\u001b[0;34m\u001b[0m\u001b[0;34m\u001b[0m\u001b[0m\n\u001b[1;32m      4\u001b[0m \u001b[0mxx\u001b[0m\u001b[0;34m,\u001b[0m \u001b[0myy\u001b[0m \u001b[0;34m=\u001b[0m \u001b[0mnp\u001b[0m\u001b[0;34m.\u001b[0m\u001b[0mmeshgrid\u001b[0m\u001b[0;34m(\u001b[0m\u001b[0mlns\u001b[0m\u001b[0;34m,\u001b[0m\u001b[0mlns\u001b[0m\u001b[0;34m)\u001b[0m\u001b[0;34m\u001b[0m\u001b[0;34m\u001b[0m\u001b[0m\n\u001b[0;32m----> 5\u001b[0;31m \u001b[0mz\u001b[0m \u001b[0;34m=\u001b[0m \u001b[0mnp\u001b[0m\u001b[0;34m.\u001b[0m\u001b[0meinsum\u001b[0m\u001b[0;34m(\u001b[0m\u001b[0;34m'ij,klj->kli'\u001b[0m\u001b[0;34m,\u001b[0m\u001b[0mnullspace\u001b[0m\u001b[0;34m,\u001b[0m\u001b[0mnp\u001b[0m\u001b[0;34m.\u001b[0m\u001b[0mdstack\u001b[0m\u001b[0;34m(\u001b[0m\u001b[0;34m[\u001b[0m\u001b[0mxx\u001b[0m\u001b[0;34m,\u001b[0m\u001b[0myy\u001b[0m\u001b[0;34m]\u001b[0m\u001b[0;34m)\u001b[0m\u001b[0;34m)\u001b[0m \u001b[0;34m+\u001b[0m \u001b[0mnp\u001b[0m\u001b[0;34m.\u001b[0m\u001b[0msqueeze\u001b[0m\u001b[0;34m(\u001b[0m\u001b[0mnp\u001b[0m\u001b[0;34m.\u001b[0m\u001b[0mmean\u001b[0m\u001b[0;34m(\u001b[0m\u001b[0mx\u001b[0m\u001b[0;34m,\u001b[0m\u001b[0maxis\u001b[0m\u001b[0;34m=\u001b[0m\u001b[0;36m0\u001b[0m\u001b[0;34m)\u001b[0m\u001b[0;34m)\u001b[0m\u001b[0;34m[\u001b[0m\u001b[0;32mNone\u001b[0m\u001b[0;34m,\u001b[0m\u001b[0;32mNone\u001b[0m\u001b[0;34m]\u001b[0m\u001b[0;34m\u001b[0m\u001b[0;34m\u001b[0m\u001b[0m\n\u001b[0m\u001b[1;32m      6\u001b[0m \u001b[0;34m\u001b[0m\u001b[0m\n\u001b[1;32m      7\u001b[0m \u001b[0;31m# plot the plane\u001b[0m\u001b[0;34m\u001b[0m\u001b[0;34m\u001b[0m\u001b[0;34m\u001b[0m\u001b[0m\n",
      "\u001b[0;32m<__array_function__ internals>\u001b[0m in \u001b[0;36meinsum\u001b[0;34m(*args, **kwargs)\u001b[0m\n",
      "\u001b[0;32m~/opt/anaconda3/lib/python3.7/site-packages/numpy/core/einsumfunc.py\u001b[0m in \u001b[0;36meinsum\u001b[0;34m(out, optimize, *operands, **kwargs)\u001b[0m\n\u001b[1;32m   1348\u001b[0m         \u001b[0;32mif\u001b[0m \u001b[0mspecified_out\u001b[0m\u001b[0;34m:\u001b[0m\u001b[0;34m\u001b[0m\u001b[0;34m\u001b[0m\u001b[0m\n\u001b[1;32m   1349\u001b[0m             \u001b[0mkwargs\u001b[0m\u001b[0;34m[\u001b[0m\u001b[0;34m'out'\u001b[0m\u001b[0;34m]\u001b[0m \u001b[0;34m=\u001b[0m \u001b[0mout\u001b[0m\u001b[0;34m\u001b[0m\u001b[0;34m\u001b[0m\u001b[0m\n\u001b[0;32m-> 1350\u001b[0;31m         \u001b[0;32mreturn\u001b[0m \u001b[0mc_einsum\u001b[0m\u001b[0;34m(\u001b[0m\u001b[0;34m*\u001b[0m\u001b[0moperands\u001b[0m\u001b[0;34m,\u001b[0m \u001b[0;34m**\u001b[0m\u001b[0mkwargs\u001b[0m\u001b[0;34m)\u001b[0m\u001b[0;34m\u001b[0m\u001b[0;34m\u001b[0m\u001b[0m\n\u001b[0m\u001b[1;32m   1351\u001b[0m \u001b[0;34m\u001b[0m\u001b[0m\n\u001b[1;32m   1352\u001b[0m     \u001b[0;31m# Check the kwargs to avoid a more cryptic error later, without having to\u001b[0m\u001b[0;34m\u001b[0m\u001b[0;34m\u001b[0m\u001b[0;34m\u001b[0m\u001b[0m\n",
      "\u001b[0;31mValueError\u001b[0m: operands could not be broadcast together with remapped shapes [original->remapped]: (7,6)->(7,6) (2,2,2)->(2,2,newaxis,2) "
     ]
    }
   ],
   "source": [
    "real_evec = int(np.where(np.isreal(evals))[0])\n",
    "nullspace = sp.linalg.null_space(evecs[:,real_evec].reshape(1,-1))\n",
    "lns = np.linspace(-2,2,num=2)\n",
    "xx, yy = np.meshgrid(lns,lns)\n",
    "z = np.einsum('ij,klj->kli',nullspace,np.dstack([xx,yy])) + np.squeeze(np.mean(x,axis=0))[None,None]\n",
    "\n",
    "# plot the plane\n",
    "#ax.plot_surface(xx, yy, z, alpha=0.5)\n"
   ]
  },
  {
   "cell_type": "code",
   "execution_count": 2104,
   "metadata": {},
   "outputs": [
    {
     "data": {
      "text/plain": [
       "array([[ 0.35123731],\n",
       "       [-0.24139341],\n",
       "       [ 0.15914824],\n",
       "       [-0.57619474],\n",
       "       [ 0.07154751],\n",
       "       [-0.23843593],\n",
       "       [-0.32326363]])"
      ]
     },
     "execution_count": 2104,
     "metadata": {},
     "output_type": "execute_result"
    }
   ],
   "source": [
    "np.mean(x,axis=0)"
   ]
  },
  {
   "cell_type": "code",
   "execution_count": 2105,
   "metadata": {},
   "outputs": [
    {
     "data": {
      "text/plain": [
       "array([ 1.        +0.j        ,  0.18363189+0.98299508j,\n",
       "        0.18363189-0.98299508j, -0.79266727+0.60965449j,\n",
       "       -0.79266727-0.60965449j, -0.63285785+0.774268j  ,\n",
       "       -0.63285785-0.774268j  ])"
      ]
     },
     "execution_count": 2105,
     "metadata": {},
     "output_type": "execute_result"
    }
   ],
   "source": [
    "evals"
   ]
  },
  {
   "cell_type": "code",
   "execution_count": 2106,
   "metadata": {},
   "outputs": [
    {
     "data": {
      "text/plain": [
       "array([-0.03905586+0.j, -0.99275218+0.j, -1.0061655 +0.j,  0.01664151+0.j,\n",
       "       -0.00206354+0.j,  0.01150217+0.j,  0.01162903+0.j])"
      ]
     },
     "execution_count": 2106,
     "metadata": {},
     "output_type": "execute_result"
    }
   ],
   "source": [
    "(-1*nullspace[:,0] + -1*nullspace[:,1])"
   ]
  },
  {
   "cell_type": "code",
   "execution_count": 2107,
   "metadata": {},
   "outputs": [
    {
     "data": {
      "text/plain": [
       "-2.0"
      ]
     },
     "execution_count": 2107,
     "metadata": {},
     "output_type": "execute_result"
    }
   ],
   "source": [
    "xx[0,0]"
   ]
  },
  {
   "cell_type": "code",
   "execution_count": 2108,
   "metadata": {},
   "outputs": [
    {
     "data": {
      "text/plain": [
       "(-2.0002643691856283+0j)"
      ]
     },
     "execution_count": 2108,
     "metadata": {},
     "output_type": "execute_result"
    }
   ],
   "source": [
    "np.sum(-1*nullspace[:,0] + -1*nullspace[:,1])"
   ]
  },
  {
   "cell_type": "code",
   "execution_count": null,
   "metadata": {},
   "outputs": [],
   "source": []
  },
  {
   "cell_type": "code",
   "execution_count": 2109,
   "metadata": {},
   "outputs": [
    {
     "data": {
      "text/plain": [
       "True"
      ]
     },
     "execution_count": 2109,
     "metadata": {},
     "output_type": "execute_result"
    }
   ],
   "source": [
    "np.allclose(0,evecs[:,0].reshape(1,-1)@nullspace)"
   ]
  },
  {
   "cell_type": "code",
   "execution_count": 2110,
   "metadata": {},
   "outputs": [
    {
     "data": {
      "text/plain": [
       "array([ 1.        +0.j        ,  0.18363189+0.98299508j,\n",
       "        0.18363189-0.98299508j, -0.79266727+0.60965449j,\n",
       "       -0.79266727-0.60965449j, -0.63285785+0.774268j  ,\n",
       "       -0.63285785-0.774268j  ])"
      ]
     },
     "execution_count": 2110,
     "metadata": {},
     "output_type": "execute_result"
    }
   ],
   "source": [
    "evals"
   ]
  },
  {
   "cell_type": "code",
   "execution_count": 2111,
   "metadata": {},
   "outputs": [
    {
     "data": {
      "text/plain": [
       "array([[ 0.26154011-0.j, -0.22248425-0.j,  0.60051501-0.j,\n",
       "        -0.07446361-0.j,  0.41506011-0.j,  0.41963798-0.j],\n",
       "       [ 0.95146453-0.j,  0.04128765-0.j, -0.11144095-0.j,\n",
       "         0.01381863-0.j, -0.07702504-0.j, -0.07787458-0.j],\n",
       "       [ 0.04128765-0.j,  0.96487784-0.j,  0.09479944-0.j,\n",
       "        -0.01175509-0.j,  0.06552287-0.j,  0.06624554-0.j],\n",
       "       [-0.11144095-0.j,  0.09479944-0.j,  0.74412353-0.j,\n",
       "         0.03172858-0.j, -0.17685506-0.j, -0.17880566-0.j],\n",
       "       [ 0.01381863-0.j, -0.01175509-0.j,  0.03172858-0.j,\n",
       "         0.99606567-0.j,  0.02192995-0.j,  0.02217183-0.j],\n",
       "       [-0.07702504-0.j,  0.06552287-0.j, -0.17685506-0.j,\n",
       "         0.02192995-0.j,  0.87776246-0.j, -0.12358575-0.j],\n",
       "       [-0.07787458-0.j,  0.06624554-0.j, -0.17880566-0.j,\n",
       "         0.02217183-0.j, -0.12358575-0.j,  0.87505117-0.j]])"
      ]
     },
     "execution_count": 2111,
     "metadata": {},
     "output_type": "execute_result"
    }
   ],
   "source": [
    "nullspace"
   ]
  },
  {
   "cell_type": "code",
   "execution_count": 2112,
   "metadata": {},
   "outputs": [
    {
     "ename": "ValueError",
     "evalue": "all the input array dimensions for the concatenation axis must match exactly, but along dimension 1, the array at index 0 has size 3 and the array at index 1 has size 7",
     "output_type": "error",
     "traceback": [
      "\u001b[0;31m---------------------------------------------------------------------------\u001b[0m",
      "\u001b[0;31mValueError\u001b[0m                                Traceback (most recent call last)",
      "\u001b[0;32m<ipython-input-2112-35072ca7a227>\u001b[0m in \u001b[0;36m<module>\u001b[0;34m\u001b[0m\n\u001b[1;32m      4\u001b[0m \u001b[0max\u001b[0m\u001b[0;34m.\u001b[0m\u001b[0mplot3D\u001b[0m\u001b[0;34m(\u001b[0m\u001b[0mx\u001b[0m\u001b[0;34m[\u001b[0m\u001b[0;34m:\u001b[0m\u001b[0;34m,\u001b[0m\u001b[0;36m0\u001b[0m\u001b[0;34m,\u001b[0m\u001b[0;36m0\u001b[0m\u001b[0;34m]\u001b[0m\u001b[0;34m,\u001b[0m\u001b[0mx\u001b[0m\u001b[0;34m[\u001b[0m\u001b[0;34m:\u001b[0m\u001b[0;34m,\u001b[0m\u001b[0;36m1\u001b[0m\u001b[0;34m,\u001b[0m\u001b[0;36m0\u001b[0m\u001b[0;34m]\u001b[0m\u001b[0;34m,\u001b[0m\u001b[0mx\u001b[0m\u001b[0;34m[\u001b[0m\u001b[0;34m:\u001b[0m\u001b[0;34m,\u001b[0m\u001b[0;36m2\u001b[0m\u001b[0;34m,\u001b[0m\u001b[0;36m0\u001b[0m\u001b[0;34m]\u001b[0m\u001b[0;34m,\u001b[0m\u001b[0mcolor\u001b[0m\u001b[0;34m=\u001b[0m\u001b[0;34m'k'\u001b[0m\u001b[0;34m)\u001b[0m\u001b[0;34m\u001b[0m\u001b[0;34m\u001b[0m\u001b[0m\n\u001b[1;32m      5\u001b[0m \u001b[0;34m\u001b[0m\u001b[0m\n\u001b[0;32m----> 6\u001b[0;31m \u001b[0max\u001b[0m\u001b[0;34m.\u001b[0m\u001b[0mplot3D\u001b[0m\u001b[0;34m(\u001b[0m\u001b[0;34m*\u001b[0m\u001b[0mnp\u001b[0m\u001b[0;34m.\u001b[0m\u001b[0mvstack\u001b[0m\u001b[0;34m(\u001b[0m\u001b[0;34m[\u001b[0m\u001b[0mnp\u001b[0m\u001b[0;34m.\u001b[0m\u001b[0mzeros\u001b[0m\u001b[0;34m(\u001b[0m\u001b[0;36m3\u001b[0m\u001b[0;34m)\u001b[0m\u001b[0;34m,\u001b[0m\u001b[0mevecs\u001b[0m\u001b[0;34m[\u001b[0m\u001b[0;34m:\u001b[0m\u001b[0;34m,\u001b[0m\u001b[0mreal_evec\u001b[0m\u001b[0;34m]\u001b[0m\u001b[0;34m]\u001b[0m\u001b[0;34m)\u001b[0m\u001b[0;34m.\u001b[0m\u001b[0mT\u001b[0m\u001b[0;34m,\u001b[0m\u001b[0mcolor\u001b[0m\u001b[0;34m=\u001b[0m\u001b[0;34m'r'\u001b[0m\u001b[0;34m)\u001b[0m\u001b[0;34m\u001b[0m\u001b[0;34m\u001b[0m\u001b[0m\n\u001b[0m\u001b[1;32m      7\u001b[0m \u001b[0;31m#ax.plot3D(*np.vstack([np.zeros(3),evecs[:,1]]).T)\u001b[0m\u001b[0;34m\u001b[0m\u001b[0;34m\u001b[0m\u001b[0;34m\u001b[0m\u001b[0m\n\u001b[1;32m      8\u001b[0m \u001b[0;31m#ax.plot3D(*np.vstack([np.zeros(3),evecs[:,2]]).T)\u001b[0m\u001b[0;34m\u001b[0m\u001b[0;34m\u001b[0m\u001b[0;34m\u001b[0m\u001b[0m\n",
      "\u001b[0;32m<__array_function__ internals>\u001b[0m in \u001b[0;36mvstack\u001b[0;34m(*args, **kwargs)\u001b[0m\n",
      "\u001b[0;32m~/opt/anaconda3/lib/python3.7/site-packages/numpy/core/shape_base.py\u001b[0m in \u001b[0;36mvstack\u001b[0;34m(tup)\u001b[0m\n\u001b[1;32m    281\u001b[0m     \u001b[0;32mif\u001b[0m \u001b[0;32mnot\u001b[0m \u001b[0misinstance\u001b[0m\u001b[0;34m(\u001b[0m\u001b[0marrs\u001b[0m\u001b[0;34m,\u001b[0m \u001b[0mlist\u001b[0m\u001b[0;34m)\u001b[0m\u001b[0;34m:\u001b[0m\u001b[0;34m\u001b[0m\u001b[0;34m\u001b[0m\u001b[0m\n\u001b[1;32m    282\u001b[0m         \u001b[0marrs\u001b[0m \u001b[0;34m=\u001b[0m \u001b[0;34m[\u001b[0m\u001b[0marrs\u001b[0m\u001b[0;34m]\u001b[0m\u001b[0;34m\u001b[0m\u001b[0;34m\u001b[0m\u001b[0m\n\u001b[0;32m--> 283\u001b[0;31m     \u001b[0;32mreturn\u001b[0m \u001b[0m_nx\u001b[0m\u001b[0;34m.\u001b[0m\u001b[0mconcatenate\u001b[0m\u001b[0;34m(\u001b[0m\u001b[0marrs\u001b[0m\u001b[0;34m,\u001b[0m \u001b[0;36m0\u001b[0m\u001b[0;34m)\u001b[0m\u001b[0;34m\u001b[0m\u001b[0;34m\u001b[0m\u001b[0m\n\u001b[0m\u001b[1;32m    284\u001b[0m \u001b[0;34m\u001b[0m\u001b[0m\n\u001b[1;32m    285\u001b[0m \u001b[0;34m\u001b[0m\u001b[0m\n",
      "\u001b[0;32m<__array_function__ internals>\u001b[0m in \u001b[0;36mconcatenate\u001b[0;34m(*args, **kwargs)\u001b[0m\n",
      "\u001b[0;31mValueError\u001b[0m: all the input array dimensions for the concatenation axis must match exactly, but along dimension 1, the array at index 0 has size 3 and the array at index 1 has size 7"
     ]
    },
    {
     "data": {
      "image/png": "[encoded data removed]",
      "text/plain": [
       "<Figure size 432x288 with 1 Axes>"
      ]
     },
     "metadata": {},
     "output_type": "display_data"
    }
   ],
   "source": [
    "fig = plt.figure()\n",
    "ax = plt.axes(projection='3d')\n",
    "\n",
    "ax.plot3D(x[:,0,0],x[:,1,0],x[:,2,0],color='k')\n",
    "\n",
    "ax.plot3D(*np.vstack([np.zeros(3),evecs[:,real_evec]]).T,color='r')\n",
    "#ax.plot3D(*np.vstack([np.zeros(3),evecs[:,1]]).T)\n",
    "#ax.plot3D(*np.vstack([np.zeros(3),evecs[:,2]]).T)\n",
    "ax.plot3D(*np.vstack([np.zeros(3),nullspace[:,0].real]).T,color='g')\n",
    "ax.plot3D(*np.vstack([np.zeros(3),nullspace[:,1].real]).T,color='g')\n",
    "\n",
    "#ax.set_xlim(-1,1)\n",
    "#ax.set_ylim(-1,1)\n",
    "#ax.set_zlim(-1,1)\n",
    "ax.plot_surface(z[:,:,0],z[:,:,1],z[:,:,2], alpha=0.5)\n",
    "\n",
    "plt.show()"
   ]
  },
  {
   "cell_type": "markdown",
   "metadata": {},
   "source": [
    "# check if simulated activity comes out as periodic"
   ]
  },
  {
   "cell_type": "code",
   "execution_count": 2113,
   "metadata": {},
   "outputs": [],
   "source": [
    "@numba.jit(nopython=True)\n",
    "def fit_sin2(x,*params):\n",
    "    t_ = np.linspace(0,2*np.pi,9)\n",
    "    y = np.array(params)\n",
    "    y -= np.mean(y)\n",
    "    y /=np.max(y)\n",
    "    pred = np.cos(x[0]*t_ + x[1])#*x[2] + x[3]\n",
    "    cc = np.corrcoef(pred,y)[0,1]\n",
    "    if np.isnan(cc): cc = -100\n",
    "    return -cc"
   ]
  },
  {
   "cell_type": "code",
   "execution_count": 2114,
   "metadata": {},
   "outputs": [],
   "source": [
    "resps_state_g1 = act_matrix.copy().T\n",
    "resps_state_g2 = act_matrix2.copy().T"
   ]
  },
  {
   "cell_type": "code",
   "execution_count": 2115,
   "metadata": {},
   "outputs": [
    {
     "name": "stdout",
     "output_type": "stream",
     "text": [
      " running cell:119"
     ]
    }
   ],
   "source": [
    "res_t1 = []\n",
    "res_t2 = []\n",
    "all_cc = []\n",
    "all_shuffle_cc = []\n",
    "t_ = np.linspace(0,2*np.pi,9)\n",
    "NSHUFF = 100\n",
    "params_ranges = [slice(0,4,.5),slice(0,2*np.pi,np.pi/9)]\n",
    "#params_ranges = [slice(0,4,.5),slice(0,np.pi,np.pi/9),slice(0,1,.25),slice(0,1,.25)]\n",
    "\n",
    "\n",
    "n_neurons = resps_state_g1.shape[0]\n",
    "\n",
    "\n",
    "\n",
    "for i in range(n_neurons):\n",
    "    sys.stdout.write('\\r running cell:{}'.format(i))\n",
    "    sys.stdout.flush()\n",
    "    \n",
    "    y1 = resps_state_g1[i] #np.random.permutation(resps_state_g1[i])\n",
    "    y2 = resps_state_g2[i] #np.random.permutation(resps_state_g2[i])\n",
    "    spks = y1# - (y1 + y2)/2.\n",
    "    y = spks\n",
    "    #y -= np.mean(y)\n",
    "    #y /=np.max(y)\n",
    "\n",
    "    #res1 = op.minimize(fit_sin,\n",
    "    #        [1,0],\n",
    "    #        args=spks)\n",
    "    res1 = op.brute(fit_sin2,params_ranges,args=spks,finish=None)\n",
    "    cc1 = np.corrcoef(spks,np.cos(res1[0]*t_ + res1[1]))[0,1]\n",
    "    \n",
    "    cc1_shuff = []\n",
    "    for _ in range(NSHUFF):\n",
    "        spks_shuff = np.random.permutation(spks)\n",
    "        res1_shuff = op.brute(fit_sin2,params_ranges,args=spks_shuff,finish=None)\n",
    "        cc1_shuff.append(np.corrcoef(spks_shuff,np.cos(res1_shuff[0]*t_ + res1_shuff[1]))[0,1])\n",
    "        \n",
    "\n",
    "\n",
    "    spks = y2# - (y1 + y2)/2.\n",
    "    y = spks\n",
    "    #y = np.random.permutation(spks)\n",
    "    #y -= np.mean(y)\n",
    "    #y /=np.max(y)\n",
    "\n",
    "\n",
    "    #res2 = op.minimize(fit_sin,\n",
    "    #        [1,0],\n",
    "    #        args=spks)\n",
    "    res2 = op.brute(fit_sin2,params_ranges,args=spks,finish=None)\n",
    "    cc2 = np.corrcoef(y,np.cos(res2[0]*t_ + res2[1]))[0,1]\n",
    "    \n",
    "    cc2_shuff = []\n",
    "    for _ in range(NSHUFF):\n",
    "        spks_shuff = np.random.permutation(spks)\n",
    "        res2_shuff = op.brute(fit_sin2,params_ranges,args=spks_shuff,finish=None)\n",
    "        cc2_shuff.append(np.corrcoef(spks_shuff,np.cos(res2_shuff[0]*t_ + res2_shuff[1]))[0,1])\n",
    "\n",
    "    all_cc.append([cc1,cc2])\n",
    "    all_shuffle_cc.append([cc1_shuff,cc2_shuff])\n",
    "    \n",
    "    res_t1.append(res1)\n",
    "    res_t2.append(res2)\n",
    "all_cc = np.array(all_cc)\n",
    "res_t1 = np.array(res_t1)\n",
    "res_t2 = np.array(res_t2)"
   ]
  },
  {
   "cell_type": "code",
   "execution_count": 2116,
   "metadata": {},
   "outputs": [],
   "source": [
    "import scipy.stats as stt"
   ]
  },
  {
   "cell_type": "code",
   "execution_count": 2117,
   "metadata": {},
   "outputs": [],
   "source": [
    "p_vals = []\n",
    "for cell_ix,cell in enumerate(all_cc):\n",
    "    tmp = []\n",
    "    for task_nr in range(2):\n",
    "        p1 = stt.percentileofscore(all_shuffle_cc[cell_ix][task_nr],cell[task_nr])\n",
    "        tmp.append(p1)\n",
    "    p_vals.append(tmp)"
   ]
  },
  {
   "cell_type": "code",
   "execution_count": 2118,
   "metadata": {},
   "outputs": [
    {
     "name": "stdout",
     "output_type": "stream",
     "text": [
      "0.10833333333333334\n",
      "0.31666666666666665\n"
     ]
    }
   ],
   "source": [
    "print(np.mean(np.array(p_vals)[:,0]>97.5))\n",
    "print(np.mean(np.array(p_vals)[:,1]>97.5))"
   ]
  },
  {
   "cell_type": "code",
   "execution_count": 2119,
   "metadata": {},
   "outputs": [
    {
     "data": {
      "text/plain": [
       "[<matplotlib.lines.Line2D at 0x7fda212c0490>]"
      ]
     },
     "execution_count": 2119,
     "metadata": {},
     "output_type": "execute_result"
    },
    {
     "data": {
      "image/png": "[encoded data removed]",
      "text/plain": [
       "<Figure size 432x288 with 1 Axes>"
      ]
     },
     "metadata": {},
     "output_type": "display_data"
    }
   ],
   "source": [
    "plt.plot(act_matrix[:,0])"
   ]
  },
  {
   "cell_type": "code",
   "execution_count": 2120,
   "metadata": {},
   "outputs": [
    {
     "data": {
      "text/plain": [
       "[<matplotlib.lines.Line2D at 0x7fda21f70ed0>]"
      ]
     },
     "execution_count": 2120,
     "metadata": {},
     "output_type": "execute_result"
    },
    {
     "data": {
      "image/png": "[encoded data removed]",
      "text/plain": [
       "<Figure size 432x288 with 1 Axes>"
      ]
     },
     "metadata": {},
     "output_type": "display_data"
    }
   ],
   "source": [
    "plt.plot(act_matrix[:,0])"
   ]
  },
  {
   "cell_type": "code",
   "execution_count": 883,
   "metadata": {},
   "outputs": [
    {
     "name": "stdout",
     "output_type": "stream",
     "text": [
      "[[ 1.         -0.03167788]\n",
      " [-0.03167788  1.        ]]\n"
     ]
    },
    {
     "data": {
      "image/png": "[encoded data removed]",
      "text/plain": [
       "<Figure size 432x432 with 3 Axes>"
      ]
     },
     "metadata": {},
     "output_type": "display_data"
    }
   ],
   "source": [
    "seaborn.jointplot(res_t1[:,0],res_t2[:,0],kind='reg')\n",
    "print(np.corrcoef(res_t1[:,0],res_t2[:,0]))"
   ]
  },
  {
   "cell_type": "code",
   "execution_count": null,
   "metadata": {},
   "outputs": [],
   "source": []
  }
 ],
 "metadata": {
  "kernelspec": {
   "display_name": "Python 3",
   "language": "python",
   "name": "python3"
  },
  "language_info": {
   "codemirror_mode": {
    "name": "ipython",
    "version": 3
   },
   "file_extension": ".py",
   "mimetype": "text/x-python",
   "name": "python",
   "nbconvert_exporter": "python",
   "pygments_lexer": "ipython3",
   "version": "3.7.4"
  }
 },
 "nbformat": 4,
 "nbformat_minor": 2
}
