{
 "cells": [
  {
   "cell_type": "markdown",
   "metadata": {},
   "source": [
    "# In this notebook, play around to figure out derivative of the multi-step process"
   ]
  },
  {
   "cell_type": "code",
   "execution_count": null,
   "metadata": {},
   "outputs": [],
   "source": [
    "%matplotlib inline\n",
    "\n",
    "import numpy as np\n",
    "import matplotlib.pyplot as plt\n",
    "import seaborn\n",
    "import scipy.optimize as op\n",
    "seaborn.set(font_scale=1.5,style='ticks')"
   ]
  },
  {
   "cell_type": "code",
   "execution_count": 448,
   "metadata": {},
   "outputs": [],
   "source": [
    "A = np.random.normal(size=(5,5))\n",
    "x = np.random.normal(size=(5,1))\n",
    "\n",
    "\n",
    "y = A@x + np.random.normal(size=(5,1))"
   ]
  },
  {
   "cell_type": "code",
   "execution_count": 449,
   "metadata": {},
   "outputs": [],
   "source": [
    "def cost(A,x,y):\n",
    "    return (A@x-y)[0]**2"
   ]
  },
  {
   "cell_type": "code",
   "execution_count": 450,
   "metadata": {},
   "outputs": [
    {
     "data": {
      "text/plain": [
       "array([ 0.68028084, -6.17601591, -1.92242457, -0.94327094,  0.99201918])"
      ]
     },
     "execution_count": 450,
     "metadata": {},
     "output_type": "execute_result"
    }
   ],
   "source": [
    "Ahat = np.random.normal(size=(5,5))\n",
    "\n",
    "\n",
    "op.approx_fprime(Ahat,\n",
    "                 cost,\n",
    "                 1e-6,\n",
    "                 *(x,y))"
   ]
  },
  {
   "cell_type": "code",
   "execution_count": null,
   "metadata": {},
   "outputs": [],
   "source": []
  },
  {
   "cell_type": "code",
   "execution_count": 451,
   "metadata": {},
   "outputs": [
    {
     "data": {
      "text/plain": [
       "array([ 0.68028078, -6.17602097, -1.92242506, -0.94327106,  0.99201905])"
      ]
     },
     "execution_count": 451,
     "metadata": {},
     "output_type": "execute_result"
    }
   ],
   "source": [
    "(2*(Ahat@x-y)@x.T)[0]"
   ]
  },
  {
   "cell_type": "markdown",
   "metadata": {},
   "source": [
    "# Two steps ahead"
   ]
  },
  {
   "cell_type": "code",
   "execution_count": 452,
   "metadata": {},
   "outputs": [],
   "source": [
    "A = np.random.normal(size=(5,5))\n",
    "x = np.random.normal(size=(5,1))\n",
    "\n",
    "\n",
    "y = np.linalg.matrix_power(A,2)@x + np.random.normal(size=(5,1))\n",
    "\n",
    "Ahat = np.random.normal(size=(5,5))\n"
   ]
  },
  {
   "cell_type": "code",
   "execution_count": 490,
   "metadata": {},
   "outputs": [],
   "source": [
    "def cost2(Ad,x,y):\n",
    "    return sum(((np.linalg.matrix_power(Ad,2)@x-y))**2)"
   ]
  },
  {
   "cell_type": "code",
   "execution_count": null,
   "metadata": {},
   "outputs": [],
   "source": []
  },
  {
   "cell_type": "code",
   "execution_count": 491,
   "metadata": {},
   "outputs": [
    {
     "data": {
      "text/plain": [
       "array([ -2.17598421,  -3.65830778, -19.99982288,   7.88798872,\n",
       "        15.15002795])"
      ]
     },
     "execution_count": 491,
     "metadata": {},
     "output_type": "execute_result"
    }
   ],
   "source": [
    "\n",
    "\n",
    "op.approx_fprime(Ahat,\n",
    "                 cost2,\n",
    "                 1e-6,\n",
    "                 *(x,y))"
   ]
  },
  {
   "cell_type": "code",
   "execution_count": 492,
   "metadata": {},
   "outputs": [],
   "source": [
    "i=j= 0\n",
    "m = 5\n",
    "e_i = np.zeros(m)\n",
    "e_j = np.zeros(m)\n",
    "e_i[i] = 1.\n",
    "e_j[j] = 1.\n",
    "E = np.outer(e_i, e_j)\n",
    "\n",
    "n = 2\n",
    "D = sum(np.linalg.matrix_power(Ahat, i) @ E @ np.linalg.matrix_power(Ahat, n - i - 1) for i in range(0, n))"
   ]
  },
  {
   "cell_type": "code",
   "execution_count": null,
   "metadata": {},
   "outputs": [],
   "source": []
  },
  {
   "cell_type": "code",
   "execution_count": 474,
   "metadata": {},
   "outputs": [
    {
     "data": {
      "text/plain": [
       "array([  0.90187716,   4.10045213, -10.0628444 ,  -5.33749302,\n",
       "       -13.62722759])"
      ]
     },
     "execution_count": 474,
     "metadata": {},
     "output_type": "execute_result"
    }
   ],
   "source": [
    "\n",
    "\n",
    "op.approx_fprime(Ahat,\n",
    "                 cost3,\n",
    "                 1e-6,\n",
    "                 )"
   ]
  },
  {
   "cell_type": "code",
   "execution_count": 457,
   "metadata": {},
   "outputs": [],
   "source": [
    "e = np.zeros(5)\n",
    "e[0] = 1\n",
    "E = np.outer(e,e)"
   ]
  },
  {
   "cell_type": "code",
   "execution_count": 458,
   "metadata": {},
   "outputs": [],
   "source": [
    "tmp = np.zeros([5,5])\n",
    "for i in range(2):\n",
    "    tmp += np.linalg.matrix_power(Ahat,i)@E@np.linalg.matrix_power(Ahat,2-i-1)"
   ]
  },
  {
   "cell_type": "code",
   "execution_count": 459,
   "metadata": {},
   "outputs": [
    {
     "data": {
      "text/plain": [
       "array([[-0.72525518,  0.36919555,  0.17883359,  0.16851301, -1.16964967],\n",
       "       [ 0.14708129,  0.        ,  0.        ,  0.        ,  0.        ],\n",
       "       [ 2.31145934,  0.        ,  0.        ,  0.        ,  0.        ],\n",
       "       [ 1.67067131,  0.        ,  0.        ,  0.        ,  0.        ],\n",
       "       [-0.04094999,  0.        ,  0.        ,  0.        ,  0.        ]])"
      ]
     },
     "execution_count": 459,
     "metadata": {},
     "output_type": "execute_result"
    }
   ],
   "source": [
    "tmp"
   ]
  },
  {
   "cell_type": "code",
   "execution_count": 460,
   "metadata": {},
   "outputs": [
    {
     "data": {
      "text/plain": [
       "array([[-0.62810653],\n",
       "       [ 0.3060872 ],\n",
       "       [-6.55063074],\n",
       "       [-1.07275292],\n",
       "       [-0.08016505]])"
      ]
     },
     "execution_count": 460,
     "metadata": {},
     "output_type": "execute_result"
    }
   ],
   "source": [
    "2*(np.linalg.matrix_power(Ahat,2)@x-y) *(tmp@x)"
   ]
  },
  {
   "cell_type": "code",
   "execution_count": 461,
   "metadata": {},
   "outputs": [
    {
     "data": {
      "text/plain": [
       "array([-0.62810653, -0.25453476, -4.00014661, -2.89121685,  0.0708669 ])"
      ]
     },
     "execution_count": 461,
     "metadata": {},
     "output_type": "execute_result"
    }
   ],
   "source": [
    "(2*(np.linalg.matrix_power(Ahat,2)@x-y)@((tmp@x).T))[0]"
   ]
  },
  {
   "cell_type": "code",
   "execution_count": 462,
   "metadata": {},
   "outputs": [],
   "source": [
    "evals,evecs = np.linalg.eig(Ahat)"
   ]
  },
  {
   "cell_type": "code",
   "execution_count": null,
   "metadata": {},
   "outputs": [],
   "source": []
  },
  {
   "cell_type": "code",
   "execution_count": 278,
   "metadata": {},
   "outputs": [
    {
     "data": {
      "text/plain": [
       "array([1.07678173])"
      ]
     },
     "execution_count": 278,
     "metadata": {},
     "output_type": "execute_result"
    }
   ],
   "source": [
    "(A[0]@x + A[0,0]**2 * x[0])"
   ]
  },
  {
   "cell_type": "code",
   "execution_count": 270,
   "metadata": {},
   "outputs": [
    {
     "data": {
      "text/plain": [
       "array([[ -45.26875374,   29.79335572,  -41.53599406,  150.06983201,\n",
       "          24.42272071],\n",
       "       [ -54.08014821,   35.59252155,  -49.62082074,  179.28036639,\n",
       "          29.17651241],\n",
       "       [ -36.81144214,   24.22722738,  -33.77605336,  122.03311293,\n",
       "          19.85995849],\n",
       "       [ -55.55782451,   36.56504524,  -50.97665118,  184.17899107,\n",
       "          29.97372622],\n",
       "       [  38.70797959,  -25.475422  ,   35.51620659, -128.32029853,\n",
       "         -20.88315   ]])"
      ]
     },
     "execution_count": 270,
     "metadata": {},
     "output_type": "execute_result"
    }
   ],
   "source": [
    "(4*(np.linalg.matrix_power(Ahat,2)@x-y)@((Ahat.T@x).T))"
   ]
  },
  {
   "cell_type": "code",
   "execution_count": null,
   "metadata": {},
   "outputs": [],
   "source": []
  },
  {
   "cell_type": "code",
   "execution_count": 84,
   "metadata": {},
   "outputs": [
    {
     "data": {
      "text/plain": [
       "array([[-3.0749895 ,  2.27633336,  0.12132083,  0.98921866,  3.39335858],\n",
       "       [-5.91608917,  1.53606772, -5.12562965, -0.11359664,  3.3046313 ],\n",
       "       [ 4.56501482,  1.80303031,  7.00232585,  1.79403965, -2.54782167],\n",
       "       [-1.39829355,  1.33088184,  0.37647531,  0.97128993, -0.45873432],\n",
       "       [-1.47776503,  2.45425331,  1.9255465 , -0.58754651,  4.04081471]])"
      ]
     },
     "execution_count": 84,
     "metadata": {},
     "output_type": "execute_result"
    }
   ],
   "source": [
    "\n",
    "A@A"
   ]
  },
  {
   "cell_type": "code",
   "execution_count": 85,
   "metadata": {},
   "outputs": [
    {
     "data": {
      "text/plain": [
       "array([[-3.0749895 ,  2.27633336,  0.12132083,  0.98921866,  3.39335858],\n",
       "       [-5.91608917,  1.53606772, -5.12562965, -0.11359664,  3.3046313 ],\n",
       "       [ 4.56501482,  1.80303031,  7.00232585,  1.79403965, -2.54782167],\n",
       "       [-1.39829355,  1.33088184,  0.37647531,  0.97128993, -0.45873432],\n",
       "       [-1.47776503,  2.45425331,  1.9255465 , -0.58754651,  4.04081471]])"
      ]
     },
     "execution_count": 85,
     "metadata": {},
     "output_type": "execute_result"
    }
   ],
   "source": [
    "\n",
    "def cost(A,x)\n",
    "    np.linalg.matrix_power(A,2)"
   ]
  },
  {
   "cell_type": "code",
   "execution_count": 271,
   "metadata": {},
   "outputs": [
    {
     "data": {
      "text/plain": [
       "array([[  4926.62007021],\n",
       "       [ -6712.73889025],\n",
       "       [-11486.87727486],\n",
       "       [  1898.15367907],\n",
       "       [ 12516.10889532]])"
      ]
     },
     "execution_count": 271,
     "metadata": {},
     "output_type": "execute_result"
    }
   ],
   "source": [
    "np.linalg.matrix_power(A,20)@x"
   ]
  },
  {
   "cell_type": "code",
   "execution_count": 301,
   "metadata": {},
   "outputs": [],
   "source": [
    "z = np.zeros(5)\n",
    "z[0] = (A[0]@x + A[0,0] * x[0])\n",
    "z[1:] = A[1:,0]"
   ]
  },
  {
   "cell_type": "code",
   "execution_count": 302,
   "metadata": {},
   "outputs": [
    {
     "data": {
      "text/plain": [
       "array([-24.38017597])"
      ]
     },
     "execution_count": 302,
     "metadata": {},
     "output_type": "execute_result"
    }
   ],
   "source": [
    "np.dot(2*(np.linalg.matrix_power(Ahat,2)@x-y).T,z)"
   ]
  },
  {
   "cell_type": "markdown",
   "metadata": {},
   "source": [
    "# Run with jax"
   ]
  },
  {
   "cell_type": "code",
   "execution_count": 608,
   "metadata": {},
   "outputs": [],
   "source": [
    "A = np.random.normal(size=(5,5))\n",
    "x = np.random.normal(size=(5,1))\n",
    "\n",
    "\n",
    "y = np.linalg.matrix_power(A,2)@x #+ np.random.normal(size=(5,1))\n",
    "\n",
    "Ahat = np.random.normal(size=(5,5))\n"
   ]
  },
  {
   "cell_type": "code",
   "execution_count": null,
   "metadata": {},
   "outputs": [],
   "source": []
  },
  {
   "cell_type": "code",
   "execution_count": null,
   "metadata": {},
   "outputs": [],
   "source": []
  },
  {
   "cell_type": "code",
   "execution_count": null,
   "metadata": {},
   "outputs": [],
   "source": []
  },
  {
   "cell_type": "code",
   "execution_count": 609,
   "metadata": {},
   "outputs": [],
   "source": [
    "import jax.numpy as jnp\n",
    "from jax import grad, jit, vmap\n",
    "from jax import random\n"
   ]
  },
  {
   "cell_type": "code",
   "execution_count": 610,
   "metadata": {},
   "outputs": [],
   "source": [
    "def predict(Ahat,x,y):\n",
    "    Ahat = jnp.reshape(Ahat,(5,5))\n",
    "    return jnp.sum((jnp.dot(jnp.linalg.matrix_power(Ahat,2),x)-y)**2)"
   ]
  },
  {
   "cell_type": "code",
   "execution_count": 611,
   "metadata": {},
   "outputs": [],
   "source": [
    "\n",
    "grad_predict = grad(predict)\n",
    "\n",
    "def grad_wrap(Ahat,x,y):\n",
    "    #Ahat = jnp.reshape(Ahat,(5,5))\n",
    "    return np.array(grad_predict(Ahat,x,y)).flatten()"
   ]
  },
  {
   "cell_type": "code",
   "execution_count": 612,
   "metadata": {},
   "outputs": [
    {
     "data": {
      "text/plain": [
       "array([-38.4132    ,  12.734225  ,  -8.72143   , -10.775151  ,\n",
       "       -19.905865  ,   6.081798  ,   0.99771005,  -1.5816524 ,\n",
       "         3.3724425 ,  -0.5580479 , -53.747536  , -18.807701  ,\n",
       "        23.79792   , -35.327816  ,  17.228657  , -33.07635   ,\n",
       "        23.738226  , -20.065157  ,  -2.2154346 , -32.862366  ,\n",
       "       -72.678795  ,  17.843946  , -10.358186  , -23.842436  ,\n",
       "       -29.970087  ], dtype=float32)"
      ]
     },
     "execution_count": 612,
     "metadata": {},
     "output_type": "execute_result"
    }
   ],
   "source": [
    "grad_wrap(Ahat,x,y)"
   ]
  },
  {
   "cell_type": "code",
   "execution_count": 613,
   "metadata": {},
   "outputs": [
    {
     "data": {
      "text/plain": [
       "DeviceArray(4.5474735e-13, dtype=float32)"
      ]
     },
     "execution_count": 613,
     "metadata": {},
     "output_type": "execute_result"
    }
   ],
   "source": [
    "predict(A,x,y)"
   ]
  },
  {
   "cell_type": "code",
   "execution_count": 614,
   "metadata": {},
   "outputs": [],
   "source": [
    "res = op.minimize(predict,\n",
    "           Ahat.flatten(),\n",
    "           (x,y),\n",
    "           jac=grad_wrap,\n",
    "           method='BFGS'\n",
    "           )"
   ]
  },
  {
   "cell_type": "code",
   "execution_count": 615,
   "metadata": {},
   "outputs": [
    {
     "data": {
      "text/plain": [
       "array([[-1.22460316,  0.72622814,  0.50708658,  0.54978612, -1.00648622],\n",
       "       [ 1.82127266, -1.06875035,  1.47263374,  0.38960624,  1.29957188],\n",
       "       [ 0.54046966,  0.7858748 ,  2.30273027,  0.88306787,  0.72985877],\n",
       "       [-0.34367772, -1.15917902, -1.96031598, -0.9978303 , -1.41348504],\n",
       "       [ 0.21099819, -0.84988989, -1.82750732, -1.73886696, -0.69337155]])"
      ]
     },
     "execution_count": 615,
     "metadata": {},
     "output_type": "execute_result"
    }
   ],
   "source": []
  },
  {
   "cell_type": "code",
   "execution_count": 618,
   "metadata": {},
   "outputs": [
    {
     "data": {
      "text/plain": [
       "array([[ 4.36784692],\n",
       "       [-5.1965338 ],\n",
       "       [ 2.36050634],\n",
       "       [-2.71350226],\n",
       "       [-2.28097974]])"
      ]
     },
     "execution_count": 618,
     "metadata": {},
     "output_type": "execute_result"
    }
   ],
   "source": [
    "np.linalg.matrix_power(res.x.reshape(5,5),2)@x"
   ]
  },
  {
   "cell_type": "code",
   "execution_count": 619,
   "metadata": {},
   "outputs": [
    {
     "data": {
      "text/plain": [
       "array([[ 4.36784739],\n",
       "       [-5.19653372],\n",
       "       [ 2.36050631],\n",
       "       [-2.71350261],\n",
       "       [-2.28098008]])"
      ]
     },
     "execution_count": 619,
     "metadata": {},
     "output_type": "execute_result"
    }
   ],
   "source": [
    "y"
   ]
  },
  {
   "cell_type": "markdown",
   "metadata": {},
   "source": [
    "# Now do full simulation "
   ]
  },
  {
   "cell_type": "code",
   "execution_count": null,
   "metadata": {},
   "outputs": [],
   "source": []
  }
 ],
 "metadata": {
  "kernelspec": {
   "display_name": "Python 3",
   "language": "python",
   "name": "python3"
  },
  "language_info": {
   "codemirror_mode": {
    "name": "ipython",
    "version": 3
   },
   "file_extension": ".py",
   "mimetype": "text/x-python",
   "name": "python",
   "nbconvert_exporter": "python",
   "pygments_lexer": "ipython3",
   "version": "3.7.4"
  }
 },
 "nbformat": 4,
 "nbformat_minor": 2
}
