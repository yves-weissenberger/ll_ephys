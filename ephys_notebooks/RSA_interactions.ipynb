{
 "cells": [
  {
   "cell_type": "code",
   "execution_count": 319,
   "metadata": {},
   "outputs": [],
   "source": [
    "#%matplotlib inline\n",
    "import sys\n",
    "import os\n",
    "\n",
    "\n",
    "import numpy as np\n",
    "import matplotlib.pyplot as plt\n",
    "import scipy.ndimage as ndi\n",
    "import pandas as pd\n",
    "import networkx as nx\n",
    "import scipy.stats as stt\n",
    "#optional for nicer plots\n",
    "import seaborn\n",
    "clrs = seaborn.color_palette(n_colors=6)\n",
    "seaborn.set(style='ticks',font_scale=1.5)"
   ]
  },
  {
   "cell_type": "code",
   "execution_count": 320,
   "metadata": {},
   "outputs": [],
   "source": [
    "poke_pos = np.array([1,-1])*np.array([ [149,0],\n",
    "                                 [68,19],[231,19],\n",
    "                               [0,62],[149,62],[298,62],\n",
    "                                 [68,105],[231,105],\n",
    "                                      [149,124]])"
   ]
  },
  {
   "cell_type": "code",
   "execution_count": 306,
   "metadata": {},
   "outputs": [],
   "source": [
    "sys.path.append(\"/Users/yves/Desktop/retreat_data_dir/code/\")\n",
    "from mecll.task import plot_activity_on_graph"
   ]
  },
  {
   "cell_type": "code",
   "execution_count": 307,
   "metadata": {},
   "outputs": [],
   "source": [
    "def load_data(selected_session,by_dir=False):\n",
    "    \n",
    "    \"\"\" Function to load data structured according to the format\n",
    "        that the data were delivered to the retreat for\n",
    "    \"\"\"\n",
    "    all_data_dir = '/Users/yves/Desktop/retreat_data_dir/data/'\n",
    "    all_data_folders = sorted([i for i in os.listdir(all_data_dir) if 'ks25' in i])\n",
    "    root_dir = os.path.join(all_data_dir,all_data_folders[selected_session])\n",
    "    spkT = np.load(os.path.join(root_dir,'spkT_task.npy'))\n",
    "\n",
    "\n",
    "    #This array is the same shape as spkT but shows which cluster each of the spikes in spkT belongs to\n",
    "    spkC = np.load(os.path.join(root_dir,'spkC_task.npy'))\n",
    "\n",
    "    #This is basically a big table (you can open it in excel) which contains\n",
    "    #relevant information about each time the animal poked one of the ports\n",
    "    task_event_df = pd.read_csv(os.path.join(root_dir,'task_event_table.csv'),index_col=0)\n",
    "\n",
    "    #\n",
    "    response_table = np.load(os.path.join(root_dir,'neuron_response_table.npy'))\n",
    "    #alternatively to change the time window\n",
    "\n",
    "\n",
    "    #not all cluster in spkC correspond to single units. Single units is an array of the clusters that are single units\n",
    "    single_units = np.load(os.path.join(root_dir,'single_units.npy'))\n",
    "    \n",
    "    \n",
    "    seq0 = np.array(eval(task_event_df.loc[task_event_df['task_nr']==0]['current_sequence'].values[0]))\n",
    "    seq1 = np.array(eval(task_event_df.loc[task_event_df['task_nr']==1]['current_sequence'].values[0]))\n",
    "    \n",
    "    \n",
    "    graph_type0 = task_event_df.loc[task_event_df['task_nr']==0]['graph_type'].values[0]\n",
    "    graph_type1 = task_event_df.loc[task_event_df['task_nr']==0]['graph_type'].values[0]\n",
    "    \n",
    "    if by_dir:\n",
    "        firing_rate_maps = get_task_responses_by_direction(task_event_df,response_table)\n",
    "    else:\n",
    "        firing_rate_maps = get_task_responses(task_event_df,response_table)\n",
    "    \n",
    "    return firing_rate_maps, task_event_df,seq0,seq1,graph_type0,graph_type1"
   ]
  },
  {
   "cell_type": "code",
   "execution_count": 308,
   "metadata": {},
   "outputs": [],
   "source": [
    "def get_task_responses_by_direction(task_event_df,response_table):\n",
    "    \"\"\" \n",
    "    Use the columns of the task_event_df to filter neural activity. \n",
    "    In this example build separate firing rate maps for each of the\n",
    "    tasks, selecting only trials where subjects poked the correct poke.\n",
    "    \n",
    "    \n",
    "    \"\"\"\n",
    "    \n",
    "    \n",
    "    n_neurons = response_table.shape[1]\n",
    "    n_ports = 9\n",
    "    n_tasks = 2\n",
    "    n_direction = 2\n",
    "    \n",
    "    #set variables to nan to not confuse missing data for no responses\n",
    "    firing_rate_maps = np.zeros([n_neurons,n_ports,n_tasks,n_direction]) + np.nan\n",
    "    \n",
    "    #for each task\n",
    "    for task in [0,1]:\n",
    "        \n",
    "        for port in range(n_ports):  #for each port\n",
    "            \n",
    "            for dix,direction in enumerate(np.unique(task_event_df['direction'].values)):\n",
    "\n",
    "                #Select indices of pokes where...\n",
    "                table_index = task_event_df.loc[(task_event_df['task_nr']==task) &  #task_nr was task\n",
    "                                                (task_event_df['correct']==True) &  #the poke was to the correct port\n",
    "                                                (task_event_df['port']==port) &       #the port poked was port\n",
    "                                                (task_event_df['direction']==direction)\n",
    "                                               ].index           \n",
    "                #print(len(table_index))\n",
    "                #get the average\n",
    "                firing_rate_maps[:,int(port),int(task),dix] = np.nanmean(response_table[table_index],axis=0)\n",
    "    return firing_rate_maps\n",
    "                                         "
   ]
  },
  {
   "cell_type": "code",
   "execution_count": 309,
   "metadata": {},
   "outputs": [],
   "source": [
    "def get_task_responses(task_event_df,response_table):\n",
    "    \"\"\" \n",
    "    Use the columns of the task_event_df to filter neural activity. \n",
    "    In this example build separate firing rate maps for each of the\n",
    "    tasks, selecting only trials where subjects poked the correct poke.\n",
    "    \n",
    "    \n",
    "    \"\"\"\n",
    "    \n",
    "    \n",
    "    n_neurons = response_table.shape[1]\n",
    "    n_ports = 9\n",
    "    n_tasks = 2\n",
    "    n_direction = 2\n",
    "    \n",
    "    #set variables to nan to not confuse missing data for no responses\n",
    "    firing_rate_maps = np.zeros([n_neurons,n_ports,n_tasks]) + np.nan\n",
    "    \n",
    "    #for each task\n",
    "    for task in [0,1]:\n",
    "        \n",
    "        for port in range(n_ports):  #for each port\n",
    "            \n",
    "            #for dix,direction in enumerate(np.unique(task_event_df['direction'].values)):\n",
    "\n",
    "                #Select indices of pokes where...\n",
    "            table_index = task_event_df.loc[(task_event_df['task_nr']==task) &  #task_nr was task\n",
    "                                            (task_event_df['correct']==True) &  #the poke was to the correct port\n",
    "                                            (task_event_df['port']==port)        #the port poked was port\n",
    "                                            #(task_event_df['direction']==direction)\n",
    "                                           ].index           \n",
    "            #print(len(table_index))\n",
    "            #get the average\n",
    "            firing_rate_maps[:,int(port),int(task)] = np.nanmean(response_table[table_index],axis=0)\n",
    "    return firing_rate_maps"
   ]
  },
  {
   "cell_type": "code",
   "execution_count": 310,
   "metadata": {},
   "outputs": [],
   "source": [
    "from scipy.spatial.distance import pdist\n",
    "from scipy.spatial import distance_matrix\n",
    "\n",
    "def zscore(dat): return (dat-np.mean(dat))/np.std(dat)"
   ]
  },
  {
   "cell_type": "code",
   "execution_count": 311,
   "metadata": {},
   "outputs": [],
   "source": [
    "def loop_distance_matrix(seq,p=2):\n",
    "    seq = list(seq)\n",
    "    d = np.zeros([9,9])\n",
    "    for i in range(9):\n",
    "        for j in range(9):\n",
    "            ind1 = seq.index(i)\n",
    "            ind2 = seq.index(j)\n",
    "            d[i,j] = min([abs(ind1-ind2),abs(9+(ind1-ind2)),abs(9+(ind2-ind1))])**p\n",
    "    return d"
   ]
  },
  {
   "cell_type": "code",
   "execution_count": 312,
   "metadata": {},
   "outputs": [],
   "source": [
    "def line_distance_matrix(seq,p=1):\n",
    "    seq = list(seq)\n",
    "    d = np.zeros([9,9])\n",
    "    for i in range(9):\n",
    "        for j in range(9):\n",
    "            ind1 = seq.index(i)\n",
    "            ind2 = seq.index(j)\n",
    "            d[i,j] = abs(ind1-ind2)**p\n",
    "    return d"
   ]
  },
  {
   "cell_type": "code",
   "execution_count": 313,
   "metadata": {},
   "outputs": [],
   "source": [
    "import statsmodels.api as sm"
   ]
  },
  {
   "cell_type": "code",
   "execution_count": 314,
   "metadata": {},
   "outputs": [],
   "source": [
    "def remove_diagonal(A):\n",
    "    removed = A[~np.eye(A.shape[0], dtype=bool)].reshape(A.shape[0], int(A.shape[0])-1, -1)\n",
    "    return np.squeeze(removed)\n"
   ]
  },
  {
   "cell_type": "markdown",
   "metadata": {},
   "source": [
    "# Get task distances "
   ]
  },
  {
   "cell_type": "code",
   "execution_count": 315,
   "metadata": {},
   "outputs": [],
   "source": [
    "def get_C_loop_task(seq0,p=0.95):\n",
    "    \"\"\"p is the probability of continueing in the same direction\"\"\"\n",
    "    #this constructs the appropriate things if everything is ordered correctly according to states\n",
    "\n",
    "    T1 = np.zeros([18,18])\n",
    "    for i in range(9):\n",
    "        T1[seq0[i],seq0[(i+1)%9]] = p\n",
    "        T1[seq0[i],9+seq0[(i-1)%9]] = 1-p\n",
    "\n",
    "    for i in range(9,18):\n",
    "        T1[seq0[i%9]+9,seq0[(i+1)%9]] = 1-p\n",
    "        T1[seq0[i%9]+9,9+seq0[(i-1)%9]] = p\n",
    "\n",
    "    task_1_distance = -np.log(expm(T1))\n",
    "    #task_1_distance = np.linalg.pinv(np.eye(len(T1)) - 0.1  * T1)\n",
    "    return T1, task_1_distance"
   ]
  },
  {
   "cell_type": "code",
   "execution_count": 316,
   "metadata": {},
   "outputs": [],
   "source": [
    "def get_C_line_task(seq0,p=0.95):\n",
    "    \"\"\" Finish this requires updating the edges of the line\"\"\"\n",
    "    T1 = np.zeros([18,18])\n",
    "    for i in range(9):\n",
    "        T1[seq0[i],seq0[(i+1)%9]] = p\n",
    "        T1[seq0[i],9+seq0[(i-1)%9]] = 1-p\n",
    "\n",
    "    for i in range(9,18):\n",
    "        T1[seq0[i%9]+9,seq0[(i+1)%9]] = 1-p\n",
    "        T1[seq0[i%9]+9,9+seq0[(i-1)%9]] = p\n",
    "\n",
    "        \n",
    "\n",
    "    T1[seq0[0]] = 0; T1[seq0[0],seq0[1]] = 1  #going to the right in state 0 will go to 1\n",
    "    T1[seq0[8]] = 0; T1[seq0[8],seq0[-1]+9] = 1   #going to the right in state 9 will go to state 8\n",
    "    T1[seq0[9%9]+9] = 0; T1[seq0[9%9]+9,seq0[0]] = 1    #going to the left in state 0 will go to state 1\n",
    "    T1[seq0[-1]+9] = 0; T1[seq0[-1]+9,seq0[-2]+9] = 1       #going to the left in state \n",
    "    \n",
    "    task_1_distance = -np.log(expm(T1))\n",
    "    #evals,evecs = np.linalg.eig(T1)\n",
    "    #mx = np.max(np.abs(evals))\n",
    "    #task_1_distance = (evecs@(evals_mtx**50)@np.linalg.inv(evecs)).real\n",
    "    #task_1_distance = np.linalg.pinv(np.eye(len(T1)) - 0.1  * T1)\n",
    "    return T1, task_1_distance"
   ]
  },
  {
   "cell_type": "code",
   "execution_count": 317,
   "metadata": {},
   "outputs": [],
   "source": [
    "from scipy.linalg import expm"
   ]
  },
  {
   "cell_type": "markdown",
   "metadata": {},
   "source": [
    "# batch over all tasks"
   ]
  },
  {
   "cell_type": "code",
   "execution_count": 295,
   "metadata": {},
   "outputs": [
    {
     "name": "stderr",
     "output_type": "stream",
     "text": [
      "/Users/yves/opt/anaconda3/lib/python3.7/site-packages/ipykernel_launcher.py:34: RuntimeWarning: Mean of empty slice\n",
      "/Users/yves/opt/anaconda3/lib/python3.7/site-packages/ipykernel_launcher.py:34: RuntimeWarning: Mean of empty slice\n",
      "/Users/yves/opt/anaconda3/lib/python3.7/site-packages/ipykernel_launcher.py:34: RuntimeWarning: Mean of empty slice\n",
      "/Users/yves/opt/anaconda3/lib/python3.7/site-packages/ipykernel_launcher.py:34: RuntimeWarning: Mean of empty slice\n",
      "/Users/yves/opt/anaconda3/lib/python3.7/site-packages/ipykernel_launcher.py:34: RuntimeWarning: Mean of empty slice\n",
      "/Users/yves/opt/anaconda3/lib/python3.7/site-packages/ipykernel_launcher.py:34: RuntimeWarning: Mean of empty slice\n",
      "/Users/yves/opt/anaconda3/lib/python3.7/site-packages/ipykernel_launcher.py:34: RuntimeWarning: Mean of empty slice\n",
      "/Users/yves/opt/anaconda3/lib/python3.7/site-packages/ipykernel_launcher.py:34: RuntimeWarning: Mean of empty slice\n",
      "/Users/yves/opt/anaconda3/lib/python3.7/site-packages/ipykernel_launcher.py:34: RuntimeWarning: Mean of empty slice\n",
      "/Users/yves/opt/anaconda3/lib/python3.7/site-packages/ipykernel_launcher.py:34: RuntimeWarning: Mean of empty slice\n",
      "/Users/yves/opt/anaconda3/lib/python3.7/site-packages/ipykernel_launcher.py:34: RuntimeWarning: Mean of empty slice\n",
      "/Users/yves/opt/anaconda3/lib/python3.7/site-packages/ipykernel_launcher.py:34: RuntimeWarning: Mean of empty slice\n",
      "/Users/yves/opt/anaconda3/lib/python3.7/site-packages/ipykernel_launcher.py:34: RuntimeWarning: Mean of empty slice\n",
      "/Users/yves/opt/anaconda3/lib/python3.7/site-packages/ipykernel_launcher.py:34: RuntimeWarning: Mean of empty slice\n",
      "/Users/yves/opt/anaconda3/lib/python3.7/site-packages/ipykernel_launcher.py:34: RuntimeWarning: Mean of empty slice\n",
      "/Users/yves/opt/anaconda3/lib/python3.7/site-packages/ipykernel_launcher.py:34: RuntimeWarning: Mean of empty slice\n"
     ]
    }
   ],
   "source": [
    "all_beta = []\n",
    "all_pvals = []\n",
    "for sess_ix in range(8):\n",
    "    tmp  = []\n",
    "    tmp_pvals = []\n",
    "    firing_rate_maps,task_event_df,seq0,seq1,graph_type0,graph_type1, = load_data(sess_ix,by_dir=True)\n",
    "    mxs = np.nanmax(firing_rate_maps,axis=(1,2,3))\n",
    "    firing_rate_maps = firing_rate_maps[np.logical_and(mxs<5,mxs>0.0001)]\n",
    "    #spatial_map  = np.nanmean(firing_rate_maps,axis=(2,3))\n",
    "    mds_frm = firing_rate_maps #- spatial_map[:,:,None,None]\n",
    "\n",
    "   \n",
    "    \n",
    "    frm = np.hstack([mds_frm[:,:,0,0],mds_frm[:,:,0,1],mds_frm[:,:,1,0],mds_frm[:,:,1,1]]).T\n",
    "    frm = ((frm-np.nanmean(frm,axis=0))/np.nanstd(frm,axis=0))\n",
    "\n",
    "    if graph_type0=='loop': \n",
    "        task_1_distance = get_C_loop_task(seq0)[1]\n",
    "    else: \n",
    "        task_1_distance =  get_C_line_task(seq0)[1]\n",
    "    if graph_type1=='loop':\n",
    "        task_2_distance = get_C_loop_task(seq1)[1]\n",
    "    else:\n",
    "        task_2_distance = get_C_line_task(seq1)[1]\n",
    "\n",
    "    task_1_distance = np.nan_to_num(task_1_distance,np.nanmean(task_1_distance))\n",
    "    task_2_distance = np.nan_to_num(task_2_distance,np.nanmean(task_2_distance))\n",
    "    #spatial_distance = -distance_matrix(poke_pos,poke_pos,p=1)\n",
    "    spatial_distance =   -distance_matrix(np.vstack([poke_pos,poke_pos,poke_pos,poke_pos]),\n",
    "                                          np.vstack([poke_pos,poke_pos,poke_pos,poke_pos]),p=1)\n",
    "    \n",
    "    tmp = zscore(np.tile([0]*9 + [1]*9,2))\n",
    "    hd_distance = -distance_matrix(tmp.reshape(-1,1),tmp.reshape(-1,1))\n",
    "    tmp2 = zscore(np.array([0]*9 + [1]*9 + [1]*9 + [0]*9))\n",
    "    hd_distance2 = -distance_matrix(tmp2.reshape(-1,1),tmp2.reshape(-1,1))\n",
    "    \n",
    "    \n",
    "    tmp = np.concatenate([np.ones(18),-1*np.ones(18)])\n",
    "    task_distance = -distance_matrix(tmp.reshape(-1,1),tmp.reshape(-1,1))\n",
    "\n",
    "    task_corrs = np.corrcoef(frm)\n",
    "\n",
    "    select_indices = (np.eye(len(task_corrs)) + \n",
    "                      np.isnan(task_corrs) + \n",
    "                    #  np.isnan(task2_corrs) + \n",
    "                    #  np.isnan(task_1_distance) + \n",
    "                    #  np.isnan(task_2_distance) + \n",
    "                      np.isnan(spatial_distance)\n",
    "                     )==0\n",
    "    \n",
    "    #\n",
    "    y = task_corrs[select_indices].flatten()\n",
    "    \n",
    "    spd = zscore(spatial_distance[select_indices].flatten())\n",
    "    hdd1 = zscore(hd_distance[select_indices].flatten())\n",
    "    hdd2 = zscore(hd_distance2[select_indices].flatten())\n",
    "    td = zscore(task_distance[select_indices].flatten())\n",
    "    \n",
    "    X = np.vstack([np.ones_like(y), #0\n",
    "                   spd,             #1 \n",
    "                   hdd1,            #2\n",
    "                   hdd2,            #3\n",
    "                   td,              #4\n",
    "                   #interactions\n",
    "#                    spd*hdd1,        #5\n",
    "#                    spd*hdd2,        #6\n",
    "#                    spd*td,          #7\n",
    "#                    hdd1*td,         #8\n",
    "#                    hdd2*td,         #9\n",
    "#                    #two way interactions\n",
    "#                    spd*hdd1*td,\n",
    "#                    spd*hdd2*td\n",
    "    \n",
    "                \n",
    "                   \n",
    "              ]).T\n",
    "    \n",
    "    #y = remove_diagonal(task1_corrs).flatten()\n",
    "    #beta = np.linalg.pinv(X.T@X)@X.T@y\n",
    "    res = sm.OLS(y,X,hasconst=True).fit()\n",
    "    \n",
    "  \n",
    "    all_beta.append(res.params)\n",
    "    all_pvals.append(res.pvalues)\n",
    "    #assert np.allclose(beta,res.params)\n",
    "all_pvals = np.array(all_pvals)\n",
    "all_beta = np.array(all_beta)"
   ]
  },
  {
   "cell_type": "code",
   "execution_count": 296,
   "metadata": {},
   "outputs": [
    {
     "data": {
      "text/plain": [
       "<matplotlib.image.AxesImage at 0x7fcf290bd890>"
      ]
     },
     "execution_count": 296,
     "metadata": {},
     "output_type": "execute_result"
    },
    {
     "data": {
      "image/png": "[encoded data removed]",
      "text/plain": [
       "<Figure size 432x288 with 1 Axes>"
      ]
     },
     "metadata": {},
     "output_type": "display_data"
    }
   ],
   "source": [
    "plt.imshow(spatial_distance)"
   ]
  },
  {
   "cell_type": "code",
   "execution_count": 297,
   "metadata": {},
   "outputs": [],
   "source": [
    "#np.array(all_pvals)[:,-1].flatten()[3]"
   ]
  },
  {
   "cell_type": "code",
   "execution_count": 298,
   "metadata": {},
   "outputs": [],
   "source": [
    "mn_hd = np.min(np.array(all_pvals)[:,2:4],axis=1)"
   ]
  },
  {
   "cell_type": "code",
   "execution_count": null,
   "metadata": {},
   "outputs": [],
   "source": []
  },
  {
   "cell_type": "code",
   "execution_count": 299,
   "metadata": {},
   "outputs": [
    {
     "name": "stderr",
     "output_type": "stream",
     "text": [
      "No handles with labels found to put in legend.\n"
     ]
    },
    {
     "data": {
      "image/png": "[encoded data removed]",
      "text/plain": [
       "<Figure size 432x288 with 1 Axes>"
      ]
     },
     "metadata": {},
     "output_type": "display_data"
    }
   ],
   "source": [
    "mn_hd = np.min(np.array(all_pvals)[:,2:4],axis=1)\n",
    "seaborn.distplot(mn_hd,bins=np.logspace(-5,1,num=50),kde=0)\n",
    "plt.title(r\"HD RSA $\\beta$\")\n",
    "plt.axvline(x=0.05,dashes=(7,7),color='.3')\n",
    "#plt.xticks([1])\n",
    "#plt.xlim(0,1)\n",
    "plt.xscale('log')\n",
    "plt.xlabel(\"p-value\")\n",
    "plt.ylabel(\"number of sessions\")\n",
    "plt.legend(loc=1)\n",
    "seaborn.despine()\n",
    "plt.tight_layout()"
   ]
  },
  {
   "cell_type": "code",
   "execution_count": 303,
   "metadata": {},
   "outputs": [
    {
     "name": "stderr",
     "output_type": "stream",
     "text": [
      "No handles with labels found to put in legend.\n"
     ]
    },
    {
     "data": {
      "image/png": "[encoded data removed]",
      "text/plain": [
       "<Figure size 432x288 with 1 Axes>"
      ]
     },
     "metadata": {},
     "output_type": "display_data"
    }
   ],
   "source": [
    "#mn_hd = np.min(np.array(all_pvals)[:,4],axis=1)\n",
    "seaborn.distplot(np.array(all_pvals)[:,4],bins=np.logspace(-8,1,num=50),kde=0)\n",
    "plt.title(r\"Task RSA $\\beta$\")\n",
    "plt.axvline(x=0.05,dashes=(7,7),color='.3')\n",
    "#plt.xticks([1])\n",
    "#plt.xlim(0,1)\n",
    "plt.xscale('log')\n",
    "plt.xlabel(\"p-value\")\n",
    "plt.ylabel(\"number of sessions\")\n",
    "plt.legend(loc=1)\n",
    "seaborn.despine()\n",
    "plt.tight_layout()"
   ]
  },
  {
   "cell_type": "code",
   "execution_count": null,
   "metadata": {},
   "outputs": [],
   "source": []
  },
  {
   "cell_type": "code",
   "execution_count": 293,
   "metadata": {},
   "outputs": [
    {
     "data": {
      "image/png": "[encoded data removed]",
      "text/plain": [
       "<Figure size 432x288 with 1 Axes>"
      ]
     },
     "metadata": {},
     "output_type": "display_data"
    }
   ],
   "source": [
    "seaborn.distplot(np.clip(np.array(all_pvals)[:,3].flatten(),1e-12,0),kde=0,bins=np.logspace(-120,10,num=50),)\n",
    "plt.axvline(x=0.05,dashes=(7,7),color='.3')\n",
    "#plt.xticks([1])\n",
    "#plt.xlim(0,1)\n",
    "plt.xscale('log')\n",
    "plt.xlabel(\"p-value\")\n",
    "plt.ylabel(\"number of sessions\")\n",
    "seaborn.despine()\n",
    "plt.tight_layout()"
   ]
  },
  {
   "cell_type": "code",
   "execution_count": 294,
   "metadata": {},
   "outputs": [
    {
     "name": "stderr",
     "output_type": "stream",
     "text": [
      "No handles with labels found to put in legend.\n"
     ]
    },
    {
     "data": {
      "image/png": "[encoded data removed]",
      "text/plain": [
       "<Figure size 432x288 with 1 Axes>"
      ]
     },
     "metadata": {},
     "output_type": "display_data"
    }
   ],
   "source": [
    "seaborn.distplot(np.array(all_pvals)[:,1].flatten(),kde=0,bins=np.logspace(-70,1,num=50),)\n",
    "plt.axvline(x=0.05,dashes=(7,7),color='.3')\n",
    "#plt.xticks([1])\n",
    "#plt.xlim(0,1)\n",
    "plt.xscale('log')\n",
    "plt.xlabel(\"p-value\")\n",
    "plt.ylabel(\"number of sessions\")\n",
    "plt.legend(loc=1)\n",
    "seaborn.despine()\n",
    "plt.tight_layout()"
   ]
  },
  {
   "cell_type": "code",
   "execution_count": 199,
   "metadata": {},
   "outputs": [
    {
     "name": "stderr",
     "output_type": "stream",
     "text": [
      "No handles with labels found to put in legend.\n"
     ]
    },
    {
     "data": {
      "image/png": "[encoded data removed]",
      "text/plain": [
       "<Figure size 432x288 with 1 Axes>"
      ]
     },
     "metadata": {},
     "output_type": "display_data"
    }
   ],
   "source": [
    "seaborn.distplot(np.array(all_pvals)[:,0].flatten(),kde=0,bins=np.logspace(-70,1,num=50),)\n",
    "plt.axvline(x=0.05,dashes=(7,7),color='.3')\n",
    "#plt.xticks([1])\n",
    "#plt.xlim(0,1)\n",
    "plt.xscale('log')\n",
    "plt.xlabel(\"p-value\")\n",
    "plt.ylabel(\"number of sessions\")\n",
    "plt.legend(loc=1)\n",
    "seaborn.despine()\n",
    "plt.tight_layout()"
   ]
  },
  {
   "cell_type": "code",
   "execution_count": 163,
   "metadata": {},
   "outputs": [],
   "source": [
    "#plt.imshow(select_indices)"
   ]
  },
  {
   "cell_type": "code",
   "execution_count": 164,
   "metadata": {},
   "outputs": [
    {
     "ename": "IndexError",
     "evalue": "too many indices for array: array is 2-dimensional, but 3 were indexed",
     "output_type": "error",
     "traceback": [
      "\u001b[0;31m---------------------------------------------------------------------------\u001b[0m",
      "\u001b[0;31mIndexError\u001b[0m                                Traceback (most recent call last)",
      "\u001b[0;32m<ipython-input-164-59cbd6141bf5>\u001b[0m in \u001b[0;36m<module>\u001b[0;34m\u001b[0m\n\u001b[1;32m      2\u001b[0m \u001b[0mplt\u001b[0m\u001b[0;34m.\u001b[0m\u001b[0msubplot\u001b[0m\u001b[0;34m(\u001b[0m\u001b[0;36m1\u001b[0m\u001b[0;34m,\u001b[0m\u001b[0;36m2\u001b[0m\u001b[0;34m,\u001b[0m\u001b[0;36m1\u001b[0m\u001b[0;34m)\u001b[0m\u001b[0;34m\u001b[0m\u001b[0;34m\u001b[0m\u001b[0m\n\u001b[1;32m      3\u001b[0m \u001b[0mplt\u001b[0m\u001b[0;34m.\u001b[0m\u001b[0mtitle\u001b[0m\u001b[0;34m(\u001b[0m\u001b[0;34m\"Correct way around\"\u001b[0m\u001b[0;34m)\u001b[0m\u001b[0;34m\u001b[0m\u001b[0;34m\u001b[0m\u001b[0m\n\u001b[0;32m----> 4\u001b[0;31m \u001b[0mseaborn\u001b[0m\u001b[0;34m.\u001b[0m\u001b[0mdistplot\u001b[0m\u001b[0;34m(\u001b[0m\u001b[0mnp\u001b[0m\u001b[0;34m.\u001b[0m\u001b[0marray\u001b[0m\u001b[0;34m(\u001b[0m\u001b[0mall_pvals\u001b[0m\u001b[0;34m)\u001b[0m\u001b[0;34m[\u001b[0m\u001b[0;34m:\u001b[0m\u001b[0;34m,\u001b[0m\u001b[0;36m0\u001b[0m\u001b[0;34m,\u001b[0m\u001b[0;34m-\u001b[0m\u001b[0;36m2\u001b[0m\u001b[0;34m]\u001b[0m\u001b[0;34m,\u001b[0m\u001b[0mkde\u001b[0m\u001b[0;34m=\u001b[0m\u001b[0;36m0\u001b[0m\u001b[0;34m,\u001b[0m\u001b[0mbins\u001b[0m\u001b[0;34m=\u001b[0m\u001b[0mnp\u001b[0m\u001b[0;34m.\u001b[0m\u001b[0mlinspace\u001b[0m\u001b[0;34m(\u001b[0m\u001b[0;36m0\u001b[0m\u001b[0;34m,\u001b[0m\u001b[0;36m1\u001b[0m\u001b[0;34m,\u001b[0m\u001b[0mnum\u001b[0m\u001b[0;34m=\u001b[0m\u001b[0;36m50\u001b[0m\u001b[0;34m)\u001b[0m\u001b[0;34m,\u001b[0m\u001b[0mlabel\u001b[0m\u001b[0;34m=\u001b[0m\u001b[0;34mr'$\\beta_{t1}$ in task1'\u001b[0m\u001b[0;34m)\u001b[0m\u001b[0;34m\u001b[0m\u001b[0;34m\u001b[0m\u001b[0m\n\u001b[0m\u001b[1;32m      5\u001b[0m \u001b[0mseaborn\u001b[0m\u001b[0;34m.\u001b[0m\u001b[0mdistplot\u001b[0m\u001b[0;34m(\u001b[0m\u001b[0mnp\u001b[0m\u001b[0;34m.\u001b[0m\u001b[0marray\u001b[0m\u001b[0;34m(\u001b[0m\u001b[0mall_pvals\u001b[0m\u001b[0;34m)\u001b[0m\u001b[0;34m[\u001b[0m\u001b[0;34m:\u001b[0m\u001b[0;34m,\u001b[0m\u001b[0;36m1\u001b[0m\u001b[0;34m,\u001b[0m\u001b[0;34m-\u001b[0m\u001b[0;36m1\u001b[0m\u001b[0;34m]\u001b[0m\u001b[0;34m,\u001b[0m\u001b[0mkde\u001b[0m\u001b[0;34m=\u001b[0m\u001b[0;36m0\u001b[0m\u001b[0;34m,\u001b[0m\u001b[0mbins\u001b[0m\u001b[0;34m=\u001b[0m\u001b[0mnp\u001b[0m\u001b[0;34m.\u001b[0m\u001b[0mlinspace\u001b[0m\u001b[0;34m(\u001b[0m\u001b[0;36m0\u001b[0m\u001b[0;34m,\u001b[0m\u001b[0;36m1\u001b[0m\u001b[0;34m,\u001b[0m\u001b[0mnum\u001b[0m\u001b[0;34m=\u001b[0m\u001b[0;36m50\u001b[0m\u001b[0;34m)\u001b[0m\u001b[0;34m,\u001b[0m\u001b[0mlabel\u001b[0m\u001b[0;34m=\u001b[0m\u001b[0;34mr'$\\beta_{t2}$ in task2'\u001b[0m\u001b[0;34m)\u001b[0m\u001b[0;34m\u001b[0m\u001b[0;34m\u001b[0m\u001b[0m\n\u001b[1;32m      6\u001b[0m \u001b[0mplt\u001b[0m\u001b[0;34m.\u001b[0m\u001b[0maxvline\u001b[0m\u001b[0;34m(\u001b[0m\u001b[0mx\u001b[0m\u001b[0;34m=\u001b[0m\u001b[0;36m0.05\u001b[0m\u001b[0;34m,\u001b[0m\u001b[0mdashes\u001b[0m\u001b[0;34m=\u001b[0m\u001b[0;34m(\u001b[0m\u001b[0;36m7\u001b[0m\u001b[0;34m,\u001b[0m\u001b[0;36m7\u001b[0m\u001b[0;34m)\u001b[0m\u001b[0;34m,\u001b[0m\u001b[0mcolor\u001b[0m\u001b[0;34m=\u001b[0m\u001b[0;34m'.3'\u001b[0m\u001b[0;34m)\u001b[0m\u001b[0;34m\u001b[0m\u001b[0;34m\u001b[0m\u001b[0m\n",
      "\u001b[0;31mIndexError\u001b[0m: too many indices for array: array is 2-dimensional, but 3 were indexed"
     ]
    },
    {
     "data": {
      "image/png": "[encoded data removed]",
      "text/plain": [
       "<Figure size 864x288 with 1 Axes>"
      ]
     },
     "metadata": {},
     "output_type": "display_data"
    }
   ],
   "source": [
    "plt.figure(figsize=(12,4))\n",
    "plt.subplot(1,2,1)\n",
    "plt.title(\"Correct way around\")\n",
    "seaborn.distplot(np.array(all_pvals)[:,0,-2],kde=0,bins=np.linspace(0,1,num=50),label=r'$\\beta_{t1}$ in task1')\n",
    "seaborn.distplot(np.array(all_pvals)[:,1,-1],kde=0,bins=np.linspace(0,1,num=50),label=r'$\\beta_{t2}$ in task2')\n",
    "plt.axvline(x=0.05,dashes=(7,7),color='.3')\n",
    "plt.xlabel(\"p-value\")\n",
    "plt.ylabel(\"number of sessions\")\n",
    "plt.legend(loc=1)\n",
    "seaborn.despine()\n",
    "\n",
    "plt.subplot(1,2,2)\n",
    "plt.title(\"Wrong way around\")\n",
    "seaborn.distplot(np.array(all_pvals)[:,0,-1],kde=0,bins=np.linspace(0,1,num=50),label=r'$\\beta_{t2}$ in task1')\n",
    "seaborn.distplot(np.array(all_pvals)[:,1,-2],kde=0,bins=np.linspace(0,1,num=50),label=r'$\\beta_{t1}$ in task2')\n",
    "plt.axvline(x=0.05,dashes=(7,7),color='.3')\n",
    "plt.xlabel(\"p-value\")\n",
    "plt.ylabel(\"number of sessions\")\n",
    "plt.legend(loc=1)\n",
    "seaborn.despine()\n",
    "plt.tight_layout()"
   ]
  },
  {
   "cell_type": "code",
   "execution_count": 38,
   "metadata": {},
   "outputs": [
    {
     "data": {
      "text/plain": [
       "(8, 2, 4)"
      ]
     },
     "execution_count": 38,
     "metadata": {},
     "output_type": "execute_result"
    }
   ],
   "source": [
    "np.array(all_beta).shape"
   ]
  },
  {
   "cell_type": "code",
   "execution_count": 39,
   "metadata": {},
   "outputs": [
    {
     "data": {
      "text/plain": [
       "array([ 0.00771686, -0.032119  ,  0.05740197,  0.05647009,  0.01398327,\n",
       "        0.03494894, -0.00462993,  0.01152955])"
      ]
     },
     "execution_count": 39,
     "metadata": {},
     "output_type": "execute_result"
    }
   ],
   "source": [
    "t1_m_t2_inT1"
   ]
  },
  {
   "cell_type": "code",
   "execution_count": 40,
   "metadata": {},
   "outputs": [
    {
     "data": {
      "image/png": "[encoded data removed]",
      "text/plain": [
       "<Figure size 432x288 with 1 Axes>"
      ]
     },
     "metadata": {},
     "output_type": "display_data"
    }
   ],
   "source": [
    "#n_sessions x n_tasks x n_params\n",
    "all_beta = np.array(all_beta)\n",
    "\n",
    "t1_m_t2_inT1 = (all_beta[:,0,-2] - all_beta[:,0,-1])\n",
    "t1_m_t2_inT2 = (all_beta[:,1,-1] - all_beta[:,1,-2])\n",
    "\n",
    "seaborn.distplot(t1_m_t2_inT1 + t1_m_t2_inT2,kde=0,bins=20)\n",
    "plt.xlabel(r\"Task1($\\beta_{t1}$ -$\\beta_{t2}$) + Task2($\\beta_{t2}$ -$\\beta_{t1}$)\")\n",
    "plt.ylabel(\"# of Sessions\")\n",
    "seaborn.despine()"
   ]
  },
  {
   "cell_type": "code",
   "execution_count": 102,
   "metadata": {},
   "outputs": [
    {
     "data": {
      "text/plain": [
       "<matplotlib.axes._subplots.AxesSubplot at 0x7fcf3b1ce5d0>"
      ]
     },
     "execution_count": 102,
     "metadata": {},
     "output_type": "execute_result"
    },
    {
     "data": {
      "image/png": "[encoded data removed]",
      "text/plain": [
       "<Figure size 432x288 with 1 Axes>"
      ]
     },
     "metadata": {},
     "output_type": "display_data"
    }
   ],
   "source": [
    "seaborn.distplot(np.array(all_pvals)[:,-1],kde=0)"
   ]
  },
  {
   "cell_type": "code",
   "execution_count": 100,
   "metadata": {},
   "outputs": [
    {
     "data": {
      "image/png": "[encoded data removed]",
      "text/plain": [
       "<Figure size 216x432 with 1 Axes>"
      ]
     },
     "metadata": {},
     "output_type": "display_data"
    }
   ],
   "source": [
    "plt.figure(figsize=(3,6))\n",
    "plt.scatter([0]*8,t1_m_t2_inT1 + t1_m_t2_inT2,s=256,facecolor='',edgecolor='k')\n",
    "plt.annotate('p=0.95',(.0,0),xycoords='axes fraction')\n",
    "plt.xticks([])\n",
    "plt.plot([-.15,.15],[0,0],color='k',linestyle='--',dashes=(7,7))\n",
    "plt.ylabel(r\"Task1($\\beta_{t1}$ -$\\beta_{t2}$) + Task2($\\beta_{t2}$ -$\\beta_{t1}$)\")\n",
    "plt.xlim(-.2,.2)\n",
    "plt.locator_params('y',nbins=3)\n",
    "seaborn.despine(bottom=True)"
   ]
  },
  {
   "cell_type": "code",
   "execution_count": 2362,
   "metadata": {},
   "outputs": [
    {
     "data": {
      "text/plain": [
       "Ttest_1sampResult(statistic=0.7445967465797968, pvalue=0.4807604377694731)"
      ]
     },
     "execution_count": 2362,
     "metadata": {},
     "output_type": "execute_result"
    }
   ],
   "source": [
    "stt.ttest_1samp(t1_m_t2_inT1 + t1_m_t2_inT2,0)"
   ]
  },
  {
   "cell_type": "code",
   "execution_count": 42,
   "metadata": {},
   "outputs": [],
   "source": [
    "    spatial_distance =   -distance_matrix(np.vstack([poke_pos[seq0],poke_pos[seq0],poke_pos[seq0],poke_pos[seq0]]),\n",
    "                                          np.vstack([poke_pos[seq0],poke_pos[seq0],]),p=1)\n"
   ]
  },
  {
   "cell_type": "code",
   "execution_count": 43,
   "metadata": {},
   "outputs": [
    {
     "data": {
      "text/plain": [
       "(18, 18)"
      ]
     },
     "execution_count": 43,
     "metadata": {},
     "output_type": "execute_result"
    }
   ],
   "source": [
    "spatial_distance.shape"
   ]
  },
  {
   "cell_type": "markdown",
   "metadata": {},
   "source": [
    "# Check this works by ordering according to sequence"
   ]
  },
  {
   "cell_type": "code",
   "execution_count": null,
   "metadata": {},
   "outputs": [],
   "source": []
  },
  {
   "cell_type": "code",
   "execution_count": null,
   "metadata": {},
   "outputs": [],
   "source": []
  }
 ],
 "metadata": {
  "kernelspec": {
   "display_name": "Python 3",
   "language": "python",
   "name": "python3"
  },
  "language_info": {
   "codemirror_mode": {
    "name": "ipython",
    "version": 3
   },
   "file_extension": ".py",
   "mimetype": "text/x-python",
   "name": "python",
   "nbconvert_exporter": "python",
   "pygments_lexer": "ipython3",
   "version": "3.7.4"
  }
 },
 "nbformat": 4,
 "nbformat_minor": 2
}
