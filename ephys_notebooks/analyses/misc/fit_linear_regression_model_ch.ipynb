{
 "cells": [
  {
   "cell_type": "markdown",
   "metadata": {},
   "source": [
    "# Fit a linear regression model to the data in order to explore the effect of leaving out different variables"
   ]
  },
  {
   "cell_type": "code",
   "execution_count": 1,
   "metadata": {},
   "outputs": [
    {
     "name": "stderr",
     "output_type": "stream",
     "text": [
      "/Users/yves/opt/anaconda3/lib/python3.7/site-packages/statsmodels/tools/_testing.py:19: FutureWarning: pandas.util.testing is deprecated. Use the functions in the public API at pandas.testing instead.\n",
      "  import pandas.util.testing as tm\n"
     ]
    }
   ],
   "source": [
    "%matplotlib inline\n",
    "\n",
    "import numpy as np\n",
    "import sys\n",
    "import time\n",
    "import os\n",
    "import re\n",
    "import matplotlib.pyplot as plt\n",
    "import seaborn\n",
    "import pandas as pd\n",
    "import scipy.stats as stt\n",
    "seaborn.set(font_scale=1.5,style='ticks')"
   ]
  },
  {
   "cell_type": "code",
   "execution_count": 2,
   "metadata": {},
   "outputs": [],
   "source": [
    "from mecll.rsync import Rsync_aligner\n",
    "from mecll.process_data.proc_beh import  get_transitions_state, build_poke_df\n",
    "from mecll.process_data.proc_neural import get_all_resps, get_mean_resps"
   ]
  },
  {
   "cell_type": "code",
   "execution_count": 3,
   "metadata": {},
   "outputs": [],
   "source": [
    "poke_pos = np.array([1,-1])*np.array([ [149,0],\n",
    "                                 [68,19],[231,19],\n",
    "                               [0,62],[149,62],[298,62],\n",
    "                                 [68,105],[231,105],\n",
    "                                      [149,124]])"
   ]
  },
  {
   "cell_type": "code",
   "execution_count": 4,
   "metadata": {},
   "outputs": [],
   "source": [
    "#Load behavioural data\n",
    "root_path = '/Users/yves/Downloads/example_files/'\n",
    "\n",
    "all_fs = os.listdir(root_path)\n",
    "\n",
    "task_path = os.path.join(root_path,[i for i in all_fs if '.txt' in i][0])\n",
    "lines = open(task_path,'r').readlines()\n",
    "\n",
    "\n",
    "#load neural data timestamps\n",
    "\n",
    "sync_path_spk = os.path.join(root_path,[i for i in all_fs if i=='timestamps.npy'][0])#'/Users/yves/Downloads/example_files/timestamps.npy'\n",
    "sync_messages_spk = np.load(sync_path_spk)[::2][:-1].astype('float')\n",
    "\n",
    "\n",
    "#load spiking data\n",
    "#ROOT = '/Users/yves/Downloads/example_files/'\n",
    "spkT = np.load(os.path.join(root_path,[i for i in all_fs if i=='spike_times.npy'][0])).flatten()\n",
    "spkC = np.load(os.path.join(root_path,[i for i in all_fs if i=='spike_clusters.npy'][0])).flatten()\n",
    "cluster_labels = pd.read_table(os.path.join(root_path,[i for i in all_fs if '.tsv' in i][0]))\n",
    "\n",
    "\n",
    "#select single units\n",
    "single_units = np.where(cluster_labels.KSLabel=='good')[0]"
   ]
  },
  {
   "cell_type": "code",
   "execution_count": 5,
   "metadata": {},
   "outputs": [
    {
     "data": {
      "text/plain": [
       "10766268"
      ]
     },
     "execution_count": 5,
     "metadata": {},
     "output_type": "execute_result"
    }
   ],
   "source": [
    "len(spkT)"
   ]
  },
  {
   "cell_type": "code",
   "execution_count": 6,
   "metadata": {},
   "outputs": [
    {
     "name": "stdout",
     "output_type": "stream",
     "text": [
      "[7, 9, 11, 13, 15, 17, 19, 21, 23]\n"
     ]
    }
   ],
   "source": [
    "#Extract the timestamps of the sync-pulses between the neural data and the behavioural data\n",
    "events = eval(lines[9][2:])\n",
    "bnc_ev = events['BNC_input']\n",
    "sync_messages_task =[int(re.findall(r' ([0-9]*)',l)[0]) for l in lines if str(bnc_ev)+'\\n' in l and l[0]=='D']\n",
    "poke_event_ids = [events['poke_'+str(i)] for i in range(1,10)]\n",
    "print(poke_event_ids)"
   ]
  },
  {
   "cell_type": "code",
   "execution_count": 7,
   "metadata": {},
   "outputs": [],
   "source": [
    "#align neural and behavioural timestamps\n",
    "aligner = Rsync_aligner(sync_messages_spk,np.array(sync_messages_task)[1:],units_A=1/30.,units_B=1)"
   ]
  },
  {
   "cell_type": "code",
   "execution_count": null,
   "metadata": {},
   "outputs": [],
   "source": []
  },
  {
   "cell_type": "code",
   "execution_count": 8,
   "metadata": {},
   "outputs": [],
   "source": [
    "def build_poke_df(lines,events,sync_thing=0):\n",
    "    \n",
    "    df = pd.DataFrame(columns=['target','port','state','task_nr','direction','in_timeout','n_timeouts','probe','correct',\n",
    "                               'previous_port','previous_state','reward','block_nr','task_repeat_nr','port_repeat','next_correct',\n",
    "                               'frac_corr','RT','time','current_sequence','graph_type' #behavioural variables\n",
    "                              ]) \n",
    "    \n",
    "    all_poke_dict = []\n",
    "    poke_dict = None\n",
    "    target_hist = []\n",
    "    rew_hist = []\n",
    "    current_block_number = -1\n",
    "    for ctr_,l in enumerate(lines):\n",
    "        if 'task_number'in l:\n",
    "            #if poke_dict is not None:\n",
    "            #    all_poke_dict.append(cp.deepcopy(poke_dict))\n",
    "            #poke_dict = {}\n",
    "            current_block_number += 1\n",
    "            current_task = re.findall(r'task_number([0-9])',l)[0]\n",
    "            current_sequence = eval(re.findall(r'seq:(\\[.*\\])\\n',lines[ctr_+1])[0])\n",
    "            current_graph_type = re.findall(r'graph_type:([a-z]*)',lines[ctr_+2])[0]\n",
    "            #poke_dict['task_nr'] = re.findall(r'task_number([0-9])',l)[0]\n",
    "            #poke_dict['seq'] = eval(re.findall(r'seq:(\\[.*\\])\\n',lines[ctr_+1])[0])\n",
    "            #print(lines[ctr_+2],poke_dict.keys())\n",
    "            #poke_dict['graph_type'] = re.findall(r'graph_type:([a-z]*)',lines[ctr_+2])[0]\n",
    "\n",
    "        if 'REW_IN_SEQ' in l:\n",
    "            t_ = int(re.findall(r'P ([0-9]*)',l)[0])# + sync_thing\n",
    "            poke = re.findall('POKED: ([0-9])',l)[0]\n",
    "            target = re.findall('TARGET: ([0-9])',l)[0]\n",
    "            n_rew_in_seq = int(re.findall('REW_IN_SEQ:([0-9]*)',l)[0])\n",
    "            direction = int(re.findall('DIR: (\\-*\\d+)',l)[0])\n",
    "            #print(direction)\n",
    "            \n",
    "            if len(df)>1:\n",
    "                previous_port = df.iloc[-1]['port']\n",
    "                previous_state = current_sequence.index(int(previous_port))\n",
    "                if not df.iloc[-1]['correct']:\n",
    "                    current_is_repeat = True\n",
    "                    df.loc[len(df)-2,'next_correct'] = False\n",
    "\n",
    "                else:\n",
    "                    current_is_repeat = False\n",
    "                    df.loc[len(df)-2,'next_correct'] = True\n",
    "\n",
    "            else:\n",
    "                previous_port = None\n",
    "                previous_state = None\n",
    "                current_is_repeat = False\n",
    "            \n",
    "            n_rew =  int(re.findall('REWS:([0-9]*)',l)[0])\n",
    "            #print(l)\n",
    "            probe = bool(re.findall('PROBE: ([True|False])',l)[0]=='T')\n",
    "            rew_hist.append(n_rew)\n",
    "            target_hist.append(target)\n",
    "            \n",
    "                \n",
    "                \n",
    "            \n",
    "            #print(current_sequence)\n",
    "            if len(rew_hist)>2:\n",
    "                poke_dct = {\n",
    "                          'target': int(target),\n",
    "                          'port': int(poke),\n",
    "                          'state': current_sequence.index(int(poke)),\n",
    "                          'task_nr': current_task,\n",
    "                          'direction': direction,\n",
    "                          'in_timeout': False,\n",
    "                          'n_timeouts': np.nan,\n",
    "                          'probe': probe,\n",
    "                          'correct': poke==target,\n",
    "                          'reward': n_rew==rew_hist[-2],\n",
    "                          'block_nr':current_block_number,\n",
    "                          'task_repeat_nr': int(np.floor(current_block_number/2)),\n",
    "                          'frac_corr': None,\n",
    "                          'RT':None,\n",
    "                          'time':t_,\n",
    "                          'current_sequence': current_sequence,\n",
    "                          'graph_type': current_graph_type,\n",
    "                          'port_repeat':current_is_repeat,\n",
    "                          'previous_port': previous_port,\n",
    "                          'previous_state': previous_state,\n",
    "                                  }\n",
    "                df = df.append(poke_dct,ignore_index=True)\n",
    "\n",
    "       \n",
    "    return df\n",
    "    "
   ]
  },
  {
   "cell_type": "markdown",
   "metadata": {},
   "source": [
    "if u really have a spatial cell, then I guess you . There are some spatial cells with multiple fields. However, we know that the number of fields should follow a gamma-exponential distribution as it does in space."
   ]
  },
  {
   "cell_type": "code",
   "execution_count": 9,
   "metadata": {},
   "outputs": [],
   "source": [
    "def build_DM(port_df,two_task_regs=0):\n",
    "    \n",
    "    \"\"\" Build a design matrix for predicing neural activity from this. \n",
    "        In this version do not resolve time, in other words we are just\n",
    "        trying to predict the responses to each task\n",
    "        \n",
    "        For pure null model\n",
    "        Features: port number\n",
    "                  inbound HD direction (this will just be up/down, left/right)\n",
    "                  outbound HD direction (this will just be up/down, left/right)\n",
    "                  reward\n",
    "                  correct\n",
    "        \n",
    "        So total dim is 9 + 2 + 2 + 1 + 1\n",
    "                  \n",
    "                \n",
    "        For complicated model:\n",
    "                port number x task\n",
    "                  \n",
    "                  \n",
    "    \"\"\"\n",
    "    \n",
    "    two_task_regs = int(two_task_regs)\n",
    "    DM = np.zeros([14+9*two_task_regs,len(df)])\n",
    "    for nr,row, in df.iterrows():\n",
    "        port_reg = np.zeros(9+9*two_task_regs)\n",
    "        port_reg[row['port'] + two_task_regs*9*int(row['task_nr'])] = 1\n",
    "        \n",
    "        \n",
    "        angle_reg = get_angle_between_ports_as_vec(row['port'],row['previous_port'])\n",
    "        \n",
    "        rew_reg = [row['reward']]\n",
    "        correct_reg = [float(row['correct'])]\n",
    "\n",
    "        all_regs = np.concatenate([[1],port_reg,angle_reg,rew_reg,correct_reg])\n",
    "        DM[:,nr] = all_regs\n",
    "    return DM"
   ]
  },
  {
   "cell_type": "code",
   "execution_count": null,
   "metadata": {},
   "outputs": [],
   "source": []
  },
  {
   "cell_type": "code",
   "execution_count": 10,
   "metadata": {},
   "outputs": [],
   "source": [
    "def get_angle_between_ports(port1_id,port2_id):\n",
    "    if port1_id is None or port2_id is None:\n",
    "        angle = None\n",
    "    else:\n",
    "        port1_id = np.flipud(poke_pos[port1_id])\n",
    "        port2_id = np.flipud(poke_pos[port2_id])\n",
    "        print(port1_id[0]-port2_id[0],port1_id[1]-port2_id[1])\n",
    "        myradians = np.math.atan2(port1_id[0]-port2_id[0],port1_id[1]-port2_id[1])\n",
    "        angle = myradians*(180/np.pi)\n",
    "    return angle\n"
   ]
  },
  {
   "cell_type": "code",
   "execution_count": 11,
   "metadata": {},
   "outputs": [],
   "source": [
    "def get_angle_between_ports_as_vec(port1_id,port2_id):\n",
    "    if port1_id is None or port2_id is None:\n",
    "        angle = np.zeros(2)\n",
    "    else:\n",
    "        port1_id = np.flipud(poke_pos[port1_id])\n",
    "        port2_id = np.flipud(poke_pos[port2_id])\n",
    "        angle = np.array([port1_id[0]-port2_id[0],port1_id[1]-port2_id[1]])\n",
    "        angle = angle/np.sum(np.abs(angle))\n",
    "        #myradians = np.math.atan2(port1_id[0]-port2_id[0],port1_id[1]-port2_id[1])\n",
    "        #angle = myradians*(180/np.pi)\n",
    "    return angle\n"
   ]
  },
  {
   "cell_type": "code",
   "execution_count": 12,
   "metadata": {},
   "outputs": [],
   "source": [
    "df = build_poke_df(lines,events)\n"
   ]
  },
  {
   "cell_type": "code",
   "execution_count": null,
   "metadata": {},
   "outputs": [],
   "source": [
    "DM = build_DM(df)"
   ]
  },
  {
   "cell_type": "code",
   "execution_count": null,
   "metadata": {},
   "outputs": [],
   "source": [
    "poke_dict ={}\n",
    "\n",
    "for port_nr in np.unique(df['port'].values):\n",
    "    v = df.loc[(df['port']==port_nr)]['time'].values\n",
    "    poke_dict[str(port_nr)] = [float(i) for i in v]\n"
   ]
  },
  {
   "cell_type": "code",
   "execution_count": null,
   "metadata": {},
   "outputs": [],
   "source": [
    "len(df)"
   ]
  },
  {
   "cell_type": "code",
   "execution_count": 21,
   "metadata": {},
   "outputs": [
    {
     "name": "stdout",
     "output_type": "stream",
     "text": [
      "elapsed time: 51.12\n"
     ]
    }
   ],
   "source": [
    "st = time.time()\n",
    "used_pokes = np.zeros(len(df))\n",
    "window0 = 3000\n",
    "window1 = 6000\n",
    "scaleF = (window0+window1)/30000.\n",
    "all_spk_store = []\n",
    "\n",
    "for unit in single_units:#\n",
    "    spk_unit = spkT[np.where(spkC==unit)[0]] #select all spikes that belong to this cell\n",
    "    spk_store = []\n",
    "    for nr,row in df.iterrows():\n",
    "        aligned_T = aligner.B_to_A(row['time'])\n",
    "        \n",
    "        if not np.isnan(aligned_T):\n",
    "\n",
    "            tpk = aligned_T\n",
    "            spike_locs = np.logical_and(spk_unit>(tpk-window0),spk_unit<(tpk+window1))\n",
    "            nSpikes = len(np.where(spike_locs)[0])\n",
    "            firing_rate = scaleF*float(nSpikes)\n",
    "            spk_store.append(firing_rate)\n",
    "            used_pokes[nr] = 1\n",
    "    all_spk_store.append(spk_store)\n",
    "            #1+1\n",
    "print('elapsed time: {:.2f}'.format(time.time() - st))"
   ]
  },
  {
   "cell_type": "markdown",
   "metadata": {},
   "source": [
    "# Now want to run several analyses\n",
    "\n",
    "1. Does including head direction improve model performance\n",
    "2. Does having separate things for two tasks improve model performance"
   ]
  },
  {
   "cell_type": "code",
   "execution_count": 22,
   "metadata": {},
   "outputs": [],
   "source": [
    "from sklearn.model_selection import train_test_split\n",
    "from sklearn.linear_model import LinearRegression\n",
    "import scipy.stats as stt"
   ]
  },
  {
   "cell_type": "code",
   "execution_count": 23,
   "metadata": {},
   "outputs": [],
   "source": [
    "all_spk_store = np.array(all_spk_store)"
   ]
  },
  {
   "cell_type": "code",
   "execution_count": 24,
   "metadata": {},
   "outputs": [
    {
     "name": "stderr",
     "output_type": "stream",
     "text": [
      "/Users/yves/opt/anaconda3/lib/python3.7/site-packages/ipykernel_launcher.py:8: RuntimeWarning: invalid value encountered in true_divide\n",
      "  \n"
     ]
    }
   ],
   "source": [
    "DM = build_DM(df,two_task_regs=1)\n",
    "DM_used = DM[:,np.where(used_pokes)[0]]\n",
    "DM_used[np.where(~np.isfinite(DM_used))] = 0"
   ]
  },
  {
   "cell_type": "code",
   "execution_count": 25,
   "metadata": {},
   "outputs": [
    {
     "data": {
      "text/plain": [
       "(320, 1238)"
      ]
     },
     "execution_count": 25,
     "metadata": {},
     "output_type": "execute_result"
    }
   ],
   "source": [
    "all_spk_store.shape"
   ]
  },
  {
   "cell_type": "code",
   "execution_count": null,
   "metadata": {},
   "outputs": [],
   "source": []
  },
  {
   "cell_type": "code",
   "execution_count": 28,
   "metadata": {},
   "outputs": [
    {
     "name": "stderr",
     "output_type": "stream",
     "text": [
      "/Users/yves/opt/anaconda3/lib/python3.7/site-packages/ipykernel_launcher.py:8: RuntimeWarning: invalid value encountered in true_divide\n",
      "  \n"
     ]
    }
   ],
   "source": [
    "DM = build_DM(df,two_task_regs=1)\n",
    "DM_used = DM[:,np.where(used_pokes)[0]]\n",
    "DM_used[np.where(~np.isfinite(DM_used))] = 0\n",
    "\n",
    "seed = 97\n",
    "scores_w_two_tasks = []\n",
    "n_neurons = all_spk_store.shape[0]\n",
    "for neuron_ix in range(n_neurons):\n",
    "    neuron_rates = np.array(all_spk_store)[neuron_ix]\n",
    "    X_train, X_test, y_train, y_test = train_test_split(DM_used.T,neuron_rates,test_size=0.4,random_state=seed)\n",
    "    lin_reg = LinearRegression()\n",
    "    lin_reg.fit(X_train,y_train)\n",
    "    scores_w_two_tasks.append(lin_reg.score(X_test,y_test))\n",
    "    "
   ]
  },
  {
   "cell_type": "code",
   "execution_count": 29,
   "metadata": {},
   "outputs": [
    {
     "name": "stderr",
     "output_type": "stream",
     "text": [
      "/Users/yves/opt/anaconda3/lib/python3.7/site-packages/ipykernel_launcher.py:8: RuntimeWarning: invalid value encountered in true_divide\n",
      "  \n"
     ]
    }
   ],
   "source": [
    "DM = build_DM(df,two_task_regs=0)\n",
    "DM_used = DM[:,np.where(used_pokes)[0]]\n",
    "DM_used[np.where(~np.isfinite(DM_used))] = 0\n",
    "\n",
    "\n",
    "scores_wo_two_tasks = []\n",
    "n_neurons = all_spk_store.shape[0]\n",
    "for neuron_ix in range(n_neurons):\n",
    "    neuron_rates = np.array(all_spk_store)[neuron_ix]\n",
    "    X_train, X_test, y_train, y_test = train_test_split(DM_used.T,neuron_rates,test_size=0.4,random_state=seed)\n",
    "    lin_reg = LinearRegression()\n",
    "    lin_reg.fit(X_train,y_train)\n",
    "    scores_wo_two_tasks.append(lin_reg.score(X_test,y_test))\n",
    "    "
   ]
  },
  {
   "cell_type": "code",
   "execution_count": 30,
   "metadata": {},
   "outputs": [],
   "source": [
    "scores_w_two_tasks = np.array(scores_w_two_tasks)\n",
    "scores_wo_two_tasks = np.array(scores_wo_two_tasks)"
   ]
  },
  {
   "cell_type": "code",
   "execution_count": 31,
   "metadata": {},
   "outputs": [
    {
     "data": {
      "text/plain": [
       "[<matplotlib.lines.Line2D at 0x7f9dc16dbb10>]"
      ]
     },
     "execution_count": 31,
     "metadata": {},
     "output_type": "execute_result"
    },
    {
     "data": {
      "image/png": "[encoded data removed]",
      "text/plain": [
       "<Figure size 432x288 with 1 Axes>"
      ]
     },
     "metadata": {
      "needs_background": "light"
     },
     "output_type": "display_data"
    }
   ],
   "source": [
    "ixs_ = np.where(np.logical_and(scores_w_two_tasks>0.02,scores_wo_two_tasks>0.02))[0]\n",
    "plt.scatter(scores_wo_two_tasks[ixs_],scores_w_two_tasks[ixs_])\n",
    "plt.xlim(0,1)\n",
    "plt.ylim(0,1)\n",
    "plt.plot([0,1],[0,1],color='.3')"
   ]
  },
  {
   "cell_type": "code",
   "execution_count": 32,
   "metadata": {},
   "outputs": [
    {
     "data": {
      "text/plain": [
       "0.2243414265269465"
      ]
     },
     "execution_count": 32,
     "metadata": {},
     "output_type": "execute_result"
    }
   ],
   "source": [
    "np.mean(scores_w_two_tasks[ixs_])"
   ]
  },
  {
   "cell_type": "code",
   "execution_count": 33,
   "metadata": {},
   "outputs": [
    {
     "data": {
      "text/plain": [
       "0.21294523469466228"
      ]
     },
     "execution_count": 33,
     "metadata": {},
     "output_type": "execute_result"
    }
   ],
   "source": [
    "np.mean(scores_wo_two_tasks[ixs_])"
   ]
  },
  {
   "cell_type": "markdown",
   "metadata": {},
   "source": [
    "# Compare with and without head direction "
   ]
  },
  {
   "cell_type": "code",
   "execution_count": 34,
   "metadata": {},
   "outputs": [
    {
     "name": "stderr",
     "output_type": "stream",
     "text": [
      "/Users/yves/opt/anaconda3/lib/python3.7/site-packages/ipykernel_launcher.py:8: RuntimeWarning: invalid value encountered in true_divide\n",
      "  \n"
     ]
    }
   ],
   "source": [
    "DM = build_DM(df,two_task_regs=1)\n",
    "DM_used = DM[:,np.where(used_pokes)[0]]\n",
    "DM_used[np.where(~np.isfinite(DM_used))] = 0\n",
    "\n",
    "seed = 97\n",
    "scores_w_two_tasks = []\n",
    "n_neurons = all_spk_store.shape[0]\n",
    "for neuron_ix in range(n_neurons):\n",
    "    neuron_rates = np.array(all_spk_store)[neuron_ix]\n",
    "    X_train, X_test, y_train, y_test = train_test_split(DM_used.T,neuron_rates,test_size=0.4,random_state=seed)\n",
    "    lin_reg.fit(X_train,y_train)\n",
    "    scores_w_two_tasks.append(lin_reg.score(X_test,y_test))\n",
    "    "
   ]
  },
  {
   "cell_type": "code",
   "execution_count": 35,
   "metadata": {},
   "outputs": [],
   "source": [
    "DM_used = np.delete(DM_used,-3,axis=0)\n",
    "DM_used = np.delete(DM_used,-3,axis=0)\n",
    "\n",
    "scores_wo_two_tasks = []\n",
    "n_neurons = all_spk_store.shape[0]\n",
    "for neuron_ix in range(n_neurons):\n",
    "    neuron_rates = np.array(all_spk_store)[neuron_ix]\n",
    "    X_train, X_test, y_train, y_test = train_test_split(DM_used.T,neuron_rates,test_size=0.4,random_state=seed)\n",
    "    lin_reg.fit(X_train,y_train)\n",
    "    scores_wo_two_tasks.append(lin_reg.score(X_test,y_test))\n",
    "    "
   ]
  },
  {
   "cell_type": "code",
   "execution_count": 36,
   "metadata": {},
   "outputs": [
    {
     "data": {
      "text/plain": [
       "[<matplotlib.lines.Line2D at 0x7f9d709a0e50>]"
      ]
     },
     "execution_count": 36,
     "metadata": {},
     "output_type": "execute_result"
    },
    {
     "data": {
      "image/png": "[encoded data removed]",
      "text/plain": [
       "<Figure size 432x288 with 1 Axes>"
      ]
     },
     "metadata": {
      "needs_background": "light"
     },
     "output_type": "display_data"
    }
   ],
   "source": [
    "scores_w_two_tasks = np.array(scores_w_two_tasks)\n",
    "scores_wo_two_tasks = np.array(scores_wo_two_tasks)\n",
    "\n",
    "ixs_ = np.where(np.logical_and(scores_w_two_tasks>0.02,scores_wo_two_tasks>0.02))[0]\n",
    "plt.scatter(scores_wo_two_tasks[ixs_],scores_w_two_tasks[ixs_])\n",
    "plt.xlim(0,1)\n",
    "plt.ylim(0,1)\n",
    "plt.plot([0,1],[0,1],color='.3')"
   ]
  },
  {
   "cell_type": "code",
   "execution_count": 37,
   "metadata": {},
   "outputs": [
    {
     "data": {
      "text/plain": [
       "0.2243899190216918"
      ]
     },
     "execution_count": 37,
     "metadata": {},
     "output_type": "execute_result"
    }
   ],
   "source": [
    "np.mean(scores_w_two_tasks[ixs_])"
   ]
  },
  {
   "cell_type": "code",
   "execution_count": 38,
   "metadata": {},
   "outputs": [
    {
     "data": {
      "text/plain": [
       "0.20996694059693552"
      ]
     },
     "execution_count": 38,
     "metadata": {},
     "output_type": "execute_result"
    }
   ],
   "source": [
    "np.mean(scores_wo_two_tasks[ixs_])"
   ]
  },
  {
   "cell_type": "code",
   "execution_count": 39,
   "metadata": {},
   "outputs": [
    {
     "data": {
      "text/plain": [
       "Ttest_relResult(statistic=7.851301355868223, pvalue=2.8295052620371215e-13)"
      ]
     },
     "execution_count": 39,
     "metadata": {},
     "output_type": "execute_result"
    }
   ],
   "source": [
    "stt.ttest_rel(scores_w_two_tasks[ixs_],scores_wo_two_tasks[ixs_])"
   ]
  }
 ],
 "metadata": {
  "kernelspec": {
   "display_name": "Python 3",
   "language": "python",
   "name": "python3"
  },
  "language_info": {
   "codemirror_mode": {
    "name": "ipython",
    "version": 3
   },
   "file_extension": ".py",
   "mimetype": "text/x-python",
   "name": "python",
   "nbconvert_exporter": "python",
   "pygments_lexer": "ipython3",
   "version": "3.7.4"
  }
 },
 "nbformat": 4,
 "nbformat_minor": 2
}
