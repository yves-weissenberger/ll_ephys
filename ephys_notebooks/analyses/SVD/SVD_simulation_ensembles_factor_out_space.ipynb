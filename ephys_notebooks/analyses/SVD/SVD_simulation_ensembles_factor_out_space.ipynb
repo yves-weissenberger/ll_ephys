{
 "cells": [
  {
   "cell_type": "markdown",
   "metadata": {},
   "source": [
    "# Simulations to support SVD analyses"
   ]
  },
  {
   "cell_type": "code",
   "execution_count": 767,
   "metadata": {},
   "outputs": [],
   "source": [
    "%matplotlib inline\n",
    "\n",
    "import numpy as np\n",
    "import matplotlib.pyplot as plt\n",
    "import seaborn\n",
    "import sys\n",
    "seaborn.set(font_scale=1.5,style='ticks')\n",
    "\n",
    "\n",
    "sys.path.append(\"/Users/yves/Documents/Code/mec_ephys/packages/mecll/\")\n",
    "from SVD_analysis import *"
   ]
  },
  {
   "cell_type": "markdown",
   "metadata": {},
   "source": [
    "# Ok so what you want to do is simulate data with some number of PCs for task space and for physical space and then add these together. Then take an n-dimensional noise distribution and add this to the mean of the data"
   ]
  },
  {
   "cell_type": "code",
   "execution_count": 768,
   "metadata": {},
   "outputs": [],
   "source": [
    "n_neurons = 100\n",
    "num_space_pcs = 2\n",
    "num_task_pcs = 3\n",
    "num_ports = 9\n",
    "n_noise_components = 5\n",
    "\n",
    "order1 = np.random.permutation(np.arange(num_ports))\n",
    "order2 = np.random.permutation(np.arange(num_ports))\n",
    "#task_W\n",
    "task_W = np.random.normal(size=(n_neurons,num_task_pcs))\n",
    "#space_W\n",
    "space_W = np.random.normal(size=(n_neurons,num_space_pcs))\n",
    "\n",
    "noise_W = np.random.normal(size=(n_neurons,n_noise_components))\n",
    "\n"
   ]
  },
  {
   "cell_type": "code",
   "execution_count": 769,
   "metadata": {},
   "outputs": [
    {
     "data": {
      "text/plain": [
       "2"
      ]
     },
     "execution_count": 769,
     "metadata": {},
     "output_type": "execute_result"
    }
   ],
   "source": [
    "np.linalg.matrix_rank(space_W)"
   ]
  },
  {
   "cell_type": "code",
   "execution_count": 782,
   "metadata": {},
   "outputs": [],
   "source": [
    "def get_params(n_neurons=100, num_space_pcs=3,num_task_pcs=3, num_ports=9,n_noise_components=5):\n",
    "    \"\"\" Generate parameters \"\"\"\n",
    "    order1 = np.random.permutation(np.arange(num_ports))\n",
    "    order2 = np.random.permutation(np.arange(num_ports))\n",
    "    #task_W\n",
    "    task_W = np.random.normal(size=(n_neurons,num_task_pcs))\n",
    "    task_W2 = task_W\n",
    "    #task_W2 = np.random.normal(size=(n_neurons,num_task_pcs))\n",
    "    #space_W\n",
    "    space_W = np.random.normal(size=(n_neurons,num_space_pcs))\n",
    "    noise_W = np.random.normal(size=(n_neurons,n_noise_components))\n",
    "\n",
    "    spatial_state = np.random.normal(size=(num_space_pcs,num_ports))\n",
    "    task_state = np.random.normal(size=(num_task_pcs,num_ports))\n",
    "    return space_W,spatial_state,task_W,task_W2,task_state,order1,order2,noise_W\n"
   ]
  },
  {
   "cell_type": "code",
   "execution_count": 783,
   "metadata": {},
   "outputs": [],
   "source": [
    "def generate_activity(space_W,spatial_state,task_W,task_W2,task_state,order1,order2,noise_W):\n",
    "    \"\"\" Generate activity from parameters\"\"\"\n",
    "    \n",
    "    n_neurons = task_W.shape[0]; n_ports = task_state.shape[1]\n",
    "    activity_task1 = space_W@spatial_state + task_W@task_state[:,order1]  + np.random.normal(size=(n_neurons,num_ports))\n",
    "\n",
    "    activity_task1_prime = space_W@spatial_state + task_W@task_state[:,order1] + np.random.normal(size=activity_task1.shape)\n",
    "\n",
    "    activity_task2 = space_W@spatial_state + task_W2@task_state[:,order2]  + np.random.normal(size=activity_task1.shape)\n",
    "    activity_task2_prime = space_W@spatial_state + task_W2@task_state[:,order2] + np.random.normal(size=activity_task1.shape)\n",
    "    return activity_task1, activity_task1_prime, activity_task2, activity_task2_prime"
   ]
  },
  {
   "cell_type": "code",
   "execution_count": 784,
   "metadata": {},
   "outputs": [],
   "source": [
    "def remove_space(activity_task1,activity_task1_prime,activity_task2,activity_task2_prime):\n",
    "    \n",
    "    spatial_component = np.mean(np.dstack((activity_task1_prime + activity_task2)),axis=2)\n",
    "    activity_task1 = activity_task1 - spatial_component\n",
    "    activity_task1_prime = activity_task1_prime - spatial_component\n",
    "    activity_task2 = activity_task2 - spatial_component\n",
    "    return activity_task1,activity_task1_prime,activity_task2,activity_task2_prime"
   ]
  },
  {
   "cell_type": "code",
   "execution_count": 785,
   "metadata": {},
   "outputs": [],
   "source": [
    "params = get_params()\n",
    "activity_task1, activity_task1_prime, activity_task2, activity_task2_prime = generate_activity(*params)\n",
    "activity_task1_prime_prime = activity_task1 + np.random.normal(size=(n_neurons,num_ports))\n"
   ]
  },
  {
   "cell_type": "code",
   "execution_count": 786,
   "metadata": {},
   "outputs": [
    {
     "name": "stdout",
     "output_type": "stream",
     "text": [
      "removing spatial responses...\n"
     ]
    }
   ],
   "source": [
    "REMOVE_SPACE = True\n",
    "if REMOVE_SPACE:\n",
    "    print('removing spatial responses...')\n",
    "    spatial_component = np.mean(np.dstack([activity_task1,activity_task2_prime]),axis=2)\n",
    "    activity_task1 = activity_task1 - spatial_component\n",
    "    activity_task1_prime = activity_task1_prime - spatial_component\n",
    "    activity_task2 = activity_task2 - spatial_component\n"
   ]
  },
  {
   "cell_type": "code",
   "execution_count": null,
   "metadata": {},
   "outputs": [],
   "source": []
  },
  {
   "cell_type": "code",
   "execution_count": 787,
   "metadata": {},
   "outputs": [
    {
     "data": {
      "text/plain": [
       "array([[ 1.        , -0.37926685],\n",
       "       [-0.37926685,  1.        ]])"
      ]
     },
     "execution_count": 787,
     "metadata": {},
     "output_type": "execute_result"
    }
   ],
   "source": [
    "np.corrcoef(activity_task1_prime.flatten(),activity_task2.flatten())"
   ]
  },
  {
   "cell_type": "code",
   "execution_count": 788,
   "metadata": {},
   "outputs": [],
   "source": [
    "    \n",
    "activity_task1 = activity_task1 - np.mean(activity_task1,axis=1)[:,None]\n",
    "activity_task1_prime = activity_task1_prime - np.mean(activity_task1_prime,axis=1)[:,None]\n",
    "activity_task2 = activity_task2 - np.mean(activity_task2,axis=1)[:,None]\n",
    "#activity_task1 = activity_task1 - np.mean(activity_task1,axis=1)[:,None]"
   ]
  },
  {
   "cell_type": "code",
   "execution_count": 789,
   "metadata": {},
   "outputs": [],
   "source": [
    "tmp = variance_explained_U(activity_task1,activity_task1_prime,activity_task2)"
   ]
  },
  {
   "cell_type": "code",
   "execution_count": 790,
   "metadata": {},
   "outputs": [
    {
     "data": {
      "text/plain": [
       "[<matplotlib.lines.Line2D at 0x7ff5bb2d63d0>]"
      ]
     },
     "execution_count": 790,
     "metadata": {},
     "output_type": "execute_result"
    },
    {
     "data": {
      "image/png": "[encoded data removed]",
      "text/plain": [
       "<Figure size 432x288 with 1 Axes>"
      ]
     },
     "metadata": {},
     "output_type": "display_data"
    }
   ],
   "source": [
    "plt.plot(np.cumsum(tmp,axis=1)[0])\n",
    "plt.plot(np.cumsum(tmp,axis=1)[1])\n",
    "#plt.xlim(0,50)"
   ]
  },
  {
   "cell_type": "markdown",
   "metadata": {},
   "source": [
    "# What is the SVD measure?\n",
    "\n",
    "\n",
    "What you want to look at is whether there are common cellular ensembles that are active. If there are"
   ]
  },
  {
   "cell_type": "code",
   "execution_count": 796,
   "metadata": {},
   "outputs": [],
   "source": [
    "all_tmp = []\n",
    "for _ in range(1000):\n",
    "    params = get_params()\n",
    "    activity_task1, activity_task1_prime, activity_task2, activity_task2_prime = generate_activity(*params)\n",
    "    activity_task1_prime_prime = activity_task1 + np.random.normal(size=(n_neurons,num_ports))\n",
    "\n",
    "    \n",
    "    REMOVE_SPACE = True\n",
    "    if REMOVE_SPACE:\n",
    "        #print('removing spatial responses...')\n",
    "        spatial_component = np.mean(np.dstack([activity_task1,activity_task2_prime]),axis=2)\n",
    "        activity_task1 = activity_task1 - spatial_component\n",
    "        activity_task1_prime = activity_task1_prime - spatial_component\n",
    "        activity_task2 = activity_task2 - spatial_component\n",
    "\n",
    "\n",
    "\n",
    "    activity_task1 = activity_task1 - np.mean(activity_task1,axis=1)[:,None]\n",
    "    activity_task1_prime = activity_task1_prime - np.mean(activity_task1_prime,axis=1)[:,None]\n",
    "    activity_task2 = activity_task2 - np.mean(activity_task2,axis=1)[:,None]\n",
    "    #activity_task1 = activity_task1 - np.mean(activity_task1,axis=1)[:,None]\n",
    "    \n",
    "    tmp = variance_explained_U(activity_task1,activity_task1_prime,activity_task2)\n",
    "    all_tmp.append(tmp)"
   ]
  },
  {
   "cell_type": "code",
   "execution_count": 797,
   "metadata": {},
   "outputs": [],
   "source": [
    "tmp = np.mean(all_tmp,axis=0)\n"
   ]
  },
  {
   "cell_type": "code",
   "execution_count": 800,
   "metadata": {},
   "outputs": [
    {
     "data": {
      "text/plain": [
       "8.821844866357953e-05"
      ]
     },
     "execution_count": 800,
     "metadata": {},
     "output_type": "execute_result"
    }
   ],
   "source": [
    "np.max(np.cumsum(tmp,axis=1)[0]-np.cumsum(tmp,axis=1)[1])"
   ]
  },
  {
   "cell_type": "code",
   "execution_count": 793,
   "metadata": {},
   "outputs": [
    {
     "data": {
      "text/plain": [
       "[<matplotlib.lines.Line2D at 0x7ff5e9fc89d0>]"
      ]
     },
     "execution_count": 793,
     "metadata": {},
     "output_type": "execute_result"
    },
    {
     "data": {
      "image/png": "[encoded data removed]",
      "text/plain": [
       "<Figure size 432x288 with 1 Axes>"
      ]
     },
     "metadata": {},
     "output_type": "display_data"
    }
   ],
   "source": [
    "plt.plot(np.cumsum(tmp,axis=1)[0])\n",
    "plt.plot(np.cumsum(tmp,axis=1)[1])\n",
    "#plt.xlim(0,50)"
   ]
  },
  {
   "cell_type": "code",
   "execution_count": null,
   "metadata": {},
   "outputs": [],
   "source": []
  },
  {
   "cell_type": "code",
   "execution_count": null,
   "metadata": {},
   "outputs": [],
   "source": []
  }
 ],
 "metadata": {
  "kernelspec": {
   "display_name": "Python 3",
   "language": "python",
   "name": "python3"
  },
  "language_info": {
   "codemirror_mode": {
    "name": "ipython",
    "version": 3
   },
   "file_extension": ".py",
   "mimetype": "text/x-python",
   "name": "python",
   "nbconvert_exporter": "python",
   "pygments_lexer": "ipython3",
   "version": "3.7.4"
  }
 },
 "nbformat": 4,
 "nbformat_minor": 2
}
