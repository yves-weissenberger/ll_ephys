{
 "cells": [
  {
   "cell_type": "code",
   "execution_count": 49,
   "metadata": {},
   "outputs": [],
   "source": [
    "%matplotlib inline\n",
    "\n",
    "import matplotlib.pyplot as plt\n",
    "import seaborn\n",
    "import numpy as np\n",
    "\n",
    "\n",
    "seaborn.set(font_scale=1.5,style='ticks')"
   ]
  },
  {
   "cell_type": "code",
   "execution_count": null,
   "metadata": {},
   "outputs": [],
   "source": []
  },
  {
   "cell_type": "code",
   "execution_count": null,
   "metadata": {},
   "outputs": [],
   "source": []
  },
  {
   "cell_type": "markdown",
   "metadata": {},
   "source": [
    "# Linear algebra testing "
   ]
  },
  {
   "cell_type": "markdown",
   "metadata": {},
   "source": [
    "### Shear tranformation "
   ]
  },
  {
   "cell_type": "code",
   "execution_count": 507,
   "metadata": {},
   "outputs": [],
   "source": [
    "a = np.array([1,2])\n",
    "M = np.array([[1,0],[1,1]])"
   ]
  },
  {
   "cell_type": "code",
   "execution_count": 508,
   "metadata": {},
   "outputs": [
    {
     "name": "stdout",
     "output_type": "stream",
     "text": [
      "[1 2]\n",
      "[1 3]\n",
      "[1 4]\n",
      "[1 5]\n",
      "[1 6]\n",
      "[1 7]\n",
      "[1 8]\n",
      "[1 9]\n",
      "[ 1 10]\n",
      "[ 1 11]\n"
     ]
    }
   ],
   "source": [
    "for i in range(10):\n",
    "    print(a)\n",
    "    a = np.dot(M,a)"
   ]
  },
  {
   "cell_type": "code",
   "execution_count": null,
   "metadata": {},
   "outputs": [],
   "source": []
  },
  {
   "cell_type": "code",
   "execution_count": 512,
   "metadata": {},
   "outputs": [
    {
     "data": {
      "text/plain": [
       "(-5, 5)"
      ]
     },
     "execution_count": 512,
     "metadata": {},
     "output_type": "execute_result"
    },
    {
     "data": {
      "image/png": "[encoded data removed]",
      "text/plain": [
       "<Figure size 432x288 with 1 Axes>"
      ]
     },
     "metadata": {},
     "output_type": "display_data"
    }
   ],
   "source": [
    "a = np.array([1,2])\n",
    "plt.scatter(a[0],a[1])\n",
    "a = np.dot(M,a)\n",
    "plt.scatter(a[0],a[1])\n",
    "plt.axhline(y=0)\n",
    "plt.axvline(x=0)\n",
    "plt.xlim(-5,5)\n",
    "plt.ylim(-5,5)"
   ]
  },
  {
   "cell_type": "markdown",
   "metadata": {},
   "source": [
    "## build matrix jordan form"
   ]
  },
  {
   "cell_type": "code",
   "execution_count": 562,
   "metadata": {},
   "outputs": [],
   "source": [
    "tmp = np.random.uniform(0,1,size=(4,2))\n",
    "tmp /= np.linalg.norm(tmp,axis=1)[:,None]"
   ]
  },
  {
   "cell_type": "code",
   "execution_count": 563,
   "metadata": {},
   "outputs": [],
   "source": [
    "#[a, -b]\n",
    "#[b, a]\n",
    "def construct_diagonal_blocks(vals):\n",
    "    \"\"\" \n",
    "    https://math.stackexchange.com/questions/1345694/algorithm-for-real-matrix-given-the-complex-eigenvalues/1345699#1345699\n",
    "    https://math.stackexchange.com/questions/3218954/construct-a-real-matrix-for-given-complex-eigenvalues\n",
    "    \"\"\"\n",
    "    arrs = []\n",
    "    for v in vals:\n",
    "        arr = np.zeros([2,2])\n",
    "        arr[0,0] = v[0]\n",
    "        arr[0,1] = -v[1]\n",
    "        arr[1,0] = v[1]\n",
    "        arr[1,1] = v[0]\n",
    "        arrs.append(arr)\n",
    "    return np.array(arrs)\n",
    "\n",
    "def fill_diagonal_blocks(arrs):\n",
    "    return None"
   ]
  },
  {
   "cell_type": "code",
   "execution_count": 564,
   "metadata": {},
   "outputs": [],
   "source": [
    "M = np.zeros([8,8])\n",
    "for i,db in enumerate(construct_diagonal_blocks(tmp)):\n",
    "    M[i*2:(i+1)*2,i*2:(i+1)*2] = db"
   ]
  },
  {
   "cell_type": "code",
   "execution_count": 565,
   "metadata": {},
   "outputs": [],
   "source": [
    "A = np.random.uniform(size=(8,8))"
   ]
  },
  {
   "cell_type": "code",
   "execution_count": 566,
   "metadata": {},
   "outputs": [],
   "source": [
    "mat = np.dot(A,M).dot(np.linalg.inv(A))"
   ]
  },
  {
   "cell_type": "markdown",
   "metadata": {},
   "source": [
    "# This is the simple case"
   ]
  },
  {
   "cell_type": "code",
   "execution_count": 547,
   "metadata": {},
   "outputs": [],
   "source": [
    "n =8\n",
    "initial_index = [3,0,2,1]\n",
    "final_index = [0,1,3,2]\n",
    "permutation_matrix = np.zeros((n, n), dtype=int)\n",
    "permutation_matrix[final_index, initial_index] = 1\n"
   ]
  },
  {
   "cell_type": "code",
   "execution_count": 323,
   "metadata": {},
   "outputs": [
    {
     "data": {
      "text/plain": [
       "array([[0, 0, 0, 1],\n",
       "       [1, 0, 0, 0],\n",
       "       [0, 1, 0, 0],\n",
       "       [0, 0, 1, 0]])"
      ]
     },
     "execution_count": 323,
     "metadata": {},
     "output_type": "execute_result"
    }
   ],
   "source": [
    "permutation_matrix"
   ]
  },
  {
   "cell_type": "code",
   "execution_count": 571,
   "metadata": {},
   "outputs": [],
   "source": [
    "n_states = 9\n",
    "n_units = 200"
   ]
  },
  {
   "cell_type": "code",
   "execution_count": 325,
   "metadata": {},
   "outputs": [],
   "source": [
    "cell_correlations = np.random.normal(size=n_units)\n"
   ]
  },
  {
   "cell_type": "code",
   "execution_count": 326,
   "metadata": {},
   "outputs": [],
   "source": [
    "rep0 = np.random.normal(size=500)"
   ]
  },
  {
   "cell_type": "code",
   "execution_count": 327,
   "metadata": {},
   "outputs": [],
   "source": [
    "aa = np.outer(cell_correlations,rep0)\n"
   ]
  },
  {
   "cell_type": "code",
   "execution_count": 432,
   "metadata": {},
   "outputs": [],
   "source": [
    "U,S,V = np.linalg.svd(aa)"
   ]
  },
  {
   "cell_type": "code",
   "execution_count": 433,
   "metadata": {},
   "outputs": [],
   "source": [
    "#Y_t.shape = (nPCs,nTimepoiints)\n",
    "#Y_(t+1).shape = (nPCs,nTimepoiints)"
   ]
  },
  {
   "cell_type": "code",
   "execution_count": 434,
   "metadata": {},
   "outputs": [],
   "source": [
    "#A.shape = (nPcs x nPcs)"
   ]
  },
  {
   "cell_type": "code",
   "execution_count": 548,
   "metadata": {},
   "outputs": [],
   "source": [
    "nPcs = 8\n",
    "\n",
    "#A = np.random.normal(size=(nPcs,nPcs))\n",
    "A = np.vstack([np.ones(n_states),np.zeros([n_states-1,n_states])])"
   ]
  },
  {
   "cell_type": "code",
   "execution_count": 549,
   "metadata": {},
   "outputs": [],
   "source": [
    "A = np.eye(nPcs)\n",
    "A = A[np.random.permutation(np.arange(nPcs))]"
   ]
  },
  {
   "cell_type": "code",
   "execution_count": 550,
   "metadata": {},
   "outputs": [],
   "source": [
    "import numpy as np\n",
    "\n",
    "\n",
    "k = nPcs\n",
    "A = np.identity(k)\n",
    "\n",
    "# Add a random drift term.  We can guarantee that the diagonal terms\n",
    "#     will be larger by specifying a `high` parameter that is < 1.\n",
    "# How much larger depends on that term.  Here, it is 0.25.\n",
    "A = A + np.random.uniform(low=0., high=.5, size=(k, k))\n",
    "\n",
    "# Lastly, divide by row-wise sum to normalize to 1.\n",
    "A = A / A.sum(axis=1, keepdims=1)\n"
   ]
  },
  {
   "cell_type": "code",
   "execution_count": 551,
   "metadata": {},
   "outputs": [],
   "source": [
    "import scipy.stats\n"
   ]
  },
  {
   "cell_type": "code",
   "execution_count": 552,
   "metadata": {},
   "outputs": [],
   "source": [
    "tmp = np.random.uniform(0,1,[nPcs,2])\n",
    "tmp /= np.sqrt(np.sum(tmp**2,axis=1))[:,None]"
   ]
  },
  {
   "cell_type": "code",
   "execution_count": 553,
   "metadata": {},
   "outputs": [],
   "source": [
    "L = np.eye(nPcs)*np.sum(tmp*np.array([1,1j]),axis=1)\n",
    "#L = np.eye(nPcs)\n",
    "Q = scipy.stats.ortho_group.rvs(nPcs)"
   ]
  },
  {
   "cell_type": "code",
   "execution_count": 554,
   "metadata": {},
   "outputs": [],
   "source": [
    "A= np.dot(Q,L).dot(Q.T)"
   ]
  },
  {
   "cell_type": "code",
   "execution_count": 642,
   "metadata": {},
   "outputs": [],
   "source": [
    "state0 = np.random.normal(size=(nPcs,1))"
   ]
  },
  {
   "cell_type": "code",
   "execution_count": 572,
   "metadata": {},
   "outputs": [],
   "source": [
    "A = mat"
   ]
  },
  {
   "cell_type": "code",
   "execution_count": 643,
   "metadata": {},
   "outputs": [],
   "source": [
    "state_representation = [state0.copy()]\n",
    "for _ in range(1,n_states):\n",
    "    tmp = np.dot(A,state_representation[-1])\n",
    "    state_representation.append(tmp.copy())\n",
    "    \n",
    "#this is now n_states n_timepoints \n",
    "state_representation = np.hstack(state_representation)"
   ]
  },
  {
   "cell_type": "code",
   "execution_count": 648,
   "metadata": {},
   "outputs": [
    {
     "data": {
      "text/plain": [
       "array([-0.73034338,  0.62441384, -1.00123313, -0.24595158, -0.48420674,\n",
       "       -0.84118772,  0.6113365 , -0.12422153])"
      ]
     },
     "execution_count": 648,
     "metadata": {},
     "output_type": "execute_result"
    }
   ],
   "source": []
  },
  {
   "cell_type": "code",
   "execution_count": 647,
   "metadata": {},
   "outputs": [
    {
     "data": {
      "text/plain": [
       "array([[-0.73034338,  0.62441384, -1.00123313, -0.24595158, -0.48420674,\n",
       "        -0.84118772,  0.6113365 , -0.12422153]])"
      ]
     },
     "execution_count": 647,
     "metadata": {},
     "output_type": "execute_result"
    }
   ],
   "source": [
    "state0.T"
   ]
  },
  {
   "cell_type": "code",
   "execution_count": 631,
   "metadata": {},
   "outputs": [
    {
     "data": {
      "text/plain": [
       "[<matplotlib.lines.Line2D at 0x7fe328e93f50>]"
      ]
     },
     "execution_count": 631,
     "metadata": {},
     "output_type": "execute_result"
    },
    {
     "data": {
      "image/png": "[encoded data removed]",
      "text/plain": [
       "<Figure size 432x288 with 1 Axes>"
      ]
     },
     "metadata": {},
     "output_type": "display_data"
    }
   ],
   "source": [
    "plt.plot(state_representation[0].real)"
   ]
  },
  {
   "cell_type": "code",
   "execution_count": 632,
   "metadata": {},
   "outputs": [],
   "source": [
    "#sorting approach"
   ]
  },
  {
   "cell_type": "code",
   "execution_count": 651,
   "metadata": {},
   "outputs": [],
   "source": [
    "y1 = state_representation[:,:-1]\n",
    "y2 = state_representation[:,1:]"
   ]
  },
  {
   "cell_type": "code",
   "execution_count": null,
   "metadata": {},
   "outputs": [],
   "source": [
    "Ay0 = y1"
   ]
  },
  {
   "cell_type": "code",
   "execution_count": null,
   "metadata": {},
   "outputs": [],
   "source": [
    "np.linalg.inv()"
   ]
  },
  {
   "cell_type": "code",
   "execution_count": 665,
   "metadata": {},
   "outputs": [
    {
     "data": {
      "text/plain": [
       "array([-0.73034338,  0.62441384, -1.00123313, -0.24595158, -0.48420674,\n",
       "       -0.84118772,  0.6113365 , -0.12422153])"
      ]
     },
     "execution_count": 665,
     "metadata": {},
     "output_type": "execute_result"
    }
   ],
   "source": [
    "state_representation[:,0]"
   ]
  },
  {
   "cell_type": "code",
   "execution_count": 667,
   "metadata": {},
   "outputs": [
    {
     "data": {
      "text/plain": [
       "array([[ 0.05148805],\n",
       "       [-0.05421808],\n",
       "       [-0.02478486],\n",
       "       [ 0.02966453],\n",
       "       [-0.01078396],\n",
       "       [ 0.02245489],\n",
       "       [-0.05296906],\n",
       "       [-0.07965835]])"
      ]
     },
     "execution_count": 667,
     "metadata": {},
     "output_type": "execute_result"
    }
   ],
   "source": [
    "np.linalg.pinv(state_representation[:,1].reshape(1,-1))"
   ]
  },
  {
   "cell_type": "code",
   "execution_count": 652,
   "metadata": {},
   "outputs": [
    {
     "data": {
      "text/plain": [
       "array([-0.73034338,  0.62441384, -1.00123313, -0.24595158, -0.48420674,\n",
       "       -0.84118772,  0.6113365 , -0.12422153])"
      ]
     },
     "execution_count": 652,
     "metadata": {},
     "output_type": "execute_result"
    }
   ],
   "source": [
    "state_representation[:,0]"
   ]
  },
  {
   "cell_type": "code",
   "execution_count": 653,
   "metadata": {},
   "outputs": [
    {
     "data": {
      "text/plain": [
       "array([-0.73034338,  0.62441384, -1.00123313, -0.24595158, -0.48420674,\n",
       "       -0.84118772,  0.6113365 , -0.12422153])"
      ]
     },
     "execution_count": 653,
     "metadata": {},
     "output_type": "execute_result"
    }
   ],
   "source": [
    "state0[:,0]"
   ]
  },
  {
   "cell_type": "code",
   "execution_count": 654,
   "metadata": {},
   "outputs": [
    {
     "data": {
      "text/plain": [
       "array([ 3.05447748, -3.21643356, -1.47033705,  1.75981896, -0.63974749,\n",
       "        1.33211425, -3.14233676, -4.72565253])"
      ]
     },
     "execution_count": 654,
     "metadata": {},
     "output_type": "execute_result"
    }
   ],
   "source": [
    "state_representation[:,1]"
   ]
  },
  {
   "cell_type": "code",
   "execution_count": 670,
   "metadata": {},
   "outputs": [],
   "source": [
    "Ahat =np.dot(y2,np.linalg.pinv(y1))"
   ]
  },
  {
   "cell_type": "code",
   "execution_count": 671,
   "metadata": {},
   "outputs": [
    {
     "data": {
      "text/plain": [
       "[<matplotlib.lines.Line2D at 0x7fe370599250>]"
      ]
     },
     "execution_count": 671,
     "metadata": {},
     "output_type": "execute_result"
    },
    {
     "data": {
      "image/png": "[encoded data removed]",
      "text/plain": [
       "<Figure size 432x288 with 1 Axes>"
      ]
     },
     "metadata": {},
     "output_type": "display_data"
    }
   ],
   "source": [
    "plt.plot(state_representation[:,1])\n",
    "plt.plot(np.dot(Ahat,state0),linestyle='--')\n"
   ]
  },
  {
   "cell_type": "code",
   "execution_count": null,
   "metadata": {},
   "outputs": [],
   "source": []
  },
  {
   "cell_type": "code",
   "execution_count": 672,
   "metadata": {},
   "outputs": [
    {
     "data": {
      "text/plain": [
       "<matplotlib.image.AxesImage at 0x7fe39a682150>"
      ]
     },
     "execution_count": 672,
     "metadata": {},
     "output_type": "execute_result"
    },
    {
     "data": {
      "image/png": "[encoded data removed]",
      "text/plain": [
       "<Figure size 432x288 with 2 Axes>"
      ]
     },
     "metadata": {},
     "output_type": "display_data"
    }
   ],
   "source": [
    "plt.subplot(1,2,1)\n",
    "plt.imshow(A)\n",
    "plt.subplot(1,2,2)\n",
    "plt.imshow(Ahat)\n",
    "#plt.colorbar()"
   ]
  },
  {
   "cell_type": "code",
   "execution_count": 577,
   "metadata": {},
   "outputs": [
    {
     "data": {
      "text/plain": [
       "array([[-0.56148971,  2.1071392 , -2.30255692, -0.32280346,  1.6672461 ,\n",
       "         1.53010516,  1.14900935, -2.70360629],\n",
       "       [ 1.86701771, -3.59744451,  2.04279674,  0.54104539, -1.51281116,\n",
       "        -1.01877517,  1.99017831,  1.88656365],\n",
       "       [ 1.47661398, -1.84530413,  1.42736992,  1.08344969, -1.13389391,\n",
       "        -1.2657479 ,  1.4968222 ,  0.58681345],\n",
       "       [-0.17331264,  1.08091121, -1.52229861,  0.78452905,  0.7597814 ,\n",
       "         0.5886161 ,  0.57782984, -1.10178238],\n",
       "       [ 1.62548357, -0.41199707,  0.08953901,  0.48512251, -0.15165948,\n",
       "        -1.15606207,  0.01170442,  0.31732571],\n",
       "       [-0.94412514,  0.72694635, -1.22539408, -0.1638946 ,  1.34545587,\n",
       "         1.95513683,  1.59735858, -1.94040706],\n",
       "       [ 1.5567537 , -3.4627943 ,  2.00699841,  0.1579997 , -1.21021034,\n",
       "        -1.48660923,  1.06271242,  2.26213663],\n",
       "       [ 1.97346301, -4.35159141,  2.34838465,  0.26864996, -1.49240411,\n",
       "        -0.81735346,  1.27697898,  2.74220798]])"
      ]
     },
     "execution_count": 577,
     "metadata": {},
     "output_type": "execute_result"
    }
   ],
   "source": [
    "A"
   ]
  },
  {
   "cell_type": "code",
   "execution_count": 299,
   "metadata": {},
   "outputs": [
    {
     "data": {
      "text/plain": [
       "(array([ 1.00000000e+00, -1.00000000e+00,  3.65854426e-17, -2.80157292e-16]),\n",
       " array([[-0.70423916, -0.13711605,  0.06779878,  0.67633735],\n",
       "        [ 0.06361763,  0.69368522,  0.70505305,  0.35992016],\n",
       "        [-0.70423916,  0.13711605,  0.05943416, -0.63472058],\n",
       "        [ 0.06361763, -0.69368522,  0.70339967,  0.10077224]]))"
      ]
     },
     "execution_count": 299,
     "metadata": {},
     "output_type": "execute_result"
    }
   ],
   "source": [
    "np.linalg.eig(Ahat)"
   ]
  },
  {
   "cell_type": "code",
   "execution_count": 300,
   "metadata": {},
   "outputs": [],
   "source": [
    "state_representation2 = [state0]\n",
    "for _ in range(1,n_states):\n",
    "    tmp = np.dot(Ahat,state_representation2[-1])\n",
    "    state_representation2.append(tmp.copy())\n",
    "    \n",
    "#this is now n_states n_timepoints \n",
    "state_representation2 = np.hstack(state_representation2)"
   ]
  },
  {
   "cell_type": "code",
   "execution_count": 301,
   "metadata": {},
   "outputs": [],
   "source": [
    "assert np.allclose(state_representation,state_representation2)"
   ]
  },
  {
   "cell_type": "code",
   "execution_count": 302,
   "metadata": {},
   "outputs": [
    {
     "data": {
      "text/plain": [
       "array([-0.72235655, -0.93675712, -1.12567984,  1.10369997])"
      ]
     },
     "execution_count": 302,
     "metadata": {},
     "output_type": "execute_result"
    }
   ],
   "source": [
    "np.dot(Ahat,state_representation[:,-1])"
   ]
  },
  {
   "cell_type": "code",
   "execution_count": 303,
   "metadata": {},
   "outputs": [
    {
     "data": {
      "text/plain": [
       "array([-0.72235655, -0.93675712, -1.12567984,  1.10369997])"
      ]
     },
     "execution_count": 303,
     "metadata": {},
     "output_type": "execute_result"
    }
   ],
   "source": [
    "np.dot(A,state_representation[:,-1])"
   ]
  },
  {
   "cell_type": "markdown",
   "metadata": {},
   "source": [
    "# Now tackle the complex case "
   ]
  },
  {
   "cell_type": "code",
   "execution_count": null,
   "metadata": {},
   "outputs": [],
   "source": [
    "#first build population activity\n",
    "def generate_population_activity():\n",
    "    "
   ]
  }
 ],
 "metadata": {
  "kernelspec": {
   "display_name": "Python 3",
   "language": "python",
   "name": "python3"
  },
  "language_info": {
   "codemirror_mode": {
    "name": "ipython",
    "version": 3
   },
   "file_extension": ".py",
   "mimetype": "text/x-python",
   "name": "python",
   "nbconvert_exporter": "python",
   "pygments_lexer": "ipython3",
   "version": "3.7.4"
  }
 },
 "nbformat": 4,
 "nbformat_minor": 2
}
