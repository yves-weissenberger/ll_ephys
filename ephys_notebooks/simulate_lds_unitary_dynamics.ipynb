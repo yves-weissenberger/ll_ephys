{
 "cells": [
  {
   "cell_type": "markdown",
   "metadata": {},
   "source": [
    "# Plan\n",
    "\n",
    "\n",
    "\n",
    "Generate some low dimensional dynamics\n",
    "Then add space on top of that\n",
    "\n",
    "\n"
   ]
  },
  {
   "cell_type": "code",
   "execution_count": null,
   "metadata": {},
   "outputs": [],
   "source": []
  },
  {
   "cell_type": "code",
   "execution_count": 1,
   "metadata": {},
   "outputs": [
    {
     "name": "stderr",
     "output_type": "stream",
     "text": [
      "/Users/yves/opt/anaconda3/lib/python3.7/site-packages/statsmodels/tools/_testing.py:19: FutureWarning: pandas.util.testing is deprecated. Use the functions in the public API at pandas.testing instead.\n",
      "  import pandas.util.testing as tm\n"
     ]
    }
   ],
   "source": [
    "#%matplotlib notebook\n",
    "%matplotlib inline\n",
    "import numpy as np\n",
    "import matplotlib.pyplot as plt\n",
    "import seaborn\n",
    "import scipy.optimize as op\n",
    "from functools import partial\n",
    "from mpl_toolkits import mplot3d\n",
    "\n",
    "seaborn.set(font_scale=1.5,style='ticks')"
   ]
  },
  {
   "cell_type": "code",
   "execution_count": 2,
   "metadata": {},
   "outputs": [],
   "source": [
    "poke_pos = np.array([1,-1])*np.array([ [149,0],\n",
    "                                 [68,19],[231,19],\n",
    "                               [0,62],[149,62],[298,62],\n",
    "                                 [68,105],[231,105],\n",
    "                                      [149,124]])"
   ]
  },
  {
   "cell_type": "markdown",
   "metadata": {},
   "source": [
    "# Run with jax"
   ]
  },
  {
   "cell_type": "code",
   "execution_count": 3,
   "metadata": {},
   "outputs": [],
   "source": [
    "import jax.numpy as jnp\n",
    "from jax import grad, jit, vmap\n",
    "from jax import random\n"
   ]
  },
  {
   "cell_type": "code",
   "execution_count": 4,
   "metadata": {},
   "outputs": [],
   "source": [
    "def predict(Ahat,x,y,n,dim):\n",
    "    Ahat = jnp.reshape(Ahat,(dim,dim))\n",
    "    return jnp.sum((jnp.dot(jnp.linalg.matrix_power(Ahat,n),x)-y)**2)\n",
    "\n",
    "\n",
    "#predict_funs = [partial(predict,n=i,dim=dim) for i in range(9)]\n",
    "#grad_predict_funs = [grad(i) for i in predict_funs]"
   ]
  },
  {
   "cell_type": "code",
   "execution_count": null,
   "metadata": {},
   "outputs": [],
   "source": []
  },
  {
   "cell_type": "markdown",
   "metadata": {},
   "source": [
    "# Now do it properly with constraints"
   ]
  },
  {
   "cell_type": "code",
   "execution_count": 5,
   "metadata": {},
   "outputs": [],
   "source": [
    "def get_basis_tensor(dim):\n",
    "    \"\"\" Returns a tensor that forms a basis for skew symmetric matrices.\n",
    "        Use np.einsum('i...,i...',params,basis_tensor) to construct this\n",
    "        matrix\n",
    "    \"\"\"\n",
    "    basis_tensor = []\n",
    "    for i in range(dim):\n",
    "        for j in range(i+1,dim):\n",
    "            bi =  np.zeros([dim,dim])\n",
    "            bi[i,j] = -1\n",
    "            bi = bi -bi.T\n",
    "            basis_tensor.append(bi.T)\n",
    "    basis_tensor = np.array(basis_tensor)\n",
    "    return np.asarray(basis_tensor)\n"
   ]
  },
  {
   "cell_type": "code",
   "execution_count": 6,
   "metadata": {},
   "outputs": [],
   "source": [
    "def construct_M(skewM,dim):\n",
    "    \"\"\" Perform Caley transform\"\"\"\n",
    "    return (jnp.eye(dim) - skewM)@jnp.linalg.inv(jnp.eye(dim)+skewM)"
   ]
  },
  {
   "cell_type": "code",
   "execution_count": 7,
   "metadata": {},
   "outputs": [],
   "source": [
    "def predict(T,x,y,n,dim):\n",
    "    transition_matrix = jnp.reshape(T,(dim,dim))\n",
    "    return jnp.sum((jnp.dot(jnp.linalg.matrix_power(transition_matrix,n),x)-y)**2)\n",
    "\n",
    "\n",
    "#predict_funs = [partial(predict,n=i,dim=dim) for i in range(9)]\n",
    "#grad_predict_funs = [grad(i) for i in predict_funs]"
   ]
  },
  {
   "cell_type": "code",
   "execution_count": 8,
   "metadata": {},
   "outputs": [],
   "source": [
    "def predict_all(params,x,dim,basis_tensor):\n",
    "\n",
    "    err = 0\n",
    "    nT = len(x)\n",
    "    k = 0\n",
    "    skewM = jnp.einsum('i...,i...',params,basis_tensor)\n",
    "    M = construct_M(skewM,dim)\n",
    "    #print(M.shape)\n",
    "    for start_state in range(nT):\n",
    "        for pred_state in range(start_state+1,nT-start_state):\n",
    "            n_fwd = pred_state-start_state \n",
    "            err += predict(M,x[start_state],x[pred_state],n_fwd,dim)\n",
    "            k += 1\n",
    "    mse = err/k\n",
    "    #print(mse)\n",
    "    return mse\n"
   ]
  },
  {
   "cell_type": "code",
   "execution_count": 9,
   "metadata": {},
   "outputs": [],
   "source": [
    "def grad_wrapper(params,x,dim,basis_tensor):\n",
    "    grad = grad_predict_all(jnp.array(params),x,dim,basis_tensor)\n",
    "    grad = np.array(grad)\n",
    "    #print(grad)\n",
    "    return grad"
   ]
  },
  {
   "cell_type": "code",
   "execution_count": 10,
   "metadata": {},
   "outputs": [],
   "source": [
    "def caley_transform(skewM,dim):\n",
    "    \"\"\" Perform Caley transform\"\"\"\n",
    "    return (np.eye(dim) - skewM)@np.linalg.inv(np.eye(dim)+skewM)"
   ]
  },
  {
   "cell_type": "markdown",
   "metadata": {},
   "source": [
    "## Generate Data"
   ]
  },
  {
   "cell_type": "markdown",
   "metadata": {},
   "source": [
    "# Get this to work with cell activity with structured noise"
   ]
  },
  {
   "cell_type": "code",
   "execution_count": 18,
   "metadata": {},
   "outputs": [],
   "source": [
    "np.random.seed(99)\n",
    "n_neurons = 120\n",
    "dim = 5\n",
    "nT = 9\n",
    "\n",
    "frac_noise_dynamics = 1.\n",
    "\n",
    "x0 = np.random.normal(size=(dim,1))\n",
    "\n",
    "\n",
    "a_params = np.random.normal(size=int(dim*(dim-1)/2))\n",
    "\n",
    "basis_tensor = get_basis_tensor(dim)\n",
    "skewM = np.einsum('i...,i...',a_params,basis_tensor)\n",
    "A = caley_transform(skewM,dim)\n",
    "\n",
    "#x0_2 = np.linalg.matrix_power(A,30)@x0\n",
    "x0_2 = np.random.normal(size=(dim,1))\n",
    "assert(np.logical_not(np.allclose(x0,x0_2)))\n",
    "\n",
    "#A = (np.eye(dim)-A)@np.linalg.inv(np.eye(dim)+A)\n",
    "x = np.array([np.linalg.matrix_power(A,i)@x0 for i in range(nT)])\n",
    "x_2 = np.array([np.linalg.matrix_power(A,i)@x0_2 for i in range(nT)])\n",
    "\n",
    "x = frac_noise_dynamics*x + (1-frac_noise_dynamics)*np.random.normal(size=x.shape)\n",
    "x_2 = frac_noise_dynamics*x_2 + (1-frac_noise_dynamics)*np.random.normal(size=x.shape)\n",
    "\n",
    "\n",
    "W = np.random.normal(size=(n_neurons,dim))\n",
    "basis_tensor = get_basis_tensor(dim)\n",
    "n_bases = basis_tensor.shape[0]"
   ]
  },
  {
   "cell_type": "code",
   "execution_count": 66,
   "metadata": {},
   "outputs": [],
   "source": [
    "def simulate_dynamics(dim=5,nT=9,frac_noise_dynamics=.7):\n",
    "    \"\"\" Get latent states simulated with unitary dynamics \"\"\"\n",
    "    \n",
    "    x0 = np.random.normal(size=(dim,1))\n",
    "    a_params = np.random.normal(size=int(dim*(dim-1)/2))\n",
    "\n",
    "    basis_tensor = get_basis_tensor(dim)\n",
    "    skewM = np.einsum('i...,i...',a_params,basis_tensor)\n",
    "    A = caley_transform(skewM,dim)\n",
    "\n",
    "    #x0_2 = np.linalg.matrix_power(A,30)@x0\n",
    "    x0_2 = np.random.normal(size=(dim,1))\n",
    "    assert(np.logical_not(np.allclose(x0,x0_2)))\n",
    "\n",
    "    #A = (np.eye(dim)-A)@np.linalg.inv(np.eye(dim)+A)\n",
    "    x = np.array([np.linalg.matrix_power(A,i)@x0 for i in range(nT)])\n",
    "    x_2 = np.array([np.linalg.matrix_power(A,i)@x0_2 for i in range(nT)])\n",
    "\n",
    "    x = frac_noise_dynamics*x + (1-frac_noise_dynamics)*np.random.normal(size=x.shape)\n",
    "    x_2 = frac_noise_dynamics*x_2 + (1-frac_noise_dynamics)*np.random.normal(size=x.shape)\n",
    "\n",
    "\n",
    "    W = np.random.normal(size=(n_neurons,dim))\n",
    "    basis_tensor = get_basis_tensor(dim)\n",
    "    n_bases = basis_tensor.shape[0]\n",
    "    \n",
    "    return x,x2"
   ]
  },
  {
   "cell_type": "code",
   "execution_count": null,
   "metadata": {},
   "outputs": [],
   "source": []
  },
  {
   "cell_type": "code",
   "execution_count": 67,
   "metadata": {},
   "outputs": [],
   "source": [
    "evals, evecs = np.linalg.eig(A)"
   ]
  },
  {
   "cell_type": "code",
   "execution_count": 68,
   "metadata": {},
   "outputs": [
    {
     "data": {
      "text/plain": [
       "array([-0.64089088+0.j,  0.48850702+0.j, -0.14728939+0.j, -0.55874515+0.j,\n",
       "       -0.12934242+0.j])"
      ]
     },
     "execution_count": 68,
     "metadata": {},
     "output_type": "execute_result"
    }
   ],
   "source": [
    "evecs[:,0]"
   ]
  },
  {
   "cell_type": "code",
   "execution_count": 19,
   "metadata": {},
   "outputs": [],
   "source": [
    "def get_spatial_tuning(poke_pos,peak_loc,width):\n",
    "    \"\"\"\"\"\"\n",
    "    #for i in range(9):\n",
    "    distance_matrix = np.abs((poke_pos[peak_loc]-poke_pos)**2).sum(axis=1)\n",
    "    fr = norm(scale=width).pdf(distance_matrix)\n",
    "    return fr#distance_matrix\n",
    "        \n",
    "def get_task_tuning_line(seq,peak_loc,width):\n",
    "    task_dists = np.abs(peak_loc-np.arange(9))\n",
    "#     fr = norm(scale=width).pdf(task_dists)\n",
    "    fr = np.sin(task_dists)\n",
    "    return fr[seq]#task_dists[seq]#[task_dists[i] for i in seq]#fr#[fr[i] for i in seq]"
   ]
  },
  {
   "cell_type": "code",
   "execution_count": 20,
   "metadata": {},
   "outputs": [],
   "source": [
    "from scipy.stats import norm\n",
    "\n",
    "np.random.seed(99)\n",
    "\n",
    "act_matrix = []\n",
    "act_matrix2 = []\n",
    "space_order2 = np.random.permutation(np.arange(9))\n",
    "space_order2_inv = [list(space_order2).index(i) for i in range(9)]\n",
    "for nix in range(n_neurons):\n",
    "    \n",
    "    frac_space = np.random.uniform(0,1)\n",
    "    peak_space = np.random.randint(0,9)\n",
    "    std_space = np.random.randint(1000,12000)\n",
    "    \n",
    "    lamda1 = get_spatial_tuning(poke_pos,peak_space,std_space)\n",
    "    lamda1 = lamda1/np.max(lamda1)\n",
    "    \n",
    "    \n",
    "    neuron_state_couple = np.random.normal(size=(dim))\n",
    "    \n",
    "    lamda2 = np.squeeze(x)@neuron_state_couple\n",
    "    lamda2_2 = np.squeeze(x_2)@neuron_state_couple\n",
    "\n",
    "    \n",
    "    activity = frac_space*lamda1 + (1-frac_space)*lamda2 + np.random.normal(scale=.1,size=9)\n",
    "    act_matrix.append(activity.copy())\n",
    "    \n",
    "    activity2 = frac_space*lamda1[space_order2] + (1-frac_space)*lamda2_2 + np.random.normal(scale=.1,size=9)\n",
    "    act_matrix2.append(activity2.copy())\n",
    "act_matrix = np.array(act_matrix).T\n",
    "act_matrix2 = np.array(act_matrix2).T"
   ]
  },
  {
   "cell_type": "code",
   "execution_count": 22,
   "metadata": {},
   "outputs": [],
   "source": [
    "REMOVE_SPACE = False"
   ]
  },
  {
   "cell_type": "code",
   "execution_count": 23,
   "metadata": {},
   "outputs": [
    {
     "data": {
      "text/plain": [
       "array([ 1.18721003,  0.70927152, -1.02814495, -1.53366823, -1.98298348])"
      ]
     },
     "execution_count": 23,
     "metadata": {},
     "output_type": "execute_result"
    }
   ],
   "source": [
    "act_matrix[0][:5]"
   ]
  },
  {
   "cell_type": "code",
   "execution_count": 24,
   "metadata": {},
   "outputs": [],
   "source": [
    "if REMOVE_SPACE:\n",
    "    spatial_response = (act_matrix + act_matrix2[space_order2_inv])/2.\n",
    "    act_matrix2 = act_matrix2 - spatial_response[space_order2]\n",
    "    act_matrix = act_matrix - spatial_response"
   ]
  },
  {
   "cell_type": "code",
   "execution_count": 25,
   "metadata": {},
   "outputs": [],
   "source": [
    "grad_predict_all = grad(predict_all)"
   ]
  },
  {
   "cell_type": "code",
   "execution_count": 26,
   "metadata": {},
   "outputs": [],
   "source": [
    "from sklearn.decomposition import PCA"
   ]
  },
  {
   "cell_type": "code",
   "execution_count": 27,
   "metadata": {},
   "outputs": [],
   "source": [
    "pca_dim = 5\n",
    "pca = PCA(n_components=pca_dim)"
   ]
  },
  {
   "cell_type": "code",
   "execution_count": 28,
   "metadata": {},
   "outputs": [],
   "source": [
    "pca.fit(np.vstack([act_matrix,act_matrix2]))\n",
    "pca_activity = pca.transform(act_matrix)\n",
    "pca_activity2 = pca.transform(act_matrix2)"
   ]
  },
  {
   "cell_type": "code",
   "execution_count": 29,
   "metadata": {},
   "outputs": [
    {
     "data": {
      "text/plain": [
       "(9, 120)"
      ]
     },
     "execution_count": 29,
     "metadata": {},
     "output_type": "execute_result"
    }
   ],
   "source": [
    "act_matrix.shape"
   ]
  },
  {
   "cell_type": "code",
   "execution_count": 30,
   "metadata": {},
   "outputs": [
    {
     "data": {
      "text/plain": [
       "[<matplotlib.lines.Line2D at 0x7fe428d7acd0>]"
      ]
     },
     "execution_count": 30,
     "metadata": {},
     "output_type": "execute_result"
    },
    {
     "data": {
      "image/png": "[encoded data removed]",
      "text/plain": [
       "<Figure size 432x288 with 1 Axes>"
      ]
     },
     "metadata": {
      "needs_background": "light"
     },
     "output_type": "display_data"
    }
   ],
   "source": [
    "plt.plot(pca_activity[:,3])"
   ]
  },
  {
   "cell_type": "code",
   "execution_count": 31,
   "metadata": {},
   "outputs": [
    {
     "data": {
      "text/plain": [
       "5"
      ]
     },
     "execution_count": 31,
     "metadata": {},
     "output_type": "execute_result"
    }
   ],
   "source": [
    "pca_dim"
   ]
  },
  {
   "cell_type": "code",
   "execution_count": 32,
   "metadata": {},
   "outputs": [
    {
     "name": "stderr",
     "output_type": "stream",
     "text": [
      "WARNING:absl:No GPU/TPU found, falling back to CPU. (Set TF_CPP_MIN_LOG_LEVEL=0 and rerun for more info.)\n"
     ]
    },
    {
     "name": "stdout",
     "output_type": "stream",
     "text": [
      "Desired error not necessarily achieved due to precision loss.\n"
     ]
    }
   ],
   "source": [
    "n_params = int(pca_dim*(pca_dim-1)/2)\n",
    "basis_tensor_inf = get_basis_tensor(pca_dim)\n",
    "\n",
    "params = np.random.normal(size=(n_params))# + np.eye(dim)\n",
    "res = op.minimize(predict_all,\n",
    "           params,\n",
    "           (pca_activity,int(pca_dim),basis_tensor_inf),\n",
    "           jac=grad_wrapper,\n",
    "           method='BFGS'\n",
    "           )\n",
    "print(res.message)"
   ]
  },
  {
   "cell_type": "code",
   "execution_count": 33,
   "metadata": {},
   "outputs": [
    {
     "data": {
      "text/plain": [
       "True"
      ]
     },
     "execution_count": 33,
     "metadata": {},
     "output_type": "execute_result"
    }
   ],
   "source": [
    "o = np.random.permutation(np.arange(9))\n",
    "np.allclose(act_matrix[o][:,1],act_matrix[:,1][o])"
   ]
  },
  {
   "cell_type": "code",
   "execution_count": 34,
   "metadata": {},
   "outputs": [
    {
     "name": "stdout",
     "output_type": "stream",
     "text": [
      "10.284326553344727 Desired error not necessarily achieved due to precision loss.\n"
     ]
    }
   ],
   "source": [
    "print(res.fun,res.message)"
   ]
  },
  {
   "cell_type": "code",
   "execution_count": 35,
   "metadata": {},
   "outputs": [],
   "source": [
    "out = res.x\n",
    "#out = np.random.normal(size=(n_params))# + np.eye(dim)\n",
    "\n",
    "skewM = np.einsum('i...,i...',out,basis_tensor_inf)\n",
    "Ainf = caley_transform(skewM,pca_dim)"
   ]
  },
  {
   "cell_type": "code",
   "execution_count": 36,
   "metadata": {},
   "outputs": [],
   "source": [
    "predicted_neural_activity = pca.inverse_transform((Ainf@pca_activity.T).T)"
   ]
  },
  {
   "cell_type": "code",
   "execution_count": null,
   "metadata": {},
   "outputs": [],
   "source": []
  },
  {
   "cell_type": "code",
   "execution_count": 37,
   "metadata": {},
   "outputs": [],
   "source": [
    "#predicted_neural_activity = pca.inverse_transform(pca_activity)"
   ]
  },
  {
   "cell_type": "code",
   "execution_count": 38,
   "metadata": {},
   "outputs": [
    {
     "data": {
      "text/plain": [
       "[<matplotlib.lines.Line2D at 0x7fe40aec3a90>]"
      ]
     },
     "execution_count": 38,
     "metadata": {},
     "output_type": "execute_result"
    },
    {
     "data": {
      "image/png": "[encoded data removed]",
      "text/plain": [
       "<Figure size 432x288 with 1 Axes>"
      ]
     },
     "metadata": {
      "needs_background": "light"
     },
     "output_type": "display_data"
    }
   ],
   "source": [
    "ix_ = 0\n",
    "plt.plot(predicted_neural_activity[:,ix_][:-1])\n",
    "plt.plot(act_matrix[:,ix_][1:])"
   ]
  },
  {
   "cell_type": "code",
   "execution_count": null,
   "metadata": {},
   "outputs": [],
   "source": []
  },
  {
   "cell_type": "code",
   "execution_count": null,
   "metadata": {},
   "outputs": [],
   "source": []
  },
  {
   "cell_type": "code",
   "execution_count": 39,
   "metadata": {},
   "outputs": [
    {
     "name": "stdout",
     "output_type": "stream",
     "text": [
      "0.9208963907761285\n"
     ]
    }
   ],
   "source": [
    "cc = []\n",
    "for i in range(n_neurons):\n",
    "    cc.append(np.corrcoef(act_matrix[:,i][1:],predicted_neural_activity[:,i][:-1])[0,1])\n",
    "    \n",
    "print(np.mean(cc))"
   ]
  },
  {
   "cell_type": "code",
   "execution_count": 40,
   "metadata": {},
   "outputs": [
    {
     "data": {
      "text/plain": [
       "<matplotlib.axes._subplots.AxesSubplot at 0x7fe428e31dd0>"
      ]
     },
     "execution_count": 40,
     "metadata": {},
     "output_type": "execute_result"
    },
    {
     "data": {
      "image/png": "[encoded data removed]",
      "text/plain": [
       "<Figure size 432x288 with 1 Axes>"
      ]
     },
     "metadata": {
      "needs_background": "light"
     },
     "output_type": "display_data"
    }
   ],
   "source": [
    "seaborn.distplot(cc,kde=0)"
   ]
  },
  {
   "cell_type": "markdown",
   "metadata": {},
   "source": [
    "## Now look at the held out task"
   ]
  },
  {
   "cell_type": "code",
   "execution_count": 41,
   "metadata": {},
   "outputs": [],
   "source": [
    "\n",
    "skewM = np.einsum('i...,i...',out,basis_tensor_inf)\n",
    "Ainf = caley_transform(skewM,pca_dim)"
   ]
  },
  {
   "cell_type": "code",
   "execution_count": 42,
   "metadata": {},
   "outputs": [],
   "source": [
    "predicted_neural_activity = pca.inverse_transform((Ainf@pca_activity2.T).T)"
   ]
  },
  {
   "cell_type": "code",
   "execution_count": 43,
   "metadata": {},
   "outputs": [
    {
     "data": {
      "text/plain": [
       "[<matplotlib.lines.Line2D at 0x7fe428e71710>]"
      ]
     },
     "execution_count": 43,
     "metadata": {},
     "output_type": "execute_result"
    },
    {
     "data": {
      "image/png": "[encoded data removed]",
      "text/plain": [
       "<Figure size 432x288 with 1 Axes>"
      ]
     },
     "metadata": {
      "needs_background": "light"
     },
     "output_type": "display_data"
    }
   ],
   "source": [
    "ix_ = 0\n",
    "plt.plot(predicted_neural_activity[:,ix_])\n",
    "plt.plot(act_matrix2[:,ix_][1:])"
   ]
  },
  {
   "cell_type": "code",
   "execution_count": 44,
   "metadata": {},
   "outputs": [
    {
     "name": "stdout",
     "output_type": "stream",
     "text": [
      "0.7747294718389017\n"
     ]
    }
   ],
   "source": [
    "cc = []\n",
    "for i in range(n_neurons):\n",
    "    cc.append(np.corrcoef(act_matrix2[:,i][1:],predicted_neural_activity[:,i][:-1])[0,1])\n",
    "print(np.mean(cc))"
   ]
  },
  {
   "cell_type": "code",
   "execution_count": 57,
   "metadata": {},
   "outputs": [
    {
     "data": {
      "text/plain": [
       "<matplotlib.image.AxesImage at 0x7fe4690680d0>"
      ]
     },
     "execution_count": 57,
     "metadata": {},
     "output_type": "execute_result"
    },
    {
     "data": {
      "image/png": "[encoded data removed]",
      "text/plain": [
       "<Figure size 432x288 with 1 Axes>"
      ]
     },
     "metadata": {
      "needs_background": "light"
     },
     "output_type": "display_data"
    }
   ],
   "source": [
    "plt.imshow(A)"
   ]
  },
  {
   "cell_type": "code",
   "execution_count": 58,
   "metadata": {},
   "outputs": [],
   "source": [
    "%store -r act_matrix_ref2"
   ]
  },
  {
   "cell_type": "code",
   "execution_count": 59,
   "metadata": {},
   "outputs": [
    {
     "data": {
      "text/plain": [
       "False"
      ]
     },
     "execution_count": 59,
     "metadata": {},
     "output_type": "execute_result"
    }
   ],
   "source": [
    "np.allclose(act_matrix2,act_matrix_ref2)"
   ]
  },
  {
   "cell_type": "code",
   "execution_count": 54,
   "metadata": {},
   "outputs": [
    {
     "data": {
      "text/plain": [
       "<matplotlib.image.AxesImage at 0x7f84a995d9d0>"
      ]
     },
     "execution_count": 54,
     "metadata": {},
     "output_type": "execute_result"
    },
    {
     "data": {
      "image/png": "[encoded data removed]",
      "text/plain": [
       "<Figure size 432x288 with 1 Axes>"
      ]
     },
     "metadata": {
      "needs_background": "light"
     },
     "output_type": "display_data"
    }
   ],
   "source": [
    "plt.imshow(Ainf)"
   ]
  },
  {
   "cell_type": "markdown",
   "metadata": {},
   "source": [
    "# Run same test as other data"
   ]
  },
  {
   "cell_type": "code",
   "execution_count": null,
   "metadata": {},
   "outputs": [],
   "source": []
  },
  {
   "cell_type": "code",
   "execution_count": null,
   "metadata": {},
   "outputs": [],
   "source": []
  }
 ],
 "metadata": {
  "kernelspec": {
   "display_name": "Python 3",
   "language": "python",
   "name": "python3"
  },
  "language_info": {
   "codemirror_mode": {
    "name": "ipython",
    "version": 3
   },
   "file_extension": ".py",
   "mimetype": "text/x-python",
   "name": "python",
   "nbconvert_exporter": "python",
   "pygments_lexer": "ipython3",
   "version": "3.7.4"
  }
 },
 "nbformat": 4,
 "nbformat_minor": 2
}
