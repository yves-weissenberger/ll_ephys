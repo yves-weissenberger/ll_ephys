{
 "cells": [
  {
   "cell_type": "code",
   "execution_count": 1,
   "metadata": {},
   "outputs": [
    {
     "name": "stderr",
     "output_type": "stream",
     "text": [
      "/Users/yves/opt/anaconda3/lib/python3.7/site-packages/statsmodels/tools/_testing.py:19: FutureWarning: pandas.util.testing is deprecated. Use the functions in the public API at pandas.testing instead.\n",
      "  import pandas.util.testing as tm\n"
     ]
    }
   ],
   "source": [
    "%matplotlib inline\n",
    "\n",
    "import matplotlib.pyplot as plt\n",
    "import seaborn\n",
    "import numpy as np\n",
    "import sys\n",
    "import os\n",
    "import re\n",
    "\n",
    "seaborn.set(font_scale=1.5,style='ticks')"
   ]
  },
  {
   "cell_type": "code",
   "execution_count": 2,
   "metadata": {},
   "outputs": [],
   "source": [
    "sys.path.append(\"/Users/yves/Downloads/jPCA-master/\")"
   ]
  },
  {
   "cell_type": "code",
   "execution_count": 4,
   "metadata": {},
   "outputs": [],
   "source": [
    "import jPCA"
   ]
  },
  {
   "cell_type": "code",
   "execution_count": null,
   "metadata": {},
   "outputs": [],
   "source": []
  },
  {
   "cell_type": "code",
   "execution_count": 5,
   "metadata": {},
   "outputs": [],
   "source": [
    "\n",
    "exampledata,times = jPCA.util.load_churchland_data('/Users/yves/Downloads/exampleData.mat')"
   ]
  },
  {
   "cell_type": "markdown",
   "metadata": {},
   "source": [
    "# NOTE TO FUTURE SELF, CONSTRUCT A SIMPLER ROTATION MATRIX THAT ONLY ROTATES ON A 2D PLANE IN R^N"
   ]
  },
  {
   "cell_type": "markdown",
   "metadata": {},
   "source": [
    "# Clean version"
   ]
  },
  {
   "cell_type": "code",
   "execution_count": 434,
   "metadata": {},
   "outputs": [],
   "source": [
    "from sklearn.decomposition import PCA\n",
    "datas = [state_representation.copy().T]\n",
    "#datas = datas.reshape(1,9,4)\n",
    "soft_normalize = 5\n",
    "subtract_cc_mean = False\n",
    "times = list(range(9))\n",
    "tstart = 0\n",
    "tend = max(times)\n",
    "pca = True\n",
    "num_pcs = 2"
   ]
  },
  {
   "cell_type": "code",
   "execution_count": 435,
   "metadata": {},
   "outputs": [],
   "source": [
    "T = datas[0].shape[1]\n",
    "if times is None:\n",
    "    times = list(range(T))\n",
    "    tstart=0\n",
    "    tend=np.max(T)-1\n"
   ]
  },
  {
   "cell_type": "code",
   "execution_count": null,
   "metadata": {},
   "outputs": [],
   "source": []
  },
  {
   "cell_type": "code",
   "execution_count": 437,
   "metadata": {},
   "outputs": [
    {
     "data": {
      "text/plain": [
       "(1, 9, 4)"
      ]
     },
     "execution_count": 437,
     "metadata": {},
     "output_type": "execute_result"
    }
   ],
   "source": [
    "datas.shape"
   ]
  },
  {
   "cell_type": "code",
   "execution_count": 11,
   "metadata": {},
   "outputs": [
    {
     "ename": "NameError",
     "evalue": "name 'soft_normalize' is not defined",
     "output_type": "error",
     "traceback": [
      "\u001b[0;31m---------------------------------------------------------------------------\u001b[0m",
      "\u001b[0;31mNameError\u001b[0m                                 Traceback (most recent call last)",
      "\u001b[0;32m<ipython-input-11-ed645b8a0d1d>\u001b[0m in \u001b[0;36m<module>\u001b[0;34m\u001b[0m\n\u001b[1;32m      2\u001b[0m \u001b[0mnum_conditions\u001b[0m\u001b[0;34m,\u001b[0m \u001b[0mnum_time_bins\u001b[0m\u001b[0;34m,\u001b[0m \u001b[0mnum_units\u001b[0m \u001b[0;34m=\u001b[0m \u001b[0mdatas\u001b[0m\u001b[0;34m.\u001b[0m\u001b[0mshape\u001b[0m\u001b[0;34m\u001b[0m\u001b[0;34m\u001b[0m\u001b[0m\n\u001b[1;32m      3\u001b[0m \u001b[0;34m\u001b[0m\u001b[0m\n\u001b[0;32m----> 4\u001b[0;31m \u001b[0;32mif\u001b[0m \u001b[0msoft_normalize\u001b[0m \u001b[0;34m>\u001b[0m \u001b[0;36m0\u001b[0m\u001b[0;34m:\u001b[0m\u001b[0;34m\u001b[0m\u001b[0;34m\u001b[0m\u001b[0m\n\u001b[0m\u001b[1;32m      5\u001b[0m     \u001b[0mfr_range\u001b[0m \u001b[0;34m=\u001b[0m \u001b[0mnp\u001b[0m\u001b[0;34m.\u001b[0m\u001b[0mmax\u001b[0m\u001b[0;34m(\u001b[0m\u001b[0mdatas\u001b[0m\u001b[0;34m,\u001b[0m \u001b[0maxis\u001b[0m\u001b[0;34m=\u001b[0m\u001b[0;34m(\u001b[0m\u001b[0;36m0\u001b[0m\u001b[0;34m,\u001b[0m\u001b[0;36m1\u001b[0m\u001b[0;34m)\u001b[0m\u001b[0;34m)\u001b[0m \u001b[0;34m-\u001b[0m \u001b[0mnp\u001b[0m\u001b[0;34m.\u001b[0m\u001b[0mmin\u001b[0m\u001b[0;34m(\u001b[0m\u001b[0mdatas\u001b[0m\u001b[0;34m,\u001b[0m \u001b[0maxis\u001b[0m\u001b[0;34m=\u001b[0m\u001b[0;34m(\u001b[0m\u001b[0;36m0\u001b[0m\u001b[0;34m,\u001b[0m\u001b[0;36m1\u001b[0m\u001b[0;34m)\u001b[0m\u001b[0;34m)\u001b[0m\u001b[0;34m\u001b[0m\u001b[0;34m\u001b[0m\u001b[0m\n\u001b[1;32m      6\u001b[0m     \u001b[0mdatas\u001b[0m \u001b[0;34m/=\u001b[0m \u001b[0;34m(\u001b[0m\u001b[0mfr_range\u001b[0m \u001b[0;34m+\u001b[0m \u001b[0msoft_normalize\u001b[0m\u001b[0;34m)\u001b[0m\u001b[0;34m\u001b[0m\u001b[0;34m\u001b[0m\u001b[0m\n",
      "\u001b[0;31mNameError\u001b[0m: name 'soft_normalize' is not defined"
     ]
    }
   ],
   "source": [
    "\n",
    "datas = np.stack(exampledata, axis=0)\n",
    "num_conditions, num_time_bins, num_units = datas.shape\n",
    "\n",
    "if soft_normalize > 0:\n",
    "    fr_range = np.max(datas, axis=(0,1)) - np.min(datas, axis=(0,1))\n",
    "    datas /= (fr_range + soft_normalize)\n",
    "\n",
    "if subtract_cc_mean:\n",
    "    cc_mean = np.mean(datas, axis=0, keepdims=True)\n",
    "    datas -= cc_mean\n",
    "\n",
    "# For consistency with the original jPCA matlab code,\n",
    "# we compute PCA using only the analyzed times.\n",
    "idx_start = times.index(tstart)\n",
    "idx_end = times.index(tend) + 1 # Add one so idx is inclusive\n",
    "num_time_bins = idx_end - idx_start\n",
    "datas = datas[:, idx_start:idx_end, :]\n",
    "\n",
    "# Reshape to perform PCA on all trials at once.\n",
    "X_full = np.concatenate(datas)\n",
    "full_data_var = np.sum(np.var(X_full, axis=0))\n",
    "pca_variance_captured = None\n",
    "\n",
    "if pca:\n",
    "    pca = PCA(num_pcs)\n",
    "    datas = pca.fit_transform(X_full)\n",
    "    datas = datas.reshape(num_conditions, num_time_bins, num_pcs)\n",
    "    pca_variance_captured = pca.explained_variance_\n",
    "\n",
    "data_list = [x for x in datas]\n",
    "\n",
    "\n",
    "import jPCA\n",
    "jpca = jPCA.jPCA.JPCA(num_jpcs=2)\n",
    "\n",
    "(projected, \n",
    " full_data_var,\n",
    " pca_var_capt,\n",
    " jpca_var_capt) = jpca.fit(datas, times=times, tstart=tstart, tend=tend,num_pcs=3,subtract_cc_mean=False)\n",
    "\n"
   ]
  },
  {
   "cell_type": "code",
   "execution_count": 13,
   "metadata": {},
   "outputs": [
    {
     "ename": "AttributeError",
     "evalue": "'numpy.ndarray' object has no attribute 'index'",
     "output_type": "error",
     "traceback": [
      "\u001b[0;31m---------------------------------------------------------------------------\u001b[0m",
      "\u001b[0;31mAttributeError\u001b[0m                            Traceback (most recent call last)",
      "\u001b[0;32m<ipython-input-13-2b3ac29068ec>\u001b[0m in \u001b[0;36m<module>\u001b[0;34m\u001b[0m\n\u001b[1;32m      5\u001b[0m  \u001b[0mfull_data_var\u001b[0m\u001b[0;34m,\u001b[0m\u001b[0;34m\u001b[0m\u001b[0;34m\u001b[0m\u001b[0m\n\u001b[1;32m      6\u001b[0m  \u001b[0mpca_var_capt\u001b[0m\u001b[0;34m,\u001b[0m\u001b[0;34m\u001b[0m\u001b[0;34m\u001b[0m\u001b[0m\n\u001b[0;32m----> 7\u001b[0;31m  jpca_var_capt) = jpca.fit(exampledata,subtract_cc_mean=False)\n\u001b[0m\u001b[1;32m      8\u001b[0m \u001b[0;34m\u001b[0m\u001b[0m\n",
      "\u001b[0;32m~/Downloads/jPCA-master/jPCA/util.py\u001b[0m in \u001b[0;36mwrapper\u001b[0;34m(self, datas, **kwargs)\u001b[0m\n\u001b[1;32m    220\u001b[0m     \u001b[0;32mdef\u001b[0m \u001b[0mwrapper\u001b[0m\u001b[0;34m(\u001b[0m\u001b[0mself\u001b[0m\u001b[0;34m,\u001b[0m \u001b[0mdatas\u001b[0m\u001b[0;34m,\u001b[0m \u001b[0;34m**\u001b[0m\u001b[0mkwargs\u001b[0m\u001b[0;34m)\u001b[0m\u001b[0;34m:\u001b[0m\u001b[0;34m\u001b[0m\u001b[0;34m\u001b[0m\u001b[0m\n\u001b[1;32m    221\u001b[0m         \u001b[0mdatas\u001b[0m \u001b[0;34m=\u001b[0m \u001b[0;34m[\u001b[0m\u001b[0mdatas\u001b[0m\u001b[0;34m]\u001b[0m \u001b[0;32mif\u001b[0m \u001b[0;32mnot\u001b[0m \u001b[0misinstance\u001b[0m\u001b[0;34m(\u001b[0m\u001b[0mdatas\u001b[0m\u001b[0;34m,\u001b[0m \u001b[0mlist\u001b[0m\u001b[0;34m)\u001b[0m \u001b[0;32melse\u001b[0m \u001b[0mdatas\u001b[0m\u001b[0;34m\u001b[0m\u001b[0;34m\u001b[0m\u001b[0m\n\u001b[0;32m--> 222\u001b[0;31m         \u001b[0;32mreturn\u001b[0m \u001b[0mf\u001b[0m\u001b[0;34m(\u001b[0m\u001b[0mself\u001b[0m\u001b[0;34m,\u001b[0m \u001b[0mdatas\u001b[0m\u001b[0;34m,\u001b[0m \u001b[0;34m**\u001b[0m\u001b[0mkwargs\u001b[0m\u001b[0;34m)\u001b[0m\u001b[0;34m\u001b[0m\u001b[0;34m\u001b[0m\u001b[0m\n\u001b[0m\u001b[1;32m    223\u001b[0m     \u001b[0;32mreturn\u001b[0m \u001b[0mwrapper\u001b[0m\u001b[0;34m\u001b[0m\u001b[0;34m\u001b[0m\u001b[0m\n\u001b[1;32m    224\u001b[0m \u001b[0;34m\u001b[0m\u001b[0m\n",
      "\u001b[0;32m~/Downloads/jPCA-master/jPCA/jPCA.py\u001b[0m in \u001b[0;36mfit\u001b[0;34m(self, datas, pca, num_pcs, subtract_cc_mean, tstart, tend, times, align_axes_to_data, **preprocess_kwargs)\u001b[0m\n\u001b[1;32m    153\u001b[0m             preprocess(datas, times, tstart=tstart, tend=tend, pca=pca,\n\u001b[1;32m    154\u001b[0m                        \u001b[0msubtract_cc_mean\u001b[0m\u001b[0;34m=\u001b[0m\u001b[0msubtract_cc_mean\u001b[0m\u001b[0;34m,\u001b[0m \u001b[0mnum_pcs\u001b[0m\u001b[0;34m=\u001b[0m\u001b[0mnum_pcs\u001b[0m\u001b[0;34m,\u001b[0m\u001b[0;34m\u001b[0m\u001b[0;34m\u001b[0m\u001b[0m\n\u001b[0;32m--> 155\u001b[0;31m                        **preprocess_kwargs)\n\u001b[0m\u001b[1;32m    156\u001b[0m         \u001b[0mself\u001b[0m\u001b[0;34m.\u001b[0m\u001b[0mfull_data_var\u001b[0m \u001b[0;34m=\u001b[0m \u001b[0mfull_data_var\u001b[0m\u001b[0;34m\u001b[0m\u001b[0;34m\u001b[0m\u001b[0m\n\u001b[1;32m    157\u001b[0m \u001b[0;34m\u001b[0m\u001b[0m\n",
      "\u001b[0;32m~/Downloads/jPCA-master/jPCA/util.py\u001b[0m in \u001b[0;36mpreprocess\u001b[0;34m(datas, times, tstart, tend, soft_normalize, subtract_cc_mean, pca, num_pcs)\u001b[0m\n\u001b[1;32m     74\u001b[0m         \u001b[0;31m# For consistency with the original jPCA matlab code,\u001b[0m\u001b[0;34m\u001b[0m\u001b[0;34m\u001b[0m\u001b[0;34m\u001b[0m\u001b[0m\n\u001b[1;32m     75\u001b[0m         \u001b[0;31m# we compute PCA using only the analyzed times.\u001b[0m\u001b[0;34m\u001b[0m\u001b[0;34m\u001b[0m\u001b[0;34m\u001b[0m\u001b[0m\n\u001b[0;32m---> 76\u001b[0;31m         \u001b[0midx_start\u001b[0m \u001b[0;34m=\u001b[0m \u001b[0mtimes\u001b[0m\u001b[0;34m.\u001b[0m\u001b[0mindex\u001b[0m\u001b[0;34m(\u001b[0m\u001b[0mtstart\u001b[0m\u001b[0;34m)\u001b[0m\u001b[0;34m\u001b[0m\u001b[0;34m\u001b[0m\u001b[0m\n\u001b[0m\u001b[1;32m     77\u001b[0m         \u001b[0midx_end\u001b[0m \u001b[0;34m=\u001b[0m \u001b[0mtimes\u001b[0m\u001b[0;34m.\u001b[0m\u001b[0mindex\u001b[0m\u001b[0;34m(\u001b[0m\u001b[0mtend\u001b[0m\u001b[0;34m)\u001b[0m \u001b[0;34m+\u001b[0m \u001b[0;36m1\u001b[0m \u001b[0;31m# Add one so idx is inclusive\u001b[0m\u001b[0;34m\u001b[0m\u001b[0;34m\u001b[0m\u001b[0m\n\u001b[1;32m     78\u001b[0m         \u001b[0mnum_time_bins\u001b[0m \u001b[0;34m=\u001b[0m \u001b[0midx_end\u001b[0m \u001b[0;34m-\u001b[0m \u001b[0midx_start\u001b[0m\u001b[0;34m\u001b[0m\u001b[0;34m\u001b[0m\u001b[0m\n",
      "\u001b[0;31mAttributeError\u001b[0m: 'numpy.ndarray' object has no attribute 'index'"
     ]
    }
   ],
   "source": [
    "import jPCA\n",
    "jpca = jPCA.jPCA.JPCA(num_jpcs=2)\n",
    "\n",
    "(projected, \n",
    " full_data_var,\n",
    " pca_var_capt,\n",
    " jpca_var_capt) = jpca.fit(exampledata,subtract_cc_mean=False)\n",
    "\n"
   ]
  },
  {
   "cell_type": "code",
   "execution_count": 180,
   "metadata": {},
   "outputs": [],
   "source": [
    "\n",
    "exampledata,times = jPCA.util.load_churchland_data('/Users/yves/Downloads/exampleData.mat')"
   ]
  },
  {
   "cell_type": "code",
   "execution_count": 7,
   "metadata": {},
   "outputs": [
    {
     "ename": "NameError",
     "evalue": "name 'jpca' is not defined",
     "output_type": "error",
     "traceback": [
      "\u001b[0;31m---------------------------------------------------------------------------\u001b[0m",
      "\u001b[0;31mNameError\u001b[0m                                 Traceback (most recent call last)",
      "\u001b[0;32m<ipython-input-7-149b4008b9ba>\u001b[0m in \u001b[0;36m<module>\u001b[0;34m\u001b[0m\n\u001b[1;32m      2\u001b[0m  \u001b[0mfull_data_var\u001b[0m\u001b[0;34m,\u001b[0m\u001b[0;34m\u001b[0m\u001b[0;34m\u001b[0m\u001b[0m\n\u001b[1;32m      3\u001b[0m  \u001b[0mpca_var_capt\u001b[0m\u001b[0;34m,\u001b[0m\u001b[0;34m\u001b[0m\u001b[0;34m\u001b[0m\u001b[0m\n\u001b[0;32m----> 4\u001b[0;31m  jpca_var_capt) = jpca.fit(exampledata, times=times, tstart=-50, tend=150,num_pcs=3)\n\u001b[0m",
      "\u001b[0;31mNameError\u001b[0m: name 'jpca' is not defined"
     ]
    }
   ],
   "source": [
    "(projected, \n",
    " full_data_var,\n",
    " pca_var_capt,\n",
    " jpca_var_capt) = jpca.fit(exampledata, times=times, tstart=-50, tend=150,num_pcs=3)\n"
   ]
  },
  {
   "cell_type": "code",
   "execution_count": 182,
   "metadata": {},
   "outputs": [
    {
     "data": {
      "text/plain": [
       "(4, 9)"
      ]
     },
     "execution_count": 182,
     "metadata": {},
     "output_type": "execute_result"
    }
   ],
   "source": [
    "state_representation.shape"
   ]
  },
  {
   "cell_type": "code",
   "execution_count": 356,
   "metadata": {},
   "outputs": [],
   "source": [
    "W = np.random.normal(size=(64,4))\n",
    "sr2 = np.dot(W,state_representation) + np.dot(np.random.normal(size=(64,6)),np.random.normal(size=(6,9)))\n",
    "#sr2 = state_representation\n",
    "datas = [sr2.T,sr2.T]\n",
    "times = list(range(sr2.shape[1]))\n",
    "tstart = 0\n",
    "tend = sr2.shape[1]-1"
   ]
  },
  {
   "cell_type": "code",
   "execution_count": 357,
   "metadata": {},
   "outputs": [],
   "source": [
    "%matplotlib inline"
   ]
  },
  {
   "cell_type": "code",
   "execution_count": 358,
   "metadata": {},
   "outputs": [
    {
     "data": {
      "text/plain": [
       "[<mpl_toolkits.mplot3d.art3d.Line3D at 0x7fbe72485e10>]"
      ]
     },
     "execution_count": 358,
     "metadata": {},
     "output_type": "execute_result"
    },
    {
     "data": {
      "image/png": "[encoded data removed]",
      "text/plain": [
       "<Figure size 432x288 with 1 Axes>"
      ]
     },
     "metadata": {
      "needs_background": "light"
     },
     "output_type": "display_data"
    }
   ],
   "source": [
    "import matplotlib.pyplot as plt\n",
    "from mpl_toolkits.mplot3d import Axes3D\n",
    "fig = plt.figure()\n",
    "ax = fig.add_subplot(111, projection='3d')\n",
    "ax.plot(sr2[12],sr2[1],sr2[33])"
   ]
  },
  {
   "cell_type": "code",
   "execution_count": 359,
   "metadata": {},
   "outputs": [
    {
     "data": {
      "text/plain": [
       "(108, 61, 218)"
      ]
     },
     "execution_count": 359,
     "metadata": {},
     "output_type": "execute_result"
    }
   ],
   "source": [
    "np.array(exampledata).shape"
   ]
  },
  {
   "cell_type": "code",
   "execution_count": 360,
   "metadata": {},
   "outputs": [
    {
     "data": {
      "text/plain": [
       "[0, 1, 2, 3, 4, 5, 6, 7, 8]"
      ]
     },
     "execution_count": 360,
     "metadata": {},
     "output_type": "execute_result"
    }
   ],
   "source": [
    "times"
   ]
  },
  {
   "cell_type": "code",
   "execution_count": 361,
   "metadata": {},
   "outputs": [
    {
     "ename": "IndexError",
     "evalue": "index 1 is out of bounds for axis 0 with size 1",
     "output_type": "error",
     "traceback": [
      "\u001b[0;31m---------------------------------------------------------------------------\u001b[0m",
      "\u001b[0;31mIndexError\u001b[0m                                Traceback (most recent call last)",
      "\u001b[0;32m<ipython-input-361-621a7d6b72f5>\u001b[0m in \u001b[0;36m<module>\u001b[0;34m\u001b[0m\n\u001b[1;32m      1\u001b[0m \u001b[0mpca\u001b[0m\u001b[0;34m.\u001b[0m\u001b[0mfit_transform\u001b[0m\u001b[0;34m(\u001b[0m\u001b[0mdatas\u001b[0m\u001b[0;34m[\u001b[0m\u001b[0;36m0\u001b[0m\u001b[0;34m]\u001b[0m\u001b[0;34m)\u001b[0m\u001b[0;34m\u001b[0m\u001b[0;34m\u001b[0m\u001b[0m\n\u001b[0;32m----> 2\u001b[0;31m \u001b[0mplt\u001b[0m\u001b[0;34m.\u001b[0m\u001b[0mplot\u001b[0m\u001b[0;34m(\u001b[0m\u001b[0mprojected\u001b[0m\u001b[0;34m[\u001b[0m\u001b[0;36m1\u001b[0m\u001b[0;34m,\u001b[0m\u001b[0;34m:\u001b[0m\u001b[0;34m,\u001b[0m\u001b[0;36m0\u001b[0m\u001b[0;34m]\u001b[0m\u001b[0;34m,\u001b[0m\u001b[0mprojected\u001b[0m\u001b[0;34m[\u001b[0m\u001b[0;36m1\u001b[0m\u001b[0;34m,\u001b[0m\u001b[0;34m:\u001b[0m\u001b[0;34m,\u001b[0m\u001b[0;36m1\u001b[0m\u001b[0;34m]\u001b[0m\u001b[0;34m)\u001b[0m\u001b[0;34m\u001b[0m\u001b[0;34m\u001b[0m\u001b[0m\n\u001b[0m",
      "\u001b[0;31mIndexError\u001b[0m: index 1 is out of bounds for axis 0 with size 1"
     ]
    }
   ],
   "source": [
    "\n",
    "pca.fit_transform(datas[0])\n",
    "plt.plot(projected[1,:,0],projected[1,:,1])"
   ]
  },
  {
   "cell_type": "code",
   "execution_count": 362,
   "metadata": {},
   "outputs": [],
   "source": [
    "(projected, \n",
    " full_data_var,\n",
    " pca_var_capt,\n",
    " jpca_var_capt,_) = jpca.fit([datas[0]], times=times, tstart=tstart, tend=tend,\n",
    "                             subtract_cc_mean=False,\n",
    "                             pca=False,\n",
    "                             align_axes_to_data=False)\n"
   ]
  },
  {
   "cell_type": "code",
   "execution_count": 363,
   "metadata": {},
   "outputs": [
    {
     "data": {
      "text/plain": [
       "(9, 64)"
      ]
     },
     "execution_count": 363,
     "metadata": {},
     "output_type": "execute_result"
    }
   ],
   "source": [
    "datas[0].shape"
   ]
  },
  {
   "cell_type": "code",
   "execution_count": 367,
   "metadata": {},
   "outputs": [
    {
     "data": {
      "text/plain": [
       "0.15232970440924165"
      ]
     },
     "execution_count": 367,
     "metadata": {},
     "output_type": "execute_result"
    }
   ],
   "source": [
    "np.sum(jpca_var_capt)"
   ]
  },
  {
   "cell_type": "code",
   "execution_count": 368,
   "metadata": {},
   "outputs": [
    {
     "data": {
      "text/plain": [
       "[<matplotlib.lines.Line2D at 0x7fbe29f3f090>]"
      ]
     },
     "execution_count": 368,
     "metadata": {},
     "output_type": "execute_result"
    },
    {
     "data": {
      "image/png": "[encoded data removed]",
      "text/plain": [
       "<Figure size 432x288 with 1 Axes>"
      ]
     },
     "metadata": {
      "needs_background": "light"
     },
     "output_type": "display_data"
    }
   ],
   "source": [
    "projected = np.array(projected)\n",
    "plt.plot(projected[0,:,0],projected[0,:,1])"
   ]
  },
  {
   "cell_type": "code",
   "execution_count": 369,
   "metadata": {},
   "outputs": [
    {
     "data": {
      "text/plain": [
       "[<matplotlib.lines.Line2D at 0x7fbe427fb710>]"
      ]
     },
     "execution_count": 369,
     "metadata": {},
     "output_type": "execute_result"
    },
    {
     "data": {
      "image/png": "[encoded data removed]",
      "text/plain": [
       "<Figure size 432x288 with 1 Axes>"
      ]
     },
     "metadata": {
      "needs_background": "light"
     },
     "output_type": "display_data"
    }
   ],
   "source": [
    "from sklearn.decomposition import PCA\n",
    "pca = PCA(n_components=6)\n",
    "\n",
    "projected_pca = pca.fit_transform(datas[0])\n",
    "plt.plot(projected_pca[:,0],projected_pca[:,1])"
   ]
  },
  {
   "cell_type": "code",
   "execution_count": 370,
   "metadata": {},
   "outputs": [
    {
     "data": {
      "text/plain": [
       "(9, 6)"
      ]
     },
     "execution_count": 370,
     "metadata": {},
     "output_type": "execute_result"
    }
   ],
   "source": [
    "projected_pca.shape"
   ]
  },
  {
   "cell_type": "code",
   "execution_count": 371,
   "metadata": {},
   "outputs": [],
   "source": [
    "nDim, len_sequence = state_representation.shape"
   ]
  },
  {
   "cell_type": "code",
   "execution_count": 372,
   "metadata": {},
   "outputs": [
    {
     "data": {
      "text/plain": [
       "(4, 9)"
      ]
     },
     "execution_count": 372,
     "metadata": {},
     "output_type": "execute_result"
    }
   ],
   "source": [
    "state_representation.shape"
   ]
  },
  {
   "cell_type": "code",
   "execution_count": 373,
   "metadata": {},
   "outputs": [
    {
     "data": {
      "text/plain": [
       "(9, 6)"
      ]
     },
     "execution_count": 373,
     "metadata": {},
     "output_type": "execute_result"
    }
   ],
   "source": [
    "projected_pca.shape"
   ]
  },
  {
   "cell_type": "code",
   "execution_count": 396,
   "metadata": {},
   "outputs": [
    {
     "name": "stderr",
     "output_type": "stream",
     "text": [
      "/Users/yves/opt/anaconda3/lib/python3.7/site-packages/ipykernel_launcher.py:2: FutureWarning: `rcond` parameter will change to the default of machine precision times ``max(M, N)`` where M and N are the input matrix dimensions.\n",
      "To use the future default and silence this warning we advise to pass `rcond=None`, to keep using the old, explicitly pass `rcond=-1`.\n",
      "  \n"
     ]
    }
   ],
   "source": [
    "#Ahat = np.linalg.lstsq(state_representation[:,:-1].T,state_representation[:,1:].T)[0].T\n",
    "Ahat = np.linalg.lstsq(projected_pca[:-1],projected_pca[1:])[0].T"
   ]
  },
  {
   "cell_type": "code",
   "execution_count": 397,
   "metadata": {},
   "outputs": [
    {
     "data": {
      "text/plain": [
       "(4, 9)"
      ]
     },
     "execution_count": 397,
     "metadata": {},
     "output_type": "execute_result"
    }
   ],
   "source": [
    "state_representation.shape"
   ]
  },
  {
   "cell_type": "code",
   "execution_count": null,
   "metadata": {},
   "outputs": [],
   "source": []
  },
  {
   "cell_type": "code",
   "execution_count": 398,
   "metadata": {},
   "outputs": [],
   "source": [
    "Ahat_skew = (Ahat - Ahat.T)/2"
   ]
  },
  {
   "cell_type": "code",
   "execution_count": 399,
   "metadata": {},
   "outputs": [],
   "source": [
    "Ahat_symm = (Ahat + Ahat.T)/2"
   ]
  },
  {
   "cell_type": "code",
   "execution_count": 400,
   "metadata": {},
   "outputs": [],
   "source": [
    "I = np.eye(len(Ahat_skew\n",
    "              ))"
   ]
  },
  {
   "cell_type": "code",
   "execution_count": 401,
   "metadata": {},
   "outputs": [],
   "source": [
    "Q = np.dot(np.linalg.inv(I+Ahat_skew),(I-Ahat_skew))\n",
    "assert np.allclose(1,np.abs(np.linalg.eig(Q)[0]))"
   ]
  },
  {
   "cell_type": "code",
   "execution_count": null,
   "metadata": {},
   "outputs": [],
   "source": []
  },
  {
   "cell_type": "code",
   "execution_count": 402,
   "metadata": {},
   "outputs": [],
   "source": [
    "Qe, Qv = np.linalg.eig(Ahat_skew)"
   ]
  },
  {
   "cell_type": "code",
   "execution_count": null,
   "metadata": {},
   "outputs": [],
   "source": []
  },
  {
   "cell_type": "code",
   "execution_count": 403,
   "metadata": {},
   "outputs": [],
   "source": [
    "ix = 0\n",
    "a1 = (Qv[:,ix] + Qv[:,ix+1])\n",
    "a2 = 1j*(Qv[:,ix] - Qv[:,ix+1])"
   ]
  },
  {
   "cell_type": "code",
   "execution_count": 404,
   "metadata": {},
   "outputs": [],
   "source": [
    "proj = np.vstack([a1,a2])"
   ]
  },
  {
   "cell_type": "code",
   "execution_count": 408,
   "metadata": {},
   "outputs": [
    {
     "name": "stderr",
     "output_type": "stream",
     "text": [
      "/Users/yves/opt/anaconda3/lib/python3.7/site-packages/numpy/core/_asarray.py:83: ComplexWarning: Casting complex values to real discards the imaginary part\n",
      "  return array(a, dtype, copy=False, order=order)\n"
     ]
    },
    {
     "data": {
      "text/plain": [
       "[<matplotlib.lines.Line2D at 0x7fbe42845c10>]"
      ]
     },
     "execution_count": 408,
     "metadata": {},
     "output_type": "execute_result"
    },
    {
     "data": {
      "image/png": "[encoded data removed]",
      "text/plain": [
       "<Figure size 432x288 with 1 Axes>"
      ]
     },
     "metadata": {
      "needs_background": "light"
     },
     "output_type": "display_data"
    }
   ],
   "source": [
    "plt.plot(np.dot(proj,projected_pca.T)[0],np.dot(proj,projected_pca.T)[1])"
   ]
  },
  {
   "cell_type": "code",
   "execution_count": 273,
   "metadata": {},
   "outputs": [],
   "source": [
    "qo1,ro1 = np.linalg.qr(Qv.real)\n",
    "qo2,ro2 = np.linalg.qr(Qv.imag)"
   ]
  },
  {
   "cell_type": "code",
   "execution_count": 830,
   "metadata": {},
   "outputs": [
    {
     "data": {
      "text/plain": [
       "array([[ 0.71,  0.71, -0.  ],\n",
       "       [ 0.  ,  0.  ,  0.65],\n",
       "       [ 0.  ,  0.  ,  0.76]])"
      ]
     },
     "execution_count": 830,
     "metadata": {},
     "output_type": "execute_result"
    }
   ],
   "source": [
    "np.round(ro1,decimals=2)"
   ]
  },
  {
   "cell_type": "code",
   "execution_count": 831,
   "metadata": {},
   "outputs": [
    {
     "data": {
      "text/plain": [
       "array([[-0.71,  0.71,  0.  ],\n",
       "       [ 0.  , -0.  ,  0.  ],\n",
       "       [ 0.  ,  0.  ,  0.  ]])"
      ]
     },
     "execution_count": 831,
     "metadata": {},
     "output_type": "execute_result"
    }
   ],
   "source": [
    "np.round(ro2,decimals=2)"
   ]
  },
  {
   "cell_type": "code",
   "execution_count": 842,
   "metadata": {},
   "outputs": [
    {
     "data": {
      "text/plain": [
       "array([0.87443656+0.48513988j, 0.87443656-0.48513988j,\n",
       "       1.        +0.j        ])"
      ]
     },
     "execution_count": 842,
     "metadata": {},
     "output_type": "execute_result"
    }
   ],
   "source": [
    "Qe"
   ]
  },
  {
   "cell_type": "code",
   "execution_count": null,
   "metadata": {},
   "outputs": [],
   "source": []
  },
  {
   "cell_type": "code",
   "execution_count": 832,
   "metadata": {},
   "outputs": [],
   "source": [
    "import scipy.linalg as la\n"
   ]
  },
  {
   "cell_type": "code",
   "execution_count": 1281,
   "metadata": {},
   "outputs": [],
   "source": [
    "t,z=la.schur(Ahat_skew, output='real', lwork=None, overwrite_a=False, sort=None, check_finite=True)"
   ]
  },
  {
   "cell_type": "code",
   "execution_count": 1284,
   "metadata": {},
   "outputs": [
    {
     "data": {
      "text/plain": [
       "<matplotlib.image.AxesImage at 0x7fa861ebb610>"
      ]
     },
     "execution_count": 1284,
     "metadata": {},
     "output_type": "execute_result"
    },
    {
     "data": {
      "image/png": "[encoded data removed]",
      "text/plain": [
       "<Figure size 432x288 with 1 Axes>"
      ]
     },
     "metadata": {},
     "output_type": "display_data"
    }
   ],
   "source": [
    "plt.imshow(t)"
   ]
  },
  {
   "cell_type": "code",
   "execution_count": 1285,
   "metadata": {},
   "outputs": [
    {
     "data": {
      "text/plain": [
       "array([[-0.07493376,  0.07493376,  0.18855745, -0.00499244, -0.4487596 ,\n",
       "        -0.4487596 , -0.16717812,  0.12604586, -0.31368267,  0.08900076,\n",
       "        -0.02969599,  0.0574733 ,  0.07258595,  0.56382796,  0.26755617,\n",
       "         0.03639533],\n",
       "       [ 0.50937765, -0.33038632,  0.03894261, -0.28774394, -0.32539869,\n",
       "        -0.04243366,  0.26239912, -0.10529847,  0.17346538, -0.36249984,\n",
       "        -0.18034532, -0.05643015, -0.23687442, -0.06076406,  0.28851739,\n",
       "         0.13853154],\n",
       "       [ 0.41781959,  0.44203629, -0.25173628, -0.03500573,  0.17138424,\n",
       "         0.10441431,  0.00280328, -0.21069199,  0.05351705,  0.43782205,\n",
       "        -0.09931494,  0.3288682 , -0.00898334,  0.10491824,  0.31819642,\n",
       "         0.23633199],\n",
       "       [-0.07282981,  0.6340497 , -0.05416566,  0.01290589, -0.06355653,\n",
       "        -0.0044554 ,  0.16062587,  0.05237805,  0.35655136, -0.28902952,\n",
       "        -0.26712083, -0.46633799,  0.02719069,  0.22171633, -0.0865573 ,\n",
       "        -0.00957473],\n",
       "       [ 0.30498578,  0.15248843,  0.09213153,  0.0602612 ,  0.04912483,\n",
       "         0.08061276, -0.05795211, -0.43654681, -0.41668421, -0.3259258 ,\n",
       "         0.44388291, -0.22708437,  0.26451987,  0.06392561, -0.15093943,\n",
       "         0.20850763],\n",
       "       [-0.01214817,  0.00494897,  0.52468044,  0.41111537, -0.08393307,\n",
       "         0.04954283,  0.10970271, -0.24035364,  0.46832094, -0.09777999,\n",
       "         0.08688763,  0.3726167 ,  0.279307  ,  0.04943611,  0.10209506,\n",
       "        -0.10030404],\n",
       "       [ 0.11817897,  0.09735587, -0.02217678, -0.48133924,  0.25637215,\n",
       "        -0.43836005,  0.32533569,  0.01740665,  0.10812831, -0.02383696,\n",
       "         0.30206624,  0.21027331,  0.12752118,  0.10644497, -0.17682982,\n",
       "        -0.41685009],\n",
       "       [ 0.03493007,  0.20682182, -0.00571188,  0.31088502, -0.08961032,\n",
       "        -0.38135019, -0.14019598, -0.15284395,  0.10100752,  0.03300571,\n",
       "         0.35529505, -0.07537102, -0.66474889, -0.25114042,  0.04415963,\n",
       "        -0.11282024],\n",
       "       [ 0.30596186,  0.18512947, -0.12284059,  0.33715563, -0.19829766,\n",
       "        -0.16822148,  0.17544486,  0.41712758, -0.24489107, -0.057383  ,\n",
       "        -0.0829767 ,  0.04040147,  0.35328021, -0.48022329,  0.08151002,\n",
       "        -0.1926315 ],\n",
       "       [ 0.10749606,  0.04489326,  0.35643458, -0.26396719, -0.29898153,\n",
       "         0.17538562, -0.0137448 , -0.16533677,  0.0263008 ,  0.56345116,\n",
       "         0.03892249, -0.42687875,  0.1030227 , -0.20509105,  0.00729531,\n",
       "        -0.2956198 ],\n",
       "       [-0.10390206,  0.1809623 ,  0.38541367, -0.04173486,  0.08425594,\n",
       "         0.30295784,  0.51873818,  0.39112103, -0.22792563,  0.03594586,\n",
       "         0.27061067,  0.0498876 , -0.29738013,  0.04735761,  0.12799463,\n",
       "         0.22181664],\n",
       "       [ 0.14602844,  0.03272275,  0.16544544,  0.00208507, -0.20868242,\n",
       "        -0.21347197,  0.10495379,  0.00359794,  0.01860184,  0.19568777,\n",
       "        -0.21184724,  0.17854103, -0.07300818, -0.0625319 , -0.7399472 ,\n",
       "         0.42180958],\n",
       "       [ 0.19097503,  0.15083839,  0.31421948,  0.0018792 ,  0.18370793,\n",
       "         0.16854227, -0.17368149, -0.0955194 , -0.35967101, -0.19628411,\n",
       "        -0.45746326,  0.19961329, -0.29524271,  0.06796318, -0.13309865,\n",
       "        -0.46269137],\n",
       "       [ 0.3226494 , -0.06271531,  0.3813842 , -0.041831  ,  0.46316808,\n",
       "        -0.20931597, -0.42203396,  0.39528936,  0.19734094,  0.00907711,\n",
       "         0.01010847, -0.22963992,  0.06836843, -0.01972413,  0.08633204,\n",
       "         0.2183511 ],\n",
       "       [-0.3680817 ,  0.30621801,  0.18702203, -0.44000816, -0.07905079,\n",
       "        -0.11816646, -0.21900859, -0.12668067, -0.0584215 , -0.21871924,\n",
       "        -0.08194471,  0.22931906,  0.09213336, -0.49460031,  0.19401812,\n",
       "         0.23795477],\n",
       "       [ 0.18260733,  0.14738625, -0.12290615, -0.18531875, -0.37712357,\n",
       "         0.39592463, -0.41131641,  0.34371057,  0.20492994, -0.14559054,\n",
       "         0.34744412,  0.25335797, -0.04635811,  0.09402184, -0.19129094,\n",
       "        -0.11620794]])"
      ]
     },
     "execution_count": 1285,
     "metadata": {},
     "output_type": "execute_result"
    }
   ],
   "source": [
    "z"
   ]
  },
  {
   "cell_type": "code",
   "execution_count": 836,
   "metadata": {},
   "outputs": [
    {
     "data": {
      "text/plain": [
       "array([], shape=(0, 0), dtype=float64)"
      ]
     },
     "execution_count": 836,
     "metadata": {},
     "output_type": "execute_result"
    }
   ],
   "source": [
    "t[4:8,4:8]"
   ]
  },
  {
   "cell_type": "code",
   "execution_count": 837,
   "metadata": {},
   "outputs": [],
   "source": [
    "#construct a matrix that \n",
    "C = np.vstack([Qv[:,1],Qv[:,2]]).T\n",
    "\n",
    "P = np.dot(C,np.linalg.inv(np.dot(C.T,C))).dot(C.T)"
   ]
  },
  {
   "cell_type": "code",
   "execution_count": 839,
   "metadata": {},
   "outputs": [
    {
     "data": {
      "text/plain": [
       "[<matplotlib.lines.Line2D at 0x7fa83207d290>]"
      ]
     },
     "execution_count": 839,
     "metadata": {},
     "output_type": "execute_result"
    },
    {
     "data": {
      "image/png": "[encoded data removed]",
      "text/plain": [
       "<Figure size 432x288 with 1 Axes>"
      ]
     },
     "metadata": {},
     "output_type": "display_data"
    }
   ],
   "source": [
    "plt.plot((P@state_representation)[0])\n",
    "#plt.plot((P@state_representation)[1])\n",
    "#plt.plot((P@state_representation)[2])"
   ]
  },
  {
   "cell_type": "code",
   "execution_count": 284,
   "metadata": {},
   "outputs": [
    {
     "data": {
      "text/plain": [
       "(2, 2)"
      ]
     },
     "execution_count": 284,
     "metadata": {},
     "output_type": "execute_result"
    }
   ],
   "source": [
    "P.shape"
   ]
  },
  {
   "cell_type": "code",
   "execution_count": 285,
   "metadata": {},
   "outputs": [
    {
     "data": {
      "text/plain": [
       "(3, 36)"
      ]
     },
     "execution_count": 285,
     "metadata": {},
     "output_type": "execute_result"
    }
   ],
   "source": [
    "state_representation.shape"
   ]
  },
  {
   "cell_type": "code",
   "execution_count": 269,
   "metadata": {},
   "outputs": [],
   "source": [
    "proj = Qv[:,1]@state_representation\n",
    "proj2 = Qv[:,2]@state_representation"
   ]
  },
  {
   "cell_type": "code",
   "execution_count": 271,
   "metadata": {},
   "outputs": [
    {
     "data": {
      "text/plain": [
       "array([ 0.45904599-0.02221533j,  0.75762941+0.59137241j,\n",
       "        0.8838179 +0.97515872j,  0.80636104+1.13425333j,\n",
       "        0.54310608+1.03199837j,  0.15471105+0.69195497j,\n",
       "       -0.2693318 +0.19247441j, -0.63131643-0.35135524j,\n",
       "       -0.84783596-0.81422719j, -0.86900092-1.08948856j,\n",
       "       -0.68993459-1.11371486j, -0.35189662-0.88132398j,\n",
       "        0.06722379-0.44586237j,  0.47085479+0.09233284j,\n",
       "        0.76599355+0.60925314j,  0.8846355 +0.98579205j,\n",
       "        0.79944371+1.13518919j,  0.53004768+1.02302111j,\n",
       "        0.13852044+0.6751331j , -0.28492405+0.17168395j,\n",
       "       -0.64271763-0.37132385j, -0.85241909-0.82877287j,\n",
       "       -0.86570997-1.09525977j, -0.67952783-1.10938181j,\n",
       "       -0.33677194-0.86788508j,  0.08358143-0.42641415j,\n",
       "        0.48467635+0.11330921j,  0.77409431+0.62692437j,\n",
       "        0.88514893+0.99608643j,  0.7922515 +1.13573472j,\n",
       "        0.51680704+1.0136921j ,  0.12228221+0.6580791j ,\n",
       "       -0.30041834+0.15083446j, -0.65389784-0.39116479j,\n",
       "       -0.85670913-0.84303359j, -0.86212134-1.10065437j])"
      ]
     },
     "execution_count": 271,
     "metadata": {},
     "output_type": "execute_result"
    }
   ],
   "source": []
  },
  {
   "cell_type": "code",
   "execution_count": 184,
   "metadata": {},
   "outputs": [
    {
     "data": {
      "text/plain": [
       "<matplotlib.image.AxesImage at 0x7fa820372750>"
      ]
     },
     "execution_count": 184,
     "metadata": {},
     "output_type": "execute_result"
    },
    {
     "data": {
      "image/png": "[encoded data removed]",
      "text/plain": [
       "<Figure size 432x288 with 1 Axes>"
      ]
     },
     "metadata": {},
     "output_type": "display_data"
    }
   ],
   "source": [
    "plt.imshow(Bhat.T)"
   ]
  },
  {
   "cell_type": "code",
   "execution_count": 183,
   "metadata": {},
   "outputs": [
    {
     "name": "stdout",
     "output_type": "stream",
     "text": [
      "Optimization failed.\n",
      "Desired error not necessarily achieved due to precision loss.\n"
     ]
    }
   ],
   "source": [
    "Bhat = skew_sym_regress(state_representation[:,:-1].T,state_representation[:,1:].T)\n",
    "#Bhat = skew_sym_regress(state_representation[:,1:].T,state_representation[:,:-1].T)"
   ]
  },
  {
   "cell_type": "code",
   "execution_count": 173,
   "metadata": {},
   "outputs": [
    {
     "data": {
      "text/plain": [
       "[<matplotlib.lines.Line2D at 0x7fa86062f750>]"
      ]
     },
     "execution_count": 173,
     "metadata": {},
     "output_type": "execute_result"
    },
    {
     "data": {
      "image/png": "[encoded data removed]",
      "text/plain": [
       "<Figure size 432x288 with 1 Axes>"
      ]
     },
     "metadata": {},
     "output_type": "display_data"
    }
   ],
   "source": [
    "plt.plot(state_representation[0])"
   ]
  },
  {
   "cell_type": "code",
   "execution_count": 174,
   "metadata": {},
   "outputs": [
    {
     "data": {
      "text/plain": [
       "array([[False, False, False, False, False, False],\n",
       "       [False, False, False, False, False, False],\n",
       "       [False, False, False, False, False, False],\n",
       "       [False, False, False, False, False, False],\n",
       "       [False, False, False, False, False, False],\n",
       "       [False, False, False, False, False, False]])"
      ]
     },
     "execution_count": 174,
     "metadata": {},
     "output_type": "execute_result"
    }
   ],
   "source": [
    "A == -A.T"
   ]
  },
  {
   "cell_type": "code",
   "execution_count": 161,
   "metadata": {},
   "outputs": [
    {
     "data": {
      "text/plain": [
       "array([0.08474763, 0.23167166, 0.17097971, 0.12963771, 0.04867101,\n",
       "       0.2908652 ])"
      ]
     },
     "execution_count": 161,
     "metadata": {},
     "output_type": "execute_result"
    }
   ],
   "source": [
    "np.dot(Bhat,state_representation[:,0])"
   ]
  },
  {
   "cell_type": "code",
   "execution_count": 162,
   "metadata": {},
   "outputs": [
    {
     "data": {
      "text/plain": [
       "array([ 1.64542836, -0.66637245,  1.50099182,  0.4391805 ,  1.69688049,\n",
       "        2.24497886])"
      ]
     },
     "execution_count": 162,
     "metadata": {},
     "output_type": "execute_result"
    }
   ],
   "source": [
    "state_representation[:,1]"
   ]
  },
  {
   "cell_type": "code",
   "execution_count": 151,
   "metadata": {},
   "outputs": [
    {
     "data": {
      "text/plain": [
       "<matplotlib.image.AxesImage at 0x7fa853448a10>"
      ]
     },
     "execution_count": 151,
     "metadata": {},
     "output_type": "execute_result"
    },
    {
     "data": {
      "image/png": "[encoded data removed]",
      "text/plain": [
       "<Figure size 432x288 with 1 Axes>"
      ]
     },
     "metadata": {},
     "output_type": "display_data"
    }
   ],
   "source": [
    "plt.imshow(Ahat)"
   ]
  },
  {
   "cell_type": "code",
   "execution_count": 152,
   "metadata": {},
   "outputs": [
    {
     "data": {
      "text/plain": [
       "<matplotlib.image.AxesImage at 0x7fa870b35e50>"
      ]
     },
     "execution_count": 152,
     "metadata": {},
     "output_type": "execute_result"
    },
    {
     "data": {
      "image/png": "[encoded data removed]",
      "text/plain": [
       "<Figure size 432x288 with 1 Axes>"
      ]
     },
     "metadata": {},
     "output_type": "display_data"
    }
   ],
   "source": [
    "plt.imshow(A)"
   ]
  },
  {
   "cell_type": "code",
   "execution_count": null,
   "metadata": {},
   "outputs": [],
   "source": []
  },
  {
   "cell_type": "code",
   "execution_count": 153,
   "metadata": {},
   "outputs": [],
   "source": [
    "y1 = state_representation[:,:-1]\n",
    "y2 = state_representation[:,1:]\n",
    "Ahat =np.dot(y2,np.linalg.pinv(y1))"
   ]
  },
  {
   "cell_type": "code",
   "execution_count": 154,
   "metadata": {},
   "outputs": [
    {
     "data": {
      "text/plain": [
       "<matplotlib.image.AxesImage at 0x7fa870bf5990>"
      ]
     },
     "execution_count": 154,
     "metadata": {},
     "output_type": "execute_result"
    },
    {
     "data": {
      "image/png": "[encoded data removed]",
      "text/plain": [
       "<Figure size 432x288 with 1 Axes>"
      ]
     },
     "metadata": {},
     "output_type": "display_data"
    }
   ],
   "source": [
    "plt.imshow(Ahat)"
   ]
  },
  {
   "cell_type": "code",
   "execution_count": null,
   "metadata": {},
   "outputs": [],
   "source": []
  },
  {
   "cell_type": "code",
   "execution_count": null,
   "metadata": {},
   "outputs": [],
   "source": []
  },
  {
   "cell_type": "markdown",
   "metadata": {},
   "source": [
    "# This is the simple case"
   ]
  },
  {
   "cell_type": "code",
   "execution_count": 64,
   "metadata": {},
   "outputs": [
    {
     "ename": "IndexError",
     "evalue": "index 1 is out of bounds for axis 0 with size 1",
     "output_type": "error",
     "traceback": [
      "\u001b[0;31m---------------------------------------------------------------------------\u001b[0m",
      "\u001b[0;31mIndexError\u001b[0m                                Traceback (most recent call last)",
      "\u001b[0;32m<ipython-input-64-41e90a920ed1>\u001b[0m in \u001b[0;36m<module>\u001b[0;34m\u001b[0m\n\u001b[1;32m      1\u001b[0m \u001b[0mM\u001b[0m \u001b[0;34m=\u001b[0m \u001b[0mnp\u001b[0m\u001b[0;34m.\u001b[0m\u001b[0mzeros\u001b[0m\u001b[0;34m(\u001b[0m\u001b[0;34m[\u001b[0m\u001b[0;36m8\u001b[0m\u001b[0;34m,\u001b[0m\u001b[0;36m8\u001b[0m\u001b[0;34m]\u001b[0m\u001b[0;34m)\u001b[0m\u001b[0;34m\u001b[0m\u001b[0;34m\u001b[0m\u001b[0m\n\u001b[0;32m----> 2\u001b[0;31m \u001b[0;32mfor\u001b[0m \u001b[0mi\u001b[0m\u001b[0;34m,\u001b[0m\u001b[0mdb\u001b[0m \u001b[0;32min\u001b[0m \u001b[0menumerate\u001b[0m\u001b[0;34m(\u001b[0m\u001b[0mconstruct_diagonal_blocks\u001b[0m\u001b[0;34m(\u001b[0m\u001b[0mtmp\u001b[0m\u001b[0;34m)\u001b[0m\u001b[0;34m)\u001b[0m\u001b[0;34m:\u001b[0m\u001b[0;34m\u001b[0m\u001b[0;34m\u001b[0m\u001b[0m\n\u001b[0m\u001b[1;32m      3\u001b[0m     \u001b[0mM\u001b[0m\u001b[0;34m[\u001b[0m\u001b[0mi\u001b[0m\u001b[0;34m*\u001b[0m\u001b[0;36m2\u001b[0m\u001b[0;34m:\u001b[0m\u001b[0;34m(\u001b[0m\u001b[0mi\u001b[0m\u001b[0;34m+\u001b[0m\u001b[0;36m1\u001b[0m\u001b[0;34m)\u001b[0m\u001b[0;34m*\u001b[0m\u001b[0;36m2\u001b[0m\u001b[0;34m,\u001b[0m\u001b[0mi\u001b[0m\u001b[0;34m*\u001b[0m\u001b[0;36m2\u001b[0m\u001b[0;34m:\u001b[0m\u001b[0;34m(\u001b[0m\u001b[0mi\u001b[0m\u001b[0;34m+\u001b[0m\u001b[0;36m1\u001b[0m\u001b[0;34m)\u001b[0m\u001b[0;34m*\u001b[0m\u001b[0;36m2\u001b[0m\u001b[0;34m]\u001b[0m \u001b[0;34m=\u001b[0m \u001b[0mdb\u001b[0m\u001b[0;34m\u001b[0m\u001b[0;34m\u001b[0m\u001b[0m\n",
      "\u001b[0;32m<ipython-input-63-44a7a570cf5c>\u001b[0m in \u001b[0;36mconstruct_diagonal_blocks\u001b[0;34m(vals)\u001b[0m\n\u001b[1;32m     10\u001b[0m         \u001b[0marr\u001b[0m \u001b[0;34m=\u001b[0m \u001b[0mnp\u001b[0m\u001b[0;34m.\u001b[0m\u001b[0mzeros\u001b[0m\u001b[0;34m(\u001b[0m\u001b[0;34m[\u001b[0m\u001b[0;36m2\u001b[0m\u001b[0;34m,\u001b[0m\u001b[0;36m2\u001b[0m\u001b[0;34m]\u001b[0m\u001b[0;34m)\u001b[0m\u001b[0;34m\u001b[0m\u001b[0;34m\u001b[0m\u001b[0m\n\u001b[1;32m     11\u001b[0m         \u001b[0marr\u001b[0m\u001b[0;34m[\u001b[0m\u001b[0;36m0\u001b[0m\u001b[0;34m,\u001b[0m\u001b[0;36m0\u001b[0m\u001b[0;34m]\u001b[0m \u001b[0;34m=\u001b[0m \u001b[0mv\u001b[0m\u001b[0;34m[\u001b[0m\u001b[0;36m0\u001b[0m\u001b[0;34m]\u001b[0m\u001b[0;34m\u001b[0m\u001b[0;34m\u001b[0m\u001b[0m\n\u001b[0;32m---> 12\u001b[0;31m         \u001b[0marr\u001b[0m\u001b[0;34m[\u001b[0m\u001b[0;36m0\u001b[0m\u001b[0;34m,\u001b[0m\u001b[0;36m1\u001b[0m\u001b[0;34m]\u001b[0m \u001b[0;34m=\u001b[0m \u001b[0;34m-\u001b[0m\u001b[0mv\u001b[0m\u001b[0;34m[\u001b[0m\u001b[0;36m1\u001b[0m\u001b[0;34m]\u001b[0m\u001b[0;34m\u001b[0m\u001b[0;34m\u001b[0m\u001b[0m\n\u001b[0m\u001b[1;32m     13\u001b[0m         \u001b[0marr\u001b[0m\u001b[0;34m[\u001b[0m\u001b[0;36m1\u001b[0m\u001b[0;34m,\u001b[0m\u001b[0;36m0\u001b[0m\u001b[0;34m]\u001b[0m \u001b[0;34m=\u001b[0m \u001b[0mv\u001b[0m\u001b[0;34m[\u001b[0m\u001b[0;36m1\u001b[0m\u001b[0;34m]\u001b[0m\u001b[0;34m\u001b[0m\u001b[0;34m\u001b[0m\u001b[0m\n\u001b[1;32m     14\u001b[0m         \u001b[0marr\u001b[0m\u001b[0;34m[\u001b[0m\u001b[0;36m1\u001b[0m\u001b[0;34m,\u001b[0m\u001b[0;36m1\u001b[0m\u001b[0;34m]\u001b[0m \u001b[0;34m=\u001b[0m \u001b[0mv\u001b[0m\u001b[0;34m[\u001b[0m\u001b[0;36m0\u001b[0m\u001b[0;34m]\u001b[0m\u001b[0;34m\u001b[0m\u001b[0;34m\u001b[0m\u001b[0m\n",
      "\u001b[0;31mIndexError\u001b[0m: index 1 is out of bounds for axis 0 with size 1"
     ]
    }
   ],
   "source": [
    "M = np.zeros([8,8])\n",
    "for i,db in enumerate(construct_diagonal_blocks(tmp)):\n",
    "    M[i*2:(i+1)*2,i*2:(i+1)*2] = db"
   ]
  },
  {
   "cell_type": "code",
   "execution_count": 16,
   "metadata": {},
   "outputs": [],
   "source": [
    "A = np.random.uniform(size=(8,8))"
   ]
  },
  {
   "cell_type": "code",
   "execution_count": 17,
   "metadata": {},
   "outputs": [],
   "source": [
    "A = np.random.uniform(size=(8,8))\n",
    "mat = np.dot(A,M).dot(np.linalg.inv(A))"
   ]
  },
  {
   "cell_type": "code",
   "execution_count": null,
   "metadata": {},
   "outputs": [],
   "source": [
    "Ahh"
   ]
  },
  {
   "cell_type": "markdown",
   "metadata": {},
   "source": []
  },
  {
   "cell_type": "code",
   "execution_count": 18,
   "metadata": {},
   "outputs": [],
   "source": [
    "n =8\n",
    "initial_index = [3,0,2,1]\n",
    "final_index = [0,1,3,2]\n",
    "permutation_matrix = np.zeros((n, n), dtype=int)\n",
    "permutation_matrix[final_index, initial_index] = 1\n"
   ]
  },
  {
   "cell_type": "code",
   "execution_count": 19,
   "metadata": {},
   "outputs": [
    {
     "data": {
      "text/plain": [
       "array([[0, 0, 0, 1, 0, 0, 0, 0],\n",
       "       [1, 0, 0, 0, 0, 0, 0, 0],\n",
       "       [0, 1, 0, 0, 0, 0, 0, 0],\n",
       "       [0, 0, 1, 0, 0, 0, 0, 0],\n",
       "       [0, 0, 0, 0, 0, 0, 0, 0],\n",
       "       [0, 0, 0, 0, 0, 0, 0, 0],\n",
       "       [0, 0, 0, 0, 0, 0, 0, 0],\n",
       "       [0, 0, 0, 0, 0, 0, 0, 0]])"
      ]
     },
     "execution_count": 19,
     "metadata": {},
     "output_type": "execute_result"
    }
   ],
   "source": [
    "permutation_matrix"
   ]
  },
  {
   "cell_type": "code",
   "execution_count": 20,
   "metadata": {},
   "outputs": [],
   "source": [
    "n_states = 9\n",
    "n_units = 200"
   ]
  },
  {
   "cell_type": "code",
   "execution_count": 21,
   "metadata": {},
   "outputs": [],
   "source": [
    "cell_correlations = np.random.normal(size=n_units)\n"
   ]
  },
  {
   "cell_type": "code",
   "execution_count": 22,
   "metadata": {},
   "outputs": [],
   "source": [
    "rep0 = np.random.normal(size=500)"
   ]
  },
  {
   "cell_type": "code",
   "execution_count": 23,
   "metadata": {},
   "outputs": [],
   "source": [
    "aa = np.outer(cell_correlations,rep0)\n"
   ]
  },
  {
   "cell_type": "code",
   "execution_count": 24,
   "metadata": {},
   "outputs": [],
   "source": [
    "U,S,V = np.linalg.svd(aa)"
   ]
  },
  {
   "cell_type": "code",
   "execution_count": 25,
   "metadata": {},
   "outputs": [],
   "source": [
    "#Y_t.shape = (nPCs,nTimepoiints)\n",
    "#Y_(t+1).shape = (nPCs,nTimepoiints)"
   ]
  },
  {
   "cell_type": "code",
   "execution_count": 26,
   "metadata": {},
   "outputs": [],
   "source": [
    "#A.shape = (nPcs x nPcs)"
   ]
  },
  {
   "cell_type": "code",
   "execution_count": 27,
   "metadata": {},
   "outputs": [],
   "source": [
    "nPcs = 8\n",
    "\n",
    "#A = np.random.normal(size=(nPcs,nPcs))\n",
    "A = np.vstack([np.ones(n_states),np.zeros([n_states-1,n_states])])"
   ]
  },
  {
   "cell_type": "code",
   "execution_count": 28,
   "metadata": {},
   "outputs": [],
   "source": [
    "A = np.eye(nPcs)\n",
    "A = A[np.random.permutation(np.arange(nPcs))]"
   ]
  },
  {
   "cell_type": "code",
   "execution_count": 29,
   "metadata": {},
   "outputs": [],
   "source": [
    "import numpy as np\n",
    "\n",
    "\n",
    "k = nPcs\n",
    "A = np.identity(k)\n",
    "\n",
    "# Add a random drift term.  We can guarantee that the diagonal terms\n",
    "#     will be larger by specifying a `high` parameter that is < 1.\n",
    "# How much larger depends on that term.  Here, it is 0.25.\n",
    "A = A + np.random.uniform(low=0., high=.5, size=(k, k))\n",
    "\n",
    "# Lastly, divide by row-wise sum to normalize to 1.\n",
    "A = A / A.sum(axis=1, keepdims=1)\n"
   ]
  },
  {
   "cell_type": "code",
   "execution_count": 30,
   "metadata": {},
   "outputs": [],
   "source": [
    "import scipy.stats\n"
   ]
  },
  {
   "cell_type": "code",
   "execution_count": 31,
   "metadata": {},
   "outputs": [],
   "source": [
    "tmp = np.random.uniform(0,1,[nPcs,2])\n",
    "tmp /= np.sqrt(np.sum(tmp**2,axis=1))[:,None]"
   ]
  },
  {
   "cell_type": "code",
   "execution_count": 32,
   "metadata": {},
   "outputs": [],
   "source": [
    "L = np.eye(nPcs)*np.sum(tmp*np.array([1,1j]),axis=1)\n",
    "#L = np.eye(nPcs)\n",
    "Q = scipy.stats.ortho_group.rvs(nPcs)"
   ]
  },
  {
   "cell_type": "code",
   "execution_count": 33,
   "metadata": {},
   "outputs": [],
   "source": [
    "A= np.dot(Q,L).dot(Q.T)"
   ]
  },
  {
   "cell_type": "code",
   "execution_count": 34,
   "metadata": {},
   "outputs": [],
   "source": [
    "state0 = np.random.normal(size=(nPcs,1))"
   ]
  },
  {
   "cell_type": "code",
   "execution_count": 35,
   "metadata": {},
   "outputs": [],
   "source": [
    "A = mat"
   ]
  },
  {
   "cell_type": "code",
   "execution_count": 36,
   "metadata": {},
   "outputs": [],
   "source": [
    "state_representation = [state0.copy()]\n",
    "for _ in range(1,n_states):\n",
    "    tmp = np.dot(A,state_representation[-1])\n",
    "    state_representation.append(tmp.copy())\n",
    "    \n",
    "#this is now n_states n_timepoints \n",
    "state_representation = np.hstack(state_representation)"
   ]
  },
  {
   "cell_type": "code",
   "execution_count": 209,
   "metadata": {},
   "outputs": [
    {
     "ename": "NameError",
     "evalue": "name 'I' is not defined",
     "output_type": "error",
     "traceback": [
      "\u001b[0;31m---------------------------------------------------------------------------\u001b[0m",
      "\u001b[0;31mNameError\u001b[0m                                 Traceback (most recent call last)",
      "\u001b[0;32m<ipython-input-209-7af84bb96101>\u001b[0m in \u001b[0;36m<module>\u001b[0;34m\u001b[0m\n\u001b[0;32m----> 1\u001b[0;31m \u001b[0mQ\u001b[0m \u001b[0;34m=\u001b[0m \u001b[0mnp\u001b[0m\u001b[0;34m.\u001b[0m\u001b[0mdot\u001b[0m\u001b[0;34m(\u001b[0m\u001b[0mnp\u001b[0m\u001b[0;34m.\u001b[0m\u001b[0mlinalg\u001b[0m\u001b[0;34m.\u001b[0m\u001b[0minv\u001b[0m\u001b[0;34m(\u001b[0m\u001b[0mI\u001b[0m\u001b[0;34m+\u001b[0m\u001b[0mAh2\u001b[0m\u001b[0;34m)\u001b[0m\u001b[0;34m,\u001b[0m\u001b[0;34m(\u001b[0m\u001b[0mI\u001b[0m\u001b[0;34m-\u001b[0m\u001b[0mAh2\u001b[0m\u001b[0;34m)\u001b[0m\u001b[0;34m)\u001b[0m\u001b[0;34m\u001b[0m\u001b[0;34m\u001b[0m\u001b[0m\n\u001b[0m\u001b[1;32m      2\u001b[0m \u001b[0;32massert\u001b[0m \u001b[0mnp\u001b[0m\u001b[0;34m.\u001b[0m\u001b[0mallclose\u001b[0m\u001b[0;34m(\u001b[0m\u001b[0;36m1\u001b[0m\u001b[0;34m,\u001b[0m\u001b[0mnp\u001b[0m\u001b[0;34m.\u001b[0m\u001b[0mabs\u001b[0m\u001b[0;34m(\u001b[0m\u001b[0mnp\u001b[0m\u001b[0;34m.\u001b[0m\u001b[0mlinalg\u001b[0m\u001b[0;34m.\u001b[0m\u001b[0meig\u001b[0m\u001b[0;34m(\u001b[0m\u001b[0mQ\u001b[0m\u001b[0;34m)\u001b[0m\u001b[0;34m[\u001b[0m\u001b[0;36m0\u001b[0m\u001b[0;34m]\u001b[0m\u001b[0;34m)\u001b[0m\u001b[0;34m)\u001b[0m\u001b[0;34m\u001b[0m\u001b[0;34m\u001b[0m\u001b[0m\n",
      "\u001b[0;31mNameError\u001b[0m: name 'I' is not defined"
     ]
    }
   ],
   "source": []
  },
  {
   "cell_type": "code",
   "execution_count": 37,
   "metadata": {},
   "outputs": [
    {
     "data": {
      "text/plain": [
       "array([[-0.00928161, -1.31979165, -1.23073869, -0.6306751 ,  1.82901741,\n",
       "         0.63169166, -1.52506889, -0.33002468]])"
      ]
     },
     "execution_count": 37,
     "metadata": {},
     "output_type": "execute_result"
    }
   ],
   "source": [
    "state0.T"
   ]
  },
  {
   "cell_type": "code",
   "execution_count": 38,
   "metadata": {},
   "outputs": [
    {
     "data": {
      "text/plain": [
       "[<matplotlib.lines.Line2D at 0x7fa852adb950>]"
      ]
     },
     "execution_count": 38,
     "metadata": {},
     "output_type": "execute_result"
    },
    {
     "data": {
      "image/png": "[encoded data removed]",
      "text/plain": [
       "<Figure size 432x288 with 1 Axes>"
      ]
     },
     "metadata": {},
     "output_type": "display_data"
    }
   ],
   "source": [
    "plt.plot(state_representation[0].real)"
   ]
  },
  {
   "cell_type": "code",
   "execution_count": 39,
   "metadata": {},
   "outputs": [],
   "source": [
    "#sorting approach"
   ]
  },
  {
   "cell_type": "code",
   "execution_count": 40,
   "metadata": {},
   "outputs": [],
   "source": [
    "y1 = state_representation[:,:-1]\n",
    "y2 = state_representation[:,1:]"
   ]
  },
  {
   "cell_type": "code",
   "execution_count": 41,
   "metadata": {},
   "outputs": [],
   "source": [
    "Ay0 = y1"
   ]
  },
  {
   "cell_type": "code",
   "execution_count": 43,
   "metadata": {},
   "outputs": [
    {
     "data": {
      "text/plain": [
       "array([-0.00928161, -1.31979165, -1.23073869, -0.6306751 ,  1.82901741,\n",
       "        0.63169166, -1.52506889, -0.33002468])"
      ]
     },
     "execution_count": 43,
     "metadata": {},
     "output_type": "execute_result"
    }
   ],
   "source": [
    "state_representation[:,0]"
   ]
  },
  {
   "cell_type": "code",
   "execution_count": 44,
   "metadata": {},
   "outputs": [
    {
     "data": {
      "text/plain": [
       "array([[ 0.04623451],\n",
       "       [-0.15118985],\n",
       "       [-0.04588375],\n",
       "       [-0.15951777],\n",
       "       [-0.00419884],\n",
       "       [ 0.04450497],\n",
       "       [-0.3070117 ],\n",
       "       [-0.10235592]])"
      ]
     },
     "execution_count": 44,
     "metadata": {},
     "output_type": "execute_result"
    }
   ],
   "source": [
    "np.linalg.pinv(state_representation[:,1].reshape(1,-1))"
   ]
  },
  {
   "cell_type": "code",
   "execution_count": 45,
   "metadata": {},
   "outputs": [
    {
     "ename": "SyntaxError",
     "evalue": "invalid syntax (<ipython-input-45-5a44b6bf8832>, line 2)",
     "output_type": "error",
     "traceback": [
      "\u001b[0;36m  File \u001b[0;32m\"<ipython-input-45-5a44b6bf8832>\"\u001b[0;36m, line \u001b[0;32m2\u001b[0m\n\u001b[0;31m    n_states = state_representation[]\u001b[0m\n\u001b[0m                                    ^\u001b[0m\n\u001b[0;31mSyntaxError\u001b[0m\u001b[0;31m:\u001b[0m invalid syntax\n"
     ]
    }
   ],
   "source": [
    "state_representation = np.random.uniform(size=(12,22))\n",
    "n_states = state_representation[]"
   ]
  },
  {
   "cell_type": "code",
   "execution_count": 46,
   "metadata": {},
   "outputs": [],
   "source": [
    "tmp1 = np.zeros([len(state_representation[:,1])]*2)\n",
    "for i in range(n_states-1):\n",
    "    tmp1 += np.outer(state_representation[:,i+1],state_representation[:,i])"
   ]
  },
  {
   "cell_type": "code",
   "execution_count": 47,
   "metadata": {},
   "outputs": [],
   "source": [
    "tmp2 = np.zeros([len(state_representation[:,1])]*2)\n",
    "for i in range(n_states-1):\n",
    "    tmp2 += np.outer(state_representation[:,i],state_representation[:,i])"
   ]
  },
  {
   "cell_type": "code",
   "execution_count": 42,
   "metadata": {},
   "outputs": [
    {
     "ename": "TypeError",
     "evalue": "_unary_dispatcher() missing 1 required positional argument: 'a'",
     "output_type": "error",
     "traceback": [
      "\u001b[0;31m---------------------------------------------------------------------------\u001b[0m",
      "\u001b[0;31mTypeError\u001b[0m                                 Traceback (most recent call last)",
      "\u001b[0;32m<ipython-input-42-bfb00593e6fd>\u001b[0m in \u001b[0;36m<module>\u001b[0;34m\u001b[0m\n\u001b[0;32m----> 1\u001b[0;31m \u001b[0mnp\u001b[0m\u001b[0;34m.\u001b[0m\u001b[0mlinalg\u001b[0m\u001b[0;34m.\u001b[0m\u001b[0minv\u001b[0m\u001b[0;34m(\u001b[0m\u001b[0;34m)\u001b[0m\u001b[0;34m\u001b[0m\u001b[0;34m\u001b[0m\u001b[0m\n\u001b[0m",
      "\u001b[0;32m<__array_function__ internals>\u001b[0m in \u001b[0;36minv\u001b[0;34m(*args, **kwargs)\u001b[0m\n",
      "\u001b[0;31mTypeError\u001b[0m: _unary_dispatcher() missing 1 required positional argument: 'a'"
     ]
    }
   ],
   "source": [
    "np.linalg.inv()"
   ]
  },
  {
   "cell_type": "code",
   "execution_count": null,
   "metadata": {},
   "outputs": [],
   "source": []
  },
  {
   "cell_type": "code",
   "execution_count": 48,
   "metadata": {},
   "outputs": [],
   "source": [
    "y1 = state_representation[:,:-1]\n",
    "y2 = state_representation[:,1:]\n",
    "Ahat =np.dot(y2,np.linalg.pinv(y1))"
   ]
  },
  {
   "cell_type": "code",
   "execution_count": 49,
   "metadata": {},
   "outputs": [
    {
     "data": {
      "text/plain": [
       "array([[ 0.48820043,  0.68778021, -0.74983668, -1.42814413,  0.94448476,\n",
       "        -1.20864679,  0.84042238,  0.91902328],\n",
       "       [-1.67261961, -1.17338598,  1.67550531,  0.55164437, -0.45557277,\n",
       "         2.89062859,  0.90881829, -0.87849774],\n",
       "       [-1.09209484, -1.07484987,  1.52413566,  0.08862413, -0.02556401,\n",
       "         1.57171653,  0.40001129,  0.36700122],\n",
       "       [-0.42734893, -0.59394554,  0.34679938,  0.43708181, -0.20174576,\n",
       "         0.98466192,  0.95974336, -0.37509723],\n",
       "       [-1.03494841, -0.37984793,  0.12814358, -0.0034214 ,  1.11441001,\n",
       "        -0.7978243 ,  1.14899092,  0.49614557],\n",
       "       [-0.85547005, -0.28882837,  0.19212775, -0.19046103,  0.36863219,\n",
       "         0.65237953,  0.69933199,  0.03995222],\n",
       "       [-0.52520354, -0.03787736, -0.11325448, -0.85994692,  0.19516643,\n",
       "        -0.69577084,  1.5323804 ,  0.74109147],\n",
       "       [-0.88447925, -0.02972273, -0.01152337, -0.04953054,  0.27773034,\n",
       "         0.0273873 ,  0.61816512,  0.96359183]])"
      ]
     },
     "execution_count": 49,
     "metadata": {},
     "output_type": "execute_result"
    }
   ],
   "source": [
    "Ahat"
   ]
  },
  {
   "cell_type": "code",
   "execution_count": 50,
   "metadata": {},
   "outputs": [
    {
     "data": {
      "text/plain": [
       "array([ 0.29027467, -0.94921706, -0.2880725 , -1.00150235, -0.0263616 ,\n",
       "        0.27941611, -1.92751527, -0.64262239])"
      ]
     },
     "execution_count": 50,
     "metadata": {},
     "output_type": "execute_result"
    }
   ],
   "source": [
    "state_representation[:,1]"
   ]
  },
  {
   "cell_type": "code",
   "execution_count": 51,
   "metadata": {},
   "outputs": [
    {
     "data": {
      "text/plain": [
       "array([[ 0.48820043,  0.68778021, -0.74983668, -1.42814413,  0.94448476,\n",
       "        -1.20864679,  0.84042238,  0.91902328],\n",
       "       [-1.67261961, -1.17338598,  1.67550531,  0.55164437, -0.45557277,\n",
       "         2.89062859,  0.90881829, -0.87849774],\n",
       "       [-1.09209484, -1.07484987,  1.52413566,  0.08862413, -0.02556401,\n",
       "         1.57171653,  0.40001129,  0.36700122],\n",
       "       [-0.42734893, -0.59394554,  0.34679938,  0.43708181, -0.20174576,\n",
       "         0.98466192,  0.95974336, -0.37509723],\n",
       "       [-1.03494841, -0.37984793,  0.12814358, -0.0034214 ,  1.11441001,\n",
       "        -0.7978243 ,  1.14899092,  0.49614557],\n",
       "       [-0.85547005, -0.28882837,  0.19212775, -0.19046103,  0.36863219,\n",
       "         0.65237953,  0.69933199,  0.03995222],\n",
       "       [-0.52520354, -0.03787736, -0.11325448, -0.85994692,  0.19516643,\n",
       "        -0.69577084,  1.5323804 ,  0.74109147],\n",
       "       [-0.88447925, -0.02972273, -0.01152337, -0.04953054,  0.27773034,\n",
       "         0.0273873 ,  0.61816512,  0.96359183]])"
      ]
     },
     "execution_count": 51,
     "metadata": {},
     "output_type": "execute_result"
    }
   ],
   "source": [
    "Ahat"
   ]
  },
  {
   "cell_type": "code",
   "execution_count": 52,
   "metadata": {},
   "outputs": [
    {
     "data": {
      "text/plain": [
       "array([-0.00928161, -1.31979165, -1.23073869, -0.6306751 ,  1.82901741,\n",
       "        0.63169166, -1.52506889, -0.33002468])"
      ]
     },
     "execution_count": 52,
     "metadata": {},
     "output_type": "execute_result"
    }
   ],
   "source": [
    "state_representation[:,0]"
   ]
  },
  {
   "cell_type": "code",
   "execution_count": 53,
   "metadata": {},
   "outputs": [
    {
     "data": {
      "text/plain": [
       "array([-0.00928161, -1.31979165, -1.23073869, -0.6306751 ,  1.82901741,\n",
       "        0.63169166, -1.52506889, -0.33002468])"
      ]
     },
     "execution_count": 53,
     "metadata": {},
     "output_type": "execute_result"
    }
   ],
   "source": [
    "state0[:,0]"
   ]
  },
  {
   "cell_type": "code",
   "execution_count": 54,
   "metadata": {},
   "outputs": [
    {
     "data": {
      "text/plain": [
       "array([ 0.29027467, -0.94921706, -0.2880725 , -1.00150235, -0.0263616 ,\n",
       "        0.27941611, -1.92751527, -0.64262239])"
      ]
     },
     "execution_count": 54,
     "metadata": {},
     "output_type": "execute_result"
    }
   ],
   "source": [
    "state_representation[:,1]"
   ]
  },
  {
   "cell_type": "code",
   "execution_count": 55,
   "metadata": {},
   "outputs": [],
   "source": [
    "y1 = state_representation[:,:-1]\n",
    "y2 = state_representation[:,1:]\n",
    "Ahat =np.dot(y2,np.linalg.pinv(y1))"
   ]
  },
  {
   "cell_type": "code",
   "execution_count": 56,
   "metadata": {},
   "outputs": [
    {
     "data": {
      "text/plain": [
       "[<matplotlib.lines.Line2D at 0x7fa860393a90>]"
      ]
     },
     "execution_count": 56,
     "metadata": {},
     "output_type": "execute_result"
    },
    {
     "data": {
      "image/png": "[encoded data removed]",
      "text/plain": [
       "<Figure size 432x288 with 1 Axes>"
      ]
     },
     "metadata": {},
     "output_type": "display_data"
    }
   ],
   "source": [
    "plt.plot(state_representation[:,1])\n",
    "plt.plot(np.dot(Ahat,state0),linestyle='--')\n"
   ]
  },
  {
   "cell_type": "code",
   "execution_count": null,
   "metadata": {},
   "outputs": [],
   "source": []
  },
  {
   "cell_type": "code",
   "execution_count": 57,
   "metadata": {},
   "outputs": [
    {
     "data": {
      "text/plain": [
       "<matplotlib.image.AxesImage at 0x7fa8916ee4d0>"
      ]
     },
     "execution_count": 57,
     "metadata": {},
     "output_type": "execute_result"
    },
    {
     "data": {
      "image/png": "[encoded data removed]",
      "text/plain": [
       "<Figure size 432x288 with 2 Axes>"
      ]
     },
     "metadata": {},
     "output_type": "display_data"
    }
   ],
   "source": [
    "plt.subplot(1,2,1)\n",
    "plt.imshow(A)\n",
    "plt.subplot(1,2,2)\n",
    "plt.imshow(Ahat)\n",
    "#plt.colorbar()"
   ]
  },
  {
   "cell_type": "code",
   "execution_count": 58,
   "metadata": {},
   "outputs": [
    {
     "data": {
      "text/plain": [
       "array([[ 0.48820043,  0.68778021, -0.74983668, -1.42814413,  0.94448476,\n",
       "        -1.20864679,  0.84042238,  0.91902328],\n",
       "       [-1.67261961, -1.17338598,  1.67550531,  0.55164437, -0.45557277,\n",
       "         2.89062859,  0.90881829, -0.87849774],\n",
       "       [-1.09209484, -1.07484987,  1.52413566,  0.08862413, -0.02556401,\n",
       "         1.57171653,  0.40001129,  0.36700122],\n",
       "       [-0.42734893, -0.59394554,  0.34679938,  0.43708181, -0.20174576,\n",
       "         0.98466192,  0.95974336, -0.37509723],\n",
       "       [-1.03494841, -0.37984793,  0.12814358, -0.0034214 ,  1.11441001,\n",
       "        -0.7978243 ,  1.14899092,  0.49614557],\n",
       "       [-0.85547005, -0.28882837,  0.19212775, -0.19046103,  0.36863219,\n",
       "         0.65237953,  0.69933199,  0.03995222],\n",
       "       [-0.52520354, -0.03787736, -0.11325448, -0.85994692,  0.19516643,\n",
       "        -0.69577084,  1.5323804 ,  0.74109147],\n",
       "       [-0.88447925, -0.02972273, -0.01152337, -0.04953054,  0.27773034,\n",
       "         0.0273873 ,  0.61816512,  0.96359183]])"
      ]
     },
     "execution_count": 58,
     "metadata": {},
     "output_type": "execute_result"
    }
   ],
   "source": [
    "A"
   ]
  },
  {
   "cell_type": "code",
   "execution_count": 59,
   "metadata": {},
   "outputs": [
    {
     "data": {
      "text/plain": [
       "(array([0.46063911+0.88758752j, 0.46063911-0.88758752j,\n",
       "        0.53414314+0.84539405j, 0.53414314-0.84539405j,\n",
       "        0.90751681+0.42001576j, 0.90751681-0.42001576j,\n",
       "        0.86709778+0.49813798j, 0.86709778-0.49813798j]),\n",
       " array([[-0.31439849-0.26294664j, -0.31439849+0.26294664j,\n",
       "          0.32837125-0.24567588j,  0.32837125+0.24567588j,\n",
       "         -0.36823497+0.17013591j, -0.36823497-0.17013591j,\n",
       "          0.45600346+0.02956183j,  0.45600346-0.02956183j],\n",
       "        [-0.46685154+0.j        , -0.46685154-0.j        ,\n",
       "          0.42362716+0.j        ,  0.42362716-0.j        ,\n",
       "         -0.36068588-0.16993256j, -0.36068588+0.16993256j,\n",
       "          0.09179223+0.04237123j,  0.09179223-0.04237123j],\n",
       "        [-0.2860419 -0.11953322j, -0.2860419 +0.11953322j,\n",
       "          0.15913329-0.1864834j ,  0.15913329+0.1864834j ,\n",
       "         -0.57438104+0.j        , -0.57438104-0.j        ,\n",
       "          0.37203904-0.17942738j,  0.37203904+0.17942738j],\n",
       "        [-0.43440745+0.03124838j, -0.43440745-0.03124838j,\n",
       "          0.28688015-0.07897239j,  0.28688015+0.07897239j,\n",
       "         -0.16030869+0.0330322j , -0.16030869-0.0330322j ,\n",
       "          0.28024523+0.12623708j,  0.28024523-0.12623708j],\n",
       "        [-0.1898606 -0.15192865j, -0.1898606 +0.15192865j,\n",
       "          0.38849374+0.07144545j,  0.38849374-0.07144545j,\n",
       "         -0.21561623+0.10702138j, -0.21561623-0.10702138j,\n",
       "          0.46183718+0.j        ,  0.46183718-0.j        ],\n",
       "        [-0.16906529-0.15951366j, -0.16906529+0.15951366j,\n",
       "          0.3616277 +0.0354188j ,  0.3616277 -0.0354188j ,\n",
       "         -0.11324486-0.11174978j, -0.11324486+0.11174978j,\n",
       "          0.13467439+0.12234499j,  0.13467439-0.12234499j],\n",
       "        [-0.26356666-0.36750196j, -0.26356666+0.36750196j,\n",
       "          0.28418163+0.1301893j ,  0.28418163-0.1301893j ,\n",
       "         -0.32745136-0.00907529j, -0.32745136+0.00907529j,\n",
       "          0.26322423+0.25933703j,  0.26322423-0.25933703j],\n",
       "        [-0.08187928-0.06230172j, -0.08187928+0.06230172j,\n",
       "          0.31747634-0.13099155j,  0.31747634+0.13099155j,\n",
       "         -0.32149277-0.1608139j , -0.32149277+0.1608139j ,\n",
       "          0.30409992+0.20116377j,  0.30409992-0.20116377j]]))"
      ]
     },
     "execution_count": 59,
     "metadata": {},
     "output_type": "execute_result"
    }
   ],
   "source": [
    "np.linalg.eig(Ahat)"
   ]
  },
  {
   "cell_type": "code",
   "execution_count": 300,
   "metadata": {},
   "outputs": [],
   "source": [
    "state_representation2 = [state0]\n",
    "for _ in range(1,n_states):\n",
    "    tmp = np.dot(Ahat,state_representation2[-1])\n",
    "    state_representation2.append(tmp.copy())\n",
    "    \n",
    "#this is now n_states n_timepoints \n",
    "state_representation2 = np.hstack(state_representation2)"
   ]
  },
  {
   "cell_type": "code",
   "execution_count": 301,
   "metadata": {},
   "outputs": [],
   "source": [
    "assert np.allclose(state_representation,state_representation2)"
   ]
  },
  {
   "cell_type": "code",
   "execution_count": 302,
   "metadata": {},
   "outputs": [
    {
     "data": {
      "text/plain": [
       "array([-0.72235655, -0.93675712, -1.12567984,  1.10369997])"
      ]
     },
     "execution_count": 302,
     "metadata": {},
     "output_type": "execute_result"
    }
   ],
   "source": [
    "np.dot(Ahat,state_representation[:,-1])"
   ]
  },
  {
   "cell_type": "code",
   "execution_count": null,
   "metadata": {},
   "outputs": [],
   "source": [
    "state_representation[:,]"
   ]
  },
  {
   "cell_type": "code",
   "execution_count": 303,
   "metadata": {},
   "outputs": [
    {
     "data": {
      "text/plain": [
       "array([-0.72235655, -0.93675712, -1.12567984,  1.10369997])"
      ]
     },
     "execution_count": 303,
     "metadata": {},
     "output_type": "execute_result"
    }
   ],
   "source": [
    "np.dot(A,state_representation[:,-1])"
   ]
  },
  {
   "cell_type": "markdown",
   "metadata": {},
   "source": [
    "# Now tackle the complex case \n",
    "\n",
    "\n",
    "I think it just naively works to factor the time series"
   ]
  },
  {
   "cell_type": "code",
   "execution_count": 7,
   "metadata": {},
   "outputs": [],
   "source": [
    "from sklearn.decomposition import PCA"
   ]
  },
  {
   "cell_type": "code",
   "execution_count": 8,
   "metadata": {},
   "outputs": [],
   "source": [
    "pca = PCA()"
   ]
  },
  {
   "cell_type": "code",
   "execution_count": null,
   "metadata": {},
   "outputs": [],
   "source": []
  }
 ],
 "metadata": {
  "kernelspec": {
   "display_name": "Python 3",
   "language": "python",
   "name": "python3"
  },
  "language_info": {
   "codemirror_mode": {
    "name": "ipython",
    "version": 3
   },
   "file_extension": ".py",
   "mimetype": "text/x-python",
   "name": "python",
   "nbconvert_exporter": "python",
   "pygments_lexer": "ipython3",
   "version": "3.7.4"
  }
 },
 "nbformat": 4,
 "nbformat_minor": 2
}
