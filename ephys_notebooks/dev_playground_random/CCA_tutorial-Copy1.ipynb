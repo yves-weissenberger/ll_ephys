{
 "cells": [
  {
   "cell_type": "markdown",
   "metadata": {},
   "source": [
    "# CCA explore\n",
    "\n",
    "\n",
    "## Here try to get to grips with CCA\n",
    "\n",
    "The basic approach is the following. You have two things that have the same underlying dynamics in different subspaces. What I guess you are doing is solving an eigenvalue problem on the cross covariance matrix?? Is that right?\n",
    "\n",
    "In other way what you do is to do an SVD on both data matrices. Then you\n",
    "\n",
    "\n",
    "## Interpretation\n",
    "\n",
    "What is the prediction of the principal angles between movements in different directions...?\n",
    "\n",
    "\n",
    "## CCA just works\n",
    "\n",
    "CCA will just naively work here since it is a rotation of the data"
   ]
  },
  {
   "cell_type": "code",
   "execution_count": 479,
   "metadata": {},
   "outputs": [],
   "source": [
    "%matplotlib inline\n",
    "\n",
    "import numpy as np\n",
    "import matplotlib.pyplot as plt\n",
    "import seaborn\n",
    "seaborn.set(font_scale=1.5,style='ticks')"
   ]
  },
  {
   "cell_type": "code",
   "execution_count": 480,
   "metadata": {},
   "outputs": [],
   "source": [
    "n_neurons = 200\n",
    "n_timepoints = 9\n",
    "n_dims = 2\n",
    "\n",
    "t = np.linspace(0,(2*np.pi)*(n_timepoints)/n_timepoints,num=9)\n",
    "#t = np.linspace(0,(2*np.pi),num=n_timepoints)\n",
    "\n",
    "#dyn_mtx = np.random.normal(size=(n_dims,n_timepoints))\n",
    "dyn_mtx = np.vstack([np.sin(t),np.cos(t)])\n",
    "if n_dims==4: dyn_mtx = np.vstack([[np.sin(t),np.cos(t)],[np.sin(2*t),np.cos(2*t)]])\n",
    "\n",
    "#print(dyn_mtx.shape)"
   ]
  },
  {
   "cell_type": "code",
   "execution_count": 481,
   "metadata": {},
   "outputs": [],
   "source": [
    "P1 = np.random.normal(size=(n_neurons,n_dims))\n",
    "P2 = np.random.normal(size=(n_neurons,n_dims))"
   ]
  },
  {
   "cell_type": "code",
   "execution_count": 482,
   "metadata": {},
   "outputs": [],
   "source": [
    "D1 = np.fliplr(np.roll(np.dot(P1,dyn_mtx),1,axis=1)) + .5*np.random.normal(size=(n_neurons,1))@np.random.normal(size=(1,n_timepoints))\n",
    "D2 = np.dot(P1,dyn_mtx) + .5*np.random.normal(size=(n_neurons,1))@np.random.normal(size=(1,n_timepoints))\n",
    "#D2 = D2[:,np.random.permutation(np.arange(n_timepoints))]"
   ]
  },
  {
   "cell_type": "code",
   "execution_count": 483,
   "metadata": {},
   "outputs": [],
   "source": [
    "#D1 = np.dot(P1,dyn_mtx)\n",
    "#D2 = np.dot(P2,dyn_mtx) #+ 5 + get_noise(n_neurons,n_timepoints,2)\n",
    "#D2 = D2[:,np.random.permutation(np.arange(9))]"
   ]
  },
  {
   "cell_type": "code",
   "execution_count": 484,
   "metadata": {},
   "outputs": [],
   "source": [
    "#from sklearn"
   ]
  },
  {
   "cell_type": "code",
   "execution_count": 485,
   "metadata": {},
   "outputs": [],
   "source": [
    "D1 = (D1 - np.mean(D1,axis=0))\n",
    "D2 = (D2 - np.mean(D2,axis=0))"
   ]
  },
  {
   "cell_type": "code",
   "execution_count": null,
   "metadata": {},
   "outputs": [],
   "source": []
  },
  {
   "cell_type": "markdown",
   "metadata": {},
   "source": [
    "# Run da model "
   ]
  },
  {
   "cell_type": "code",
   "execution_count": 486,
   "metadata": {},
   "outputs": [],
   "source": [
    "U1,S1,V1 = np.linalg.svd(D1)\n",
    "U2,S2,V2 = np.linalg.svd(D2)"
   ]
  },
  {
   "cell_type": "code",
   "execution_count": 487,
   "metadata": {},
   "outputs": [],
   "source": [
    "hat_dims = 4\n",
    "Uhat1 = U1[:,:hat_dims]\n",
    "Uhat2 = U2[:,:hat_dims]"
   ]
  },
  {
   "cell_type": "code",
   "execution_count": null,
   "metadata": {},
   "outputs": [],
   "source": []
  },
  {
   "cell_type": "code",
   "execution_count": 489,
   "metadata": {},
   "outputs": [],
   "source": [
    "prods = Uhat1.T@Uhat2"
   ]
  },
  {
   "cell_type": "code",
   "execution_count": 490,
   "metadata": {},
   "outputs": [],
   "source": [
    "Uo,So,Vo = np.linalg.svd(prods)"
   ]
  },
  {
   "cell_type": "code",
   "execution_count": 491,
   "metadata": {},
   "outputs": [
    {
     "data": {
      "text/plain": [
       "array([1.        , 1.        , 0.25570909, 0.01256339])"
      ]
     },
     "execution_count": 491,
     "metadata": {},
     "output_type": "execute_result"
    }
   ],
   "source": [
    "So"
   ]
  },
  {
   "cell_type": "code",
   "execution_count": 492,
   "metadata": {},
   "outputs": [],
   "source": [
    "import math"
   ]
  },
  {
   "cell_type": "code",
   "execution_count": 493,
   "metadata": {},
   "outputs": [
    {
     "data": {
      "text/plain": [
       "array([0.00000000e+00, 2.10734243e-08, 1.31221522e+00, 1.55823261e+00])"
      ]
     },
     "execution_count": 493,
     "metadata": {},
     "output_type": "execute_result"
    }
   ],
   "source": [
    "np.arccos(So)"
   ]
  },
  {
   "cell_type": "code",
   "execution_count": 494,
   "metadata": {},
   "outputs": [
    {
     "data": {
      "text/plain": [
       "array([0.00000000e+00, 1.20741827e-06, 7.51843938e+01, 8.92801519e+01])"
      ]
     },
     "execution_count": 494,
     "metadata": {},
     "output_type": "execute_result"
    }
   ],
   "source": [
    "np.rad2deg(np.arccos(So))"
   ]
  },
  {
   "cell_type": "code",
   "execution_count": 495,
   "metadata": {},
   "outputs": [],
   "source": [
    "L1 = np.dot(Uhat1.T,D1)\n",
    "L2 = np.dot(Uhat2.T,D2)"
   ]
  },
  {
   "cell_type": "code",
   "execution_count": 496,
   "metadata": {},
   "outputs": [],
   "source": [
    "Q1,R1 = np.linalg.qr(L1.T)\n",
    "Q2,R2 = np.linalg.qr(L2.T)"
   ]
  },
  {
   "cell_type": "code",
   "execution_count": 497,
   "metadata": {},
   "outputs": [
    {
     "data": {
      "text/plain": [
       "(4, 4)"
      ]
     },
     "execution_count": 497,
     "metadata": {},
     "output_type": "execute_result"
    }
   ],
   "source": [
    "R1.shape"
   ]
  },
  {
   "cell_type": "code",
   "execution_count": 498,
   "metadata": {},
   "outputs": [],
   "source": [
    "Ub,Sb,Vb = np.linalg.svd(Q1.T@Q2)"
   ]
  },
  {
   "cell_type": "code",
   "execution_count": 499,
   "metadata": {},
   "outputs": [],
   "source": [
    "#np.linalg.inv(R1)"
   ]
  },
  {
   "cell_type": "code",
   "execution_count": 500,
   "metadata": {},
   "outputs": [],
   "source": [
    "#np.linalg.inv(R1)"
   ]
  },
  {
   "cell_type": "code",
   "execution_count": 501,
   "metadata": {},
   "outputs": [],
   "source": [
    "M1 = np.linalg.pinv(R1)@Ub\n",
    "M2 = np.linalg.pinv(R2)@Vb.T"
   ]
  },
  {
   "cell_type": "code",
   "execution_count": 502,
   "metadata": {},
   "outputs": [
    {
     "data": {
      "text/plain": [
       "(4, 9)"
      ]
     },
     "execution_count": 502,
     "metadata": {},
     "output_type": "execute_result"
    }
   ],
   "source": [
    "L1.shape"
   ]
  },
  {
   "cell_type": "code",
   "execution_count": 503,
   "metadata": {},
   "outputs": [
    {
     "data": {
      "text/plain": [
       "(4, 9)"
      ]
     },
     "execution_count": 503,
     "metadata": {},
     "output_type": "execute_result"
    }
   ],
   "source": [
    "np.dot(M1.T,L1).shape"
   ]
  },
  {
   "cell_type": "code",
   "execution_count": 504,
   "metadata": {},
   "outputs": [
    {
     "data": {
      "text/plain": [
       "(4, 9)"
      ]
     },
     "execution_count": 504,
     "metadata": {},
     "output_type": "execute_result"
    }
   ],
   "source": [
    "np.dot(M2.T,L2).shape"
   ]
  },
  {
   "cell_type": "code",
   "execution_count": 505,
   "metadata": {},
   "outputs": [],
   "source": [
    "Uf,Sf,Vf = np.linalg.svd(np.dot(M1.T,L1).T@np.dot(M2.T,L2))"
   ]
  },
  {
   "cell_type": "code",
   "execution_count": 506,
   "metadata": {},
   "outputs": [
    {
     "data": {
      "text/plain": [
       "1.5707963267948966"
      ]
     },
     "execution_count": 506,
     "metadata": {},
     "output_type": "execute_result"
    }
   ],
   "source": [
    "math.acos(0)"
   ]
  },
  {
   "cell_type": "code",
   "execution_count": 507,
   "metadata": {},
   "outputs": [
    {
     "data": {
      "text/plain": [
       "array([0.00000000e+00, 8.53773646e-07, 7.25294703e+01, 9.00000000e+01,\n",
       "       9.00000000e+01, 9.00000000e+01, 9.00000000e+01, 9.00000000e+01,\n",
       "       9.00000000e+01])"
      ]
     },
     "execution_count": 507,
     "metadata": {},
     "output_type": "execute_result"
    }
   ],
   "source": [
    "np.rad2deg(np.nan_to_num(np.arccos(Sf),0))"
   ]
  },
  {
   "cell_type": "code",
   "execution_count": 508,
   "metadata": {},
   "outputs": [
    {
     "data": {
      "text/plain": [
       "array([[1.        , 0.94096907],\n",
       "       [0.94096907, 1.        ]])"
      ]
     },
     "execution_count": 508,
     "metadata": {},
     "output_type": "execute_result"
    }
   ],
   "source": [
    "ix = 1\n",
    "np.corrcoef(np.dot(M1.T,L1)[ix],np.dot(M2.T,L2)[ix])"
   ]
  },
  {
   "cell_type": "code",
   "execution_count": 509,
   "metadata": {},
   "outputs": [
    {
     "data": {
      "text/plain": [
       "[<matplotlib.lines.Line2D at 0x7fa611e27e50>]"
      ]
     },
     "execution_count": 509,
     "metadata": {},
     "output_type": "execute_result"
    },
    {
     "data": {
      "image/png": "[encoded data removed]",
      "text/plain": [
       "<Figure size 432x288 with 2 Axes>"
      ]
     },
     "metadata": {},
     "output_type": "display_data"
    }
   ],
   "source": [
    "ix = 0\n",
    "\n",
    "plt.subplot(1,2,1)\n",
    "plt.plot(L1[0],L1[1])\n",
    "plt.plot(L2[0],L2[1])\n",
    "\n",
    "\n",
    "plt.subplot(1,2,2)\n",
    "plt.plot(np.dot(M1.T,L1)[ix],np.dot(M1.T,L1)[ix+1])\n",
    "plt.plot(np.dot(M2.T,L2)[ix],np.dot(M2.T,L2)[ix+1])\n"
   ]
  },
  {
   "cell_type": "code",
   "execution_count": 510,
   "metadata": {},
   "outputs": [
    {
     "data": {
      "text/plain": [
       "array([ 0.1505971 ,  0.56177292,  0.48288516,  0.17199887,  0.00992784,\n",
       "       -0.43387125, -0.40618974, -0.13473513,  0.1219223 ])"
      ]
     },
     "execution_count": 510,
     "metadata": {},
     "output_type": "execute_result"
    }
   ],
   "source": [
    "np.dot(M2.T,L2)[1]"
   ]
  },
  {
   "cell_type": "code",
   "execution_count": 511,
   "metadata": {},
   "outputs": [
    {
     "data": {
      "text/plain": [
       "array([ 0.41935849,  0.17370397, -0.17370397, -0.41935849, -0.41935849,\n",
       "       -0.17370397,  0.17370397,  0.41935849,  0.41935849])"
      ]
     },
     "execution_count": 511,
     "metadata": {},
     "output_type": "execute_result"
    }
   ],
   "source": [
    "np.dot(M2.T,L2)[0]"
   ]
  },
  {
   "cell_type": "code",
   "execution_count": 512,
   "metadata": {},
   "outputs": [
    {
     "data": {
      "text/plain": [
       "array([ 0.17833272,  0.47515401,  0.50079314,  0.19211233, -0.22514915,\n",
       "       -0.45684603, -0.34270319, -0.11305989, -0.13496909])"
      ]
     },
     "execution_count": 512,
     "metadata": {},
     "output_type": "execute_result"
    }
   ],
   "source": [
    "np.dot(M1.T,L1)[1]"
   ]
  },
  {
   "cell_type": "code",
   "execution_count": 513,
   "metadata": {},
   "outputs": [
    {
     "data": {
      "text/plain": [
       "array([ 0.41935849,  0.17370397, -0.17370397, -0.41935849, -0.41935849,\n",
       "       -0.17370397,  0.17370397,  0.41935849,  0.41935849])"
      ]
     },
     "execution_count": 513,
     "metadata": {},
     "output_type": "execute_result"
    }
   ],
   "source": [
    "np.dot(M1.T,L1)[0]"
   ]
  },
  {
   "cell_type": "code",
   "execution_count": null,
   "metadata": {},
   "outputs": [],
   "source": []
  },
  {
   "cell_type": "code",
   "execution_count": null,
   "metadata": {},
   "outputs": [],
   "source": []
  },
  {
   "cell_type": "code",
   "execution_count": null,
   "metadata": {},
   "outputs": [],
   "source": []
  }
 ],
 "metadata": {
  "kernelspec": {
   "display_name": "Python 3",
   "language": "python",
   "name": "python3"
  },
  "language_info": {
   "codemirror_mode": {
    "name": "ipython",
    "version": 3
   },
   "file_extension": ".py",
   "mimetype": "text/x-python",
   "name": "python",
   "nbconvert_exporter": "python",
   "pygments_lexer": "ipython3",
   "version": "3.7.4"
  }
 },
 "nbformat": 4,
 "nbformat_minor": 2
}
