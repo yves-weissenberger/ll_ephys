{
 "cells": [
  {
   "cell_type": "code",
   "execution_count": 1,
   "metadata": {},
   "outputs": [
    {
     "name": "stderr",
     "output_type": "stream",
     "text": [
      "/Users/yves/opt/anaconda3/lib/python3.7/site-packages/statsmodels/tools/_testing.py:19: FutureWarning: pandas.util.testing is deprecated. Use the functions in the public API at pandas.testing instead.\n",
      "  import pandas.util.testing as tm\n"
     ]
    }
   ],
   "source": [
    "%matplotlib inline\n",
    "\n",
    "import numpy as np\n",
    "import matplotlib.pyplot as plt\n",
    "import os\n",
    "import sys\n",
    "import seaborn\n",
    "import networkx as nx\n",
    "import pandas as pd\n",
    "from scipy.ndimage.filters import gaussian_filter1d\n",
    "import scipy.stats as stt\n",
    "import scipy as sp\n",
    "import re\n",
    "\n",
    "clrs = seaborn.color_palette()\n",
    "\n",
    "seaborn.set(font_scale=1.5,style='ticks')\n",
    "\n",
    "\n",
    "#sys.path.append(\"/Users/yves/Desktop/retreat_data_dir/code/\")\n",
    "\n",
    "\n",
    "sys.path.append(\"/Users/yves/Documents/Code/mec_ephys/packages/\")\n",
    "import mecll\n"
   ]
  },
  {
   "cell_type": "code",
   "execution_count": 2,
   "metadata": {},
   "outputs": [],
   "source": [
    "ephys_data_root = \"/Users/yves/Documents/ephys_data/2020_12_17//\""
   ]
  },
  {
   "cell_type": "code",
   "execution_count": 3,
   "metadata": {},
   "outputs": [
    {
     "name": "stdout",
     "output_type": "stream",
     "text": [
      "/Users/yves/Documents/ephys_data/2020_12_17//events/Rhythm_FPGA-107.0/TTL_1/timestamps.npy\n",
      "WARNING! Did not find sync_messages.txt assuming start=0 \n"
     ]
    }
   ],
   "source": [
    "# load ephys data\n",
    "ephys_dataset = mecll.hpc.load_ephys_data(ephys_data_root)"
   ]
  },
  {
   "cell_type": "code",
   "execution_count": 4,
   "metadata": {},
   "outputs": [],
   "source": [
    "path = \"/Users/yves/Documents/ephys_data/data/line_loop_ephys1/'456674_10'-2020-12-17-151542.txt\""
   ]
  },
  {
   "cell_type": "code",
   "execution_count": 5,
   "metadata": {},
   "outputs": [],
   "source": [
    "behaviour_dset = mecll.hpc.load_behavioural_data(path)"
   ]
  },
  {
   "cell_type": "code",
   "execution_count": 6,
   "metadata": {},
   "outputs": [
    {
     "data": {
      "text/plain": [
       "session_behaviour_dataset(experiment_name='line_loop_ephys1', task_name='YW\\\\transition_task_yw_growing_v2', subejct_id='456674_10', date=datetime.datetime(2020, 12, 17, 15, 15, 42))"
      ]
     },
     "execution_count": 6,
     "metadata": {},
     "output_type": "execute_result"
    }
   ],
   "source": [
    "behaviour_dset"
   ]
  },
  {
   "cell_type": "code",
   "execution_count": null,
   "metadata": {},
   "outputs": [],
   "source": []
  }
 ],
 "metadata": {
  "kernelspec": {
   "display_name": "Python 3",
   "language": "python",
   "name": "python3"
  },
  "language_info": {
   "codemirror_mode": {
    "name": "ipython",
    "version": 3
   },
   "file_extension": ".py",
   "mimetype": "text/x-python",
   "name": "python",
   "nbconvert_exporter": "python",
   "pygments_lexer": "ipython3",
   "version": "3.7.4"
  }
 },
 "nbformat": 4,
 "nbformat_minor": 4
}
