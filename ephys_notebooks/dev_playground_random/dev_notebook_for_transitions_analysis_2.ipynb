{
 "cells": [
  {
   "cell_type": "code",
   "execution_count": 1,
   "metadata": {},
   "outputs": [
    {
     "name": "stderr",
     "output_type": "stream",
     "text": [
      "/Users/yves/opt/anaconda3/lib/python3.7/site-packages/statsmodels/tools/_testing.py:19: FutureWarning: pandas.util.testing is deprecated. Use the functions in the public API at pandas.testing instead.\n",
      "  import pandas.util.testing as tm\n"
     ]
    }
   ],
   "source": [
    "%matplotlib inline\n",
    "\n",
    "import matplotlib.pyplot as plt\n",
    "import seaborn\n",
    "import numpy as np\n",
    "import sys\n",
    "import os\n",
    "import re\n",
    "\n",
    "seaborn.set(font_scale=1.5,style='ticks')"
   ]
  },
  {
   "cell_type": "code",
   "execution_count": 2,
   "metadata": {},
   "outputs": [],
   "source": [
    "sys.path.append(\"/Users/yves/Downloads/jPCA-master/\")"
   ]
  },
  {
   "cell_type": "code",
   "execution_count": null,
   "metadata": {},
   "outputs": [],
   "source": []
  },
  {
   "cell_type": "code",
   "execution_count": null,
   "metadata": {},
   "outputs": [],
   "source": []
  },
  {
   "cell_type": "code",
   "execution_count": 3,
   "metadata": {},
   "outputs": [
    {
     "name": "stdout",
     "output_type": "stream",
     "text": [
      "\n"
     ]
    }
   ],
   "source": [
    "\"\"\"def fit(self,\n",
    "            datas,\n",
    "            pca=True,\n",
    "            num_pcs=6, \n",
    "            subtract_cc_mean=True,\n",
    "            tstart=0,\n",
    "            tend=-1,\n",
    "            times=None,\n",
    "            align_axes_to_data=True,\n",
    "            **preprocess_kwargs):\"\"\"\n",
    "print()"
   ]
  },
  {
   "cell_type": "markdown",
   "metadata": {},
   "source": [
    "# Linear algebra testing "
   ]
  },
  {
   "cell_type": "markdown",
   "metadata": {},
   "source": [
    "### Shear tranformation "
   ]
  },
  {
   "cell_type": "code",
   "execution_count": 4,
   "metadata": {},
   "outputs": [],
   "source": [
    "a = np.array([1,2])\n",
    "M = np.array([[1,0],[1,1]])"
   ]
  },
  {
   "cell_type": "code",
   "execution_count": 5,
   "metadata": {},
   "outputs": [
    {
     "name": "stdout",
     "output_type": "stream",
     "text": [
      "[1 2]\n",
      "[1 3]\n",
      "[1 4]\n",
      "[1 5]\n",
      "[1 6]\n",
      "[1 7]\n",
      "[1 8]\n",
      "[1 9]\n",
      "[ 1 10]\n",
      "[ 1 11]\n"
     ]
    }
   ],
   "source": [
    "for i in range(10):\n",
    "    print(a)\n",
    "    a = np.dot(M,a)"
   ]
  },
  {
   "cell_type": "code",
   "execution_count": null,
   "metadata": {},
   "outputs": [],
   "source": []
  },
  {
   "cell_type": "code",
   "execution_count": 6,
   "metadata": {},
   "outputs": [
    {
     "data": {
      "text/plain": [
       "(-5, 5)"
      ]
     },
     "execution_count": 6,
     "metadata": {},
     "output_type": "execute_result"
    },
    {
     "data": {
      "image/png": "[encoded data removed]",
      "text/plain": [
       "<Figure size 432x288 with 1 Axes>"
      ]
     },
     "metadata": {
      "needs_background": "light"
     },
     "output_type": "display_data"
    }
   ],
   "source": [
    "a = np.array([1,2])\n",
    "plt.scatter(a[0],a[1])\n",
    "a = np.dot(M,a)\n",
    "plt.scatter(a[0],a[1])\n",
    "plt.axhline(y=0)\n",
    "plt.axvline(x=0)\n",
    "plt.xlim(-5,5)\n",
    "plt.ylim(-5,5)"
   ]
  },
  {
   "cell_type": "markdown",
   "metadata": {},
   "source": [
    "## build matrix jordan form"
   ]
  },
  {
   "cell_type": "code",
   "execution_count": 7,
   "metadata": {},
   "outputs": [],
   "source": [
    "def get_transition_matrix_for_sim(n=8):\n",
    "    \"\"\" This function builds block diagon\"\"\"\n",
    "    #get blocks with 0 norm\n",
    "    \n",
    "    ndim = n //2\n",
    "    tmp = np.random.uniform(0,1,size=(ndim,2))\n",
    "    tmp /= np.linalg.norm(tmp,axis=1)[:,None]\n",
    "    \n",
    "    M = np.zeros([n,n])\n",
    "    for i,db in enumerate(construct_diagonal_blocks(tmp)):\n",
    "        M[i*2:(i+1)*2,i*2:(i+1)*2] = db\n",
    "        \n",
    "    #note that the eigenvalues of the transition\n",
    "    #matrix here are the eigenvalues of M\n",
    "    A = np.random.uniform(size=(n,n))\n",
    "    transition_matrix = np.dot(A,M).dot(np.linalg.inv(A))\n",
    "    \n",
    "    return transition_matrix"
   ]
  },
  {
   "cell_type": "code",
   "execution_count": null,
   "metadata": {},
   "outputs": [],
   "source": []
  },
  {
   "cell_type": "code",
   "execution_count": 8,
   "metadata": {},
   "outputs": [],
   "source": [
    "#tmp = np.random.uniform(0,1,size=(4,2))\n",
    "#tmp /= np.linalg.norm(tmp,axis=1)[:,None]"
   ]
  },
  {
   "cell_type": "code",
   "execution_count": 9,
   "metadata": {},
   "outputs": [],
   "source": [
    "#[a, -b]\n",
    "#[b, a]\n",
    "def construct_diagonal_blocks(vals):\n",
    "    \"\"\" \n",
    "    https://math.stackexchange.com/questions/1345694/algorithm-for-real-matrix-given-the-complex-eigenvalues/1345699#1345699\n",
    "    https://math.stackexchange.com/questions/3218954/construct-a-real-matrix-for-given-complex-eigenvalues\n",
    "    \"\"\"\n",
    "    arrs = []\n",
    "    for v in vals:\n",
    "        arr = np.zeros([2,2])\n",
    "        arr[0,0] = v[0]\n",
    "        arr[0,1] = -v[1]\n",
    "        arr[1,0] = v[1]\n",
    "        arr[1,1] = v[0]\n",
    "        arrs.append(arr)\n",
    "    return np.array(arrs)\n",
    "\n",
    "def fill_diagonal_blocks(arrs):\n",
    "    return None"
   ]
  },
  {
   "cell_type": "code",
   "execution_count": 10,
   "metadata": {},
   "outputs": [],
   "source": [
    "from scipy.optimize import minimize\n",
    "\n",
    "def skew_sym_regress(X, X_dot, tol=1e-8):\n",
    "    \"\"\"\n",
    "    Original data tensor is C x L x N where N is number of Neurons, L is length of each trial\n",
    "    and C is number of conditions. We stack this to get L*C x N array.\n",
    "    Args\n",
    "    ----\n",
    "    X_dot: First difference of (reduced dimension) data. Shape is T x N\n",
    "\n",
    "    X: reduced dimension data. Shape is T x N\n",
    "    \"\"\"\n",
    "\n",
    "    # 1) Initialize h using the odd part of the least-squares solution.\n",
    "    # 2) call scipy.optimize.minimize and pass in our starting h, and x_dot, \n",
    "    T, N = X.shape\n",
    "    M_lstq, _, _, _ = np.linalg.lstsq(X, X_dot, rcond=None)\n",
    "    M_lstq = M_lstq.T\n",
    "    M_init = 0.5 * (M_lstq - M_lstq.T)\n",
    "    h_init = _reshape_mat2vec(M_init, N)\n",
    "\n",
    "    options=dict(maxiter=10000, gtol=tol)\n",
    "    result = minimize(lambda h: _objective(h, X, X_dot),\n",
    "                    h_init,\n",
    "                    jac=lambda h: _grad_f(h, X, X_dot),\n",
    "                    method='CG',\n",
    "                    options=options)\n",
    "    if not result.success:\n",
    "        print(\"Optimization failed.\")\n",
    "        print(result.message)\n",
    "    M = _reshape_vec2mat(result.x, N)\n",
    "    assert(np.allclose(M, -M.T))\n",
    "    return M"
   ]
  },
  {
   "cell_type": "code",
   "execution_count": 11,
   "metadata": {},
   "outputs": [],
   "source": [
    "\n",
    "def _grad_f(h, X, X_dot):\n",
    "    _, N = X.shape\n",
    "    M = _reshape_vec2mat(h, N)\n",
    "    dM = (X.T @ X @ M.T) - X.T @ X_dot\n",
    "    return _reshape_mat2vec(dM.T - dM, N)\n",
    "\n",
    "\n",
    "def _objective(h, X, X_dot):\n",
    "    _, N = X.shape\n",
    "    M = _reshape_vec2mat(h, N)\n",
    "    return 0.5 * np.linalg.norm(X @ M.T - X_dot, ord='fro')**2\n",
    "\n",
    "\n",
    "def _reshape_vec2mat(h, N):\n",
    "    M = np.zeros((N, N))\n",
    "    upper_tri_indices = np.triu_indices(N, k=1)\n",
    "    M[upper_tri_indices] = h\n",
    "    return M - M.T\n",
    "\n",
    "\n",
    "def _reshape_mat2vec(M, N):\n",
    "    upper_tri_indices = np.triu_indices(N, k=1)\n",
    "    return M[upper_tri_indices]"
   ]
  },
  {
   "cell_type": "markdown",
   "metadata": {},
   "source": [
    "# NOTE TO FUTURE SELF, CONSTRUCT A SIMPLER ROTATION MATRIX THAT ONLY ROTATES ON A 2D PLANE IN R^N"
   ]
  },
  {
   "cell_type": "markdown",
   "metadata": {},
   "source": [
    "# Clean version"
   ]
  },
  {
   "cell_type": "code",
   "execution_count": 12,
   "metadata": {},
   "outputs": [],
   "source": [
    "qorth,roth = np.linalg.qr(np.random.normal(size=(3,3)))"
   ]
  },
  {
   "cell_type": "code",
   "execution_count": 13,
   "metadata": {},
   "outputs": [],
   "source": [
    "nDim = 16\n",
    "A = get_transition_matrix_for_sim(nDim)#  + np.random.normal(scale=.1,size=(3,3))"
   ]
  },
  {
   "cell_type": "code",
   "execution_count": 14,
   "metadata": {},
   "outputs": [],
   "source": [
    "nDim = 4\n",
    "nDim2= 4\n",
    "theta = np.pi/4\n",
    "#A = np.array([[np.cos(theta),-np.sin(theta)],[np.sin(theta),np.cos(theta)]])\n",
    "A = np.array([[np.cos(theta),-np.sin(theta),0,0],\n",
    "              [np.sin(theta),np.cos(theta),0,0],\n",
    "              [np.random.uniform(-1,1),np.random.uniform(-1,1),np.random.uniform(-1,1),np.random.uniform(-1,1)],\n",
    "              [np.random.uniform(-1,1),np.random.uniform(-1,1),0,1]])"
   ]
  },
  {
   "cell_type": "code",
   "execution_count": null,
   "metadata": {},
   "outputs": [],
   "source": []
  },
  {
   "cell_type": "code",
   "execution_count": 452,
   "metadata": {},
   "outputs": [],
   "source": [
    "tmp1 = np.random.normal(size=(nDim,nDim2))\n",
    "#assert np.linalg.matrix_rank(tmp1)==3\n",
    "#invtmp1 = np.linalg.inv(np.dot(tmp1.T,tmp1))\n",
    "P = np.dot(tmp1,np.linalg.inv(np.dot(tmp1.T,tmp1))).dot(tmp1.T)\n",
    "#qorth = np.dot(qorth,qorth.T)"
   ]
  },
  {
   "cell_type": "code",
   "execution_count": 453,
   "metadata": {},
   "outputs": [
    {
     "data": {
      "text/plain": [
       "array([[-0.79612965, -0.3961599 , -0.2441065 ,  0.38684226],\n",
       "       [ 0.17169279, -0.87104993,  0.18795381, -0.42007971],\n",
       "       [ 0.50345983, -0.27354376,  0.0924588 ,  0.8143423 ],\n",
       "       [-0.28849155,  0.09748415,  0.94685625,  0.10359882]])"
      ]
     },
     "execution_count": 453,
     "metadata": {},
     "output_type": "execute_result"
    }
   ],
   "source": [
    "qorth"
   ]
  },
  {
   "cell_type": "code",
   "execution_count": null,
   "metadata": {},
   "outputs": [],
   "source": []
  },
  {
   "cell_type": "code",
   "execution_count": 454,
   "metadata": {},
   "outputs": [],
   "source": [
    "#A = np.dot(P[:,:3],A)"
   ]
  },
  {
   "cell_type": "code",
   "execution_count": 455,
   "metadata": {},
   "outputs": [],
   "source": [
    "qorth,rorth = np.linalg.qr(tmp1)"
   ]
  },
  {
   "cell_type": "code",
   "execution_count": 456,
   "metadata": {},
   "outputs": [],
   "source": [
    "#nDim2 = 5\n",
    "\n",
    "state0 = np.random.normal(size=(nDim,1))"
   ]
  },
  {
   "cell_type": "code",
   "execution_count": 617,
   "metadata": {},
   "outputs": [
    {
     "data": {
      "text/plain": [
       "(4, 9)"
      ]
     },
     "execution_count": 617,
     "metadata": {},
     "output_type": "execute_result"
    }
   ],
   "source": [
    "state_representation.shape"
   ]
  },
  {
   "cell_type": "code",
   "execution_count": 457,
   "metadata": {},
   "outputs": [],
   "source": [
    "n_states = 9\n",
    "state_representation = [state0.copy()]\n",
    "state_noise = np.random.normal(size=(2,nDim2))\n",
    "for _ in range(1,n_states):\n",
    "    tmp = np.dot(A,state_representation[-1])\n",
    "    state_representation.append(tmp.copy())\n",
    "    \n",
    "#this is now n_states n_timepoints \n",
    "state_representation = np.hstack(state_representation) \n",
    "#state_representation += .1*np.random.normal(size=(n_states,2)).dot(state_noise).T"
   ]
  },
  {
   "cell_type": "code",
   "execution_count": 458,
   "metadata": {},
   "outputs": [],
   "source": [
    "#state_representation = np.dot(rorth,state_representation)"
   ]
  },
  {
   "cell_type": "code",
   "execution_count": 467,
   "metadata": {},
   "outputs": [
    {
     "data": {
      "text/plain": [
       "(64, 9)"
      ]
     },
     "execution_count": 467,
     "metadata": {},
     "output_type": "execute_result"
    }
   ],
   "source": [
    "sr2.shape"
   ]
  },
  {
   "cell_type": "code",
   "execution_count": 525,
   "metadata": {},
   "outputs": [
    {
     "data": {
      "text/plain": [
       "(4, 9)"
      ]
     },
     "execution_count": 525,
     "metadata": {},
     "output_type": "execute_result"
    }
   ],
   "source": [
    "state_representation.shape"
   ]
  },
  {
   "cell_type": "code",
   "execution_count": 596,
   "metadata": {},
   "outputs": [],
   "source": [
    "shuff_ccs = []\n",
    "for _ in range(10000):\n",
    "    y = sr2[:,np.random.permutation(np.arange(9))].T\n",
    "    #y = sr2.T\n",
    "    X = np.hstack([np.ones([1,9]).T,state_representation.T.copy()])\n",
    "    b,residuals,rank,singular_vals = np.linalg.lstsq(X,y,rcond=None)\n",
    "    binv = np.linalg.pinv(b)\n",
    "\n",
    "    evar = 1-np.var(np.dot(X,b)-y)/np.var(y)\n",
    "    shuff_ccs.append(evar)"
   ]
  },
  {
   "cell_type": "code",
   "execution_count": 597,
   "metadata": {},
   "outputs": [
    {
     "name": "stdout",
     "output_type": "stream",
     "text": [
      "0.6985929305401248\n"
     ]
    }
   ],
   "source": [
    "shuff_ccs = []\n",
    "for _ in range(10000):\n",
    "    y = sr2[:,np.random.permutation(np.arange(9))].T\n",
    "    #y = sr2.T\n",
    "    X = np.hstack([np.ones([1,9]).T,state_representation.T.copy()])\n",
    "    b,residuals,rank,singular_vals = np.linalg.lstsq(X,y,rcond=None)\n",
    "    binv = np.linalg.pinv(b)\n",
    "\n",
    "    evar = 1-np.var(np.dot(X,b)-y)/np.var(y)\n",
    "    shuff_ccs.append(evar)\n",
    "\n",
    "y = sr2.T\n",
    "X = np.hstack([np.ones([1,9]).T,state_representation.T.copy()])\n",
    "b,residuals,rank,singular_vals = np.linalg.lstsq(X,y,rcond=None)\n",
    "binv = np.linalg.pinv(b)\n",
    "\n",
    "true_evar = 1-np.var(np.dot(X,b)-y)/np.var(y)\n",
    "print(true_evar)\n"
   ]
  },
  {
   "cell_type": "code",
   "execution_count": 599,
   "metadata": {},
   "outputs": [],
   "source": [
    "import scipy.stats as stt"
   ]
  },
  {
   "cell_type": "code",
   "execution_count": 601,
   "metadata": {},
   "outputs": [
    {
     "data": {
      "text/plain": [
       "99.75"
      ]
     },
     "execution_count": 601,
     "metadata": {},
     "output_type": "execute_result"
    }
   ],
   "source": [
    "stt.percentileofscore(shuff_ccs,true_evar)"
   ]
  },
  {
   "cell_type": "code",
   "execution_count": 594,
   "metadata": {},
   "outputs": [
    {
     "data": {
      "text/plain": [
       "<matplotlib.axes._subplots.AxesSubplot at 0x7f8633260250>"
      ]
     },
     "execution_count": 594,
     "metadata": {},
     "output_type": "execute_result"
    },
    {
     "data": {
      "image/png": "[encoded data removed]",
      "text/plain": [
       "<Figure size 432x288 with 1 Axes>"
      ]
     },
     "metadata": {
      "needs_background": "light"
     },
     "output_type": "display_data"
    }
   ],
   "source": [
    "seaborn.distplot(shuff_ccs,kde=0)"
   ]
  },
  {
   "cell_type": "code",
   "execution_count": 572,
   "metadata": {},
   "outputs": [
    {
     "data": {
      "text/plain": [
       "[<matplotlib.lines.Line2D at 0x7f85f1a04e10>]"
      ]
     },
     "execution_count": 572,
     "metadata": {},
     "output_type": "execute_result"
    },
    {
     "data": {
      "image/png": "[encoded data removed]",
      "text/plain": [
       "<Figure size 432x288 with 1 Axes>"
      ]
     },
     "metadata": {
      "needs_background": "light"
     },
     "output_type": "display_data"
    }
   ],
   "source": [
    "plt.plot(np.dot(X,b)[0])\n",
    "plt.plot(y[0])"
   ]
  },
  {
   "cell_type": "code",
   "execution_count": 573,
   "metadata": {},
   "outputs": [
    {
     "data": {
      "text/plain": [
       "(9, 5)"
      ]
     },
     "execution_count": 573,
     "metadata": {},
     "output_type": "execute_result"
    }
   ],
   "source": [
    "X.shape"
   ]
  },
  {
   "cell_type": "code",
   "execution_count": 574,
   "metadata": {},
   "outputs": [
    {
     "data": {
      "text/plain": [
       "(9, 5)"
      ]
     },
     "execution_count": 574,
     "metadata": {},
     "output_type": "execute_result"
    }
   ],
   "source": [
    "X.shape"
   ]
  },
  {
   "cell_type": "code",
   "execution_count": 575,
   "metadata": {},
   "outputs": [
    {
     "data": {
      "text/plain": [
       "(9, 64)"
      ]
     },
     "execution_count": 575,
     "metadata": {},
     "output_type": "execute_result"
    }
   ],
   "source": [
    "y.shape"
   ]
  },
  {
   "cell_type": "code",
   "execution_count": 576,
   "metadata": {},
   "outputs": [
    {
     "data": {
      "text/plain": [
       "array([], dtype=float64)"
      ]
     },
     "execution_count": 576,
     "metadata": {},
     "output_type": "execute_result"
    }
   ],
   "source": [
    "residuals"
   ]
  },
  {
   "cell_type": "code",
   "execution_count": 577,
   "metadata": {},
   "outputs": [
    {
     "data": {
      "text/plain": [
       "array([ 995.95238527,  553.68292629,  432.12503093,  370.40530825,\n",
       "        630.08667005,  115.08337121,  268.8768894 ,  227.84429465,\n",
       "        280.41331399,  354.62778273,  151.1113179 ,  924.90934588,\n",
       "        143.51498741,  177.54801438,  332.46527884,  195.90310976,\n",
       "        261.85750158,   79.13107701,  123.36806347,   74.36307782,\n",
       "        999.79216738,  160.98953582,  335.1021476 ,  155.21699082,\n",
       "        308.72068802,  253.78421625,  295.31477244,  341.78153207,\n",
       "        310.95514147,  378.46769459,  931.29221366,  232.03300486,\n",
       "         99.75199217, 1112.7756265 ,  158.75107311,  228.83511771,\n",
       "        935.1629058 ,  230.36466661,   84.21857866,  636.23116656,\n",
       "        733.47299863,  236.13502458,  151.8095464 ,  149.47891364,\n",
       "        169.01598108,  435.82847448,  961.42284306,  300.63153968,\n",
       "        104.68587407,  133.84352564,  275.51980445, 1166.09380278,\n",
       "        137.31362121,  314.11321293,  996.63475388,   79.54077034,\n",
       "        456.90607057,  147.05576066,  208.31151621,  421.18275025,\n",
       "        364.82054797,  166.69570984,  139.76797849,   40.67039168])"
      ]
     },
     "execution_count": 577,
     "metadata": {},
     "output_type": "execute_result"
    }
   ],
   "source": [
    "np.sum((y-np.mean(y,axis=0))**2,axis=0)"
   ]
  },
  {
   "cell_type": "code",
   "execution_count": 578,
   "metadata": {},
   "outputs": [
    {
     "ename": "ValueError",
     "evalue": "operands could not be broadcast together with shapes (0,) (64,) ",
     "output_type": "error",
     "traceback": [
      "\u001b[0;31m---------------------------------------------------------------------------\u001b[0m",
      "\u001b[0;31mValueError\u001b[0m                                Traceback (most recent call last)",
      "\u001b[0;32m<ipython-input-578-9d98fbdf824e>\u001b[0m in \u001b[0;36m<module>\u001b[0;34m\u001b[0m\n\u001b[0;32m----> 1\u001b[0;31m \u001b[0;36m1\u001b[0m\u001b[0;34m-\u001b[0m\u001b[0mnp\u001b[0m\u001b[0;34m.\u001b[0m\u001b[0mmean\u001b[0m\u001b[0;34m(\u001b[0m\u001b[0mresiduals\u001b[0m\u001b[0;34m/\u001b[0m\u001b[0mnp\u001b[0m\u001b[0;34m.\u001b[0m\u001b[0msum\u001b[0m\u001b[0;34m(\u001b[0m\u001b[0;34m(\u001b[0m\u001b[0my\u001b[0m\u001b[0;34m-\u001b[0m\u001b[0mnp\u001b[0m\u001b[0;34m.\u001b[0m\u001b[0mmean\u001b[0m\u001b[0;34m(\u001b[0m\u001b[0my\u001b[0m\u001b[0;34m,\u001b[0m\u001b[0maxis\u001b[0m\u001b[0;34m=\u001b[0m\u001b[0;36m0\u001b[0m\u001b[0;34m)\u001b[0m\u001b[0;34m)\u001b[0m\u001b[0;34m**\u001b[0m\u001b[0;36m2\u001b[0m\u001b[0;34m,\u001b[0m\u001b[0maxis\u001b[0m\u001b[0;34m=\u001b[0m\u001b[0;36m0\u001b[0m\u001b[0;34m)\u001b[0m\u001b[0;34m)\u001b[0m\u001b[0;34m\u001b[0m\u001b[0;34m\u001b[0m\u001b[0m\n\u001b[0m",
      "\u001b[0;31mValueError\u001b[0m: operands could not be broadcast together with shapes (0,) (64,) "
     ]
    }
   ],
   "source": [
    "1-np.mean(residuals/np.sum((y-np.mean(y,axis=0))**2,axis=0))"
   ]
  },
  {
   "cell_type": "code",
   "execution_count": 489,
   "metadata": {},
   "outputs": [
    {
     "data": {
      "text/plain": [
       "array([110.66137614,  61.52032514,  48.01389233,  41.15614536,\n",
       "        70.00963001,  12.78704125,  29.87520993,  25.31603274,\n",
       "        31.15703489,  39.40308697,  16.79014643, 102.7677051 ,\n",
       "        15.94610971,  19.72755715,  36.94058654,  21.7670122 ,\n",
       "        29.09527795,   8.79234189,  13.70756261,   8.2625642 ,\n",
       "       111.0880186 ,  17.8877262 ,  37.23357196,  17.24633231,\n",
       "        34.30229867,  28.19824625,  32.81275249,  37.97572579,\n",
       "        34.55057127,  42.05196607, 103.47691263,  25.78144498,\n",
       "        11.08355469, 123.64173628,  17.63900812,  25.42612419,\n",
       "       103.90698953,  25.59607407,   9.35761985,  70.69235184,\n",
       "        81.49699985,  26.23722495,  16.86772738,  16.60876818,\n",
       "        18.77955345,  48.42538605, 106.82476034,  33.40350441,\n",
       "        11.63176379,  14.87150285,  30.61331161, 129.56597809,\n",
       "        15.25706902,  34.9014681 , 110.73719488,   8.83786337,\n",
       "        50.76734117,  16.33952896,  23.14572402,  46.79808336,\n",
       "        40.53561644,  18.52174554,  15.52977539,   4.51893241])"
      ]
     },
     "execution_count": 489,
     "metadata": {},
     "output_type": "execute_result"
    }
   ],
   "source": [
    "np.sum(y.var(axis=0))"
   ]
  },
  {
   "cell_type": "code",
   "execution_count": 480,
   "metadata": {},
   "outputs": [
    {
     "data": {
      "text/plain": [
       "array([620.47673962, 418.87360266, 264.47629629, 322.93442416,\n",
       "       609.14578929, 109.87410972, 247.29010856, 118.74543784,\n",
       "       201.80096788, 240.60847126, 134.00467846, 788.17511692,\n",
       "        81.49658675, 126.00364762, 305.13415204, 142.75576097,\n",
       "       231.17731522,  70.57858072,  45.67708473,  28.06402046,\n",
       "       517.29795961,  66.51863114, 245.10153208, 136.31866073,\n",
       "       209.34650143, 216.66967253, 251.13866173, 335.17669072,\n",
       "       253.81058286, 292.34070003, 796.00873413, 136.31450374,\n",
       "        72.66537909, 978.8013921 , 148.77519739, 107.33880778,\n",
       "       806.25148615, 144.65872637,  33.60538212, 472.55976749,\n",
       "       594.99948231, 185.9841913 , 144.39381514, 139.89522577,\n",
       "       122.18571245, 395.45538715, 914.74269495, 263.2362842 ,\n",
       "        92.57350061, 101.77806307, 253.46309859, 923.41475424,\n",
       "       103.8456671 , 122.53275308, 920.89145781,  52.32283993,\n",
       "       261.35579924, 127.75429615, 125.31809721, 392.43482541,\n",
       "       335.72631883, 138.06772101,  69.98383285,  34.13192563])"
      ]
     },
     "execution_count": 480,
     "metadata": {},
     "output_type": "execute_result"
    }
   ],
   "source": [
    "residuals"
   ]
  },
  {
   "cell_type": "code",
   "execution_count": 475,
   "metadata": {},
   "outputs": [],
   "source": [
    "#binv = np.linalg.pinv(b)"
   ]
  },
  {
   "cell_type": "code",
   "execution_count": 462,
   "metadata": {},
   "outputs": [
    {
     "data": {
      "text/plain": [
       "[<matplotlib.lines.Line2D at 0x7f85f19cab10>]"
      ]
     },
     "execution_count": 462,
     "metadata": {},
     "output_type": "execute_result"
    },
    {
     "data": {
      "image/png": "[encoded data removed]",
      "text/plain": [
       "<Figure size 432x288 with 1 Axes>"
      ]
     },
     "metadata": {
      "needs_background": "light"
     },
     "output_type": "display_data"
    }
   ],
   "source": [
    "binv = np.linalg.pinv(b)\n",
    "\n",
    "plt.plot(binv.dot(state_representation)[0],binv.dot(state_representation)[1])"
   ]
  },
  {
   "cell_type": "code",
   "execution_count": 463,
   "metadata": {},
   "outputs": [],
   "source": [
    "prediction = np.dot(state_representation.T,b)"
   ]
  },
  {
   "cell_type": "code",
   "execution_count": 464,
   "metadata": {},
   "outputs": [
    {
     "data": {
      "text/plain": [
       "<matplotlib.collections.PathCollection at 0x7f8623efc510>"
      ]
     },
     "execution_count": 464,
     "metadata": {},
     "output_type": "execute_result"
    },
    {
     "data": {
      "image/png": "[encoded data removed]",
      "text/plain": [
       "<Figure size 432x288 with 1 Axes>"
      ]
     },
     "metadata": {
      "needs_background": "light"
     },
     "output_type": "display_data"
    }
   ],
   "source": [
    "plt.scatter(sr2.T.flatten(),prediction.flatten())\n",
    "#plt.scatter(prediction.flatten())"
   ]
  },
  {
   "cell_type": "code",
   "execution_count": 389,
   "metadata": {},
   "outputs": [],
   "source": [
    "U,S,Vt = np.linalg.svd(np.dot(state_representation.T,b).T)"
   ]
  },
  {
   "cell_type": "code",
   "execution_count": 390,
   "metadata": {},
   "outputs": [
    {
     "data": {
      "text/plain": [
       "(9, 9)"
      ]
     },
     "execution_count": 390,
     "metadata": {},
     "output_type": "execute_result"
    }
   ],
   "source": [
    "Vt.shape"
   ]
  },
  {
   "cell_type": "code",
   "execution_count": 391,
   "metadata": {},
   "outputs": [
    {
     "data": {
      "text/plain": [
       "[<matplotlib.lines.Line2D at 0x7f8623d7a690>]"
      ]
     },
     "execution_count": 391,
     "metadata": {},
     "output_type": "execute_result"
    },
    {
     "data": {
      "image/png": "[encoded data removed]",
      "text/plain": [
       "<Figure size 432x288 with 1 Axes>"
      ]
     },
     "metadata": {
      "needs_background": "light"
     },
     "output_type": "display_data"
    }
   ],
   "source": [
    "ix = 1\n",
    "plt.plot(Vt[:,2*ix],Vt[:,2*ix+1])"
   ]
  },
  {
   "cell_type": "code",
   "execution_count": 392,
   "metadata": {},
   "outputs": [
    {
     "data": {
      "text/plain": [
       "<matplotlib.collections.PathCollection at 0x7f85f16c1cd0>"
      ]
     },
     "execution_count": 392,
     "metadata": {},
     "output_type": "execute_result"
    },
    {
     "data": {
      "image/png": "[encoded data removed]",
      "text/plain": [
       "<Figure size 432x288 with 1 Axes>"
      ]
     },
     "metadata": {
      "needs_background": "light"
     },
     "output_type": "display_data"
    }
   ],
   "source": [
    "plt.scatter(W.flatten(),b.flatten())"
   ]
  },
  {
   "cell_type": "code",
   "execution_count": 393,
   "metadata": {},
   "outputs": [
    {
     "data": {
      "text/plain": [
       "(4, 64)"
      ]
     },
     "execution_count": 393,
     "metadata": {},
     "output_type": "execute_result"
    }
   ],
   "source": [
    "b.shape"
   ]
  },
  {
   "cell_type": "code",
   "execution_count": 394,
   "metadata": {},
   "outputs": [
    {
     "data": {
      "text/plain": [
       "(4, 64)"
      ]
     },
     "execution_count": 394,
     "metadata": {},
     "output_type": "execute_result"
    }
   ],
   "source": [
    "W.shape"
   ]
  },
  {
   "cell_type": "code",
   "execution_count": 395,
   "metadata": {},
   "outputs": [
    {
     "data": {
      "text/plain": [
       "[<mpl_toolkits.mplot3d.art3d.Line3D at 0x7f85e87b92d0>]"
      ]
     },
     "execution_count": 395,
     "metadata": {},
     "output_type": "execute_result"
    },
    {
     "data": {
      "image/png": "[encoded data removed]",
      "text/plain": [
       "<Figure size 432x288 with 1 Axes>"
      ]
     },
     "metadata": {
      "needs_background": "light"
     },
     "output_type": "display_data"
    }
   ],
   "source": [
    "import matplotlib.pyplot as plt\n",
    "from mpl_toolkits.mplot3d import Axes3D\n",
    "fig = plt.figure()\n",
    "ax = fig.add_subplot(111, projection='3d')\n",
    "ax.plot(state_representation[0],state_representation[2],state_representation[3])"
   ]
  },
  {
   "cell_type": "code",
   "execution_count": 396,
   "metadata": {},
   "outputs": [],
   "source": [
    "from sklearn.decomposition import PCA\n",
    "datas = [state_representation.copy().T]\n",
    "#datas = datas.reshape(1,9,4)\n",
    "soft_normalize = 5\n",
    "subtract_cc_mean = False\n",
    "times = list(range(9))\n",
    "tstart = 0\n",
    "tend = max(times)\n",
    "pca = True\n",
    "num_pcs = 2"
   ]
  },
  {
   "cell_type": "code",
   "execution_count": 397,
   "metadata": {},
   "outputs": [
    {
     "data": {
      "text/plain": [
       "(4, 64)"
      ]
     },
     "execution_count": 397,
     "metadata": {},
     "output_type": "execute_result"
    }
   ],
   "source": [
    "W.shape"
   ]
  },
  {
   "cell_type": "code",
   "execution_count": 398,
   "metadata": {},
   "outputs": [
    {
     "data": {
      "text/plain": [
       "(4, 64)"
      ]
     },
     "execution_count": 398,
     "metadata": {},
     "output_type": "execute_result"
    }
   ],
   "source": [
    "b.shape"
   ]
  },
  {
   "cell_type": "code",
   "execution_count": 399,
   "metadata": {},
   "outputs": [
    {
     "data": {
      "text/plain": [
       "(4, 9)"
      ]
     },
     "execution_count": 399,
     "metadata": {},
     "output_type": "execute_result"
    }
   ],
   "source": [
    "state_representation.shape"
   ]
  },
  {
   "cell_type": "code",
   "execution_count": 612,
   "metadata": {},
   "outputs": [],
   "source": [
    "n_neurons = 140\n",
    "W = np.random.normal(size=(4,n_neurons))\n",
    "sr2 = np.dot(state_representation.T,W).T + 3*np.dot(np.random.normal(size=(9,6)),np.random.normal(size=(6,n_neurons))).T\n",
    "#sr2 = state_representation\n",
    "datas = [sr2.T]\n",
    "times = list(range(sr2.shape[1]))\n",
    "tstart = 0\n",
    "tend = sr2.shape[1]-1"
   ]
  },
  {
   "cell_type": "code",
   "execution_count": 613,
   "metadata": {},
   "outputs": [
    {
     "name": "stdout",
     "output_type": "stream",
     "text": [
      "0.5840951403976705\n"
     ]
    }
   ],
   "source": [
    "shuff_ccs = []\n",
    "for _ in range(10000):\n",
    "    y = sr2[:,np.random.permutation(np.arange(9))].T\n",
    "    #y = sr2.T\n",
    "    X = np.hstack([np.ones([1,9]).T,state_representation.T.copy()])\n",
    "    b,residuals,rank,singular_vals = np.linalg.lstsq(X,y,rcond=None)\n",
    "    binv = np.linalg.pinv(b)\n",
    "\n",
    "    evar = 1-np.var(np.dot(X,b)-y)/np.var(y)\n",
    "    shuff_ccs.append(evar)\n",
    "\n",
    "y = sr2.T\n",
    "X = np.hstack([np.ones([1,9]).T,state_representation.T.copy()])\n",
    "b,residuals,rank,singular_vals = np.linalg.lstsq(X,y,rcond=None)\n",
    "binv = np.linalg.pinv(b)\n",
    "\n",
    "true_evar = 1-np.var(np.dot(X,b)-y)/np.var(y)\n",
    "print(true_evar)\n"
   ]
  },
  {
   "cell_type": "code",
   "execution_count": 614,
   "metadata": {},
   "outputs": [
    {
     "data": {
      "text/plain": [
       "95.43"
      ]
     },
     "execution_count": 614,
     "metadata": {},
     "output_type": "execute_result"
    }
   ],
   "source": [
    "stt.percentileofscore(shuff_ccs,true_evar)"
   ]
  },
  {
   "cell_type": "code",
   "execution_count": 615,
   "metadata": {},
   "outputs": [],
   "source": [
    "%matplotlib inline"
   ]
  },
  {
   "cell_type": "code",
   "execution_count": 443,
   "metadata": {},
   "outputs": [
    {
     "data": {
      "text/plain": [
       "[<mpl_toolkits.mplot3d.art3d.Line3D at 0x7f863308bb10>]"
      ]
     },
     "execution_count": 443,
     "metadata": {},
     "output_type": "execute_result"
    },
    {
     "data": {
      "image/png": "[encoded data removed]",
      "text/plain": [
       "<Figure size 432x288 with 1 Axes>"
      ]
     },
     "metadata": {
      "needs_background": "light"
     },
     "output_type": "display_data"
    }
   ],
   "source": [
    "import matplotlib.pyplot as plt\n",
    "from mpl_toolkits.mplot3d import Axes3D\n",
    "fig = plt.figure()\n",
    "ax = fig.add_subplot(111, projection='3d')\n",
    "ax.plot(sr2[12],sr2[1],sr2[33])"
   ]
  },
  {
   "cell_type": "code",
   "execution_count": 444,
   "metadata": {},
   "outputs": [],
   "source": [
    "from jPCA import JPCA\n",
    "\n",
    "jpca = JPCA(num_jpcs=6)\n",
    "\n",
    "(projected, \n",
    " full_data_var,\n",
    " pca_var_capt,\n",
    " jpca_var_capt,_) = jpca.fit([datas[0][:,np.random.permutation(np.arange(9))]], times=times, tstart=tstart, tend=tend,\n",
    "                             subtract_cc_mean=False,\n",
    "                             pca=False,\n",
    "                             soft_normalize=False,\n",
    "                             align_axes_to_data=False)\n"
   ]
  },
  {
   "cell_type": "code",
   "execution_count": 445,
   "metadata": {},
   "outputs": [
    {
     "data": {
      "text/plain": [
       "0.5729518593786801"
      ]
     },
     "execution_count": 445,
     "metadata": {},
     "output_type": "execute_result"
    }
   ],
   "source": [
    "np.sum(jpca_var_capt)/jpca.full_data_var"
   ]
  },
  {
   "cell_type": "code",
   "execution_count": 446,
   "metadata": {},
   "outputs": [
    {
     "data": {
      "text/plain": [
       "array([0.00964637, 0.0211617 , 0.34453881, 0.13487672, 0.03854102,\n",
       "       0.02418724])"
      ]
     },
     "execution_count": 446,
     "metadata": {},
     "output_type": "execute_result"
    }
   ],
   "source": [
    "jpca_var_capt/jpca.full_data_var"
   ]
  },
  {
   "cell_type": "code",
   "execution_count": 447,
   "metadata": {},
   "outputs": [
    {
     "data": {
      "text/plain": [
       "430.49668778293193"
      ]
     },
     "execution_count": 447,
     "metadata": {},
     "output_type": "execute_result"
    }
   ],
   "source": [
    "jpca.full_data_var"
   ]
  },
  {
   "cell_type": "code",
   "execution_count": null,
   "metadata": {},
   "outputs": [],
   "source": []
  },
  {
   "cell_type": "code",
   "execution_count": 448,
   "metadata": {},
   "outputs": [],
   "source": [
    "projected = np.array(projected)"
   ]
  },
  {
   "cell_type": "code",
   "execution_count": 449,
   "metadata": {},
   "outputs": [
    {
     "data": {
      "text/plain": [
       "[<matplotlib.lines.Line2D at 0x7f8633124690>]"
      ]
     },
     "execution_count": 449,
     "metadata": {},
     "output_type": "execute_result"
    },
    {
     "data": {
      "image/png": "[encoded data removed]",
      "text/plain": [
       "<Figure size 432x288 with 1 Axes>"
      ]
     },
     "metadata": {
      "needs_background": "light"
     },
     "output_type": "display_data"
    }
   ],
   "source": [
    "projected = np.array(projected)\n",
    "plt.plot(projected[0,:,-1],projected[0,:,-2])"
   ]
  },
  {
   "cell_type": "code",
   "execution_count": 450,
   "metadata": {},
   "outputs": [
    {
     "data": {
      "text/plain": [
       "[<matplotlib.lines.Line2D at 0x7f85f19433d0>]"
      ]
     },
     "execution_count": 450,
     "metadata": {},
     "output_type": "execute_result"
    },
    {
     "data": {
      "image/png": "[encoded data removed]",
      "text/plain": [
       "<Figure size 432x288 with 1 Axes>"
      ]
     },
     "metadata": {
      "needs_background": "light"
     },
     "output_type": "display_data"
    }
   ],
   "source": [
    "from sklearn.decomposition import PCA\n",
    "pca = PCA(n_components=6)\n",
    "\n",
    "projected_pca = pca.fit_transform(datas[0])\n",
    "plt.plot(projected_pca[:,0],projected_pca[:,1])"
   ]
  },
  {
   "cell_type": "code",
   "execution_count": 451,
   "metadata": {},
   "outputs": [
    {
     "data": {
      "text/plain": [
       "(9, 6)"
      ]
     },
     "execution_count": 451,
     "metadata": {},
     "output_type": "execute_result"
    }
   ],
   "source": [
    "projected_pca.shape"
   ]
  },
  {
   "cell_type": "code",
   "execution_count": 437,
   "metadata": {},
   "outputs": [],
   "source": [
    "nDim, len_sequence = state_representation.shape"
   ]
  },
  {
   "cell_type": "code",
   "execution_count": 438,
   "metadata": {},
   "outputs": [
    {
     "data": {
      "text/plain": [
       "(4, 9)"
      ]
     },
     "execution_count": 438,
     "metadata": {},
     "output_type": "execute_result"
    }
   ],
   "source": [
    "state_representation.shape"
   ]
  },
  {
   "cell_type": "code",
   "execution_count": 439,
   "metadata": {},
   "outputs": [
    {
     "data": {
      "text/plain": [
       "(9, 6)"
      ]
     },
     "execution_count": 439,
     "metadata": {},
     "output_type": "execute_result"
    }
   ],
   "source": [
    "projected_pca.shape"
   ]
  },
  {
   "cell_type": "code",
   "execution_count": 276,
   "metadata": {},
   "outputs": [
    {
     "name": "stderr",
     "output_type": "stream",
     "text": [
      "/Users/yves/opt/anaconda3/lib/python3.7/site-packages/ipykernel_launcher.py:2: FutureWarning: `rcond` parameter will change to the default of machine precision times ``max(M, N)`` where M and N are the input matrix dimensions.\n",
      "To use the future default and silence this warning we advise to pass `rcond=None`, to keep using the old, explicitly pass `rcond=-1`.\n",
      "  \n"
     ]
    }
   ],
   "source": [
    "#Ahat = np.linalg.lstsq(state_representation[:,:-1].T,state_representation[:,1:].T)[0].T\n",
    "Ahat = np.linalg.lstsq(projected_pca[:-1],projected_pca[1:])[0].T"
   ]
  },
  {
   "cell_type": "code",
   "execution_count": 277,
   "metadata": {},
   "outputs": [
    {
     "data": {
      "text/plain": [
       "(4, 9)"
      ]
     },
     "execution_count": 277,
     "metadata": {},
     "output_type": "execute_result"
    }
   ],
   "source": [
    "state_representation.shape"
   ]
  },
  {
   "cell_type": "code",
   "execution_count": null,
   "metadata": {},
   "outputs": [],
   "source": []
  },
  {
   "cell_type": "code",
   "execution_count": 278,
   "metadata": {},
   "outputs": [],
   "source": [
    "Ahat_skew = (Ahat - Ahat.T)/2"
   ]
  },
  {
   "cell_type": "code",
   "execution_count": 279,
   "metadata": {},
   "outputs": [],
   "source": [
    "Ahat_symm = (Ahat + Ahat.T)/2"
   ]
  },
  {
   "cell_type": "code",
   "execution_count": 280,
   "metadata": {},
   "outputs": [],
   "source": [
    "I = np.eye(len(Ahat_skew\n",
    "              ))"
   ]
  },
  {
   "cell_type": "code",
   "execution_count": 281,
   "metadata": {},
   "outputs": [],
   "source": [
    "Q = np.dot(np.linalg.inv(I+Ahat_skew),(I-Ahat_skew))\n",
    "assert np.allclose(1,np.abs(np.linalg.eig(Q)[0]))"
   ]
  },
  {
   "cell_type": "code",
   "execution_count": null,
   "metadata": {},
   "outputs": [],
   "source": []
  },
  {
   "cell_type": "code",
   "execution_count": 282,
   "metadata": {},
   "outputs": [],
   "source": [
    "Qe, Qv = np.linalg.eig(Ahat_skew)"
   ]
  },
  {
   "cell_type": "code",
   "execution_count": 298,
   "metadata": {},
   "outputs": [
    {
     "data": {
      "text/plain": [
       "(6, 6)"
      ]
     },
     "execution_count": 298,
     "metadata": {},
     "output_type": "execute_result"
    }
   ],
   "source": [
    "Qv.shape"
   ]
  },
  {
   "cell_type": "code",
   "execution_count": 302,
   "metadata": {},
   "outputs": [],
   "source": [
    "#ix = 2\n",
    "a1 = (Qv[:,ix] + Qv[:,ix+1])\n",
    "a2 = 1j*(Qv[:,ix] - Qv[:,ix+1])"
   ]
  },
  {
   "cell_type": "code",
   "execution_count": 300,
   "metadata": {},
   "outputs": [],
   "source": [
    "proj = np.vstack([a1,a2])"
   ]
  },
  {
   "cell_type": "code",
   "execution_count": 301,
   "metadata": {},
   "outputs": [
    {
     "data": {
      "text/plain": [
       "[<matplotlib.lines.Line2D at 0x7f85f1285d50>]"
      ]
     },
     "execution_count": 301,
     "metadata": {},
     "output_type": "execute_result"
    },
    {
     "data": {
      "image/png": "[encoded data removed]",
      "text/plain": [
       "<Figure size 432x288 with 1 Axes>"
      ]
     },
     "metadata": {
      "needs_background": "light"
     },
     "output_type": "display_data"
    }
   ],
   "source": [
    "plt.plot(np.dot(proj,projected_pca.T)[0],np.dot(proj,projected_pca.T)[1])"
   ]
  },
  {
   "cell_type": "code",
   "execution_count": 122,
   "metadata": {},
   "outputs": [],
   "source": [
    "qo1,ro1 = np.linalg.qr(Qv.real)\n",
    "qo2,ro2 = np.linalg.qr(Qv.imag)"
   ]
  },
  {
   "cell_type": "code",
   "execution_count": 830,
   "metadata": {},
   "outputs": [
    {
     "data": {
      "text/plain": [
       "array([[ 0.71,  0.71, -0.  ],\n",
       "       [ 0.  ,  0.  ,  0.65],\n",
       "       [ 0.  ,  0.  ,  0.76]])"
      ]
     },
     "execution_count": 830,
     "metadata": {},
     "output_type": "execute_result"
    }
   ],
   "source": [
    "np.round(ro1,decimals=2)"
   ]
  },
  {
   "cell_type": "code",
   "execution_count": 831,
   "metadata": {},
   "outputs": [
    {
     "data": {
      "text/plain": [
       "array([[-0.71,  0.71,  0.  ],\n",
       "       [ 0.  , -0.  ,  0.  ],\n",
       "       [ 0.  ,  0.  ,  0.  ]])"
      ]
     },
     "execution_count": 831,
     "metadata": {},
     "output_type": "execute_result"
    }
   ],
   "source": [
    "np.round(ro2,decimals=2)"
   ]
  },
  {
   "cell_type": "code",
   "execution_count": 842,
   "metadata": {},
   "outputs": [
    {
     "data": {
      "text/plain": [
       "array([0.87443656+0.48513988j, 0.87443656-0.48513988j,\n",
       "       1.        +0.j        ])"
      ]
     },
     "execution_count": 842,
     "metadata": {},
     "output_type": "execute_result"
    }
   ],
   "source": [
    "Qe"
   ]
  },
  {
   "cell_type": "code",
   "execution_count": null,
   "metadata": {},
   "outputs": [],
   "source": []
  },
  {
   "cell_type": "code",
   "execution_count": 832,
   "metadata": {},
   "outputs": [],
   "source": [
    "import scipy.linalg as la\n"
   ]
  },
  {
   "cell_type": "code",
   "execution_count": 1281,
   "metadata": {},
   "outputs": [],
   "source": [
    "t,z=la.schur(Ahat_skew, output='real', lwork=None, overwrite_a=False, sort=None, check_finite=True)"
   ]
  },
  {
   "cell_type": "code",
   "execution_count": 1284,
   "metadata": {},
   "outputs": [
    {
     "data": {
      "text/plain": [
       "<matplotlib.image.AxesImage at 0x7fa861ebb610>"
      ]
     },
     "execution_count": 1284,
     "metadata": {},
     "output_type": "execute_result"
    },
    {
     "data": {
      "image/png": "[encoded data removed]",
      "text/plain": [
       "<Figure size 432x288 with 1 Axes>"
      ]
     },
     "metadata": {},
     "output_type": "display_data"
    }
   ],
   "source": [
    "plt.imshow(t)"
   ]
  },
  {
   "cell_type": "code",
   "execution_count": 1285,
   "metadata": {},
   "outputs": [
    {
     "data": {
      "text/plain": [
       "array([[-0.07493376,  0.07493376,  0.18855745, -0.00499244, -0.4487596 ,\n",
       "        -0.4487596 , -0.16717812,  0.12604586, -0.31368267,  0.08900076,\n",
       "        -0.02969599,  0.0574733 ,  0.07258595,  0.56382796,  0.26755617,\n",
       "         0.03639533],\n",
       "       [ 0.50937765, -0.33038632,  0.03894261, -0.28774394, -0.32539869,\n",
       "        -0.04243366,  0.26239912, -0.10529847,  0.17346538, -0.36249984,\n",
       "        -0.18034532, -0.05643015, -0.23687442, -0.06076406,  0.28851739,\n",
       "         0.13853154],\n",
       "       [ 0.41781959,  0.44203629, -0.25173628, -0.03500573,  0.17138424,\n",
       "         0.10441431,  0.00280328, -0.21069199,  0.05351705,  0.43782205,\n",
       "        -0.09931494,  0.3288682 , -0.00898334,  0.10491824,  0.31819642,\n",
       "         0.23633199],\n",
       "       [-0.07282981,  0.6340497 , -0.05416566,  0.01290589, -0.06355653,\n",
       "        -0.0044554 ,  0.16062587,  0.05237805,  0.35655136, -0.28902952,\n",
       "        -0.26712083, -0.46633799,  0.02719069,  0.22171633, -0.0865573 ,\n",
       "        -0.00957473],\n",
       "       [ 0.30498578,  0.15248843,  0.09213153,  0.0602612 ,  0.04912483,\n",
       "         0.08061276, -0.05795211, -0.43654681, -0.41668421, -0.3259258 ,\n",
       "         0.44388291, -0.22708437,  0.26451987,  0.06392561, -0.15093943,\n",
       "         0.20850763],\n",
       "       [-0.01214817,  0.00494897,  0.52468044,  0.41111537, -0.08393307,\n",
       "         0.04954283,  0.10970271, -0.24035364,  0.46832094, -0.09777999,\n",
       "         0.08688763,  0.3726167 ,  0.279307  ,  0.04943611,  0.10209506,\n",
       "        -0.10030404],\n",
       "       [ 0.11817897,  0.09735587, -0.02217678, -0.48133924,  0.25637215,\n",
       "        -0.43836005,  0.32533569,  0.01740665,  0.10812831, -0.02383696,\n",
       "         0.30206624,  0.21027331,  0.12752118,  0.10644497, -0.17682982,\n",
       "        -0.41685009],\n",
       "       [ 0.03493007,  0.20682182, -0.00571188,  0.31088502, -0.08961032,\n",
       "        -0.38135019, -0.14019598, -0.15284395,  0.10100752,  0.03300571,\n",
       "         0.35529505, -0.07537102, -0.66474889, -0.25114042,  0.04415963,\n",
       "        -0.11282024],\n",
       "       [ 0.30596186,  0.18512947, -0.12284059,  0.33715563, -0.19829766,\n",
       "        -0.16822148,  0.17544486,  0.41712758, -0.24489107, -0.057383  ,\n",
       "        -0.0829767 ,  0.04040147,  0.35328021, -0.48022329,  0.08151002,\n",
       "        -0.1926315 ],\n",
       "       [ 0.10749606,  0.04489326,  0.35643458, -0.26396719, -0.29898153,\n",
       "         0.17538562, -0.0137448 , -0.16533677,  0.0263008 ,  0.56345116,\n",
       "         0.03892249, -0.42687875,  0.1030227 , -0.20509105,  0.00729531,\n",
       "        -0.2956198 ],\n",
       "       [-0.10390206,  0.1809623 ,  0.38541367, -0.04173486,  0.08425594,\n",
       "         0.30295784,  0.51873818,  0.39112103, -0.22792563,  0.03594586,\n",
       "         0.27061067,  0.0498876 , -0.29738013,  0.04735761,  0.12799463,\n",
       "         0.22181664],\n",
       "       [ 0.14602844,  0.03272275,  0.16544544,  0.00208507, -0.20868242,\n",
       "        -0.21347197,  0.10495379,  0.00359794,  0.01860184,  0.19568777,\n",
       "        -0.21184724,  0.17854103, -0.07300818, -0.0625319 , -0.7399472 ,\n",
       "         0.42180958],\n",
       "       [ 0.19097503,  0.15083839,  0.31421948,  0.0018792 ,  0.18370793,\n",
       "         0.16854227, -0.17368149, -0.0955194 , -0.35967101, -0.19628411,\n",
       "        -0.45746326,  0.19961329, -0.29524271,  0.06796318, -0.13309865,\n",
       "        -0.46269137],\n",
       "       [ 0.3226494 , -0.06271531,  0.3813842 , -0.041831  ,  0.46316808,\n",
       "        -0.20931597, -0.42203396,  0.39528936,  0.19734094,  0.00907711,\n",
       "         0.01010847, -0.22963992,  0.06836843, -0.01972413,  0.08633204,\n",
       "         0.2183511 ],\n",
       "       [-0.3680817 ,  0.30621801,  0.18702203, -0.44000816, -0.07905079,\n",
       "        -0.11816646, -0.21900859, -0.12668067, -0.0584215 , -0.21871924,\n",
       "        -0.08194471,  0.22931906,  0.09213336, -0.49460031,  0.19401812,\n",
       "         0.23795477],\n",
       "       [ 0.18260733,  0.14738625, -0.12290615, -0.18531875, -0.37712357,\n",
       "         0.39592463, -0.41131641,  0.34371057,  0.20492994, -0.14559054,\n",
       "         0.34744412,  0.25335797, -0.04635811,  0.09402184, -0.19129094,\n",
       "        -0.11620794]])"
      ]
     },
     "execution_count": 1285,
     "metadata": {},
     "output_type": "execute_result"
    }
   ],
   "source": [
    "z"
   ]
  },
  {
   "cell_type": "code",
   "execution_count": 836,
   "metadata": {},
   "outputs": [
    {
     "data": {
      "text/plain": [
       "array([], shape=(0, 0), dtype=float64)"
      ]
     },
     "execution_count": 836,
     "metadata": {},
     "output_type": "execute_result"
    }
   ],
   "source": [
    "t[4:8,4:8]"
   ]
  },
  {
   "cell_type": "code",
   "execution_count": 837,
   "metadata": {},
   "outputs": [],
   "source": [
    "#construct a matrix that \n",
    "C = np.vstack([Qv[:,1],Qv[:,2]]).T\n",
    "\n",
    "P = np.dot(C,np.linalg.inv(np.dot(C.T,C))).dot(C.T)"
   ]
  },
  {
   "cell_type": "code",
   "execution_count": 839,
   "metadata": {},
   "outputs": [
    {
     "data": {
      "text/plain": [
       "[<matplotlib.lines.Line2D at 0x7fa83207d290>]"
      ]
     },
     "execution_count": 839,
     "metadata": {},
     "output_type": "execute_result"
    },
    {
     "data": {
      "image/png": "[encoded data removed]",
      "text/plain": [
       "<Figure size 432x288 with 1 Axes>"
      ]
     },
     "metadata": {},
     "output_type": "display_data"
    }
   ],
   "source": [
    "plt.plot((P@state_representation)[0])\n",
    "#plt.plot((P@state_representation)[1])\n",
    "#plt.plot((P@state_representation)[2])"
   ]
  },
  {
   "cell_type": "code",
   "execution_count": 284,
   "metadata": {},
   "outputs": [
    {
     "data": {
      "text/plain": [
       "(2, 2)"
      ]
     },
     "execution_count": 284,
     "metadata": {},
     "output_type": "execute_result"
    }
   ],
   "source": [
    "P.shape"
   ]
  },
  {
   "cell_type": "code",
   "execution_count": 285,
   "metadata": {},
   "outputs": [
    {
     "data": {
      "text/plain": [
       "(3, 36)"
      ]
     },
     "execution_count": 285,
     "metadata": {},
     "output_type": "execute_result"
    }
   ],
   "source": [
    "state_representation.shape"
   ]
  },
  {
   "cell_type": "code",
   "execution_count": 269,
   "metadata": {},
   "outputs": [],
   "source": [
    "proj = Qv[:,1]@state_representation\n",
    "proj2 = Qv[:,2]@state_representation"
   ]
  },
  {
   "cell_type": "code",
   "execution_count": 271,
   "metadata": {},
   "outputs": [
    {
     "data": {
      "text/plain": [
       "array([ 0.45904599-0.02221533j,  0.75762941+0.59137241j,\n",
       "        0.8838179 +0.97515872j,  0.80636104+1.13425333j,\n",
       "        0.54310608+1.03199837j,  0.15471105+0.69195497j,\n",
       "       -0.2693318 +0.19247441j, -0.63131643-0.35135524j,\n",
       "       -0.84783596-0.81422719j, -0.86900092-1.08948856j,\n",
       "       -0.68993459-1.11371486j, -0.35189662-0.88132398j,\n",
       "        0.06722379-0.44586237j,  0.47085479+0.09233284j,\n",
       "        0.76599355+0.60925314j,  0.8846355 +0.98579205j,\n",
       "        0.79944371+1.13518919j,  0.53004768+1.02302111j,\n",
       "        0.13852044+0.6751331j , -0.28492405+0.17168395j,\n",
       "       -0.64271763-0.37132385j, -0.85241909-0.82877287j,\n",
       "       -0.86570997-1.09525977j, -0.67952783-1.10938181j,\n",
       "       -0.33677194-0.86788508j,  0.08358143-0.42641415j,\n",
       "        0.48467635+0.11330921j,  0.77409431+0.62692437j,\n",
       "        0.88514893+0.99608643j,  0.7922515 +1.13573472j,\n",
       "        0.51680704+1.0136921j ,  0.12228221+0.6580791j ,\n",
       "       -0.30041834+0.15083446j, -0.65389784-0.39116479j,\n",
       "       -0.85670913-0.84303359j, -0.86212134-1.10065437j])"
      ]
     },
     "execution_count": 271,
     "metadata": {},
     "output_type": "execute_result"
    }
   ],
   "source": []
  },
  {
   "cell_type": "code",
   "execution_count": 184,
   "metadata": {},
   "outputs": [
    {
     "data": {
      "text/plain": [
       "<matplotlib.image.AxesImage at 0x7fa820372750>"
      ]
     },
     "execution_count": 184,
     "metadata": {},
     "output_type": "execute_result"
    },
    {
     "data": {
      "image/png": "[encoded data removed]",
      "text/plain": [
       "<Figure size 432x288 with 1 Axes>"
      ]
     },
     "metadata": {},
     "output_type": "display_data"
    }
   ],
   "source": [
    "plt.imshow(Bhat.T)"
   ]
  },
  {
   "cell_type": "code",
   "execution_count": 183,
   "metadata": {},
   "outputs": [
    {
     "name": "stdout",
     "output_type": "stream",
     "text": [
      "Optimization failed.\n",
      "Desired error not necessarily achieved due to precision loss.\n"
     ]
    }
   ],
   "source": [
    "Bhat = skew_sym_regress(state_representation[:,:-1].T,state_representation[:,1:].T)\n",
    "#Bhat = skew_sym_regress(state_representation[:,1:].T,state_representation[:,:-1].T)"
   ]
  },
  {
   "cell_type": "code",
   "execution_count": 173,
   "metadata": {},
   "outputs": [
    {
     "data": {
      "text/plain": [
       "[<matplotlib.lines.Line2D at 0x7fa86062f750>]"
      ]
     },
     "execution_count": 173,
     "metadata": {},
     "output_type": "execute_result"
    },
    {
     "data": {
      "image/png": "[encoded data removed]",
      "text/plain": [
       "<Figure size 432x288 with 1 Axes>"
      ]
     },
     "metadata": {},
     "output_type": "display_data"
    }
   ],
   "source": [
    "plt.plot(state_representation[0])"
   ]
  },
  {
   "cell_type": "code",
   "execution_count": 174,
   "metadata": {},
   "outputs": [
    {
     "data": {
      "text/plain": [
       "array([[False, False, False, False, False, False],\n",
       "       [False, False, False, False, False, False],\n",
       "       [False, False, False, False, False, False],\n",
       "       [False, False, False, False, False, False],\n",
       "       [False, False, False, False, False, False],\n",
       "       [False, False, False, False, False, False]])"
      ]
     },
     "execution_count": 174,
     "metadata": {},
     "output_type": "execute_result"
    }
   ],
   "source": [
    "A == -A.T"
   ]
  },
  {
   "cell_type": "code",
   "execution_count": 161,
   "metadata": {},
   "outputs": [
    {
     "data": {
      "text/plain": [
       "array([0.08474763, 0.23167166, 0.17097971, 0.12963771, 0.04867101,\n",
       "       0.2908652 ])"
      ]
     },
     "execution_count": 161,
     "metadata": {},
     "output_type": "execute_result"
    }
   ],
   "source": [
    "np.dot(Bhat,state_representation[:,0])"
   ]
  },
  {
   "cell_type": "code",
   "execution_count": 162,
   "metadata": {},
   "outputs": [
    {
     "data": {
      "text/plain": [
       "array([ 1.64542836, -0.66637245,  1.50099182,  0.4391805 ,  1.69688049,\n",
       "        2.24497886])"
      ]
     },
     "execution_count": 162,
     "metadata": {},
     "output_type": "execute_result"
    }
   ],
   "source": [
    "state_representation[:,1]"
   ]
  },
  {
   "cell_type": "code",
   "execution_count": 151,
   "metadata": {},
   "outputs": [
    {
     "data": {
      "text/plain": [
       "<matplotlib.image.AxesImage at 0x7fa853448a10>"
      ]
     },
     "execution_count": 151,
     "metadata": {},
     "output_type": "execute_result"
    },
    {
     "data": {
      "image/png": "[encoded data removed]",
      "text/plain": [
       "<Figure size 432x288 with 1 Axes>"
      ]
     },
     "metadata": {},
     "output_type": "display_data"
    }
   ],
   "source": [
    "plt.imshow(Ahat)"
   ]
  },
  {
   "cell_type": "code",
   "execution_count": 152,
   "metadata": {},
   "outputs": [
    {
     "data": {
      "text/plain": [
       "<matplotlib.image.AxesImage at 0x7fa870b35e50>"
      ]
     },
     "execution_count": 152,
     "metadata": {},
     "output_type": "execute_result"
    },
    {
     "data": {
      "image/png": "[encoded data removed]",
      "text/plain": [
       "<Figure size 432x288 with 1 Axes>"
      ]
     },
     "metadata": {},
     "output_type": "display_data"
    }
   ],
   "source": [
    "plt.imshow(A)"
   ]
  },
  {
   "cell_type": "code",
   "execution_count": null,
   "metadata": {},
   "outputs": [],
   "source": []
  },
  {
   "cell_type": "code",
   "execution_count": 153,
   "metadata": {},
   "outputs": [],
   "source": [
    "y1 = state_representation[:,:-1]\n",
    "y2 = state_representation[:,1:]\n",
    "Ahat =np.dot(y2,np.linalg.pinv(y1))"
   ]
  },
  {
   "cell_type": "code",
   "execution_count": 154,
   "metadata": {},
   "outputs": [
    {
     "data": {
      "text/plain": [
       "<matplotlib.image.AxesImage at 0x7fa870bf5990>"
      ]
     },
     "execution_count": 154,
     "metadata": {},
     "output_type": "execute_result"
    },
    {
     "data": {
      "image/png": "[encoded data removed]",
      "text/plain": [
       "<Figure size 432x288 with 1 Axes>"
      ]
     },
     "metadata": {},
     "output_type": "display_data"
    }
   ],
   "source": [
    "plt.imshow(Ahat)"
   ]
  },
  {
   "cell_type": "code",
   "execution_count": null,
   "metadata": {},
   "outputs": [],
   "source": []
  },
  {
   "cell_type": "code",
   "execution_count": null,
   "metadata": {},
   "outputs": [],
   "source": []
  },
  {
   "cell_type": "markdown",
   "metadata": {},
   "source": [
    "# This is the simple case"
   ]
  },
  {
   "cell_type": "code",
   "execution_count": 64,
   "metadata": {},
   "outputs": [
    {
     "ename": "IndexError",
     "evalue": "index 1 is out of bounds for axis 0 with size 1",
     "output_type": "error",
     "traceback": [
      "\u001b[0;31m---------------------------------------------------------------------------\u001b[0m",
      "\u001b[0;31mIndexError\u001b[0m                                Traceback (most recent call last)",
      "\u001b[0;32m<ipython-input-64-41e90a920ed1>\u001b[0m in \u001b[0;36m<module>\u001b[0;34m\u001b[0m\n\u001b[1;32m      1\u001b[0m \u001b[0mM\u001b[0m \u001b[0;34m=\u001b[0m \u001b[0mnp\u001b[0m\u001b[0;34m.\u001b[0m\u001b[0mzeros\u001b[0m\u001b[0;34m(\u001b[0m\u001b[0;34m[\u001b[0m\u001b[0;36m8\u001b[0m\u001b[0;34m,\u001b[0m\u001b[0;36m8\u001b[0m\u001b[0;34m]\u001b[0m\u001b[0;34m)\u001b[0m\u001b[0;34m\u001b[0m\u001b[0;34m\u001b[0m\u001b[0m\n\u001b[0;32m----> 2\u001b[0;31m \u001b[0;32mfor\u001b[0m \u001b[0mi\u001b[0m\u001b[0;34m,\u001b[0m\u001b[0mdb\u001b[0m \u001b[0;32min\u001b[0m \u001b[0menumerate\u001b[0m\u001b[0;34m(\u001b[0m\u001b[0mconstruct_diagonal_blocks\u001b[0m\u001b[0;34m(\u001b[0m\u001b[0mtmp\u001b[0m\u001b[0;34m)\u001b[0m\u001b[0;34m)\u001b[0m\u001b[0;34m:\u001b[0m\u001b[0;34m\u001b[0m\u001b[0;34m\u001b[0m\u001b[0m\n\u001b[0m\u001b[1;32m      3\u001b[0m     \u001b[0mM\u001b[0m\u001b[0;34m[\u001b[0m\u001b[0mi\u001b[0m\u001b[0;34m*\u001b[0m\u001b[0;36m2\u001b[0m\u001b[0;34m:\u001b[0m\u001b[0;34m(\u001b[0m\u001b[0mi\u001b[0m\u001b[0;34m+\u001b[0m\u001b[0;36m1\u001b[0m\u001b[0;34m)\u001b[0m\u001b[0;34m*\u001b[0m\u001b[0;36m2\u001b[0m\u001b[0;34m,\u001b[0m\u001b[0mi\u001b[0m\u001b[0;34m*\u001b[0m\u001b[0;36m2\u001b[0m\u001b[0;34m:\u001b[0m\u001b[0;34m(\u001b[0m\u001b[0mi\u001b[0m\u001b[0;34m+\u001b[0m\u001b[0;36m1\u001b[0m\u001b[0;34m)\u001b[0m\u001b[0;34m*\u001b[0m\u001b[0;36m2\u001b[0m\u001b[0;34m]\u001b[0m \u001b[0;34m=\u001b[0m \u001b[0mdb\u001b[0m\u001b[0;34m\u001b[0m\u001b[0;34m\u001b[0m\u001b[0m\n",
      "\u001b[0;32m<ipython-input-63-44a7a570cf5c>\u001b[0m in \u001b[0;36mconstruct_diagonal_blocks\u001b[0;34m(vals)\u001b[0m\n\u001b[1;32m     10\u001b[0m         \u001b[0marr\u001b[0m \u001b[0;34m=\u001b[0m \u001b[0mnp\u001b[0m\u001b[0;34m.\u001b[0m\u001b[0mzeros\u001b[0m\u001b[0;34m(\u001b[0m\u001b[0;34m[\u001b[0m\u001b[0;36m2\u001b[0m\u001b[0;34m,\u001b[0m\u001b[0;36m2\u001b[0m\u001b[0;34m]\u001b[0m\u001b[0;34m)\u001b[0m\u001b[0;34m\u001b[0m\u001b[0;34m\u001b[0m\u001b[0m\n\u001b[1;32m     11\u001b[0m         \u001b[0marr\u001b[0m\u001b[0;34m[\u001b[0m\u001b[0;36m0\u001b[0m\u001b[0;34m,\u001b[0m\u001b[0;36m0\u001b[0m\u001b[0;34m]\u001b[0m \u001b[0;34m=\u001b[0m \u001b[0mv\u001b[0m\u001b[0;34m[\u001b[0m\u001b[0;36m0\u001b[0m\u001b[0;34m]\u001b[0m\u001b[0;34m\u001b[0m\u001b[0;34m\u001b[0m\u001b[0m\n\u001b[0;32m---> 12\u001b[0;31m         \u001b[0marr\u001b[0m\u001b[0;34m[\u001b[0m\u001b[0;36m0\u001b[0m\u001b[0;34m,\u001b[0m\u001b[0;36m1\u001b[0m\u001b[0;34m]\u001b[0m \u001b[0;34m=\u001b[0m \u001b[0;34m-\u001b[0m\u001b[0mv\u001b[0m\u001b[0;34m[\u001b[0m\u001b[0;36m1\u001b[0m\u001b[0;34m]\u001b[0m\u001b[0;34m\u001b[0m\u001b[0;34m\u001b[0m\u001b[0m\n\u001b[0m\u001b[1;32m     13\u001b[0m         \u001b[0marr\u001b[0m\u001b[0;34m[\u001b[0m\u001b[0;36m1\u001b[0m\u001b[0;34m,\u001b[0m\u001b[0;36m0\u001b[0m\u001b[0;34m]\u001b[0m \u001b[0;34m=\u001b[0m \u001b[0mv\u001b[0m\u001b[0;34m[\u001b[0m\u001b[0;36m1\u001b[0m\u001b[0;34m]\u001b[0m\u001b[0;34m\u001b[0m\u001b[0;34m\u001b[0m\u001b[0m\n\u001b[1;32m     14\u001b[0m         \u001b[0marr\u001b[0m\u001b[0;34m[\u001b[0m\u001b[0;36m1\u001b[0m\u001b[0;34m,\u001b[0m\u001b[0;36m1\u001b[0m\u001b[0;34m]\u001b[0m \u001b[0;34m=\u001b[0m \u001b[0mv\u001b[0m\u001b[0;34m[\u001b[0m\u001b[0;36m0\u001b[0m\u001b[0;34m]\u001b[0m\u001b[0;34m\u001b[0m\u001b[0;34m\u001b[0m\u001b[0m\n",
      "\u001b[0;31mIndexError\u001b[0m: index 1 is out of bounds for axis 0 with size 1"
     ]
    }
   ],
   "source": [
    "M = np.zeros([8,8])\n",
    "for i,db in enumerate(construct_diagonal_blocks(tmp)):\n",
    "    M[i*2:(i+1)*2,i*2:(i+1)*2] = db"
   ]
  },
  {
   "cell_type": "code",
   "execution_count": 16,
   "metadata": {},
   "outputs": [],
   "source": [
    "A = np.random.uniform(size=(8,8))"
   ]
  },
  {
   "cell_type": "code",
   "execution_count": 17,
   "metadata": {},
   "outputs": [],
   "source": [
    "A = np.random.uniform(size=(8,8))\n",
    "mat = np.dot(A,M).dot(np.linalg.inv(A))"
   ]
  },
  {
   "cell_type": "code",
   "execution_count": null,
   "metadata": {},
   "outputs": [],
   "source": [
    "Ahh"
   ]
  },
  {
   "cell_type": "markdown",
   "metadata": {},
   "source": []
  },
  {
   "cell_type": "code",
   "execution_count": 18,
   "metadata": {},
   "outputs": [],
   "source": [
    "n =8\n",
    "initial_index = [3,0,2,1]\n",
    "final_index = [0,1,3,2]\n",
    "permutation_matrix = np.zeros((n, n), dtype=int)\n",
    "permutation_matrix[final_index, initial_index] = 1\n"
   ]
  },
  {
   "cell_type": "code",
   "execution_count": 19,
   "metadata": {},
   "outputs": [
    {
     "data": {
      "text/plain": [
       "array([[0, 0, 0, 1, 0, 0, 0, 0],\n",
       "       [1, 0, 0, 0, 0, 0, 0, 0],\n",
       "       [0, 1, 0, 0, 0, 0, 0, 0],\n",
       "       [0, 0, 1, 0, 0, 0, 0, 0],\n",
       "       [0, 0, 0, 0, 0, 0, 0, 0],\n",
       "       [0, 0, 0, 0, 0, 0, 0, 0],\n",
       "       [0, 0, 0, 0, 0, 0, 0, 0],\n",
       "       [0, 0, 0, 0, 0, 0, 0, 0]])"
      ]
     },
     "execution_count": 19,
     "metadata": {},
     "output_type": "execute_result"
    }
   ],
   "source": [
    "permutation_matrix"
   ]
  },
  {
   "cell_type": "code",
   "execution_count": 20,
   "metadata": {},
   "outputs": [],
   "source": [
    "n_states = 9\n",
    "n_units = 200"
   ]
  },
  {
   "cell_type": "code",
   "execution_count": 21,
   "metadata": {},
   "outputs": [],
   "source": [
    "cell_correlations = np.random.normal(size=n_units)\n"
   ]
  },
  {
   "cell_type": "code",
   "execution_count": 22,
   "metadata": {},
   "outputs": [],
   "source": [
    "rep0 = np.random.normal(size=500)"
   ]
  },
  {
   "cell_type": "code",
   "execution_count": 23,
   "metadata": {},
   "outputs": [],
   "source": [
    "aa = np.outer(cell_correlations,rep0)\n"
   ]
  },
  {
   "cell_type": "code",
   "execution_count": 24,
   "metadata": {},
   "outputs": [],
   "source": [
    "U,S,V = np.linalg.svd(aa)"
   ]
  },
  {
   "cell_type": "code",
   "execution_count": 25,
   "metadata": {},
   "outputs": [],
   "source": [
    "#Y_t.shape = (nPCs,nTimepoiints)\n",
    "#Y_(t+1).shape = (nPCs,nTimepoiints)"
   ]
  },
  {
   "cell_type": "code",
   "execution_count": 26,
   "metadata": {},
   "outputs": [],
   "source": [
    "#A.shape = (nPcs x nPcs)"
   ]
  },
  {
   "cell_type": "code",
   "execution_count": 27,
   "metadata": {},
   "outputs": [],
   "source": [
    "nPcs = 8\n",
    "\n",
    "#A = np.random.normal(size=(nPcs,nPcs))\n",
    "A = np.vstack([np.ones(n_states),np.zeros([n_states-1,n_states])])"
   ]
  },
  {
   "cell_type": "code",
   "execution_count": 28,
   "metadata": {},
   "outputs": [],
   "source": [
    "A = np.eye(nPcs)\n",
    "A = A[np.random.permutation(np.arange(nPcs))]"
   ]
  },
  {
   "cell_type": "code",
   "execution_count": 29,
   "metadata": {},
   "outputs": [],
   "source": [
    "import numpy as np\n",
    "\n",
    "\n",
    "k = nPcs\n",
    "A = np.identity(k)\n",
    "\n",
    "# Add a random drift term.  We can guarantee that the diagonal terms\n",
    "#     will be larger by specifying a `high` parameter that is < 1.\n",
    "# How much larger depends on that term.  Here, it is 0.25.\n",
    "A = A + np.random.uniform(low=0., high=.5, size=(k, k))\n",
    "\n",
    "# Lastly, divide by row-wise sum to normalize to 1.\n",
    "A = A / A.sum(axis=1, keepdims=1)\n"
   ]
  },
  {
   "cell_type": "code",
   "execution_count": 30,
   "metadata": {},
   "outputs": [],
   "source": [
    "import scipy.stats\n"
   ]
  },
  {
   "cell_type": "code",
   "execution_count": 31,
   "metadata": {},
   "outputs": [],
   "source": [
    "tmp = np.random.uniform(0,1,[nPcs,2])\n",
    "tmp /= np.sqrt(np.sum(tmp**2,axis=1))[:,None]"
   ]
  },
  {
   "cell_type": "code",
   "execution_count": 32,
   "metadata": {},
   "outputs": [],
   "source": [
    "L = np.eye(nPcs)*np.sum(tmp*np.array([1,1j]),axis=1)\n",
    "#L = np.eye(nPcs)\n",
    "Q = scipy.stats.ortho_group.rvs(nPcs)"
   ]
  },
  {
   "cell_type": "code",
   "execution_count": 33,
   "metadata": {},
   "outputs": [],
   "source": [
    "A= np.dot(Q,L).dot(Q.T)"
   ]
  },
  {
   "cell_type": "code",
   "execution_count": 34,
   "metadata": {},
   "outputs": [],
   "source": [
    "state0 = np.random.normal(size=(nPcs,1))"
   ]
  },
  {
   "cell_type": "code",
   "execution_count": 35,
   "metadata": {},
   "outputs": [],
   "source": [
    "A = mat"
   ]
  },
  {
   "cell_type": "code",
   "execution_count": 36,
   "metadata": {},
   "outputs": [],
   "source": [
    "state_representation = [state0.copy()]\n",
    "for _ in range(1,n_states):\n",
    "    tmp = np.dot(A,state_representation[-1])\n",
    "    state_representation.append(tmp.copy())\n",
    "    \n",
    "#this is now n_states n_timepoints \n",
    "state_representation = np.hstack(state_representation)"
   ]
  },
  {
   "cell_type": "code",
   "execution_count": 209,
   "metadata": {},
   "outputs": [
    {
     "ename": "NameError",
     "evalue": "name 'I' is not defined",
     "output_type": "error",
     "traceback": [
      "\u001b[0;31m---------------------------------------------------------------------------\u001b[0m",
      "\u001b[0;31mNameError\u001b[0m                                 Traceback (most recent call last)",
      "\u001b[0;32m<ipython-input-209-7af84bb96101>\u001b[0m in \u001b[0;36m<module>\u001b[0;34m\u001b[0m\n\u001b[0;32m----> 1\u001b[0;31m \u001b[0mQ\u001b[0m \u001b[0;34m=\u001b[0m \u001b[0mnp\u001b[0m\u001b[0;34m.\u001b[0m\u001b[0mdot\u001b[0m\u001b[0;34m(\u001b[0m\u001b[0mnp\u001b[0m\u001b[0;34m.\u001b[0m\u001b[0mlinalg\u001b[0m\u001b[0;34m.\u001b[0m\u001b[0minv\u001b[0m\u001b[0;34m(\u001b[0m\u001b[0mI\u001b[0m\u001b[0;34m+\u001b[0m\u001b[0mAh2\u001b[0m\u001b[0;34m)\u001b[0m\u001b[0;34m,\u001b[0m\u001b[0;34m(\u001b[0m\u001b[0mI\u001b[0m\u001b[0;34m-\u001b[0m\u001b[0mAh2\u001b[0m\u001b[0;34m)\u001b[0m\u001b[0;34m)\u001b[0m\u001b[0;34m\u001b[0m\u001b[0;34m\u001b[0m\u001b[0m\n\u001b[0m\u001b[1;32m      2\u001b[0m \u001b[0;32massert\u001b[0m \u001b[0mnp\u001b[0m\u001b[0;34m.\u001b[0m\u001b[0mallclose\u001b[0m\u001b[0;34m(\u001b[0m\u001b[0;36m1\u001b[0m\u001b[0;34m,\u001b[0m\u001b[0mnp\u001b[0m\u001b[0;34m.\u001b[0m\u001b[0mabs\u001b[0m\u001b[0;34m(\u001b[0m\u001b[0mnp\u001b[0m\u001b[0;34m.\u001b[0m\u001b[0mlinalg\u001b[0m\u001b[0;34m.\u001b[0m\u001b[0meig\u001b[0m\u001b[0;34m(\u001b[0m\u001b[0mQ\u001b[0m\u001b[0;34m)\u001b[0m\u001b[0;34m[\u001b[0m\u001b[0;36m0\u001b[0m\u001b[0;34m]\u001b[0m\u001b[0;34m)\u001b[0m\u001b[0;34m)\u001b[0m\u001b[0;34m\u001b[0m\u001b[0;34m\u001b[0m\u001b[0m\n",
      "\u001b[0;31mNameError\u001b[0m: name 'I' is not defined"
     ]
    }
   ],
   "source": []
  },
  {
   "cell_type": "code",
   "execution_count": 37,
   "metadata": {},
   "outputs": [
    {
     "data": {
      "text/plain": [
       "array([[-0.00928161, -1.31979165, -1.23073869, -0.6306751 ,  1.82901741,\n",
       "         0.63169166, -1.52506889, -0.33002468]])"
      ]
     },
     "execution_count": 37,
     "metadata": {},
     "output_type": "execute_result"
    }
   ],
   "source": [
    "state0.T"
   ]
  },
  {
   "cell_type": "code",
   "execution_count": 38,
   "metadata": {},
   "outputs": [
    {
     "data": {
      "text/plain": [
       "[<matplotlib.lines.Line2D at 0x7fa852adb950>]"
      ]
     },
     "execution_count": 38,
     "metadata": {},
     "output_type": "execute_result"
    },
    {
     "data": {
      "image/png": "[encoded data removed]",
      "text/plain": [
       "<Figure size 432x288 with 1 Axes>"
      ]
     },
     "metadata": {},
     "output_type": "display_data"
    }
   ],
   "source": [
    "plt.plot(state_representation[0].real)"
   ]
  },
  {
   "cell_type": "code",
   "execution_count": 39,
   "metadata": {},
   "outputs": [],
   "source": [
    "#sorting approach"
   ]
  },
  {
   "cell_type": "code",
   "execution_count": 40,
   "metadata": {},
   "outputs": [],
   "source": [
    "y1 = state_representation[:,:-1]\n",
    "y2 = state_representation[:,1:]"
   ]
  },
  {
   "cell_type": "code",
   "execution_count": 41,
   "metadata": {},
   "outputs": [],
   "source": [
    "Ay0 = y1"
   ]
  },
  {
   "cell_type": "code",
   "execution_count": 43,
   "metadata": {},
   "outputs": [
    {
     "data": {
      "text/plain": [
       "array([-0.00928161, -1.31979165, -1.23073869, -0.6306751 ,  1.82901741,\n",
       "        0.63169166, -1.52506889, -0.33002468])"
      ]
     },
     "execution_count": 43,
     "metadata": {},
     "output_type": "execute_result"
    }
   ],
   "source": [
    "state_representation[:,0]"
   ]
  },
  {
   "cell_type": "code",
   "execution_count": 44,
   "metadata": {},
   "outputs": [
    {
     "data": {
      "text/plain": [
       "array([[ 0.04623451],\n",
       "       [-0.15118985],\n",
       "       [-0.04588375],\n",
       "       [-0.15951777],\n",
       "       [-0.00419884],\n",
       "       [ 0.04450497],\n",
       "       [-0.3070117 ],\n",
       "       [-0.10235592]])"
      ]
     },
     "execution_count": 44,
     "metadata": {},
     "output_type": "execute_result"
    }
   ],
   "source": [
    "np.linalg.pinv(state_representation[:,1].reshape(1,-1))"
   ]
  },
  {
   "cell_type": "code",
   "execution_count": 45,
   "metadata": {},
   "outputs": [
    {
     "ename": "SyntaxError",
     "evalue": "invalid syntax (<ipython-input-45-5a44b6bf8832>, line 2)",
     "output_type": "error",
     "traceback": [
      "\u001b[0;36m  File \u001b[0;32m\"<ipython-input-45-5a44b6bf8832>\"\u001b[0;36m, line \u001b[0;32m2\u001b[0m\n\u001b[0;31m    n_states = state_representation[]\u001b[0m\n\u001b[0m                                    ^\u001b[0m\n\u001b[0;31mSyntaxError\u001b[0m\u001b[0;31m:\u001b[0m invalid syntax\n"
     ]
    }
   ],
   "source": [
    "state_representation = np.random.uniform(size=(12,22))\n",
    "n_states = state_representation[]"
   ]
  },
  {
   "cell_type": "code",
   "execution_count": 46,
   "metadata": {},
   "outputs": [],
   "source": [
    "tmp1 = np.zeros([len(state_representation[:,1])]*2)\n",
    "for i in range(n_states-1):\n",
    "    tmp1 += np.outer(state_representation[:,i+1],state_representation[:,i])"
   ]
  },
  {
   "cell_type": "code",
   "execution_count": 47,
   "metadata": {},
   "outputs": [],
   "source": [
    "tmp2 = np.zeros([len(state_representation[:,1])]*2)\n",
    "for i in range(n_states-1):\n",
    "    tmp2 += np.outer(state_representation[:,i],state_representation[:,i])"
   ]
  },
  {
   "cell_type": "code",
   "execution_count": 42,
   "metadata": {},
   "outputs": [
    {
     "ename": "TypeError",
     "evalue": "_unary_dispatcher() missing 1 required positional argument: 'a'",
     "output_type": "error",
     "traceback": [
      "\u001b[0;31m---------------------------------------------------------------------------\u001b[0m",
      "\u001b[0;31mTypeError\u001b[0m                                 Traceback (most recent call last)",
      "\u001b[0;32m<ipython-input-42-bfb00593e6fd>\u001b[0m in \u001b[0;36m<module>\u001b[0;34m\u001b[0m\n\u001b[0;32m----> 1\u001b[0;31m \u001b[0mnp\u001b[0m\u001b[0;34m.\u001b[0m\u001b[0mlinalg\u001b[0m\u001b[0;34m.\u001b[0m\u001b[0minv\u001b[0m\u001b[0;34m(\u001b[0m\u001b[0;34m)\u001b[0m\u001b[0;34m\u001b[0m\u001b[0;34m\u001b[0m\u001b[0m\n\u001b[0m",
      "\u001b[0;32m<__array_function__ internals>\u001b[0m in \u001b[0;36minv\u001b[0;34m(*args, **kwargs)\u001b[0m\n",
      "\u001b[0;31mTypeError\u001b[0m: _unary_dispatcher() missing 1 required positional argument: 'a'"
     ]
    }
   ],
   "source": [
    "np.linalg.inv()"
   ]
  },
  {
   "cell_type": "code",
   "execution_count": null,
   "metadata": {},
   "outputs": [],
   "source": []
  },
  {
   "cell_type": "code",
   "execution_count": 48,
   "metadata": {},
   "outputs": [],
   "source": [
    "y1 = state_representation[:,:-1]\n",
    "y2 = state_representation[:,1:]\n",
    "Ahat =np.dot(y2,np.linalg.pinv(y1))"
   ]
  },
  {
   "cell_type": "code",
   "execution_count": 49,
   "metadata": {},
   "outputs": [
    {
     "data": {
      "text/plain": [
       "array([[ 0.48820043,  0.68778021, -0.74983668, -1.42814413,  0.94448476,\n",
       "        -1.20864679,  0.84042238,  0.91902328],\n",
       "       [-1.67261961, -1.17338598,  1.67550531,  0.55164437, -0.45557277,\n",
       "         2.89062859,  0.90881829, -0.87849774],\n",
       "       [-1.09209484, -1.07484987,  1.52413566,  0.08862413, -0.02556401,\n",
       "         1.57171653,  0.40001129,  0.36700122],\n",
       "       [-0.42734893, -0.59394554,  0.34679938,  0.43708181, -0.20174576,\n",
       "         0.98466192,  0.95974336, -0.37509723],\n",
       "       [-1.03494841, -0.37984793,  0.12814358, -0.0034214 ,  1.11441001,\n",
       "        -0.7978243 ,  1.14899092,  0.49614557],\n",
       "       [-0.85547005, -0.28882837,  0.19212775, -0.19046103,  0.36863219,\n",
       "         0.65237953,  0.69933199,  0.03995222],\n",
       "       [-0.52520354, -0.03787736, -0.11325448, -0.85994692,  0.19516643,\n",
       "        -0.69577084,  1.5323804 ,  0.74109147],\n",
       "       [-0.88447925, -0.02972273, -0.01152337, -0.04953054,  0.27773034,\n",
       "         0.0273873 ,  0.61816512,  0.96359183]])"
      ]
     },
     "execution_count": 49,
     "metadata": {},
     "output_type": "execute_result"
    }
   ],
   "source": [
    "Ahat"
   ]
  },
  {
   "cell_type": "code",
   "execution_count": 50,
   "metadata": {},
   "outputs": [
    {
     "data": {
      "text/plain": [
       "array([ 0.29027467, -0.94921706, -0.2880725 , -1.00150235, -0.0263616 ,\n",
       "        0.27941611, -1.92751527, -0.64262239])"
      ]
     },
     "execution_count": 50,
     "metadata": {},
     "output_type": "execute_result"
    }
   ],
   "source": [
    "state_representation[:,1]"
   ]
  },
  {
   "cell_type": "code",
   "execution_count": 51,
   "metadata": {},
   "outputs": [
    {
     "data": {
      "text/plain": [
       "array([[ 0.48820043,  0.68778021, -0.74983668, -1.42814413,  0.94448476,\n",
       "        -1.20864679,  0.84042238,  0.91902328],\n",
       "       [-1.67261961, -1.17338598,  1.67550531,  0.55164437, -0.45557277,\n",
       "         2.89062859,  0.90881829, -0.87849774],\n",
       "       [-1.09209484, -1.07484987,  1.52413566,  0.08862413, -0.02556401,\n",
       "         1.57171653,  0.40001129,  0.36700122],\n",
       "       [-0.42734893, -0.59394554,  0.34679938,  0.43708181, -0.20174576,\n",
       "         0.98466192,  0.95974336, -0.37509723],\n",
       "       [-1.03494841, -0.37984793,  0.12814358, -0.0034214 ,  1.11441001,\n",
       "        -0.7978243 ,  1.14899092,  0.49614557],\n",
       "       [-0.85547005, -0.28882837,  0.19212775, -0.19046103,  0.36863219,\n",
       "         0.65237953,  0.69933199,  0.03995222],\n",
       "       [-0.52520354, -0.03787736, -0.11325448, -0.85994692,  0.19516643,\n",
       "        -0.69577084,  1.5323804 ,  0.74109147],\n",
       "       [-0.88447925, -0.02972273, -0.01152337, -0.04953054,  0.27773034,\n",
       "         0.0273873 ,  0.61816512,  0.96359183]])"
      ]
     },
     "execution_count": 51,
     "metadata": {},
     "output_type": "execute_result"
    }
   ],
   "source": [
    "Ahat"
   ]
  },
  {
   "cell_type": "code",
   "execution_count": 52,
   "metadata": {},
   "outputs": [
    {
     "data": {
      "text/plain": [
       "array([-0.00928161, -1.31979165, -1.23073869, -0.6306751 ,  1.82901741,\n",
       "        0.63169166, -1.52506889, -0.33002468])"
      ]
     },
     "execution_count": 52,
     "metadata": {},
     "output_type": "execute_result"
    }
   ],
   "source": [
    "state_representation[:,0]"
   ]
  },
  {
   "cell_type": "code",
   "execution_count": 53,
   "metadata": {},
   "outputs": [
    {
     "data": {
      "text/plain": [
       "array([-0.00928161, -1.31979165, -1.23073869, -0.6306751 ,  1.82901741,\n",
       "        0.63169166, -1.52506889, -0.33002468])"
      ]
     },
     "execution_count": 53,
     "metadata": {},
     "output_type": "execute_result"
    }
   ],
   "source": [
    "state0[:,0]"
   ]
  },
  {
   "cell_type": "code",
   "execution_count": 54,
   "metadata": {},
   "outputs": [
    {
     "data": {
      "text/plain": [
       "array([ 0.29027467, -0.94921706, -0.2880725 , -1.00150235, -0.0263616 ,\n",
       "        0.27941611, -1.92751527, -0.64262239])"
      ]
     },
     "execution_count": 54,
     "metadata": {},
     "output_type": "execute_result"
    }
   ],
   "source": [
    "state_representation[:,1]"
   ]
  },
  {
   "cell_type": "code",
   "execution_count": 55,
   "metadata": {},
   "outputs": [],
   "source": [
    "y1 = state_representation[:,:-1]\n",
    "y2 = state_representation[:,1:]\n",
    "Ahat =np.dot(y2,np.linalg.pinv(y1))"
   ]
  },
  {
   "cell_type": "code",
   "execution_count": 56,
   "metadata": {},
   "outputs": [
    {
     "data": {
      "text/plain": [
       "[<matplotlib.lines.Line2D at 0x7fa860393a90>]"
      ]
     },
     "execution_count": 56,
     "metadata": {},
     "output_type": "execute_result"
    },
    {
     "data": {
      "image/png": "[encoded data removed]",
      "text/plain": [
       "<Figure size 432x288 with 1 Axes>"
      ]
     },
     "metadata": {},
     "output_type": "display_data"
    }
   ],
   "source": [
    "plt.plot(state_representation[:,1])\n",
    "plt.plot(np.dot(Ahat,state0),linestyle='--')\n"
   ]
  },
  {
   "cell_type": "code",
   "execution_count": null,
   "metadata": {},
   "outputs": [],
   "source": []
  },
  {
   "cell_type": "code",
   "execution_count": 57,
   "metadata": {},
   "outputs": [
    {
     "data": {
      "text/plain": [
       "<matplotlib.image.AxesImage at 0x7fa8916ee4d0>"
      ]
     },
     "execution_count": 57,
     "metadata": {},
     "output_type": "execute_result"
    },
    {
     "data": {
      "image/png": "[encoded data removed]",
      "text/plain": [
       "<Figure size 432x288 with 2 Axes>"
      ]
     },
     "metadata": {},
     "output_type": "display_data"
    }
   ],
   "source": [
    "plt.subplot(1,2,1)\n",
    "plt.imshow(A)\n",
    "plt.subplot(1,2,2)\n",
    "plt.imshow(Ahat)\n",
    "#plt.colorbar()"
   ]
  },
  {
   "cell_type": "code",
   "execution_count": 58,
   "metadata": {},
   "outputs": [
    {
     "data": {
      "text/plain": [
       "array([[ 0.48820043,  0.68778021, -0.74983668, -1.42814413,  0.94448476,\n",
       "        -1.20864679,  0.84042238,  0.91902328],\n",
       "       [-1.67261961, -1.17338598,  1.67550531,  0.55164437, -0.45557277,\n",
       "         2.89062859,  0.90881829, -0.87849774],\n",
       "       [-1.09209484, -1.07484987,  1.52413566,  0.08862413, -0.02556401,\n",
       "         1.57171653,  0.40001129,  0.36700122],\n",
       "       [-0.42734893, -0.59394554,  0.34679938,  0.43708181, -0.20174576,\n",
       "         0.98466192,  0.95974336, -0.37509723],\n",
       "       [-1.03494841, -0.37984793,  0.12814358, -0.0034214 ,  1.11441001,\n",
       "        -0.7978243 ,  1.14899092,  0.49614557],\n",
       "       [-0.85547005, -0.28882837,  0.19212775, -0.19046103,  0.36863219,\n",
       "         0.65237953,  0.69933199,  0.03995222],\n",
       "       [-0.52520354, -0.03787736, -0.11325448, -0.85994692,  0.19516643,\n",
       "        -0.69577084,  1.5323804 ,  0.74109147],\n",
       "       [-0.88447925, -0.02972273, -0.01152337, -0.04953054,  0.27773034,\n",
       "         0.0273873 ,  0.61816512,  0.96359183]])"
      ]
     },
     "execution_count": 58,
     "metadata": {},
     "output_type": "execute_result"
    }
   ],
   "source": [
    "A"
   ]
  },
  {
   "cell_type": "code",
   "execution_count": 59,
   "metadata": {},
   "outputs": [
    {
     "data": {
      "text/plain": [
       "(array([0.46063911+0.88758752j, 0.46063911-0.88758752j,\n",
       "        0.53414314+0.84539405j, 0.53414314-0.84539405j,\n",
       "        0.90751681+0.42001576j, 0.90751681-0.42001576j,\n",
       "        0.86709778+0.49813798j, 0.86709778-0.49813798j]),\n",
       " array([[-0.31439849-0.26294664j, -0.31439849+0.26294664j,\n",
       "          0.32837125-0.24567588j,  0.32837125+0.24567588j,\n",
       "         -0.36823497+0.17013591j, -0.36823497-0.17013591j,\n",
       "          0.45600346+0.02956183j,  0.45600346-0.02956183j],\n",
       "        [-0.46685154+0.j        , -0.46685154-0.j        ,\n",
       "          0.42362716+0.j        ,  0.42362716-0.j        ,\n",
       "         -0.36068588-0.16993256j, -0.36068588+0.16993256j,\n",
       "          0.09179223+0.04237123j,  0.09179223-0.04237123j],\n",
       "        [-0.2860419 -0.11953322j, -0.2860419 +0.11953322j,\n",
       "          0.15913329-0.1864834j ,  0.15913329+0.1864834j ,\n",
       "         -0.57438104+0.j        , -0.57438104-0.j        ,\n",
       "          0.37203904-0.17942738j,  0.37203904+0.17942738j],\n",
       "        [-0.43440745+0.03124838j, -0.43440745-0.03124838j,\n",
       "          0.28688015-0.07897239j,  0.28688015+0.07897239j,\n",
       "         -0.16030869+0.0330322j , -0.16030869-0.0330322j ,\n",
       "          0.28024523+0.12623708j,  0.28024523-0.12623708j],\n",
       "        [-0.1898606 -0.15192865j, -0.1898606 +0.15192865j,\n",
       "          0.38849374+0.07144545j,  0.38849374-0.07144545j,\n",
       "         -0.21561623+0.10702138j, -0.21561623-0.10702138j,\n",
       "          0.46183718+0.j        ,  0.46183718-0.j        ],\n",
       "        [-0.16906529-0.15951366j, -0.16906529+0.15951366j,\n",
       "          0.3616277 +0.0354188j ,  0.3616277 -0.0354188j ,\n",
       "         -0.11324486-0.11174978j, -0.11324486+0.11174978j,\n",
       "          0.13467439+0.12234499j,  0.13467439-0.12234499j],\n",
       "        [-0.26356666-0.36750196j, -0.26356666+0.36750196j,\n",
       "          0.28418163+0.1301893j ,  0.28418163-0.1301893j ,\n",
       "         -0.32745136-0.00907529j, -0.32745136+0.00907529j,\n",
       "          0.26322423+0.25933703j,  0.26322423-0.25933703j],\n",
       "        [-0.08187928-0.06230172j, -0.08187928+0.06230172j,\n",
       "          0.31747634-0.13099155j,  0.31747634+0.13099155j,\n",
       "         -0.32149277-0.1608139j , -0.32149277+0.1608139j ,\n",
       "          0.30409992+0.20116377j,  0.30409992-0.20116377j]]))"
      ]
     },
     "execution_count": 59,
     "metadata": {},
     "output_type": "execute_result"
    }
   ],
   "source": [
    "np.linalg.eig(Ahat)"
   ]
  },
  {
   "cell_type": "code",
   "execution_count": 300,
   "metadata": {},
   "outputs": [],
   "source": [
    "state_representation2 = [state0]\n",
    "for _ in range(1,n_states):\n",
    "    tmp = np.dot(Ahat,state_representation2[-1])\n",
    "    state_representation2.append(tmp.copy())\n",
    "    \n",
    "#this is now n_states n_timepoints \n",
    "state_representation2 = np.hstack(state_representation2)"
   ]
  },
  {
   "cell_type": "code",
   "execution_count": 301,
   "metadata": {},
   "outputs": [],
   "source": [
    "assert np.allclose(state_representation,state_representation2)"
   ]
  },
  {
   "cell_type": "code",
   "execution_count": 302,
   "metadata": {},
   "outputs": [
    {
     "data": {
      "text/plain": [
       "array([-0.72235655, -0.93675712, -1.12567984,  1.10369997])"
      ]
     },
     "execution_count": 302,
     "metadata": {},
     "output_type": "execute_result"
    }
   ],
   "source": [
    "np.dot(Ahat,state_representation[:,-1])"
   ]
  },
  {
   "cell_type": "code",
   "execution_count": null,
   "metadata": {},
   "outputs": [],
   "source": [
    "state_representation[:,]"
   ]
  },
  {
   "cell_type": "code",
   "execution_count": 303,
   "metadata": {},
   "outputs": [
    {
     "data": {
      "text/plain": [
       "array([-0.72235655, -0.93675712, -1.12567984,  1.10369997])"
      ]
     },
     "execution_count": 303,
     "metadata": {},
     "output_type": "execute_result"
    }
   ],
   "source": [
    "np.dot(A,state_representation[:,-1])"
   ]
  },
  {
   "cell_type": "markdown",
   "metadata": {},
   "source": [
    "# Now tackle the complex case \n",
    "\n",
    "\n",
    "I think it just naively works to factor the time series"
   ]
  },
  {
   "cell_type": "code",
   "execution_count": 7,
   "metadata": {},
   "outputs": [],
   "source": [
    "from sklearn.decomposition import PCA"
   ]
  },
  {
   "cell_type": "code",
   "execution_count": 8,
   "metadata": {},
   "outputs": [],
   "source": [
    "pca = PCA()"
   ]
  },
  {
   "cell_type": "code",
   "execution_count": null,
   "metadata": {},
   "outputs": [],
   "source": []
  }
 ],
 "metadata": {
  "kernelspec": {
   "display_name": "Python 3",
   "language": "python",
   "name": "python3"
  },
  "language_info": {
   "codemirror_mode": {
    "name": "ipython",
    "version": 3
   },
   "file_extension": ".py",
   "mimetype": "text/x-python",
   "name": "python",
   "nbconvert_exporter": "python",
   "pygments_lexer": "ipython3",
   "version": "3.7.4"
  }
 },
 "nbformat": 4,
 "nbformat_minor": 2
}
