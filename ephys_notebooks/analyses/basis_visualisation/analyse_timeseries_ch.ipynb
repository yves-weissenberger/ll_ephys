{
 "cells": [
  {
   "cell_type": "markdown",
   "metadata": {},
   "source": [
    "# Here plot activity not averaged over time for each poke"
   ]
  },
  {
   "cell_type": "code",
   "execution_count": 1,
   "metadata": {},
   "outputs": [
    {
     "name": "stderr",
     "output_type": "stream",
     "text": [
      "/Users/yves/opt/anaconda3/lib/python3.7/site-packages/statsmodels/tools/_testing.py:19: FutureWarning: pandas.util.testing is deprecated. Use the functions in the public API at pandas.testing instead.\n",
      "  import pandas.util.testing as tm\n"
     ]
    }
   ],
   "source": [
    "%matplotlib inline\n",
    "import numpy as np\n",
    "import matplotlib.pyplot as plt\n",
    "import os\n",
    "import re\n",
    "import seaborn\n",
    "import pandas as pd\n",
    "#import cv2\n",
    "import scipy.optimize as op\n",
    "import sys\n",
    "import networkx as nx\n",
    "import time\n",
    "import matplotlib\n",
    "import copy as cp\n",
    "import scipy.ndimage as ndi \n",
    "\n",
    "import scipy as sp\n",
    "import scipy.signal\n",
    "seaborn.set(style='ticks',font_scale=1.5)\n"
   ]
  },
  {
   "cell_type": "code",
   "execution_count": 2,
   "metadata": {},
   "outputs": [],
   "source": [
    "poke_pos = np.array([1,-1])*np.array([ [149,0],\n",
    "                                 [68,19],[231,19],\n",
    "                               [0,62],[149,62],[298,62],\n",
    "                                 [68,105],[231,105],\n",
    "                                      [149,124]])"
   ]
  },
  {
   "cell_type": "code",
   "execution_count": 15,
   "metadata": {},
   "outputs": [],
   "source": [
    "from mecll.rsync import Rsync_aligner\n",
    "from mecll.load import load_data\n",
    "from mecll.process_data.proc_beh import build_poke_df, get_in_task_pokes"
   ]
  },
  {
   "cell_type": "markdown",
   "metadata": {},
   "source": [
    "# From pycontrol"
   ]
  },
  {
   "cell_type": "markdown",
   "metadata": {},
   "source": [
    "#  Helper functions"
   ]
  },
  {
   "cell_type": "code",
   "execution_count": 4,
   "metadata": {},
   "outputs": [],
   "source": [
    "def get_all_transition(seq,graph_type):\n",
    "    \"\"\"\n",
    "    What is says on the tin. Returns a list of strings describing transitions that\n",
    "    is analogous to what is stored in dataframe obtained by running build_df\n",
    "    \"\"\"\n",
    "    all_transitions = []\n",
    "    lseq = len(seq)\n",
    "    if graph_type=='line': s2 = seq[:-1]\n",
    "    else: s2 = seq\n",
    "    for kk,pk in enumerate(s2):\n",
    "        #print(1)\n",
    "        all_transitions.append(str(pk) + '_' + str(seq[(kk+1)%lseq]))\n",
    "        if graph_type=='line':\n",
    "            all_transitions.append(str(seq[(kk+1)%lseq]) + '_' + str(pk))\n",
    "\n",
    "    if graph_type=='loop':\n",
    "        for kk,pk in enumerate(s2[::-1]):\n",
    "            all_transitions.append(str(pk) + '_' + str(seq[::-1][(kk+1)%lseq]))\n",
    "    return all_transitions"
   ]
  },
  {
   "cell_type": "code",
   "execution_count": 5,
   "metadata": {},
   "outputs": [],
   "source": [
    "def get_transitions_state(graph_type):\n",
    "    \n",
    "    transitions = [[i,i+1] for i in range(8)]\n",
    "    transitions.extend([[i,i-1] for i in range(1,9)])\n",
    "    if graph_type=='loop':\n",
    "        transitions.extend([[0,8],[8,0]])\n",
    "        \n",
    "    all_transitions = []\n",
    "    for kk, pk in enumerate(transitions):\n",
    "        all_transitions.append(str(pk[0])+'_'+str(pk[1]))\n",
    "    return all_transitions"
   ]
  },
  {
   "cell_type": "code",
   "execution_count": 6,
   "metadata": {},
   "outputs": [],
   "source": [
    "def plot_activity_on_graph(sequence,graph_type,order='poke',spks=None,node_size=512,mx=None,mn=None):\n",
    "    \"\"\" This plots all transitions based on the final sequence\n",
    "    \n",
    "    Argument:\n",
    "    ==============================\n",
    "    \n",
    "    order:          str (poke|state)\n",
    "                    this specifies whether spks in ordered\n",
    "                    in terms of pokes in physical space or in terms the\n",
    "                    abstract states in the task and will change how it is plotted accordingly\n",
    "    \n",
    "    \"\"\"\n",
    "    \n",
    "    if order=='poke':\n",
    "        poke_pos = np.array([1,-1])*np.array([ [149,0],\n",
    "                                 [68,19],[231,19],\n",
    "                               [0,62],[149,62],[298,62],\n",
    "                                 [68,105],[231,105],\n",
    "                                      [149,124]])\n",
    "    elif order=='state':\n",
    "        x_ = np.linspace(0,2*np.pi,num=9).tolist()\n",
    "        tmp = np.linspace(0,2*np.pi,num=9)#[x_[i] for i in sequence]\n",
    "        poke_pos = np.vstack([np.sin(tmp),np.cos(tmp)]).T\n",
    "    else:\n",
    "        raise Exception(\"order argument must be set to either 'poke' or 'state'\")\n",
    "\n",
    "\n",
    "    if spks is None: spks='.3'\n",
    "        \n",
    "    G = nx.DiGraph()\n",
    "\n",
    "    if len(spks)!='.3':\n",
    "        cmap_ = 'RdBu_r'\n",
    "        if mx is None: mx = np.max(spks)\n",
    "            \n",
    "        if mn is None: mn = 0\n",
    "        cmap = matplotlib.cm.ScalarMappable(matplotlib.colors.Normalize(vmin=mn,vmax=mx,clip=True),cmap=cmap_)\n",
    "\n",
    "        for i in range(9):\n",
    "            c = spks[i]\n",
    "            #pos = poke_pos\n",
    "            G.add_node(i,pos=poke_pos[i],color=cmap.to_rgba(c))\n",
    "        \n",
    "    seq_inv = [sequence.index(i) for i in range(9)]\n",
    "    if order=='poke':\n",
    "        all_transitions = get_all_transition(sequence,graph_type)\n",
    "    elif order=='state':\n",
    "        all_transitions = get_transitions_state(graph_type)\n",
    "    #print(all_transitions)\n",
    "    for e in all_transitions:\n",
    "        #print(all_transitions)\n",
    "        G.add_edge(int(e[0]),int(e[-1]))\n",
    "\n",
    "    node_colors = nx.get_node_attributes(G,'color')\n",
    "    if order=='poke':\n",
    "        #G.edges\n",
    "        nx.draw(G,\n",
    "                pos=poke_pos,edge_color=\".3\",\n",
    "                node_color=np.array(list(node_colors.values())),\n",
    "                node_size=node_size,\n",
    "                connectionstyle=\"arc3,rad=-0.1\",\n",
    "                width=2,\n",
    "                with_labels=False,\n",
    "                #node_labels=sequence\n",
    "        )\n",
    "        label_seq = dict([(i,seq_inv[i]) for i in range(9)])\n",
    "        nx.draw_networkx_labels(G,poke_pos, label_seq)\n",
    "\n",
    "    else:\n",
    "        nx.draw_circular(G,\n",
    "                         edge_color='.3',\n",
    "                         node_color=np.array(list(node_colors.values())),\n",
    "                         node_size=node_size,\n",
    "                        connectionstyle=\"arc3,rad=-0.1\",\n",
    "                        width=2,\n",
    "                        with_labels=False)\n",
    "        label_seq = dict([(seq_inv[i],i) for i in range(9)])\n",
    "        pos_ = nx.drawing.layout.circular_layout(G)\n",
    "        nx.draw_networkx_labels(G,pos_, label_seq)\n"
   ]
  },
  {
   "cell_type": "code",
   "execution_count": null,
   "metadata": {},
   "outputs": [],
   "source": []
  },
  {
   "cell_type": "code",
   "execution_count": 7,
   "metadata": {},
   "outputs": [],
   "source": [
    "def build_poke_df(lines,events,sync_thing=0):\n",
    "    \n",
    "    df = pd.DataFrame(columns=['target','port','state','task_nr','direction','in_timeout','n_timeouts','probe','correct',\n",
    "                               'previous_port','previous_state','reward','block_nr','task_repeat_nr','port_repeat','next_correct',\n",
    "                               'frac_corr','RT','time','current_sequence','graph_type' #behavioural variables\n",
    "                              ]) \n",
    "    \n",
    "    all_poke_dict = []\n",
    "    poke_dict = None\n",
    "    target_hist = []\n",
    "    rew_hist = []\n",
    "    current_block_number = -1\n",
    "    for ctr_,l in enumerate(lines):\n",
    "        if 'task_number'in l:\n",
    "            #if poke_dict is not None:\n",
    "            #    all_poke_dict.append(cp.deepcopy(poke_dict))\n",
    "            #poke_dict = {}\n",
    "            current_block_number += 1\n",
    "            current_task = re.findall(r'task_number([0-9])',l)[0]\n",
    "            current_sequence = eval(re.findall(r'seq:(\\[.*\\])\\n',lines[ctr_+1])[0])\n",
    "            current_graph_type = re.findall(r'graph_type:([a-z]*)',lines[ctr_+2])[0]\n",
    "            #poke_dict['task_nr'] = re.findall(r'task_number([0-9])',l)[0]\n",
    "            #poke_dict['seq'] = eval(re.findall(r'seq:(\\[.*\\])\\n',lines[ctr_+1])[0])\n",
    "            #print(lines[ctr_+2],poke_dict.keys())\n",
    "            #poke_dict['graph_type'] = re.findall(r'graph_type:([a-z]*)',lines[ctr_+2])[0]\n",
    "\n",
    "        if 'REW_IN_SEQ' in l:\n",
    "            t_ = int(re.findall(r'P ([0-9]*)',l)[0])# + sync_thing\n",
    "            poke = re.findall('POKED: ([0-9])',l)[0]\n",
    "            target = re.findall('TARGET: ([0-9])',l)[0]\n",
    "            n_rew_in_seq = int(re.findall('REW_IN_SEQ:([0-9]*)',l)[0])\n",
    "            direction = int(re.findall('DIR: (\\-*\\d+)',l)[0])\n",
    "            #print(direction)\n",
    "            \n",
    "            if len(df)>1:\n",
    "                previous_port = df.iloc[-1]['port']\n",
    "                if not df.iloc[-1]['correct']:\n",
    "                    current_is_repeat = True\n",
    "                    df.loc[len(df)-2,'next_correct'] = False\n",
    "\n",
    "                else:\n",
    "                    current_is_repeat = False\n",
    "                    df.loc[len(df)-2,'next_correct'] = True\n",
    "\n",
    "            else:\n",
    "                previous_port = None\n",
    "                current_is_repeat = False\n",
    "            \n",
    "            n_rew =  int(re.findall('REWS:([0-9]*)',l)[0])\n",
    "            #print(l)\n",
    "            probe = bool(re.findall('PROBE: ([True|False])',l)[0]=='T')\n",
    "            rew_hist.append(n_rew)\n",
    "            target_hist.append(target)\n",
    "            \n",
    "                \n",
    "                \n",
    "            \n",
    "            #print(current_sequence)\n",
    "            if len(rew_hist)>2:\n",
    "                poke_dct = {\n",
    "                          'target': int(target),\n",
    "                          'port': int(poke),\n",
    "                          'state': current_sequence.index(int(poke)),\n",
    "                          'task_nr': current_task,\n",
    "                          'direction': direction,\n",
    "                          'in_timeout': False,\n",
    "                          'n_timeouts': np.nan,\n",
    "                          'probe': probe,\n",
    "                          'correct': poke==target,\n",
    "                          'reward': n_rew==rew_hist[-2],\n",
    "                          'block_nr':current_block_number,\n",
    "                          'task_repeat_nr': int(np.floor(current_block_number/2)),\n",
    "                          'frac_corr': None,\n",
    "                          'RT':None,\n",
    "                          'time':t_,\n",
    "                          'current_sequence': current_sequence,\n",
    "                          'graph_type': current_graph_type,\n",
    "                          'port_repeat':current_is_repeat,\n",
    "                                  }\n",
    "                df = df.append(poke_dct,ignore_index=True)\n",
    "\n",
    "       \n",
    "    return df\n",
    "    "
   ]
  },
  {
   "cell_type": "code",
   "execution_count": null,
   "metadata": {},
   "outputs": [],
   "source": []
  },
  {
   "cell_type": "code",
   "execution_count": 8,
   "metadata": {},
   "outputs": [],
   "source": [
    "def get_in_task_pokes(lines,events,sync_thing=0):\n",
    "    \"\"\" This builds a list of dictionaries about what happened in the task.\n",
    "        Each dictionary contains the times of pokes in each of the ports \n",
    "        and some metadata about the currenct task (e.g. the structure of\n",
    "        the current task [line or loop] and the sequence of ports). The mouse\n",
    "        does the task in blocks that alternate between the two structures it has\n",
    "        learned. Each block has its own dictionary.\n",
    "        \"\"\"\n",
    "    all_poke_dict = []\n",
    "    poke_dict = None\n",
    "    target_hist = []\n",
    "    rew_hist = []\n",
    "    for ctr_,l in enumerate(lines):\n",
    "        if 'task_number'in l:\n",
    "            if poke_dict is not None:\n",
    "                all_poke_dict.append(cp.deepcopy(poke_dict))\n",
    "            poke_dict = {}\n",
    "            poke_dict['task_nr'] = re.findall(r'task_number([0-9])',l)[0]\n",
    "            poke_dict['seq'] = eval(re.findall(r'seq:(\\[.*\\])\\n',lines[ctr_+1])[0])\n",
    "            #print(lines[ctr_+2],poke_dict.keys())\n",
    "            poke_dict['graph_type'] = re.findall(r'graph_type:([a-z]*)',lines[ctr_+2])[0]\n",
    "\n",
    "        if 'REW_IN_SEQ' in l:\n",
    "            t_ = int(re.findall(r'P ([0-9]*)',l)[0])# + sync_thing\n",
    "            poke = re.findall('POKED: ([0-9])',l)[0]\n",
    "            target = re.findall('TARGET: ([0-9])',l)[0]\n",
    "            n_rew_in_seq = int(re.findall('REW_IN_SEQ:([0-9]*)',l)[0])\n",
    "            direction = int(re.findall('DIR: (\\-*\\d+)',l)[0])\n",
    "            #print(direction)\n",
    "            \n",
    "            n_rew =  int(re.findall('REWS:([0-9]*)',l)[0])\n",
    "            #print(l)\n",
    "            probe = bool(re.findall('PROBE: ([True|False])',l)[0]=='T')\n",
    "            rew_hist.append(n_rew)\n",
    "            target_hist.append(target)\n",
    "            #print(poke,target)\n",
    "            if len(target_hist)>3:\n",
    "                if (poke==target and \n",
    "                    #target!=target_hist[-2] and \n",
    "                    n_rew_in_seq>5 and\n",
    "                    direction==1 and\n",
    "                    n_rew==rew_hist[-2] and\n",
    "                    probe==False):\n",
    "                    #print(poke)\n",
    "                    if poke in poke_dict.keys():\n",
    "                        poke_dict[poke].append(t_)\n",
    "                    else:\n",
    "                        poke_dict[poke] = [t_]\n",
    "                    #poke_dict[poke]\n",
    "    all_poke_dict.append(poke_dict)\n",
    "    return all_poke_dict"
   ]
  },
  {
   "cell_type": "code",
   "execution_count": null,
   "metadata": {},
   "outputs": [],
   "source": []
  },
  {
   "cell_type": "code",
   "execution_count": 9,
   "metadata": {},
   "outputs": [],
   "source": [
    "def plot_cell(ix,all_resps_g1,all_resps_g2,all_poke_dict,norm=False,norm_pct=90):\n",
    "    plt.figure(figsize=(12,4))\n",
    "    n_plot = 1\n",
    "    ctr = 0\n",
    "    resps_state_g1 = all_resps_g1[:,all_poke_dict[0]['seq']]\n",
    "    resps_state_g2 = all_resps_g2[:,all_poke_dict[1]['seq']]\n",
    "\n",
    "    if norm:\n",
    "        mx = np.percentile(np.concatenate([all_resps_g1[ix],all_resps_g2[ix]]),norm_pct)\n",
    "    else:\n",
    "        mx = None\n",
    "    plt.subplot(n_plot,4,4*ctr+1)\n",
    "    spks = all_resps_g1[ix]\n",
    "    plot_activity_on_graph(all_poke_dict[0]['seq'],'line',spks=spks,order='poke',mx=mx)\n",
    "    plt.subplot(n_plot,4,4*ctr+2)\n",
    "    spks = all_resps1_g2[ix]\n",
    "    plot_activity_on_graph(all_poke_dict[1]['seq'],'line',spks=spks,order='poke',mx=mx)\n",
    "\n",
    "    plt.subplot(n_plot,4,4*ctr+3)\n",
    "    spks = resps_state_g1[ix]\n",
    "    plot_activity_on_graph(all_poke_dict[0]['seq'],'line',spks=spks,order='state',mx=mx)\n",
    "    plt.subplot(n_plot,4,4*ctr+4)\n",
    "    spks = resps_state_g2[ix]\n",
    "    plot_activity_on_graph(all_poke_dict[1]['seq'],'line',spks=spks,order='state',mx=mx)\n",
    "    \n",
    "    ctr +=1"
   ]
  },
  {
   "cell_type": "markdown",
   "metadata": {},
   "source": [
    "# Actual code"
   ]
  },
  {
   "cell_type": "code",
   "execution_count": 11,
   "metadata": {},
   "outputs": [
    {
     "name": "stdout",
     "output_type": "stream",
     "text": [
      "567 567\n"
     ]
    }
   ],
   "source": [
    "#Load behavioural data\n",
    "root_path = '/Users/yves/team_mouse Dropbox/MEC_data/spike_sorted/2021-08-06_39964_ks25/'\n",
    "#'/Users/yves/Downloads/example_files2_wOF//'\n",
    "\n",
    "out = load_data(root_path)\n",
    "spkT,spkC,single_units,events,lines,aligner = out\n",
    "\n",
    "df = build_poke_df(lines,events)\n"
   ]
  },
  {
   "cell_type": "code",
   "execution_count": 16,
   "metadata": {},
   "outputs": [],
   "source": [
    "#process task data\n",
    "all_poke_dict = get_in_task_pokes(lines,events)"
   ]
  },
  {
   "cell_type": "code",
   "execution_count": 17,
   "metadata": {},
   "outputs": [],
   "source": [
    "def get_task_boudaries(lines,aligner):\n",
    "    change_task_event = eval(lines[7][2:])['change_task']\n",
    "    \n",
    "    task_boundaries = []\n",
    "    has_start = False\n",
    "    for l in lines:\n",
    "        \n",
    "        if not has_start:\n",
    "            if 'D'==l[0]:\n",
    "                t_ = float(re.findall(r'D ([0-9]*)\\s',l)[0])\n",
    "                if np.isfinite(aligner.B_to_A(t_)):\n",
    "                    print('1')\n",
    "                    task_boundaries.append(aligner.B_to_A(t_))\n",
    "                    has_start = True\n",
    "\n",
    "\n",
    "        if 'change_task_start' in l:\n",
    "            t_ = float(re.findall(r'P ([0-9]*)\\s',l)[0])\n",
    "            task_boundaries.append(aligner.B_to_A(t_))\n",
    "            #print(l)\n",
    "            #print(t_)\n",
    "            \n",
    "    for l in lines[::-1]:\n",
    "        if l[0]=='D':\n",
    "            t_  = float(re.findall(r'D ([0-9]*)\\s',l)[0])\n",
    "            if np.isfinite(aligner.B_to_A(t_)):\n",
    "                print('2')\n",
    "                task_boundaries.append(aligner.B_to_A(t_))\n",
    "                break\n",
    "    task_boundaries = (np.array(task_boundaries)/30.).astype('int')\n",
    "    return task_boundaries"
   ]
  },
  {
   "cell_type": "code",
   "execution_count": 18,
   "metadata": {},
   "outputs": [
    {
     "name": "stdout",
     "output_type": "stream",
     "text": [
      "1\n",
      "2\n"
     ]
    }
   ],
   "source": [
    "task_boundaries = get_task_boudaries(lines,aligner)"
   ]
  },
  {
   "cell_type": "code",
   "execution_count": 19,
   "metadata": {},
   "outputs": [],
   "source": [
    "def build_spike_array(single_units,spkT,spkC):\n",
    "\n",
    "    nUnits = len(single_units)\n",
    "    maxT = int(np.ceil(np.max(spkT/30.)))\n",
    "    spike_array = np.zeros([nUnits,maxT])\n",
    "    for ctr,unit in enumerate(single_units):\n",
    "        spike_times = (np.floor(spkT[spkC==unit]/30.)).astype('int')\n",
    "        spike_array[ctr,spike_times] = 1\n",
    "    return spike_array\n",
    "    "
   ]
  },
  {
   "cell_type": "code",
   "execution_count": 21,
   "metadata": {},
   "outputs": [],
   "source": [
    "from scipy.ndimage import gaussian_filter1d"
   ]
  },
  {
   "cell_type": "code",
   "execution_count": 22,
   "metadata": {},
   "outputs": [],
   "source": [
    "def smooth_spike_array(spke_array,sigma=10):\n",
    "    spike_smooth = []\n",
    "    for i in spike_array:\n",
    "        spike_smooth.append(gaussian_filter1d(i,sigma))\n",
    "\n",
    "\n",
    "    spike_smooth = np.array(spike_smooth)\n",
    "    return spike_smooth"
   ]
  },
  {
   "cell_type": "code",
   "execution_count": 23,
   "metadata": {},
   "outputs": [],
   "source": [
    "#I think this works as a downsampling thing. This is now downsampled to 100ms\n",
    "def down_sample_spikes(spike_array,factor=50):\n",
    "    #factor = 50\n",
    "    n_units = spike_array.shape[0]\n",
    "    n_timepoints = spike_array.shape[1]\n",
    "    mx_ = int(np.floor(n_timepoints/factor)*factor)\n",
    "    spike_array_downsample = np.reshape(spike_array[:,:mx_],[n_units,int(mx_/factor),factor]).sum(axis=2)\n",
    "    return spike_array_downsample"
   ]
  },
  {
   "cell_type": "code",
   "execution_count": 25,
   "metadata": {},
   "outputs": [
    {
     "name": "stdout",
     "output_type": "stream",
     "text": [
      "0 15 0\n",
      "0 17 1\n",
      "0 27 2\n",
      "0 20 3\n",
      "0 23 4\n",
      "0 7 5\n",
      "0 22 6\n",
      "0 21 7\n",
      "0 20 8\n"
     ]
    }
   ],
   "source": [
    "poke_dict_t1 ={}\n",
    "poke_dict_t2 = {}\n",
    "for port_nr in np.unique(df['port'].values):\n",
    "    for task_nr in range(2):\n",
    "        task_nr = str(task_nr)\n",
    "        v = df.loc[(df['port']==port_nr) &\n",
    "                   (df['correct']==True) & \n",
    "                   #(df['reward']==True) &\n",
    "                   #(df['next_correct']==True) &\n",
    "                   (df['port_repeat']==False) & \n",
    "                   (df['task_nr']==task_nr)]['time'].values\n",
    "        #v = np.array(v).astype('float')\n",
    "        if task_nr=='0':\n",
    "            print(task_nr,len(v),str(port_nr),)\n",
    "            poke_dict_t1[str(port_nr)] = [float(i) for i in v]\n",
    "            poke_dict_t1['task_nr'] = str(task_nr)\n",
    "            poke_dict_t1['graph_type'] = df.loc[df['task_nr']==task_nr]['graph_type'].values[0]\n",
    "\n",
    "            poke_dict_t1['seq'] = df.loc[df['task_nr']==task_nr]['current_sequence'].values[0]\n",
    "\n",
    "        else:\n",
    "            poke_dict_t2[str(port_nr)] = [float(i) for i in v]\n",
    "            poke_dict_t2['task_nr'] = str(task_nr)\n",
    "            poke_dict_t2['graph_type'] = df.loc[df['task_nr']==task_nr]['graph_type'].values[0]\n",
    "            poke_dict_t2['seq'] = df.loc[df['task_nr']==task_nr]['current_sequence'].values[0]\n",
    "\n",
    "        \n",
    "        #if port_nr==8:\n",
    "            #poke_dict_t1['task_nr'] = str(task_nr)\n",
    "            #poke_dict_t2['task_nr'] = str(task_nr)\n",
    "            #poke_dict_t1['graph_type'] = df.loc[df['task_nr']==task_nr]['graph_type'].values[0]\n",
    "            #poke_dict_t2['graph_type'] = df.loc[df['task_nr']==task_nr]['graph_type'].values[0]\n",
    "            #poke_dict_t1['seq'] = df.loc[df['task_nr']==task_nr]['current_sequence'].values[0]\n",
    "            #poke_dict_t2['seq'] = df.loc[df['task_nr']==task_nr]['current_sequence'].values[0]\n",
    "\n",
    "\n"
   ]
  },
  {
   "cell_type": "code",
   "execution_count": 26,
   "metadata": {},
   "outputs": [],
   "source": [
    "def get_all_resps(aligner,poke_dict,single_units,spkT,spkC,window0=3000,window1=6000,get_time_mean=True):\n",
    "    \"\"\" This code gets the average response of all cells to pokes in a single task block\n",
    "    \"\"\"\n",
    "    all_resps = []\n",
    "    all_resps1 = []\n",
    "    all_resps2 = []\n",
    "    scaleF = (window0+window1)/30000.\n",
    "    \n",
    "    for unit in single_units:#[n_:n_+1]:  #loop over all cells\n",
    "        \n",
    "        spk_unit = spkT[np.where(spkC==unit)[0]] #select all spikes that belong to this cell\n",
    "        \n",
    "        resps = [[] for _ in range(9)]\n",
    "        resps1 = [[] for _ in range(9)]\n",
    "        resps2 = [[] for _ in range(9)]\n",
    "        for key,vals in poke_dict.items():  #loop over pokes\n",
    "            if re.findall('[0-9]',key): #ignore dictionary items that are metadata like the sequence and graph time\n",
    "                aligned_T = aligner.B_to_A(vals) #align pokes into spike times\n",
    "\n",
    "                #get the spikes that are in bounds for position encoding\n",
    "                pks_unit_in_bounds = np.where(np.logical_not(np.isnan(aligned_T)))[0]\n",
    "                \n",
    "                used_pks = aligned_T[pks_unit_in_bounds].astype('int') #get pokes aligned with spike times\n",
    "                key = int(key)\n",
    "                half_npks = int(len(used_pks)/2)\n",
    "                #print(key,half_npks)\n",
    "                for pk_ix,tpk in enumerate(used_pks):  #loop over all pokes to a given port\n",
    "                    \n",
    "                    #this is a block of code to split the data in half, useful for looking at stability when you\n",
    "                    #only have one task block\n",
    "                    \n",
    "                    spike_locs = np.logical_and(spk_unit>(tpk-window0),spk_unit<(tpk+window1))\n",
    "                    if get_time_mean:\n",
    "                        nSpikes = len(np.where(spike_locs)[0])\n",
    "                        firing_rate = scaleF*float(nSpikes)\n",
    "                    else:\n",
    "                        spikes = np.zeros(window0+window1)\n",
    "                        spikes[spk_unit[spike_locs]-tpk] = 1\n",
    "                        firing_rate = spikes.copy()\n",
    "                    \n",
    "                    if pk_ix<=half_npks:\n",
    "                        resps2[key].append(firing_rate)\n",
    "                        \n",
    "                    else:\n",
    "                        resps1[key].append(firing_rate)\n",
    "\n",
    "                    resps[key].append(firing_rate)\n",
    "\n",
    "                    \n",
    "                    \n",
    "        all_resps.append(resps.copy())\n",
    "        all_resps1.append(resps1.copy())\n",
    "        all_resps2.append(resps2.copy())\n",
    "        \n",
    "    return all_resps, [all_resps1,all_resps2]"
   ]
  },
  {
   "cell_type": "code",
   "execution_count": 27,
   "metadata": {},
   "outputs": [],
   "source": [
    "window0 = 12000\n",
    "window1 = 12000\n",
    "out1 = get_all_resps(aligner,poke_dict_t1,single_units,spkT,spkC,get_time_mean=False,window0=window0,window1=window1)\n",
    "all_resps_g1_single_trial, (all_resps1_g1_single_trial,all_resps2_g1_single_trial) = out1\n",
    "out2 = get_all_resps(aligner,poke_dict_t2,single_units,spkT,spkC,get_time_mean=False,window0=window0,window1=window1)\n",
    "all_resps_g2_single_trial, (all_resps1_g2_single_trial,all_resps2_g2_single_trial) = out2"
   ]
  },
  {
   "cell_type": "code",
   "execution_count": 32,
   "metadata": {},
   "outputs": [
    {
     "name": "stderr",
     "output_type": "stream",
     "text": [
      "/Users/yves/opt/anaconda3/lib/python3.7/site-packages/ipykernel_launcher.py:1: VisibleDeprecationWarning: Creating an ndarray from ragged nested sequences (which is a list-or-tuple of lists-or-tuples-or ndarrays with different lengths or shapes) is deprecated. If you meant to do this, you must specify 'dtype=object' when creating the ndarray\n",
      "  \"\"\"Entry point for launching an IPython kernel.\n"
     ]
    },
    {
     "data": {
      "text/plain": [
       "(201, 9)"
      ]
     },
     "execution_count": 32,
     "metadata": {},
     "output_type": "execute_result"
    }
   ],
   "source": [
    "np.array(all_resps1_g1_single_trial).shape"
   ]
  },
  {
   "cell_type": "code",
   "execution_count": null,
   "metadata": {},
   "outputs": [],
   "source": [
    "n_neurons = len(all_resps1_g1_single_trial)\n",
    "\n",
    "plt.figure(figsize=(18,18))\n",
    "x = np.arange((window0 + window1)/150)\n",
    "\n",
    "offset = 0\n",
    "clrs_plot = seaborn.color_palette('RdBu_r',n_colors=9)\n",
    "for neuron in np.arange(100):\n",
    "    plt.subplot(10,10, neuron+1)\n",
    "    for poke_nr in range(9):\n",
    "        activity = np.array(all_resps_g1_single_trial[offset+neuron][poke_nr])\n",
    "        if len(activity)>0:\n",
    "            for single_trial_activity in activity:\n",
    "                single_trial_activity = gaussian_filter1d(single_trial_activity.reshape(-1,150).mean(axis=1),5)\n",
    "                plt.plot(x/200,single_trial_activity,color=clrs_plot[poke_nr],linewidth=.5,alpha=.5)\n",
    "\n",
    "            mean_activity = np.mean(activity,axis=0)\n",
    "            mean_activity = gaussian_filter1d(mean_activity.reshape(-1,150).mean(axis=1),5)\n",
    "            plt.plot(x/200,mean_activity*3,color=clrs_plot[poke_nr],linewidth=3,zorder=100)\n",
    "            plt.axvline(x=window0/150/200,color='.3',dashes=(7,7))\n",
    "            seaborn.despine()\n",
    "            plt.xticks([0,.4,.8],[-400,0,400])\n",
    "            plt.yticks([])\n",
    "plt.tight_layout()"
   ]
  },
  {
   "cell_type": "code",
   "execution_count": null,
   "metadata": {},
   "outputs": [],
   "source": []
  }
 ],
 "metadata": {
  "kernelspec": {
   "display_name": "Python 3",
   "language": "python",
   "name": "python3"
  },
  "language_info": {
   "codemirror_mode": {
    "name": "ipython",
    "version": 3
   },
   "file_extension": ".py",
   "mimetype": "text/x-python",
   "name": "python",
   "nbconvert_exporter": "python",
   "pygments_lexer": "ipython3",
   "version": "3.7.4"
  }
 },
 "nbformat": 4,
 "nbformat_minor": 2
}
