{
 "cells": [
  {
   "cell_type": "code",
   "execution_count": 2,
   "metadata": {},
   "outputs": [],
   "source": [
    "#Start time is 16:48\n",
    "\n",
    "#she went down and did her stuff at 16:49\n",
    "\n"
   ]
  },
  {
   "cell_type": "code",
   "execution_count": 3,
   "metadata": {},
   "outputs": [],
   "source": [
    "%matplotlib inline\n",
    "\n",
    "import numpy as np\n",
    "import matplotlib.pyplot as plt\n",
    "import seaborn\n",
    "\n",
    "seaborn.set(font_scale=1.5,style='ticks')"
   ]
  },
  {
   "cell_type": "markdown",
   "metadata": {},
   "source": [
    "# Ok so what you want to do is simulate data with some number of PCs for task space and for physical space and then add these together. Then take an n-dimensional noise distribution and add this to the mean of the data"
   ]
  },
  {
   "cell_type": "code",
   "execution_count": 6,
   "metadata": {},
   "outputs": [],
   "source": [
    "n_neurons = 100\n",
    "num_space_pcs = 2\n",
    "num_task_pcs = 3\n",
    "n_ports = 9 \n",
    "\n",
    "order1 = np.random.permutation(np.arange(n_ports))\n",
    "order2 = np.random.permutation(np.arange(n_ports))\n",
    "\n",
    "\n",
    "#task_W\n",
    "task_pcs = np.random.normal(size=(n_neurons,num_task_pcs))\n",
    "\n",
    "#space_W\n",
    "space_pcs = np.random.normal(size=(n_neurons,num_space_pcs))\n",
    "\n"
   ]
  },
  {
   "cell_type": "code",
   "execution_count": null,
   "metadata": {},
   "outputs": [],
   "source": []
  }
 ],
 "metadata": {
  "kernelspec": {
   "display_name": "Python 3",
   "language": "python",
   "name": "python3"
  },
  "language_info": {
   "codemirror_mode": {
    "name": "ipython",
    "version": 3
   },
   "file_extension": ".py",
   "mimetype": "text/x-python",
   "name": "python",
   "nbconvert_exporter": "python",
   "pygments_lexer": "ipython3",
   "version": "3.7.4"
  }
 },
 "nbformat": 4,
 "nbformat_minor": 2
}
