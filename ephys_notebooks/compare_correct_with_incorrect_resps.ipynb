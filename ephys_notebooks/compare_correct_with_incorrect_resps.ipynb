{
 "cells": [
  {
   "cell_type": "markdown",
   "metadata": {},
   "source": [
    "# In this dataset\n",
    "\n",
    "1. does it match the statistics of a high dimensional grid representation\n",
    "2. Is the taurus real\n",
    "3. test whether you can do the grid realignment like carpenter also in the big maze\n",
    "4. show that correlation structure is preserved only in as far as cells are spatial"
   ]
  },
  {
   "cell_type": "code",
   "execution_count": 1,
   "metadata": {},
   "outputs": [
    {
     "name": "stderr",
     "output_type": "stream",
     "text": [
      "/Users/yves/opt/anaconda3/lib/python3.7/site-packages/statsmodels/tools/_testing.py:19: FutureWarning: pandas.util.testing is deprecated. Use the functions in the public API at pandas.testing instead.\n",
      "  import pandas.util.testing as tm\n"
     ]
    }
   ],
   "source": [
    "%matplotlib inline\n",
    "import numpy as np\n",
    "import matplotlib.pyplot as plt\n",
    "import os\n",
    "import re\n",
    "import seaborn\n",
    "import pandas as pd\n",
    "#import cv2\n",
    "import scipy.optimize as op\n",
    "import sys\n",
    "import scipy.stats as stt\n",
    "import networkx as nx\n",
    "import time\n",
    "import matplotlib\n",
    "import copy as cp\n",
    "import scipy.ndimage as ndi \n",
    "\n",
    "import scipy as sp\n",
    "import scipy.signal\n",
    "seaborn.set(style='ticks',font_scale=1.5)\n"
   ]
  },
  {
   "cell_type": "code",
   "execution_count": 2,
   "metadata": {},
   "outputs": [],
   "source": [
    "poke_pos = np.array([1,-1])*np.array([ [149,0],\n",
    "                                 [68,19],[231,19],\n",
    "                               [0,62],[149,62],[298,62],\n",
    "                                 [68,105],[231,105],\n",
    "                                      [149,124]])"
   ]
  },
  {
   "cell_type": "markdown",
   "metadata": {},
   "source": [
    "# From pycontrol"
   ]
  },
  {
   "cell_type": "code",
   "execution_count": 3,
   "metadata": {},
   "outputs": [],
   "source": [
    "sys.path.append('/Users/yves/Documents/Code/mec_ephys/packages')\n",
    "\n",
    "from mecll.rsync import Rsync_aligner\n",
    "from mecll.load import load_data\n",
    "from mecll.proc_beh import get_all_transition, get_transitions_state, build_poke_df, get_in_task_pokes\n",
    "from mecll.proc_neural import get_all_resps, get_mean_resps, get_activity_for_each_poke\n",
    "from mecll.plot.plot_activity_on_graph import plot_activity_on_graph, plot_cell"
   ]
  },
  {
   "cell_type": "markdown",
   "metadata": {},
   "source": [
    "# Actual code"
   ]
  },
  {
   "cell_type": "code",
   "execution_count": 4,
   "metadata": {},
   "outputs": [],
   "source": [
    "#Load behavioural data\n",
    "root_path = '/Users/yves/Downloads/example_files/'\n",
    "\n",
    "out = load_data(root_path)\n",
    "spkT,spkC,single_units,events,lines,aligner = out"
   ]
  },
  {
   "cell_type": "code",
   "execution_count": 5,
   "metadata": {},
   "outputs": [],
   "source": [
    "#process task data\n",
    "all_poke_dict = get_in_task_pokes(lines,events)"
   ]
  },
  {
   "cell_type": "code",
   "execution_count": 6,
   "metadata": {},
   "outputs": [],
   "source": [
    "df = build_poke_df(lines,events)\n"
   ]
  },
  {
   "cell_type": "code",
   "execution_count": 7,
   "metadata": {},
   "outputs": [],
   "source": [
    "all_spk_store = get_activity_for_each_poke(df,spkT,spkC,single_units,aligner)"
   ]
  },
  {
   "cell_type": "code",
   "execution_count": 14,
   "metadata": {},
   "outputs": [
    {
     "data": {
      "text/plain": [
       "(320, 1255)"
      ]
     },
     "execution_count": 14,
     "metadata": {},
     "output_type": "execute_result"
    }
   ],
   "source": [
    "all_spk_store.shape"
   ]
  },
  {
   "cell_type": "code",
   "execution_count": 95,
   "metadata": {},
   "outputs": [],
   "source": [
    "store = []\n",
    "\n",
    "n_neurons = all_spk_store.shape[0]\n",
    "\n",
    "for neuron_ix in range(n_neurons):\n",
    "    tmp2 = []\n",
    "    for port_nr in range(9):\n",
    "        tmp1 = []\n",
    "        for task_nr in df.task_nr.unique():\n",
    "\n",
    "            is_correct = True\n",
    "            v = df.loc[(df['port']==port_nr) &\n",
    "                       (df['reward']==True) & \n",
    "                       (df['correct']==True) & \n",
    "                       (df['task_nr']==task_nr)\n",
    "                      ]['time']\n",
    "\n",
    "\n",
    "            v2 = df.loc[(df['port']==port_nr) &\n",
    "                       (df['reward']==False) & \n",
    "                       (df['correct']==True) & \n",
    "                       (df['task_nr']==task_nr)\n",
    "                      ]['time']\n",
    "            \n",
    "            mean_diff = np.nanmean(all_spk_store[neuron_ix,v.index])-np.nanmean(all_spk_store[neuron_ix,v2.index])\n",
    "            tmp1.append(mean_diff)\n",
    "        tmp2.append(tmp1)\n",
    "    store.append(tmp2)"
   ]
  },
  {
   "cell_type": "code",
   "execution_count": 82,
   "metadata": {},
   "outputs": [],
   "source": [
    "store_same = []\n",
    "\n",
    "n_neurons = all_spk_store.shape[0]\n",
    "\n",
    "for neuron_ix in range(n_neurons):\n",
    "    tmp2 = []\n",
    "    for port_nr in range(9):\n",
    "        tmp1 = []\n",
    "        for task_nr in df.task_nr.unique():\n",
    "\n",
    "            is_correct = True\n",
    "            v = df.loc[(df['port']==port_nr) &\n",
    "                       (df['correct']==True) & \n",
    "                       (df['task_nr']==task_nr)\n",
    "                      ]['time']\n",
    "\n",
    "            n_fh = len(v.index)\n",
    "            first_half_inds = int(np.floor(n_fh/2.))\n",
    "            \n",
    "            mean_diff = (np.nanmean(all_spk_store[neuron_ix,v.index[:first_half_inds]])-\n",
    "                        np.nanmean(all_spk_store[neuron_ix,v.index[first_half_inds:]]))\n",
    "            tmp1.append(mean_diff)\n",
    "        tmp2.append(tmp1)\n",
    "    store_same.append(tmp2)"
   ]
  },
  {
   "cell_type": "code",
   "execution_count": 96,
   "metadata": {},
   "outputs": [],
   "source": [
    "store = np.array(store)\n",
    "store_same = np.array(store_same)"
   ]
  },
  {
   "cell_type": "code",
   "execution_count": 97,
   "metadata": {},
   "outputs": [
    {
     "data": {
      "image/png": "[encoded data removed]",
      "text/plain": [
       "<Figure size 432x288 with 1 Axes>"
      ]
     },
     "metadata": {
      "needs_background": "light"
     },
     "output_type": "display_data"
    }
   ],
   "source": [
    "bns_ = np.linspace(-3,3,num=50)\n",
    "seaborn.distplot(store.flatten(),kde=0,bins=bns_)\n",
    "seaborn.distplot(store_same.flatten(),kde=0,bins=bns_)\n",
    "plt.yscale('log')\n",
    "#plt.ylim(0,100) "
   ]
  },
  {
   "cell_type": "code",
   "execution_count": 84,
   "metadata": {},
   "outputs": [
    {
     "data": {
      "image/png": "[encoded data removed]",
      "text/plain": [
       "<Figure size 432x288 with 1 Axes>"
      ]
     },
     "metadata": {
      "needs_background": "light"
     },
     "output_type": "display_data"
    }
   ],
   "source": [
    "bns_ = np.linspace(-3,3,num=50)\n",
    "seaborn.distplot(store.flatten(),kde=0,bins=bns_)\n",
    "seaborn.distplot(store_same.flatten(),kde=0,bins=bns_)\n",
    "plt.yscale('log')\n",
    "#plt.ylim(0,100) "
   ]
  },
  {
   "cell_type": "code",
   "execution_count": 89,
   "metadata": {},
   "outputs": [
    {
     "data": {
      "text/plain": [
       "0.05649420492719417"
      ]
     },
     "execution_count": 89,
     "metadata": {},
     "output_type": "execute_result"
    }
   ],
   "source": [
    "np.var(store.flatten())"
   ]
  },
  {
   "cell_type": "code",
   "execution_count": 90,
   "metadata": {},
   "outputs": [
    {
     "data": {
      "text/plain": [
       "0.0451782754187296"
      ]
     },
     "execution_count": 90,
     "metadata": {},
     "output_type": "execute_result"
    }
   ],
   "source": [
    "np.var(store_same.flatten())"
   ]
  },
  {
   "cell_type": "code",
   "execution_count": null,
   "metadata": {},
   "outputs": [],
   "source": []
  },
  {
   "cell_type": "code",
   "execution_count": 85,
   "metadata": {},
   "outputs": [
    {
     "data": {
      "image/png": "[encoded data removed]",
      "text/plain": [
       "<Figure size 432x288 with 1 Axes>"
      ]
     },
     "metadata": {
      "needs_background": "light"
     },
     "output_type": "display_data"
    }
   ],
   "source": [
    "bns_ = np.linspace(-1,1,num=30)\n",
    "seaborn.distplot(np.abs(np.nanmean(store,axis=(1,2))),kde=0,bins=bns_,norm_hist=1)\n",
    "seaborn.distplot(np.abs(np.nanmean(store_same,axis=(1,2))),kde=0,bins=bns_,norm_hist=1)\n",
    "plt.yscale('log')\n",
    "#plt.ylim(0,100) "
   ]
  },
  {
   "cell_type": "code",
   "execution_count": 94,
   "metadata": {},
   "outputs": [
    {
     "data": {
      "text/plain": [
       "Text(0, 0.5, 'Correct - Incorrect resps')"
      ]
     },
     "execution_count": 94,
     "metadata": {},
     "output_type": "execute_result"
    },
    {
     "data": {
      "image/png": "[encoded data removed]",
      "text/plain": [
       "<Figure size 432x288 with 1 Axes>"
      ]
     },
     "metadata": {
      "needs_background": "light"
     },
     "output_type": "display_data"
    }
   ],
   "source": [
    "plt.scatter(np.abs(np.nanmean(store_same,axis=(1,2))),np.abs(np.nanmean(store,axis=(1,2))))\n",
    "plt.xlabel(\"Correct variability\")\n",
    "plt.ylabel(\"Correct - Incorrect resps\")"
   ]
  },
  {
   "cell_type": "code",
   "execution_count": 86,
   "metadata": {},
   "outputs": [
    {
     "data": {
      "image/png": "[encoded data removed]",
      "text/plain": [
       "<Figure size 432x288 with 1 Axes>"
      ]
     },
     "metadata": {
      "needs_background": "light"
     },
     "output_type": "display_data"
    }
   ],
   "source": [
    "bns_ = np.linspace(0,1,num=20)\n",
    "seaborn.distplot(np.abs(np.nanmean(store,axis=(1,2))),kde=0,bins=bns_,norm_hist=True)\n",
    "seaborn.distplot(np.abs(np.nanmean(store_same,axis=(1,2))),kde=0,bins=bns_,norm_hist=True)\n",
    "plt.yscale('log')\n",
    "#plt.ylim(0,100) "
   ]
  },
  {
   "cell_type": "code",
   "execution_count": 87,
   "metadata": {},
   "outputs": [
    {
     "data": {
      "text/plain": [
       "0.004849488988608167"
      ]
     },
     "execution_count": 87,
     "metadata": {},
     "output_type": "execute_result"
    }
   ],
   "source": [
    "np.var(np.nanmean(store,axis=(1,2)))"
   ]
  },
  {
   "cell_type": "code",
   "execution_count": 88,
   "metadata": {},
   "outputs": [
    {
     "data": {
      "text/plain": [
       "0.009032488557415624"
      ]
     },
     "execution_count": 88,
     "metadata": {},
     "output_type": "execute_result"
    }
   ],
   "source": [
    "np.var(np.nanmean(store_same,axis=(1,2)))"
   ]
  },
  {
   "cell_type": "code",
   "execution_count": 58,
   "metadata": {},
   "outputs": [
    {
     "data": {
      "text/plain": [
       "Ks_2sampResult(statistic=0.10138888888888889, pvalue=3.499253709979043e-26)"
      ]
     },
     "execution_count": 58,
     "metadata": {},
     "output_type": "execute_result"
    }
   ],
   "source": [
    "stt.ks_2samp(np.abs(store.flatten()),np.abs(store_same.flatten()))"
   ]
  },
  {
   "cell_type": "code",
   "execution_count": 31,
   "metadata": {},
   "outputs": [
    {
     "data": {
      "text/plain": [
       "0.0"
      ]
     },
     "execution_count": 31,
     "metadata": {},
     "output_type": "execute_result"
    }
   ],
   "source": [
    "np.max(store)"
   ]
  },
  {
   "cell_type": "code",
   "execution_count": 13,
   "metadata": {},
   "outputs": [
    {
     "data": {
      "text/plain": [
       "(320, 1255)"
      ]
     },
     "execution_count": 13,
     "metadata": {},
     "output_type": "execute_result"
    }
   ],
   "source": [
    "all_spk_store.shape"
   ]
  },
  {
   "cell_type": "code",
   "execution_count": 10,
   "metadata": {},
   "outputs": [
    {
     "data": {
      "text/plain": [
       "(86, 9, 2)"
      ]
     },
     "execution_count": 10,
     "metadata": {},
     "output_type": "execute_result"
    }
   ],
   "source": [
    "np.array(store).shape"
   ]
  },
  {
   "cell_type": "code",
   "execution_count": 39,
   "metadata": {},
   "outputs": [
    {
     "data": {
      "text/plain": [
       "1255"
      ]
     },
     "execution_count": 39,
     "metadata": {},
     "output_type": "execute_result"
    }
   ],
   "source": [
    "len(df)"
   ]
  },
  {
   "cell_type": "code",
   "execution_count": 37,
   "metadata": {},
   "outputs": [
    {
     "data": {
      "text/plain": [
       "Int64Index([ 466,  476,  479,  507,  510,  512,  515,  517,  533,  562,  564,\n",
       "             567,  586,  589,  613,  639,  655,  692,  694,  696,  698,  720,\n",
       "             755,  758,  778,  799,  801,  819,  822,  841,  860,  886, 1174,\n",
       "            1194, 1212, 1216, 1218, 1222, 1224, 1238],\n",
       "           dtype='int64')"
      ]
     },
     "execution_count": 37,
     "metadata": {},
     "output_type": "execute_result"
    }
   ],
   "source": [
    "v.index"
   ]
  },
  {
   "cell_type": "code",
   "execution_count": 34,
   "metadata": {},
   "outputs": [
    {
     "data": {
      "text/plain": [
       "array(['0', '1'], dtype=object)"
      ]
     },
     "execution_count": 34,
     "metadata": {},
     "output_type": "execute_result"
    }
   ],
   "source": [
    "df.task_nr.unique()"
   ]
  },
  {
   "cell_type": "code",
   "execution_count": 25,
   "metadata": {},
   "outputs": [
    {
     "data": {
      "text/plain": [
       "array([0. , 0. , 0. , 0.6, 0. , 0. , 0. , 0. , 0. , 0. , 0.6, 0. , 0. ,\n",
       "       0. , 0. , 0. , 0. , 0.3, 0.3, 0.3, 0. , 0. , 0. , 0. , 0. , 0. ,\n",
       "       0.6, 0. , 0. , 0.9, 2.1, 0. , 0. , 0. , 0. , 0. , 1.5, 0. , 0. ,\n",
       "       0. , 0. , 0.6, 1.2, 0. , 0. , 0. , 0. , 0.9, 0. , 1.8, 0. , 0. ,\n",
       "       0. , 0. , 0.6, 0. , 0. , 0. , 0.9, 0.6, 0. , 0.6, 0. , 0. , 0. ,\n",
       "       0. , 0. ])"
      ]
     },
     "execution_count": 25,
     "metadata": {},
     "output_type": "execute_result"
    }
   ],
   "source": [
    "all_spk_store[5,v.index]"
   ]
  },
  {
   "cell_type": "code",
   "execution_count": 27,
   "metadata": {},
   "outputs": [],
   "source": [
    "is_correct = False\n",
    "v2 = df.loc[(df['port']==port_nr) &\n",
    "           (df['correct']==is_correct) & \n",
    "           #(df['next_correct']==True) &\n",
    "           #(df['reward']==True) &\n",
    "           #(df['port_repeat']==False) & \n",
    "           (df['task_nr']==task_nr)\n",
    "          ]['time']\n"
   ]
  },
  {
   "cell_type": "code",
   "execution_count": 31,
   "metadata": {},
   "outputs": [
    {
     "data": {
      "text/plain": [
       "0.21492537313432833"
      ]
     },
     "execution_count": 31,
     "metadata": {},
     "output_type": "execute_result"
    }
   ],
   "source": [
    "np.mean(all_spk_store[5,v.index])"
   ]
  },
  {
   "cell_type": "code",
   "execution_count": 30,
   "metadata": {},
   "outputs": [
    {
     "data": {
      "text/plain": [
       "0.09999999999999999"
      ]
     },
     "execution_count": 30,
     "metadata": {},
     "output_type": "execute_result"
    }
   ],
   "source": [
    "np.mean(all_spk_store[5,v2.index])"
   ]
  },
  {
   "cell_type": "code",
   "execution_count": 33,
   "metadata": {},
   "outputs": [
    {
     "data": {
      "text/plain": [
       "Ks_2sampResult(statistic=0.1256218905472637, pvalue=0.9017210985592835)"
      ]
     },
     "execution_count": 33,
     "metadata": {},
     "output_type": "execute_result"
    }
   ],
   "source": [
    "stt.ks_2samp(all_spk_store[5,v.index],all_spk_store[5,v2.index])"
   ]
  },
  {
   "cell_type": "code",
   "execution_count": null,
   "metadata": {},
   "outputs": [],
   "source": []
  }
 ],
 "metadata": {
  "kernelspec": {
   "display_name": "Python 3",
   "language": "python",
   "name": "python3"
  },
  "language_info": {
   "codemirror_mode": {
    "name": "ipython",
    "version": 3
   },
   "file_extension": ".py",
   "mimetype": "text/x-python",
   "name": "python",
   "nbconvert_exporter": "python",
   "pygments_lexer": "ipython3",
   "version": "3.7.4"
  }
 },
 "nbformat": 4,
 "nbformat_minor": 2
}
