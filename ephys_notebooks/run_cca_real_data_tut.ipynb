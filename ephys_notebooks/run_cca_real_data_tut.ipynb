{
 "cells": [
  {
   "cell_type": "code",
   "execution_count": 1,
   "metadata": {},
   "outputs": [
    {
     "name": "stderr",
     "output_type": "stream",
     "text": [
      "/Users/yves/opt/anaconda3/lib/python3.7/site-packages/statsmodels/tools/_testing.py:19: FutureWarning: pandas.util.testing is deprecated. Use the functions in the public API at pandas.testing instead.\n",
      "  import pandas.util.testing as tm\n"
     ]
    }
   ],
   "source": [
    "#%matplotlib inline\n",
    "import sys\n",
    "import os\n",
    "\n",
    "\n",
    "import numpy as np\n",
    "import matplotlib.pyplot as plt\n",
    "import scipy.ndimage as ndi\n",
    "import pandas as pd\n",
    "import networkx as nx\n",
    "import scipy.stats as stt\n",
    "#optional for nicer plots\n",
    "import seaborn\n",
    "clrs = seaborn.color_palette(n_colors=6)\n",
    "seaborn.set(style='ticks',font_scale=1.5)"
   ]
  },
  {
   "cell_type": "markdown",
   "metadata": {},
   "source": [
    "# UPDATE THE PATH BELOW TO THE CODE FOLDER"
   ]
  },
  {
   "cell_type": "code",
   "execution_count": 2,
   "metadata": {},
   "outputs": [],
   "source": [
    "sys.path.append(\"/Users/yves/Desktop/retreat_data_dir/code/\")\n",
    "from mecll.task import plot_activity_on_graph"
   ]
  },
  {
   "cell_type": "markdown",
   "metadata": {},
   "source": [
    "# Load stuff"
   ]
  },
  {
   "cell_type": "code",
   "execution_count": 3,
   "metadata": {},
   "outputs": [],
   "source": [
    "\"\"\"Python module for regularized kernel canonical correlation analysis\"\"\"\n",
    "\n",
    "import h5py\n",
    "import joblib\n",
    "import numpy as np\n",
    "from scipy.linalg import eigh\n",
    "\n",
    "__copyright__ = \"Copyright 2016, UC Berkeley, Gallant lab.\"\n",
    "\n",
    "__all__ = [\"CCA\", \"CCACrossValidate\"]\n",
    "\n",
    "\n",
    "class _CCABase(object):\n",
    "    def __init__(\n",
    "            self,\n",
    "            numCV=None,\n",
    "            reg=None,\n",
    "            regs=None,\n",
    "            numCC=None,\n",
    "            numCCs=None,\n",
    "            kernelcca=True,\n",
    "            ktype=None,\n",
    "            verbose=False,\n",
    "            select=0.2,\n",
    "            cutoff=1e-15,\n",
    "            gausigma=1.0,\n",
    "            degree=2,\n",
    "    ):\n",
    "        self.numCV = numCV\n",
    "        self.reg = reg\n",
    "        self.regs = regs\n",
    "        self.numCC = numCC\n",
    "        self.numCCs = numCCs\n",
    "        self.kernelcca = kernelcca\n",
    "        self.ktype = ktype\n",
    "        self.cutoff = cutoff\n",
    "        self.select = select\n",
    "        self.gausigma = gausigma\n",
    "        self.degree = degree\n",
    "        if self.kernelcca and self.ktype is None:\n",
    "            self.ktype = \"linear\"\n",
    "        self.verbose = verbose\n",
    "\n",
    "    def train(self, data):\n",
    "        if self.verbose:\n",
    "            print(\n",
    "                \"Training CCA, kernel = %s, regularization = %0.4f, \"\n",
    "                \"%d components\" % (self.ktype, self.reg, self.numCC)\n",
    "            )\n",
    "\n",
    "        comps = kcca(\n",
    "            data,\n",
    "            self.reg,\n",
    "            self.numCC,\n",
    "            kernelcca=self.kernelcca,\n",
    "            ktype=self.ktype,\n",
    "            gausigma=self.gausigma,\n",
    "            degree=self.degree,\n",
    "        )\n",
    "        self.cancorrs, self.ws, self.comps = recon(\n",
    "            data, comps, kernelcca=self.kernelcca\n",
    "        )\n",
    "        if len(data) == 2:\n",
    "            self.cancorrs = self.cancorrs[np.nonzero(self.cancorrs)]\n",
    "        return self\n",
    "\n",
    "    def validate(self, vdata):\n",
    "        vdata = [np.nan_to_num(_zscore(d)) for d in vdata]\n",
    "        if not hasattr(self, \"ws\"):\n",
    "            raise NameError(\"Algorithm has not been trained.\")\n",
    "        self.preds, self.corrs = predict(vdata, self.ws, self.cutoff)\n",
    "        return self.corrs\n",
    "\n",
    "    def compute_ev(self, vdata):\n",
    "        nD = len(vdata)\n",
    "        nC = self.ws[0].shape[1]\n",
    "        nF = [d.shape[1] for d in vdata]\n",
    "        self.ev = [np.zeros((nC, f)) for f in nF]\n",
    "        for cc in range(nC):\n",
    "            ccs = cc + 1\n",
    "            if self.verbose:\n",
    "                print(\"Computing explained variance for component #%d\" % ccs)\n",
    "            preds, corrs = predict(\n",
    "                vdata, [w[:, ccs - 1: ccs] for w in self.ws], self.cutoff\n",
    "            )\n",
    "            resids = [abs(d[0] - d[1]) for d in zip(vdata, preds)]\n",
    "            for s in range(nD):\n",
    "                ev = abs(vdata[s].var(0) - resids[s].var(0)) / vdata[s].var(0)\n",
    "                ev[np.isnan(ev)] = 0.0\n",
    "                self.ev[s][cc] = ev\n",
    "        return self.ev\n",
    "\n",
    "    def save(self, filename):\n",
    "        h5 = h5py.File(filename, \"a\")\n",
    "        for key, value in self.__dict__.items():\n",
    "            if value is not None:\n",
    "                if isinstance(value, list):\n",
    "                    for di in range(len(value)):\n",
    "                        grpname = \"dataset%d\" % di\n",
    "                        dgrp = h5.require_group(grpname)\n",
    "                        try:\n",
    "                            dgrp.create_dataset(key, data=value[di])\n",
    "                        except RuntimeError:\n",
    "                            del h5[grpname][key]\n",
    "                            dgrp.create_dataset(key, data=value[di])\n",
    "                else:\n",
    "                    h5.attrs[key] = value\n",
    "        h5.close()\n",
    "\n",
    "    def load(self, filename):\n",
    "        h5 = h5py.File(filename, 'r')\n",
    "        for key, value in h5.attrs.items():\n",
    "            setattr(self, key, value)\n",
    "        for di in range(len(h5.keys())):\n",
    "            ds = \"dataset%d\" % di\n",
    "            for key, value in h5[ds].items():\n",
    "                if di == 0:\n",
    "                    setattr(self, key, [])\n",
    "                self.__getattribute__(key).append(value[()])\n",
    "        h5.close()\n",
    "\n",
    "\n",
    "class CCACrossValidate(_CCABase):\n",
    "    \"\"\"\n",
    "    Attributes:\n",
    "        numCV (int): number of cross-validation folds\n",
    "        regs (list or numpy.array): regularization param array.\n",
    "                                   Default: np.logspace(-3, 1, 10)\n",
    "        numCCs (list or numpy.array): list of numbers of canonical dimensions\n",
    "                                     to keep. Default is np.range(5, 10).\n",
    "        kernelcca (bool): kernel or non-kernel CCA. Default is True.\n",
    "        ktype (string): type of kernel used if kernelcca is True.\n",
    "                        Value can be 'linear' (default) or 'gaussian'.\n",
    "        verbose (bool): default is True.\n",
    "    Returns:\n",
    "        ws (list): canonical weights\n",
    "        comps (list): canonical components\n",
    "        cancorrs (list): correlations of the canonical components\n",
    "                         on the training dataset\n",
    "        corrs (list): correlations on the validation dataset\n",
    "        preds (list): predictions on the validation dataset\n",
    "        ev (list): explained variance for each canonical dimension\n",
    "    \"\"\"\n",
    "\n",
    "    def __init__(\n",
    "            self,\n",
    "            numCV=None,\n",
    "            regs=None,\n",
    "            numCCs=None,\n",
    "            kernelcca=True,\n",
    "            ktype=None,\n",
    "            verbose=True,\n",
    "            select=0.2,\n",
    "            cutoff=1e-15,\n",
    "            gausigma=1.0,\n",
    "            degree=2,\n",
    "    ):\n",
    "        numCV = 10 if numCV is None else numCV\n",
    "        regs = np.array(np.logspace(-3, 1, 10)) if regs is None else regs\n",
    "        numCCs = np.arange(5, 10) if numCCs is None else numCCs\n",
    "        super(CCACrossValidate, self).__init__(\n",
    "            numCV=numCV,\n",
    "            regs=regs,\n",
    "            numCCs=numCCs,\n",
    "            kernelcca=kernelcca,\n",
    "            ktype=ktype,\n",
    "            verbose=verbose,\n",
    "            select=select,\n",
    "            cutoff=cutoff,\n",
    "            gausigma=gausigma,\n",
    "            degree=degree,\n",
    "        )\n",
    "\n",
    "    def train(self, data, parallel=True):\n",
    "        \"\"\"\n",
    "        Train CCA with cross-validation for a set of regularization\n",
    "        coefficients and/or numbers of CCs\n",
    "        Attributes:\n",
    "            data (list): training data matrices\n",
    "                         (number of samples X number of features).\n",
    "                         Number of samples must match across datasets.\n",
    "            parallel (bool): use joblib to train cross-validation folds\n",
    "                             in parallel\n",
    "        \"\"\"\n",
    "        corr_mat = np.zeros((len(self.regs), len(self.numCCs)))\n",
    "        selection = max(int(self.select * min([d.shape[1] for d in data])), 1)\n",
    "        for ri, reg in enumerate(self.regs):\n",
    "            for ci, numCC in enumerate(self.numCCs):\n",
    "                running_corr_mean_sum = 0.0\n",
    "                if parallel:\n",
    "                    fold_corr_means = joblib.Parallel(n_jobs=self.numCV)(\n",
    "                        joblib.delayed(train_cvfold)(\n",
    "                            data=data,\n",
    "                            reg=reg,\n",
    "                            numCC=numCC,\n",
    "                            kernelcca=self.kernelcca,\n",
    "                            ktype=self.ktype,\n",
    "                            gausigma=self.gausigma,\n",
    "                            degree=self.degree,\n",
    "                            cutoff=self.cutoff,\n",
    "                            selection=selection,\n",
    "                        )\n",
    "                        for _ in range(self.numCV)\n",
    "                    )\n",
    "                    running_corr_mean_sum += sum(fold_corr_means)\n",
    "                else:\n",
    "                    for cvfold in range(self.numCV):\n",
    "                        fold_corr_mean = train_cvfold(\n",
    "                            data=data,\n",
    "                            reg=reg,\n",
    "                            numCC=numCC,\n",
    "                            kernelcca=self.kernelcca,\n",
    "                            ktype=self.ktype,\n",
    "                            gausigma=self.gausigma,\n",
    "                            degree=self.degree,\n",
    "                            cutoff=self.cutoff,\n",
    "                            selection=selection,\n",
    "                        )\n",
    "                        running_corr_mean_sum += fold_corr_mean\n",
    "\n",
    "                corr_mat[ri, ci] = running_corr_mean_sum / self.numCV\n",
    "        best_ri, best_ci = np.where(corr_mat == corr_mat.max())\n",
    "        self.best_reg = self.regs[best_ri[0]]\n",
    "        self.best_numCC = self.numCCs[best_ci[0]]\n",
    "\n",
    "        comps = kcca(\n",
    "            data,\n",
    "            self.best_reg,\n",
    "            self.best_numCC,\n",
    "            kernelcca=self.kernelcca,\n",
    "            ktype=self.ktype,\n",
    "            gausigma=self.gausigma,\n",
    "            degree=self.degree,\n",
    "        )\n",
    "        self.cancorrs, self.ws, self.comps = recon(\n",
    "            data, comps, kernelcca=self.kernelcca\n",
    "        )\n",
    "        if len(data) == 2:\n",
    "            self.cancorrs = self.cancorrs[np.nonzero(self.cancorrs)]\n",
    "        return self\n",
    "\n",
    "\n",
    "def train_cvfold(\n",
    "        data, reg, numCC, kernelcca, ktype, gausigma, degree, cutoff, selection\n",
    "):\n",
    "    \"\"\"\n",
    "    Train a cross-validation fold of CCA\n",
    "    \"\"\"\n",
    "    nT = data[0].shape[0]\n",
    "    chunklen = 10 if nT > 50 else 1\n",
    "    nchunks = int(0.2 * nT / chunklen)\n",
    "    indchunks = list(zip(*[iter(range(nT))] * chunklen))\n",
    "    np.random.shuffle(indchunks)\n",
    "    heldinds = [ind for chunk in indchunks[:nchunks] for ind in chunk]\n",
    "    notheldinds = list(set(range(nT)) - set(heldinds))\n",
    "    comps = kcca(\n",
    "        [d[notheldinds] for d in data],\n",
    "        reg,\n",
    "        numCC,\n",
    "        kernelcca=kernelcca,\n",
    "        ktype=ktype,\n",
    "        gausigma=gausigma,\n",
    "        degree=degree,\n",
    "    )\n",
    "    cancorrs, ws, ccomps = recon(\n",
    "        [d[notheldinds] for d in data], comps, kernelcca=kernelcca\n",
    "    )\n",
    "    preds, corrs = predict([d[heldinds] for d in data], ws, cutoff=cutoff)\n",
    "    fold_corr_mean = []\n",
    "    for corr in corrs:\n",
    "        corr_idx = np.argsort(corr)[::-1]\n",
    "        corr_mean = corr[corr_idx][:selection].mean()\n",
    "        fold_corr_mean.append(corr_mean)\n",
    "    return np.mean(fold_corr_mean)\n",
    "\n",
    "\n",
    "class CCA(_CCABase):\n",
    "    \"\"\"Attributes:\n",
    "        reg (float): regularization parameter. Default is 0.1.\n",
    "        numCC (int): number of canonical dimensions to keep. Default is 10.\n",
    "        kernelcca (bool): kernel or non-kernel CCA. Default is True.\n",
    "        ktype (string): type of kernel used if kernelcca is True.\n",
    "                        Value can be 'linear' (default) or 'gaussian'.\n",
    "        verbose (bool): default is True.\n",
    "    Returns:\n",
    "        ws (list): canonical weights\n",
    "        comps (list): canonical components\n",
    "        cancorrs (list): correlations of the canonical components\n",
    "                         on the training dataset\n",
    "        corrs (list): correlations on the validation dataset\n",
    "        preds (list): predictions on the validation dataset\n",
    "        ev (list): explained variance for each canonical dimension\n",
    "    \"\"\"\n",
    "\n",
    "    def __init__(\n",
    "            self, reg=0.0, numCC=10, kernelcca=True, ktype=None, verbose=True, cutoff=1e-15\n",
    "    ):\n",
    "        super(CCA, self).__init__(\n",
    "            reg=reg,\n",
    "            numCC=numCC,\n",
    "            kernelcca=kernelcca,\n",
    "            ktype=ktype,\n",
    "            verbose=verbose,\n",
    "            cutoff=cutoff,\n",
    "        )\n",
    "\n",
    "    def train(self, data):\n",
    "        return super(CCA, self).train(data)\n",
    "\n",
    "\n",
    "def predict(vdata, ws, cutoff=1e-15):\n",
    "    \"\"\"Get predictions for each dataset based on the other datasets\n",
    "    and weights. Find correlations with actual dataset.\"\"\"\n",
    "    iws = [np.linalg.pinv(w.T, rcond=cutoff) for w in ws]\n",
    "    ccomp = _listdot([d.T for d in vdata], ws)\n",
    "    ccomp = np.array(ccomp)\n",
    "    preds = []\n",
    "    corrs = []\n",
    "\n",
    "    for dnum in range(len(vdata)):\n",
    "        idx = np.ones((len(vdata),))\n",
    "        idx[dnum] = False\n",
    "        proj = ccomp[idx > 0].mean(0)\n",
    "        pred = np.dot(iws[dnum], proj.T).T\n",
    "        pred = np.nan_to_num(_zscore(pred))\n",
    "        preds.append(pred)\n",
    "        cs = np.nan_to_num(_rowcorr(vdata[dnum].T, pred.T))\n",
    "        corrs.append(cs)\n",
    "    return preds, corrs\n",
    "\n",
    "\n",
    "def kcca(\n",
    "        data, reg=0.0, numCC=None, kernelcca=True, ktype=\"linear\", gausigma=1.0, degree=2\n",
    "):\n",
    "    \"\"\"Set up and solve the kernel CCA eigenproblem\"\"\"\n",
    "    if kernelcca:\n",
    "        kernel = [\n",
    "            _make_kernel(d, ktype=ktype, gausigma=gausigma, degree=degree) for d in data\n",
    "        ]\n",
    "    else:\n",
    "        kernel = [d.T for d in data]\n",
    "\n",
    "    nDs = len(kernel)\n",
    "    nFs = [k.shape[0] for k in kernel]\n",
    "    numCC = min([k.shape[0] for k in kernel]) if numCC is None else numCC\n",
    "\n",
    "    # Get the auto- and cross-covariance matrices\n",
    "    crosscovs = [np.dot(ki, kj.T) for ki in kernel for kj in kernel]\n",
    "\n",
    "    # Allocate left-hand side (LH) and right-hand side (RH):\n",
    "    n = sum(nFs)\n",
    "    LH = np.zeros((n, n))\n",
    "    RH = np.zeros((n, n))\n",
    "\n",
    "    # Fill the left and right sides of the eigenvalue problem\n",
    "    for i in range(nDs):\n",
    "        RH[\n",
    "        sum(nFs[:i]): sum(nFs[: i + 1]), sum(nFs[:i]): sum(nFs[: i + 1])\n",
    "        ] = crosscovs[i * (nDs + 1)] + reg * np.eye(nFs[i])\n",
    "\n",
    "        for j in range(nDs):\n",
    "            if i != j:\n",
    "                LH[\n",
    "                sum(nFs[:j]): sum(nFs[: j + 1]), sum(nFs[:i]): sum(nFs[: i + 1])\n",
    "                ] = crosscovs[nDs * j + i]\n",
    "\n",
    "    LH = (LH + LH.T) / 2.0\n",
    "    RH = (RH + RH.T) / 2.0\n",
    "\n",
    "    maxCC = LH.shape[0]\n",
    "    r, Vs = eigh(LH, RH, eigvals=(maxCC - numCC, maxCC - 1))\n",
    "    r[np.isnan(r)] = 0\n",
    "    rindex = np.argsort(r)[::-1]\n",
    "    comp = []\n",
    "    Vs = Vs[:, rindex]\n",
    "    for i in range(nDs):\n",
    "        comp.append(Vs[sum(nFs[:i]): sum(nFs[: i + 1]), :numCC])\n",
    "    return comp\n",
    "\n",
    "\n",
    "def recon(data, comp, corronly=False, kernelcca=True):\n",
    "    # Get canonical variates and CCs\n",
    "    if kernelcca:\n",
    "        ws = _listdot(data, comp)\n",
    "    else:\n",
    "        ws = comp\n",
    "    ccomp = _listdot([d.T for d in data], ws)\n",
    "    corrs = _listcorr(ccomp)\n",
    "    if corronly:\n",
    "        return corrs\n",
    "    else:\n",
    "        return corrs, ws, ccomp\n",
    "\n",
    "\n",
    "def _zscore(d):\n",
    "    return (d - d.mean(0)) / d.std(0)\n",
    "\n",
    "\n",
    "def _demean(d):\n",
    "    return d - d.mean(0)\n",
    "\n",
    "\n",
    "def _listdot(d1, d2):\n",
    "    return [np.dot(x[0].T, x[1]) for x in zip(d1, d2)]\n",
    "\n",
    "\n",
    "def _listcorr(a):\n",
    "    \"\"\"Returns pairwise row correlations for all items in array as a list of matrices\"\"\"\n",
    "    corrs = np.zeros((a[0].shape[1], len(a), len(a)))\n",
    "    for i in range(len(a)):\n",
    "        for j in range(len(a)):\n",
    "            if j > i:\n",
    "                corrs[:, i, j] = [\n",
    "                    np.nan_to_num(np.corrcoef(ai, aj)[0, 1])\n",
    "                    for (ai, aj) in zip(a[i].T, a[j].T)\n",
    "                ]\n",
    "    return corrs\n",
    "\n",
    "\n",
    "def _rowcorr(a, b):\n",
    "    \"\"\"Correlations between corresponding matrix rows\"\"\"\n",
    "    cs = np.zeros((a.shape[0]))\n",
    "    for idx in range(a.shape[0]):\n",
    "        cs[idx] = np.corrcoef(a[idx], b[idx])[0, 1]\n",
    "    return cs\n",
    "\n",
    "\n",
    "def _make_kernel(d, normalize=True, ktype=\"linear\", gausigma=1.0, degree=2):\n",
    "    \"\"\"Makes a kernel for data d\n",
    "    If ktype is 'linear', the kernel is a linear inner product\n",
    "    If ktype is 'gaussian', the kernel is a Gaussian kernel, sigma = gausigma\n",
    "    If ktype is 'poly', the kernel is a polynomial kernel with degree=degree\n",
    "    \"\"\"\n",
    "    d = np.nan_to_num(d)\n",
    "    cd = _demean(d)\n",
    "    if ktype == \"linear\":\n",
    "        kernel = np.dot(cd, cd.T)\n",
    "    elif ktype == \"gaussian\":\n",
    "        from scipy.spatial.distance import pdist, squareform\n",
    "\n",
    "        pairwise_dists = squareform(pdist(d, \"euclidean\"))\n",
    "        kernel = np.exp((-(pairwise_dists ** 2)) / (2 * gausigma ** 2))\n",
    "    elif ktype == \"poly\":\n",
    "        kernel = np.dot(cd, cd.T) ** degree\n",
    "    kernel = (kernel + kernel.T) / 2.0\n",
    "    if normalize:\n",
    "        kernel = kernel / np.linalg.eigvalsh(kernel).max()\n",
    "    return kernel\n"
   ]
  },
  {
   "cell_type": "code",
   "execution_count": 52,
   "metadata": {},
   "outputs": [],
   "source": [
    "#These are the times (in units of the behaviour system bin running @1000Hz) at which spikes occurred\n",
    "\n",
    "selected_session = 0\n",
    "\n",
    "all_data_dir = '/Users/yves/Desktop/retreat_data_dir/data/'\n",
    "all_data_folders = sorted([i for i in os.listdir(all_data_dir) if 'ks25' in i])\n",
    "root_dir = os.path.join(all_data_dir,all_data_folders[selected_session])\n",
    "spkT = np.load(os.path.join(root_dir,'spkT_task.npy'))\n",
    "\n",
    "\n",
    "#This array is the same shape as spkT but shows which cluster each of the spikes in spkT belongs to\n",
    "spkC = np.load(os.path.join(root_dir,'spkC_task.npy'))\n",
    "\n",
    "#This is basically a big table (you can open it in excel) which contains\n",
    "#relevant information about each time the animal poked one of the ports\n",
    "task_event_df = pd.read_csv(os.path.join(root_dir,'task_event_table.csv'),index_col=0)\n",
    "\n",
    "#\n",
    "response_table = np.load(os.path.join(root_dir,'neuron_response_table.npy'))\n",
    "#alternatively to change the time window\n",
    "\n",
    "\n",
    "#not all cluster in spkC correspond to single units. Single units is an array of the clusters that are single units\n",
    "single_units = np.load(os.path.join(root_dir,'single_units.npy'))"
   ]
  },
  {
   "cell_type": "code",
   "execution_count": 53,
   "metadata": {},
   "outputs": [],
   "source": [
    "#np.unique(task_event_df['graph_type'])"
   ]
  },
  {
   "cell_type": "code",
   "execution_count": 54,
   "metadata": {},
   "outputs": [],
   "source": [
    "seq0 = np.array(eval(task_event_df.loc[task_event_df['task_nr']==0]['current_sequence'].values[0]))\n",
    "seq1 = np.array(eval(task_event_df.loc[task_event_df['task_nr']==1]['current_sequence'].values[0]))"
   ]
  },
  {
   "cell_type": "code",
   "execution_count": 55,
   "metadata": {},
   "outputs": [
    {
     "name": "stdout",
     "output_type": "stream",
     "text": [
      "loop loop\n"
     ]
    }
   ],
   "source": [
    "graph_type0 = task_event_df.loc[task_event_df['task_nr']==0]['graph_type'].values[0]\n",
    "graph_type1 = task_event_df.loc[task_event_df['task_nr']==1]['graph_type'].values[0]\n",
    "print(graph_type0,graph_type1)"
   ]
  },
  {
   "cell_type": "code",
   "execution_count": 56,
   "metadata": {},
   "outputs": [],
   "source": [
    "def load_data(selected_session):\n",
    "    \n",
    "    \"\"\" Function to load data structured according to the format\n",
    "        that the data were delivered to the retreat for\n",
    "    \"\"\"\n",
    "    all_data_dir = '/Users/yves/Desktop/retreat_data_dir/data/'\n",
    "    all_data_folders = sorted([i for i in os.listdir(all_data_dir) if 'ks25' in i])\n",
    "    root_dir = os.path.join(all_data_dir,all_data_folders[selected_session])\n",
    "    spkT = np.load(os.path.join(root_dir,'spkT_task.npy'))\n",
    "\n",
    "\n",
    "    #This array is the same shape as spkT but shows which cluster each of the spikes in spkT belongs to\n",
    "    spkC = np.load(os.path.join(root_dir,'spkC_task.npy'))\n",
    "\n",
    "    #This is basically a big table (you can open it in excel) which contains\n",
    "    #relevant information about each time the animal poked one of the ports\n",
    "    task_event_df = pd.read_csv(os.path.join(root_dir,'task_event_table.csv'),index_col=0)\n",
    "\n",
    "    #\n",
    "    response_table = np.load(os.path.join(root_dir,'neuron_response_table.npy'))\n",
    "    #alternatively to change the time window\n",
    "\n",
    "\n",
    "    #not all cluster in spkC correspond to single units. Single units is an array of the clusters that are single units\n",
    "    single_units = np.load(os.path.join(root_dir,'single_units.npy'))\n",
    "    \n",
    "    \n",
    "    seq0 = np.array(eval(task_event_df.loc[task_event_df['task_nr']==0]['current_sequence'].values[0]))\n",
    "    seq1 = np.array(eval(task_event_df.loc[task_event_df['task_nr']==1]['current_sequence'].values[0]))\n",
    "    \n",
    "    \n",
    "    graph_type0 = task_event_df.loc[task_event_df['task_nr']==0]['graph_type'].values[0]\n",
    "    graph_type1 = task_event_df.loc[task_event_df['task_nr']==0]['graph_type'].values[0]\n",
    "    \n",
    "    firing_rate_maps = get_task_responses(task_event_df,response_table)\n",
    "    \n",
    "    return firing_rate_maps, task_event_df"
   ]
  },
  {
   "cell_type": "code",
   "execution_count": 57,
   "metadata": {},
   "outputs": [],
   "source": [
    "def get_task_responses(task_event_df,response_table):\n",
    "    \"\"\" \n",
    "    Use the columns of the task_event_df to filter neural activity. \n",
    "    In this example build separate firing rate maps for each of the\n",
    "    tasks, selecting only trials where subjects poked the correct poke.\n",
    "    \n",
    "    \n",
    "    \"\"\"\n",
    "    \n",
    "    \n",
    "    n_neurons = response_table.shape[1]\n",
    "    n_ports = 9\n",
    "    n_tasks = 2\n",
    "    n_direction = 2\n",
    "    \n",
    "    #set variables to nan to not confuse missing data for no responses\n",
    "    firing_rate_maps = np.zeros([n_neurons,n_ports,n_tasks,n_direction]) + np.nan\n",
    "    \n",
    "    #for each task\n",
    "    for task in [0,1]:\n",
    "        \n",
    "        for port in range(n_ports):  #for each port\n",
    "            \n",
    "            for dix,direction in enumerate(np.unique(task_event_df['direction'].values)):\n",
    "\n",
    "                #Select indices of pokes where...\n",
    "                table_index = task_event_df.loc[(task_event_df['task_nr']==task) &  #task_nr was task\n",
    "                                                (task_event_df['correct']==True) &  #the poke was to the correct port\n",
    "                                                (task_event_df['port']==port) &       #the port poked was port\n",
    "                                                (task_event_df['direction']==direction)\n",
    "                                               ].index           \n",
    "                #print(len(table_index))\n",
    "                #get the average\n",
    "                firing_rate_maps[:,int(port),int(task),dix] = np.nanmean(response_table[table_index],axis=0)\n",
    "    return firing_rate_maps\n",
    "                                         "
   ]
  },
  {
   "cell_type": "code",
   "execution_count": 60,
   "metadata": {},
   "outputs": [],
   "source": [
    "firing_rate_maps, task_event_df = load_data(0)\n",
    "spatial_map  = np.nanmean(firing_rate_maps,axis=(2,3))\n",
    "mds_frm = firing_rate_maps #- spatial_map[:,:,None,None]\n",
    "#valid_ix = np.where(~np.isnan(np.sum(firing_rate_maps,axis=(0,2,3))))[0]\n",
    "frm = np.hstack([mds_frm[:,seq0,0,0],mds_frm[:,seq0,0,1],mds_frm[:,seq1,1,0],mds_frm[:,seq1,1,1]])"
   ]
  },
  {
   "cell_type": "code",
   "execution_count": 61,
   "metadata": {},
   "outputs": [],
   "source": [
    "D1 = frm[:,:9]\n",
    "D2 = frm[:,9:18]#[:,np.random.permutation(range(9))]\n",
    "D3 = frm[:,18:27]\n",
    "D4 = frm[:,27:]\n",
    "\n",
    "D1 = (D1 - np.mean(D1,axis=0))\n",
    "D2 = (D2 - np.mean(D2,axis=0))\n",
    "D3 = (D3 - np.mean(D3,axis=0))\n",
    "D4 = (D4 - np.mean(D4,axis=0))"
   ]
  },
  {
   "cell_type": "code",
   "execution_count": 96,
   "metadata": {},
   "outputs": [],
   "source": [
    "U1,S1,V1 = np.linalg.svd(D1)\n",
    "U2,S2,V2 = np.linalg.svd(D3)"
   ]
  },
  {
   "cell_type": "code",
   "execution_count": 97,
   "metadata": {},
   "outputs": [
    {
     "data": {
      "text/plain": [
       "(135, 135)"
      ]
     },
     "execution_count": 97,
     "metadata": {},
     "output_type": "execute_result"
    }
   ],
   "source": [
    "U1.shape"
   ]
  },
  {
   "cell_type": "code",
   "execution_count": 98,
   "metadata": {},
   "outputs": [],
   "source": [
    "hat_dims = 6\n",
    "Uhat1 = U1[:,:hat_dims]\n",
    "Uhat2 = U2[:,:hat_dims]"
   ]
  },
  {
   "cell_type": "code",
   "execution_count": 99,
   "metadata": {},
   "outputs": [],
   "source": [
    "L1 = np.dot(Uhat1.T,D1)\n",
    "L2 = np.dot(Uhat2.T,D2)"
   ]
  },
  {
   "cell_type": "code",
   "execution_count": 100,
   "metadata": {},
   "outputs": [],
   "source": [
    "Q1,R1 = np.linalg.qr(L1.T)\n",
    "Q2,R2 = np.linalg.qr(L2.T)"
   ]
  },
  {
   "cell_type": "code",
   "execution_count": 101,
   "metadata": {},
   "outputs": [],
   "source": [
    "Ub,Sb,Vb = np.linalg.svd(Q1.T@Q2)"
   ]
  },
  {
   "cell_type": "code",
   "execution_count": 102,
   "metadata": {},
   "outputs": [],
   "source": [
    "M1 = np.linalg.pinv(R1)@Ub\n",
    "M2 = np.linalg.pinv(R2)@Vb.T"
   ]
  },
  {
   "cell_type": "code",
   "execution_count": 103,
   "metadata": {},
   "outputs": [],
   "source": [
    "Uf,Sf,Vf = np.linalg.svd(np.dot(M1.T,L1).T@np.dot(M2.T,L2))"
   ]
  },
  {
   "cell_type": "code",
   "execution_count": 104,
   "metadata": {},
   "outputs": [
    {
     "name": "stderr",
     "output_type": "stream",
     "text": [
      "/Users/yves/opt/anaconda3/lib/python3.7/site-packages/ipykernel_launcher.py:1: RuntimeWarning: invalid value encountered in arccos\n",
      "  \"\"\"Entry point for launching an IPython kernel.\n"
     ]
    },
    {
     "data": {
      "text/plain": [
       "array([0.00000000e+00, 0.00000000e+00, 1.20741827e-06, 1.90909591e-06,\n",
       "       1.90909591e-06, 2.56132094e-06, 9.00000000e+01, 9.00000000e+01,\n",
       "       9.00000000e+01])"
      ]
     },
     "execution_count": 104,
     "metadata": {},
     "output_type": "execute_result"
    }
   ],
   "source": [
    "np.rad2deg(np.nan_to_num(np.arccos(Sf),0))"
   ]
  },
  {
   "cell_type": "code",
   "execution_count": 118,
   "metadata": {},
   "outputs": [
    {
     "data": {
      "text/plain": [
       "[<matplotlib.lines.Line2D at 0x7ffbb8ae3810>]"
      ]
     },
     "execution_count": 118,
     "metadata": {},
     "output_type": "execute_result"
    },
    {
     "data": {
      "image/png": "[encoded data removed]",
      "text/plain": [
       "<Figure size 432x288 with 1 Axes>"
      ]
     },
     "metadata": {
      "needs_background": "light"
     },
     "output_type": "display_data"
    }
   ],
   "source": [
    "plt.plot(np.dot(M1.T,L1)[0])"
   ]
  },
  {
   "cell_type": "code",
   "execution_count": 119,
   "metadata": {},
   "outputs": [
    {
     "data": {
      "text/plain": [
       "[<matplotlib.lines.Line2D at 0x7ffb7097af50>]"
      ]
     },
     "execution_count": 119,
     "metadata": {},
     "output_type": "execute_result"
    },
    {
     "data": {
      "image/png": "[encoded data removed]",
      "text/plain": [
       "<Figure size 432x288 with 2 Axes>"
      ]
     },
     "metadata": {
      "needs_background": "light"
     },
     "output_type": "display_data"
    }
   ],
   "source": [
    "ix = 0\n",
    "\n",
    "plt.subplot(1,2,1)\n",
    "plt.plot(L1[0],L1[1])\n",
    "plt.plot(L2[0],L2[1])\n",
    "\n",
    "\n",
    "plt.subplot(1,2,2)\n",
    "plt.plot(np.dot(M1.T,L1)[ix],np.dot(M1.T,L1)[ix+1])\n",
    "plt.plot(np.dot(M2.T,L2)[ix],np.dot(M2.T,L2)[ix+1])\n"
   ]
  },
  {
   "cell_type": "code",
   "execution_count": 120,
   "metadata": {},
   "outputs": [],
   "source": [
    "L1 = np.dot(Uhat1.T,D4)\n",
    "L2 = np.dot(Uhat2.T,D2)"
   ]
  },
  {
   "cell_type": "code",
   "execution_count": 121,
   "metadata": {},
   "outputs": [],
   "source": [
    "Uf,Sf,Vf = np.linalg.svd(np.dot(M1.T,L1).T@np.dot(M2.T,L2))"
   ]
  },
  {
   "cell_type": "code",
   "execution_count": 122,
   "metadata": {},
   "outputs": [
    {
     "name": "stderr",
     "output_type": "stream",
     "text": [
      "/Users/yves/opt/anaconda3/lib/python3.7/site-packages/ipykernel_launcher.py:1: RuntimeWarning: invalid value encountered in arccos\n",
      "  \"\"\"Entry point for launching an IPython kernel.\n"
     ]
    },
    {
     "data": {
      "text/plain": [
       "array([ 0.        ,  0.        , 35.16159579, 49.37061347, 54.4898626 ,\n",
       "       65.64195475, 90.        , 90.        , 90.        ])"
      ]
     },
     "execution_count": 122,
     "metadata": {},
     "output_type": "execute_result"
    }
   ],
   "source": [
    "np.rad2deg(np.nan_to_num(np.arccos(Sf),0))"
   ]
  },
  {
   "cell_type": "code",
   "execution_count": 112,
   "metadata": {},
   "outputs": [
    {
     "name": "stderr",
     "output_type": "stream",
     "text": [
      "/Users/yves/opt/anaconda3/lib/python3.7/site-packages/ipykernel_launcher.py:1: RuntimeWarning: invalid value encountered in arccos\n",
      "  \"\"\"Entry point for launching an IPython kernel.\n"
     ]
    },
    {
     "data": {
      "text/plain": [
       "array([ 0.        ,  0.        , 35.16159579, 49.37061347, 54.4898626 ,\n",
       "       65.64195475, 90.        , 90.        , 90.        ])"
      ]
     },
     "execution_count": 112,
     "metadata": {},
     "output_type": "execute_result"
    }
   ],
   "source": [
    "np.rad2deg(np.nan_to_num(np.arccos(Sf),0))"
   ]
  },
  {
   "cell_type": "code",
   "execution_count": null,
   "metadata": {},
   "outputs": [],
   "source": []
  }
 ],
 "metadata": {
  "kernelspec": {
   "display_name": "Python 3",
   "language": "python",
   "name": "python3"
  },
  "language_info": {
   "codemirror_mode": {
    "name": "ipython",
    "version": 3
   },
   "file_extension": ".py",
   "mimetype": "text/x-python",
   "name": "python",
   "nbconvert_exporter": "python",
   "pygments_lexer": "ipython3",
   "version": "3.7.4"
  }
 },
 "nbformat": 4,
 "nbformat_minor": 2
}
