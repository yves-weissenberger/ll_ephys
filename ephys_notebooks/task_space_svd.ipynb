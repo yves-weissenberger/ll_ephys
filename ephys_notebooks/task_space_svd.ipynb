{
 "cells": [
  {
   "cell_type": "markdown",
   "metadata": {},
   "source": [
    "# In this dataset\n",
    "\n",
    "1. does it match the statistics of a high dimensional grid representation\n",
    "2. Is the taurus real\n",
    "3. test whether you can do the grid realignment like carpenter also in the big maze\n",
    "4. show that correlation structure is preserved only in as far as cells are spatial"
   ]
  },
  {
   "cell_type": "code",
   "execution_count": 1,
   "metadata": {},
   "outputs": [
    {
     "name": "stderr",
     "output_type": "stream",
     "text": [
      "/Users/yves/opt/anaconda3/lib/python3.7/site-packages/statsmodels/tools/_testing.py:19: FutureWarning: pandas.util.testing is deprecated. Use the functions in the public API at pandas.testing instead.\n",
      "  import pandas.util.testing as tm\n"
     ]
    }
   ],
   "source": [
    "%matplotlib inline\n",
    "import numpy as np\n",
    "import matplotlib.pyplot as plt\n",
    "import os\n",
    "import re\n",
    "import seaborn\n",
    "import pandas as pd\n",
    "#import cv2\n",
    "import scipy.optimize as op\n",
    "import sys\n",
    "import networkx as nx\n",
    "import time\n",
    "import matplotlib\n",
    "import copy as cp\n",
    "import scipy.ndimage as ndi \n",
    "from scipy.ndimage import gaussian_filter1d\n",
    "import scipy as sp\n",
    "import scipy.signal\n",
    "seaborn.set(style='ticks',font_scale=1.5)\n",
    "\n",
    "sys.path.append('/Users/yves/Documents/Code/mec_ephys/packages')\n"
   ]
  },
  {
   "cell_type": "code",
   "execution_count": 2,
   "metadata": {},
   "outputs": [],
   "source": [
    "sys.path.append('/Users/yves/Documents/Code/mec_ephys/packages')\n",
    "\n",
    "from mecll.rsync import Rsync_aligner\n",
    "from mecll.proc_beh import get_all_transition, get_transitions_state, build_poke_df\n",
    "from mecll.proc_neural import get_all_resps, get_mean_resps"
   ]
  },
  {
   "cell_type": "code",
   "execution_count": 3,
   "metadata": {},
   "outputs": [],
   "source": [
    "poke_pos = np.array([1,-1])*np.array([ [149,0],\n",
    "                                 [68,19],[231,19],\n",
    "                               [0,62],[149,62],[298,62],\n",
    "                                 [68,105],[231,105],\n",
    "                                      [149,124]])"
   ]
  },
  {
   "cell_type": "markdown",
   "metadata": {},
   "source": [
    "# From pycontrol"
   ]
  },
  {
   "cell_type": "code",
   "execution_count": null,
   "metadata": {},
   "outputs": [],
   "source": []
  },
  {
   "cell_type": "markdown",
   "metadata": {},
   "source": [
    "# Actual code"
   ]
  },
  {
   "cell_type": "code",
   "execution_count": 4,
   "metadata": {},
   "outputs": [],
   "source": [
    "#Load behavioural data\n",
    "root_path = '/Users/yves/Downloads/example_files2_wOF/'\n",
    "\n",
    "all_fs = os.listdir(root_path)\n",
    "\n",
    "task_path = os.path.join(root_path,[i for i in all_fs if '.txt' in i][0])\n",
    "lines = open(task_path,'r').readlines()\n",
    "\n",
    "\n",
    "#load neural data timestamps\n",
    "\n",
    "sync_path_spk = os.path.join(root_path,[i for i in all_fs if i=='timestamps.npy'][0])#'/Users/yves/Downloads/example_files/timestamps.npy'\n",
    "sync_messages_spk = np.load(sync_path_spk)[::2][:-1].astype('float')\n",
    "\n",
    "\n",
    "#load spiking data\n",
    "#ROOT = '/Users/yves/Downloads/example_files/'\n",
    "spkT = np.load(os.path.join(root_path,[i for i in all_fs if i=='spike_times.npy'][0])).flatten()\n",
    "spkC = np.load(os.path.join(root_path,[i for i in all_fs if i=='spike_clusters.npy'][0])).flatten()\n",
    "cluster_labels = pd.read_table(os.path.join(root_path,[i for i in all_fs if '.tsv' in i][0]))\n",
    "\n",
    "\n",
    "#select single units\n",
    "single_units = np.where(cluster_labels.KSLabel=='good')[0]"
   ]
  },
  {
   "cell_type": "code",
   "execution_count": 6,
   "metadata": {},
   "outputs": [
    {
     "name": "stdout",
     "output_type": "stream",
     "text": [
      "[7, 9, 11, 13, 15, 17, 19, 21, 23]\n"
     ]
    }
   ],
   "source": [
    "#Extract the timestamps of the sync-pulses between the neural data and the behavioural data\n",
    "events = eval(lines[9][2:])\n",
    "bnc_ev = events['BNC_input']\n",
    "sync_messages_task =[int(re.findall(r' ([0-9]*)',l)[0]) for l in lines if str(bnc_ev)+'\\n' in l and l[0]=='D']\n",
    "poke_event_ids = [events['poke_'+str(i)] for i in range(1,10)]\n",
    "print(poke_event_ids)"
   ]
  },
  {
   "cell_type": "code",
   "execution_count": null,
   "metadata": {},
   "outputs": [],
   "source": []
  },
  {
   "cell_type": "code",
   "execution_count": 7,
   "metadata": {},
   "outputs": [],
   "source": [
    "#align neural and behavioural timestamps\n",
    "aligner = Rsync_aligner(sync_messages_spk,np.array(sync_messages_task)[1:],units_A=1/30.,units_B=1)"
   ]
  },
  {
   "cell_type": "code",
   "execution_count": 8,
   "metadata": {},
   "outputs": [],
   "source": [
    "df = build_poke_df(lines,events)\n"
   ]
  },
  {
   "cell_type": "code",
   "execution_count": 9,
   "metadata": {},
   "outputs": [
    {
     "name": "stdout",
     "output_type": "stream",
     "text": [
      "0 18 0\n",
      "0 23 1\n",
      "0 18 2\n",
      "0 19 3\n",
      "0 18 4\n",
      "0 9 5\n",
      "0 21 6\n",
      "0 19 7\n",
      "0 14 8\n"
     ]
    }
   ],
   "source": [
    "poke_dict_t1 ={}\n",
    "poke_dict_t2 = {}\n",
    "for port_nr in np.unique(df['port'].values):\n",
    "    for task_nr in range(2):\n",
    "        task_nr = str(task_nr)\n",
    "        v = df.loc[(df['port']==port_nr) &\n",
    "                   (df['correct']==True) & \n",
    "                   (df['reward']==True) &\n",
    "                   #(df['next_correct']==True) &\n",
    "                   (df['port_repeat']==False) & \n",
    "                   (df['task_nr']==task_nr)]['time'].values\n",
    "        #v = np.array(v).astype('float')\n",
    "        if task_nr=='0':\n",
    "            print(task_nr,len(v),str(port_nr),)\n",
    "            poke_dict_t1[str(port_nr)] = [float(i) for i in v]\n",
    "            poke_dict_t1['task_nr'] = str(task_nr)\n",
    "            poke_dict_t1['graph_type'] = df.loc[df['task_nr']==task_nr]['graph_type'].values[0]\n",
    "\n",
    "            poke_dict_t1['seq'] = df.loc[df['task_nr']==task_nr]['current_sequence'].values[0]\n",
    "\n",
    "        else:\n",
    "            poke_dict_t2[str(port_nr)] = [float(i) for i in v]\n",
    "            poke_dict_t2['task_nr'] = str(task_nr)\n",
    "            poke_dict_t2['graph_type'] = df.loc[df['task_nr']==task_nr]['graph_type'].values[0]\n",
    "            poke_dict_t2['seq'] = df.loc[df['task_nr']==task_nr]['current_sequence'].values[0]\n",
    "\n",
    "   "
   ]
  },
  {
   "cell_type": "code",
   "execution_count": null,
   "metadata": {},
   "outputs": [],
   "source": []
  },
  {
   "cell_type": "code",
   "execution_count": null,
   "metadata": {},
   "outputs": [],
   "source": []
  },
  {
   "cell_type": "code",
   "execution_count": null,
   "metadata": {},
   "outputs": [],
   "source": []
  },
  {
   "cell_type": "code",
   "execution_count": 10,
   "metadata": {},
   "outputs": [],
   "source": [
    "from scipy.ndimage import gaussian_filter1d"
   ]
  },
  {
   "cell_type": "code",
   "execution_count": 11,
   "metadata": {},
   "outputs": [],
   "source": [
    "def get_mean_activity_matrix(single_trial_resps,order=None,half=0,downsample_factor=150,smoothing_factor=10):\n",
    "    \n",
    "    \"\"\" This builds a matrix that describes how mean activity\n",
    "        evolves over time\n",
    "    \"\"\"\n",
    "    \n",
    "    if order is None:\n",
    "        order = np.arange(9)\n",
    "\n",
    "    n_units = len(single_trial_resps)\n",
    "    store_g1 = []\n",
    "\n",
    "    for neuron_ix in range(n_units):\n",
    "        tmp = [] \n",
    "        for poke_nr in order:\n",
    "            activity = np.array(single_trial_resps[neuron_ix][poke_nr])\n",
    "            #print(np.sum(activity))\n",
    "            if half==0:\n",
    "                mean_activity = np.mean(activity,axis=0)\n",
    "            elif half==1:\n",
    "                mean_activity = np.mean(activity[:int(len(activity)/2)],axis=0)\n",
    "            elif half==2:\n",
    "                mean_activity = np.mean(activity[int(len(activity)/2):],axis=0)\n",
    "                \n",
    "\n",
    "            mean_downsampled = mean_activity.reshape(-1,downsample_factor).mean(axis=1)\n",
    "            mean_downsampled_smoothed = gaussian_filter1d(mean_downsampled,smoothing_factor)\n",
    "            tmp.append(mean_downsampled_smoothed)\n",
    "        store_g1.append(np.hstack(tmp))\n",
    "    return np.array(store_g1)"
   ]
  },
  {
   "cell_type": "markdown",
   "metadata": {},
   "source": [
    "# assess stability"
   ]
  },
  {
   "cell_type": "code",
   "execution_count": 12,
   "metadata": {},
   "outputs": [],
   "source": [
    "out1 = get_all_resps(aligner,poke_dict_t1,single_units,spkT,spkC)\n",
    "all_resps_g1_single_trial, (all_resps1_g1_single_trial,all_resps2_g1_single_trial) = out1\n",
    "out2 = get_all_resps(aligner,poke_dict_t2,single_units,spkT,spkC)\n",
    "all_resps_g2_single_trial, (all_resps1_g2_single_trial,all_resps2_g2_single_trial) = out2"
   ]
  },
  {
   "cell_type": "code",
   "execution_count": 13,
   "metadata": {},
   "outputs": [],
   "source": [
    "all_resps_g1,_ = get_mean_resps(all_resps_g1_single_trial)\n",
    "all_resps_g2,_ = get_mean_resps(all_resps_g2_single_trial)\n",
    "\n",
    "\n",
    "all_resps1_g1,_ = get_mean_resps(all_resps1_g1_single_trial)\n",
    "all_resps1_g2,_ = get_mean_resps(all_resps1_g2_single_trial)\n",
    "\n",
    "all_resps2_g1,_ = get_mean_resps(all_resps2_g1_single_trial)\n",
    "all_resps2_g2,_ = get_mean_resps(all_resps2_g2_single_trial)"
   ]
  },
  {
   "cell_type": "code",
   "execution_count": 55,
   "metadata": {},
   "outputs": [
    {
     "name": "stdout",
     "output_type": "stream",
     "text": [
      "0.6422177849783787\n",
      "0.6057521202197929\n",
      "0.5656696110258128\n"
     ]
    },
    {
     "name": "stderr",
     "output_type": "stream",
     "text": [
      "/Users/yves/opt/anaconda3/lib/python3.7/site-packages/numpy/lib/function_base.py:2559: RuntimeWarning: invalid value encountered in true_divide\n",
      "  c /= stddev[:, None]\n",
      "/Users/yves/opt/anaconda3/lib/python3.7/site-packages/numpy/lib/function_base.py:2560: RuntimeWarning: invalid value encountered in true_divide\n",
      "  c /= stddev[None, :]\n"
     ]
    }
   ],
   "source": [
    "#\n",
    "\n",
    "#\n",
    "ccs_within1 = []\n",
    "for r1,r2 in zip(all_resps1_g1,all_resps2_g1):\n",
    "    ccs_within1.append(np.corrcoef(r1,r2)[0,1])\n",
    "    \n",
    "ccs_within1 = np.array(ccs_within1)\n",
    "print(np.nanmean(ccs_within1))\n",
    "\n",
    "ccs_within2 = []\n",
    "for r1,r2 in zip(all_resps1_g2,all_resps2_g2):\n",
    "    ccs_within2.append(np.corrcoef(r1,r2)[0,1])\n",
    "ccs_within2 = np.array(ccs_within2)\n",
    "\n",
    "print(np.nanmean(ccs_within2))\n",
    "\n",
    "\n",
    "ccs_within = (np.array(ccs_within1) + np.array(ccs_within2))/2.\n",
    "ccs_within = np.max(np.vstack([np.array(ccs_within1),np.array(ccs_within2)]),axis=0)\n",
    "\n",
    "\n",
    "#\n",
    "ccs_across = []\n",
    "for r1,r2 in zip(all_resps_g1,all_resps_g2):\n",
    "    ccs_across.append(np.corrcoef(r1,r2)[0,1])\n",
    "    \n",
    "ccs_across = np.array(ccs_across)\n",
    "print(np.nanmean(ccs_across))"
   ]
  },
  {
   "cell_type": "code",
   "execution_count": 50,
   "metadata": {},
   "outputs": [
    {
     "data": {
      "text/plain": [
       "<matplotlib.axes._subplots.AxesSubplot at 0x7fb88334cbd0>"
      ]
     },
     "execution_count": 50,
     "metadata": {},
     "output_type": "execute_result"
    },
    {
     "data": {
      "image/png": "[encoded data removed]",
      "text/plain": [
       "<Figure size 432x288 with 1 Axes>"
      ]
     },
     "metadata": {
      "needs_background": "light"
     },
     "output_type": "display_data"
    }
   ],
   "source": [
    "seaborn.distplot(ccs_within1[np.isfinite(ccs_within1)],kde=0)"
   ]
  },
  {
   "cell_type": "code",
   "execution_count": 54,
   "metadata": {},
   "outputs": [
    {
     "data": {
      "text/plain": [
       "0.7642289670143062"
      ]
     },
     "execution_count": 54,
     "metadata": {},
     "output_type": "execute_result"
    }
   ],
   "source": [
    "np.percentile(ccs_within1[np.isfinite(ccs_within1)],95)"
   ]
  },
  {
   "cell_type": "markdown",
   "metadata": {},
   "source": [
    "# make it work"
   ]
  },
  {
   "cell_type": "code",
   "execution_count": 15,
   "metadata": {},
   "outputs": [],
   "source": [
    "window0 = 6000\n",
    "window1 = 6000\n",
    "out1 = get_all_resps(aligner,poke_dict_t1,single_units,spkT,spkC,get_time_mean=False,\n",
    "                     window0=window0,window1=window1)\n",
    "all_resps_g1_single_trial, (all_resps1_g1_single_trial,all_resps2_g1_single_trial) = out1\n",
    "out2 = get_all_resps(aligner,poke_dict_t2,single_units,spkT,spkC,get_time_mean=False,\n",
    "                     window0=window0,window1=window1)\n",
    "all_resps_g2_single_trial, (all_resps1_g2_single_trial,all_resps2_g2_single_trial) = out2"
   ]
  },
  {
   "cell_type": "code",
   "execution_count": 16,
   "metadata": {},
   "outputs": [],
   "source": [
    "store_g1_p1 = get_mean_activity_matrix(all_resps_g1_single_trial,half=1)\n",
    "store_g1_p2 = get_mean_activity_matrix(all_resps_g1_single_trial,half=2)\n",
    "\n",
    "store_g2_p1 = get_mean_activity_matrix(all_resps_g2_single_trial,half=1)\n",
    "store_g2_p2 = get_mean_activity_matrix(all_resps_g2_single_trial,half=2)"
   ]
  },
  {
   "cell_type": "code",
   "execution_count": 17,
   "metadata": {},
   "outputs": [],
   "source": [
    "store_g1_p1 = get_mean_activity_matrix(all_resps_g1_single_trial,half=1,order=poke_dict_t1['seq'])\n",
    "store_g1_p2 = get_mean_activity_matrix(all_resps_g1_single_trial,half=2,order=poke_dict_t1['seq'])\n",
    "\n",
    "store_g2_p1 = get_mean_activity_matrix(all_resps_g2_single_trial,half=1,order=poke_dict_t2['seq'])\n",
    "store_g2_p2 = get_mean_activity_matrix(all_resps_g2_single_trial,half=2,order=poke_dict_t2['seq'])"
   ]
  },
  {
   "cell_type": "code",
   "execution_count": null,
   "metadata": {},
   "outputs": [],
   "source": []
  },
  {
   "cell_type": "code",
   "execution_count": null,
   "metadata": {},
   "outputs": [],
   "source": [
    "def get_"
   ]
  },
  {
   "cell_type": "code",
   "execution_count": null,
   "metadata": {},
   "outputs": [],
   "source": [
    "evals_shuff = []\n",
    "for ctr in range(100):\n",
    "    sys.stdout.write('\\riter_num:{}'.format(ctr))\n",
    "    sys.stdout.flush()\n",
    "    store_g1_p1 = get_mean_activity_matrix(all_resps_g1_single_trial,half=1,order=poke_dict_t1['seq'])\n",
    "    store_g1_p2 = get_mean_activity_matrix(all_resps_g1_single_trial,half=2,order=np.random.permutation(poke_dict_t1['seq']))\n",
    "\n",
    "    store_g2_p1 = get_mean_activity_matrix(all_resps_g2_single_trial,half=1,order=np.random.permutation(poke_dict_t2['seq']))\n",
    "    store_g2_p2 = get_mean_activity_matrix(all_resps_g2_single_trial,half=2,order=np.random.permutation(poke_dict_t2['seq']))\n",
    "    \n",
    "\n",
    "    conditions =  np.logical_and.reduce([ccs_across<.3,\n",
    "                                        ccs_within>=.3])\n",
    "    store_g1_filt = store_g1_p1[conditions]\n",
    "    store_g1_cv_filt = store_g1_p2[conditions]\n",
    "    store_g2_filt = store_g2_p1[conditions]\n",
    "    store_g2_cv_filt = store_g2_p2[conditions]\n",
    "    \n",
    "    \n",
    "    U,D,V = np.linalg.svd(store_g1_filt)\n",
    "    #U2,D2,V2 = np.linalg.svd(store_g2_filt)\n",
    "    evals = U.T.dot(store_g2_filt).dot(V.T).diagonal()\n",
    "    evals_shuff.append(evals)\n"
   ]
  },
  {
   "cell_type": "code",
   "execution_count": 45,
   "metadata": {},
   "outputs": [],
   "source": [
    "#def get_shuff_evals(n_shuff=100)"
   ]
  },
  {
   "cell_type": "code",
   "execution_count": 18,
   "metadata": {},
   "outputs": [],
   "source": [
    "store_g1_p1 = get_mean_activity_matrix(all_resps_g1_single_trial,half=1,order=poke_dict_t1['seq'])\n",
    "store_g1_p2 = get_mean_activity_matrix(all_resps_g1_single_trial,half=2,order=poke_dict_t1['seq'])\n",
    "\n",
    "store_g2_p1 = get_mean_activity_matrix(all_resps_g2_single_trial,half=1,order=poke_dict_t2['seq'])\n",
    "store_g2_p2 = get_mean_activity_matrix(all_resps_g2_single_trial,half=2,order=poke_dict_t2['seq'])"
   ]
  },
  {
   "cell_type": "code",
   "execution_count": 186,
   "metadata": {},
   "outputs": [],
   "source": [
    "conditions =  np.logical_and.reduce([ccs_across<.3,\n",
    "                                    ccs_within>=.3])\n",
    "store_g1_filt = store_g1_p1[conditions]\n",
    "store_g1_filt = store_g1_filt - np.mean(store_g1_filt,axis=1)[:,None]\n",
    "#store_g1_filt = store_g1_filt/np.std(store_g1_filt,axis=1)[:,None]\n",
    "\n",
    "store_g1_cv_filt = store_g1_p2[conditions]\n",
    "store_g1_cv_filt = store_g1_cv_filt - np.mean(store_g1_cv_filt,axis=1)[:,None]\n",
    "\n",
    "store_g2_filt = store_g2_p1[conditions]\n",
    "store_g2_filt = store_g2_filt - np.mean(store_g2_filt,axis=1)[:,None]\n",
    "\n",
    "store_g2_cv_filt = store_g2_p2[conditions]\n",
    "store_g2_cv_filt = store_g2_cv_filt - np.mean(store_g2_cv_filt,axis=1)[:,None]\n"
   ]
  },
  {
   "cell_type": "code",
   "execution_count": 187,
   "metadata": {},
   "outputs": [],
   "source": [
    "U,D,V = np.linalg.svd(store_g1_filt)\n",
    "U2,D2,V2 = np.linalg.svd(store_g2_filt)\n",
    "true_evals = U.T.dot(store_g1_filt).dot(V.T).diagonal()\n",
    "#evals_shuff.append(evals)\n"
   ]
  },
  {
   "cell_type": "code",
   "execution_count": 217,
   "metadata": {},
   "outputs": [],
   "source": [
    "ccs = []\n",
    "for ix_ in range(store_g1_filt.shape[1]):\n",
    "    ccs.append(np.cov(U[:,0],store_g1_filt[:,ix_])[0,1])"
   ]
  },
  {
   "cell_type": "code",
   "execution_count": 213,
   "metadata": {},
   "outputs": [
    {
     "name": "stderr",
     "output_type": "stream",
     "text": [
      "/Users/yves/opt/anaconda3/lib/python3.7/site-packages/ipykernel_launcher.py:1: FutureWarning: `rcond` parameter will change to the default of machine precision times ``max(M, N)`` where M and N are the input matrix dimensions.\n",
      "To use the future default and silence this warning we advise to pass `rcond=None`, to keep using the old, explicitly pass `rcond=-1`.\n",
      "  \"\"\"Entry point for launching an IPython kernel.\n"
     ]
    }
   ],
   "source": [
    "a = np.linalg.lstsq(U,store_g1_filt)"
   ]
  },
  {
   "cell_type": "code",
   "execution_count": 248,
   "metadata": {},
   "outputs": [
    {
     "name": "stderr",
     "output_type": "stream",
     "text": [
      "/Users/yves/opt/anaconda3/lib/python3.7/site-packages/ipykernel_launcher.py:7: FutureWarning: `rcond` parameter will change to the default of machine precision times ``max(M, N)`` where M and N are the input matrix dimensions.\n",
      "To use the future default and silence this warning we advise to pass `rcond=None`, to keep using the old, explicitly pass `rcond=-1`.\n",
      "  import sys\n"
     ]
    }
   ],
   "source": [
    "mu_ccs_same = []\n",
    "for n_compotents in range(1,U.shape[1]):\n",
    "    #n_compotents = 1\n",
    "    \n",
    "    Un = U[:,:n_compotents]\n",
    "\n",
    "    a,b,c,d = np.linalg.lstsq(Un,store_g1_filt[:,:])\n",
    "\n",
    "    \n",
    "    prediction = (U[:,:n_compotents].dot(a))\n",
    "    ccs = []\n",
    "    for i,(p,y) in enumerate(zip(prediction,store_g1_filt)):\n",
    "        ccs.append(np.corrcoef(p,y)[0,1]**2 * np.var(y)/np.sum(np.var(store_g1_filt,axis=1)))\n",
    "    mu_ccs_same.append(np.nansum(ccs))"
   ]
  },
  {
   "cell_type": "code",
   "execution_count": 350,
   "metadata": {},
   "outputs": [
    {
     "name": "stderr",
     "output_type": "stream",
     "text": [
      "/Users/yves/opt/anaconda3/lib/python3.7/site-packages/ipykernel_launcher.py:7: FutureWarning: `rcond` parameter will change to the default of machine precision times ``max(M, N)`` where M and N are the input matrix dimensions.\n",
      "To use the future default and silence this warning we advise to pass `rcond=None`, to keep using the old, explicitly pass `rcond=-1`.\n",
      "  import sys\n"
     ]
    }
   ],
   "source": [
    "mu_ccs_same = []\n",
    "for n_compotents in range(1,U.shape[1]):\n",
    "    #n_compotents = 1\n",
    "    \n",
    "    Un = U[:,:n_compotents]#.reshape(-1,1)\n",
    "\n",
    "    a,b,c,d = np.linalg.lstsq(Un,store_g1_filt[:,:])\n",
    "\n",
    "    \n",
    "    prediction = (Un.dot(a))\n",
    "    ccs = []\n",
    "    for i,(p,y) in enumerate(zip(prediction,store_g1_filt)):\n",
    "        ccs.append(np.corrcoef(p,y)[0,1]**2 * np.var(y)/np.sum(np.var(store_g1_filt,axis=1)))\n",
    "    #mu_ccs_same.append(np.nansum(ccs))\n",
    "    mu_ccs_same.append(np.corrcoef(prediction.flatten(),store_g1_filt.flatten())[0,1])"
   ]
  },
  {
   "cell_type": "code",
   "execution_count": 269,
   "metadata": {},
   "outputs": [
    {
     "data": {
      "text/plain": [
       "array([0.42658884, 0.09569083, 0.09343441, 0.05236678, 0.04388151,\n",
       "       0.0392748 , 0.03367573, 0.03092453, 0.02382848, 0.02163364,\n",
       "       0.01976769, 0.01487717, 0.01373866, 0.0134108 , 0.01229536,\n",
       "       0.01114842, 0.00993139, 0.00852598, 0.00798293, 0.00668323,\n",
       "       0.00490878, 0.00390342, 0.00267388, 0.00267598, 0.00219859,\n",
       "       0.00179976, 0.00139861, 0.0007798 ])"
      ]
     },
     "execution_count": 269,
     "metadata": {},
     "output_type": "execute_result"
    }
   ],
   "source": [
    "tmp_ = np.abs(U.T.dot(store_g1_filt)).sum(axis=1)\n",
    "tmp_ /=np.sum(tmp_)\n",
    "tmp_"
   ]
  },
  {
   "cell_type": "code",
   "execution_count": 347,
   "metadata": {},
   "outputs": [],
   "source": [
    "tmp = (U - np.mean(U,axis=1)[:,None]).T.dot(store_g1_filt)"
   ]
  },
  {
   "cell_type": "code",
   "execution_count": 349,
   "metadata": {},
   "outputs": [
    {
     "data": {
      "text/plain": [
       "array([0.60374508, 0.13599992, 0.13154174, 0.08018051, 0.06393617,\n",
       "       0.06092662, 0.051835  , 0.04954659, 0.04240887, 0.03612543,\n",
       "       0.0346291 , 0.03083506, 0.03011527, 0.02977838, 0.02931127,\n",
       "       0.02893627, 0.02768449, 0.02598746, 0.02599496, 0.02552648,\n",
       "       0.02490413, 0.02534216, 0.02421532, 0.0244096 , 0.02482014,\n",
       "       0.02455079, 0.02428437, 0.02442621])"
      ]
     },
     "execution_count": 349,
     "metadata": {},
     "output_type": "execute_result"
    }
   ],
   "source": [
    "np.abs(tmp).sum(axis=1)"
   ]
  },
  {
   "cell_type": "code",
   "execution_count": 369,
   "metadata": {},
   "outputs": [
    {
     "data": {
      "text/plain": [
       "array([[ 1.97223907e-04,  1.96390940e-04,  1.94690208e-04, ...,\n",
       "        -1.29261479e-03, -1.29944070e-03, -1.30286343e-03],\n",
       "       [ 7.38523908e-05,  7.05987547e-05,  6.41031909e-05, ...,\n",
       "         2.00383534e-04,  2.03016103e-04,  2.04333445e-04],\n",
       "       [-2.43130423e-04, -2.43509564e-04, -2.44279472e-04, ...,\n",
       "         1.07590956e-04,  1.10626492e-04,  1.12166063e-04],\n",
       "       ...,\n",
       "       [-2.36837798e-07, -1.55497883e-07,  4.72086711e-09, ...,\n",
       "        -1.60445445e-05, -1.64529024e-05, -1.66612966e-05],\n",
       "       [ 4.20221961e-06,  4.17286614e-06,  4.11339229e-06, ...,\n",
       "        -8.43409688e-07, -7.24512186e-07, -6.62559658e-07],\n",
       "       [-1.08827022e-06, -1.09016337e-06, -1.09335301e-06, ...,\n",
       "         5.56354802e-07,  5.74878192e-07,  5.84914595e-07]])"
      ]
     },
     "execution_count": 369,
     "metadata": {},
     "output_type": "execute_result"
    }
   ],
   "source": [
    "(U.T.dot(store_g1_filt))"
   ]
  },
  {
   "cell_type": "code",
   "execution_count": 372,
   "metadata": {},
   "outputs": [
    {
     "data": {
      "text/plain": [
       "[<matplotlib.lines.Line2D at 0x7fb884b95390>]"
      ]
     },
     "execution_count": 372,
     "metadata": {},
     "output_type": "execute_result"
    },
    {
     "data": {
      "image/png": "[encoded data removed]",
      "text/plain": [
       "<Figure size 432x288 with 1 Axes>"
      ]
     },
     "metadata": {
      "needs_background": "light"
     },
     "output_type": "display_data"
    }
   ],
   "source": [
    "plt.plot((U.T.dot(store_g1_filt))[0])"
   ]
  },
  {
   "cell_type": "code",
   "execution_count": 352,
   "metadata": {},
   "outputs": [
    {
     "data": {
      "text/plain": [
       "6.028259694076081e-06"
      ]
     },
     "execution_count": 352,
     "metadata": {},
     "output_type": "execute_result"
    }
   ],
   "source": [
    "np.cov(U[:,0],store_g1_filt[:,0])[0,1]"
   ]
  },
  {
   "cell_type": "code",
   "execution_count": 205,
   "metadata": {},
   "outputs": [
    {
     "data": {
      "text/plain": [
       "[<matplotlib.lines.Line2D at 0x7fb8f71b90d0>]"
      ]
     },
     "execution_count": 205,
     "metadata": {},
     "output_type": "execute_result"
    },
    {
     "data": {
      "image/png": "[encoded data removed]",
      "text/plain": [
       "<Figure size 432x288 with 1 Axes>"
      ]
     },
     "metadata": {
      "needs_background": "light"
     },
     "output_type": "display_data"
    }
   ],
   "source": [
    "plt.plot(ccs)"
   ]
  },
  {
   "cell_type": "code",
   "execution_count": 206,
   "metadata": {},
   "outputs": [
    {
     "data": {
      "text/plain": [
       "2.232125236744107"
      ]
     },
     "execution_count": 206,
     "metadata": {},
     "output_type": "execute_result"
    }
   ],
   "source": [
    "ccs[0]/U.dot(store_g1_filt)[0][0]"
   ]
  },
  {
   "cell_type": "code",
   "execution_count": 207,
   "metadata": {},
   "outputs": [
    {
     "data": {
      "text/plain": [
       "3.1522553729353235e-09"
      ]
     },
     "execution_count": 207,
     "metadata": {},
     "output_type": "execute_result"
    }
   ],
   "source": [
    "np.var(store_g1_filt[0])"
   ]
  },
  {
   "cell_type": "code",
   "execution_count": 208,
   "metadata": {},
   "outputs": [
    {
     "data": {
      "text/plain": [
       "(720,)"
      ]
     },
     "execution_count": 208,
     "metadata": {},
     "output_type": "execute_result"
    }
   ],
   "source": [
    "store_g1_filt[0].shape"
   ]
  },
  {
   "cell_type": "code",
   "execution_count": 359,
   "metadata": {},
   "outputs": [],
   "source": [
    "ccs = []\n",
    "for ix_ in range(store_g1_filt.shape[1]):\n",
    "    ccs.append(np.cov(U[:,0],store_g1_filt[:,ix_])[0,1])"
   ]
  },
  {
   "cell_type": "code",
   "execution_count": 366,
   "metadata": {},
   "outputs": [
    {
     "data": {
      "text/plain": [
       "[<matplotlib.lines.Line2D at 0x7fb89458bc10>]"
      ]
     },
     "execution_count": 366,
     "metadata": {},
     "output_type": "execute_result"
    },
    {
     "data": {
      "image/png": "[encoded data removed]",
      "text/plain": [
       "<Figure size 432x288 with 1 Axes>"
      ]
     },
     "metadata": {
      "needs_background": "light"
     },
     "output_type": "display_data"
    }
   ],
   "source": [
    "plt.plot((U-np.mean(U,axis=1)[:,None]).T.dot(store_g1_filt)[0]/28)\n",
    "plt.plot(ccs)"
   ]
  },
  {
   "cell_type": "code",
   "execution_count": 355,
   "metadata": {},
   "outputs": [
    {
     "data": {
      "text/plain": [
       "(28, 28)"
      ]
     },
     "execution_count": 355,
     "metadata": {},
     "output_type": "execute_result"
    }
   ],
   "source": [
    "(U-np.mean(U,axis=1)[:,None]).shape"
   ]
  },
  {
   "cell_type": "code",
   "execution_count": 356,
   "metadata": {},
   "outputs": [
    {
     "data": {
      "text/plain": [
       "(28, 28)"
      ]
     },
     "execution_count": 356,
     "metadata": {},
     "output_type": "execute_result"
    }
   ],
   "source": [
    "U.shape"
   ]
  },
  {
   "cell_type": "code",
   "execution_count": 23,
   "metadata": {},
   "outputs": [],
   "source": [
    "import scipy.stats as stt"
   ]
  },
  {
   "cell_type": "code",
   "execution_count": 24,
   "metadata": {},
   "outputs": [
    {
     "ename": "NameError",
     "evalue": "name 'evals_shuff' is not defined",
     "output_type": "error",
     "traceback": [
      "\u001b[0;31m---------------------------------------------------------------------------\u001b[0m",
      "\u001b[0;31mNameError\u001b[0m                                 Traceback (most recent call last)",
      "\u001b[0;32m<ipython-input-24-ddc8d6896a7c>\u001b[0m in \u001b[0;36m<module>\u001b[0;34m\u001b[0m\n\u001b[0;32m----> 1\u001b[0;31m \u001b[0mmu\u001b[0m \u001b[0;34m=\u001b[0m \u001b[0mnp\u001b[0m\u001b[0;34m.\u001b[0m\u001b[0mmean\u001b[0m\u001b[0;34m(\u001b[0m\u001b[0mnp\u001b[0m\u001b[0;34m.\u001b[0m\u001b[0mcumsum\u001b[0m\u001b[0;34m(\u001b[0m\u001b[0mnp\u001b[0m\u001b[0;34m.\u001b[0m\u001b[0mabs\u001b[0m\u001b[0;34m(\u001b[0m\u001b[0mevals_shuff\u001b[0m\u001b[0;34m)\u001b[0m\u001b[0;34m,\u001b[0m\u001b[0maxis\u001b[0m\u001b[0;34m=\u001b[0m\u001b[0;36m1\u001b[0m\u001b[0;34m)\u001b[0m\u001b[0;34m,\u001b[0m\u001b[0maxis\u001b[0m\u001b[0;34m=\u001b[0m\u001b[0;36m1\u001b[0m\u001b[0;34m)\u001b[0m\u001b[0;34m\u001b[0m\u001b[0;34m\u001b[0m\u001b[0m\n\u001b[0m\u001b[1;32m      2\u001b[0m \u001b[0;32mfor\u001b[0m \u001b[0mi\u001b[0m \u001b[0;32min\u001b[0m \u001b[0mnp\u001b[0m\u001b[0;34m.\u001b[0m\u001b[0mabs\u001b[0m\u001b[0;34m(\u001b[0m\u001b[0mevals_shuff\u001b[0m\u001b[0;34m)\u001b[0m\u001b[0;34m:\u001b[0m\u001b[0;34m\u001b[0m\u001b[0;34m\u001b[0m\u001b[0m\n\u001b[1;32m      3\u001b[0m     \u001b[0mplt\u001b[0m\u001b[0;34m.\u001b[0m\u001b[0mplot\u001b[0m\u001b[0;34m(\u001b[0m\u001b[0mnp\u001b[0m\u001b[0;34m.\u001b[0m\u001b[0mcumsum\u001b[0m\u001b[0;34m(\u001b[0m\u001b[0mi\u001b[0m\u001b[0;34m)\u001b[0m\u001b[0;34m,\u001b[0m\u001b[0mcolor\u001b[0m\u001b[0;34m=\u001b[0m\u001b[0;34m'.3'\u001b[0m\u001b[0;34m,\u001b[0m\u001b[0mlinewidth\u001b[0m\u001b[0;34m=\u001b[0m\u001b[0;36m.5\u001b[0m\u001b[0;34m)\u001b[0m\u001b[0;34m\u001b[0m\u001b[0;34m\u001b[0m\u001b[0m\n\u001b[1;32m      4\u001b[0m \u001b[0msem\u001b[0m \u001b[0;34m=\u001b[0m\u001b[0mnp\u001b[0m\u001b[0;34m.\u001b[0m\u001b[0mstd\u001b[0m\u001b[0;34m(\u001b[0m\u001b[0mnp\u001b[0m\u001b[0;34m.\u001b[0m\u001b[0mcumsum\u001b[0m\u001b[0;34m(\u001b[0m\u001b[0mnp\u001b[0m\u001b[0;34m.\u001b[0m\u001b[0mabs\u001b[0m\u001b[0;34m(\u001b[0m\u001b[0mevals_shuff\u001b[0m\u001b[0;34m)\u001b[0m\u001b[0;34m,\u001b[0m\u001b[0maxis\u001b[0m\u001b[0;34m=\u001b[0m\u001b[0;36m1\u001b[0m\u001b[0;34m)\u001b[0m\u001b[0;34m,\u001b[0m\u001b[0maxis\u001b[0m\u001b[0;34m=\u001b[0m\u001b[0;36m0\u001b[0m\u001b[0;34m)\u001b[0m\u001b[0;34m\u001b[0m\u001b[0;34m\u001b[0m\u001b[0m\n\u001b[1;32m      5\u001b[0m \u001b[0mplt\u001b[0m\u001b[0;34m.\u001b[0m\u001b[0mplot\u001b[0m\u001b[0;34m(\u001b[0m\u001b[0mnp\u001b[0m\u001b[0;34m.\u001b[0m\u001b[0mcumsum\u001b[0m\u001b[0;34m(\u001b[0m\u001b[0mnp\u001b[0m\u001b[0;34m.\u001b[0m\u001b[0mabs\u001b[0m\u001b[0;34m(\u001b[0m\u001b[0mtrue_evals\u001b[0m\u001b[0;34m)\u001b[0m\u001b[0;34m)\u001b[0m\u001b[0;34m,\u001b[0m\u001b[0mlinewidth\u001b[0m\u001b[0;34m=\u001b[0m\u001b[0;36m3\u001b[0m\u001b[0;34m)\u001b[0m\u001b[0;34m\u001b[0m\u001b[0;34m\u001b[0m\u001b[0m\n",
      "\u001b[0;31mNameError\u001b[0m: name 'evals_shuff' is not defined"
     ]
    }
   ],
   "source": [
    "mu = np.mean(np.cumsum(np.abs(evals_shuff),axis=1),axis=1)\n",
    "for i in np.abs(evals_shuff):\n",
    "    plt.plot(np.cumsum(i),color='.3',linewidth=.5)\n",
    "sem =np.std(np.cumsum(np.abs(evals_shuff),axis=1),axis=0)\n",
    "plt.plot(np.cumsum(np.abs(true_evals)),linewidth=3)\n",
    "plt.plot(mu,linewidth=3,color='.3',label='shuffle')\n",
    "plt.fill_between(range(len(mu)),mu+2*sem,mu-2*sem,color='.3',alpha=.3)\n",
    "plt.legend()\n",
    "seaborn.despine()"
   ]
  },
  {
   "cell_type": "code",
   "execution_count": 25,
   "metadata": {},
   "outputs": [
    {
     "data": {
      "text/plain": [
       "array([-7.43492446e-02, -9.24290712e-03, -6.12463198e-03, -4.61153675e-03,\n",
       "       -3.72405210e-03, -2.71861193e-03, -2.31865975e-03, -2.12309259e-03,\n",
       "       -1.84721378e-03, -1.55945577e-03, -1.31613173e-03, -1.15702995e-03,\n",
       "       -9.93122980e-04, -9.30028015e-04, -8.41716364e-04, -7.65430603e-04,\n",
       "       -7.10527864e-04, -5.79957197e-04, -5.44852858e-04, -4.56304056e-04,\n",
       "       -3.60971301e-04, -2.71422867e-04, -2.43074492e-04, -1.85034076e-04,\n",
       "       -1.55390554e-04, -1.30392506e-04, -1.13406506e-04, -6.78725933e-05])"
      ]
     },
     "execution_count": 25,
     "metadata": {},
     "output_type": "execute_result"
    }
   ],
   "source": [
    "U.T.dot(-store_g1_filt).dot(V.T).diagonal()\n"
   ]
  },
  {
   "cell_type": "code",
   "execution_count": null,
   "metadata": {},
   "outputs": [],
   "source": []
  },
  {
   "cell_type": "code",
   "execution_count": 26,
   "metadata": {},
   "outputs": [
    {
     "data": {
      "text/plain": [
       "[<matplotlib.lines.Line2D at 0x7fb8de78c510>]"
      ]
     },
     "execution_count": 26,
     "metadata": {},
     "output_type": "execute_result"
    },
    {
     "data": {
      "image/png": "[encoded data removed]",
      "text/plain": [
       "<Figure size 432x288 with 1 Axes>"
      ]
     },
     "metadata": {
      "needs_background": "light"
     },
     "output_type": "display_data"
    }
   ],
   "source": [
    "#this is the correct equation to testimate. This returns the corresponding D\n",
    "evals = np.abs(U.T.dot(store_g1_filt).dot(V.T).diagonal())\n",
    "mx = np.sum(evals)\n",
    "plt.plot([0]+(np.cumsum(evals)/mx).tolist())\n",
    "\n",
    "evals = np.abs(U.T.dot(store_g1_cv_filt).dot(V.T).diagonal())\n",
    "plt.plot([0]+(np.cumsum(evals)/mx).tolist())\n",
    "\n",
    "\n",
    "evals = np.abs(U.T.dot(store_g2_filt).dot(V.T).diagonal())\n",
    "plt.plot([0]+(np.cumsum(evals)/mx).tolist())\n",
    "#plt.ylim(.2,1)\n"
   ]
  },
  {
   "cell_type": "code",
   "execution_count": 27,
   "metadata": {},
   "outputs": [
    {
     "data": {
      "text/plain": [
       "(28, 720)"
      ]
     },
     "execution_count": 27,
     "metadata": {},
     "output_type": "execute_result"
    }
   ],
   "source": [
    "U.T.dot(store_g1_filt).dot(V.T).shape"
   ]
  },
  {
   "cell_type": "code",
   "execution_count": 28,
   "metadata": {},
   "outputs": [
    {
     "data": {
      "text/plain": [
       "(0.2, 1)"
      ]
     },
     "execution_count": 28,
     "metadata": {},
     "output_type": "execute_result"
    },
    {
     "data": {
      "image/png": "[encoded data removed]",
      "text/plain": [
       "<Figure size 432x288 with 1 Axes>"
      ]
     },
     "metadata": {
      "needs_background": "light"
     },
     "output_type": "display_data"
    }
   ],
   "source": [
    "#this is the correct equation to testimate. This returns the corresponding D\n",
    "evals = U.T.dot(store_g1_filt).dot(V.T).diagonal()\n",
    "mx = np.sum(evals)\n",
    "plt.plot([0]+(np.cumsum(evals)/mx).tolist())\n",
    "\n",
    "evals = U.T.dot(store_g1_cv_filt).dot(V.T).diagonal()\n",
    "plt.plot([0]+(np.cumsum(evals)/mx).tolist())\n",
    "\n",
    "\n",
    "evals = U.T.dot(store_g2_filt).dot(V.T).diagonal()\n",
    "plt.plot([0]+(np.cumsum(evals)/mx).tolist())\n",
    "plt.ylim(.2,1)\n"
   ]
  },
  {
   "cell_type": "code",
   "execution_count": 90,
   "metadata": {},
   "outputs": [],
   "source": [
    "ccs = np.array(ccs)"
   ]
  },
  {
   "cell_type": "code",
   "execution_count": 91,
   "metadata": {},
   "outputs": [
    {
     "data": {
      "text/plain": [
       "-0.4469240982455855"
      ]
     },
     "execution_count": 91,
     "metadata": {},
     "output_type": "execute_result"
    }
   ],
   "source": [
    "np.nanmean(ccs)"
   ]
  }
 ],
 "metadata": {
  "kernelspec": {
   "display_name": "Python 3",
   "language": "python",
   "name": "python3"
  },
  "language_info": {
   "codemirror_mode": {
    "name": "ipython",
    "version": 3
   },
   "file_extension": ".py",
   "mimetype": "text/x-python",
   "name": "python",
   "nbconvert_exporter": "python",
   "pygments_lexer": "ipython3",
   "version": "3.7.4"
  }
 },
 "nbformat": 4,
 "nbformat_minor": 2
}
