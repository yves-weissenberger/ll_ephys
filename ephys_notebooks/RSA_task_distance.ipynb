{
 "cells": [
  {
   "cell_type": "code",
   "execution_count": 669,
   "metadata": {},
   "outputs": [],
   "source": [
    "#%matplotlib inline\n",
    "import sys\n",
    "import os\n",
    "\n",
    "\n",
    "import numpy as np\n",
    "import matplotlib.pyplot as plt\n",
    "import scipy.ndimage as ndi\n",
    "import pandas as pd\n",
    "import networkx as nx\n",
    "import scipy.stats as stt\n",
    "#optional for nicer plots\n",
    "import seaborn\n",
    "clrs = seaborn.color_palette(n_colors=6)\n",
    "seaborn.set(style='ticks',font_scale=1.5)"
   ]
  },
  {
   "cell_type": "code",
   "execution_count": 1083,
   "metadata": {},
   "outputs": [],
   "source": [
    "poke_pos = np.array([1,-1])*np.array([ [149,0],\n",
    "                                 [68,19],[231,19],\n",
    "                               [0,62],[149,62],[298,62],\n",
    "                                 [68,105],[231,105],\n",
    "                                      [149,124]])"
   ]
  },
  {
   "cell_type": "code",
   "execution_count": 1280,
   "metadata": {},
   "outputs": [],
   "source": [
    "sys.path.append(\"/Users/yves/Desktop/retreat_data_dir/code/\")\n",
    "from mecll.task import plot_activity_on_graph"
   ]
  },
  {
   "cell_type": "code",
   "execution_count": 1281,
   "metadata": {},
   "outputs": [],
   "source": [
    "def load_data(selected_session,by_dir=False):\n",
    "    \n",
    "    \"\"\" Function to load data structured according to the format\n",
    "        that the data were delivered to the retreat for\n",
    "    \"\"\"\n",
    "    all_data_dir = '/Users/yves/Desktop/retreat_data_dir/data/'\n",
    "    all_data_folders = sorted([i for i in os.listdir(all_data_dir) if 'ks25' in i])\n",
    "    root_dir = os.path.join(all_data_dir,all_data_folders[selected_session])\n",
    "    spkT = np.load(os.path.join(root_dir,'spkT_task.npy'))\n",
    "\n",
    "\n",
    "    #This array is the same shape as spkT but shows which cluster each of the spikes in spkT belongs to\n",
    "    spkC = np.load(os.path.join(root_dir,'spkC_task.npy'))\n",
    "\n",
    "    #This is basically a big table (you can open it in excel) which contains\n",
    "    #relevant information about each time the animal poked one of the ports\n",
    "    task_event_df = pd.read_csv(os.path.join(root_dir,'task_event_table.csv'),index_col=0)\n",
    "\n",
    "    #\n",
    "    response_table = np.load(os.path.join(root_dir,'neuron_response_table.npy'))\n",
    "    #alternatively to change the time window\n",
    "\n",
    "\n",
    "    #not all cluster in spkC correspond to single units. Single units is an array of the clusters that are single units\n",
    "    single_units = np.load(os.path.join(root_dir,'single_units.npy'))\n",
    "    \n",
    "    \n",
    "    seq0 = np.array(eval(task_event_df.loc[task_event_df['task_nr']==0]['current_sequence'].values[0]))\n",
    "    seq1 = np.array(eval(task_event_df.loc[task_event_df['task_nr']==1]['current_sequence'].values[0]))\n",
    "    \n",
    "    \n",
    "    graph_type0 = task_event_df.loc[task_event_df['task_nr']==0]['graph_type'].values[0]\n",
    "    graph_type1 = task_event_df.loc[task_event_df['task_nr']==0]['graph_type'].values[0]\n",
    "    \n",
    "    if by_dir:\n",
    "        firing_rate_maps = get_task_responses_by_direction(task_event_df,response_table)\n",
    "    else:\n",
    "        firing_rate_maps = get_task_responses(task_event_df,response_table)\n",
    "    \n",
    "    return firing_rate_maps, task_event_df,seq0,seq1,graph_type0,graph_type1"
   ]
  },
  {
   "cell_type": "code",
   "execution_count": 1282,
   "metadata": {},
   "outputs": [],
   "source": [
    "def get_task_responses_by_direction(task_event_df,response_table):\n",
    "    \"\"\" \n",
    "    Use the columns of the task_event_df to filter neural activity. \n",
    "    In this example build separate firing rate maps for each of the\n",
    "    tasks, selecting only trials where subjects poked the correct poke.\n",
    "    \n",
    "    \n",
    "    \"\"\"\n",
    "    \n",
    "    \n",
    "    n_neurons = response_table.shape[1]\n",
    "    n_ports = 9\n",
    "    n_tasks = 2\n",
    "    n_direction = 2\n",
    "    \n",
    "    #set variables to nan to not confuse missing data for no responses\n",
    "    firing_rate_maps = np.zeros([n_neurons,n_ports,n_tasks,n_direction]) + np.nan\n",
    "    \n",
    "    #for each task\n",
    "    for task in [0,1]:\n",
    "        \n",
    "        for port in range(n_ports):  #for each port\n",
    "            \n",
    "            for dix,direction in enumerate(np.unique(task_event_df['direction'].values)):\n",
    "\n",
    "                #Select indices of pokes where...\n",
    "                table_index = task_event_df.loc[(task_event_df['task_nr']==task) &  #task_nr was task\n",
    "                                                (task_event_df['correct']==True) &  #the poke was to the correct port\n",
    "                                                (task_event_df['port']==port) &       #the port poked was port\n",
    "                                                (task_event_df['direction']==direction)\n",
    "                                               ].index           \n",
    "                #print(len(table_index))\n",
    "                #get the average\n",
    "                firing_rate_maps[:,int(port),int(task),dix] = np.nanmean(response_table[table_index],axis=0)\n",
    "    return firing_rate_maps\n",
    "                                         "
   ]
  },
  {
   "cell_type": "code",
   "execution_count": 1283,
   "metadata": {},
   "outputs": [],
   "source": [
    "def get_task_responses(task_event_df,response_table):\n",
    "    \"\"\" \n",
    "    Use the columns of the task_event_df to filter neural activity. \n",
    "    In this example build separate firing rate maps for each of the\n",
    "    tasks, selecting only trials where subjects poked the correct poke.\n",
    "    \n",
    "    \n",
    "    \"\"\"\n",
    "    \n",
    "    \n",
    "    n_neurons = response_table.shape[1]\n",
    "    n_ports = 9\n",
    "    n_tasks = 2\n",
    "    n_direction = 2\n",
    "    \n",
    "    #set variables to nan to not confuse missing data for no responses\n",
    "    firing_rate_maps = np.zeros([n_neurons,n_ports,n_tasks]) + np.nan\n",
    "    \n",
    "    #for each task\n",
    "    for task in [0,1]:\n",
    "        \n",
    "        for port in range(n_ports):  #for each port\n",
    "            \n",
    "            #for dix,direction in enumerate(np.unique(task_event_df['direction'].values)):\n",
    "\n",
    "                #Select indices of pokes where...\n",
    "            table_index = task_event_df.loc[(task_event_df['task_nr']==task) &  #task_nr was task\n",
    "                                            (task_event_df['correct']==True) &  #the poke was to the correct port\n",
    "                                            (task_event_df['port']==port)        #the port poked was port\n",
    "                                            #(task_event_df['direction']==direction)\n",
    "                                           ].index           \n",
    "            #print(len(table_index))\n",
    "            #get the average\n",
    "            firing_rate_maps[:,int(port),int(task)] = np.nanmean(response_table[table_index],axis=0)\n",
    "    return firing_rate_maps"
   ]
  },
  {
   "cell_type": "code",
   "execution_count": 1284,
   "metadata": {},
   "outputs": [],
   "source": [
    "\n",
    "firing_rate_maps,task_event_df,seq0,seq1,graph_type0,graph_type1, = load_data(4)\n",
    "#spatial_map  = np.nanmean(firing_rate_maps,axis=(2,3))\n",
    "mds_frm = firing_rate_maps.swapaxes(0,2) #- spatial_map[:,:,None,None]\n",
    "#valid_ix = np.where(~np.isnan(np.sum(firing_rate_maps,axis=(0,2,3))))[0]\n",
    "#frm = np.hstack([mds_frm[:,seq0,0,0],mds_frm[:,seq0,0,1],mds_frm[:,seq1,1,0],mds_frm[:,seq1,1,1]])"
   ]
  },
  {
   "cell_type": "code",
   "execution_count": 1285,
   "metadata": {},
   "outputs": [
    {
     "ename": "NameError",
     "evalue": "name 'mds_' is not defined",
     "output_type": "error",
     "traceback": [
      "\u001b[0;31m---------------------------------------------------------------------------\u001b[0m",
      "\u001b[0;31mNameError\u001b[0m                                 Traceback (most recent call last)",
      "\u001b[0;32m<ipython-input-1285-06051e17ec45>\u001b[0m in \u001b[0;36m<module>\u001b[0;34m\u001b[0m\n\u001b[0;32m----> 1\u001b[0;31m \u001b[0mmds_\u001b[0m\u001b[0;34m\u001b[0m\u001b[0;34m\u001b[0m\u001b[0m\n\u001b[0m",
      "\u001b[0;31mNameError\u001b[0m: name 'mds_' is not defined"
     ]
    }
   ],
   "source": [
    "mds_"
   ]
  },
  {
   "cell_type": "code",
   "execution_count": 1286,
   "metadata": {},
   "outputs": [
    {
     "data": {
      "text/plain": [
       "(2, 9, 274)"
      ]
     },
     "execution_count": 1286,
     "metadata": {},
     "output_type": "execute_result"
    }
   ],
   "source": [
    "mds_frm.shape"
   ]
  },
  {
   "cell_type": "code",
   "execution_count": 1287,
   "metadata": {},
   "outputs": [
    {
     "data": {
      "text/plain": [
       "'line'"
      ]
     },
     "execution_count": 1287,
     "metadata": {},
     "output_type": "execute_result"
    }
   ],
   "source": [
    "graph_type1"
   ]
  },
  {
   "cell_type": "code",
   "execution_count": 1288,
   "metadata": {},
   "outputs": [],
   "source": [
    "#mean_state_resps = np.nanmean(mds_frm,axis=3).swapaxes(0,2)"
   ]
  },
  {
   "cell_type": "code",
   "execution_count": 1289,
   "metadata": {},
   "outputs": [],
   "source": [
    "from scipy.spatial.distance import pdist\n",
    "from scipy.spatial import distance_matrix\n",
    "\n",
    "def zscore(dat): return (dat-np.mean(dat))/np.std(dat)"
   ]
  },
  {
   "cell_type": "code",
   "execution_count": 1290,
   "metadata": {},
   "outputs": [],
   "source": [
    "seq0_2 = np.array([list(seq0).index(i) for i in range(9)])\n",
    "seq1_2 = np.array([list(seq1).index(i) for i in range(9)])"
   ]
  },
  {
   "cell_type": "code",
   "execution_count": 1291,
   "metadata": {},
   "outputs": [
    {
     "data": {
      "text/plain": [
       "array([8, 1, 6, 3, 4, 0, 7, 2, 5])"
      ]
     },
     "execution_count": 1291,
     "metadata": {},
     "output_type": "execute_result"
    }
   ],
   "source": [
    "seq0"
   ]
  },
  {
   "cell_type": "code",
   "execution_count": 1292,
   "metadata": {},
   "outputs": [],
   "source": [
    "#seq1"
   ]
  },
  {
   "cell_type": "code",
   "execution_count": 1293,
   "metadata": {},
   "outputs": [
    {
     "data": {
      "text/plain": [
       "array([[-0., -4., -2., -2., -1., -3., -3., -1., -5.],\n",
       "       [-4., -0., -6., -2., -3., -7., -1., -5., -1.],\n",
       "       [-2., -6., -0., -4., -3., -1., -5., -1., -7.],\n",
       "       [-2., -2., -4., -0., -1., -5., -1., -3., -3.],\n",
       "       [-1., -3., -3., -1., -0., -4., -2., -2., -4.],\n",
       "       [-3., -7., -1., -5., -4., -0., -6., -2., -8.],\n",
       "       [-3., -1., -5., -1., -2., -6., -0., -4., -2.],\n",
       "       [-1., -5., -1., -3., -2., -2., -4., -0., -6.],\n",
       "       [-5., -1., -7., -3., -4., -8., -2., -6., -0.]])"
      ]
     },
     "execution_count": 1293,
     "metadata": {},
     "output_type": "execute_result"
    }
   ],
   "source": [
    "task_1_distance"
   ]
  },
  {
   "cell_type": "code",
   "execution_count": 1294,
   "metadata": {},
   "outputs": [
    {
     "data": {
      "text/plain": [
       "-7"
      ]
     },
     "execution_count": 1294,
     "metadata": {},
     "output_type": "execute_result"
    }
   ],
   "source": [
    "1-8"
   ]
  },
  {
   "cell_type": "code",
   "execution_count": 1295,
   "metadata": {},
   "outputs": [
    {
     "data": {
      "text/plain": [
       "15"
      ]
     },
     "execution_count": 1295,
     "metadata": {},
     "output_type": "execute_result"
    }
   ],
   "source": [
    "9 +(8-2)"
   ]
  },
  {
   "cell_type": "code",
   "execution_count": 2089,
   "metadata": {},
   "outputs": [],
   "source": [
    "def loop_distance_matrix(seq,p=2):\n",
    "    seq = list(seq)\n",
    "    d = np.zeros([9,9])\n",
    "    for i in range(9):\n",
    "        for j in range(9):\n",
    "            ind1 = seq.index(i)\n",
    "            ind2 = seq.index(j)\n",
    "            d[i,j] = min([abs(ind1-ind2),abs(9+(ind1-ind2)),abs(9+(ind2-ind1))])**p\n",
    "    return d"
   ]
  },
  {
   "cell_type": "code",
   "execution_count": 2090,
   "metadata": {},
   "outputs": [],
   "source": [
    "def line_distance_matrix(seq,p=1):\n",
    "    seq = list(seq)\n",
    "    d = np.zeros([9,9])\n",
    "    for i in range(9):\n",
    "        for j in range(9):\n",
    "            ind1 = seq.index(i)\n",
    "            ind2 = seq.index(j)\n",
    "            d[i,j] = abs(ind1-ind2)**p\n",
    "    return d"
   ]
  },
  {
   "cell_type": "code",
   "execution_count": 2061,
   "metadata": {},
   "outputs": [],
   "source": [
    "#task_1_distance = loop_distance_matrix(seq0,p=2)\n",
    "#task_2_distance = loop_distance_matrix(seq1,p=2)"
   ]
  },
  {
   "cell_type": "code",
   "execution_count": 2062,
   "metadata": {},
   "outputs": [],
   "source": [
    "if graph_type0=='loop': \n",
    "    task_1_distance = -loop_distance_matrix(seq0)\n",
    "else: \n",
    "    task_1_distance =  -line_distance_matrix(seq0)#-(distance_matrix(seq0.reshape(-1,1),seq0.reshape(-1,1),p=1))\n",
    "if graph_type1=='loop':\n",
    "    task_2_distance = -loop_distance_matrix(seq1)\n",
    "else:\n",
    "    task_2_distance = -line_distance_matrix(seq1)#distance_matrix(seq1.reshape(-1,1),seq1.reshape(-1,1),p=1)\n",
    "            \n",
    "#task_1_distance = -(distance_matrix(seq0_2.reshape(-1,1),seq0_2.reshape(-1,1),p=1)%mod0)\n",
    "#task_2_distance = -distance_matrix(seq1.reshape(-1,1)%mod1,seq1.reshape(-1,1)%mod1,p=2)\n",
    "spatial_distance = -distance_matrix(poke_pos,poke_pos,p=1)"
   ]
  },
  {
   "cell_type": "code",
   "execution_count": 2063,
   "metadata": {},
   "outputs": [],
   "source": [
    "#for "
   ]
  },
  {
   "cell_type": "code",
   "execution_count": 2064,
   "metadata": {},
   "outputs": [
    {
     "data": {
      "text/plain": [
       "<matplotlib.colorbar.Colorbar at 0x7faecac40b10>"
      ]
     },
     "execution_count": 2064,
     "metadata": {},
     "output_type": "execute_result"
    },
    {
     "data": {
      "image/png": "[encoded data removed]",
      "text/plain": [
       "<Figure size 432x288 with 2 Axes>"
      ]
     },
     "metadata": {},
     "output_type": "display_data"
    }
   ],
   "source": [
    "plt.imshow(task_1_distance)\n",
    "plt.colorbar()"
   ]
  },
  {
   "cell_type": "code",
   "execution_count": 2065,
   "metadata": {},
   "outputs": [],
   "source": [
    "import statsmodels.api as sm"
   ]
  },
  {
   "cell_type": "code",
   "execution_count": 2066,
   "metadata": {},
   "outputs": [],
   "source": [
    "task1_corrs = np.corrcoef(mean_state_resps[0])\n",
    "task2_corrs = np.corrcoef(mean_state_resps[1])"
   ]
  },
  {
   "cell_type": "code",
   "execution_count": 2067,
   "metadata": {},
   "outputs": [],
   "source": [
    "beta = np.linalg.inv(X.T@X)@X.T@y"
   ]
  },
  {
   "cell_type": "code",
   "execution_count": 2068,
   "metadata": {},
   "outputs": [
    {
     "ename": "ValueError",
     "evalue": "cannot reshape array of size 240 into shape (8,9)",
     "output_type": "error",
     "traceback": [
      "\u001b[0;31m---------------------------------------------------------------------------\u001b[0m",
      "\u001b[0;31mValueError\u001b[0m                                Traceback (most recent call last)",
      "\u001b[0;32m<ipython-input-2068-33a6fa4072e8>\u001b[0m in \u001b[0;36m<module>\u001b[0;34m\u001b[0m\n\u001b[0;32m----> 1\u001b[0;31m \u001b[0mplt\u001b[0m\u001b[0;34m.\u001b[0m\u001b[0mimshow\u001b[0m\u001b[0;34m(\u001b[0m\u001b[0;34m(\u001b[0m\u001b[0mX\u001b[0m\u001b[0;34m@\u001b[0m\u001b[0mbeta\u001b[0m\u001b[0;34m)\u001b[0m\u001b[0;34m.\u001b[0m\u001b[0mreshape\u001b[0m\u001b[0;34m(\u001b[0m\u001b[0;36m8\u001b[0m\u001b[0;34m,\u001b[0m\u001b[0;36m9\u001b[0m\u001b[0;34m)\u001b[0m\u001b[0;34m)\u001b[0m\u001b[0;34m\u001b[0m\u001b[0;34m\u001b[0m\u001b[0m\n\u001b[0m\u001b[1;32m      2\u001b[0m \u001b[0mplt\u001b[0m\u001b[0;34m.\u001b[0m\u001b[0mcolorbar\u001b[0m\u001b[0;34m(\u001b[0m\u001b[0;34m)\u001b[0m\u001b[0;34m\u001b[0m\u001b[0;34m\u001b[0m\u001b[0m\n",
      "\u001b[0;31mValueError\u001b[0m: cannot reshape array of size 240 into shape (8,9)"
     ]
    }
   ],
   "source": [
    "plt.imshow((X@beta).reshape(8,9))\n",
    "plt.colorbar()"
   ]
  },
  {
   "cell_type": "code",
   "execution_count": 2069,
   "metadata": {},
   "outputs": [
    {
     "data": {
      "text/plain": [
       "array([[1.        , 0.75430223],\n",
       "       [0.75430223, 1.        ]])"
      ]
     },
     "execution_count": 2069,
     "metadata": {},
     "output_type": "execute_result"
    }
   ],
   "source": [
    "np.corrcoef(y,(X@beta))"
   ]
  },
  {
   "cell_type": "code",
   "execution_count": 2070,
   "metadata": {},
   "outputs": [
    {
     "ename": "ValueError",
     "evalue": "cannot reshape array of size 240 into shape (8,9)",
     "output_type": "error",
     "traceback": [
      "\u001b[0;31m---------------------------------------------------------------------------\u001b[0m",
      "\u001b[0;31mValueError\u001b[0m                                Traceback (most recent call last)",
      "\u001b[0;32m<ipython-input-2070-1364e7c1cc53>\u001b[0m in \u001b[0;36m<module>\u001b[0;34m\u001b[0m\n\u001b[0;32m----> 1\u001b[0;31m \u001b[0mplt\u001b[0m\u001b[0;34m.\u001b[0m\u001b[0mimshow\u001b[0m\u001b[0;34m(\u001b[0m\u001b[0my\u001b[0m\u001b[0;34m.\u001b[0m\u001b[0mreshape\u001b[0m\u001b[0;34m(\u001b[0m\u001b[0;36m8\u001b[0m\u001b[0;34m,\u001b[0m\u001b[0;36m9\u001b[0m\u001b[0;34m)\u001b[0m\u001b[0;34m)\u001b[0m\u001b[0;34m\u001b[0m\u001b[0;34m\u001b[0m\u001b[0m\n\u001b[0m\u001b[1;32m      2\u001b[0m \u001b[0mplt\u001b[0m\u001b[0;34m.\u001b[0m\u001b[0mcolorbar\u001b[0m\u001b[0;34m(\u001b[0m\u001b[0;34m)\u001b[0m\u001b[0;34m\u001b[0m\u001b[0;34m\u001b[0m\u001b[0m\n",
      "\u001b[0;31mValueError\u001b[0m: cannot reshape array of size 240 into shape (8,9)"
     ]
    }
   ],
   "source": [
    "plt.imshow(y.reshape(8,9))\n",
    "plt.colorbar()"
   ]
  },
  {
   "cell_type": "code",
   "execution_count": 2071,
   "metadata": {},
   "outputs": [],
   "source": [
    "def remove_diagonal(A):\n",
    "    removed = A[~np.eye(A.shape[0], dtype=bool)].reshape(A.shape[0], int(A.shape[0])-1, -1)\n",
    "    return np.squeeze(removed)\n"
   ]
  },
  {
   "cell_type": "code",
   "execution_count": 2072,
   "metadata": {},
   "outputs": [],
   "source": [
    "X = np.vstack([np.ones_like(remove_diagonal(spatial_distance).flatten()),\n",
    "               zscore(remove_diagonal(spatial_distance).flatten()),\n",
    "               zscore(remove_diagonal(task_1_distance).flatten()),\n",
    "               zscore(remove_diagonal(task_2_distance).flatten())\n",
    "              ]).T\n",
    "y = remove_diagonal(task1_corrs).flatten()\n",
    "res = sm.OLS(y,X,hasconst=True).fit()"
   ]
  },
  {
   "cell_type": "code",
   "execution_count": 2073,
   "metadata": {},
   "outputs": [
    {
     "data": {
      "text/html": [
       "<table class=\"simpletable\">\n",
       "<caption>OLS Regression Results</caption>\n",
       "<tr>\n",
       "  <th>Dep. Variable:</th>            <td>y</td>        <th>  R-squared:         </th> <td>   0.113</td>\n",
       "</tr>\n",
       "<tr>\n",
       "  <th>Model:</th>                   <td>OLS</td>       <th>  Adj. R-squared:    </th> <td>   0.074</td>\n",
       "</tr>\n",
       "<tr>\n",
       "  <th>Method:</th>             <td>Least Squares</td>  <th>  F-statistic:       </th> <td>   2.879</td>\n",
       "</tr>\n",
       "<tr>\n",
       "  <th>Date:</th>             <td>Sun, 14 Nov 2021</td> <th>  Prob (F-statistic):</th>  <td>0.0423</td> \n",
       "</tr>\n",
       "<tr>\n",
       "  <th>Time:</th>                 <td>20:19:13</td>     <th>  Log-Likelihood:    </th> <td>  76.509</td>\n",
       "</tr>\n",
       "<tr>\n",
       "  <th>No. Observations:</th>      <td>    72</td>      <th>  AIC:               </th> <td>  -145.0</td>\n",
       "</tr>\n",
       "<tr>\n",
       "  <th>Df Residuals:</th>          <td>    68</td>      <th>  BIC:               </th> <td>  -135.9</td>\n",
       "</tr>\n",
       "<tr>\n",
       "  <th>Df Model:</th>              <td>     3</td>      <th>                     </th>     <td> </td>   \n",
       "</tr>\n",
       "<tr>\n",
       "  <th>Covariance Type:</th>      <td>nonrobust</td>    <th>                     </th>     <td> </td>   \n",
       "</tr>\n",
       "</table>\n",
       "<table class=\"simpletable\">\n",
       "<tr>\n",
       "    <td></td>       <th>coef</th>     <th>std err</th>      <th>t</th>      <th>P>|t|</th>  <th>[0.025</th>    <th>0.975]</th>  \n",
       "</tr>\n",
       "<tr>\n",
       "  <th>const</th> <td>    0.0618</td> <td>    0.010</td> <td>    6.099</td> <td> 0.000</td> <td>    0.042</td> <td>    0.082</td>\n",
       "</tr>\n",
       "<tr>\n",
       "  <th>x1</th>    <td>    0.0171</td> <td>    0.010</td> <td>    1.676</td> <td> 0.098</td> <td>   -0.003</td> <td>    0.037</td>\n",
       "</tr>\n",
       "<tr>\n",
       "  <th>x2</th>    <td>   -0.0201</td> <td>    0.010</td> <td>   -1.968</td> <td> 0.053</td> <td>   -0.041</td> <td>    0.000</td>\n",
       "</tr>\n",
       "<tr>\n",
       "  <th>x3</th>    <td>   -0.0147</td> <td>    0.010</td> <td>   -1.442</td> <td> 0.154</td> <td>   -0.035</td> <td>    0.006</td>\n",
       "</tr>\n",
       "</table>\n",
       "<table class=\"simpletable\">\n",
       "<tr>\n",
       "  <th>Omnibus:</th>       <td> 0.888</td> <th>  Durbin-Watson:     </th> <td>   1.563</td>\n",
       "</tr>\n",
       "<tr>\n",
       "  <th>Prob(Omnibus):</th> <td> 0.641</td> <th>  Jarque-Bera (JB):  </th> <td>   0.782</td>\n",
       "</tr>\n",
       "<tr>\n",
       "  <th>Skew:</th>          <td>-0.250</td> <th>  Prob(JB):          </th> <td>   0.676</td>\n",
       "</tr>\n",
       "<tr>\n",
       "  <th>Kurtosis:</th>      <td> 2.896</td> <th>  Cond. No.          </th> <td>    1.15</td>\n",
       "</tr>\n",
       "</table><br/><br/>Warnings:<br/>[1] Standard Errors assume that the covariance matrix of the errors is correctly specified."
      ],
      "text/plain": [
       "<class 'statsmodels.iolib.summary.Summary'>\n",
       "\"\"\"\n",
       "                            OLS Regression Results                            \n",
       "==============================================================================\n",
       "Dep. Variable:                      y   R-squared:                       0.113\n",
       "Model:                            OLS   Adj. R-squared:                  0.074\n",
       "Method:                 Least Squares   F-statistic:                     2.879\n",
       "Date:                Sun, 14 Nov 2021   Prob (F-statistic):             0.0423\n",
       "Time:                        20:19:13   Log-Likelihood:                 76.509\n",
       "No. Observations:                  72   AIC:                            -145.0\n",
       "Df Residuals:                      68   BIC:                            -135.9\n",
       "Df Model:                           3                                         \n",
       "Covariance Type:            nonrobust                                         \n",
       "==============================================================================\n",
       "                 coef    std err          t      P>|t|      [0.025      0.975]\n",
       "------------------------------------------------------------------------------\n",
       "const          0.0618      0.010      6.099      0.000       0.042       0.082\n",
       "x1             0.0171      0.010      1.676      0.098      -0.003       0.037\n",
       "x2            -0.0201      0.010     -1.968      0.053      -0.041       0.000\n",
       "x3            -0.0147      0.010     -1.442      0.154      -0.035       0.006\n",
       "==============================================================================\n",
       "Omnibus:                        0.888   Durbin-Watson:                   1.563\n",
       "Prob(Omnibus):                  0.641   Jarque-Bera (JB):                0.782\n",
       "Skew:                          -0.250   Prob(JB):                        0.676\n",
       "Kurtosis:                       2.896   Cond. No.                         1.15\n",
       "==============================================================================\n",
       "\n",
       "Warnings:\n",
       "[1] Standard Errors assume that the covariance matrix of the errors is correctly specified.\n",
       "\"\"\""
      ]
     },
     "execution_count": 2073,
     "metadata": {},
     "output_type": "execute_result"
    }
   ],
   "source": [
    "res.summary()"
   ]
  },
  {
   "cell_type": "code",
   "execution_count": 2074,
   "metadata": {},
   "outputs": [],
   "source": [
    "\n",
    "y = remove_diagonal(task2_corrs).flatten()\n",
    "res2 = sm.OLS(y,X,hasconst=True).fit()"
   ]
  },
  {
   "cell_type": "code",
   "execution_count": 2075,
   "metadata": {},
   "outputs": [
    {
     "data": {
      "text/html": [
       "<table class=\"simpletable\">\n",
       "<caption>OLS Regression Results</caption>\n",
       "<tr>\n",
       "  <th>Dep. Variable:</th>            <td>y</td>        <th>  R-squared:         </th> <td>   0.113</td>\n",
       "</tr>\n",
       "<tr>\n",
       "  <th>Model:</th>                   <td>OLS</td>       <th>  Adj. R-squared:    </th> <td>   0.074</td>\n",
       "</tr>\n",
       "<tr>\n",
       "  <th>Method:</th>             <td>Least Squares</td>  <th>  F-statistic:       </th> <td>   2.879</td>\n",
       "</tr>\n",
       "<tr>\n",
       "  <th>Date:</th>             <td>Sun, 14 Nov 2021</td> <th>  Prob (F-statistic):</th>  <td>0.0423</td> \n",
       "</tr>\n",
       "<tr>\n",
       "  <th>Time:</th>                 <td>20:19:14</td>     <th>  Log-Likelihood:    </th> <td>  76.509</td>\n",
       "</tr>\n",
       "<tr>\n",
       "  <th>No. Observations:</th>      <td>    72</td>      <th>  AIC:               </th> <td>  -145.0</td>\n",
       "</tr>\n",
       "<tr>\n",
       "  <th>Df Residuals:</th>          <td>    68</td>      <th>  BIC:               </th> <td>  -135.9</td>\n",
       "</tr>\n",
       "<tr>\n",
       "  <th>Df Model:</th>              <td>     3</td>      <th>                     </th>     <td> </td>   \n",
       "</tr>\n",
       "<tr>\n",
       "  <th>Covariance Type:</th>      <td>nonrobust</td>    <th>                     </th>     <td> </td>   \n",
       "</tr>\n",
       "</table>\n",
       "<table class=\"simpletable\">\n",
       "<tr>\n",
       "    <td></td>       <th>coef</th>     <th>std err</th>      <th>t</th>      <th>P>|t|</th>  <th>[0.025</th>    <th>0.975]</th>  \n",
       "</tr>\n",
       "<tr>\n",
       "  <th>const</th> <td>    0.0618</td> <td>    0.010</td> <td>    6.099</td> <td> 0.000</td> <td>    0.042</td> <td>    0.082</td>\n",
       "</tr>\n",
       "<tr>\n",
       "  <th>x1</th>    <td>    0.0171</td> <td>    0.010</td> <td>    1.676</td> <td> 0.098</td> <td>   -0.003</td> <td>    0.037</td>\n",
       "</tr>\n",
       "<tr>\n",
       "  <th>x2</th>    <td>   -0.0201</td> <td>    0.010</td> <td>   -1.968</td> <td> 0.053</td> <td>   -0.041</td> <td>    0.000</td>\n",
       "</tr>\n",
       "<tr>\n",
       "  <th>x3</th>    <td>   -0.0147</td> <td>    0.010</td> <td>   -1.442</td> <td> 0.154</td> <td>   -0.035</td> <td>    0.006</td>\n",
       "</tr>\n",
       "</table>\n",
       "<table class=\"simpletable\">\n",
       "<tr>\n",
       "  <th>Omnibus:</th>       <td> 0.888</td> <th>  Durbin-Watson:     </th> <td>   1.563</td>\n",
       "</tr>\n",
       "<tr>\n",
       "  <th>Prob(Omnibus):</th> <td> 0.641</td> <th>  Jarque-Bera (JB):  </th> <td>   0.782</td>\n",
       "</tr>\n",
       "<tr>\n",
       "  <th>Skew:</th>          <td>-0.250</td> <th>  Prob(JB):          </th> <td>   0.676</td>\n",
       "</tr>\n",
       "<tr>\n",
       "  <th>Kurtosis:</th>      <td> 2.896</td> <th>  Cond. No.          </th> <td>    1.15</td>\n",
       "</tr>\n",
       "</table><br/><br/>Warnings:<br/>[1] Standard Errors assume that the covariance matrix of the errors is correctly specified."
      ],
      "text/plain": [
       "<class 'statsmodels.iolib.summary.Summary'>\n",
       "\"\"\"\n",
       "                            OLS Regression Results                            \n",
       "==============================================================================\n",
       "Dep. Variable:                      y   R-squared:                       0.113\n",
       "Model:                            OLS   Adj. R-squared:                  0.074\n",
       "Method:                 Least Squares   F-statistic:                     2.879\n",
       "Date:                Sun, 14 Nov 2021   Prob (F-statistic):             0.0423\n",
       "Time:                        20:19:14   Log-Likelihood:                 76.509\n",
       "No. Observations:                  72   AIC:                            -145.0\n",
       "Df Residuals:                      68   BIC:                            -135.9\n",
       "Df Model:                           3                                         \n",
       "Covariance Type:            nonrobust                                         \n",
       "==============================================================================\n",
       "                 coef    std err          t      P>|t|      [0.025      0.975]\n",
       "------------------------------------------------------------------------------\n",
       "const          0.0618      0.010      6.099      0.000       0.042       0.082\n",
       "x1             0.0171      0.010      1.676      0.098      -0.003       0.037\n",
       "x2            -0.0201      0.010     -1.968      0.053      -0.041       0.000\n",
       "x3            -0.0147      0.010     -1.442      0.154      -0.035       0.006\n",
       "==============================================================================\n",
       "Omnibus:                        0.888   Durbin-Watson:                   1.563\n",
       "Prob(Omnibus):                  0.641   Jarque-Bera (JB):                0.782\n",
       "Skew:                          -0.250   Prob(JB):                        0.676\n",
       "Kurtosis:                       2.896   Cond. No.                         1.15\n",
       "==============================================================================\n",
       "\n",
       "Warnings:\n",
       "[1] Standard Errors assume that the covariance matrix of the errors is correctly specified.\n",
       "\"\"\""
      ]
     },
     "execution_count": 2075,
     "metadata": {},
     "output_type": "execute_result"
    }
   ],
   "source": [
    "res2.summary()"
   ]
  },
  {
   "cell_type": "code",
   "execution_count": 2076,
   "metadata": {},
   "outputs": [
    {
     "data": {
      "text/plain": [
       "array([ 0.06184391,  0.01710821, -0.02014127, -0.01472281])"
      ]
     },
     "execution_count": 2076,
     "metadata": {},
     "output_type": "execute_result"
    }
   ],
   "source": [
    "res.params"
   ]
  },
  {
   "cell_type": "code",
   "execution_count": 2077,
   "metadata": {},
   "outputs": [
    {
     "data": {
      "text/plain": [
       "array([[[ 9.32210952e-02,  2.05208903e+00,  7.06775843e-01, ...,\n",
       "         -1.11444166e+00,  2.69947787e+00, -1.09372806e+00],\n",
       "        [ 1.43889292e+00,  9.29571291e-01, -3.12879647e-01, ...,\n",
       "         -2.02840803e+00, -3.04620880e-01, -2.04509786e-01],\n",
       "        [ 6.51073815e-01,  3.31347836e-01, -5.73403542e-02, ...,\n",
       "          5.52530421e-01,  6.56730446e-01, -2.16904319e+00],\n",
       "        ...,\n",
       "        [ 1.14519795e+00,  2.15763959e-01,  4.49747822e-01, ...,\n",
       "         -9.86547071e-01,  1.30411218e-16, -4.77189502e-01],\n",
       "        [-3.97878442e-02,  3.46640813e-01,  2.75233700e-01, ...,\n",
       "         -2.57847530e-01,  3.62002636e-01, -4.66344286e-01],\n",
       "        [-3.94734114e-01,  9.29059976e-01,  3.22081990e-01, ...,\n",
       "          6.31799223e-01,  7.48056339e-01, -1.38370451e+00]],\n",
       "\n",
       "       [[-9.32210952e-02, -2.05208903e+00, -7.06775843e-01, ...,\n",
       "          1.11444166e+00, -2.69947787e+00,  1.09372806e+00],\n",
       "        [-1.43889292e+00, -9.29571291e-01,  3.12879647e-01, ...,\n",
       "          2.02840803e+00,  3.04620880e-01,  2.04509786e-01],\n",
       "        [-6.51073815e-01, -3.31347836e-01,  5.73403542e-02, ...,\n",
       "         -5.52530421e-01, -6.56730446e-01,  2.16904319e+00],\n",
       "        ...,\n",
       "        [-1.14519795e+00, -2.15763959e-01, -4.49747822e-01, ...,\n",
       "          9.86547071e-01,  1.30411218e-16,  4.77189502e-01],\n",
       "        [ 3.97878442e-02, -3.46640813e-01, -2.75233700e-01, ...,\n",
       "          2.57847530e-01, -3.62002636e-01,  4.66344286e-01],\n",
       "        [ 3.94734114e-01, -9.29059976e-01, -3.22081990e-01, ...,\n",
       "         -6.31799223e-01, -7.48056339e-01,  1.38370451e+00]]])"
      ]
     },
     "execution_count": 2077,
     "metadata": {},
     "output_type": "execute_result"
    }
   ],
   "source": [
    "mean_state_resps"
   ]
  },
  {
   "cell_type": "code",
   "execution_count": 2078,
   "metadata": {},
   "outputs": [
    {
     "ename": "ValueError",
     "evalue": "color kwarg must have one color per data set. 2 data sets and 1 colors were provided",
     "output_type": "error",
     "traceback": [
      "\u001b[0;31m---------------------------------------------------------------------------\u001b[0m",
      "\u001b[0;31mValueError\u001b[0m                                Traceback (most recent call last)",
      "\u001b[0;32m<ipython-input-2078-72618af245e0>\u001b[0m in \u001b[0;36m<module>\u001b[0;34m\u001b[0m\n\u001b[0;32m----> 1\u001b[0;31m \u001b[0mseaborn\u001b[0m\u001b[0;34m.\u001b[0m\u001b[0mdistplot\u001b[0m\u001b[0;34m(\u001b[0m\u001b[0mfiring_rate_maps\u001b[0m\u001b[0;34m.\u001b[0m\u001b[0mmax\u001b[0m\u001b[0;34m(\u001b[0m\u001b[0maxis\u001b[0m\u001b[0;34m=\u001b[0m\u001b[0;34m(\u001b[0m\u001b[0;36m1\u001b[0m\u001b[0;34m,\u001b[0m\u001b[0;36m2\u001b[0m\u001b[0;34m)\u001b[0m\u001b[0;34m)\u001b[0m\u001b[0;34m,\u001b[0m\u001b[0mkde\u001b[0m\u001b[0;34m=\u001b[0m\u001b[0;36m0\u001b[0m\u001b[0;34m,\u001b[0m\u001b[0mbins\u001b[0m\u001b[0;34m=\u001b[0m\u001b[0mnp\u001b[0m\u001b[0;34m.\u001b[0m\u001b[0mlinspace\u001b[0m\u001b[0;34m(\u001b[0m\u001b[0;36m0\u001b[0m\u001b[0;34m,\u001b[0m\u001b[0;36m10\u001b[0m\u001b[0;34m,\u001b[0m\u001b[0mnum\u001b[0m\u001b[0;34m=\u001b[0m\u001b[0;36m50\u001b[0m\u001b[0;34m)\u001b[0m\u001b[0;34m)\u001b[0m\u001b[0;34m\u001b[0m\u001b[0;34m\u001b[0m\u001b[0m\n\u001b[0m\u001b[1;32m      2\u001b[0m \u001b[0mplt\u001b[0m\u001b[0;34m.\u001b[0m\u001b[0mxlim\u001b[0m\u001b[0;34m(\u001b[0m\u001b[0;36m0\u001b[0m\u001b[0;34m,\u001b[0m\u001b[0;36m1\u001b[0m\u001b[0;34m)\u001b[0m\u001b[0;34m\u001b[0m\u001b[0;34m\u001b[0m\u001b[0m\n",
      "\u001b[0;32m~/opt/anaconda3/lib/python3.7/site-packages/seaborn/distributions.py\u001b[0m in \u001b[0;36mdistplot\u001b[0;34m(a, bins, hist, kde, rug, fit, hist_kws, kde_kws, rug_kws, fit_kws, color, vertical, norm_hist, axlabel, label, ax)\u001b[0m\n\u001b[1;32m    223\u001b[0m         \u001b[0mhist_color\u001b[0m \u001b[0;34m=\u001b[0m \u001b[0mhist_kws\u001b[0m\u001b[0;34m.\u001b[0m\u001b[0mpop\u001b[0m\u001b[0;34m(\u001b[0m\u001b[0;34m\"color\"\u001b[0m\u001b[0;34m,\u001b[0m \u001b[0mcolor\u001b[0m\u001b[0;34m)\u001b[0m\u001b[0;34m\u001b[0m\u001b[0;34m\u001b[0m\u001b[0m\n\u001b[1;32m    224\u001b[0m         ax.hist(a, bins, orientation=orientation,\n\u001b[0;32m--> 225\u001b[0;31m                 color=hist_color, **hist_kws)\n\u001b[0m\u001b[1;32m    226\u001b[0m         \u001b[0;32mif\u001b[0m \u001b[0mhist_color\u001b[0m \u001b[0;34m!=\u001b[0m \u001b[0mcolor\u001b[0m\u001b[0;34m:\u001b[0m\u001b[0;34m\u001b[0m\u001b[0;34m\u001b[0m\u001b[0m\n\u001b[1;32m    227\u001b[0m             \u001b[0mhist_kws\u001b[0m\u001b[0;34m[\u001b[0m\u001b[0;34m\"color\"\u001b[0m\u001b[0;34m]\u001b[0m \u001b[0;34m=\u001b[0m \u001b[0mhist_color\u001b[0m\u001b[0;34m\u001b[0m\u001b[0;34m\u001b[0m\u001b[0m\n",
      "\u001b[0;32m~/opt/anaconda3/lib/python3.7/site-packages/matplotlib/__init__.py\u001b[0m in \u001b[0;36minner\u001b[0;34m(ax, data, *args, **kwargs)\u001b[0m\n\u001b[1;32m   1599\u001b[0m     \u001b[0;32mdef\u001b[0m \u001b[0minner\u001b[0m\u001b[0;34m(\u001b[0m\u001b[0max\u001b[0m\u001b[0;34m,\u001b[0m \u001b[0;34m*\u001b[0m\u001b[0margs\u001b[0m\u001b[0;34m,\u001b[0m \u001b[0mdata\u001b[0m\u001b[0;34m=\u001b[0m\u001b[0;32mNone\u001b[0m\u001b[0;34m,\u001b[0m \u001b[0;34m**\u001b[0m\u001b[0mkwargs\u001b[0m\u001b[0;34m)\u001b[0m\u001b[0;34m:\u001b[0m\u001b[0;34m\u001b[0m\u001b[0;34m\u001b[0m\u001b[0m\n\u001b[1;32m   1600\u001b[0m         \u001b[0;32mif\u001b[0m \u001b[0mdata\u001b[0m \u001b[0;32mis\u001b[0m \u001b[0;32mNone\u001b[0m\u001b[0;34m:\u001b[0m\u001b[0;34m\u001b[0m\u001b[0;34m\u001b[0m\u001b[0m\n\u001b[0;32m-> 1601\u001b[0;31m             \u001b[0;32mreturn\u001b[0m \u001b[0mfunc\u001b[0m\u001b[0;34m(\u001b[0m\u001b[0max\u001b[0m\u001b[0;34m,\u001b[0m \u001b[0;34m*\u001b[0m\u001b[0mmap\u001b[0m\u001b[0;34m(\u001b[0m\u001b[0msanitize_sequence\u001b[0m\u001b[0;34m,\u001b[0m \u001b[0margs\u001b[0m\u001b[0;34m)\u001b[0m\u001b[0;34m,\u001b[0m \u001b[0;34m**\u001b[0m\u001b[0mkwargs\u001b[0m\u001b[0;34m)\u001b[0m\u001b[0;34m\u001b[0m\u001b[0;34m\u001b[0m\u001b[0m\n\u001b[0m\u001b[1;32m   1602\u001b[0m \u001b[0;34m\u001b[0m\u001b[0m\n\u001b[1;32m   1603\u001b[0m         \u001b[0mbound\u001b[0m \u001b[0;34m=\u001b[0m \u001b[0mnew_sig\u001b[0m\u001b[0;34m.\u001b[0m\u001b[0mbind\u001b[0m\u001b[0;34m(\u001b[0m\u001b[0max\u001b[0m\u001b[0;34m,\u001b[0m \u001b[0;34m*\u001b[0m\u001b[0margs\u001b[0m\u001b[0;34m,\u001b[0m \u001b[0;34m**\u001b[0m\u001b[0mkwargs\u001b[0m\u001b[0;34m)\u001b[0m\u001b[0;34m\u001b[0m\u001b[0;34m\u001b[0m\u001b[0m\n",
      "\u001b[0;32m~/opt/anaconda3/lib/python3.7/site-packages/matplotlib/axes/_axes.py\u001b[0m in \u001b[0;36mhist\u001b[0;34m(self, x, bins, range, density, weights, cumulative, bottom, histtype, align, orientation, rwidth, log, color, label, stacked, normed, **kwargs)\u001b[0m\n\u001b[1;32m   6719\u001b[0m                     \u001b[0;34m\"color kwarg must have one color per data set. %d data \"\u001b[0m\u001b[0;34m\u001b[0m\u001b[0;34m\u001b[0m\u001b[0m\n\u001b[1;32m   6720\u001b[0m                     \"sets and %d colors were provided\" % (nx, len(color)))\n\u001b[0;32m-> 6721\u001b[0;31m                 \u001b[0;32mraise\u001b[0m \u001b[0mValueError\u001b[0m\u001b[0;34m(\u001b[0m\u001b[0merror_message\u001b[0m\u001b[0;34m)\u001b[0m\u001b[0;34m\u001b[0m\u001b[0;34m\u001b[0m\u001b[0m\n\u001b[0m\u001b[1;32m   6722\u001b[0m \u001b[0;34m\u001b[0m\u001b[0m\n\u001b[1;32m   6723\u001b[0m         \u001b[0mhist_kwargs\u001b[0m \u001b[0;34m=\u001b[0m \u001b[0mdict\u001b[0m\u001b[0;34m(\u001b[0m\u001b[0;34m)\u001b[0m\u001b[0;34m\u001b[0m\u001b[0;34m\u001b[0m\u001b[0m\n",
      "\u001b[0;31mValueError\u001b[0m: color kwarg must have one color per data set. 2 data sets and 1 colors were provided"
     ]
    },
    {
     "data": {
      "image/png": "[encoded data removed]",
      "text/plain": [
       "<Figure size 432x288 with 1 Axes>"
      ]
     },
     "metadata": {},
     "output_type": "display_data"
    }
   ],
   "source": [
    "seaborn.distplot(firing_rate_maps.max(axis=(1,2)),kde=0,bins=np.linspace(0,10,num=50))\n",
    "plt.xlim(0,1)"
   ]
  },
  {
   "cell_type": "code",
   "execution_count": 2079,
   "metadata": {},
   "outputs": [
    {
     "data": {
      "text/plain": [
       "(394, 9, 2, 2)"
      ]
     },
     "execution_count": 2079,
     "metadata": {},
     "output_type": "execute_result"
    }
   ],
   "source": [
    "firing_rate_maps.shape"
   ]
  },
  {
   "cell_type": "code",
   "execution_count": null,
   "metadata": {},
   "outputs": [],
   "source": []
  },
  {
   "cell_type": "code",
   "execution_count": 2349,
   "metadata": {},
   "outputs": [],
   "source": [
    "all_beta = []\n",
    "all_pvals = []\n",
    "for sess_ix in range(8):\n",
    "    tmp  = []\n",
    "    tmp_pvals = []\n",
    "    firing_rate_maps,task_event_df,seq0,seq1,graph_type0,graph_type1, = load_data(sess_ix)\n",
    "    mxs = firing_rate_maps.max(axis=(1,2))\n",
    "    firing_rate_maps = firing_rate_maps - np.mean(firing_rate_maps,axis=2)[:,:,None]\n",
    "    firing_rate_maps = firing_rate_maps[mxs>.5]\n",
    "    mean_state_resps = firing_rate_maps.swapaxes(0,2)\n",
    "    mean_state_resps = (mean_state_resps - np.mean(mean_state_resps,axis=(0,1))[None,None,:])/np.std(mean_state_resps,axis=(0,1))[None,None,:]\n",
    "    mean_state_resps = np.nan_to_num(mean_state_resps)\n",
    "    #mean_state_resps = np.nanmean(mds_frm,axis=3).swapaxes(0,2)\n",
    "    if graph_type0=='loop': \n",
    "        task_1_distance = -loop_distance_matrix(seq0)\n",
    "    else: \n",
    "        task_1_distance =  -line_distance_matrix(seq0)\n",
    "    if graph_type1=='loop':\n",
    "        task_2_distance = -loop_distance_matrix(seq1)\n",
    "    else:\n",
    "        task_2_distance = -line_distance_matrix(seq1)\n",
    "\n",
    "    spatial_distance = -distance_matrix(poke_pos,poke_pos,p=1)\n",
    "    \n",
    "    msr0 = ((mean_state_resps[0] - np.mean(mean_state_resps[0],axis=0))/np.std(mean_state_resps[0],axis=0))\n",
    "    msr1 = ((mean_state_resps[1] - np.mean(mean_state_resps[1],axis=0))/np.std(mean_state_resps[1],axis=0))\n",
    "    task1_corrs = np.corrcoef(msr0)\n",
    "    task2_corrs = np.corrcoef(msr1)\n",
    "    \n",
    "    \n",
    "    #\n",
    "    X = np.vstack([np.ones_like(remove_diagonal(spatial_distance).flatten()),\n",
    "               zscore(remove_diagonal(spatial_distance).flatten()),\n",
    "               zscore(remove_diagonal(task_1_distance).flatten()),\n",
    "               zscore(remove_diagonal(task_2_distance).flatten())\n",
    "              ]).T\n",
    "    y = remove_diagonal(task1_corrs).flatten()\n",
    "    beta = np.linalg.inv(X.T@X)@X.T@y\n",
    "    res = sm.OLS(y,X,hasconst=True).fit()\n",
    "    \n",
    "    \n",
    "    tmp.append(beta.copy())\n",
    "    tmp_pvals.append(res.pvalues)\n",
    "    \n",
    "    y = remove_diagonal(task2_corrs).flatten()\n",
    "    beta = np.linalg.inv(X.T@X)@X.T@y\n",
    "    res = sm.OLS(y,X,hasconst=True).fit()\n",
    "    \n",
    "    tmp_pvals.append(res.pvalues)\n",
    "    tmp.append(beta.copy())\n",
    "    \n",
    "    all_beta.append(tmp)\n",
    "    all_pvals.append(tmp_pvals)\n",
    "    #assert np.allclose(beta,res.params)"
   ]
  },
  {
   "cell_type": "code",
   "execution_count": 2361,
   "metadata": {},
   "outputs": [
    {
     "data": {
      "text/plain": [
       "1.7270135938613546e-16"
      ]
     },
     "execution_count": 2361,
     "metadata": {},
     "output_type": "execute_result"
    }
   ],
   "source": [
    "np.mean(msr0[:,0])"
   ]
  },
  {
   "cell_type": "code",
   "execution_count": null,
   "metadata": {},
   "outputs": [],
   "source": []
  },
  {
   "cell_type": "code",
   "execution_count": 2350,
   "metadata": {},
   "outputs": [
    {
     "data": {
      "image/png": "[encoded data removed]",
      "text/plain": [
       "<Figure size 864x288 with 2 Axes>"
      ]
     },
     "metadata": {},
     "output_type": "display_data"
    }
   ],
   "source": [
    "plt.figure(figsize=(12,4))\n",
    "plt.subplot(1,2,1)\n",
    "plt.title(\"Correct way around\")\n",
    "seaborn.distplot(np.array(all_pvals)[:,0,-2],kde=0,bins=np.linspace(0,1,num=50),label=r'$\\beta_{t1}$ in task1')\n",
    "seaborn.distplot(np.array(all_pvals)[:,1,-1],kde=0,bins=np.linspace(0,1,num=50),label=r'$\\beta_{t2}$ in task2')\n",
    "plt.axvline(x=0.05,dashes=(7,7),color='.3')\n",
    "plt.xlabel(\"p-value\")\n",
    "plt.ylabel(\"number of sessions\")\n",
    "plt.legend(loc=1)\n",
    "seaborn.despine()\n",
    "\n",
    "plt.subplot(1,2,2)\n",
    "plt.title(\"Wrong way around\")\n",
    "seaborn.distplot(np.array(all_pvals)[:,0,-1],kde=0,bins=np.linspace(0,1,num=50),label=r'$\\beta_{t2}$ in task1')\n",
    "seaborn.distplot(np.array(all_pvals)[:,1,-2],kde=0,bins=np.linspace(0,1,num=50),label=r'$\\beta_{t1}$ in task2')\n",
    "plt.axvline(x=0.05,dashes=(7,7),color='.3')\n",
    "plt.xlabel(\"p-value\")\n",
    "plt.ylabel(\"number of sessions\")\n",
    "plt.legend(loc=1)\n",
    "seaborn.despine()\n",
    "plt.tight_layout()"
   ]
  },
  {
   "cell_type": "code",
   "execution_count": null,
   "metadata": {},
   "outputs": [],
   "source": []
  },
  {
   "cell_type": "code",
   "execution_count": 2351,
   "metadata": {},
   "outputs": [
    {
     "data": {
      "text/plain": [
       "(8, 2, 2)"
      ]
     },
     "execution_count": 2351,
     "metadata": {},
     "output_type": "execute_result"
    }
   ],
   "source": [
    "np.array(all_pvals)[:,:,-2:].shape"
   ]
  },
  {
   "cell_type": "code",
   "execution_count": 2352,
   "metadata": {},
   "outputs": [
    {
     "data": {
      "text/plain": [
       "array([1.49772745e-17, 4.00861318e-05, 7.61518461e-01, 4.81748078e-01])"
      ]
     },
     "execution_count": 2352,
     "metadata": {},
     "output_type": "execute_result"
    }
   ],
   "source": [
    "res.pvalues"
   ]
  },
  {
   "cell_type": "code",
   "execution_count": 2353,
   "metadata": {},
   "outputs": [],
   "source": [
    "#n_sessions x n_tasks x n_params\n",
    "all_beta = np.array(all_beta)"
   ]
  },
  {
   "cell_type": "code",
   "execution_count": 2354,
   "metadata": {},
   "outputs": [
    {
     "data": {
      "image/png": "[encoded data removed]",
      "text/plain": [
       "<Figure size 432x288 with 1 Axes>"
      ]
     },
     "metadata": {},
     "output_type": "display_data"
    }
   ],
   "source": [
    "#n_sessions x n_tasks x n_params\n",
    "all_beta = np.array(all_beta)\n",
    "\n",
    "t1_m_t2_inT1 = (all_beta[:,0,-2] - all_beta[:,0,-1])\n",
    "t1_m_t2_inT2 = (all_beta[:,1,-1] - all_beta[:,1,-2])\n",
    "\n",
    "seaborn.distplot(t1_m_t2_inT1 + t1_m_t2_inT2,kde=0,bins=20)\n",
    "plt.xlabel(r\"Task1($\\beta_{t1}$ -$\\beta_{t2}$) + Task2($\\beta_{t2}$ -$\\beta_{t1}$)\")\n",
    "plt.ylabel(\"# of Sessions\")\n",
    "seaborn.despine()"
   ]
  },
  {
   "cell_type": "code",
   "execution_count": 2355,
   "metadata": {},
   "outputs": [
    {
     "data": {
      "text/plain": [
       "<matplotlib.axes._subplots.AxesSubplot at 0x7faf0461e450>"
      ]
     },
     "execution_count": 2355,
     "metadata": {},
     "output_type": "execute_result"
    },
    {
     "data": {
      "image/png": "[encoded data removed]",
      "text/plain": [
       "<Figure size 432x288 with 1 Axes>"
      ]
     },
     "metadata": {},
     "output_type": "display_data"
    }
   ],
   "source": [
    "seaborn.distplot(t1_m_t2_inT1)\n",
    "seaborn.distplot(t1_m_t2_inT2)"
   ]
  },
  {
   "cell_type": "code",
   "execution_count": 2356,
   "metadata": {},
   "outputs": [
    {
     "data": {
      "image/png": "[encoded data removed]",
      "text/plain": [
       "<Figure size 432x288 with 1 Axes>"
      ]
     },
     "metadata": {},
     "output_type": "display_data"
    }
   ],
   "source": [
    "seaborn.distplot(t1_m_t2_inT1 + t1_m_t2_inT2,kde=0,bins=20)\n",
    "plt.xlabel(r\"Task1($\\beta_{t1}$ -$\\beta_{t2}$) + Task2($\\beta_{t2}$ -$\\beta_{t1}$)\")\n",
    "plt.ylabel(\"# of Sessions\")\n",
    "seaborn.despine()"
   ]
  },
  {
   "cell_type": "code",
   "execution_count": 2357,
   "metadata": {},
   "outputs": [
    {
     "data": {
      "text/plain": [
       "Ttest_1sampResult(statistic=0.7445967465797968, pvalue=0.4807604377694731)"
      ]
     },
     "execution_count": 2357,
     "metadata": {},
     "output_type": "execute_result"
    }
   ],
   "source": [
    "stt.ttest_1samp(t1_m_t2_inT1 + t1_m_t2_inT2,popmean=0)"
   ]
  },
  {
   "cell_type": "markdown",
   "metadata": {},
   "source": [
    "# RSA Task distance with direction"
   ]
  },
  {
   "cell_type": "code",
   "execution_count": null,
   "metadata": {},
   "outputs": [],
   "source": [
    "sp"
   ]
  },
  {
   "cell_type": "code",
   "execution_count": 1374,
   "metadata": {},
   "outputs": [],
   "source": [
    "\n",
    "#firing_rate_maps,task_event_df,seq0,seq1,graph_type0,graph_type1, = load_data(0,by_dir=True)\n",
    "spatial_map  = np.nanmean(firing_rate_maps,axis=(2,3))\n",
    "mds_frm = firing_rate_maps - spatial_map[:,:,None,None]\n",
    "#valid_ix = np.where(~np.isnan(np.sum(firing_rate_maps,axis=(0,2,3))))[0]\n",
    "#firing_rate_maps[:,int(port),int(task),dix]\n",
    "frm = np.hstack([mds_frm[:,seq0,0,0],mds_frm[:,seq0,0,1],mds_frm[:,seq1,1,0],mds_frm[:,seq1,1,1]])"
   ]
  },
  {
   "cell_type": "code",
   "execution_count": 1375,
   "metadata": {},
   "outputs": [],
   "source": [
    "frm = np.hstack([mds_frm[:,seq0,0,0],mds_frm[:,seq0,0,1],mds_frm[:,seq1,1,0],mds_frm[:,seq1,1,1]])\n",
    "frm_t1 = frm[:,:18]\n",
    "frm_t2 = frm[:,18:]"
   ]
  },
  {
   "cell_type": "code",
   "execution_count": 1376,
   "metadata": {},
   "outputs": [],
   "source": [
    "#this constructs the appropriate things if everything is ordered correctly according to states\n",
    "\n",
    "T = np.zeros([18,18])\n",
    "for i in range(9):\n",
    "    T[i,(i+1)%9] = .95\n",
    "    T[i,9+(i-1)%9] =0.05\n",
    "    \n",
    "for i in range(9,18):\n",
    "    T[i,(i+1)%9] = .05\n",
    "    T[i,9+(i-1)%9] =0.95"
   ]
  },
  {
   "cell_type": "code",
   "execution_count": null,
   "metadata": {},
   "outputs": [],
   "source": []
  },
  {
   "cell_type": "code",
   "execution_count": 1845,
   "metadata": {},
   "outputs": [],
   "source": [
    "# def get_C_line_task(seq0,p=0.95):\n",
    "#     \"\"\" Finish this requires updating the edges of the line\"\"\"\n",
    "#     T1 = np.zeros([18,18])\n",
    "#     for i in range(9):\n",
    "#         T1[seq0[i],seq0[(i+1)%9]] = p\n",
    "#         T1[seq0[i],9+seq0[(i-1)%9]] = 1-p\n",
    "\n",
    "#     for i in range(9,18):\n",
    "#         T1[seq0[i%9]+9,seq0[(i+1)%9]] = 1-p\n",
    "#         T1[seq0[i%9]+9,9+seq0[(i-1)%9]] = p\n",
    "\n",
    "        \n",
    "# # !!!!!!!!!!!!!!!!!!!!!!!!!!!!!!!!\n",
    "# # !!!!!!!!!!!!!!!!!!!!!!!!!!!!!!!!\n",
    "# # !!!!!!!!!!!!!!!!!!!!!!!!!!!!!!!!\n",
    "# # !!!!!!!!!!!!!!!!!!!!!!!!!!!!!!!!\n",
    "#     T1[0] = 0; T1[0,1] = 1  #going to the right in state 0 will go to 1\n",
    "#     T1[8] = 0; T1[8,-1] = 1   #going to the right in state 9 will go to state 8\n",
    "#     T1[9] = 0; T1[9,1] = 1    #going to the left in state 0 will go to state 1\n",
    "#     T1[-1] = 0; T1[-1,-1] = 1       #going to the left in state \n",
    "    \n",
    "#     task_1_distance = -np.log(expm(T1))\n",
    "#     return T1, task_1_distance"
   ]
  },
  {
   "cell_type": "code",
   "execution_count": 2279,
   "metadata": {},
   "outputs": [],
   "source": [
    "def get_C_loop_task(seq0,p=0.95):\n",
    "    \"\"\"p is the probability of continueing in the same direction\"\"\"\n",
    "    #this constructs the appropriate things if everything is ordered correctly according to states\n",
    "\n",
    "    T1 = np.zeros([18,18])\n",
    "    for i in range(9):\n",
    "        T1[seq0[i],seq0[(i+1)%9]] = p\n",
    "        T1[seq0[i],9+seq0[(i-1)%9]] = 1-p\n",
    "\n",
    "    for i in range(9,18):\n",
    "        T1[seq0[i%9]+9,seq0[(i+1)%9]] = 1-p\n",
    "        T1[seq0[i%9]+9,9+seq0[(i-1)%9]] = p\n",
    "\n",
    "    task_1_distance = -np.log(expm(T1))\n",
    "    #task_1_distance = np.linalg.pinv(np.eye(len(T1)) - 0.1  * T1)\n",
    "    return T1, task_1_distance"
   ]
  },
  {
   "cell_type": "code",
   "execution_count": 2280,
   "metadata": {},
   "outputs": [],
   "source": [
    "def get_C_line_task(seq0,p=0.95):\n",
    "    \"\"\" Finish this requires updating the edges of the line\"\"\"\n",
    "    T1 = np.zeros([18,18])\n",
    "    for i in range(9):\n",
    "        T1[seq0[i],seq0[(i+1)%9]] = p\n",
    "        T1[seq0[i],9+seq0[(i-1)%9]] = 1-p\n",
    "\n",
    "    for i in range(9,18):\n",
    "        T1[seq0[i%9]+9,seq0[(i+1)%9]] = 1-p\n",
    "        T1[seq0[i%9]+9,9+seq0[(i-1)%9]] = p\n",
    "\n",
    "        \n",
    "\n",
    "    T1[seq0[0]] = 0; T1[seq0[0],seq0[1]] = 1  #going to the right in state 0 will go to 1\n",
    "    T1[seq0[8]] = 0; T1[seq0[8],seq0[-1]+9] = 1   #going to the right in state 9 will go to state 8\n",
    "    T1[seq0[9%9]+9] = 0; T1[seq0[9%9]+9,seq0[0]] = 1    #going to the left in state 0 will go to state 1\n",
    "    T1[seq0[-1]+9] = 0; T1[seq0[-1]+9,seq0[-2]+9] = 1       #going to the left in state \n",
    "    \n",
    "    task_1_distance = -np.log(expm(T1))\n",
    "    #evals,evecs = np.linalg.eig(T1)\n",
    "    #mx = np.max(np.abs(evals))\n",
    "    #task_1_distance = (evecs@(evals_mtx**50)@np.linalg.inv(evecs)).real\n",
    "    #task_1_distance = np.linalg.pinv(np.eye(len(T1)) - 0.1  * T1)\n",
    "    return T1, task_1_distance"
   ]
  },
  {
   "cell_type": "code",
   "execution_count": 2281,
   "metadata": {},
   "outputs": [
    {
     "data": {
      "text/plain": [
       "array([0, 2, 4, 3, 6, 8, 7, 1, 5])"
      ]
     },
     "execution_count": 2281,
     "metadata": {},
     "output_type": "execute_result"
    }
   ],
   "source": [
    "seq0"
   ]
  },
  {
   "cell_type": "code",
   "execution_count": 2282,
   "metadata": {},
   "outputs": [
    {
     "data": {
      "text/plain": [
       "array([0.  , 0.  , 0.95, 0.  , 0.  , 0.  , 0.  , 0.  , 0.  , 0.  , 0.  ,\n",
       "       0.  , 0.  , 0.  , 0.05, 0.  , 0.  , 0.  ])"
      ]
     },
     "execution_count": 2282,
     "metadata": {},
     "output_type": "execute_result"
    }
   ],
   "source": [
    "T1[0]"
   ]
  },
  {
   "cell_type": "code",
   "execution_count": 2314,
   "metadata": {},
   "outputs": [
    {
     "data": {
      "text/plain": [
       "<matplotlib.colorbar.Colorbar at 0x7faf21816d50>"
      ]
     },
     "execution_count": 2314,
     "metadata": {},
     "output_type": "execute_result"
    },
    {
     "data": {
      "image/png": "[encoded data removed]",
      "text/plain": [
       "<Figure size 432x288 with 2 Axes>"
      ]
     },
     "metadata": {},
     "output_type": "display_data"
    }
   ],
   "source": [
    "T1,C1 = get_C_line_task(np.arange(9))\n",
    "plt.imshow(np.linalg.inv(np.eye(len(T1))- .4*T1))\n",
    "plt.grid()\n",
    "plt.colorbar()"
   ]
  },
  {
   "cell_type": "code",
   "execution_count": 2316,
   "metadata": {},
   "outputs": [
    {
     "data": {
      "text/plain": [
       "<matplotlib.image.AxesImage at 0x7faf6204ac90>"
      ]
     },
     "execution_count": 2316,
     "metadata": {},
     "output_type": "execute_result"
    },
    {
     "data": {
      "image/png": "[encoded data removed]",
      "text/plain": [
       "<Figure size 432x288 with 1 Axes>"
      ]
     },
     "metadata": {},
     "output_type": "display_data"
    }
   ],
   "source": [
    "plt.imshow(-C1)"
   ]
  },
  {
   "cell_type": "code",
   "execution_count": 2285,
   "metadata": {},
   "outputs": [
    {
     "data": {
      "text/plain": [
       "array([0., 0., 1., 0., 0., 0., 0., 0., 0., 0., 0., 0., 0., 0., 0., 0., 0.,\n",
       "       0.])"
      ]
     },
     "execution_count": 2285,
     "metadata": {},
     "output_type": "execute_result"
    }
   ],
   "source": [
    "T1[0]"
   ]
  },
  {
   "cell_type": "code",
   "execution_count": 2286,
   "metadata": {},
   "outputs": [],
   "source": [
    "T1,C1 = get_C_line_task(seq0)"
   ]
  },
  {
   "cell_type": "code",
   "execution_count": 2287,
   "metadata": {},
   "outputs": [],
   "source": [
    "evals,evecs = np.linalg.eig(T1)\n",
    "oo = (evecs@(evals_mtx**50)@np.linalg.inv(evecs)).real"
   ]
  },
  {
   "cell_type": "code",
   "execution_count": 2288,
   "metadata": {},
   "outputs": [
    {
     "data": {
      "text/plain": [
       "<matplotlib.image.AxesImage at 0x7faf052ab050>"
      ]
     },
     "execution_count": 2288,
     "metadata": {},
     "output_type": "execute_result"
    },
    {
     "data": {
      "image/png": "[encoded data removed]",
      "text/plain": [
       "<Figure size 432x288 with 1 Axes>"
      ]
     },
     "metadata": {},
     "output_type": "display_data"
    }
   ],
   "source": [
    "plt.imshow(T1)"
   ]
  },
  {
   "cell_type": "code",
   "execution_count": 2289,
   "metadata": {},
   "outputs": [
    {
     "data": {
      "text/plain": [
       "<matplotlib.image.AxesImage at 0x7faf356d6d50>"
      ]
     },
     "execution_count": 2289,
     "metadata": {},
     "output_type": "execute_result"
    },
    {
     "data": {
      "image/png": "[encoded data removed]",
      "text/plain": [
       "<Figure size 432x288 with 1 Axes>"
      ]
     },
     "metadata": {},
     "output_type": "display_data"
    }
   ],
   "source": [
    "plt.imshow(np.linalg.pinv(np.eye(len(T1)) - -.7  * T1))"
   ]
  },
  {
   "cell_type": "code",
   "execution_count": 2290,
   "metadata": {},
   "outputs": [
    {
     "data": {
      "text/plain": [
       "[<matplotlib.lines.Line2D at 0x7faf455e47d0>]"
      ]
     },
     "execution_count": 2290,
     "metadata": {},
     "output_type": "execute_result"
    },
    {
     "data": {
      "image/png": "[encoded data removed]",
      "text/plain": [
       "<Figure size 432x288 with 1 Axes>"
      ]
     },
     "metadata": {},
     "output_type": "display_data"
    }
   ],
   "source": [
    "plt.plot(C1[0])"
   ]
  },
  {
   "cell_type": "code",
   "execution_count": null,
   "metadata": {},
   "outputs": [],
   "source": []
  },
  {
   "cell_type": "code",
   "execution_count": 2291,
   "metadata": {},
   "outputs": [
    {
     "name": "stdout",
     "output_type": "stream",
     "text": [
      "[1. 0. 0. 0. 0. 0. 0. 0. 0.]\n",
      "[0. 0. 0. 0. 0. 0. 0. 0. 0.]\n"
     ]
    }
   ],
   "source": [
    "ix = 9\n",
    "print(T1[ix][:9])\n",
    "print(T1[ix][9:])"
   ]
  },
  {
   "cell_type": "code",
   "execution_count": 2292,
   "metadata": {},
   "outputs": [],
   "source": [
    "#this constructs the appropriate things if everything is ordered correctly according to states\n",
    "\n",
    "T1 = np.zeros([18,18])\n",
    "for i in range(9):\n",
    "    T1[seq0[i],seq0[(i+1)%9]] = .95\n",
    "    T1[seq0[i],9+seq0[(i-1)%9]] =0.05\n",
    "    \n",
    "for i in range(9,18):\n",
    "    T1[seq0[i%9]+9,seq0[(i+1)%9]] = .05\n",
    "    T1[seq0[i%9]+9,9+seq0[(i-1)%9]] =0.95"
   ]
  },
  {
   "cell_type": "code",
   "execution_count": 2293,
   "metadata": {},
   "outputs": [],
   "source": [
    "#this constructs the appropriate things if everything is ordered correctly according to states\n",
    "\n",
    "T2 = np.zeros([18,18])\n",
    "for i in range(9):\n",
    "    T2[seq1[i],seq1[(i+1)%9]] = .95\n",
    "    T2[seq1[i],9+seq1[(i-1)%9]] =0.05\n",
    "    \n",
    "for i in range(9,18):\n",
    "    T2[seq1[i%9]+9,seq1[(i+1)%9]] = .05\n",
    "    T2[seq1[i%9]+9,9+seq1[(i-1)%9]] =0.95"
   ]
  },
  {
   "cell_type": "code",
   "execution_count": null,
   "metadata": {},
   "outputs": [],
   "source": []
  },
  {
   "cell_type": "code",
   "execution_count": 2294,
   "metadata": {},
   "outputs": [],
   "source": [
    "task_1_distance = -np.log(expm(T1))\n",
    "task_2_distance = -np.log(expm(T2))"
   ]
  },
  {
   "cell_type": "code",
   "execution_count": 2295,
   "metadata": {},
   "outputs": [
    {
     "ename": "AttributeError",
     "evalue": "'tuple' object has no attribute 'T'",
     "output_type": "error",
     "traceback": [
      "\u001b[0;31m---------------------------------------------------------------------------\u001b[0m",
      "\u001b[0;31mAttributeError\u001b[0m                            Traceback (most recent call last)",
      "\u001b[0;32m<ipython-input-2295-3c8858b0d1ec>\u001b[0m in \u001b[0;36m<module>\u001b[0;34m\u001b[0m\n\u001b[0;32m----> 1\u001b[0;31m \u001b[0mevals\u001b[0m\u001b[0;34m,\u001b[0m \u001b[0mevecs\u001b[0m \u001b[0;34m=\u001b[0m \u001b[0mnp\u001b[0m\u001b[0;34m.\u001b[0m\u001b[0mlinalg\u001b[0m\u001b[0;34m.\u001b[0m\u001b[0meig\u001b[0m\u001b[0;34m(\u001b[0m\u001b[0mT\u001b[0m\u001b[0;34m.\u001b[0m\u001b[0mT\u001b[0m\u001b[0;34m)\u001b[0m\u001b[0;34m\u001b[0m\u001b[0;34m\u001b[0m\u001b[0m\n\u001b[0m\u001b[1;32m      2\u001b[0m \u001b[0mevals_mtx\u001b[0m \u001b[0;34m=\u001b[0m \u001b[0mnp\u001b[0m\u001b[0;34m.\u001b[0m\u001b[0meye\u001b[0m\u001b[0;34m(\u001b[0m\u001b[0mlen\u001b[0m\u001b[0;34m(\u001b[0m\u001b[0mevals\u001b[0m\u001b[0;34m)\u001b[0m\u001b[0;34m)\u001b[0m\u001b[0;34m*\u001b[0m\u001b[0mevals\u001b[0m\u001b[0;34m\u001b[0m\u001b[0;34m\u001b[0m\u001b[0m\n\u001b[1;32m      3\u001b[0m \u001b[0mevec1\u001b[0m \u001b[0;34m=\u001b[0m \u001b[0mevecs\u001b[0m\u001b[0;34m[\u001b[0m\u001b[0;34m:\u001b[0m\u001b[0;34m,\u001b[0m\u001b[0mnp\u001b[0m\u001b[0;34m.\u001b[0m\u001b[0misclose\u001b[0m\u001b[0;34m(\u001b[0m\u001b[0mevals\u001b[0m\u001b[0;34m,\u001b[0m \u001b[0;36m1\u001b[0m\u001b[0;34m)\u001b[0m\u001b[0;34m]\u001b[0m\u001b[0;34m\u001b[0m\u001b[0;34m\u001b[0m\u001b[0m\n\u001b[1;32m      4\u001b[0m \u001b[0;34m\u001b[0m\u001b[0m\n\u001b[1;32m      5\u001b[0m \u001b[0;31m#Since np.isclose will return an array, we've indexed with an array\u001b[0m\u001b[0;34m\u001b[0m\u001b[0;34m\u001b[0m\u001b[0;34m\u001b[0m\u001b[0m\n",
      "\u001b[0;31mAttributeError\u001b[0m: 'tuple' object has no attribute 'T'"
     ]
    }
   ],
   "source": [
    "evals, evecs = np.linalg.eig(T.T)\n",
    "evals_mtx = np.eye(len(evals))*evals\n",
    "evec1 = evecs[:,np.isclose(evals, 1)]\n",
    "\n",
    "#Since np.isclose will return an array, we've indexed with an array\n",
    "#so we still have our 2nd axis.  Get rid of it, since it's only size 1.\n",
    "evec1 = evec1[:,0]\n",
    "\n",
    "stationary = evec1 / evec1.sum()\n",
    "\n",
    "#eigs finds complex eigenvalues and eigenvectors, so you'll want the real part.\n",
    "stationary = stationary.real\n"
   ]
  },
  {
   "cell_type": "code",
   "execution_count": 2296,
   "metadata": {},
   "outputs": [],
   "source": [
    "from scipy.linalg import expm"
   ]
  },
  {
   "cell_type": "code",
   "execution_count": 2297,
   "metadata": {},
   "outputs": [],
   "source": [
    "C2 = -np.log(evecs@expm(evals_mtx)@np.linalg.inv(evecs))"
   ]
  },
  {
   "cell_type": "code",
   "execution_count": 2298,
   "metadata": {},
   "outputs": [],
   "source": [
    "spatial_distance =  spatial_distance = -distance_matrix(np.vstack([poke_pos,poke_pos]),\n",
    "                                                        np.vstack([poke_pos,poke_pos]),p=1)"
   ]
  },
  {
   "cell_type": "code",
   "execution_count": 2299,
   "metadata": {},
   "outputs": [],
   "source": [
    "task1_corrs = np.corrcoef(frm_t1.T)\n",
    "task2_corrs = np.corrcoef(frm_t2.T) \n",
    "\n",
    "select_indices = (np.eye(len(task1_corrs)) + np.isnan(task1_corrs) + np.isnan(task2_corrs))==0"
   ]
  },
  {
   "cell_type": "code",
   "execution_count": 2300,
   "metadata": {},
   "outputs": [
    {
     "data": {
      "text/plain": [
       "<matplotlib.image.AxesImage at 0x7faf04338190>"
      ]
     },
     "execution_count": 2300,
     "metadata": {},
     "output_type": "execute_result"
    },
    {
     "data": {
      "image/png": "[encoded data removed]",
      "text/plain": [
       "<Figure size 432x288 with 1 Axes>"
      ]
     },
     "metadata": {},
     "output_type": "display_data"
    }
   ],
   "source": [
    "plt.imshow(spatial_distance)"
   ]
  },
  {
   "cell_type": "code",
   "execution_count": null,
   "metadata": {},
   "outputs": [],
   "source": []
  },
  {
   "cell_type": "code",
   "execution_count": 2301,
   "metadata": {},
   "outputs": [
    {
     "name": "stderr",
     "output_type": "stream",
     "text": [
      "/Users/yves/opt/anaconda3/lib/python3.7/site-packages/numpy/core/fromnumeric.py:3373: RuntimeWarning: Mean of empty slice.\n",
      "  out=out, **kwargs)\n",
      "/Users/yves/opt/anaconda3/lib/python3.7/site-packages/numpy/core/_methods.py:170: RuntimeWarning: invalid value encountered in double_scalars\n",
      "  ret = ret.dtype.type(ret / rcount)\n",
      "/Users/yves/opt/anaconda3/lib/python3.7/site-packages/numpy/core/_methods.py:234: RuntimeWarning: Degrees of freedom <= 0 for slice\n",
      "  keepdims=keepdims)\n",
      "/Users/yves/opt/anaconda3/lib/python3.7/site-packages/numpy/core/_methods.py:195: RuntimeWarning: invalid value encountered in true_divide\n",
      "  arrmean, rcount, out=arrmean, casting='unsafe', subok=False)\n",
      "/Users/yves/opt/anaconda3/lib/python3.7/site-packages/numpy/core/_methods.py:226: RuntimeWarning: invalid value encountered in double_scalars\n",
      "  ret = ret.dtype.type(ret / rcount)\n"
     ]
    },
    {
     "ename": "IndexError",
     "evalue": "boolean index did not match indexed array along dimension 0; dimension is 18 but corresponding boolean dimension is 5",
     "output_type": "error",
     "traceback": [
      "\u001b[0;31m---------------------------------------------------------------------------\u001b[0m",
      "\u001b[0;31mIndexError\u001b[0m                                Traceback (most recent call last)",
      "\u001b[0;32m<ipython-input-2301-20f70644d192>\u001b[0m in \u001b[0;36m<module>\u001b[0;34m\u001b[0m\n\u001b[1;32m      1\u001b[0m \u001b[0my\u001b[0m \u001b[0;34m=\u001b[0m \u001b[0mzscore\u001b[0m\u001b[0;34m(\u001b[0m\u001b[0mtask2_corrs\u001b[0m\u001b[0;34m[\u001b[0m\u001b[0mselect_indices\u001b[0m\u001b[0;34m]\u001b[0m\u001b[0;34m.\u001b[0m\u001b[0mflatten\u001b[0m\u001b[0;34m(\u001b[0m\u001b[0;34m)\u001b[0m\u001b[0;34m)\u001b[0m\u001b[0;34m\u001b[0m\u001b[0;34m\u001b[0m\u001b[0m\n\u001b[1;32m      2\u001b[0m X = np.vstack([np.ones_like(y),\n\u001b[0;32m----> 3\u001b[0;31m            \u001b[0mzscore\u001b[0m\u001b[0;34m(\u001b[0m\u001b[0mspatial_distance\u001b[0m\u001b[0;34m[\u001b[0m\u001b[0mselect_indices\u001b[0m\u001b[0;34m]\u001b[0m\u001b[0;34m.\u001b[0m\u001b[0mflatten\u001b[0m\u001b[0;34m(\u001b[0m\u001b[0;34m)\u001b[0m\u001b[0;34m)\u001b[0m\u001b[0;34m,\u001b[0m\u001b[0;34m\u001b[0m\u001b[0;34m\u001b[0m\u001b[0m\n\u001b[0m\u001b[1;32m      4\u001b[0m            \u001b[0mzscore\u001b[0m\u001b[0;34m(\u001b[0m\u001b[0mtask_1_distance\u001b[0m\u001b[0;34m[\u001b[0m\u001b[0mselect_indices\u001b[0m\u001b[0;34m]\u001b[0m\u001b[0;34m.\u001b[0m\u001b[0mflatten\u001b[0m\u001b[0;34m(\u001b[0m\u001b[0;34m)\u001b[0m\u001b[0;34m)\u001b[0m\u001b[0;34m,\u001b[0m\u001b[0;34m\u001b[0m\u001b[0;34m\u001b[0m\u001b[0m\n\u001b[1;32m      5\u001b[0m            \u001b[0mzscore\u001b[0m\u001b[0;34m(\u001b[0m\u001b[0mtask_2_distance\u001b[0m\u001b[0;34m[\u001b[0m\u001b[0mselect_indices\u001b[0m\u001b[0;34m]\u001b[0m\u001b[0;34m.\u001b[0m\u001b[0mflatten\u001b[0m\u001b[0;34m(\u001b[0m\u001b[0;34m)\u001b[0m\u001b[0;34m)\u001b[0m\u001b[0;34m\u001b[0m\u001b[0;34m\u001b[0m\u001b[0m\n",
      "\u001b[0;31mIndexError\u001b[0m: boolean index did not match indexed array along dimension 0; dimension is 18 but corresponding boolean dimension is 5"
     ]
    }
   ],
   "source": [
    "y = zscore(task2_corrs[select_indices].flatten())\n",
    "X = np.vstack([np.ones_like(y),\n",
    "           zscore(spatial_distance[select_indices].flatten()),\n",
    "           zscore(task_1_distance[select_indices].flatten()),\n",
    "           zscore(task_2_distance[select_indices].flatten())\n",
    "          ]).T\n",
    "beta = np.linalg.inv(X.T@X)@X.T@y\n",
    "res = sm.OLS(y,X,hasconst=True).fit()\n"
   ]
  },
  {
   "cell_type": "code",
   "execution_count": 2302,
   "metadata": {},
   "outputs": [
    {
     "data": {
      "text/html": [
       "<table class=\"simpletable\">\n",
       "<caption>OLS Regression Results</caption>\n",
       "<tr>\n",
       "  <th>Dep. Variable:</th>            <td>y</td>        <th>  R-squared:         </th> <td>   0.102</td>\n",
       "</tr>\n",
       "<tr>\n",
       "  <th>Model:</th>                   <td>OLS</td>       <th>  Adj. R-squared:    </th> <td>   0.090</td>\n",
       "</tr>\n",
       "<tr>\n",
       "  <th>Method:</th>             <td>Least Squares</td>  <th>  F-statistic:       </th> <td>   8.913</td>\n",
       "</tr>\n",
       "<tr>\n",
       "  <th>Date:</th>             <td>Sun, 14 Nov 2021</td> <th>  Prob (F-statistic):</th> <td>1.28e-05</td>\n",
       "</tr>\n",
       "<tr>\n",
       "  <th>Time:</th>                 <td>21:18:09</td>     <th>  Log-Likelihood:    </th> <td>  125.75</td>\n",
       "</tr>\n",
       "<tr>\n",
       "  <th>No. Observations:</th>      <td>   240</td>      <th>  AIC:               </th> <td>  -243.5</td>\n",
       "</tr>\n",
       "<tr>\n",
       "  <th>Df Residuals:</th>          <td>   236</td>      <th>  BIC:               </th> <td>  -229.6</td>\n",
       "</tr>\n",
       "<tr>\n",
       "  <th>Df Model:</th>              <td>     3</td>      <th>                     </th>     <td> </td>   \n",
       "</tr>\n",
       "<tr>\n",
       "  <th>Covariance Type:</th>      <td>nonrobust</td>    <th>                     </th>     <td> </td>   \n",
       "</tr>\n",
       "</table>\n",
       "<table class=\"simpletable\">\n",
       "<tr>\n",
       "    <td></td>       <th>coef</th>     <th>std err</th>      <th>t</th>      <th>P>|t|</th>  <th>[0.025</th>    <th>0.975]</th>  \n",
       "</tr>\n",
       "<tr>\n",
       "  <th>const</th> <td>    0.8358</td> <td>    0.009</td> <td>   89.614</td> <td> 0.000</td> <td>    0.817</td> <td>    0.854</td>\n",
       "</tr>\n",
       "<tr>\n",
       "  <th>x1</th>    <td>    0.0483</td> <td>    0.009</td> <td>    5.155</td> <td> 0.000</td> <td>    0.030</td> <td>    0.067</td>\n",
       "</tr>\n",
       "<tr>\n",
       "  <th>x2</th>    <td>   -0.0029</td> <td>    0.009</td> <td>   -0.314</td> <td> 0.754</td> <td>   -0.021</td> <td>    0.016</td>\n",
       "</tr>\n",
       "<tr>\n",
       "  <th>x3</th>    <td>   -0.0017</td> <td>    0.009</td> <td>   -0.185</td> <td> 0.854</td> <td>   -0.020</td> <td>    0.017</td>\n",
       "</tr>\n",
       "</table>\n",
       "<table class=\"simpletable\">\n",
       "<tr>\n",
       "  <th>Omnibus:</th>       <td>45.768</td> <th>  Durbin-Watson:     </th> <td>   1.670</td>\n",
       "</tr>\n",
       "<tr>\n",
       "  <th>Prob(Omnibus):</th> <td> 0.000</td> <th>  Jarque-Bera (JB):  </th> <td>  65.695</td>\n",
       "</tr>\n",
       "<tr>\n",
       "  <th>Skew:</th>          <td>-1.203</td> <th>  Prob(JB):          </th> <td>5.43e-15</td>\n",
       "</tr>\n",
       "<tr>\n",
       "  <th>Kurtosis:</th>      <td> 3.882</td> <th>  Cond. No.          </th> <td>    1.16</td>\n",
       "</tr>\n",
       "</table><br/><br/>Warnings:<br/>[1] Standard Errors assume that the covariance matrix of the errors is correctly specified."
      ],
      "text/plain": [
       "<class 'statsmodels.iolib.summary.Summary'>\n",
       "\"\"\"\n",
       "                            OLS Regression Results                            \n",
       "==============================================================================\n",
       "Dep. Variable:                      y   R-squared:                       0.102\n",
       "Model:                            OLS   Adj. R-squared:                  0.090\n",
       "Method:                 Least Squares   F-statistic:                     8.913\n",
       "Date:                Sun, 14 Nov 2021   Prob (F-statistic):           1.28e-05\n",
       "Time:                        21:18:09   Log-Likelihood:                 125.75\n",
       "No. Observations:                 240   AIC:                            -243.5\n",
       "Df Residuals:                     236   BIC:                            -229.6\n",
       "Df Model:                           3                                         \n",
       "Covariance Type:            nonrobust                                         \n",
       "==============================================================================\n",
       "                 coef    std err          t      P>|t|      [0.025      0.975]\n",
       "------------------------------------------------------------------------------\n",
       "const          0.8358      0.009     89.614      0.000       0.817       0.854\n",
       "x1             0.0483      0.009      5.155      0.000       0.030       0.067\n",
       "x2            -0.0029      0.009     -0.314      0.754      -0.021       0.016\n",
       "x3            -0.0017      0.009     -0.185      0.854      -0.020       0.017\n",
       "==============================================================================\n",
       "Omnibus:                       45.768   Durbin-Watson:                   1.670\n",
       "Prob(Omnibus):                  0.000   Jarque-Bera (JB):               65.695\n",
       "Skew:                          -1.203   Prob(JB):                     5.43e-15\n",
       "Kurtosis:                       3.882   Cond. No.                         1.16\n",
       "==============================================================================\n",
       "\n",
       "Warnings:\n",
       "[1] Standard Errors assume that the covariance matrix of the errors is correctly specified.\n",
       "\"\"\""
      ]
     },
     "execution_count": 2302,
     "metadata": {},
     "output_type": "execute_result"
    }
   ],
   "source": [
    "res.summary()"
   ]
  },
  {
   "cell_type": "markdown",
   "metadata": {},
   "source": [
    "# batch over all tasks"
   ]
  },
  {
   "cell_type": "code",
   "execution_count": 2376,
   "metadata": {},
   "outputs": [
    {
     "name": "stderr",
     "output_type": "stream",
     "text": [
      "/Users/yves/opt/anaconda3/lib/python3.7/site-packages/ipykernel_launcher.py:34: RuntimeWarning: Mean of empty slice\n",
      "/Users/yves/opt/anaconda3/lib/python3.7/site-packages/ipykernel_launcher.py:34: RuntimeWarning: Mean of empty slice\n",
      "/Users/yves/opt/anaconda3/lib/python3.7/site-packages/ipykernel_launcher.py:34: RuntimeWarning: Mean of empty slice\n",
      "/Users/yves/opt/anaconda3/lib/python3.7/site-packages/ipykernel_launcher.py:34: RuntimeWarning: Mean of empty slice\n",
      "/Users/yves/opt/anaconda3/lib/python3.7/site-packages/ipykernel_launcher.py:34: RuntimeWarning: Mean of empty slice\n",
      "/Users/yves/opt/anaconda3/lib/python3.7/site-packages/ipykernel_launcher.py:34: RuntimeWarning: Mean of empty slice\n",
      "/Users/yves/opt/anaconda3/lib/python3.7/site-packages/ipykernel_launcher.py:34: RuntimeWarning: Mean of empty slice\n",
      "/Users/yves/opt/anaconda3/lib/python3.7/site-packages/ipykernel_launcher.py:34: RuntimeWarning: Mean of empty slice\n",
      "/Users/yves/opt/anaconda3/lib/python3.7/site-packages/ipykernel_launcher.py:34: RuntimeWarning: Mean of empty slice\n",
      "/Users/yves/opt/anaconda3/lib/python3.7/site-packages/ipykernel_launcher.py:34: RuntimeWarning: Mean of empty slice\n",
      "/Users/yves/opt/anaconda3/lib/python3.7/site-packages/ipykernel_launcher.py:34: RuntimeWarning: Mean of empty slice\n",
      "/Users/yves/opt/anaconda3/lib/python3.7/site-packages/ipykernel_launcher.py:34: RuntimeWarning: Mean of empty slice\n",
      "/Users/yves/opt/anaconda3/lib/python3.7/site-packages/ipykernel_launcher.py:34: RuntimeWarning: Mean of empty slice\n",
      "/Users/yves/opt/anaconda3/lib/python3.7/site-packages/ipykernel_launcher.py:34: RuntimeWarning: Mean of empty slice\n",
      "/Users/yves/opt/anaconda3/lib/python3.7/site-packages/ipykernel_launcher.py:34: RuntimeWarning: Mean of empty slice\n",
      "/Users/yves/opt/anaconda3/lib/python3.7/site-packages/ipykernel_launcher.py:34: RuntimeWarning: Mean of empty slice\n"
     ]
    }
   ],
   "source": [
    "all_beta = []\n",
    "all_pvals = []\n",
    "for sess_ix in range(8):\n",
    "    tmp  = []\n",
    "    tmp_pvals = []\n",
    "    firing_rate_maps,task_event_df,seq0,seq1,graph_type0,graph_type1, = load_data(sess_ix,by_dir=True)\n",
    "    mxs = np.nanmax(firing_rate_maps,axis=(1,2,3))\n",
    "    firing_rate_maps = firing_rate_maps[mxs>5]\n",
    "    #spatial_map  = np.nanmean(firing_rate_maps,axis=(2,3))\n",
    "    mds_frm = firing_rate_maps #- spatial_map[:,:,None,None]\n",
    "\n",
    "   \n",
    "    \n",
    "    frm = np.hstack([mds_frm[:,:,0,0],mds_frm[:,:,0,1],mds_frm[:,:,1,0],mds_frm[:,:,1,1]])\n",
    "    frm_t1 = frm[:,:18].T\n",
    "    frm_t2 = frm[:,18:].T\n",
    "\n",
    "    if graph_type0=='loop': \n",
    "        task_1_distance = get_C_loop_task(seq0)[1]\n",
    "    else: \n",
    "        task_1_distance =  get_C_line_task(seq0)[1]\n",
    "    if graph_type1=='loop':\n",
    "        task_2_distance = get_C_loop_task(seq1)[1]\n",
    "    else:\n",
    "        task_2_distance = get_C_line_task(seq1)[1]\n",
    "\n",
    "    task_1_distance = np.nan_to_num(task_1_distance,np.nanmean(task_1_distance))\n",
    "    task_2_distance = np.nan_to_num(task_2_distance,np.nanmean(task_2_distance))\n",
    "    #spatial_distance = -distance_matrix(poke_pos,poke_pos,p=1)\n",
    "    spatial_distance =   -distance_matrix(np.vstack([poke_pos,poke_pos]),\n",
    "                                          np.vstack([poke_pos,poke_pos]),p=1)\n",
    "    \n",
    "    task1_corrs = np.corrcoef(frm_t1)\n",
    "    task2_corrs = np.corrcoef(frm_t2)\n",
    "    select_indices = (np.eye(len(task1_corrs)) + \n",
    "                      np.isnan(task1_corrs) + \n",
    "                      np.isnan(task2_corrs) + \n",
    "                      np.isnan(task_1_distance) + \n",
    "                      np.isnan(task_2_distance) + \n",
    "                      np.isnan(spatial_distance)\n",
    "                     )==0\n",
    "    \n",
    "    #\n",
    "    y = task1_corrs[select_indices].flatten()\n",
    "    X = np.vstack([np.ones_like(y),\n",
    "               zscore(spatial_distance[select_indices].flatten()),\n",
    "               zscore(task_1_distance[select_indices].flatten()),\n",
    "               zscore(task_2_distance[select_indices].flatten())\n",
    "              ]).T\n",
    "    \n",
    "    #y = remove_diagonal(task1_corrs).flatten()\n",
    "    #beta = np.linalg.pinv(X.T@X)@X.T@y\n",
    "    res = sm.OLS(y,X,hasconst=True).fit()\n",
    "    \n",
    "    \n",
    "    tmp.append(res.params)\n",
    "    tmp_pvals.append(res.pvalues)\n",
    "    \n",
    "    y = task2_corrs[select_indices].flatten()\n",
    "    #beta = np.linalg.pinv(X.T@X)@X.T@y\n",
    "    res = sm.OLS(y,X,hasconst=True).fit()\n",
    "    \n",
    "    tmp_pvals.append(res.pvalues)\n",
    "    tmp.append(res.params)\n",
    "    \n",
    "    all_beta.append(tmp)\n",
    "    all_pvals.append(tmp_pvals)\n",
    "    #assert np.allclose(beta,res.params)"
   ]
  },
  {
   "cell_type": "code",
   "execution_count": 2377,
   "metadata": {},
   "outputs": [
    {
     "name": "stderr",
     "output_type": "stream",
     "text": [
      "No handles with labels found to put in legend.\n"
     ]
    },
    {
     "data": {
      "image/png": "[encoded data removed]",
      "text/plain": [
       "<Figure size 432x288 with 1 Axes>"
      ]
     },
     "metadata": {},
     "output_type": "display_data"
    }
   ],
   "source": [
    "seaborn.distplot(np.array(all_pvals)[:,:,1].flatten(),kde=0,bins=np.logspace(-70,1,num=50),)\n",
    "plt.axvline(x=0.05,dashes=(7,7),color='.3')\n",
    "#plt.xticks([1])\n",
    "#plt.xlim(0,1)\n",
    "plt.xscale('log')\n",
    "plt.xlabel(\"p-value\")\n",
    "plt.ylabel(\"number of sessions\")\n",
    "plt.legend(loc=1)\n",
    "seaborn.despine()\n",
    "plt.tight_layout()"
   ]
  },
  {
   "cell_type": "code",
   "execution_count": null,
   "metadata": {},
   "outputs": [],
   "source": []
  },
  {
   "cell_type": "code",
   "execution_count": 2378,
   "metadata": {},
   "outputs": [
    {
     "data": {
      "text/plain": [
       "array([[0.59940686, 0.80197233],\n",
       "       [0.06274084, 0.73383098],\n",
       "       [0.01556136, 0.97484913],\n",
       "       [0.00439714, 0.00595021],\n",
       "       [0.6112544 , 0.77027963],\n",
       "       [0.66940644, 0.48330991],\n",
       "       [0.38250453, 0.38908654],\n",
       "       [0.64233191, 0.60688962]])"
      ]
     },
     "execution_count": 2378,
     "metadata": {},
     "output_type": "execute_result"
    }
   ],
   "source": [
    "np.array(all_pvals)[:,:,2]"
   ]
  },
  {
   "cell_type": "code",
   "execution_count": 2379,
   "metadata": {},
   "outputs": [
    {
     "data": {
      "text/plain": [
       "array([0.01      , 0.01098541, 0.01206793, 0.01325711, 0.01456348,\n",
       "       0.01599859, 0.01757511, 0.01930698, 0.02120951, 0.02329952,\n",
       "       0.02559548, 0.02811769, 0.03088844, 0.03393222, 0.03727594,\n",
       "       0.04094915, 0.04498433, 0.04941713, 0.05428675, 0.05963623,\n",
       "       0.06551286, 0.07196857, 0.07906043, 0.08685114, 0.09540955,\n",
       "       0.10481131, 0.11513954, 0.12648552, 0.13894955, 0.1526418 ,\n",
       "       0.16768329, 0.184207  , 0.20235896, 0.22229965, 0.24420531,\n",
       "       0.26826958, 0.29470517, 0.32374575, 0.35564803, 0.39069399,\n",
       "       0.42919343, 0.47148664, 0.51794747, 0.5689866 , 0.62505519,\n",
       "       0.68664885, 0.75431201, 0.82864277, 0.91029818, 1.        ])"
      ]
     },
     "execution_count": 2379,
     "metadata": {},
     "output_type": "execute_result"
    }
   ],
   "source": [
    "np.logspace(-2,0,num=50)"
   ]
  },
  {
   "cell_type": "code",
   "execution_count": 2380,
   "metadata": {},
   "outputs": [],
   "source": [
    "#plt.imshow(select_indices)"
   ]
  },
  {
   "cell_type": "code",
   "execution_count": 2381,
   "metadata": {},
   "outputs": [
    {
     "data": {
      "image/png": "[encoded data removed]",
      "text/plain": [
       "<Figure size 864x288 with 2 Axes>"
      ]
     },
     "metadata": {},
     "output_type": "display_data"
    }
   ],
   "source": [
    "plt.figure(figsize=(12,4))\n",
    "plt.subplot(1,2,1)\n",
    "plt.title(\"Correct way around\")\n",
    "seaborn.distplot(np.array(all_pvals)[:,0,-2],kde=0,bins=np.linspace(0,1,num=50),label=r'$\\beta_{t1}$ in task1')\n",
    "seaborn.distplot(np.array(all_pvals)[:,1,-1],kde=0,bins=np.linspace(0,1,num=50),label=r'$\\beta_{t2}$ in task2')\n",
    "plt.axvline(x=0.05,dashes=(7,7),color='.3')\n",
    "plt.xlabel(\"p-value\")\n",
    "plt.ylabel(\"number of sessions\")\n",
    "plt.legend(loc=1)\n",
    "seaborn.despine()\n",
    "\n",
    "plt.subplot(1,2,2)\n",
    "plt.title(\"Wrong way around\")\n",
    "seaborn.distplot(np.array(all_pvals)[:,0,-1],kde=0,bins=np.linspace(0,1,num=50),label=r'$\\beta_{t2}$ in task1')\n",
    "seaborn.distplot(np.array(all_pvals)[:,1,-2],kde=0,bins=np.linspace(0,1,num=50),label=r'$\\beta_{t1}$ in task2')\n",
    "plt.axvline(x=0.05,dashes=(7,7),color='.3')\n",
    "plt.xlabel(\"p-value\")\n",
    "plt.ylabel(\"number of sessions\")\n",
    "plt.legend(loc=1)\n",
    "seaborn.despine()\n",
    "plt.tight_layout()"
   ]
  },
  {
   "cell_type": "code",
   "execution_count": 2382,
   "metadata": {},
   "outputs": [
    {
     "data": {
      "text/plain": [
       "(8, 2, 4)"
      ]
     },
     "execution_count": 2382,
     "metadata": {},
     "output_type": "execute_result"
    }
   ],
   "source": [
    "np.array(all_beta).shape"
   ]
  },
  {
   "cell_type": "code",
   "execution_count": 2383,
   "metadata": {},
   "outputs": [
    {
     "data": {
      "text/plain": [
       "array([ 0.00771686, -0.032119  ,  0.05740197,  0.05647009,  0.01398327,\n",
       "        0.03494894, -0.00462993,  0.01152955])"
      ]
     },
     "execution_count": 2383,
     "metadata": {},
     "output_type": "execute_result"
    }
   ],
   "source": [
    "t1_m_t2_inT1"
   ]
  },
  {
   "cell_type": "code",
   "execution_count": 2384,
   "metadata": {},
   "outputs": [
    {
     "data": {
      "image/png": "[encoded data removed]",
      "text/plain": [
       "<Figure size 432x288 with 1 Axes>"
      ]
     },
     "metadata": {},
     "output_type": "display_data"
    }
   ],
   "source": [
    "#n_sessions x n_tasks x n_params\n",
    "all_beta = np.array(all_beta)\n",
    "\n",
    "t1_m_t2_inT1 = (all_beta[:,0,-2] - all_beta[:,0,-1])\n",
    "t1_m_t2_inT2 = (all_beta[:,1,-1] - all_beta[:,1,-2])\n",
    "\n",
    "seaborn.distplot(t1_m_t2_inT1 + t1_m_t2_inT2,kde=0,bins=20)\n",
    "plt.xlabel(r\"Task1($\\beta_{t1}$ -$\\beta_{t2}$) + Task2($\\beta_{t2}$ -$\\beta_{t1}$)\")\n",
    "plt.ylabel(\"# of Sessions\")\n",
    "seaborn.despine()"
   ]
  },
  {
   "cell_type": "code",
   "execution_count": 2386,
   "metadata": {},
   "outputs": [
    {
     "data": {
      "image/png": "[encoded data removed]",
      "text/plain": [
       "<Figure size 216x432 with 1 Axes>"
      ]
     },
     "metadata": {},
     "output_type": "display_data"
    }
   ],
   "source": [
    "plt.figure(figsize=(3,6))\n",
    "plt.scatter([0]*8,t1_m_t2_inT1 + t1_m_t2_inT2,s=256,facecolor='',edgecolor='k')\n",
    "plt.annotate('p=0.95',(.0,0),xycoords='axes fraction')\n",
    "plt.xticks([])\n",
    "plt.plot([-.15,.15],[0,0],color='k',linestyle='--',dashes=(7,7))\n",
    "plt.ylabel(r\"Task1($\\beta_{t1}$ -$\\beta_{t2}$) + Task2($\\beta_{t2}$ -$\\beta_{t1}$)\")\n",
    "plt.xlim(-.2,.2)\n",
    "plt.locator_params('y',nbins=3)\n",
    "seaborn.despine(bottom=True)"
   ]
  },
  {
   "cell_type": "code",
   "execution_count": 2362,
   "metadata": {},
   "outputs": [
    {
     "data": {
      "text/plain": [
       "Ttest_1sampResult(statistic=0.7445967465797968, pvalue=0.4807604377694731)"
      ]
     },
     "execution_count": 2362,
     "metadata": {},
     "output_type": "execute_result"
    }
   ],
   "source": [
    "stt.ttest_1samp(t1_m_t2_inT1 + t1_m_t2_inT2,0)"
   ]
  },
  {
   "cell_type": "markdown",
   "metadata": {},
   "source": [
    "# Check this works by ordering according to sequence"
   ]
  },
  {
   "cell_type": "code",
   "execution_count": 1972,
   "metadata": {},
   "outputs": [
    {
     "name": "stderr",
     "output_type": "stream",
     "text": [
      "/Users/yves/opt/anaconda3/lib/python3.7/site-packages/ipykernel_launcher.py:34: RuntimeWarning: Mean of empty slice\n",
      "/Users/yves/opt/anaconda3/lib/python3.7/site-packages/ipykernel_launcher.py:34: RuntimeWarning: Mean of empty slice\n",
      "/Users/yves/opt/anaconda3/lib/python3.7/site-packages/ipykernel_launcher.py:34: RuntimeWarning: Mean of empty slice\n",
      "/Users/yves/opt/anaconda3/lib/python3.7/site-packages/ipykernel_launcher.py:34: RuntimeWarning: Mean of empty slice\n",
      "/Users/yves/opt/anaconda3/lib/python3.7/site-packages/ipykernel_launcher.py:34: RuntimeWarning: Mean of empty slice\n",
      "/Users/yves/opt/anaconda3/lib/python3.7/site-packages/ipykernel_launcher.py:34: RuntimeWarning: Mean of empty slice\n",
      "/Users/yves/opt/anaconda3/lib/python3.7/site-packages/ipykernel_launcher.py:34: RuntimeWarning: Mean of empty slice\n",
      "/Users/yves/opt/anaconda3/lib/python3.7/site-packages/ipykernel_launcher.py:34: RuntimeWarning: Mean of empty slice\n",
      "/Users/yves/opt/anaconda3/lib/python3.7/site-packages/ipykernel_launcher.py:34: RuntimeWarning: Mean of empty slice\n",
      "/Users/yves/opt/anaconda3/lib/python3.7/site-packages/ipykernel_launcher.py:34: RuntimeWarning: Mean of empty slice\n",
      "/Users/yves/opt/anaconda3/lib/python3.7/site-packages/ipykernel_launcher.py:34: RuntimeWarning: Mean of empty slice\n",
      "/Users/yves/opt/anaconda3/lib/python3.7/site-packages/ipykernel_launcher.py:34: RuntimeWarning: Mean of empty slice\n",
      "/Users/yves/opt/anaconda3/lib/python3.7/site-packages/ipykernel_launcher.py:34: RuntimeWarning: Mean of empty slice\n",
      "/Users/yves/opt/anaconda3/lib/python3.7/site-packages/ipykernel_launcher.py:34: RuntimeWarning: Mean of empty slice\n",
      "/Users/yves/opt/anaconda3/lib/python3.7/site-packages/ipykernel_launcher.py:34: RuntimeWarning: Mean of empty slice\n",
      "/Users/yves/opt/anaconda3/lib/python3.7/site-packages/ipykernel_launcher.py:34: RuntimeWarning: Mean of empty slice\n"
     ]
    }
   ],
   "source": [
    "all_beta = []\n",
    "all_pvals = []\n",
    "for sess_ix in range(8):\n",
    "    tmp  = []\n",
    "    tmp_pvals = []\n",
    "    firing_rate_maps,task_event_df,seq0,seq1,graph_type0,graph_type1, = load_data(sess_ix,by_dir=True)\n",
    "    mxs = np.nanmax(firing_rate_maps,axis=(1,2,3))\n",
    "    firing_rate_maps = firing_rate_maps[mxs>.1]\n",
    "    #spatial_map  = np.nanmean(firing_rate_maps,axis=(2,3))\n",
    "    mds_frm = firing_rate_maps #- spatial_map[:,:,None,None]\n",
    "\n",
    "   \n",
    "    \n",
    "    frm = np.hstack([mds_frm[:,seq0,0,0],mds_frm[:,seq0,0,1],mds_frm[:,seq0,1,0],mds_frm[:,seq0,1,1]])\n",
    "    frm_t1 = frm[:,:18].T\n",
    "    frm_t2 = frm[:,18:].T\n",
    "    #mean_state_resps = firing_rate_maps.swapaxes(0,2)\n",
    "    #mean_state_resps = (mean_state_resps - np.mean(mean_state_resps,axis=(0,1))[None,None,:])/np.std(mean_state_resps,axis=(0,1))[None,None,:]\n",
    "    #mean_state_resps = np.nan_to_num(mean_state_resps)\n",
    "    #mean_state_resps = np.nanmean(mds_frm,axis=3).swapaxes(0,2)\n",
    "    if graph_type0=='loop': \n",
    "        task_1_distance = get_C_loop_task(np.arange(9))[1]\n",
    "    else: \n",
    "        task_1_distance =  get_C_line_task(np.arange(9))[1]\n",
    "    if graph_type1=='loop':\n",
    "        task_2_distance = get_C_loop_task(np.arange(9))[1]\n",
    "    else:\n",
    "        task_2_distance = get_C_line_task(np.arange(9))[1]\n",
    "\n",
    "    task_1_distance = np.nan_to_num(task_1_distance,np.nanmean(task_1_distance))\n",
    "    task_2_distance = np.nan_to_num(task_2_distance,np.nanmean(task_2_distance))\n",
    "    #spatial_distance = -distance_matrix(poke_pos,poke_pos,p=1)\n",
    "    spatial_distance =   -distance_matrix(np.vstack([poke_pos[seq0],poke_pos[seq0]]),\n",
    "                                          np.vstack([poke_pos[seq0],poke_pos[seq0]]),p=1)\n",
    "    \n",
    "    task1_corrs = np.corrcoef(frm_t1)\n",
    "    task2_corrs = np.corrcoef(frm_t2)\n",
    "    select_indices = (np.eye(len(task1_corrs)) + \n",
    "                      np.isnan(task1_corrs) + \n",
    "                      np.isnan(task2_corrs) + \n",
    "                      np.isnan(task_1_distance) + \n",
    "                      np.isnan(task_2_distance) + \n",
    "                      np.isnan(spatial_distance)\n",
    "                     )==0\n",
    "    \n",
    "    #\n",
    "    y = task1_corrs[select_indices].flatten()\n",
    "    X = np.vstack([np.ones_like(y),\n",
    "               zscore(spatial_distance[select_indices].flatten()),\n",
    "               zscore(task_1_distance[select_indices].flatten()),\n",
    "               zscore(task_2_distance[select_indices].flatten())\n",
    "              ]).T\n",
    "    \n",
    "    #y = remove_diagonal(task1_corrs).flatten()\n",
    "    #beta = np.linalg.pinv(X.T@X)@X.T@y\n",
    "    res = sm.OLS(y,X,hasconst=True).fit()\n",
    "    \n",
    "    \n",
    "    tmp.append(res.params)\n",
    "    tmp_pvals.append(res.pvalues)\n",
    "    \n",
    "    y = task2_corrs[select_indices].flatten()\n",
    "    #beta = np.linalg.pinv(X.T@X)@X.T@y\n",
    "    res = sm.OLS(y,X,hasconst=True).fit()\n",
    "    \n",
    "    tmp_pvals.append(res.pvalues)\n",
    "    tmp.append(res.params)\n",
    "    \n",
    "    all_beta.append(tmp)\n",
    "    all_pvals.append(tmp_pvals)\n",
    "    #assert np.allclose(beta,res.params)"
   ]
  },
  {
   "cell_type": "code",
   "execution_count": 2057,
   "metadata": {},
   "outputs": [],
   "source": [
    "#np.array(all_pvals)[:,:,3]"
   ]
  },
  {
   "cell_type": "code",
   "execution_count": 2058,
   "metadata": {},
   "outputs": [],
   "source": [
    "#np.array(all_pvals)[:,:,1]"
   ]
  },
  {
   "cell_type": "code",
   "execution_count": 1965,
   "metadata": {},
   "outputs": [
    {
     "ename": "AttributeError",
     "evalue": "'function' object has no attribute 'shape'",
     "output_type": "error",
     "traceback": [
      "\u001b[0;31m---------------------------------------------------------------------------\u001b[0m",
      "\u001b[0;31mAttributeError\u001b[0m                            Traceback (most recent call last)",
      "\u001b[0;32m<ipython-input-1965-116d666a8475>\u001b[0m in \u001b[0;36m<module>\u001b[0;34m\u001b[0m\n\u001b[0;32m----> 1\u001b[0;31m \u001b[0mdistance_matrix\u001b[0m\u001b[0;34m.\u001b[0m\u001b[0mshape\u001b[0m\u001b[0;34m\u001b[0m\u001b[0;34m\u001b[0m\u001b[0m\n\u001b[0m",
      "\u001b[0;31mAttributeError\u001b[0m: 'function' object has no attribute 'shape'"
     ]
    }
   ],
   "source": [
    "\n",
    "distance_matrix.shape"
   ]
  },
  {
   "cell_type": "code",
   "execution_count": null,
   "metadata": {},
   "outputs": [],
   "source": []
  }
 ],
 "metadata": {
  "kernelspec": {
   "display_name": "Python 3",
   "language": "python",
   "name": "python3"
  },
  "language_info": {
   "codemirror_mode": {
    "name": "ipython",
    "version": 3
   },
   "file_extension": ".py",
   "mimetype": "text/x-python",
   "name": "python",
   "nbconvert_exporter": "python",
   "pygments_lexer": "ipython3",
   "version": "3.7.4"
  }
 },
 "nbformat": 4,
 "nbformat_minor": 2
}
