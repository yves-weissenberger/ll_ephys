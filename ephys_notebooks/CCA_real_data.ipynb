{
 "cells": [
  {
   "cell_type": "markdown",
   "metadata": {},
   "source": [
    "# CCA explore\n",
    "\n",
    "\n",
    "## Here try to get to grips with CCA\n",
    "\n",
    "The basic approach is the following. You have two things that have the same underlying dynamics in different subspaces. What I guess you are doing is solving an eigenvalue problem on the cross covariance matrix?? Is that right?\n",
    "\n",
    "In other way what you do is to do an SVD on both data matrices. Then you\n",
    "\n",
    "\n",
    "## Interpretation\n",
    "\n",
    "What is the prediction of the principal angles between movements in different directions...?\n"
   ]
  },
  {
   "cell_type": "code",
   "execution_count": 104,
   "metadata": {},
   "outputs": [],
   "source": [
    "%matplotlib inline\n",
    "\n",
    "import numpy as np\n",
    "import matplotlib.pyplot as plt\n",
    "import seaborn\n",
    "seaborn.set(font_scale=1.5,style='ticks')"
   ]
  },
  {
   "cell_type": "code",
   "execution_count": 105,
   "metadata": {},
   "outputs": [],
   "source": [
    "def run_CCA(D1, D2, hat_dims=2):\n",
    "    \n",
    "    \"\"\"\n",
    "    This code runs canonical correlation analysis. The point here is that\n",
    "    we want to find rotation matrices that align two separate datasets\n",
    "    \n",
    "    Arguments:\n",
    "    \n",
    "    D_i:            np.array\n",
    "                    shape should be n_neurons x n_timeopints\n",
    "    \"\"\"\n",
    "    \n",
    "    \n",
    "    #run SVD on datasets to obtain temporal and cellular\n",
    "    #singular vectors\n",
    "    U1,S1,Vt1 = np.linalg.svd(D1)\n",
    "    S1 = np.eye(len(U1),len(Vt1))*S1[:,None]\n",
    "    U2,S2,Vt2 = np.linalg.svd(D2)\n",
    "    S2 = np.eye(len(U2),len(Vt2))*S2[:,None]\n",
    "\n",
    "    \n",
    "   \n",
    "    #select the top 'hat_dims' cellular singular vectors\n",
    "    Uhat1 = U1[:,:hat_dims]\n",
    "    Uhat2 = U2[:,:hat_dims]\n",
    "    \n",
    "    #I1= Uhat1.T.dot(U1)\n",
    "    \n",
    "    #This is the covariance between each cellular singular vector\n",
    "    #and the corresponding data matrix\n",
    "    L1 = Uhat1.T.dot(D1)   \n",
    "    L2 = Uhat2.T.dot(D2)\n",
    "    \n",
    "    \n",
    "    Q1,R1 = Vt1[:hat_dims].T,S1[:hat_dims,:hat_dims]\n",
    "    Q2,R2 = Vt2[:hat_dims].T,S2[:hat_dims,:hat_dims]\n",
    "    \n",
    "    \n",
    "    \n",
    "    #this dot product defines the correlations between the different axes\n",
    "    #identified for the neural modes. What SVD will do is \n",
    "    Ub,Sb,Vtb = np.linalg.svd(np.dot(Q1.T,Q2))\n",
    "    \n",
    "    \n",
    "    #These are rotation matrices that rotate the data matrices into\n",
    "    #the common subspace\n",
    "    M1 = np.linalg.inv(R1).dot(Ub)\n",
    "    M2 = np.linalg.inv(R2).dot(Vtb)\n",
    "    \n",
    "    results_dict = {'U1': U1,\n",
    "                    'U2': U2,\n",
    "                    'V1': V1,\n",
    "                    'V2': V2,\n",
    "                    'S1': S1,\n",
    "                    'S2': S2,\n",
    "                    'L1': L1,\n",
    "                    'L2': L2,\n",
    "                    'M1': M1,\n",
    "                    'M2': M2}\n",
    "    \n",
    "    return results_dict"
   ]
  },
  {
   "cell_type": "code",
   "execution_count": 106,
   "metadata": {},
   "outputs": [],
   "source": [
    "def compute_angles_between_hyperplanes(results_dict):\n",
    "    return None"
   ]
  },
  {
   "cell_type": "code",
   "execution_count": 107,
   "metadata": {},
   "outputs": [],
   "source": [
    "def run_roll_CCA(D1,D2):\n",
    "    \n",
    "    for roll_ix in range(9):\n",
    "        res_dict = run_CCA(D1,np.roll(D2,i,axis=1))\n",
    "        comput"
   ]
  },
  {
   "cell_type": "code",
   "execution_count": 108,
   "metadata": {},
   "outputs": [],
   "source": [
    "def run_CCA_all(ROOT):\n",
    "    \"\"\" Loop over all sessions\"\"\"\n",
    "    \n",
    "    for pth_ in os.listdir(ROOT):\n",
    "        path = os.path.join(ROOT,pth_)\n",
    "        \n",
    "        "
   ]
  },
  {
   "cell_type": "code",
   "execution_count": 109,
   "metadata": {},
   "outputs": [],
   "source": [
    "n_neurons = 120\n",
    "n_timepoints = 9\n",
    "n_dims = 2\n",
    "\n",
    "dyn_mtx = np.random.normal(size=(n_dims,n_timepoints))"
   ]
  },
  {
   "cell_type": "code",
   "execution_count": 110,
   "metadata": {},
   "outputs": [],
   "source": [
    "P1 = np.random.normal(size=(n_neurons,n_dims))\n",
    "P2 = np.random.normal(size=(n_neurons,n_dims))"
   ]
  },
  {
   "cell_type": "code",
   "execution_count": 111,
   "metadata": {},
   "outputs": [],
   "source": [
    "D1 = np.dot(P1,dyn_mtx)\n",
    "D2 = np.dot(P2,dyn_mtx)"
   ]
  },
  {
   "cell_type": "code",
   "execution_count": 112,
   "metadata": {},
   "outputs": [
    {
     "ename": "ValueError",
     "evalue": "operands could not be broadcast together with shapes (120,9) (9,1) ",
     "output_type": "error",
     "traceback": [
      "\u001b[0;31m---------------------------------------------------------------------------\u001b[0m",
      "\u001b[0;31mValueError\u001b[0m                                Traceback (most recent call last)",
      "\u001b[0;32m<ipython-input-112-ee3c1dc0a262>\u001b[0m in \u001b[0;36m<module>\u001b[0;34m\u001b[0m\n\u001b[1;32m      1\u001b[0m \u001b[0mU1\u001b[0m\u001b[0;34m,\u001b[0m\u001b[0mS1\u001b[0m\u001b[0;34m,\u001b[0m\u001b[0mVt1\u001b[0m \u001b[0;34m=\u001b[0m \u001b[0mnp\u001b[0m\u001b[0;34m.\u001b[0m\u001b[0mlinalg\u001b[0m\u001b[0;34m.\u001b[0m\u001b[0msvd\u001b[0m\u001b[0;34m(\u001b[0m\u001b[0mD1\u001b[0m\u001b[0;34m)\u001b[0m\u001b[0;34m\u001b[0m\u001b[0;34m\u001b[0m\u001b[0m\n\u001b[0;32m----> 2\u001b[0;31m \u001b[0mS1\u001b[0m \u001b[0;34m=\u001b[0m \u001b[0mnp\u001b[0m\u001b[0;34m.\u001b[0m\u001b[0meye\u001b[0m\u001b[0;34m(\u001b[0m\u001b[0mlen\u001b[0m\u001b[0;34m(\u001b[0m\u001b[0mU1\u001b[0m\u001b[0;34m)\u001b[0m\u001b[0;34m,\u001b[0m\u001b[0mlen\u001b[0m\u001b[0;34m(\u001b[0m\u001b[0mVt1\u001b[0m\u001b[0;34m)\u001b[0m\u001b[0;34m)\u001b[0m\u001b[0;34m*\u001b[0m\u001b[0mS1\u001b[0m\u001b[0;34m[\u001b[0m\u001b[0;34m:\u001b[0m\u001b[0;34m,\u001b[0m\u001b[0;32mNone\u001b[0m\u001b[0;34m]\u001b[0m\u001b[0;34m\u001b[0m\u001b[0;34m\u001b[0m\u001b[0m\n\u001b[0m\u001b[1;32m      3\u001b[0m \u001b[0mU2\u001b[0m\u001b[0;34m,\u001b[0m\u001b[0mS2\u001b[0m\u001b[0;34m,\u001b[0m\u001b[0mVt2\u001b[0m \u001b[0;34m=\u001b[0m \u001b[0mnp\u001b[0m\u001b[0;34m.\u001b[0m\u001b[0mlinalg\u001b[0m\u001b[0;34m.\u001b[0m\u001b[0msvd\u001b[0m\u001b[0;34m(\u001b[0m\u001b[0mD2\u001b[0m\u001b[0;34m)\u001b[0m\u001b[0;34m\u001b[0m\u001b[0;34m\u001b[0m\u001b[0m\n\u001b[1;32m      4\u001b[0m \u001b[0mS2\u001b[0m \u001b[0;34m=\u001b[0m \u001b[0mnp\u001b[0m\u001b[0;34m.\u001b[0m\u001b[0meye\u001b[0m\u001b[0;34m(\u001b[0m\u001b[0mlen\u001b[0m\u001b[0;34m(\u001b[0m\u001b[0mU2\u001b[0m\u001b[0;34m)\u001b[0m\u001b[0;34m,\u001b[0m\u001b[0mlen\u001b[0m\u001b[0;34m(\u001b[0m\u001b[0mVt2\u001b[0m\u001b[0;34m)\u001b[0m\u001b[0;34m)\u001b[0m\u001b[0;34m*\u001b[0m\u001b[0mS2\u001b[0m\u001b[0;34m[\u001b[0m\u001b[0;34m:\u001b[0m\u001b[0;34m,\u001b[0m\u001b[0;32mNone\u001b[0m\u001b[0;34m]\u001b[0m\u001b[0;34m\u001b[0m\u001b[0;34m\u001b[0m\u001b[0m\n",
      "\u001b[0;31mValueError\u001b[0m: operands could not be broadcast together with shapes (120,9) (9,1) "
     ]
    }
   ],
   "source": [
    "U1,S1,Vt1 = np.linalg.svd(D1)\n",
    "S1 = np.eye(len(U1),len(Vt1))*S1[:,None]\n",
    "U2,S2,Vt2 = np.linalg.svd(D2)\n",
    "S2 = np.eye(len(U2),len(Vt2))*S2[:,None]\n"
   ]
  },
  {
   "cell_type": "code",
   "execution_count": 88,
   "metadata": {},
   "outputs": [
    {
     "data": {
      "text/plain": [
       "(120, 9)"
      ]
     },
     "execution_count": 88,
     "metadata": {},
     "output_type": "execute_result"
    }
   ],
   "source": [
    "D1.shape"
   ]
  },
  {
   "cell_type": "code",
   "execution_count": 89,
   "metadata": {},
   "outputs": [
    {
     "data": {
      "text/plain": [
       "(0, 50)"
      ]
     },
     "execution_count": 89,
     "metadata": {},
     "output_type": "execute_result"
    },
    {
     "data": {
      "image/png": "[encoded data removed]",
      "text/plain": [
       "<Figure size 432x288 with 1 Axes>"
      ]
     },
     "metadata": {},
     "output_type": "display_data"
    }
   ],
   "source": [
    "plt.plot(np.mean(D1,axis=0))\n",
    "plt.plot(np.mean(np.roll(D1,1,axis=1),axis=0))\n",
    "plt.xlim(0,50)"
   ]
  },
  {
   "cell_type": "code",
   "execution_count": 90,
   "metadata": {},
   "outputs": [
    {
     "data": {
      "text/plain": [
       "[<matplotlib.lines.Line2D at 0x7fce11f97590>]"
      ]
     },
     "execution_count": 90,
     "metadata": {},
     "output_type": "execute_result"
    },
    {
     "data": {
      "image/png": "[encoded data removed]",
      "text/plain": [
       "<Figure size 432x288 with 1 Axes>"
      ]
     },
     "metadata": {},
     "output_type": "display_data"
    }
   ],
   "source": [
    "plt.plot(np.mean(np.roll(D1,1,axis=1),axis=0))"
   ]
  },
  {
   "cell_type": "code",
   "execution_count": 91,
   "metadata": {},
   "outputs": [],
   "source": [
    "hat_dims = 2\n",
    "\n",
    "Uhat1 = U1[:,:hat_dims]\n",
    "Uhat2 = U2[:,:hat_dims]"
   ]
  },
  {
   "cell_type": "code",
   "execution_count": null,
   "metadata": {},
   "outputs": [],
   "source": []
  },
  {
   "cell_type": "code",
   "execution_count": 64,
   "metadata": {},
   "outputs": [],
   "source": [
    "I1= Uhat1.T.dot(U1)"
   ]
  },
  {
   "cell_type": "code",
   "execution_count": 15,
   "metadata": {},
   "outputs": [],
   "source": [
    "L1 = Uhat1.T.dot(D1)\n",
    "L2 = Uhat2.T.dot(D2)"
   ]
  },
  {
   "cell_type": "code",
   "execution_count": 16,
   "metadata": {},
   "outputs": [],
   "source": [
    "#test1\n",
    "#np.allclose(Uhat1.T.dot(D1),(np.dot(I1,S1.dot(Vt1))))"
   ]
  },
  {
   "cell_type": "code",
   "execution_count": 17,
   "metadata": {},
   "outputs": [],
   "source": [
    "#L = np.dot(Uhat1,Uhat1.T).dot(S1).dot(Vt1)\n",
    "Q1,R1 = Vt1[:hat_dims].T,S1[:hat_dims,:hat_dims]\n",
    "Q2,R2 = Vt2[:hat_dims].T,S2[:hat_dims,:hat_dims]"
   ]
  },
  {
   "cell_type": "code",
   "execution_count": 18,
   "metadata": {},
   "outputs": [
    {
     "data": {
      "text/plain": [
       "(2, 2)"
      ]
     },
     "execution_count": 18,
     "metadata": {},
     "output_type": "execute_result"
    }
   ],
   "source": [
    "R1.shape"
   ]
  },
  {
   "cell_type": "code",
   "execution_count": 19,
   "metadata": {},
   "outputs": [],
   "source": [
    "#Ub and Vtb are rotation matrices\n",
    "Ub,Sb,Vtb = np.linalg.svd(np.dot(Q1.T,Q2))"
   ]
  },
  {
   "cell_type": "code",
   "execution_count": 27,
   "metadata": {},
   "outputs": [],
   "source": [
    "tmp = np.dot(Q1.T,Q2)\n",
    "L = np.tril(tmp)\n",
    "U = np.triu(tmp)"
   ]
  },
  {
   "cell_type": "code",
   "execution_count": 31,
   "metadata": {},
   "outputs": [],
   "source": [
    "import scipy.linalg"
   ]
  },
  {
   "cell_type": "code",
   "execution_count": 44,
   "metadata": {},
   "outputs": [],
   "source": [
    "L,D,V = scipy.linalg.lu(tmp)"
   ]
  },
  {
   "cell_type": "code",
   "execution_count": 50,
   "metadata": {},
   "outputs": [
    {
     "data": {
      "text/plain": [
       "array([[-1., -0.],\n",
       "       [ 0.,  1.]])"
      ]
     },
     "execution_count": 50,
     "metadata": {},
     "output_type": "execute_result"
    }
   ],
   "source": [
    "Vtb"
   ]
  },
  {
   "cell_type": "code",
   "execution_count": 48,
   "metadata": {},
   "outputs": [
    {
     "data": {
      "text/plain": [
       "array([[1., 0.],\n",
       "       [0., 1.]])"
      ]
     },
     "execution_count": 48,
     "metadata": {},
     "output_type": "execute_result"
    }
   ],
   "source": [
    "L"
   ]
  },
  {
   "cell_type": "code",
   "execution_count": null,
   "metadata": {},
   "outputs": [],
   "source": []
  },
  {
   "cell_type": "code",
   "execution_count": 33,
   "metadata": {},
   "outputs": [
    {
     "data": {
      "text/plain": [
       "array([1., 1.])"
      ]
     },
     "execution_count": 33,
     "metadata": {},
     "output_type": "execute_result"
    }
   ],
   "source": [
    "Sb"
   ]
  },
  {
   "cell_type": "code",
   "execution_count": 29,
   "metadata": {},
   "outputs": [
    {
     "data": {
      "text/plain": [
       "array([[0.831533  , 0.        ],\n",
       "       [0.55547535, 0.831533  ]])"
      ]
     },
     "execution_count": 29,
     "metadata": {},
     "output_type": "execute_result"
    }
   ],
   "source": [
    "L"
   ]
  },
  {
   "cell_type": "code",
   "execution_count": 30,
   "metadata": {},
   "outputs": [
    {
     "data": {
      "text/plain": [
       "array([[ 0.831533  , -0.55547535],\n",
       "       [ 0.55547535,  0.831533  ]])"
      ]
     },
     "execution_count": 30,
     "metadata": {},
     "output_type": "execute_result"
    }
   ],
   "source": [
    "tmp"
   ]
  },
  {
   "cell_type": "code",
   "execution_count": 20,
   "metadata": {},
   "outputs": [],
   "source": [
    "#These are rotation matricesb\n",
    "\n",
    "M1 = np.linalg.inv(R1).dot(Ub)\n",
    "M2 = np.linalg.inv(R2).dot(Vtb)"
   ]
  },
  {
   "cell_type": "code",
   "execution_count": 21,
   "metadata": {},
   "outputs": [],
   "source": [
    "#np.allclose(np.dot(M1,L1)[0],np.dot(M2,L2)[0])"
   ]
  },
  {
   "cell_type": "code",
   "execution_count": 22,
   "metadata": {},
   "outputs": [
    {
     "data": {
      "text/plain": [
       "[<matplotlib.lines.Line2D at 0x7fce11276b90>]"
      ]
     },
     "execution_count": 22,
     "metadata": {},
     "output_type": "execute_result"
    },
    {
     "data": {
      "image/png": "[encoded data removed]",
      "text/plain": [
       "<Figure size 432x288 with 1 Axes>"
      ]
     },
     "metadata": {
      "needs_background": "light"
     },
     "output_type": "display_data"
    }
   ],
   "source": [
    "#yes\n",
    "plt.plot(np.dot(M1,L1)[0])\n",
    "plt.plot(np.dot(M2,L2)[0])"
   ]
  },
  {
   "cell_type": "code",
   "execution_count": 23,
   "metadata": {},
   "outputs": [
    {
     "data": {
      "text/plain": [
       "(2, 200)"
      ]
     },
     "execution_count": 23,
     "metadata": {},
     "output_type": "execute_result"
    }
   ],
   "source": [
    "L1.shape"
   ]
  },
  {
   "cell_type": "code",
   "execution_count": 31,
   "metadata": {},
   "outputs": [
    {
     "data": {
      "text/plain": [
       "(200, 200)"
      ]
     },
     "execution_count": 31,
     "metadata": {},
     "output_type": "execute_result"
    }
   ],
   "source": [
    "Vt1.shape"
   ]
  },
  {
   "cell_type": "code",
   "execution_count": 100,
   "metadata": {},
   "outputs": [],
   "source": [
    "cca = CCA(numCC=2)"
   ]
  },
  {
   "cell_type": "code",
   "execution_count": 101,
   "metadata": {},
   "outputs": [
    {
     "data": {
      "text/plain": [
       "(120, 9)"
      ]
     },
     "execution_count": 101,
     "metadata": {},
     "output_type": "execute_result"
    }
   ],
   "source": [
    "D1.shape"
   ]
  },
  {
   "cell_type": "code",
   "execution_count": 103,
   "metadata": {},
   "outputs": [
    {
     "name": "stdout",
     "output_type": "stream",
     "text": [
      "Training CCA, kernel = linear, regularization = 0.0000, 2 components\n"
     ]
    },
    {
     "ename": "LinAlgError",
     "evalue": "the leading minor of order 3 of 'b' is not positive definite. The factorization of 'b' could not be completed and no eigenvalues or eigenvectors were computed.",
     "output_type": "error",
     "traceback": [
      "\u001b[0;31m---------------------------------------------------------------------------\u001b[0m",
      "\u001b[0;31mLinAlgError\u001b[0m                               Traceback (most recent call last)",
      "\u001b[0;32m<ipython-input-103-eaa572e783d3>\u001b[0m in \u001b[0;36m<module>\u001b[0;34m\u001b[0m\n\u001b[0;32m----> 1\u001b[0;31m \u001b[0mout\u001b[0m \u001b[0;34m=\u001b[0m \u001b[0mcca\u001b[0m\u001b[0;34m.\u001b[0m\u001b[0mtrain\u001b[0m\u001b[0;34m(\u001b[0m\u001b[0;34m[\u001b[0m\u001b[0mD1\u001b[0m\u001b[0;34m,\u001b[0m\u001b[0mD2\u001b[0m\u001b[0;34m]\u001b[0m\u001b[0;34m)\u001b[0m\u001b[0;34m\u001b[0m\u001b[0;34m\u001b[0m\u001b[0m\n\u001b[0m",
      "\u001b[0;32m<ipython-input-65-1a48ecf4ce78>\u001b[0m in \u001b[0;36mtrain\u001b[0;34m(self, data)\u001b[0m\n\u001b[1;32m    306\u001b[0m \u001b[0;34m\u001b[0m\u001b[0m\n\u001b[1;32m    307\u001b[0m     \u001b[0;32mdef\u001b[0m \u001b[0mtrain\u001b[0m\u001b[0;34m(\u001b[0m\u001b[0mself\u001b[0m\u001b[0;34m,\u001b[0m \u001b[0mdata\u001b[0m\u001b[0;34m)\u001b[0m\u001b[0;34m:\u001b[0m\u001b[0;34m\u001b[0m\u001b[0;34m\u001b[0m\u001b[0m\n\u001b[0;32m--> 308\u001b[0;31m         \u001b[0;32mreturn\u001b[0m \u001b[0msuper\u001b[0m\u001b[0;34m(\u001b[0m\u001b[0mCCA\u001b[0m\u001b[0;34m,\u001b[0m \u001b[0mself\u001b[0m\u001b[0;34m)\u001b[0m\u001b[0;34m.\u001b[0m\u001b[0mtrain\u001b[0m\u001b[0;34m(\u001b[0m\u001b[0mdata\u001b[0m\u001b[0;34m)\u001b[0m\u001b[0;34m\u001b[0m\u001b[0;34m\u001b[0m\u001b[0m\n\u001b[0m\u001b[1;32m    309\u001b[0m \u001b[0;34m\u001b[0m\u001b[0m\n\u001b[1;32m    310\u001b[0m \u001b[0;34m\u001b[0m\u001b[0m\n",
      "\u001b[0;32m<ipython-input-65-1a48ecf4ce78>\u001b[0m in \u001b[0;36mtrain\u001b[0;34m(self, data)\u001b[0m\n\u001b[1;32m     56\u001b[0m             \u001b[0mktype\u001b[0m\u001b[0;34m=\u001b[0m\u001b[0mself\u001b[0m\u001b[0;34m.\u001b[0m\u001b[0mktype\u001b[0m\u001b[0;34m,\u001b[0m\u001b[0;34m\u001b[0m\u001b[0;34m\u001b[0m\u001b[0m\n\u001b[1;32m     57\u001b[0m             \u001b[0mgausigma\u001b[0m\u001b[0;34m=\u001b[0m\u001b[0mself\u001b[0m\u001b[0;34m.\u001b[0m\u001b[0mgausigma\u001b[0m\u001b[0;34m,\u001b[0m\u001b[0;34m\u001b[0m\u001b[0;34m\u001b[0m\u001b[0m\n\u001b[0;32m---> 58\u001b[0;31m             \u001b[0mdegree\u001b[0m\u001b[0;34m=\u001b[0m\u001b[0mself\u001b[0m\u001b[0;34m.\u001b[0m\u001b[0mdegree\u001b[0m\u001b[0;34m,\u001b[0m\u001b[0;34m\u001b[0m\u001b[0;34m\u001b[0m\u001b[0m\n\u001b[0m\u001b[1;32m     59\u001b[0m         )\n\u001b[1;32m     60\u001b[0m         self.cancorrs, self.ws, self.comps = recon(\n",
      "\u001b[0;32m<ipython-input-65-1a48ecf4ce78>\u001b[0m in \u001b[0;36mkcca\u001b[0;34m(data, reg, numCC, kernelcca, ktype, gausigma, degree)\u001b[0m\n\u001b[1;32m    369\u001b[0m \u001b[0;34m\u001b[0m\u001b[0m\n\u001b[1;32m    370\u001b[0m     \u001b[0mmaxCC\u001b[0m \u001b[0;34m=\u001b[0m \u001b[0mLH\u001b[0m\u001b[0;34m.\u001b[0m\u001b[0mshape\u001b[0m\u001b[0;34m[\u001b[0m\u001b[0;36m0\u001b[0m\u001b[0;34m]\u001b[0m\u001b[0;34m\u001b[0m\u001b[0;34m\u001b[0m\u001b[0m\n\u001b[0;32m--> 371\u001b[0;31m     \u001b[0mr\u001b[0m\u001b[0;34m,\u001b[0m \u001b[0mVs\u001b[0m \u001b[0;34m=\u001b[0m \u001b[0meigh\u001b[0m\u001b[0;34m(\u001b[0m\u001b[0mLH\u001b[0m\u001b[0;34m,\u001b[0m \u001b[0mRH\u001b[0m\u001b[0;34m,\u001b[0m \u001b[0meigvals\u001b[0m\u001b[0;34m=\u001b[0m\u001b[0;34m(\u001b[0m\u001b[0mmaxCC\u001b[0m \u001b[0;34m-\u001b[0m \u001b[0mnumCC\u001b[0m\u001b[0;34m,\u001b[0m \u001b[0mmaxCC\u001b[0m \u001b[0;34m-\u001b[0m \u001b[0;36m1\u001b[0m\u001b[0;34m)\u001b[0m\u001b[0;34m)\u001b[0m\u001b[0;34m\u001b[0m\u001b[0;34m\u001b[0m\u001b[0m\n\u001b[0m\u001b[1;32m    372\u001b[0m     \u001b[0mr\u001b[0m\u001b[0;34m[\u001b[0m\u001b[0mnp\u001b[0m\u001b[0;34m.\u001b[0m\u001b[0misnan\u001b[0m\u001b[0;34m(\u001b[0m\u001b[0mr\u001b[0m\u001b[0;34m)\u001b[0m\u001b[0;34m]\u001b[0m \u001b[0;34m=\u001b[0m \u001b[0;36m0\u001b[0m\u001b[0;34m\u001b[0m\u001b[0;34m\u001b[0m\u001b[0m\n\u001b[1;32m    373\u001b[0m     \u001b[0mrindex\u001b[0m \u001b[0;34m=\u001b[0m \u001b[0mnp\u001b[0m\u001b[0;34m.\u001b[0m\u001b[0margsort\u001b[0m\u001b[0;34m(\u001b[0m\u001b[0mr\u001b[0m\u001b[0;34m)\u001b[0m\u001b[0;34m[\u001b[0m\u001b[0;34m:\u001b[0m\u001b[0;34m:\u001b[0m\u001b[0;34m-\u001b[0m\u001b[0;36m1\u001b[0m\u001b[0;34m]\u001b[0m\u001b[0;34m\u001b[0m\u001b[0;34m\u001b[0m\u001b[0m\n",
      "\u001b[0;32m~/opt/anaconda3/lib/python3.7/site-packages/scipy/linalg/decomp.py\u001b[0m in \u001b[0;36meigh\u001b[0;34m(a, b, lower, eigvals_only, overwrite_a, overwrite_b, turbo, eigvals, type, check_finite)\u001b[0m\n\u001b[1;32m    491\u001b[0m                           \u001b[0;34m\" factorization of 'b' could not be completed\"\u001b[0m\u001b[0;34m\u001b[0m\u001b[0;34m\u001b[0m\u001b[0m\n\u001b[1;32m    492\u001b[0m                           \u001b[0;34m\" and no eigenvalues or eigenvectors were\"\u001b[0m\u001b[0;34m\u001b[0m\u001b[0;34m\u001b[0m\u001b[0m\n\u001b[0;32m--> 493\u001b[0;31m                           \" computed.\" % (info-b1.shape[0]))\n\u001b[0m\u001b[1;32m    494\u001b[0m \u001b[0;34m\u001b[0m\u001b[0m\n\u001b[1;32m    495\u001b[0m \u001b[0;34m\u001b[0m\u001b[0m\n",
      "\u001b[0;31mLinAlgError\u001b[0m: the leading minor of order 3 of 'b' is not positive definite. The factorization of 'b' could not be completed and no eigenvalues or eigenvectors were computed."
     ]
    }
   ],
   "source": [
    "out = cca.train([D1,D2])"
   ]
  },
  {
   "cell_type": "code",
   "execution_count": 82,
   "metadata": {},
   "outputs": [
    {
     "name": "stdout",
     "output_type": "stream",
     "text": [
      "Computing explained variance for component #1\n",
      "Computing explained variance for component #2\n",
      "Computing explained variance for component #3\n",
      "Computing explained variance for component #4\n",
      "Computing explained variance for component #5\n",
      "Computing explained variance for component #6\n"
     ]
    },
    {
     "name": "stderr",
     "output_type": "stream",
     "text": [
      "/Users/yves/opt/anaconda3/lib/python3.7/site-packages/ipykernel_launcher.py:323: RuntimeWarning: Mean of empty slice.\n",
      "/Users/yves/opt/anaconda3/lib/python3.7/site-packages/numpy/core/_methods.py:163: RuntimeWarning: invalid value encountered in true_divide\n",
      "  ret, rcount, out=ret, casting='unsafe', subok=False)\n",
      "/Users/yves/opt/anaconda3/lib/python3.7/site-packages/numpy/lib/function_base.py:2559: RuntimeWarning: invalid value encountered in true_divide\n",
      "  c /= stddev[:, None]\n",
      "/Users/yves/opt/anaconda3/lib/python3.7/site-packages/numpy/lib/function_base.py:2560: RuntimeWarning: invalid value encountered in true_divide\n",
      "  c /= stddev[None, :]\n"
     ]
    },
    {
     "data": {
      "text/plain": [
       "[array([[0.66686927, 0.6659834 , 0.65600803, 0.61679673, 0.67353959,\n",
       "         0.63671088, 0.61664211, 0.60810226, 0.67365401, 0.60810639,\n",
       "         0.6665684 , 0.66699562, 0.65656209, 0.67817344, 0.67972413,\n",
       "         0.66714322, 0.6733161 , 0.6223484 , 0.67289918, 0.6831291 ,\n",
       "         0.67345612, 0.66709664, 0.68545135, 0.68312265, 0.67659427,\n",
       "         0.67564739, 0.63289373, 0.67174954, 0.60408263, 0.63141805,\n",
       "         0.60480973, 0.67717012, 0.61124243, 0.65828889, 0.66598938,\n",
       "         0.62053278, 0.60563849, 0.67274049, 0.67249011, 0.67561758,\n",
       "         0.67458431, 0.64258399, 0.6492831 , 0.61443954, 0.63330941,\n",
       "         0.66886337, 0.67874786, 0.64787243, 0.66715932, 0.61548279,\n",
       "         0.62979066, 0.66653801, 0.66322219, 0.67774766, 0.61268786,\n",
       "         0.68331236, 0.68191131, 0.603933  , 0.60760583, 0.66953115,\n",
       "         0.66752693, 0.66663924, 0.67310275, 0.67260042, 0.66979399,\n",
       "         0.66283919, 0.66713476, 0.66644218, 0.66633126, 0.60522724,\n",
       "         0.67005005, 0.66662072, 0.68942535, 0.68287193, 0.68281517,\n",
       "         0.67407343, 0.60574811, 0.66783237, 0.63315697, 0.62544688,\n",
       "         0.68211289, 0.68848608, 0.67457936, 0.67012733, 0.66912014,\n",
       "         0.65963695, 0.68702559, 0.6777431 , 0.67350482, 0.6033434 ,\n",
       "         0.60583477, 0.66637933, 0.67639765, 0.67438637, 0.67388507,\n",
       "         0.66829171, 0.67492193, 0.60585849, 0.61905547, 0.66651644,\n",
       "         0.67687922, 0.67371069, 0.66651221, 0.67388916, 0.66563993,\n",
       "         0.67433812, 0.64170593, 0.68011474, 0.68437979, 0.66515573,\n",
       "         0.68424294, 0.6733448 , 0.68306112, 0.66715426, 0.66714026,\n",
       "         0.60472618, 0.6668505 , 0.66752013, 0.67725608, 0.66679879],\n",
       "        [0.66686927, 0.6659834 , 0.65600803, 0.61679673, 0.67353959,\n",
       "         0.63671088, 0.61664211, 0.60810226, 0.67365401, 0.60810639,\n",
       "         0.6665684 , 0.66699562, 0.65656209, 0.67817344, 0.67972413,\n",
       "         0.66714322, 0.6733161 , 0.6223484 , 0.67289918, 0.6831291 ,\n",
       "         0.67345612, 0.66709664, 0.68545135, 0.68312265, 0.67659427,\n",
       "         0.67564739, 0.63289373, 0.67174954, 0.60408263, 0.63141805,\n",
       "         0.60480973, 0.67717012, 0.61124243, 0.65828889, 0.66598938,\n",
       "         0.62053278, 0.60563849, 0.67274049, 0.67249011, 0.67561758,\n",
       "         0.67458431, 0.64258399, 0.6492831 , 0.61443954, 0.63330941,\n",
       "         0.66886337, 0.67874786, 0.64787243, 0.66715932, 0.61548279,\n",
       "         0.62979066, 0.66653801, 0.66322219, 0.67774766, 0.61268786,\n",
       "         0.68331236, 0.68191131, 0.603933  , 0.60760583, 0.66953115,\n",
       "         0.66752693, 0.66663924, 0.67310275, 0.67260042, 0.66979399,\n",
       "         0.66283919, 0.66713476, 0.66644218, 0.66633126, 0.60522724,\n",
       "         0.67005005, 0.66662072, 0.68942535, 0.68287193, 0.68281517,\n",
       "         0.67407343, 0.60574811, 0.66783237, 0.63315697, 0.62544688,\n",
       "         0.68211289, 0.68848608, 0.67457936, 0.67012733, 0.66912014,\n",
       "         0.65963695, 0.68702559, 0.6777431 , 0.67350482, 0.6033434 ,\n",
       "         0.60583477, 0.66637933, 0.67639765, 0.67438637, 0.67388507,\n",
       "         0.66829171, 0.67492193, 0.60585849, 0.61905547, 0.66651644,\n",
       "         0.67687922, 0.67371069, 0.66651221, 0.67388916, 0.66563993,\n",
       "         0.67433812, 0.64170593, 0.68011474, 0.68437979, 0.66515573,\n",
       "         0.68424294, 0.6733448 , 0.68306112, 0.66715426, 0.66714026,\n",
       "         0.60472618, 0.6668505 , 0.66752013, 0.67725608, 0.66679879],\n",
       "        [0.66686927, 0.6659834 , 0.65600803, 0.61679673, 0.67353959,\n",
       "         0.63671088, 0.61664211, 0.60810226, 0.67365401, 0.60810639,\n",
       "         0.6665684 , 0.66699562, 0.65656209, 0.67817344, 0.67972413,\n",
       "         0.66714322, 0.6733161 , 0.6223484 , 0.67289918, 0.6831291 ,\n",
       "         0.67345612, 0.66709664, 0.68545135, 0.68312265, 0.67659427,\n",
       "         0.67564739, 0.63289373, 0.67174954, 0.60408263, 0.63141805,\n",
       "         0.60480973, 0.67717012, 0.61124243, 0.65828889, 0.66598938,\n",
       "         0.62053278, 0.60563849, 0.67274049, 0.67249011, 0.67561758,\n",
       "         0.67458431, 0.64258399, 0.6492831 , 0.61443954, 0.63330941,\n",
       "         0.66886337, 0.67874786, 0.64787243, 0.66715932, 0.61548279,\n",
       "         0.62979066, 0.66653801, 0.66322219, 0.67774766, 0.61268786,\n",
       "         0.68331236, 0.68191131, 0.603933  , 0.60760583, 0.66953115,\n",
       "         0.66752693, 0.66663924, 0.67310275, 0.67260042, 0.66979399,\n",
       "         0.66283919, 0.66713476, 0.66644218, 0.66633126, 0.60522724,\n",
       "         0.67005005, 0.66662072, 0.68942535, 0.68287193, 0.68281517,\n",
       "         0.67407343, 0.60574811, 0.66783237, 0.63315697, 0.62544688,\n",
       "         0.68211289, 0.68848608, 0.67457936, 0.67012733, 0.66912014,\n",
       "         0.65963695, 0.68702559, 0.6777431 , 0.67350482, 0.6033434 ,\n",
       "         0.60583477, 0.66637933, 0.67639765, 0.67438637, 0.67388507,\n",
       "         0.66829171, 0.67492193, 0.60585849, 0.61905547, 0.66651644,\n",
       "         0.67687922, 0.67371069, 0.66651221, 0.67388916, 0.66563993,\n",
       "         0.67433812, 0.64170593, 0.68011474, 0.68437979, 0.66515573,\n",
       "         0.68424294, 0.6733448 , 0.68306112, 0.66715426, 0.66714026,\n",
       "         0.60472618, 0.6668505 , 0.66752013, 0.67725608, 0.66679879],\n",
       "        [0.66686927, 0.6659834 , 0.65600803, 0.61679673, 0.67353959,\n",
       "         0.63671088, 0.61664211, 0.60810226, 0.67365401, 0.60810639,\n",
       "         0.6665684 , 0.66699562, 0.65656209, 0.67817344, 0.67972413,\n",
       "         0.66714322, 0.6733161 , 0.6223484 , 0.67289918, 0.6831291 ,\n",
       "         0.67345612, 0.66709664, 0.68545135, 0.68312265, 0.67659427,\n",
       "         0.67564739, 0.63289373, 0.67174954, 0.60408263, 0.63141805,\n",
       "         0.60480973, 0.67717012, 0.61124243, 0.65828889, 0.66598938,\n",
       "         0.62053278, 0.60563849, 0.67274049, 0.67249011, 0.67561758,\n",
       "         0.67458431, 0.64258399, 0.6492831 , 0.61443954, 0.63330941,\n",
       "         0.66886337, 0.67874786, 0.64787243, 0.66715932, 0.61548279,\n",
       "         0.62979066, 0.66653801, 0.66322219, 0.67774766, 0.61268786,\n",
       "         0.68331236, 0.68191131, 0.603933  , 0.60760583, 0.66953115,\n",
       "         0.66752693, 0.66663924, 0.67310275, 0.67260042, 0.66979399,\n",
       "         0.66283919, 0.66713476, 0.66644218, 0.66633126, 0.60522724,\n",
       "         0.67005005, 0.66662072, 0.68942535, 0.68287193, 0.68281517,\n",
       "         0.67407343, 0.60574811, 0.66783237, 0.63315697, 0.62544688,\n",
       "         0.68211289, 0.68848608, 0.67457936, 0.67012733, 0.66912014,\n",
       "         0.65963695, 0.68702559, 0.6777431 , 0.67350482, 0.6033434 ,\n",
       "         0.60583477, 0.66637933, 0.67639765, 0.67438637, 0.67388507,\n",
       "         0.66829171, 0.67492193, 0.60585849, 0.61905547, 0.66651644,\n",
       "         0.67687922, 0.67371069, 0.66651221, 0.67388916, 0.66563993,\n",
       "         0.67433812, 0.64170593, 0.68011474, 0.68437979, 0.66515573,\n",
       "         0.68424294, 0.6733448 , 0.68306112, 0.66715426, 0.66714026,\n",
       "         0.60472618, 0.6668505 , 0.66752013, 0.67725608, 0.66679879],\n",
       "        [0.66686927, 0.6659834 , 0.65600803, 0.61679673, 0.67353959,\n",
       "         0.63671088, 0.61664211, 0.60810226, 0.67365401, 0.60810639,\n",
       "         0.6665684 , 0.66699562, 0.65656209, 0.67817344, 0.67972413,\n",
       "         0.66714322, 0.6733161 , 0.6223484 , 0.67289918, 0.6831291 ,\n",
       "         0.67345612, 0.66709664, 0.68545135, 0.68312265, 0.67659427,\n",
       "         0.67564739, 0.63289373, 0.67174954, 0.60408263, 0.63141805,\n",
       "         0.60480973, 0.67717012, 0.61124243, 0.65828889, 0.66598938,\n",
       "         0.62053278, 0.60563849, 0.67274049, 0.67249011, 0.67561758,\n",
       "         0.67458431, 0.64258399, 0.6492831 , 0.61443954, 0.63330941,\n",
       "         0.66886337, 0.67874786, 0.64787243, 0.66715932, 0.61548279,\n",
       "         0.62979066, 0.66653801, 0.66322219, 0.67774766, 0.61268786,\n",
       "         0.68331236, 0.68191131, 0.603933  , 0.60760583, 0.66953115,\n",
       "         0.66752693, 0.66663924, 0.67310275, 0.67260042, 0.66979399,\n",
       "         0.66283919, 0.66713476, 0.66644218, 0.66633126, 0.60522724,\n",
       "         0.67005005, 0.66662072, 0.68942535, 0.68287193, 0.68281517,\n",
       "         0.67407343, 0.60574811, 0.66783237, 0.63315697, 0.62544688,\n",
       "         0.68211289, 0.68848608, 0.67457936, 0.67012733, 0.66912014,\n",
       "         0.65963695, 0.68702559, 0.6777431 , 0.67350482, 0.6033434 ,\n",
       "         0.60583477, 0.66637933, 0.67639765, 0.67438637, 0.67388507,\n",
       "         0.66829171, 0.67492193, 0.60585849, 0.61905547, 0.66651644,\n",
       "         0.67687922, 0.67371069, 0.66651221, 0.67388916, 0.66563993,\n",
       "         0.67433812, 0.64170593, 0.68011474, 0.68437979, 0.66515573,\n",
       "         0.68424294, 0.6733448 , 0.68306112, 0.66715426, 0.66714026,\n",
       "         0.60472618, 0.6668505 , 0.66752013, 0.67725608, 0.66679879],\n",
       "        [0.66686927, 0.6659834 , 0.65600803, 0.61679673, 0.67353959,\n",
       "         0.63671088, 0.61664211, 0.60810226, 0.67365401, 0.60810639,\n",
       "         0.6665684 , 0.66699562, 0.65656209, 0.67817344, 0.67972413,\n",
       "         0.66714322, 0.6733161 , 0.6223484 , 0.67289918, 0.6831291 ,\n",
       "         0.67345612, 0.66709664, 0.68545135, 0.68312265, 0.67659427,\n",
       "         0.67564739, 0.63289373, 0.67174954, 0.60408263, 0.63141805,\n",
       "         0.60480973, 0.67717012, 0.61124243, 0.65828889, 0.66598938,\n",
       "         0.62053278, 0.60563849, 0.67274049, 0.67249011, 0.67561758,\n",
       "         0.67458431, 0.64258399, 0.6492831 , 0.61443954, 0.63330941,\n",
       "         0.66886337, 0.67874786, 0.64787243, 0.66715932, 0.61548279,\n",
       "         0.62979066, 0.66653801, 0.66322219, 0.67774766, 0.61268786,\n",
       "         0.68331236, 0.68191131, 0.603933  , 0.60760583, 0.66953115,\n",
       "         0.66752693, 0.66663924, 0.67310275, 0.67260042, 0.66979399,\n",
       "         0.66283919, 0.66713476, 0.66644218, 0.66633126, 0.60522724,\n",
       "         0.67005005, 0.66662072, 0.68942535, 0.68287193, 0.68281517,\n",
       "         0.67407343, 0.60574811, 0.66783237, 0.63315697, 0.62544688,\n",
       "         0.68211289, 0.68848608, 0.67457936, 0.67012733, 0.66912014,\n",
       "         0.65963695, 0.68702559, 0.6777431 , 0.67350482, 0.6033434 ,\n",
       "         0.60583477, 0.66637933, 0.67639765, 0.67438637, 0.67388507,\n",
       "         0.66829171, 0.67492193, 0.60585849, 0.61905547, 0.66651644,\n",
       "         0.67687922, 0.67371069, 0.66651221, 0.67388916, 0.66563993,\n",
       "         0.67433812, 0.64170593, 0.68011474, 0.68437979, 0.66515573,\n",
       "         0.68424294, 0.6733448 , 0.68306112, 0.66715426, 0.66714026,\n",
       "         0.60472618, 0.6668505 , 0.66752013, 0.67725608, 0.66679879]])]"
      ]
     },
     "execution_count": 82,
     "metadata": {},
     "output_type": "execute_result"
    }
   ],
   "source": [
    "out = cca.train([D1.T,D2.T],parallel=True)\n",
    "out.compute_ev([D1.T])"
   ]
  },
  {
   "cell_type": "code",
   "execution_count": 65,
   "metadata": {},
   "outputs": [],
   "source": [
    "\"\"\"Python module for regularized kernel canonical correlation analysis\"\"\"\n",
    "\n",
    "import h5py\n",
    "import joblib\n",
    "import numpy as np\n",
    "from scipy.linalg import eigh\n",
    "\n",
    "__copyright__ = \"Copyright 2016, UC Berkeley, Gallant lab.\"\n",
    "\n",
    "__all__ = [\"CCA\", \"CCACrossValidate\"]\n",
    "\n",
    "\n",
    "class _CCABase(object):\n",
    "    def __init__(\n",
    "            self,\n",
    "            numCV=None,\n",
    "            reg=None,\n",
    "            regs=None,\n",
    "            numCC=None,\n",
    "            numCCs=None,\n",
    "            kernelcca=True,\n",
    "            ktype=None,\n",
    "            verbose=False,\n",
    "            select=0.2,\n",
    "            cutoff=1e-15,\n",
    "            gausigma=1.0,\n",
    "            degree=2,\n",
    "    ):\n",
    "        self.numCV = numCV\n",
    "        self.reg = reg\n",
    "        self.regs = regs\n",
    "        self.numCC = numCC\n",
    "        self.numCCs = numCCs\n",
    "        self.kernelcca = kernelcca\n",
    "        self.ktype = ktype\n",
    "        self.cutoff = cutoff\n",
    "        self.select = select\n",
    "        self.gausigma = gausigma\n",
    "        self.degree = degree\n",
    "        if self.kernelcca and self.ktype is None:\n",
    "            self.ktype = \"linear\"\n",
    "        self.verbose = verbose\n",
    "\n",
    "    def train(self, data):\n",
    "        if self.verbose:\n",
    "            print(\n",
    "                \"Training CCA, kernel = %s, regularization = %0.4f, \"\n",
    "                \"%d components\" % (self.ktype, self.reg, self.numCC)\n",
    "            )\n",
    "\n",
    "        comps = kcca(\n",
    "            data,\n",
    "            self.reg,\n",
    "            self.numCC,\n",
    "            kernelcca=self.kernelcca,\n",
    "            ktype=self.ktype,\n",
    "            gausigma=self.gausigma,\n",
    "            degree=self.degree,\n",
    "        )\n",
    "        self.cancorrs, self.ws, self.comps = recon(\n",
    "            data, comps, kernelcca=self.kernelcca\n",
    "        )\n",
    "        if len(data) == 2:\n",
    "            self.cancorrs = self.cancorrs[np.nonzero(self.cancorrs)]\n",
    "        return self\n",
    "\n",
    "    def validate(self, vdata):\n",
    "        vdata = [np.nan_to_num(_zscore(d)) for d in vdata]\n",
    "        if not hasattr(self, \"ws\"):\n",
    "            raise NameError(\"Algorithm has not been trained.\")\n",
    "        self.preds, self.corrs = predict(vdata, self.ws, self.cutoff)\n",
    "        return self.corrs\n",
    "\n",
    "    def compute_ev(self, vdata):\n",
    "        nD = len(vdata)\n",
    "        nC = self.ws[0].shape[1]\n",
    "        nF = [d.shape[1] for d in vdata]\n",
    "        self.ev = [np.zeros((nC, f)) for f in nF]\n",
    "        for cc in range(nC):\n",
    "            ccs = cc + 1\n",
    "            if self.verbose:\n",
    "                print(\"Computing explained variance for component #%d\" % ccs)\n",
    "            preds, corrs = predict(\n",
    "                vdata, [w[:, ccs - 1: ccs] for w in self.ws], self.cutoff\n",
    "            )\n",
    "            resids = [abs(d[0] - d[1]) for d in zip(vdata, preds)]\n",
    "            for s in range(nD):\n",
    "                ev = abs(vdata[s].var(0) - resids[s].var(0)) / vdata[s].var(0)\n",
    "                ev[np.isnan(ev)] = 0.0\n",
    "                self.ev[s][cc] = ev\n",
    "        return self.ev\n",
    "\n",
    "    def save(self, filename):\n",
    "        h5 = h5py.File(filename, \"a\")\n",
    "        for key, value in self.__dict__.items():\n",
    "            if value is not None:\n",
    "                if isinstance(value, list):\n",
    "                    for di in range(len(value)):\n",
    "                        grpname = \"dataset%d\" % di\n",
    "                        dgrp = h5.require_group(grpname)\n",
    "                        try:\n",
    "                            dgrp.create_dataset(key, data=value[di])\n",
    "                        except RuntimeError:\n",
    "                            del h5[grpname][key]\n",
    "                            dgrp.create_dataset(key, data=value[di])\n",
    "                else:\n",
    "                    h5.attrs[key] = value\n",
    "        h5.close()\n",
    "\n",
    "    def load(self, filename):\n",
    "        h5 = h5py.File(filename, 'r')\n",
    "        for key, value in h5.attrs.items():\n",
    "            setattr(self, key, value)\n",
    "        for di in range(len(h5.keys())):\n",
    "            ds = \"dataset%d\" % di\n",
    "            for key, value in h5[ds].items():\n",
    "                if di == 0:\n",
    "                    setattr(self, key, [])\n",
    "                self.__getattribute__(key).append(value[()])\n",
    "        h5.close()\n",
    "\n",
    "\n",
    "class CCACrossValidate(_CCABase):\n",
    "    \"\"\"\n",
    "    Attributes:\n",
    "        numCV (int): number of cross-validation folds\n",
    "        regs (list or numpy.array): regularization param array.\n",
    "                                   Default: np.logspace(-3, 1, 10)\n",
    "        numCCs (list or numpy.array): list of numbers of canonical dimensions\n",
    "                                     to keep. Default is np.range(5, 10).\n",
    "        kernelcca (bool): kernel or non-kernel CCA. Default is True.\n",
    "        ktype (string): type of kernel used if kernelcca is True.\n",
    "                        Value can be 'linear' (default) or 'gaussian'.\n",
    "        verbose (bool): default is True.\n",
    "    Returns:\n",
    "        ws (list): canonical weights\n",
    "        comps (list): canonical components\n",
    "        cancorrs (list): correlations of the canonical components\n",
    "                         on the training dataset\n",
    "        corrs (list): correlations on the validation dataset\n",
    "        preds (list): predictions on the validation dataset\n",
    "        ev (list): explained variance for each canonical dimension\n",
    "    \"\"\"\n",
    "\n",
    "    def __init__(\n",
    "            self,\n",
    "            numCV=None,\n",
    "            regs=None,\n",
    "            numCCs=None,\n",
    "            kernelcca=True,\n",
    "            ktype=None,\n",
    "            verbose=True,\n",
    "            select=0.2,\n",
    "            cutoff=1e-15,\n",
    "            gausigma=1.0,\n",
    "            degree=2,\n",
    "    ):\n",
    "        numCV = 10 if numCV is None else numCV\n",
    "        regs = np.array(np.logspace(-3, 1, 10)) if regs is None else regs\n",
    "        numCCs = np.arange(5, 10) if numCCs is None else numCCs\n",
    "        super(CCACrossValidate, self).__init__(\n",
    "            numCV=numCV,\n",
    "            regs=regs,\n",
    "            numCCs=numCCs,\n",
    "            kernelcca=kernelcca,\n",
    "            ktype=ktype,\n",
    "            verbose=verbose,\n",
    "            select=select,\n",
    "            cutoff=cutoff,\n",
    "            gausigma=gausigma,\n",
    "            degree=degree,\n",
    "        )\n",
    "\n",
    "    def train(self, data, parallel=True):\n",
    "        \"\"\"\n",
    "        Train CCA with cross-validation for a set of regularization\n",
    "        coefficients and/or numbers of CCs\n",
    "        Attributes:\n",
    "            data (list): training data matrices\n",
    "                         (number of samples X number of features).\n",
    "                         Number of samples must match across datasets.\n",
    "            parallel (bool): use joblib to train cross-validation folds\n",
    "                             in parallel\n",
    "        \"\"\"\n",
    "        corr_mat = np.zeros((len(self.regs), len(self.numCCs)))\n",
    "        selection = max(int(self.select * min([d.shape[1] for d in data])), 1)\n",
    "        for ri, reg in enumerate(self.regs):\n",
    "            for ci, numCC in enumerate(self.numCCs):\n",
    "                running_corr_mean_sum = 0.0\n",
    "                if parallel:\n",
    "                    fold_corr_means = joblib.Parallel(n_jobs=self.numCV)(\n",
    "                        joblib.delayed(train_cvfold)(\n",
    "                            data=data,\n",
    "                            reg=reg,\n",
    "                            numCC=numCC,\n",
    "                            kernelcca=self.kernelcca,\n",
    "                            ktype=self.ktype,\n",
    "                            gausigma=self.gausigma,\n",
    "                            degree=self.degree,\n",
    "                            cutoff=self.cutoff,\n",
    "                            selection=selection,\n",
    "                        )\n",
    "                        for _ in range(self.numCV)\n",
    "                    )\n",
    "                    running_corr_mean_sum += sum(fold_corr_means)\n",
    "                else:\n",
    "                    for cvfold in range(self.numCV):\n",
    "                        fold_corr_mean = train_cvfold(\n",
    "                            data=data,\n",
    "                            reg=reg,\n",
    "                            numCC=numCC,\n",
    "                            kernelcca=self.kernelcca,\n",
    "                            ktype=self.ktype,\n",
    "                            gausigma=self.gausigma,\n",
    "                            degree=self.degree,\n",
    "                            cutoff=self.cutoff,\n",
    "                            selection=selection,\n",
    "                        )\n",
    "                        running_corr_mean_sum += fold_corr_mean\n",
    "\n",
    "                corr_mat[ri, ci] = running_corr_mean_sum / self.numCV\n",
    "        best_ri, best_ci = np.where(corr_mat == corr_mat.max())\n",
    "        self.best_reg = self.regs[best_ri[0]]\n",
    "        self.best_numCC = self.numCCs[best_ci[0]]\n",
    "\n",
    "        comps = kcca(\n",
    "            data,\n",
    "            self.best_reg,\n",
    "            self.best_numCC,\n",
    "            kernelcca=self.kernelcca,\n",
    "            ktype=self.ktype,\n",
    "            gausigma=self.gausigma,\n",
    "            degree=self.degree,\n",
    "        )\n",
    "        self.cancorrs, self.ws, self.comps = recon(\n",
    "            data, comps, kernelcca=self.kernelcca\n",
    "        )\n",
    "        if len(data) == 2:\n",
    "            self.cancorrs = self.cancorrs[np.nonzero(self.cancorrs)]\n",
    "        return self\n",
    "\n",
    "\n",
    "def train_cvfold(\n",
    "        data, reg, numCC, kernelcca, ktype, gausigma, degree, cutoff, selection\n",
    "):\n",
    "    \"\"\"\n",
    "    Train a cross-validation fold of CCA\n",
    "    \"\"\"\n",
    "    nT = data[0].shape[0]\n",
    "    chunklen = 10 if nT > 50 else 1\n",
    "    nchunks = int(0.2 * nT / chunklen)\n",
    "    indchunks = list(zip(*[iter(range(nT))] * chunklen))\n",
    "    np.random.shuffle(indchunks)\n",
    "    heldinds = [ind for chunk in indchunks[:nchunks] for ind in chunk]\n",
    "    notheldinds = list(set(range(nT)) - set(heldinds))\n",
    "    comps = kcca(\n",
    "        [d[notheldinds] for d in data],\n",
    "        reg,\n",
    "        numCC,\n",
    "        kernelcca=kernelcca,\n",
    "        ktype=ktype,\n",
    "        gausigma=gausigma,\n",
    "        degree=degree,\n",
    "    )\n",
    "    cancorrs, ws, ccomps = recon(\n",
    "        [d[notheldinds] for d in data], comps, kernelcca=kernelcca\n",
    "    )\n",
    "    preds, corrs = predict([d[heldinds] for d in data], ws, cutoff=cutoff)\n",
    "    fold_corr_mean = []\n",
    "    for corr in corrs:\n",
    "        corr_idx = np.argsort(corr)[::-1]\n",
    "        corr_mean = corr[corr_idx][:selection].mean()\n",
    "        fold_corr_mean.append(corr_mean)\n",
    "    return np.mean(fold_corr_mean)\n",
    "\n",
    "\n",
    "class CCA(_CCABase):\n",
    "    \"\"\"Attributes:\n",
    "        reg (float): regularization parameter. Default is 0.1.\n",
    "        numCC (int): number of canonical dimensions to keep. Default is 10.\n",
    "        kernelcca (bool): kernel or non-kernel CCA. Default is True.\n",
    "        ktype (string): type of kernel used if kernelcca is True.\n",
    "                        Value can be 'linear' (default) or 'gaussian'.\n",
    "        verbose (bool): default is True.\n",
    "    Returns:\n",
    "        ws (list): canonical weights\n",
    "        comps (list): canonical components\n",
    "        cancorrs (list): correlations of the canonical components\n",
    "                         on the training dataset\n",
    "        corrs (list): correlations on the validation dataset\n",
    "        preds (list): predictions on the validation dataset\n",
    "        ev (list): explained variance for each canonical dimension\n",
    "    \"\"\"\n",
    "\n",
    "    def __init__(\n",
    "            self, reg=0.0, numCC=10, kernelcca=True, ktype=None, verbose=True, cutoff=1e-15\n",
    "    ):\n",
    "        super(CCA, self).__init__(\n",
    "            reg=reg,\n",
    "            numCC=numCC,\n",
    "            kernelcca=kernelcca,\n",
    "            ktype=ktype,\n",
    "            verbose=verbose,\n",
    "            cutoff=cutoff,\n",
    "        )\n",
    "\n",
    "    def train(self, data):\n",
    "        return super(CCA, self).train(data)\n",
    "\n",
    "\n",
    "def predict(vdata, ws, cutoff=1e-15):\n",
    "    \"\"\"Get predictions for each dataset based on the other datasets\n",
    "    and weights. Find correlations with actual dataset.\"\"\"\n",
    "    iws = [np.linalg.pinv(w.T, rcond=cutoff) for w in ws]\n",
    "    ccomp = _listdot([d.T for d in vdata], ws)\n",
    "    ccomp = np.array(ccomp)\n",
    "    preds = []\n",
    "    corrs = []\n",
    "\n",
    "    for dnum in range(len(vdata)):\n",
    "        idx = np.ones((len(vdata),))\n",
    "        idx[dnum] = False\n",
    "        proj = ccomp[idx > 0].mean(0)\n",
    "        pred = np.dot(iws[dnum], proj.T).T\n",
    "        pred = np.nan_to_num(_zscore(pred))\n",
    "        preds.append(pred)\n",
    "        cs = np.nan_to_num(_rowcorr(vdata[dnum].T, pred.T))\n",
    "        corrs.append(cs)\n",
    "    return preds, corrs\n",
    "\n",
    "\n",
    "def kcca(\n",
    "        data, reg=0.0, numCC=None, kernelcca=True, ktype=\"linear\", gausigma=1.0, degree=2\n",
    "):\n",
    "    \"\"\"Set up and solve the kernel CCA eigenproblem\"\"\"\n",
    "    if kernelcca:\n",
    "        kernel = [\n",
    "            _make_kernel(d, ktype=ktype, gausigma=gausigma, degree=degree) for d in data\n",
    "        ]\n",
    "    else:\n",
    "        kernel = [d.T for d in data]\n",
    "\n",
    "    nDs = len(kernel)\n",
    "    nFs = [k.shape[0] for k in kernel]\n",
    "    numCC = min([k.shape[0] for k in kernel]) if numCC is None else numCC\n",
    "\n",
    "    # Get the auto- and cross-covariance matrices\n",
    "    crosscovs = [np.dot(ki, kj.T) for ki in kernel for kj in kernel]\n",
    "\n",
    "    # Allocate left-hand side (LH) and right-hand side (RH):\n",
    "    n = sum(nFs)\n",
    "    LH = np.zeros((n, n))\n",
    "    RH = np.zeros((n, n))\n",
    "\n",
    "    # Fill the left and right sides of the eigenvalue problem\n",
    "    for i in range(nDs):\n",
    "        RH[\n",
    "        sum(nFs[:i]): sum(nFs[: i + 1]), sum(nFs[:i]): sum(nFs[: i + 1])\n",
    "        ] = crosscovs[i * (nDs + 1)] + reg * np.eye(nFs[i])\n",
    "\n",
    "        for j in range(nDs):\n",
    "            if i != j:\n",
    "                LH[\n",
    "                sum(nFs[:j]): sum(nFs[: j + 1]), sum(nFs[:i]): sum(nFs[: i + 1])\n",
    "                ] = crosscovs[nDs * j + i]\n",
    "\n",
    "    LH = (LH + LH.T) / 2.0\n",
    "    RH = (RH + RH.T) / 2.0\n",
    "\n",
    "    maxCC = LH.shape[0]\n",
    "    r, Vs = eigh(LH, RH, eigvals=(maxCC - numCC, maxCC - 1))\n",
    "    r[np.isnan(r)] = 0\n",
    "    rindex = np.argsort(r)[::-1]\n",
    "    comp = []\n",
    "    Vs = Vs[:, rindex]\n",
    "    for i in range(nDs):\n",
    "        comp.append(Vs[sum(nFs[:i]): sum(nFs[: i + 1]), :numCC])\n",
    "    return comp\n",
    "\n",
    "\n",
    "def recon(data, comp, corronly=False, kernelcca=True):\n",
    "    # Get canonical variates and CCs\n",
    "    if kernelcca:\n",
    "        ws = _listdot(data, comp)\n",
    "    else:\n",
    "        ws = comp\n",
    "    ccomp = _listdot([d.T for d in data], ws)\n",
    "    corrs = _listcorr(ccomp)\n",
    "    if corronly:\n",
    "        return corrs\n",
    "    else:\n",
    "        return corrs, ws, ccomp\n",
    "\n",
    "\n",
    "def _zscore(d):\n",
    "    return (d - d.mean(0)) / d.std(0)\n",
    "\n",
    "\n",
    "def _demean(d):\n",
    "    return d - d.mean(0)\n",
    "\n",
    "\n",
    "def _listdot(d1, d2):\n",
    "    return [np.dot(x[0].T, x[1]) for x in zip(d1, d2)]\n",
    "\n",
    "\n",
    "def _listcorr(a):\n",
    "    \"\"\"Returns pairwise row correlations for all items in array as a list of matrices\"\"\"\n",
    "    corrs = np.zeros((a[0].shape[1], len(a), len(a)))\n",
    "    for i in range(len(a)):\n",
    "        for j in range(len(a)):\n",
    "            if j > i:\n",
    "                corrs[:, i, j] = [\n",
    "                    np.nan_to_num(np.corrcoef(ai, aj)[0, 1])\n",
    "                    for (ai, aj) in zip(a[i].T, a[j].T)\n",
    "                ]\n",
    "    return corrs\n",
    "\n",
    "\n",
    "def _rowcorr(a, b):\n",
    "    \"\"\"Correlations between corresponding matrix rows\"\"\"\n",
    "    cs = np.zeros((a.shape[0]))\n",
    "    for idx in range(a.shape[0]):\n",
    "        cs[idx] = np.corrcoef(a[idx], b[idx])[0, 1]\n",
    "    return cs\n",
    "\n",
    "\n",
    "def _make_kernel(d, normalize=True, ktype=\"linear\", gausigma=1.0, degree=2):\n",
    "    \"\"\"Makes a kernel for data d\n",
    "    If ktype is 'linear', the kernel is a linear inner product\n",
    "    If ktype is 'gaussian', the kernel is a Gaussian kernel, sigma = gausigma\n",
    "    If ktype is 'poly', the kernel is a polynomial kernel with degree=degree\n",
    "    \"\"\"\n",
    "    d = np.nan_to_num(d)\n",
    "    cd = _demean(d)\n",
    "    if ktype == \"linear\":\n",
    "        kernel = np.dot(cd, cd.T)\n",
    "    elif ktype == \"gaussian\":\n",
    "        from scipy.spatial.distance import pdist, squareform\n",
    "\n",
    "        pairwise_dists = squareform(pdist(d, \"euclidean\"))\n",
    "        kernel = np.exp((-(pairwise_dists ** 2)) / (2 * gausigma ** 2))\n",
    "    elif ktype == \"poly\":\n",
    "        kernel = np.dot(cd, cd.T) ** degree\n",
    "    kernel = (kernel + kernel.T) / 2.0\n",
    "    if normalize:\n",
    "        kernel = kernel / np.linalg.eigvalsh(kernel).max()\n",
    "    return kernel\n"
   ]
  },
  {
   "cell_type": "code",
   "execution_count": null,
   "metadata": {},
   "outputs": [],
   "source": []
  }
 ],
 "metadata": {
  "kernelspec": {
   "display_name": "Python 3",
   "language": "python",
   "name": "python3"
  },
  "language_info": {
   "codemirror_mode": {
    "name": "ipython",
    "version": 3
   },
   "file_extension": ".py",
   "mimetype": "text/x-python",
   "name": "python",
   "nbconvert_exporter": "python",
   "pygments_lexer": "ipython3",
   "version": "3.7.4"
  }
 },
 "nbformat": 4,
 "nbformat_minor": 2
}
