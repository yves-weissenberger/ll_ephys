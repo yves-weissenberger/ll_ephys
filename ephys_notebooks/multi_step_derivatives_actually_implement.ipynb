{
 "cells": [
  {
   "cell_type": "markdown",
   "metadata": {},
   "source": [
    "# Plan\n",
    "\n",
    "\n",
    "\n",
    "\n",
    "1. Get gradients on transition matrix for n-steps\n",
    "2. Figure out what to multiply a vector by to obtain skew-symmetric matrix - [x] \n",
    "    -1. A~\n",
    "3. Use caley transform to generate a unitary matrix - [x] \n",
    "4. Run whole thing through jax to get PI representation"
   ]
  },
  {
   "cell_type": "code",
   "execution_count": null,
   "metadata": {},
   "outputs": [],
   "source": []
  },
  {
   "cell_type": "code",
   "execution_count": 1,
   "metadata": {},
   "outputs": [
    {
     "name": "stderr",
     "output_type": "stream",
     "text": [
      "/Users/yves/opt/anaconda3/lib/python3.7/site-packages/statsmodels/tools/_testing.py:19: FutureWarning: pandas.util.testing is deprecated. Use the functions in the public API at pandas.testing instead.\n",
      "  import pandas.util.testing as tm\n"
     ]
    }
   ],
   "source": [
    "%matplotlib inline\n",
    "\n",
    "import numpy as np\n",
    "import matplotlib.pyplot as plt\n",
    "import seaborn\n",
    "import scipy.optimize as op\n",
    "from functools import partial\n",
    "seaborn.set(font_scale=1.5,style='ticks')"
   ]
  },
  {
   "cell_type": "markdown",
   "metadata": {},
   "source": [
    "# Run with jax"
   ]
  },
  {
   "cell_type": "code",
   "execution_count": 2,
   "metadata": {},
   "outputs": [],
   "source": [
    "dim = 4\n",
    "nT = 9\n",
    "x0 = np.random.normal(size=(dim,1))\n",
    "A_ = np.random.normal(size=(dim,dim))\n",
    "\n",
    "A = np.zeros([dim,dim])\n",
    "\n",
    "for i in range(dim):\n",
    "    A[i,i:] = A_[i:,i]\n",
    "    A[i:,i] = -A_[i:,i]\n",
    "    \n",
    "A[np.diag_indices_from(A)] = 0\n",
    "A = (np.eye(dim)-A)@np.linalg.inv(np.eye(dim)+A)\n",
    "\n",
    "x = np.array([np.linalg.matrix_power(A,i)@x0 for i in range(9)])"
   ]
  },
  {
   "cell_type": "code",
   "execution_count": 3,
   "metadata": {},
   "outputs": [],
   "source": [
    "#plt.plot(x[:,1])\n",
    "#plt.yscale('symlog')"
   ]
  },
  {
   "cell_type": "code",
   "execution_count": 4,
   "metadata": {},
   "outputs": [],
   "source": [
    "Ahat = np.random.normal(size=(dim,dim))\n"
   ]
  },
  {
   "cell_type": "code",
   "execution_count": 5,
   "metadata": {},
   "outputs": [],
   "source": [
    "import jax.numpy as jnp\n",
    "from jax import grad, jit, vmap\n",
    "from jax import random\n"
   ]
  },
  {
   "cell_type": "code",
   "execution_count": 6,
   "metadata": {},
   "outputs": [],
   "source": [
    "def predict(Ahat,x,y,n,dim):\n",
    "    Ahat = jnp.reshape(Ahat,(dim,dim))\n",
    "    return jnp.sum((jnp.dot(jnp.linalg.matrix_power(Ahat,n),x)-y)**2)\n",
    "\n",
    "\n",
    "predict_funs = [partial(predict,n=i,dim=dim) for i in range(9)]\n",
    "grad_predict_funs = [grad(i) for i in predict_funs]"
   ]
  },
  {
   "cell_type": "code",
   "execution_count": 7,
   "metadata": {},
   "outputs": [],
   "source": [
    "def get_basis_tensor(dim):\n",
    "    \"\"\" Returns a tensor that forms a basis for skew symmetric matrices.\n",
    "        Use np.einsum('i...,i...',params,basis_tensor) to construct this\n",
    "        matrix\n",
    "    \"\"\"\n",
    "    basis_tensor = []\n",
    "    for i in range(dim):\n",
    "        for j in range(i+1,dim):\n",
    "            bi =  np.zeros([dim,dim])\n",
    "            bi[i,j] = -1\n",
    "            bi = bi -bi.T\n",
    "            basis_tensor.append(bi.T)\n",
    "    basis_tensor = np.array(basis_tensor)\n",
    "    return np.asarray(basis_tensor)\n"
   ]
  },
  {
   "cell_type": "code",
   "execution_count": 8,
   "metadata": {},
   "outputs": [],
   "source": [
    "basis_tensor = get_basis_tensor(dim)\n",
    "n_bases = basis_tensor.shape[0]"
   ]
  },
  {
   "cell_type": "code",
   "execution_count": 9,
   "metadata": {},
   "outputs": [
    {
     "ename": "NameError",
     "evalue": "name 'construct_M' is not defined",
     "output_type": "error",
     "traceback": [
      "\u001b[0;31m---------------------------------------------------------------------------\u001b[0m",
      "\u001b[0;31mNameError\u001b[0m                                 Traceback (most recent call last)",
      "\u001b[0;32m<ipython-input-9-bd5fd3e0c03b>\u001b[0m in \u001b[0;36m<module>\u001b[0;34m\u001b[0m\n\u001b[1;32m      1\u001b[0m \u001b[0mv\u001b[0m \u001b[0;34m=\u001b[0m \u001b[0mnp\u001b[0m\u001b[0;34m.\u001b[0m\u001b[0mabs\u001b[0m\u001b[0;34m(\u001b[0m\u001b[0mnp\u001b[0m\u001b[0;34m.\u001b[0m\u001b[0mrandom\u001b[0m\u001b[0;34m.\u001b[0m\u001b[0mnormal\u001b[0m\u001b[0;34m(\u001b[0m\u001b[0msize\u001b[0m\u001b[0;34m=\u001b[0m\u001b[0;34m(\u001b[0m\u001b[0mn_bases\u001b[0m\u001b[0;34m,\u001b[0m\u001b[0;36m1\u001b[0m\u001b[0;34m)\u001b[0m\u001b[0;34m)\u001b[0m\u001b[0;34m)\u001b[0m\u001b[0;34m\u001b[0m\u001b[0;34m\u001b[0m\u001b[0m\n\u001b[1;32m      2\u001b[0m \u001b[0mskewM\u001b[0m \u001b[0;34m=\u001b[0m \u001b[0mnp\u001b[0m\u001b[0;34m.\u001b[0m\u001b[0meinsum\u001b[0m\u001b[0;34m(\u001b[0m\u001b[0;34m'i...,i...'\u001b[0m\u001b[0;34m,\u001b[0m\u001b[0mv\u001b[0m\u001b[0;34m,\u001b[0m\u001b[0mbasis_tensor\u001b[0m\u001b[0;34m)\u001b[0m\u001b[0;34m\u001b[0m\u001b[0;34m\u001b[0m\u001b[0m\n\u001b[0;32m----> 3\u001b[0;31m \u001b[0mM\u001b[0m \u001b[0;34m=\u001b[0m \u001b[0mconstruct_M\u001b[0m\u001b[0;34m(\u001b[0m\u001b[0mskewM\u001b[0m\u001b[0;34m,\u001b[0m\u001b[0mdim\u001b[0m\u001b[0;34m)\u001b[0m\u001b[0;34m\u001b[0m\u001b[0;34m\u001b[0m\u001b[0m\n\u001b[0m",
      "\u001b[0;31mNameError\u001b[0m: name 'construct_M' is not defined"
     ]
    }
   ],
   "source": [
    "v = np.abs(np.random.normal(size=(n_bases,1)))\n",
    "skewM = np.einsum('i...,i...',v,basis_tensor)\n",
    "M = construct_M(skewM,dim)"
   ]
  },
  {
   "cell_type": "code",
   "execution_count": 10,
   "metadata": {},
   "outputs": [
    {
     "ename": "NameError",
     "evalue": "name 'construct_M' is not defined",
     "output_type": "error",
     "traceback": [
      "\u001b[0;31m---------------------------------------------------------------------------\u001b[0m",
      "\u001b[0;31mNameError\u001b[0m                                 Traceback (most recent call last)",
      "\u001b[0;32m<ipython-input-10-162bc22bc5ba>\u001b[0m in \u001b[0;36m<module>\u001b[0;34m\u001b[0m\n\u001b[0;32m----> 1\u001b[0;31m \u001b[0mM\u001b[0m \u001b[0;34m=\u001b[0m \u001b[0mconstruct_M\u001b[0m\u001b[0;34m(\u001b[0m\u001b[0mskewM\u001b[0m\u001b[0;34m,\u001b[0m\u001b[0mdim\u001b[0m\u001b[0;34m)\u001b[0m\u001b[0;34m\u001b[0m\u001b[0;34m\u001b[0m\u001b[0m\n\u001b[0m",
      "\u001b[0;31mNameError\u001b[0m: name 'construct_M' is not defined"
     ]
    }
   ],
   "source": [
    "M = construct_M(skewM,dim)"
   ]
  },
  {
   "cell_type": "code",
   "execution_count": 11,
   "metadata": {},
   "outputs": [
    {
     "ename": "NameError",
     "evalue": "name 'M' is not defined",
     "output_type": "error",
     "traceback": [
      "\u001b[0;31m---------------------------------------------------------------------------\u001b[0m",
      "\u001b[0;31mNameError\u001b[0m                                 Traceback (most recent call last)",
      "\u001b[0;32m<ipython-input-11-ab86cfeea529>\u001b[0m in \u001b[0;36m<module>\u001b[0;34m\u001b[0m\n\u001b[0;32m----> 1\u001b[0;31m \u001b[0mnp\u001b[0m\u001b[0;34m.\u001b[0m\u001b[0mlinalg\u001b[0m\u001b[0;34m.\u001b[0m\u001b[0mnorm\u001b[0m\u001b[0;34m(\u001b[0m\u001b[0mM\u001b[0m\u001b[0;34m,\u001b[0m\u001b[0maxis\u001b[0m\u001b[0;34m=\u001b[0m\u001b[0;36m0\u001b[0m\u001b[0;34m)\u001b[0m\u001b[0;34m\u001b[0m\u001b[0;34m\u001b[0m\u001b[0m\n\u001b[0m",
      "\u001b[0;31mNameError\u001b[0m: name 'M' is not defined"
     ]
    }
   ],
   "source": [
    "np.linalg.norm(M,axis=0)"
   ]
  },
  {
   "cell_type": "code",
   "execution_count": 12,
   "metadata": {},
   "outputs": [],
   "source": [
    "def construct_M(skewM,dim):\n",
    "    \"\"\" Perform Caley transform\"\"\"\n",
    "    return (np.eye(dim) - skewM)@np.linalg.inv(np.eye(dim)+skewM)"
   ]
  },
  {
   "cell_type": "code",
   "execution_count": 13,
   "metadata": {},
   "outputs": [],
   "source": [
    "def predict_all(Ahat,x,predict_funs,grad_predict_funs,dim):\n",
    "    Ahat = Ahat.reshape(dim,dim)\n",
    "    #print(Ahat.shape)\n",
    "    err = 0\n",
    "    nT = len(x)\n",
    "    k = 0\n",
    "    for start_state in range(nT):\n",
    "        for pred_state in range(start_state+1,nT-start_state):\n",
    "            n_fwd = pred_state-start_state \n",
    "            err += predict_funs[n_fwd](Ahat,x[start_state],x[pred_state])\n",
    "            k += 1\n",
    "    return err/k\n",
    "\n",
    "\n",
    "def predict_all_grad(Ahat,x,predict_funs,grad_predict_funs,dim):\n",
    "    \n",
    "    #n_ = len(Ahat.flatten())\n",
    "    Ahat = Ahat.reshape(dim,dim)\n",
    "    J = np.zeros(Ahat.shape)\n",
    "    #print(J.shape)\n",
    "    nT = len(x)\n",
    "    k = 0\n",
    "    for start_state in range(nT):\n",
    "        for pred_state in range(start_state+1,nT):\n",
    "            n_fwd =  pred_state-start_state \n",
    "            #print(n_fwd,J.shape,)\n",
    "            #print(start_state,pred_state,n_fwd)\n",
    "            J = J + grad_predict_funs[n_fwd](Ahat,x[start_state],x[pred_state])\n",
    "            k+= 1\n",
    "    #J = J/k\n",
    "    return J.flatten()\n",
    "    "
   ]
  },
  {
   "cell_type": "code",
   "execution_count": 14,
   "metadata": {},
   "outputs": [
    {
     "name": "stderr",
     "output_type": "stream",
     "text": [
      "WARNING:absl:No GPU/TPU found, falling back to CPU. (Set TF_CPP_MIN_LOG_LEVEL=0 and rerun for more info.)\n"
     ]
    },
    {
     "data": {
      "text/plain": [
       "DeviceArray(3.608225e-15, dtype=float32)"
      ]
     },
     "execution_count": 14,
     "metadata": {},
     "output_type": "execute_result"
    }
   ],
   "source": [
    "predict_funs[1](A,x[0],x[1])"
   ]
  },
  {
   "cell_type": "code",
   "execution_count": 15,
   "metadata": {},
   "outputs": [
    {
     "data": {
      "text/plain": [
       "6.0"
      ]
     },
     "execution_count": 15,
     "metadata": {},
     "output_type": "execute_result"
    }
   ],
   "source": [
    "dim*(dim-1)/2"
   ]
  },
  {
   "cell_type": "code",
   "execution_count": 16,
   "metadata": {},
   "outputs": [
    {
     "data": {
      "text/plain": [
       "array([-893437.5,  578125. , -317812.5, -604062.5, 1031875. , -685000. ,\n",
       "        341250. ,  708437.5,  223750. , -112500. ,  124062.5,  135000. ,\n",
       "       -920937.5,  610312.5, -284687.5, -630000. ])"
      ]
     },
     "execution_count": 16,
     "metadata": {},
     "output_type": "execute_result"
    }
   ],
   "source": [
    "#%%timeit\n",
    "op.approx_fprime(Ahat.flatten(),\n",
    "                 predict_all,\n",
    "                 1e-4,\n",
    "                 *(x,predict_funs,grad_predict_funs,dim)\n",
    "            )"
   ]
  },
  {
   "cell_type": "code",
   "execution_count": 17,
   "metadata": {},
   "outputs": [],
   "source": [
    "grad_predict_all = grad(predict_all)"
   ]
  },
  {
   "cell_type": "code",
   "execution_count": 18,
   "metadata": {},
   "outputs": [
    {
     "data": {
      "text/plain": [
       "DeviceArray([[-894246.4  ,  578035.1  , -318542.62 , -604053.3  ],\n",
       "             [1031996.25 , -684015.1  ,  340905.22 ,  707778.75 ],\n",
       "             [ 224076.48 , -112426.305,  123453.09 ,  135018.52 ],\n",
       "             [-921735.2  ,  610886.7  , -285240.62 , -629198.06 ]],            dtype=float32)"
      ]
     },
     "execution_count": 18,
     "metadata": {},
     "output_type": "execute_result"
    }
   ],
   "source": [
    "#%%timeit\n",
    "grad_predict_all(Ahat,x,predict_funs,grad_predict_funs,dim)"
   ]
  },
  {
   "cell_type": "code",
   "execution_count": 19,
   "metadata": {},
   "outputs": [
    {
     "data": {
      "text/plain": [
       "DeviceArray([-18157262. ,  12754362. ,  -7329935. , -12871900. ,\n",
       "              21340716. , -15098608. ,   7379011. ,  14614595. ,\n",
       "               4106253.5,  -2574106.5,   3415904.5,   3518732.5,\n",
       "             -19265156. ,  13414134. ,  -5734985. , -12490897. ],            dtype=float32)"
      ]
     },
     "execution_count": 19,
     "metadata": {},
     "output_type": "execute_result"
    }
   ],
   "source": [
    "predict_all_grad(Ahat,x,predict_funs,grad_predict_funs,dim)"
   ]
  },
  {
   "cell_type": "code",
   "execution_count": 20,
   "metadata": {},
   "outputs": [
    {
     "ename": "ValueError",
     "evalue": "cannot reshape array of size 6 into shape (4,4)",
     "output_type": "error",
     "traceback": [
      "\u001b[0;31m---------------------------------------------------------------------------\u001b[0m",
      "\u001b[0;31mValueError\u001b[0m                                Traceback (most recent call last)",
      "\u001b[0;32m<ipython-input-20-6a827394ff37>\u001b[0m in \u001b[0;36m<module>\u001b[0;34m\u001b[0m\n\u001b[1;32m      4\u001b[0m            \u001b[0;34m(\u001b[0m\u001b[0mx\u001b[0m\u001b[0;34m,\u001b[0m\u001b[0mpredict_funs\u001b[0m\u001b[0;34m,\u001b[0m\u001b[0mgrad_predict_funs\u001b[0m\u001b[0;34m,\u001b[0m\u001b[0mdim\u001b[0m\u001b[0;34m)\u001b[0m\u001b[0;34m,\u001b[0m\u001b[0;34m\u001b[0m\u001b[0;34m\u001b[0m\u001b[0m\n\u001b[1;32m      5\u001b[0m            \u001b[0mjac\u001b[0m\u001b[0;34m=\u001b[0m\u001b[0mgrad_predict_all\u001b[0m\u001b[0;34m,\u001b[0m\u001b[0;34m\u001b[0m\u001b[0;34m\u001b[0m\u001b[0m\n\u001b[0;32m----> 6\u001b[0;31m            \u001b[0mmethod\u001b[0m\u001b[0;34m=\u001b[0m\u001b[0;34m'Newton-CG'\u001b[0m\u001b[0;34m\u001b[0m\u001b[0;34m\u001b[0m\u001b[0m\n\u001b[0m\u001b[1;32m      7\u001b[0m            )\n\u001b[1;32m      8\u001b[0m \u001b[0mprint\u001b[0m\u001b[0;34m(\u001b[0m\u001b[0mres\u001b[0m\u001b[0;34m.\u001b[0m\u001b[0mmessage\u001b[0m\u001b[0;34m)\u001b[0m\u001b[0;34m\u001b[0m\u001b[0;34m\u001b[0m\u001b[0m\n",
      "\u001b[0;32m~/opt/anaconda3/lib/python3.7/site-packages/scipy/optimize/_minimize.py\u001b[0m in \u001b[0;36mminimize\u001b[0;34m(fun, x0, args, method, jac, hess, hessp, bounds, constraints, tol, callback, options)\u001b[0m\n\u001b[1;32m    605\u001b[0m     \u001b[0;32melif\u001b[0m \u001b[0mmeth\u001b[0m \u001b[0;34m==\u001b[0m \u001b[0;34m'newton-cg'\u001b[0m\u001b[0;34m:\u001b[0m\u001b[0;34m\u001b[0m\u001b[0;34m\u001b[0m\u001b[0m\n\u001b[1;32m    606\u001b[0m         return _minimize_newtoncg(fun, x0, args, jac, hess, hessp, callback,\n\u001b[0;32m--> 607\u001b[0;31m                                   **options)\n\u001b[0m\u001b[1;32m    608\u001b[0m     \u001b[0;32melif\u001b[0m \u001b[0mmeth\u001b[0m \u001b[0;34m==\u001b[0m \u001b[0;34m'l-bfgs-b'\u001b[0m\u001b[0;34m:\u001b[0m\u001b[0;34m\u001b[0m\u001b[0;34m\u001b[0m\u001b[0m\n\u001b[1;32m    609\u001b[0m         return _minimize_lbfgsb(fun, x0, args, jac, bounds,\n",
      "\u001b[0;32m~/opt/anaconda3/lib/python3.7/site-packages/scipy/optimize/optimize.py\u001b[0m in \u001b[0;36m_minimize_newtoncg\u001b[0;34m(fun, x0, args, jac, hess, hessp, callback, xtol, eps, maxiter, disp, return_all, **unknown_options)\u001b[0m\n\u001b[1;32m   1586\u001b[0m     \u001b[0mk\u001b[0m \u001b[0;34m=\u001b[0m \u001b[0;36m0\u001b[0m\u001b[0;34m\u001b[0m\u001b[0;34m\u001b[0m\u001b[0m\n\u001b[1;32m   1587\u001b[0m     \u001b[0mgfk\u001b[0m \u001b[0;34m=\u001b[0m \u001b[0;32mNone\u001b[0m\u001b[0;34m\u001b[0m\u001b[0;34m\u001b[0m\u001b[0m\n\u001b[0;32m-> 1588\u001b[0;31m     \u001b[0mold_fval\u001b[0m \u001b[0;34m=\u001b[0m \u001b[0mf\u001b[0m\u001b[0;34m(\u001b[0m\u001b[0mx0\u001b[0m\u001b[0;34m)\u001b[0m\u001b[0;34m\u001b[0m\u001b[0;34m\u001b[0m\u001b[0m\n\u001b[0m\u001b[1;32m   1589\u001b[0m     \u001b[0mold_old_fval\u001b[0m \u001b[0;34m=\u001b[0m \u001b[0;32mNone\u001b[0m\u001b[0;34m\u001b[0m\u001b[0;34m\u001b[0m\u001b[0m\n\u001b[1;32m   1590\u001b[0m     \u001b[0mfloat64eps\u001b[0m \u001b[0;34m=\u001b[0m \u001b[0mnumpy\u001b[0m\u001b[0;34m.\u001b[0m\u001b[0mfinfo\u001b[0m\u001b[0;34m(\u001b[0m\u001b[0mnumpy\u001b[0m\u001b[0;34m.\u001b[0m\u001b[0mfloat64\u001b[0m\u001b[0;34m)\u001b[0m\u001b[0;34m.\u001b[0m\u001b[0meps\u001b[0m\u001b[0;34m\u001b[0m\u001b[0;34m\u001b[0m\u001b[0m\n",
      "\u001b[0;32m~/opt/anaconda3/lib/python3.7/site-packages/scipy/optimize/optimize.py\u001b[0m in \u001b[0;36mfunction_wrapper\u001b[0;34m(*wrapper_args)\u001b[0m\n\u001b[1;32m    325\u001b[0m     \u001b[0;32mdef\u001b[0m \u001b[0mfunction_wrapper\u001b[0m\u001b[0;34m(\u001b[0m\u001b[0;34m*\u001b[0m\u001b[0mwrapper_args\u001b[0m\u001b[0;34m)\u001b[0m\u001b[0;34m:\u001b[0m\u001b[0;34m\u001b[0m\u001b[0;34m\u001b[0m\u001b[0m\n\u001b[1;32m    326\u001b[0m         \u001b[0mncalls\u001b[0m\u001b[0;34m[\u001b[0m\u001b[0;36m0\u001b[0m\u001b[0;34m]\u001b[0m \u001b[0;34m+=\u001b[0m \u001b[0;36m1\u001b[0m\u001b[0;34m\u001b[0m\u001b[0;34m\u001b[0m\u001b[0m\n\u001b[0;32m--> 327\u001b[0;31m         \u001b[0;32mreturn\u001b[0m \u001b[0mfunction\u001b[0m\u001b[0;34m(\u001b[0m\u001b[0;34m*\u001b[0m\u001b[0;34m(\u001b[0m\u001b[0mwrapper_args\u001b[0m \u001b[0;34m+\u001b[0m \u001b[0margs\u001b[0m\u001b[0;34m)\u001b[0m\u001b[0;34m)\u001b[0m\u001b[0;34m\u001b[0m\u001b[0;34m\u001b[0m\u001b[0m\n\u001b[0m\u001b[1;32m    328\u001b[0m \u001b[0;34m\u001b[0m\u001b[0m\n\u001b[1;32m    329\u001b[0m     \u001b[0;32mreturn\u001b[0m \u001b[0mncalls\u001b[0m\u001b[0;34m,\u001b[0m \u001b[0mfunction_wrapper\u001b[0m\u001b[0;34m\u001b[0m\u001b[0;34m\u001b[0m\u001b[0m\n",
      "\u001b[0;32m<ipython-input-13-73acc8b32845>\u001b[0m in \u001b[0;36mpredict_all\u001b[0;34m(Ahat, x, predict_funs, grad_predict_funs, dim)\u001b[0m\n\u001b[1;32m      1\u001b[0m \u001b[0;32mdef\u001b[0m \u001b[0mpredict_all\u001b[0m\u001b[0;34m(\u001b[0m\u001b[0mAhat\u001b[0m\u001b[0;34m,\u001b[0m\u001b[0mx\u001b[0m\u001b[0;34m,\u001b[0m\u001b[0mpredict_funs\u001b[0m\u001b[0;34m,\u001b[0m\u001b[0mgrad_predict_funs\u001b[0m\u001b[0;34m,\u001b[0m\u001b[0mdim\u001b[0m\u001b[0;34m)\u001b[0m\u001b[0;34m:\u001b[0m\u001b[0;34m\u001b[0m\u001b[0;34m\u001b[0m\u001b[0m\n\u001b[0;32m----> 2\u001b[0;31m     \u001b[0mAhat\u001b[0m \u001b[0;34m=\u001b[0m \u001b[0mAhat\u001b[0m\u001b[0;34m.\u001b[0m\u001b[0mreshape\u001b[0m\u001b[0;34m(\u001b[0m\u001b[0mdim\u001b[0m\u001b[0;34m,\u001b[0m\u001b[0mdim\u001b[0m\u001b[0;34m)\u001b[0m\u001b[0;34m\u001b[0m\u001b[0;34m\u001b[0m\u001b[0m\n\u001b[0m\u001b[1;32m      3\u001b[0m     \u001b[0;31m#print(Ahat.shape)\u001b[0m\u001b[0;34m\u001b[0m\u001b[0;34m\u001b[0m\u001b[0;34m\u001b[0m\u001b[0m\n\u001b[1;32m      4\u001b[0m     \u001b[0merr\u001b[0m \u001b[0;34m=\u001b[0m \u001b[0;36m0\u001b[0m\u001b[0;34m\u001b[0m\u001b[0;34m\u001b[0m\u001b[0m\n\u001b[1;32m      5\u001b[0m     \u001b[0mnT\u001b[0m \u001b[0;34m=\u001b[0m \u001b[0mlen\u001b[0m\u001b[0;34m(\u001b[0m\u001b[0mx\u001b[0m\u001b[0;34m)\u001b[0m\u001b[0;34m\u001b[0m\u001b[0;34m\u001b[0m\u001b[0m\n",
      "\u001b[0;31mValueError\u001b[0m: cannot reshape array of size 6 into shape (4,4)"
     ]
    }
   ],
   "source": [
    "params = np.random.normal(size=(1,int(dim*(dim-1)/2)))# + np.eye(dim)\n",
    "res = op.minimize(predict_all,\n",
    "           params,\n",
    "           (x,predict_funs,grad_predict_funs,dim),\n",
    "           jac=grad_predict_all,\n",
    "           method='Newton-CG'\n",
    "           )\n",
    "print(res.message)"
   ]
  },
  {
   "cell_type": "code",
   "execution_count": 21,
   "metadata": {},
   "outputs": [
    {
     "ename": "NameError",
     "evalue": "name 'res' is not defined",
     "output_type": "error",
     "traceback": [
      "\u001b[0;31m---------------------------------------------------------------------------\u001b[0m",
      "\u001b[0;31mNameError\u001b[0m                                 Traceback (most recent call last)",
      "\u001b[0;32m<ipython-input-21-ffaa636607ae>\u001b[0m in \u001b[0;36m<module>\u001b[0;34m\u001b[0m\n\u001b[0;32m----> 1\u001b[0;31m \u001b[0mres\u001b[0m\u001b[0;34m.\u001b[0m\u001b[0mmessage\u001b[0m\u001b[0;34m\u001b[0m\u001b[0;34m\u001b[0m\u001b[0m\n\u001b[0m",
      "\u001b[0;31mNameError\u001b[0m: name 'res' is not defined"
     ]
    }
   ],
   "source": [
    "res.message"
   ]
  },
  {
   "cell_type": "code",
   "execution_count": 22,
   "metadata": {},
   "outputs": [
    {
     "ename": "NameError",
     "evalue": "name 'res' is not defined",
     "output_type": "error",
     "traceback": [
      "\u001b[0;31m---------------------------------------------------------------------------\u001b[0m",
      "\u001b[0;31mNameError\u001b[0m                                 Traceback (most recent call last)",
      "\u001b[0;32m<ipython-input-22-830d78b5cfdd>\u001b[0m in \u001b[0;36m<module>\u001b[0;34m\u001b[0m\n\u001b[0;32m----> 1\u001b[0;31m \u001b[0mAinf\u001b[0m \u001b[0;34m=\u001b[0m \u001b[0mres\u001b[0m\u001b[0;34m.\u001b[0m\u001b[0mx\u001b[0m\u001b[0;34m.\u001b[0m\u001b[0mreshape\u001b[0m\u001b[0;34m(\u001b[0m\u001b[0mdim\u001b[0m\u001b[0;34m,\u001b[0m\u001b[0mdim\u001b[0m\u001b[0;34m)\u001b[0m\u001b[0;34m\u001b[0m\u001b[0;34m\u001b[0m\u001b[0m\n\u001b[0m",
      "\u001b[0;31mNameError\u001b[0m: name 'res' is not defined"
     ]
    }
   ],
   "source": [
    "Ainf = res.x.reshape(dim,dim)"
   ]
  },
  {
   "cell_type": "code",
   "execution_count": null,
   "metadata": {},
   "outputs": [],
   "source": []
  },
  {
   "cell_type": "code",
   "execution_count": 23,
   "metadata": {},
   "outputs": [
    {
     "ename": "NameError",
     "evalue": "name 'Ainf' is not defined",
     "output_type": "error",
     "traceback": [
      "\u001b[0;31m---------------------------------------------------------------------------\u001b[0m",
      "\u001b[0;31mNameError\u001b[0m                                 Traceback (most recent call last)",
      "\u001b[0;32m<ipython-input-23-f73208c8c8a2>\u001b[0m in \u001b[0;36m<module>\u001b[0;34m\u001b[0m\n\u001b[1;32m      4\u001b[0m \u001b[0;34m\u001b[0m\u001b[0m\n\u001b[1;32m      5\u001b[0m     \u001b[0mplt\u001b[0m\u001b[0;34m.\u001b[0m\u001b[0msubplot\u001b[0m\u001b[0;34m(\u001b[0m\u001b[0;36m1\u001b[0m\u001b[0;34m,\u001b[0m\u001b[0mdim\u001b[0m\u001b[0;34m,\u001b[0m\u001b[0mi\u001b[0m\u001b[0;34m+\u001b[0m\u001b[0;36m1\u001b[0m\u001b[0;34m)\u001b[0m\u001b[0;34m\u001b[0m\u001b[0;34m\u001b[0m\u001b[0m\n\u001b[0;32m----> 6\u001b[0;31m     \u001b[0mplt\u001b[0m\u001b[0;34m.\u001b[0m\u001b[0mplot\u001b[0m\u001b[0;34m(\u001b[0m\u001b[0;34m(\u001b[0m\u001b[0mnp\u001b[0m\u001b[0;34m.\u001b[0m\u001b[0mlinalg\u001b[0m\u001b[0;34m.\u001b[0m\u001b[0mmatrix_power\u001b[0m\u001b[0;34m(\u001b[0m\u001b[0mAinf\u001b[0m\u001b[0;34m,\u001b[0m\u001b[0;36m1\u001b[0m\u001b[0;34m)\u001b[0m\u001b[0;34m@\u001b[0m\u001b[0mx\u001b[0m\u001b[0;34m)\u001b[0m\u001b[0;34m[\u001b[0m\u001b[0;34m:\u001b[0m\u001b[0;34m,\u001b[0m\u001b[0mi\u001b[0m\u001b[0;34m]\u001b[0m\u001b[0;34m,\u001b[0m\u001b[0mmarker\u001b[0m\u001b[0;34m=\u001b[0m\u001b[0;34m'.'\u001b[0m\u001b[0;34m)\u001b[0m\u001b[0;34m\u001b[0m\u001b[0;34m\u001b[0m\u001b[0m\n\u001b[0m\u001b[1;32m      7\u001b[0m     \u001b[0mplt\u001b[0m\u001b[0;34m.\u001b[0m\u001b[0mplot\u001b[0m\u001b[0;34m(\u001b[0m\u001b[0;34m(\u001b[0m\u001b[0mnp\u001b[0m\u001b[0;34m.\u001b[0m\u001b[0mlinalg\u001b[0m\u001b[0;34m.\u001b[0m\u001b[0mmatrix_power\u001b[0m\u001b[0;34m(\u001b[0m\u001b[0mA\u001b[0m\u001b[0;34m,\u001b[0m\u001b[0;36m1\u001b[0m\u001b[0;34m)\u001b[0m\u001b[0;34m@\u001b[0m\u001b[0mx\u001b[0m\u001b[0;34m)\u001b[0m\u001b[0;34m[\u001b[0m\u001b[0;34m:\u001b[0m\u001b[0;34m,\u001b[0m\u001b[0mi\u001b[0m\u001b[0;34m]\u001b[0m\u001b[0;34m,\u001b[0m\u001b[0mmarker\u001b[0m\u001b[0;34m=\u001b[0m\u001b[0;34m'.'\u001b[0m\u001b[0;34m)\u001b[0m\u001b[0;34m\u001b[0m\u001b[0;34m\u001b[0m\u001b[0m\n\u001b[1;32m      8\u001b[0m     \u001b[0;31m#plt.\u001b[0m\u001b[0;34m\u001b[0m\u001b[0;34m\u001b[0m\u001b[0;34m\u001b[0m\u001b[0m\n",
      "\u001b[0;31mNameError\u001b[0m: name 'Ainf' is not defined"
     ]
    },
    {
     "data": {
      "image/png": "[encoded data removed]",
      "text/plain": [
       "<Figure size 1008x216 with 1 Axes>"
      ]
     },
     "metadata": {
      "needs_background": "light"
     },
     "output_type": "display_data"
    }
   ],
   "source": [
    "plt.figure(figsize=(14,3))\n",
    "\n",
    "for i in range(dim):\n",
    "    \n",
    "    plt.subplot(1,dim,i+1)\n",
    "    plt.plot((np.linalg.matrix_power(Ainf,1)@x)[:,i],marker='.')\n",
    "    plt.plot((np.linalg.matrix_power(A,1)@x)[:,i],marker='.')\n",
    "    #plt."
   ]
  },
  {
   "cell_type": "code",
   "execution_count": 24,
   "metadata": {},
   "outputs": [
    {
     "data": {
      "text/plain": [
       "[<matplotlib.lines.Line2D at 0x7ff28062ced0>]"
      ]
     },
     "execution_count": 24,
     "metadata": {},
     "output_type": "execute_result"
    },
    {
     "data": {
      "image/png": "[encoded data removed]",
      "text/plain": [
       "<Figure size 432x288 with 1 Axes>"
      ]
     },
     "metadata": {
      "needs_background": "light"
     },
     "output_type": "display_data"
    }
   ],
   "source": [
    "plt.plot((np.linalg.matrix_power(A,5)@x)[:,2])"
   ]
  },
  {
   "cell_type": "code",
   "execution_count": 25,
   "metadata": {},
   "outputs": [
    {
     "data": {
      "text/plain": [
       "[<matplotlib.lines.Line2D at 0x7ff230631410>]"
      ]
     },
     "execution_count": 25,
     "metadata": {},
     "output_type": "execute_result"
    },
    {
     "data": {
      "image/png": "[encoded data removed]",
      "text/plain": [
       "<Figure size 432x288 with 1 Axes>"
      ]
     },
     "metadata": {
      "needs_background": "light"
     },
     "output_type": "display_data"
    }
   ],
   "source": [
    "plt.plot(x[:,0])"
   ]
  },
  {
   "cell_type": "code",
   "execution_count": null,
   "metadata": {},
   "outputs": [],
   "source": []
  },
  {
   "cell_type": "code",
   "execution_count": 423,
   "metadata": {},
   "outputs": [],
   "source": [
    "a = np.random.normal(size=(5,1))\n",
    "H = np.triu(np.ones([3,3,15]))"
   ]
  },
  {
   "cell_type": "markdown",
   "metadata": {},
   "source": [
    "# Now do it properly with constraints"
   ]
  },
  {
   "cell_type": "code",
   "execution_count": 424,
   "metadata": {},
   "outputs": [],
   "source": [
    "def get_basis_tensor(dim):\n",
    "    \"\"\" Returns a tensor that forms a basis for skew symmetric matrices.\n",
    "        Use np.einsum('i...,i...',params,basis_tensor) to construct this\n",
    "        matrix\n",
    "    \"\"\"\n",
    "    basis_tensor = []\n",
    "    for i in range(dim):\n",
    "        for j in range(i+1,dim):\n",
    "            bi =  np.zeros([dim,dim])\n",
    "            bi[i,j] = -1\n",
    "            bi = bi -bi.T\n",
    "            basis_tensor.append(bi.T)\n",
    "    basis_tensor = np.array(basis_tensor)\n",
    "    return np.asarray(basis_tensor)\n"
   ]
  },
  {
   "cell_type": "code",
   "execution_count": 425,
   "metadata": {},
   "outputs": [],
   "source": [
    "def construct_M(skewM,dim):\n",
    "    \"\"\" Perform Caley transform\"\"\"\n",
    "    return (jnp.eye(dim) - skewM)@jnp.linalg.inv(jnp.eye(dim)+skewM)"
   ]
  },
  {
   "cell_type": "code",
   "execution_count": 426,
   "metadata": {},
   "outputs": [
    {
     "data": {
      "text/plain": [
       "(3,)"
      ]
     },
     "execution_count": 426,
     "metadata": {},
     "output_type": "execute_result"
    }
   ],
   "source": [
    "params.shape"
   ]
  },
  {
   "cell_type": "code",
   "execution_count": 427,
   "metadata": {},
   "outputs": [],
   "source": [
    "def predict(T,x,y,n,dim):\n",
    "    transition_matrix = jnp.reshape(T,(dim,dim))\n",
    "    return jnp.sum((jnp.dot(jnp.linalg.matrix_power(transition_matrix,n),x)-y)**2)\n",
    "\n",
    "\n",
    "#predict_funs = [partial(predict,n=i,dim=dim) for i in range(9)]\n",
    "#grad_predict_funs = [grad(i) for i in predict_funs]"
   ]
  },
  {
   "cell_type": "code",
   "execution_count": 428,
   "metadata": {},
   "outputs": [],
   "source": [
    "def predict_all(params,x,dim,basis_tensor):\n",
    "\n",
    "    err = 0\n",
    "    nT = len(x)\n",
    "    k = 0\n",
    "    skewM = jnp.einsum('i...,i...',params,basis_tensor)\n",
    "    M = construct_M(skewM,dim)\n",
    "    #print(M.shape)\n",
    "    for start_state in range(nT):\n",
    "        for pred_state in range(start_state+1,nT-start_state):\n",
    "            n_fwd = pred_state-start_state \n",
    "            err += predict(M,x[start_state],x[pred_state],n_fwd,dim)\n",
    "            k += 1\n",
    "    mse = err/k\n",
    "    print(mse)\n",
    "    return mse\n"
   ]
  },
  {
   "cell_type": "code",
   "execution_count": 429,
   "metadata": {},
   "outputs": [
    {
     "data": {
      "text/plain": [
       "(9, 3, 1)"
      ]
     },
     "execution_count": 429,
     "metadata": {},
     "output_type": "execute_result"
    }
   ],
   "source": [
    "x.shape"
   ]
  },
  {
   "cell_type": "code",
   "execution_count": 430,
   "metadata": {},
   "outputs": [
    {
     "data": {
      "text/plain": [
       "array([[ 0.13774368, -0.32265073,  0.93644177],\n",
       "       [ 0.86334433, -0.4242774 , -0.27317624],\n",
       "       [ 0.4854516 ,  0.84609999,  0.22011715]])"
      ]
     },
     "execution_count": 430,
     "metadata": {},
     "output_type": "execute_result"
    }
   ],
   "source": [
    "A"
   ]
  },
  {
   "cell_type": "code",
   "execution_count": 431,
   "metadata": {},
   "outputs": [
    {
     "name": "stdout",
     "output_type": "stream",
     "text": [
      "15.750193\n"
     ]
    },
    {
     "data": {
      "text/plain": [
       "DeviceArray(15.750193, dtype=float32)"
      ]
     },
     "execution_count": 431,
     "metadata": {},
     "output_type": "execute_result"
    }
   ],
   "source": [
    "predict_all(params,x,dim,basis_tensor)\n"
   ]
  },
  {
   "cell_type": "code",
   "execution_count": 432,
   "metadata": {},
   "outputs": [],
   "source": [
    "grad_predict_all = grad(predict_all)"
   ]
  },
  {
   "cell_type": "code",
   "execution_count": 433,
   "metadata": {},
   "outputs": [
    {
     "name": "stdout",
     "output_type": "stream",
     "text": [
      "Traced<ConcreteArray(0.39445701241493225, dtype=float32)>with<JVPTrace(level=2/0)> with\n",
      "  primal = DeviceArray(0.394457, dtype=float32)\n",
      "  tangent = Traced<ShapedArray(float32[])>with<JaxprTrace(level=1/0)> with\n",
      "    pval = (ShapedArray(float32[]), *)\n",
      "    recipe = JaxprEqnRecipe(eqn_id=<object object at 0x7ff2747c2920>, invars=(Traced<ConcreteArray(20.0, dtype=float32):JaxprTrace(level=1/0)>, Traced<ShapedArray(float32[]):JaxprTrace(level=1/0)>), outvars=[<weakref at 0x7ff2748e42f0; to 'JaxprTracer' at 0x7ff2748e4110>], primitive=xla_call, params={'device': None, 'backend': None, 'name': 'jvp(true_divide)', 'donated_invars': (False, False), 'inline': True, 'call_jaxpr': { lambda ; a:f32[] b:f32[]. let c:f32[] = div b a in (c,) }}, source_info=<jaxlib.xla_extension.Traceback object at 0x7ff2748c3730>)\n"
     ]
    }
   ],
   "source": [
    "a = grad_predict_all(jnp.array(res.x),x,dim,basis_tensor)"
   ]
  },
  {
   "cell_type": "code",
   "execution_count": 434,
   "metadata": {},
   "outputs": [
    {
     "data": {
      "text/plain": [
       "DeviceArray([ 1.7732382e-06, -1.3113022e-06,  2.4437904e-06], dtype=float32)"
      ]
     },
     "execution_count": 434,
     "metadata": {},
     "output_type": "execute_result"
    }
   ],
   "source": [
    "a"
   ]
  },
  {
   "cell_type": "code",
   "execution_count": 435,
   "metadata": {},
   "outputs": [],
   "source": [
    "def grad_wrapper(params,x,dim,basis_tensor):\n",
    "    grad = grad_predict_all(jnp.array(params),x,dim,basis_tensor)\n",
    "    grad = np.array(grad)\n",
    "    print(grad)\n",
    "    return grad"
   ]
  },
  {
   "cell_type": "markdown",
   "metadata": {},
   "source": [
    "## Generate Data"
   ]
  },
  {
   "cell_type": "code",
   "execution_count": 664,
   "metadata": {},
   "outputs": [],
   "source": [
    "dim = 3\n",
    "nT = 9\n",
    "\n",
    "frac = .3\n",
    "\n",
    "x0 = np.random.normal(size=(dim,1))\n",
    "A_ = np.random.normal(size=(dim,dim))\n",
    "\n",
    "A = np.zeros([dim,dim])\n",
    "\n",
    "for i in range(dim):\n",
    "    A[i,i:] = A_[i:,i]\n",
    "    A[i:,i] = -A_[i:,i]\n",
    "    \n",
    "A[np.diag_indices_from(A)] = 0\n",
    "A = (np.eye(dim)-A)@np.linalg.inv(np.eye(dim)+A)\n",
    "\n",
    "x = np.array([np.linalg.matrix_power(A,i)@x0 for i in range(nT)])\n",
    "\n",
    "x = frac*x + (1-frac)*np.random.normal(size=x.shape)\n",
    "\n",
    "basis_tensor = get_basis_tensor(dim)\n",
    "n_bases = basis_tensor.shape[0]"
   ]
  },
  {
   "cell_type": "code",
   "execution_count": 665,
   "metadata": {},
   "outputs": [],
   "source": [
    "I = np.eye(dim)\n",
    "skewORG = (I-A)@np.linalg.inv(I+A)"
   ]
  },
  {
   "cell_type": "code",
   "execution_count": null,
   "metadata": {},
   "outputs": [],
   "source": []
  },
  {
   "cell_type": "code",
   "execution_count": 666,
   "metadata": {},
   "outputs": [],
   "source": [
    "params = []\n",
    "\n",
    "n = skewORG.shape[0]\n",
    "for i in range(n):\n",
    "    for j in range(i+1,n):\n",
    "        params.append(skewORG[i,j])\n",
    "    "
   ]
  },
  {
   "cell_type": "code",
   "execution_count": 667,
   "metadata": {},
   "outputs": [
    {
     "data": {
      "text/plain": [
       "[-0.28337143011342303, -1.5578506387404623, -2.0474730064009163]"
      ]
     },
     "execution_count": 667,
     "metadata": {},
     "output_type": "execute_result"
    }
   ],
   "source": [
    "params"
   ]
  },
  {
   "cell_type": "code",
   "execution_count": 668,
   "metadata": {},
   "outputs": [
    {
     "name": "stdout",
     "output_type": "stream",
     "text": [
      "4.225379\n"
     ]
    },
    {
     "data": {
      "text/plain": [
       "DeviceArray(4.225379, dtype=float32)"
      ]
     },
     "execution_count": 668,
     "metadata": {},
     "output_type": "execute_result"
    }
   ],
   "source": [
    "predict_all(params,x,dim,basis_tensor)"
   ]
  },
  {
   "cell_type": "code",
   "execution_count": 651,
   "metadata": {},
   "outputs": [],
   "source": [
    "basis_tensor = get_basis_tensor(dim)\n",
    "n_bases = basis_tensor.shape[0]"
   ]
  },
  {
   "cell_type": "code",
   "execution_count": 652,
   "metadata": {},
   "outputs": [],
   "source": [
    "grad_predict_all = grad(predict_all)"
   ]
  },
  {
   "cell_type": "code",
   "execution_count": 653,
   "metadata": {},
   "outputs": [],
   "source": [
    "#np.einsum('i...,i...',params,basis_tensor)"
   ]
  },
  {
   "cell_type": "code",
   "execution_count": 654,
   "metadata": {},
   "outputs": [],
   "source": [
    "#out = op.brute(predict_all,\n",
    "#               [(0,1)]*3,\n",
    "#               (x,dim,basis_tensor))"
   ]
  },
  {
   "cell_type": "code",
   "execution_count": 655,
   "metadata": {},
   "outputs": [
    {
     "data": {
      "text/plain": [
       "array([-0.69016094, -0.43224333,  0.33667274])"
      ]
     },
     "execution_count": 655,
     "metadata": {},
     "output_type": "execute_result"
    }
   ],
   "source": [
    "out"
   ]
  },
  {
   "cell_type": "code",
   "execution_count": 656,
   "metadata": {},
   "outputs": [
    {
     "name": "stdout",
     "output_type": "stream",
     "text": [
      "5.2334876\n",
      "Traced<ConcreteArray(5.233487606048584, dtype=float32)>with<JVPTrace(level=2/0)> with\n",
      "  primal = DeviceArray(5.2334876, dtype=float32)\n",
      "  tangent = Traced<ShapedArray(float32[])>with<JaxprTrace(level=1/0)> with\n",
      "    pval = (ShapedArray(float32[]), *)\n",
      "    recipe = JaxprEqnRecipe(eqn_id=<object object at 0x7ff2747c2420>, invars=(Traced<ConcreteArray(20.0, dtype=float32):JaxprTrace(level=1/0)>, Traced<ShapedArray(float32[]):JaxprTrace(level=1/0)>), outvars=[<weakref at 0x7ff27210f9b0; to 'JaxprTracer' at 0x7ff27210f770>], primitive=xla_call, params={'device': None, 'backend': None, 'name': 'jvp(true_divide)', 'donated_invars': (False, False), 'inline': True, 'call_jaxpr': { lambda ; a:f32[] b:f32[]. let c:f32[] = div b a in (c,) }}, source_info=<jaxlib.xla_extension.Traceback object at 0x7ff272d67c70>)\n",
      "[-1.2256612   0.09962249  0.02108526]\n",
      "4.274608\n",
      "Traced<ConcreteArray(4.274608135223389, dtype=float32)>with<JVPTrace(level=2/0)> with\n",
      "  primal = DeviceArray(4.274608, dtype=float32)\n",
      "  tangent = Traced<ShapedArray(float32[])>with<JaxprTrace(level=1/0)> with\n",
      "    pval = (ShapedArray(float32[]), *)\n",
      "    recipe = JaxprEqnRecipe(eqn_id=<object object at 0x7ff2747c27f0>, invars=(Traced<ConcreteArray(20.0, dtype=float32):JaxprTrace(level=1/0)>, Traced<ShapedArray(float32[]):JaxprTrace(level=1/0)>), outvars=[<weakref at 0x7ff273626b30; to 'JaxprTracer' at 0x7ff273626710>], primitive=xla_call, params={'device': None, 'backend': None, 'name': 'jvp(true_divide)', 'donated_invars': (False, False), 'inline': True, 'call_jaxpr': { lambda ; a:f32[] b:f32[]. let c:f32[] = div b a in (c,) }}, source_info=<jaxlib.xla_extension.Traceback object at 0x7ff271c51b70>)\n",
      "[-0.46010798 -0.37797362  0.1396575 ]\n",
      "3.9575164\n",
      "Traced<ConcreteArray(3.9575164318084717, dtype=float32)>with<JVPTrace(level=2/0)> with\n",
      "  primal = DeviceArray(3.9575164, dtype=float32)\n",
      "  tangent = Traced<ShapedArray(float32[])>with<JaxprTrace(level=1/0)> with\n",
      "    pval = (ShapedArray(float32[]), *)\n",
      "    recipe = JaxprEqnRecipe(eqn_id=<object object at 0x7ff2747c23d0>, invars=(Traced<ConcreteArray(20.0, dtype=float32):JaxprTrace(level=1/0)>, Traced<ShapedArray(float32[]):JaxprTrace(level=1/0)>), outvars=[<weakref at 0x7ff272a61b90; to 'JaxprTracer' at 0x7ff273626110>], primitive=xla_call, params={'device': None, 'backend': None, 'name': 'jvp(true_divide)', 'donated_invars': (False, False), 'inline': True, 'call_jaxpr': { lambda ; a:f32[] b:f32[]. let c:f32[] = div b a in (c,) }}, source_info=<jaxlib.xla_extension.Traceback object at 0x7ff250e975f0>)\n",
      "[ 0.20154983 -0.30579865  0.09491229]\n",
      "3.8577855\n",
      "Traced<ConcreteArray(3.857785701751709, dtype=float32)>with<JVPTrace(level=2/0)> with\n",
      "  primal = DeviceArray(3.8577857, dtype=float32)\n",
      "  tangent = Traced<ShapedArray(float32[])>with<JaxprTrace(level=1/0)> with\n",
      "    pval = (ShapedArray(float32[]), *)\n",
      "    recipe = JaxprEqnRecipe(eqn_id=<object object at 0x7ff2747c2d50>, invars=(Traced<ConcreteArray(20.0, dtype=float32):JaxprTrace(level=1/0)>, Traced<ShapedArray(float32[]):JaxprTrace(level=1/0)>), outvars=[<weakref at 0x7ff272a61770; to 'JaxprTracer' at 0x7ff272a61230>], primitive=xla_call, params={'device': None, 'backend': None, 'name': 'jvp(true_divide)', 'donated_invars': (False, False), 'inline': True, 'call_jaxpr': { lambda ; a:f32[] b:f32[]. let c:f32[] = div b a in (c,) }}, source_info=<jaxlib.xla_extension.Traceback object at 0x7ff261729530>)\n",
      "[ 0.2886634  -0.30616856  0.10874987]\n",
      "3.520295\n",
      "Traced<ConcreteArray(3.5202949047088623, dtype=float32)>with<JVPTrace(level=2/0)> with\n",
      "  primal = DeviceArray(3.520295, dtype=float32)\n",
      "  tangent = Traced<ShapedArray(float32[])>with<JaxprTrace(level=1/0)> with\n",
      "    pval = (ShapedArray(float32[]), *)\n",
      "    recipe = JaxprEqnRecipe(eqn_id=<object object at 0x7ff2747c2850>, invars=(Traced<ConcreteArray(20.0, dtype=float32):JaxprTrace(level=1/0)>, Traced<ShapedArray(float32[]):JaxprTrace(level=1/0)>), outvars=[<weakref at 0x7ff273228890; to 'JaxprTracer' at 0x7ff2732285f0>], primitive=xla_call, params={'device': None, 'backend': None, 'name': 'jvp(true_divide)', 'donated_invars': (False, False), 'inline': True, 'call_jaxpr': { lambda ; a:f32[] b:f32[]. let c:f32[] = div b a in (c,) }}, source_info=<jaxlib.xla_extension.Traceback object at 0x7ff272d67230>)\n",
      "[ 0.62999725 -0.06928837  0.07959664]\n",
      "3.690899\n",
      "Traced<ConcreteArray(3.690898895263672, dtype=float32)>with<JVPTrace(level=2/0)> with\n",
      "  primal = DeviceArray(3.690899, dtype=float32)\n",
      "  tangent = Traced<ShapedArray(float32[])>with<JaxprTrace(level=1/0)> with\n",
      "    pval = (ShapedArray(float32[]), *)\n",
      "    recipe = JaxprEqnRecipe(eqn_id=<object object at 0x7ff2747c2700>, invars=(Traced<ConcreteArray(20.0, dtype=float32):JaxprTrace(level=1/0)>, Traced<ShapedArray(float32[]):JaxprTrace(level=1/0)>), outvars=[<weakref at 0x7ff272a53290; to 'JaxprTracer' at 0x7ff24074b7d0>], primitive=xla_call, params={'device': None, 'backend': None, 'name': 'jvp(true_divide)', 'donated_invars': (False, False), 'inline': True, 'call_jaxpr': { lambda ; a:f32[] b:f32[]. let c:f32[] = div b a in (c,) }}, source_info=<jaxlib.xla_extension.Traceback object at 0x7ff273b30530>)\n",
      "[0.23770565 0.49070257 0.04074463]\n",
      "3.3283577\n",
      "Traced<ConcreteArray(3.328357696533203, dtype=float32)>with<JVPTrace(level=2/0)> with\n",
      "  primal = DeviceArray(3.3283577, dtype=float32)\n",
      "  tangent = Traced<ShapedArray(float32[])>with<JaxprTrace(level=1/0)> with\n",
      "    pval = (ShapedArray(float32[]), *)\n",
      "    recipe = JaxprEqnRecipe(eqn_id=<object object at 0x7ff2747c2e70>, invars=(Traced<ConcreteArray(20.0, dtype=float32):JaxprTrace(level=1/0)>, Traced<ShapedArray(float32[]):JaxprTrace(level=1/0)>), outvars=[<weakref at 0x7ff24073a110; to 'JaxprTracer' at 0x7ff272a53890>], primitive=xla_call, params={'device': None, 'backend': None, 'name': 'jvp(true_divide)', 'donated_invars': (False, False), 'inline': True, 'call_jaxpr': { lambda ; a:f32[] b:f32[]. let c:f32[] = div b a in (c,) }}, source_info=<jaxlib.xla_extension.Traceback object at 0x7ff273821db0>)\n",
      "[ 0.7148609   0.28650475 -0.00348306]\n",
      "2.9467683\n",
      "Traced<ConcreteArray(2.946768283843994, dtype=float32)>with<JVPTrace(level=2/0)> with\n",
      "  primal = DeviceArray(2.9467683, dtype=float32)\n",
      "  tangent = Traced<ShapedArray(float32[])>with<JaxprTrace(level=1/0)> with\n",
      "    pval = (ShapedArray(float32[]), *)\n",
      "    recipe = JaxprEqnRecipe(eqn_id=<object object at 0x7ff2747c2510>, invars=(Traced<ConcreteArray(20.0, dtype=float32):JaxprTrace(level=1/0)>, Traced<ShapedArray(float32[]):JaxprTrace(level=1/0)>), outvars=[<weakref at 0x7ff27303e2f0; to 'JaxprTracer' at 0x7ff27303e470>], primitive=xla_call, params={'device': None, 'backend': None, 'name': 'jvp(true_divide)', 'donated_invars': (False, False), 'inline': True, 'call_jaxpr': { lambda ; a:f32[] b:f32[]. let c:f32[] = div b a in (c,) }}, source_info=<jaxlib.xla_extension.Traceback object at 0x7ff273b30630>)\n",
      "[ 0.7398211   0.513417   -0.13478184]\n",
      "2.5639555\n",
      "Traced<ConcreteArray(2.563955545425415, dtype=float32)>with<JVPTrace(level=2/0)> with\n",
      "  primal = DeviceArray(2.5639555, dtype=float32)\n",
      "  tangent = Traced<ShapedArray(float32[])>with<JaxprTrace(level=1/0)> with\n",
      "    pval = (ShapedArray(float32[]), *)\n",
      "    recipe = JaxprEqnRecipe(eqn_id=<object object at 0x7ff2747c2410>, invars=(Traced<ConcreteArray(20.0, dtype=float32):JaxprTrace(level=1/0)>, Traced<ShapedArray(float32[]):JaxprTrace(level=1/0)>), outvars=[<weakref at 0x7ff272803830; to 'JaxprTracer' at 0x7ff27303e4d0>], primitive=xla_call, params={'device': None, 'backend': None, 'name': 'jvp(true_divide)', 'donated_invars': (False, False), 'inline': True, 'call_jaxpr': { lambda ; a:f32[] b:f32[]. let c:f32[] = div b a in (c,) }}, source_info=<jaxlib.xla_extension.Traceback object at 0x7ff272aa26f0>)\n",
      "[-0.08998235  0.59924    -0.17135194]\n",
      "2.4167302\n",
      "Traced<ConcreteArray(2.4167301654815674, dtype=float32)>with<JVPTrace(level=2/0)> with\n",
      "  primal = DeviceArray(2.4167302, dtype=float32)\n",
      "  tangent = Traced<ShapedArray(float32[])>with<JaxprTrace(level=1/0)> with\n",
      "    pval = (ShapedArray(float32[]), *)\n",
      "    recipe = JaxprEqnRecipe(eqn_id=<object object at 0x7ff2747c23e0>, invars=(Traced<ConcreteArray(20.0, dtype=float32):JaxprTrace(level=1/0)>, Traced<ShapedArray(float32[]):JaxprTrace(level=1/0)>), outvars=[<weakref at 0x7ff2728037d0; to 'JaxprTracer' at 0x7ff272803170>], primitive=xla_call, params={'device': None, 'backend': None, 'name': 'jvp(true_divide)', 'donated_invars': (False, False), 'inline': True, 'call_jaxpr': { lambda ; a:f32[] b:f32[]. let c:f32[] = div b a in (c,) }}, source_info=<jaxlib.xla_extension.Traceback object at 0x7ff2738215b0>)\n",
      "[-0.01444694  0.14228621 -0.13079584]\n",
      "2.4025917\n",
      "Traced<ConcreteArray(2.4025917053222656, dtype=float32)>with<JVPTrace(level=2/0)> with\n",
      "  primal = DeviceArray(2.4025917, dtype=float32)\n",
      "  tangent = Traced<ShapedArray(float32[])>with<JaxprTrace(level=1/0)> with\n",
      "    pval = (ShapedArray(float32[]), *)\n",
      "    recipe = JaxprEqnRecipe(eqn_id=<object object at 0x7ff2747c2bf0>, invars=(Traced<ConcreteArray(20.0, dtype=float32):JaxprTrace(level=1/0)>, Traced<ShapedArray(float32[]):JaxprTrace(level=1/0)>), outvars=[<weakref at 0x7ff2741ed8f0; to 'JaxprTracer' at 0x7ff2741ed4d0>], primitive=xla_call, params={'device': None, 'backend': None, 'name': 'jvp(true_divide)', 'donated_invars': (False, False), 'inline': True, 'call_jaxpr': { lambda ; a:f32[] b:f32[]. let c:f32[] = div b a in (c,) }}, source_info=<jaxlib.xla_extension.Traceback object at 0x7ff2731e0970>)\n",
      "[-0.04581082 -0.05425419 -0.01129603]\n",
      "2.4016013\n",
      "Traced<ConcreteArray(2.4016013145446777, dtype=float32)>with<JVPTrace(level=2/0)> with\n",
      "  primal = DeviceArray(2.4016013, dtype=float32)\n",
      "  tangent = Traced<ShapedArray(float32[])>with<JaxprTrace(level=1/0)> with\n",
      "    pval = (ShapedArray(float32[]), *)\n",
      "    recipe = JaxprEqnRecipe(eqn_id=<object object at 0x7ff2747c26f0>, invars=(Traced<ConcreteArray(20.0, dtype=float32):JaxprTrace(level=1/0)>, Traced<ShapedArray(float32[]):JaxprTrace(level=1/0)>), outvars=[<weakref at 0x7ff2741ede30; to 'JaxprTracer' at 0x7ff2741edf50>], primitive=xla_call, params={'device': None, 'backend': None, 'name': 'jvp(true_divide)', 'donated_invars': (False, False), 'inline': True, 'call_jaxpr': { lambda ; a:f32[] b:f32[]. let c:f32[] = div b a in (c,) }}, source_info=<jaxlib.xla_extension.Traceback object at 0x7ff272aa2230>)\n"
     ]
    },
    {
     "name": "stdout",
     "output_type": "stream",
     "text": [
      "[ 0.04754132  0.01379511 -0.0258972 ]\n",
      "2.4007325\n",
      "Traced<ConcreteArray(2.4007325172424316, dtype=float32)>with<JVPTrace(level=2/0)> with\n",
      "  primal = DeviceArray(2.4007325, dtype=float32)\n",
      "  tangent = Traced<ShapedArray(float32[])>with<JaxprTrace(level=1/0)> with\n",
      "    pval = (ShapedArray(float32[]), *)\n",
      "    recipe = JaxprEqnRecipe(eqn_id=<object object at 0x7ff2747c2d40>, invars=(Traced<ConcreteArray(20.0, dtype=float32):JaxprTrace(level=1/0)>, Traced<ShapedArray(float32[]):JaxprTrace(level=1/0)>), outvars=[<weakref at 0x7ff261261350; to 'JaxprTracer' at 0x7ff2612616b0>], primitive=xla_call, params={'device': None, 'backend': None, 'name': 'jvp(true_divide)', 'donated_invars': (False, False), 'inline': True, 'call_jaxpr': { lambda ; a:f32[] b:f32[]. let c:f32[] = div b a in (c,) }}, source_info=<jaxlib.xla_extension.Traceback object at 0x7ff2731e03b0>)\n",
      "[ 0.00268599 -0.00053698 -0.0051378 ]\n",
      "2.4007134\n",
      "Traced<ConcreteArray(2.4007134437561035, dtype=float32)>with<JVPTrace(level=2/0)> with\n",
      "  primal = DeviceArray(2.4007134, dtype=float32)\n",
      "  tangent = Traced<ShapedArray(float32[])>with<JaxprTrace(level=1/0)> with\n",
      "    pval = (ShapedArray(float32[]), *)\n",
      "    recipe = JaxprEqnRecipe(eqn_id=<object object at 0x7ff2747c23c0>, invars=(Traced<ConcreteArray(20.0, dtype=float32):JaxprTrace(level=1/0)>, Traced<ShapedArray(float32[]):JaxprTrace(level=1/0)>), outvars=[<weakref at 0x7ff27208f530; to 'JaxprTracer' at 0x7ff27371abf0>], primitive=xla_call, params={'device': None, 'backend': None, 'name': 'jvp(true_divide)', 'donated_invars': (False, False), 'inline': True, 'call_jaxpr': { lambda ; a:f32[] b:f32[]. let c:f32[] = div b a in (c,) }}, source_info=<jaxlib.xla_extension.Traceback object at 0x7ff2735fdab0>)\n",
      "[-0.00017881 -0.00018147 -0.00033253]\n",
      "2.4007134\n",
      "Traced<ConcreteArray(2.4007134437561035, dtype=float32)>with<JVPTrace(level=2/0)> with\n",
      "  primal = DeviceArray(2.4007134, dtype=float32)\n",
      "  tangent = Traced<ShapedArray(float32[])>with<JaxprTrace(level=1/0)> with\n",
      "    pval = (ShapedArray(float32[]), *)\n",
      "    recipe = JaxprEqnRecipe(eqn_id=<object object at 0x7ff2747c2d70>, invars=(Traced<ConcreteArray(20.0, dtype=float32):JaxprTrace(level=1/0)>, Traced<ShapedArray(float32[]):JaxprTrace(level=1/0)>), outvars=[<weakref at 0x7ff27208f110; to 'JaxprTracer' at 0x7ff27208f410>], primitive=xla_call, params={'device': None, 'backend': None, 'name': 'jvp(true_divide)', 'donated_invars': (False, False), 'inline': True, 'call_jaxpr': { lambda ; a:f32[] b:f32[]. let c:f32[] = div b a in (c,) }}, source_info=<jaxlib.xla_extension.Traceback object at 0x7ff273b47930>)\n",
      "[-1.3232231e-05 -1.7881393e-07 -3.1590462e-06]\n",
      "2.4007134\n",
      "Traced<ConcreteArray(2.4007129669189453, dtype=float32)>with<JVPTrace(level=2/0)> with\n",
      "  primal = DeviceArray(2.400713, dtype=float32)\n",
      "  tangent = Traced<ShapedArray(float32[])>with<JaxprTrace(level=1/0)> with\n",
      "    pval = (ShapedArray(float32[]), *)\n",
      "    recipe = JaxprEqnRecipe(eqn_id=<object object at 0x7ff2747c2170>, invars=(Traced<ConcreteArray(20.0, dtype=float32):JaxprTrace(level=1/0)>, Traced<ShapedArray(float32[]):JaxprTrace(level=1/0)>), outvars=[<weakref at 0x7ff273032890; to 'JaxprTracer' at 0x7ff2730325f0>], primitive=xla_call, params={'device': None, 'backend': None, 'name': 'jvp(true_divide)', 'donated_invars': (False, False), 'inline': True, 'call_jaxpr': { lambda ; a:f32[] b:f32[]. let c:f32[] = div b a in (c,) }}, source_info=<jaxlib.xla_extension.Traceback object at 0x7ff271d633f0>)\n",
      "[-0.00012451 -0.00012171 -0.0002234 ]\n",
      "2.4007127\n",
      "Traced<ConcreteArray(2.400712728500366, dtype=float32)>with<JVPTrace(level=2/0)> with\n",
      "  primal = DeviceArray(2.4007127, dtype=float32)\n",
      "  tangent = Traced<ShapedArray(float32[])>with<JaxprTrace(level=1/0)> with\n",
      "    pval = (ShapedArray(float32[]), *)\n",
      "    recipe = JaxprEqnRecipe(eqn_id=<object object at 0x7ff2747c25d0>, invars=(Traced<ConcreteArray(20.0, dtype=float32):JaxprTrace(level=1/0)>, Traced<ShapedArray(float32[]):JaxprTrace(level=1/0)>), outvars=[<weakref at 0x7ff273fab2f0; to 'JaxprTracer' at 0x7ff273fabf50>], primitive=xla_call, params={'device': None, 'backend': None, 'name': 'jvp(true_divide)', 'donated_invars': (False, False), 'inline': True, 'call_jaxpr': { lambda ; a:f32[] b:f32[]. let c:f32[] = div b a in (c,) }}, source_info=<jaxlib.xla_extension.Traceback object at 0x7ff271c51bf0>)\n",
      "[-0.00016618 -0.0001677  -0.00030613]\n",
      "2.4007132\n",
      "Traced<ConcreteArray(2.4007132053375244, dtype=float32)>with<JVPTrace(level=2/0)> with\n",
      "  primal = DeviceArray(2.4007132, dtype=float32)\n",
      "  tangent = Traced<ShapedArray(float32[])>with<JaxprTrace(level=1/0)> with\n",
      "    pval = (ShapedArray(float32[]), *)\n",
      "    recipe = JaxprEqnRecipe(eqn_id=<object object at 0x7ff2747c2110>, invars=(Traced<ConcreteArray(20.0, dtype=float32):JaxprTrace(level=1/0)>, Traced<ShapedArray(float32[]):JaxprTrace(level=1/0)>), outvars=[<weakref at 0x7ff27352acb0; to 'JaxprTracer' at 0x7ff27352a9b0>], primitive=xla_call, params={'device': None, 'backend': None, 'name': 'jvp(true_divide)', 'donated_invars': (False, False), 'inline': True, 'call_jaxpr': { lambda ; a:f32[] b:f32[]. let c:f32[] = div b a in (c,) }}, source_info=<jaxlib.xla_extension.Traceback object at 0x7ff273b306b0>)\n",
      "[-0.00016603 -0.00016722 -0.00030607]\n",
      "2.4007127\n",
      "Traced<ConcreteArray(2.400712728500366, dtype=float32)>with<JVPTrace(level=2/0)> with\n",
      "  primal = DeviceArray(2.4007127, dtype=float32)\n",
      "  tangent = Traced<ShapedArray(float32[])>with<JaxprTrace(level=1/0)> with\n",
      "    pval = (ShapedArray(float32[]), *)\n",
      "    recipe = JaxprEqnRecipe(eqn_id=<object object at 0x7ff2747c2c10>, invars=(Traced<ConcreteArray(20.0, dtype=float32):JaxprTrace(level=1/0)>, Traced<ShapedArray(float32[]):JaxprTrace(level=1/0)>), outvars=[<weakref at 0x7ff27231ac50; to 'JaxprTracer' at 0x7ff27231a650>], primitive=xla_call, params={'device': None, 'backend': None, 'name': 'jvp(true_divide)', 'donated_invars': (False, False), 'inline': True, 'call_jaxpr': { lambda ; a:f32[] b:f32[]. let c:f32[] = div b a in (c,) }}, source_info=<jaxlib.xla_extension.Traceback object at 0x7ff261dfef30>)\n",
      "[-0.00016618 -0.0001677  -0.00030613]\n",
      "2.4007127\n",
      "Traced<ConcreteArray(2.400712728500366, dtype=float32)>with<JVPTrace(level=2/0)> with\n",
      "  primal = DeviceArray(2.4007127, dtype=float32)\n",
      "  tangent = Traced<ShapedArray(float32[])>with<JaxprTrace(level=1/0)> with\n",
      "    pval = (ShapedArray(float32[]), *)\n",
      "    recipe = JaxprEqnRecipe(eqn_id=<object object at 0x7ff2747c25c0>, invars=(Traced<ConcreteArray(20.0, dtype=float32):JaxprTrace(level=1/0)>, Traced<ShapedArray(float32[]):JaxprTrace(level=1/0)>), outvars=[<weakref at 0x7ff2741eaef0; to 'JaxprTracer' at 0x7ff2741eae90>], primitive=xla_call, params={'device': None, 'backend': None, 'name': 'jvp(true_divide)', 'donated_invars': (False, False), 'inline': True, 'call_jaxpr': { lambda ; a:f32[] b:f32[]. let c:f32[] = div b a in (c,) }}, source_info=<jaxlib.xla_extension.Traceback object at 0x7ff273b69ef0>)\n",
      "[-0.00016618 -0.0001677  -0.00030613]\n",
      "2.4007134\n",
      "Traced<ConcreteArray(2.4007134437561035, dtype=float32)>with<JVPTrace(level=2/0)> with\n",
      "  primal = DeviceArray(2.4007134, dtype=float32)\n",
      "  tangent = Traced<ShapedArray(float32[])>with<JaxprTrace(level=1/0)> with\n",
      "    pval = (ShapedArray(float32[]), *)\n",
      "    recipe = JaxprEqnRecipe(eqn_id=<object object at 0x7ff2747c2310>, invars=(Traced<ConcreteArray(20.0, dtype=float32):JaxprTrace(level=1/0)>, Traced<ShapedArray(float32[]):JaxprTrace(level=1/0)>), outvars=[<weakref at 0x7ff273af41d0; to 'JaxprTracer' at 0x7ff273af4770>], primitive=xla_call, params={'device': None, 'backend': None, 'name': 'jvp(true_divide)', 'donated_invars': (False, False), 'inline': True, 'call_jaxpr': { lambda ; a:f32[] b:f32[]. let c:f32[] = div b a in (c,) }}, source_info=<jaxlib.xla_extension.Traceback object at 0x7ff273f7adb0>)\n",
      "[-0.0001663  -0.00016785 -0.00030577]\n",
      "2.4007127\n",
      "Traced<ConcreteArray(2.400712728500366, dtype=float32)>with<JVPTrace(level=2/0)> with\n",
      "  primal = DeviceArray(2.4007127, dtype=float32)\n",
      "  tangent = Traced<ShapedArray(float32[])>with<JaxprTrace(level=1/0)> with\n",
      "    pval = (ShapedArray(float32[]), *)\n",
      "    recipe = JaxprEqnRecipe(eqn_id=<object object at 0x7ff2747c28e0>, invars=(Traced<ConcreteArray(20.0, dtype=float32):JaxprTrace(level=1/0)>, Traced<ShapedArray(float32[]):JaxprTrace(level=1/0)>), outvars=[<weakref at 0x7ff27479b350; to 'JaxprTracer' at 0x7ff27479b5f0>], primitive=xla_call, params={'device': None, 'backend': None, 'name': 'jvp(true_divide)', 'donated_invars': (False, False), 'inline': True, 'call_jaxpr': { lambda ; a:f32[] b:f32[]. let c:f32[] = div b a in (c,) }}, source_info=<jaxlib.xla_extension.Traceback object at 0x7ff273b305b0>)\n",
      "[-0.00016618 -0.0001677  -0.00030613]\n",
      "2.4007127\n",
      "Traced<ConcreteArray(2.400712728500366, dtype=float32)>with<JVPTrace(level=2/0)> with\n",
      "  primal = DeviceArray(2.4007127, dtype=float32)\n",
      "  tangent = Traced<ShapedArray(float32[])>with<JaxprTrace(level=1/0)> with\n",
      "    pval = (ShapedArray(float32[]), *)\n",
      "    recipe = JaxprEqnRecipe(eqn_id=<object object at 0x7ff2747c2a50>, invars=(Traced<ConcreteArray(20.0, dtype=float32):JaxprTrace(level=1/0)>, Traced<ShapedArray(float32[]):JaxprTrace(level=1/0)>), outvars=[<weakref at 0x7ff274a8add0; to 'JaxprTracer' at 0x7ff274a8a470>], primitive=xla_call, params={'device': None, 'backend': None, 'name': 'jvp(true_divide)', 'donated_invars': (False, False), 'inline': True, 'call_jaxpr': { lambda ; a:f32[] b:f32[]. let c:f32[] = div b a in (c,) }}, source_info=<jaxlib.xla_extension.Traceback object at 0x7ff273f7a2f0>)\n",
      "[-0.00016618 -0.0001677  -0.00030613]\n",
      "2.4007127\n"
     ]
    },
    {
     "name": "stdout",
     "output_type": "stream",
     "text": [
      "Traced<ConcreteArray(2.4007129669189453, dtype=float32)>with<JVPTrace(level=2/0)> with\n",
      "  primal = DeviceArray(2.400713, dtype=float32)\n",
      "  tangent = Traced<ShapedArray(float32[])>with<JaxprTrace(level=1/0)> with\n",
      "    pval = (ShapedArray(float32[]), *)\n",
      "    recipe = JaxprEqnRecipe(eqn_id=<object object at 0x7ff2747c2340>, invars=(Traced<ConcreteArray(20.0, dtype=float32):JaxprTrace(level=1/0)>, Traced<ShapedArray(float32[]):JaxprTrace(level=1/0)>), outvars=[<weakref at 0x7ff274a8a170; to 'JaxprTracer' at 0x7ff274a8ad70>], primitive=xla_call, params={'device': None, 'backend': None, 'name': 'jvp(true_divide)', 'donated_invars': (False, False), 'inline': True, 'call_jaxpr': { lambda ; a:f32[] b:f32[]. let c:f32[] = div b a in (c,) }}, source_info=<jaxlib.xla_extension.Traceback object at 0x7ff273214470>)\n",
      "[-0.00016585 -0.00016734 -0.00030595]\n",
      "2.4007127\n",
      "Traced<ConcreteArray(2.4007129669189453, dtype=float32)>with<JVPTrace(level=2/0)> with\n",
      "  primal = DeviceArray(2.400713, dtype=float32)\n",
      "  tangent = Traced<ShapedArray(float32[])>with<JaxprTrace(level=1/0)> with\n",
      "    pval = (ShapedArray(float32[]), *)\n",
      "    recipe = JaxprEqnRecipe(eqn_id=<object object at 0x7ff2747c2a40>, invars=(Traced<ConcreteArray(20.0, dtype=float32):JaxprTrace(level=1/0)>, Traced<ShapedArray(float32[]):JaxprTrace(level=1/0)>), outvars=[<weakref at 0x7ff2728808f0; to 'JaxprTracer' at 0x7ff272880530>], primitive=xla_call, params={'device': None, 'backend': None, 'name': 'jvp(true_divide)', 'donated_invars': (False, False), 'inline': True, 'call_jaxpr': { lambda ; a:f32[] b:f32[]. let c:f32[] = div b a in (c,) }}, source_info=<jaxlib.xla_extension.Traceback object at 0x7ff2723c44b0>)\n",
      "[-0.00016585 -0.00016734 -0.00030595]\n",
      "2.4007127\n",
      "Traced<ConcreteArray(2.4007129669189453, dtype=float32)>with<JVPTrace(level=2/0)> with\n",
      "  primal = DeviceArray(2.400713, dtype=float32)\n",
      "  tangent = Traced<ShapedArray(float32[])>with<JaxprTrace(level=1/0)> with\n",
      "    pval = (ShapedArray(float32[]), *)\n",
      "    recipe = JaxprEqnRecipe(eqn_id=<object object at 0x7ff2747c2430>, invars=(Traced<ConcreteArray(20.0, dtype=float32):JaxprTrace(level=1/0)>, Traced<ShapedArray(float32[]):JaxprTrace(level=1/0)>), outvars=[<weakref at 0x7ff2740174d0; to 'JaxprTracer' at 0x7ff274017830>], primitive=xla_call, params={'device': None, 'backend': None, 'name': 'jvp(true_divide)', 'donated_invars': (False, False), 'inline': True, 'call_jaxpr': { lambda ; a:f32[] b:f32[]. let c:f32[] = div b a in (c,) }}, source_info=<jaxlib.xla_extension.Traceback object at 0x7ff271c51ef0>)\n",
      "[-0.00016585 -0.00016734 -0.00030595]\n",
      "2.4007127\n",
      "Traced<ConcreteArray(2.4007129669189453, dtype=float32)>with<JVPTrace(level=2/0)> with\n",
      "  primal = DeviceArray(2.400713, dtype=float32)\n",
      "  tangent = Traced<ShapedArray(float32[])>with<JaxprTrace(level=1/0)> with\n",
      "    pval = (ShapedArray(float32[]), *)\n",
      "    recipe = JaxprEqnRecipe(eqn_id=<object object at 0x7ff2747c2fe0>, invars=(Traced<ConcreteArray(20.0, dtype=float32):JaxprTrace(level=1/0)>, Traced<ShapedArray(float32[]):JaxprTrace(level=1/0)>), outvars=[<weakref at 0x7ff2723c95f0; to 'JaxprTracer' at 0x7ff2723c98f0>], primitive=xla_call, params={'device': None, 'backend': None, 'name': 'jvp(true_divide)', 'donated_invars': (False, False), 'inline': True, 'call_jaxpr': { lambda ; a:f32[] b:f32[]. let c:f32[] = div b a in (c,) }}, source_info=<jaxlib.xla_extension.Traceback object at 0x7ff273214af0>)\n",
      "[-0.00016585 -0.00016734 -0.00030595]\n",
      "2.4007127\n",
      "Traced<ConcreteArray(2.4007129669189453, dtype=float32)>with<JVPTrace(level=2/0)> with\n",
      "  primal = DeviceArray(2.400713, dtype=float32)\n",
      "  tangent = Traced<ShapedArray(float32[])>with<JaxprTrace(level=1/0)> with\n",
      "    pval = (ShapedArray(float32[]), *)\n",
      "    recipe = JaxprEqnRecipe(eqn_id=<object object at 0x7ff2747c2e10>, invars=(Traced<ConcreteArray(20.0, dtype=float32):JaxprTrace(level=1/0)>, Traced<ShapedArray(float32[]):JaxprTrace(level=1/0)>), outvars=[<weakref at 0x7ff274a87dd0; to 'JaxprTracer' at 0x7ff2723c9350>], primitive=xla_call, params={'device': None, 'backend': None, 'name': 'jvp(true_divide)', 'donated_invars': (False, False), 'inline': True, 'call_jaxpr': { lambda ; a:f32[] b:f32[]. let c:f32[] = div b a in (c,) }}, source_info=<jaxlib.xla_extension.Traceback object at 0x7ff271d63730>)\n",
      "[-0.00016585 -0.00016734 -0.00030595]\n",
      "2.4007127\n",
      "Traced<ConcreteArray(2.4007129669189453, dtype=float32)>with<JVPTrace(level=2/0)> with\n",
      "  primal = DeviceArray(2.400713, dtype=float32)\n",
      "  tangent = Traced<ShapedArray(float32[])>with<JaxprTrace(level=1/0)> with\n",
      "    pval = (ShapedArray(float32[]), *)\n",
      "    recipe = JaxprEqnRecipe(eqn_id=<object object at 0x7ff2747c2320>, invars=(Traced<ConcreteArray(20.0, dtype=float32):JaxprTrace(level=1/0)>, Traced<ShapedArray(float32[]):JaxprTrace(level=1/0)>), outvars=[<weakref at 0x7ff274a87890; to 'JaxprTracer' at 0x7ff274a87a70>], primitive=xla_call, params={'device': None, 'backend': None, 'name': 'jvp(true_divide)', 'donated_invars': (False, False), 'inline': True, 'call_jaxpr': { lambda ; a:f32[] b:f32[]. let c:f32[] = div b a in (c,) }}, source_info=<jaxlib.xla_extension.Traceback object at 0x7ff273b30030>)\n",
      "[-0.00016585 -0.00016734 -0.00030595]\n",
      "2.4007127\n",
      "Traced<ConcreteArray(2.4007129669189453, dtype=float32)>with<JVPTrace(level=2/0)> with\n",
      "  primal = DeviceArray(2.400713, dtype=float32)\n",
      "  tangent = Traced<ShapedArray(float32[])>with<JaxprTrace(level=1/0)> with\n",
      "    pval = (ShapedArray(float32[]), *)\n",
      "    recipe = JaxprEqnRecipe(eqn_id=<object object at 0x7ff2747c2490>, invars=(Traced<ConcreteArray(20.0, dtype=float32):JaxprTrace(level=1/0)>, Traced<ShapedArray(float32[]):JaxprTrace(level=1/0)>), outvars=[<weakref at 0x7ff2741f13b0; to 'JaxprTracer' at 0x7ff2741f1d10>], primitive=xla_call, params={'device': None, 'backend': None, 'name': 'jvp(true_divide)', 'donated_invars': (False, False), 'inline': True, 'call_jaxpr': { lambda ; a:f32[] b:f32[]. let c:f32[] = div b a in (c,) }}, source_info=<jaxlib.xla_extension.Traceback object at 0x7ff273821030>)\n",
      "[-0.00016585 -0.00016734 -0.00030595]\n",
      "2.4007127\n",
      "Traced<ConcreteArray(2.4007129669189453, dtype=float32)>with<JVPTrace(level=2/0)> with\n",
      "  primal = DeviceArray(2.400713, dtype=float32)\n",
      "  tangent = Traced<ShapedArray(float32[])>with<JaxprTrace(level=1/0)> with\n",
      "    pval = (ShapedArray(float32[]), *)\n",
      "    recipe = JaxprEqnRecipe(eqn_id=<object object at 0x7ff2747c2470>, invars=(Traced<ConcreteArray(20.0, dtype=float32):JaxprTrace(level=1/0)>, Traced<ShapedArray(float32[]):JaxprTrace(level=1/0)>), outvars=[<weakref at 0x7ff273c2afb0; to 'JaxprTracer' at 0x7ff27415bb30>], primitive=xla_call, params={'device': None, 'backend': None, 'name': 'jvp(true_divide)', 'donated_invars': (False, False), 'inline': True, 'call_jaxpr': { lambda ; a:f32[] b:f32[]. let c:f32[] = div b a in (c,) }}, source_info=<jaxlib.xla_extension.Traceback object at 0x7ff27323f530>)\n",
      "[-0.00016585 -0.00016734 -0.00030595]\n",
      "2.4007127\n",
      "Traced<ConcreteArray(2.4007129669189453, dtype=float32)>with<JVPTrace(level=2/0)> with\n",
      "  primal = DeviceArray(2.400713, dtype=float32)\n",
      "  tangent = Traced<ShapedArray(float32[])>with<JaxprTrace(level=1/0)> with\n",
      "    pval = (ShapedArray(float32[]), *)\n",
      "    recipe = JaxprEqnRecipe(eqn_id=<object object at 0x7ff2747c2b70>, invars=(Traced<ConcreteArray(20.0, dtype=float32):JaxprTrace(level=1/0)>, Traced<ShapedArray(float32[]):JaxprTrace(level=1/0)>), outvars=[<weakref at 0x7ff273fede90; to 'JaxprTracer' at 0x7ff273fed530>], primitive=xla_call, params={'device': None, 'backend': None, 'name': 'jvp(true_divide)', 'donated_invars': (False, False), 'inline': True, 'call_jaxpr': { lambda ; a:f32[] b:f32[]. let c:f32[] = div b a in (c,) }}, source_info=<jaxlib.xla_extension.Traceback object at 0x7ff271d63e30>)\n",
      "[-0.00016585 -0.00016734 -0.00030595]\n",
      "2.4007127\n",
      "Traced<ConcreteArray(2.4007129669189453, dtype=float32)>with<JVPTrace(level=2/0)> with\n",
      "  primal = DeviceArray(2.400713, dtype=float32)\n",
      "  tangent = Traced<ShapedArray(float32[])>with<JaxprTrace(level=1/0)> with\n",
      "    pval = (ShapedArray(float32[]), *)\n",
      "    recipe = JaxprEqnRecipe(eqn_id=<object object at 0x7ff2747c26d0>, invars=(Traced<ConcreteArray(20.0, dtype=float32):JaxprTrace(level=1/0)>, Traced<ShapedArray(float32[]):JaxprTrace(level=1/0)>), outvars=[<weakref at 0x7ff27325b470; to 'JaxprTracer' at 0x7ff27325bf50>], primitive=xla_call, params={'device': None, 'backend': None, 'name': 'jvp(true_divide)', 'donated_invars': (False, False), 'inline': True, 'call_jaxpr': { lambda ; a:f32[] b:f32[]. let c:f32[] = div b a in (c,) }}, source_info=<jaxlib.xla_extension.Traceback object at 0x7ff2723c4c70>)\n",
      "[-0.00016585 -0.00016734 -0.00030595]\n",
      "2.4007134\n",
      "Traced<ConcreteArray(2.4007134437561035, dtype=float32)>with<JVPTrace(level=2/0)> with\n",
      "  primal = DeviceArray(2.4007134, dtype=float32)\n",
      "  tangent = Traced<ShapedArray(float32[])>with<JaxprTrace(level=1/0)> with\n",
      "    pval = (ShapedArray(float32[]), *)\n",
      "    recipe = JaxprEqnRecipe(eqn_id=<object object at 0x7ff2747c2830>, invars=(Traced<ConcreteArray(20.0, dtype=float32):JaxprTrace(level=1/0)>, Traced<ShapedArray(float32[]):JaxprTrace(level=1/0)>), outvars=[<weakref at 0x7ff272bffef0; to 'JaxprTracer' at 0x7ff2728cfef0>], primitive=xla_call, params={'device': None, 'backend': None, 'name': 'jvp(true_divide)', 'donated_invars': (False, False), 'inline': True, 'call_jaxpr': { lambda ; a:f32[] b:f32[]. let c:f32[] = div b a in (c,) }}, source_info=<jaxlib.xla_extension.Traceback object at 0x7ff2731e09f0>)\n",
      "[-0.0001663  -0.00016785 -0.00030577]\n",
      "2.4007127\n",
      "Traced<ConcreteArray(2.4007129669189453, dtype=float32)>with<JVPTrace(level=2/0)> with\n",
      "  primal = DeviceArray(2.400713, dtype=float32)\n",
      "  tangent = Traced<ShapedArray(float32[])>with<JaxprTrace(level=1/0)> with\n",
      "    pval = (ShapedArray(float32[]), *)\n",
      "    recipe = JaxprEqnRecipe(eqn_id=<object object at 0x7ff2747c21e0>, invars=(Traced<ConcreteArray(20.0, dtype=float32):JaxprTrace(level=1/0)>, Traced<ShapedArray(float32[]):JaxprTrace(level=1/0)>), outvars=[<weakref at 0x7ff274004170; to 'JaxprTracer' at 0x7ff274004fb0>], primitive=xla_call, params={'device': None, 'backend': None, 'name': 'jvp(true_divide)', 'donated_invars': (False, False), 'inline': True, 'call_jaxpr': { lambda ; a:f32[] b:f32[]. let c:f32[] = div b a in (c,) }}, source_info=<jaxlib.xla_extension.Traceback object at 0x7ff2732146b0>)\n",
      "[-0.00016585 -0.00016734 -0.00030595]\n",
      "2.4007127\n"
     ]
    },
    {
     "name": "stdout",
     "output_type": "stream",
     "text": [
      "Traced<ConcreteArray(2.4007129669189453, dtype=float32)>with<JVPTrace(level=2/0)> with\n",
      "  primal = DeviceArray(2.400713, dtype=float32)\n",
      "  tangent = Traced<ShapedArray(float32[])>with<JaxprTrace(level=1/0)> with\n",
      "    pval = (ShapedArray(float32[]), *)\n",
      "    recipe = JaxprEqnRecipe(eqn_id=<object object at 0x7ff2747c2620>, invars=(Traced<ConcreteArray(20.0, dtype=float32):JaxprTrace(level=1/0)>, Traced<ShapedArray(float32[]):JaxprTrace(level=1/0)>), outvars=[<weakref at 0x7ff273f30a10; to 'JaxprTracer' at 0x7ff273f30ad0>], primitive=xla_call, params={'device': None, 'backend': None, 'name': 'jvp(true_divide)', 'donated_invars': (False, False), 'inline': True, 'call_jaxpr': { lambda ; a:f32[] b:f32[]. let c:f32[] = div b a in (c,) }}, source_info=<jaxlib.xla_extension.Traceback object at 0x7ff261b35d30>)\n",
      "[-0.00016585 -0.00016734 -0.00030595]\n",
      "2.4007127\n",
      "Traced<ConcreteArray(2.4007129669189453, dtype=float32)>with<JVPTrace(level=2/0)> with\n",
      "  primal = DeviceArray(2.400713, dtype=float32)\n",
      "  tangent = Traced<ShapedArray(float32[])>with<JaxprTrace(level=1/0)> with\n",
      "    pval = (ShapedArray(float32[]), *)\n",
      "    recipe = JaxprEqnRecipe(eqn_id=<object object at 0x7ff2747c26c0>, invars=(Traced<ConcreteArray(20.0, dtype=float32):JaxprTrace(level=1/0)>, Traced<ShapedArray(float32[]):JaxprTrace(level=1/0)>), outvars=[<weakref at 0x7ff2306c82f0; to 'JaxprTracer' at 0x7ff240773c50>], primitive=xla_call, params={'device': None, 'backend': None, 'name': 'jvp(true_divide)', 'donated_invars': (False, False), 'inline': True, 'call_jaxpr': { lambda ; a:f32[] b:f32[]. let c:f32[] = div b a in (c,) }}, source_info=<jaxlib.xla_extension.Traceback object at 0x7ff272aa24b0>)\n",
      "[-0.00016585 -0.00016734 -0.00030595]\n",
      "2.4007127\n",
      "Traced<ConcreteArray(2.4007129669189453, dtype=float32)>with<JVPTrace(level=2/0)> with\n",
      "  primal = DeviceArray(2.400713, dtype=float32)\n",
      "  tangent = Traced<ShapedArray(float32[])>with<JaxprTrace(level=1/0)> with\n",
      "    pval = (ShapedArray(float32[]), *)\n",
      "    recipe = JaxprEqnRecipe(eqn_id=<object object at 0x7ff2747c26e0>, invars=(Traced<ConcreteArray(20.0, dtype=float32):JaxprTrace(level=1/0)>, Traced<ShapedArray(float32[]):JaxprTrace(level=1/0)>), outvars=[<weakref at 0x7ff27217c770; to 'JaxprTracer' at 0x7ff27217c0b0>], primitive=xla_call, params={'device': None, 'backend': None, 'name': 'jvp(true_divide)', 'donated_invars': (False, False), 'inline': True, 'call_jaxpr': { lambda ; a:f32[] b:f32[]. let c:f32[] = div b a in (c,) }}, source_info=<jaxlib.xla_extension.Traceback object at 0x7ff272d67170>)\n",
      "[-0.00016585 -0.00016734 -0.00030595]\n",
      "2.4007127\n",
      "Traced<ConcreteArray(2.4007129669189453, dtype=float32)>with<JVPTrace(level=2/0)> with\n",
      "  primal = DeviceArray(2.400713, dtype=float32)\n",
      "  tangent = Traced<ShapedArray(float32[])>with<JaxprTrace(level=1/0)> with\n",
      "    pval = (ShapedArray(float32[]), *)\n",
      "    recipe = JaxprEqnRecipe(eqn_id=<object object at 0x7ff2747c2d70>, invars=(Traced<ConcreteArray(20.0, dtype=float32):JaxprTrace(level=1/0)>, Traced<ShapedArray(float32[]):JaxprTrace(level=1/0)>), outvars=[<weakref at 0x7ff274168290; to 'JaxprTracer' at 0x7ff2741685f0>], primitive=xla_call, params={'device': None, 'backend': None, 'name': 'jvp(true_divide)', 'donated_invars': (False, False), 'inline': True, 'call_jaxpr': { lambda ; a:f32[] b:f32[]. let c:f32[] = div b a in (c,) }}, source_info=<jaxlib.xla_extension.Traceback object at 0x7ff2731e0ab0>)\n",
      "[-0.00016585 -0.00016734 -0.00030595]\n",
      "2.4007127\n",
      "Traced<ConcreteArray(2.4007129669189453, dtype=float32)>with<JVPTrace(level=2/0)> with\n",
      "  primal = DeviceArray(2.400713, dtype=float32)\n",
      "  tangent = Traced<ShapedArray(float32[])>with<JaxprTrace(level=1/0)> with\n",
      "    pval = (ShapedArray(float32[]), *)\n",
      "    recipe = JaxprEqnRecipe(eqn_id=<object object at 0x7ff2747c27f0>, invars=(Traced<ConcreteArray(20.0, dtype=float32):JaxprTrace(level=1/0)>, Traced<ShapedArray(float32[]):JaxprTrace(level=1/0)>), outvars=[<weakref at 0x7ff2406e8050; to 'JaxprTracer' at 0x7ff2406e8590>], primitive=xla_call, params={'device': None, 'backend': None, 'name': 'jvp(true_divide)', 'donated_invars': (False, False), 'inline': True, 'call_jaxpr': { lambda ; a:f32[] b:f32[]. let c:f32[] = div b a in (c,) }}, source_info=<jaxlib.xla_extension.Traceback object at 0x7ff273214f30>)\n",
      "[-0.00016585 -0.00016734 -0.00030595]\n",
      "2.4007127\n",
      "Traced<ConcreteArray(2.4007129669189453, dtype=float32)>with<JVPTrace(level=2/0)> with\n",
      "  primal = DeviceArray(2.400713, dtype=float32)\n",
      "  tangent = Traced<ShapedArray(float32[])>with<JaxprTrace(level=1/0)> with\n",
      "    pval = (ShapedArray(float32[]), *)\n",
      "    recipe = JaxprEqnRecipe(eqn_id=<object object at 0x7ff2747c23d0>, invars=(Traced<ConcreteArray(20.0, dtype=float32):JaxprTrace(level=1/0)>, Traced<ShapedArray(float32[]):JaxprTrace(level=1/0)>), outvars=[<weakref at 0x7ff27355a050; to 'JaxprTracer' at 0x7ff27355a770>], primitive=xla_call, params={'device': None, 'backend': None, 'name': 'jvp(true_divide)', 'donated_invars': (False, False), 'inline': True, 'call_jaxpr': { lambda ; a:f32[] b:f32[]. let c:f32[] = div b a in (c,) }}, source_info=<jaxlib.xla_extension.Traceback object at 0x7ff261729030>)\n",
      "[-0.00016585 -0.00016734 -0.00030595]\n",
      "2.4007127\n",
      "Traced<ConcreteArray(2.4007129669189453, dtype=float32)>with<JVPTrace(level=2/0)> with\n",
      "  primal = DeviceArray(2.400713, dtype=float32)\n",
      "  tangent = Traced<ShapedArray(float32[])>with<JaxprTrace(level=1/0)> with\n",
      "    pval = (ShapedArray(float32[]), *)\n",
      "    recipe = JaxprEqnRecipe(eqn_id=<object object at 0x7ff2747c2720>, invars=(Traced<ConcreteArray(20.0, dtype=float32):JaxprTrace(level=1/0)>, Traced<ShapedArray(float32[]):JaxprTrace(level=1/0)>), outvars=[<weakref at 0x7ff27420ad10; to 'JaxprTracer' at 0x7ff27420abf0>], primitive=xla_call, params={'device': None, 'backend': None, 'name': 'jvp(true_divide)', 'donated_invars': (False, False), 'inline': True, 'call_jaxpr': { lambda ; a:f32[] b:f32[]. let c:f32[] = div b a in (c,) }}, source_info=<jaxlib.xla_extension.Traceback object at 0x7ff272aa2170>)\n",
      "[-0.00016585 -0.00016734 -0.00030595]\n",
      "2.4007127\n",
      "Traced<ConcreteArray(2.4007129669189453, dtype=float32)>with<JVPTrace(level=2/0)> with\n",
      "  primal = DeviceArray(2.400713, dtype=float32)\n",
      "  tangent = Traced<ShapedArray(float32[])>with<JaxprTrace(level=1/0)> with\n",
      "    pval = (ShapedArray(float32[]), *)\n",
      "    recipe = JaxprEqnRecipe(eqn_id=<object object at 0x7ff2747c2710>, invars=(Traced<ConcreteArray(20.0, dtype=float32):JaxprTrace(level=1/0)>, Traced<ShapedArray(float32[]):JaxprTrace(level=1/0)>), outvars=[<weakref at 0x7ff2722548f0; to 'JaxprTracer' at 0x7ff272254950>], primitive=xla_call, params={'device': None, 'backend': None, 'name': 'jvp(true_divide)', 'donated_invars': (False, False), 'inline': True, 'call_jaxpr': { lambda ; a:f32[] b:f32[]. let c:f32[] = div b a in (c,) }}, source_info=<jaxlib.xla_extension.Traceback object at 0x7ff2731e09f0>)\n",
      "[-0.00016585 -0.00016734 -0.00030595]\n",
      "2.4007127\n",
      "Traced<ConcreteArray(2.4007129669189453, dtype=float32)>with<JVPTrace(level=2/0)> with\n",
      "  primal = DeviceArray(2.400713, dtype=float32)\n",
      "  tangent = Traced<ShapedArray(float32[])>with<JaxprTrace(level=1/0)> with\n",
      "    pval = (ShapedArray(float32[]), *)\n",
      "    recipe = JaxprEqnRecipe(eqn_id=<object object at 0x7ff2747c2200>, invars=(Traced<ConcreteArray(20.0, dtype=float32):JaxprTrace(level=1/0)>, Traced<ShapedArray(float32[]):JaxprTrace(level=1/0)>), outvars=[<weakref at 0x7ff272254e30; to 'JaxprTracer' at 0x7ff272254050>], primitive=xla_call, params={'device': None, 'backend': None, 'name': 'jvp(true_divide)', 'donated_invars': (False, False), 'inline': True, 'call_jaxpr': { lambda ; a:f32[] b:f32[]. let c:f32[] = div b a in (c,) }}, source_info=<jaxlib.xla_extension.Traceback object at 0x7ff2732146b0>)\n",
      "[-0.00016585 -0.00016734 -0.00030595]\n",
      "2.4007127\n",
      "Traced<ConcreteArray(2.4007129669189453, dtype=float32)>with<JVPTrace(level=2/0)> with\n",
      "  primal = DeviceArray(2.400713, dtype=float32)\n",
      "  tangent = Traced<ShapedArray(float32[])>with<JaxprTrace(level=1/0)> with\n",
      "    pval = (ShapedArray(float32[]), *)\n",
      "    recipe = JaxprEqnRecipe(eqn_id=<object object at 0x7ff2747c2280>, invars=(Traced<ConcreteArray(20.0, dtype=float32):JaxprTrace(level=1/0)>, Traced<ShapedArray(float32[]):JaxprTrace(level=1/0)>), outvars=[<weakref at 0x7ff2731d1a10; to 'JaxprTracer' at 0x7ff2731d16b0>], primitive=xla_call, params={'device': None, 'backend': None, 'name': 'jvp(true_divide)', 'donated_invars': (False, False), 'inline': True, 'call_jaxpr': { lambda ; a:f32[] b:f32[]. let c:f32[] = div b a in (c,) }}, source_info=<jaxlib.xla_extension.Traceback object at 0x7ff273b306f0>)\n",
      "[-0.00016585 -0.00016734 -0.00030595]\n",
      "2.4007134\n",
      "Traced<ConcreteArray(2.4007134437561035, dtype=float32)>with<JVPTrace(level=2/0)> with\n",
      "  primal = DeviceArray(2.4007134, dtype=float32)\n",
      "  tangent = Traced<ShapedArray(float32[])>with<JaxprTrace(level=1/0)> with\n",
      "    pval = (ShapedArray(float32[]), *)\n",
      "    recipe = JaxprEqnRecipe(eqn_id=<object object at 0x7ff2747c2a80>, invars=(Traced<ConcreteArray(20.0, dtype=float32):JaxprTrace(level=1/0)>, Traced<ShapedArray(float32[]):JaxprTrace(level=1/0)>), outvars=[<weakref at 0x7ff2741842f0; to 'JaxprTracer' at 0x7ff274184c50>], primitive=xla_call, params={'device': None, 'backend': None, 'name': 'jvp(true_divide)', 'donated_invars': (False, False), 'inline': True, 'call_jaxpr': { lambda ; a:f32[] b:f32[]. let c:f32[] = div b a in (c,) }}, source_info=<jaxlib.xla_extension.Traceback object at 0x7ff274211370>)\n",
      "[-0.0001663  -0.00016785 -0.00030577]\n",
      "2.4007127\n",
      "Traced<ConcreteArray(2.4007129669189453, dtype=float32)>with<JVPTrace(level=2/0)> with\n",
      "  primal = DeviceArray(2.400713, dtype=float32)\n",
      "  tangent = Traced<ShapedArray(float32[])>with<JaxprTrace(level=1/0)> with\n",
      "    pval = (ShapedArray(float32[]), *)\n",
      "    recipe = JaxprEqnRecipe(eqn_id=<object object at 0x7ff2747c2c10>, invars=(Traced<ConcreteArray(20.0, dtype=float32):JaxprTrace(level=1/0)>, Traced<ShapedArray(float32[]):JaxprTrace(level=1/0)>), outvars=[<weakref at 0x7ff273533770; to 'JaxprTracer' at 0x7ff273533950>], primitive=xla_call, params={'device': None, 'backend': None, 'name': 'jvp(true_divide)', 'donated_invars': (False, False), 'inline': True, 'call_jaxpr': { lambda ; a:f32[] b:f32[]. let c:f32[] = div b a in (c,) }}, source_info=<jaxlib.xla_extension.Traceback object at 0x7ff272d67430>)\n",
      "[-0.00016585 -0.00016734 -0.00030595]\n",
      "2.4007127\n"
     ]
    },
    {
     "name": "stdout",
     "output_type": "stream",
     "text": [
      "Traced<ConcreteArray(2.4007129669189453, dtype=float32)>with<JVPTrace(level=2/0)> with\n",
      "  primal = DeviceArray(2.400713, dtype=float32)\n",
      "  tangent = Traced<ShapedArray(float32[])>with<JaxprTrace(level=1/0)> with\n",
      "    pval = (ShapedArray(float32[]), *)\n",
      "    recipe = JaxprEqnRecipe(eqn_id=<object object at 0x7ff2747c2470>, invars=(Traced<ConcreteArray(20.0, dtype=float32):JaxprTrace(level=1/0)>, Traced<ShapedArray(float32[]):JaxprTrace(level=1/0)>), outvars=[<weakref at 0x7ff273533350; to 'JaxprTracer' at 0x7ff273533d10>], primitive=xla_call, params={'device': None, 'backend': None, 'name': 'jvp(true_divide)', 'donated_invars': (False, False), 'inline': True, 'call_jaxpr': { lambda ; a:f32[] b:f32[]. let c:f32[] = div b a in (c,) }}, source_info=<jaxlib.xla_extension.Traceback object at 0x7ff273b693b0>)\n",
      "[-0.00016585 -0.00016734 -0.00030595]\n",
      "2.4007134\n",
      "Traced<ConcreteArray(2.4007134437561035, dtype=float32)>with<JVPTrace(level=2/0)> with\n",
      "  primal = DeviceArray(2.4007134, dtype=float32)\n",
      "  tangent = Traced<ShapedArray(float32[])>with<JaxprTrace(level=1/0)> with\n",
      "    pval = (ShapedArray(float32[]), *)\n",
      "    recipe = JaxprEqnRecipe(eqn_id=<object object at 0x7ff2747c2cc0>, invars=(Traced<ConcreteArray(20.0, dtype=float32):JaxprTrace(level=1/0)>, Traced<ShapedArray(float32[]):JaxprTrace(level=1/0)>), outvars=[<weakref at 0x7ff2735334d0; to 'JaxprTracer' at 0x7ff2735332f0>], primitive=xla_call, params={'device': None, 'backend': None, 'name': 'jvp(true_divide)', 'donated_invars': (False, False), 'inline': True, 'call_jaxpr': { lambda ; a:f32[] b:f32[]. let c:f32[] = div b a in (c,) }}, source_info=<jaxlib.xla_extension.Traceback object at 0x7ff272d67df0>)\n",
      "[-0.0001663  -0.00016785 -0.00030577]\n",
      "2.4007127\n",
      "Traced<ConcreteArray(2.4007129669189453, dtype=float32)>with<JVPTrace(level=2/0)> with\n",
      "  primal = DeviceArray(2.400713, dtype=float32)\n",
      "  tangent = Traced<ShapedArray(float32[])>with<JaxprTrace(level=1/0)> with\n",
      "    pval = (ShapedArray(float32[]), *)\n",
      "    recipe = JaxprEqnRecipe(eqn_id=<object object at 0x7ff2747c24d0>, invars=(Traced<ConcreteArray(20.0, dtype=float32):JaxprTrace(level=1/0)>, Traced<ShapedArray(float32[]):JaxprTrace(level=1/0)>), outvars=[<weakref at 0x7ff27479e290; to 'JaxprTracer' at 0x7ff273533d10>], primitive=xla_call, params={'device': None, 'backend': None, 'name': 'jvp(true_divide)', 'donated_invars': (False, False), 'inline': True, 'call_jaxpr': { lambda ; a:f32[] b:f32[]. let c:f32[] = div b a in (c,) }}, source_info=<jaxlib.xla_extension.Traceback object at 0x7ff273f7a0f0>)\n",
      "[-0.00016585 -0.00016734 -0.00030595]\n",
      "2.4007127\n",
      "Traced<ConcreteArray(2.4007129669189453, dtype=float32)>with<JVPTrace(level=2/0)> with\n",
      "  primal = DeviceArray(2.400713, dtype=float32)\n",
      "  tangent = Traced<ShapedArray(float32[])>with<JaxprTrace(level=1/0)> with\n",
      "    pval = (ShapedArray(float32[]), *)\n",
      "    recipe = JaxprEqnRecipe(eqn_id=<object object at 0x7ff2747c2340>, invars=(Traced<ConcreteArray(20.0, dtype=float32):JaxprTrace(level=1/0)>, Traced<ShapedArray(float32[]):JaxprTrace(level=1/0)>), outvars=[<weakref at 0x7ff27479e650; to 'JaxprTracer' at 0x7ff27479e530>], primitive=xla_call, params={'device': None, 'backend': None, 'name': 'jvp(true_divide)', 'donated_invars': (False, False), 'inline': True, 'call_jaxpr': { lambda ; a:f32[] b:f32[]. let c:f32[] = div b a in (c,) }}, source_info=<jaxlib.xla_extension.Traceback object at 0x7ff2406bf4f0>)\n",
      "[-0.00016585 -0.00016734 -0.00030595]\n",
      "2.4007134\n",
      "Traced<ConcreteArray(2.4007134437561035, dtype=float32)>with<JVPTrace(level=2/0)> with\n",
      "  primal = DeviceArray(2.4007134, dtype=float32)\n",
      "  tangent = Traced<ShapedArray(float32[])>with<JaxprTrace(level=1/0)> with\n",
      "    pval = (ShapedArray(float32[]), *)\n",
      "    recipe = JaxprEqnRecipe(eqn_id=<object object at 0x7ff2747c2ea0>, invars=(Traced<ConcreteArray(20.0, dtype=float32):JaxprTrace(level=1/0)>, Traced<ShapedArray(float32[]):JaxprTrace(level=1/0)>), outvars=[<weakref at 0x7ff27479e7d0; to 'JaxprTracer' at 0x7ff27479e9b0>], primitive=xla_call, params={'device': None, 'backend': None, 'name': 'jvp(true_divide)', 'donated_invars': (False, False), 'inline': True, 'call_jaxpr': { lambda ; a:f32[] b:f32[]. let c:f32[] = div b a in (c,) }}, source_info=<jaxlib.xla_extension.Traceback object at 0x7ff273b30a70>)\n",
      "[-0.0001663  -0.00016785 -0.00030577]\n",
      "2.4007127\n",
      "Traced<ConcreteArray(2.4007129669189453, dtype=float32)>with<JVPTrace(level=2/0)> with\n",
      "  primal = DeviceArray(2.400713, dtype=float32)\n",
      "  tangent = Traced<ShapedArray(float32[])>with<JaxprTrace(level=1/0)> with\n",
      "    pval = (ShapedArray(float32[]), *)\n",
      "    recipe = JaxprEqnRecipe(eqn_id=<object object at 0x7ff2747c2370>, invars=(Traced<ConcreteArray(20.0, dtype=float32):JaxprTrace(level=1/0)>, Traced<ShapedArray(float32[]):JaxprTrace(level=1/0)>), outvars=[<weakref at 0x7ff27479ed70; to 'JaxprTracer' at 0x7ff27479ea10>], primitive=xla_call, params={'device': None, 'backend': None, 'name': 'jvp(true_divide)', 'donated_invars': (False, False), 'inline': True, 'call_jaxpr': { lambda ; a:f32[] b:f32[]. let c:f32[] = div b a in (c,) }}, source_info=<jaxlib.xla_extension.Traceback object at 0x7ff2731e09b0>)\n",
      "[-0.00016585 -0.00016734 -0.00030595]\n",
      "2.4007127\n",
      "Traced<ConcreteArray(2.4007129669189453, dtype=float32)>with<JVPTrace(level=2/0)> with\n",
      "  primal = DeviceArray(2.400713, dtype=float32)\n",
      "  tangent = Traced<ShapedArray(float32[])>with<JaxprTrace(level=1/0)> with\n",
      "    pval = (ShapedArray(float32[]), *)\n",
      "    recipe = JaxprEqnRecipe(eqn_id=<object object at 0x7ff2747c2770>, invars=(Traced<ConcreteArray(20.0, dtype=float32):JaxprTrace(level=1/0)>, Traced<ShapedArray(float32[]):JaxprTrace(level=1/0)>), outvars=[<weakref at 0x7ff27479e470; to 'JaxprTracer' at 0x7ff27479ee90>], primitive=xla_call, params={'device': None, 'backend': None, 'name': 'jvp(true_divide)', 'donated_invars': (False, False), 'inline': True, 'call_jaxpr': { lambda ; a:f32[] b:f32[]. let c:f32[] = div b a in (c,) }}, source_info=<jaxlib.xla_extension.Traceback object at 0x7ff272aa2070>)\n",
      "[-0.00016585 -0.00016734 -0.00030595]\n",
      "2.4007127\n",
      "Traced<ConcreteArray(2.4007129669189453, dtype=float32)>with<JVPTrace(level=2/0)> with\n",
      "  primal = DeviceArray(2.400713, dtype=float32)\n",
      "  tangent = Traced<ShapedArray(float32[])>with<JaxprTrace(level=1/0)> with\n",
      "    pval = (ShapedArray(float32[]), *)\n",
      "    recipe = JaxprEqnRecipe(eqn_id=<object object at 0x7ff2747c24e0>, invars=(Traced<ConcreteArray(20.0, dtype=float32):JaxprTrace(level=1/0)>, Traced<ShapedArray(float32[]):JaxprTrace(level=1/0)>), outvars=[<weakref at 0x7ff27479e3b0; to 'JaxprTracer' at 0x7ff27479ef50>], primitive=xla_call, params={'device': None, 'backend': None, 'name': 'jvp(true_divide)', 'donated_invars': (False, False), 'inline': True, 'call_jaxpr': { lambda ; a:f32[] b:f32[]. let c:f32[] = div b a in (c,) }}, source_info=<jaxlib.xla_extension.Traceback object at 0x7ff2406bf4f0>)\n",
      "[-0.00016585 -0.00016734 -0.00030595]\n",
      "2.4007127\n",
      "Traced<ConcreteArray(2.4007129669189453, dtype=float32)>with<JVPTrace(level=2/0)> with\n",
      "  primal = DeviceArray(2.400713, dtype=float32)\n",
      "  tangent = Traced<ShapedArray(float32[])>with<JaxprTrace(level=1/0)> with\n",
      "    pval = (ShapedArray(float32[]), *)\n",
      "    recipe = JaxprEqnRecipe(eqn_id=<object object at 0x7ff2747c2bf0>, invars=(Traced<ConcreteArray(20.0, dtype=float32):JaxprTrace(level=1/0)>, Traced<ShapedArray(float32[]):JaxprTrace(level=1/0)>), outvars=[<weakref at 0x7ff27479e770; to 'JaxprTracer' at 0x7ff27479ecb0>], primitive=xla_call, params={'device': None, 'backend': None, 'name': 'jvp(true_divide)', 'donated_invars': (False, False), 'inline': True, 'call_jaxpr': { lambda ; a:f32[] b:f32[]. let c:f32[] = div b a in (c,) }}, source_info=<jaxlib.xla_extension.Traceback object at 0x7ff230a10db0>)\n",
      "[-0.00016585 -0.00016734 -0.00030595]\n",
      "2.4007127\n",
      "Traced<ConcreteArray(2.4007129669189453, dtype=float32)>with<JVPTrace(level=2/0)> with\n",
      "  primal = DeviceArray(2.400713, dtype=float32)\n",
      "  tangent = Traced<ShapedArray(float32[])>with<JaxprTrace(level=1/0)> with\n",
      "    pval = (ShapedArray(float32[]), *)\n",
      "    recipe = JaxprEqnRecipe(eqn_id=<object object at 0x7ff2747c2eb0>, invars=(Traced<ConcreteArray(20.0, dtype=float32):JaxprTrace(level=1/0)>, Traced<ShapedArray(float32[]):JaxprTrace(level=1/0)>), outvars=[<weakref at 0x7ff27479ec50; to 'JaxprTracer' at 0x7ff27479efb0>], primitive=xla_call, params={'device': None, 'backend': None, 'name': 'jvp(true_divide)', 'donated_invars': (False, False), 'inline': True, 'call_jaxpr': { lambda ; a:f32[] b:f32[]. let c:f32[] = div b a in (c,) }}, source_info=<jaxlib.xla_extension.Traceback object at 0x7ff273821ab0>)\n",
      "[-0.00016585 -0.00016734 -0.00030595]\n",
      "2.4007134\n",
      "Traced<ConcreteArray(2.4007134437561035, dtype=float32)>with<JVPTrace(level=2/0)> with\n",
      "  primal = DeviceArray(2.4007134, dtype=float32)\n",
      "  tangent = Traced<ShapedArray(float32[])>with<JaxprTrace(level=1/0)> with\n",
      "    pval = (ShapedArray(float32[]), *)\n",
      "    recipe = JaxprEqnRecipe(eqn_id=<object object at 0x7ff2747c2bd0>, invars=(Traced<ConcreteArray(20.0, dtype=float32):JaxprTrace(level=1/0)>, Traced<ShapedArray(float32[]):JaxprTrace(level=1/0)>), outvars=[<weakref at 0x7ff2742eb7d0; to 'JaxprTracer' at 0x7ff27479e170>], primitive=xla_call, params={'device': None, 'backend': None, 'name': 'jvp(true_divide)', 'donated_invars': (False, False), 'inline': True, 'call_jaxpr': { lambda ; a:f32[] b:f32[]. let c:f32[] = div b a in (c,) }}, source_info=<jaxlib.xla_extension.Traceback object at 0x7ff2731e0230>)\n",
      "[-0.0001663  -0.00016785 -0.00030577]\n",
      "2.4007127\n",
      "Traced<ConcreteArray(2.4007129669189453, dtype=float32)>with<JVPTrace(level=2/0)> with\n",
      "  primal = DeviceArray(2.400713, dtype=float32)\n",
      "  tangent = Traced<ShapedArray(float32[])>with<JaxprTrace(level=1/0)> with\n",
      "    pval = (ShapedArray(float32[]), *)\n",
      "    recipe = JaxprEqnRecipe(eqn_id=<object object at 0x7ff2747c2490>, invars=(Traced<ConcreteArray(20.0, dtype=float32):JaxprTrace(level=1/0)>, Traced<ShapedArray(float32[]):JaxprTrace(level=1/0)>), outvars=[<weakref at 0x7ff272b84590; to 'JaxprTracer' at 0x7ff27479efb0>], primitive=xla_call, params={'device': None, 'backend': None, 'name': 'jvp(true_divide)', 'donated_invars': (False, False), 'inline': True, 'call_jaxpr': { lambda ; a:f32[] b:f32[]. let c:f32[] = div b a in (c,) }}, source_info=<jaxlib.xla_extension.Traceback object at 0x7ff2731e0b30>)\n",
      "[-0.00016585 -0.00016734 -0.00030595]\n",
      "2.4007127\n"
     ]
    },
    {
     "name": "stdout",
     "output_type": "stream",
     "text": [
      "Traced<ConcreteArray(2.4007129669189453, dtype=float32)>with<JVPTrace(level=2/0)> with\n",
      "  primal = DeviceArray(2.400713, dtype=float32)\n",
      "  tangent = Traced<ShapedArray(float32[])>with<JaxprTrace(level=1/0)> with\n",
      "    pval = (ShapedArray(float32[]), *)\n",
      "    recipe = JaxprEqnRecipe(eqn_id=<object object at 0x7ff2747c2820>, invars=(Traced<ConcreteArray(20.0, dtype=float32):JaxprTrace(level=1/0)>, Traced<ShapedArray(float32[]):JaxprTrace(level=1/0)>), outvars=[<weakref at 0x7ff272b845f0; to 'JaxprTracer' at 0x7ff272b84470>], primitive=xla_call, params={'device': None, 'backend': None, 'name': 'jvp(true_divide)', 'donated_invars': (False, False), 'inline': True, 'call_jaxpr': { lambda ; a:f32[] b:f32[]. let c:f32[] = div b a in (c,) }}, source_info=<jaxlib.xla_extension.Traceback object at 0x7ff273f7a7f0>)\n",
      "[-0.00016585 -0.00016734 -0.00030595]\n",
      "2.4007134\n",
      "Traced<ConcreteArray(2.4007134437561035, dtype=float32)>with<JVPTrace(level=2/0)> with\n",
      "  primal = DeviceArray(2.4007134, dtype=float32)\n",
      "  tangent = Traced<ShapedArray(float32[])>with<JaxprTrace(level=1/0)> with\n",
      "    pval = (ShapedArray(float32[]), *)\n",
      "    recipe = JaxprEqnRecipe(eqn_id=<object object at 0x7ff2747c2ab0>, invars=(Traced<ConcreteArray(20.0, dtype=float32):JaxprTrace(level=1/0)>, Traced<ShapedArray(float32[]):JaxprTrace(level=1/0)>), outvars=[<weakref at 0x7ff272b84770; to 'JaxprTracer' at 0x7ff272b843b0>], primitive=xla_call, params={'device': None, 'backend': None, 'name': 'jvp(true_divide)', 'donated_invars': (False, False), 'inline': True, 'call_jaxpr': { lambda ; a:f32[] b:f32[]. let c:f32[] = div b a in (c,) }}, source_info=<jaxlib.xla_extension.Traceback object at 0x7ff271c51af0>)\n",
      "[-0.0001663  -0.00016785 -0.00030577]\n",
      "2.4007127\n",
      "Traced<ConcreteArray(2.4007129669189453, dtype=float32)>with<JVPTrace(level=2/0)> with\n",
      "  primal = DeviceArray(2.400713, dtype=float32)\n",
      "  tangent = Traced<ShapedArray(float32[])>with<JaxprTrace(level=1/0)> with\n",
      "    pval = (ShapedArray(float32[]), *)\n",
      "    recipe = JaxprEqnRecipe(eqn_id=<object object at 0x7ff2747c25d0>, invars=(Traced<ConcreteArray(20.0, dtype=float32):JaxprTrace(level=1/0)>, Traced<ShapedArray(float32[]):JaxprTrace(level=1/0)>), outvars=[<weakref at 0x7ff272b84170; to 'JaxprTracer' at 0x7ff272b846b0>], primitive=xla_call, params={'device': None, 'backend': None, 'name': 'jvp(true_divide)', 'donated_invars': (False, False), 'inline': True, 'call_jaxpr': { lambda ; a:f32[] b:f32[]. let c:f32[] = div b a in (c,) }}, source_info=<jaxlib.xla_extension.Traceback object at 0x7ff274874b70>)\n",
      "[-0.00016585 -0.00016734 -0.00030595]\n",
      "2.4007134\n",
      "Traced<ConcreteArray(2.4007134437561035, dtype=float32)>with<JVPTrace(level=2/0)> with\n",
      "  primal = DeviceArray(2.4007134, dtype=float32)\n",
      "  tangent = Traced<ShapedArray(float32[])>with<JaxprTrace(level=1/0)> with\n",
      "    pval = (ShapedArray(float32[]), *)\n",
      "    recipe = JaxprEqnRecipe(eqn_id=<object object at 0x7ff2747c2720>, invars=(Traced<ConcreteArray(20.0, dtype=float32):JaxprTrace(level=1/0)>, Traced<ShapedArray(float32[]):JaxprTrace(level=1/0)>), outvars=[<weakref at 0x7ff272b848f0; to 'JaxprTracer' at 0x7ff272b84d70>], primitive=xla_call, params={'device': None, 'backend': None, 'name': 'jvp(true_divide)', 'donated_invars': (False, False), 'inline': True, 'call_jaxpr': { lambda ; a:f32[] b:f32[]. let c:f32[] = div b a in (c,) }}, source_info=<jaxlib.xla_extension.Traceback object at 0x7ff273b30630>)\n",
      "[-1.3232231e-05 -1.7881393e-07 -3.1590462e-06]\n",
      "2.4007134\n",
      "Desired error not necessarily achieved due to precision loss.\n"
     ]
    }
   ],
   "source": [
    "n_params = int(dim*(dim-1)/2)\n",
    "params = np.random.normal(size=(n_params))# + np.eye(dim)\n",
    "res = op.minimize(predict_all,\n",
    "           params,\n",
    "           (x,dim,basis_tensor),\n",
    "           jac=grad_wrapper,\n",
    "           method='BFGS'\n",
    "           )\n",
    "print(res.message)"
   ]
  },
  {
   "cell_type": "code",
   "execution_count": 657,
   "metadata": {},
   "outputs": [
    {
     "name": "stdout",
     "output_type": "stream",
     "text": [
      "Desired error not necessarily achieved due to precision loss.\n"
     ]
    }
   ],
   "source": [
    "print(res.message)"
   ]
  },
  {
   "cell_type": "code",
   "execution_count": 658,
   "metadata": {},
   "outputs": [],
   "source": [
    "out = res.x"
   ]
  },
  {
   "cell_type": "code",
   "execution_count": 659,
   "metadata": {},
   "outputs": [],
   "source": [
    "skewM = np.einsum('i...,i...',out,basis_tensor)\n",
    "Ainf = construct_M(skewM,dim)"
   ]
  },
  {
   "cell_type": "code",
   "execution_count": 669,
   "metadata": {},
   "outputs": [
    {
     "data": {
      "text/plain": [
       "(3, 3)"
      ]
     },
     "execution_count": 669,
     "metadata": {},
     "output_type": "execute_result"
    }
   ],
   "source": [
    "A.shape"
   ]
  },
  {
   "cell_type": "code",
   "execution_count": 670,
   "metadata": {},
   "outputs": [
    {
     "data": {
      "text/plain": [
       "(9, 3, 1)"
      ]
     },
     "execution_count": 670,
     "metadata": {},
     "output_type": "execute_result"
    }
   ],
   "source": [
    "x.shape"
   ]
  },
  {
   "cell_type": "code",
   "execution_count": 673,
   "metadata": {},
   "outputs": [
    {
     "data": {
      "text/plain": [
       "(9, 3, 1)"
      ]
     },
     "execution_count": 673,
     "metadata": {},
     "output_type": "execute_result"
    }
   ],
   "source": [
    "(np.linalg.matrix_power(A,1)@x).shape"
   ]
  },
  {
   "cell_type": "code",
   "execution_count": null,
   "metadata": {},
   "outputs": [],
   "source": []
  },
  {
   "cell_type": "code",
   "execution_count": 662,
   "metadata": {},
   "outputs": [
    {
     "data": {
      "image/png": "[encoded data removed]",
      "text/plain": [
       "<Figure size 1008x216 with 3 Axes>"
      ]
     },
     "metadata": {
      "needs_background": "light"
     },
     "output_type": "display_data"
    }
   ],
   "source": [
    "plt.figure(figsize=(14,3))\n",
    "\n",
    "for i in range(dim):\n",
    "    \n",
    "    plt.subplot(1,dim,i+1)\n",
    "    plt.plot((np.linalg.matrix_power(Ainf,1)@x)[:,i],marker='.')\n",
    "    plt.plot((np.linalg.matrix_power(A,1)@x)[:,i],marker='.')\n",
    "    #plt."
   ]
  },
  {
   "cell_type": "code",
   "execution_count": 267,
   "metadata": {},
   "outputs": [
    {
     "data": {
      "text/plain": [
       "<matplotlib.image.AxesImage at 0x7ff273e600d0>"
      ]
     },
     "execution_count": 267,
     "metadata": {},
     "output_type": "execute_result"
    },
    {
     "data": {
      "image/png": "[encoded data removed]",
      "text/plain": [
       "<Figure size 432x288 with 1 Axes>"
      ]
     },
     "metadata": {
      "needs_background": "light"
     },
     "output_type": "display_data"
    }
   ],
   "source": [
    "plt.imshow(Ainf)"
   ]
  },
  {
   "cell_type": "code",
   "execution_count": 663,
   "metadata": {},
   "outputs": [
    {
     "data": {
      "text/plain": [
       "DeviceArray([[-0.2401935 ,  0.02202098, -0.97047526],\n",
       "             [ 0.96790737, -0.0706854 , -0.2411619 ],\n",
       "             [-0.07390901, -0.99725556, -0.00433615]], dtype=float32)"
      ]
     },
     "execution_count": 663,
     "metadata": {},
     "output_type": "execute_result"
    }
   ],
   "source": []
  },
  {
   "cell_type": "code",
   "execution_count": 268,
   "metadata": {},
   "outputs": [
    {
     "data": {
      "text/plain": [
       "<matplotlib.image.AxesImage at 0x7ff273459f90>"
      ]
     },
     "execution_count": 268,
     "metadata": {},
     "output_type": "execute_result"
    },
    {
     "data": {
      "image/png": "[encoded data removed]",
      "text/plain": [
       "<Figure size 432x288 with 1 Axes>"
      ]
     },
     "metadata": {
      "needs_background": "light"
     },
     "output_type": "display_data"
    }
   ],
   "source": [
    "plt.imshow(A)"
   ]
  },
  {
   "cell_type": "markdown",
   "metadata": {},
   "source": [
    "# Get this to work with cell activity with structured noise"
   ]
  },
  {
   "cell_type": "code",
   "execution_count": 684,
   "metadata": {},
   "outputs": [],
   "source": [
    "n_neurons = 120\n",
    "dim = 3\n",
    "nT = 9\n",
    "\n",
    "frac_noise_dynamics = .3\n",
    "\n",
    "x0 = np.random.normal(size=(dim,1))\n",
    "A_ = np.random.normal(size=(dim,dim))\n",
    "\n",
    "A = np.zeros([dim,dim])\n",
    "\n",
    "for i in range(dim):\n",
    "    A[i,i:] = A_[i:,i]\n",
    "    A[i:,i] = -A_[i:,i]\n",
    "    \n",
    "A[np.diag_indices_from(A)] = 0\n",
    "A = (np.eye(dim)-A)@np.linalg.inv(np.eye(dim)+A)\n",
    "\n",
    "x = np.array([np.linalg.matrix_power(A,i)@x0 for i in range(nT)])\n",
    "\n",
    "x = frac_noise_dynamics*x #+ (1-frac_noise_dynamics)*np.random.normal(size=x.shape)\n",
    "\n",
    "\n",
    "W = np.random.normal(size=(n_neurons,dim))\n",
    "basis_tensor = get_basis_tensor(dim)\n",
    "n_bases = basis_tensor.shape[0]"
   ]
  },
  {
   "cell_type": "code",
   "execution_count": 691,
   "metadata": {},
   "outputs": [],
   "source": [
    "y = W@x[:,:,0].T"
   ]
  },
  {
   "cell_type": "code",
   "execution_count": null,
   "metadata": {},
   "outputs": [],
   "source": []
  },
  {
   "cell_type": "code",
   "execution_count": null,
   "metadata": {},
   "outputs": [],
   "source": []
  }
 ],
 "metadata": {
  "kernelspec": {
   "display_name": "Python 3",
   "language": "python",
   "name": "python3"
  },
  "language_info": {
   "codemirror_mode": {
    "name": "ipython",
    "version": 3
   },
   "file_extension": ".py",
   "mimetype": "text/x-python",
   "name": "python",
   "nbconvert_exporter": "python",
   "pygments_lexer": "ipython3",
   "version": "3.7.4"
  }
 },
 "nbformat": 4,
 "nbformat_minor": 2
}
